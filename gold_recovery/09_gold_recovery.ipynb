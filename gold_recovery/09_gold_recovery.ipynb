{
 "cells": [
  {
   "cell_type": "markdown",
   "id": "1e5812bb",
   "metadata": {
    "toc": true
   },
   "source": [
    "<h1>Table of Contents<span class=\"tocSkip\"></span></h1>\n",
    "<div class=\"toc\"><ul class=\"toc-item\"><li><span><a href=\"#Подготовка-данных\" data-toc-modified-id=\"Подготовка-данных-1\"><span class=\"toc-item-num\">1&nbsp;&nbsp;</span>Подготовка данных</a></span><ul class=\"toc-item\"><li><span><a href=\"#Проверка-расчета-эффективности-обогащения\" data-toc-modified-id=\"Проверка-расчета-эффективности-обогащения-1.1\"><span class=\"toc-item-num\">1.1&nbsp;&nbsp;</span>Проверка расчета эффективности обогащения</a></span></li><li><span><a href=\"#Анализ-признаков,-недоступных-в-тестовой-выборке\" data-toc-modified-id=\"Анализ-признаков,-недоступных-в-тестовой-выборке-1.2\"><span class=\"toc-item-num\">1.2&nbsp;&nbsp;</span>Анализ признаков, недоступных в тестовой выборке</a></span></li><li><span><a href=\"#Предобработка-данных\" data-toc-modified-id=\"Предобработка-данных-1.3\"><span class=\"toc-item-num\">1.3&nbsp;&nbsp;</span>Предобработка данных</a></span></li></ul></li><li><span><a href=\"#Анализ-данных\" data-toc-modified-id=\"Анализ-данных-2\"><span class=\"toc-item-num\">2&nbsp;&nbsp;</span>Анализ данных</a></span><ul class=\"toc-item\"><li><span><a href=\"#Концентрация-металлов-на-различных-этапах-очистки\" data-toc-modified-id=\"Концентрация-металлов-на-различных-этапах-очистки-2.1\"><span class=\"toc-item-num\">2.1&nbsp;&nbsp;</span>Концентрация металлов на различных этапах очистки</a></span></li><li><span><a href=\"#Распределения-размеров-гранул-сырья\" data-toc-modified-id=\"Распределения-размеров-гранул-сырья-2.2\"><span class=\"toc-item-num\">2.2&nbsp;&nbsp;</span>Распределения размеров гранул сырья</a></span></li><li><span><a href=\"#Суммарная-концентрация-всех-веществ-на-разных-стадиях\" data-toc-modified-id=\"Суммарная-концентрация-всех-веществ-на-разных-стадиях-2.3\"><span class=\"toc-item-num\">2.3&nbsp;&nbsp;</span>Суммарная концентрация всех веществ на разных стадиях</a></span></li><li><span><a href=\"#Удаление-выбросов\" data-toc-modified-id=\"Удаление-выбросов-2.4\"><span class=\"toc-item-num\">2.4&nbsp;&nbsp;</span>Удаление выбросов</a></span></li></ul></li><li><span><a href=\"#Модель\" data-toc-modified-id=\"Модель-3\"><span class=\"toc-item-num\">3&nbsp;&nbsp;</span>Модель</a></span><ul class=\"toc-item\"><li><span><a href=\"#Функция-для-вычисления-итоговой-sMAPE\" data-toc-modified-id=\"Функция-для-вычисления-итоговой-sMAPE-3.1\"><span class=\"toc-item-num\">3.1&nbsp;&nbsp;</span>Функция для вычисления итоговой sMAPE</a></span></li><li><span><a href=\"#Обучение-моделей\" data-toc-modified-id=\"Обучение-моделей-3.2\"><span class=\"toc-item-num\">3.2&nbsp;&nbsp;</span>Обучение моделей</a></span></li><li><span><a href=\"#Проверка-на-тестовой-выборке\" data-toc-modified-id=\"Проверка-на-тестовой-выборке-3.3\"><span class=\"toc-item-num\">3.3&nbsp;&nbsp;</span>Проверка на тестовой выборке</a></span></li></ul></li><li><span><a href=\"#Выводы\" data-toc-modified-id=\"Выводы-4\"><span class=\"toc-item-num\">4&nbsp;&nbsp;</span>Выводы</a></span></li></ul></div>"
   ]
  },
  {
   "cell_type": "markdown",
   "id": "0cdf8bc6",
   "metadata": {},
   "source": [
    "## Подготовка данных"
   ]
  },
  {
   "cell_type": "markdown",
   "id": "d00197ef",
   "metadata": {},
   "source": [
    "Начнем исследование с общего обзора данных. Для этого сразу импортируем всё, что необходимо для исследования. "
   ]
  },
  {
   "cell_type": "code",
   "execution_count": 1,
   "id": "574c9239",
   "metadata": {},
   "outputs": [],
   "source": [
    "import pandas as pd\n",
    "import numpy as np\n",
    "import matplotlib.pyplot as plt \n",
    "import seaborn as sns\n",
    "\n",
    "from sklearn.model_selection import train_test_split, cross_val_score, GridSearchCV, cross_val_predict\n",
    "from sklearn.linear_model import LinearRegression, Lasso\n",
    "from sklearn.preprocessing import StandardScaler\n",
    "from sklearn.ensemble import RandomForestRegressor\n",
    "from sklearn.tree import DecisionTreeRegressor\n",
    "from sklearn.metrics import make_scorer\n",
    "from sklearn.dummy import DummyRegressor\n",
    "from sklearn.metrics import mean_squared_error, mean_absolute_error as MAE, make_scorer\n",
    "from numpy.random import RandomState"
   ]
  },
  {
   "cell_type": "markdown",
   "id": "ea249edb",
   "metadata": {},
   "source": [
    "Прочитаем файлы. Т.к. проект выполняется локально, а не на платформе, используем конструкцию try-except, чтобы избежать ошибки: "
   ]
  },
  {
   "cell_type": "code",
   "execution_count": 2,
   "id": "46bab96d",
   "metadata": {},
   "outputs": [],
   "source": [
    "try:\n",
    "    data_train = pd.read_csv('C:/Users/freak/Desktop/Python/Сборный проект 2/gold_recovery_train_new.csv')\n",
    "    data_test = pd.read_csv('C:/Users/freak/Desktop/Python/Сборный проект 2/gold_recovery_test_new.csv')\n",
    "    data_full = pd.read_csv('C:/Users/freak/Desktop/Python/Сборный проект 2/gold_recovery_full_new.csv')\n",
    "except: \n",
    "    data_train = pd.read_csv('/datasets/gold_recovery_train_new.csv')\n",
    "    data_test = pd.read_csv('/datasets/gold_recovery_test_new.csv')\n",
    "    data_full = pd.read_csv('/datasets/gold_recovery_full_new.csv')"
   ]
  },
  {
   "cell_type": "markdown",
   "id": "3d65178d",
   "metadata": {},
   "source": [
    "Ознакомимся с форматом таблиц: "
   ]
  },
  {
   "cell_type": "code",
   "execution_count": 3,
   "id": "edfce3ab",
   "metadata": {
    "scrolled": true
   },
   "outputs": [
    {
     "data": {
      "text/html": [
       "<div>\n",
       "<style scoped>\n",
       "    .dataframe tbody tr th:only-of-type {\n",
       "        vertical-align: middle;\n",
       "    }\n",
       "\n",
       "    .dataframe tbody tr th {\n",
       "        vertical-align: top;\n",
       "    }\n",
       "\n",
       "    .dataframe thead th {\n",
       "        text-align: right;\n",
       "    }\n",
       "</style>\n",
       "<table border=\"1\" class=\"dataframe\">\n",
       "  <thead>\n",
       "    <tr style=\"text-align: right;\">\n",
       "      <th></th>\n",
       "      <th>date</th>\n",
       "      <th>final.output.concentrate_ag</th>\n",
       "      <th>final.output.concentrate_pb</th>\n",
       "      <th>final.output.concentrate_sol</th>\n",
       "      <th>final.output.concentrate_au</th>\n",
       "      <th>final.output.recovery</th>\n",
       "      <th>final.output.tail_ag</th>\n",
       "      <th>final.output.tail_pb</th>\n",
       "      <th>final.output.tail_sol</th>\n",
       "      <th>final.output.tail_au</th>\n",
       "      <th>...</th>\n",
       "      <th>secondary_cleaner.state.floatbank4_a_air</th>\n",
       "      <th>secondary_cleaner.state.floatbank4_a_level</th>\n",
       "      <th>secondary_cleaner.state.floatbank4_b_air</th>\n",
       "      <th>secondary_cleaner.state.floatbank4_b_level</th>\n",
       "      <th>secondary_cleaner.state.floatbank5_a_air</th>\n",
       "      <th>secondary_cleaner.state.floatbank5_a_level</th>\n",
       "      <th>secondary_cleaner.state.floatbank5_b_air</th>\n",
       "      <th>secondary_cleaner.state.floatbank5_b_level</th>\n",
       "      <th>secondary_cleaner.state.floatbank6_a_air</th>\n",
       "      <th>secondary_cleaner.state.floatbank6_a_level</th>\n",
       "    </tr>\n",
       "  </thead>\n",
       "  <tbody>\n",
       "    <tr>\n",
       "      <th>0</th>\n",
       "      <td>2016-01-15 00:00:00</td>\n",
       "      <td>6.055403</td>\n",
       "      <td>9.889648</td>\n",
       "      <td>5.507324</td>\n",
       "      <td>42.192020</td>\n",
       "      <td>70.541216</td>\n",
       "      <td>10.411962</td>\n",
       "      <td>0.895447</td>\n",
       "      <td>16.904297</td>\n",
       "      <td>2.143149</td>\n",
       "      <td>...</td>\n",
       "      <td>14.016835</td>\n",
       "      <td>-502.488007</td>\n",
       "      <td>12.099931</td>\n",
       "      <td>-504.715942</td>\n",
       "      <td>9.925633</td>\n",
       "      <td>-498.310211</td>\n",
       "      <td>8.079666</td>\n",
       "      <td>-500.470978</td>\n",
       "      <td>14.151341</td>\n",
       "      <td>-605.841980</td>\n",
       "    </tr>\n",
       "    <tr>\n",
       "      <th>1</th>\n",
       "      <td>2016-01-15 01:00:00</td>\n",
       "      <td>6.029369</td>\n",
       "      <td>9.968944</td>\n",
       "      <td>5.257781</td>\n",
       "      <td>42.701629</td>\n",
       "      <td>69.266198</td>\n",
       "      <td>10.462676</td>\n",
       "      <td>0.927452</td>\n",
       "      <td>16.634514</td>\n",
       "      <td>2.224930</td>\n",
       "      <td>...</td>\n",
       "      <td>13.992281</td>\n",
       "      <td>-505.503262</td>\n",
       "      <td>11.950531</td>\n",
       "      <td>-501.331529</td>\n",
       "      <td>10.039245</td>\n",
       "      <td>-500.169983</td>\n",
       "      <td>7.984757</td>\n",
       "      <td>-500.582168</td>\n",
       "      <td>13.998353</td>\n",
       "      <td>-599.787184</td>\n",
       "    </tr>\n",
       "    <tr>\n",
       "      <th>2</th>\n",
       "      <td>2016-01-15 02:00:00</td>\n",
       "      <td>6.055926</td>\n",
       "      <td>10.213995</td>\n",
       "      <td>5.383759</td>\n",
       "      <td>42.657501</td>\n",
       "      <td>68.116445</td>\n",
       "      <td>10.507046</td>\n",
       "      <td>0.953716</td>\n",
       "      <td>16.208849</td>\n",
       "      <td>2.257889</td>\n",
       "      <td>...</td>\n",
       "      <td>14.015015</td>\n",
       "      <td>-502.520901</td>\n",
       "      <td>11.912783</td>\n",
       "      <td>-501.133383</td>\n",
       "      <td>10.070913</td>\n",
       "      <td>-500.129135</td>\n",
       "      <td>8.013877</td>\n",
       "      <td>-500.517572</td>\n",
       "      <td>14.028663</td>\n",
       "      <td>-601.427363</td>\n",
       "    </tr>\n",
       "    <tr>\n",
       "      <th>3</th>\n",
       "      <td>2016-01-15 03:00:00</td>\n",
       "      <td>6.047977</td>\n",
       "      <td>9.977019</td>\n",
       "      <td>4.858634</td>\n",
       "      <td>42.689819</td>\n",
       "      <td>68.347543</td>\n",
       "      <td>10.422762</td>\n",
       "      <td>0.883763</td>\n",
       "      <td>16.532835</td>\n",
       "      <td>2.146849</td>\n",
       "      <td>...</td>\n",
       "      <td>14.036510</td>\n",
       "      <td>-500.857308</td>\n",
       "      <td>11.999550</td>\n",
       "      <td>-501.193686</td>\n",
       "      <td>9.970366</td>\n",
       "      <td>-499.201640</td>\n",
       "      <td>7.977324</td>\n",
       "      <td>-500.255908</td>\n",
       "      <td>14.005551</td>\n",
       "      <td>-599.996129</td>\n",
       "    </tr>\n",
       "    <tr>\n",
       "      <th>4</th>\n",
       "      <td>2016-01-15 04:00:00</td>\n",
       "      <td>6.148599</td>\n",
       "      <td>10.142511</td>\n",
       "      <td>4.939416</td>\n",
       "      <td>42.774141</td>\n",
       "      <td>66.927016</td>\n",
       "      <td>10.360302</td>\n",
       "      <td>0.792826</td>\n",
       "      <td>16.525686</td>\n",
       "      <td>2.055292</td>\n",
       "      <td>...</td>\n",
       "      <td>14.027298</td>\n",
       "      <td>-499.838632</td>\n",
       "      <td>11.953070</td>\n",
       "      <td>-501.053894</td>\n",
       "      <td>9.925709</td>\n",
       "      <td>-501.686727</td>\n",
       "      <td>7.894242</td>\n",
       "      <td>-500.356035</td>\n",
       "      <td>13.996647</td>\n",
       "      <td>-601.496691</td>\n",
       "    </tr>\n",
       "  </tbody>\n",
       "</table>\n",
       "<p>5 rows × 87 columns</p>\n",
       "</div>"
      ],
      "text/plain": [
       "                  date  final.output.concentrate_ag  \\\n",
       "0  2016-01-15 00:00:00                     6.055403   \n",
       "1  2016-01-15 01:00:00                     6.029369   \n",
       "2  2016-01-15 02:00:00                     6.055926   \n",
       "3  2016-01-15 03:00:00                     6.047977   \n",
       "4  2016-01-15 04:00:00                     6.148599   \n",
       "\n",
       "   final.output.concentrate_pb  final.output.concentrate_sol  \\\n",
       "0                     9.889648                      5.507324   \n",
       "1                     9.968944                      5.257781   \n",
       "2                    10.213995                      5.383759   \n",
       "3                     9.977019                      4.858634   \n",
       "4                    10.142511                      4.939416   \n",
       "\n",
       "   final.output.concentrate_au  final.output.recovery  final.output.tail_ag  \\\n",
       "0                    42.192020              70.541216             10.411962   \n",
       "1                    42.701629              69.266198             10.462676   \n",
       "2                    42.657501              68.116445             10.507046   \n",
       "3                    42.689819              68.347543             10.422762   \n",
       "4                    42.774141              66.927016             10.360302   \n",
       "\n",
       "   final.output.tail_pb  final.output.tail_sol  final.output.tail_au  ...  \\\n",
       "0              0.895447              16.904297              2.143149  ...   \n",
       "1              0.927452              16.634514              2.224930  ...   \n",
       "2              0.953716              16.208849              2.257889  ...   \n",
       "3              0.883763              16.532835              2.146849  ...   \n",
       "4              0.792826              16.525686              2.055292  ...   \n",
       "\n",
       "   secondary_cleaner.state.floatbank4_a_air  \\\n",
       "0                                 14.016835   \n",
       "1                                 13.992281   \n",
       "2                                 14.015015   \n",
       "3                                 14.036510   \n",
       "4                                 14.027298   \n",
       "\n",
       "   secondary_cleaner.state.floatbank4_a_level  \\\n",
       "0                                 -502.488007   \n",
       "1                                 -505.503262   \n",
       "2                                 -502.520901   \n",
       "3                                 -500.857308   \n",
       "4                                 -499.838632   \n",
       "\n",
       "   secondary_cleaner.state.floatbank4_b_air  \\\n",
       "0                                 12.099931   \n",
       "1                                 11.950531   \n",
       "2                                 11.912783   \n",
       "3                                 11.999550   \n",
       "4                                 11.953070   \n",
       "\n",
       "   secondary_cleaner.state.floatbank4_b_level  \\\n",
       "0                                 -504.715942   \n",
       "1                                 -501.331529   \n",
       "2                                 -501.133383   \n",
       "3                                 -501.193686   \n",
       "4                                 -501.053894   \n",
       "\n",
       "   secondary_cleaner.state.floatbank5_a_air  \\\n",
       "0                                  9.925633   \n",
       "1                                 10.039245   \n",
       "2                                 10.070913   \n",
       "3                                  9.970366   \n",
       "4                                  9.925709   \n",
       "\n",
       "   secondary_cleaner.state.floatbank5_a_level  \\\n",
       "0                                 -498.310211   \n",
       "1                                 -500.169983   \n",
       "2                                 -500.129135   \n",
       "3                                 -499.201640   \n",
       "4                                 -501.686727   \n",
       "\n",
       "   secondary_cleaner.state.floatbank5_b_air  \\\n",
       "0                                  8.079666   \n",
       "1                                  7.984757   \n",
       "2                                  8.013877   \n",
       "3                                  7.977324   \n",
       "4                                  7.894242   \n",
       "\n",
       "   secondary_cleaner.state.floatbank5_b_level  \\\n",
       "0                                 -500.470978   \n",
       "1                                 -500.582168   \n",
       "2                                 -500.517572   \n",
       "3                                 -500.255908   \n",
       "4                                 -500.356035   \n",
       "\n",
       "   secondary_cleaner.state.floatbank6_a_air  \\\n",
       "0                                 14.151341   \n",
       "1                                 13.998353   \n",
       "2                                 14.028663   \n",
       "3                                 14.005551   \n",
       "4                                 13.996647   \n",
       "\n",
       "   secondary_cleaner.state.floatbank6_a_level  \n",
       "0                                 -605.841980  \n",
       "1                                 -599.787184  \n",
       "2                                 -601.427363  \n",
       "3                                 -599.996129  \n",
       "4                                 -601.496691  \n",
       "\n",
       "[5 rows x 87 columns]"
      ]
     },
     "metadata": {},
     "output_type": "display_data"
    },
    {
     "data": {
      "text/html": [
       "<div>\n",
       "<style scoped>\n",
       "    .dataframe tbody tr th:only-of-type {\n",
       "        vertical-align: middle;\n",
       "    }\n",
       "\n",
       "    .dataframe tbody tr th {\n",
       "        vertical-align: top;\n",
       "    }\n",
       "\n",
       "    .dataframe thead th {\n",
       "        text-align: right;\n",
       "    }\n",
       "</style>\n",
       "<table border=\"1\" class=\"dataframe\">\n",
       "  <thead>\n",
       "    <tr style=\"text-align: right;\">\n",
       "      <th></th>\n",
       "      <th>date</th>\n",
       "      <th>primary_cleaner.input.sulfate</th>\n",
       "      <th>primary_cleaner.input.depressant</th>\n",
       "      <th>primary_cleaner.input.feed_size</th>\n",
       "      <th>primary_cleaner.input.xanthate</th>\n",
       "      <th>primary_cleaner.state.floatbank8_a_air</th>\n",
       "      <th>primary_cleaner.state.floatbank8_a_level</th>\n",
       "      <th>primary_cleaner.state.floatbank8_b_air</th>\n",
       "      <th>primary_cleaner.state.floatbank8_b_level</th>\n",
       "      <th>primary_cleaner.state.floatbank8_c_air</th>\n",
       "      <th>...</th>\n",
       "      <th>secondary_cleaner.state.floatbank4_a_air</th>\n",
       "      <th>secondary_cleaner.state.floatbank4_a_level</th>\n",
       "      <th>secondary_cleaner.state.floatbank4_b_air</th>\n",
       "      <th>secondary_cleaner.state.floatbank4_b_level</th>\n",
       "      <th>secondary_cleaner.state.floatbank5_a_air</th>\n",
       "      <th>secondary_cleaner.state.floatbank5_a_level</th>\n",
       "      <th>secondary_cleaner.state.floatbank5_b_air</th>\n",
       "      <th>secondary_cleaner.state.floatbank5_b_level</th>\n",
       "      <th>secondary_cleaner.state.floatbank6_a_air</th>\n",
       "      <th>secondary_cleaner.state.floatbank6_a_level</th>\n",
       "    </tr>\n",
       "  </thead>\n",
       "  <tbody>\n",
       "    <tr>\n",
       "      <th>0</th>\n",
       "      <td>2016-09-01 00:59:59</td>\n",
       "      <td>210.800909</td>\n",
       "      <td>14.993118</td>\n",
       "      <td>8.080000</td>\n",
       "      <td>1.005021</td>\n",
       "      <td>1398.981301</td>\n",
       "      <td>-500.225577</td>\n",
       "      <td>1399.144926</td>\n",
       "      <td>-499.919735</td>\n",
       "      <td>1400.102998</td>\n",
       "      <td>...</td>\n",
       "      <td>12.023554</td>\n",
       "      <td>-497.795834</td>\n",
       "      <td>8.016656</td>\n",
       "      <td>-501.289139</td>\n",
       "      <td>7.946562</td>\n",
       "      <td>-432.317850</td>\n",
       "      <td>4.872511</td>\n",
       "      <td>-500.037437</td>\n",
       "      <td>26.705889</td>\n",
       "      <td>-499.709414</td>\n",
       "    </tr>\n",
       "    <tr>\n",
       "      <th>1</th>\n",
       "      <td>2016-09-01 01:59:59</td>\n",
       "      <td>215.392455</td>\n",
       "      <td>14.987471</td>\n",
       "      <td>8.080000</td>\n",
       "      <td>0.990469</td>\n",
       "      <td>1398.777912</td>\n",
       "      <td>-500.057435</td>\n",
       "      <td>1398.055362</td>\n",
       "      <td>-499.778182</td>\n",
       "      <td>1396.151033</td>\n",
       "      <td>...</td>\n",
       "      <td>12.058140</td>\n",
       "      <td>-498.695773</td>\n",
       "      <td>8.130979</td>\n",
       "      <td>-499.634209</td>\n",
       "      <td>7.958270</td>\n",
       "      <td>-525.839648</td>\n",
       "      <td>4.878850</td>\n",
       "      <td>-500.162375</td>\n",
       "      <td>25.019940</td>\n",
       "      <td>-499.819438</td>\n",
       "    </tr>\n",
       "    <tr>\n",
       "      <th>2</th>\n",
       "      <td>2016-09-01 02:59:59</td>\n",
       "      <td>215.259946</td>\n",
       "      <td>12.884934</td>\n",
       "      <td>7.786667</td>\n",
       "      <td>0.996043</td>\n",
       "      <td>1398.493666</td>\n",
       "      <td>-500.868360</td>\n",
       "      <td>1398.860436</td>\n",
       "      <td>-499.764529</td>\n",
       "      <td>1398.075709</td>\n",
       "      <td>...</td>\n",
       "      <td>11.962366</td>\n",
       "      <td>-498.767484</td>\n",
       "      <td>8.096893</td>\n",
       "      <td>-500.827423</td>\n",
       "      <td>8.071056</td>\n",
       "      <td>-500.801673</td>\n",
       "      <td>4.905125</td>\n",
       "      <td>-499.828510</td>\n",
       "      <td>24.994862</td>\n",
       "      <td>-500.622559</td>\n",
       "    </tr>\n",
       "    <tr>\n",
       "      <th>3</th>\n",
       "      <td>2016-09-01 03:59:59</td>\n",
       "      <td>215.336236</td>\n",
       "      <td>12.006805</td>\n",
       "      <td>7.640000</td>\n",
       "      <td>0.863514</td>\n",
       "      <td>1399.618111</td>\n",
       "      <td>-498.863574</td>\n",
       "      <td>1397.440120</td>\n",
       "      <td>-499.211024</td>\n",
       "      <td>1400.129303</td>\n",
       "      <td>...</td>\n",
       "      <td>12.033091</td>\n",
       "      <td>-498.350935</td>\n",
       "      <td>8.074946</td>\n",
       "      <td>-499.474407</td>\n",
       "      <td>7.897085</td>\n",
       "      <td>-500.868509</td>\n",
       "      <td>4.931400</td>\n",
       "      <td>-499.963623</td>\n",
       "      <td>24.948919</td>\n",
       "      <td>-498.709987</td>\n",
       "    </tr>\n",
       "    <tr>\n",
       "      <th>4</th>\n",
       "      <td>2016-09-01 04:59:59</td>\n",
       "      <td>199.099327</td>\n",
       "      <td>10.682530</td>\n",
       "      <td>7.530000</td>\n",
       "      <td>0.805575</td>\n",
       "      <td>1401.268123</td>\n",
       "      <td>-500.808305</td>\n",
       "      <td>1398.128818</td>\n",
       "      <td>-499.504543</td>\n",
       "      <td>1402.172226</td>\n",
       "      <td>...</td>\n",
       "      <td>12.025367</td>\n",
       "      <td>-500.786497</td>\n",
       "      <td>8.054678</td>\n",
       "      <td>-500.397500</td>\n",
       "      <td>8.107890</td>\n",
       "      <td>-509.526725</td>\n",
       "      <td>4.957674</td>\n",
       "      <td>-500.360026</td>\n",
       "      <td>25.003331</td>\n",
       "      <td>-500.856333</td>\n",
       "    </tr>\n",
       "  </tbody>\n",
       "</table>\n",
       "<p>5 rows × 53 columns</p>\n",
       "</div>"
      ],
      "text/plain": [
       "                  date  primary_cleaner.input.sulfate  \\\n",
       "0  2016-09-01 00:59:59                     210.800909   \n",
       "1  2016-09-01 01:59:59                     215.392455   \n",
       "2  2016-09-01 02:59:59                     215.259946   \n",
       "3  2016-09-01 03:59:59                     215.336236   \n",
       "4  2016-09-01 04:59:59                     199.099327   \n",
       "\n",
       "   primary_cleaner.input.depressant  primary_cleaner.input.feed_size  \\\n",
       "0                         14.993118                         8.080000   \n",
       "1                         14.987471                         8.080000   \n",
       "2                         12.884934                         7.786667   \n",
       "3                         12.006805                         7.640000   \n",
       "4                         10.682530                         7.530000   \n",
       "\n",
       "   primary_cleaner.input.xanthate  primary_cleaner.state.floatbank8_a_air  \\\n",
       "0                        1.005021                             1398.981301   \n",
       "1                        0.990469                             1398.777912   \n",
       "2                        0.996043                             1398.493666   \n",
       "3                        0.863514                             1399.618111   \n",
       "4                        0.805575                             1401.268123   \n",
       "\n",
       "   primary_cleaner.state.floatbank8_a_level  \\\n",
       "0                               -500.225577   \n",
       "1                               -500.057435   \n",
       "2                               -500.868360   \n",
       "3                               -498.863574   \n",
       "4                               -500.808305   \n",
       "\n",
       "   primary_cleaner.state.floatbank8_b_air  \\\n",
       "0                             1399.144926   \n",
       "1                             1398.055362   \n",
       "2                             1398.860436   \n",
       "3                             1397.440120   \n",
       "4                             1398.128818   \n",
       "\n",
       "   primary_cleaner.state.floatbank8_b_level  \\\n",
       "0                               -499.919735   \n",
       "1                               -499.778182   \n",
       "2                               -499.764529   \n",
       "3                               -499.211024   \n",
       "4                               -499.504543   \n",
       "\n",
       "   primary_cleaner.state.floatbank8_c_air  ...  \\\n",
       "0                             1400.102998  ...   \n",
       "1                             1396.151033  ...   \n",
       "2                             1398.075709  ...   \n",
       "3                             1400.129303  ...   \n",
       "4                             1402.172226  ...   \n",
       "\n",
       "   secondary_cleaner.state.floatbank4_a_air  \\\n",
       "0                                 12.023554   \n",
       "1                                 12.058140   \n",
       "2                                 11.962366   \n",
       "3                                 12.033091   \n",
       "4                                 12.025367   \n",
       "\n",
       "   secondary_cleaner.state.floatbank4_a_level  \\\n",
       "0                                 -497.795834   \n",
       "1                                 -498.695773   \n",
       "2                                 -498.767484   \n",
       "3                                 -498.350935   \n",
       "4                                 -500.786497   \n",
       "\n",
       "   secondary_cleaner.state.floatbank4_b_air  \\\n",
       "0                                  8.016656   \n",
       "1                                  8.130979   \n",
       "2                                  8.096893   \n",
       "3                                  8.074946   \n",
       "4                                  8.054678   \n",
       "\n",
       "   secondary_cleaner.state.floatbank4_b_level  \\\n",
       "0                                 -501.289139   \n",
       "1                                 -499.634209   \n",
       "2                                 -500.827423   \n",
       "3                                 -499.474407   \n",
       "4                                 -500.397500   \n",
       "\n",
       "   secondary_cleaner.state.floatbank5_a_air  \\\n",
       "0                                  7.946562   \n",
       "1                                  7.958270   \n",
       "2                                  8.071056   \n",
       "3                                  7.897085   \n",
       "4                                  8.107890   \n",
       "\n",
       "   secondary_cleaner.state.floatbank5_a_level  \\\n",
       "0                                 -432.317850   \n",
       "1                                 -525.839648   \n",
       "2                                 -500.801673   \n",
       "3                                 -500.868509   \n",
       "4                                 -509.526725   \n",
       "\n",
       "   secondary_cleaner.state.floatbank5_b_air  \\\n",
       "0                                  4.872511   \n",
       "1                                  4.878850   \n",
       "2                                  4.905125   \n",
       "3                                  4.931400   \n",
       "4                                  4.957674   \n",
       "\n",
       "   secondary_cleaner.state.floatbank5_b_level  \\\n",
       "0                                 -500.037437   \n",
       "1                                 -500.162375   \n",
       "2                                 -499.828510   \n",
       "3                                 -499.963623   \n",
       "4                                 -500.360026   \n",
       "\n",
       "   secondary_cleaner.state.floatbank6_a_air  \\\n",
       "0                                 26.705889   \n",
       "1                                 25.019940   \n",
       "2                                 24.994862   \n",
       "3                                 24.948919   \n",
       "4                                 25.003331   \n",
       "\n",
       "   secondary_cleaner.state.floatbank6_a_level  \n",
       "0                                 -499.709414  \n",
       "1                                 -499.819438  \n",
       "2                                 -500.622559  \n",
       "3                                 -498.709987  \n",
       "4                                 -500.856333  \n",
       "\n",
       "[5 rows x 53 columns]"
      ]
     },
     "metadata": {},
     "output_type": "display_data"
    },
    {
     "data": {
      "text/html": [
       "<div>\n",
       "<style scoped>\n",
       "    .dataframe tbody tr th:only-of-type {\n",
       "        vertical-align: middle;\n",
       "    }\n",
       "\n",
       "    .dataframe tbody tr th {\n",
       "        vertical-align: top;\n",
       "    }\n",
       "\n",
       "    .dataframe thead th {\n",
       "        text-align: right;\n",
       "    }\n",
       "</style>\n",
       "<table border=\"1\" class=\"dataframe\">\n",
       "  <thead>\n",
       "    <tr style=\"text-align: right;\">\n",
       "      <th></th>\n",
       "      <th>date</th>\n",
       "      <th>final.output.concentrate_ag</th>\n",
       "      <th>final.output.concentrate_pb</th>\n",
       "      <th>final.output.concentrate_sol</th>\n",
       "      <th>final.output.concentrate_au</th>\n",
       "      <th>final.output.recovery</th>\n",
       "      <th>final.output.tail_ag</th>\n",
       "      <th>final.output.tail_pb</th>\n",
       "      <th>final.output.tail_sol</th>\n",
       "      <th>final.output.tail_au</th>\n",
       "      <th>...</th>\n",
       "      <th>secondary_cleaner.state.floatbank4_a_air</th>\n",
       "      <th>secondary_cleaner.state.floatbank4_a_level</th>\n",
       "      <th>secondary_cleaner.state.floatbank4_b_air</th>\n",
       "      <th>secondary_cleaner.state.floatbank4_b_level</th>\n",
       "      <th>secondary_cleaner.state.floatbank5_a_air</th>\n",
       "      <th>secondary_cleaner.state.floatbank5_a_level</th>\n",
       "      <th>secondary_cleaner.state.floatbank5_b_air</th>\n",
       "      <th>secondary_cleaner.state.floatbank5_b_level</th>\n",
       "      <th>secondary_cleaner.state.floatbank6_a_air</th>\n",
       "      <th>secondary_cleaner.state.floatbank6_a_level</th>\n",
       "    </tr>\n",
       "  </thead>\n",
       "  <tbody>\n",
       "    <tr>\n",
       "      <th>0</th>\n",
       "      <td>2016-01-15 00:00:00</td>\n",
       "      <td>6.055403</td>\n",
       "      <td>9.889648</td>\n",
       "      <td>5.507324</td>\n",
       "      <td>42.192020</td>\n",
       "      <td>70.541216</td>\n",
       "      <td>10.411962</td>\n",
       "      <td>0.895447</td>\n",
       "      <td>16.904297</td>\n",
       "      <td>2.143149</td>\n",
       "      <td>...</td>\n",
       "      <td>14.016835</td>\n",
       "      <td>-502.488007</td>\n",
       "      <td>12.099931</td>\n",
       "      <td>-504.715942</td>\n",
       "      <td>9.925633</td>\n",
       "      <td>-498.310211</td>\n",
       "      <td>8.079666</td>\n",
       "      <td>-500.470978</td>\n",
       "      <td>14.151341</td>\n",
       "      <td>-605.841980</td>\n",
       "    </tr>\n",
       "    <tr>\n",
       "      <th>1</th>\n",
       "      <td>2016-01-15 01:00:00</td>\n",
       "      <td>6.029369</td>\n",
       "      <td>9.968944</td>\n",
       "      <td>5.257781</td>\n",
       "      <td>42.701629</td>\n",
       "      <td>69.266198</td>\n",
       "      <td>10.462676</td>\n",
       "      <td>0.927452</td>\n",
       "      <td>16.634514</td>\n",
       "      <td>2.224930</td>\n",
       "      <td>...</td>\n",
       "      <td>13.992281</td>\n",
       "      <td>-505.503262</td>\n",
       "      <td>11.950531</td>\n",
       "      <td>-501.331529</td>\n",
       "      <td>10.039245</td>\n",
       "      <td>-500.169983</td>\n",
       "      <td>7.984757</td>\n",
       "      <td>-500.582168</td>\n",
       "      <td>13.998353</td>\n",
       "      <td>-599.787184</td>\n",
       "    </tr>\n",
       "    <tr>\n",
       "      <th>2</th>\n",
       "      <td>2016-01-15 02:00:00</td>\n",
       "      <td>6.055926</td>\n",
       "      <td>10.213995</td>\n",
       "      <td>5.383759</td>\n",
       "      <td>42.657501</td>\n",
       "      <td>68.116445</td>\n",
       "      <td>10.507046</td>\n",
       "      <td>0.953716</td>\n",
       "      <td>16.208849</td>\n",
       "      <td>2.257889</td>\n",
       "      <td>...</td>\n",
       "      <td>14.015015</td>\n",
       "      <td>-502.520901</td>\n",
       "      <td>11.912783</td>\n",
       "      <td>-501.133383</td>\n",
       "      <td>10.070913</td>\n",
       "      <td>-500.129135</td>\n",
       "      <td>8.013877</td>\n",
       "      <td>-500.517572</td>\n",
       "      <td>14.028663</td>\n",
       "      <td>-601.427363</td>\n",
       "    </tr>\n",
       "    <tr>\n",
       "      <th>3</th>\n",
       "      <td>2016-01-15 03:00:00</td>\n",
       "      <td>6.047977</td>\n",
       "      <td>9.977019</td>\n",
       "      <td>4.858634</td>\n",
       "      <td>42.689819</td>\n",
       "      <td>68.347543</td>\n",
       "      <td>10.422762</td>\n",
       "      <td>0.883763</td>\n",
       "      <td>16.532835</td>\n",
       "      <td>2.146849</td>\n",
       "      <td>...</td>\n",
       "      <td>14.036510</td>\n",
       "      <td>-500.857308</td>\n",
       "      <td>11.999550</td>\n",
       "      <td>-501.193686</td>\n",
       "      <td>9.970366</td>\n",
       "      <td>-499.201640</td>\n",
       "      <td>7.977324</td>\n",
       "      <td>-500.255908</td>\n",
       "      <td>14.005551</td>\n",
       "      <td>-599.996129</td>\n",
       "    </tr>\n",
       "    <tr>\n",
       "      <th>4</th>\n",
       "      <td>2016-01-15 04:00:00</td>\n",
       "      <td>6.148599</td>\n",
       "      <td>10.142511</td>\n",
       "      <td>4.939416</td>\n",
       "      <td>42.774141</td>\n",
       "      <td>66.927016</td>\n",
       "      <td>10.360302</td>\n",
       "      <td>0.792826</td>\n",
       "      <td>16.525686</td>\n",
       "      <td>2.055292</td>\n",
       "      <td>...</td>\n",
       "      <td>14.027298</td>\n",
       "      <td>-499.838632</td>\n",
       "      <td>11.953070</td>\n",
       "      <td>-501.053894</td>\n",
       "      <td>9.925709</td>\n",
       "      <td>-501.686727</td>\n",
       "      <td>7.894242</td>\n",
       "      <td>-500.356035</td>\n",
       "      <td>13.996647</td>\n",
       "      <td>-601.496691</td>\n",
       "    </tr>\n",
       "  </tbody>\n",
       "</table>\n",
       "<p>5 rows × 87 columns</p>\n",
       "</div>"
      ],
      "text/plain": [
       "                  date  final.output.concentrate_ag  \\\n",
       "0  2016-01-15 00:00:00                     6.055403   \n",
       "1  2016-01-15 01:00:00                     6.029369   \n",
       "2  2016-01-15 02:00:00                     6.055926   \n",
       "3  2016-01-15 03:00:00                     6.047977   \n",
       "4  2016-01-15 04:00:00                     6.148599   \n",
       "\n",
       "   final.output.concentrate_pb  final.output.concentrate_sol  \\\n",
       "0                     9.889648                      5.507324   \n",
       "1                     9.968944                      5.257781   \n",
       "2                    10.213995                      5.383759   \n",
       "3                     9.977019                      4.858634   \n",
       "4                    10.142511                      4.939416   \n",
       "\n",
       "   final.output.concentrate_au  final.output.recovery  final.output.tail_ag  \\\n",
       "0                    42.192020              70.541216             10.411962   \n",
       "1                    42.701629              69.266198             10.462676   \n",
       "2                    42.657501              68.116445             10.507046   \n",
       "3                    42.689819              68.347543             10.422762   \n",
       "4                    42.774141              66.927016             10.360302   \n",
       "\n",
       "   final.output.tail_pb  final.output.tail_sol  final.output.tail_au  ...  \\\n",
       "0              0.895447              16.904297              2.143149  ...   \n",
       "1              0.927452              16.634514              2.224930  ...   \n",
       "2              0.953716              16.208849              2.257889  ...   \n",
       "3              0.883763              16.532835              2.146849  ...   \n",
       "4              0.792826              16.525686              2.055292  ...   \n",
       "\n",
       "   secondary_cleaner.state.floatbank4_a_air  \\\n",
       "0                                 14.016835   \n",
       "1                                 13.992281   \n",
       "2                                 14.015015   \n",
       "3                                 14.036510   \n",
       "4                                 14.027298   \n",
       "\n",
       "   secondary_cleaner.state.floatbank4_a_level  \\\n",
       "0                                 -502.488007   \n",
       "1                                 -505.503262   \n",
       "2                                 -502.520901   \n",
       "3                                 -500.857308   \n",
       "4                                 -499.838632   \n",
       "\n",
       "   secondary_cleaner.state.floatbank4_b_air  \\\n",
       "0                                 12.099931   \n",
       "1                                 11.950531   \n",
       "2                                 11.912783   \n",
       "3                                 11.999550   \n",
       "4                                 11.953070   \n",
       "\n",
       "   secondary_cleaner.state.floatbank4_b_level  \\\n",
       "0                                 -504.715942   \n",
       "1                                 -501.331529   \n",
       "2                                 -501.133383   \n",
       "3                                 -501.193686   \n",
       "4                                 -501.053894   \n",
       "\n",
       "   secondary_cleaner.state.floatbank5_a_air  \\\n",
       "0                                  9.925633   \n",
       "1                                 10.039245   \n",
       "2                                 10.070913   \n",
       "3                                  9.970366   \n",
       "4                                  9.925709   \n",
       "\n",
       "   secondary_cleaner.state.floatbank5_a_level  \\\n",
       "0                                 -498.310211   \n",
       "1                                 -500.169983   \n",
       "2                                 -500.129135   \n",
       "3                                 -499.201640   \n",
       "4                                 -501.686727   \n",
       "\n",
       "   secondary_cleaner.state.floatbank5_b_air  \\\n",
       "0                                  8.079666   \n",
       "1                                  7.984757   \n",
       "2                                  8.013877   \n",
       "3                                  7.977324   \n",
       "4                                  7.894242   \n",
       "\n",
       "   secondary_cleaner.state.floatbank5_b_level  \\\n",
       "0                                 -500.470978   \n",
       "1                                 -500.582168   \n",
       "2                                 -500.517572   \n",
       "3                                 -500.255908   \n",
       "4                                 -500.356035   \n",
       "\n",
       "   secondary_cleaner.state.floatbank6_a_air  \\\n",
       "0                                 14.151341   \n",
       "1                                 13.998353   \n",
       "2                                 14.028663   \n",
       "3                                 14.005551   \n",
       "4                                 13.996647   \n",
       "\n",
       "   secondary_cleaner.state.floatbank6_a_level  \n",
       "0                                 -605.841980  \n",
       "1                                 -599.787184  \n",
       "2                                 -601.427363  \n",
       "3                                 -599.996129  \n",
       "4                                 -601.496691  \n",
       "\n",
       "[5 rows x 87 columns]"
      ]
     },
     "metadata": {},
     "output_type": "display_data"
    }
   ],
   "source": [
    "for data in [data_train, data_test, data_full]:\n",
    "    display(data.head())"
   ]
  },
  {
   "cell_type": "markdown",
   "id": "522cdeec",
   "metadata": {},
   "source": [
    "### Проверка расчета эффективности обогащения"
   ]
  },
  {
   "cell_type": "markdown",
   "id": "9384527c",
   "metadata": {},
   "source": [
    "Проверим, что эффективность обогащения рассчитана правильно. Вычислим её на обучающей выборке для признака `rougher.output.recovery`. Затем найдём MAE между нашими расчётами и значением признака. "
   ]
  },
  {
   "cell_type": "markdown",
   "id": "a6e31a8d",
   "metadata": {},
   "source": [
    "**Формула расчета эффективности обогащения:**"
   ]
  },
  {
   "attachments": {
    "image.png": {
     "image/png": "[encoded data removed]"
    }
   },
   "cell_type": "markdown",
   "id": "bb1eef42",
   "metadata": {},
   "source": [
    "![image.png](attachment:image.png)"
   ]
  },
  {
   "cell_type": "markdown",
   "id": "c6414932",
   "metadata": {},
   "source": [
    "где:\n",
    "\n",
    "•\tC — доля золота в концентрате после флотации/очистки;\n",
    "\n",
    "•\tF — доля золота в сырье/концентрате до флотации/очистки;\n",
    "\n",
    "•\tT — доля золота в отвальных хвостах после флотации/очистки.\n",
    "\n",
    "Для прогноза коэффициента нужно найти долю золота в концентратах и хвостах. Причём важен не только финальный продукт, но и черновой концентрат.\n"
   ]
  },
  {
   "cell_type": "markdown",
   "id": "41714c07",
   "metadata": {},
   "source": [
    "Превратим формулу в функцию: "
   ]
  },
  {
   "cell_type": "code",
   "execution_count": 4,
   "id": "5a128720",
   "metadata": {},
   "outputs": [],
   "source": [
    "def recovery_calc(C, F, T):\n",
    "    recovery = 100*((C*(F-T))/(F*(C-T)))\n",
    "    return recovery"
   ]
  },
  {
   "cell_type": "markdown",
   "id": "0b91df8b",
   "metadata": {},
   "source": [
    "На данном этапе избавимся от пропусков в столбцах, чтобы сделать возможным расчет МАЕ: "
   ]
  },
  {
   "cell_type": "code",
   "execution_count": 5,
   "id": "c335e5b5",
   "metadata": {},
   "outputs": [],
   "source": [
    "data_train_upd = data_train[['rougher.output.concentrate_au',  \n",
    "                             'rougher.input.feed_au', 'rougher.output.tail_au', \n",
    "                             'rougher.output.recovery']].dropna(axis = 0)"
   ]
  },
  {
   "cell_type": "markdown",
   "id": "5092a116",
   "metadata": {},
   "source": [
    "Добавим в таблицу с обучающей выборкой столбец `recovery_checkup` (_англ._ \"проверка обогащения\") и отобразим в нем результат работы функции `recovery_calc`:"
   ]
  },
  {
   "cell_type": "code",
   "execution_count": 6,
   "id": "af956761",
   "metadata": {},
   "outputs": [],
   "source": [
    "data_train_upd['recovery_checkup'] = recovery_calc(C = data_train_upd['rougher.output.concentrate_au'],\n",
    "                                                      F = data_train_upd['rougher.input.feed_au'],\n",
    "                                                      T = data_train_upd['rougher.output.tail_au'])"
   ]
  },
  {
   "cell_type": "code",
   "execution_count": 7,
   "id": "408228d7",
   "metadata": {
    "scrolled": true
   },
   "outputs": [
    {
     "data": {
      "text/html": [
       "<div>\n",
       "<style scoped>\n",
       "    .dataframe tbody tr th:only-of-type {\n",
       "        vertical-align: middle;\n",
       "    }\n",
       "\n",
       "    .dataframe tbody tr th {\n",
       "        vertical-align: top;\n",
       "    }\n",
       "\n",
       "    .dataframe thead th {\n",
       "        text-align: right;\n",
       "    }\n",
       "</style>\n",
       "<table border=\"1\" class=\"dataframe\">\n",
       "  <thead>\n",
       "    <tr style=\"text-align: right;\">\n",
       "      <th></th>\n",
       "      <th>rougher.output.concentrate_au</th>\n",
       "      <th>rougher.input.feed_au</th>\n",
       "      <th>rougher.output.tail_au</th>\n",
       "      <th>rougher.output.recovery</th>\n",
       "      <th>recovery_checkup</th>\n",
       "    </tr>\n",
       "  </thead>\n",
       "  <tbody>\n",
       "    <tr>\n",
       "      <th>0</th>\n",
       "      <td>19.793808</td>\n",
       "      <td>6.486150</td>\n",
       "      <td>1.170244</td>\n",
       "      <td>87.107763</td>\n",
       "      <td>87.107763</td>\n",
       "    </tr>\n",
       "    <tr>\n",
       "      <th>1</th>\n",
       "      <td>20.050975</td>\n",
       "      <td>6.478583</td>\n",
       "      <td>1.184827</td>\n",
       "      <td>86.843261</td>\n",
       "      <td>86.843261</td>\n",
       "    </tr>\n",
       "    <tr>\n",
       "      <th>2</th>\n",
       "      <td>19.737170</td>\n",
       "      <td>6.362222</td>\n",
       "      <td>1.162562</td>\n",
       "      <td>86.842308</td>\n",
       "      <td>86.842308</td>\n",
       "    </tr>\n",
       "    <tr>\n",
       "      <th>3</th>\n",
       "      <td>19.320810</td>\n",
       "      <td>6.118189</td>\n",
       "      <td>1.079755</td>\n",
       "      <td>87.226430</td>\n",
       "      <td>87.226430</td>\n",
       "    </tr>\n",
       "    <tr>\n",
       "      <th>4</th>\n",
       "      <td>19.216101</td>\n",
       "      <td>5.663707</td>\n",
       "      <td>1.012642</td>\n",
       "      <td>86.688794</td>\n",
       "      <td>86.688794</td>\n",
       "    </tr>\n",
       "  </tbody>\n",
       "</table>\n",
       "</div>"
      ],
      "text/plain": [
       "   rougher.output.concentrate_au  rougher.input.feed_au  \\\n",
       "0                      19.793808               6.486150   \n",
       "1                      20.050975               6.478583   \n",
       "2                      19.737170               6.362222   \n",
       "3                      19.320810               6.118189   \n",
       "4                      19.216101               5.663707   \n",
       "\n",
       "   rougher.output.tail_au  rougher.output.recovery  recovery_checkup  \n",
       "0                1.170244                87.107763         87.107763  \n",
       "1                1.184827                86.843261         86.843261  \n",
       "2                1.162562                86.842308         86.842308  \n",
       "3                1.079755                87.226430         87.226430  \n",
       "4                1.012642                86.688794         86.688794  "
      ]
     },
     "execution_count": 7,
     "metadata": {},
     "output_type": "execute_result"
    }
   ],
   "source": [
    "data_train_upd.head()"
   ]
  },
  {
   "cell_type": "markdown",
   "id": "3d6d9727",
   "metadata": {},
   "source": [
    "Обратим внимание на столбцы `rougher.output.recovery` и `recovery_checkup`. Значения в них полностью совпадают. Значит, эффективность обогащения рассчитана правильно."
   ]
  },
  {
   "cell_type": "markdown",
   "id": "2d832e24",
   "metadata": {},
   "source": [
    "Найдём MAE между нашими расчётами и значением признака:"
   ]
  },
  {
   "cell_type": "code",
   "execution_count": 8,
   "id": "21f8f7eb",
   "metadata": {},
   "outputs": [
    {
     "data": {
      "text/plain": [
       "9.73512347450521e-15"
      ]
     },
     "execution_count": 8,
     "metadata": {},
     "output_type": "execute_result"
    }
   ],
   "source": [
    "MAE(data_train_upd['rougher.output.recovery'], data_train_upd['recovery_checkup'])"
   ]
  },
  {
   "cell_type": "markdown",
   "id": "8af6f370",
   "metadata": {},
   "source": [
    "**Вывод: эффективность обогащения рассчитана правильно.** "
   ]
  },
  {
   "cell_type": "markdown",
   "id": "51b5714d",
   "metadata": {},
   "source": [
    "### Анализ признаков, недоступных в тестовой выборке"
   ]
  },
  {
   "cell_type": "markdown",
   "id": "a07dd9e0",
   "metadata": {},
   "source": [
    "Проанализируем признаки, недоступные в тестовой выборке. Выясним, что это за параметры и к какому типу они относятся. "
   ]
  },
  {
   "cell_type": "code",
   "execution_count": 9,
   "id": "dd528c74",
   "metadata": {},
   "outputs": [
    {
     "data": {
      "text/plain": [
       "['final.output.concentrate_ag',\n",
       " 'final.output.concentrate_pb',\n",
       " 'final.output.concentrate_sol',\n",
       " 'final.output.concentrate_au',\n",
       " 'final.output.recovery',\n",
       " 'final.output.tail_ag',\n",
       " 'final.output.tail_pb',\n",
       " 'final.output.tail_sol',\n",
       " 'final.output.tail_au',\n",
       " 'primary_cleaner.output.concentrate_ag',\n",
       " 'primary_cleaner.output.concentrate_pb',\n",
       " 'primary_cleaner.output.concentrate_sol',\n",
       " 'primary_cleaner.output.concentrate_au',\n",
       " 'primary_cleaner.output.tail_ag',\n",
       " 'primary_cleaner.output.tail_pb',\n",
       " 'primary_cleaner.output.tail_sol',\n",
       " 'primary_cleaner.output.tail_au',\n",
       " 'rougher.calculation.sulfate_to_au_concentrate',\n",
       " 'rougher.calculation.floatbank10_sulfate_to_au_feed',\n",
       " 'rougher.calculation.floatbank11_sulfate_to_au_feed',\n",
       " 'rougher.calculation.au_pb_ratio',\n",
       " 'rougher.output.concentrate_ag',\n",
       " 'rougher.output.concentrate_pb',\n",
       " 'rougher.output.concentrate_sol',\n",
       " 'rougher.output.concentrate_au',\n",
       " 'rougher.output.recovery',\n",
       " 'rougher.output.tail_ag',\n",
       " 'rougher.output.tail_pb',\n",
       " 'rougher.output.tail_sol',\n",
       " 'rougher.output.tail_au',\n",
       " 'secondary_cleaner.output.tail_ag',\n",
       " 'secondary_cleaner.output.tail_pb',\n",
       " 'secondary_cleaner.output.tail_sol',\n",
       " 'secondary_cleaner.output.tail_au']"
      ]
     },
     "execution_count": 9,
     "metadata": {},
     "output_type": "execute_result"
    }
   ],
   "source": [
    "[col for col in list(data_train.columns) if (col not in list(data_test.columns))]"
   ]
  },
  {
   "cell_type": "markdown",
   "id": "64c9ac3b",
   "metadata": {},
   "source": [
    "В тестовой выборке для каждого этапа флотации отсутствуют параметры продукта: концентраты, отвальные хвосты, данные по эффективности обогащения. Также можно заметить отсутствие информации о соотношении сульфатов и свинца к золоту. В описании исследования сказано: _Некоторые параметры недоступны, потому что замеряются и/или рассчитываются значительно позже. Из-за этого в тестовой выборке отсутствуют некоторые признаки, которые могут быть в обучающей._ Именно это мы и наблюдаем выше. "
   ]
  },
  {
   "cell_type": "markdown",
   "id": "ef8fb4b2",
   "metadata": {},
   "source": [
    "### Предобработка данных "
   ]
  },
  {
   "cell_type": "markdown",
   "id": "a885156b",
   "metadata": {},
   "source": [
    "Проверим количество пропусков в таблицах и подумаем, что можно с ними сделать: "
   ]
  },
  {
   "cell_type": "code",
   "execution_count": 10,
   "id": "449b774e",
   "metadata": {},
   "outputs": [
    {
     "name": "stdout",
     "output_type": "stream",
     "text": [
      "Кол-во пропусков в таблице: 4100\n",
      "Кол-во пропусков в таблице: 90\n",
      "Кол-во пропусков в таблице: 4481\n"
     ]
    }
   ],
   "source": [
    "for data in [data_train, data_test, data_full]:\n",
    "    print('Кол-во пропусков в таблице:', data.isna().sum().sum())"
   ]
  },
  {
   "cell_type": "markdown",
   "id": "620469d5",
   "metadata": {},
   "source": [
    "В техническом задании сказано: _Данные индексируются датой и временем получения информации (признак date). Соседние по времени параметры часто похожи._ Значит, есть смысл заполнить пропуски предыдущими/последующими по времени значениями. Предварительно изменим формат даты, затем заполним пропуски и убедимся в том, что всё прошло успешно. "
   ]
  },
  {
   "cell_type": "code",
   "execution_count": 11,
   "id": "f1c9c79e",
   "metadata": {},
   "outputs": [],
   "source": [
    "for data in [data_train, data_test, data_full]:\n",
    "    data['date'] = pd.to_datetime(data['date'])"
   ]
  },
  {
   "cell_type": "code",
   "execution_count": 12,
   "id": "515ec21a",
   "metadata": {},
   "outputs": [],
   "source": [
    "data_train = data_train.fillna(method='ffill')\n",
    "data_test = data_test.fillna(method='ffill')\n",
    "data_full = data_full.fillna(method='ffill')"
   ]
  },
  {
   "cell_type": "code",
   "execution_count": 13,
   "id": "c553c78d",
   "metadata": {},
   "outputs": [
    {
     "name": "stdout",
     "output_type": "stream",
     "text": [
      "Кол-во пропусков в таблице: 0\n",
      "Кол-во пропусков в таблице: 0\n",
      "Кол-во пропусков в таблице: 0\n"
     ]
    }
   ],
   "source": [
    "for data in [data_train, data_test, data_full]:\n",
    "    print('Кол-во пропусков в таблице:', data.isna().sum().sum())"
   ]
  },
  {
   "cell_type": "markdown",
   "id": "cf4e56be",
   "metadata": {},
   "source": [
    "Пропуски заполнены. Проверим данные на наличие явных дубликатов: "
   ]
  },
  {
   "cell_type": "code",
   "execution_count": 14,
   "id": "acff8520",
   "metadata": {},
   "outputs": [
    {
     "name": "stdout",
     "output_type": "stream",
     "text": [
      "Кол-во дубликатов: 0\n",
      "Кол-во дубликатов: 0\n",
      "Кол-во дубликатов: 0\n"
     ]
    }
   ],
   "source": [
    "for data in [data_train, data_test, data_full]:\n",
    "    print('Кол-во дубликатов:', data.duplicated().sum())"
   ]
  },
  {
   "cell_type": "markdown",
   "id": "e5de9577",
   "metadata": {},
   "source": [
    "Дубликатов нет. На этом предобработку данных можно считать законченной. "
   ]
  },
  {
   "cell_type": "markdown",
   "id": "7fe1c923",
   "metadata": {},
   "source": [
    "**Выводы:**\n",
    "\n",
    "В первом пункте нашего исследования мы ознакомились с таблицами и логикой наименования столбцов. Также был проверен расчет эффективности обогащения, результат положительный — расчет сделан верно. Рассмотрены признаки, отсутствующие в тестовой выборке. В процессе предобработки данных был изменен формат даты, заполнены пропуски, сделана проверка на явные дубликаты. "
   ]
  },
  {
   "cell_type": "markdown",
   "id": "f09a9c8e",
   "metadata": {},
   "source": [
    "## Анализ данных"
   ]
  },
  {
   "cell_type": "markdown",
   "id": "e58e9cb5",
   "metadata": {},
   "source": [
    "### Концентрация металлов на различных этапах очистки"
   ]
  },
  {
   "cell_type": "markdown",
   "id": "bb292394",
   "metadata": {},
   "source": [
    "Посмотрим, как меняется концентрация металлов (Au, Ag, Pb) на различных этапах очистки. "
   ]
  },
  {
   "cell_type": "markdown",
   "id": "4953f826",
   "metadata": {},
   "source": [
    "**Концентрация металлов перед флотацией:**"
   ]
  },
  {
   "cell_type": "code",
   "execution_count": 15,
   "id": "b9ff400c",
   "metadata": {},
   "outputs": [
    {
     "name": "stdout",
     "output_type": "stream",
     "text": [
      "Концентрация золота(Au): 8.27, серебра(Ag): 8.79, свинца(Pb): 3.59\n"
     ]
    }
   ],
   "source": [
    "print('Концентрация золота(Au):{: 0.2f}, серебра(Ag):{: 0.2f}, свинца(Pb):{: 0.2f}'.\n",
    "        format(data_full['rougher.input.feed_au'].mean(),\n",
    "        data_full['rougher.input.feed_ag'].mean(),\n",
    "        data_full['rougher.input.feed_pb'].mean()))"
   ]
  },
  {
   "cell_type": "markdown",
   "id": "2459834f",
   "metadata": {},
   "source": [
    "**Концентрация металлов после флотации:**"
   ]
  },
  {
   "cell_type": "code",
   "execution_count": 16,
   "id": "159b4ac1",
   "metadata": {},
   "outputs": [
    {
     "name": "stdout",
     "output_type": "stream",
     "text": [
      "Концентрация золота(Au): 19.77, серебра(Ag): 11.99, свинца(Pb): 7.61\n"
     ]
    }
   ],
   "source": [
    "print('Концентрация золота(Au):{: 0.2f}, серебра(Ag):{: 0.2f}, свинца(Pb):{: 0.2f}'.\n",
    "        format(data_full['rougher.output.concentrate_au'].mean(),\n",
    "        data_full['rougher.output.concentrate_ag'].mean(),\n",
    "        data_full['rougher.output.concentrate_pb'].mean()))"
   ]
  },
  {
   "cell_type": "markdown",
   "id": "7c0e05a0",
   "metadata": {},
   "source": [
    "**Концентрация металлов после первичной очистки:**"
   ]
  },
  {
   "cell_type": "code",
   "execution_count": 17,
   "id": "586eb6f6",
   "metadata": {},
   "outputs": [
    {
     "name": "stdout",
     "output_type": "stream",
     "text": [
      "Концентрация золота(Au): 32.12, серебра(Ag): 8.44, свинца(Pb): 9.81\n"
     ]
    }
   ],
   "source": [
    "print('Концентрация золота(Au):{: 0.2f}, серебра(Ag):{: 0.2f}, свинца(Pb):{: 0.2f}'.\n",
    "        format(data_full['primary_cleaner.output.concentrate_au'].mean(),\n",
    "        data_full['primary_cleaner.output.concentrate_ag'].mean(),\n",
    "        data_full['primary_cleaner.output.concentrate_pb'].mean()))"
   ]
  },
  {
   "cell_type": "markdown",
   "id": "7f0edf40",
   "metadata": {},
   "source": [
    "**Концентрация металлов после вторичной очистки:**"
   ]
  },
  {
   "cell_type": "code",
   "execution_count": 18,
   "id": "4697c3ba",
   "metadata": {},
   "outputs": [
    {
     "name": "stdout",
     "output_type": "stream",
     "text": [
      "Концентрация золота(Au): 44.08, серебра(Ag): 5.17, свинца(Pb): 9.98\n"
     ]
    }
   ],
   "source": [
    "print('Концентрация золота(Au):{: 0.2f}, серебра(Ag):{: 0.2f}, свинца(Pb):{: 0.2f}'.\n",
    "        format(data_full['final.output.concentrate_au'].mean(),\n",
    "        data_full['final.output.concentrate_ag'].mean(),\n",
    "        data_full['final.output.concentrate_pb'].mean()))"
   ]
  },
  {
   "cell_type": "markdown",
   "id": "718f0eec",
   "metadata": {},
   "source": [
    "Попробуем отобразить изменения концентрации на графике."
   ]
  },
  {
   "cell_type": "code",
   "execution_count": 19,
   "id": "c18c594d",
   "metadata": {},
   "outputs": [],
   "source": [
    "concentration = np.array([['rougher.output.concentrate_au', 'primary_cleaner.output.concentrate_au', 'final.output.concentrate_au'],\n",
    "                      ['rougher.output.concentrate_ag', 'primary_cleaner.output.concentrate_ag', 'final.output.concentrate_ag'],\n",
    "                      ['rougher.output.concentrate_pb', 'primary_cleaner.output.concentrate_pb', 'final.output.concentrate_pb']]\n",
    "                    )"
   ]
  },
  {
   "cell_type": "code",
   "execution_count": 20,
   "id": "e94883d1",
   "metadata": {},
   "outputs": [
    {
     "data": {
      "image/png": "[encoded data removed]",
      "text/plain": [
       "<Figure size 1152x432 with 1 Axes>"
      ]
     },
     "metadata": {
      "needs_background": "light"
     },
     "output_type": "display_data"
    }
   ],
   "source": [
    "steps = ['После флотации', 'Первич.очистка', 'Вторич.очистка']\n",
    "metals = ['Золото', 'Серебро', 'Свинец']\n",
    "\n",
    "plt.subplots(1, 1, figsize=(16, 6))\n",
    "plt.title('Концентрация металлов на различных этапах очистки')\n",
    "plt.ylabel('Концентрация')\n",
    "plt.xlabel('Этап')\n",
    "for columns, met in zip(concentration, metals):\n",
    "    sns.lineplot(data = pd.Series(data_full[columns].mean().values, index=steps), legend = True, label = met)\n"
   ]
  },
  {
   "cell_type": "markdown",
   "id": "4bb2b4bc",
   "metadata": {},
   "source": [
    "График отражает то, что уже можно было заметить: в процессе прохождения разных этапов очистки концентрация золота постепенно увеличивается, концентрация серебра падает, а концентрация свинца незначительно увеличивается. "
   ]
  },
  {
   "cell_type": "markdown",
   "id": "c791e35a",
   "metadata": {},
   "source": [
    "### Распределения размеров гранул сырья"
   ]
  },
  {
   "cell_type": "markdown",
   "id": "999ef258",
   "metadata": {},
   "source": [
    "Сравним распределения размеров гранул сырья на обучающей и тестовой выборках. Если распределения сильно отличаются друг от друга, оценка модели будет неправильной."
   ]
  },
  {
   "cell_type": "code",
   "execution_count": 21,
   "id": "0df36f9b",
   "metadata": {},
   "outputs": [
    {
     "data": {
      "image/png": "[encoded data removed]",
      "text/plain": [
       "<Figure size 458x360 with 1 Axes>"
      ]
     },
     "metadata": {
      "needs_background": "light"
     },
     "output_type": "display_data"
    }
   ],
   "source": [
    "feed_sizes = pd.concat([data_train['rougher.input.feed_size'], data_test['rougher.input.feed_size']], axis = 1)\n",
    "feed_sizes.columns = ['Обучающая', 'Тестовая']\n",
    "sns.displot(feed_sizes, kind = 'ecdf', palette='husl')\n",
    "plt.title('Распределения размеров гранул сырья на обучающей и тестовой выборках')\n",
    "plt.show()"
   ]
  },
  {
   "cell_type": "markdown",
   "id": "b9131c82",
   "metadata": {},
   "source": [
    "Обе линии идут вплотную друг к другу, а в некоторых местах полностью совпадают. Можно сделать вывод, что распределение размеров гранул практически не отличается. "
   ]
  },
  {
   "cell_type": "markdown",
   "id": "e2fe2ed8",
   "metadata": {},
   "source": [
    "### Суммарная концентрация всех веществ на разных стадиях"
   ]
  },
  {
   "cell_type": "markdown",
   "id": "62d78dfd",
   "metadata": {},
   "source": [
    "Исследуем суммарную концентрацию всех веществ на разных стадиях: в сырье, в черновом и финальном концентратах."
   ]
  },
  {
   "cell_type": "code",
   "execution_count": 22,
   "id": "f63103b3",
   "metadata": {
    "scrolled": false
   },
   "outputs": [
    {
     "data": {
      "image/png": "[encoded data removed]",
      "text/plain": [
       "<Figure size 1440x720 with 1 Axes>"
      ]
     },
     "metadata": {
      "needs_background": "light"
     },
     "output_type": "display_data"
    }
   ],
   "source": [
    "total_concentrates = {'rougher':[i for i in data_full.columns if i.startswith('rougher.output.concentrate')],\n",
    "               'primary_cleaner':[i for i in data_full.columns if i.startswith('primary_cleaner.output.concentrate')],\n",
    "               'final':[i for i in data_full.columns if i.startswith('final.output.concentrate')]}\n",
    "for index in total_concentrates:\n",
    "    np.sum(data_full[total_concentrates[index]], axis=1).hist(bins = 100, alpha = 0.5, figsize=(20, 10))\n",
    "plt.title('Суммарная концентрация всех веществ на разных стадиях')\n",
    "plt.legend(['После флотации', 'Первич.очистка', 'Вторич.очистка'])\n",
    "plt.show()   "
   ]
  },
  {
   "cell_type": "markdown",
   "id": "1b66be66",
   "metadata": {},
   "source": [
    "По аналогии с предыдущими пунктами, на этой гистограмме видно, что суммарная концентрация веществ возрастает по мере прохождения этапов очистки. Стоит обратить внимание на пиковые значения возле нуля. Они харакретны для всех этапов. Можно предположить, что в технологическом процессе есть моменты, когда концентрат по какой-то причине полностью отсутствует."
   ]
  },
  {
   "cell_type": "markdown",
   "id": "0f72f498",
   "metadata": {},
   "source": [
    "### Удаление выбросов"
   ]
  },
  {
   "cell_type": "code",
   "execution_count": 23,
   "id": "851f29a1",
   "metadata": {},
   "outputs": [],
   "source": [
    "good_data_test = data_test.drop(index = data_test[data_test['rougher.input.feed_au'] < 30].index, axis = 0)\n",
    "good_data_test = data_test.drop(index = data_test[data_test['rougher.input.feed_ag'] < 30].index, axis = 0)\n",
    "good_data_test = data_test.drop(index = data_test[data_test['rougher.input.feed_pb'] < 30].index, axis = 0)\n",
    "good_data_test = data_test.drop(index = data_test[data_test['rougher.input.feed_sol'] < 30].index, axis = 0)"
   ]
  },
  {
   "cell_type": "code",
   "execution_count": 24,
   "id": "ef7e5e71",
   "metadata": {},
   "outputs": [],
   "source": [
    "good_data_train = data_train.drop(index = data_train[data_train['rougher.input.feed_au'] < 30].index, axis = 0)\n",
    "good_data_train = data_train.drop(index = data_train[data_train['rougher.input.feed_ag'] < 30].index, axis = 0)\n",
    "good_data_train = data_train.drop(index = data_train[data_train['rougher.input.feed_pb'] < 30].index, axis = 0)\n",
    "good_data_train = data_train.drop(index = data_train[data_train['rougher.input.feed_sol'] < 30].index, axis = 0)"
   ]
  },
  {
   "cell_type": "code",
   "execution_count": 25,
   "id": "8c7a8de0",
   "metadata": {},
   "outputs": [],
   "source": [
    "good_data_full = data_full.drop(index = data_full[data_full['rougher.input.feed_au'] < 30].index, axis = 0)\n",
    "good_data_full = data_full.drop(index = data_full[data_full['rougher.input.feed_ag'] < 30].index, axis = 0)\n",
    "good_data_full = data_full.drop(index = data_full[data_full['rougher.input.feed_pb'] < 30].index, axis = 0)\n",
    "good_data_full = data_full.drop(index = data_full[data_full['rougher.input.feed_sol'] < 30].index, axis = 0)"
   ]
  },
  {
   "cell_type": "markdown",
   "id": "f3909d16",
   "metadata": {},
   "source": [
    "## Модель"
   ]
  },
  {
   "cell_type": "markdown",
   "id": "f74876b4",
   "metadata": {},
   "source": [
    "### Функция для вычисления итоговой sMAPE"
   ]
  },
  {
   "cell_type": "markdown",
   "id": "893e4daa",
   "metadata": {},
   "source": [
    "**sMAPE** — (англ.) Symmetric Mean Absolute Percentage Error, «симметричное среднее абсолютное процентное отклонение»"
   ]
  },
  {
   "attachments": {
    "image.png": {
     "image/png": "[encoded data removed]"
    }
   },
   "cell_type": "markdown",
   "id": "cfab4049",
   "metadata": {},
   "source": [
    "Метрика sMAPE вычисляется так:\n",
    "![image.png](attachment:image.png)"
   ]
  },
  {
   "attachments": {
    "image.png": {
     "image/png": "[encoded data removed]"
    }
   },
   "cell_type": "markdown",
   "id": "dd3a58e9",
   "metadata": {},
   "source": [
    "Итоговая метрика складывается из двух величин:\n",
    "![image.png](attachment:image.png)"
   ]
  },
  {
   "cell_type": "markdown",
   "id": "747e016a",
   "metadata": {},
   "source": [
    "Напишем функции для расчета метрики: "
   ]
  },
  {
   "cell_type": "code",
   "execution_count": 26,
   "id": "5e32a989",
   "metadata": {},
   "outputs": [],
   "source": [
    "def smape(true, predict):\n",
    "    return 1 / len(true) * sum( abs(true - predict) / ( (abs(true) + abs(predict)) * 0.5) ) * 100"
   ]
  },
  {
   "cell_type": "code",
   "execution_count": 27,
   "id": "828a3f6c",
   "metadata": {},
   "outputs": [],
   "source": [
    "def final_smape(smape_rougher, smape_final):\n",
    "    return 0.25 * smape_rougher + 0.75 * smape_final"
   ]
  },
  {
   "cell_type": "markdown",
   "id": "53d5aefc",
   "metadata": {},
   "source": [
    "### Обучение моделей "
   ]
  },
  {
   "cell_type": "code",
   "execution_count": 28,
   "id": "4732a7ec",
   "metadata": {},
   "outputs": [],
   "source": [
    "good_data_train = good_data_train.drop(index = good_data_train[good_data_train['rougher.output.recovery'] < 1].index, axis = 0)\n",
    "good_data_train = good_data_train.drop(index = good_data_train[good_data_train['final.output.recovery'] < 1].index, axis = 0)"
   ]
  },
  {
   "cell_type": "code",
   "execution_count": 29,
   "id": "1861023c",
   "metadata": {},
   "outputs": [],
   "source": [
    "good_data_train_ = good_data_train.drop(['date', 'final.output.concentrate_ag',\n",
    " 'final.output.concentrate_pb',\n",
    " 'final.output.concentrate_sol',\n",
    " 'final.output.concentrate_au',\n",
    " 'final.output.tail_ag',\n",
    " 'final.output.tail_pb',\n",
    " 'final.output.tail_sol',\n",
    " 'final.output.tail_au',\n",
    " 'primary_cleaner.output.concentrate_ag',\n",
    " 'primary_cleaner.output.concentrate_pb',\n",
    " 'primary_cleaner.output.concentrate_sol',\n",
    " 'primary_cleaner.output.concentrate_au',\n",
    " 'primary_cleaner.output.tail_ag',\n",
    " 'primary_cleaner.output.tail_pb',\n",
    " 'primary_cleaner.output.tail_sol',\n",
    " 'primary_cleaner.output.tail_au',\n",
    " 'rougher.calculation.sulfate_to_au_concentrate',\n",
    " 'rougher.calculation.floatbank10_sulfate_to_au_feed',\n",
    " 'rougher.calculation.floatbank11_sulfate_to_au_feed',\n",
    " 'rougher.calculation.au_pb_ratio',\n",
    " 'rougher.output.concentrate_ag',\n",
    " 'rougher.output.concentrate_pb',\n",
    " 'rougher.output.concentrate_sol',\n",
    " 'rougher.output.concentrate_au',\n",
    " 'rougher.output.tail_ag',\n",
    " 'rougher.output.tail_pb',\n",
    " 'rougher.output.tail_sol',\n",
    " 'rougher.output.tail_au',\n",
    " 'secondary_cleaner.output.tail_ag',\n",
    " 'secondary_cleaner.output.tail_pb',\n",
    " 'secondary_cleaner.output.tail_sol',\n",
    " 'secondary_cleaner.output.tail_au'], axis=1) "
   ]
  },
  {
   "cell_type": "markdown",
   "id": "21d2fe60",
   "metadata": {},
   "source": [
    "Выделим признаки и целевой признак: "
   ]
  },
  {
   "cell_type": "code",
   "execution_count": 30,
   "id": "2dfdb467",
   "metadata": {},
   "outputs": [],
   "source": [
    "features_rougher = good_data_train_.drop(['rougher.output.recovery', 'final.output.recovery'], axis=1)"
   ]
  },
  {
   "cell_type": "code",
   "execution_count": 31,
   "id": "344a186a",
   "metadata": {},
   "outputs": [],
   "source": [
    "target_rougher = good_data_train_['rougher.output.recovery']"
   ]
  },
  {
   "cell_type": "code",
   "execution_count": 32,
   "id": "fd33e59f",
   "metadata": {
    "scrolled": true
   },
   "outputs": [
    {
     "name": "stdout",
     "output_type": "stream",
     "text": [
      "(12589, 52)\n",
      "(12589,)\n"
     ]
    }
   ],
   "source": [
    "print(features_rougher.shape)\n",
    "print(target_rougher.shape)"
   ]
  },
  {
   "cell_type": "code",
   "execution_count": 33,
   "id": "b1d5406b",
   "metadata": {},
   "outputs": [],
   "source": [
    "state = np.random.RandomState(123)"
   ]
  },
  {
   "cell_type": "markdown",
   "id": "b435c887",
   "metadata": {},
   "source": [
    "**Линейная регрессия на тренировочной выборке**"
   ]
  },
  {
   "cell_type": "markdown",
   "id": "936db98e",
   "metadata": {},
   "source": [
    "_Для этапа флотации:_"
   ]
  },
  {
   "cell_type": "code",
   "execution_count": 34,
   "id": "9c239b0b",
   "metadata": {},
   "outputs": [
    {
     "name": "stdout",
     "output_type": "stream",
     "text": [
      "sMAPE для этапа флотации: 7.24\n"
     ]
    }
   ],
   "source": [
    "lin_reg_rougher = LinearRegression()\n",
    "\n",
    "lin_reg_rougher_smape = cross_val_score(lin_reg_rougher, features_rougher, target_rougher, \n",
    "                             scoring = make_scorer(smape), cv = 5, n_jobs = -1).mean()\n",
    "\n",
    "print('sMAPE для этапа флотации:', round((lin_reg_rougher_smape),2))"
   ]
  },
  {
   "cell_type": "markdown",
   "id": "262dc7fb",
   "metadata": {},
   "source": [
    "_Для финального этапа:_"
   ]
  },
  {
   "cell_type": "code",
   "execution_count": 35,
   "id": "11893331",
   "metadata": {},
   "outputs": [],
   "source": [
    "features_final = good_data_train_.drop(['final.output.recovery', 'rougher.output.recovery'], axis='columns')"
   ]
  },
  {
   "cell_type": "code",
   "execution_count": 36,
   "id": "49b9e187",
   "metadata": {},
   "outputs": [],
   "source": [
    "target_final = good_data_train_['final.output.recovery']"
   ]
  },
  {
   "cell_type": "code",
   "execution_count": 37,
   "id": "fd69a84f",
   "metadata": {},
   "outputs": [
    {
     "name": "stdout",
     "output_type": "stream",
     "text": [
      "(12589, 52)\n",
      "(12589,)\n"
     ]
    }
   ],
   "source": [
    "print(features_final.shape)\n",
    "print(target_final.shape)"
   ]
  },
  {
   "cell_type": "code",
   "execution_count": 38,
   "id": "39267890",
   "metadata": {},
   "outputs": [
    {
     "name": "stdout",
     "output_type": "stream",
     "text": [
      "sMAPE для финального этапа: 10.73\n"
     ]
    }
   ],
   "source": [
    "lin_reg_final = LinearRegression()\n",
    "\n",
    "lin_reg_final_smape = cross_val_score(lin_reg_final, features_final, target_final, \n",
    "                             scoring = make_scorer(smape), cv = 5, n_jobs = -1).mean()\n",
    "\n",
    "print('sMAPE для финального этапа:', round((lin_reg_final_smape),2))"
   ]
  },
  {
   "cell_type": "code",
   "execution_count": 39,
   "id": "1ebf9598",
   "metadata": {
    "scrolled": true
   },
   "outputs": [
    {
     "name": "stdout",
     "output_type": "stream",
     "text": [
      "Final sMAPE: 9.86\n"
     ]
    }
   ],
   "source": [
    "print('Final sMAPE:', round(final_smape(lin_reg_rougher_smape, lin_reg_final_smape), 2))"
   ]
  },
  {
   "cell_type": "markdown",
   "id": "3ff4a96e",
   "metadata": {},
   "source": [
    "**Случайный лес на тренировочной выборке**"
   ]
  },
  {
   "cell_type": "markdown",
   "id": "971abd5c",
   "metadata": {},
   "source": [
    "_Подбор гиперпараметров_"
   ]
  },
  {
   "cell_type": "code",
   "execution_count": 40,
   "id": "3f856bbb",
   "metadata": {},
   "outputs": [
    {
     "name": "stdout",
     "output_type": "stream",
     "text": [
      "Лучшие гиперпараметры: {'max_depth': 6, 'n_estimators': 1}\n"
     ]
    }
   ],
   "source": [
    "rfr=RandomForestRegressor(random_state=state)\n",
    "param_grid = { \n",
    "    'n_estimators': [1, 5],\n",
    "    'max_depth' : [3, 6] }\n",
    "CV_rfr = GridSearchCV(estimator=rfr, param_grid=param_grid, scoring=make_scorer(smape), cv= 5)\n",
    "CV_rfr.fit(features_rougher, target_rougher)\n",
    "\n",
    "print('Лучшие гиперпараметры:', CV_rfr.best_params_)\n"
   ]
  },
  {
   "cell_type": "markdown",
   "id": "6d3790d3",
   "metadata": {},
   "source": [
    "_Для этапа флотации:_"
   ]
  },
  {
   "cell_type": "code",
   "execution_count": 41,
   "id": "24b38c13",
   "metadata": {},
   "outputs": [
    {
     "name": "stdout",
     "output_type": "stream",
     "text": [
      "sMAPE для этапа флотации: 8.05\n"
     ]
    }
   ],
   "source": [
    "model = RandomForestRegressor(max_depth=6, n_estimators=1, random_state=state)\n",
    "smape_value_rougher = cross_val_score(model, features_rougher, target_rougher, \n",
    "                                scoring = make_scorer(smape), cv = 5, n_jobs = -1).mean()\n",
    "print('sMAPE для этапа флотации:', round((smape_value_rougher), 2))"
   ]
  },
  {
   "cell_type": "markdown",
   "id": "54db4d64",
   "metadata": {},
   "source": [
    "_Для финального этапа:_"
   ]
  },
  {
   "cell_type": "code",
   "execution_count": 42,
   "id": "78f9ddf6",
   "metadata": {},
   "outputs": [
    {
     "name": "stdout",
     "output_type": "stream",
     "text": [
      "sMAPE для финального этапа: 10.81\n"
     ]
    }
   ],
   "source": [
    "model = RandomForestRegressor(max_depth=6, n_estimators=1, random_state=state)\n",
    "smape_value_final = cross_val_score(model, features_final, target_final, \n",
    "                                scoring = make_scorer(smape), cv = 5, n_jobs = -1).mean()\n",
    "print('sMAPE для финального этапа:', round((smape_value_final), 2))"
   ]
  },
  {
   "cell_type": "code",
   "execution_count": 43,
   "id": "2a1db5b5",
   "metadata": {},
   "outputs": [
    {
     "name": "stdout",
     "output_type": "stream",
     "text": [
      "Final sMAPE: 10.12\n"
     ]
    }
   ],
   "source": [
    "print('Final sMAPE:', round(final_smape(smape_value_rougher, smape_value_final), 2))"
   ]
  },
  {
   "cell_type": "code",
   "execution_count": 44,
   "id": "bb013ecd",
   "metadata": {},
   "outputs": [
    {
     "name": "stdout",
     "output_type": "stream",
     "text": [
      "max_depth = 3 : 8.503490677641814\n",
      "max_depth = 4 : 8.443052683727359\n",
      "max_depth = 5 : 8.49093655933528\n"
     ]
    }
   ],
   "source": [
    "#цикл для этапа флотации\n",
    "for depth in range(3, 6):\n",
    "    model = RandomForestRegressor(random_state=state, max_depth=depth) \n",
    "\n",
    "    model.fit(features_rougher, target_rougher)\n",
    "    predictions = model.predict(features_rougher)\n",
    "    smape_value_rougher = cross_val_score(model, features_rougher, target_rougher, \n",
    "                                scoring = make_scorer(smape), cv = 5, n_jobs = -1).mean()\n",
    "    smape_value_final = cross_val_score(model, features_final, target_final, \n",
    "                                scoring = make_scorer(smape), cv = 5, n_jobs = -1).mean()\n",
    "    print(\"max_depth =\", depth, \": \", end='')\n",
    "    print(final_smape(smape_value_rougher, smape_value_final))\n"
   ]
  },
  {
   "cell_type": "markdown",
   "id": "759aa662",
   "metadata": {},
   "source": [
    "### Проверка на тестовой выборке"
   ]
  },
  {
   "cell_type": "markdown",
   "id": "7ba7305b",
   "metadata": {},
   "source": [
    "Линейная регресия показала лучший результат Final sMAPE. Будем использовать эту модель для работы с тестовой выборкой. "
   ]
  },
  {
   "cell_type": "markdown",
   "id": "db8377b9",
   "metadata": {},
   "source": [
    "Добавим в тестовую выборку недостающие признаки: "
   ]
  },
  {
   "cell_type": "code",
   "execution_count": 45,
   "id": "e38dd5ec",
   "metadata": {},
   "outputs": [],
   "source": [
    "good_data_full_merge = good_data_full[['date', 'rougher.output.recovery', 'final.output.recovery']]\n",
    "good_data_test = good_data_test.merge(good_data_full_merge, on='date', how='left')"
   ]
  },
  {
   "cell_type": "code",
   "execution_count": 46,
   "id": "be562330",
   "metadata": {},
   "outputs": [],
   "source": [
    "good_data_test = good_data_test.drop(index = good_data_test[good_data_test['rougher.output.recovery'] < 1].index, axis = 0)\n",
    "good_data_test = good_data_test.drop(index = good_data_test[good_data_test['final.output.recovery'] < 1].index, axis = 0)"
   ]
  },
  {
   "cell_type": "markdown",
   "id": "261b7a81",
   "metadata": {},
   "source": [
    "Удалим столбец с датой, т.к. он не нужен для обучения моделей. "
   ]
  },
  {
   "cell_type": "code",
   "execution_count": 47,
   "id": "d50afbf8",
   "metadata": {},
   "outputs": [],
   "source": [
    "good_data_test_ = good_data_test.drop(['date'], axis=1)"
   ]
  },
  {
   "cell_type": "markdown",
   "id": "0c3241d2",
   "metadata": {},
   "source": [
    "Выделим признаки и целевой признак:"
   ]
  },
  {
   "cell_type": "code",
   "execution_count": 48,
   "id": "87a164ed",
   "metadata": {},
   "outputs": [],
   "source": [
    "features_test_rougher = np.array(good_data_test_.drop(['rougher.output.recovery', 'final.output.recovery'], axis='columns'))"
   ]
  },
  {
   "cell_type": "code",
   "execution_count": 49,
   "id": "d6bb978d",
   "metadata": {},
   "outputs": [],
   "source": [
    "target_test_rougher = np.array(good_data_test_['rougher.output.recovery'])"
   ]
  },
  {
   "cell_type": "code",
   "execution_count": 50,
   "id": "90c5492f",
   "metadata": {},
   "outputs": [
    {
     "name": "stdout",
     "output_type": "stream",
     "text": [
      "(4785, 52)\n",
      "(4785,)\n"
     ]
    }
   ],
   "source": [
    "print(features_test_rougher.shape)\n",
    "print(target_test_rougher.shape)"
   ]
  },
  {
   "cell_type": "markdown",
   "id": "f0cf5a8e",
   "metadata": {},
   "source": [
    "**Линейная регрессия на тестовой выборке**"
   ]
  },
  {
   "cell_type": "markdown",
   "id": "c2a9ed2f",
   "metadata": {},
   "source": [
    "_Для этапа флотации:_"
   ]
  },
  {
   "cell_type": "code",
   "execution_count": 51,
   "id": "4b4ec3f9",
   "metadata": {},
   "outputs": [
    {
     "name": "stdout",
     "output_type": "stream",
     "text": [
      "sMAPE для тестовых данных на этапе флотации: 2.64\n"
     ]
    }
   ],
   "source": [
    "model = LinearRegression()\n",
    "model.fit(features_test_rougher, target_test_rougher)\n",
    "predictions_test_rougher = model.predict(features_test_rougher)\n",
    "print('sMAPE для тестовых данных на этапе флотации:', round(smape(target_test_rougher, predictions_test_rougher),2))"
   ]
  },
  {
   "cell_type": "markdown",
   "id": "69ef40ef",
   "metadata": {},
   "source": [
    "_Для финального этапа:_"
   ]
  },
  {
   "cell_type": "code",
   "execution_count": 52,
   "id": "1098c402",
   "metadata": {},
   "outputs": [],
   "source": [
    "features_test_final = np.array(good_data_test_.drop(['final.output.recovery', 'rougher.output.recovery'], axis='columns'))"
   ]
  },
  {
   "cell_type": "code",
   "execution_count": 53,
   "id": "2f0c254a",
   "metadata": {},
   "outputs": [],
   "source": [
    "target_test_final = np.array(good_data_test_['final.output.recovery'])"
   ]
  },
  {
   "cell_type": "code",
   "execution_count": 54,
   "id": "26d15f88",
   "metadata": {},
   "outputs": [
    {
     "name": "stdout",
     "output_type": "stream",
     "text": [
      "(4785, 52)\n",
      "(4785,)\n"
     ]
    }
   ],
   "source": [
    "print(features_test_final.shape)\n",
    "print(target_test_final.shape)"
   ]
  },
  {
   "cell_type": "code",
   "execution_count": 55,
   "id": "988dc33d",
   "metadata": {},
   "outputs": [
    {
     "name": "stdout",
     "output_type": "stream",
     "text": [
      "sMAPE для тестовых данных на финальном этапе: 5.99\n"
     ]
    }
   ],
   "source": [
    "model = LinearRegression()\n",
    "model.fit(features_test_final, target_test_final)\n",
    "predictions_test_final = model.predict(features_test_final)\n",
    "print('sMAPE для тестовых данных на финальном этапе:', round(smape(target_test_final, predictions_test_final),2))"
   ]
  },
  {
   "cell_type": "code",
   "execution_count": 56,
   "id": "e38d09cb",
   "metadata": {},
   "outputs": [
    {
     "name": "stdout",
     "output_type": "stream",
     "text": [
      "Final sMAPE для тестовых данных: 5.15\n"
     ]
    }
   ],
   "source": [
    "print('Final sMAPE для тестовых данных:', round(final_smape(smape(target_test_rougher, predictions_test_rougher), \n",
    "                                  smape(target_test_final, predictions_test_final)),2))"
   ]
  },
  {
   "cell_type": "markdown",
   "id": "7294f3fa",
   "metadata": {},
   "source": [
    "**КОНСТАНТНАЯ  МОДЕЛЬ**"
   ]
  },
  {
   "cell_type": "code",
   "execution_count": 59,
   "id": "bf2a476b",
   "metadata": {},
   "outputs": [],
   "source": [
    "constant_model = DummyRegressor()\n",
    "constant_model_final = DummyRegressor()\n",
    "constant_model.fit(features_rougher, target_rougher)\n",
    "constant_model_final.fit(features_final,target_final)\n",
    "\n",
    "constant_model_rougher = constant_model.predict(good_data_test_)\n",
    "constant_model_final_pred = constant_model_final.predict(good_data_test_)"
   ]
  },
  {
   "cell_type": "code",
   "execution_count": 60,
   "id": "69c8932f",
   "metadata": {},
   "outputs": [
    {
     "name": "stdout",
     "output_type": "stream",
     "text": [
      "7.067329881801754\n"
     ]
    }
   ],
   "source": [
    "print(final_smape(smape(target_test_rougher, constant_model_rougher),smape(target_test_final, constant_model_final_pred)))"
   ]
  },
  {
   "cell_type": "markdown",
   "id": "db4c18e8",
   "metadata": {},
   "source": [
    "## Выводы"
   ]
  },
  {
   "cell_type": "markdown",
   "id": "0f3d0819",
   "metadata": {},
   "source": [
    "Наилучшей моделью можно назвать модель Линейную регрессию со следующими результатами на тестовой выборке: \n",
    "    \n",
    "- sMAPE для этапа флотации: 2.64\n",
    "- sMAPE для финального этапа: 5.99\n",
    "- Final sMAPE: 5.15"
   ]
  }
 ],
 "metadata": {
  "ExecuteTimeLog": [
   {
    "duration": 4439,
    "start_time": "2022-05-26T16:49:32.901Z"
   },
   {
    "duration": 3445,
    "start_time": "2022-05-26T16:49:37.342Z"
   },
   {
    "duration": 63,
    "start_time": "2022-05-26T16:49:40.789Z"
   },
   {
    "duration": 9,
    "start_time": "2022-05-26T16:49:40.854Z"
   },
   {
    "duration": 49,
    "start_time": "2022-05-26T16:49:40.870Z"
   },
   {
    "duration": 4,
    "start_time": "2022-05-26T16:49:40.921Z"
   },
   {
    "duration": 11,
    "start_time": "2022-05-26T16:49:40.927Z"
   },
   {
    "duration": 9,
    "start_time": "2022-05-26T16:49:40.940Z"
   },
   {
    "duration": 30,
    "start_time": "2022-05-26T16:49:40.951Z"
   },
   {
    "duration": 16,
    "start_time": "2022-05-26T16:49:40.983Z"
   },
   {
    "duration": 13,
    "start_time": "2022-05-26T16:49:41.000Z"
   },
   {
    "duration": 25,
    "start_time": "2022-05-26T16:49:41.015Z"
   },
   {
    "duration": 17,
    "start_time": "2022-05-26T16:49:41.041Z"
   },
   {
    "duration": 258,
    "start_time": "2022-05-26T16:49:41.060Z"
   },
   {
    "duration": 4,
    "start_time": "2022-05-26T16:49:41.320Z"
   },
   {
    "duration": 15,
    "start_time": "2022-05-26T16:49:41.326Z"
   },
   {
    "duration": 19,
    "start_time": "2022-05-26T16:49:41.343Z"
   },
   {
    "duration": 21,
    "start_time": "2022-05-26T16:49:41.364Z"
   },
   {
    "duration": 12,
    "start_time": "2022-05-26T16:49:41.387Z"
   },
   {
    "duration": 241,
    "start_time": "2022-05-26T16:49:41.401Z"
   },
   {
    "duration": 494,
    "start_time": "2022-05-26T16:49:41.643Z"
   },
   {
    "duration": 790,
    "start_time": "2022-05-26T16:49:42.152Z"
   },
   {
    "duration": 24,
    "start_time": "2022-05-26T16:49:42.943Z"
   },
   {
    "duration": 36,
    "start_time": "2022-05-26T16:49:42.970Z"
   },
   {
    "duration": 33,
    "start_time": "2022-05-26T16:49:43.007Z"
   },
   {
    "duration": 12,
    "start_time": "2022-05-26T16:49:43.041Z"
   },
   {
    "duration": 23,
    "start_time": "2022-05-26T16:49:43.059Z"
   },
   {
    "duration": 10,
    "start_time": "2022-05-26T16:49:43.086Z"
   },
   {
    "duration": 5,
    "start_time": "2022-05-26T16:49:43.098Z"
   },
   {
    "duration": 17,
    "start_time": "2022-05-26T16:50:00.128Z"
   },
   {
    "duration": 4,
    "start_time": "2022-05-26T16:51:48.917Z"
   },
   {
    "duration": 834,
    "start_time": "2022-05-26T16:51:48.928Z"
   },
   {
    "duration": 57,
    "start_time": "2022-05-26T16:51:49.764Z"
   },
   {
    "duration": 3,
    "start_time": "2022-05-26T16:51:49.823Z"
   },
   {
    "duration": 24,
    "start_time": "2022-05-26T16:51:49.828Z"
   },
   {
    "duration": 11,
    "start_time": "2022-05-26T16:51:49.859Z"
   },
   {
    "duration": 13,
    "start_time": "2022-05-26T16:51:49.872Z"
   },
   {
    "duration": 5,
    "start_time": "2022-05-26T16:51:49.887Z"
   },
   {
    "duration": 19,
    "start_time": "2022-05-26T16:51:49.894Z"
   },
   {
    "duration": 18,
    "start_time": "2022-05-26T16:51:49.915Z"
   },
   {
    "duration": 31,
    "start_time": "2022-05-26T16:51:49.936Z"
   },
   {
    "duration": 33,
    "start_time": "2022-05-26T16:51:49.969Z"
   },
   {
    "duration": 14,
    "start_time": "2022-05-26T16:51:50.004Z"
   },
   {
    "duration": 257,
    "start_time": "2022-05-26T16:51:50.019Z"
   },
   {
    "duration": 5,
    "start_time": "2022-05-26T16:51:50.278Z"
   },
   {
    "duration": 5,
    "start_time": "2022-05-26T16:51:50.285Z"
   },
   {
    "duration": 6,
    "start_time": "2022-05-26T16:51:50.292Z"
   },
   {
    "duration": 8,
    "start_time": "2022-05-26T16:51:50.300Z"
   },
   {
    "duration": 5,
    "start_time": "2022-05-26T16:51:50.310Z"
   },
   {
    "duration": 368,
    "start_time": "2022-05-26T16:51:50.317Z"
   },
   {
    "duration": 545,
    "start_time": "2022-05-26T16:51:50.686Z"
   },
   {
    "duration": 716,
    "start_time": "2022-05-26T16:51:51.233Z"
   },
   {
    "duration": 22,
    "start_time": "2022-05-26T16:51:51.952Z"
   },
   {
    "duration": 25,
    "start_time": "2022-05-26T16:51:51.975Z"
   },
   {
    "duration": 31,
    "start_time": "2022-05-26T16:51:52.002Z"
   },
   {
    "duration": 3,
    "start_time": "2022-05-26T16:51:52.035Z"
   },
   {
    "duration": 15,
    "start_time": "2022-05-26T16:51:52.053Z"
   },
   {
    "duration": 8,
    "start_time": "2022-05-26T16:52:02.550Z"
   },
   {
    "duration": 6,
    "start_time": "2022-05-26T16:52:13.749Z"
   },
   {
    "duration": 16,
    "start_time": "2022-05-26T16:57:55.477Z"
   },
   {
    "duration": 1684,
    "start_time": "2022-05-28T21:35:18.279Z"
   },
   {
    "duration": 3337,
    "start_time": "2022-05-28T21:35:19.966Z"
   },
   {
    "duration": 65,
    "start_time": "2022-05-28T21:35:23.305Z"
   },
   {
    "duration": 3,
    "start_time": "2022-05-28T21:35:23.372Z"
   },
   {
    "duration": 11,
    "start_time": "2022-05-28T21:35:23.377Z"
   },
   {
    "duration": 6,
    "start_time": "2022-05-28T21:35:23.390Z"
   },
   {
    "duration": 11,
    "start_time": "2022-05-28T21:35:23.397Z"
   },
   {
    "duration": 10,
    "start_time": "2022-05-28T21:35:23.409Z"
   },
   {
    "duration": 6,
    "start_time": "2022-05-28T21:35:23.421Z"
   },
   {
    "duration": 48,
    "start_time": "2022-05-28T21:35:23.431Z"
   },
   {
    "duration": 15,
    "start_time": "2022-05-28T21:35:23.481Z"
   },
   {
    "duration": 31,
    "start_time": "2022-05-28T21:35:23.497Z"
   },
   {
    "duration": 12,
    "start_time": "2022-05-28T21:35:23.530Z"
   },
   {
    "duration": 263,
    "start_time": "2022-05-28T21:35:23.565Z"
   },
   {
    "duration": 4,
    "start_time": "2022-05-28T21:35:23.830Z"
   },
   {
    "duration": 7,
    "start_time": "2022-05-28T21:35:23.836Z"
   },
   {
    "duration": 20,
    "start_time": "2022-05-28T21:35:23.845Z"
   },
   {
    "duration": 15,
    "start_time": "2022-05-28T21:35:23.867Z"
   },
   {
    "duration": 7,
    "start_time": "2022-05-28T21:35:23.883Z"
   },
   {
    "duration": 239,
    "start_time": "2022-05-28T21:35:23.892Z"
   },
   {
    "duration": 582,
    "start_time": "2022-05-28T21:35:24.133Z"
   },
   {
    "duration": 717,
    "start_time": "2022-05-28T21:35:24.718Z"
   },
   {
    "duration": 28,
    "start_time": "2022-05-28T21:35:25.437Z"
   },
   {
    "duration": 30,
    "start_time": "2022-05-28T21:35:25.466Z"
   },
   {
    "duration": 34,
    "start_time": "2022-05-28T21:35:25.498Z"
   },
   {
    "duration": 2,
    "start_time": "2022-05-28T21:35:25.534Z"
   },
   {
    "duration": 27,
    "start_time": "2022-05-28T21:35:25.538Z"
   },
   {
    "duration": 16,
    "start_time": "2022-05-28T21:35:25.568Z"
   },
   {
    "duration": 6,
    "start_time": "2022-05-28T21:35:25.585Z"
   },
   {
    "duration": 7,
    "start_time": "2022-05-28T21:35:25.593Z"
   },
   {
    "duration": 9,
    "start_time": "2022-05-28T21:35:25.602Z"
   },
   {
    "duration": 8,
    "start_time": "2022-05-28T21:35:25.613Z"
   },
   {
    "duration": 9,
    "start_time": "2022-05-28T21:35:25.622Z"
   },
   {
    "duration": 6,
    "start_time": "2022-05-28T21:35:25.632Z"
   },
   {
    "duration": 2231,
    "start_time": "2022-05-28T21:35:25.640Z"
   },
   {
    "duration": 92,
    "start_time": "2022-05-28T21:35:27.873Z"
   },
   {
    "duration": 5,
    "start_time": "2022-05-28T21:35:27.968Z"
   },
   {
    "duration": 2290,
    "start_time": "2022-05-28T21:35:27.975Z"
   },
   {
    "duration": 5,
    "start_time": "2022-05-28T21:35:30.267Z"
   },
   {
    "duration": 12546,
    "start_time": "2022-05-28T21:35:30.274Z"
   },
   {
    "duration": 623,
    "start_time": "2022-05-28T21:35:42.822Z"
   },
   {
    "duration": 617,
    "start_time": "2022-05-28T21:35:43.447Z"
   },
   {
    "duration": 3,
    "start_time": "2022-05-28T21:35:44.066Z"
   },
   {
    "duration": 14,
    "start_time": "2022-05-28T21:35:44.071Z"
   },
   {
    "duration": 8,
    "start_time": "2022-05-28T21:35:44.087Z"
   },
   {
    "duration": 4,
    "start_time": "2022-05-28T21:35:44.097Z"
   },
   {
    "duration": 13,
    "start_time": "2022-05-28T21:35:44.102Z"
   },
   {
    "duration": 7,
    "start_time": "2022-05-28T21:35:44.116Z"
   },
   {
    "duration": 7,
    "start_time": "2022-05-28T21:35:44.125Z"
   },
   {
    "duration": 233,
    "start_time": "2022-05-28T21:35:44.134Z"
   },
   {
    "duration": 5,
    "start_time": "2022-05-28T21:35:44.369Z"
   },
   {
    "duration": 5,
    "start_time": "2022-05-28T21:35:44.376Z"
   },
   {
    "duration": 6,
    "start_time": "2022-05-28T21:35:44.383Z"
   },
   {
    "duration": 173,
    "start_time": "2022-05-28T21:35:44.391Z"
   },
   {
    "duration": 12,
    "start_time": "2022-05-28T21:35:44.567Z"
   },
   {
    "duration": 7,
    "start_time": "2022-05-28T21:35:44.666Z"
   },
   {
    "duration": 6,
    "start_time": "2022-05-28T21:35:44.675Z"
   },
   {
    "duration": 1591,
    "start_time": "2022-05-29T07:46:50.370Z"
   },
   {
    "duration": 823,
    "start_time": "2022-05-29T07:46:51.964Z"
   },
   {
    "duration": 81,
    "start_time": "2022-05-29T07:46:52.790Z"
   },
   {
    "duration": 3,
    "start_time": "2022-05-29T07:46:52.874Z"
   },
   {
    "duration": 9,
    "start_time": "2022-05-29T07:46:52.879Z"
   },
   {
    "duration": 6,
    "start_time": "2022-05-29T07:46:52.889Z"
   },
   {
    "duration": 33,
    "start_time": "2022-05-29T07:46:52.896Z"
   },
   {
    "duration": 11,
    "start_time": "2022-05-29T07:46:52.930Z"
   },
   {
    "duration": 9,
    "start_time": "2022-05-29T07:46:52.942Z"
   },
   {
    "duration": 16,
    "start_time": "2022-05-29T07:46:52.953Z"
   },
   {
    "duration": 12,
    "start_time": "2022-05-29T07:46:52.971Z"
   },
   {
    "duration": 42,
    "start_time": "2022-05-29T07:46:52.984Z"
   },
   {
    "duration": 14,
    "start_time": "2022-05-29T07:46:53.028Z"
   },
   {
    "duration": 232,
    "start_time": "2022-05-29T07:46:53.043Z"
   },
   {
    "duration": 4,
    "start_time": "2022-05-29T07:46:53.276Z"
   },
   {
    "duration": 5,
    "start_time": "2022-05-29T07:46:53.282Z"
   },
   {
    "duration": 8,
    "start_time": "2022-05-29T07:46:53.289Z"
   },
   {
    "duration": 24,
    "start_time": "2022-05-29T07:46:53.299Z"
   },
   {
    "duration": 4,
    "start_time": "2022-05-29T07:46:53.325Z"
   },
   {
    "duration": 245,
    "start_time": "2022-05-29T07:46:53.330Z"
   },
   {
    "duration": 513,
    "start_time": "2022-05-29T07:46:53.577Z"
   },
   {
    "duration": 685,
    "start_time": "2022-05-29T07:46:54.092Z"
   },
   {
    "duration": 15,
    "start_time": "2022-05-29T07:46:54.779Z"
   },
   {
    "duration": 38,
    "start_time": "2022-05-29T07:46:54.795Z"
   },
   {
    "duration": 41,
    "start_time": "2022-05-29T07:46:54.835Z"
   },
   {
    "duration": 3,
    "start_time": "2022-05-29T07:46:54.877Z"
   },
   {
    "duration": 18,
    "start_time": "2022-05-29T07:46:54.881Z"
   },
   {
    "duration": 18,
    "start_time": "2022-05-29T07:46:54.901Z"
   },
   {
    "duration": 5,
    "start_time": "2022-05-29T07:46:54.922Z"
   },
   {
    "duration": 7,
    "start_time": "2022-05-29T07:46:54.928Z"
   },
   {
    "duration": 11,
    "start_time": "2022-05-29T07:46:54.937Z"
   },
   {
    "duration": 20,
    "start_time": "2022-05-29T07:46:54.949Z"
   },
   {
    "duration": 14,
    "start_time": "2022-05-29T07:46:54.971Z"
   },
   {
    "duration": 4,
    "start_time": "2022-05-29T08:02:28.865Z"
   },
   {
    "duration": 3237,
    "start_time": "2022-05-29T08:02:28.877Z"
   },
   {
    "duration": 67,
    "start_time": "2022-05-29T08:02:32.116Z"
   },
   {
    "duration": 3,
    "start_time": "2022-05-29T08:02:32.185Z"
   },
   {
    "duration": 11,
    "start_time": "2022-05-29T08:02:32.191Z"
   },
   {
    "duration": 37,
    "start_time": "2022-05-29T08:02:32.203Z"
   },
   {
    "duration": 17,
    "start_time": "2022-05-29T08:02:32.242Z"
   },
   {
    "duration": 10,
    "start_time": "2022-05-29T08:02:32.261Z"
   },
   {
    "duration": 7,
    "start_time": "2022-05-29T08:02:32.272Z"
   },
   {
    "duration": 17,
    "start_time": "2022-05-29T08:02:32.281Z"
   },
   {
    "duration": 32,
    "start_time": "2022-05-29T08:02:32.302Z"
   },
   {
    "duration": 26,
    "start_time": "2022-05-29T08:02:32.338Z"
   },
   {
    "duration": 14,
    "start_time": "2022-05-29T08:02:32.366Z"
   },
   {
    "duration": 313,
    "start_time": "2022-05-29T08:02:32.382Z"
   },
   {
    "duration": 7,
    "start_time": "2022-05-29T08:02:32.697Z"
   },
   {
    "duration": 47,
    "start_time": "2022-05-29T08:02:32.705Z"
   },
   {
    "duration": 8,
    "start_time": "2022-05-29T08:02:32.754Z"
   },
   {
    "duration": 28,
    "start_time": "2022-05-29T08:02:32.763Z"
   },
   {
    "duration": 15,
    "start_time": "2022-05-29T08:02:32.794Z"
   },
   {
    "duration": 442,
    "start_time": "2022-05-29T08:02:32.811Z"
   },
   {
    "duration": 543,
    "start_time": "2022-05-29T08:02:33.256Z"
   },
   {
    "duration": 721,
    "start_time": "2022-05-29T08:02:33.801Z"
   },
   {
    "duration": 21,
    "start_time": "2022-05-29T08:02:34.538Z"
   },
   {
    "duration": 35,
    "start_time": "2022-05-29T08:02:34.561Z"
   },
   {
    "duration": 49,
    "start_time": "2022-05-29T08:02:34.598Z"
   },
   {
    "duration": 3,
    "start_time": "2022-05-29T08:02:34.648Z"
   },
   {
    "duration": 9,
    "start_time": "2022-05-29T08:02:34.653Z"
   },
   {
    "duration": 16,
    "start_time": "2022-05-29T08:02:34.663Z"
   },
   {
    "duration": 5,
    "start_time": "2022-05-29T08:02:34.683Z"
   },
   {
    "duration": 5,
    "start_time": "2022-05-29T08:02:34.690Z"
   },
   {
    "duration": 8,
    "start_time": "2022-05-29T08:02:34.696Z"
   },
   {
    "duration": 36,
    "start_time": "2022-05-29T08:02:34.706Z"
   },
   {
    "duration": 4,
    "start_time": "2022-05-29T08:02:34.744Z"
   },
   {
    "duration": 9,
    "start_time": "2022-05-29T08:02:34.750Z"
   },
   {
    "duration": 6,
    "start_time": "2022-05-29T08:02:47.281Z"
   },
   {
    "duration": 3,
    "start_time": "2022-05-29T08:02:48.346Z"
   },
   {
    "duration": 10,
    "start_time": "2022-05-29T08:03:04.343Z"
   },
   {
    "duration": 8,
    "start_time": "2022-05-29T08:03:05.211Z"
   },
   {
    "duration": 4,
    "start_time": "2022-05-29T08:03:06.740Z"
   },
   {
    "duration": 5,
    "start_time": "2022-05-29T08:03:15.413Z"
   },
   {
    "duration": 3,
    "start_time": "2022-05-29T08:03:16.144Z"
   },
   {
    "duration": 4,
    "start_time": "2022-05-29T08:03:16.836Z"
   },
   {
    "duration": 5,
    "start_time": "2022-05-29T08:03:46.112Z"
   },
   {
    "duration": 3,
    "start_time": "2022-05-29T08:03:46.692Z"
   },
   {
    "duration": 4,
    "start_time": "2022-05-29T08:03:47.356Z"
   },
   {
    "duration": 6,
    "start_time": "2022-05-29T08:03:56.254Z"
   },
   {
    "duration": 6,
    "start_time": "2022-05-29T08:04:06.239Z"
   },
   {
    "duration": 7,
    "start_time": "2022-05-29T08:04:42.827Z"
   },
   {
    "duration": 7,
    "start_time": "2022-05-29T08:05:04.837Z"
   },
   {
    "duration": 1494,
    "start_time": "2022-05-29T08:45:16.807Z"
   },
   {
    "duration": 1940,
    "start_time": "2022-05-29T08:45:18.302Z"
   },
   {
    "duration": 62,
    "start_time": "2022-05-29T08:45:20.244Z"
   },
   {
    "duration": 3,
    "start_time": "2022-05-29T08:45:20.307Z"
   },
   {
    "duration": 9,
    "start_time": "2022-05-29T08:45:20.311Z"
   },
   {
    "duration": 22,
    "start_time": "2022-05-29T08:45:20.322Z"
   },
   {
    "duration": 11,
    "start_time": "2022-05-29T08:45:20.346Z"
   },
   {
    "duration": 8,
    "start_time": "2022-05-29T08:45:20.359Z"
   },
   {
    "duration": 7,
    "start_time": "2022-05-29T08:45:20.369Z"
   },
   {
    "duration": 19,
    "start_time": "2022-05-29T08:45:20.380Z"
   },
   {
    "duration": 42,
    "start_time": "2022-05-29T08:45:20.401Z"
   },
   {
    "duration": 24,
    "start_time": "2022-05-29T08:45:20.445Z"
   },
   {
    "duration": 13,
    "start_time": "2022-05-29T08:45:20.472Z"
   },
   {
    "duration": 244,
    "start_time": "2022-05-29T08:45:20.487Z"
   },
   {
    "duration": 10,
    "start_time": "2022-05-29T08:45:20.733Z"
   },
   {
    "duration": 5,
    "start_time": "2022-05-29T08:45:20.744Z"
   },
   {
    "duration": 5,
    "start_time": "2022-05-29T08:45:20.750Z"
   },
   {
    "duration": 5,
    "start_time": "2022-05-29T08:45:20.756Z"
   },
   {
    "duration": 4,
    "start_time": "2022-05-29T08:45:20.762Z"
   },
   {
    "duration": 242,
    "start_time": "2022-05-29T08:45:20.767Z"
   },
   {
    "duration": 504,
    "start_time": "2022-05-29T08:45:21.010Z"
   },
   {
    "duration": 677,
    "start_time": "2022-05-29T08:45:21.516Z"
   },
   {
    "duration": 14,
    "start_time": "2022-05-29T08:45:22.195Z"
   },
   {
    "duration": 34,
    "start_time": "2022-05-29T08:45:22.211Z"
   },
   {
    "duration": 32,
    "start_time": "2022-05-29T08:45:22.247Z"
   },
   {
    "duration": 3,
    "start_time": "2022-05-29T08:45:22.280Z"
   },
   {
    "duration": 7,
    "start_time": "2022-05-29T08:45:22.285Z"
   },
   {
    "duration": 13,
    "start_time": "2022-05-29T08:45:22.295Z"
   },
   {
    "duration": 5,
    "start_time": "2022-05-29T08:45:22.309Z"
   },
   {
    "duration": 3,
    "start_time": "2022-05-29T08:45:22.341Z"
   },
   {
    "duration": 117,
    "start_time": "2022-05-29T08:45:22.345Z"
   },
   {
    "duration": 0,
    "start_time": "2022-05-29T08:45:22.464Z"
   },
   {
    "duration": 0,
    "start_time": "2022-05-29T08:45:22.465Z"
   },
   {
    "duration": 0,
    "start_time": "2022-05-29T08:45:22.466Z"
   },
   {
    "duration": 0,
    "start_time": "2022-05-29T08:45:22.467Z"
   },
   {
    "duration": 0,
    "start_time": "2022-05-29T08:45:22.469Z"
   },
   {
    "duration": 0,
    "start_time": "2022-05-29T08:45:22.470Z"
   },
   {
    "duration": 0,
    "start_time": "2022-05-29T08:45:22.471Z"
   },
   {
    "duration": 0,
    "start_time": "2022-05-29T08:45:22.472Z"
   },
   {
    "duration": 0,
    "start_time": "2022-05-29T08:45:22.473Z"
   },
   {
    "duration": 0,
    "start_time": "2022-05-29T08:45:22.474Z"
   },
   {
    "duration": 0,
    "start_time": "2022-05-29T08:45:22.475Z"
   },
   {
    "duration": 0,
    "start_time": "2022-05-29T08:45:22.476Z"
   },
   {
    "duration": 0,
    "start_time": "2022-05-29T08:45:22.477Z"
   },
   {
    "duration": 0,
    "start_time": "2022-05-29T08:45:22.478Z"
   },
   {
    "duration": 0,
    "start_time": "2022-05-29T08:45:22.479Z"
   },
   {
    "duration": 0,
    "start_time": "2022-05-29T08:45:22.480Z"
   },
   {
    "duration": 1,
    "start_time": "2022-05-29T08:45:22.480Z"
   },
   {
    "duration": 0,
    "start_time": "2022-05-29T08:45:22.482Z"
   },
   {
    "duration": 0,
    "start_time": "2022-05-29T08:45:22.482Z"
   },
   {
    "duration": 0,
    "start_time": "2022-05-29T08:45:22.483Z"
   },
   {
    "duration": 0,
    "start_time": "2022-05-29T08:45:22.485Z"
   },
   {
    "duration": 0,
    "start_time": "2022-05-29T08:45:22.485Z"
   },
   {
    "duration": 0,
    "start_time": "2022-05-29T08:45:22.487Z"
   },
   {
    "duration": 0,
    "start_time": "2022-05-29T08:45:22.488Z"
   },
   {
    "duration": 0,
    "start_time": "2022-05-29T08:45:22.489Z"
   },
   {
    "duration": 0,
    "start_time": "2022-05-29T08:45:22.490Z"
   },
   {
    "duration": 10,
    "start_time": "2022-05-29T08:47:59.926Z"
   },
   {
    "duration": 3,
    "start_time": "2022-05-29T08:48:44.594Z"
   },
   {
    "duration": 10,
    "start_time": "2022-05-29T08:48:48.855Z"
   },
   {
    "duration": 8,
    "start_time": "2022-05-29T08:48:55.328Z"
   },
   {
    "duration": 9,
    "start_time": "2022-05-29T08:52:37.229Z"
   },
   {
    "duration": 1400,
    "start_time": "2022-05-29T08:52:46.645Z"
   },
   {
    "duration": 655,
    "start_time": "2022-05-29T08:52:48.047Z"
   },
   {
    "duration": 82,
    "start_time": "2022-05-29T08:52:48.704Z"
   },
   {
    "duration": 4,
    "start_time": "2022-05-29T08:52:48.788Z"
   },
   {
    "duration": 12,
    "start_time": "2022-05-29T08:52:48.794Z"
   },
   {
    "duration": 23,
    "start_time": "2022-05-29T08:52:48.808Z"
   },
   {
    "duration": 19,
    "start_time": "2022-05-29T08:52:48.833Z"
   },
   {
    "duration": 8,
    "start_time": "2022-05-29T08:52:48.855Z"
   },
   {
    "duration": 8,
    "start_time": "2022-05-29T08:52:48.865Z"
   },
   {
    "duration": 15,
    "start_time": "2022-05-29T08:52:48.875Z"
   },
   {
    "duration": 13,
    "start_time": "2022-05-29T08:52:48.891Z"
   },
   {
    "duration": 53,
    "start_time": "2022-05-29T08:52:48.906Z"
   },
   {
    "duration": 15,
    "start_time": "2022-05-29T08:52:48.962Z"
   },
   {
    "duration": 278,
    "start_time": "2022-05-29T08:52:48.979Z"
   },
   {
    "duration": 5,
    "start_time": "2022-05-29T08:52:49.260Z"
   },
   {
    "duration": 5,
    "start_time": "2022-05-29T08:52:49.267Z"
   },
   {
    "duration": 7,
    "start_time": "2022-05-29T08:52:49.274Z"
   },
   {
    "duration": 5,
    "start_time": "2022-05-29T08:52:49.282Z"
   },
   {
    "duration": 5,
    "start_time": "2022-05-29T08:52:49.289Z"
   },
   {
    "duration": 261,
    "start_time": "2022-05-29T08:52:49.296Z"
   },
   {
    "duration": 720,
    "start_time": "2022-05-29T08:52:49.559Z"
   },
   {
    "duration": 1484,
    "start_time": "2022-05-29T08:52:50.281Z"
   },
   {
    "duration": 14,
    "start_time": "2022-05-29T08:52:51.767Z"
   },
   {
    "duration": 26,
    "start_time": "2022-05-29T08:52:51.783Z"
   },
   {
    "duration": 54,
    "start_time": "2022-05-29T08:52:51.811Z"
   },
   {
    "duration": 3,
    "start_time": "2022-05-29T08:52:51.867Z"
   },
   {
    "duration": 5,
    "start_time": "2022-05-29T08:52:51.871Z"
   },
   {
    "duration": 16,
    "start_time": "2022-05-29T08:52:51.879Z"
   },
   {
    "duration": 5,
    "start_time": "2022-05-29T08:52:51.897Z"
   },
   {
    "duration": 5,
    "start_time": "2022-05-29T08:52:51.903Z"
   },
   {
    "duration": 136,
    "start_time": "2022-05-29T08:52:51.909Z"
   },
   {
    "duration": 0,
    "start_time": "2022-05-29T08:52:52.047Z"
   },
   {
    "duration": 0,
    "start_time": "2022-05-29T08:52:52.048Z"
   },
   {
    "duration": 0,
    "start_time": "2022-05-29T08:52:52.049Z"
   },
   {
    "duration": 0,
    "start_time": "2022-05-29T08:52:52.050Z"
   },
   {
    "duration": 0,
    "start_time": "2022-05-29T08:52:52.052Z"
   },
   {
    "duration": 0,
    "start_time": "2022-05-29T08:52:52.053Z"
   },
   {
    "duration": 0,
    "start_time": "2022-05-29T08:52:52.054Z"
   },
   {
    "duration": 0,
    "start_time": "2022-05-29T08:52:52.055Z"
   },
   {
    "duration": 0,
    "start_time": "2022-05-29T08:52:52.056Z"
   },
   {
    "duration": 0,
    "start_time": "2022-05-29T08:52:52.057Z"
   },
   {
    "duration": 0,
    "start_time": "2022-05-29T08:52:52.058Z"
   },
   {
    "duration": 0,
    "start_time": "2022-05-29T08:52:52.059Z"
   },
   {
    "duration": 0,
    "start_time": "2022-05-29T08:52:52.060Z"
   },
   {
    "duration": 0,
    "start_time": "2022-05-29T08:52:52.061Z"
   },
   {
    "duration": 0,
    "start_time": "2022-05-29T08:52:52.062Z"
   },
   {
    "duration": 0,
    "start_time": "2022-05-29T08:52:52.063Z"
   },
   {
    "duration": 0,
    "start_time": "2022-05-29T08:52:52.064Z"
   },
   {
    "duration": 0,
    "start_time": "2022-05-29T08:52:52.065Z"
   },
   {
    "duration": 0,
    "start_time": "2022-05-29T08:52:52.066Z"
   },
   {
    "duration": 0,
    "start_time": "2022-05-29T08:52:52.067Z"
   },
   {
    "duration": 0,
    "start_time": "2022-05-29T08:52:52.068Z"
   },
   {
    "duration": 0,
    "start_time": "2022-05-29T08:52:52.070Z"
   },
   {
    "duration": 0,
    "start_time": "2022-05-29T08:52:52.071Z"
   },
   {
    "duration": 0,
    "start_time": "2022-05-29T08:52:52.072Z"
   },
   {
    "duration": 0,
    "start_time": "2022-05-29T08:52:52.073Z"
   },
   {
    "duration": 0,
    "start_time": "2022-05-29T08:52:52.075Z"
   },
   {
    "duration": 14,
    "start_time": "2022-05-29T08:53:10.941Z"
   },
   {
    "duration": 5,
    "start_time": "2022-05-29T08:53:14.176Z"
   },
   {
    "duration": 4,
    "start_time": "2022-05-29T08:53:37.851Z"
   },
   {
    "duration": 8,
    "start_time": "2022-05-29T08:53:39.893Z"
   },
   {
    "duration": 12,
    "start_time": "2022-05-29T09:24:23.322Z"
   },
   {
    "duration": 11,
    "start_time": "2022-05-29T09:24:30.083Z"
   },
   {
    "duration": 9,
    "start_time": "2022-05-29T09:24:30.913Z"
   },
   {
    "duration": 4,
    "start_time": "2022-05-29T09:24:32.120Z"
   },
   {
    "duration": 6,
    "start_time": "2022-05-29T09:24:34.817Z"
   },
   {
    "duration": 3,
    "start_time": "2022-05-29T09:24:35.492Z"
   },
   {
    "duration": 4,
    "start_time": "2022-05-29T09:24:36.013Z"
   },
   {
    "duration": 11,
    "start_time": "2022-05-29T09:26:04.163Z"
   },
   {
    "duration": 448,
    "start_time": "2022-05-29T09:26:05.763Z"
   },
   {
    "duration": 534,
    "start_time": "2022-05-29T09:26:28.831Z"
   },
   {
    "duration": 14,
    "start_time": "2022-05-29T09:26:47.079Z"
   },
   {
    "duration": 17,
    "start_time": "2022-05-29T09:26:50.673Z"
   },
   {
    "duration": 5,
    "start_time": "2022-05-29T09:26:56.049Z"
   },
   {
    "duration": 8,
    "start_time": "2022-05-29T09:26:58.061Z"
   },
   {
    "duration": 3,
    "start_time": "2022-05-29T09:26:59.190Z"
   },
   {
    "duration": 4,
    "start_time": "2022-05-29T09:26:59.865Z"
   },
   {
    "duration": 9,
    "start_time": "2022-05-29T09:36:44.026Z"
   },
   {
    "duration": 8,
    "start_time": "2022-05-29T09:36:50.080Z"
   },
   {
    "duration": 2,
    "start_time": "2022-05-29T09:36:51.378Z"
   },
   {
    "duration": 4,
    "start_time": "2022-05-29T09:36:52.440Z"
   },
   {
    "duration": 6,
    "start_time": "2022-05-29T09:38:09.041Z"
   },
   {
    "duration": 3,
    "start_time": "2022-05-29T09:38:10.488Z"
   },
   {
    "duration": 4,
    "start_time": "2022-05-29T09:38:11.533Z"
   },
   {
    "duration": 1282,
    "start_time": "2022-05-29T09:38:23.868Z"
   },
   {
    "duration": 5,
    "start_time": "2022-05-29T09:38:58.261Z"
   },
   {
    "duration": 2,
    "start_time": "2022-05-29T09:38:59.714Z"
   },
   {
    "duration": 1204,
    "start_time": "2022-05-29T09:39:01.838Z"
   },
   {
    "duration": 3,
    "start_time": "2022-05-29T09:39:04.245Z"
   },
   {
    "duration": 3,
    "start_time": "2022-05-29T09:39:36.230Z"
   },
   {
    "duration": 1417,
    "start_time": "2022-05-29T09:39:52.125Z"
   },
   {
    "duration": 4,
    "start_time": "2022-05-29T09:39:54.433Z"
   },
   {
    "duration": 11,
    "start_time": "2022-05-29T09:40:24.594Z"
   },
   {
    "duration": 5,
    "start_time": "2022-05-29T09:40:32.036Z"
   },
   {
    "duration": 7056,
    "start_time": "2022-05-29T09:40:36.119Z"
   },
   {
    "duration": 7976,
    "start_time": "2022-05-29T09:41:03.687Z"
   },
   {
    "duration": 354,
    "start_time": "2022-05-29T09:41:14.329Z"
   },
   {
    "duration": 352,
    "start_time": "2022-05-29T09:41:18.322Z"
   },
   {
    "duration": 4,
    "start_time": "2022-05-29T09:41:21.819Z"
   },
   {
    "duration": 10,
    "start_time": "2022-05-29T09:42:50.944Z"
   },
   {
    "duration": 548,
    "start_time": "2022-05-29T09:42:52.085Z"
   },
   {
    "duration": 1351,
    "start_time": "2022-05-29T09:43:40.937Z"
   },
   {
    "duration": 650,
    "start_time": "2022-05-29T09:43:42.290Z"
   },
   {
    "duration": 63,
    "start_time": "2022-05-29T09:43:42.942Z"
   },
   {
    "duration": 3,
    "start_time": "2022-05-29T09:43:43.007Z"
   },
   {
    "duration": 29,
    "start_time": "2022-05-29T09:43:43.012Z"
   },
   {
    "duration": 6,
    "start_time": "2022-05-29T09:43:43.043Z"
   },
   {
    "duration": 11,
    "start_time": "2022-05-29T09:43:43.051Z"
   },
   {
    "duration": 8,
    "start_time": "2022-05-29T09:43:43.064Z"
   },
   {
    "duration": 6,
    "start_time": "2022-05-29T09:43:43.073Z"
   },
   {
    "duration": 20,
    "start_time": "2022-05-29T09:43:43.082Z"
   },
   {
    "duration": 51,
    "start_time": "2022-05-29T09:43:43.104Z"
   },
   {
    "duration": 27,
    "start_time": "2022-05-29T09:43:43.157Z"
   },
   {
    "duration": 15,
    "start_time": "2022-05-29T09:43:43.185Z"
   },
   {
    "duration": 256,
    "start_time": "2022-05-29T09:43:43.201Z"
   },
   {
    "duration": 6,
    "start_time": "2022-05-29T09:43:43.459Z"
   },
   {
    "duration": 6,
    "start_time": "2022-05-29T09:43:43.467Z"
   },
   {
    "duration": 5,
    "start_time": "2022-05-29T09:43:43.475Z"
   },
   {
    "duration": 8,
    "start_time": "2022-05-29T09:43:43.481Z"
   },
   {
    "duration": 6,
    "start_time": "2022-05-29T09:43:43.491Z"
   },
   {
    "duration": 259,
    "start_time": "2022-05-29T09:43:43.499Z"
   },
   {
    "duration": 531,
    "start_time": "2022-05-29T09:43:43.760Z"
   },
   {
    "duration": 691,
    "start_time": "2022-05-29T09:43:44.293Z"
   },
   {
    "duration": 20,
    "start_time": "2022-05-29T09:43:44.985Z"
   },
   {
    "duration": 41,
    "start_time": "2022-05-29T09:43:45.007Z"
   },
   {
    "duration": 33,
    "start_time": "2022-05-29T09:43:45.050Z"
   },
   {
    "duration": 6,
    "start_time": "2022-05-29T09:43:45.085Z"
   },
   {
    "duration": 9,
    "start_time": "2022-05-29T09:43:45.093Z"
   },
   {
    "duration": 16,
    "start_time": "2022-05-29T09:43:45.106Z"
   },
   {
    "duration": 20,
    "start_time": "2022-05-29T09:43:45.124Z"
   },
   {
    "duration": 8,
    "start_time": "2022-05-29T09:43:45.146Z"
   },
   {
    "duration": 9,
    "start_time": "2022-05-29T09:43:45.156Z"
   },
   {
    "duration": 6,
    "start_time": "2022-05-29T09:43:45.167Z"
   },
   {
    "duration": 8,
    "start_time": "2022-05-29T09:43:45.175Z"
   },
   {
    "duration": 6,
    "start_time": "2022-05-29T09:43:45.184Z"
   },
   {
    "duration": 1357,
    "start_time": "2022-05-29T09:43:45.192Z"
   },
   {
    "duration": 6,
    "start_time": "2022-05-29T09:43:46.551Z"
   },
   {
    "duration": 91,
    "start_time": "2022-05-29T09:43:46.558Z"
   },
   {
    "duration": 7,
    "start_time": "2022-05-29T09:43:46.650Z"
   },
   {
    "duration": 1883,
    "start_time": "2022-05-29T09:43:46.659Z"
   },
   {
    "duration": 97,
    "start_time": "2022-05-29T09:43:48.544Z"
   },
   {
    "duration": 8895,
    "start_time": "2022-05-29T09:43:48.643Z"
   },
   {
    "duration": 373,
    "start_time": "2022-05-29T09:43:57.539Z"
   },
   {
    "duration": 365,
    "start_time": "2022-05-29T09:43:57.914Z"
   },
   {
    "duration": 4,
    "start_time": "2022-05-29T09:43:58.281Z"
   },
   {
    "duration": 12,
    "start_time": "2022-05-29T09:43:58.286Z"
   },
   {
    "duration": 7,
    "start_time": "2022-05-29T09:43:58.300Z"
   },
   {
    "duration": 4,
    "start_time": "2022-05-29T09:43:58.309Z"
   },
   {
    "duration": 27,
    "start_time": "2022-05-29T09:43:58.315Z"
   },
   {
    "duration": 6,
    "start_time": "2022-05-29T09:43:58.343Z"
   },
   {
    "duration": 4,
    "start_time": "2022-05-29T09:43:58.353Z"
   },
   {
    "duration": 182,
    "start_time": "2022-05-29T09:43:58.359Z"
   },
   {
    "duration": 6,
    "start_time": "2022-05-29T09:43:58.544Z"
   },
   {
    "duration": 92,
    "start_time": "2022-05-29T09:43:58.552Z"
   },
   {
    "duration": 7,
    "start_time": "2022-05-29T09:43:58.645Z"
   },
   {
    "duration": 189,
    "start_time": "2022-05-29T09:43:58.654Z"
   },
   {
    "duration": 7,
    "start_time": "2022-05-29T09:43:58.846Z"
   },
   {
    "duration": 88,
    "start_time": "2022-05-29T09:43:58.856Z"
   },
   {
    "duration": 7,
    "start_time": "2022-05-29T09:43:58.946Z"
   },
   {
    "duration": 5,
    "start_time": "2022-05-29T09:46:24.476Z"
   },
   {
    "duration": 3,
    "start_time": "2022-05-29T09:46:25.491Z"
   },
   {
    "duration": 3,
    "start_time": "2022-05-29T09:46:26.243Z"
   },
   {
    "duration": 165,
    "start_time": "2022-05-29T09:46:45.777Z"
   },
   {
    "duration": 5,
    "start_time": "2022-05-29T09:47:07.183Z"
   },
   {
    "duration": 5,
    "start_time": "2022-05-29T09:47:12.910Z"
   },
   {
    "duration": 4,
    "start_time": "2022-05-29T09:47:14.882Z"
   },
   {
    "duration": 3,
    "start_time": "2022-05-29T09:47:15.896Z"
   },
   {
    "duration": 84,
    "start_time": "2022-05-29T09:47:18.864Z"
   },
   {
    "duration": 7,
    "start_time": "2022-05-29T09:47:19.891Z"
   },
   {
    "duration": 5,
    "start_time": "2022-05-29T09:47:24.464Z"
   },
   {
    "duration": 6,
    "start_time": "2022-05-29T09:47:25.369Z"
   },
   {
    "duration": 123,
    "start_time": "2022-05-29T09:58:50.966Z"
   },
   {
    "duration": 12168,
    "start_time": "2022-05-29T09:59:01.607Z"
   },
   {
    "duration": 12392,
    "start_time": "2022-05-29T09:59:25.194Z"
   },
   {
    "duration": 47716,
    "start_time": "2022-05-29T09:59:44.967Z"
   },
   {
    "duration": 49059,
    "start_time": "2022-05-29T10:03:10.733Z"
   },
   {
    "duration": 12714,
    "start_time": "2022-05-29T10:09:21.364Z"
   },
   {
    "duration": 45716,
    "start_time": "2022-05-29T10:10:00.494Z"
   },
   {
    "duration": 0,
    "start_time": "2022-05-29T10:16:18.120Z"
   },
   {
    "duration": 0,
    "start_time": "2022-05-29T10:16:18.122Z"
   },
   {
    "duration": 6,
    "start_time": "2022-05-29T10:16:30.977Z"
   },
   {
    "duration": 10,
    "start_time": "2022-05-29T10:16:33.381Z"
   },
   {
    "duration": 39046,
    "start_time": "2022-05-29T10:16:36.472Z"
   },
   {
    "duration": 36874,
    "start_time": "2022-05-29T10:18:28.409Z"
   },
   {
    "duration": 6,
    "start_time": "2022-05-29T10:19:18.893Z"
   },
   {
    "duration": 429,
    "start_time": "2022-05-29T10:39:01.220Z"
   },
   {
    "duration": 385,
    "start_time": "2022-05-29T10:39:24.009Z"
   },
   {
    "duration": 52486,
    "start_time": "2022-05-29T10:41:15.725Z"
   },
   {
    "duration": 37,
    "start_time": "2022-05-29T10:46:03.635Z"
   },
   {
    "duration": 892,
    "start_time": "2022-05-29T10:48:13.223Z"
   },
   {
    "duration": 909,
    "start_time": "2022-05-29T10:48:16.394Z"
   },
   {
    "duration": 3,
    "start_time": "2022-05-29T10:48:21.291Z"
   },
   {
    "duration": 988,
    "start_time": "2022-05-29T10:48:43.679Z"
   },
   {
    "duration": 1063,
    "start_time": "2022-05-29T10:48:46.702Z"
   },
   {
    "duration": 5,
    "start_time": "2022-05-29T10:48:51.817Z"
   },
   {
    "duration": 82,
    "start_time": "2022-05-29T10:51:03.889Z"
   },
   {
    "duration": 1747,
    "start_time": "2022-05-29T10:53:12.969Z"
   },
   {
    "duration": 970,
    "start_time": "2022-05-29T10:53:14.718Z"
   },
   {
    "duration": 100,
    "start_time": "2022-05-29T10:53:15.692Z"
   },
   {
    "duration": 6,
    "start_time": "2022-05-29T10:53:15.794Z"
   },
   {
    "duration": 10,
    "start_time": "2022-05-29T10:53:15.802Z"
   },
   {
    "duration": 8,
    "start_time": "2022-05-29T10:53:15.814Z"
   },
   {
    "duration": 30,
    "start_time": "2022-05-29T10:53:15.825Z"
   },
   {
    "duration": 38,
    "start_time": "2022-05-29T10:53:15.858Z"
   },
   {
    "duration": 7,
    "start_time": "2022-05-29T10:53:15.898Z"
   },
   {
    "duration": 24,
    "start_time": "2022-05-29T10:53:15.909Z"
   },
   {
    "duration": 21,
    "start_time": "2022-05-29T10:53:15.935Z"
   },
   {
    "duration": 52,
    "start_time": "2022-05-29T10:53:15.960Z"
   },
   {
    "duration": 17,
    "start_time": "2022-05-29T10:53:16.015Z"
   },
   {
    "duration": 344,
    "start_time": "2022-05-29T10:53:16.034Z"
   },
   {
    "duration": 6,
    "start_time": "2022-05-29T10:53:16.380Z"
   },
   {
    "duration": 12,
    "start_time": "2022-05-29T10:53:16.389Z"
   },
   {
    "duration": 6,
    "start_time": "2022-05-29T10:53:16.404Z"
   },
   {
    "duration": 10,
    "start_time": "2022-05-29T10:53:16.412Z"
   },
   {
    "duration": 5,
    "start_time": "2022-05-29T10:53:16.443Z"
   },
   {
    "duration": 321,
    "start_time": "2022-05-29T10:53:16.453Z"
   },
   {
    "duration": 612,
    "start_time": "2022-05-29T10:53:16.788Z"
   },
   {
    "duration": 1191,
    "start_time": "2022-05-29T10:53:17.402Z"
   },
   {
    "duration": 29,
    "start_time": "2022-05-29T10:53:18.595Z"
   },
   {
    "duration": 59,
    "start_time": "2022-05-29T10:53:18.627Z"
   },
   {
    "duration": 68,
    "start_time": "2022-05-29T10:53:18.690Z"
   },
   {
    "duration": 7,
    "start_time": "2022-05-29T10:53:18.761Z"
   },
   {
    "duration": 30,
    "start_time": "2022-05-29T10:53:18.770Z"
   },
   {
    "duration": 21,
    "start_time": "2022-05-29T10:53:18.806Z"
   },
   {
    "duration": 7,
    "start_time": "2022-05-29T10:53:18.830Z"
   },
   {
    "duration": 52,
    "start_time": "2022-05-29T10:53:18.840Z"
   },
   {
    "duration": 18,
    "start_time": "2022-05-29T10:53:18.894Z"
   },
   {
    "duration": 22,
    "start_time": "2022-05-29T10:53:18.915Z"
   },
   {
    "duration": 60,
    "start_time": "2022-05-29T10:53:18.940Z"
   },
   {
    "duration": 15,
    "start_time": "2022-05-29T10:53:19.005Z"
   },
   {
    "duration": 2581,
    "start_time": "2022-05-29T10:53:19.023Z"
   },
   {
    "duration": 9,
    "start_time": "2022-05-29T10:53:21.644Z"
   },
   {
    "duration": 97,
    "start_time": "2022-05-29T10:53:21.656Z"
   },
   {
    "duration": 60,
    "start_time": "2022-05-29T10:53:21.765Z"
   },
   {
    "duration": 2016,
    "start_time": "2022-05-29T10:53:21.830Z"
   },
   {
    "duration": 17,
    "start_time": "2022-05-29T10:53:23.849Z"
   },
   {
    "duration": 10732,
    "start_time": "2022-05-29T10:53:23.869Z"
   },
   {
    "duration": 1323,
    "start_time": "2022-05-29T10:53:34.604Z"
   },
   {
    "duration": 1317,
    "start_time": "2022-05-29T10:53:35.929Z"
   },
   {
    "duration": 5,
    "start_time": "2022-05-29T10:53:37.248Z"
   },
   {
    "duration": 57393,
    "start_time": "2022-05-29T10:53:37.255Z"
   },
   {
    "duration": 54895,
    "start_time": "2022-05-29T10:54:34.655Z"
   },
   {
    "duration": 22,
    "start_time": "2022-05-29T10:55:29.556Z"
   },
   {
    "duration": 15,
    "start_time": "2022-05-29T10:55:29.580Z"
   },
   {
    "duration": 5,
    "start_time": "2022-05-29T10:55:29.598Z"
   },
   {
    "duration": 12,
    "start_time": "2022-05-29T10:55:29.605Z"
   },
   {
    "duration": 8,
    "start_time": "2022-05-29T10:55:29.620Z"
   },
   {
    "duration": 4,
    "start_time": "2022-05-29T10:55:29.632Z"
   },
   {
    "duration": 799,
    "start_time": "2022-05-29T10:55:29.641Z"
   },
   {
    "duration": 11,
    "start_time": "2022-05-29T10:55:30.444Z"
   },
   {
    "duration": 35,
    "start_time": "2022-05-29T10:55:30.461Z"
   },
   {
    "duration": 86,
    "start_time": "2022-05-29T10:55:30.499Z"
   },
   {
    "duration": 658,
    "start_time": "2022-05-29T10:55:30.588Z"
   },
   {
    "duration": 20,
    "start_time": "2022-05-29T10:55:31.258Z"
   },
   {
    "duration": 46453,
    "start_time": "2022-05-29T10:55:31.282Z"
   },
   {
    "duration": 7,
    "start_time": "2022-05-29T10:56:17.741Z"
   },
   {
    "duration": 19,
    "start_time": "2022-05-29T10:56:17.751Z"
   },
   {
    "duration": 64,
    "start_time": "2022-05-29T10:56:17.773Z"
   },
   {
    "duration": 535677,
    "start_time": "2022-05-29T11:07:27.375Z"
   },
   {
    "duration": 61,
    "start_time": "2022-05-29T16:25:22.376Z"
   },
   {
    "duration": 1737,
    "start_time": "2022-05-29T16:25:28.157Z"
   },
   {
    "duration": 2249,
    "start_time": "2022-05-29T16:25:29.896Z"
   },
   {
    "duration": 79,
    "start_time": "2022-05-29T16:25:32.147Z"
   },
   {
    "duration": 3,
    "start_time": "2022-05-29T16:25:32.229Z"
   },
   {
    "duration": 18,
    "start_time": "2022-05-29T16:25:32.234Z"
   },
   {
    "duration": 8,
    "start_time": "2022-05-29T16:25:32.254Z"
   },
   {
    "duration": 12,
    "start_time": "2022-05-29T16:25:32.264Z"
   },
   {
    "duration": 21,
    "start_time": "2022-05-29T16:25:32.277Z"
   },
   {
    "duration": 8,
    "start_time": "2022-05-29T16:25:32.300Z"
   },
   {
    "duration": 15,
    "start_time": "2022-05-29T16:25:32.311Z"
   },
   {
    "duration": 12,
    "start_time": "2022-05-29T16:25:32.328Z"
   },
   {
    "duration": 52,
    "start_time": "2022-05-29T16:25:32.342Z"
   },
   {
    "duration": 14,
    "start_time": "2022-05-29T16:25:32.396Z"
   },
   {
    "duration": 242,
    "start_time": "2022-05-29T16:25:32.412Z"
   },
   {
    "duration": 5,
    "start_time": "2022-05-29T16:25:32.656Z"
   },
   {
    "duration": 5,
    "start_time": "2022-05-29T16:25:32.663Z"
   },
   {
    "duration": 26,
    "start_time": "2022-05-29T16:25:32.669Z"
   },
   {
    "duration": 5,
    "start_time": "2022-05-29T16:25:32.696Z"
   },
   {
    "duration": 8,
    "start_time": "2022-05-29T16:25:32.703Z"
   },
   {
    "duration": 237,
    "start_time": "2022-05-29T16:25:32.713Z"
   },
   {
    "duration": 519,
    "start_time": "2022-05-29T16:25:32.952Z"
   },
   {
    "duration": 717,
    "start_time": "2022-05-29T16:25:33.474Z"
   },
   {
    "duration": 18,
    "start_time": "2022-05-29T16:25:34.195Z"
   },
   {
    "duration": 33,
    "start_time": "2022-05-29T16:25:34.215Z"
   },
   {
    "duration": 52,
    "start_time": "2022-05-29T16:25:34.250Z"
   },
   {
    "duration": 3,
    "start_time": "2022-05-29T16:25:34.304Z"
   },
   {
    "duration": 14,
    "start_time": "2022-05-29T16:25:34.309Z"
   },
   {
    "duration": 18,
    "start_time": "2022-05-29T16:25:34.326Z"
   },
   {
    "duration": 6,
    "start_time": "2022-05-29T16:25:34.346Z"
   },
   {
    "duration": 14,
    "start_time": "2022-05-29T16:25:34.354Z"
   },
   {
    "duration": 9,
    "start_time": "2022-05-29T16:25:34.370Z"
   },
   {
    "duration": 15,
    "start_time": "2022-05-29T16:25:34.380Z"
   },
   {
    "duration": 15,
    "start_time": "2022-05-29T16:25:34.397Z"
   },
   {
    "duration": 11,
    "start_time": "2022-05-29T16:36:34.860Z"
   },
   {
    "duration": 13,
    "start_time": "2022-05-29T16:36:35.628Z"
   },
   {
    "duration": 4,
    "start_time": "2022-05-29T16:36:38.113Z"
   },
   {
    "duration": 5,
    "start_time": "2022-05-29T16:36:39.323Z"
   },
   {
    "duration": 3,
    "start_time": "2022-05-29T16:36:40.061Z"
   },
   {
    "duration": 3,
    "start_time": "2022-05-29T16:36:41.224Z"
   },
   {
    "duration": 46,
    "start_time": "2022-05-29T16:36:43.755Z"
   },
   {
    "duration": 110,
    "start_time": "2022-05-29T16:38:01.974Z"
   }
  ],
  "kernelspec": {
   "display_name": "Python 3 (ipykernel)",
   "language": "python",
   "name": "python3"
  },
  "language_info": {
   "codemirror_mode": {
    "name": "ipython",
    "version": 3
   },
   "file_extension": ".py",
   "mimetype": "text/x-python",
   "name": "python",
   "nbconvert_exporter": "python",
   "pygments_lexer": "ipython3",
   "version": "3.9.7"
  },
  "toc": {
   "base_numbering": 1,
   "nav_menu": {},
   "number_sections": true,
   "sideBar": true,
   "skip_h1_title": true,
   "title_cell": "Table of Contents",
   "title_sidebar": "Contents",
   "toc_cell": true,
   "toc_position": {
    "height": "calc(100% - 180px)",
    "left": "10px",
    "top": "150px",
    "width": "219px"
   },
   "toc_section_display": true,
   "toc_window_display": true
  }
 },
 "nbformat": 4,
 "nbformat_minor": 5
}
