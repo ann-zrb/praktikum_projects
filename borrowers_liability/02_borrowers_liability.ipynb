{
 "cells": [
  {
   "cell_type": "markdown",
   "id": "4455978d",
   "metadata": {},
   "source": [
    "## Обзор данных"
   ]
  },
  {
   "cell_type": "markdown",
   "id": "bf57248b",
   "metadata": {},
   "source": [
    "Начнем исследование с общего обзора данных. Для этого импортируем библиотеку `pandas`, прочитаем с её помощью файл `data.csv` и оценим формат таблицы с помощью метода `head()`. "
   ]
  },
  {
   "cell_type": "code",
   "execution_count": 1,
   "id": "20a7fcfe",
   "metadata": {},
   "outputs": [],
   "source": [
    "import pandas as pd"
   ]
  },
  {
   "cell_type": "code",
   "execution_count": 2,
   "id": "1a9a21c1",
   "metadata": {},
   "outputs": [],
   "source": [
    "try: \n",
    "    df = pd.read_csv('/datasets/data.csv') #для дальнейшей работы сохраним таблицу в переменной df\n",
    "except: \n",
    "    df = pd.read_csv('C:\\\\Users\\\\freak\\\\Desktop\\\\Python\\\\borrowers_liability\\\\data.csv')"
   ]
  },
  {
   "cell_type": "code",
   "execution_count": 3,
   "id": "a6ae1ff0",
   "metadata": {},
   "outputs": [
    {
     "data": {
      "text/html": [
       "<div>\n",
       "<style scoped>\n",
       "    .dataframe tbody tr th:only-of-type {\n",
       "        vertical-align: middle;\n",
       "    }\n",
       "\n",
       "    .dataframe tbody tr th {\n",
       "        vertical-align: top;\n",
       "    }\n",
       "\n",
       "    .dataframe thead th {\n",
       "        text-align: right;\n",
       "    }\n",
       "</style>\n",
       "<table border=\"1\" class=\"dataframe\">\n",
       "  <thead>\n",
       "    <tr style=\"text-align: right;\">\n",
       "      <th></th>\n",
       "      <th>children</th>\n",
       "      <th>days_employed</th>\n",
       "      <th>dob_years</th>\n",
       "      <th>education</th>\n",
       "      <th>education_id</th>\n",
       "      <th>family_status</th>\n",
       "      <th>family_status_id</th>\n",
       "      <th>gender</th>\n",
       "      <th>income_type</th>\n",
       "      <th>debt</th>\n",
       "      <th>total_income</th>\n",
       "      <th>purpose</th>\n",
       "    </tr>\n",
       "  </thead>\n",
       "  <tbody>\n",
       "    <tr>\n",
       "      <th>0</th>\n",
       "      <td>1</td>\n",
       "      <td>-8437.673028</td>\n",
       "      <td>42</td>\n",
       "      <td>высшее</td>\n",
       "      <td>0</td>\n",
       "      <td>женат / замужем</td>\n",
       "      <td>0</td>\n",
       "      <td>F</td>\n",
       "      <td>сотрудник</td>\n",
       "      <td>0</td>\n",
       "      <td>253875.639453</td>\n",
       "      <td>покупка жилья</td>\n",
       "    </tr>\n",
       "    <tr>\n",
       "      <th>1</th>\n",
       "      <td>1</td>\n",
       "      <td>-4024.803754</td>\n",
       "      <td>36</td>\n",
       "      <td>среднее</td>\n",
       "      <td>1</td>\n",
       "      <td>женат / замужем</td>\n",
       "      <td>0</td>\n",
       "      <td>F</td>\n",
       "      <td>сотрудник</td>\n",
       "      <td>0</td>\n",
       "      <td>112080.014102</td>\n",
       "      <td>приобретение автомобиля</td>\n",
       "    </tr>\n",
       "    <tr>\n",
       "      <th>2</th>\n",
       "      <td>0</td>\n",
       "      <td>-5623.422610</td>\n",
       "      <td>33</td>\n",
       "      <td>Среднее</td>\n",
       "      <td>1</td>\n",
       "      <td>женат / замужем</td>\n",
       "      <td>0</td>\n",
       "      <td>M</td>\n",
       "      <td>сотрудник</td>\n",
       "      <td>0</td>\n",
       "      <td>145885.952297</td>\n",
       "      <td>покупка жилья</td>\n",
       "    </tr>\n",
       "    <tr>\n",
       "      <th>3</th>\n",
       "      <td>3</td>\n",
       "      <td>-4124.747207</td>\n",
       "      <td>32</td>\n",
       "      <td>среднее</td>\n",
       "      <td>1</td>\n",
       "      <td>женат / замужем</td>\n",
       "      <td>0</td>\n",
       "      <td>M</td>\n",
       "      <td>сотрудник</td>\n",
       "      <td>0</td>\n",
       "      <td>267628.550329</td>\n",
       "      <td>дополнительное образование</td>\n",
       "    </tr>\n",
       "    <tr>\n",
       "      <th>4</th>\n",
       "      <td>0</td>\n",
       "      <td>340266.072047</td>\n",
       "      <td>53</td>\n",
       "      <td>среднее</td>\n",
       "      <td>1</td>\n",
       "      <td>гражданский брак</td>\n",
       "      <td>1</td>\n",
       "      <td>F</td>\n",
       "      <td>пенсионер</td>\n",
       "      <td>0</td>\n",
       "      <td>158616.077870</td>\n",
       "      <td>сыграть свадьбу</td>\n",
       "    </tr>\n",
       "    <tr>\n",
       "      <th>5</th>\n",
       "      <td>0</td>\n",
       "      <td>-926.185831</td>\n",
       "      <td>27</td>\n",
       "      <td>высшее</td>\n",
       "      <td>0</td>\n",
       "      <td>гражданский брак</td>\n",
       "      <td>1</td>\n",
       "      <td>M</td>\n",
       "      <td>компаньон</td>\n",
       "      <td>0</td>\n",
       "      <td>255763.565419</td>\n",
       "      <td>покупка жилья</td>\n",
       "    </tr>\n",
       "    <tr>\n",
       "      <th>6</th>\n",
       "      <td>0</td>\n",
       "      <td>-2879.202052</td>\n",
       "      <td>43</td>\n",
       "      <td>высшее</td>\n",
       "      <td>0</td>\n",
       "      <td>женат / замужем</td>\n",
       "      <td>0</td>\n",
       "      <td>F</td>\n",
       "      <td>компаньон</td>\n",
       "      <td>0</td>\n",
       "      <td>240525.971920</td>\n",
       "      <td>операции с жильем</td>\n",
       "    </tr>\n",
       "    <tr>\n",
       "      <th>7</th>\n",
       "      <td>0</td>\n",
       "      <td>-152.779569</td>\n",
       "      <td>50</td>\n",
       "      <td>СРЕДНЕЕ</td>\n",
       "      <td>1</td>\n",
       "      <td>женат / замужем</td>\n",
       "      <td>0</td>\n",
       "      <td>M</td>\n",
       "      <td>сотрудник</td>\n",
       "      <td>0</td>\n",
       "      <td>135823.934197</td>\n",
       "      <td>образование</td>\n",
       "    </tr>\n",
       "    <tr>\n",
       "      <th>8</th>\n",
       "      <td>2</td>\n",
       "      <td>-6929.865299</td>\n",
       "      <td>35</td>\n",
       "      <td>ВЫСШЕЕ</td>\n",
       "      <td>0</td>\n",
       "      <td>гражданский брак</td>\n",
       "      <td>1</td>\n",
       "      <td>F</td>\n",
       "      <td>сотрудник</td>\n",
       "      <td>0</td>\n",
       "      <td>95856.832424</td>\n",
       "      <td>на проведение свадьбы</td>\n",
       "    </tr>\n",
       "    <tr>\n",
       "      <th>9</th>\n",
       "      <td>0</td>\n",
       "      <td>-2188.756445</td>\n",
       "      <td>41</td>\n",
       "      <td>среднее</td>\n",
       "      <td>1</td>\n",
       "      <td>женат / замужем</td>\n",
       "      <td>0</td>\n",
       "      <td>M</td>\n",
       "      <td>сотрудник</td>\n",
       "      <td>0</td>\n",
       "      <td>144425.938277</td>\n",
       "      <td>покупка жилья для семьи</td>\n",
       "    </tr>\n",
       "  </tbody>\n",
       "</table>\n",
       "</div>"
      ],
      "text/plain": [
       "   children  days_employed  dob_years education  education_id  \\\n",
       "0         1   -8437.673028         42    высшее             0   \n",
       "1         1   -4024.803754         36   среднее             1   \n",
       "2         0   -5623.422610         33   Среднее             1   \n",
       "3         3   -4124.747207         32   среднее             1   \n",
       "4         0  340266.072047         53   среднее             1   \n",
       "5         0    -926.185831         27    высшее             0   \n",
       "6         0   -2879.202052         43    высшее             0   \n",
       "7         0    -152.779569         50   СРЕДНЕЕ             1   \n",
       "8         2   -6929.865299         35    ВЫСШЕЕ             0   \n",
       "9         0   -2188.756445         41   среднее             1   \n",
       "\n",
       "      family_status  family_status_id gender income_type  debt   total_income  \\\n",
       "0   женат / замужем                 0      F   сотрудник     0  253875.639453   \n",
       "1   женат / замужем                 0      F   сотрудник     0  112080.014102   \n",
       "2   женат / замужем                 0      M   сотрудник     0  145885.952297   \n",
       "3   женат / замужем                 0      M   сотрудник     0  267628.550329   \n",
       "4  гражданский брак                 1      F   пенсионер     0  158616.077870   \n",
       "5  гражданский брак                 1      M   компаньон     0  255763.565419   \n",
       "6   женат / замужем                 0      F   компаньон     0  240525.971920   \n",
       "7   женат / замужем                 0      M   сотрудник     0  135823.934197   \n",
       "8  гражданский брак                 1      F   сотрудник     0   95856.832424   \n",
       "9   женат / замужем                 0      M   сотрудник     0  144425.938277   \n",
       "\n",
       "                      purpose  \n",
       "0               покупка жилья  \n",
       "1     приобретение автомобиля  \n",
       "2               покупка жилья  \n",
       "3  дополнительное образование  \n",
       "4             сыграть свадьбу  \n",
       "5               покупка жилья  \n",
       "6           операции с жильем  \n",
       "7                 образование  \n",
       "8       на проведение свадьбы  \n",
       "9     покупка жилья для семьи  "
      ]
     },
     "execution_count": 3,
     "metadata": {},
     "output_type": "execute_result"
    }
   ],
   "source": [
    "df.head(10)"
   ]
  },
  {
   "cell_type": "markdown",
   "id": "8cdd47b6",
   "metadata": {},
   "source": [
    "Получим общую информацию о таблице и проверим её соответствие документации:"
   ]
  },
  {
   "cell_type": "code",
   "execution_count": 4,
   "id": "5e645fa0",
   "metadata": {},
   "outputs": [
    {
     "name": "stdout",
     "output_type": "stream",
     "text": [
      "<class 'pandas.core.frame.DataFrame'>\n",
      "RangeIndex: 21525 entries, 0 to 21524\n",
      "Data columns (total 12 columns):\n",
      " #   Column            Non-Null Count  Dtype  \n",
      "---  ------            --------------  -----  \n",
      " 0   children          21525 non-null  int64  \n",
      " 1   days_employed     19351 non-null  float64\n",
      " 2   dob_years         21525 non-null  int64  \n",
      " 3   education         21525 non-null  object \n",
      " 4   education_id      21525 non-null  int64  \n",
      " 5   family_status     21525 non-null  object \n",
      " 6   family_status_id  21525 non-null  int64  \n",
      " 7   gender            21525 non-null  object \n",
      " 8   income_type       21525 non-null  object \n",
      " 9   debt              21525 non-null  int64  \n",
      " 10  total_income      19351 non-null  float64\n",
      " 11  purpose           21525 non-null  object \n",
      "dtypes: float64(2), int64(5), object(5)\n",
      "memory usage: 2.0+ MB\n"
     ]
    }
   ],
   "source": [
    "df.info()"
   ]
  },
  {
   "cell_type": "markdown",
   "id": "66203afd",
   "metadata": {},
   "source": [
    "**Предварительные выводы о данных:** \n",
    "- наименования стоблцов присвоены корректно — все буквы в нижнем регистре, отсутствуют лишние пробелы, соблюдены правила \"змеиного регистра\"; \n",
    "- в стоблцах `days_employed` и `total_income` можно заметить более 2000 пропусков, необходимо будет их обработать;\n",
    "- в стоблце `days_employed` есть отрицательные значения;\n",
    "- в стоблце `education` данные записаны разным регистром;\n",
    "- в столбце `purpose` одни и те же цели сформулированы по-разному (сыграть свадьбу, на проведение свадьбы).\n",
    "\n",
    "Чтобы двигаться дальше, нужно устранить проблемы в данных."
   ]
  },
  {
   "cell_type": "markdown",
   "id": "a9aebed6",
   "metadata": {},
   "source": [
    "## Предобработка данных"
   ]
  },
  {
   "cell_type": "markdown",
   "id": "973769af",
   "metadata": {},
   "source": [
    "В ходе предобработки данных необходимо осуществить следующие шаги:\n",
    "- заполнить пропуски;\n",
    "- проверить данные на аномалии и устранить их;\n",
    "- изменить тип данных; \n",
    "- обнаружить и удалить дубликаты; \n",
    "- провести декомпозицию исходной таблицы;\n",
    "- провести категоризацию целей и доходов.\n"
   ]
  },
  {
   "cell_type": "markdown",
   "id": "e420b28e",
   "metadata": {},
   "source": [
    "### Заполнение пропусков"
   ]
  },
  {
   "cell_type": "markdown",
   "id": "a6ed491e",
   "metadata": {},
   "source": [
    "На данном этапе исследования необходимо изучить и обработать пропуски в стоблцах `days_employed` и `total_income`. \n",
    "Для начала найдем общее количество пропусков в столбцах:"
   ]
  },
  {
   "cell_type": "code",
   "execution_count": 5,
   "id": "763f2971",
   "metadata": {
    "scrolled": true
   },
   "outputs": [
    {
     "data": {
      "text/plain": [
       "children               0\n",
       "days_employed       2174\n",
       "dob_years              0\n",
       "education              0\n",
       "education_id           0\n",
       "family_status          0\n",
       "family_status_id       0\n",
       "gender                 0\n",
       "income_type            0\n",
       "debt                   0\n",
       "total_income        2174\n",
       "purpose                0\n",
       "dtype: int64"
      ]
     },
     "execution_count": 5,
     "metadata": {},
     "output_type": "execute_result"
    }
   ],
   "source": [
    "df.isna().sum()"
   ]
  },
  {
   "cell_type": "markdown",
   "id": "0cbbf399",
   "metadata": {},
   "source": [
    "Пропуски в стоблцах `days_employed` и `total_income` составляют 10% от общего количества данных. Однако, данные об общем трудовом стаже и ежемесячном доходе не влияют на исследование. Достаточно заменить их явными обозначениями. Пропуски в столбцах о стаже и доходе являются количественными переменными. Для заполнения пропусков в столбцах будем использовать медианное значение, а не среднее. Среднее значение некорректно характеризует данные, когда некоторые значения сильно выделяются среди большинства. Так как стаж и доходы могут радакально отличаться от клиента к клиенту, медианное значение будет давать нам более объективную картину.\n",
    "\n",
    "Возможно, произошел сбой при выгрузке данных, либо сотрудник банка (или клиент) не разобрался с правилами заполнения анкеты и внёс не все данные."
   ]
  },
  {
   "cell_type": "markdown",
   "id": "c18b7331",
   "metadata": {},
   "source": [
    "Несмотря на то, что масштабная работа с аномалиями будет проводиться в следующем пункте нашего исследования, есть аномалии, которые лучше обработать в рамках текущего пункта. Так для получения более реалистичного представления о медиане, избавимся от отрицательных значений в столбце `days_employed`:"
   ]
  },
  {
   "cell_type": "code",
   "execution_count": 6,
   "id": "5b50de7d",
   "metadata": {},
   "outputs": [],
   "source": [
    "df['days_employed'] = df['days_employed'].apply(abs) #применим к столбцу метод abs, чтобы вернуть модули всех значений столбца"
   ]
  },
  {
   "cell_type": "markdown",
   "id": "afec3133",
   "metadata": {},
   "source": [
    "Убедимся в том, что всё прошло успешно: "
   ]
  },
  {
   "cell_type": "code",
   "execution_count": 7,
   "id": "797c8e53",
   "metadata": {
    "scrolled": true
   },
   "outputs": [
    {
     "data": {
      "text/html": [
       "<div>\n",
       "<style scoped>\n",
       "    .dataframe tbody tr th:only-of-type {\n",
       "        vertical-align: middle;\n",
       "    }\n",
       "\n",
       "    .dataframe tbody tr th {\n",
       "        vertical-align: top;\n",
       "    }\n",
       "\n",
       "    .dataframe thead th {\n",
       "        text-align: right;\n",
       "    }\n",
       "</style>\n",
       "<table border=\"1\" class=\"dataframe\">\n",
       "  <thead>\n",
       "    <tr style=\"text-align: right;\">\n",
       "      <th></th>\n",
       "      <th>children</th>\n",
       "      <th>days_employed</th>\n",
       "      <th>dob_years</th>\n",
       "      <th>education</th>\n",
       "      <th>education_id</th>\n",
       "      <th>family_status</th>\n",
       "      <th>family_status_id</th>\n",
       "      <th>gender</th>\n",
       "      <th>income_type</th>\n",
       "      <th>debt</th>\n",
       "      <th>total_income</th>\n",
       "      <th>purpose</th>\n",
       "    </tr>\n",
       "  </thead>\n",
       "  <tbody>\n",
       "    <tr>\n",
       "      <th>0</th>\n",
       "      <td>1</td>\n",
       "      <td>8437.673028</td>\n",
       "      <td>42</td>\n",
       "      <td>высшее</td>\n",
       "      <td>0</td>\n",
       "      <td>женат / замужем</td>\n",
       "      <td>0</td>\n",
       "      <td>F</td>\n",
       "      <td>сотрудник</td>\n",
       "      <td>0</td>\n",
       "      <td>253875.639453</td>\n",
       "      <td>покупка жилья</td>\n",
       "    </tr>\n",
       "    <tr>\n",
       "      <th>1</th>\n",
       "      <td>1</td>\n",
       "      <td>4024.803754</td>\n",
       "      <td>36</td>\n",
       "      <td>среднее</td>\n",
       "      <td>1</td>\n",
       "      <td>женат / замужем</td>\n",
       "      <td>0</td>\n",
       "      <td>F</td>\n",
       "      <td>сотрудник</td>\n",
       "      <td>0</td>\n",
       "      <td>112080.014102</td>\n",
       "      <td>приобретение автомобиля</td>\n",
       "    </tr>\n",
       "    <tr>\n",
       "      <th>2</th>\n",
       "      <td>0</td>\n",
       "      <td>5623.422610</td>\n",
       "      <td>33</td>\n",
       "      <td>Среднее</td>\n",
       "      <td>1</td>\n",
       "      <td>женат / замужем</td>\n",
       "      <td>0</td>\n",
       "      <td>M</td>\n",
       "      <td>сотрудник</td>\n",
       "      <td>0</td>\n",
       "      <td>145885.952297</td>\n",
       "      <td>покупка жилья</td>\n",
       "    </tr>\n",
       "    <tr>\n",
       "      <th>3</th>\n",
       "      <td>3</td>\n",
       "      <td>4124.747207</td>\n",
       "      <td>32</td>\n",
       "      <td>среднее</td>\n",
       "      <td>1</td>\n",
       "      <td>женат / замужем</td>\n",
       "      <td>0</td>\n",
       "      <td>M</td>\n",
       "      <td>сотрудник</td>\n",
       "      <td>0</td>\n",
       "      <td>267628.550329</td>\n",
       "      <td>дополнительное образование</td>\n",
       "    </tr>\n",
       "    <tr>\n",
       "      <th>4</th>\n",
       "      <td>0</td>\n",
       "      <td>340266.072047</td>\n",
       "      <td>53</td>\n",
       "      <td>среднее</td>\n",
       "      <td>1</td>\n",
       "      <td>гражданский брак</td>\n",
       "      <td>1</td>\n",
       "      <td>F</td>\n",
       "      <td>пенсионер</td>\n",
       "      <td>0</td>\n",
       "      <td>158616.077870</td>\n",
       "      <td>сыграть свадьбу</td>\n",
       "    </tr>\n",
       "  </tbody>\n",
       "</table>\n",
       "</div>"
      ],
      "text/plain": [
       "   children  days_employed  dob_years education  education_id  \\\n",
       "0         1    8437.673028         42    высшее             0   \n",
       "1         1    4024.803754         36   среднее             1   \n",
       "2         0    5623.422610         33   Среднее             1   \n",
       "3         3    4124.747207         32   среднее             1   \n",
       "4         0  340266.072047         53   среднее             1   \n",
       "\n",
       "      family_status  family_status_id gender income_type  debt   total_income  \\\n",
       "0   женат / замужем                 0      F   сотрудник     0  253875.639453   \n",
       "1   женат / замужем                 0      F   сотрудник     0  112080.014102   \n",
       "2   женат / замужем                 0      M   сотрудник     0  145885.952297   \n",
       "3   женат / замужем                 0      M   сотрудник     0  267628.550329   \n",
       "4  гражданский брак                 1      F   пенсионер     0  158616.077870   \n",
       "\n",
       "                      purpose  \n",
       "0               покупка жилья  \n",
       "1     приобретение автомобиля  \n",
       "2               покупка жилья  \n",
       "3  дополнительное образование  \n",
       "4             сыграть свадьбу  "
      ]
     },
     "execution_count": 7,
     "metadata": {},
     "output_type": "execute_result"
    }
   ],
   "source": [
    "df.head()"
   ]
  },
  {
   "cell_type": "markdown",
   "id": "760889a2",
   "metadata": {},
   "source": [
    "Отлично, минусы исчезли. \n",
    "\n",
    "Найдем медиану, чтобы затем убедиться в правильности заполнения пропусков:"
   ]
  },
  {
   "cell_type": "code",
   "execution_count": 8,
   "id": "3ee8c5a6",
   "metadata": {},
   "outputs": [
    {
     "data": {
      "text/plain": [
       "2194.220566878695"
      ]
     },
     "execution_count": 8,
     "metadata": {},
     "output_type": "execute_result"
    }
   ],
   "source": [
    "df['days_employed'].median()"
   ]
  },
  {
   "cell_type": "markdown",
   "id": "93f511d2",
   "metadata": {},
   "source": [
    "Заполним пропуски медианой: "
   ]
  },
  {
   "cell_type": "code",
   "execution_count": 9,
   "id": "e629c99c",
   "metadata": {},
   "outputs": [],
   "source": [
    "df['days_employed'] = df['days_employed'].fillna(df['days_employed'].median())"
   ]
  },
  {
   "cell_type": "markdown",
   "id": "ea11e026",
   "metadata": {},
   "source": [
    "Убедимся в том, что все прошло успешно:"
   ]
  },
  {
   "cell_type": "code",
   "execution_count": 10,
   "id": "8379432b",
   "metadata": {
    "scrolled": true
   },
   "outputs": [
    {
     "data": {
      "text/html": [
       "<div>\n",
       "<style scoped>\n",
       "    .dataframe tbody tr th:only-of-type {\n",
       "        vertical-align: middle;\n",
       "    }\n",
       "\n",
       "    .dataframe tbody tr th {\n",
       "        vertical-align: top;\n",
       "    }\n",
       "\n",
       "    .dataframe thead th {\n",
       "        text-align: right;\n",
       "    }\n",
       "</style>\n",
       "<table border=\"1\" class=\"dataframe\">\n",
       "  <thead>\n",
       "    <tr style=\"text-align: right;\">\n",
       "      <th></th>\n",
       "      <th>children</th>\n",
       "      <th>days_employed</th>\n",
       "      <th>dob_years</th>\n",
       "      <th>education</th>\n",
       "      <th>education_id</th>\n",
       "      <th>family_status</th>\n",
       "      <th>family_status_id</th>\n",
       "      <th>gender</th>\n",
       "      <th>income_type</th>\n",
       "      <th>debt</th>\n",
       "      <th>total_income</th>\n",
       "      <th>purpose</th>\n",
       "    </tr>\n",
       "  </thead>\n",
       "  <tbody>\n",
       "    <tr>\n",
       "      <th>0</th>\n",
       "      <td>1</td>\n",
       "      <td>8437.673028</td>\n",
       "      <td>42</td>\n",
       "      <td>высшее</td>\n",
       "      <td>0</td>\n",
       "      <td>женат / замужем</td>\n",
       "      <td>0</td>\n",
       "      <td>F</td>\n",
       "      <td>сотрудник</td>\n",
       "      <td>0</td>\n",
       "      <td>253875.639453</td>\n",
       "      <td>покупка жилья</td>\n",
       "    </tr>\n",
       "    <tr>\n",
       "      <th>1</th>\n",
       "      <td>1</td>\n",
       "      <td>4024.803754</td>\n",
       "      <td>36</td>\n",
       "      <td>среднее</td>\n",
       "      <td>1</td>\n",
       "      <td>женат / замужем</td>\n",
       "      <td>0</td>\n",
       "      <td>F</td>\n",
       "      <td>сотрудник</td>\n",
       "      <td>0</td>\n",
       "      <td>112080.014102</td>\n",
       "      <td>приобретение автомобиля</td>\n",
       "    </tr>\n",
       "    <tr>\n",
       "      <th>2</th>\n",
       "      <td>0</td>\n",
       "      <td>5623.422610</td>\n",
       "      <td>33</td>\n",
       "      <td>Среднее</td>\n",
       "      <td>1</td>\n",
       "      <td>женат / замужем</td>\n",
       "      <td>0</td>\n",
       "      <td>M</td>\n",
       "      <td>сотрудник</td>\n",
       "      <td>0</td>\n",
       "      <td>145885.952297</td>\n",
       "      <td>покупка жилья</td>\n",
       "    </tr>\n",
       "    <tr>\n",
       "      <th>3</th>\n",
       "      <td>3</td>\n",
       "      <td>4124.747207</td>\n",
       "      <td>32</td>\n",
       "      <td>среднее</td>\n",
       "      <td>1</td>\n",
       "      <td>женат / замужем</td>\n",
       "      <td>0</td>\n",
       "      <td>M</td>\n",
       "      <td>сотрудник</td>\n",
       "      <td>0</td>\n",
       "      <td>267628.550329</td>\n",
       "      <td>дополнительное образование</td>\n",
       "    </tr>\n",
       "    <tr>\n",
       "      <th>4</th>\n",
       "      <td>0</td>\n",
       "      <td>340266.072047</td>\n",
       "      <td>53</td>\n",
       "      <td>среднее</td>\n",
       "      <td>1</td>\n",
       "      <td>гражданский брак</td>\n",
       "      <td>1</td>\n",
       "      <td>F</td>\n",
       "      <td>пенсионер</td>\n",
       "      <td>0</td>\n",
       "      <td>158616.077870</td>\n",
       "      <td>сыграть свадьбу</td>\n",
       "    </tr>\n",
       "    <tr>\n",
       "      <th>5</th>\n",
       "      <td>0</td>\n",
       "      <td>926.185831</td>\n",
       "      <td>27</td>\n",
       "      <td>высшее</td>\n",
       "      <td>0</td>\n",
       "      <td>гражданский брак</td>\n",
       "      <td>1</td>\n",
       "      <td>M</td>\n",
       "      <td>компаньон</td>\n",
       "      <td>0</td>\n",
       "      <td>255763.565419</td>\n",
       "      <td>покупка жилья</td>\n",
       "    </tr>\n",
       "    <tr>\n",
       "      <th>6</th>\n",
       "      <td>0</td>\n",
       "      <td>2879.202052</td>\n",
       "      <td>43</td>\n",
       "      <td>высшее</td>\n",
       "      <td>0</td>\n",
       "      <td>женат / замужем</td>\n",
       "      <td>0</td>\n",
       "      <td>F</td>\n",
       "      <td>компаньон</td>\n",
       "      <td>0</td>\n",
       "      <td>240525.971920</td>\n",
       "      <td>операции с жильем</td>\n",
       "    </tr>\n",
       "    <tr>\n",
       "      <th>7</th>\n",
       "      <td>0</td>\n",
       "      <td>152.779569</td>\n",
       "      <td>50</td>\n",
       "      <td>СРЕДНЕЕ</td>\n",
       "      <td>1</td>\n",
       "      <td>женат / замужем</td>\n",
       "      <td>0</td>\n",
       "      <td>M</td>\n",
       "      <td>сотрудник</td>\n",
       "      <td>0</td>\n",
       "      <td>135823.934197</td>\n",
       "      <td>образование</td>\n",
       "    </tr>\n",
       "    <tr>\n",
       "      <th>8</th>\n",
       "      <td>2</td>\n",
       "      <td>6929.865299</td>\n",
       "      <td>35</td>\n",
       "      <td>ВЫСШЕЕ</td>\n",
       "      <td>0</td>\n",
       "      <td>гражданский брак</td>\n",
       "      <td>1</td>\n",
       "      <td>F</td>\n",
       "      <td>сотрудник</td>\n",
       "      <td>0</td>\n",
       "      <td>95856.832424</td>\n",
       "      <td>на проведение свадьбы</td>\n",
       "    </tr>\n",
       "    <tr>\n",
       "      <th>9</th>\n",
       "      <td>0</td>\n",
       "      <td>2188.756445</td>\n",
       "      <td>41</td>\n",
       "      <td>среднее</td>\n",
       "      <td>1</td>\n",
       "      <td>женат / замужем</td>\n",
       "      <td>0</td>\n",
       "      <td>M</td>\n",
       "      <td>сотрудник</td>\n",
       "      <td>0</td>\n",
       "      <td>144425.938277</td>\n",
       "      <td>покупка жилья для семьи</td>\n",
       "    </tr>\n",
       "    <tr>\n",
       "      <th>10</th>\n",
       "      <td>2</td>\n",
       "      <td>4171.483647</td>\n",
       "      <td>36</td>\n",
       "      <td>высшее</td>\n",
       "      <td>0</td>\n",
       "      <td>женат / замужем</td>\n",
       "      <td>0</td>\n",
       "      <td>M</td>\n",
       "      <td>компаньон</td>\n",
       "      <td>0</td>\n",
       "      <td>113943.491460</td>\n",
       "      <td>покупка недвижимости</td>\n",
       "    </tr>\n",
       "    <tr>\n",
       "      <th>11</th>\n",
       "      <td>0</td>\n",
       "      <td>792.701887</td>\n",
       "      <td>40</td>\n",
       "      <td>среднее</td>\n",
       "      <td>1</td>\n",
       "      <td>женат / замужем</td>\n",
       "      <td>0</td>\n",
       "      <td>F</td>\n",
       "      <td>сотрудник</td>\n",
       "      <td>0</td>\n",
       "      <td>77069.234271</td>\n",
       "      <td>покупка коммерческой недвижимости</td>\n",
       "    </tr>\n",
       "    <tr>\n",
       "      <th>12</th>\n",
       "      <td>0</td>\n",
       "      <td>2194.220567</td>\n",
       "      <td>65</td>\n",
       "      <td>среднее</td>\n",
       "      <td>1</td>\n",
       "      <td>гражданский брак</td>\n",
       "      <td>1</td>\n",
       "      <td>M</td>\n",
       "      <td>пенсионер</td>\n",
       "      <td>0</td>\n",
       "      <td>NaN</td>\n",
       "      <td>сыграть свадьбу</td>\n",
       "    </tr>\n",
       "    <tr>\n",
       "      <th>13</th>\n",
       "      <td>0</td>\n",
       "      <td>1846.641941</td>\n",
       "      <td>54</td>\n",
       "      <td>неоконченное высшее</td>\n",
       "      <td>2</td>\n",
       "      <td>женат / замужем</td>\n",
       "      <td>0</td>\n",
       "      <td>F</td>\n",
       "      <td>сотрудник</td>\n",
       "      <td>0</td>\n",
       "      <td>130458.228857</td>\n",
       "      <td>приобретение автомобиля</td>\n",
       "    </tr>\n",
       "    <tr>\n",
       "      <th>14</th>\n",
       "      <td>0</td>\n",
       "      <td>1844.956182</td>\n",
       "      <td>56</td>\n",
       "      <td>высшее</td>\n",
       "      <td>0</td>\n",
       "      <td>гражданский брак</td>\n",
       "      <td>1</td>\n",
       "      <td>F</td>\n",
       "      <td>компаньон</td>\n",
       "      <td>1</td>\n",
       "      <td>165127.911772</td>\n",
       "      <td>покупка жилой недвижимости</td>\n",
       "    </tr>\n",
       "  </tbody>\n",
       "</table>\n",
       "</div>"
      ],
      "text/plain": [
       "    children  days_employed  dob_years            education  education_id  \\\n",
       "0          1    8437.673028         42               высшее             0   \n",
       "1          1    4024.803754         36              среднее             1   \n",
       "2          0    5623.422610         33              Среднее             1   \n",
       "3          3    4124.747207         32              среднее             1   \n",
       "4          0  340266.072047         53              среднее             1   \n",
       "5          0     926.185831         27               высшее             0   \n",
       "6          0    2879.202052         43               высшее             0   \n",
       "7          0     152.779569         50              СРЕДНЕЕ             1   \n",
       "8          2    6929.865299         35               ВЫСШЕЕ             0   \n",
       "9          0    2188.756445         41              среднее             1   \n",
       "10         2    4171.483647         36               высшее             0   \n",
       "11         0     792.701887         40              среднее             1   \n",
       "12         0    2194.220567         65              среднее             1   \n",
       "13         0    1846.641941         54  неоконченное высшее             2   \n",
       "14         0    1844.956182         56               высшее             0   \n",
       "\n",
       "       family_status  family_status_id gender income_type  debt  \\\n",
       "0    женат / замужем                 0      F   сотрудник     0   \n",
       "1    женат / замужем                 0      F   сотрудник     0   \n",
       "2    женат / замужем                 0      M   сотрудник     0   \n",
       "3    женат / замужем                 0      M   сотрудник     0   \n",
       "4   гражданский брак                 1      F   пенсионер     0   \n",
       "5   гражданский брак                 1      M   компаньон     0   \n",
       "6    женат / замужем                 0      F   компаньон     0   \n",
       "7    женат / замужем                 0      M   сотрудник     0   \n",
       "8   гражданский брак                 1      F   сотрудник     0   \n",
       "9    женат / замужем                 0      M   сотрудник     0   \n",
       "10   женат / замужем                 0      M   компаньон     0   \n",
       "11   женат / замужем                 0      F   сотрудник     0   \n",
       "12  гражданский брак                 1      M   пенсионер     0   \n",
       "13   женат / замужем                 0      F   сотрудник     0   \n",
       "14  гражданский брак                 1      F   компаньон     1   \n",
       "\n",
       "     total_income                            purpose  \n",
       "0   253875.639453                      покупка жилья  \n",
       "1   112080.014102            приобретение автомобиля  \n",
       "2   145885.952297                      покупка жилья  \n",
       "3   267628.550329         дополнительное образование  \n",
       "4   158616.077870                    сыграть свадьбу  \n",
       "5   255763.565419                      покупка жилья  \n",
       "6   240525.971920                  операции с жильем  \n",
       "7   135823.934197                        образование  \n",
       "8    95856.832424              на проведение свадьбы  \n",
       "9   144425.938277            покупка жилья для семьи  \n",
       "10  113943.491460               покупка недвижимости  \n",
       "11   77069.234271  покупка коммерческой недвижимости  \n",
       "12            NaN                    сыграть свадьбу  \n",
       "13  130458.228857            приобретение автомобиля  \n",
       "14  165127.911772         покупка жилой недвижимости  "
      ]
     },
     "execution_count": 10,
     "metadata": {},
     "output_type": "execute_result"
    }
   ],
   "source": [
    "df.head(15)"
   ]
  },
  {
   "cell_type": "markdown",
   "id": "3a127ee3",
   "metadata": {},
   "source": [
    "Для заполнения пропусков в столбце `total_income` будем использовать медианное значение. Чтобы убедиться в правильности заполнения пропусков, сначала найдем медиану: "
   ]
  },
  {
   "cell_type": "code",
   "execution_count": 11,
   "id": "d70cd095",
   "metadata": {},
   "outputs": [
    {
     "data": {
      "text/plain": [
       "145017.93753253992"
      ]
     },
     "execution_count": 11,
     "metadata": {},
     "output_type": "execute_result"
    }
   ],
   "source": [
    "df['total_income'].median()"
   ]
  },
  {
   "cell_type": "markdown",
   "id": "a69285aa",
   "metadata": {},
   "source": [
    "Именно это число мы должны увидеть на месте пропусков после заполнения:"
   ]
  },
  {
   "cell_type": "code",
   "execution_count": 12,
   "id": "7b0ceb09",
   "metadata": {},
   "outputs": [],
   "source": [
    "df['total_income'] = df['total_income'].fillna(df['total_income'].median())"
   ]
  },
  {
   "cell_type": "markdown",
   "id": "3fb4e8ea",
   "metadata": {},
   "source": [
    "Проверим, так ли это:"
   ]
  },
  {
   "cell_type": "code",
   "execution_count": 13,
   "id": "ba2f1875",
   "metadata": {},
   "outputs": [
    {
     "data": {
      "text/html": [
       "<div>\n",
       "<style scoped>\n",
       "    .dataframe tbody tr th:only-of-type {\n",
       "        vertical-align: middle;\n",
       "    }\n",
       "\n",
       "    .dataframe tbody tr th {\n",
       "        vertical-align: top;\n",
       "    }\n",
       "\n",
       "    .dataframe thead th {\n",
       "        text-align: right;\n",
       "    }\n",
       "</style>\n",
       "<table border=\"1\" class=\"dataframe\">\n",
       "  <thead>\n",
       "    <tr style=\"text-align: right;\">\n",
       "      <th></th>\n",
       "      <th>children</th>\n",
       "      <th>days_employed</th>\n",
       "      <th>dob_years</th>\n",
       "      <th>education</th>\n",
       "      <th>education_id</th>\n",
       "      <th>family_status</th>\n",
       "      <th>family_status_id</th>\n",
       "      <th>gender</th>\n",
       "      <th>income_type</th>\n",
       "      <th>debt</th>\n",
       "      <th>total_income</th>\n",
       "      <th>purpose</th>\n",
       "    </tr>\n",
       "  </thead>\n",
       "  <tbody>\n",
       "    <tr>\n",
       "      <th>0</th>\n",
       "      <td>1</td>\n",
       "      <td>8437.673028</td>\n",
       "      <td>42</td>\n",
       "      <td>высшее</td>\n",
       "      <td>0</td>\n",
       "      <td>женат / замужем</td>\n",
       "      <td>0</td>\n",
       "      <td>F</td>\n",
       "      <td>сотрудник</td>\n",
       "      <td>0</td>\n",
       "      <td>253875.639453</td>\n",
       "      <td>покупка жилья</td>\n",
       "    </tr>\n",
       "    <tr>\n",
       "      <th>1</th>\n",
       "      <td>1</td>\n",
       "      <td>4024.803754</td>\n",
       "      <td>36</td>\n",
       "      <td>среднее</td>\n",
       "      <td>1</td>\n",
       "      <td>женат / замужем</td>\n",
       "      <td>0</td>\n",
       "      <td>F</td>\n",
       "      <td>сотрудник</td>\n",
       "      <td>0</td>\n",
       "      <td>112080.014102</td>\n",
       "      <td>приобретение автомобиля</td>\n",
       "    </tr>\n",
       "    <tr>\n",
       "      <th>2</th>\n",
       "      <td>0</td>\n",
       "      <td>5623.422610</td>\n",
       "      <td>33</td>\n",
       "      <td>Среднее</td>\n",
       "      <td>1</td>\n",
       "      <td>женат / замужем</td>\n",
       "      <td>0</td>\n",
       "      <td>M</td>\n",
       "      <td>сотрудник</td>\n",
       "      <td>0</td>\n",
       "      <td>145885.952297</td>\n",
       "      <td>покупка жилья</td>\n",
       "    </tr>\n",
       "    <tr>\n",
       "      <th>3</th>\n",
       "      <td>3</td>\n",
       "      <td>4124.747207</td>\n",
       "      <td>32</td>\n",
       "      <td>среднее</td>\n",
       "      <td>1</td>\n",
       "      <td>женат / замужем</td>\n",
       "      <td>0</td>\n",
       "      <td>M</td>\n",
       "      <td>сотрудник</td>\n",
       "      <td>0</td>\n",
       "      <td>267628.550329</td>\n",
       "      <td>дополнительное образование</td>\n",
       "    </tr>\n",
       "    <tr>\n",
       "      <th>4</th>\n",
       "      <td>0</td>\n",
       "      <td>340266.072047</td>\n",
       "      <td>53</td>\n",
       "      <td>среднее</td>\n",
       "      <td>1</td>\n",
       "      <td>гражданский брак</td>\n",
       "      <td>1</td>\n",
       "      <td>F</td>\n",
       "      <td>пенсионер</td>\n",
       "      <td>0</td>\n",
       "      <td>158616.077870</td>\n",
       "      <td>сыграть свадьбу</td>\n",
       "    </tr>\n",
       "    <tr>\n",
       "      <th>5</th>\n",
       "      <td>0</td>\n",
       "      <td>926.185831</td>\n",
       "      <td>27</td>\n",
       "      <td>высшее</td>\n",
       "      <td>0</td>\n",
       "      <td>гражданский брак</td>\n",
       "      <td>1</td>\n",
       "      <td>M</td>\n",
       "      <td>компаньон</td>\n",
       "      <td>0</td>\n",
       "      <td>255763.565419</td>\n",
       "      <td>покупка жилья</td>\n",
       "    </tr>\n",
       "    <tr>\n",
       "      <th>6</th>\n",
       "      <td>0</td>\n",
       "      <td>2879.202052</td>\n",
       "      <td>43</td>\n",
       "      <td>высшее</td>\n",
       "      <td>0</td>\n",
       "      <td>женат / замужем</td>\n",
       "      <td>0</td>\n",
       "      <td>F</td>\n",
       "      <td>компаньон</td>\n",
       "      <td>0</td>\n",
       "      <td>240525.971920</td>\n",
       "      <td>операции с жильем</td>\n",
       "    </tr>\n",
       "    <tr>\n",
       "      <th>7</th>\n",
       "      <td>0</td>\n",
       "      <td>152.779569</td>\n",
       "      <td>50</td>\n",
       "      <td>СРЕДНЕЕ</td>\n",
       "      <td>1</td>\n",
       "      <td>женат / замужем</td>\n",
       "      <td>0</td>\n",
       "      <td>M</td>\n",
       "      <td>сотрудник</td>\n",
       "      <td>0</td>\n",
       "      <td>135823.934197</td>\n",
       "      <td>образование</td>\n",
       "    </tr>\n",
       "    <tr>\n",
       "      <th>8</th>\n",
       "      <td>2</td>\n",
       "      <td>6929.865299</td>\n",
       "      <td>35</td>\n",
       "      <td>ВЫСШЕЕ</td>\n",
       "      <td>0</td>\n",
       "      <td>гражданский брак</td>\n",
       "      <td>1</td>\n",
       "      <td>F</td>\n",
       "      <td>сотрудник</td>\n",
       "      <td>0</td>\n",
       "      <td>95856.832424</td>\n",
       "      <td>на проведение свадьбы</td>\n",
       "    </tr>\n",
       "    <tr>\n",
       "      <th>9</th>\n",
       "      <td>0</td>\n",
       "      <td>2188.756445</td>\n",
       "      <td>41</td>\n",
       "      <td>среднее</td>\n",
       "      <td>1</td>\n",
       "      <td>женат / замужем</td>\n",
       "      <td>0</td>\n",
       "      <td>M</td>\n",
       "      <td>сотрудник</td>\n",
       "      <td>0</td>\n",
       "      <td>144425.938277</td>\n",
       "      <td>покупка жилья для семьи</td>\n",
       "    </tr>\n",
       "    <tr>\n",
       "      <th>10</th>\n",
       "      <td>2</td>\n",
       "      <td>4171.483647</td>\n",
       "      <td>36</td>\n",
       "      <td>высшее</td>\n",
       "      <td>0</td>\n",
       "      <td>женат / замужем</td>\n",
       "      <td>0</td>\n",
       "      <td>M</td>\n",
       "      <td>компаньон</td>\n",
       "      <td>0</td>\n",
       "      <td>113943.491460</td>\n",
       "      <td>покупка недвижимости</td>\n",
       "    </tr>\n",
       "    <tr>\n",
       "      <th>11</th>\n",
       "      <td>0</td>\n",
       "      <td>792.701887</td>\n",
       "      <td>40</td>\n",
       "      <td>среднее</td>\n",
       "      <td>1</td>\n",
       "      <td>женат / замужем</td>\n",
       "      <td>0</td>\n",
       "      <td>F</td>\n",
       "      <td>сотрудник</td>\n",
       "      <td>0</td>\n",
       "      <td>77069.234271</td>\n",
       "      <td>покупка коммерческой недвижимости</td>\n",
       "    </tr>\n",
       "    <tr>\n",
       "      <th>12</th>\n",
       "      <td>0</td>\n",
       "      <td>2194.220567</td>\n",
       "      <td>65</td>\n",
       "      <td>среднее</td>\n",
       "      <td>1</td>\n",
       "      <td>гражданский брак</td>\n",
       "      <td>1</td>\n",
       "      <td>M</td>\n",
       "      <td>пенсионер</td>\n",
       "      <td>0</td>\n",
       "      <td>145017.937533</td>\n",
       "      <td>сыграть свадьбу</td>\n",
       "    </tr>\n",
       "    <tr>\n",
       "      <th>13</th>\n",
       "      <td>0</td>\n",
       "      <td>1846.641941</td>\n",
       "      <td>54</td>\n",
       "      <td>неоконченное высшее</td>\n",
       "      <td>2</td>\n",
       "      <td>женат / замужем</td>\n",
       "      <td>0</td>\n",
       "      <td>F</td>\n",
       "      <td>сотрудник</td>\n",
       "      <td>0</td>\n",
       "      <td>130458.228857</td>\n",
       "      <td>приобретение автомобиля</td>\n",
       "    </tr>\n",
       "    <tr>\n",
       "      <th>14</th>\n",
       "      <td>0</td>\n",
       "      <td>1844.956182</td>\n",
       "      <td>56</td>\n",
       "      <td>высшее</td>\n",
       "      <td>0</td>\n",
       "      <td>гражданский брак</td>\n",
       "      <td>1</td>\n",
       "      <td>F</td>\n",
       "      <td>компаньон</td>\n",
       "      <td>1</td>\n",
       "      <td>165127.911772</td>\n",
       "      <td>покупка жилой недвижимости</td>\n",
       "    </tr>\n",
       "  </tbody>\n",
       "</table>\n",
       "</div>"
      ],
      "text/plain": [
       "    children  days_employed  dob_years            education  education_id  \\\n",
       "0          1    8437.673028         42               высшее             0   \n",
       "1          1    4024.803754         36              среднее             1   \n",
       "2          0    5623.422610         33              Среднее             1   \n",
       "3          3    4124.747207         32              среднее             1   \n",
       "4          0  340266.072047         53              среднее             1   \n",
       "5          0     926.185831         27               высшее             0   \n",
       "6          0    2879.202052         43               высшее             0   \n",
       "7          0     152.779569         50              СРЕДНЕЕ             1   \n",
       "8          2    6929.865299         35               ВЫСШЕЕ             0   \n",
       "9          0    2188.756445         41              среднее             1   \n",
       "10         2    4171.483647         36               высшее             0   \n",
       "11         0     792.701887         40              среднее             1   \n",
       "12         0    2194.220567         65              среднее             1   \n",
       "13         0    1846.641941         54  неоконченное высшее             2   \n",
       "14         0    1844.956182         56               высшее             0   \n",
       "\n",
       "       family_status  family_status_id gender income_type  debt  \\\n",
       "0    женат / замужем                 0      F   сотрудник     0   \n",
       "1    женат / замужем                 0      F   сотрудник     0   \n",
       "2    женат / замужем                 0      M   сотрудник     0   \n",
       "3    женат / замужем                 0      M   сотрудник     0   \n",
       "4   гражданский брак                 1      F   пенсионер     0   \n",
       "5   гражданский брак                 1      M   компаньон     0   \n",
       "6    женат / замужем                 0      F   компаньон     0   \n",
       "7    женат / замужем                 0      M   сотрудник     0   \n",
       "8   гражданский брак                 1      F   сотрудник     0   \n",
       "9    женат / замужем                 0      M   сотрудник     0   \n",
       "10   женат / замужем                 0      M   компаньон     0   \n",
       "11   женат / замужем                 0      F   сотрудник     0   \n",
       "12  гражданский брак                 1      M   пенсионер     0   \n",
       "13   женат / замужем                 0      F   сотрудник     0   \n",
       "14  гражданский брак                 1      F   компаньон     1   \n",
       "\n",
       "     total_income                            purpose  \n",
       "0   253875.639453                      покупка жилья  \n",
       "1   112080.014102            приобретение автомобиля  \n",
       "2   145885.952297                      покупка жилья  \n",
       "3   267628.550329         дополнительное образование  \n",
       "4   158616.077870                    сыграть свадьбу  \n",
       "5   255763.565419                      покупка жилья  \n",
       "6   240525.971920                  операции с жильем  \n",
       "7   135823.934197                        образование  \n",
       "8    95856.832424              на проведение свадьбы  \n",
       "9   144425.938277            покупка жилья для семьи  \n",
       "10  113943.491460               покупка недвижимости  \n",
       "11   77069.234271  покупка коммерческой недвижимости  \n",
       "12  145017.937533                    сыграть свадьбу  \n",
       "13  130458.228857            приобретение автомобиля  \n",
       "14  165127.911772         покупка жилой недвижимости  "
      ]
     },
     "execution_count": 13,
     "metadata": {},
     "output_type": "execute_result"
    }
   ],
   "source": [
    "df.head(15)"
   ]
  },
  {
   "cell_type": "markdown",
   "id": "edd21de8",
   "metadata": {},
   "source": [
    "Действительно, пропуск в строке с индексом `12` получил значение медианы. "
   ]
  },
  {
   "cell_type": "markdown",
   "id": "25da5436",
   "metadata": {},
   "source": [
    "### Проверка данных на аномалии и исправления"
   ]
  },
  {
   "cell_type": "markdown",
   "id": "9c34d3fd",
   "metadata": {},
   "source": [
    "Проверим столбец `children`. Данные в этом столбце важны для исследования, поэтому стоит уделить им особое внимание."
   ]
  },
  {
   "cell_type": "markdown",
   "id": "8d1ec128",
   "metadata": {},
   "source": [
    "Вызовем к столбцу метод `value_counts()`, который возвращает уникальные значения и количество их упоминаний:"
   ]
  },
  {
   "cell_type": "code",
   "execution_count": 14,
   "id": "0c42744c",
   "metadata": {},
   "outputs": [
    {
     "data": {
      "text/plain": [
       " 0     14149\n",
       " 1      4818\n",
       " 2      2055\n",
       " 3       330\n",
       " 20       76\n",
       "-1        47\n",
       " 4        41\n",
       " 5         9\n",
       "Name: children, dtype: int64"
      ]
     },
     "execution_count": 14,
     "metadata": {},
     "output_type": "execute_result"
    }
   ],
   "source": [
    "df['children'].value_counts()"
   ]
  },
  {
   "cell_type": "markdown",
   "id": "f8872f91",
   "metadata": {},
   "source": [
    "Налицо две аномалии: отрицательное значение (возможно, это было тире при вводе данных), а также 76 клиентов с 20-ю детьми в семье (возможно, это опечатка). В любом случае, аномалии нужно обработать. \n",
    "\n",
    "Уберем отрицательное значение с помощью уже известного нам метода `abs`: "
   ]
  },
  {
   "cell_type": "code",
   "execution_count": 15,
   "id": "6fd19caa",
   "metadata": {},
   "outputs": [
    {
     "data": {
      "text/plain": [
       "0     14149\n",
       "1      4865\n",
       "2      2055\n",
       "3       330\n",
       "20       76\n",
       "4        41\n",
       "5         9\n",
       "Name: children, dtype: int64"
      ]
     },
     "execution_count": 15,
     "metadata": {},
     "output_type": "execute_result"
    }
   ],
   "source": [
    "df['children'] = df['children'].apply(abs)\n",
    "df['children'].value_counts() #сразу проверим, удалось ли убрать минус"
   ]
  },
  {
   "cell_type": "markdown",
   "id": "a1186f8b",
   "metadata": {},
   "source": [
    "Осталось решить вопрос с аномально многодетными клиентами. Скорее всего, на месте 20 должно быть число 2. Это больше похоже на правду. Заменим некорректное значение на корректное с помощью метода `replace()`:"
   ]
  },
  {
   "cell_type": "code",
   "execution_count": 16,
   "id": "de2f4777",
   "metadata": {},
   "outputs": [],
   "source": [
    "df['children'] = df['children'].replace(20, 2)"
   ]
  },
  {
   "cell_type": "code",
   "execution_count": 17,
   "id": "d9651881",
   "metadata": {},
   "outputs": [
    {
     "data": {
      "text/plain": [
       "0    14149\n",
       "1     4865\n",
       "2     2131\n",
       "3      330\n",
       "4       41\n",
       "5        9\n",
       "Name: children, dtype: int64"
      ]
     },
     "execution_count": 17,
     "metadata": {},
     "output_type": "execute_result"
    }
   ],
   "source": [
    "df['children'].value_counts() #проверим результат работы метода"
   ]
  },
  {
   "cell_type": "markdown",
   "id": "f32c00ae",
   "metadata": {},
   "source": [
    "### Изменение типов данных"
   ]
  },
  {
   "cell_type": "markdown",
   "id": "e51b4981",
   "metadata": {},
   "source": [
    "Ранее мы заполнили пропуски в двух столбцах медианным значением. Однако, нужно сделать ещё одно преобразование. Следует превратить значение столбцов в целочисленные. Дробная часть не только затрудняет зрительное восприятие таблицы, но и не является значимой для показателя о стаже и доходах. Сначала превратим значения столбца `days_employed` в целые числа для оптимизации датасета:"
   ]
  },
  {
   "cell_type": "code",
   "execution_count": 18,
   "id": "c75f9424",
   "metadata": {
    "scrolled": true
   },
   "outputs": [
    {
     "data": {
      "text/html": [
       "<div>\n",
       "<style scoped>\n",
       "    .dataframe tbody tr th:only-of-type {\n",
       "        vertical-align: middle;\n",
       "    }\n",
       "\n",
       "    .dataframe tbody tr th {\n",
       "        vertical-align: top;\n",
       "    }\n",
       "\n",
       "    .dataframe thead th {\n",
       "        text-align: right;\n",
       "    }\n",
       "</style>\n",
       "<table border=\"1\" class=\"dataframe\">\n",
       "  <thead>\n",
       "    <tr style=\"text-align: right;\">\n",
       "      <th></th>\n",
       "      <th>children</th>\n",
       "      <th>days_employed</th>\n",
       "      <th>dob_years</th>\n",
       "      <th>education</th>\n",
       "      <th>education_id</th>\n",
       "      <th>family_status</th>\n",
       "      <th>family_status_id</th>\n",
       "      <th>gender</th>\n",
       "      <th>income_type</th>\n",
       "      <th>debt</th>\n",
       "      <th>total_income</th>\n",
       "      <th>purpose</th>\n",
       "    </tr>\n",
       "  </thead>\n",
       "  <tbody>\n",
       "    <tr>\n",
       "      <th>0</th>\n",
       "      <td>1</td>\n",
       "      <td>8437</td>\n",
       "      <td>42</td>\n",
       "      <td>высшее</td>\n",
       "      <td>0</td>\n",
       "      <td>женат / замужем</td>\n",
       "      <td>0</td>\n",
       "      <td>F</td>\n",
       "      <td>сотрудник</td>\n",
       "      <td>0</td>\n",
       "      <td>253875.639453</td>\n",
       "      <td>покупка жилья</td>\n",
       "    </tr>\n",
       "    <tr>\n",
       "      <th>1</th>\n",
       "      <td>1</td>\n",
       "      <td>4024</td>\n",
       "      <td>36</td>\n",
       "      <td>среднее</td>\n",
       "      <td>1</td>\n",
       "      <td>женат / замужем</td>\n",
       "      <td>0</td>\n",
       "      <td>F</td>\n",
       "      <td>сотрудник</td>\n",
       "      <td>0</td>\n",
       "      <td>112080.014102</td>\n",
       "      <td>приобретение автомобиля</td>\n",
       "    </tr>\n",
       "    <tr>\n",
       "      <th>2</th>\n",
       "      <td>0</td>\n",
       "      <td>5623</td>\n",
       "      <td>33</td>\n",
       "      <td>Среднее</td>\n",
       "      <td>1</td>\n",
       "      <td>женат / замужем</td>\n",
       "      <td>0</td>\n",
       "      <td>M</td>\n",
       "      <td>сотрудник</td>\n",
       "      <td>0</td>\n",
       "      <td>145885.952297</td>\n",
       "      <td>покупка жилья</td>\n",
       "    </tr>\n",
       "    <tr>\n",
       "      <th>3</th>\n",
       "      <td>3</td>\n",
       "      <td>4124</td>\n",
       "      <td>32</td>\n",
       "      <td>среднее</td>\n",
       "      <td>1</td>\n",
       "      <td>женат / замужем</td>\n",
       "      <td>0</td>\n",
       "      <td>M</td>\n",
       "      <td>сотрудник</td>\n",
       "      <td>0</td>\n",
       "      <td>267628.550329</td>\n",
       "      <td>дополнительное образование</td>\n",
       "    </tr>\n",
       "    <tr>\n",
       "      <th>4</th>\n",
       "      <td>0</td>\n",
       "      <td>340266</td>\n",
       "      <td>53</td>\n",
       "      <td>среднее</td>\n",
       "      <td>1</td>\n",
       "      <td>гражданский брак</td>\n",
       "      <td>1</td>\n",
       "      <td>F</td>\n",
       "      <td>пенсионер</td>\n",
       "      <td>0</td>\n",
       "      <td>158616.077870</td>\n",
       "      <td>сыграть свадьбу</td>\n",
       "    </tr>\n",
       "  </tbody>\n",
       "</table>\n",
       "</div>"
      ],
      "text/plain": [
       "   children  days_employed  dob_years education  education_id  \\\n",
       "0         1           8437         42    высшее             0   \n",
       "1         1           4024         36   среднее             1   \n",
       "2         0           5623         33   Среднее             1   \n",
       "3         3           4124         32   среднее             1   \n",
       "4         0         340266         53   среднее             1   \n",
       "\n",
       "      family_status  family_status_id gender income_type  debt   total_income  \\\n",
       "0   женат / замужем                 0      F   сотрудник     0  253875.639453   \n",
       "1   женат / замужем                 0      F   сотрудник     0  112080.014102   \n",
       "2   женат / замужем                 0      M   сотрудник     0  145885.952297   \n",
       "3   женат / замужем                 0      M   сотрудник     0  267628.550329   \n",
       "4  гражданский брак                 1      F   пенсионер     0  158616.077870   \n",
       "\n",
       "                      purpose  \n",
       "0               покупка жилья  \n",
       "1     приобретение автомобиля  \n",
       "2               покупка жилья  \n",
       "3  дополнительное образование  \n",
       "4             сыграть свадьбу  "
      ]
     },
     "execution_count": 18,
     "metadata": {},
     "output_type": "execute_result"
    }
   ],
   "source": [
    "df['days_employed'] = df['days_employed'].astype('int32') #используем метод astype()\n",
    "df.head() #сразу проверим результат"
   ]
  },
  {
   "cell_type": "markdown",
   "id": "2527e737",
   "metadata": {},
   "source": [
    "Аналогично столбцу с трудовым стажем, приведем значения столбца с доходами к целочисленным:"
   ]
  },
  {
   "cell_type": "code",
   "execution_count": 19,
   "id": "f80b0f0b",
   "metadata": {},
   "outputs": [
    {
     "data": {
      "text/html": [
       "<div>\n",
       "<style scoped>\n",
       "    .dataframe tbody tr th:only-of-type {\n",
       "        vertical-align: middle;\n",
       "    }\n",
       "\n",
       "    .dataframe tbody tr th {\n",
       "        vertical-align: top;\n",
       "    }\n",
       "\n",
       "    .dataframe thead th {\n",
       "        text-align: right;\n",
       "    }\n",
       "</style>\n",
       "<table border=\"1\" class=\"dataframe\">\n",
       "  <thead>\n",
       "    <tr style=\"text-align: right;\">\n",
       "      <th></th>\n",
       "      <th>children</th>\n",
       "      <th>days_employed</th>\n",
       "      <th>dob_years</th>\n",
       "      <th>education</th>\n",
       "      <th>education_id</th>\n",
       "      <th>family_status</th>\n",
       "      <th>family_status_id</th>\n",
       "      <th>gender</th>\n",
       "      <th>income_type</th>\n",
       "      <th>debt</th>\n",
       "      <th>total_income</th>\n",
       "      <th>purpose</th>\n",
       "    </tr>\n",
       "  </thead>\n",
       "  <tbody>\n",
       "    <tr>\n",
       "      <th>0</th>\n",
       "      <td>1</td>\n",
       "      <td>8437</td>\n",
       "      <td>42</td>\n",
       "      <td>высшее</td>\n",
       "      <td>0</td>\n",
       "      <td>женат / замужем</td>\n",
       "      <td>0</td>\n",
       "      <td>F</td>\n",
       "      <td>сотрудник</td>\n",
       "      <td>0</td>\n",
       "      <td>253875</td>\n",
       "      <td>покупка жилья</td>\n",
       "    </tr>\n",
       "    <tr>\n",
       "      <th>1</th>\n",
       "      <td>1</td>\n",
       "      <td>4024</td>\n",
       "      <td>36</td>\n",
       "      <td>среднее</td>\n",
       "      <td>1</td>\n",
       "      <td>женат / замужем</td>\n",
       "      <td>0</td>\n",
       "      <td>F</td>\n",
       "      <td>сотрудник</td>\n",
       "      <td>0</td>\n",
       "      <td>112080</td>\n",
       "      <td>приобретение автомобиля</td>\n",
       "    </tr>\n",
       "    <tr>\n",
       "      <th>2</th>\n",
       "      <td>0</td>\n",
       "      <td>5623</td>\n",
       "      <td>33</td>\n",
       "      <td>Среднее</td>\n",
       "      <td>1</td>\n",
       "      <td>женат / замужем</td>\n",
       "      <td>0</td>\n",
       "      <td>M</td>\n",
       "      <td>сотрудник</td>\n",
       "      <td>0</td>\n",
       "      <td>145885</td>\n",
       "      <td>покупка жилья</td>\n",
       "    </tr>\n",
       "    <tr>\n",
       "      <th>3</th>\n",
       "      <td>3</td>\n",
       "      <td>4124</td>\n",
       "      <td>32</td>\n",
       "      <td>среднее</td>\n",
       "      <td>1</td>\n",
       "      <td>женат / замужем</td>\n",
       "      <td>0</td>\n",
       "      <td>M</td>\n",
       "      <td>сотрудник</td>\n",
       "      <td>0</td>\n",
       "      <td>267628</td>\n",
       "      <td>дополнительное образование</td>\n",
       "    </tr>\n",
       "    <tr>\n",
       "      <th>4</th>\n",
       "      <td>0</td>\n",
       "      <td>340266</td>\n",
       "      <td>53</td>\n",
       "      <td>среднее</td>\n",
       "      <td>1</td>\n",
       "      <td>гражданский брак</td>\n",
       "      <td>1</td>\n",
       "      <td>F</td>\n",
       "      <td>пенсионер</td>\n",
       "      <td>0</td>\n",
       "      <td>158616</td>\n",
       "      <td>сыграть свадьбу</td>\n",
       "    </tr>\n",
       "  </tbody>\n",
       "</table>\n",
       "</div>"
      ],
      "text/plain": [
       "   children  days_employed  dob_years education  education_id  \\\n",
       "0         1           8437         42    высшее             0   \n",
       "1         1           4024         36   среднее             1   \n",
       "2         0           5623         33   Среднее             1   \n",
       "3         3           4124         32   среднее             1   \n",
       "4         0         340266         53   среднее             1   \n",
       "\n",
       "      family_status  family_status_id gender income_type  debt  total_income  \\\n",
       "0   женат / замужем                 0      F   сотрудник     0        253875   \n",
       "1   женат / замужем                 0      F   сотрудник     0        112080   \n",
       "2   женат / замужем                 0      M   сотрудник     0        145885   \n",
       "3   женат / замужем                 0      M   сотрудник     0        267628   \n",
       "4  гражданский брак                 1      F   пенсионер     0        158616   \n",
       "\n",
       "                      purpose  \n",
       "0               покупка жилья  \n",
       "1     приобретение автомобиля  \n",
       "2               покупка жилья  \n",
       "3  дополнительное образование  \n",
       "4             сыграть свадьбу  "
      ]
     },
     "execution_count": 19,
     "metadata": {},
     "output_type": "execute_result"
    }
   ],
   "source": [
    "df['total_income'] = df['total_income'].astype('int32')\n",
    "df.head()"
   ]
  },
  {
   "cell_type": "markdown",
   "id": "158e3689",
   "metadata": {},
   "source": [
    "Изменение типов данных прошло успешно. Переходим к работе с дубликатами. "
   ]
  },
  {
   "cell_type": "code",
   "execution_count": 20,
   "id": "14823e66",
   "metadata": {},
   "outputs": [
    {
     "name": "stdout",
     "output_type": "stream",
     "text": [
      "<class 'pandas.core.frame.DataFrame'>\n",
      "RangeIndex: 21525 entries, 0 to 21524\n",
      "Data columns (total 12 columns):\n",
      " #   Column            Non-Null Count  Dtype \n",
      "---  ------            --------------  ----- \n",
      " 0   children          21525 non-null  int64 \n",
      " 1   days_employed     21525 non-null  int32 \n",
      " 2   dob_years         21525 non-null  int64 \n",
      " 3   education         21525 non-null  object\n",
      " 4   education_id      21525 non-null  int64 \n",
      " 5   family_status     21525 non-null  object\n",
      " 6   family_status_id  21525 non-null  int64 \n",
      " 7   gender            21525 non-null  object\n",
      " 8   income_type       21525 non-null  object\n",
      " 9   debt              21525 non-null  int64 \n",
      " 10  total_income      21525 non-null  int32 \n",
      " 11  purpose           21525 non-null  object\n",
      "dtypes: int32(2), int64(5), object(5)\n",
      "memory usage: 1.8+ MB\n"
     ]
    }
   ],
   "source": [
    "df.info()"
   ]
  },
  {
   "cell_type": "markdown",
   "id": "adecf3cf",
   "metadata": {},
   "source": [
    "### Удаление дубликатов"
   ]
  },
  {
   "cell_type": "markdown",
   "id": "ce6d8ff4",
   "metadata": {},
   "source": [
    "Проверим данные на явные дубликаты. Для этого применим метод `duplicated()` и добавим к нему `sum()`, чтобы в итоге получить количество строк с явными дубликатами: "
   ]
  },
  {
   "cell_type": "code",
   "execution_count": 21,
   "id": "98e9be56",
   "metadata": {},
   "outputs": [
    {
     "data": {
      "text/plain": [
       "54"
      ]
     },
     "execution_count": 21,
     "metadata": {},
     "output_type": "execute_result"
    }
   ],
   "source": [
    "df.duplicated().sum()"
   ]
  },
  {
   "cell_type": "markdown",
   "id": "42c3e6ff",
   "metadata": {},
   "source": [
    "Для удаления явных дубликатов будем использовать метод `drop_duplicates()`, а чтобы избежать нарушения порядка индексов, применим метод `reset_index()` с параметром `drop=True`. В итоге получим таблицу без явных дубликатов с корректным порядком индексов."
   ]
  },
  {
   "cell_type": "code",
   "execution_count": 22,
   "id": "54d1642d",
   "metadata": {},
   "outputs": [],
   "source": [
    "df = df.drop_duplicates().reset_index(drop=True)"
   ]
  },
  {
   "cell_type": "markdown",
   "id": "302d8568",
   "metadata": {},
   "source": [
    "Ещё раз посчитаем явные дубликаты в таблице — убедимся, что полностью от них избавились:"
   ]
  },
  {
   "cell_type": "code",
   "execution_count": 23,
   "id": "6e027e77",
   "metadata": {},
   "outputs": [
    {
     "data": {
      "text/plain": [
       "0"
      ]
     },
     "execution_count": 23,
     "metadata": {},
     "output_type": "execute_result"
    }
   ],
   "source": [
    "df.duplicated().sum()"
   ]
  },
  {
   "cell_type": "markdown",
   "id": "a2f54ed4",
   "metadata": {},
   "source": [
    "Теперь обработаем неявные дубликаты. Так, например, в пункте `2.3` можно заметить, что данные в столбце `education` записаны разным регистром. Приведем в порядок этот столбец. "
   ]
  },
  {
   "cell_type": "markdown",
   "id": "c4b07594",
   "metadata": {},
   "source": [
    "Ознакомимся с дубликатами с помощью метода `value_counts()`:"
   ]
  },
  {
   "cell_type": "code",
   "execution_count": 24,
   "id": "97959f52",
   "metadata": {},
   "outputs": [
    {
     "data": {
      "text/plain": [
       "среднее                13705\n",
       "высшее                  4710\n",
       "СРЕДНЕЕ                  772\n",
       "Среднее                  711\n",
       "неоконченное высшее      668\n",
       "ВЫСШЕЕ                   273\n",
       "Высшее                   268\n",
       "начальное                250\n",
       "Неоконченное высшее       47\n",
       "НЕОКОНЧЕННОЕ ВЫСШЕЕ       29\n",
       "НАЧАЛЬНОЕ                 17\n",
       "Начальное                 15\n",
       "ученая степень             4\n",
       "Ученая степень             1\n",
       "УЧЕНАЯ СТЕПЕНЬ             1\n",
       "Name: education, dtype: int64"
      ]
     },
     "execution_count": 24,
     "metadata": {},
     "output_type": "execute_result"
    }
   ],
   "source": [
    "df['education'].value_counts()"
   ]
  },
  {
   "cell_type": "markdown",
   "id": "ad4d955c",
   "metadata": {},
   "source": [
    "Приведем данные об образовании к единому виду — запишем всё в нижнем регистре с помощью метода `str.lower()`: "
   ]
  },
  {
   "cell_type": "code",
   "execution_count": 25,
   "id": "e6ab4645",
   "metadata": {},
   "outputs": [],
   "source": [
    "df['education'] = df['education'].str.lower()"
   ]
  },
  {
   "cell_type": "markdown",
   "id": "9fbab8fd",
   "metadata": {},
   "source": [
    "Проверим, как всё прошло:"
   ]
  },
  {
   "cell_type": "code",
   "execution_count": 26,
   "id": "fc99cca8",
   "metadata": {},
   "outputs": [
    {
     "data": {
      "text/plain": [
       "среднее                15188\n",
       "высшее                  5251\n",
       "неоконченное высшее      744\n",
       "начальное                282\n",
       "ученая степень             6\n",
       "Name: education, dtype: int64"
      ]
     },
     "execution_count": 26,
     "metadata": {},
     "output_type": "execute_result"
    }
   ],
   "source": [
    "df['education'].value_counts()"
   ]
  },
  {
   "cell_type": "markdown",
   "id": "5430a8ac",
   "metadata": {},
   "source": [
    "Успех! Переходим к обработке следующих столбцов. Проверим на неявные дубликаты столбец `family_status`:"
   ]
  },
  {
   "cell_type": "code",
   "execution_count": 27,
   "id": "ec5a0f3c",
   "metadata": {},
   "outputs": [
    {
     "data": {
      "text/plain": [
       "женат / замужем          12344\n",
       "гражданский брак          4163\n",
       "Не женат / не замужем     2810\n",
       "в разводе                 1195\n",
       "вдовец / вдова             959\n",
       "Name: family_status, dtype: int64"
      ]
     },
     "execution_count": 27,
     "metadata": {},
     "output_type": "execute_result"
    }
   ],
   "source": [
    "df['family_status'].value_counts()"
   ]
  },
  {
   "cell_type": "markdown",
   "id": "6755fe51",
   "metadata": {},
   "source": [
    "Здесь бросается в глаза только заглавная буква в статусе \"Не женат\", это не дубликат. Избавимся от неё для сохранения единства стиля:"
   ]
  },
  {
   "cell_type": "code",
   "execution_count": 28,
   "id": "9cc8550a",
   "metadata": {},
   "outputs": [],
   "source": [
    "df['family_status'] = df['family_status'].str.lower()"
   ]
  },
  {
   "cell_type": "code",
   "execution_count": 29,
   "id": "98cdbb87",
   "metadata": {},
   "outputs": [
    {
     "data": {
      "text/plain": [
       "женат / замужем          12344\n",
       "гражданский брак          4163\n",
       "не женат / не замужем     2810\n",
       "в разводе                 1195\n",
       "вдовец / вдова             959\n",
       "Name: family_status, dtype: int64"
      ]
     },
     "execution_count": 29,
     "metadata": {},
     "output_type": "execute_result"
    }
   ],
   "source": [
    "df['family_status'].value_counts()"
   ]
  },
  {
   "cell_type": "markdown",
   "id": "f4be5568",
   "metadata": {},
   "source": [
    "Ещё один столбец приведен в порядок. Двигаемся дальше. Проверим столбец `gender`:"
   ]
  },
  {
   "cell_type": "code",
   "execution_count": 30,
   "id": "d35e02db",
   "metadata": {},
   "outputs": [
    {
     "data": {
      "text/plain": [
       "F      14189\n",
       "M       7281\n",
       "XNA        1\n",
       "Name: gender, dtype: int64"
      ]
     },
     "execution_count": 30,
     "metadata": {},
     "output_type": "execute_result"
    }
   ],
   "source": [
    "df['gender'].value_counts()"
   ]
  },
  {
   "cell_type": "markdown",
   "id": "7cc3b8d6",
   "metadata": {},
   "source": [
    "Здесь дубликатов нет. Перейдем к проверке стоблца `income_type`:"
   ]
  },
  {
   "cell_type": "code",
   "execution_count": 31,
   "id": "941c0c10",
   "metadata": {},
   "outputs": [
    {
     "data": {
      "text/plain": [
       "сотрудник          11091\n",
       "компаньон           5080\n",
       "пенсионер           3837\n",
       "госслужащий         1457\n",
       "безработный            2\n",
       "предприниматель        2\n",
       "студент                1\n",
       "в декрете              1\n",
       "Name: income_type, dtype: int64"
      ]
     },
     "execution_count": 31,
     "metadata": {},
     "output_type": "execute_result"
    }
   ],
   "source": [
    "df['income_type'].value_counts()"
   ]
  },
  {
   "cell_type": "markdown",
   "id": "8b952fca",
   "metadata": {},
   "source": [
    "Столбец с типом занятости в полном порядке. Последний на очереди — столбец с целью `purpose`:"
   ]
  },
  {
   "cell_type": "code",
   "execution_count": 32,
   "id": "f4e69e91",
   "metadata": {},
   "outputs": [
    {
     "data": {
      "text/plain": [
       "свадьба                                   793\n",
       "на проведение свадьбы                     773\n",
       "сыграть свадьбу                           769\n",
       "операции с недвижимостью                  675\n",
       "покупка коммерческой недвижимости         662\n",
       "покупка жилья для сдачи                   652\n",
       "операции с жильем                         652\n",
       "операции с коммерческой недвижимостью     650\n",
       "покупка жилья                             646\n",
       "жилье                                     646\n",
       "покупка жилья для семьи                   638\n",
       "строительство собственной недвижимости    635\n",
       "недвижимость                              633\n",
       "операции со своей недвижимостью           627\n",
       "строительство жилой недвижимости          625\n",
       "покупка недвижимости                      621\n",
       "покупка своего жилья                      620\n",
       "строительство недвижимости                619\n",
       "ремонт жилью                              607\n",
       "покупка жилой недвижимости                606\n",
       "на покупку своего автомобиля              505\n",
       "заняться высшим образованием              496\n",
       "автомобиль                                494\n",
       "сделка с подержанным автомобилем          486\n",
       "свой автомобиль                           479\n",
       "на покупку подержанного автомобиля        478\n",
       "автомобили                                478\n",
       "на покупку автомобиля                     472\n",
       "приобретение автомобиля                   461\n",
       "дополнительное образование                460\n",
       "сделка с автомобилем                      455\n",
       "высшее образование                        452\n",
       "образование                               447\n",
       "получение дополнительного образования     447\n",
       "получение образования                     442\n",
       "профильное образование                    436\n",
       "получение высшего образования             426\n",
       "заняться образованием                     408\n",
       "Name: purpose, dtype: int64"
      ]
     },
     "execution_count": 32,
     "metadata": {},
     "output_type": "execute_result"
    }
   ],
   "source": [
    "df['purpose'].value_counts()"
   ]
  },
  {
   "cell_type": "markdown",
   "id": "87f272a4",
   "metadata": {},
   "source": [
    "Проблем с регистром тут явно нет. Однако с этим столбцом нужна более масштабная работа — одни и те же цели записаны несколькими разными способами. Проведем категоризацию целей кредита в пункте `2.7` нашего исследования."
   ]
  },
  {
   "cell_type": "markdown",
   "id": "ddb65b42",
   "metadata": {},
   "source": [
    "### Формирование дополнительных датафреймов словарей, декомпозиция исходного датафрейма"
   ]
  },
  {
   "cell_type": "markdown",
   "id": "8224587c",
   "metadata": {},
   "source": [
    "На данном этапе создадим словари, в которых объясняется значение категорий столбцов с данными об образовании и семейном положении. После создания словарей можно удалить столбцы с полным названием из исходного датафрейма, чтобы его оптимизировать и избавиться от столбцов, которые, по сути, дублируют друг друга. "
   ]
  },
  {
   "cell_type": "markdown",
   "id": "b8617235",
   "metadata": {},
   "source": [
    "Создадим два новых датафрейма со столбцами:\n",
    "- `education_id` и `education` — в первом;\n",
    "- `family_status_id` и `family_status` — во втором.\n"
   ]
  },
  {
   "cell_type": "code",
   "execution_count": 33,
   "id": "872fe59d",
   "metadata": {
    "scrolled": true
   },
   "outputs": [
    {
     "data": {
      "text/plain": [
       "education_id  education          \n",
       "0             высшее                  5251\n",
       "1             среднее                15188\n",
       "2             неоконченное высшее      744\n",
       "3             начальное                282\n",
       "4             ученая степень             6\n",
       "Name: education, dtype: int64"
      ]
     },
     "execution_count": 33,
     "metadata": {},
     "output_type": "execute_result"
    }
   ],
   "source": [
    "education_log = df[['education_id','education']] #создаем новый датафрейм\n",
    "education_log.groupby('education_id')['education'].value_counts() #смотрим соответствие уровней образования и их id "
   ]
  },
  {
   "cell_type": "code",
   "execution_count": 34,
   "id": "8d54dc3f",
   "metadata": {},
   "outputs": [
    {
     "data": {
      "text/plain": [
       "family_status_id  family_status        \n",
       "0                 женат / замужем          12344\n",
       "1                 гражданский брак          4163\n",
       "2                 вдовец / вдова             959\n",
       "3                 в разводе                 1195\n",
       "4                 не женат / не замужем     2810\n",
       "Name: family_status, dtype: int64"
      ]
     },
     "execution_count": 34,
     "metadata": {},
     "output_type": "execute_result"
    }
   ],
   "source": [
    "family_log = df[['family_status_id','family_status']] #создаем новый датафрейм \n",
    "family_log.groupby('family_status_id')['family_status'].value_counts() #смотрим соответствие статусов и их id  "
   ]
  },
  {
   "cell_type": "markdown",
   "id": "428a18d0",
   "metadata": {},
   "source": [
    "Удалим из исходного датафрейма столбцы `education` и `family_status`, оставив только их идентификаторы: `education_id` и `family_status_id`."
   ]
  },
  {
   "cell_type": "code",
   "execution_count": 35,
   "id": "8f5e3514",
   "metadata": {},
   "outputs": [
    {
     "data": {
      "text/html": [
       "<div>\n",
       "<style scoped>\n",
       "    .dataframe tbody tr th:only-of-type {\n",
       "        vertical-align: middle;\n",
       "    }\n",
       "\n",
       "    .dataframe tbody tr th {\n",
       "        vertical-align: top;\n",
       "    }\n",
       "\n",
       "    .dataframe thead th {\n",
       "        text-align: right;\n",
       "    }\n",
       "</style>\n",
       "<table border=\"1\" class=\"dataframe\">\n",
       "  <thead>\n",
       "    <tr style=\"text-align: right;\">\n",
       "      <th></th>\n",
       "      <th>children</th>\n",
       "      <th>days_employed</th>\n",
       "      <th>dob_years</th>\n",
       "      <th>education</th>\n",
       "      <th>education_id</th>\n",
       "      <th>family_status</th>\n",
       "      <th>family_status_id</th>\n",
       "      <th>gender</th>\n",
       "      <th>income_type</th>\n",
       "      <th>debt</th>\n",
       "      <th>total_income</th>\n",
       "      <th>purpose</th>\n",
       "    </tr>\n",
       "  </thead>\n",
       "  <tbody>\n",
       "    <tr>\n",
       "      <th>0</th>\n",
       "      <td>1</td>\n",
       "      <td>8437</td>\n",
       "      <td>42</td>\n",
       "      <td>высшее</td>\n",
       "      <td>0</td>\n",
       "      <td>женат / замужем</td>\n",
       "      <td>0</td>\n",
       "      <td>F</td>\n",
       "      <td>сотрудник</td>\n",
       "      <td>0</td>\n",
       "      <td>253875</td>\n",
       "      <td>покупка жилья</td>\n",
       "    </tr>\n",
       "    <tr>\n",
       "      <th>1</th>\n",
       "      <td>1</td>\n",
       "      <td>4024</td>\n",
       "      <td>36</td>\n",
       "      <td>среднее</td>\n",
       "      <td>1</td>\n",
       "      <td>женат / замужем</td>\n",
       "      <td>0</td>\n",
       "      <td>F</td>\n",
       "      <td>сотрудник</td>\n",
       "      <td>0</td>\n",
       "      <td>112080</td>\n",
       "      <td>приобретение автомобиля</td>\n",
       "    </tr>\n",
       "    <tr>\n",
       "      <th>2</th>\n",
       "      <td>0</td>\n",
       "      <td>5623</td>\n",
       "      <td>33</td>\n",
       "      <td>среднее</td>\n",
       "      <td>1</td>\n",
       "      <td>женат / замужем</td>\n",
       "      <td>0</td>\n",
       "      <td>M</td>\n",
       "      <td>сотрудник</td>\n",
       "      <td>0</td>\n",
       "      <td>145885</td>\n",
       "      <td>покупка жилья</td>\n",
       "    </tr>\n",
       "    <tr>\n",
       "      <th>3</th>\n",
       "      <td>3</td>\n",
       "      <td>4124</td>\n",
       "      <td>32</td>\n",
       "      <td>среднее</td>\n",
       "      <td>1</td>\n",
       "      <td>женат / замужем</td>\n",
       "      <td>0</td>\n",
       "      <td>M</td>\n",
       "      <td>сотрудник</td>\n",
       "      <td>0</td>\n",
       "      <td>267628</td>\n",
       "      <td>дополнительное образование</td>\n",
       "    </tr>\n",
       "    <tr>\n",
       "      <th>4</th>\n",
       "      <td>0</td>\n",
       "      <td>340266</td>\n",
       "      <td>53</td>\n",
       "      <td>среднее</td>\n",
       "      <td>1</td>\n",
       "      <td>гражданский брак</td>\n",
       "      <td>1</td>\n",
       "      <td>F</td>\n",
       "      <td>пенсионер</td>\n",
       "      <td>0</td>\n",
       "      <td>158616</td>\n",
       "      <td>сыграть свадьбу</td>\n",
       "    </tr>\n",
       "  </tbody>\n",
       "</table>\n",
       "</div>"
      ],
      "text/plain": [
       "   children  days_employed  dob_years education  education_id  \\\n",
       "0         1           8437         42    высшее             0   \n",
       "1         1           4024         36   среднее             1   \n",
       "2         0           5623         33   среднее             1   \n",
       "3         3           4124         32   среднее             1   \n",
       "4         0         340266         53   среднее             1   \n",
       "\n",
       "      family_status  family_status_id gender income_type  debt  total_income  \\\n",
       "0   женат / замужем                 0      F   сотрудник     0        253875   \n",
       "1   женат / замужем                 0      F   сотрудник     0        112080   \n",
       "2   женат / замужем                 0      M   сотрудник     0        145885   \n",
       "3   женат / замужем                 0      M   сотрудник     0        267628   \n",
       "4  гражданский брак                 1      F   пенсионер     0        158616   \n",
       "\n",
       "                      purpose  \n",
       "0               покупка жилья  \n",
       "1     приобретение автомобиля  \n",
       "2               покупка жилья  \n",
       "3  дополнительное образование  \n",
       "4             сыграть свадьбу  "
      ]
     },
     "execution_count": 35,
     "metadata": {},
     "output_type": "execute_result"
    }
   ],
   "source": [
    "df.head() #для наглядности выведем текущий формат таблицы"
   ]
  },
  {
   "cell_type": "code",
   "execution_count": 36,
   "id": "72ea5fac",
   "metadata": {},
   "outputs": [
    {
     "data": {
      "text/html": [
       "<div>\n",
       "<style scoped>\n",
       "    .dataframe tbody tr th:only-of-type {\n",
       "        vertical-align: middle;\n",
       "    }\n",
       "\n",
       "    .dataframe tbody tr th {\n",
       "        vertical-align: top;\n",
       "    }\n",
       "\n",
       "    .dataframe thead th {\n",
       "        text-align: right;\n",
       "    }\n",
       "</style>\n",
       "<table border=\"1\" class=\"dataframe\">\n",
       "  <thead>\n",
       "    <tr style=\"text-align: right;\">\n",
       "      <th></th>\n",
       "      <th>children</th>\n",
       "      <th>days_employed</th>\n",
       "      <th>dob_years</th>\n",
       "      <th>education_id</th>\n",
       "      <th>family_status_id</th>\n",
       "      <th>gender</th>\n",
       "      <th>income_type</th>\n",
       "      <th>debt</th>\n",
       "      <th>total_income</th>\n",
       "      <th>purpose</th>\n",
       "    </tr>\n",
       "  </thead>\n",
       "  <tbody>\n",
       "    <tr>\n",
       "      <th>0</th>\n",
       "      <td>1</td>\n",
       "      <td>8437</td>\n",
       "      <td>42</td>\n",
       "      <td>0</td>\n",
       "      <td>0</td>\n",
       "      <td>F</td>\n",
       "      <td>сотрудник</td>\n",
       "      <td>0</td>\n",
       "      <td>253875</td>\n",
       "      <td>покупка жилья</td>\n",
       "    </tr>\n",
       "    <tr>\n",
       "      <th>1</th>\n",
       "      <td>1</td>\n",
       "      <td>4024</td>\n",
       "      <td>36</td>\n",
       "      <td>1</td>\n",
       "      <td>0</td>\n",
       "      <td>F</td>\n",
       "      <td>сотрудник</td>\n",
       "      <td>0</td>\n",
       "      <td>112080</td>\n",
       "      <td>приобретение автомобиля</td>\n",
       "    </tr>\n",
       "    <tr>\n",
       "      <th>2</th>\n",
       "      <td>0</td>\n",
       "      <td>5623</td>\n",
       "      <td>33</td>\n",
       "      <td>1</td>\n",
       "      <td>0</td>\n",
       "      <td>M</td>\n",
       "      <td>сотрудник</td>\n",
       "      <td>0</td>\n",
       "      <td>145885</td>\n",
       "      <td>покупка жилья</td>\n",
       "    </tr>\n",
       "    <tr>\n",
       "      <th>3</th>\n",
       "      <td>3</td>\n",
       "      <td>4124</td>\n",
       "      <td>32</td>\n",
       "      <td>1</td>\n",
       "      <td>0</td>\n",
       "      <td>M</td>\n",
       "      <td>сотрудник</td>\n",
       "      <td>0</td>\n",
       "      <td>267628</td>\n",
       "      <td>дополнительное образование</td>\n",
       "    </tr>\n",
       "    <tr>\n",
       "      <th>4</th>\n",
       "      <td>0</td>\n",
       "      <td>340266</td>\n",
       "      <td>53</td>\n",
       "      <td>1</td>\n",
       "      <td>1</td>\n",
       "      <td>F</td>\n",
       "      <td>пенсионер</td>\n",
       "      <td>0</td>\n",
       "      <td>158616</td>\n",
       "      <td>сыграть свадьбу</td>\n",
       "    </tr>\n",
       "  </tbody>\n",
       "</table>\n",
       "</div>"
      ],
      "text/plain": [
       "   children  days_employed  dob_years  education_id  family_status_id gender  \\\n",
       "0         1           8437         42             0                 0      F   \n",
       "1         1           4024         36             1                 0      F   \n",
       "2         0           5623         33             1                 0      M   \n",
       "3         3           4124         32             1                 0      M   \n",
       "4         0         340266         53             1                 1      F   \n",
       "\n",
       "  income_type  debt  total_income                     purpose  \n",
       "0   сотрудник     0        253875               покупка жилья  \n",
       "1   сотрудник     0        112080     приобретение автомобиля  \n",
       "2   сотрудник     0        145885               покупка жилья  \n",
       "3   сотрудник     0        267628  дополнительное образование  \n",
       "4   пенсионер     0        158616             сыграть свадьбу  "
      ]
     },
     "execution_count": 36,
     "metadata": {},
     "output_type": "execute_result"
    }
   ],
   "source": [
    "df_updated = df.drop(columns = ['education', 'family_status'], axis = 1) #проведем удаление методом drop()\n",
    "df_updated.head() #посмотрим на результат удаления"
   ]
  },
  {
   "cell_type": "markdown",
   "id": "4d015c8b",
   "metadata": {},
   "source": [
    "### Категоризация дохода"
   ]
  },
  {
   "cell_type": "markdown",
   "id": "66f7656a",
   "metadata": {},
   "source": [
    "На основании диапазонов, указанных ниже, создадим столбец `total_income_category` с категориями:\n",
    "- 0–30000 — `E`;\n",
    "- 30001–50000 — `D`;\n",
    "- 50001–200000 — `C`;\n",
    "- 200001–1000000 — `B`;\n",
    "- 1000001 и выше — `A`.\n",
    "\n",
    "Например, кредитополучателю с доходом 25000 нужно назначить категорию `E`, а клиенту, получающему 235000, — `B`.\n"
   ]
  },
  {
   "cell_type": "markdown",
   "id": "96da542a",
   "metadata": {},
   "source": [
    "Категоризацию дохода будем проводить с помощью функции. Выбор функции для решения задачи обсуловлен тем, что функции более гибкие: в них можно закладывать более сложную логику и добавлять новые требования. Тестировать функции подстановкой разных значений удобнее, чем применять методы Pandas ко всему датафрейму.\n",
    "\n",
    "На вход функции попадает доход, а возвращает она категорию клиента."
   ]
  },
  {
   "cell_type": "code",
   "execution_count": 37,
   "id": "b255b49a",
   "metadata": {},
   "outputs": [],
   "source": [
    "def total_income_category(total_income):\n",
    "    \n",
    "        if total_income <= 30000:\n",
    "            return 'E'\n",
    "        elif total_income <= 50000:\n",
    "            return 'D'\n",
    "        elif total_income <= 200000:\n",
    "            return 'C'\n",
    "        elif total_income <= 1000000:\n",
    "            return 'B'\n",
    "        elif total_income > 1000000:\n",
    "            return 'A'\n"
   ]
  },
  {
   "cell_type": "markdown",
   "id": "8739420a",
   "metadata": {},
   "source": [
    "Проверим работу функции: "
   ]
  },
  {
   "cell_type": "code",
   "execution_count": 38,
   "id": "4e09e1b0",
   "metadata": {},
   "outputs": [
    {
     "data": {
      "text/plain": [
       "'E'"
      ]
     },
     "execution_count": 38,
     "metadata": {},
     "output_type": "execute_result"
    }
   ],
   "source": [
    "total_income_category(25000)"
   ]
  },
  {
   "cell_type": "markdown",
   "id": "49dae0ba",
   "metadata": {},
   "source": [
    "Написанная функция работает корректно. Осталось создать отдельный столбец с категориями дохода, и в его ячейках записать значения, возвращаемые функцией.\n",
    "Для этого нужен метод `apply()`: он берёт значения столбца датафрейма и применяет к ним функцию из своего аргумента. Здесь `apply()` следует вызвать для столбца `total_income`, так как в нём содержатся данные, которые функция примет на вход. Аргументом метода станет сама функция `total_income_category`.\n"
   ]
  },
  {
   "cell_type": "code",
   "execution_count": 39,
   "id": "ee0d73d7",
   "metadata": {},
   "outputs": [
    {
     "data": {
      "text/html": [
       "<div>\n",
       "<style scoped>\n",
       "    .dataframe tbody tr th:only-of-type {\n",
       "        vertical-align: middle;\n",
       "    }\n",
       "\n",
       "    .dataframe tbody tr th {\n",
       "        vertical-align: top;\n",
       "    }\n",
       "\n",
       "    .dataframe thead th {\n",
       "        text-align: right;\n",
       "    }\n",
       "</style>\n",
       "<table border=\"1\" class=\"dataframe\">\n",
       "  <thead>\n",
       "    <tr style=\"text-align: right;\">\n",
       "      <th></th>\n",
       "      <th>children</th>\n",
       "      <th>days_employed</th>\n",
       "      <th>dob_years</th>\n",
       "      <th>education_id</th>\n",
       "      <th>family_status_id</th>\n",
       "      <th>gender</th>\n",
       "      <th>income_type</th>\n",
       "      <th>debt</th>\n",
       "      <th>total_income</th>\n",
       "      <th>purpose</th>\n",
       "      <th>total_income_category</th>\n",
       "    </tr>\n",
       "  </thead>\n",
       "  <tbody>\n",
       "    <tr>\n",
       "      <th>0</th>\n",
       "      <td>1</td>\n",
       "      <td>8437</td>\n",
       "      <td>42</td>\n",
       "      <td>0</td>\n",
       "      <td>0</td>\n",
       "      <td>F</td>\n",
       "      <td>сотрудник</td>\n",
       "      <td>0</td>\n",
       "      <td>253875</td>\n",
       "      <td>покупка жилья</td>\n",
       "      <td>B</td>\n",
       "    </tr>\n",
       "    <tr>\n",
       "      <th>1</th>\n",
       "      <td>1</td>\n",
       "      <td>4024</td>\n",
       "      <td>36</td>\n",
       "      <td>1</td>\n",
       "      <td>0</td>\n",
       "      <td>F</td>\n",
       "      <td>сотрудник</td>\n",
       "      <td>0</td>\n",
       "      <td>112080</td>\n",
       "      <td>приобретение автомобиля</td>\n",
       "      <td>C</td>\n",
       "    </tr>\n",
       "    <tr>\n",
       "      <th>2</th>\n",
       "      <td>0</td>\n",
       "      <td>5623</td>\n",
       "      <td>33</td>\n",
       "      <td>1</td>\n",
       "      <td>0</td>\n",
       "      <td>M</td>\n",
       "      <td>сотрудник</td>\n",
       "      <td>0</td>\n",
       "      <td>145885</td>\n",
       "      <td>покупка жилья</td>\n",
       "      <td>C</td>\n",
       "    </tr>\n",
       "    <tr>\n",
       "      <th>3</th>\n",
       "      <td>3</td>\n",
       "      <td>4124</td>\n",
       "      <td>32</td>\n",
       "      <td>1</td>\n",
       "      <td>0</td>\n",
       "      <td>M</td>\n",
       "      <td>сотрудник</td>\n",
       "      <td>0</td>\n",
       "      <td>267628</td>\n",
       "      <td>дополнительное образование</td>\n",
       "      <td>B</td>\n",
       "    </tr>\n",
       "    <tr>\n",
       "      <th>4</th>\n",
       "      <td>0</td>\n",
       "      <td>340266</td>\n",
       "      <td>53</td>\n",
       "      <td>1</td>\n",
       "      <td>1</td>\n",
       "      <td>F</td>\n",
       "      <td>пенсионер</td>\n",
       "      <td>0</td>\n",
       "      <td>158616</td>\n",
       "      <td>сыграть свадьбу</td>\n",
       "      <td>C</td>\n",
       "    </tr>\n",
       "  </tbody>\n",
       "</table>\n",
       "</div>"
      ],
      "text/plain": [
       "   children  days_employed  dob_years  education_id  family_status_id gender  \\\n",
       "0         1           8437         42             0                 0      F   \n",
       "1         1           4024         36             1                 0      F   \n",
       "2         0           5623         33             1                 0      M   \n",
       "3         3           4124         32             1                 0      M   \n",
       "4         0         340266         53             1                 1      F   \n",
       "\n",
       "  income_type  debt  total_income                     purpose  \\\n",
       "0   сотрудник     0        253875               покупка жилья   \n",
       "1   сотрудник     0        112080     приобретение автомобиля   \n",
       "2   сотрудник     0        145885               покупка жилья   \n",
       "3   сотрудник     0        267628  дополнительное образование   \n",
       "4   пенсионер     0        158616             сыграть свадьбу   \n",
       "\n",
       "  total_income_category  \n",
       "0                     B  \n",
       "1                     C  \n",
       "2                     C  \n",
       "3                     B  \n",
       "4                     C  "
      ]
     },
     "execution_count": 39,
     "metadata": {},
     "output_type": "execute_result"
    }
   ],
   "source": [
    "df_updated['total_income_category'] = df_updated['total_income'].apply(total_income_category)\n",
    "df_updated.head() #сразу вызовем первые 10 строк таблицы, чтобы убедиться в том, что метод сработал корректно"
   ]
  },
  {
   "cell_type": "markdown",
   "id": "839967ee",
   "metadata": {},
   "source": [
    "Код работает правильно, в таблице появился столбец с категорией дохода. "
   ]
  },
  {
   "cell_type": "markdown",
   "id": "99bf210a",
   "metadata": {},
   "source": [
    "После успешной категоризации доходов можно удалить из таблицы столбец `total_income`, оставив только категорию:"
   ]
  },
  {
   "cell_type": "code",
   "execution_count": 40,
   "id": "4f309dbe",
   "metadata": {},
   "outputs": [
    {
     "data": {
      "text/html": [
       "<div>\n",
       "<style scoped>\n",
       "    .dataframe tbody tr th:only-of-type {\n",
       "        vertical-align: middle;\n",
       "    }\n",
       "\n",
       "    .dataframe tbody tr th {\n",
       "        vertical-align: top;\n",
       "    }\n",
       "\n",
       "    .dataframe thead th {\n",
       "        text-align: right;\n",
       "    }\n",
       "</style>\n",
       "<table border=\"1\" class=\"dataframe\">\n",
       "  <thead>\n",
       "    <tr style=\"text-align: right;\">\n",
       "      <th></th>\n",
       "      <th>children</th>\n",
       "      <th>days_employed</th>\n",
       "      <th>dob_years</th>\n",
       "      <th>education_id</th>\n",
       "      <th>family_status_id</th>\n",
       "      <th>gender</th>\n",
       "      <th>income_type</th>\n",
       "      <th>debt</th>\n",
       "      <th>purpose</th>\n",
       "      <th>total_income_category</th>\n",
       "    </tr>\n",
       "  </thead>\n",
       "  <tbody>\n",
       "    <tr>\n",
       "      <th>0</th>\n",
       "      <td>1</td>\n",
       "      <td>8437</td>\n",
       "      <td>42</td>\n",
       "      <td>0</td>\n",
       "      <td>0</td>\n",
       "      <td>F</td>\n",
       "      <td>сотрудник</td>\n",
       "      <td>0</td>\n",
       "      <td>покупка жилья</td>\n",
       "      <td>B</td>\n",
       "    </tr>\n",
       "    <tr>\n",
       "      <th>1</th>\n",
       "      <td>1</td>\n",
       "      <td>4024</td>\n",
       "      <td>36</td>\n",
       "      <td>1</td>\n",
       "      <td>0</td>\n",
       "      <td>F</td>\n",
       "      <td>сотрудник</td>\n",
       "      <td>0</td>\n",
       "      <td>приобретение автомобиля</td>\n",
       "      <td>C</td>\n",
       "    </tr>\n",
       "    <tr>\n",
       "      <th>2</th>\n",
       "      <td>0</td>\n",
       "      <td>5623</td>\n",
       "      <td>33</td>\n",
       "      <td>1</td>\n",
       "      <td>0</td>\n",
       "      <td>M</td>\n",
       "      <td>сотрудник</td>\n",
       "      <td>0</td>\n",
       "      <td>покупка жилья</td>\n",
       "      <td>C</td>\n",
       "    </tr>\n",
       "    <tr>\n",
       "      <th>3</th>\n",
       "      <td>3</td>\n",
       "      <td>4124</td>\n",
       "      <td>32</td>\n",
       "      <td>1</td>\n",
       "      <td>0</td>\n",
       "      <td>M</td>\n",
       "      <td>сотрудник</td>\n",
       "      <td>0</td>\n",
       "      <td>дополнительное образование</td>\n",
       "      <td>B</td>\n",
       "    </tr>\n",
       "    <tr>\n",
       "      <th>4</th>\n",
       "      <td>0</td>\n",
       "      <td>340266</td>\n",
       "      <td>53</td>\n",
       "      <td>1</td>\n",
       "      <td>1</td>\n",
       "      <td>F</td>\n",
       "      <td>пенсионер</td>\n",
       "      <td>0</td>\n",
       "      <td>сыграть свадьбу</td>\n",
       "      <td>C</td>\n",
       "    </tr>\n",
       "  </tbody>\n",
       "</table>\n",
       "</div>"
      ],
      "text/plain": [
       "   children  days_employed  dob_years  education_id  family_status_id gender  \\\n",
       "0         1           8437         42             0                 0      F   \n",
       "1         1           4024         36             1                 0      F   \n",
       "2         0           5623         33             1                 0      M   \n",
       "3         3           4124         32             1                 0      M   \n",
       "4         0         340266         53             1                 1      F   \n",
       "\n",
       "  income_type  debt                     purpose total_income_category  \n",
       "0   сотрудник     0               покупка жилья                     B  \n",
       "1   сотрудник     0     приобретение автомобиля                     C  \n",
       "2   сотрудник     0               покупка жилья                     C  \n",
       "3   сотрудник     0  дополнительное образование                     B  \n",
       "4   пенсионер     0             сыграть свадьбу                     C  "
      ]
     },
     "execution_count": 40,
     "metadata": {},
     "output_type": "execute_result"
    }
   ],
   "source": [
    "df_updated = df_updated.drop(columns = ['total_income'], axis = 1) \n",
    "df_updated.head()"
   ]
  },
  {
   "cell_type": "markdown",
   "id": "4c261bd5",
   "metadata": {},
   "source": [
    "### Категоризация целей кредита"
   ]
  },
  {
   "cell_type": "markdown",
   "id": "51159e56",
   "metadata": {},
   "source": [
    "Обратимся к значениям столбца `purpose`, чтобы понять, с чем мы будем работать: "
   ]
  },
  {
   "cell_type": "code",
   "execution_count": 41,
   "id": "b2abd778",
   "metadata": {},
   "outputs": [
    {
     "data": {
      "text/plain": [
       "свадьба                                   793\n",
       "на проведение свадьбы                     773\n",
       "сыграть свадьбу                           769\n",
       "операции с недвижимостью                  675\n",
       "покупка коммерческой недвижимости         662\n",
       "покупка жилья для сдачи                   652\n",
       "операции с жильем                         652\n",
       "операции с коммерческой недвижимостью     650\n",
       "покупка жилья                             646\n",
       "жилье                                     646\n",
       "покупка жилья для семьи                   638\n",
       "строительство собственной недвижимости    635\n",
       "недвижимость                              633\n",
       "операции со своей недвижимостью           627\n",
       "строительство жилой недвижимости          625\n",
       "покупка недвижимости                      621\n",
       "покупка своего жилья                      620\n",
       "строительство недвижимости                619\n",
       "ремонт жилью                              607\n",
       "покупка жилой недвижимости                606\n",
       "на покупку своего автомобиля              505\n",
       "заняться высшим образованием              496\n",
       "автомобиль                                494\n",
       "сделка с подержанным автомобилем          486\n",
       "свой автомобиль                           479\n",
       "на покупку подержанного автомобиля        478\n",
       "автомобили                                478\n",
       "на покупку автомобиля                     472\n",
       "приобретение автомобиля                   461\n",
       "дополнительное образование                460\n",
       "сделка с автомобилем                      455\n",
       "высшее образование                        452\n",
       "образование                               447\n",
       "получение дополнительного образования     447\n",
       "получение образования                     442\n",
       "профильное образование                    436\n",
       "получение высшего образования             426\n",
       "заняться образованием                     408\n",
       "Name: purpose, dtype: int64"
      ]
     },
     "execution_count": 41,
     "metadata": {},
     "output_type": "execute_result"
    }
   ],
   "source": [
    "df_updated['purpose'].value_counts()"
   ]
  },
  {
   "cell_type": "markdown",
   "id": "733b328a",
   "metadata": {},
   "source": [
    "Создадим функцию, которая на основании данных из столбца purpose сформирует новый столбец `purpose_category`, в который войдут следующие категории:\n",
    "- операции с автомобилем,\n",
    "- операции с недвижимостью,\n",
    "- проведение свадьбы,\n",
    "- получение образования.\n"
   ]
  },
  {
   "cell_type": "code",
   "execution_count": 42,
   "id": "66e68b27",
   "metadata": {},
   "outputs": [],
   "source": [
    "def purpose_category(purpose):\n",
    "        if 'свадьб' in purpose:\n",
    "            return 'проведение свадьбы'\n",
    "        if 'образован' in purpose:\n",
    "            return 'получение образования'\n",
    "        if 'автомобил' in purpose:\n",
    "            return 'операции с автомобилем'\n",
    "        \n",
    "        return 'операции с недвижимостью'\n"
   ]
  },
  {
   "cell_type": "code",
   "execution_count": 43,
   "id": "97bd8000",
   "metadata": {},
   "outputs": [
    {
     "data": {
      "text/plain": [
       "'операции с недвижимостью'"
      ]
     },
     "execution_count": 43,
     "metadata": {},
     "output_type": "execute_result"
    }
   ],
   "source": [
    "purpose_category('покупка жилья') #проверим работоспособность функции"
   ]
  },
  {
   "cell_type": "markdown",
   "id": "ee39d7e4",
   "metadata": {},
   "source": [
    "Добавим столбец с категориями целей в нашу таблицу. "
   ]
  },
  {
   "cell_type": "code",
   "execution_count": 44,
   "id": "9f651418",
   "metadata": {},
   "outputs": [
    {
     "data": {
      "text/html": [
       "<div>\n",
       "<style scoped>\n",
       "    .dataframe tbody tr th:only-of-type {\n",
       "        vertical-align: middle;\n",
       "    }\n",
       "\n",
       "    .dataframe tbody tr th {\n",
       "        vertical-align: top;\n",
       "    }\n",
       "\n",
       "    .dataframe thead th {\n",
       "        text-align: right;\n",
       "    }\n",
       "</style>\n",
       "<table border=\"1\" class=\"dataframe\">\n",
       "  <thead>\n",
       "    <tr style=\"text-align: right;\">\n",
       "      <th></th>\n",
       "      <th>children</th>\n",
       "      <th>days_employed</th>\n",
       "      <th>dob_years</th>\n",
       "      <th>education_id</th>\n",
       "      <th>family_status_id</th>\n",
       "      <th>gender</th>\n",
       "      <th>income_type</th>\n",
       "      <th>debt</th>\n",
       "      <th>purpose</th>\n",
       "      <th>total_income_category</th>\n",
       "      <th>purpose_category</th>\n",
       "    </tr>\n",
       "  </thead>\n",
       "  <tbody>\n",
       "    <tr>\n",
       "      <th>0</th>\n",
       "      <td>1</td>\n",
       "      <td>8437</td>\n",
       "      <td>42</td>\n",
       "      <td>0</td>\n",
       "      <td>0</td>\n",
       "      <td>F</td>\n",
       "      <td>сотрудник</td>\n",
       "      <td>0</td>\n",
       "      <td>покупка жилья</td>\n",
       "      <td>B</td>\n",
       "      <td>операции с недвижимостью</td>\n",
       "    </tr>\n",
       "    <tr>\n",
       "      <th>1</th>\n",
       "      <td>1</td>\n",
       "      <td>4024</td>\n",
       "      <td>36</td>\n",
       "      <td>1</td>\n",
       "      <td>0</td>\n",
       "      <td>F</td>\n",
       "      <td>сотрудник</td>\n",
       "      <td>0</td>\n",
       "      <td>приобретение автомобиля</td>\n",
       "      <td>C</td>\n",
       "      <td>операции с автомобилем</td>\n",
       "    </tr>\n",
       "    <tr>\n",
       "      <th>2</th>\n",
       "      <td>0</td>\n",
       "      <td>5623</td>\n",
       "      <td>33</td>\n",
       "      <td>1</td>\n",
       "      <td>0</td>\n",
       "      <td>M</td>\n",
       "      <td>сотрудник</td>\n",
       "      <td>0</td>\n",
       "      <td>покупка жилья</td>\n",
       "      <td>C</td>\n",
       "      <td>операции с недвижимостью</td>\n",
       "    </tr>\n",
       "    <tr>\n",
       "      <th>3</th>\n",
       "      <td>3</td>\n",
       "      <td>4124</td>\n",
       "      <td>32</td>\n",
       "      <td>1</td>\n",
       "      <td>0</td>\n",
       "      <td>M</td>\n",
       "      <td>сотрудник</td>\n",
       "      <td>0</td>\n",
       "      <td>дополнительное образование</td>\n",
       "      <td>B</td>\n",
       "      <td>получение образования</td>\n",
       "    </tr>\n",
       "    <tr>\n",
       "      <th>4</th>\n",
       "      <td>0</td>\n",
       "      <td>340266</td>\n",
       "      <td>53</td>\n",
       "      <td>1</td>\n",
       "      <td>1</td>\n",
       "      <td>F</td>\n",
       "      <td>пенсионер</td>\n",
       "      <td>0</td>\n",
       "      <td>сыграть свадьбу</td>\n",
       "      <td>C</td>\n",
       "      <td>проведение свадьбы</td>\n",
       "    </tr>\n",
       "  </tbody>\n",
       "</table>\n",
       "</div>"
      ],
      "text/plain": [
       "   children  days_employed  dob_years  education_id  family_status_id gender  \\\n",
       "0         1           8437         42             0                 0      F   \n",
       "1         1           4024         36             1                 0      F   \n",
       "2         0           5623         33             1                 0      M   \n",
       "3         3           4124         32             1                 0      M   \n",
       "4         0         340266         53             1                 1      F   \n",
       "\n",
       "  income_type  debt                     purpose total_income_category  \\\n",
       "0   сотрудник     0               покупка жилья                     B   \n",
       "1   сотрудник     0     приобретение автомобиля                     C   \n",
       "2   сотрудник     0               покупка жилья                     C   \n",
       "3   сотрудник     0  дополнительное образование                     B   \n",
       "4   пенсионер     0             сыграть свадьбу                     C   \n",
       "\n",
       "           purpose_category  \n",
       "0  операции с недвижимостью  \n",
       "1    операции с автомобилем  \n",
       "2  операции с недвижимостью  \n",
       "3     получение образования  \n",
       "4        проведение свадьбы  "
      ]
     },
     "execution_count": 44,
     "metadata": {},
     "output_type": "execute_result"
    }
   ],
   "source": [
    "df_updated['purpose_category'] = df_updated['purpose'].apply(purpose_category)\n",
    "df_updated.head()"
   ]
  },
  {
   "cell_type": "markdown",
   "id": "4e41c0fd",
   "metadata": {},
   "source": [
    "После успешной категоризации целей можно удалить из таблицы столбец `purpose`, оставив только категорию: "
   ]
  },
  {
   "cell_type": "code",
   "execution_count": 45,
   "id": "412569d4",
   "metadata": {},
   "outputs": [
    {
     "data": {
      "text/html": [
       "<div>\n",
       "<style scoped>\n",
       "    .dataframe tbody tr th:only-of-type {\n",
       "        vertical-align: middle;\n",
       "    }\n",
       "\n",
       "    .dataframe tbody tr th {\n",
       "        vertical-align: top;\n",
       "    }\n",
       "\n",
       "    .dataframe thead th {\n",
       "        text-align: right;\n",
       "    }\n",
       "</style>\n",
       "<table border=\"1\" class=\"dataframe\">\n",
       "  <thead>\n",
       "    <tr style=\"text-align: right;\">\n",
       "      <th></th>\n",
       "      <th>children</th>\n",
       "      <th>days_employed</th>\n",
       "      <th>dob_years</th>\n",
       "      <th>education_id</th>\n",
       "      <th>family_status_id</th>\n",
       "      <th>gender</th>\n",
       "      <th>income_type</th>\n",
       "      <th>debt</th>\n",
       "      <th>total_income_category</th>\n",
       "      <th>purpose_category</th>\n",
       "    </tr>\n",
       "  </thead>\n",
       "  <tbody>\n",
       "    <tr>\n",
       "      <th>0</th>\n",
       "      <td>1</td>\n",
       "      <td>8437</td>\n",
       "      <td>42</td>\n",
       "      <td>0</td>\n",
       "      <td>0</td>\n",
       "      <td>F</td>\n",
       "      <td>сотрудник</td>\n",
       "      <td>0</td>\n",
       "      <td>B</td>\n",
       "      <td>операции с недвижимостью</td>\n",
       "    </tr>\n",
       "    <tr>\n",
       "      <th>1</th>\n",
       "      <td>1</td>\n",
       "      <td>4024</td>\n",
       "      <td>36</td>\n",
       "      <td>1</td>\n",
       "      <td>0</td>\n",
       "      <td>F</td>\n",
       "      <td>сотрудник</td>\n",
       "      <td>0</td>\n",
       "      <td>C</td>\n",
       "      <td>операции с автомобилем</td>\n",
       "    </tr>\n",
       "    <tr>\n",
       "      <th>2</th>\n",
       "      <td>0</td>\n",
       "      <td>5623</td>\n",
       "      <td>33</td>\n",
       "      <td>1</td>\n",
       "      <td>0</td>\n",
       "      <td>M</td>\n",
       "      <td>сотрудник</td>\n",
       "      <td>0</td>\n",
       "      <td>C</td>\n",
       "      <td>операции с недвижимостью</td>\n",
       "    </tr>\n",
       "    <tr>\n",
       "      <th>3</th>\n",
       "      <td>3</td>\n",
       "      <td>4124</td>\n",
       "      <td>32</td>\n",
       "      <td>1</td>\n",
       "      <td>0</td>\n",
       "      <td>M</td>\n",
       "      <td>сотрудник</td>\n",
       "      <td>0</td>\n",
       "      <td>B</td>\n",
       "      <td>получение образования</td>\n",
       "    </tr>\n",
       "    <tr>\n",
       "      <th>4</th>\n",
       "      <td>0</td>\n",
       "      <td>340266</td>\n",
       "      <td>53</td>\n",
       "      <td>1</td>\n",
       "      <td>1</td>\n",
       "      <td>F</td>\n",
       "      <td>пенсионер</td>\n",
       "      <td>0</td>\n",
       "      <td>C</td>\n",
       "      <td>проведение свадьбы</td>\n",
       "    </tr>\n",
       "  </tbody>\n",
       "</table>\n",
       "</div>"
      ],
      "text/plain": [
       "   children  days_employed  dob_years  education_id  family_status_id gender  \\\n",
       "0         1           8437         42             0                 0      F   \n",
       "1         1           4024         36             1                 0      F   \n",
       "2         0           5623         33             1                 0      M   \n",
       "3         3           4124         32             1                 0      M   \n",
       "4         0         340266         53             1                 1      F   \n",
       "\n",
       "  income_type  debt total_income_category          purpose_category  \n",
       "0   сотрудник     0                     B  операции с недвижимостью  \n",
       "1   сотрудник     0                     C    операции с автомобилем  \n",
       "2   сотрудник     0                     C  операции с недвижимостью  \n",
       "3   сотрудник     0                     B     получение образования  \n",
       "4   пенсионер     0                     C        проведение свадьбы  "
      ]
     },
     "execution_count": 45,
     "metadata": {},
     "output_type": "execute_result"
    }
   ],
   "source": [
    "df_updated = df_updated.drop(columns = ['purpose'], axis = 1) \n",
    "df_updated.head()"
   ]
  },
  {
   "cell_type": "markdown",
   "id": "47f43a87",
   "metadata": {},
   "source": [
    "## Ответы на вопросы"
   ]
  },
  {
   "cell_type": "markdown",
   "id": "b1498a7e",
   "metadata": {},
   "source": [
    "После полной обработки таблицы можно перейти к завершающей части исследования. Ответим на вопросы с помощью данных, получаемых из сводных таблиц. Для создания таких таблиц будем использовать метод `pivot_table()`. "
   ]
  },
  {
   "cell_type": "markdown",
   "id": "0a9247d4",
   "metadata": {},
   "source": [
    "### Вопрос 1: Есть ли зависимость между количеством детей и возвратом кредита в срок?"
   ]
  },
  {
   "cell_type": "code",
   "execution_count": 46,
   "id": "c22975f3",
   "metadata": {},
   "outputs": [
    {
     "data": {
      "text/html": [
       "<div>\n",
       "<style scoped>\n",
       "    .dataframe tbody tr th:only-of-type {\n",
       "        vertical-align: middle;\n",
       "    }\n",
       "\n",
       "    .dataframe tbody tr th {\n",
       "        vertical-align: top;\n",
       "    }\n",
       "\n",
       "    .dataframe thead th {\n",
       "        text-align: right;\n",
       "    }\n",
       "</style>\n",
       "<table border=\"1\" class=\"dataframe\">\n",
       "  <thead>\n",
       "    <tr style=\"text-align: right;\">\n",
       "      <th>debt</th>\n",
       "      <th>0</th>\n",
       "      <th>1</th>\n",
       "    </tr>\n",
       "    <tr>\n",
       "      <th>children</th>\n",
       "      <th></th>\n",
       "      <th></th>\n",
       "    </tr>\n",
       "  </thead>\n",
       "  <tbody>\n",
       "    <tr>\n",
       "      <th>0</th>\n",
       "      <td>13044.0</td>\n",
       "      <td>1063.0</td>\n",
       "    </tr>\n",
       "    <tr>\n",
       "      <th>1</th>\n",
       "      <td>4411.0</td>\n",
       "      <td>445.0</td>\n",
       "    </tr>\n",
       "    <tr>\n",
       "      <th>2</th>\n",
       "      <td>1926.0</td>\n",
       "      <td>202.0</td>\n",
       "    </tr>\n",
       "    <tr>\n",
       "      <th>3</th>\n",
       "      <td>303.0</td>\n",
       "      <td>27.0</td>\n",
       "    </tr>\n",
       "    <tr>\n",
       "      <th>4</th>\n",
       "      <td>37.0</td>\n",
       "      <td>4.0</td>\n",
       "    </tr>\n",
       "    <tr>\n",
       "      <th>5</th>\n",
       "      <td>9.0</td>\n",
       "      <td>NaN</td>\n",
       "    </tr>\n",
       "  </tbody>\n",
       "</table>\n",
       "</div>"
      ],
      "text/plain": [
       "debt            0       1\n",
       "children                 \n",
       "0         13044.0  1063.0\n",
       "1          4411.0   445.0\n",
       "2          1926.0   202.0\n",
       "3           303.0    27.0\n",
       "4            37.0     4.0\n",
       "5             9.0     NaN"
      ]
     },
     "execution_count": 46,
     "metadata": {},
     "output_type": "execute_result"
    }
   ],
   "source": [
    "pivot_children = df_updated.pivot_table(index='children', columns='debt', values='dob_years', aggfunc='count')\n",
    "pivot_children"
   ]
  },
  {
   "cell_type": "markdown",
   "id": "fb6013b4",
   "metadata": {},
   "source": [
    "Доля должников среди заемщиков с разным кол-вом детей:"
   ]
  },
  {
   "cell_type": "code",
   "execution_count": 47,
   "id": "9da0e595",
   "metadata": {},
   "outputs": [
    {
     "data": {
      "text/html": [
       "<div>\n",
       "<style scoped>\n",
       "    .dataframe tbody tr th:only-of-type {\n",
       "        vertical-align: middle;\n",
       "    }\n",
       "\n",
       "    .dataframe tbody tr th {\n",
       "        vertical-align: top;\n",
       "    }\n",
       "\n",
       "    .dataframe thead th {\n",
       "        text-align: right;\n",
       "    }\n",
       "</style>\n",
       "<table border=\"1\" class=\"dataframe\">\n",
       "  <thead>\n",
       "    <tr style=\"text-align: right;\">\n",
       "      <th></th>\n",
       "      <th>debt</th>\n",
       "    </tr>\n",
       "    <tr>\n",
       "      <th>children</th>\n",
       "      <th></th>\n",
       "    </tr>\n",
       "  </thead>\n",
       "  <tbody>\n",
       "    <tr>\n",
       "      <th>0</th>\n",
       "      <td>0.075353</td>\n",
       "    </tr>\n",
       "    <tr>\n",
       "      <th>1</th>\n",
       "      <td>0.091639</td>\n",
       "    </tr>\n",
       "    <tr>\n",
       "      <th>2</th>\n",
       "      <td>0.094925</td>\n",
       "    </tr>\n",
       "    <tr>\n",
       "      <th>3</th>\n",
       "      <td>0.081818</td>\n",
       "    </tr>\n",
       "    <tr>\n",
       "      <th>4</th>\n",
       "      <td>0.097561</td>\n",
       "    </tr>\n",
       "    <tr>\n",
       "      <th>5</th>\n",
       "      <td>0.000000</td>\n",
       "    </tr>\n",
       "  </tbody>\n",
       "</table>\n",
       "</div>"
      ],
      "text/plain": [
       "              debt\n",
       "children          \n",
       "0         0.075353\n",
       "1         0.091639\n",
       "2         0.094925\n",
       "3         0.081818\n",
       "4         0.097561\n",
       "5         0.000000"
      ]
     },
     "execution_count": 47,
     "metadata": {},
     "output_type": "execute_result"
    }
   ],
   "source": [
    "pivot_children = df_updated.pivot_table(index=['children'], values='debt', aggfunc='mean') \n",
    "pivot_children"
   ]
  },
  {
   "cell_type": "markdown",
   "id": "d4bf41cf",
   "metadata": {},
   "source": [
    "**Вывод 1:** Очевидно, что среди клиентов банка преобладают люди без детей. Также существенную долю клиентов составляют люди с 1-2 детьми. Наибольшая доля должников наблюдается среди клиентов с 2-мя и 4-мя детьми. Среди бездетных клиентов доля должников заметно ниже. А о долгах клиентов с 5-ю детьми и вовсе нет данных. "
   ]
  },
  {
   "cell_type": "markdown",
   "id": "b28f615c",
   "metadata": {},
   "source": [
    "### Вопрос 2: Есть ли зависимость между семейным положением и возвратом кредита в срок?"
   ]
  },
  {
   "cell_type": "code",
   "execution_count": 48,
   "id": "298e8b69",
   "metadata": {},
   "outputs": [
    {
     "data": {
      "text/html": [
       "<div>\n",
       "<style scoped>\n",
       "    .dataframe tbody tr th:only-of-type {\n",
       "        vertical-align: middle;\n",
       "    }\n",
       "\n",
       "    .dataframe tbody tr th {\n",
       "        vertical-align: top;\n",
       "    }\n",
       "\n",
       "    .dataframe thead th {\n",
       "        text-align: right;\n",
       "    }\n",
       "</style>\n",
       "<table border=\"1\" class=\"dataframe\">\n",
       "  <thead>\n",
       "    <tr style=\"text-align: right;\">\n",
       "      <th>debt</th>\n",
       "      <th>0</th>\n",
       "      <th>1</th>\n",
       "    </tr>\n",
       "    <tr>\n",
       "      <th>family_status_id</th>\n",
       "      <th></th>\n",
       "      <th></th>\n",
       "    </tr>\n",
       "  </thead>\n",
       "  <tbody>\n",
       "    <tr>\n",
       "      <th>0</th>\n",
       "      <td>11413</td>\n",
       "      <td>931</td>\n",
       "    </tr>\n",
       "    <tr>\n",
       "      <th>1</th>\n",
       "      <td>3775</td>\n",
       "      <td>388</td>\n",
       "    </tr>\n",
       "    <tr>\n",
       "      <th>4</th>\n",
       "      <td>2536</td>\n",
       "      <td>274</td>\n",
       "    </tr>\n",
       "    <tr>\n",
       "      <th>3</th>\n",
       "      <td>1110</td>\n",
       "      <td>85</td>\n",
       "    </tr>\n",
       "    <tr>\n",
       "      <th>2</th>\n",
       "      <td>896</td>\n",
       "      <td>63</td>\n",
       "    </tr>\n",
       "  </tbody>\n",
       "</table>\n",
       "</div>"
      ],
      "text/plain": [
       "debt                  0    1\n",
       "family_status_id            \n",
       "0                 11413  931\n",
       "1                  3775  388\n",
       "4                  2536  274\n",
       "3                  1110   85\n",
       "2                   896   63"
      ]
     },
     "execution_count": 48,
     "metadata": {},
     "output_type": "execute_result"
    }
   ],
   "source": [
    "pivot_family_status = df_updated.pivot_table(index='family_status_id', columns='debt', values='days_employed', aggfunc='count')\n",
    "pivot_family_status.sort_values([0,1], ascending=False) #сортируем по убыванию для комфортного анализа"
   ]
  },
  {
   "cell_type": "markdown",
   "id": "73beeab1",
   "metadata": {},
   "source": [
    "Доля должников среди заемщиков с разным семейным положением:"
   ]
  },
  {
   "cell_type": "code",
   "execution_count": 49,
   "id": "9b83800d",
   "metadata": {},
   "outputs": [
    {
     "data": {
      "text/html": [
       "<div>\n",
       "<style scoped>\n",
       "    .dataframe tbody tr th:only-of-type {\n",
       "        vertical-align: middle;\n",
       "    }\n",
       "\n",
       "    .dataframe tbody tr th {\n",
       "        vertical-align: top;\n",
       "    }\n",
       "\n",
       "    .dataframe thead th {\n",
       "        text-align: right;\n",
       "    }\n",
       "</style>\n",
       "<table border=\"1\" class=\"dataframe\">\n",
       "  <thead>\n",
       "    <tr style=\"text-align: right;\">\n",
       "      <th></th>\n",
       "      <th>debt</th>\n",
       "    </tr>\n",
       "    <tr>\n",
       "      <th>family_status_id</th>\n",
       "      <th></th>\n",
       "    </tr>\n",
       "  </thead>\n",
       "  <tbody>\n",
       "    <tr>\n",
       "      <th>0</th>\n",
       "      <td>0.075421</td>\n",
       "    </tr>\n",
       "    <tr>\n",
       "      <th>1</th>\n",
       "      <td>0.093202</td>\n",
       "    </tr>\n",
       "    <tr>\n",
       "      <th>2</th>\n",
       "      <td>0.065693</td>\n",
       "    </tr>\n",
       "    <tr>\n",
       "      <th>3</th>\n",
       "      <td>0.071130</td>\n",
       "    </tr>\n",
       "    <tr>\n",
       "      <th>4</th>\n",
       "      <td>0.097509</td>\n",
       "    </tr>\n",
       "  </tbody>\n",
       "</table>\n",
       "</div>"
      ],
      "text/plain": [
       "                      debt\n",
       "family_status_id          \n",
       "0                 0.075421\n",
       "1                 0.093202\n",
       "2                 0.065693\n",
       "3                 0.071130\n",
       "4                 0.097509"
      ]
     },
     "execution_count": 49,
     "metadata": {},
     "output_type": "execute_result"
    }
   ],
   "source": [
    "pivot_family_status = df_updated.pivot_table(index=['family_status_id'], values='debt', aggfunc='mean')\n",
    "pivot_family_status"
   ]
  },
  {
   "cell_type": "markdown",
   "id": "2ba17109",
   "metadata": {},
   "source": [
    "**Вывод 2:** Основная часть клиентов банка это люди, состоящие в браке. Другие значительные категории формируют клиенты состоящие в гражданском браке, а также клиенты со статусом не женат/не замужем. Cреди неженатых клиентов, а также клиентов, состоящих в гражданском браке, можно наблюдать большее количество должников."
   ]
  },
  {
   "cell_type": "markdown",
   "id": "5283713c",
   "metadata": {},
   "source": [
    "### Вопрос 3: Есть ли зависимость между уровнем дохода и возвратом кредита в срок?"
   ]
  },
  {
   "cell_type": "code",
   "execution_count": 50,
   "id": "89bbfd89",
   "metadata": {
    "scrolled": true
   },
   "outputs": [
    {
     "data": {
      "text/html": [
       "<div>\n",
       "<style scoped>\n",
       "    .dataframe tbody tr th:only-of-type {\n",
       "        vertical-align: middle;\n",
       "    }\n",
       "\n",
       "    .dataframe tbody tr th {\n",
       "        vertical-align: top;\n",
       "    }\n",
       "\n",
       "    .dataframe thead th {\n",
       "        text-align: right;\n",
       "    }\n",
       "</style>\n",
       "<table border=\"1\" class=\"dataframe\">\n",
       "  <thead>\n",
       "    <tr style=\"text-align: right;\">\n",
       "      <th>debt</th>\n",
       "      <th>0</th>\n",
       "      <th>1</th>\n",
       "    </tr>\n",
       "    <tr>\n",
       "      <th>total_income_category</th>\n",
       "      <th></th>\n",
       "      <th></th>\n",
       "    </tr>\n",
       "  </thead>\n",
       "  <tbody>\n",
       "    <tr>\n",
       "      <th>C</th>\n",
       "      <td>14673</td>\n",
       "      <td>1360</td>\n",
       "    </tr>\n",
       "    <tr>\n",
       "      <th>B</th>\n",
       "      <td>4685</td>\n",
       "      <td>356</td>\n",
       "    </tr>\n",
       "    <tr>\n",
       "      <th>D</th>\n",
       "      <td>329</td>\n",
       "      <td>21</td>\n",
       "    </tr>\n",
       "    <tr>\n",
       "      <th>A</th>\n",
       "      <td>23</td>\n",
       "      <td>2</td>\n",
       "    </tr>\n",
       "    <tr>\n",
       "      <th>E</th>\n",
       "      <td>20</td>\n",
       "      <td>2</td>\n",
       "    </tr>\n",
       "  </tbody>\n",
       "</table>\n",
       "</div>"
      ],
      "text/plain": [
       "debt                       0     1\n",
       "total_income_category             \n",
       "C                      14673  1360\n",
       "B                       4685   356\n",
       "D                        329    21\n",
       "A                         23     2\n",
       "E                         20     2"
      ]
     },
     "execution_count": 50,
     "metadata": {},
     "output_type": "execute_result"
    }
   ],
   "source": [
    "pivot_total_income_category = df_updated.pivot_table(index='total_income_category', \n",
    "                            columns='debt', values='dob_years', aggfunc='count')\n",
    "pivot_total_income_category.sort_values([0,1], ascending=False) #сортируем по убыванию для комфортного анализа"
   ]
  },
  {
   "cell_type": "markdown",
   "id": "eeb50407",
   "metadata": {},
   "source": [
    "Доля должников среди заемщиков с разным уровнем дохода:"
   ]
  },
  {
   "cell_type": "code",
   "execution_count": 51,
   "id": "81c5a9e0",
   "metadata": {},
   "outputs": [
    {
     "data": {
      "text/html": [
       "<div>\n",
       "<style scoped>\n",
       "    .dataframe tbody tr th:only-of-type {\n",
       "        vertical-align: middle;\n",
       "    }\n",
       "\n",
       "    .dataframe tbody tr th {\n",
       "        vertical-align: top;\n",
       "    }\n",
       "\n",
       "    .dataframe thead th {\n",
       "        text-align: right;\n",
       "    }\n",
       "</style>\n",
       "<table border=\"1\" class=\"dataframe\">\n",
       "  <thead>\n",
       "    <tr style=\"text-align: right;\">\n",
       "      <th></th>\n",
       "      <th>debt</th>\n",
       "    </tr>\n",
       "    <tr>\n",
       "      <th>total_income_category</th>\n",
       "      <th></th>\n",
       "    </tr>\n",
       "  </thead>\n",
       "  <tbody>\n",
       "    <tr>\n",
       "      <th>A</th>\n",
       "      <td>0.080000</td>\n",
       "    </tr>\n",
       "    <tr>\n",
       "      <th>B</th>\n",
       "      <td>0.070621</td>\n",
       "    </tr>\n",
       "    <tr>\n",
       "      <th>C</th>\n",
       "      <td>0.084825</td>\n",
       "    </tr>\n",
       "    <tr>\n",
       "      <th>D</th>\n",
       "      <td>0.060000</td>\n",
       "    </tr>\n",
       "    <tr>\n",
       "      <th>E</th>\n",
       "      <td>0.090909</td>\n",
       "    </tr>\n",
       "  </tbody>\n",
       "</table>\n",
       "</div>"
      ],
      "text/plain": [
       "                           debt\n",
       "total_income_category          \n",
       "A                      0.080000\n",
       "B                      0.070621\n",
       "C                      0.084825\n",
       "D                      0.060000\n",
       "E                      0.090909"
      ]
     },
     "execution_count": 51,
     "metadata": {},
     "output_type": "execute_result"
    }
   ],
   "source": [
    "pivot_total_income_category = df_updated.pivot_table(index='total_income_category', values='debt', aggfunc='mean')\n",
    "pivot_total_income_category"
   ]
  },
  {
   "cell_type": "markdown",
   "id": "786be11c",
   "metadata": {},
   "source": [
    "**Вывод 3:** Основная доля заемщиков это люди с доходами в широком диапазоне — 50-200 тысяч (категория С), ещё одна важная категория это клиенты с доходами от 200 тысяч до 1 млн (категория В). При этом доля должников среди категорий С и В радикально не отличается. Также практически не отличается количество людей с самой высокой и самой низкой категориями доходов, их очень мало. Из-за этого создается впечатление, что наименьшее, с точки зрения количества, число должников находится именно в этих категориях (А и Е). Однако, доля должников в категории Е выше, чем в остальных. В то время как в категории D наблюдается наименьшая доля должников. Получается, что с точки зрения дохода, наибольшая доля должников приходится на клиентов с очень низкими (Е) и высокими доходами (С, А). Самые порядочные клиенты находятся в категории D. "
   ]
  },
  {
   "cell_type": "markdown",
   "id": "ca09afe6",
   "metadata": {},
   "source": [
    "### Вопрос 4: Как разные цели кредита влияют на его возврат в срок?"
   ]
  },
  {
   "cell_type": "code",
   "execution_count": 52,
   "id": "ce8f3eca",
   "metadata": {},
   "outputs": [
    {
     "data": {
      "text/html": [
       "<div>\n",
       "<style scoped>\n",
       "    .dataframe tbody tr th:only-of-type {\n",
       "        vertical-align: middle;\n",
       "    }\n",
       "\n",
       "    .dataframe tbody tr th {\n",
       "        vertical-align: top;\n",
       "    }\n",
       "\n",
       "    .dataframe thead th {\n",
       "        text-align: right;\n",
       "    }\n",
       "</style>\n",
       "<table border=\"1\" class=\"dataframe\">\n",
       "  <thead>\n",
       "    <tr style=\"text-align: right;\">\n",
       "      <th>debt</th>\n",
       "      <th>0</th>\n",
       "      <th>1</th>\n",
       "    </tr>\n",
       "    <tr>\n",
       "      <th>purpose_category</th>\n",
       "      <th></th>\n",
       "      <th></th>\n",
       "    </tr>\n",
       "  </thead>\n",
       "  <tbody>\n",
       "    <tr>\n",
       "      <th>операции с недвижимостью</th>\n",
       "      <td>10032</td>\n",
       "      <td>782</td>\n",
       "    </tr>\n",
       "    <tr>\n",
       "      <th>операции с автомобилем</th>\n",
       "      <td>3905</td>\n",
       "      <td>403</td>\n",
       "    </tr>\n",
       "    <tr>\n",
       "      <th>получение образования</th>\n",
       "      <td>3644</td>\n",
       "      <td>370</td>\n",
       "    </tr>\n",
       "    <tr>\n",
       "      <th>проведение свадьбы</th>\n",
       "      <td>2149</td>\n",
       "      <td>186</td>\n",
       "    </tr>\n",
       "  </tbody>\n",
       "</table>\n",
       "</div>"
      ],
      "text/plain": [
       "debt                          0    1\n",
       "purpose_category                    \n",
       "операции с недвижимостью  10032  782\n",
       "операции с автомобилем     3905  403\n",
       "получение образования      3644  370\n",
       "проведение свадьбы         2149  186"
      ]
     },
     "execution_count": 52,
     "metadata": {},
     "output_type": "execute_result"
    }
   ],
   "source": [
    "pivot_purpose_category = df_updated.pivot_table(index='purpose_category', columns='debt', values='dob_years', aggfunc='count')\n",
    "pivot_purpose_category.sort_values([0,1], ascending=False) #сортируем по убыванию для комфортного анализа"
   ]
  },
  {
   "cell_type": "markdown",
   "id": "cc41b50d",
   "metadata": {},
   "source": [
    "Доля должников среди заемщиков с разными целями:"
   ]
  },
  {
   "cell_type": "code",
   "execution_count": 53,
   "id": "132ac9bd",
   "metadata": {},
   "outputs": [
    {
     "data": {
      "text/html": [
       "<div>\n",
       "<style scoped>\n",
       "    .dataframe tbody tr th:only-of-type {\n",
       "        vertical-align: middle;\n",
       "    }\n",
       "\n",
       "    .dataframe tbody tr th {\n",
       "        vertical-align: top;\n",
       "    }\n",
       "\n",
       "    .dataframe thead th {\n",
       "        text-align: right;\n",
       "    }\n",
       "</style>\n",
       "<table border=\"1\" class=\"dataframe\">\n",
       "  <thead>\n",
       "    <tr style=\"text-align: right;\">\n",
       "      <th></th>\n",
       "      <th>debt</th>\n",
       "    </tr>\n",
       "    <tr>\n",
       "      <th>purpose_category</th>\n",
       "      <th></th>\n",
       "    </tr>\n",
       "  </thead>\n",
       "  <tbody>\n",
       "    <tr>\n",
       "      <th>операции с автомобилем</th>\n",
       "      <td>0.093547</td>\n",
       "    </tr>\n",
       "    <tr>\n",
       "      <th>операции с недвижимостью</th>\n",
       "      <td>0.072314</td>\n",
       "    </tr>\n",
       "    <tr>\n",
       "      <th>получение образования</th>\n",
       "      <td>0.092177</td>\n",
       "    </tr>\n",
       "    <tr>\n",
       "      <th>проведение свадьбы</th>\n",
       "      <td>0.079657</td>\n",
       "    </tr>\n",
       "  </tbody>\n",
       "</table>\n",
       "</div>"
      ],
      "text/plain": [
       "                              debt\n",
       "purpose_category                  \n",
       "операции с автомобилем    0.093547\n",
       "операции с недвижимостью  0.072314\n",
       "получение образования     0.092177\n",
       "проведение свадьбы        0.079657"
      ]
     },
     "execution_count": 53,
     "metadata": {},
     "output_type": "execute_result"
    }
   ],
   "source": [
    "pivot_purpose_category = df_updated.pivot_table(index='purpose_category', values='debt', aggfunc='mean')\n",
    "pivot_purpose_category"
   ]
  },
  {
   "cell_type": "markdown",
   "id": "2e275632",
   "metadata": {},
   "source": [
    "**Вывод 4:** Самая популярная цель — операции с недвижимостью, что легко объясняется ценами на неё, при этом доля должников тут небольшая. Операции с автомобилем и образование занимают 2-е и 3-е место соответственно. Свадьба не самая популярная категория, хотя количество клиентов здесь тоже не маленькое. Среди желающих решить вопрос с автомобилем и получить образование можно заметить наибольшее количество должников. "
   ]
  },
  {
   "cell_type": "markdown",
   "id": "3102cfe2",
   "metadata": {},
   "source": [
    "## Итоги исследования:"
   ]
  },
  {
   "cell_type": "markdown",
   "id": "6f6b50cd",
   "metadata": {},
   "source": [
    "В ходе исследования мы ответили на 4 вопроса и установили, в каких категориях клиентов больше всего должников. \n",
    "\n",
    "1) Среди заемщиков преобладают бездетные, при этом доля должников среди клиентов без детей невысокая, по сравнению с другими категориями. Многодетным клиентам сложнее дается выполнение долговых обязательств. Это можно увидеть в таблице с долей должников. Первый столбец содержит данные о количестве детей, второй — о проценте должников среди заемщиков с указанным количеством детей.\n",
    "\n",
    "2) Основная масса заемщиков состоит в браке, плюс среди них сравнительно невысокий процент должников. Доля должников среди неженатых и состоящих в гражданском браке заметно выше. Самый низкий процент должников среди овдовевших клиентов, но и обращаются за кредитом такие клиенты реже всех. Ниже преведены результаты исследования: \n",
    "\n",
    "3) Для людей с самыми низкими доходами выплата кредита представляет наибольшую сложность. Парадоксально, но и люди с доходами 50-200 тыс, а также более 1 млн тоже испытывают трудности со своевременным возвратом кредита. \n",
    "\n",
    "\n",
    "4) Несмотря на популярность операций с недвижимостью, больше всего должников можно заметить среди желающих совершить операции с автомобилем или получить образование. \n",
    "\n",
    "Таким образом, можно обозначить портрет максимально ненадежного заемщика: 4 детей, не женат/не замужем, доход 50-200тыс., цель кредита: операции с автомобилем. \n",
    "\n",
    "**Важно:** в ходе исследования были обнаружены аномалии в столбце с трудовым стажем. Есть клиенты с трудовым стажем более 900 лет. В случае продолжения исследования стоит уделить больше внимания устранению аномалий в этом столбце. "
   ]
  }
 ],
 "metadata": {
  "ExecuteTimeLog": [
   {
    "duration": 675,
    "start_time": "2022-02-22T08:15:41.503Z"
   },
   {
    "duration": 58,
    "start_time": "2022-02-22T08:15:54.170Z"
   },
   {
    "duration": 61,
    "start_time": "2022-02-22T08:31:05.196Z"
   },
   {
    "duration": 52,
    "start_time": "2022-02-22T08:31:11.398Z"
   },
   {
    "duration": 15,
    "start_time": "2022-02-22T09:01:06.911Z"
   },
   {
    "duration": 10,
    "start_time": "2022-02-22T09:24:27.218Z"
   },
   {
    "duration": 10,
    "start_time": "2022-02-22T09:24:43.862Z"
   },
   {
    "duration": 11,
    "start_time": "2022-02-22T09:24:52.232Z"
   },
   {
    "duration": 11,
    "start_time": "2022-02-22T09:24:58.074Z"
   },
   {
    "duration": 18,
    "start_time": "2022-02-22T11:01:22.246Z"
   },
   {
    "duration": 44,
    "start_time": "2022-02-22T11:11:57.910Z"
   },
   {
    "duration": 64,
    "start_time": "2022-02-22T11:12:12.675Z"
   },
   {
    "duration": 71,
    "start_time": "2022-02-22T11:20:24.158Z"
   },
   {
    "duration": 7,
    "start_time": "2022-02-22T11:31:01.322Z"
   },
   {
    "duration": 82,
    "start_time": "2022-02-22T11:33:09.870Z"
   },
   {
    "duration": -275,
    "start_time": "2022-02-22T11:33:21.930Z"
   },
   {
    "duration": 75,
    "start_time": "2022-02-22T11:39:08.122Z"
   },
   {
    "duration": 9,
    "start_time": "2022-02-22T11:39:41.501Z"
   },
   {
    "duration": 7,
    "start_time": "2022-02-22T11:40:26.574Z"
   },
   {
    "duration": 8,
    "start_time": "2022-02-22T11:40:32.443Z"
   },
   {
    "duration": 7,
    "start_time": "2022-02-22T11:44:31.586Z"
   },
   {
    "duration": 247,
    "start_time": "2022-02-22T11:49:40.730Z"
   },
   {
    "duration": 270,
    "start_time": "2022-02-22T11:49:52.089Z"
   },
   {
    "duration": 227,
    "start_time": "2022-02-22T11:50:52.339Z"
   },
   {
    "duration": 245,
    "start_time": "2022-02-22T11:51:03.567Z"
   },
   {
    "duration": 478,
    "start_time": "2022-02-22T11:51:14.774Z"
   },
   {
    "duration": 5,
    "start_time": "2022-02-22T11:51:24.937Z"
   },
   {
    "duration": 3,
    "start_time": "2022-02-22T11:51:28.181Z"
   },
   {
    "duration": 6,
    "start_time": "2022-02-22T11:51:33.812Z"
   },
   {
    "duration": 6,
    "start_time": "2022-02-22T11:51:46.264Z"
   },
   {
    "duration": 241,
    "start_time": "2022-02-22T11:52:24.433Z"
   },
   {
    "duration": 226,
    "start_time": "2022-02-22T11:52:27.480Z"
   },
   {
    "duration": 232,
    "start_time": "2022-02-22T11:52:30.923Z"
   },
   {
    "duration": 223,
    "start_time": "2022-02-22T11:52:35.392Z"
   },
   {
    "duration": 227,
    "start_time": "2022-02-22T12:01:50.799Z"
   },
   {
    "duration": 5,
    "start_time": "2022-02-22T12:01:56.244Z"
   },
   {
    "duration": 6,
    "start_time": "2022-02-22T12:06:42.642Z"
   },
   {
    "duration": 260,
    "start_time": "2022-02-22T12:10:20.223Z"
   },
   {
    "duration": 50,
    "start_time": "2022-02-22T12:10:29.698Z"
   },
   {
    "duration": 10,
    "start_time": "2022-02-22T12:10:33.627Z"
   },
   {
    "duration": 226,
    "start_time": "2022-02-22T12:10:36.632Z"
   },
   {
    "duration": 249,
    "start_time": "2022-02-22T12:12:06.105Z"
   },
   {
    "duration": 442,
    "start_time": "2022-02-22T12:12:32.842Z"
   },
   {
    "duration": 233,
    "start_time": "2022-02-22T12:13:50.959Z"
   },
   {
    "duration": 4,
    "start_time": "2022-02-22T12:19:38.416Z"
   },
   {
    "duration": 6,
    "start_time": "2022-02-22T12:20:20.619Z"
   },
   {
    "duration": 19,
    "start_time": "2022-02-22T12:20:31.772Z"
   },
   {
    "duration": 5,
    "start_time": "2022-02-22T12:21:00.220Z"
   },
   {
    "duration": 6,
    "start_time": "2022-02-22T12:21:06.830Z"
   },
   {
    "duration": 6,
    "start_time": "2022-02-22T12:21:41.025Z"
   },
   {
    "duration": 20,
    "start_time": "2022-02-22T12:21:53.569Z"
   },
   {
    "duration": 25,
    "start_time": "2022-02-22T12:22:50.412Z"
   },
   {
    "duration": 14,
    "start_time": "2022-02-22T12:23:26.089Z"
   },
   {
    "duration": 13,
    "start_time": "2022-02-22T12:23:42.853Z"
   },
   {
    "duration": 12,
    "start_time": "2022-02-22T12:24:27.914Z"
   },
   {
    "duration": 5,
    "start_time": "2022-02-22T12:25:37.800Z"
   },
   {
    "duration": 21,
    "start_time": "2022-02-22T12:25:50.538Z"
   },
   {
    "duration": 4,
    "start_time": "2022-02-22T12:26:19.033Z"
   },
   {
    "duration": 20,
    "start_time": "2022-02-22T12:26:26.565Z"
   },
   {
    "duration": 6,
    "start_time": "2022-02-22T12:36:14.420Z"
   },
   {
    "duration": 227,
    "start_time": "2022-02-22T12:37:28.103Z"
   },
   {
    "duration": 13,
    "start_time": "2022-02-22T12:37:34.345Z"
   },
   {
    "duration": 25,
    "start_time": "2022-02-22T12:37:44.327Z"
   },
   {
    "duration": 12,
    "start_time": "2022-02-22T12:38:02.925Z"
   },
   {
    "duration": 5,
    "start_time": "2022-02-22T12:38:38.618Z"
   },
   {
    "duration": 12,
    "start_time": "2022-02-22T12:38:43.270Z"
   },
   {
    "duration": 5,
    "start_time": "2022-02-22T12:39:04.325Z"
   },
   {
    "duration": 49,
    "start_time": "2022-02-22T12:39:37.902Z"
   },
   {
    "duration": 10,
    "start_time": "2022-02-22T12:39:37.953Z"
   },
   {
    "duration": 5,
    "start_time": "2022-02-22T12:39:37.965Z"
   },
   {
    "duration": 14,
    "start_time": "2022-02-22T12:39:37.972Z"
   },
   {
    "duration": 6,
    "start_time": "2022-02-22T12:39:53.852Z"
   },
   {
    "duration": 72,
    "start_time": "2022-02-22T12:40:25.924Z"
   },
   {
    "duration": 10,
    "start_time": "2022-02-22T12:40:25.999Z"
   },
   {
    "duration": 238,
    "start_time": "2022-02-22T12:40:26.011Z"
   },
   {
    "duration": -262,
    "start_time": "2022-02-22T12:40:26.513Z"
   },
   {
    "duration": 6,
    "start_time": "2022-02-22T12:40:39.431Z"
   },
   {
    "duration": 6,
    "start_time": "2022-02-22T12:40:41.854Z"
   },
   {
    "duration": 11,
    "start_time": "2022-02-22T12:41:15.272Z"
   },
   {
    "duration": 7,
    "start_time": "2022-02-22T12:47:08.620Z"
   },
   {
    "duration": 10,
    "start_time": "2022-02-22T12:47:23.058Z"
   },
   {
    "duration": 311,
    "start_time": "2022-02-22T12:48:53.715Z"
   },
   {
    "duration": 241,
    "start_time": "2022-02-22T12:49:00.967Z"
   },
   {
    "duration": 5,
    "start_time": "2022-02-22T12:49:29.652Z"
   },
   {
    "duration": 7,
    "start_time": "2022-02-22T12:49:42.780Z"
   },
   {
    "duration": 5,
    "start_time": "2022-02-22T12:50:02.237Z"
   },
   {
    "duration": 7,
    "start_time": "2022-02-22T12:50:19.810Z"
   },
   {
    "duration": 35,
    "start_time": "2022-02-22T12:50:19.819Z"
   },
   {
    "duration": 15,
    "start_time": "2022-02-22T12:50:19.856Z"
   },
   {
    "duration": 6,
    "start_time": "2022-02-22T12:51:54.671Z"
   },
   {
    "duration": 14,
    "start_time": "2022-02-22T12:52:20.961Z"
   },
   {
    "duration": 6,
    "start_time": "2022-02-22T12:52:26.011Z"
   },
   {
    "duration": 226,
    "start_time": "2022-02-22T13:03:44.143Z"
   },
   {
    "duration": 248,
    "start_time": "2022-02-22T13:04:19.319Z"
   },
   {
    "duration": 249,
    "start_time": "2022-02-22T13:04:23.810Z"
   },
   {
    "duration": 51,
    "start_time": "2022-02-22T13:04:43.754Z"
   },
   {
    "duration": 9,
    "start_time": "2022-02-22T13:04:43.807Z"
   },
   {
    "duration": 9,
    "start_time": "2022-02-22T13:04:43.819Z"
   },
   {
    "duration": 11,
    "start_time": "2022-02-22T13:04:43.831Z"
   },
   {
    "duration": 6,
    "start_time": "2022-02-22T13:04:43.843Z"
   },
   {
    "duration": 14,
    "start_time": "2022-02-22T13:04:43.851Z"
   },
   {
    "duration": 6,
    "start_time": "2022-02-22T13:04:43.867Z"
   },
   {
    "duration": 1313,
    "start_time": "2022-02-22T13:05:24.834Z"
   },
   {
    "duration": 58,
    "start_time": "2022-02-22T13:05:42.146Z"
   },
   {
    "duration": 10,
    "start_time": "2022-02-22T13:05:42.206Z"
   },
   {
    "duration": 236,
    "start_time": "2022-02-22T13:05:42.218Z"
   },
   {
    "duration": -361,
    "start_time": "2022-02-22T13:05:42.817Z"
   },
   {
    "duration": -363,
    "start_time": "2022-02-22T13:05:42.820Z"
   },
   {
    "duration": -364,
    "start_time": "2022-02-22T13:05:42.822Z"
   },
   {
    "duration": -365,
    "start_time": "2022-02-22T13:05:42.825Z"
   },
   {
    "duration": 7,
    "start_time": "2022-02-22T13:06:30.339Z"
   },
   {
    "duration": 6,
    "start_time": "2022-02-22T13:06:32.673Z"
   },
   {
    "duration": 51,
    "start_time": "2022-02-22T13:06:47.579Z"
   },
   {
    "duration": 9,
    "start_time": "2022-02-22T13:06:47.632Z"
   },
   {
    "duration": 21,
    "start_time": "2022-02-22T13:06:47.643Z"
   },
   {
    "duration": 25,
    "start_time": "2022-02-22T13:06:47.665Z"
   },
   {
    "duration": 24,
    "start_time": "2022-02-22T13:06:47.692Z"
   },
   {
    "duration": 5,
    "start_time": "2022-02-22T13:06:47.718Z"
   },
   {
    "duration": 21,
    "start_time": "2022-02-22T13:06:47.724Z"
   },
   {
    "duration": 23,
    "start_time": "2022-02-22T13:06:47.747Z"
   },
   {
    "duration": 5,
    "start_time": "2022-02-22T13:07:15.101Z"
   },
   {
    "duration": 5,
    "start_time": "2022-02-22T13:08:15.034Z"
   },
   {
    "duration": 5,
    "start_time": "2022-02-22T13:08:48.985Z"
   },
   {
    "duration": 10,
    "start_time": "2022-02-22T13:08:55.345Z"
   },
   {
    "duration": 6,
    "start_time": "2022-02-22T13:08:57.571Z"
   },
   {
    "duration": 4,
    "start_time": "2022-02-22T13:11:00.528Z"
   },
   {
    "duration": 6,
    "start_time": "2022-02-22T13:11:09.894Z"
   },
   {
    "duration": 4,
    "start_time": "2022-02-22T13:11:11.202Z"
   },
   {
    "duration": 5,
    "start_time": "2022-02-22T13:11:14.014Z"
   },
   {
    "duration": 20,
    "start_time": "2022-02-22T13:11:41.717Z"
   },
   {
    "duration": 56,
    "start_time": "2022-02-22T13:12:16.783Z"
   },
   {
    "duration": 10,
    "start_time": "2022-02-22T13:12:16.841Z"
   },
   {
    "duration": 5,
    "start_time": "2022-02-22T13:12:16.854Z"
   },
   {
    "duration": 8,
    "start_time": "2022-02-22T13:12:16.861Z"
   },
   {
    "duration": 7,
    "start_time": "2022-02-22T13:12:16.871Z"
   },
   {
    "duration": 41,
    "start_time": "2022-02-22T13:12:16.879Z"
   },
   {
    "duration": 286,
    "start_time": "2022-02-22T13:12:16.922Z"
   },
   {
    "duration": -344,
    "start_time": "2022-02-22T13:12:17.554Z"
   },
   {
    "duration": -346,
    "start_time": "2022-02-22T13:12:17.557Z"
   },
   {
    "duration": 20,
    "start_time": "2022-02-22T13:13:00.905Z"
   },
   {
    "duration": 54,
    "start_time": "2022-02-22T13:13:10.595Z"
   },
   {
    "duration": 11,
    "start_time": "2022-02-22T13:13:10.651Z"
   },
   {
    "duration": 23,
    "start_time": "2022-02-22T13:13:10.664Z"
   },
   {
    "duration": 24,
    "start_time": "2022-02-22T13:13:10.689Z"
   },
   {
    "duration": 23,
    "start_time": "2022-02-22T13:13:10.715Z"
   },
   {
    "duration": 19,
    "start_time": "2022-02-22T13:13:10.740Z"
   },
   {
    "duration": 256,
    "start_time": "2022-02-22T13:13:10.761Z"
   },
   {
    "duration": -308,
    "start_time": "2022-02-22T13:13:11.327Z"
   },
   {
    "duration": -312,
    "start_time": "2022-02-22T13:13:11.332Z"
   },
   {
    "duration": 254,
    "start_time": "2022-02-22T13:13:41.993Z"
   },
   {
    "duration": 55,
    "start_time": "2022-02-22T13:14:43.481Z"
   },
   {
    "duration": 9,
    "start_time": "2022-02-22T13:14:43.538Z"
   },
   {
    "duration": 6,
    "start_time": "2022-02-22T13:46:53.449Z"
   },
   {
    "duration": 6,
    "start_time": "2022-02-22T13:47:03.417Z"
   },
   {
    "duration": 5,
    "start_time": "2022-02-22T13:48:04.693Z"
   },
   {
    "duration": 5,
    "start_time": "2022-02-22T13:48:42.413Z"
   },
   {
    "duration": 12,
    "start_time": "2022-02-22T13:52:02.934Z"
   },
   {
    "duration": 17,
    "start_time": "2022-02-22T13:52:28.848Z"
   },
   {
    "duration": 4,
    "start_time": "2022-02-22T14:07:48.003Z"
   },
   {
    "duration": 15,
    "start_time": "2022-02-22T14:08:02.730Z"
   },
   {
    "duration": 5,
    "start_time": "2022-02-22T14:08:22.972Z"
   },
   {
    "duration": 4,
    "start_time": "2022-02-22T14:08:25.309Z"
   },
   {
    "duration": 15,
    "start_time": "2022-02-22T14:08:26.772Z"
   },
   {
    "duration": 4,
    "start_time": "2022-02-22T14:10:38.882Z"
   },
   {
    "duration": 15,
    "start_time": "2022-02-22T14:10:41.655Z"
   },
   {
    "duration": 52,
    "start_time": "2022-02-22T14:10:56.024Z"
   },
   {
    "duration": 3,
    "start_time": "2022-02-22T14:10:56.078Z"
   },
   {
    "duration": 30,
    "start_time": "2022-02-22T14:10:56.084Z"
   },
   {
    "duration": 457,
    "start_time": "2022-02-22T14:12:10.503Z"
   },
   {
    "duration": 15,
    "start_time": "2022-02-22T14:12:13.170Z"
   },
   {
    "duration": 253,
    "start_time": "2022-02-22T14:12:43.200Z"
   },
   {
    "duration": 228,
    "start_time": "2022-02-22T14:12:51.766Z"
   },
   {
    "duration": 262,
    "start_time": "2022-02-22T14:12:58.058Z"
   },
   {
    "duration": 6,
    "start_time": "2022-02-22T14:36:53.645Z"
   },
   {
    "duration": 4,
    "start_time": "2022-02-22T14:41:41.281Z"
   },
   {
    "duration": 15,
    "start_time": "2022-02-22T14:41:43.931Z"
   },
   {
    "duration": 4,
    "start_time": "2022-02-22T14:42:50.700Z"
   },
   {
    "duration": 15,
    "start_time": "2022-02-22T14:42:53.003Z"
   },
   {
    "duration": 4,
    "start_time": "2022-02-22T14:44:52.974Z"
   },
   {
    "duration": 15,
    "start_time": "2022-02-22T14:44:55.926Z"
   },
   {
    "duration": 57,
    "start_time": "2022-02-22T14:45:10.410Z"
   },
   {
    "duration": 4,
    "start_time": "2022-02-22T14:45:10.469Z"
   },
   {
    "duration": 36,
    "start_time": "2022-02-22T14:45:10.476Z"
   },
   {
    "duration": 5,
    "start_time": "2022-02-22T14:48:01.847Z"
   },
   {
    "duration": 15,
    "start_time": "2022-02-22T14:48:04.561Z"
   },
   {
    "duration": 58,
    "start_time": "2022-02-22T14:53:04.432Z"
   },
   {
    "duration": 6,
    "start_time": "2022-02-22T14:53:04.492Z"
   },
   {
    "duration": 14,
    "start_time": "2022-02-22T14:53:04.501Z"
   },
   {
    "duration": 67,
    "start_time": "2022-02-22T14:53:44.513Z"
   },
   {
    "duration": 3,
    "start_time": "2022-02-22T14:53:44.582Z"
   },
   {
    "duration": 19,
    "start_time": "2022-02-22T14:53:44.587Z"
   },
   {
    "duration": 6,
    "start_time": "2022-02-22T14:53:56.607Z"
   },
   {
    "duration": 14,
    "start_time": "2022-02-22T14:53:59.376Z"
   },
   {
    "duration": 5,
    "start_time": "2022-02-22T14:54:04.756Z"
   },
   {
    "duration": 16,
    "start_time": "2022-02-22T14:54:06.724Z"
   },
   {
    "duration": 65,
    "start_time": "2022-02-22T14:54:13.173Z"
   },
   {
    "duration": 5,
    "start_time": "2022-02-22T14:54:13.241Z"
   },
   {
    "duration": 15,
    "start_time": "2022-02-22T14:54:13.249Z"
   },
   {
    "duration": 4,
    "start_time": "2022-02-22T14:55:26.328Z"
   },
   {
    "duration": 15,
    "start_time": "2022-02-22T14:55:28.131Z"
   },
   {
    "duration": 16,
    "start_time": "2022-02-22T14:56:10.232Z"
   },
   {
    "duration": 51,
    "start_time": "2022-02-22T14:56:24.037Z"
   },
   {
    "duration": 13,
    "start_time": "2022-02-22T14:56:24.091Z"
   },
   {
    "duration": 23,
    "start_time": "2022-02-22T14:56:59.586Z"
   },
   {
    "duration": 15,
    "start_time": "2022-02-22T14:57:19.800Z"
   },
   {
    "duration": 4,
    "start_time": "2022-02-22T14:58:16.859Z"
   },
   {
    "duration": 15,
    "start_time": "2022-02-22T14:58:19.070Z"
   },
   {
    "duration": 32,
    "start_time": "2022-02-22T15:01:21.159Z"
   },
   {
    "duration": 15,
    "start_time": "2022-02-22T15:01:22.880Z"
   },
   {
    "duration": 30,
    "start_time": "2022-02-22T15:01:59.931Z"
   },
   {
    "duration": 20,
    "start_time": "2022-02-22T15:02:01.713Z"
   },
   {
    "duration": 20,
    "start_time": "2022-02-22T15:02:11.678Z"
   },
   {
    "duration": 15,
    "start_time": "2022-02-22T15:02:13.955Z"
   },
   {
    "duration": 52,
    "start_time": "2022-02-22T15:02:26.536Z"
   },
   {
    "duration": 14,
    "start_time": "2022-02-22T15:02:26.590Z"
   },
   {
    "duration": 243,
    "start_time": "2022-02-22T15:12:47.716Z"
   },
   {
    "duration": 58,
    "start_time": "2022-02-22T15:15:04.012Z"
   },
   {
    "duration": 239,
    "start_time": "2022-02-22T15:15:04.072Z"
   },
   {
    "duration": -388,
    "start_time": "2022-02-22T15:15:04.701Z"
   },
   {
    "duration": 241,
    "start_time": "2022-02-22T15:15:26.033Z"
   },
   {
    "duration": 5,
    "start_time": "2022-02-22T15:15:41.873Z"
   },
   {
    "duration": 4,
    "start_time": "2022-02-22T15:15:44.053Z"
   },
   {
    "duration": 22,
    "start_time": "2022-02-22T15:15:45.375Z"
   },
   {
    "duration": 5,
    "start_time": "2022-02-22T15:15:50.301Z"
   },
   {
    "duration": 66,
    "start_time": "2022-02-22T15:15:58.608Z"
   },
   {
    "duration": 5,
    "start_time": "2022-02-22T15:15:58.677Z"
   },
   {
    "duration": 26,
    "start_time": "2022-02-22T15:15:58.684Z"
   },
   {
    "duration": 64,
    "start_time": "2022-02-22T15:26:05.710Z"
   },
   {
    "duration": 4,
    "start_time": "2022-02-22T15:26:05.776Z"
   },
   {
    "duration": 19,
    "start_time": "2022-02-22T15:26:05.782Z"
   },
   {
    "duration": 58,
    "start_time": "2022-02-22T15:49:21.438Z"
   },
   {
    "duration": 4,
    "start_time": "2022-02-22T15:49:21.498Z"
   },
   {
    "duration": 20,
    "start_time": "2022-02-22T15:49:21.504Z"
   },
   {
    "duration": 6,
    "start_time": "2022-02-22T15:54:31.123Z"
   },
   {
    "duration": 2386,
    "start_time": "2022-02-22T16:04:03.654Z"
   },
   {
    "duration": 224,
    "start_time": "2022-02-22T16:04:15.847Z"
   },
   {
    "duration": 247,
    "start_time": "2022-02-22T16:06:14.409Z"
   },
   {
    "duration": 226,
    "start_time": "2022-02-22T16:06:28.668Z"
   },
   {
    "duration": 1222,
    "start_time": "2022-02-22T16:06:40.294Z"
   },
   {
    "duration": 19,
    "start_time": "2022-02-22T16:12:41.345Z"
   },
   {
    "duration": 15,
    "start_time": "2022-02-22T16:12:44.291Z"
   },
   {
    "duration": 26,
    "start_time": "2022-02-22T16:13:21.055Z"
   },
   {
    "duration": 18,
    "start_time": "2022-02-22T16:13:23.719Z"
   },
   {
    "duration": 12,
    "start_time": "2022-02-22T16:13:36.398Z"
   },
   {
    "duration": 15,
    "start_time": "2022-02-22T16:13:37.770Z"
   },
   {
    "duration": 55,
    "start_time": "2022-02-22T16:13:48.229Z"
   },
   {
    "duration": 25,
    "start_time": "2022-02-22T16:13:48.286Z"
   },
   {
    "duration": 24,
    "start_time": "2022-02-22T16:13:48.314Z"
   },
   {
    "duration": 217,
    "start_time": "2022-02-22T16:16:40.864Z"
   },
   {
    "duration": 10,
    "start_time": "2022-02-22T16:20:34.677Z"
   },
   {
    "duration": 16,
    "start_time": "2022-02-22T16:20:39.832Z"
   },
   {
    "duration": 55,
    "start_time": "2022-02-22T16:20:56.346Z"
   },
   {
    "duration": 9,
    "start_time": "2022-02-22T16:20:56.404Z"
   },
   {
    "duration": 24,
    "start_time": "2022-02-22T16:20:56.415Z"
   },
   {
    "duration": 15,
    "start_time": "2022-02-22T16:21:04.751Z"
   },
   {
    "duration": 6,
    "start_time": "2022-02-22T16:21:19.052Z"
   },
   {
    "duration": 15,
    "start_time": "2022-02-22T16:21:21.693Z"
   },
   {
    "duration": 6,
    "start_time": "2022-02-22T16:21:26.168Z"
   },
   {
    "duration": 18,
    "start_time": "2022-02-22T16:21:27.756Z"
   },
   {
    "duration": 57,
    "start_time": "2022-02-22T16:21:33.704Z"
   },
   {
    "duration": 6,
    "start_time": "2022-02-22T16:21:33.763Z"
   },
   {
    "duration": 16,
    "start_time": "2022-02-22T16:21:33.770Z"
   },
   {
    "duration": 6,
    "start_time": "2022-02-22T16:22:28.946Z"
   },
   {
    "duration": 5,
    "start_time": "2022-02-22T16:25:04.687Z"
   },
   {
    "duration": 7,
    "start_time": "2022-02-22T16:25:06.482Z"
   },
   {
    "duration": 15,
    "start_time": "2022-02-22T16:25:26.090Z"
   },
   {
    "duration": 6,
    "start_time": "2022-02-22T16:26:01.575Z"
   },
   {
    "duration": 61,
    "start_time": "2022-02-22T16:27:04.000Z"
   },
   {
    "duration": 6,
    "start_time": "2022-02-22T16:27:04.062Z"
   },
   {
    "duration": 17,
    "start_time": "2022-02-22T16:27:04.069Z"
   },
   {
    "duration": 5,
    "start_time": "2022-02-22T16:27:04.088Z"
   },
   {
    "duration": 29,
    "start_time": "2022-02-22T16:27:04.095Z"
   },
   {
    "duration": 21,
    "start_time": "2022-02-22T16:27:04.127Z"
   },
   {
    "duration": 5,
    "start_time": "2022-02-22T16:27:04.150Z"
   },
   {
    "duration": 16,
    "start_time": "2022-02-22T16:28:10.610Z"
   },
   {
    "duration": 57,
    "start_time": "2022-02-22T16:28:17.589Z"
   },
   {
    "duration": 8,
    "start_time": "2022-02-22T16:28:17.649Z"
   },
   {
    "duration": 15,
    "start_time": "2022-02-22T16:28:17.659Z"
   },
   {
    "duration": 7,
    "start_time": "2022-02-22T16:28:17.676Z"
   },
   {
    "duration": 5,
    "start_time": "2022-02-22T16:28:17.685Z"
   },
   {
    "duration": 55,
    "start_time": "2022-02-22T16:28:17.691Z"
   },
   {
    "duration": 6,
    "start_time": "2022-02-22T16:28:17.748Z"
   },
   {
    "duration": 16,
    "start_time": "2022-02-22T16:28:17.756Z"
   },
   {
    "duration": 3,
    "start_time": "2022-02-22T16:28:30.603Z"
   },
   {
    "duration": 5,
    "start_time": "2022-02-22T16:28:32.880Z"
   },
   {
    "duration": 3195,
    "start_time": "2022-02-22T16:29:02.038Z"
   },
   {
    "duration": -514,
    "start_time": "2022-02-22T16:29:05.751Z"
   },
   {
    "duration": 3126,
    "start_time": "2022-02-22T16:29:11.339Z"
   },
   {
    "duration": 5,
    "start_time": "2022-02-22T16:29:16.639Z"
   },
   {
    "duration": 64,
    "start_time": "2022-02-22T16:29:58.508Z"
   },
   {
    "duration": 6,
    "start_time": "2022-02-22T16:29:58.575Z"
   },
   {
    "duration": 19,
    "start_time": "2022-02-22T16:29:58.584Z"
   },
   {
    "duration": 18,
    "start_time": "2022-02-22T16:29:58.605Z"
   },
   {
    "duration": 7,
    "start_time": "2022-02-22T16:29:58.625Z"
   },
   {
    "duration": 14,
    "start_time": "2022-02-22T16:29:58.634Z"
   },
   {
    "duration": 10,
    "start_time": "2022-02-22T16:29:58.650Z"
   },
   {
    "duration": 15,
    "start_time": "2022-02-22T16:29:58.661Z"
   },
   {
    "duration": 5,
    "start_time": "2022-02-22T16:32:44.932Z"
   },
   {
    "duration": 5,
    "start_time": "2022-02-22T16:33:10.634Z"
   },
   {
    "duration": 15,
    "start_time": "2022-02-22T16:33:52.770Z"
   },
   {
    "duration": 4,
    "start_time": "2022-02-22T16:34:19.145Z"
   },
   {
    "duration": 13,
    "start_time": "2022-02-22T16:34:25.641Z"
   },
   {
    "duration": 61,
    "start_time": "2022-02-22T16:38:44.593Z"
   },
   {
    "duration": 13,
    "start_time": "2022-02-22T16:45:07.567Z"
   },
   {
    "duration": 75,
    "start_time": "2022-02-22T16:51:21.939Z"
   },
   {
    "duration": 10,
    "start_time": "2022-02-22T17:29:23.785Z"
   },
   {
    "duration": 91,
    "start_time": "2022-02-22T17:47:28.731Z"
   },
   {
    "duration": 73,
    "start_time": "2022-02-22T18:00:14.626Z"
   },
   {
    "duration": 17,
    "start_time": "2022-02-22T18:11:15.909Z"
   },
   {
    "duration": 212,
    "start_time": "2022-02-22T18:13:07.960Z"
   },
   {
    "duration": 16,
    "start_time": "2022-02-22T18:13:12.719Z"
   },
   {
    "duration": 12,
    "start_time": "2022-02-22T18:13:14.856Z"
   },
   {
    "duration": 56,
    "start_time": "2022-02-22T18:13:52.099Z"
   },
   {
    "duration": 11,
    "start_time": "2022-02-22T18:13:52.157Z"
   },
   {
    "duration": 11,
    "start_time": "2022-02-22T18:13:52.170Z"
   },
   {
    "duration": 37,
    "start_time": "2022-02-22T18:13:52.183Z"
   },
   {
    "duration": 16,
    "start_time": "2022-02-22T18:13:52.222Z"
   },
   {
    "duration": 5,
    "start_time": "2022-02-22T18:13:52.239Z"
   },
   {
    "duration": 3,
    "start_time": "2022-02-22T18:13:52.246Z"
   },
   {
    "duration": 15,
    "start_time": "2022-02-22T18:13:52.251Z"
   },
   {
    "duration": 3,
    "start_time": "2022-02-22T18:13:52.269Z"
   },
   {
    "duration": 46,
    "start_time": "2022-02-22T18:13:52.275Z"
   },
   {
    "duration": 6,
    "start_time": "2022-02-22T18:13:52.323Z"
   },
   {
    "duration": 5,
    "start_time": "2022-02-22T18:13:52.331Z"
   },
   {
    "duration": 15,
    "start_time": "2022-02-22T18:13:52.338Z"
   },
   {
    "duration": 4,
    "start_time": "2022-02-22T18:13:52.355Z"
   },
   {
    "duration": 15,
    "start_time": "2022-02-22T18:13:52.361Z"
   },
   {
    "duration": 17,
    "start_time": "2022-02-22T18:13:52.420Z"
   },
   {
    "duration": 16,
    "start_time": "2022-02-22T18:13:52.439Z"
   },
   {
    "duration": 10,
    "start_time": "2022-02-22T18:13:52.456Z"
   },
   {
    "duration": 17,
    "start_time": "2022-02-22T18:14:12.064Z"
   },
   {
    "duration": 15,
    "start_time": "2022-02-22T18:14:12.871Z"
   },
   {
    "duration": 728,
    "start_time": "2022-02-23T12:47:54.201Z"
   },
   {
    "duration": 13,
    "start_time": "2022-02-23T12:47:54.931Z"
   },
   {
    "duration": 39,
    "start_time": "2022-02-23T12:47:54.946Z"
   },
   {
    "duration": 8,
    "start_time": "2022-02-23T12:47:54.987Z"
   },
   {
    "duration": 33,
    "start_time": "2022-02-23T12:47:54.996Z"
   },
   {
    "duration": 20,
    "start_time": "2022-02-23T12:47:55.031Z"
   },
   {
    "duration": 15,
    "start_time": "2022-02-23T12:47:55.052Z"
   },
   {
    "duration": 16,
    "start_time": "2022-02-23T12:47:55.071Z"
   },
   {
    "duration": 9,
    "start_time": "2022-02-23T12:47:55.090Z"
   },
   {
    "duration": 21,
    "start_time": "2022-02-23T12:47:55.100Z"
   },
   {
    "duration": 13,
    "start_time": "2022-02-23T12:47:55.123Z"
   },
   {
    "duration": 8,
    "start_time": "2022-02-23T12:47:55.138Z"
   },
   {
    "duration": 14,
    "start_time": "2022-02-23T12:47:55.148Z"
   },
   {
    "duration": 10,
    "start_time": "2022-02-23T12:47:55.164Z"
   },
   {
    "duration": 22,
    "start_time": "2022-02-23T12:47:55.176Z"
   },
   {
    "duration": 29,
    "start_time": "2022-02-23T12:47:55.200Z"
   },
   {
    "duration": 17,
    "start_time": "2022-02-23T12:47:55.231Z"
   },
   {
    "duration": 15,
    "start_time": "2022-02-23T12:47:55.250Z"
   },
   {
    "duration": 18,
    "start_time": "2022-02-23T13:09:18.512Z"
   },
   {
    "duration": 16,
    "start_time": "2022-02-23T13:09:28.041Z"
   },
   {
    "duration": 14,
    "start_time": "2022-02-23T13:18:35.592Z"
   },
   {
    "duration": 20,
    "start_time": "2022-02-23T13:35:06.448Z"
   },
   {
    "duration": 15,
    "start_time": "2022-02-23T13:36:17.134Z"
   },
   {
    "duration": 8,
    "start_time": "2022-02-23T13:44:37.236Z"
   },
   {
    "duration": 12,
    "start_time": "2022-02-23T13:52:33.271Z"
   },
   {
    "duration": 9,
    "start_time": "2022-02-23T13:52:48.811Z"
   },
   {
    "duration": 66,
    "start_time": "2022-02-23T13:53:40.762Z"
   },
   {
    "duration": 8,
    "start_time": "2022-02-23T13:57:01.074Z"
   },
   {
    "duration": 20,
    "start_time": "2022-02-23T13:58:57.072Z"
   },
   {
    "duration": 10,
    "start_time": "2022-02-23T13:59:40.687Z"
   },
   {
    "duration": 9,
    "start_time": "2022-02-23T14:01:39.554Z"
   },
   {
    "duration": 8,
    "start_time": "2022-02-23T14:03:44.007Z"
   },
   {
    "duration": 8,
    "start_time": "2022-02-23T14:09:20.613Z"
   },
   {
    "duration": 64,
    "start_time": "2022-02-23T14:11:52.611Z"
   },
   {
    "duration": 13,
    "start_time": "2022-02-23T14:11:52.678Z"
   },
   {
    "duration": 11,
    "start_time": "2022-02-23T14:11:52.718Z"
   },
   {
    "duration": 9,
    "start_time": "2022-02-23T14:11:52.731Z"
   },
   {
    "duration": 30,
    "start_time": "2022-02-23T14:11:52.741Z"
   },
   {
    "duration": 26,
    "start_time": "2022-02-23T14:11:52.773Z"
   },
   {
    "duration": 42,
    "start_time": "2022-02-23T14:11:52.800Z"
   },
   {
    "duration": 47,
    "start_time": "2022-02-23T14:11:52.844Z"
   },
   {
    "duration": 7,
    "start_time": "2022-02-23T14:11:52.893Z"
   },
   {
    "duration": 17,
    "start_time": "2022-02-23T14:11:52.901Z"
   },
   {
    "duration": 6,
    "start_time": "2022-02-23T14:11:52.920Z"
   },
   {
    "duration": 4,
    "start_time": "2022-02-23T14:11:52.928Z"
   },
   {
    "duration": 15,
    "start_time": "2022-02-23T14:11:52.933Z"
   },
   {
    "duration": 7,
    "start_time": "2022-02-23T14:11:52.950Z"
   },
   {
    "duration": 15,
    "start_time": "2022-02-23T14:11:52.958Z"
   },
   {
    "duration": 45,
    "start_time": "2022-02-23T14:11:52.974Z"
   },
   {
    "duration": 16,
    "start_time": "2022-02-23T14:11:53.021Z"
   },
   {
    "duration": 15,
    "start_time": "2022-02-23T14:11:53.038Z"
   },
   {
    "duration": 25,
    "start_time": "2022-02-23T14:11:53.055Z"
   },
   {
    "duration": 36,
    "start_time": "2022-02-23T14:11:53.082Z"
   },
   {
    "duration": 7,
    "start_time": "2022-02-23T14:11:53.120Z"
   },
   {
    "duration": 17,
    "start_time": "2022-02-23T14:11:53.128Z"
   },
   {
    "duration": 13,
    "start_time": "2022-02-23T14:11:53.148Z"
   },
   {
    "duration": 10,
    "start_time": "2022-02-23T14:11:53.163Z"
   },
   {
    "duration": 14,
    "start_time": "2022-02-23T14:11:53.175Z"
   },
   {
    "duration": 10,
    "start_time": "2022-02-23T14:11:53.191Z"
   },
   {
    "duration": 7,
    "start_time": "2022-02-23T14:11:53.218Z"
   },
   {
    "duration": 11,
    "start_time": "2022-02-23T14:11:53.227Z"
   },
   {
    "duration": 10,
    "start_time": "2022-02-23T14:11:53.240Z"
   },
   {
    "duration": 9,
    "start_time": "2022-02-23T15:26:57.663Z"
   },
   {
    "duration": 9,
    "start_time": "2022-02-23T15:28:23.723Z"
   },
   {
    "duration": 22,
    "start_time": "2022-02-23T15:51:40.120Z"
   },
   {
    "duration": 4,
    "start_time": "2022-02-23T16:07:32.955Z"
   },
   {
    "duration": 3,
    "start_time": "2022-02-23T16:08:44.954Z"
   },
   {
    "duration": 3,
    "start_time": "2022-02-23T16:09:16.553Z"
   },
   {
    "duration": 3,
    "start_time": "2022-02-23T16:09:23.547Z"
   },
   {
    "duration": 4,
    "start_time": "2022-02-23T16:09:32.458Z"
   },
   {
    "duration": 24,
    "start_time": "2022-02-23T16:11:33.397Z"
   },
   {
    "duration": 19,
    "start_time": "2022-02-23T16:11:40.666Z"
   },
   {
    "duration": 101,
    "start_time": "2022-02-23T16:16:35.915Z"
   },
   {
    "duration": 19,
    "start_time": "2022-02-23T16:19:49.578Z"
   },
   {
    "duration": 10,
    "start_time": "2022-02-23T16:20:15.587Z"
   },
   {
    "duration": 63,
    "start_time": "2022-02-23T16:20:27.336Z"
   },
   {
    "duration": 10,
    "start_time": "2022-02-23T16:20:27.401Z"
   },
   {
    "duration": 10,
    "start_time": "2022-02-23T16:20:27.413Z"
   },
   {
    "duration": 9,
    "start_time": "2022-02-23T16:20:27.424Z"
   },
   {
    "duration": 17,
    "start_time": "2022-02-23T16:20:27.435Z"
   },
   {
    "duration": 6,
    "start_time": "2022-02-23T16:20:27.454Z"
   },
   {
    "duration": 11,
    "start_time": "2022-02-23T16:20:27.462Z"
   },
   {
    "duration": 18,
    "start_time": "2022-02-23T16:20:27.476Z"
   },
   {
    "duration": 24,
    "start_time": "2022-02-23T16:20:27.496Z"
   },
   {
    "duration": 15,
    "start_time": "2022-02-23T16:20:27.522Z"
   },
   {
    "duration": 5,
    "start_time": "2022-02-23T16:20:27.539Z"
   },
   {
    "duration": 7,
    "start_time": "2022-02-23T16:20:27.546Z"
   },
   {
    "duration": 19,
    "start_time": "2022-02-23T16:20:27.555Z"
   },
   {
    "duration": 6,
    "start_time": "2022-02-23T16:20:27.576Z"
   },
   {
    "duration": 40,
    "start_time": "2022-02-23T16:20:27.583Z"
   },
   {
    "duration": 18,
    "start_time": "2022-02-23T16:20:27.625Z"
   },
   {
    "duration": 14,
    "start_time": "2022-02-23T16:20:27.646Z"
   },
   {
    "duration": 14,
    "start_time": "2022-02-23T16:20:27.662Z"
   },
   {
    "duration": 49,
    "start_time": "2022-02-23T16:20:27.678Z"
   },
   {
    "duration": 14,
    "start_time": "2022-02-23T16:20:27.729Z"
   },
   {
    "duration": 7,
    "start_time": "2022-02-23T16:20:27.745Z"
   },
   {
    "duration": 14,
    "start_time": "2022-02-23T16:20:27.754Z"
   },
   {
    "duration": 11,
    "start_time": "2022-02-23T16:20:27.769Z"
   },
   {
    "duration": 36,
    "start_time": "2022-02-23T16:20:27.782Z"
   },
   {
    "duration": 12,
    "start_time": "2022-02-23T16:20:27.820Z"
   },
   {
    "duration": 14,
    "start_time": "2022-02-23T16:20:27.834Z"
   },
   {
    "duration": 11,
    "start_time": "2022-02-23T16:20:27.849Z"
   },
   {
    "duration": 11,
    "start_time": "2022-02-23T16:20:27.862Z"
   },
   {
    "duration": 11,
    "start_time": "2022-02-23T16:20:27.875Z"
   },
   {
    "duration": 36,
    "start_time": "2022-02-23T16:20:27.888Z"
   },
   {
    "duration": 8,
    "start_time": "2022-02-23T16:20:27.926Z"
   },
   {
    "duration": 12,
    "start_time": "2022-02-23T16:20:27.937Z"
   },
   {
    "duration": 9,
    "start_time": "2022-02-23T16:20:27.951Z"
   },
   {
    "duration": 7,
    "start_time": "2022-02-23T16:20:27.962Z"
   },
   {
    "duration": 22,
    "start_time": "2022-02-23T16:20:27.971Z"
   },
   {
    "duration": 4,
    "start_time": "2022-02-23T16:22:32.329Z"
   },
   {
    "duration": 4,
    "start_time": "2022-02-23T16:22:36.326Z"
   },
   {
    "duration": 3,
    "start_time": "2022-02-23T16:23:09.478Z"
   },
   {
    "duration": 4,
    "start_time": "2022-02-23T16:23:11.813Z"
   },
   {
    "duration": 4,
    "start_time": "2022-02-23T16:23:40.751Z"
   },
   {
    "duration": 3,
    "start_time": "2022-02-23T16:24:08.185Z"
   },
   {
    "duration": 4,
    "start_time": "2022-02-23T16:24:16.108Z"
   },
   {
    "duration": 4,
    "start_time": "2022-02-23T16:24:20.122Z"
   },
   {
    "duration": 7,
    "start_time": "2022-02-23T16:31:24.229Z"
   },
   {
    "duration": 6,
    "start_time": "2022-02-23T16:51:27.455Z"
   },
   {
    "duration": 5,
    "start_time": "2022-02-23T16:51:46.792Z"
   },
   {
    "duration": 5,
    "start_time": "2022-02-23T16:53:03.683Z"
   },
   {
    "duration": 3,
    "start_time": "2022-02-23T16:59:56.032Z"
   },
   {
    "duration": 4,
    "start_time": "2022-02-23T17:00:24.400Z"
   },
   {
    "duration": 5,
    "start_time": "2022-02-23T17:00:36.597Z"
   },
   {
    "duration": 4,
    "start_time": "2022-02-23T17:00:56.225Z"
   },
   {
    "duration": 20,
    "start_time": "2022-02-23T17:03:19.898Z"
   },
   {
    "duration": 15,
    "start_time": "2022-02-23T17:18:01.929Z"
   },
   {
    "duration": 14,
    "start_time": "2022-02-23T17:20:10.819Z"
   },
   {
    "duration": 59,
    "start_time": "2022-02-23T17:20:26.574Z"
   },
   {
    "duration": 13,
    "start_time": "2022-02-23T17:20:26.635Z"
   },
   {
    "duration": 25,
    "start_time": "2022-02-23T17:20:26.650Z"
   },
   {
    "duration": 26,
    "start_time": "2022-02-23T17:20:26.677Z"
   },
   {
    "duration": 37,
    "start_time": "2022-02-23T17:20:26.704Z"
   },
   {
    "duration": 12,
    "start_time": "2022-02-23T17:20:26.743Z"
   },
   {
    "duration": 16,
    "start_time": "2022-02-23T17:20:26.757Z"
   },
   {
    "duration": 23,
    "start_time": "2022-02-23T17:20:26.775Z"
   },
   {
    "duration": 33,
    "start_time": "2022-02-23T17:20:26.800Z"
   },
   {
    "duration": 29,
    "start_time": "2022-02-23T17:20:26.836Z"
   },
   {
    "duration": 5,
    "start_time": "2022-02-23T17:20:26.867Z"
   },
   {
    "duration": 29,
    "start_time": "2022-02-23T17:20:26.873Z"
   },
   {
    "duration": 25,
    "start_time": "2022-02-23T17:20:26.904Z"
   },
   {
    "duration": 6,
    "start_time": "2022-02-23T17:20:26.932Z"
   },
   {
    "duration": 16,
    "start_time": "2022-02-23T17:20:26.940Z"
   },
   {
    "duration": 21,
    "start_time": "2022-02-23T17:20:26.958Z"
   },
   {
    "duration": 18,
    "start_time": "2022-02-23T17:20:26.981Z"
   },
   {
    "duration": 17,
    "start_time": "2022-02-23T17:20:27.019Z"
   },
   {
    "duration": 28,
    "start_time": "2022-02-23T17:20:27.038Z"
   },
   {
    "duration": 23,
    "start_time": "2022-02-23T17:20:27.068Z"
   },
   {
    "duration": 32,
    "start_time": "2022-02-23T17:20:27.092Z"
   },
   {
    "duration": 22,
    "start_time": "2022-02-23T17:20:27.126Z"
   },
   {
    "duration": 15,
    "start_time": "2022-02-23T17:20:27.150Z"
   },
   {
    "duration": 12,
    "start_time": "2022-02-23T17:20:27.167Z"
   },
   {
    "duration": 17,
    "start_time": "2022-02-23T17:20:27.181Z"
   },
   {
    "duration": 27,
    "start_time": "2022-02-23T17:20:27.200Z"
   },
   {
    "duration": 8,
    "start_time": "2022-02-23T17:20:27.231Z"
   },
   {
    "duration": 15,
    "start_time": "2022-02-23T17:20:27.241Z"
   },
   {
    "duration": 29,
    "start_time": "2022-02-23T17:20:27.258Z"
   },
   {
    "duration": 45,
    "start_time": "2022-02-23T17:20:27.289Z"
   },
   {
    "duration": 24,
    "start_time": "2022-02-23T17:20:27.336Z"
   },
   {
    "duration": 30,
    "start_time": "2022-02-23T17:20:27.362Z"
   },
   {
    "duration": 23,
    "start_time": "2022-02-23T17:20:27.394Z"
   },
   {
    "duration": 43,
    "start_time": "2022-02-23T17:20:27.419Z"
   },
   {
    "duration": 42,
    "start_time": "2022-02-23T17:20:27.464Z"
   },
   {
    "duration": 59,
    "start_time": "2022-02-23T17:20:27.508Z"
   },
   {
    "duration": 17,
    "start_time": "2022-02-23T17:20:27.568Z"
   },
   {
    "duration": 25,
    "start_time": "2022-02-23T17:20:27.587Z"
   },
   {
    "duration": 25,
    "start_time": "2022-02-23T17:20:27.613Z"
   },
   {
    "duration": 28,
    "start_time": "2022-02-23T17:20:27.640Z"
   },
   {
    "duration": 42,
    "start_time": "2022-02-23T17:20:27.670Z"
   },
   {
    "duration": 15,
    "start_time": "2022-02-23T18:22:40.403Z"
   },
   {
    "duration": 19,
    "start_time": "2022-02-23T18:22:56.085Z"
   },
   {
    "duration": 14,
    "start_time": "2022-02-23T18:23:56.182Z"
   },
   {
    "duration": 13,
    "start_time": "2022-02-23T18:24:02.555Z"
   },
   {
    "duration": 18,
    "start_time": "2022-02-23T18:24:36.763Z"
   },
   {
    "duration": 283,
    "start_time": "2022-02-23T18:25:19.056Z"
   },
   {
    "duration": 208,
    "start_time": "2022-02-23T18:25:57.600Z"
   },
   {
    "duration": 12,
    "start_time": "2022-02-23T18:26:07.107Z"
   },
   {
    "duration": 12,
    "start_time": "2022-02-23T18:26:17.024Z"
   },
   {
    "duration": 12,
    "start_time": "2022-02-23T18:26:26.792Z"
   },
   {
    "duration": 59,
    "start_time": "2022-02-23T18:27:41.340Z"
   },
   {
    "duration": 16,
    "start_time": "2022-02-23T18:27:41.401Z"
   },
   {
    "duration": 27,
    "start_time": "2022-02-23T18:27:41.419Z"
   },
   {
    "duration": 15,
    "start_time": "2022-02-23T18:27:41.448Z"
   },
   {
    "duration": 22,
    "start_time": "2022-02-23T18:27:41.465Z"
   },
   {
    "duration": 17,
    "start_time": "2022-02-23T18:27:41.488Z"
   },
   {
    "duration": 31,
    "start_time": "2022-02-23T18:27:41.506Z"
   },
   {
    "duration": 24,
    "start_time": "2022-02-23T18:27:41.540Z"
   },
   {
    "duration": 15,
    "start_time": "2022-02-23T18:27:41.566Z"
   },
   {
    "duration": 37,
    "start_time": "2022-02-23T18:27:41.583Z"
   },
   {
    "duration": 22,
    "start_time": "2022-02-23T18:27:41.622Z"
   },
   {
    "duration": 14,
    "start_time": "2022-02-23T18:27:41.646Z"
   },
   {
    "duration": 46,
    "start_time": "2022-02-23T18:27:41.662Z"
   },
   {
    "duration": 13,
    "start_time": "2022-02-23T18:27:41.710Z"
   },
   {
    "duration": 29,
    "start_time": "2022-02-23T18:27:41.725Z"
   },
   {
    "duration": 29,
    "start_time": "2022-02-23T18:27:41.756Z"
   },
   {
    "duration": 16,
    "start_time": "2022-02-23T18:27:41.787Z"
   },
   {
    "duration": 14,
    "start_time": "2022-02-23T18:27:41.805Z"
   },
   {
    "duration": 34,
    "start_time": "2022-02-23T18:27:41.820Z"
   },
   {
    "duration": 21,
    "start_time": "2022-02-23T18:27:41.856Z"
   },
   {
    "duration": 8,
    "start_time": "2022-02-23T18:27:41.879Z"
   },
   {
    "duration": 22,
    "start_time": "2022-02-23T18:27:41.889Z"
   },
   {
    "duration": 18,
    "start_time": "2022-02-23T18:27:41.915Z"
   },
   {
    "duration": 23,
    "start_time": "2022-02-23T18:27:41.935Z"
   },
   {
    "duration": 23,
    "start_time": "2022-02-23T18:27:41.960Z"
   },
   {
    "duration": 23,
    "start_time": "2022-02-23T18:27:41.985Z"
   },
   {
    "duration": 44,
    "start_time": "2022-02-23T18:27:42.010Z"
   },
   {
    "duration": 22,
    "start_time": "2022-02-23T18:27:42.062Z"
   },
   {
    "duration": 18,
    "start_time": "2022-02-23T18:27:42.087Z"
   },
   {
    "duration": 24,
    "start_time": "2022-02-23T18:27:42.107Z"
   },
   {
    "duration": 25,
    "start_time": "2022-02-23T18:27:42.133Z"
   },
   {
    "duration": 14,
    "start_time": "2022-02-23T18:27:42.160Z"
   },
   {
    "duration": 22,
    "start_time": "2022-02-23T18:27:42.176Z"
   },
   {
    "duration": 19,
    "start_time": "2022-02-23T18:27:42.200Z"
   },
   {
    "duration": 33,
    "start_time": "2022-02-23T18:27:42.221Z"
   },
   {
    "duration": 31,
    "start_time": "2022-02-23T18:27:42.256Z"
   },
   {
    "duration": 18,
    "start_time": "2022-02-23T18:27:42.288Z"
   },
   {
    "duration": 6,
    "start_time": "2022-02-23T18:27:42.307Z"
   },
   {
    "duration": 10,
    "start_time": "2022-02-23T18:27:42.314Z"
   },
   {
    "duration": 21,
    "start_time": "2022-02-23T18:27:42.326Z"
   },
   {
    "duration": 19,
    "start_time": "2022-02-23T18:27:42.349Z"
   },
   {
    "duration": 12,
    "start_time": "2022-02-23T18:27:42.370Z"
   },
   {
    "duration": 19,
    "start_time": "2022-02-23T18:47:25.208Z"
   },
   {
    "duration": 20,
    "start_time": "2022-02-23T18:47:43.186Z"
   },
   {
    "duration": 19,
    "start_time": "2022-02-23T18:49:56.430Z"
   },
   {
    "duration": 22,
    "start_time": "2022-02-23T18:50:14.443Z"
   },
   {
    "duration": 20,
    "start_time": "2022-02-23T18:51:14.352Z"
   },
   {
    "duration": 20,
    "start_time": "2022-02-23T18:52:44.962Z"
   },
   {
    "duration": 8,
    "start_time": "2022-02-23T18:54:36.222Z"
   },
   {
    "duration": 8,
    "start_time": "2022-02-23T18:59:10.483Z"
   },
   {
    "duration": 5,
    "start_time": "2022-02-23T18:59:38.659Z"
   },
   {
    "duration": 5,
    "start_time": "2022-02-23T19:00:19.147Z"
   },
   {
    "duration": 7,
    "start_time": "2022-02-23T19:00:34.040Z"
   },
   {
    "duration": 5,
    "start_time": "2022-02-23T19:02:04.932Z"
   },
   {
    "duration": 6,
    "start_time": "2022-02-23T19:03:04.362Z"
   },
   {
    "duration": 11,
    "start_time": "2022-02-23T19:03:21.314Z"
   },
   {
    "duration": 11,
    "start_time": "2022-02-23T19:03:33.151Z"
   },
   {
    "duration": 12,
    "start_time": "2022-02-23T19:04:11.561Z"
   },
   {
    "duration": 11,
    "start_time": "2022-02-23T19:12:21.928Z"
   },
   {
    "duration": 6,
    "start_time": "2022-02-23T19:12:36.112Z"
   },
   {
    "duration": 5777,
    "start_time": "2022-02-23T19:13:04.608Z"
   },
   {
    "duration": -557,
    "start_time": "2022-02-23T19:13:10.946Z"
   },
   {
    "duration": 5293,
    "start_time": "2022-02-23T19:13:10.935Z"
   },
   {
    "duration": 6,
    "start_time": "2022-02-23T19:15:06.671Z"
   },
   {
    "duration": 5255,
    "start_time": "2022-02-23T19:34:38.224Z"
   },
   {
    "duration": 56,
    "start_time": "2022-02-23T19:35:28.435Z"
   },
   {
    "duration": 11,
    "start_time": "2022-02-23T19:35:28.493Z"
   },
   {
    "duration": 19,
    "start_time": "2022-02-23T19:35:28.506Z"
   },
   {
    "duration": 8,
    "start_time": "2022-02-23T19:35:28.527Z"
   },
   {
    "duration": 13,
    "start_time": "2022-02-23T19:35:28.566Z"
   },
   {
    "duration": 18,
    "start_time": "2022-02-23T19:35:28.581Z"
   },
   {
    "duration": 22,
    "start_time": "2022-02-23T19:35:28.601Z"
   },
   {
    "duration": 14,
    "start_time": "2022-02-23T19:35:28.629Z"
   },
   {
    "duration": 6,
    "start_time": "2022-02-23T19:35:28.645Z"
   },
   {
    "duration": 16,
    "start_time": "2022-02-23T19:35:28.653Z"
   },
   {
    "duration": 12,
    "start_time": "2022-02-23T19:35:28.670Z"
   },
   {
    "duration": 5,
    "start_time": "2022-02-23T19:35:28.697Z"
   },
   {
    "duration": 21,
    "start_time": "2022-02-23T19:35:28.704Z"
   },
   {
    "duration": 3,
    "start_time": "2022-02-23T19:35:28.727Z"
   },
   {
    "duration": 18,
    "start_time": "2022-02-23T19:35:28.732Z"
   },
   {
    "duration": 7,
    "start_time": "2022-02-23T19:35:28.760Z"
   },
   {
    "duration": 14,
    "start_time": "2022-02-23T19:35:28.769Z"
   },
   {
    "duration": 7,
    "start_time": "2022-02-23T19:35:28.785Z"
   },
   {
    "duration": 41,
    "start_time": "2022-02-23T19:35:28.794Z"
   },
   {
    "duration": 14,
    "start_time": "2022-02-23T19:35:28.837Z"
   },
   {
    "duration": 14,
    "start_time": "2022-02-23T19:35:28.853Z"
   },
   {
    "duration": 22,
    "start_time": "2022-02-23T19:35:28.869Z"
   },
   {
    "duration": 17,
    "start_time": "2022-02-23T19:35:28.919Z"
   },
   {
    "duration": 9,
    "start_time": "2022-02-23T19:35:28.937Z"
   },
   {
    "duration": 16,
    "start_time": "2022-02-23T19:35:28.947Z"
   },
   {
    "duration": 12,
    "start_time": "2022-02-23T19:35:28.966Z"
   },
   {
    "duration": 38,
    "start_time": "2022-02-23T19:35:28.980Z"
   },
   {
    "duration": 12,
    "start_time": "2022-02-23T19:35:29.020Z"
   },
   {
    "duration": 12,
    "start_time": "2022-02-23T19:35:29.034Z"
   },
   {
    "duration": 9,
    "start_time": "2022-02-23T19:35:29.047Z"
   },
   {
    "duration": 12,
    "start_time": "2022-02-23T19:35:29.058Z"
   },
   {
    "duration": 8,
    "start_time": "2022-02-23T19:35:29.072Z"
   },
   {
    "duration": 36,
    "start_time": "2022-02-23T19:35:29.082Z"
   },
   {
    "duration": 10,
    "start_time": "2022-02-23T19:35:29.120Z"
   },
   {
    "duration": 14,
    "start_time": "2022-02-23T19:35:29.131Z"
   },
   {
    "duration": 10,
    "start_time": "2022-02-23T19:35:29.147Z"
   },
   {
    "duration": 5,
    "start_time": "2022-02-23T19:35:29.160Z"
   },
   {
    "duration": 21,
    "start_time": "2022-02-23T19:35:29.167Z"
   },
   {
    "duration": 30,
    "start_time": "2022-02-23T19:35:29.190Z"
   },
   {
    "duration": 7,
    "start_time": "2022-02-23T19:35:29.222Z"
   },
   {
    "duration": 5,
    "start_time": "2022-02-23T19:35:29.231Z"
   },
   {
    "duration": 17,
    "start_time": "2022-02-23T19:35:29.237Z"
   },
   {
    "duration": 33,
    "start_time": "2022-02-23T19:35:29.256Z"
   },
   {
    "duration": 20,
    "start_time": "2022-02-23T19:35:29.291Z"
   },
   {
    "duration": 19,
    "start_time": "2022-02-23T19:35:29.313Z"
   },
   {
    "duration": 7,
    "start_time": "2022-02-23T19:36:10.362Z"
   },
   {
    "duration": 5,
    "start_time": "2022-02-23T19:41:40.257Z"
   },
   {
    "duration": 4,
    "start_time": "2022-02-23T19:57:48.994Z"
   },
   {
    "duration": 6,
    "start_time": "2022-02-23T19:57:52.326Z"
   },
   {
    "duration": 59,
    "start_time": "2022-02-23T19:58:56.052Z"
   },
   {
    "duration": 12,
    "start_time": "2022-02-23T19:58:56.113Z"
   },
   {
    "duration": 10,
    "start_time": "2022-02-23T19:58:56.127Z"
   },
   {
    "duration": 8,
    "start_time": "2022-02-23T19:58:56.139Z"
   },
   {
    "duration": 15,
    "start_time": "2022-02-23T19:58:56.148Z"
   },
   {
    "duration": 6,
    "start_time": "2022-02-23T19:58:56.165Z"
   },
   {
    "duration": 4,
    "start_time": "2022-02-23T19:58:56.172Z"
   },
   {
    "duration": 51,
    "start_time": "2022-02-23T19:58:56.178Z"
   },
   {
    "duration": 8,
    "start_time": "2022-02-23T19:58:56.231Z"
   },
   {
    "duration": 17,
    "start_time": "2022-02-23T19:58:56.241Z"
   },
   {
    "duration": 5,
    "start_time": "2022-02-23T19:58:56.259Z"
   },
   {
    "duration": 4,
    "start_time": "2022-02-23T19:58:56.266Z"
   },
   {
    "duration": 21,
    "start_time": "2022-02-23T19:58:56.272Z"
   },
   {
    "duration": 25,
    "start_time": "2022-02-23T19:58:56.295Z"
   },
   {
    "duration": 16,
    "start_time": "2022-02-23T19:58:56.322Z"
   },
   {
    "duration": 7,
    "start_time": "2022-02-23T19:58:56.340Z"
   },
   {
    "duration": 12,
    "start_time": "2022-02-23T19:58:56.348Z"
   },
   {
    "duration": 6,
    "start_time": "2022-02-23T19:58:56.361Z"
   },
   {
    "duration": 5,
    "start_time": "2022-02-23T19:58:56.369Z"
   },
   {
    "duration": 55,
    "start_time": "2022-02-23T19:58:56.376Z"
   },
   {
    "duration": 16,
    "start_time": "2022-02-23T19:58:56.433Z"
   },
   {
    "duration": 16,
    "start_time": "2022-02-23T19:58:56.451Z"
   },
   {
    "duration": 19,
    "start_time": "2022-02-23T19:58:56.469Z"
   },
   {
    "duration": 41,
    "start_time": "2022-02-23T19:58:56.490Z"
   },
   {
    "duration": 7,
    "start_time": "2022-02-23T19:58:56.533Z"
   },
   {
    "duration": 13,
    "start_time": "2022-02-23T19:58:56.542Z"
   },
   {
    "duration": 26,
    "start_time": "2022-02-23T19:58:56.557Z"
   },
   {
    "duration": 10,
    "start_time": "2022-02-23T19:58:56.585Z"
   },
   {
    "duration": 25,
    "start_time": "2022-02-23T19:58:56.597Z"
   },
   {
    "duration": 11,
    "start_time": "2022-02-23T19:58:56.624Z"
   },
   {
    "duration": 10,
    "start_time": "2022-02-23T19:58:56.637Z"
   },
   {
    "duration": 10,
    "start_time": "2022-02-23T19:58:56.649Z"
   },
   {
    "duration": 11,
    "start_time": "2022-02-23T19:58:56.660Z"
   },
   {
    "duration": 11,
    "start_time": "2022-02-23T19:58:56.672Z"
   },
   {
    "duration": 10,
    "start_time": "2022-02-23T19:58:56.685Z"
   },
   {
    "duration": 25,
    "start_time": "2022-02-23T19:58:56.697Z"
   },
   {
    "duration": 10,
    "start_time": "2022-02-23T19:58:56.723Z"
   },
   {
    "duration": 9,
    "start_time": "2022-02-23T19:58:56.735Z"
   },
   {
    "duration": 30,
    "start_time": "2022-02-23T19:58:56.746Z"
   },
   {
    "duration": 14,
    "start_time": "2022-02-23T19:58:56.778Z"
   },
   {
    "duration": 8,
    "start_time": "2022-02-23T19:58:56.795Z"
   },
   {
    "duration": 4,
    "start_time": "2022-02-23T19:58:56.805Z"
   },
   {
    "duration": 14,
    "start_time": "2022-02-23T19:58:56.811Z"
   },
   {
    "duration": 21,
    "start_time": "2022-02-23T19:58:56.826Z"
   },
   {
    "duration": 17,
    "start_time": "2022-02-23T19:58:56.849Z"
   },
   {
    "duration": 19,
    "start_time": "2022-02-23T19:58:56.868Z"
   },
   {
    "duration": 10,
    "start_time": "2022-02-23T20:18:30.596Z"
   },
   {
    "duration": 231,
    "start_time": "2022-02-23T20:34:38.790Z"
   },
   {
    "duration": 293,
    "start_time": "2022-02-23T20:35:00.407Z"
   },
   {
    "duration": 55,
    "start_time": "2022-02-23T20:35:14.295Z"
   },
   {
    "duration": 13,
    "start_time": "2022-02-23T20:35:14.353Z"
   },
   {
    "duration": 14,
    "start_time": "2022-02-23T20:35:14.368Z"
   },
   {
    "duration": 14,
    "start_time": "2022-02-23T20:35:14.384Z"
   },
   {
    "duration": 57,
    "start_time": "2022-02-23T20:35:14.400Z"
   },
   {
    "duration": 37,
    "start_time": "2022-02-23T20:35:14.458Z"
   },
   {
    "duration": 24,
    "start_time": "2022-02-23T20:35:14.497Z"
   },
   {
    "duration": 40,
    "start_time": "2022-02-23T20:35:14.523Z"
   },
   {
    "duration": 19,
    "start_time": "2022-02-23T20:35:14.566Z"
   },
   {
    "duration": 36,
    "start_time": "2022-02-23T20:35:14.587Z"
   },
   {
    "duration": 29,
    "start_time": "2022-02-23T20:35:14.625Z"
   },
   {
    "duration": 19,
    "start_time": "2022-02-23T20:35:14.656Z"
   },
   {
    "duration": 36,
    "start_time": "2022-02-23T20:35:14.676Z"
   },
   {
    "duration": 15,
    "start_time": "2022-02-23T20:35:14.715Z"
   },
   {
    "duration": 40,
    "start_time": "2022-02-23T20:35:14.731Z"
   },
   {
    "duration": 37,
    "start_time": "2022-02-23T20:35:14.773Z"
   },
   {
    "duration": 49,
    "start_time": "2022-02-23T20:35:14.812Z"
   },
   {
    "duration": 10,
    "start_time": "2022-02-23T20:35:14.863Z"
   },
   {
    "duration": 28,
    "start_time": "2022-02-23T20:35:14.875Z"
   },
   {
    "duration": 44,
    "start_time": "2022-02-23T20:35:14.905Z"
   },
   {
    "duration": 15,
    "start_time": "2022-02-23T20:35:14.951Z"
   },
   {
    "duration": 13,
    "start_time": "2022-02-23T20:35:14.968Z"
   },
   {
    "duration": 21,
    "start_time": "2022-02-23T20:35:14.983Z"
   },
   {
    "duration": 23,
    "start_time": "2022-02-23T20:35:15.006Z"
   },
   {
    "duration": 12,
    "start_time": "2022-02-23T20:35:15.032Z"
   },
   {
    "duration": 21,
    "start_time": "2022-02-23T20:35:15.046Z"
   },
   {
    "duration": 17,
    "start_time": "2022-02-23T20:35:15.071Z"
   },
   {
    "duration": 10,
    "start_time": "2022-02-23T20:35:15.090Z"
   },
   {
    "duration": 29,
    "start_time": "2022-02-23T20:35:15.101Z"
   },
   {
    "duration": 13,
    "start_time": "2022-02-23T20:35:15.132Z"
   },
   {
    "duration": 10,
    "start_time": "2022-02-23T20:35:15.147Z"
   },
   {
    "duration": 10,
    "start_time": "2022-02-23T20:35:15.158Z"
   },
   {
    "duration": 11,
    "start_time": "2022-02-23T20:35:15.170Z"
   },
   {
    "duration": 13,
    "start_time": "2022-02-23T20:35:15.183Z"
   },
   {
    "duration": 28,
    "start_time": "2022-02-23T20:35:15.197Z"
   },
   {
    "duration": 7,
    "start_time": "2022-02-23T20:35:15.226Z"
   },
   {
    "duration": 6,
    "start_time": "2022-02-23T20:35:15.235Z"
   },
   {
    "duration": 7,
    "start_time": "2022-02-23T20:35:15.243Z"
   },
   {
    "duration": 21,
    "start_time": "2022-02-23T20:35:15.252Z"
   },
   {
    "duration": 44,
    "start_time": "2022-02-23T20:35:15.275Z"
   },
   {
    "duration": 9,
    "start_time": "2022-02-23T20:35:15.321Z"
   },
   {
    "duration": 7,
    "start_time": "2022-02-23T20:35:15.332Z"
   },
   {
    "duration": 10,
    "start_time": "2022-02-23T20:35:15.340Z"
   },
   {
    "duration": 20,
    "start_time": "2022-02-23T20:35:15.352Z"
   },
   {
    "duration": 15,
    "start_time": "2022-02-23T20:35:15.374Z"
   },
   {
    "duration": 20,
    "start_time": "2022-02-23T20:35:15.419Z"
   },
   {
    "duration": 29,
    "start_time": "2022-02-23T20:37:22.814Z"
   },
   {
    "duration": 19,
    "start_time": "2022-02-23T20:37:31.346Z"
   },
   {
    "duration": 19,
    "start_time": "2022-02-23T20:50:15.894Z"
   },
   {
    "duration": 20,
    "start_time": "2022-02-23T21:08:03.988Z"
   },
   {
    "duration": 20,
    "start_time": "2022-02-23T21:08:21.716Z"
   },
   {
    "duration": 314,
    "start_time": "2022-02-24T06:13:36.605Z"
   },
   {
    "duration": 688,
    "start_time": "2022-02-24T06:13:45.793Z"
   },
   {
    "duration": 14,
    "start_time": "2022-02-24T06:13:46.483Z"
   },
   {
    "duration": 16,
    "start_time": "2022-02-24T06:13:46.500Z"
   },
   {
    "duration": 7,
    "start_time": "2022-02-24T06:13:46.518Z"
   },
   {
    "duration": 20,
    "start_time": "2022-02-24T06:13:46.527Z"
   },
   {
    "duration": 7,
    "start_time": "2022-02-24T06:13:46.549Z"
   },
   {
    "duration": 5,
    "start_time": "2022-02-24T06:13:46.558Z"
   },
   {
    "duration": 42,
    "start_time": "2022-02-24T06:13:46.566Z"
   },
   {
    "duration": 4,
    "start_time": "2022-02-24T06:13:46.611Z"
   },
   {
    "duration": 20,
    "start_time": "2022-02-24T06:13:46.616Z"
   },
   {
    "duration": 11,
    "start_time": "2022-02-24T06:13:46.638Z"
   },
   {
    "duration": 8,
    "start_time": "2022-02-24T06:13:46.650Z"
   },
   {
    "duration": 19,
    "start_time": "2022-02-24T06:13:46.660Z"
   },
   {
    "duration": 26,
    "start_time": "2022-02-24T06:13:46.681Z"
   },
   {
    "duration": 21,
    "start_time": "2022-02-24T06:13:46.709Z"
   },
   {
    "duration": 8,
    "start_time": "2022-02-24T06:13:46.732Z"
   },
   {
    "duration": 13,
    "start_time": "2022-02-24T06:13:46.742Z"
   },
   {
    "duration": 4,
    "start_time": "2022-02-24T06:13:46.757Z"
   },
   {
    "duration": 12,
    "start_time": "2022-02-24T06:13:46.763Z"
   },
   {
    "duration": 45,
    "start_time": "2022-02-24T06:13:46.777Z"
   },
   {
    "duration": 16,
    "start_time": "2022-02-24T06:13:46.823Z"
   },
   {
    "duration": 14,
    "start_time": "2022-02-24T06:13:46.841Z"
   },
   {
    "duration": 22,
    "start_time": "2022-02-24T06:13:46.859Z"
   },
   {
    "duration": 38,
    "start_time": "2022-02-24T06:13:46.883Z"
   },
   {
    "duration": 8,
    "start_time": "2022-02-24T06:13:46.923Z"
   },
   {
    "duration": 19,
    "start_time": "2022-02-24T06:13:46.933Z"
   },
   {
    "duration": 12,
    "start_time": "2022-02-24T06:13:46.954Z"
   },
   {
    "duration": 11,
    "start_time": "2022-02-24T06:13:46.968Z"
   },
   {
    "duration": 36,
    "start_time": "2022-02-24T06:13:46.981Z"
   },
   {
    "duration": 21,
    "start_time": "2022-02-24T06:13:47.019Z"
   },
   {
    "duration": 11,
    "start_time": "2022-02-24T06:13:47.042Z"
   },
   {
    "duration": 10,
    "start_time": "2022-02-24T06:13:47.055Z"
   },
   {
    "duration": 10,
    "start_time": "2022-02-24T06:13:47.067Z"
   },
   {
    "duration": 34,
    "start_time": "2022-02-24T06:13:47.079Z"
   },
   {
    "duration": 11,
    "start_time": "2022-02-24T06:13:47.115Z"
   },
   {
    "duration": 20,
    "start_time": "2022-02-24T06:13:47.128Z"
   },
   {
    "duration": 10,
    "start_time": "2022-02-24T06:13:47.150Z"
   },
   {
    "duration": 9,
    "start_time": "2022-02-24T06:13:47.162Z"
   },
   {
    "duration": 23,
    "start_time": "2022-02-24T06:13:47.173Z"
   },
   {
    "duration": 15,
    "start_time": "2022-02-24T06:13:47.207Z"
   },
   {
    "duration": 9,
    "start_time": "2022-02-24T06:13:47.224Z"
   },
   {
    "duration": 11,
    "start_time": "2022-02-24T06:13:47.235Z"
   },
   {
    "duration": 11,
    "start_time": "2022-02-24T06:13:47.248Z"
   },
   {
    "duration": 24,
    "start_time": "2022-02-24T06:13:47.261Z"
   },
   {
    "duration": 31,
    "start_time": "2022-02-24T06:13:47.287Z"
   },
   {
    "duration": 25,
    "start_time": "2022-02-24T06:13:47.320Z"
   },
   {
    "duration": 244,
    "start_time": "2022-02-24T06:16:06.878Z"
   },
   {
    "duration": 202,
    "start_time": "2022-02-24T06:17:48.074Z"
   },
   {
    "duration": 201,
    "start_time": "2022-02-24T06:18:19.701Z"
   },
   {
    "duration": 208,
    "start_time": "2022-02-24T06:18:26.589Z"
   },
   {
    "duration": 673,
    "start_time": "2022-02-24T06:18:44.018Z"
   },
   {
    "duration": 20,
    "start_time": "2022-02-24T06:18:44.693Z"
   },
   {
    "duration": 11,
    "start_time": "2022-02-24T06:18:44.715Z"
   },
   {
    "duration": 10,
    "start_time": "2022-02-24T06:18:44.728Z"
   },
   {
    "duration": 17,
    "start_time": "2022-02-24T06:18:44.740Z"
   },
   {
    "duration": 6,
    "start_time": "2022-02-24T06:18:44.758Z"
   },
   {
    "duration": 8,
    "start_time": "2022-02-24T06:18:44.765Z"
   },
   {
    "duration": 46,
    "start_time": "2022-02-24T06:18:44.775Z"
   },
   {
    "duration": 4,
    "start_time": "2022-02-24T06:18:44.824Z"
   },
   {
    "duration": 15,
    "start_time": "2022-02-24T06:18:44.831Z"
   },
   {
    "duration": 8,
    "start_time": "2022-02-24T06:18:44.848Z"
   },
   {
    "duration": 10,
    "start_time": "2022-02-24T06:18:44.858Z"
   },
   {
    "duration": 44,
    "start_time": "2022-02-24T06:18:44.870Z"
   },
   {
    "duration": 5,
    "start_time": "2022-02-24T06:18:44.916Z"
   },
   {
    "duration": 17,
    "start_time": "2022-02-24T06:18:44.923Z"
   },
   {
    "duration": 13,
    "start_time": "2022-02-24T06:18:44.942Z"
   },
   {
    "duration": 15,
    "start_time": "2022-02-24T06:18:44.957Z"
   },
   {
    "duration": 9,
    "start_time": "2022-02-24T06:18:44.973Z"
   },
   {
    "duration": 29,
    "start_time": "2022-02-24T06:18:44.983Z"
   },
   {
    "duration": 35,
    "start_time": "2022-02-24T06:18:45.015Z"
   },
   {
    "duration": 18,
    "start_time": "2022-02-24T06:18:45.051Z"
   },
   {
    "duration": 17,
    "start_time": "2022-02-24T06:18:45.071Z"
   },
   {
    "duration": 33,
    "start_time": "2022-02-24T06:18:45.090Z"
   },
   {
    "duration": 19,
    "start_time": "2022-02-24T06:18:45.125Z"
   },
   {
    "duration": 8,
    "start_time": "2022-02-24T06:18:45.145Z"
   },
   {
    "duration": 21,
    "start_time": "2022-02-24T06:18:45.155Z"
   },
   {
    "duration": 32,
    "start_time": "2022-02-24T06:18:45.180Z"
   },
   {
    "duration": 16,
    "start_time": "2022-02-24T06:18:45.214Z"
   },
   {
    "duration": 18,
    "start_time": "2022-02-24T06:18:45.232Z"
   },
   {
    "duration": 13,
    "start_time": "2022-02-24T06:18:45.252Z"
   },
   {
    "duration": 14,
    "start_time": "2022-02-24T06:18:45.267Z"
   },
   {
    "duration": 29,
    "start_time": "2022-02-24T06:18:45.283Z"
   },
   {
    "duration": 10,
    "start_time": "2022-02-24T06:18:45.314Z"
   },
   {
    "duration": 15,
    "start_time": "2022-02-24T06:18:45.326Z"
   },
   {
    "duration": 14,
    "start_time": "2022-02-24T06:18:45.343Z"
   },
   {
    "duration": 6,
    "start_time": "2022-02-24T06:18:45.358Z"
   },
   {
    "duration": 9,
    "start_time": "2022-02-24T06:18:45.365Z"
   },
   {
    "duration": 10,
    "start_time": "2022-02-24T06:18:45.376Z"
   },
   {
    "duration": 36,
    "start_time": "2022-02-24T06:18:45.387Z"
   },
   {
    "duration": 15,
    "start_time": "2022-02-24T06:18:45.425Z"
   },
   {
    "duration": 7,
    "start_time": "2022-02-24T06:18:45.442Z"
   },
   {
    "duration": 7,
    "start_time": "2022-02-24T06:18:45.451Z"
   },
   {
    "duration": 9,
    "start_time": "2022-02-24T06:18:45.459Z"
   },
   {
    "duration": 50,
    "start_time": "2022-02-24T06:18:45.469Z"
   },
   {
    "duration": 16,
    "start_time": "2022-02-24T06:18:45.521Z"
   },
   {
    "duration": 29,
    "start_time": "2022-02-24T06:18:45.539Z"
   },
   {
    "duration": 277,
    "start_time": "2022-02-24T06:19:04.810Z"
   },
   {
    "duration": 5173,
    "start_time": "2022-02-24T06:19:42.732Z"
   },
   {
    "duration": 69,
    "start_time": "2022-02-24T06:20:04.724Z"
   },
   {
    "duration": 11,
    "start_time": "2022-02-24T06:20:07.259Z"
   },
   {
    "duration": 11,
    "start_time": "2022-02-24T06:20:10.228Z"
   },
   {
    "duration": 8,
    "start_time": "2022-02-24T06:20:12.591Z"
   },
   {
    "duration": 16,
    "start_time": "2022-02-24T06:20:14.761Z"
   },
   {
    "duration": 6,
    "start_time": "2022-02-24T06:20:20.085Z"
   },
   {
    "duration": 5,
    "start_time": "2022-02-24T06:20:22.320Z"
   },
   {
    "duration": 15,
    "start_time": "2022-02-24T06:20:24.736Z"
   },
   {
    "duration": 4,
    "start_time": "2022-02-24T06:20:29.079Z"
   },
   {
    "duration": 18,
    "start_time": "2022-02-24T06:20:31.231Z"
   },
   {
    "duration": 6,
    "start_time": "2022-02-24T06:20:35.860Z"
   },
   {
    "duration": 6,
    "start_time": "2022-02-24T06:20:37.660Z"
   },
   {
    "duration": 17,
    "start_time": "2022-02-24T06:20:40.010Z"
   },
   {
    "duration": 5,
    "start_time": "2022-02-24T06:20:50.708Z"
   },
   {
    "duration": 15,
    "start_time": "2022-02-24T06:20:52.689Z"
   },
   {
    "duration": 8,
    "start_time": "2022-02-24T06:20:58.145Z"
   },
   {
    "duration": 13,
    "start_time": "2022-02-24T06:21:00.168Z"
   },
   {
    "duration": 5,
    "start_time": "2022-02-24T06:21:02.512Z"
   },
   {
    "duration": 7,
    "start_time": "2022-02-24T06:21:04.975Z"
   },
   {
    "duration": 19,
    "start_time": "2022-02-24T06:21:11.513Z"
   },
   {
    "duration": 17,
    "start_time": "2022-02-24T06:21:13.232Z"
   },
   {
    "duration": 16,
    "start_time": "2022-02-24T06:21:16.081Z"
   },
   {
    "duration": 21,
    "start_time": "2022-02-24T06:21:27.594Z"
   },
   {
    "duration": 19,
    "start_time": "2022-02-24T06:21:29.377Z"
   },
   {
    "duration": 9,
    "start_time": "2022-02-24T06:21:32.478Z"
   },
   {
    "duration": 13,
    "start_time": "2022-02-24T06:21:36.555Z"
   },
   {
    "duration": 9,
    "start_time": "2022-02-24T06:21:38.320Z"
   },
   {
    "duration": 9,
    "start_time": "2022-02-24T06:21:40.656Z"
   },
   {
    "duration": 14,
    "start_time": "2022-02-24T06:21:42.844Z"
   },
   {
    "duration": 11,
    "start_time": "2022-02-24T06:21:44.307Z"
   },
   {
    "duration": 9,
    "start_time": "2022-02-24T06:21:47.122Z"
   },
   {
    "duration": 12,
    "start_time": "2022-02-24T06:21:49.309Z"
   },
   {
    "duration": 10,
    "start_time": "2022-02-24T06:21:51.939Z"
   },
   {
    "duration": 10,
    "start_time": "2022-02-24T06:21:57.723Z"
   },
   {
    "duration": 10,
    "start_time": "2022-02-24T06:22:00.585Z"
   },
   {
    "duration": 6,
    "start_time": "2022-02-24T06:22:03.199Z"
   },
   {
    "duration": 221,
    "start_time": "2022-02-24T06:22:23.394Z"
   },
   {
    "duration": 339,
    "start_time": "2022-02-24T06:22:42.272Z"
   },
   {
    "duration": 317,
    "start_time": "2022-02-24T06:22:46.279Z"
   },
   {
    "duration": 21,
    "start_time": "2022-02-24T06:24:12.523Z"
   },
   {
    "duration": 16,
    "start_time": "2022-02-24T06:24:22.706Z"
   },
   {
    "duration": 195,
    "start_time": "2022-02-24T06:24:41.886Z"
   },
   {
    "duration": 235,
    "start_time": "2022-02-24T06:25:24.038Z"
   },
   {
    "duration": 267,
    "start_time": "2022-02-24T06:26:09.984Z"
   },
   {
    "duration": 265,
    "start_time": "2022-02-24T06:26:28.186Z"
   },
   {
    "duration": 258,
    "start_time": "2022-02-24T06:26:38.529Z"
   },
   {
    "duration": 341,
    "start_time": "2022-02-24T06:27:00.550Z"
   },
   {
    "duration": 59,
    "start_time": "2022-02-24T06:27:21.495Z"
   },
   {
    "duration": 13,
    "start_time": "2022-02-24T06:27:21.557Z"
   },
   {
    "duration": 42,
    "start_time": "2022-02-24T06:27:21.573Z"
   },
   {
    "duration": 7,
    "start_time": "2022-02-24T06:27:21.617Z"
   },
   {
    "duration": 23,
    "start_time": "2022-02-24T06:27:21.626Z"
   },
   {
    "duration": 6,
    "start_time": "2022-02-24T06:27:21.651Z"
   },
   {
    "duration": 8,
    "start_time": "2022-02-24T06:27:21.658Z"
   },
   {
    "duration": 51,
    "start_time": "2022-02-24T06:27:21.670Z"
   },
   {
    "duration": 8,
    "start_time": "2022-02-24T06:27:21.724Z"
   },
   {
    "duration": 16,
    "start_time": "2022-02-24T06:27:21.734Z"
   },
   {
    "duration": 6,
    "start_time": "2022-02-24T06:27:21.752Z"
   },
   {
    "duration": 5,
    "start_time": "2022-02-24T06:27:21.759Z"
   },
   {
    "duration": 46,
    "start_time": "2022-02-24T06:27:21.766Z"
   },
   {
    "duration": 7,
    "start_time": "2022-02-24T06:27:21.813Z"
   },
   {
    "duration": 17,
    "start_time": "2022-02-24T06:27:21.821Z"
   },
   {
    "duration": 8,
    "start_time": "2022-02-24T06:27:21.840Z"
   },
   {
    "duration": 18,
    "start_time": "2022-02-24T06:27:21.849Z"
   },
   {
    "duration": 6,
    "start_time": "2022-02-24T06:27:21.869Z"
   },
   {
    "duration": 33,
    "start_time": "2022-02-24T06:27:21.876Z"
   },
   {
    "duration": 19,
    "start_time": "2022-02-24T06:27:21.911Z"
   },
   {
    "duration": 19,
    "start_time": "2022-02-24T06:27:21.932Z"
   },
   {
    "duration": 18,
    "start_time": "2022-02-24T06:27:21.953Z"
   },
   {
    "duration": 48,
    "start_time": "2022-02-24T06:27:21.975Z"
   },
   {
    "duration": 18,
    "start_time": "2022-02-24T06:27:22.025Z"
   },
   {
    "duration": 8,
    "start_time": "2022-02-24T06:27:22.046Z"
   },
   {
    "duration": 15,
    "start_time": "2022-02-24T06:27:22.056Z"
   },
   {
    "duration": 38,
    "start_time": "2022-02-24T06:27:22.073Z"
   },
   {
    "duration": 12,
    "start_time": "2022-02-24T06:27:22.113Z"
   },
   {
    "duration": 15,
    "start_time": "2022-02-24T06:27:22.127Z"
   },
   {
    "duration": 15,
    "start_time": "2022-02-24T06:27:22.144Z"
   },
   {
    "duration": 12,
    "start_time": "2022-02-24T06:27:22.161Z"
   },
   {
    "duration": 13,
    "start_time": "2022-02-24T06:27:22.175Z"
   },
   {
    "duration": 9,
    "start_time": "2022-02-24T06:27:22.208Z"
   },
   {
    "duration": 18,
    "start_time": "2022-02-24T06:27:22.219Z"
   },
   {
    "duration": 15,
    "start_time": "2022-02-24T06:27:22.239Z"
   },
   {
    "duration": 12,
    "start_time": "2022-02-24T06:27:22.256Z"
   },
   {
    "duration": 16,
    "start_time": "2022-02-24T06:27:22.271Z"
   },
   {
    "duration": 10,
    "start_time": "2022-02-24T06:27:22.289Z"
   },
   {
    "duration": 20,
    "start_time": "2022-02-24T06:27:22.308Z"
   },
   {
    "duration": 28,
    "start_time": "2022-02-24T06:27:22.330Z"
   },
   {
    "duration": 9,
    "start_time": "2022-02-24T06:27:22.360Z"
   },
   {
    "duration": 15,
    "start_time": "2022-02-24T06:27:22.371Z"
   },
   {
    "duration": 22,
    "start_time": "2022-02-24T06:27:22.388Z"
   },
   {
    "duration": 26,
    "start_time": "2022-02-24T06:27:22.413Z"
   },
   {
    "duration": 18,
    "start_time": "2022-02-24T06:27:22.442Z"
   },
   {
    "duration": 47,
    "start_time": "2022-02-24T06:27:22.462Z"
   },
   {
    "duration": 3,
    "start_time": "2022-02-24T06:29:40.665Z"
   },
   {
    "duration": 3,
    "start_time": "2022-02-24T06:29:42.268Z"
   },
   {
    "duration": 4,
    "start_time": "2022-02-24T06:29:54.890Z"
   },
   {
    "duration": 3,
    "start_time": "2022-02-24T06:30:32.497Z"
   },
   {
    "duration": 698,
    "start_time": "2022-02-24T06:31:25.131Z"
   },
   {
    "duration": 13,
    "start_time": "2022-02-24T06:31:25.831Z"
   },
   {
    "duration": 18,
    "start_time": "2022-02-24T06:31:25.846Z"
   },
   {
    "duration": 22,
    "start_time": "2022-02-24T06:31:25.867Z"
   },
   {
    "duration": 34,
    "start_time": "2022-02-24T06:31:25.891Z"
   },
   {
    "duration": 18,
    "start_time": "2022-02-24T06:31:25.927Z"
   },
   {
    "duration": 12,
    "start_time": "2022-02-24T06:31:25.948Z"
   },
   {
    "duration": 24,
    "start_time": "2022-02-24T06:31:25.964Z"
   },
   {
    "duration": 20,
    "start_time": "2022-02-24T06:31:25.990Z"
   },
   {
    "duration": 28,
    "start_time": "2022-02-24T06:31:26.012Z"
   },
   {
    "duration": 28,
    "start_time": "2022-02-24T06:31:26.042Z"
   },
   {
    "duration": 23,
    "start_time": "2022-02-24T06:31:26.072Z"
   },
   {
    "duration": 34,
    "start_time": "2022-02-24T06:31:26.097Z"
   },
   {
    "duration": 26,
    "start_time": "2022-02-24T06:31:26.133Z"
   },
   {
    "duration": 34,
    "start_time": "2022-02-24T06:31:26.161Z"
   },
   {
    "duration": 34,
    "start_time": "2022-02-24T06:31:26.197Z"
   },
   {
    "duration": 28,
    "start_time": "2022-02-24T06:31:26.233Z"
   },
   {
    "duration": 13,
    "start_time": "2022-02-24T06:31:26.263Z"
   },
   {
    "duration": 13,
    "start_time": "2022-02-24T06:31:26.278Z"
   },
   {
    "duration": 38,
    "start_time": "2022-02-24T06:31:26.292Z"
   },
   {
    "duration": 17,
    "start_time": "2022-02-24T06:31:26.333Z"
   },
   {
    "duration": 15,
    "start_time": "2022-02-24T06:31:26.352Z"
   },
   {
    "duration": 37,
    "start_time": "2022-02-24T06:31:26.371Z"
   },
   {
    "duration": 17,
    "start_time": "2022-02-24T06:31:26.411Z"
   },
   {
    "duration": 9,
    "start_time": "2022-02-24T06:31:26.430Z"
   },
   {
    "duration": 16,
    "start_time": "2022-02-24T06:31:26.440Z"
   },
   {
    "duration": 12,
    "start_time": "2022-02-24T06:31:26.458Z"
   },
   {
    "duration": 39,
    "start_time": "2022-02-24T06:31:26.472Z"
   },
   {
    "duration": 19,
    "start_time": "2022-02-24T06:31:26.513Z"
   },
   {
    "duration": 12,
    "start_time": "2022-02-24T06:31:26.534Z"
   },
   {
    "duration": 12,
    "start_time": "2022-02-24T06:31:26.548Z"
   },
   {
    "duration": 12,
    "start_time": "2022-02-24T06:31:26.562Z"
   },
   {
    "duration": 33,
    "start_time": "2022-02-24T06:31:26.576Z"
   },
   {
    "duration": 12,
    "start_time": "2022-02-24T06:31:26.611Z"
   },
   {
    "duration": 12,
    "start_time": "2022-02-24T06:31:26.625Z"
   },
   {
    "duration": 11,
    "start_time": "2022-02-24T06:31:26.639Z"
   },
   {
    "duration": 13,
    "start_time": "2022-02-24T06:31:26.652Z"
   },
   {
    "duration": 10,
    "start_time": "2022-02-24T06:31:26.667Z"
   },
   {
    "duration": 36,
    "start_time": "2022-02-24T06:31:26.679Z"
   },
   {
    "duration": 15,
    "start_time": "2022-02-24T06:31:26.717Z"
   },
   {
    "duration": 8,
    "start_time": "2022-02-24T06:31:26.735Z"
   },
   {
    "duration": 9,
    "start_time": "2022-02-24T06:31:26.745Z"
   },
   {
    "duration": 14,
    "start_time": "2022-02-24T06:31:26.756Z"
   },
   {
    "duration": 45,
    "start_time": "2022-02-24T06:31:26.772Z"
   },
   {
    "duration": 18,
    "start_time": "2022-02-24T06:31:26.819Z"
   },
   {
    "duration": 22,
    "start_time": "2022-02-24T06:31:26.839Z"
   },
   {
    "duration": 18,
    "start_time": "2022-02-24T06:32:18.742Z"
   },
   {
    "duration": 14,
    "start_time": "2022-02-24T06:32:25.007Z"
   },
   {
    "duration": 6482,
    "start_time": "2022-02-24T06:32:29.904Z"
   },
   {
    "duration": 68,
    "start_time": "2022-02-24T06:48:39.622Z"
   },
   {
    "duration": 28,
    "start_time": "2022-02-24T06:48:39.693Z"
   },
   {
    "duration": 30,
    "start_time": "2022-02-24T06:48:39.724Z"
   },
   {
    "duration": 37,
    "start_time": "2022-02-24T06:48:39.756Z"
   },
   {
    "duration": 33,
    "start_time": "2022-02-24T06:48:39.795Z"
   },
   {
    "duration": 34,
    "start_time": "2022-02-24T06:48:39.830Z"
   },
   {
    "duration": 36,
    "start_time": "2022-02-24T06:48:39.866Z"
   },
   {
    "duration": 39,
    "start_time": "2022-02-24T06:48:39.905Z"
   },
   {
    "duration": 55,
    "start_time": "2022-02-24T06:48:39.948Z"
   },
   {
    "duration": 63,
    "start_time": "2022-02-24T06:48:40.005Z"
   },
   {
    "duration": 18,
    "start_time": "2022-02-24T06:48:40.071Z"
   },
   {
    "duration": 32,
    "start_time": "2022-02-24T06:48:40.092Z"
   },
   {
    "duration": 39,
    "start_time": "2022-02-24T06:48:40.126Z"
   },
   {
    "duration": 34,
    "start_time": "2022-02-24T06:48:40.167Z"
   },
   {
    "duration": 51,
    "start_time": "2022-02-24T06:48:40.203Z"
   },
   {
    "duration": 37,
    "start_time": "2022-02-24T06:48:40.256Z"
   },
   {
    "duration": 29,
    "start_time": "2022-02-24T06:48:40.295Z"
   },
   {
    "duration": 27,
    "start_time": "2022-02-24T06:48:40.326Z"
   },
   {
    "duration": 45,
    "start_time": "2022-02-24T06:48:40.355Z"
   },
   {
    "duration": 41,
    "start_time": "2022-02-24T06:48:40.402Z"
   },
   {
    "duration": 33,
    "start_time": "2022-02-24T06:48:40.445Z"
   },
   {
    "duration": 42,
    "start_time": "2022-02-24T06:48:40.480Z"
   },
   {
    "duration": 44,
    "start_time": "2022-02-24T06:48:40.526Z"
   },
   {
    "duration": 41,
    "start_time": "2022-02-24T06:48:40.572Z"
   },
   {
    "duration": 29,
    "start_time": "2022-02-24T06:48:40.615Z"
   },
   {
    "duration": 51,
    "start_time": "2022-02-24T06:48:40.646Z"
   },
   {
    "duration": 24,
    "start_time": "2022-02-24T06:48:40.699Z"
   },
   {
    "duration": 29,
    "start_time": "2022-02-24T06:48:40.726Z"
   },
   {
    "duration": 38,
    "start_time": "2022-02-24T06:48:40.758Z"
   },
   {
    "duration": 53,
    "start_time": "2022-02-24T06:48:40.798Z"
   },
   {
    "duration": 51,
    "start_time": "2022-02-24T06:48:40.853Z"
   },
   {
    "duration": 45,
    "start_time": "2022-02-24T06:48:40.906Z"
   },
   {
    "duration": 51,
    "start_time": "2022-02-24T06:48:40.953Z"
   },
   {
    "duration": 45,
    "start_time": "2022-02-24T06:48:41.006Z"
   },
   {
    "duration": 50,
    "start_time": "2022-02-24T06:48:41.053Z"
   },
   {
    "duration": 43,
    "start_time": "2022-02-24T06:48:41.105Z"
   },
   {
    "duration": 31,
    "start_time": "2022-02-24T06:48:41.150Z"
   },
   {
    "duration": 34,
    "start_time": "2022-02-24T06:48:41.183Z"
   },
   {
    "duration": 76,
    "start_time": "2022-02-24T06:48:41.219Z"
   },
   {
    "duration": 63,
    "start_time": "2022-02-24T06:48:41.297Z"
   },
   {
    "duration": 32,
    "start_time": "2022-02-24T06:48:41.362Z"
   },
   {
    "duration": 31,
    "start_time": "2022-02-24T06:48:41.396Z"
   },
   {
    "duration": 46,
    "start_time": "2022-02-24T06:48:41.429Z"
   },
   {
    "duration": 79,
    "start_time": "2022-02-24T06:48:41.477Z"
   },
   {
    "duration": 45,
    "start_time": "2022-02-24T06:48:41.558Z"
   },
   {
    "duration": 45,
    "start_time": "2022-02-24T06:48:41.605Z"
   },
   {
    "duration": 3,
    "start_time": "2022-02-24T06:49:20.715Z"
   },
   {
    "duration": 202,
    "start_time": "2022-02-24T06:50:07.267Z"
   },
   {
    "duration": 310,
    "start_time": "2022-02-24T06:50:48.567Z"
   },
   {
    "duration": 4802,
    "start_time": "2022-02-24T06:50:55.689Z"
   },
   {
    "duration": 697,
    "start_time": "2022-02-24T07:11:10.671Z"
   },
   {
    "duration": 13,
    "start_time": "2022-02-24T07:11:11.370Z"
   },
   {
    "duration": 23,
    "start_time": "2022-02-24T07:11:11.385Z"
   },
   {
    "duration": 9,
    "start_time": "2022-02-24T07:11:11.410Z"
   },
   {
    "duration": 31,
    "start_time": "2022-02-24T07:11:11.421Z"
   },
   {
    "duration": 9,
    "start_time": "2022-02-24T07:11:11.454Z"
   },
   {
    "duration": 6,
    "start_time": "2022-02-24T07:11:11.465Z"
   },
   {
    "duration": 34,
    "start_time": "2022-02-24T07:11:11.474Z"
   },
   {
    "duration": 10,
    "start_time": "2022-02-24T07:11:11.511Z"
   },
   {
    "duration": 29,
    "start_time": "2022-02-24T07:11:11.523Z"
   },
   {
    "duration": 10,
    "start_time": "2022-02-24T07:11:11.553Z"
   },
   {
    "duration": 6,
    "start_time": "2022-02-24T07:11:11.565Z"
   },
   {
    "duration": 26,
    "start_time": "2022-02-24T07:11:11.573Z"
   },
   {
    "duration": 12,
    "start_time": "2022-02-24T07:11:11.601Z"
   },
   {
    "duration": 18,
    "start_time": "2022-02-24T07:11:11.615Z"
   },
   {
    "duration": 14,
    "start_time": "2022-02-24T07:11:11.635Z"
   },
   {
    "duration": 21,
    "start_time": "2022-02-24T07:11:11.651Z"
   },
   {
    "duration": 6,
    "start_time": "2022-02-24T07:11:11.674Z"
   },
   {
    "duration": 15,
    "start_time": "2022-02-24T07:11:11.682Z"
   },
   {
    "duration": 26,
    "start_time": "2022-02-24T07:11:11.699Z"
   },
   {
    "duration": 17,
    "start_time": "2022-02-24T07:11:11.728Z"
   },
   {
    "duration": 16,
    "start_time": "2022-02-24T07:11:11.747Z"
   },
   {
    "duration": 49,
    "start_time": "2022-02-24T07:11:11.767Z"
   },
   {
    "duration": 17,
    "start_time": "2022-02-24T07:11:11.818Z"
   },
   {
    "duration": 8,
    "start_time": "2022-02-24T07:11:11.838Z"
   },
   {
    "duration": 16,
    "start_time": "2022-02-24T07:11:11.848Z"
   },
   {
    "duration": 15,
    "start_time": "2022-02-24T07:11:11.866Z"
   },
   {
    "duration": 31,
    "start_time": "2022-02-24T07:11:11.883Z"
   },
   {
    "duration": 64,
    "start_time": "2022-02-24T07:11:11.916Z"
   },
   {
    "duration": 23,
    "start_time": "2022-02-24T07:11:11.981Z"
   },
   {
    "duration": 10,
    "start_time": "2022-02-24T07:11:12.006Z"
   },
   {
    "duration": 14,
    "start_time": "2022-02-24T07:11:12.018Z"
   },
   {
    "duration": 12,
    "start_time": "2022-02-24T07:11:12.034Z"
   },
   {
    "duration": 11,
    "start_time": "2022-02-24T07:11:12.047Z"
   },
   {
    "duration": 17,
    "start_time": "2022-02-24T07:11:12.060Z"
   },
   {
    "duration": 28,
    "start_time": "2022-02-24T07:11:12.079Z"
   },
   {
    "duration": 4,
    "start_time": "2022-02-24T07:11:12.110Z"
   },
   {
    "duration": 19,
    "start_time": "2022-02-24T07:11:12.116Z"
   },
   {
    "duration": 23,
    "start_time": "2022-02-24T07:11:12.137Z"
   },
   {
    "duration": 15,
    "start_time": "2022-02-24T07:11:12.162Z"
   },
   {
    "duration": 9,
    "start_time": "2022-02-24T07:11:12.179Z"
   },
   {
    "duration": 21,
    "start_time": "2022-02-24T07:11:12.189Z"
   },
   {
    "duration": 12,
    "start_time": "2022-02-24T07:11:12.212Z"
   },
   {
    "duration": 26,
    "start_time": "2022-02-24T07:11:12.226Z"
   },
   {
    "duration": 16,
    "start_time": "2022-02-24T07:11:12.255Z"
   },
   {
    "duration": 42,
    "start_time": "2022-02-24T07:11:12.273Z"
   },
   {
    "duration": 3,
    "start_time": "2022-02-24T07:12:28.464Z"
   },
   {
    "duration": 4,
    "start_time": "2022-02-24T07:12:38.872Z"
   },
   {
    "duration": 4,
    "start_time": "2022-02-24T07:13:03.907Z"
   },
   {
    "duration": 4,
    "start_time": "2022-02-24T07:13:24.048Z"
   },
   {
    "duration": 4,
    "start_time": "2022-02-24T07:13:45.761Z"
   },
   {
    "duration": 4,
    "start_time": "2022-02-24T07:14:34.741Z"
   },
   {
    "duration": 3,
    "start_time": "2022-02-24T07:14:35.784Z"
   },
   {
    "duration": 4,
    "start_time": "2022-02-24T07:15:18.860Z"
   },
   {
    "duration": 3,
    "start_time": "2022-02-24T07:16:07.900Z"
   },
   {
    "duration": 4,
    "start_time": "2022-02-24T07:16:45.378Z"
   },
   {
    "duration": 3,
    "start_time": "2022-02-24T07:16:57.068Z"
   },
   {
    "duration": 4,
    "start_time": "2022-02-24T07:16:58.738Z"
   },
   {
    "duration": 701,
    "start_time": "2022-02-24T07:17:16.895Z"
   },
   {
    "duration": 14,
    "start_time": "2022-02-24T07:17:17.599Z"
   },
   {
    "duration": 11,
    "start_time": "2022-02-24T07:17:17.619Z"
   },
   {
    "duration": 9,
    "start_time": "2022-02-24T07:17:17.633Z"
   },
   {
    "duration": 16,
    "start_time": "2022-02-24T07:17:17.644Z"
   },
   {
    "duration": 47,
    "start_time": "2022-02-24T07:17:17.662Z"
   },
   {
    "duration": 6,
    "start_time": "2022-02-24T07:17:17.711Z"
   },
   {
    "duration": 15,
    "start_time": "2022-02-24T07:17:17.721Z"
   },
   {
    "duration": 5,
    "start_time": "2022-02-24T07:17:17.739Z"
   },
   {
    "duration": 16,
    "start_time": "2022-02-24T07:17:17.745Z"
   },
   {
    "duration": 46,
    "start_time": "2022-02-24T07:17:17.763Z"
   },
   {
    "duration": 5,
    "start_time": "2022-02-24T07:17:17.810Z"
   },
   {
    "duration": 16,
    "start_time": "2022-02-24T07:17:17.817Z"
   },
   {
    "duration": 9,
    "start_time": "2022-02-24T07:17:17.835Z"
   },
   {
    "duration": 22,
    "start_time": "2022-02-24T07:17:17.846Z"
   },
   {
    "duration": 16,
    "start_time": "2022-02-24T07:17:17.870Z"
   },
   {
    "duration": 30,
    "start_time": "2022-02-24T07:17:17.888Z"
   },
   {
    "duration": 4,
    "start_time": "2022-02-24T07:17:17.920Z"
   },
   {
    "duration": 12,
    "start_time": "2022-02-24T07:17:17.926Z"
   },
   {
    "duration": 28,
    "start_time": "2022-02-24T07:17:17.940Z"
   },
   {
    "duration": 39,
    "start_time": "2022-02-24T07:17:17.970Z"
   },
   {
    "duration": 15,
    "start_time": "2022-02-24T07:17:18.011Z"
   },
   {
    "duration": 24,
    "start_time": "2022-02-24T07:17:18.028Z"
   },
   {
    "duration": 17,
    "start_time": "2022-02-24T07:17:18.054Z"
   },
   {
    "duration": 8,
    "start_time": "2022-02-24T07:17:18.073Z"
   },
   {
    "duration": 15,
    "start_time": "2022-02-24T07:17:18.110Z"
   },
   {
    "duration": 14,
    "start_time": "2022-02-24T07:17:18.127Z"
   },
   {
    "duration": 9,
    "start_time": "2022-02-24T07:17:18.143Z"
   },
   {
    "duration": 21,
    "start_time": "2022-02-24T07:17:18.154Z"
   },
   {
    "duration": 32,
    "start_time": "2022-02-24T07:17:18.177Z"
   },
   {
    "duration": 9,
    "start_time": "2022-02-24T07:17:18.211Z"
   },
   {
    "duration": 11,
    "start_time": "2022-02-24T07:17:18.222Z"
   },
   {
    "duration": 16,
    "start_time": "2022-02-24T07:17:18.235Z"
   },
   {
    "duration": 14,
    "start_time": "2022-02-24T07:17:18.253Z"
   },
   {
    "duration": 19,
    "start_time": "2022-02-24T07:17:18.268Z"
   },
   {
    "duration": 21,
    "start_time": "2022-02-24T07:17:18.288Z"
   },
   {
    "duration": 6,
    "start_time": "2022-02-24T07:17:18.310Z"
   },
   {
    "duration": 9,
    "start_time": "2022-02-24T07:17:18.318Z"
   },
   {
    "duration": 28,
    "start_time": "2022-02-24T07:17:18.328Z"
   },
   {
    "duration": 15,
    "start_time": "2022-02-24T07:17:18.357Z"
   },
   {
    "duration": 8,
    "start_time": "2022-02-24T07:17:18.373Z"
   },
   {
    "duration": 27,
    "start_time": "2022-02-24T07:17:18.383Z"
   },
   {
    "duration": 12,
    "start_time": "2022-02-24T07:17:18.412Z"
   },
   {
    "duration": 23,
    "start_time": "2022-02-24T07:17:18.426Z"
   },
   {
    "duration": 19,
    "start_time": "2022-02-24T07:17:18.451Z"
   },
   {
    "duration": 43,
    "start_time": "2022-02-24T07:17:18.472Z"
   },
   {
    "duration": 271,
    "start_time": "2022-02-24T07:18:24.259Z"
   },
   {
    "duration": 12,
    "start_time": "2022-02-24T07:31:47.264Z"
   },
   {
    "duration": 11,
    "start_time": "2022-02-24T07:33:34.868Z"
   },
   {
    "duration": 648,
    "start_time": "2022-02-24T07:43:53.861Z"
   },
   {
    "duration": 13,
    "start_time": "2022-02-24T07:43:54.511Z"
   },
   {
    "duration": 16,
    "start_time": "2022-02-24T07:43:54.529Z"
   },
   {
    "duration": 8,
    "start_time": "2022-02-24T07:43:54.548Z"
   },
   {
    "duration": 20,
    "start_time": "2022-02-24T07:43:54.557Z"
   },
   {
    "duration": 30,
    "start_time": "2022-02-24T07:43:54.579Z"
   },
   {
    "duration": 9,
    "start_time": "2022-02-24T07:43:54.611Z"
   },
   {
    "duration": 20,
    "start_time": "2022-02-24T07:43:54.623Z"
   },
   {
    "duration": 8,
    "start_time": "2022-02-24T07:43:54.645Z"
   },
   {
    "duration": 19,
    "start_time": "2022-02-24T07:43:54.655Z"
   },
   {
    "duration": 33,
    "start_time": "2022-02-24T07:43:54.676Z"
   },
   {
    "duration": 5,
    "start_time": "2022-02-24T07:43:54.710Z"
   },
   {
    "duration": 18,
    "start_time": "2022-02-24T07:43:54.717Z"
   },
   {
    "duration": 6,
    "start_time": "2022-02-24T07:43:54.737Z"
   },
   {
    "duration": 20,
    "start_time": "2022-02-24T07:43:54.745Z"
   },
   {
    "duration": 9,
    "start_time": "2022-02-24T07:43:54.767Z"
   },
   {
    "duration": 40,
    "start_time": "2022-02-24T07:43:54.778Z"
   },
   {
    "duration": 8,
    "start_time": "2022-02-24T07:43:54.820Z"
   },
   {
    "duration": 14,
    "start_time": "2022-02-24T07:43:54.830Z"
   },
   {
    "duration": 15,
    "start_time": "2022-02-24T07:43:54.846Z"
   },
   {
    "duration": 21,
    "start_time": "2022-02-24T07:43:54.863Z"
   },
   {
    "duration": 19,
    "start_time": "2022-02-24T07:43:54.906Z"
   },
   {
    "duration": 17,
    "start_time": "2022-02-24T07:43:54.927Z"
   },
   {
    "duration": 33,
    "start_time": "2022-02-24T07:43:54.946Z"
   },
   {
    "duration": 39,
    "start_time": "2022-02-24T07:43:54.981Z"
   },
   {
    "duration": 9,
    "start_time": "2022-02-24T07:43:55.025Z"
   },
   {
    "duration": 16,
    "start_time": "2022-02-24T07:43:55.037Z"
   },
   {
    "duration": 12,
    "start_time": "2022-02-24T07:43:55.055Z"
   },
   {
    "duration": 42,
    "start_time": "2022-02-24T07:43:55.069Z"
   },
   {
    "duration": 18,
    "start_time": "2022-02-24T07:43:55.113Z"
   },
   {
    "duration": 14,
    "start_time": "2022-02-24T07:43:55.134Z"
   },
   {
    "duration": 12,
    "start_time": "2022-02-24T07:43:55.150Z"
   },
   {
    "duration": 16,
    "start_time": "2022-02-24T07:43:55.164Z"
   },
   {
    "duration": 31,
    "start_time": "2022-02-24T07:43:55.182Z"
   },
   {
    "duration": 10,
    "start_time": "2022-02-24T07:43:55.215Z"
   },
   {
    "duration": 12,
    "start_time": "2022-02-24T07:43:55.227Z"
   },
   {
    "duration": 10,
    "start_time": "2022-02-24T07:43:55.240Z"
   },
   {
    "duration": 7,
    "start_time": "2022-02-24T07:43:55.252Z"
   },
   {
    "duration": 11,
    "start_time": "2022-02-24T07:43:55.261Z"
   },
   {
    "duration": 47,
    "start_time": "2022-02-24T07:43:55.274Z"
   },
   {
    "duration": 16,
    "start_time": "2022-02-24T07:43:55.323Z"
   },
   {
    "duration": 9,
    "start_time": "2022-02-24T07:43:55.341Z"
   },
   {
    "duration": 8,
    "start_time": "2022-02-24T07:43:55.352Z"
   },
   {
    "duration": 10,
    "start_time": "2022-02-24T07:43:55.362Z"
   },
   {
    "duration": 48,
    "start_time": "2022-02-24T07:43:55.374Z"
   },
   {
    "duration": 19,
    "start_time": "2022-02-24T07:43:55.424Z"
   },
   {
    "duration": 22,
    "start_time": "2022-02-24T07:43:55.446Z"
   },
   {
    "duration": 11,
    "start_time": "2022-02-24T07:45:33.875Z"
   },
   {
    "duration": 299,
    "start_time": "2022-02-24T07:45:54.540Z"
   },
   {
    "duration": 68,
    "start_time": "2022-02-24T07:48:28.647Z"
   },
   {
    "duration": 14,
    "start_time": "2022-02-24T07:48:28.718Z"
   },
   {
    "duration": 14,
    "start_time": "2022-02-24T07:48:28.735Z"
   },
   {
    "duration": 10,
    "start_time": "2022-02-24T07:48:28.751Z"
   },
   {
    "duration": 57,
    "start_time": "2022-02-24T07:48:28.763Z"
   },
   {
    "duration": 11,
    "start_time": "2022-02-24T07:48:28.822Z"
   },
   {
    "duration": 19,
    "start_time": "2022-02-24T07:48:28.835Z"
   },
   {
    "duration": 16,
    "start_time": "2022-02-24T07:48:28.857Z"
   },
   {
    "duration": 8,
    "start_time": "2022-02-24T07:48:28.875Z"
   },
   {
    "duration": 36,
    "start_time": "2022-02-24T07:48:28.886Z"
   },
   {
    "duration": 10,
    "start_time": "2022-02-24T07:48:28.924Z"
   },
   {
    "duration": 9,
    "start_time": "2022-02-24T07:48:28.936Z"
   },
   {
    "duration": 18,
    "start_time": "2022-02-24T07:48:28.946Z"
   },
   {
    "duration": 15,
    "start_time": "2022-02-24T07:48:28.966Z"
   },
   {
    "duration": 33,
    "start_time": "2022-02-24T07:48:28.983Z"
   },
   {
    "duration": 9,
    "start_time": "2022-02-24T07:48:29.018Z"
   },
   {
    "duration": 30,
    "start_time": "2022-02-24T07:48:29.029Z"
   },
   {
    "duration": 5,
    "start_time": "2022-02-24T07:48:29.061Z"
   },
   {
    "duration": 13,
    "start_time": "2022-02-24T07:48:29.068Z"
   },
   {
    "duration": 28,
    "start_time": "2022-02-24T07:48:29.083Z"
   },
   {
    "duration": 21,
    "start_time": "2022-02-24T07:48:29.113Z"
   },
   {
    "duration": 17,
    "start_time": "2022-02-24T07:48:29.136Z"
   },
   {
    "duration": 15,
    "start_time": "2022-02-24T07:48:29.157Z"
   },
   {
    "duration": 52,
    "start_time": "2022-02-24T07:48:29.174Z"
   },
   {
    "duration": 19,
    "start_time": "2022-02-24T07:48:29.228Z"
   },
   {
    "duration": 9,
    "start_time": "2022-02-24T07:48:29.249Z"
   },
   {
    "duration": 17,
    "start_time": "2022-02-24T07:48:29.260Z"
   },
   {
    "duration": 37,
    "start_time": "2022-02-24T07:48:29.279Z"
   },
   {
    "duration": 18,
    "start_time": "2022-02-24T07:48:29.318Z"
   },
   {
    "duration": 18,
    "start_time": "2022-02-24T07:48:29.338Z"
   },
   {
    "duration": 12,
    "start_time": "2022-02-24T07:48:29.358Z"
   },
   {
    "duration": 12,
    "start_time": "2022-02-24T07:48:29.372Z"
   },
   {
    "duration": 30,
    "start_time": "2022-02-24T07:48:29.386Z"
   },
   {
    "duration": 12,
    "start_time": "2022-02-24T07:48:29.418Z"
   },
   {
    "duration": 14,
    "start_time": "2022-02-24T07:48:29.432Z"
   },
   {
    "duration": 14,
    "start_time": "2022-02-24T07:48:29.448Z"
   },
   {
    "duration": 15,
    "start_time": "2022-02-24T07:48:29.464Z"
   },
   {
    "duration": 28,
    "start_time": "2022-02-24T07:48:29.482Z"
   },
   {
    "duration": 8,
    "start_time": "2022-02-24T07:48:29.512Z"
   },
   {
    "duration": 10,
    "start_time": "2022-02-24T07:48:29.522Z"
   },
   {
    "duration": 28,
    "start_time": "2022-02-24T07:48:29.534Z"
   },
   {
    "duration": 20,
    "start_time": "2022-02-24T07:48:29.563Z"
   },
   {
    "duration": 8,
    "start_time": "2022-02-24T07:48:29.585Z"
   },
   {
    "duration": 3,
    "start_time": "2022-02-24T07:48:29.608Z"
   },
   {
    "duration": 9,
    "start_time": "2022-02-24T07:48:29.613Z"
   },
   {
    "duration": 23,
    "start_time": "2022-02-24T07:48:29.624Z"
   },
   {
    "duration": 16,
    "start_time": "2022-02-24T07:48:29.649Z"
   },
   {
    "duration": 46,
    "start_time": "2022-02-24T07:48:29.667Z"
   },
   {
    "duration": 203,
    "start_time": "2022-02-24T07:48:45.085Z"
   },
   {
    "duration": 770,
    "start_time": "2022-02-24T07:52:20.909Z"
   },
   {
    "duration": 13,
    "start_time": "2022-02-24T07:52:21.680Z"
   },
   {
    "duration": 26,
    "start_time": "2022-02-24T07:52:21.695Z"
   },
   {
    "duration": 18,
    "start_time": "2022-02-24T07:52:21.723Z"
   },
   {
    "duration": 26,
    "start_time": "2022-02-24T07:52:21.743Z"
   },
   {
    "duration": 36,
    "start_time": "2022-02-24T07:52:21.771Z"
   },
   {
    "duration": 16,
    "start_time": "2022-02-24T07:52:21.809Z"
   },
   {
    "duration": 35,
    "start_time": "2022-02-24T07:52:21.828Z"
   },
   {
    "duration": 27,
    "start_time": "2022-02-24T07:52:21.865Z"
   },
   {
    "duration": 25,
    "start_time": "2022-02-24T07:52:21.894Z"
   },
   {
    "duration": 28,
    "start_time": "2022-02-24T07:52:21.922Z"
   },
   {
    "duration": 19,
    "start_time": "2022-02-24T07:52:21.952Z"
   },
   {
    "duration": 43,
    "start_time": "2022-02-24T07:52:21.973Z"
   },
   {
    "duration": 14,
    "start_time": "2022-02-24T07:52:22.019Z"
   },
   {
    "duration": 29,
    "start_time": "2022-02-24T07:52:22.036Z"
   },
   {
    "duration": 26,
    "start_time": "2022-02-24T07:52:22.067Z"
   },
   {
    "duration": 33,
    "start_time": "2022-02-24T07:52:22.095Z"
   },
   {
    "duration": 39,
    "start_time": "2022-02-24T07:52:22.130Z"
   },
   {
    "duration": 34,
    "start_time": "2022-02-24T07:52:22.171Z"
   },
   {
    "duration": 57,
    "start_time": "2022-02-24T07:52:22.207Z"
   },
   {
    "duration": 53,
    "start_time": "2022-02-24T07:52:22.266Z"
   },
   {
    "duration": 27,
    "start_time": "2022-02-24T07:52:22.321Z"
   },
   {
    "duration": 36,
    "start_time": "2022-02-24T07:52:22.354Z"
   },
   {
    "duration": 37,
    "start_time": "2022-02-24T07:52:22.394Z"
   },
   {
    "duration": 19,
    "start_time": "2022-02-24T07:52:22.433Z"
   },
   {
    "duration": 8,
    "start_time": "2022-02-24T07:52:22.454Z"
   },
   {
    "duration": 28,
    "start_time": "2022-02-24T07:52:22.464Z"
   },
   {
    "duration": 42,
    "start_time": "2022-02-24T07:52:22.495Z"
   },
   {
    "duration": 54,
    "start_time": "2022-02-24T07:52:22.539Z"
   },
   {
    "duration": 31,
    "start_time": "2022-02-24T07:52:22.596Z"
   },
   {
    "duration": 46,
    "start_time": "2022-02-24T07:52:22.629Z"
   },
   {
    "duration": 41,
    "start_time": "2022-02-24T07:52:22.677Z"
   },
   {
    "duration": 19,
    "start_time": "2022-02-24T07:52:22.720Z"
   },
   {
    "duration": 27,
    "start_time": "2022-02-24T07:52:22.741Z"
   },
   {
    "duration": 49,
    "start_time": "2022-02-24T07:52:22.770Z"
   },
   {
    "duration": 32,
    "start_time": "2022-02-24T07:52:22.822Z"
   },
   {
    "duration": 46,
    "start_time": "2022-02-24T07:52:22.856Z"
   },
   {
    "duration": 39,
    "start_time": "2022-02-24T07:52:22.903Z"
   },
   {
    "duration": 28,
    "start_time": "2022-02-24T07:52:22.944Z"
   },
   {
    "duration": 38,
    "start_time": "2022-02-24T07:52:22.974Z"
   },
   {
    "duration": 40,
    "start_time": "2022-02-24T07:52:23.014Z"
   },
   {
    "duration": 39,
    "start_time": "2022-02-24T07:52:23.056Z"
   },
   {
    "duration": 31,
    "start_time": "2022-02-24T07:52:23.097Z"
   },
   {
    "duration": 30,
    "start_time": "2022-02-24T07:52:23.130Z"
   },
   {
    "duration": 36,
    "start_time": "2022-02-24T07:52:23.162Z"
   },
   {
    "duration": 53,
    "start_time": "2022-02-24T07:52:23.201Z"
   },
   {
    "duration": 40,
    "start_time": "2022-02-24T07:52:23.256Z"
   },
   {
    "duration": 21,
    "start_time": "2022-02-24T07:52:23.298Z"
   },
   {
    "duration": 296,
    "start_time": "2022-02-24T07:52:58.089Z"
   },
   {
    "duration": 241,
    "start_time": "2022-02-24T07:58:57.182Z"
   },
   {
    "duration": 1512,
    "start_time": "2022-02-24T07:59:11.980Z"
   },
   {
    "duration": 14,
    "start_time": "2022-02-24T08:03:32.235Z"
   },
   {
    "duration": 212,
    "start_time": "2022-02-24T08:03:56.553Z"
   },
   {
    "duration": 278,
    "start_time": "2022-02-24T08:04:15.300Z"
   },
   {
    "duration": 15,
    "start_time": "2022-02-24T08:04:29.204Z"
   },
   {
    "duration": 15,
    "start_time": "2022-02-24T08:05:17.272Z"
   },
   {
    "duration": 16,
    "start_time": "2022-02-24T08:05:21.462Z"
   },
   {
    "duration": 19,
    "start_time": "2022-02-24T08:05:42.397Z"
   },
   {
    "duration": 66,
    "start_time": "2022-02-24T08:27:40.274Z"
   },
   {
    "duration": 11,
    "start_time": "2022-02-24T08:27:40.343Z"
   },
   {
    "duration": 22,
    "start_time": "2022-02-24T08:27:40.357Z"
   },
   {
    "duration": 33,
    "start_time": "2022-02-24T08:27:40.381Z"
   },
   {
    "duration": 19,
    "start_time": "2022-02-24T08:27:40.416Z"
   },
   {
    "duration": 10,
    "start_time": "2022-02-24T08:27:40.436Z"
   },
   {
    "duration": 9,
    "start_time": "2022-02-24T08:27:40.448Z"
   },
   {
    "duration": 23,
    "start_time": "2022-02-24T08:27:40.460Z"
   },
   {
    "duration": 25,
    "start_time": "2022-02-24T08:27:40.485Z"
   },
   {
    "duration": 21,
    "start_time": "2022-02-24T08:27:40.512Z"
   },
   {
    "duration": 25,
    "start_time": "2022-02-24T08:27:40.535Z"
   },
   {
    "duration": 17,
    "start_time": "2022-02-24T08:27:40.562Z"
   },
   {
    "duration": 29,
    "start_time": "2022-02-24T08:27:40.581Z"
   },
   {
    "duration": 12,
    "start_time": "2022-02-24T08:27:40.612Z"
   },
   {
    "duration": 35,
    "start_time": "2022-02-24T08:27:40.625Z"
   },
   {
    "duration": 36,
    "start_time": "2022-02-24T08:27:40.662Z"
   },
   {
    "duration": 29,
    "start_time": "2022-02-24T08:27:40.700Z"
   },
   {
    "duration": 18,
    "start_time": "2022-02-24T08:27:40.731Z"
   },
   {
    "duration": 28,
    "start_time": "2022-02-24T08:27:40.751Z"
   },
   {
    "duration": 32,
    "start_time": "2022-02-24T08:27:40.780Z"
   },
   {
    "duration": 36,
    "start_time": "2022-02-24T08:27:40.814Z"
   },
   {
    "duration": 35,
    "start_time": "2022-02-24T08:27:40.852Z"
   },
   {
    "duration": 16,
    "start_time": "2022-02-24T08:27:40.891Z"
   },
   {
    "duration": 46,
    "start_time": "2022-02-24T08:27:40.910Z"
   },
   {
    "duration": 18,
    "start_time": "2022-02-24T08:27:40.958Z"
   },
   {
    "duration": 17,
    "start_time": "2022-02-24T08:27:40.978Z"
   },
   {
    "duration": 21,
    "start_time": "2022-02-24T08:27:40.997Z"
   },
   {
    "duration": 32,
    "start_time": "2022-02-24T08:27:41.020Z"
   },
   {
    "duration": 27,
    "start_time": "2022-02-24T08:27:41.054Z"
   },
   {
    "duration": 33,
    "start_time": "2022-02-24T08:27:41.083Z"
   },
   {
    "duration": 26,
    "start_time": "2022-02-24T08:27:41.118Z"
   },
   {
    "duration": 29,
    "start_time": "2022-02-24T08:27:41.146Z"
   },
   {
    "duration": 14,
    "start_time": "2022-02-24T08:27:41.177Z"
   },
   {
    "duration": 32,
    "start_time": "2022-02-24T08:27:41.193Z"
   },
   {
    "duration": 21,
    "start_time": "2022-02-24T08:27:41.227Z"
   },
   {
    "duration": 24,
    "start_time": "2022-02-24T08:27:41.250Z"
   },
   {
    "duration": 33,
    "start_time": "2022-02-24T08:27:41.275Z"
   },
   {
    "duration": 21,
    "start_time": "2022-02-24T08:27:41.310Z"
   },
   {
    "duration": 20,
    "start_time": "2022-02-24T08:27:41.333Z"
   },
   {
    "duration": 33,
    "start_time": "2022-02-24T08:27:41.355Z"
   },
   {
    "duration": 37,
    "start_time": "2022-02-24T08:27:41.390Z"
   },
   {
    "duration": 23,
    "start_time": "2022-02-24T08:27:41.429Z"
   },
   {
    "duration": 13,
    "start_time": "2022-02-24T08:27:41.454Z"
   },
   {
    "duration": 20,
    "start_time": "2022-02-24T08:27:41.469Z"
   },
   {
    "duration": 14,
    "start_time": "2022-02-24T08:27:41.491Z"
   },
   {
    "duration": 38,
    "start_time": "2022-02-24T08:27:41.507Z"
   },
   {
    "duration": 30,
    "start_time": "2022-02-24T08:27:41.547Z"
   },
   {
    "duration": 23,
    "start_time": "2022-02-24T08:27:41.579Z"
   },
   {
    "duration": 34,
    "start_time": "2022-02-24T08:27:41.603Z"
   },
   {
    "duration": 6,
    "start_time": "2022-02-24T08:29:25.531Z"
   },
   {
    "duration": 208,
    "start_time": "2022-02-24T08:29:40.900Z"
   },
   {
    "duration": -1120,
    "start_time": "2022-02-24T08:29:42.231Z"
   },
   {
    "duration": -1122,
    "start_time": "2022-02-24T08:29:42.234Z"
   },
   {
    "duration": -1123,
    "start_time": "2022-02-24T08:29:42.237Z"
   },
   {
    "duration": -1128,
    "start_time": "2022-02-24T08:29:42.243Z"
   },
   {
    "duration": -1131,
    "start_time": "2022-02-24T08:29:42.247Z"
   },
   {
    "duration": -1133,
    "start_time": "2022-02-24T08:29:42.250Z"
   },
   {
    "duration": -1135,
    "start_time": "2022-02-24T08:29:42.253Z"
   },
   {
    "duration": -1137,
    "start_time": "2022-02-24T08:29:42.256Z"
   },
   {
    "duration": -1151,
    "start_time": "2022-02-24T08:29:42.272Z"
   },
   {
    "duration": -1154,
    "start_time": "2022-02-24T08:29:42.276Z"
   },
   {
    "duration": -1158,
    "start_time": "2022-02-24T08:29:42.281Z"
   },
   {
    "duration": -1159,
    "start_time": "2022-02-24T08:29:42.283Z"
   },
   {
    "duration": -1161,
    "start_time": "2022-02-24T08:29:42.286Z"
   },
   {
    "duration": -1162,
    "start_time": "2022-02-24T08:29:42.288Z"
   },
   {
    "duration": 58,
    "start_time": "2022-02-24T08:30:27.696Z"
   },
   {
    "duration": 12,
    "start_time": "2022-02-24T08:30:27.757Z"
   },
   {
    "duration": 45,
    "start_time": "2022-02-24T08:30:27.771Z"
   },
   {
    "duration": 12,
    "start_time": "2022-02-24T08:30:27.818Z"
   },
   {
    "duration": 32,
    "start_time": "2022-02-24T08:30:27.833Z"
   },
   {
    "duration": 28,
    "start_time": "2022-02-24T08:30:27.868Z"
   },
   {
    "duration": 10,
    "start_time": "2022-02-24T08:30:27.898Z"
   },
   {
    "duration": 32,
    "start_time": "2022-02-24T08:30:27.910Z"
   },
   {
    "duration": 18,
    "start_time": "2022-02-24T08:30:27.945Z"
   },
   {
    "duration": 25,
    "start_time": "2022-02-24T08:30:27.965Z"
   },
   {
    "duration": 16,
    "start_time": "2022-02-24T08:30:27.992Z"
   },
   {
    "duration": 12,
    "start_time": "2022-02-24T08:30:28.010Z"
   },
   {
    "duration": 21,
    "start_time": "2022-02-24T08:30:28.024Z"
   },
   {
    "duration": 22,
    "start_time": "2022-02-24T08:30:28.047Z"
   },
   {
    "duration": 27,
    "start_time": "2022-02-24T08:30:28.071Z"
   },
   {
    "duration": 20,
    "start_time": "2022-02-24T08:30:28.100Z"
   },
   {
    "duration": 25,
    "start_time": "2022-02-24T08:30:28.122Z"
   },
   {
    "duration": 8,
    "start_time": "2022-02-24T08:30:28.149Z"
   },
   {
    "duration": 30,
    "start_time": "2022-02-24T08:30:28.159Z"
   },
   {
    "duration": 29,
    "start_time": "2022-02-24T08:30:28.191Z"
   },
   {
    "duration": 17,
    "start_time": "2022-02-24T08:30:28.222Z"
   },
   {
    "duration": 16,
    "start_time": "2022-02-24T08:30:28.241Z"
   },
   {
    "duration": 32,
    "start_time": "2022-02-24T08:30:28.259Z"
   },
   {
    "duration": 30,
    "start_time": "2022-02-24T08:30:28.293Z"
   },
   {
    "duration": 9,
    "start_time": "2022-02-24T08:30:28.325Z"
   },
   {
    "duration": 16,
    "start_time": "2022-02-24T08:30:28.335Z"
   },
   {
    "duration": 13,
    "start_time": "2022-02-24T08:30:28.355Z"
   },
   {
    "duration": 40,
    "start_time": "2022-02-24T08:30:28.370Z"
   },
   {
    "duration": 13,
    "start_time": "2022-02-24T08:30:28.413Z"
   },
   {
    "duration": 17,
    "start_time": "2022-02-24T08:30:28.428Z"
   },
   {
    "duration": 18,
    "start_time": "2022-02-24T08:30:28.447Z"
   },
   {
    "duration": 19,
    "start_time": "2022-02-24T08:30:28.467Z"
   },
   {
    "duration": 22,
    "start_time": "2022-02-24T08:30:28.487Z"
   },
   {
    "duration": 13,
    "start_time": "2022-02-24T08:30:28.511Z"
   },
   {
    "duration": 16,
    "start_time": "2022-02-24T08:30:28.526Z"
   },
   {
    "duration": 16,
    "start_time": "2022-02-24T08:30:28.544Z"
   },
   {
    "duration": 12,
    "start_time": "2022-02-24T08:30:28.562Z"
   },
   {
    "duration": 11,
    "start_time": "2022-02-24T08:30:28.576Z"
   },
   {
    "duration": 21,
    "start_time": "2022-02-24T08:30:28.588Z"
   },
   {
    "duration": 20,
    "start_time": "2022-02-24T08:30:28.611Z"
   },
   {
    "duration": 18,
    "start_time": "2022-02-24T08:30:28.634Z"
   },
   {
    "duration": 9,
    "start_time": "2022-02-24T08:30:28.654Z"
   },
   {
    "duration": 10,
    "start_time": "2022-02-24T08:30:28.665Z"
   },
   {
    "duration": 31,
    "start_time": "2022-02-24T08:30:28.678Z"
   },
   {
    "duration": 22,
    "start_time": "2022-02-24T08:30:28.711Z"
   },
   {
    "duration": 18,
    "start_time": "2022-02-24T08:30:28.735Z"
   },
   {
    "duration": 59,
    "start_time": "2022-02-24T08:30:28.756Z"
   },
   {
    "duration": 19,
    "start_time": "2022-02-24T08:30:28.817Z"
   },
   {
    "duration": 230,
    "start_time": "2022-02-24T08:49:06.711Z"
   },
   {
    "duration": 212,
    "start_time": "2022-02-24T08:49:30.285Z"
   },
   {
    "duration": 204,
    "start_time": "2022-02-24T08:49:47.328Z"
   },
   {
    "duration": 20,
    "start_time": "2022-02-24T08:51:40.896Z"
   },
   {
    "duration": 19,
    "start_time": "2022-02-24T08:56:14.842Z"
   },
   {
    "duration": 198,
    "start_time": "2022-02-24T09:09:49.962Z"
   },
   {
    "duration": 206,
    "start_time": "2022-02-24T09:10:09.602Z"
   },
   {
    "duration": 34,
    "start_time": "2022-02-24T09:10:39.039Z"
   },
   {
    "duration": 305,
    "start_time": "2022-02-24T09:27:09.004Z"
   },
   {
    "duration": 19,
    "start_time": "2022-02-24T09:27:39.146Z"
   },
   {
    "duration": 373,
    "start_time": "2022-02-24T09:28:34.323Z"
   },
   {
    "duration": 206,
    "start_time": "2022-02-24T09:28:53.280Z"
   },
   {
    "duration": 218,
    "start_time": "2022-02-24T09:29:00.509Z"
   },
   {
    "duration": 75,
    "start_time": "2022-02-24T09:29:22.923Z"
   },
   {
    "duration": 19,
    "start_time": "2022-02-24T09:29:29.432Z"
   },
   {
    "duration": 20,
    "start_time": "2022-02-24T09:29:55.274Z"
   },
   {
    "duration": 20,
    "start_time": "2022-02-24T09:30:09.565Z"
   },
   {
    "duration": 22,
    "start_time": "2022-02-24T09:46:53.608Z"
   },
   {
    "duration": 239,
    "start_time": "2022-02-24T09:47:30.066Z"
   },
   {
    "duration": 18,
    "start_time": "2022-02-24T09:47:49.794Z"
   },
   {
    "duration": 19,
    "start_time": "2022-02-24T09:48:01.665Z"
   },
   {
    "duration": 21,
    "start_time": "2022-02-24T09:48:48.775Z"
   },
   {
    "duration": 21,
    "start_time": "2022-02-24T09:49:07.655Z"
   },
   {
    "duration": 219,
    "start_time": "2022-02-24T10:04:32.772Z"
   },
   {
    "duration": 19,
    "start_time": "2022-02-24T10:04:42.458Z"
   },
   {
    "duration": 20,
    "start_time": "2022-02-24T10:07:22.492Z"
   },
   {
    "duration": 20,
    "start_time": "2022-02-24T10:11:37.263Z"
   },
   {
    "duration": 27,
    "start_time": "2022-02-24T10:12:15.659Z"
   },
   {
    "duration": 31,
    "start_time": "2022-02-24T10:12:40.317Z"
   },
   {
    "duration": 27,
    "start_time": "2022-02-24T10:14:05.877Z"
   },
   {
    "duration": 21,
    "start_time": "2022-02-24T10:15:45.334Z"
   },
   {
    "duration": 84,
    "start_time": "2022-02-24T10:16:42.245Z"
   },
   {
    "duration": 208,
    "start_time": "2022-02-24T10:30:47.637Z"
   },
   {
    "duration": 256,
    "start_time": "2022-02-24T10:30:50.226Z"
   },
   {
    "duration": 226,
    "start_time": "2022-02-24T10:30:53.331Z"
   },
   {
    "duration": 61,
    "start_time": "2022-02-24T10:31:11.117Z"
   },
   {
    "duration": 14,
    "start_time": "2022-02-24T10:31:11.181Z"
   },
   {
    "duration": 15,
    "start_time": "2022-02-24T10:31:11.208Z"
   },
   {
    "duration": 8,
    "start_time": "2022-02-24T10:31:11.226Z"
   },
   {
    "duration": 18,
    "start_time": "2022-02-24T10:31:11.236Z"
   },
   {
    "duration": 11,
    "start_time": "2022-02-24T10:31:11.256Z"
   },
   {
    "duration": 43,
    "start_time": "2022-02-24T10:31:11.269Z"
   },
   {
    "duration": 26,
    "start_time": "2022-02-24T10:31:11.315Z"
   },
   {
    "duration": 7,
    "start_time": "2022-02-24T10:31:11.346Z"
   },
   {
    "duration": 22,
    "start_time": "2022-02-24T10:31:11.356Z"
   },
   {
    "duration": 29,
    "start_time": "2022-02-24T10:31:11.380Z"
   },
   {
    "duration": 8,
    "start_time": "2022-02-24T10:31:11.411Z"
   },
   {
    "duration": 25,
    "start_time": "2022-02-24T10:31:11.421Z"
   },
   {
    "duration": 7,
    "start_time": "2022-02-24T10:31:11.449Z"
   },
   {
    "duration": 41,
    "start_time": "2022-02-24T10:31:11.458Z"
   },
   {
    "duration": 11,
    "start_time": "2022-02-24T10:31:11.501Z"
   },
   {
    "duration": 18,
    "start_time": "2022-02-24T10:31:11.514Z"
   },
   {
    "duration": 10,
    "start_time": "2022-02-24T10:31:11.534Z"
   },
   {
    "duration": 15,
    "start_time": "2022-02-24T10:31:11.546Z"
   },
   {
    "duration": 28,
    "start_time": "2022-02-24T10:31:11.564Z"
   },
   {
    "duration": 30,
    "start_time": "2022-02-24T10:31:11.594Z"
   },
   {
    "duration": 16,
    "start_time": "2022-02-24T10:31:11.626Z"
   },
   {
    "duration": 27,
    "start_time": "2022-02-24T10:31:11.644Z"
   },
   {
    "duration": 39,
    "start_time": "2022-02-24T10:31:11.674Z"
   },
   {
    "duration": 9,
    "start_time": "2022-02-24T10:31:11.715Z"
   },
   {
    "duration": 26,
    "start_time": "2022-02-24T10:31:11.726Z"
   },
   {
    "duration": 25,
    "start_time": "2022-02-24T10:31:11.757Z"
   },
   {
    "duration": 22,
    "start_time": "2022-02-24T10:31:11.784Z"
   },
   {
    "duration": 33,
    "start_time": "2022-02-24T10:31:11.809Z"
   },
   {
    "duration": 27,
    "start_time": "2022-02-24T10:31:11.845Z"
   },
   {
    "duration": 25,
    "start_time": "2022-02-24T10:31:11.875Z"
   },
   {
    "duration": 21,
    "start_time": "2022-02-24T10:31:11.902Z"
   },
   {
    "duration": 22,
    "start_time": "2022-02-24T10:31:11.925Z"
   },
   {
    "duration": 16,
    "start_time": "2022-02-24T10:31:11.949Z"
   },
   {
    "duration": 17,
    "start_time": "2022-02-24T10:31:11.967Z"
   },
   {
    "duration": 24,
    "start_time": "2022-02-24T10:31:11.986Z"
   },
   {
    "duration": 22,
    "start_time": "2022-02-24T10:31:12.012Z"
   },
   {
    "duration": 22,
    "start_time": "2022-02-24T10:31:12.036Z"
   },
   {
    "duration": 28,
    "start_time": "2022-02-24T10:31:12.060Z"
   },
   {
    "duration": 51,
    "start_time": "2022-02-24T10:31:12.091Z"
   },
   {
    "duration": 29,
    "start_time": "2022-02-24T10:31:12.144Z"
   },
   {
    "duration": 8,
    "start_time": "2022-02-24T10:31:12.176Z"
   },
   {
    "duration": 19,
    "start_time": "2022-02-24T10:31:12.186Z"
   },
   {
    "duration": 24,
    "start_time": "2022-02-24T10:31:12.207Z"
   },
   {
    "duration": 35,
    "start_time": "2022-02-24T10:31:12.233Z"
   },
   {
    "duration": 17,
    "start_time": "2022-02-24T10:31:12.270Z"
   },
   {
    "duration": 38,
    "start_time": "2022-02-24T10:31:12.289Z"
   },
   {
    "duration": 18,
    "start_time": "2022-02-24T10:31:12.330Z"
   },
   {
    "duration": 21,
    "start_time": "2022-02-24T10:31:12.349Z"
   },
   {
    "duration": 41,
    "start_time": "2022-02-24T10:31:12.372Z"
   },
   {
    "duration": 217,
    "start_time": "2022-02-24T10:32:39.543Z"
   },
   {
    "duration": -1224,
    "start_time": "2022-02-24T10:32:40.987Z"
   },
   {
    "duration": -1228,
    "start_time": "2022-02-24T10:32:40.992Z"
   },
   {
    "duration": -1231,
    "start_time": "2022-02-24T10:32:40.997Z"
   },
   {
    "duration": -1235,
    "start_time": "2022-02-24T10:32:41.002Z"
   },
   {
    "duration": -1238,
    "start_time": "2022-02-24T10:32:41.006Z"
   },
   {
    "duration": -1242,
    "start_time": "2022-02-24T10:32:41.011Z"
   },
   {
    "duration": -1244,
    "start_time": "2022-02-24T10:32:41.014Z"
   },
   {
    "duration": -1248,
    "start_time": "2022-02-24T10:32:41.019Z"
   },
   {
    "duration": -1250,
    "start_time": "2022-02-24T10:32:41.023Z"
   },
   {
    "duration": -1255,
    "start_time": "2022-02-24T10:32:41.029Z"
   },
   {
    "duration": -1258,
    "start_time": "2022-02-24T10:32:41.033Z"
   },
   {
    "duration": -1261,
    "start_time": "2022-02-24T10:32:41.037Z"
   },
   {
    "duration": -1266,
    "start_time": "2022-02-24T10:32:41.043Z"
   },
   {
    "duration": -1269,
    "start_time": "2022-02-24T10:32:41.047Z"
   },
   {
    "duration": -1273,
    "start_time": "2022-02-24T10:32:41.052Z"
   },
   {
    "duration": -1277,
    "start_time": "2022-02-24T10:32:41.057Z"
   },
   {
    "duration": 60,
    "start_time": "2022-02-24T10:32:51.466Z"
   },
   {
    "duration": 12,
    "start_time": "2022-02-24T10:32:51.528Z"
   },
   {
    "duration": 13,
    "start_time": "2022-02-24T10:32:51.542Z"
   },
   {
    "duration": 17,
    "start_time": "2022-02-24T10:32:51.557Z"
   },
   {
    "duration": 38,
    "start_time": "2022-02-24T10:32:51.576Z"
   },
   {
    "duration": 18,
    "start_time": "2022-02-24T10:32:51.616Z"
   },
   {
    "duration": 7,
    "start_time": "2022-02-24T10:32:51.636Z"
   },
   {
    "duration": 21,
    "start_time": "2022-02-24T10:32:51.646Z"
   },
   {
    "duration": 8,
    "start_time": "2022-02-24T10:32:51.670Z"
   },
   {
    "duration": 41,
    "start_time": "2022-02-24T10:32:51.680Z"
   },
   {
    "duration": 10,
    "start_time": "2022-02-24T10:32:51.723Z"
   },
   {
    "duration": 7,
    "start_time": "2022-02-24T10:32:51.735Z"
   },
   {
    "duration": 17,
    "start_time": "2022-02-24T10:32:51.744Z"
   },
   {
    "duration": 8,
    "start_time": "2022-02-24T10:32:51.763Z"
   },
   {
    "duration": 42,
    "start_time": "2022-02-24T10:32:51.773Z"
   },
   {
    "duration": 9,
    "start_time": "2022-02-24T10:32:51.816Z"
   },
   {
    "duration": 14,
    "start_time": "2022-02-24T10:32:51.827Z"
   },
   {
    "duration": 6,
    "start_time": "2022-02-24T10:32:51.843Z"
   },
   {
    "duration": 12,
    "start_time": "2022-02-24T10:32:51.850Z"
   },
   {
    "duration": 45,
    "start_time": "2022-02-24T10:32:51.864Z"
   },
   {
    "duration": 17,
    "start_time": "2022-02-24T10:32:51.911Z"
   },
   {
    "duration": 15,
    "start_time": "2022-02-24T10:32:51.930Z"
   },
   {
    "duration": 24,
    "start_time": "2022-02-24T10:32:51.948Z"
   },
   {
    "duration": 39,
    "start_time": "2022-02-24T10:32:51.975Z"
   },
   {
    "duration": 8,
    "start_time": "2022-02-24T10:32:52.016Z"
   },
   {
    "duration": 18,
    "start_time": "2022-02-24T10:32:52.026Z"
   },
   {
    "duration": 29,
    "start_time": "2022-02-24T10:32:52.047Z"
   },
   {
    "duration": 14,
    "start_time": "2022-02-24T10:32:52.079Z"
   },
   {
    "duration": 24,
    "start_time": "2022-02-24T10:32:52.095Z"
   },
   {
    "duration": 11,
    "start_time": "2022-02-24T10:32:52.121Z"
   },
   {
    "duration": 11,
    "start_time": "2022-02-24T10:32:52.134Z"
   },
   {
    "duration": 10,
    "start_time": "2022-02-24T10:32:52.148Z"
   },
   {
    "duration": 10,
    "start_time": "2022-02-24T10:32:52.160Z"
   },
   {
    "duration": 44,
    "start_time": "2022-02-24T10:32:52.172Z"
   },
   {
    "duration": 14,
    "start_time": "2022-02-24T10:32:52.218Z"
   },
   {
    "duration": 15,
    "start_time": "2022-02-24T10:32:52.234Z"
   },
   {
    "duration": 9,
    "start_time": "2022-02-24T10:32:52.251Z"
   },
   {
    "duration": 8,
    "start_time": "2022-02-24T10:32:52.262Z"
   },
   {
    "duration": 10,
    "start_time": "2022-02-24T10:32:52.271Z"
   },
   {
    "duration": 29,
    "start_time": "2022-02-24T10:32:52.308Z"
   },
   {
    "duration": 20,
    "start_time": "2022-02-24T10:32:52.339Z"
   },
   {
    "duration": 11,
    "start_time": "2022-02-24T10:32:52.362Z"
   },
   {
    "duration": 10,
    "start_time": "2022-02-24T10:32:52.376Z"
   },
   {
    "duration": 21,
    "start_time": "2022-02-24T10:32:52.388Z"
   },
   {
    "duration": 33,
    "start_time": "2022-02-24T10:32:52.411Z"
   },
   {
    "duration": 24,
    "start_time": "2022-02-24T10:32:52.447Z"
   },
   {
    "duration": 22,
    "start_time": "2022-02-24T10:32:52.472Z"
   },
   {
    "duration": 19,
    "start_time": "2022-02-24T10:32:52.508Z"
   },
   {
    "duration": 19,
    "start_time": "2022-02-24T10:32:52.528Z"
   },
   {
    "duration": 22,
    "start_time": "2022-02-24T10:32:52.549Z"
   },
   {
    "duration": 221,
    "start_time": "2022-02-24T10:35:40.552Z"
   },
   {
    "duration": 677,
    "start_time": "2022-02-24T10:36:04.250Z"
   },
   {
    "duration": 15,
    "start_time": "2022-02-24T10:36:04.929Z"
   },
   {
    "duration": 12,
    "start_time": "2022-02-24T10:36:04.947Z"
   },
   {
    "duration": 7,
    "start_time": "2022-02-24T10:36:04.962Z"
   },
   {
    "duration": 49,
    "start_time": "2022-02-24T10:36:04.971Z"
   },
   {
    "duration": 5,
    "start_time": "2022-02-24T10:36:05.022Z"
   },
   {
    "duration": 7,
    "start_time": "2022-02-24T10:36:05.029Z"
   },
   {
    "duration": 16,
    "start_time": "2022-02-24T10:36:05.039Z"
   },
   {
    "duration": 7,
    "start_time": "2022-02-24T10:36:05.058Z"
   },
   {
    "duration": 47,
    "start_time": "2022-02-24T10:36:05.067Z"
   },
   {
    "duration": 8,
    "start_time": "2022-02-24T10:36:05.117Z"
   },
   {
    "duration": 7,
    "start_time": "2022-02-24T10:36:05.127Z"
   },
   {
    "duration": 17,
    "start_time": "2022-02-24T10:36:05.136Z"
   },
   {
    "duration": 11,
    "start_time": "2022-02-24T10:36:05.155Z"
   },
   {
    "duration": 41,
    "start_time": "2022-02-24T10:36:05.168Z"
   },
   {
    "duration": 6,
    "start_time": "2022-02-24T10:36:05.211Z"
   },
   {
    "duration": 20,
    "start_time": "2022-02-24T10:36:05.219Z"
   },
   {
    "duration": 7,
    "start_time": "2022-02-24T10:36:05.240Z"
   },
   {
    "duration": 19,
    "start_time": "2022-02-24T10:36:05.249Z"
   },
   {
    "duration": 38,
    "start_time": "2022-02-24T10:36:05.270Z"
   },
   {
    "duration": 16,
    "start_time": "2022-02-24T10:36:05.311Z"
   },
   {
    "duration": 17,
    "start_time": "2022-02-24T10:36:05.329Z"
   },
   {
    "duration": 23,
    "start_time": "2022-02-24T10:36:05.349Z"
   },
   {
    "duration": 47,
    "start_time": "2022-02-24T10:36:05.374Z"
   },
   {
    "duration": 8,
    "start_time": "2022-02-24T10:36:05.423Z"
   },
   {
    "duration": 23,
    "start_time": "2022-02-24T10:36:05.433Z"
   },
   {
    "duration": 22,
    "start_time": "2022-02-24T10:36:05.458Z"
   },
   {
    "duration": 14,
    "start_time": "2022-02-24T10:36:05.482Z"
   },
   {
    "duration": 24,
    "start_time": "2022-02-24T10:36:05.498Z"
   },
   {
    "duration": 20,
    "start_time": "2022-02-24T10:36:05.524Z"
   },
   {
    "duration": 17,
    "start_time": "2022-02-24T10:36:05.545Z"
   },
   {
    "duration": 13,
    "start_time": "2022-02-24T10:36:05.564Z"
   },
   {
    "duration": 16,
    "start_time": "2022-02-24T10:36:05.579Z"
   },
   {
    "duration": 19,
    "start_time": "2022-02-24T10:36:05.597Z"
   },
   {
    "duration": 15,
    "start_time": "2022-02-24T10:36:05.619Z"
   },
   {
    "duration": 20,
    "start_time": "2022-02-24T10:36:05.636Z"
   },
   {
    "duration": 28,
    "start_time": "2022-02-24T10:36:05.658Z"
   },
   {
    "duration": 13,
    "start_time": "2022-02-24T10:36:05.688Z"
   },
   {
    "duration": 19,
    "start_time": "2022-02-24T10:36:05.703Z"
   },
   {
    "duration": 53,
    "start_time": "2022-02-24T10:36:05.725Z"
   },
   {
    "duration": 29,
    "start_time": "2022-02-24T10:36:05.780Z"
   },
   {
    "duration": 8,
    "start_time": "2022-02-24T10:36:05.811Z"
   },
   {
    "duration": 10,
    "start_time": "2022-02-24T10:36:05.822Z"
   },
   {
    "duration": 22,
    "start_time": "2022-02-24T10:36:05.834Z"
   },
   {
    "duration": 28,
    "start_time": "2022-02-24T10:36:05.859Z"
   },
   {
    "duration": 19,
    "start_time": "2022-02-24T10:36:05.889Z"
   },
   {
    "duration": 23,
    "start_time": "2022-02-24T10:36:05.910Z"
   },
   {
    "duration": 18,
    "start_time": "2022-02-24T10:36:05.936Z"
   },
   {
    "duration": 53,
    "start_time": "2022-02-24T10:36:05.956Z"
   },
   {
    "duration": 27,
    "start_time": "2022-02-24T10:36:06.011Z"
   },
   {
    "duration": 288,
    "start_time": "2022-02-24T11:03:01.431Z"
   },
   {
    "duration": 239,
    "start_time": "2022-02-24T11:03:12.198Z"
   },
   {
    "duration": 219,
    "start_time": "2022-02-24T11:19:44.169Z"
   },
   {
    "duration": 15,
    "start_time": "2022-02-24T11:20:12.442Z"
   },
   {
    "duration": 12,
    "start_time": "2022-02-24T11:20:15.491Z"
   },
   {
    "duration": 69,
    "start_time": "2022-02-24T11:30:54.293Z"
   },
   {
    "duration": 12,
    "start_time": "2022-02-24T11:30:54.364Z"
   },
   {
    "duration": 35,
    "start_time": "2022-02-24T11:30:54.377Z"
   },
   {
    "duration": 17,
    "start_time": "2022-02-24T11:30:54.414Z"
   },
   {
    "duration": 29,
    "start_time": "2022-02-24T11:30:54.433Z"
   },
   {
    "duration": 17,
    "start_time": "2022-02-24T11:30:54.464Z"
   },
   {
    "duration": 18,
    "start_time": "2022-02-24T11:30:54.483Z"
   },
   {
    "duration": 29,
    "start_time": "2022-02-24T11:30:54.503Z"
   },
   {
    "duration": 14,
    "start_time": "2022-02-24T11:30:54.535Z"
   },
   {
    "duration": 28,
    "start_time": "2022-02-24T11:30:54.551Z"
   },
   {
    "duration": 13,
    "start_time": "2022-02-24T11:30:54.581Z"
   },
   {
    "duration": 22,
    "start_time": "2022-02-24T11:30:54.596Z"
   },
   {
    "duration": 37,
    "start_time": "2022-02-24T11:30:54.620Z"
   },
   {
    "duration": 15,
    "start_time": "2022-02-24T11:30:54.659Z"
   },
   {
    "duration": 31,
    "start_time": "2022-02-24T11:30:54.676Z"
   },
   {
    "duration": 30,
    "start_time": "2022-02-24T11:30:54.709Z"
   },
   {
    "duration": 23,
    "start_time": "2022-02-24T11:30:54.741Z"
   },
   {
    "duration": 9,
    "start_time": "2022-02-24T11:30:54.766Z"
   },
   {
    "duration": 15,
    "start_time": "2022-02-24T11:30:54.777Z"
   },
   {
    "duration": 27,
    "start_time": "2022-02-24T11:30:54.793Z"
   },
   {
    "duration": 20,
    "start_time": "2022-02-24T11:30:54.822Z"
   },
   {
    "duration": 13,
    "start_time": "2022-02-24T11:30:54.844Z"
   },
   {
    "duration": 36,
    "start_time": "2022-02-24T11:30:54.861Z"
   },
   {
    "duration": 22,
    "start_time": "2022-02-24T11:30:54.900Z"
   },
   {
    "duration": 9,
    "start_time": "2022-02-24T11:30:54.924Z"
   },
   {
    "duration": 18,
    "start_time": "2022-02-24T11:30:54.936Z"
   },
   {
    "duration": 13,
    "start_time": "2022-02-24T11:30:54.956Z"
   },
   {
    "duration": 38,
    "start_time": "2022-02-24T11:30:54.971Z"
   },
   {
    "duration": 24,
    "start_time": "2022-02-24T11:30:55.011Z"
   },
   {
    "duration": 18,
    "start_time": "2022-02-24T11:30:55.037Z"
   },
   {
    "duration": 27,
    "start_time": "2022-02-24T11:30:55.057Z"
   },
   {
    "duration": 14,
    "start_time": "2022-02-24T11:30:55.086Z"
   },
   {
    "duration": 18,
    "start_time": "2022-02-24T11:30:55.102Z"
   },
   {
    "duration": 16,
    "start_time": "2022-02-24T11:30:55.123Z"
   },
   {
    "duration": 19,
    "start_time": "2022-02-24T11:30:55.141Z"
   },
   {
    "duration": 25,
    "start_time": "2022-02-24T11:30:55.162Z"
   },
   {
    "duration": 15,
    "start_time": "2022-02-24T11:30:55.189Z"
   },
   {
    "duration": 17,
    "start_time": "2022-02-24T11:30:55.206Z"
   },
   {
    "duration": 11,
    "start_time": "2022-02-24T11:30:55.225Z"
   },
   {
    "duration": 31,
    "start_time": "2022-02-24T11:30:55.239Z"
   },
   {
    "duration": 35,
    "start_time": "2022-02-24T11:30:55.273Z"
   },
   {
    "duration": 9,
    "start_time": "2022-02-24T11:30:55.310Z"
   },
   {
    "duration": 10,
    "start_time": "2022-02-24T11:30:55.321Z"
   },
   {
    "duration": 23,
    "start_time": "2022-02-24T11:30:55.333Z"
   },
   {
    "duration": 38,
    "start_time": "2022-02-24T11:30:55.358Z"
   },
   {
    "duration": 21,
    "start_time": "2022-02-24T11:30:55.398Z"
   },
   {
    "duration": 22,
    "start_time": "2022-02-24T11:30:55.420Z"
   },
   {
    "duration": 18,
    "start_time": "2022-02-24T11:30:55.444Z"
   },
   {
    "duration": 45,
    "start_time": "2022-02-24T11:30:55.464Z"
   },
   {
    "duration": 19,
    "start_time": "2022-02-24T11:30:55.511Z"
   },
   {
    "duration": 21,
    "start_time": "2022-02-24T11:30:55.532Z"
   },
   {
    "duration": 19,
    "start_time": "2022-02-24T11:31:52.851Z"
   },
   {
    "duration": 18,
    "start_time": "2022-02-24T11:32:17.309Z"
   },
   {
    "duration": 10,
    "start_time": "2022-02-24T11:32:34.176Z"
   },
   {
    "duration": 20,
    "start_time": "2022-02-24T11:32:51.353Z"
   },
   {
    "duration": 17,
    "start_time": "2022-02-24T11:33:43.774Z"
   },
   {
    "duration": 22,
    "start_time": "2022-02-24T11:34:05.806Z"
   },
   {
    "duration": 30,
    "start_time": "2022-02-24T11:34:14.941Z"
   },
   {
    "duration": 19,
    "start_time": "2022-02-24T11:34:27.086Z"
   },
   {
    "duration": 20,
    "start_time": "2022-02-24T11:34:34.653Z"
   },
   {
    "duration": 20,
    "start_time": "2022-02-24T11:34:46.445Z"
   },
   {
    "duration": 59,
    "start_time": "2022-02-24T11:34:57.948Z"
   },
   {
    "duration": 12,
    "start_time": "2022-02-24T11:34:58.010Z"
   },
   {
    "duration": 12,
    "start_time": "2022-02-24T11:34:58.025Z"
   },
   {
    "duration": 9,
    "start_time": "2022-02-24T11:34:58.039Z"
   },
   {
    "duration": 26,
    "start_time": "2022-02-24T11:34:58.050Z"
   },
   {
    "duration": 6,
    "start_time": "2022-02-24T11:34:58.108Z"
   },
   {
    "duration": 6,
    "start_time": "2022-02-24T11:34:58.115Z"
   },
   {
    "duration": 18,
    "start_time": "2022-02-24T11:34:58.124Z"
   },
   {
    "duration": 6,
    "start_time": "2022-02-24T11:34:58.144Z"
   },
   {
    "duration": 20,
    "start_time": "2022-02-24T11:34:58.151Z"
   },
   {
    "duration": 6,
    "start_time": "2022-02-24T11:34:58.208Z"
   },
   {
    "duration": 14,
    "start_time": "2022-02-24T11:34:58.216Z"
   },
   {
    "duration": 18,
    "start_time": "2022-02-24T11:34:58.232Z"
   },
   {
    "duration": 10,
    "start_time": "2022-02-24T11:34:58.252Z"
   },
   {
    "duration": 19,
    "start_time": "2022-02-24T11:34:58.263Z"
   },
   {
    "duration": 31,
    "start_time": "2022-02-24T11:34:58.284Z"
   },
   {
    "duration": 16,
    "start_time": "2022-02-24T11:34:58.317Z"
   },
   {
    "duration": 5,
    "start_time": "2022-02-24T11:34:58.335Z"
   },
   {
    "duration": 10,
    "start_time": "2022-02-24T11:34:58.342Z"
   },
   {
    "duration": 25,
    "start_time": "2022-02-24T11:34:58.354Z"
   },
   {
    "duration": 38,
    "start_time": "2022-02-24T11:34:58.380Z"
   },
   {
    "duration": 12,
    "start_time": "2022-02-24T11:34:58.420Z"
   },
   {
    "duration": 22,
    "start_time": "2022-02-24T11:34:58.436Z"
   },
   {
    "duration": 18,
    "start_time": "2022-02-24T11:34:58.461Z"
   },
   {
    "duration": 34,
    "start_time": "2022-02-24T11:34:58.481Z"
   },
   {
    "duration": 14,
    "start_time": "2022-02-24T11:34:58.517Z"
   },
   {
    "duration": 14,
    "start_time": "2022-02-24T11:34:58.533Z"
   },
   {
    "duration": 14,
    "start_time": "2022-02-24T11:34:58.549Z"
   },
   {
    "duration": 18,
    "start_time": "2022-02-24T11:34:58.565Z"
   },
   {
    "duration": 30,
    "start_time": "2022-02-24T11:34:58.585Z"
   },
   {
    "duration": 12,
    "start_time": "2022-02-24T11:34:58.617Z"
   },
   {
    "duration": 20,
    "start_time": "2022-02-24T11:34:58.631Z"
   },
   {
    "duration": 14,
    "start_time": "2022-02-24T11:34:58.653Z"
   },
   {
    "duration": 14,
    "start_time": "2022-02-24T11:34:58.669Z"
   },
   {
    "duration": 25,
    "start_time": "2022-02-24T11:34:58.685Z"
   },
   {
    "duration": 14,
    "start_time": "2022-02-24T11:34:58.712Z"
   },
   {
    "duration": 11,
    "start_time": "2022-02-24T11:34:58.728Z"
   },
   {
    "duration": 8,
    "start_time": "2022-02-24T11:34:58.741Z"
   },
   {
    "duration": 10,
    "start_time": "2022-02-24T11:34:58.751Z"
   },
   {
    "duration": 23,
    "start_time": "2022-02-24T11:34:58.763Z"
   },
   {
    "duration": 35,
    "start_time": "2022-02-24T11:34:58.788Z"
   },
   {
    "duration": 8,
    "start_time": "2022-02-24T11:34:58.825Z"
   },
   {
    "duration": 7,
    "start_time": "2022-02-24T11:34:58.835Z"
   },
   {
    "duration": 13,
    "start_time": "2022-02-24T11:34:58.844Z"
   },
   {
    "duration": 24,
    "start_time": "2022-02-24T11:34:58.859Z"
   },
   {
    "duration": 17,
    "start_time": "2022-02-24T11:34:58.907Z"
   },
   {
    "duration": 22,
    "start_time": "2022-02-24T11:34:58.925Z"
   },
   {
    "duration": 17,
    "start_time": "2022-02-24T11:34:58.949Z"
   },
   {
    "duration": 51,
    "start_time": "2022-02-24T11:34:58.968Z"
   },
   {
    "duration": 21,
    "start_time": "2022-02-24T11:34:59.021Z"
   },
   {
    "duration": 20,
    "start_time": "2022-02-24T11:34:59.044Z"
   },
   {
    "duration": 6,
    "start_time": "2022-02-24T11:35:25.724Z"
   },
   {
    "duration": 6,
    "start_time": "2022-02-24T11:35:40.777Z"
   },
   {
    "duration": 14,
    "start_time": "2022-02-24T11:36:08.660Z"
   },
   {
    "duration": 22,
    "start_time": "2022-02-24T11:40:04.851Z"
   },
   {
    "duration": 208,
    "start_time": "2022-02-24T11:41:14.367Z"
   },
   {
    "duration": 20,
    "start_time": "2022-02-24T11:41:24.420Z"
   },
   {
    "duration": 18,
    "start_time": "2022-02-24T11:41:50.345Z"
   },
   {
    "duration": 20,
    "start_time": "2022-02-24T11:42:13.026Z"
   },
   {
    "duration": 274,
    "start_time": "2022-02-24T14:00:21.422Z"
   },
   {
    "duration": 18,
    "start_time": "2022-02-24T14:00:37.123Z"
   },
   {
    "duration": 22,
    "start_time": "2022-02-24T14:39:20.156Z"
   },
   {
    "duration": 58,
    "start_time": "2022-02-24T14:39:26.760Z"
   },
   {
    "duration": 18,
    "start_time": "2022-02-24T14:39:26.821Z"
   },
   {
    "duration": 16,
    "start_time": "2022-02-24T14:39:26.841Z"
   },
   {
    "duration": 11,
    "start_time": "2022-02-24T14:39:26.860Z"
   },
   {
    "duration": 58,
    "start_time": "2022-02-24T14:39:26.873Z"
   },
   {
    "duration": 10,
    "start_time": "2022-02-24T14:39:26.934Z"
   },
   {
    "duration": 8,
    "start_time": "2022-02-24T14:39:26.946Z"
   },
   {
    "duration": 20,
    "start_time": "2022-02-24T14:39:26.957Z"
   },
   {
    "duration": 5,
    "start_time": "2022-02-24T14:39:27.007Z"
   },
   {
    "duration": 24,
    "start_time": "2022-02-24T14:39:27.014Z"
   },
   {
    "duration": 8,
    "start_time": "2022-02-24T14:39:27.040Z"
   },
   {
    "duration": 5,
    "start_time": "2022-02-24T14:39:27.051Z"
   },
   {
    "duration": 20,
    "start_time": "2022-02-24T14:39:27.058Z"
   },
   {
    "duration": 29,
    "start_time": "2022-02-24T14:39:27.080Z"
   },
   {
    "duration": 15,
    "start_time": "2022-02-24T14:39:27.111Z"
   },
   {
    "duration": 9,
    "start_time": "2022-02-24T14:39:27.128Z"
   },
   {
    "duration": 14,
    "start_time": "2022-02-24T14:39:27.139Z"
   },
   {
    "duration": 4,
    "start_time": "2022-02-24T14:39:27.155Z"
   },
   {
    "duration": 12,
    "start_time": "2022-02-24T14:39:27.161Z"
   },
   {
    "duration": 54,
    "start_time": "2022-02-24T14:39:27.175Z"
   },
   {
    "duration": 18,
    "start_time": "2022-02-24T14:39:27.231Z"
   },
   {
    "duration": 14,
    "start_time": "2022-02-24T14:39:27.251Z"
   },
   {
    "duration": 46,
    "start_time": "2022-02-24T14:39:27.270Z"
   },
   {
    "duration": 18,
    "start_time": "2022-02-24T14:39:27.319Z"
   },
   {
    "duration": 8,
    "start_time": "2022-02-24T14:39:27.339Z"
   },
   {
    "duration": 22,
    "start_time": "2022-02-24T14:39:27.349Z"
   },
   {
    "duration": 15,
    "start_time": "2022-02-24T14:39:27.373Z"
   },
   {
    "duration": 11,
    "start_time": "2022-02-24T14:39:27.408Z"
   },
   {
    "duration": 24,
    "start_time": "2022-02-24T14:39:27.421Z"
   },
   {
    "duration": 10,
    "start_time": "2022-02-24T14:39:27.447Z"
   },
   {
    "duration": 17,
    "start_time": "2022-02-24T14:39:27.459Z"
   },
   {
    "duration": 31,
    "start_time": "2022-02-24T14:39:27.478Z"
   },
   {
    "duration": 17,
    "start_time": "2022-02-24T14:39:27.511Z"
   },
   {
    "duration": 13,
    "start_time": "2022-02-24T14:39:27.530Z"
   },
   {
    "duration": 14,
    "start_time": "2022-02-24T14:39:27.546Z"
   },
   {
    "duration": 17,
    "start_time": "2022-02-24T14:39:27.562Z"
   },
   {
    "duration": 35,
    "start_time": "2022-02-24T14:39:27.581Z"
   },
   {
    "duration": 6,
    "start_time": "2022-02-24T14:39:27.618Z"
   },
   {
    "duration": 18,
    "start_time": "2022-02-24T14:39:27.626Z"
   },
   {
    "duration": 34,
    "start_time": "2022-02-24T14:39:27.647Z"
   },
   {
    "duration": 31,
    "start_time": "2022-02-24T14:39:27.684Z"
   },
   {
    "duration": 14,
    "start_time": "2022-02-24T14:39:27.718Z"
   },
   {
    "duration": 8,
    "start_time": "2022-02-24T14:39:27.735Z"
   },
   {
    "duration": 10,
    "start_time": "2022-02-24T14:39:27.746Z"
   },
   {
    "duration": 52,
    "start_time": "2022-02-24T14:39:27.758Z"
   },
   {
    "duration": 18,
    "start_time": "2022-02-24T14:39:27.812Z"
   },
   {
    "duration": 20,
    "start_time": "2022-02-24T14:39:27.832Z"
   },
   {
    "duration": 19,
    "start_time": "2022-02-24T14:39:27.854Z"
   },
   {
    "duration": 51,
    "start_time": "2022-02-24T14:39:27.875Z"
   },
   {
    "duration": 21,
    "start_time": "2022-02-24T14:39:27.928Z"
   },
   {
    "duration": 20,
    "start_time": "2022-02-24T14:39:27.950Z"
   },
   {
    "duration": 316,
    "start_time": "2022-02-24T16:50:06.442Z"
   },
   {
    "duration": 18,
    "start_time": "2022-02-24T16:50:15.373Z"
   },
   {
    "duration": 219,
    "start_time": "2022-02-24T16:50:24.518Z"
   },
   {
    "duration": 18,
    "start_time": "2022-02-24T16:50:43.888Z"
   },
   {
    "duration": 21,
    "start_time": "2022-02-24T17:32:15.210Z"
   },
   {
    "duration": 223,
    "start_time": "2022-02-24T17:34:17.262Z"
   },
   {
    "duration": 262,
    "start_time": "2022-02-24T17:34:36.998Z"
   },
   {
    "duration": 23,
    "start_time": "2022-02-24T17:34:48.413Z"
   },
   {
    "duration": 192,
    "start_time": "2022-02-24T17:39:20.077Z"
   },
   {
    "duration": 237,
    "start_time": "2022-02-24T17:40:00.187Z"
   },
   {
    "duration": 235,
    "start_time": "2022-02-24T17:40:58.160Z"
   },
   {
    "duration": 268,
    "start_time": "2022-02-24T17:41:19.690Z"
   },
   {
    "duration": 229,
    "start_time": "2022-02-24T17:48:43.792Z"
   },
   {
    "duration": 62,
    "start_time": "2022-02-24T17:48:55.729Z"
   },
   {
    "duration": 12,
    "start_time": "2022-02-24T17:48:55.792Z"
   },
   {
    "duration": 11,
    "start_time": "2022-02-24T17:48:55.806Z"
   },
   {
    "duration": 8,
    "start_time": "2022-02-24T17:48:55.819Z"
   },
   {
    "duration": 18,
    "start_time": "2022-02-24T17:48:55.829Z"
   },
   {
    "duration": 8,
    "start_time": "2022-02-24T17:48:55.849Z"
   },
   {
    "duration": 11,
    "start_time": "2022-02-24T17:48:55.859Z"
   },
   {
    "duration": 46,
    "start_time": "2022-02-24T17:48:55.873Z"
   },
   {
    "duration": 17,
    "start_time": "2022-02-24T17:48:55.921Z"
   },
   {
    "duration": 31,
    "start_time": "2022-02-24T17:48:55.940Z"
   },
   {
    "duration": 16,
    "start_time": "2022-02-24T17:48:55.973Z"
   },
   {
    "duration": 16,
    "start_time": "2022-02-24T17:48:55.991Z"
   },
   {
    "duration": 41,
    "start_time": "2022-02-24T17:48:56.009Z"
   },
   {
    "duration": 33,
    "start_time": "2022-02-24T17:48:56.052Z"
   },
   {
    "duration": 33,
    "start_time": "2022-02-24T17:48:56.087Z"
   },
   {
    "duration": 13,
    "start_time": "2022-02-24T17:48:56.122Z"
   },
   {
    "duration": 12,
    "start_time": "2022-02-24T17:48:56.137Z"
   },
   {
    "duration": 4,
    "start_time": "2022-02-24T17:48:56.151Z"
   },
   {
    "duration": 12,
    "start_time": "2022-02-24T17:48:56.156Z"
   },
   {
    "duration": 44,
    "start_time": "2022-02-24T17:48:56.170Z"
   },
   {
    "duration": 17,
    "start_time": "2022-02-24T17:48:56.216Z"
   },
   {
    "duration": 13,
    "start_time": "2022-02-24T17:48:56.234Z"
   },
   {
    "duration": 21,
    "start_time": "2022-02-24T17:48:56.252Z"
   },
   {
    "duration": 47,
    "start_time": "2022-02-24T17:48:56.276Z"
   },
   {
    "duration": 8,
    "start_time": "2022-02-24T17:48:56.325Z"
   },
   {
    "duration": 17,
    "start_time": "2022-02-24T17:48:56.335Z"
   },
   {
    "duration": 14,
    "start_time": "2022-02-24T17:48:56.354Z"
   },
   {
    "duration": 13,
    "start_time": "2022-02-24T17:48:56.370Z"
   },
   {
    "duration": 36,
    "start_time": "2022-02-24T17:48:56.385Z"
   },
   {
    "duration": 36,
    "start_time": "2022-02-24T17:48:56.423Z"
   },
   {
    "duration": 30,
    "start_time": "2022-02-24T17:48:56.461Z"
   },
   {
    "duration": 36,
    "start_time": "2022-02-24T17:48:56.494Z"
   },
   {
    "duration": 36,
    "start_time": "2022-02-24T17:48:56.532Z"
   },
   {
    "duration": 41,
    "start_time": "2022-02-24T17:48:56.570Z"
   },
   {
    "duration": 33,
    "start_time": "2022-02-24T17:48:56.613Z"
   },
   {
    "duration": 38,
    "start_time": "2022-02-24T17:48:56.648Z"
   },
   {
    "duration": 47,
    "start_time": "2022-02-24T17:48:56.689Z"
   },
   {
    "duration": 13,
    "start_time": "2022-02-24T17:48:56.738Z"
   },
   {
    "duration": 33,
    "start_time": "2022-02-24T17:48:56.753Z"
   },
   {
    "duration": 28,
    "start_time": "2022-02-24T17:48:56.788Z"
   },
   {
    "duration": 24,
    "start_time": "2022-02-24T17:48:56.818Z"
   },
   {
    "duration": 22,
    "start_time": "2022-02-24T17:48:56.844Z"
   },
   {
    "duration": 18,
    "start_time": "2022-02-24T17:48:56.868Z"
   },
   {
    "duration": 29,
    "start_time": "2022-02-24T17:48:56.889Z"
   },
   {
    "duration": 46,
    "start_time": "2022-02-24T17:48:56.921Z"
   },
   {
    "duration": 21,
    "start_time": "2022-02-24T17:48:56.969Z"
   },
   {
    "duration": 24,
    "start_time": "2022-02-24T17:48:56.992Z"
   },
   {
    "duration": 29,
    "start_time": "2022-02-24T17:48:57.018Z"
   },
   {
    "duration": 26,
    "start_time": "2022-02-24T17:48:57.049Z"
   },
   {
    "duration": 28,
    "start_time": "2022-02-24T17:48:57.078Z"
   },
   {
    "duration": 33,
    "start_time": "2022-02-24T17:48:57.108Z"
   },
   {
    "duration": 207,
    "start_time": "2022-02-24T17:48:57.143Z"
   },
   {
    "duration": 19,
    "start_time": "2022-02-24T17:54:52.083Z"
   },
   {
    "duration": 196,
    "start_time": "2022-02-24T17:55:51.343Z"
   },
   {
    "duration": 204,
    "start_time": "2022-02-24T17:56:04.489Z"
   },
   {
    "duration": 67,
    "start_time": "2022-02-24T17:56:21.114Z"
   },
   {
    "duration": 28,
    "start_time": "2022-02-24T17:56:21.184Z"
   },
   {
    "duration": 11,
    "start_time": "2022-02-24T17:56:21.215Z"
   },
   {
    "duration": 9,
    "start_time": "2022-02-24T17:56:21.228Z"
   },
   {
    "duration": 21,
    "start_time": "2022-02-24T17:56:21.240Z"
   },
   {
    "duration": 47,
    "start_time": "2022-02-24T17:56:21.263Z"
   },
   {
    "duration": 4,
    "start_time": "2022-02-24T17:56:21.313Z"
   },
   {
    "duration": 16,
    "start_time": "2022-02-24T17:56:21.320Z"
   },
   {
    "duration": 8,
    "start_time": "2022-02-24T17:56:21.339Z"
   },
   {
    "duration": 27,
    "start_time": "2022-02-24T17:56:21.349Z"
   },
   {
    "duration": 32,
    "start_time": "2022-02-24T17:56:21.378Z"
   },
   {
    "duration": 6,
    "start_time": "2022-02-24T17:56:21.412Z"
   },
   {
    "duration": 20,
    "start_time": "2022-02-24T17:56:21.419Z"
   },
   {
    "duration": 19,
    "start_time": "2022-02-24T17:56:21.441Z"
   },
   {
    "duration": 24,
    "start_time": "2022-02-24T17:56:21.462Z"
   },
   {
    "duration": 12,
    "start_time": "2022-02-24T17:56:21.488Z"
   },
   {
    "duration": 17,
    "start_time": "2022-02-24T17:56:21.502Z"
   },
   {
    "duration": 3,
    "start_time": "2022-02-24T17:56:21.521Z"
   },
   {
    "duration": 12,
    "start_time": "2022-02-24T17:56:21.526Z"
   },
   {
    "duration": 38,
    "start_time": "2022-02-24T17:56:21.540Z"
   },
   {
    "duration": 27,
    "start_time": "2022-02-24T17:56:21.580Z"
   },
   {
    "duration": 11,
    "start_time": "2022-02-24T17:56:21.610Z"
   },
   {
    "duration": 32,
    "start_time": "2022-02-24T17:56:21.625Z"
   },
   {
    "duration": 21,
    "start_time": "2022-02-24T17:56:21.660Z"
   },
   {
    "duration": 13,
    "start_time": "2022-02-24T17:56:21.683Z"
   },
   {
    "duration": 14,
    "start_time": "2022-02-24T17:56:21.708Z"
   },
   {
    "duration": 18,
    "start_time": "2022-02-24T17:56:21.724Z"
   },
   {
    "duration": 12,
    "start_time": "2022-02-24T17:56:21.744Z"
   },
   {
    "duration": 15,
    "start_time": "2022-02-24T17:56:21.758Z"
   },
   {
    "duration": 50,
    "start_time": "2022-02-24T17:56:21.776Z"
   },
   {
    "duration": 13,
    "start_time": "2022-02-24T17:56:21.828Z"
   },
   {
    "duration": 16,
    "start_time": "2022-02-24T17:56:21.844Z"
   },
   {
    "duration": 15,
    "start_time": "2022-02-24T17:56:21.862Z"
   },
   {
    "duration": 15,
    "start_time": "2022-02-24T17:56:21.879Z"
   },
   {
    "duration": 11,
    "start_time": "2022-02-24T17:56:21.896Z"
   },
   {
    "duration": 18,
    "start_time": "2022-02-24T17:56:21.910Z"
   },
   {
    "duration": 18,
    "start_time": "2022-02-24T17:56:21.930Z"
   },
   {
    "duration": 12,
    "start_time": "2022-02-24T17:56:21.950Z"
   },
   {
    "duration": 13,
    "start_time": "2022-02-24T17:56:21.964Z"
   },
   {
    "duration": 31,
    "start_time": "2022-02-24T17:56:21.979Z"
   },
   {
    "duration": 15,
    "start_time": "2022-02-24T17:56:22.013Z"
   },
   {
    "duration": 9,
    "start_time": "2022-02-24T17:56:22.030Z"
   },
   {
    "duration": 11,
    "start_time": "2022-02-24T17:56:22.041Z"
   },
   {
    "duration": 9,
    "start_time": "2022-02-24T17:56:22.055Z"
   },
   {
    "duration": 46,
    "start_time": "2022-02-24T17:56:22.066Z"
   },
   {
    "duration": 15,
    "start_time": "2022-02-24T17:56:22.114Z"
   },
   {
    "duration": 19,
    "start_time": "2022-02-24T17:56:22.131Z"
   },
   {
    "duration": 17,
    "start_time": "2022-02-24T17:56:22.152Z"
   },
   {
    "duration": 202,
    "start_time": "2022-02-24T17:56:22.171Z"
   },
   {
    "duration": -407,
    "start_time": "2022-02-24T17:56:22.782Z"
   },
   {
    "duration": -415,
    "start_time": "2022-02-24T17:56:22.791Z"
   },
   {
    "duration": -441,
    "start_time": "2022-02-24T17:56:22.818Z"
   },
   {
    "duration": 27,
    "start_time": "2022-02-24T18:53:25.948Z"
   },
   {
    "duration": 21,
    "start_time": "2022-02-24T18:53:27.356Z"
   },
   {
    "duration": 8,
    "start_time": "2022-02-24T18:54:19.401Z"
   },
   {
    "duration": 7,
    "start_time": "2022-02-24T18:54:35.572Z"
   },
   {
    "duration": 9,
    "start_time": "2022-02-24T18:54:56.154Z"
   },
   {
    "duration": 10,
    "start_time": "2022-02-24T18:55:11.927Z"
   },
   {
    "duration": 11,
    "start_time": "2022-02-24T18:55:24.885Z"
   },
   {
    "duration": 60,
    "start_time": "2022-02-24T19:39:18.961Z"
   },
   {
    "duration": 8,
    "start_time": "2022-02-24T19:48:40.677Z"
   },
   {
    "duration": 17,
    "start_time": "2022-02-24T19:48:41.947Z"
   },
   {
    "duration": 8,
    "start_time": "2022-02-24T19:49:34.046Z"
   },
   {
    "duration": 14,
    "start_time": "2022-02-24T19:50:18.294Z"
   },
   {
    "duration": 14,
    "start_time": "2022-02-24T19:53:13.950Z"
   },
   {
    "duration": 205,
    "start_time": "2022-02-24T19:56:06.170Z"
   },
   {
    "duration": 221,
    "start_time": "2022-02-24T19:56:22.397Z"
   },
   {
    "duration": 59,
    "start_time": "2022-02-24T19:56:33.583Z"
   },
   {
    "duration": 13,
    "start_time": "2022-02-24T19:56:33.644Z"
   },
   {
    "duration": 15,
    "start_time": "2022-02-24T19:56:33.659Z"
   },
   {
    "duration": 36,
    "start_time": "2022-02-24T19:56:33.676Z"
   },
   {
    "duration": 18,
    "start_time": "2022-02-24T19:56:33.714Z"
   },
   {
    "duration": 9,
    "start_time": "2022-02-24T19:56:33.734Z"
   },
   {
    "duration": 5,
    "start_time": "2022-02-24T19:56:33.745Z"
   },
   {
    "duration": 55,
    "start_time": "2022-02-24T19:56:33.752Z"
   },
   {
    "duration": 4,
    "start_time": "2022-02-24T19:56:33.811Z"
   },
   {
    "duration": 20,
    "start_time": "2022-02-24T19:56:33.818Z"
   },
   {
    "duration": 21,
    "start_time": "2022-02-24T19:56:33.839Z"
   },
   {
    "duration": 8,
    "start_time": "2022-02-24T19:56:33.862Z"
   },
   {
    "duration": 27,
    "start_time": "2022-02-24T19:56:33.872Z"
   },
   {
    "duration": 133,
    "start_time": "2022-02-24T19:56:33.901Z"
   },
   {
    "duration": 90,
    "start_time": "2022-02-24T19:56:34.036Z"
   },
   {
    "duration": 15,
    "start_time": "2022-02-24T19:56:34.128Z"
   },
   {
    "duration": 89,
    "start_time": "2022-02-24T19:56:34.146Z"
   },
   {
    "duration": 5,
    "start_time": "2022-02-24T19:56:34.238Z"
   },
   {
    "duration": 16,
    "start_time": "2022-02-24T19:56:34.245Z"
   },
   {
    "duration": 21,
    "start_time": "2022-02-24T19:56:34.263Z"
   },
   {
    "duration": 36,
    "start_time": "2022-02-24T19:56:34.286Z"
   },
   {
    "duration": 17,
    "start_time": "2022-02-24T19:56:34.324Z"
   },
   {
    "duration": 26,
    "start_time": "2022-02-24T19:56:34.343Z"
   },
   {
    "duration": 17,
    "start_time": "2022-02-24T19:56:34.371Z"
   },
   {
    "duration": 21,
    "start_time": "2022-02-24T19:56:34.390Z"
   },
   {
    "duration": 17,
    "start_time": "2022-02-24T19:56:34.413Z"
   },
   {
    "duration": 10,
    "start_time": "2022-02-24T19:56:34.435Z"
   },
   {
    "duration": 10,
    "start_time": "2022-02-24T19:56:34.448Z"
   },
   {
    "duration": 19,
    "start_time": "2022-02-24T19:56:34.460Z"
   },
   {
    "duration": 10,
    "start_time": "2022-02-24T19:56:34.507Z"
   },
   {
    "duration": 9,
    "start_time": "2022-02-24T19:56:34.519Z"
   },
   {
    "duration": 10,
    "start_time": "2022-02-24T19:56:34.530Z"
   },
   {
    "duration": 13,
    "start_time": "2022-02-24T19:56:34.542Z"
   },
   {
    "duration": 15,
    "start_time": "2022-02-24T19:56:34.557Z"
   },
   {
    "duration": 40,
    "start_time": "2022-02-24T19:56:34.574Z"
   },
   {
    "duration": 16,
    "start_time": "2022-02-24T19:56:34.616Z"
   },
   {
    "duration": 18,
    "start_time": "2022-02-24T19:56:34.634Z"
   },
   {
    "duration": 6,
    "start_time": "2022-02-24T19:56:34.653Z"
   },
   {
    "duration": 11,
    "start_time": "2022-02-24T19:56:34.661Z"
   },
   {
    "duration": 43,
    "start_time": "2022-02-24T19:56:34.674Z"
   },
   {
    "duration": 30,
    "start_time": "2022-02-24T19:56:34.718Z"
   },
   {
    "duration": 9,
    "start_time": "2022-02-24T19:56:34.749Z"
   },
   {
    "duration": 8,
    "start_time": "2022-02-24T19:56:34.760Z"
   },
   {
    "duration": 20,
    "start_time": "2022-02-24T19:56:34.770Z"
   },
   {
    "duration": 33,
    "start_time": "2022-02-24T19:56:34.793Z"
   },
   {
    "duration": 15,
    "start_time": "2022-02-24T19:56:34.828Z"
   },
   {
    "duration": 20,
    "start_time": "2022-02-24T19:56:34.845Z"
   },
   {
    "duration": 42,
    "start_time": "2022-02-24T19:56:34.867Z"
   },
   {
    "duration": 21,
    "start_time": "2022-02-24T19:56:34.911Z"
   },
   {
    "duration": 21,
    "start_time": "2022-02-24T19:56:34.933Z"
   },
   {
    "duration": 14,
    "start_time": "2022-02-24T19:56:56.987Z"
   },
   {
    "duration": 4,
    "start_time": "2022-02-24T19:57:00.245Z"
   },
   {
    "duration": 14,
    "start_time": "2022-02-24T20:35:51.527Z"
   },
   {
    "duration": 13,
    "start_time": "2022-02-24T21:08:38.276Z"
   },
   {
    "duration": 7,
    "start_time": "2022-02-24T21:08:56.033Z"
   },
   {
    "duration": 15,
    "start_time": "2022-02-24T21:09:03.945Z"
   },
   {
    "duration": 67,
    "start_time": "2022-02-24T21:09:36.949Z"
   },
   {
    "duration": 12,
    "start_time": "2022-02-24T21:09:37.019Z"
   },
   {
    "duration": 12,
    "start_time": "2022-02-24T21:09:37.034Z"
   },
   {
    "duration": 11,
    "start_time": "2022-02-24T21:09:37.049Z"
   },
   {
    "duration": 51,
    "start_time": "2022-02-24T21:09:37.062Z"
   },
   {
    "duration": 9,
    "start_time": "2022-02-24T21:09:37.115Z"
   },
   {
    "duration": 8,
    "start_time": "2022-02-24T21:09:37.125Z"
   },
   {
    "duration": 21,
    "start_time": "2022-02-24T21:09:37.136Z"
   },
   {
    "duration": 5,
    "start_time": "2022-02-24T21:09:37.160Z"
   },
   {
    "duration": 50,
    "start_time": "2022-02-24T21:09:37.167Z"
   },
   {
    "duration": 19,
    "start_time": "2022-02-24T21:09:37.219Z"
   },
   {
    "duration": 16,
    "start_time": "2022-02-24T21:09:37.240Z"
   },
   {
    "duration": 41,
    "start_time": "2022-02-24T21:09:37.258Z"
   },
   {
    "duration": 14,
    "start_time": "2022-02-24T21:09:37.301Z"
   },
   {
    "duration": 31,
    "start_time": "2022-02-24T21:09:37.318Z"
   },
   {
    "duration": 22,
    "start_time": "2022-02-24T21:09:37.351Z"
   },
   {
    "duration": 25,
    "start_time": "2022-02-24T21:09:37.375Z"
   },
   {
    "duration": 4,
    "start_time": "2022-02-24T21:09:37.402Z"
   },
   {
    "duration": 14,
    "start_time": "2022-02-24T21:09:37.408Z"
   },
   {
    "duration": 29,
    "start_time": "2022-02-24T21:09:37.424Z"
   },
   {
    "duration": 16,
    "start_time": "2022-02-24T21:09:37.455Z"
   },
   {
    "duration": 12,
    "start_time": "2022-02-24T21:09:37.473Z"
   },
   {
    "duration": 55,
    "start_time": "2022-02-24T21:09:37.489Z"
   },
   {
    "duration": 32,
    "start_time": "2022-02-24T21:09:37.547Z"
   },
   {
    "duration": 18,
    "start_time": "2022-02-24T21:09:37.581Z"
   },
   {
    "duration": 20,
    "start_time": "2022-02-24T21:09:37.601Z"
   },
   {
    "duration": 41,
    "start_time": "2022-02-24T21:09:37.623Z"
   },
   {
    "duration": 28,
    "start_time": "2022-02-24T21:09:37.666Z"
   },
   {
    "duration": 29,
    "start_time": "2022-02-24T21:09:37.696Z"
   },
   {
    "duration": 38,
    "start_time": "2022-02-24T21:09:37.727Z"
   },
   {
    "duration": 35,
    "start_time": "2022-02-24T21:09:37.767Z"
   },
   {
    "duration": 21,
    "start_time": "2022-02-24T21:09:37.804Z"
   },
   {
    "duration": 10,
    "start_time": "2022-02-24T21:09:37.827Z"
   },
   {
    "duration": 38,
    "start_time": "2022-02-24T21:09:37.840Z"
   },
   {
    "duration": 22,
    "start_time": "2022-02-24T21:09:37.880Z"
   },
   {
    "duration": 39,
    "start_time": "2022-02-24T21:09:37.903Z"
   },
   {
    "duration": 26,
    "start_time": "2022-02-24T21:09:37.944Z"
   },
   {
    "duration": 12,
    "start_time": "2022-02-24T21:09:37.972Z"
   },
   {
    "duration": 33,
    "start_time": "2022-02-24T21:09:37.986Z"
   },
   {
    "duration": 25,
    "start_time": "2022-02-24T21:09:38.020Z"
   },
   {
    "duration": 18,
    "start_time": "2022-02-24T21:09:38.047Z"
   },
   {
    "duration": 38,
    "start_time": "2022-02-24T21:09:38.067Z"
   },
   {
    "duration": 23,
    "start_time": "2022-02-24T21:09:38.108Z"
   },
   {
    "duration": 18,
    "start_time": "2022-02-24T21:09:38.133Z"
   },
   {
    "duration": 40,
    "start_time": "2022-02-24T21:09:38.153Z"
   },
   {
    "duration": 18,
    "start_time": "2022-02-24T21:09:38.195Z"
   },
   {
    "duration": 22,
    "start_time": "2022-02-24T21:09:38.215Z"
   },
   {
    "duration": 18,
    "start_time": "2022-02-24T21:09:38.238Z"
   },
   {
    "duration": 30,
    "start_time": "2022-02-24T21:09:38.258Z"
   },
   {
    "duration": 33,
    "start_time": "2022-02-24T21:09:38.290Z"
   },
   {
    "duration": 7,
    "start_time": "2022-02-24T21:15:31.814Z"
   },
   {
    "duration": 14,
    "start_time": "2022-02-24T21:19:37.539Z"
   },
   {
    "duration": 13,
    "start_time": "2022-02-24T21:22:37.815Z"
   },
   {
    "duration": 13,
    "start_time": "2022-02-24T21:38:48.758Z"
   },
   {
    "duration": 10,
    "start_time": "2022-02-24T21:39:01.704Z"
   },
   {
    "duration": 9,
    "start_time": "2022-02-24T21:39:06.339Z"
   },
   {
    "duration": 14,
    "start_time": "2022-02-24T21:41:33.004Z"
   },
   {
    "duration": 84,
    "start_time": "2022-02-24T21:43:51.217Z"
   },
   {
    "duration": 4,
    "start_time": "2022-02-24T21:44:11.087Z"
   },
   {
    "duration": 4,
    "start_time": "2022-02-24T21:44:13.048Z"
   },
   {
    "duration": 4,
    "start_time": "2022-02-24T21:44:35.099Z"
   },
   {
    "duration": 3,
    "start_time": "2022-02-24T21:45:18.903Z"
   },
   {
    "duration": 6,
    "start_time": "2022-02-24T21:45:21.160Z"
   },
   {
    "duration": 4,
    "start_time": "2022-02-24T21:45:27.310Z"
   },
   {
    "duration": 4,
    "start_time": "2022-02-24T21:45:36.131Z"
   },
   {
    "duration": 5,
    "start_time": "2022-02-24T21:45:38.358Z"
   },
   {
    "duration": 4,
    "start_time": "2022-02-24T21:45:42.945Z"
   },
   {
    "duration": 5,
    "start_time": "2022-02-24T21:46:39.619Z"
   },
   {
    "duration": 761,
    "start_time": "2022-02-24T22:00:18.806Z"
   },
   {
    "duration": 13,
    "start_time": "2022-02-24T22:00:19.569Z"
   },
   {
    "duration": 29,
    "start_time": "2022-02-24T22:00:19.588Z"
   },
   {
    "duration": 10,
    "start_time": "2022-02-24T22:00:19.619Z"
   },
   {
    "duration": 17,
    "start_time": "2022-02-24T22:00:19.631Z"
   },
   {
    "duration": 7,
    "start_time": "2022-02-24T22:00:19.650Z"
   },
   {
    "duration": 5,
    "start_time": "2022-02-24T22:00:19.660Z"
   },
   {
    "duration": 50,
    "start_time": "2022-02-24T22:00:19.668Z"
   },
   {
    "duration": 9,
    "start_time": "2022-02-24T22:00:19.719Z"
   },
   {
    "duration": 7,
    "start_time": "2022-02-24T22:00:19.730Z"
   },
   {
    "duration": 17,
    "start_time": "2022-02-24T22:00:19.739Z"
   },
   {
    "duration": 10,
    "start_time": "2022-02-24T22:00:19.758Z"
   },
   {
    "duration": 43,
    "start_time": "2022-02-24T22:00:19.769Z"
   },
   {
    "duration": 4,
    "start_time": "2022-02-24T22:00:19.814Z"
   },
   {
    "duration": 15,
    "start_time": "2022-02-24T22:00:19.820Z"
   },
   {
    "duration": 23,
    "start_time": "2022-02-24T22:00:19.837Z"
   },
   {
    "duration": 14,
    "start_time": "2022-02-24T22:00:19.863Z"
   },
   {
    "duration": 40,
    "start_time": "2022-02-24T22:00:19.879Z"
   },
   {
    "duration": 39,
    "start_time": "2022-02-24T22:00:19.921Z"
   },
   {
    "duration": 11,
    "start_time": "2022-02-24T22:00:19.962Z"
   },
   {
    "duration": 26,
    "start_time": "2022-02-24T22:00:19.975Z"
   },
   {
    "duration": 19,
    "start_time": "2022-02-24T22:00:20.005Z"
   },
   {
    "duration": 10,
    "start_time": "2022-02-24T22:00:20.026Z"
   },
   {
    "duration": 26,
    "start_time": "2022-02-24T22:00:20.038Z"
   },
   {
    "duration": 17,
    "start_time": "2022-02-24T22:00:20.066Z"
   },
   {
    "duration": 28,
    "start_time": "2022-02-24T22:00:20.085Z"
   },
   {
    "duration": 30,
    "start_time": "2022-02-24T22:00:20.116Z"
   },
   {
    "duration": 14,
    "start_time": "2022-02-24T22:00:20.148Z"
   },
   {
    "duration": 17,
    "start_time": "2022-02-24T22:00:20.164Z"
   },
   {
    "duration": 14,
    "start_time": "2022-02-24T22:00:20.182Z"
   },
   {
    "duration": 19,
    "start_time": "2022-02-24T22:00:20.198Z"
   },
   {
    "duration": 23,
    "start_time": "2022-02-24T22:00:20.219Z"
   },
   {
    "duration": 20,
    "start_time": "2022-02-24T22:00:20.244Z"
   },
   {
    "duration": 21,
    "start_time": "2022-02-24T22:00:20.267Z"
   },
   {
    "duration": 17,
    "start_time": "2022-02-24T22:00:20.290Z"
   },
   {
    "duration": 12,
    "start_time": "2022-02-24T22:00:20.309Z"
   },
   {
    "duration": 15,
    "start_time": "2022-02-24T22:00:20.323Z"
   },
   {
    "duration": 29,
    "start_time": "2022-02-24T22:00:20.340Z"
   },
   {
    "duration": 18,
    "start_time": "2022-02-24T22:00:20.371Z"
   },
   {
    "duration": 9,
    "start_time": "2022-02-24T22:00:20.391Z"
   },
   {
    "duration": 13,
    "start_time": "2022-02-24T22:00:20.401Z"
   },
   {
    "duration": 14,
    "start_time": "2022-02-24T22:00:20.416Z"
   },
   {
    "duration": 23,
    "start_time": "2022-02-24T22:00:20.431Z"
   },
   {
    "duration": 24,
    "start_time": "2022-02-24T22:00:20.456Z"
   },
   {
    "duration": 29,
    "start_time": "2022-02-24T22:00:20.482Z"
   },
   {
    "duration": 19,
    "start_time": "2022-02-24T22:00:20.513Z"
   },
   {
    "duration": 18,
    "start_time": "2022-02-24T22:00:20.534Z"
   },
   {
    "duration": 34,
    "start_time": "2022-02-24T22:00:20.554Z"
   },
   {
    "duration": 952,
    "start_time": "2022-02-25T11:51:13.831Z"
   },
   {
    "duration": 15,
    "start_time": "2022-02-25T11:51:14.786Z"
   },
   {
    "duration": 16,
    "start_time": "2022-02-25T11:51:14.804Z"
   },
   {
    "duration": 28,
    "start_time": "2022-02-25T11:51:14.823Z"
   },
   {
    "duration": 37,
    "start_time": "2022-02-25T11:51:14.854Z"
   },
   {
    "duration": 18,
    "start_time": "2022-02-25T11:51:14.893Z"
   },
   {
    "duration": 17,
    "start_time": "2022-02-25T11:51:14.913Z"
   },
   {
    "duration": 31,
    "start_time": "2022-02-25T11:51:14.932Z"
   },
   {
    "duration": 14,
    "start_time": "2022-02-25T11:51:14.967Z"
   },
   {
    "duration": 13,
    "start_time": "2022-02-25T11:51:14.984Z"
   },
   {
    "duration": 44,
    "start_time": "2022-02-25T11:51:15.000Z"
   },
   {
    "duration": 31,
    "start_time": "2022-02-25T11:51:15.046Z"
   },
   {
    "duration": 40,
    "start_time": "2022-02-25T11:51:15.080Z"
   },
   {
    "duration": 6,
    "start_time": "2022-02-25T11:51:15.123Z"
   },
   {
    "duration": 17,
    "start_time": "2022-02-25T11:51:15.132Z"
   },
   {
    "duration": 39,
    "start_time": "2022-02-25T11:51:15.151Z"
   },
   {
    "duration": 29,
    "start_time": "2022-02-25T11:51:15.192Z"
   },
   {
    "duration": 26,
    "start_time": "2022-02-25T11:51:15.224Z"
   },
   {
    "duration": 42,
    "start_time": "2022-02-25T11:51:15.253Z"
   },
   {
    "duration": 16,
    "start_time": "2022-02-25T11:51:15.298Z"
   },
   {
    "duration": 30,
    "start_time": "2022-02-25T11:51:15.316Z"
   },
   {
    "duration": 55,
    "start_time": "2022-02-25T11:51:15.349Z"
   },
   {
    "duration": 10,
    "start_time": "2022-02-25T11:51:15.407Z"
   },
   {
    "duration": 19,
    "start_time": "2022-02-25T11:51:15.419Z"
   },
   {
    "duration": 13,
    "start_time": "2022-02-25T11:51:15.441Z"
   },
   {
    "duration": 40,
    "start_time": "2022-02-25T11:51:15.457Z"
   },
   {
    "duration": 19,
    "start_time": "2022-02-25T11:51:15.503Z"
   },
   {
    "duration": 18,
    "start_time": "2022-02-25T11:51:15.527Z"
   },
   {
    "duration": 48,
    "start_time": "2022-02-25T11:51:15.547Z"
   },
   {
    "duration": 10,
    "start_time": "2022-02-25T11:51:15.598Z"
   },
   {
    "duration": 16,
    "start_time": "2022-02-25T11:51:15.611Z"
   },
   {
    "duration": 474,
    "start_time": "2022-02-25T11:51:15.629Z"
   },
   {
    "duration": -1225,
    "start_time": "2022-02-25T11:51:17.331Z"
   },
   {
    "duration": -1228,
    "start_time": "2022-02-25T11:51:17.336Z"
   },
   {
    "duration": -1231,
    "start_time": "2022-02-25T11:51:17.341Z"
   },
   {
    "duration": -1233,
    "start_time": "2022-02-25T11:51:17.345Z"
   },
   {
    "duration": -1238,
    "start_time": "2022-02-25T11:51:17.352Z"
   },
   {
    "duration": -1247,
    "start_time": "2022-02-25T11:51:17.363Z"
   },
   {
    "duration": -1250,
    "start_time": "2022-02-25T11:51:17.368Z"
   },
   {
    "duration": -1252,
    "start_time": "2022-02-25T11:51:17.372Z"
   },
   {
    "duration": -1254,
    "start_time": "2022-02-25T11:51:17.376Z"
   },
   {
    "duration": -1258,
    "start_time": "2022-02-25T11:51:17.382Z"
   },
   {
    "duration": -1261,
    "start_time": "2022-02-25T11:51:17.387Z"
   },
   {
    "duration": -1263,
    "start_time": "2022-02-25T11:51:17.391Z"
   },
   {
    "duration": -1266,
    "start_time": "2022-02-25T11:51:17.396Z"
   },
   {
    "duration": -1269,
    "start_time": "2022-02-25T11:51:17.401Z"
   },
   {
    "duration": -1272,
    "start_time": "2022-02-25T11:51:17.406Z"
   },
   {
    "duration": -1275,
    "start_time": "2022-02-25T11:51:17.411Z"
   },
   {
    "duration": 415,
    "start_time": "2022-02-25T11:52:01.840Z"
   },
   {
    "duration": 13,
    "start_time": "2022-02-25T11:52:16.219Z"
   },
   {
    "duration": 13,
    "start_time": "2022-02-25T11:55:01.586Z"
   },
   {
    "duration": 18,
    "start_time": "2022-02-25T11:57:35.713Z"
   },
   {
    "duration": 296,
    "start_time": "2022-02-25T11:57:49.842Z"
   },
   {
    "duration": 5,
    "start_time": "2022-02-25T11:57:53.060Z"
   },
   {
    "duration": 5,
    "start_time": "2022-02-25T11:57:54.268Z"
   },
   {
    "duration": 29,
    "start_time": "2022-02-25T11:58:01.198Z"
   },
   {
    "duration": 23,
    "start_time": "2022-02-25T11:58:15.494Z"
   },
   {
    "duration": 11,
    "start_time": "2022-02-25T11:58:24.953Z"
   },
   {
    "duration": 4,
    "start_time": "2022-02-25T11:58:27.970Z"
   },
   {
    "duration": 6,
    "start_time": "2022-02-25T11:58:28.806Z"
   },
   {
    "duration": 27,
    "start_time": "2022-02-25T11:58:32.095Z"
   },
   {
    "duration": 23,
    "start_time": "2022-02-25T11:58:34.965Z"
   },
   {
    "duration": 27,
    "start_time": "2022-02-25T11:58:44.860Z"
   },
   {
    "duration": 305,
    "start_time": "2022-02-25T11:59:25.604Z"
   },
   {
    "duration": 37,
    "start_time": "2022-02-25T11:59:44.523Z"
   },
   {
    "duration": 29,
    "start_time": "2022-02-25T12:09:23.656Z"
   },
   {
    "duration": 273,
    "start_time": "2022-02-25T12:10:37.124Z"
   },
   {
    "duration": 316,
    "start_time": "2022-02-25T12:10:46.642Z"
   },
   {
    "duration": 29,
    "start_time": "2022-02-25T12:11:44.755Z"
   },
   {
    "duration": 26,
    "start_time": "2022-02-25T12:11:53.254Z"
   },
   {
    "duration": 26,
    "start_time": "2022-02-25T12:30:07.449Z"
   },
   {
    "duration": 266,
    "start_time": "2022-02-25T12:30:48.914Z"
   },
   {
    "duration": 94,
    "start_time": "2022-02-25T12:36:04.577Z"
   },
   {
    "duration": 26,
    "start_time": "2022-02-25T12:37:48.587Z"
   },
   {
    "duration": 28,
    "start_time": "2022-02-25T12:38:15.549Z"
   },
   {
    "duration": 152,
    "start_time": "2022-02-25T13:19:26.444Z"
   },
   {
    "duration": 283,
    "start_time": "2022-02-25T13:19:42.777Z"
   },
   {
    "duration": 335,
    "start_time": "2022-02-25T13:19:59.501Z"
   },
   {
    "duration": 274,
    "start_time": "2022-02-25T13:20:16.890Z"
   },
   {
    "duration": 46,
    "start_time": "2022-02-25T13:20:23.870Z"
   },
   {
    "duration": 303,
    "start_time": "2022-02-25T13:21:16.712Z"
   },
   {
    "duration": 42,
    "start_time": "2022-02-25T13:21:22.977Z"
   },
   {
    "duration": 41,
    "start_time": "2022-02-25T13:22:14.084Z"
   },
   {
    "duration": 45,
    "start_time": "2022-02-25T13:22:49.856Z"
   },
   {
    "duration": 174,
    "start_time": "2022-02-25T13:23:26.784Z"
   },
   {
    "duration": 44,
    "start_time": "2022-02-25T13:23:42.961Z"
   },
   {
    "duration": 44,
    "start_time": "2022-02-25T13:24:28.289Z"
   },
   {
    "duration": 43,
    "start_time": "2022-02-25T13:28:12.900Z"
   },
   {
    "duration": 41,
    "start_time": "2022-02-25T13:28:32.399Z"
   },
   {
    "duration": 297,
    "start_time": "2022-02-25T13:29:04.050Z"
   },
   {
    "duration": 339,
    "start_time": "2022-02-25T13:29:31.946Z"
   },
   {
    "duration": 38,
    "start_time": "2022-02-25T13:29:56.366Z"
   },
   {
    "duration": 42,
    "start_time": "2022-02-25T13:30:53.635Z"
   },
   {
    "duration": 43,
    "start_time": "2022-02-25T13:31:17.121Z"
   },
   {
    "duration": 43,
    "start_time": "2022-02-25T13:31:49.460Z"
   },
   {
    "duration": 45,
    "start_time": "2022-02-25T13:32:25.868Z"
   },
   {
    "duration": 43,
    "start_time": "2022-02-25T13:32:34.804Z"
   },
   {
    "duration": 44,
    "start_time": "2022-02-25T13:32:41.117Z"
   },
   {
    "duration": 42,
    "start_time": "2022-02-25T13:33:01.771Z"
   },
   {
    "duration": 41,
    "start_time": "2022-02-25T13:33:16.425Z"
   },
   {
    "duration": 846,
    "start_time": "2022-02-25T13:33:23.518Z"
   },
   {
    "duration": 15,
    "start_time": "2022-02-25T13:33:24.367Z"
   },
   {
    "duration": 13,
    "start_time": "2022-02-25T13:33:24.394Z"
   },
   {
    "duration": 14,
    "start_time": "2022-02-25T13:33:24.410Z"
   },
   {
    "duration": 23,
    "start_time": "2022-02-25T13:33:24.426Z"
   },
   {
    "duration": 16,
    "start_time": "2022-02-25T13:33:24.451Z"
   },
   {
    "duration": 29,
    "start_time": "2022-02-25T13:33:24.469Z"
   },
   {
    "duration": 23,
    "start_time": "2022-02-25T13:33:24.503Z"
   },
   {
    "duration": 8,
    "start_time": "2022-02-25T13:33:24.530Z"
   },
   {
    "duration": 7,
    "start_time": "2022-02-25T13:33:24.541Z"
   },
   {
    "duration": 63,
    "start_time": "2022-02-25T13:33:24.550Z"
   },
   {
    "duration": 12,
    "start_time": "2022-02-25T13:33:24.615Z"
   },
   {
    "duration": 18,
    "start_time": "2022-02-25T13:33:24.629Z"
   },
   {
    "duration": 5,
    "start_time": "2022-02-25T13:33:24.650Z"
   },
   {
    "duration": 44,
    "start_time": "2022-02-25T13:33:24.658Z"
   },
   {
    "duration": 21,
    "start_time": "2022-02-25T13:33:24.705Z"
   },
   {
    "duration": 21,
    "start_time": "2022-02-25T13:33:24.729Z"
   },
   {
    "duration": 67,
    "start_time": "2022-02-25T13:33:24.752Z"
   },
   {
    "duration": 22,
    "start_time": "2022-02-25T13:33:24.822Z"
   },
   {
    "duration": 49,
    "start_time": "2022-02-25T13:33:24.846Z"
   },
   {
    "duration": 28,
    "start_time": "2022-02-25T13:33:24.898Z"
   },
   {
    "duration": 22,
    "start_time": "2022-02-25T13:33:24.929Z"
   },
   {
    "duration": 37,
    "start_time": "2022-02-25T13:33:24.956Z"
   },
   {
    "duration": 17,
    "start_time": "2022-02-25T13:33:24.998Z"
   },
   {
    "duration": 18,
    "start_time": "2022-02-25T13:33:25.017Z"
   },
   {
    "duration": 12,
    "start_time": "2022-02-25T13:33:25.037Z"
   },
   {
    "duration": 51,
    "start_time": "2022-02-25T13:33:25.051Z"
   },
   {
    "duration": 15,
    "start_time": "2022-02-25T13:33:25.105Z"
   },
   {
    "duration": 13,
    "start_time": "2022-02-25T13:33:25.123Z"
   },
   {
    "duration": 12,
    "start_time": "2022-02-25T13:33:25.139Z"
   },
   {
    "duration": 42,
    "start_time": "2022-02-25T13:33:25.153Z"
   },
   {
    "duration": 14,
    "start_time": "2022-02-25T13:33:25.198Z"
   },
   {
    "duration": 18,
    "start_time": "2022-02-25T13:33:25.215Z"
   },
   {
    "duration": 23,
    "start_time": "2022-02-25T13:33:25.236Z"
   },
   {
    "duration": 45,
    "start_time": "2022-02-25T13:33:25.261Z"
   },
   {
    "duration": 4,
    "start_time": "2022-02-25T13:33:25.308Z"
   },
   {
    "duration": 11,
    "start_time": "2022-02-25T13:33:25.315Z"
   },
   {
    "duration": 31,
    "start_time": "2022-02-25T13:33:25.328Z"
   },
   {
    "duration": 48,
    "start_time": "2022-02-25T13:33:25.362Z"
   },
   {
    "duration": 10,
    "start_time": "2022-02-25T13:33:25.412Z"
   },
   {
    "duration": 10,
    "start_time": "2022-02-25T13:33:25.425Z"
   },
   {
    "duration": 10,
    "start_time": "2022-02-25T13:33:25.437Z"
   },
   {
    "duration": 61,
    "start_time": "2022-02-25T13:33:25.449Z"
   },
   {
    "duration": 25,
    "start_time": "2022-02-25T13:33:25.512Z"
   },
   {
    "duration": 25,
    "start_time": "2022-02-25T13:33:25.539Z"
   },
   {
    "duration": 44,
    "start_time": "2022-02-25T13:33:25.593Z"
   },
   {
    "duration": 26,
    "start_time": "2022-02-25T13:33:25.639Z"
   },
   {
    "duration": 51,
    "start_time": "2022-02-25T13:33:25.667Z"
   },
   {
    "duration": 45,
    "start_time": "2022-02-25T13:33:52.330Z"
   },
   {
    "duration": 42,
    "start_time": "2022-02-25T13:33:55.807Z"
   },
   {
    "duration": 24,
    "start_time": "2022-02-25T13:34:13.246Z"
   },
   {
    "duration": 375,
    "start_time": "2022-02-25T13:46:22.539Z"
   },
   {
    "duration": 312,
    "start_time": "2022-02-25T13:46:45.001Z"
   },
   {
    "duration": 5383,
    "start_time": "2022-02-25T13:46:52.223Z"
   },
   {
    "duration": 436,
    "start_time": "2022-02-25T13:47:57.988Z"
   },
   {
    "duration": 286,
    "start_time": "2022-02-25T13:51:43.777Z"
   },
   {
    "duration": 1117,
    "start_time": "2022-02-25T13:51:58.645Z"
   },
   {
    "duration": 16,
    "start_time": "2022-02-25T13:51:59.764Z"
   },
   {
    "duration": 11,
    "start_time": "2022-02-25T13:51:59.785Z"
   },
   {
    "duration": 15,
    "start_time": "2022-02-25T13:51:59.800Z"
   },
   {
    "duration": 21,
    "start_time": "2022-02-25T13:51:59.817Z"
   },
   {
    "duration": 8,
    "start_time": "2022-02-25T13:51:59.840Z"
   },
   {
    "duration": 8,
    "start_time": "2022-02-25T13:51:59.850Z"
   },
   {
    "duration": 47,
    "start_time": "2022-02-25T13:51:59.862Z"
   },
   {
    "duration": 10,
    "start_time": "2022-02-25T13:51:59.912Z"
   },
   {
    "duration": 6,
    "start_time": "2022-02-25T13:51:59.925Z"
   },
   {
    "duration": 20,
    "start_time": "2022-02-25T13:51:59.933Z"
   },
   {
    "duration": 45,
    "start_time": "2022-02-25T13:51:59.955Z"
   },
   {
    "duration": 16,
    "start_time": "2022-02-25T13:52:00.003Z"
   },
   {
    "duration": 5,
    "start_time": "2022-02-25T13:52:00.021Z"
   },
   {
    "duration": 22,
    "start_time": "2022-02-25T13:52:00.029Z"
   },
   {
    "duration": 53,
    "start_time": "2022-02-25T13:52:00.054Z"
   },
   {
    "duration": 27,
    "start_time": "2022-02-25T13:52:00.109Z"
   },
   {
    "duration": 35,
    "start_time": "2022-02-25T13:52:00.138Z"
   },
   {
    "duration": 35,
    "start_time": "2022-02-25T13:52:00.175Z"
   },
   {
    "duration": 16,
    "start_time": "2022-02-25T13:52:00.213Z"
   },
   {
    "duration": 36,
    "start_time": "2022-02-25T13:52:00.231Z"
   },
   {
    "duration": 45,
    "start_time": "2022-02-25T13:52:00.269Z"
   },
   {
    "duration": 15,
    "start_time": "2022-02-25T13:52:00.321Z"
   },
   {
    "duration": 38,
    "start_time": "2022-02-25T13:52:00.339Z"
   },
   {
    "duration": 34,
    "start_time": "2022-02-25T13:52:00.380Z"
   },
   {
    "duration": 18,
    "start_time": "2022-02-25T13:52:00.417Z"
   },
   {
    "duration": 25,
    "start_time": "2022-02-25T13:52:00.437Z"
   },
   {
    "duration": 24,
    "start_time": "2022-02-25T13:52:00.465Z"
   },
   {
    "duration": 19,
    "start_time": "2022-02-25T13:52:00.493Z"
   },
   {
    "duration": 45,
    "start_time": "2022-02-25T13:52:00.515Z"
   },
   {
    "duration": 27,
    "start_time": "2022-02-25T13:52:00.563Z"
   },
   {
    "duration": 33,
    "start_time": "2022-02-25T13:52:00.592Z"
   },
   {
    "duration": 23,
    "start_time": "2022-02-25T13:52:00.628Z"
   },
   {
    "duration": 31,
    "start_time": "2022-02-25T13:52:00.654Z"
   },
   {
    "duration": 29,
    "start_time": "2022-02-25T13:52:00.687Z"
   },
   {
    "duration": 12,
    "start_time": "2022-02-25T13:52:00.718Z"
   },
   {
    "duration": 10,
    "start_time": "2022-02-25T13:52:00.733Z"
   },
   {
    "duration": 29,
    "start_time": "2022-02-25T13:52:00.746Z"
   },
   {
    "duration": 28,
    "start_time": "2022-02-25T13:52:00.778Z"
   },
   {
    "duration": 94,
    "start_time": "2022-02-25T13:52:00.809Z"
   },
   {
    "duration": 23,
    "start_time": "2022-02-25T13:52:00.905Z"
   },
   {
    "duration": 18,
    "start_time": "2022-02-25T13:52:00.930Z"
   },
   {
    "duration": 42,
    "start_time": "2022-02-25T13:52:00.951Z"
   },
   {
    "duration": 25,
    "start_time": "2022-02-25T13:52:00.997Z"
   },
   {
    "duration": 28,
    "start_time": "2022-02-25T13:52:01.025Z"
   },
   {
    "duration": 1203,
    "start_time": "2022-02-25T13:52:01.056Z"
   },
   {
    "duration": 37,
    "start_time": "2022-02-25T13:52:02.262Z"
   },
   {
    "duration": 38,
    "start_time": "2022-02-25T13:52:02.301Z"
   },
   {
    "duration": 39,
    "start_time": "2022-02-25T13:52:02.342Z"
   },
   {
    "duration": 25,
    "start_time": "2022-02-25T13:54:15.674Z"
   },
   {
    "duration": 23,
    "start_time": "2022-02-25T13:54:28.435Z"
   },
   {
    "duration": 31,
    "start_time": "2022-02-25T15:22:38.674Z"
   },
   {
    "duration": 761,
    "start_time": "2022-02-25T15:23:31.218Z"
   },
   {
    "duration": 23,
    "start_time": "2022-02-25T15:23:45.574Z"
   },
   {
    "duration": 411,
    "start_time": "2022-02-25T15:24:30.483Z"
   },
   {
    "duration": 14,
    "start_time": "2022-02-25T15:24:38.741Z"
   },
   {
    "duration": 12,
    "start_time": "2022-02-25T15:24:50.743Z"
   },
   {
    "duration": 26,
    "start_time": "2022-02-25T16:33:31.893Z"
   },
   {
    "duration": 25,
    "start_time": "2022-02-25T16:33:45.129Z"
   },
   {
    "duration": 16,
    "start_time": "2022-02-25T17:17:30.069Z"
   },
   {
    "duration": 12,
    "start_time": "2022-02-25T17:24:17.708Z"
   },
   {
    "duration": 26,
    "start_time": "2022-02-25T17:28:48.232Z"
   },
   {
    "duration": 5,
    "start_time": "2022-02-25T18:02:23.121Z"
   },
   {
    "duration": 5,
    "start_time": "2022-02-25T18:02:25.080Z"
   },
   {
    "duration": 5,
    "start_time": "2022-02-25T18:02:26.200Z"
   },
   {
    "duration": 5,
    "start_time": "2022-02-25T18:02:31.842Z"
   },
   {
    "duration": 290,
    "start_time": "2022-02-25T20:17:25.276Z"
   },
   {
    "duration": 9,
    "start_time": "2022-02-25T20:17:33.753Z"
   },
   {
    "duration": 7,
    "start_time": "2022-02-25T20:18:13.776Z"
   },
   {
    "duration": 6,
    "start_time": "2022-02-25T20:18:15.730Z"
   },
   {
    "duration": 7,
    "start_time": "2022-02-25T20:18:28.430Z"
   },
   {
    "duration": 10,
    "start_time": "2022-02-25T20:18:48.352Z"
   },
   {
    "duration": 8,
    "start_time": "2022-02-25T20:19:13.369Z"
   },
   {
    "duration": 294,
    "start_time": "2022-02-25T20:19:34.227Z"
   },
   {
    "duration": 8,
    "start_time": "2022-02-25T20:19:40.596Z"
   },
   {
    "duration": 10,
    "start_time": "2022-02-25T20:20:20.210Z"
   },
   {
    "duration": 10,
    "start_time": "2022-02-25T20:21:42.759Z"
   },
   {
    "duration": 7120,
    "start_time": "2022-02-25T20:21:53.331Z"
   },
   {
    "duration": 8,
    "start_time": "2022-02-25T20:22:10.587Z"
   },
   {
    "duration": 9,
    "start_time": "2022-02-25T20:22:22.491Z"
   },
   {
    "duration": 372,
    "start_time": "2022-02-26T09:53:15.193Z"
   },
   {
    "duration": 617,
    "start_time": "2022-02-26T12:12:01.780Z"
   },
   {
    "duration": 11,
    "start_time": "2022-02-26T12:12:02.398Z"
   },
   {
    "duration": 15,
    "start_time": "2022-02-26T12:12:02.411Z"
   },
   {
    "duration": 9,
    "start_time": "2022-02-26T12:12:02.428Z"
   },
   {
    "duration": 13,
    "start_time": "2022-02-26T12:12:02.438Z"
   },
   {
    "duration": 8,
    "start_time": "2022-02-26T12:12:02.453Z"
   },
   {
    "duration": 11,
    "start_time": "2022-02-26T12:12:02.463Z"
   },
   {
    "duration": 24,
    "start_time": "2022-02-26T12:12:02.477Z"
   },
   {
    "duration": 10,
    "start_time": "2022-02-26T12:12:02.503Z"
   },
   {
    "duration": 10,
    "start_time": "2022-02-26T12:12:02.515Z"
   },
   {
    "duration": 14,
    "start_time": "2022-02-26T12:12:02.526Z"
   },
   {
    "duration": 17,
    "start_time": "2022-02-26T12:12:02.542Z"
   },
   {
    "duration": 11,
    "start_time": "2022-02-26T12:12:02.560Z"
   },
   {
    "duration": 7,
    "start_time": "2022-02-26T12:12:02.572Z"
   },
   {
    "duration": 6,
    "start_time": "2022-02-26T12:12:02.580Z"
   },
   {
    "duration": 11,
    "start_time": "2022-02-26T12:12:02.588Z"
   },
   {
    "duration": 11,
    "start_time": "2022-02-26T12:12:02.601Z"
   },
   {
    "duration": 48,
    "start_time": "2022-02-26T12:12:02.614Z"
   },
   {
    "duration": 16,
    "start_time": "2022-02-26T12:12:02.664Z"
   },
   {
    "duration": 11,
    "start_time": "2022-02-26T12:12:02.682Z"
   },
   {
    "duration": 21,
    "start_time": "2022-02-26T12:12:02.695Z"
   },
   {
    "duration": 15,
    "start_time": "2022-02-26T12:12:02.717Z"
   },
   {
    "duration": 28,
    "start_time": "2022-02-26T12:12:02.735Z"
   },
   {
    "duration": 12,
    "start_time": "2022-02-26T12:12:02.766Z"
   },
   {
    "duration": 9,
    "start_time": "2022-02-26T12:12:02.780Z"
   },
   {
    "duration": 8,
    "start_time": "2022-02-26T12:12:02.791Z"
   },
   {
    "duration": 15,
    "start_time": "2022-02-26T12:12:02.800Z"
   },
   {
    "duration": 44,
    "start_time": "2022-02-26T12:12:02.817Z"
   },
   {
    "duration": 8,
    "start_time": "2022-02-26T12:12:02.863Z"
   },
   {
    "duration": 8,
    "start_time": "2022-02-26T12:12:02.873Z"
   },
   {
    "duration": 8,
    "start_time": "2022-02-26T12:12:02.883Z"
   },
   {
    "duration": 8,
    "start_time": "2022-02-26T12:12:02.893Z"
   },
   {
    "duration": 9,
    "start_time": "2022-02-26T12:12:02.903Z"
   },
   {
    "duration": 48,
    "start_time": "2022-02-26T12:12:02.914Z"
   },
   {
    "duration": 14,
    "start_time": "2022-02-26T12:12:02.963Z"
   },
   {
    "duration": 4,
    "start_time": "2022-02-26T12:12:02.978Z"
   },
   {
    "duration": 5,
    "start_time": "2022-02-26T12:12:02.984Z"
   },
   {
    "duration": 17,
    "start_time": "2022-02-26T12:12:02.990Z"
   },
   {
    "duration": 13,
    "start_time": "2022-02-26T12:12:03.008Z"
   },
   {
    "duration": 8,
    "start_time": "2022-02-26T12:12:03.059Z"
   },
   {
    "duration": 12,
    "start_time": "2022-02-26T12:12:03.069Z"
   },
   {
    "duration": 11,
    "start_time": "2022-02-26T12:12:03.083Z"
   },
   {
    "duration": 31,
    "start_time": "2022-02-26T12:12:03.096Z"
   },
   {
    "duration": 15,
    "start_time": "2022-02-26T12:12:03.128Z"
   },
   {
    "duration": 19,
    "start_time": "2022-02-26T12:12:03.145Z"
   },
   {
    "duration": 16,
    "start_time": "2022-02-26T12:12:03.165Z"
   },
   {
    "duration": 15,
    "start_time": "2022-02-26T12:12:03.182Z"
   },
   {
    "duration": 5,
    "start_time": "2022-02-26T12:12:03.199Z"
   },
   {
    "duration": 16,
    "start_time": "2022-02-26T12:12:03.206Z"
   },
   {
    "duration": 16,
    "start_time": "2022-02-26T12:12:03.259Z"
   },
   {
    "duration": 280,
    "start_time": "2022-02-26T14:04:55.882Z"
   },
   {
    "duration": 18,
    "start_time": "2022-02-26T14:05:05.076Z"
   },
   {
    "duration": 16,
    "start_time": "2022-02-26T14:10:59.458Z"
   },
   {
    "duration": 16,
    "start_time": "2022-02-26T14:21:03.309Z"
   },
   {
    "duration": 17,
    "start_time": "2022-02-26T14:22:12.993Z"
   },
   {
    "duration": 16,
    "start_time": "2022-02-26T14:22:20.533Z"
   },
   {
    "duration": 17,
    "start_time": "2022-02-26T14:22:25.667Z"
   },
   {
    "duration": 14,
    "start_time": "2022-02-26T14:22:41.919Z"
   },
   {
    "duration": 12,
    "start_time": "2022-02-26T14:23:15.252Z"
   },
   {
    "duration": 9,
    "start_time": "2022-02-26T14:23:23.104Z"
   },
   {
    "duration": 17,
    "start_time": "2022-02-26T14:23:38.960Z"
   },
   {
    "duration": 3,
    "start_time": "2022-02-26T14:56:09.492Z"
   },
   {
    "duration": 4,
    "start_time": "2022-02-26T14:56:20.571Z"
   },
   {
    "duration": 224,
    "start_time": "2022-02-26T14:57:23.394Z"
   },
   {
    "duration": 4902,
    "start_time": "2022-02-26T14:58:28.791Z"
   },
   {
    "duration": 8,
    "start_time": "2022-02-26T14:59:08.098Z"
   },
   {
    "duration": 366,
    "start_time": "2022-02-26T15:00:12.708Z"
   },
   {
    "duration": 8,
    "start_time": "2022-02-26T15:00:44.370Z"
   },
   {
    "duration": -1509,
    "start_time": "2022-02-26T15:05:04.082Z"
   },
   {
    "duration": 6,
    "start_time": "2022-02-26T15:06:42.821Z"
   },
   {
    "duration": 7,
    "start_time": "2022-02-26T15:07:11.684Z"
   },
   {
    "duration": 10,
    "start_time": "2022-02-26T15:07:31.129Z"
   },
   {
    "duration": 10,
    "start_time": "2022-02-26T15:07:36.884Z"
   },
   {
    "duration": 222,
    "start_time": "2022-02-26T15:09:46.993Z"
   },
   {
    "duration": 7,
    "start_time": "2022-02-26T15:09:55.943Z"
   },
   {
    "duration": 6,
    "start_time": "2022-02-26T15:10:09.895Z"
   },
   {
    "duration": 224,
    "start_time": "2022-02-26T15:12:02.567Z"
   },
   {
    "duration": 8,
    "start_time": "2022-02-26T15:12:18.191Z"
   },
   {
    "duration": 7,
    "start_time": "2022-02-26T15:12:39.482Z"
   },
   {
    "duration": 10,
    "start_time": "2022-02-26T15:13:01.784Z"
   },
   {
    "duration": 13,
    "start_time": "2022-02-26T15:13:33.990Z"
   },
   {
    "duration": 9,
    "start_time": "2022-02-26T15:13:45.566Z"
   },
   {
    "duration": 228,
    "start_time": "2022-02-26T15:15:30.763Z"
   },
   {
    "duration": 8,
    "start_time": "2022-02-26T15:15:45.441Z"
   },
   {
    "duration": 12,
    "start_time": "2022-02-26T15:15:51.241Z"
   },
   {
    "duration": 11,
    "start_time": "2022-02-26T15:23:14.683Z"
   },
   {
    "duration": 9,
    "start_time": "2022-02-26T15:25:42.760Z"
   },
   {
    "duration": 11,
    "start_time": "2022-02-26T15:25:45.145Z"
   },
   {
    "duration": 3,
    "start_time": "2022-02-26T15:33:40.724Z"
   },
   {
    "duration": 4,
    "start_time": "2022-02-26T15:34:40.505Z"
   },
   {
    "duration": 24,
    "start_time": "2022-02-26T16:51:36.924Z"
   },
   {
    "duration": 26,
    "start_time": "2022-02-26T16:52:02.763Z"
   },
   {
    "duration": 20,
    "start_time": "2022-02-26T16:52:16.335Z"
   },
   {
    "duration": 20,
    "start_time": "2022-02-26T18:50:18.949Z"
   },
   {
    "duration": 17,
    "start_time": "2022-02-26T18:50:55.722Z"
   },
   {
    "duration": 18,
    "start_time": "2022-02-26T18:51:04.947Z"
   },
   {
    "duration": 17,
    "start_time": "2022-02-26T18:51:15.892Z"
   },
   {
    "duration": 18,
    "start_time": "2022-02-26T18:51:39.984Z"
   },
   {
    "duration": 17,
    "start_time": "2022-02-26T18:53:09.767Z"
   },
   {
    "duration": 18,
    "start_time": "2022-02-26T18:53:21.846Z"
   },
   {
    "duration": 17,
    "start_time": "2022-02-26T18:53:27.913Z"
   },
   {
    "duration": 16,
    "start_time": "2022-02-26T18:53:31.648Z"
   },
   {
    "duration": 13,
    "start_time": "2022-02-26T18:53:37.857Z"
   },
   {
    "duration": 677,
    "start_time": "2022-02-26T21:17:00.221Z"
   },
   {
    "duration": 11,
    "start_time": "2022-02-26T21:17:00.900Z"
   },
   {
    "duration": 23,
    "start_time": "2022-02-26T21:17:00.913Z"
   },
   {
    "duration": 21,
    "start_time": "2022-02-26T21:17:00.939Z"
   },
   {
    "duration": 14,
    "start_time": "2022-02-26T21:17:00.962Z"
   },
   {
    "duration": 9,
    "start_time": "2022-02-26T21:17:00.978Z"
   },
   {
    "duration": 8,
    "start_time": "2022-02-26T21:17:00.989Z"
   },
   {
    "duration": 24,
    "start_time": "2022-02-26T21:17:01.000Z"
   },
   {
    "duration": 6,
    "start_time": "2022-02-26T21:17:01.027Z"
   },
   {
    "duration": 5,
    "start_time": "2022-02-26T21:17:01.059Z"
   },
   {
    "duration": 21,
    "start_time": "2022-02-26T21:17:01.066Z"
   },
   {
    "duration": 9,
    "start_time": "2022-02-26T21:17:01.089Z"
   },
   {
    "duration": 11,
    "start_time": "2022-02-26T21:17:01.100Z"
   },
   {
    "duration": 3,
    "start_time": "2022-02-26T21:17:01.113Z"
   },
   {
    "duration": 6,
    "start_time": "2022-02-26T21:17:01.118Z"
   },
   {
    "duration": 48,
    "start_time": "2022-02-26T21:17:01.126Z"
   },
   {
    "duration": 20,
    "start_time": "2022-02-26T21:17:01.176Z"
   },
   {
    "duration": 19,
    "start_time": "2022-02-26T21:17:01.198Z"
   },
   {
    "duration": 42,
    "start_time": "2022-02-26T21:17:01.219Z"
   },
   {
    "duration": 10,
    "start_time": "2022-02-26T21:17:01.263Z"
   },
   {
    "duration": 20,
    "start_time": "2022-02-26T21:17:01.275Z"
   },
   {
    "duration": 15,
    "start_time": "2022-02-26T21:17:01.297Z"
   },
   {
    "duration": 10,
    "start_time": "2022-02-26T21:17:01.315Z"
   },
   {
    "duration": 39,
    "start_time": "2022-02-26T21:17:01.328Z"
   },
   {
    "duration": 15,
    "start_time": "2022-02-26T21:17:01.370Z"
   },
   {
    "duration": 11,
    "start_time": "2022-02-26T21:17:01.387Z"
   },
   {
    "duration": 16,
    "start_time": "2022-02-26T21:17:01.400Z"
   },
   {
    "duration": 37,
    "start_time": "2022-02-26T21:17:01.418Z"
   },
   {
    "duration": 13,
    "start_time": "2022-02-26T21:17:01.457Z"
   },
   {
    "duration": 15,
    "start_time": "2022-02-26T21:17:01.471Z"
   },
   {
    "duration": 26,
    "start_time": "2022-02-26T21:17:01.488Z"
   },
   {
    "duration": 25,
    "start_time": "2022-02-26T21:17:01.516Z"
   },
   {
    "duration": 48,
    "start_time": "2022-02-26T21:17:01.543Z"
   },
   {
    "duration": 19,
    "start_time": "2022-02-26T21:17:01.593Z"
   },
   {
    "duration": 19,
    "start_time": "2022-02-26T21:17:01.614Z"
   },
   {
    "duration": 8,
    "start_time": "2022-02-26T21:17:01.635Z"
   },
   {
    "duration": 5,
    "start_time": "2022-02-26T21:17:01.645Z"
   },
   {
    "duration": 18,
    "start_time": "2022-02-26T21:17:01.652Z"
   },
   {
    "duration": 25,
    "start_time": "2022-02-26T21:17:01.672Z"
   },
   {
    "duration": 26,
    "start_time": "2022-02-26T21:17:01.699Z"
   },
   {
    "duration": 11,
    "start_time": "2022-02-26T21:17:01.727Z"
   },
   {
    "duration": 8,
    "start_time": "2022-02-26T21:17:01.739Z"
   },
   {
    "duration": 23,
    "start_time": "2022-02-26T21:17:01.748Z"
   },
   {
    "duration": 30,
    "start_time": "2022-02-26T21:17:01.772Z"
   },
   {
    "duration": 16,
    "start_time": "2022-02-26T21:17:01.804Z"
   },
   {
    "duration": 24,
    "start_time": "2022-02-26T21:17:01.822Z"
   },
   {
    "duration": 27,
    "start_time": "2022-02-26T21:17:01.848Z"
   },
   {
    "duration": 23,
    "start_time": "2022-02-26T21:17:01.877Z"
   },
   {
    "duration": 595,
    "start_time": "2022-03-07T12:43:49.625Z"
   },
   {
    "duration": 65,
    "start_time": "2022-03-07T12:43:50.222Z"
   },
   {
    "duration": 11,
    "start_time": "2022-03-07T12:43:50.290Z"
   },
   {
    "duration": 8,
    "start_time": "2022-03-07T12:43:50.303Z"
   },
   {
    "duration": 7,
    "start_time": "2022-03-07T12:43:50.312Z"
   },
   {
    "duration": 15,
    "start_time": "2022-03-07T12:43:50.320Z"
   },
   {
    "duration": 27,
    "start_time": "2022-03-07T12:43:50.336Z"
   },
   {
    "duration": 3,
    "start_time": "2022-03-07T12:43:50.365Z"
   },
   {
    "duration": 15,
    "start_time": "2022-03-07T12:43:50.370Z"
   },
   {
    "duration": 6,
    "start_time": "2022-03-07T12:43:50.387Z"
   },
   {
    "duration": 6,
    "start_time": "2022-03-07T12:43:50.394Z"
   },
   {
    "duration": 15,
    "start_time": "2022-03-07T12:43:50.401Z"
   },
   {
    "duration": 6,
    "start_time": "2022-03-07T12:43:50.417Z"
   },
   {
    "duration": 39,
    "start_time": "2022-03-07T12:43:50.425Z"
   },
   {
    "duration": 4,
    "start_time": "2022-03-07T12:43:50.466Z"
   },
   {
    "duration": 10,
    "start_time": "2022-03-07T12:43:50.471Z"
   },
   {
    "duration": 13,
    "start_time": "2022-03-07T12:43:50.482Z"
   },
   {
    "duration": 11,
    "start_time": "2022-03-07T12:43:50.496Z"
   },
   {
    "duration": 18,
    "start_time": "2022-03-07T12:43:50.508Z"
   },
   {
    "duration": 15,
    "start_time": "2022-03-07T12:43:50.559Z"
   },
   {
    "duration": 10,
    "start_time": "2022-03-07T12:43:50.575Z"
   },
   {
    "duration": 22,
    "start_time": "2022-03-07T12:43:50.587Z"
   },
   {
    "duration": 15,
    "start_time": "2022-03-07T12:43:50.612Z"
   },
   {
    "duration": 31,
    "start_time": "2022-03-07T12:43:50.629Z"
   },
   {
    "duration": 17,
    "start_time": "2022-03-07T12:43:50.662Z"
   },
   {
    "duration": 8,
    "start_time": "2022-03-07T12:43:50.682Z"
   },
   {
    "duration": 9,
    "start_time": "2022-03-07T12:43:50.692Z"
   },
   {
    "duration": 16,
    "start_time": "2022-03-07T12:43:50.702Z"
   },
   {
    "duration": 11,
    "start_time": "2022-03-07T12:43:50.720Z"
   },
   {
    "duration": 11,
    "start_time": "2022-03-07T12:43:50.760Z"
   },
   {
    "duration": 10,
    "start_time": "2022-03-07T12:43:50.773Z"
   },
   {
    "duration": 10,
    "start_time": "2022-03-07T12:43:50.784Z"
   },
   {
    "duration": 13,
    "start_time": "2022-03-07T12:43:50.795Z"
   },
   {
    "duration": 12,
    "start_time": "2022-03-07T12:43:50.810Z"
   },
   {
    "duration": 42,
    "start_time": "2022-03-07T12:43:50.823Z"
   },
   {
    "duration": 22,
    "start_time": "2022-03-07T12:43:50.868Z"
   },
   {
    "duration": 5,
    "start_time": "2022-03-07T12:43:50.892Z"
   },
   {
    "duration": 8,
    "start_time": "2022-03-07T12:43:50.899Z"
   },
   {
    "duration": 18,
    "start_time": "2022-03-07T12:43:50.908Z"
   },
   {
    "duration": 38,
    "start_time": "2022-03-07T12:43:50.927Z"
   },
   {
    "duration": 7,
    "start_time": "2022-03-07T12:43:50.967Z"
   },
   {
    "duration": 6,
    "start_time": "2022-03-07T12:43:50.976Z"
   },
   {
    "duration": 9,
    "start_time": "2022-03-07T12:43:50.984Z"
   },
   {
    "duration": 22,
    "start_time": "2022-03-07T12:43:50.995Z"
   },
   {
    "duration": 19,
    "start_time": "2022-03-07T12:43:51.019Z"
   },
   {
    "duration": 35,
    "start_time": "2022-03-07T12:43:51.039Z"
   },
   {
    "duration": 18,
    "start_time": "2022-03-07T12:43:51.075Z"
   },
   {
    "duration": 19,
    "start_time": "2022-03-07T12:43:51.094Z"
   },
   {
    "duration": 48,
    "start_time": "2022-03-07T12:43:51.115Z"
   },
   {
    "duration": 81,
    "start_time": "2022-03-07T12:45:03.454Z"
   },
   {
    "duration": 92,
    "start_time": "2022-03-07T12:45:09.421Z"
   },
   {
    "duration": 74,
    "start_time": "2022-03-07T12:45:15.458Z"
   },
   {
    "duration": 81,
    "start_time": "2022-03-07T12:45:41.234Z"
   },
   {
    "duration": 73,
    "start_time": "2022-03-07T12:45:48.318Z"
   },
   {
    "duration": 76,
    "start_time": "2022-03-07T12:46:36.544Z"
   },
   {
    "duration": 74,
    "start_time": "2022-03-07T12:46:55.644Z"
   },
   {
    "duration": 665,
    "start_time": "2022-03-07T12:57:17.463Z"
   },
   {
    "duration": 63,
    "start_time": "2022-03-07T12:57:18.130Z"
   },
   {
    "duration": 11,
    "start_time": "2022-03-07T12:57:18.195Z"
   },
   {
    "duration": 19,
    "start_time": "2022-03-07T12:57:18.208Z"
   },
   {
    "duration": 8,
    "start_time": "2022-03-07T12:57:18.229Z"
   },
   {
    "duration": 39,
    "start_time": "2022-03-07T12:57:18.239Z"
   },
   {
    "duration": 10,
    "start_time": "2022-03-07T12:57:18.279Z"
   },
   {
    "duration": 14,
    "start_time": "2022-03-07T12:57:18.292Z"
   },
   {
    "duration": 30,
    "start_time": "2022-03-07T12:57:18.308Z"
   },
   {
    "duration": 5,
    "start_time": "2022-03-07T12:57:18.339Z"
   },
   {
    "duration": 16,
    "start_time": "2022-03-07T12:57:18.346Z"
   },
   {
    "duration": 17,
    "start_time": "2022-03-07T12:57:18.364Z"
   },
   {
    "duration": 10,
    "start_time": "2022-03-07T12:57:18.383Z"
   },
   {
    "duration": 19,
    "start_time": "2022-03-07T12:57:18.394Z"
   },
   {
    "duration": 13,
    "start_time": "2022-03-07T12:57:18.415Z"
   },
   {
    "duration": 9,
    "start_time": "2022-03-07T12:57:18.429Z"
   },
   {
    "duration": 18,
    "start_time": "2022-03-07T12:57:18.439Z"
   },
   {
    "duration": 12,
    "start_time": "2022-03-07T12:57:18.459Z"
   },
   {
    "duration": 16,
    "start_time": "2022-03-07T12:57:18.473Z"
   },
   {
    "duration": 13,
    "start_time": "2022-03-07T12:57:18.491Z"
   },
   {
    "duration": 10,
    "start_time": "2022-03-07T12:57:18.506Z"
   },
   {
    "duration": 49,
    "start_time": "2022-03-07T12:57:18.518Z"
   },
   {
    "duration": 15,
    "start_time": "2022-03-07T12:57:18.571Z"
   },
   {
    "duration": 8,
    "start_time": "2022-03-07T12:57:18.589Z"
   },
   {
    "duration": 20,
    "start_time": "2022-03-07T12:57:18.599Z"
   },
   {
    "duration": 20,
    "start_time": "2022-03-07T12:57:18.621Z"
   },
   {
    "duration": 21,
    "start_time": "2022-03-07T12:57:18.643Z"
   },
   {
    "duration": 13,
    "start_time": "2022-03-07T12:57:18.666Z"
   },
   {
    "duration": 10,
    "start_time": "2022-03-07T12:57:18.681Z"
   },
   {
    "duration": 8,
    "start_time": "2022-03-07T12:57:18.693Z"
   },
   {
    "duration": 9,
    "start_time": "2022-03-07T12:57:18.703Z"
   },
   {
    "duration": 48,
    "start_time": "2022-03-07T12:57:18.714Z"
   },
   {
    "duration": 14,
    "start_time": "2022-03-07T12:57:18.764Z"
   },
   {
    "duration": 13,
    "start_time": "2022-03-07T12:57:18.780Z"
   },
   {
    "duration": 12,
    "start_time": "2022-03-07T12:57:18.795Z"
   },
   {
    "duration": 12,
    "start_time": "2022-03-07T12:57:18.809Z"
   },
   {
    "duration": 4,
    "start_time": "2022-03-07T12:57:18.860Z"
   },
   {
    "duration": 5,
    "start_time": "2022-03-07T12:57:18.866Z"
   },
   {
    "duration": 17,
    "start_time": "2022-03-07T12:57:18.873Z"
   },
   {
    "duration": 13,
    "start_time": "2022-03-07T12:57:18.892Z"
   },
   {
    "duration": 8,
    "start_time": "2022-03-07T12:57:18.907Z"
   },
   {
    "duration": 3,
    "start_time": "2022-03-07T12:57:18.916Z"
   },
   {
    "duration": 40,
    "start_time": "2022-03-07T12:57:18.921Z"
   },
   {
    "duration": 18,
    "start_time": "2022-03-07T12:57:18.962Z"
   },
   {
    "duration": 13,
    "start_time": "2022-03-07T12:57:18.982Z"
   },
   {
    "duration": 17,
    "start_time": "2022-03-07T12:57:18.997Z"
   },
   {
    "duration": 52,
    "start_time": "2022-03-07T12:57:19.016Z"
   },
   {
    "duration": 26,
    "start_time": "2022-03-07T12:57:19.070Z"
   },
   {
    "duration": 25,
    "start_time": "2022-03-07T12:57:19.098Z"
   },
   {
    "duration": 3,
    "start_time": "2022-03-07T12:57:40.459Z"
   },
   {
    "duration": 12,
    "start_time": "2022-03-07T13:25:45.136Z"
   },
   {
    "duration": 12,
    "start_time": "2022-03-07T13:25:47.592Z"
   },
   {
    "duration": 11,
    "start_time": "2022-03-07T13:31:47.982Z"
   },
   {
    "duration": 605,
    "start_time": "2022-03-07T13:32:11.043Z"
   },
   {
    "duration": 65,
    "start_time": "2022-03-07T13:32:11.650Z"
   },
   {
    "duration": 11,
    "start_time": "2022-03-07T13:32:11.717Z"
   },
   {
    "duration": 31,
    "start_time": "2022-03-07T13:32:11.730Z"
   },
   {
    "duration": 8,
    "start_time": "2022-03-07T13:32:11.763Z"
   },
   {
    "duration": 20,
    "start_time": "2022-03-07T13:32:11.772Z"
   },
   {
    "duration": 10,
    "start_time": "2022-03-07T13:32:11.793Z"
   },
   {
    "duration": 10,
    "start_time": "2022-03-07T13:32:11.805Z"
   },
   {
    "duration": 16,
    "start_time": "2022-03-07T13:32:11.817Z"
   },
   {
    "duration": 29,
    "start_time": "2022-03-07T13:32:11.836Z"
   },
   {
    "duration": 5,
    "start_time": "2022-03-07T13:32:11.867Z"
   },
   {
    "duration": 17,
    "start_time": "2022-03-07T13:32:11.873Z"
   },
   {
    "duration": 7,
    "start_time": "2022-03-07T13:32:11.891Z"
   },
   {
    "duration": 11,
    "start_time": "2022-03-07T13:32:11.899Z"
   },
   {
    "duration": 4,
    "start_time": "2022-03-07T13:32:11.913Z"
   },
   {
    "duration": 41,
    "start_time": "2022-03-07T13:32:11.919Z"
   },
   {
    "duration": 19,
    "start_time": "2022-03-07T13:32:11.962Z"
   },
   {
    "duration": 16,
    "start_time": "2022-03-07T13:32:11.984Z"
   },
   {
    "duration": 13,
    "start_time": "2022-03-07T13:32:12.002Z"
   },
   {
    "duration": 43,
    "start_time": "2022-03-07T13:32:12.017Z"
   },
   {
    "duration": 15,
    "start_time": "2022-03-07T13:32:12.062Z"
   },
   {
    "duration": 10,
    "start_time": "2022-03-07T13:32:12.079Z"
   },
   {
    "duration": 20,
    "start_time": "2022-03-07T13:32:12.091Z"
   },
   {
    "duration": 15,
    "start_time": "2022-03-07T13:32:12.113Z"
   },
   {
    "duration": 34,
    "start_time": "2022-03-07T13:32:12.129Z"
   },
   {
    "duration": 11,
    "start_time": "2022-03-07T13:32:12.165Z"
   },
   {
    "duration": 8,
    "start_time": "2022-03-07T13:32:12.180Z"
   },
   {
    "duration": 8,
    "start_time": "2022-03-07T13:32:12.190Z"
   },
   {
    "duration": 14,
    "start_time": "2022-03-07T13:32:12.199Z"
   },
   {
    "duration": 10,
    "start_time": "2022-03-07T13:32:12.214Z"
   },
   {
    "duration": 41,
    "start_time": "2022-03-07T13:32:12.226Z"
   },
   {
    "duration": 14,
    "start_time": "2022-03-07T13:32:12.269Z"
   },
   {
    "duration": 10,
    "start_time": "2022-03-07T13:32:12.284Z"
   },
   {
    "duration": 17,
    "start_time": "2022-03-07T13:32:12.296Z"
   },
   {
    "duration": 13,
    "start_time": "2022-03-07T13:32:12.315Z"
   },
   {
    "duration": 32,
    "start_time": "2022-03-07T13:32:12.329Z"
   },
   {
    "duration": 13,
    "start_time": "2022-03-07T13:32:12.362Z"
   },
   {
    "duration": 3,
    "start_time": "2022-03-07T13:32:12.376Z"
   },
   {
    "duration": 5,
    "start_time": "2022-03-07T13:32:12.381Z"
   },
   {
    "duration": 18,
    "start_time": "2022-03-07T13:32:12.388Z"
   },
   {
    "duration": 15,
    "start_time": "2022-03-07T13:32:12.407Z"
   },
   {
    "duration": 41,
    "start_time": "2022-03-07T13:32:12.423Z"
   },
   {
    "duration": 3,
    "start_time": "2022-03-07T13:32:12.466Z"
   },
   {
    "duration": 7,
    "start_time": "2022-03-07T13:32:12.470Z"
   },
   {
    "duration": 18,
    "start_time": "2022-03-07T13:32:12.478Z"
   },
   {
    "duration": 13,
    "start_time": "2022-03-07T13:32:12.498Z"
   },
   {
    "duration": 50,
    "start_time": "2022-03-07T13:32:12.513Z"
   },
   {
    "duration": 18,
    "start_time": "2022-03-07T13:32:12.564Z"
   },
   {
    "duration": 18,
    "start_time": "2022-03-07T13:32:12.584Z"
   },
   {
    "duration": 19,
    "start_time": "2022-03-07T13:32:12.604Z"
   },
   {
    "duration": 13,
    "start_time": "2022-03-07T13:35:27.214Z"
   },
   {
    "duration": 13,
    "start_time": "2022-03-07T13:35:32.577Z"
   },
   {
    "duration": 11,
    "start_time": "2022-03-07T13:35:36.451Z"
   },
   {
    "duration": 309,
    "start_time": "2022-03-07T13:49:56.084Z"
   },
   {
    "duration": 21,
    "start_time": "2022-03-07T13:50:26.038Z"
   },
   {
    "duration": 19,
    "start_time": "2022-03-07T13:50:38.446Z"
   },
   {
    "duration": 19,
    "start_time": "2022-03-07T13:50:50.658Z"
   },
   {
    "duration": 14,
    "start_time": "2022-03-07T13:51:00.552Z"
   },
   {
    "duration": 5,
    "start_time": "2022-03-07T13:52:16.033Z"
   },
   {
    "duration": 84,
    "start_time": "2022-03-07T14:25:06.191Z"
   },
   {
    "duration": 221,
    "start_time": "2022-03-07T14:30:07.569Z"
   },
   {
    "duration": 25,
    "start_time": "2022-03-07T14:30:47.504Z"
   },
   {
    "duration": 13,
    "start_time": "2022-03-07T14:31:14.677Z"
   },
   {
    "duration": 557,
    "start_time": "2022-03-07T14:32:08.709Z"
   },
   {
    "duration": 63,
    "start_time": "2022-03-07T14:32:09.268Z"
   },
   {
    "duration": 12,
    "start_time": "2022-03-07T14:32:09.333Z"
   },
   {
    "duration": 18,
    "start_time": "2022-03-07T14:32:09.347Z"
   },
   {
    "duration": 8,
    "start_time": "2022-03-07T14:32:09.367Z"
   },
   {
    "duration": 18,
    "start_time": "2022-03-07T14:32:09.376Z"
   },
   {
    "duration": 19,
    "start_time": "2022-03-07T14:32:09.395Z"
   },
   {
    "duration": 4,
    "start_time": "2022-03-07T14:32:09.415Z"
   },
   {
    "duration": 40,
    "start_time": "2022-03-07T14:32:09.421Z"
   },
   {
    "duration": 14,
    "start_time": "2022-03-07T14:32:09.463Z"
   },
   {
    "duration": 6,
    "start_time": "2022-03-07T14:32:09.479Z"
   },
   {
    "duration": 5,
    "start_time": "2022-03-07T14:32:09.487Z"
   },
   {
    "duration": 15,
    "start_time": "2022-03-07T14:32:09.494Z"
   },
   {
    "duration": 8,
    "start_time": "2022-03-07T14:32:09.511Z"
   },
   {
    "duration": 47,
    "start_time": "2022-03-07T14:32:09.521Z"
   },
   {
    "duration": 4,
    "start_time": "2022-03-07T14:32:09.570Z"
   },
   {
    "duration": 8,
    "start_time": "2022-03-07T14:32:09.575Z"
   },
   {
    "duration": 299,
    "start_time": "2022-03-07T14:32:09.584Z"
   },
   {
    "duration": -1085,
    "start_time": "2022-03-07T14:32:10.971Z"
   },
   {
    "duration": -1090,
    "start_time": "2022-03-07T14:32:10.977Z"
   },
   {
    "duration": -1094,
    "start_time": "2022-03-07T14:32:10.982Z"
   },
   {
    "duration": -1098,
    "start_time": "2022-03-07T14:32:10.987Z"
   },
   {
    "duration": -1104,
    "start_time": "2022-03-07T14:32:10.994Z"
   },
   {
    "duration": -1107,
    "start_time": "2022-03-07T14:32:10.998Z"
   },
   {
    "duration": -1111,
    "start_time": "2022-03-07T14:32:11.004Z"
   },
   {
    "duration": -1116,
    "start_time": "2022-03-07T14:32:11.010Z"
   },
   {
    "duration": -1120,
    "start_time": "2022-03-07T14:32:11.015Z"
   },
   {
    "duration": -1124,
    "start_time": "2022-03-07T14:32:11.020Z"
   },
   {
    "duration": -1128,
    "start_time": "2022-03-07T14:32:11.026Z"
   },
   {
    "duration": -1132,
    "start_time": "2022-03-07T14:32:11.031Z"
   },
   {
    "duration": -1136,
    "start_time": "2022-03-07T14:32:11.036Z"
   },
   {
    "duration": -1141,
    "start_time": "2022-03-07T14:32:11.042Z"
   },
   {
    "duration": -1146,
    "start_time": "2022-03-07T14:32:11.048Z"
   },
   {
    "duration": -1151,
    "start_time": "2022-03-07T14:32:11.053Z"
   },
   {
    "duration": -1155,
    "start_time": "2022-03-07T14:32:11.058Z"
   },
   {
    "duration": -1183,
    "start_time": "2022-03-07T14:32:11.087Z"
   },
   {
    "duration": -1189,
    "start_time": "2022-03-07T14:32:11.094Z"
   },
   {
    "duration": -1193,
    "start_time": "2022-03-07T14:32:11.099Z"
   },
   {
    "duration": -1199,
    "start_time": "2022-03-07T14:32:11.106Z"
   },
   {
    "duration": -1203,
    "start_time": "2022-03-07T14:32:11.111Z"
   },
   {
    "duration": -1208,
    "start_time": "2022-03-07T14:32:11.117Z"
   },
   {
    "duration": -1213,
    "start_time": "2022-03-07T14:32:11.123Z"
   },
   {
    "duration": -1217,
    "start_time": "2022-03-07T14:32:11.128Z"
   },
   {
    "duration": -1221,
    "start_time": "2022-03-07T14:32:11.133Z"
   },
   {
    "duration": -1227,
    "start_time": "2022-03-07T14:32:11.140Z"
   },
   {
    "duration": -1231,
    "start_time": "2022-03-07T14:32:11.145Z"
   },
   {
    "duration": -1235,
    "start_time": "2022-03-07T14:32:11.150Z"
   },
   {
    "duration": -1239,
    "start_time": "2022-03-07T14:32:11.155Z"
   },
   {
    "duration": -1245,
    "start_time": "2022-03-07T14:32:11.161Z"
   },
   {
    "duration": -1249,
    "start_time": "2022-03-07T14:32:11.166Z"
   },
   {
    "duration": -1254,
    "start_time": "2022-03-07T14:32:11.172Z"
   },
   {
    "duration": 578,
    "start_time": "2022-03-07T14:34:05.898Z"
   },
   {
    "duration": 63,
    "start_time": "2022-03-07T14:34:06.478Z"
   },
   {
    "duration": 16,
    "start_time": "2022-03-07T14:34:06.543Z"
   },
   {
    "duration": 8,
    "start_time": "2022-03-07T14:34:06.561Z"
   },
   {
    "duration": 7,
    "start_time": "2022-03-07T14:34:06.571Z"
   },
   {
    "duration": 18,
    "start_time": "2022-03-07T14:34:06.579Z"
   },
   {
    "duration": 5,
    "start_time": "2022-03-07T14:34:06.599Z"
   },
   {
    "duration": 2,
    "start_time": "2022-03-07T14:34:06.606Z"
   },
   {
    "duration": 19,
    "start_time": "2022-03-07T14:34:06.610Z"
   },
   {
    "duration": 42,
    "start_time": "2022-03-07T14:34:06.630Z"
   },
   {
    "duration": 5,
    "start_time": "2022-03-07T14:34:06.674Z"
   },
   {
    "duration": 5,
    "start_time": "2022-03-07T14:34:06.680Z"
   },
   {
    "duration": 16,
    "start_time": "2022-03-07T14:34:06.686Z"
   },
   {
    "duration": 5,
    "start_time": "2022-03-07T14:34:06.704Z"
   },
   {
    "duration": 49,
    "start_time": "2022-03-07T14:34:06.711Z"
   },
   {
    "duration": 4,
    "start_time": "2022-03-07T14:34:06.761Z"
   },
   {
    "duration": 8,
    "start_time": "2022-03-07T14:34:06.766Z"
   },
   {
    "duration": 15,
    "start_time": "2022-03-07T14:34:06.776Z"
   },
   {
    "duration": 21,
    "start_time": "2022-03-07T14:34:06.792Z"
   },
   {
    "duration": 11,
    "start_time": "2022-03-07T14:34:06.814Z"
   },
   {
    "duration": 45,
    "start_time": "2022-03-07T14:34:06.827Z"
   },
   {
    "duration": 20,
    "start_time": "2022-03-07T14:34:06.874Z"
   },
   {
    "duration": 17,
    "start_time": "2022-03-07T14:34:06.899Z"
   },
   {
    "duration": 46,
    "start_time": "2022-03-07T14:34:06.919Z"
   },
   {
    "duration": 15,
    "start_time": "2022-03-07T14:34:06.967Z"
   },
   {
    "duration": 7,
    "start_time": "2022-03-07T14:34:06.983Z"
   },
   {
    "duration": 14,
    "start_time": "2022-03-07T14:34:06.991Z"
   },
   {
    "duration": 8,
    "start_time": "2022-03-07T14:34:07.007Z"
   },
   {
    "duration": 14,
    "start_time": "2022-03-07T14:34:07.016Z"
   },
   {
    "duration": 37,
    "start_time": "2022-03-07T14:34:07.032Z"
   },
   {
    "duration": 8,
    "start_time": "2022-03-07T14:34:07.071Z"
   },
   {
    "duration": 11,
    "start_time": "2022-03-07T14:34:07.081Z"
   },
   {
    "duration": 10,
    "start_time": "2022-03-07T14:34:07.093Z"
   },
   {
    "duration": 8,
    "start_time": "2022-03-07T14:34:07.104Z"
   },
   {
    "duration": 13,
    "start_time": "2022-03-07T14:34:07.114Z"
   },
   {
    "duration": 41,
    "start_time": "2022-03-07T14:34:07.128Z"
   },
   {
    "duration": 10,
    "start_time": "2022-03-07T14:34:07.170Z"
   },
   {
    "duration": 12,
    "start_time": "2022-03-07T14:34:07.182Z"
   },
   {
    "duration": 3,
    "start_time": "2022-03-07T14:34:07.196Z"
   },
   {
    "duration": 11,
    "start_time": "2022-03-07T14:34:07.200Z"
   },
   {
    "duration": 17,
    "start_time": "2022-03-07T14:34:07.212Z"
   },
   {
    "duration": 41,
    "start_time": "2022-03-07T14:34:07.231Z"
   },
   {
    "duration": 7,
    "start_time": "2022-03-07T14:34:07.273Z"
   },
   {
    "duration": 3,
    "start_time": "2022-03-07T14:34:07.282Z"
   },
   {
    "duration": 7,
    "start_time": "2022-03-07T14:34:07.287Z"
   },
   {
    "duration": 17,
    "start_time": "2022-03-07T14:34:07.295Z"
   },
   {
    "duration": 46,
    "start_time": "2022-03-07T14:34:07.313Z"
   },
   {
    "duration": 17,
    "start_time": "2022-03-07T14:34:07.361Z"
   },
   {
    "duration": 18,
    "start_time": "2022-03-07T14:34:07.380Z"
   },
   {
    "duration": 17,
    "start_time": "2022-03-07T14:34:07.400Z"
   },
   {
    "duration": 48,
    "start_time": "2022-03-07T14:34:07.418Z"
   },
   {
    "duration": 579,
    "start_time": "2022-03-07T14:34:53.303Z"
   },
   {
    "duration": 60,
    "start_time": "2022-03-07T14:34:53.884Z"
   },
   {
    "duration": 13,
    "start_time": "2022-03-07T14:34:53.946Z"
   },
   {
    "duration": 11,
    "start_time": "2022-03-07T14:34:53.961Z"
   },
   {
    "duration": 8,
    "start_time": "2022-03-07T14:34:53.974Z"
   },
   {
    "duration": 13,
    "start_time": "2022-03-07T14:34:53.983Z"
   },
   {
    "duration": 7,
    "start_time": "2022-03-07T14:34:53.998Z"
   },
   {
    "duration": 10,
    "start_time": "2022-03-07T14:34:54.008Z"
   },
   {
    "duration": 42,
    "start_time": "2022-03-07T14:34:54.020Z"
   },
   {
    "duration": 15,
    "start_time": "2022-03-07T14:34:54.064Z"
   },
   {
    "duration": 7,
    "start_time": "2022-03-07T14:34:54.081Z"
   },
   {
    "duration": 7,
    "start_time": "2022-03-07T14:34:54.090Z"
   },
   {
    "duration": 15,
    "start_time": "2022-03-07T14:34:54.098Z"
   },
   {
    "duration": 9,
    "start_time": "2022-03-07T14:34:54.115Z"
   },
   {
    "duration": 41,
    "start_time": "2022-03-07T14:34:54.125Z"
   },
   {
    "duration": 5,
    "start_time": "2022-03-07T14:34:54.168Z"
   },
   {
    "duration": 6,
    "start_time": "2022-03-07T14:34:54.175Z"
   },
   {
    "duration": 293,
    "start_time": "2022-03-07T14:34:54.183Z"
   },
   {
    "duration": -1109,
    "start_time": "2022-03-07T14:34:55.587Z"
   },
   {
    "duration": -1114,
    "start_time": "2022-03-07T14:34:55.593Z"
   },
   {
    "duration": -1119,
    "start_time": "2022-03-07T14:34:55.600Z"
   },
   {
    "duration": -1125,
    "start_time": "2022-03-07T14:34:55.607Z"
   },
   {
    "duration": -1129,
    "start_time": "2022-03-07T14:34:55.612Z"
   },
   {
    "duration": -1136,
    "start_time": "2022-03-07T14:34:55.620Z"
   },
   {
    "duration": -1140,
    "start_time": "2022-03-07T14:34:55.626Z"
   },
   {
    "duration": -1147,
    "start_time": "2022-03-07T14:34:55.633Z"
   },
   {
    "duration": -1151,
    "start_time": "2022-03-07T14:34:55.638Z"
   },
   {
    "duration": -1156,
    "start_time": "2022-03-07T14:34:55.644Z"
   },
   {
    "duration": -1160,
    "start_time": "2022-03-07T14:34:55.650Z"
   },
   {
    "duration": -1166,
    "start_time": "2022-03-07T14:34:55.657Z"
   },
   {
    "duration": -1171,
    "start_time": "2022-03-07T14:34:55.663Z"
   },
   {
    "duration": -1179,
    "start_time": "2022-03-07T14:34:55.672Z"
   },
   {
    "duration": -1206,
    "start_time": "2022-03-07T14:34:55.700Z"
   },
   {
    "duration": -1212,
    "start_time": "2022-03-07T14:34:55.707Z"
   },
   {
    "duration": -1217,
    "start_time": "2022-03-07T14:34:55.713Z"
   },
   {
    "duration": -1224,
    "start_time": "2022-03-07T14:34:55.720Z"
   },
   {
    "duration": -1228,
    "start_time": "2022-03-07T14:34:55.725Z"
   },
   {
    "duration": -1234,
    "start_time": "2022-03-07T14:34:55.732Z"
   },
   {
    "duration": -1239,
    "start_time": "2022-03-07T14:34:55.738Z"
   },
   {
    "duration": -1244,
    "start_time": "2022-03-07T14:34:55.744Z"
   },
   {
    "duration": -1248,
    "start_time": "2022-03-07T14:34:55.750Z"
   },
   {
    "duration": -1252,
    "start_time": "2022-03-07T14:34:55.755Z"
   },
   {
    "duration": -1257,
    "start_time": "2022-03-07T14:34:55.761Z"
   },
   {
    "duration": -1262,
    "start_time": "2022-03-07T14:34:55.767Z"
   },
   {
    "duration": -1266,
    "start_time": "2022-03-07T14:34:55.772Z"
   },
   {
    "duration": -1271,
    "start_time": "2022-03-07T14:34:55.778Z"
   },
   {
    "duration": -1275,
    "start_time": "2022-03-07T14:34:55.783Z"
   },
   {
    "duration": -1279,
    "start_time": "2022-03-07T14:34:55.788Z"
   },
   {
    "duration": -1283,
    "start_time": "2022-03-07T14:34:55.793Z"
   },
   {
    "duration": -1297,
    "start_time": "2022-03-07T14:34:55.808Z"
   },
   {
    "duration": -1301,
    "start_time": "2022-03-07T14:34:55.813Z"
   },
   {
    "duration": 233,
    "start_time": "2022-03-07T14:42:04.174Z"
   },
   {
    "duration": 13,
    "start_time": "2022-03-07T14:42:13.989Z"
   },
   {
    "duration": 11,
    "start_time": "2022-03-07T14:42:27.648Z"
   },
   {
    "duration": 585,
    "start_time": "2022-03-07T14:42:54.165Z"
   },
   {
    "duration": 61,
    "start_time": "2022-03-07T14:42:54.751Z"
   },
   {
    "duration": 11,
    "start_time": "2022-03-07T14:42:54.814Z"
   },
   {
    "duration": 9,
    "start_time": "2022-03-07T14:42:54.827Z"
   },
   {
    "duration": 24,
    "start_time": "2022-03-07T14:42:54.837Z"
   },
   {
    "duration": 12,
    "start_time": "2022-03-07T14:42:54.863Z"
   },
   {
    "duration": 7,
    "start_time": "2022-03-07T14:42:54.877Z"
   },
   {
    "duration": 4,
    "start_time": "2022-03-07T14:42:54.886Z"
   },
   {
    "duration": 15,
    "start_time": "2022-03-07T14:42:54.892Z"
   },
   {
    "duration": 9,
    "start_time": "2022-03-07T14:42:54.908Z"
   },
   {
    "duration": 4,
    "start_time": "2022-03-07T14:42:54.919Z"
   },
   {
    "duration": 48,
    "start_time": "2022-03-07T14:42:54.925Z"
   },
   {
    "duration": 5,
    "start_time": "2022-03-07T14:42:54.975Z"
   },
   {
    "duration": 10,
    "start_time": "2022-03-07T14:42:54.982Z"
   },
   {
    "duration": 3,
    "start_time": "2022-03-07T14:42:54.994Z"
   },
   {
    "duration": 7,
    "start_time": "2022-03-07T14:42:54.999Z"
   },
   {
    "duration": 55,
    "start_time": "2022-03-07T14:42:55.007Z"
   },
   {
    "duration": 13,
    "start_time": "2022-03-07T14:42:55.064Z"
   },
   {
    "duration": 13,
    "start_time": "2022-03-07T14:42:55.079Z"
   },
   {
    "duration": 16,
    "start_time": "2022-03-07T14:42:55.094Z"
   },
   {
    "duration": 14,
    "start_time": "2022-03-07T14:42:55.112Z"
   },
   {
    "duration": 11,
    "start_time": "2022-03-07T14:42:55.159Z"
   },
   {
    "duration": 21,
    "start_time": "2022-03-07T14:42:55.173Z"
   },
   {
    "duration": 16,
    "start_time": "2022-03-07T14:42:55.196Z"
   },
   {
    "duration": 7,
    "start_time": "2022-03-07T14:42:55.214Z"
   },
   {
    "duration": 41,
    "start_time": "2022-03-07T14:42:55.223Z"
   },
   {
    "duration": 11,
    "start_time": "2022-03-07T14:42:55.266Z"
   },
   {
    "duration": 9,
    "start_time": "2022-03-07T14:42:55.279Z"
   },
   {
    "duration": 15,
    "start_time": "2022-03-07T14:42:55.290Z"
   },
   {
    "duration": 12,
    "start_time": "2022-03-07T14:42:55.307Z"
   },
   {
    "duration": 13,
    "start_time": "2022-03-07T14:42:55.321Z"
   },
   {
    "duration": 29,
    "start_time": "2022-03-07T14:42:55.336Z"
   },
   {
    "duration": 11,
    "start_time": "2022-03-07T14:42:55.367Z"
   },
   {
    "duration": 14,
    "start_time": "2022-03-07T14:42:55.380Z"
   },
   {
    "duration": 14,
    "start_time": "2022-03-07T14:42:55.396Z"
   },
   {
    "duration": 11,
    "start_time": "2022-03-07T14:42:55.412Z"
   },
   {
    "duration": 45,
    "start_time": "2022-03-07T14:42:55.424Z"
   },
   {
    "duration": 4,
    "start_time": "2022-03-07T14:42:55.471Z"
   },
   {
    "duration": 6,
    "start_time": "2022-03-07T14:42:55.476Z"
   },
   {
    "duration": 18,
    "start_time": "2022-03-07T14:42:55.483Z"
   },
   {
    "duration": 14,
    "start_time": "2022-03-07T14:42:55.503Z"
   },
   {
    "duration": 43,
    "start_time": "2022-03-07T14:42:55.518Z"
   },
   {
    "duration": 3,
    "start_time": "2022-03-07T14:42:55.563Z"
   },
   {
    "duration": 7,
    "start_time": "2022-03-07T14:42:55.568Z"
   },
   {
    "duration": 18,
    "start_time": "2022-03-07T14:42:55.576Z"
   },
   {
    "duration": 14,
    "start_time": "2022-03-07T14:42:55.596Z"
   },
   {
    "duration": 49,
    "start_time": "2022-03-07T14:42:55.611Z"
   },
   {
    "duration": 19,
    "start_time": "2022-03-07T14:42:55.661Z"
   },
   {
    "duration": 18,
    "start_time": "2022-03-07T14:42:55.681Z"
   },
   {
    "duration": 21,
    "start_time": "2022-03-07T14:42:55.701Z"
   },
   {
    "duration": 4220,
    "start_time": "2022-03-07T14:51:06.891Z"
   },
   {
    "duration": 4100,
    "start_time": "2022-03-07T14:51:26.295Z"
   },
   {
    "duration": 4152,
    "start_time": "2022-03-07T14:53:16.092Z"
   },
   {
    "duration": 258,
    "start_time": "2022-03-07T14:58:32.611Z"
   },
   {
    "duration": 15,
    "start_time": "2022-03-07T14:58:44.621Z"
   },
   {
    "duration": 5,
    "start_time": "2022-03-07T14:59:38.960Z"
   },
   {
    "duration": 4,
    "start_time": "2022-03-07T14:59:42.690Z"
   },
   {
    "duration": 9,
    "start_time": "2022-03-07T15:00:01.527Z"
   },
   {
    "duration": 15,
    "start_time": "2022-03-07T15:06:10.652Z"
   },
   {
    "duration": 14,
    "start_time": "2022-03-07T15:06:32.705Z"
   },
   {
    "duration": 13,
    "start_time": "2022-03-07T15:07:24.401Z"
   },
   {
    "duration": 14,
    "start_time": "2022-03-07T15:08:16.326Z"
   },
   {
    "duration": 14,
    "start_time": "2022-03-07T15:08:39.190Z"
   },
   {
    "duration": 225,
    "start_time": "2022-03-07T15:14:10.645Z"
   },
   {
    "duration": 606,
    "start_time": "2022-03-07T15:14:36.362Z"
   },
   {
    "duration": 63,
    "start_time": "2022-03-07T15:14:36.970Z"
   },
   {
    "duration": 11,
    "start_time": "2022-03-07T15:14:37.035Z"
   },
   {
    "duration": 19,
    "start_time": "2022-03-07T15:14:37.048Z"
   },
   {
    "duration": 8,
    "start_time": "2022-03-07T15:14:37.068Z"
   },
   {
    "duration": 17,
    "start_time": "2022-03-07T15:14:37.077Z"
   },
   {
    "duration": 6,
    "start_time": "2022-03-07T15:14:37.095Z"
   },
   {
    "duration": 4,
    "start_time": "2022-03-07T15:14:37.103Z"
   },
   {
    "duration": 14,
    "start_time": "2022-03-07T15:14:37.109Z"
   },
   {
    "duration": 35,
    "start_time": "2022-03-07T15:14:37.125Z"
   },
   {
    "duration": 4,
    "start_time": "2022-03-07T15:14:37.162Z"
   },
   {
    "duration": 15,
    "start_time": "2022-03-07T15:14:37.167Z"
   },
   {
    "duration": 6,
    "start_time": "2022-03-07T15:14:37.184Z"
   },
   {
    "duration": 11,
    "start_time": "2022-03-07T15:14:37.192Z"
   },
   {
    "duration": 4,
    "start_time": "2022-03-07T15:14:37.204Z"
   },
   {
    "duration": 6,
    "start_time": "2022-03-07T15:14:37.210Z"
   },
   {
    "duration": 47,
    "start_time": "2022-03-07T15:14:37.218Z"
   },
   {
    "duration": 14,
    "start_time": "2022-03-07T15:14:37.267Z"
   },
   {
    "duration": 16,
    "start_time": "2022-03-07T15:14:37.283Z"
   },
   {
    "duration": 18,
    "start_time": "2022-03-07T15:14:37.300Z"
   },
   {
    "duration": 16,
    "start_time": "2022-03-07T15:14:37.319Z"
   },
   {
    "duration": 38,
    "start_time": "2022-03-07T15:14:37.337Z"
   },
   {
    "duration": 7,
    "start_time": "2022-03-07T15:14:37.379Z"
   },
   {
    "duration": 12,
    "start_time": "2022-03-07T15:14:37.389Z"
   },
   {
    "duration": 12,
    "start_time": "2022-03-07T15:14:37.403Z"
   },
   {
    "duration": 8,
    "start_time": "2022-03-07T15:14:37.417Z"
   },
   {
    "duration": 14,
    "start_time": "2022-03-07T15:14:37.459Z"
   },
   {
    "duration": 11,
    "start_time": "2022-03-07T15:14:37.475Z"
   },
   {
    "duration": 8,
    "start_time": "2022-03-07T15:14:37.488Z"
   },
   {
    "duration": 8,
    "start_time": "2022-03-07T15:14:37.497Z"
   },
   {
    "duration": 13,
    "start_time": "2022-03-07T15:14:37.508Z"
   },
   {
    "duration": 46,
    "start_time": "2022-03-07T15:14:37.523Z"
   },
   {
    "duration": 17,
    "start_time": "2022-03-07T15:14:37.571Z"
   },
   {
    "duration": 13,
    "start_time": "2022-03-07T15:14:37.594Z"
   },
   {
    "duration": 13,
    "start_time": "2022-03-07T15:14:37.609Z"
   },
   {
    "duration": 5,
    "start_time": "2022-03-07T15:14:37.623Z"
   },
   {
    "duration": 4,
    "start_time": "2022-03-07T15:14:37.659Z"
   },
   {
    "duration": 20,
    "start_time": "2022-03-07T15:14:37.664Z"
   },
   {
    "duration": 16,
    "start_time": "2022-03-07T15:14:37.685Z"
   },
   {
    "duration": 8,
    "start_time": "2022-03-07T15:14:37.703Z"
   },
   {
    "duration": 3,
    "start_time": "2022-03-07T15:14:37.713Z"
   },
   {
    "duration": 6,
    "start_time": "2022-03-07T15:14:37.718Z"
   },
   {
    "duration": 50,
    "start_time": "2022-03-07T15:14:37.726Z"
   },
   {
    "duration": 16,
    "start_time": "2022-03-07T15:14:37.778Z"
   },
   {
    "duration": 20,
    "start_time": "2022-03-07T15:14:37.796Z"
   },
   {
    "duration": 42,
    "start_time": "2022-03-07T15:14:37.818Z"
   },
   {
    "duration": 18,
    "start_time": "2022-03-07T15:14:37.862Z"
   },
   {
    "duration": 12,
    "start_time": "2022-03-07T15:14:37.881Z"
   },
   {
    "duration": 18,
    "start_time": "2022-03-07T15:14:37.894Z"
   },
   {
    "duration": 337,
    "start_time": "2022-03-07T15:14:37.914Z"
   },
   {
    "duration": -1014,
    "start_time": "2022-03-07T15:14:39.266Z"
   },
   {
    "duration": 213,
    "start_time": "2022-03-07T15:15:11.034Z"
   },
   {
    "duration": 14,
    "start_time": "2022-03-07T15:16:28.475Z"
   },
   {
    "duration": 14,
    "start_time": "2022-03-07T15:16:42.634Z"
   },
   {
    "duration": 13,
    "start_time": "2022-03-07T15:16:55.033Z"
   },
   {
    "duration": 5,
    "start_time": "2022-03-07T15:23:23.949Z"
   },
   {
    "duration": 5,
    "start_time": "2022-03-07T15:23:37.559Z"
   },
   {
    "duration": 3,
    "start_time": "2022-03-07T15:23:48.890Z"
   },
   {
    "duration": 9,
    "start_time": "2022-03-07T15:24:00.011Z"
   },
   {
    "duration": 22,
    "start_time": "2022-03-07T15:39:14.151Z"
   },
   {
    "duration": 14,
    "start_time": "2022-03-07T15:39:41.384Z"
   },
   {
    "duration": 79,
    "start_time": "2022-03-07T15:50:30.243Z"
   },
   {
    "duration": 77,
    "start_time": "2022-03-07T15:53:50.371Z"
   },
   {
    "duration": 601,
    "start_time": "2022-03-07T18:20:56.173Z"
   },
   {
    "duration": 64,
    "start_time": "2022-03-07T18:20:56.776Z"
   },
   {
    "duration": 20,
    "start_time": "2022-03-07T18:20:56.842Z"
   },
   {
    "duration": 9,
    "start_time": "2022-03-07T18:20:56.864Z"
   },
   {
    "duration": 9,
    "start_time": "2022-03-07T18:20:56.875Z"
   },
   {
    "duration": 13,
    "start_time": "2022-03-07T18:20:56.885Z"
   },
   {
    "duration": 5,
    "start_time": "2022-03-07T18:20:56.900Z"
   },
   {
    "duration": 4,
    "start_time": "2022-03-07T18:20:56.908Z"
   },
   {
    "duration": 46,
    "start_time": "2022-03-07T18:20:56.914Z"
   },
   {
    "duration": 6,
    "start_time": "2022-03-07T18:20:56.962Z"
   },
   {
    "duration": 5,
    "start_time": "2022-03-07T18:20:56.970Z"
   },
   {
    "duration": 14,
    "start_time": "2022-03-07T18:20:56.977Z"
   },
   {
    "duration": 7,
    "start_time": "2022-03-07T18:20:56.993Z"
   },
   {
    "duration": 12,
    "start_time": "2022-03-07T18:20:57.001Z"
   },
   {
    "duration": 44,
    "start_time": "2022-03-07T18:20:57.015Z"
   },
   {
    "duration": 7,
    "start_time": "2022-03-07T18:20:57.062Z"
   },
   {
    "duration": 14,
    "start_time": "2022-03-07T18:20:57.071Z"
   },
   {
    "duration": 14,
    "start_time": "2022-03-07T18:20:57.087Z"
   },
   {
    "duration": 13,
    "start_time": "2022-03-07T18:20:57.103Z"
   },
   {
    "duration": 55,
    "start_time": "2022-03-07T18:20:57.118Z"
   },
   {
    "duration": 17,
    "start_time": "2022-03-07T18:20:57.174Z"
   },
   {
    "duration": 16,
    "start_time": "2022-03-07T18:20:57.192Z"
   },
   {
    "duration": 7,
    "start_time": "2022-03-07T18:20:57.211Z"
   },
   {
    "duration": 46,
    "start_time": "2022-03-07T18:20:57.220Z"
   },
   {
    "duration": 12,
    "start_time": "2022-03-07T18:20:57.268Z"
   },
   {
    "duration": 13,
    "start_time": "2022-03-07T18:20:57.282Z"
   },
   {
    "duration": 13,
    "start_time": "2022-03-07T18:20:57.296Z"
   },
   {
    "duration": 9,
    "start_time": "2022-03-07T18:20:57.311Z"
   },
   {
    "duration": 8,
    "start_time": "2022-03-07T18:20:57.322Z"
   },
   {
    "duration": 29,
    "start_time": "2022-03-07T18:20:57.332Z"
   },
   {
    "duration": 7,
    "start_time": "2022-03-07T18:20:57.363Z"
   },
   {
    "duration": 13,
    "start_time": "2022-03-07T18:20:57.372Z"
   },
   {
    "duration": 13,
    "start_time": "2022-03-07T18:20:57.386Z"
   },
   {
    "duration": 10,
    "start_time": "2022-03-07T18:20:57.401Z"
   },
   {
    "duration": 48,
    "start_time": "2022-03-07T18:20:57.413Z"
   },
   {
    "duration": 4,
    "start_time": "2022-03-07T18:20:57.463Z"
   },
   {
    "duration": 7,
    "start_time": "2022-03-07T18:20:57.469Z"
   },
   {
    "duration": 18,
    "start_time": "2022-03-07T18:20:57.477Z"
   },
   {
    "duration": 14,
    "start_time": "2022-03-07T18:20:57.498Z"
   },
   {
    "duration": 9,
    "start_time": "2022-03-07T18:20:57.514Z"
   },
   {
    "duration": 4,
    "start_time": "2022-03-07T18:20:57.560Z"
   },
   {
    "duration": 6,
    "start_time": "2022-03-07T18:20:57.565Z"
   },
   {
    "duration": 18,
    "start_time": "2022-03-07T18:20:57.572Z"
   },
   {
    "duration": 13,
    "start_time": "2022-03-07T18:20:57.591Z"
   },
   {
    "duration": 53,
    "start_time": "2022-03-07T18:20:57.606Z"
   },
   {
    "duration": 12,
    "start_time": "2022-03-07T18:20:57.661Z"
   },
   {
    "duration": 18,
    "start_time": "2022-03-07T18:20:57.675Z"
   },
   {
    "duration": 12,
    "start_time": "2022-03-07T18:20:57.695Z"
   },
   {
    "duration": 18,
    "start_time": "2022-03-07T18:20:57.708Z"
   },
   {
    "duration": 43,
    "start_time": "2022-03-07T18:20:57.727Z"
   },
   {
    "duration": 19,
    "start_time": "2022-03-07T18:20:57.771Z"
   },
   {
    "duration": 14,
    "start_time": "2022-03-07T18:20:57.791Z"
   }
  ],
  "kernelspec": {
   "display_name": "Python 3 (ipykernel)",
   "language": "python",
   "name": "python3"
  },
  "language_info": {
   "codemirror_mode": {
    "name": "ipython",
    "version": 3
   },
   "file_extension": ".py",
   "mimetype": "text/x-python",
   "name": "python",
   "nbconvert_exporter": "python",
   "pygments_lexer": "ipython3",
   "version": "3.9.7"
  },
  "toc": {
   "base_numbering": 1,
   "nav_menu": {},
   "number_sections": true,
   "sideBar": true,
   "skip_h1_title": true,
   "title_cell": "Table of Contents",
   "title_sidebar": "Contents",
   "toc_cell": false,
   "toc_position": {
    "height": "calc(100% - 180px)",
    "left": "10px",
    "top": "150px",
    "width": "165px"
   },
   "toc_section_display": true,
   "toc_window_display": true
  }
 },
 "nbformat": 4,
 "nbformat_minor": 5
}
