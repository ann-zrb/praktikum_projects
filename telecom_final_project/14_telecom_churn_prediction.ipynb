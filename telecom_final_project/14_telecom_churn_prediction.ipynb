{
 "cells": [
  {
   "cell_type": "markdown",
   "id": "6951b698",
   "metadata": {
    "toc": true
   },
   "source": [
    "<h1>Table of Contents<span class=\"tocSkip\"></span></h1>\n",
    "<div class=\"toc\"><ul class=\"toc-item\"><li><span><a href=\"#Исследовательский-анализ-данных\" data-toc-modified-id=\"Исследовательский-анализ-данных-1\"><span class=\"toc-item-num\">1&nbsp;&nbsp;</span>Исследовательский анализ данных</a></span><ul class=\"toc-item\"><li><span><a href=\"#Общий-обзор-данных\" data-toc-modified-id=\"Общий-обзор-данных-1.1\"><span class=\"toc-item-num\">1.1&nbsp;&nbsp;</span>Общий обзор данных</a></span></li><li><span><a href=\"#Предобработка-данных\" data-toc-modified-id=\"Предобработка-данных-1.2\"><span class=\"toc-item-num\">1.2&nbsp;&nbsp;</span>Предобработка данных</a></span></li><li><span><a href=\"#Визуализация-данных-и-отбор-признаков\" data-toc-modified-id=\"Визуализация-данных-и-отбор-признаков-1.3\"><span class=\"toc-item-num\">1.3&nbsp;&nbsp;</span>Визуализация данных и отбор признаков</a></span></li></ul></li><li><span><a href=\"#Обучение-моделей\" data-toc-modified-id=\"Обучение-моделей-2\"><span class=\"toc-item-num\">2&nbsp;&nbsp;</span>Обучение моделей</a></span><ul class=\"toc-item\"><li><span><a href=\"#Подготовка-данных-для-обучения\" data-toc-modified-id=\"Подготовка-данных-для-обучения-2.1\"><span class=\"toc-item-num\">2.1&nbsp;&nbsp;</span>Подготовка данных для обучения</a></span></li><li><span><a href=\"#Логистическая-регрессия\" data-toc-modified-id=\"Логистическая-регрессия-2.2\"><span class=\"toc-item-num\">2.2&nbsp;&nbsp;</span>Логистическая регрессия</a></span></li><li><span><a href=\"#Случайный-лес\" data-toc-modified-id=\"Случайный-лес-2.3\"><span class=\"toc-item-num\">2.3&nbsp;&nbsp;</span>Случайный лес</a></span></li><li><span><a href=\"#CatBoost\" data-toc-modified-id=\"CatBoost-2.4\"><span class=\"toc-item-num\">2.4&nbsp;&nbsp;</span>CatBoost</a></span></li></ul></li><li><span><a href=\"#Отчёт\" data-toc-modified-id=\"Отчёт-3\"><span class=\"toc-item-num\">3&nbsp;&nbsp;</span>Отчёт</a></span></li></ul></div>"
   ]
  },
  {
   "cell_type": "markdown",
   "id": "3b450edc",
   "metadata": {},
   "source": [
    "## Исследовательский анализ данных"
   ]
  },
  {
   "cell_type": "markdown",
   "id": "b3c27ec2",
   "metadata": {},
   "source": [
    "### Общий обзор данных"
   ]
  },
  {
   "cell_type": "markdown",
   "id": "4dc10ae2",
   "metadata": {},
   "source": [
    "Импортируем все необходимые библиотеки. "
   ]
  },
  {
   "cell_type": "code",
   "execution_count": 1,
   "id": "5fdf0bd0",
   "metadata": {},
   "outputs": [
    {
     "name": "stdout",
     "output_type": "stream",
     "text": [
      "Requirement already satisfied: phik==0.12.0 in c:\\users\\freak\\anaconda3\\lib\\site-packages (0.12.0)Note: you may need to restart the kernel to use updated packages.\n",
      "\n",
      "Requirement already satisfied: matplotlib>=2.2.3 in c:\\users\\freak\\anaconda3\\lib\\site-packages (from phik==0.12.0) (3.4.3)\n",
      "Requirement already satisfied: joblib>=0.14.1 in c:\\users\\freak\\anaconda3\\lib\\site-packages (from phik==0.12.0) (1.1.0)\n",
      "Requirement already satisfied: numpy>=1.18.0 in c:\\users\\freak\\anaconda3\\lib\\site-packages (from phik==0.12.0) (1.22.4)\n",
      "Requirement already satisfied: pandas>=0.25.1 in c:\\users\\freak\\anaconda3\\lib\\site-packages (from phik==0.12.0) (1.3.4)\n",
      "Requirement already satisfied: scipy>=1.5.2 in c:\\users\\freak\\anaconda3\\lib\\site-packages (from phik==0.12.0) (1.7.1)\n",
      "Requirement already satisfied: cycler>=0.10 in c:\\users\\freak\\anaconda3\\lib\\site-packages (from matplotlib>=2.2.3->phik==0.12.0) (0.10.0)\n",
      "Requirement already satisfied: kiwisolver>=1.0.1 in c:\\users\\freak\\anaconda3\\lib\\site-packages (from matplotlib>=2.2.3->phik==0.12.0) (1.3.1)\n",
      "Requirement already satisfied: pyparsing>=2.2.1 in c:\\users\\freak\\appdata\\roaming\\python\\python39\\site-packages (from matplotlib>=2.2.3->phik==0.12.0) (3.0.9)\n",
      "Requirement already satisfied: pillow>=6.2.0 in c:\\users\\freak\\anaconda3\\lib\\site-packages (from matplotlib>=2.2.3->phik==0.12.0) (8.4.0)\n",
      "Requirement already satisfied: python-dateutil>=2.7 in c:\\users\\freak\\anaconda3\\lib\\site-packages (from matplotlib>=2.2.3->phik==0.12.0) (2.8.2)\n",
      "Requirement already satisfied: six in c:\\users\\freak\\appdata\\roaming\\python\\python39\\site-packages (from cycler>=0.10->matplotlib>=2.2.3->phik==0.12.0) (1.16.0)\n",
      "Requirement already satisfied: pytz>=2017.3 in c:\\users\\freak\\anaconda3\\lib\\site-packages (from pandas>=0.25.1->phik==0.12.0) (2021.3)\n"
     ]
    }
   ],
   "source": [
    "pip install phik==0.12.0"
   ]
  },
  {
   "cell_type": "code",
   "execution_count": 2,
   "id": "ca9170c5",
   "metadata": {},
   "outputs": [],
   "source": [
    "import pandas as pd\n",
    "import numpy as np\n",
    "import math\n",
    "import matplotlib.pyplot as plt\n",
    "import seaborn as sns\n",
    "import phik\n",
    "from phik.report import plot_correlation_matrix\n",
    "from phik import report\n",
    "from sklearn.preprocessing import OneHotEncoder, LabelEncoder, OrdinalEncoder\n",
    "from sklearn.model_selection import train_test_split, GridSearchCV, cross_val_score\n",
    "from sklearn.metrics import roc_auc_score, roc_curve, accuracy_score\n",
    "from sklearn.tree import DecisionTreeClassifier\n",
    "from sklearn.linear_model import LogisticRegression\n",
    "from sklearn.ensemble import RandomForestClassifier\n",
    "from catboost import CatBoostClassifier"
   ]
  },
  {
   "cell_type": "markdown",
   "id": "f93a5cf9",
   "metadata": {},
   "source": [
    "Так как проект выполняется локально, используем конструкцию try-except, чтобы избежать ошибки при чтении файлов: "
   ]
  },
  {
   "cell_type": "code",
   "execution_count": 3,
   "id": "6bba316a",
   "metadata": {},
   "outputs": [],
   "source": [
    "try: \n",
    "    contract = pd.read_csv('/datasets/final_provider/contract.csv')\n",
    "    personal = pd.read_csv('/datasets/final_provider/personal.csv')\n",
    "    internet = pd.read_csv('/datasets/final_provider/internet.csv')\n",
    "    phone = pd.read_csv('/datasets/final_provider/phone.csv')\n",
    "except:\n",
    "    contract = pd.read_csv('C:\\\\Users\\\\freak\\\\Desktop\\\\Python\\\\Final project\\\\final_provider\\\\contract.csv')\n",
    "    personal = pd.read_csv('C:\\\\Users\\\\freak\\\\Desktop\\\\Python\\\\Final project\\\\final_provider\\\\personal.csv')\n",
    "    internet = pd.read_csv('C:\\\\Users\\\\freak\\\\Desktop\\\\Python\\\\Final project\\\\final_provider\\\\internet.csv')\n",
    "    phone = pd.read_csv('C:\\\\Users\\\\freak\\\\Desktop\\\\Python\\\\Final project\\\\final_provider\\\\phone.csv')"
   ]
  },
  {
   "cell_type": "markdown",
   "id": "a3e9f7ca",
   "metadata": {},
   "source": [
    "Получим общее представление о данных с помощью методов `info` и `head`: "
   ]
  },
  {
   "cell_type": "code",
   "execution_count": 4,
   "id": "c0dba4fb",
   "metadata": {},
   "outputs": [
    {
     "name": "stdout",
     "output_type": "stream",
     "text": [
      "<class 'pandas.core.frame.DataFrame'>\n",
      "RangeIndex: 7043 entries, 0 to 7042\n",
      "Data columns (total 8 columns):\n",
      " #   Column            Non-Null Count  Dtype  \n",
      "---  ------            --------------  -----  \n",
      " 0   customerID        7043 non-null   object \n",
      " 1   BeginDate         7043 non-null   object \n",
      " 2   EndDate           7043 non-null   object \n",
      " 3   Type              7043 non-null   object \n",
      " 4   PaperlessBilling  7043 non-null   object \n",
      " 5   PaymentMethod     7043 non-null   object \n",
      " 6   MonthlyCharges    7043 non-null   float64\n",
      " 7   TotalCharges      7043 non-null   object \n",
      "dtypes: float64(1), object(7)\n",
      "memory usage: 440.3+ KB\n",
      "None\n",
      "\n"
     ]
    },
    {
     "data": {
      "text/html": [
       "<div>\n",
       "<style scoped>\n",
       "    .dataframe tbody tr th:only-of-type {\n",
       "        vertical-align: middle;\n",
       "    }\n",
       "\n",
       "    .dataframe tbody tr th {\n",
       "        vertical-align: top;\n",
       "    }\n",
       "\n",
       "    .dataframe thead th {\n",
       "        text-align: right;\n",
       "    }\n",
       "</style>\n",
       "<table border=\"1\" class=\"dataframe\">\n",
       "  <thead>\n",
       "    <tr style=\"text-align: right;\">\n",
       "      <th></th>\n",
       "      <th>customerID</th>\n",
       "      <th>BeginDate</th>\n",
       "      <th>EndDate</th>\n",
       "      <th>Type</th>\n",
       "      <th>PaperlessBilling</th>\n",
       "      <th>PaymentMethod</th>\n",
       "      <th>MonthlyCharges</th>\n",
       "      <th>TotalCharges</th>\n",
       "    </tr>\n",
       "  </thead>\n",
       "  <tbody>\n",
       "    <tr>\n",
       "      <th>0</th>\n",
       "      <td>7590-VHVEG</td>\n",
       "      <td>2020-01-01</td>\n",
       "      <td>No</td>\n",
       "      <td>Month-to-month</td>\n",
       "      <td>Yes</td>\n",
       "      <td>Electronic check</td>\n",
       "      <td>29.85</td>\n",
       "      <td>29.85</td>\n",
       "    </tr>\n",
       "    <tr>\n",
       "      <th>1</th>\n",
       "      <td>5575-GNVDE</td>\n",
       "      <td>2017-04-01</td>\n",
       "      <td>No</td>\n",
       "      <td>One year</td>\n",
       "      <td>No</td>\n",
       "      <td>Mailed check</td>\n",
       "      <td>56.95</td>\n",
       "      <td>1889.5</td>\n",
       "    </tr>\n",
       "    <tr>\n",
       "      <th>2</th>\n",
       "      <td>3668-QPYBK</td>\n",
       "      <td>2019-10-01</td>\n",
       "      <td>2019-12-01 00:00:00</td>\n",
       "      <td>Month-to-month</td>\n",
       "      <td>Yes</td>\n",
       "      <td>Mailed check</td>\n",
       "      <td>53.85</td>\n",
       "      <td>108.15</td>\n",
       "    </tr>\n",
       "    <tr>\n",
       "      <th>3</th>\n",
       "      <td>7795-CFOCW</td>\n",
       "      <td>2016-05-01</td>\n",
       "      <td>No</td>\n",
       "      <td>One year</td>\n",
       "      <td>No</td>\n",
       "      <td>Bank transfer (automatic)</td>\n",
       "      <td>42.30</td>\n",
       "      <td>1840.75</td>\n",
       "    </tr>\n",
       "    <tr>\n",
       "      <th>4</th>\n",
       "      <td>9237-HQITU</td>\n",
       "      <td>2019-09-01</td>\n",
       "      <td>2019-11-01 00:00:00</td>\n",
       "      <td>Month-to-month</td>\n",
       "      <td>Yes</td>\n",
       "      <td>Electronic check</td>\n",
       "      <td>70.70</td>\n",
       "      <td>151.65</td>\n",
       "    </tr>\n",
       "  </tbody>\n",
       "</table>\n",
       "</div>"
      ],
      "text/plain": [
       "   customerID   BeginDate              EndDate            Type  \\\n",
       "0  7590-VHVEG  2020-01-01                   No  Month-to-month   \n",
       "1  5575-GNVDE  2017-04-01                   No        One year   \n",
       "2  3668-QPYBK  2019-10-01  2019-12-01 00:00:00  Month-to-month   \n",
       "3  7795-CFOCW  2016-05-01                   No        One year   \n",
       "4  9237-HQITU  2019-09-01  2019-11-01 00:00:00  Month-to-month   \n",
       "\n",
       "  PaperlessBilling              PaymentMethod  MonthlyCharges TotalCharges  \n",
       "0              Yes           Electronic check           29.85        29.85  \n",
       "1               No               Mailed check           56.95       1889.5  \n",
       "2              Yes               Mailed check           53.85       108.15  \n",
       "3               No  Bank transfer (automatic)           42.30      1840.75  \n",
       "4              Yes           Electronic check           70.70       151.65  "
      ]
     },
     "metadata": {},
     "output_type": "display_data"
    },
    {
     "name": "stdout",
     "output_type": "stream",
     "text": [
      "<class 'pandas.core.frame.DataFrame'>\n",
      "RangeIndex: 7043 entries, 0 to 7042\n",
      "Data columns (total 5 columns):\n",
      " #   Column         Non-Null Count  Dtype \n",
      "---  ------         --------------  ----- \n",
      " 0   customerID     7043 non-null   object\n",
      " 1   gender         7043 non-null   object\n",
      " 2   SeniorCitizen  7043 non-null   int64 \n",
      " 3   Partner        7043 non-null   object\n",
      " 4   Dependents     7043 non-null   object\n",
      "dtypes: int64(1), object(4)\n",
      "memory usage: 275.2+ KB\n",
      "None\n",
      "\n"
     ]
    },
    {
     "data": {
      "text/html": [
       "<div>\n",
       "<style scoped>\n",
       "    .dataframe tbody tr th:only-of-type {\n",
       "        vertical-align: middle;\n",
       "    }\n",
       "\n",
       "    .dataframe tbody tr th {\n",
       "        vertical-align: top;\n",
       "    }\n",
       "\n",
       "    .dataframe thead th {\n",
       "        text-align: right;\n",
       "    }\n",
       "</style>\n",
       "<table border=\"1\" class=\"dataframe\">\n",
       "  <thead>\n",
       "    <tr style=\"text-align: right;\">\n",
       "      <th></th>\n",
       "      <th>customerID</th>\n",
       "      <th>gender</th>\n",
       "      <th>SeniorCitizen</th>\n",
       "      <th>Partner</th>\n",
       "      <th>Dependents</th>\n",
       "    </tr>\n",
       "  </thead>\n",
       "  <tbody>\n",
       "    <tr>\n",
       "      <th>0</th>\n",
       "      <td>7590-VHVEG</td>\n",
       "      <td>Female</td>\n",
       "      <td>0</td>\n",
       "      <td>Yes</td>\n",
       "      <td>No</td>\n",
       "    </tr>\n",
       "    <tr>\n",
       "      <th>1</th>\n",
       "      <td>5575-GNVDE</td>\n",
       "      <td>Male</td>\n",
       "      <td>0</td>\n",
       "      <td>No</td>\n",
       "      <td>No</td>\n",
       "    </tr>\n",
       "    <tr>\n",
       "      <th>2</th>\n",
       "      <td>3668-QPYBK</td>\n",
       "      <td>Male</td>\n",
       "      <td>0</td>\n",
       "      <td>No</td>\n",
       "      <td>No</td>\n",
       "    </tr>\n",
       "    <tr>\n",
       "      <th>3</th>\n",
       "      <td>7795-CFOCW</td>\n",
       "      <td>Male</td>\n",
       "      <td>0</td>\n",
       "      <td>No</td>\n",
       "      <td>No</td>\n",
       "    </tr>\n",
       "    <tr>\n",
       "      <th>4</th>\n",
       "      <td>9237-HQITU</td>\n",
       "      <td>Female</td>\n",
       "      <td>0</td>\n",
       "      <td>No</td>\n",
       "      <td>No</td>\n",
       "    </tr>\n",
       "  </tbody>\n",
       "</table>\n",
       "</div>"
      ],
      "text/plain": [
       "   customerID  gender  SeniorCitizen Partner Dependents\n",
       "0  7590-VHVEG  Female              0     Yes         No\n",
       "1  5575-GNVDE    Male              0      No         No\n",
       "2  3668-QPYBK    Male              0      No         No\n",
       "3  7795-CFOCW    Male              0      No         No\n",
       "4  9237-HQITU  Female              0      No         No"
      ]
     },
     "metadata": {},
     "output_type": "display_data"
    },
    {
     "name": "stdout",
     "output_type": "stream",
     "text": [
      "<class 'pandas.core.frame.DataFrame'>\n",
      "RangeIndex: 5517 entries, 0 to 5516\n",
      "Data columns (total 8 columns):\n",
      " #   Column            Non-Null Count  Dtype \n",
      "---  ------            --------------  ----- \n",
      " 0   customerID        5517 non-null   object\n",
      " 1   InternetService   5517 non-null   object\n",
      " 2   OnlineSecurity    5517 non-null   object\n",
      " 3   OnlineBackup      5517 non-null   object\n",
      " 4   DeviceProtection  5517 non-null   object\n",
      " 5   TechSupport       5517 non-null   object\n",
      " 6   StreamingTV       5517 non-null   object\n",
      " 7   StreamingMovies   5517 non-null   object\n",
      "dtypes: object(8)\n",
      "memory usage: 344.9+ KB\n",
      "None\n",
      "\n"
     ]
    },
    {
     "data": {
      "text/html": [
       "<div>\n",
       "<style scoped>\n",
       "    .dataframe tbody tr th:only-of-type {\n",
       "        vertical-align: middle;\n",
       "    }\n",
       "\n",
       "    .dataframe tbody tr th {\n",
       "        vertical-align: top;\n",
       "    }\n",
       "\n",
       "    .dataframe thead th {\n",
       "        text-align: right;\n",
       "    }\n",
       "</style>\n",
       "<table border=\"1\" class=\"dataframe\">\n",
       "  <thead>\n",
       "    <tr style=\"text-align: right;\">\n",
       "      <th></th>\n",
       "      <th>customerID</th>\n",
       "      <th>InternetService</th>\n",
       "      <th>OnlineSecurity</th>\n",
       "      <th>OnlineBackup</th>\n",
       "      <th>DeviceProtection</th>\n",
       "      <th>TechSupport</th>\n",
       "      <th>StreamingTV</th>\n",
       "      <th>StreamingMovies</th>\n",
       "    </tr>\n",
       "  </thead>\n",
       "  <tbody>\n",
       "    <tr>\n",
       "      <th>0</th>\n",
       "      <td>7590-VHVEG</td>\n",
       "      <td>DSL</td>\n",
       "      <td>No</td>\n",
       "      <td>Yes</td>\n",
       "      <td>No</td>\n",
       "      <td>No</td>\n",
       "      <td>No</td>\n",
       "      <td>No</td>\n",
       "    </tr>\n",
       "    <tr>\n",
       "      <th>1</th>\n",
       "      <td>5575-GNVDE</td>\n",
       "      <td>DSL</td>\n",
       "      <td>Yes</td>\n",
       "      <td>No</td>\n",
       "      <td>Yes</td>\n",
       "      <td>No</td>\n",
       "      <td>No</td>\n",
       "      <td>No</td>\n",
       "    </tr>\n",
       "    <tr>\n",
       "      <th>2</th>\n",
       "      <td>3668-QPYBK</td>\n",
       "      <td>DSL</td>\n",
       "      <td>Yes</td>\n",
       "      <td>Yes</td>\n",
       "      <td>No</td>\n",
       "      <td>No</td>\n",
       "      <td>No</td>\n",
       "      <td>No</td>\n",
       "    </tr>\n",
       "    <tr>\n",
       "      <th>3</th>\n",
       "      <td>7795-CFOCW</td>\n",
       "      <td>DSL</td>\n",
       "      <td>Yes</td>\n",
       "      <td>No</td>\n",
       "      <td>Yes</td>\n",
       "      <td>Yes</td>\n",
       "      <td>No</td>\n",
       "      <td>No</td>\n",
       "    </tr>\n",
       "    <tr>\n",
       "      <th>4</th>\n",
       "      <td>9237-HQITU</td>\n",
       "      <td>Fiber optic</td>\n",
       "      <td>No</td>\n",
       "      <td>No</td>\n",
       "      <td>No</td>\n",
       "      <td>No</td>\n",
       "      <td>No</td>\n",
       "      <td>No</td>\n",
       "    </tr>\n",
       "  </tbody>\n",
       "</table>\n",
       "</div>"
      ],
      "text/plain": [
       "   customerID InternetService OnlineSecurity OnlineBackup DeviceProtection  \\\n",
       "0  7590-VHVEG             DSL             No          Yes               No   \n",
       "1  5575-GNVDE             DSL            Yes           No              Yes   \n",
       "2  3668-QPYBK             DSL            Yes          Yes               No   \n",
       "3  7795-CFOCW             DSL            Yes           No              Yes   \n",
       "4  9237-HQITU     Fiber optic             No           No               No   \n",
       "\n",
       "  TechSupport StreamingTV StreamingMovies  \n",
       "0          No          No              No  \n",
       "1          No          No              No  \n",
       "2          No          No              No  \n",
       "3         Yes          No              No  \n",
       "4          No          No              No  "
      ]
     },
     "metadata": {},
     "output_type": "display_data"
    },
    {
     "name": "stdout",
     "output_type": "stream",
     "text": [
      "<class 'pandas.core.frame.DataFrame'>\n",
      "RangeIndex: 6361 entries, 0 to 6360\n",
      "Data columns (total 2 columns):\n",
      " #   Column         Non-Null Count  Dtype \n",
      "---  ------         --------------  ----- \n",
      " 0   customerID     6361 non-null   object\n",
      " 1   MultipleLines  6361 non-null   object\n",
      "dtypes: object(2)\n",
      "memory usage: 99.5+ KB\n",
      "None\n",
      "\n"
     ]
    },
    {
     "data": {
      "text/html": [
       "<div>\n",
       "<style scoped>\n",
       "    .dataframe tbody tr th:only-of-type {\n",
       "        vertical-align: middle;\n",
       "    }\n",
       "\n",
       "    .dataframe tbody tr th {\n",
       "        vertical-align: top;\n",
       "    }\n",
       "\n",
       "    .dataframe thead th {\n",
       "        text-align: right;\n",
       "    }\n",
       "</style>\n",
       "<table border=\"1\" class=\"dataframe\">\n",
       "  <thead>\n",
       "    <tr style=\"text-align: right;\">\n",
       "      <th></th>\n",
       "      <th>customerID</th>\n",
       "      <th>MultipleLines</th>\n",
       "    </tr>\n",
       "  </thead>\n",
       "  <tbody>\n",
       "    <tr>\n",
       "      <th>0</th>\n",
       "      <td>5575-GNVDE</td>\n",
       "      <td>No</td>\n",
       "    </tr>\n",
       "    <tr>\n",
       "      <th>1</th>\n",
       "      <td>3668-QPYBK</td>\n",
       "      <td>No</td>\n",
       "    </tr>\n",
       "    <tr>\n",
       "      <th>2</th>\n",
       "      <td>9237-HQITU</td>\n",
       "      <td>No</td>\n",
       "    </tr>\n",
       "    <tr>\n",
       "      <th>3</th>\n",
       "      <td>9305-CDSKC</td>\n",
       "      <td>Yes</td>\n",
       "    </tr>\n",
       "    <tr>\n",
       "      <th>4</th>\n",
       "      <td>1452-KIOVK</td>\n",
       "      <td>Yes</td>\n",
       "    </tr>\n",
       "  </tbody>\n",
       "</table>\n",
       "</div>"
      ],
      "text/plain": [
       "   customerID MultipleLines\n",
       "0  5575-GNVDE            No\n",
       "1  3668-QPYBK            No\n",
       "2  9237-HQITU            No\n",
       "3  9305-CDSKC           Yes\n",
       "4  1452-KIOVK           Yes"
      ]
     },
     "metadata": {},
     "output_type": "display_data"
    }
   ],
   "source": [
    "for data in [contract, personal, internet, phone]:\n",
    "    print(data.info(), end='\\n\\n')\n",
    "    display(data.head())"
   ]
  },
  {
   "cell_type": "markdown",
   "id": "e5a80bec",
   "metadata": {},
   "source": [
    "Стоит обратить внимание на то, что практически все данные имеют тип `object`. Данные нужно будет преобразовать в тип `int`, чтобы они подходили для обучения модели. Также в рамках хорошего тона стоит переименовать столбцы с учетом \"змеиного регистра\". "
   ]
  },
  {
   "cell_type": "markdown",
   "id": "1218a490",
   "metadata": {},
   "source": [
    "Аналогичным способом проверим данные на пропуски и явные дубликаты:"
   ]
  },
  {
   "cell_type": "code",
   "execution_count": 5,
   "id": "617f73bd",
   "metadata": {
    "scrolled": true
   },
   "outputs": [
    {
     "name": "stdout",
     "output_type": "stream",
     "text": [
      "\n",
      "Проверка на дубли:0\n",
      "\n",
      "Проверка на пропуски:\n",
      "\n",
      "customerID          0\n",
      "BeginDate           0\n",
      "EndDate             0\n",
      "Type                0\n",
      "PaperlessBilling    0\n",
      "PaymentMethod       0\n",
      "MonthlyCharges      0\n",
      "TotalCharges        0\n",
      "dtype: int64\n",
      "\n",
      "Проверка на дубли:0\n",
      "\n",
      "Проверка на пропуски:\n",
      "\n",
      "customerID       0\n",
      "gender           0\n",
      "SeniorCitizen    0\n",
      "Partner          0\n",
      "Dependents       0\n",
      "dtype: int64\n",
      "\n",
      "Проверка на дубли:0\n",
      "\n",
      "Проверка на пропуски:\n",
      "\n",
      "customerID          0\n",
      "InternetService     0\n",
      "OnlineSecurity      0\n",
      "OnlineBackup        0\n",
      "DeviceProtection    0\n",
      "TechSupport         0\n",
      "StreamingTV         0\n",
      "StreamingMovies     0\n",
      "dtype: int64\n",
      "\n",
      "Проверка на дубли:0\n",
      "\n",
      "Проверка на пропуски:\n",
      "\n",
      "customerID       0\n",
      "MultipleLines    0\n",
      "dtype: int64\n"
     ]
    }
   ],
   "source": [
    "for data in [contract, personal, internet, phone]:\n",
    "    print('')\n",
    "    print('Проверка на дубли:' f'{data.duplicated().sum()}', end='\\n\\n')\n",
    "    print('Проверка на пропуски:', end='\\n\\n' f'{data.isna().sum()}')\n",
    "    print('')"
   ]
  },
  {
   "cell_type": "markdown",
   "id": "39da96a7",
   "metadata": {},
   "source": [
    "Пропусков и явных дубликатов не обнаружено."
   ]
  },
  {
   "cell_type": "markdown",
   "id": "362d70fe",
   "metadata": {},
   "source": [
    "Посмотрим на количество действующих и ушедших клиентов:"
   ]
  },
  {
   "cell_type": "code",
   "execution_count": 6,
   "id": "457b39de",
   "metadata": {
    "scrolled": true
   },
   "outputs": [
    {
     "data": {
      "text/plain": [
       "No                     5174\n",
       "2019-11-01 00:00:00     485\n",
       "2019-12-01 00:00:00     466\n",
       "2020-01-01 00:00:00     460\n",
       "2019-10-01 00:00:00     458\n",
       "Name: EndDate, dtype: int64"
      ]
     },
     "execution_count": 6,
     "metadata": {},
     "output_type": "execute_result"
    }
   ],
   "source": [
    "contract['EndDate'].value_counts()"
   ]
  },
  {
   "cell_type": "markdown",
   "id": "0e41509a",
   "metadata": {},
   "source": [
    "Клиенты уходили в последний квартал 2019 года и в начале 2020. Далее статистика по уходам просто отсутствует, т.к. дата выгрузки данных 1 февраля 2020. "
   ]
  },
  {
   "cell_type": "markdown",
   "id": "b74c424b",
   "metadata": {},
   "source": [
    "Доля ушедших клиентов:"
   ]
  },
  {
   "cell_type": "code",
   "execution_count": 7,
   "id": "f56ad2c9",
   "metadata": {},
   "outputs": [
    {
     "data": {
      "image/png": "[encoded data removed]",
      "text/plain": [
       "<Figure size 576x576 with 1 Axes>"
      ]
     },
     "metadata": {},
     "output_type": "display_data"
    }
   ],
   "source": [
    "contract['EndDate'].value_counts().plot.pie(labels=contract['EndDate'].unique(),\n",
    "                                            autopct='%.1f%%',\n",
    "                                            fontsize=10,\n",
    "                                            figsize=(8, 8))\n",
    "plt.title('Соотношение оставшихся и ушедших клиентов');"
   ]
  },
  {
   "cell_type": "markdown",
   "id": "54b6bf45",
   "metadata": {},
   "source": [
    "Соотношение оставшихся и ушедших клиентов приблизительно 3:1. Таким образом, мы иммем дело с дисбалансом классов. Стоит учитывать это при дальнейшей работе. "
   ]
  },
  {
   "cell_type": "markdown",
   "id": "f2f3b40f",
   "metadata": {},
   "source": [
    "### Предобработка данных"
   ]
  },
  {
   "cell_type": "markdown",
   "id": "0acc8a7e",
   "metadata": {},
   "source": [
    "Начнем с преобразования типов данных в таблицах. "
   ]
  },
  {
   "cell_type": "markdown",
   "id": "5c8b4dd9",
   "metadata": {},
   "source": [
    "**Таблица contract**"
   ]
  },
  {
   "cell_type": "code",
   "execution_count": 8,
   "id": "c710b8e4",
   "metadata": {},
   "outputs": [],
   "source": [
    "contract['BeginDate'] = contract['BeginDate'].astype('datetime64')"
   ]
  },
  {
   "cell_type": "code",
   "execution_count": 9,
   "id": "3b5540fb",
   "metadata": {},
   "outputs": [],
   "source": [
    "contract['MonthlyCharges'] = contract['MonthlyCharges'].astype('float')"
   ]
  },
  {
   "cell_type": "markdown",
   "id": "8ab4e93d",
   "metadata": {},
   "source": [
    "Строка ниже выполняется с ошибкой, т.к. в столбце присутствуют неявные пропуски - строки заполнены пробелами `''`. "
   ]
  },
  {
   "cell_type": "code",
   "execution_count": 10,
   "id": "7a8f915b",
   "metadata": {},
   "outputs": [],
   "source": [
    "#contract['TotalCharges'] = contract['TotalCharges'].astype('float')"
   ]
  },
  {
   "cell_type": "code",
   "execution_count": 11,
   "id": "8a2a5017",
   "metadata": {},
   "outputs": [
    {
     "data": {
      "text/plain": [
       "'Пользователи с незаполненным полем TotalCharges:'"
      ]
     },
     "metadata": {},
     "output_type": "display_data"
    },
    {
     "data": {
      "text/html": [
       "<div>\n",
       "<style scoped>\n",
       "    .dataframe tbody tr th:only-of-type {\n",
       "        vertical-align: middle;\n",
       "    }\n",
       "\n",
       "    .dataframe tbody tr th {\n",
       "        vertical-align: top;\n",
       "    }\n",
       "\n",
       "    .dataframe thead th {\n",
       "        text-align: right;\n",
       "    }\n",
       "</style>\n",
       "<table border=\"1\" class=\"dataframe\">\n",
       "  <thead>\n",
       "    <tr style=\"text-align: right;\">\n",
       "      <th></th>\n",
       "      <th>customerID</th>\n",
       "      <th>BeginDate</th>\n",
       "      <th>EndDate</th>\n",
       "      <th>Type</th>\n",
       "      <th>PaperlessBilling</th>\n",
       "      <th>PaymentMethod</th>\n",
       "      <th>MonthlyCharges</th>\n",
       "      <th>TotalCharges</th>\n",
       "    </tr>\n",
       "  </thead>\n",
       "  <tbody>\n",
       "    <tr>\n",
       "      <th>488</th>\n",
       "      <td>4472-LVYGI</td>\n",
       "      <td>2020-02-01</td>\n",
       "      <td>No</td>\n",
       "      <td>Two year</td>\n",
       "      <td>Yes</td>\n",
       "      <td>Bank transfer (automatic)</td>\n",
       "      <td>52.55</td>\n",
       "      <td></td>\n",
       "    </tr>\n",
       "    <tr>\n",
       "      <th>753</th>\n",
       "      <td>3115-CZMZD</td>\n",
       "      <td>2020-02-01</td>\n",
       "      <td>No</td>\n",
       "      <td>Two year</td>\n",
       "      <td>No</td>\n",
       "      <td>Mailed check</td>\n",
       "      <td>20.25</td>\n",
       "      <td></td>\n",
       "    </tr>\n",
       "    <tr>\n",
       "      <th>936</th>\n",
       "      <td>5709-LVOEQ</td>\n",
       "      <td>2020-02-01</td>\n",
       "      <td>No</td>\n",
       "      <td>Two year</td>\n",
       "      <td>No</td>\n",
       "      <td>Mailed check</td>\n",
       "      <td>80.85</td>\n",
       "      <td></td>\n",
       "    </tr>\n",
       "    <tr>\n",
       "      <th>1082</th>\n",
       "      <td>4367-NUYAO</td>\n",
       "      <td>2020-02-01</td>\n",
       "      <td>No</td>\n",
       "      <td>Two year</td>\n",
       "      <td>No</td>\n",
       "      <td>Mailed check</td>\n",
       "      <td>25.75</td>\n",
       "      <td></td>\n",
       "    </tr>\n",
       "    <tr>\n",
       "      <th>1340</th>\n",
       "      <td>1371-DWPAZ</td>\n",
       "      <td>2020-02-01</td>\n",
       "      <td>No</td>\n",
       "      <td>Two year</td>\n",
       "      <td>No</td>\n",
       "      <td>Credit card (automatic)</td>\n",
       "      <td>56.05</td>\n",
       "      <td></td>\n",
       "    </tr>\n",
       "    <tr>\n",
       "      <th>3331</th>\n",
       "      <td>7644-OMVMY</td>\n",
       "      <td>2020-02-01</td>\n",
       "      <td>No</td>\n",
       "      <td>Two year</td>\n",
       "      <td>No</td>\n",
       "      <td>Mailed check</td>\n",
       "      <td>19.85</td>\n",
       "      <td></td>\n",
       "    </tr>\n",
       "    <tr>\n",
       "      <th>3826</th>\n",
       "      <td>3213-VVOLG</td>\n",
       "      <td>2020-02-01</td>\n",
       "      <td>No</td>\n",
       "      <td>Two year</td>\n",
       "      <td>No</td>\n",
       "      <td>Mailed check</td>\n",
       "      <td>25.35</td>\n",
       "      <td></td>\n",
       "    </tr>\n",
       "    <tr>\n",
       "      <th>4380</th>\n",
       "      <td>2520-SGTTA</td>\n",
       "      <td>2020-02-01</td>\n",
       "      <td>No</td>\n",
       "      <td>Two year</td>\n",
       "      <td>No</td>\n",
       "      <td>Mailed check</td>\n",
       "      <td>20.00</td>\n",
       "      <td></td>\n",
       "    </tr>\n",
       "    <tr>\n",
       "      <th>5218</th>\n",
       "      <td>2923-ARZLG</td>\n",
       "      <td>2020-02-01</td>\n",
       "      <td>No</td>\n",
       "      <td>One year</td>\n",
       "      <td>Yes</td>\n",
       "      <td>Mailed check</td>\n",
       "      <td>19.70</td>\n",
       "      <td></td>\n",
       "    </tr>\n",
       "    <tr>\n",
       "      <th>6670</th>\n",
       "      <td>4075-WKNIU</td>\n",
       "      <td>2020-02-01</td>\n",
       "      <td>No</td>\n",
       "      <td>Two year</td>\n",
       "      <td>No</td>\n",
       "      <td>Mailed check</td>\n",
       "      <td>73.35</td>\n",
       "      <td></td>\n",
       "    </tr>\n",
       "    <tr>\n",
       "      <th>6754</th>\n",
       "      <td>2775-SEFEE</td>\n",
       "      <td>2020-02-01</td>\n",
       "      <td>No</td>\n",
       "      <td>Two year</td>\n",
       "      <td>Yes</td>\n",
       "      <td>Bank transfer (automatic)</td>\n",
       "      <td>61.90</td>\n",
       "      <td></td>\n",
       "    </tr>\n",
       "  </tbody>\n",
       "</table>\n",
       "</div>"
      ],
      "text/plain": [
       "      customerID  BeginDate EndDate      Type PaperlessBilling  \\\n",
       "488   4472-LVYGI 2020-02-01      No  Two year              Yes   \n",
       "753   3115-CZMZD 2020-02-01      No  Two year               No   \n",
       "936   5709-LVOEQ 2020-02-01      No  Two year               No   \n",
       "1082  4367-NUYAO 2020-02-01      No  Two year               No   \n",
       "1340  1371-DWPAZ 2020-02-01      No  Two year               No   \n",
       "3331  7644-OMVMY 2020-02-01      No  Two year               No   \n",
       "3826  3213-VVOLG 2020-02-01      No  Two year               No   \n",
       "4380  2520-SGTTA 2020-02-01      No  Two year               No   \n",
       "5218  2923-ARZLG 2020-02-01      No  One year              Yes   \n",
       "6670  4075-WKNIU 2020-02-01      No  Two year               No   \n",
       "6754  2775-SEFEE 2020-02-01      No  Two year              Yes   \n",
       "\n",
       "                  PaymentMethod  MonthlyCharges TotalCharges  \n",
       "488   Bank transfer (automatic)           52.55               \n",
       "753                Mailed check           20.25               \n",
       "936                Mailed check           80.85               \n",
       "1082               Mailed check           25.75               \n",
       "1340    Credit card (automatic)           56.05               \n",
       "3331               Mailed check           19.85               \n",
       "3826               Mailed check           25.35               \n",
       "4380               Mailed check           20.00               \n",
       "5218               Mailed check           19.70               \n",
       "6670               Mailed check           73.35               \n",
       "6754  Bank transfer (automatic)           61.90               "
      ]
     },
     "metadata": {},
     "output_type": "display_data"
    }
   ],
   "source": [
    "display('Пользователи с незаполненным полем TotalCharges:', contract.loc[contract['TotalCharges'] == ' '])"
   ]
  },
  {
   "cell_type": "markdown",
   "id": "68f0d2f1",
   "metadata": {},
   "source": [
    "Важно обратить внимание на дату заключения договора с этими пользователями (столбец BeginDate): это дата выгрузки данных из базы. Соответственно, это совсем новые пользователи, которые пока не смогли продемонстрировать какое-либо поведение. Их придется удалить, т.к. эти пользователи не представляют ценности для исследования. "
   ]
  },
  {
   "cell_type": "code",
   "execution_count": 12,
   "id": "d79ddb5d",
   "metadata": {},
   "outputs": [],
   "source": [
    "contract.drop(contract[contract['TotalCharges']==\" \"].index, axis=0, inplace=True)"
   ]
  },
  {
   "cell_type": "code",
   "execution_count": 13,
   "id": "eee245ee",
   "metadata": {},
   "outputs": [],
   "source": [
    "contract['TotalCharges'] = contract['TotalCharges'].astype('float')"
   ]
  },
  {
   "cell_type": "markdown",
   "id": "c1a6b51d",
   "metadata": {},
   "source": [
    "Добавим столбец с фактом ухода клиента:"
   ]
  },
  {
   "cell_type": "code",
   "execution_count": 14,
   "id": "58d7926b",
   "metadata": {},
   "outputs": [],
   "source": [
    "def churn_fact(churn):\n",
    "    if churn == 'No':\n",
    "        category = 0\n",
    "    else: \n",
    "        category = 1\n",
    "    return category"
   ]
  },
  {
   "cell_type": "code",
   "execution_count": 15,
   "id": "2a4ed9a4",
   "metadata": {},
   "outputs": [],
   "source": [
    "contract['churn'] = contract['EndDate'].apply(churn_fact).astype('int')"
   ]
  },
  {
   "cell_type": "code",
   "execution_count": 16,
   "id": "086ca1cb",
   "metadata": {
    "scrolled": true
   },
   "outputs": [
    {
     "data": {
      "text/html": [
       "<div>\n",
       "<style scoped>\n",
       "    .dataframe tbody tr th:only-of-type {\n",
       "        vertical-align: middle;\n",
       "    }\n",
       "\n",
       "    .dataframe tbody tr th {\n",
       "        vertical-align: top;\n",
       "    }\n",
       "\n",
       "    .dataframe thead th {\n",
       "        text-align: right;\n",
       "    }\n",
       "</style>\n",
       "<table border=\"1\" class=\"dataframe\">\n",
       "  <thead>\n",
       "    <tr style=\"text-align: right;\">\n",
       "      <th></th>\n",
       "      <th>customerID</th>\n",
       "      <th>BeginDate</th>\n",
       "      <th>EndDate</th>\n",
       "      <th>Type</th>\n",
       "      <th>PaperlessBilling</th>\n",
       "      <th>PaymentMethod</th>\n",
       "      <th>MonthlyCharges</th>\n",
       "      <th>TotalCharges</th>\n",
       "      <th>churn</th>\n",
       "    </tr>\n",
       "  </thead>\n",
       "  <tbody>\n",
       "    <tr>\n",
       "      <th>0</th>\n",
       "      <td>7590-VHVEG</td>\n",
       "      <td>2020-01-01</td>\n",
       "      <td>No</td>\n",
       "      <td>Month-to-month</td>\n",
       "      <td>Yes</td>\n",
       "      <td>Electronic check</td>\n",
       "      <td>29.85</td>\n",
       "      <td>29.85</td>\n",
       "      <td>0</td>\n",
       "    </tr>\n",
       "    <tr>\n",
       "      <th>1</th>\n",
       "      <td>5575-GNVDE</td>\n",
       "      <td>2017-04-01</td>\n",
       "      <td>No</td>\n",
       "      <td>One year</td>\n",
       "      <td>No</td>\n",
       "      <td>Mailed check</td>\n",
       "      <td>56.95</td>\n",
       "      <td>1889.50</td>\n",
       "      <td>0</td>\n",
       "    </tr>\n",
       "    <tr>\n",
       "      <th>2</th>\n",
       "      <td>3668-QPYBK</td>\n",
       "      <td>2019-10-01</td>\n",
       "      <td>2019-12-01 00:00:00</td>\n",
       "      <td>Month-to-month</td>\n",
       "      <td>Yes</td>\n",
       "      <td>Mailed check</td>\n",
       "      <td>53.85</td>\n",
       "      <td>108.15</td>\n",
       "      <td>1</td>\n",
       "    </tr>\n",
       "    <tr>\n",
       "      <th>3</th>\n",
       "      <td>7795-CFOCW</td>\n",
       "      <td>2016-05-01</td>\n",
       "      <td>No</td>\n",
       "      <td>One year</td>\n",
       "      <td>No</td>\n",
       "      <td>Bank transfer (automatic)</td>\n",
       "      <td>42.30</td>\n",
       "      <td>1840.75</td>\n",
       "      <td>0</td>\n",
       "    </tr>\n",
       "    <tr>\n",
       "      <th>4</th>\n",
       "      <td>9237-HQITU</td>\n",
       "      <td>2019-09-01</td>\n",
       "      <td>2019-11-01 00:00:00</td>\n",
       "      <td>Month-to-month</td>\n",
       "      <td>Yes</td>\n",
       "      <td>Electronic check</td>\n",
       "      <td>70.70</td>\n",
       "      <td>151.65</td>\n",
       "      <td>1</td>\n",
       "    </tr>\n",
       "  </tbody>\n",
       "</table>\n",
       "</div>"
      ],
      "text/plain": [
       "   customerID  BeginDate              EndDate            Type  \\\n",
       "0  7590-VHVEG 2020-01-01                   No  Month-to-month   \n",
       "1  5575-GNVDE 2017-04-01                   No        One year   \n",
       "2  3668-QPYBK 2019-10-01  2019-12-01 00:00:00  Month-to-month   \n",
       "3  7795-CFOCW 2016-05-01                   No        One year   \n",
       "4  9237-HQITU 2019-09-01  2019-11-01 00:00:00  Month-to-month   \n",
       "\n",
       "  PaperlessBilling              PaymentMethod  MonthlyCharges  TotalCharges  \\\n",
       "0              Yes           Electronic check           29.85         29.85   \n",
       "1               No               Mailed check           56.95       1889.50   \n",
       "2              Yes               Mailed check           53.85        108.15   \n",
       "3               No  Bank transfer (automatic)           42.30       1840.75   \n",
       "4              Yes           Electronic check           70.70        151.65   \n",
       "\n",
       "   churn  \n",
       "0      0  \n",
       "1      0  \n",
       "2      1  \n",
       "3      0  \n",
       "4      1  "
      ]
     },
     "execution_count": 16,
     "metadata": {},
     "output_type": "execute_result"
    }
   ],
   "source": [
    "contract.head()"
   ]
  },
  {
   "cell_type": "markdown",
   "id": "07124eda",
   "metadata": {},
   "source": [
    "Также добавим столбец `tenure`, где сохраним срок, в течение которого человек являлся клиентом компании:"
   ]
  },
  {
   "cell_type": "code",
   "execution_count": 17,
   "id": "ef39e1fe",
   "metadata": {},
   "outputs": [],
   "source": [
    "DOWNLOAD = '2020-02-01'\n",
    "contract.loc[contract['EndDate'] == 'No', 'EndDate'] = DOWNLOAD\n",
    "contract['EndDate'] = contract['EndDate'].astype('datetime64')"
   ]
  },
  {
   "cell_type": "code",
   "execution_count": 18,
   "id": "cb3ddd47",
   "metadata": {},
   "outputs": [],
   "source": [
    "contract['tenure'] = (contract['EndDate'] - contract['BeginDate']).dt.days"
   ]
  },
  {
   "cell_type": "code",
   "execution_count": 19,
   "id": "341f4be7",
   "metadata": {},
   "outputs": [
    {
     "data": {
      "text/html": [
       "<div>\n",
       "<style scoped>\n",
       "    .dataframe tbody tr th:only-of-type {\n",
       "        vertical-align: middle;\n",
       "    }\n",
       "\n",
       "    .dataframe tbody tr th {\n",
       "        vertical-align: top;\n",
       "    }\n",
       "\n",
       "    .dataframe thead th {\n",
       "        text-align: right;\n",
       "    }\n",
       "</style>\n",
       "<table border=\"1\" class=\"dataframe\">\n",
       "  <thead>\n",
       "    <tr style=\"text-align: right;\">\n",
       "      <th></th>\n",
       "      <th>customerID</th>\n",
       "      <th>BeginDate</th>\n",
       "      <th>EndDate</th>\n",
       "      <th>Type</th>\n",
       "      <th>PaperlessBilling</th>\n",
       "      <th>PaymentMethod</th>\n",
       "      <th>MonthlyCharges</th>\n",
       "      <th>TotalCharges</th>\n",
       "      <th>churn</th>\n",
       "      <th>tenure</th>\n",
       "    </tr>\n",
       "  </thead>\n",
       "  <tbody>\n",
       "    <tr>\n",
       "      <th>0</th>\n",
       "      <td>7590-VHVEG</td>\n",
       "      <td>2020-01-01</td>\n",
       "      <td>2020-02-01</td>\n",
       "      <td>Month-to-month</td>\n",
       "      <td>Yes</td>\n",
       "      <td>Electronic check</td>\n",
       "      <td>29.85</td>\n",
       "      <td>29.85</td>\n",
       "      <td>0</td>\n",
       "      <td>31</td>\n",
       "    </tr>\n",
       "    <tr>\n",
       "      <th>1</th>\n",
       "      <td>5575-GNVDE</td>\n",
       "      <td>2017-04-01</td>\n",
       "      <td>2020-02-01</td>\n",
       "      <td>One year</td>\n",
       "      <td>No</td>\n",
       "      <td>Mailed check</td>\n",
       "      <td>56.95</td>\n",
       "      <td>1889.50</td>\n",
       "      <td>0</td>\n",
       "      <td>1036</td>\n",
       "    </tr>\n",
       "    <tr>\n",
       "      <th>2</th>\n",
       "      <td>3668-QPYBK</td>\n",
       "      <td>2019-10-01</td>\n",
       "      <td>2019-12-01</td>\n",
       "      <td>Month-to-month</td>\n",
       "      <td>Yes</td>\n",
       "      <td>Mailed check</td>\n",
       "      <td>53.85</td>\n",
       "      <td>108.15</td>\n",
       "      <td>1</td>\n",
       "      <td>61</td>\n",
       "    </tr>\n",
       "    <tr>\n",
       "      <th>3</th>\n",
       "      <td>7795-CFOCW</td>\n",
       "      <td>2016-05-01</td>\n",
       "      <td>2020-02-01</td>\n",
       "      <td>One year</td>\n",
       "      <td>No</td>\n",
       "      <td>Bank transfer (automatic)</td>\n",
       "      <td>42.30</td>\n",
       "      <td>1840.75</td>\n",
       "      <td>0</td>\n",
       "      <td>1371</td>\n",
       "    </tr>\n",
       "    <tr>\n",
       "      <th>4</th>\n",
       "      <td>9237-HQITU</td>\n",
       "      <td>2019-09-01</td>\n",
       "      <td>2019-11-01</td>\n",
       "      <td>Month-to-month</td>\n",
       "      <td>Yes</td>\n",
       "      <td>Electronic check</td>\n",
       "      <td>70.70</td>\n",
       "      <td>151.65</td>\n",
       "      <td>1</td>\n",
       "      <td>61</td>\n",
       "    </tr>\n",
       "  </tbody>\n",
       "</table>\n",
       "</div>"
      ],
      "text/plain": [
       "   customerID  BeginDate    EndDate            Type PaperlessBilling  \\\n",
       "0  7590-VHVEG 2020-01-01 2020-02-01  Month-to-month              Yes   \n",
       "1  5575-GNVDE 2017-04-01 2020-02-01        One year               No   \n",
       "2  3668-QPYBK 2019-10-01 2019-12-01  Month-to-month              Yes   \n",
       "3  7795-CFOCW 2016-05-01 2020-02-01        One year               No   \n",
       "4  9237-HQITU 2019-09-01 2019-11-01  Month-to-month              Yes   \n",
       "\n",
       "               PaymentMethod  MonthlyCharges  TotalCharges  churn  tenure  \n",
       "0           Electronic check           29.85         29.85      0      31  \n",
       "1               Mailed check           56.95       1889.50      0    1036  \n",
       "2               Mailed check           53.85        108.15      1      61  \n",
       "3  Bank transfer (automatic)           42.30       1840.75      0    1371  \n",
       "4           Electronic check           70.70        151.65      1      61  "
      ]
     },
     "execution_count": 19,
     "metadata": {},
     "output_type": "execute_result"
    }
   ],
   "source": [
    "contract.head()"
   ]
  },
  {
   "cell_type": "markdown",
   "id": "bddd6a5b",
   "metadata": {},
   "source": [
    "Теперь столбцы с датой начала и окончания действия договора можно удалить. "
   ]
  },
  {
   "cell_type": "code",
   "execution_count": 20,
   "id": "89fcc328",
   "metadata": {},
   "outputs": [],
   "source": [
    "contract.drop(['BeginDate', 'EndDate'], axis=1, inplace=True)"
   ]
  },
  {
   "cell_type": "markdown",
   "id": "637e79d9",
   "metadata": {},
   "source": [
    "В результате всех преобразований таблица `contract` приобрела такой вид: "
   ]
  },
  {
   "cell_type": "code",
   "execution_count": 21,
   "id": "901fe805",
   "metadata": {
    "scrolled": true
   },
   "outputs": [
    {
     "data": {
      "text/html": [
       "<div>\n",
       "<style scoped>\n",
       "    .dataframe tbody tr th:only-of-type {\n",
       "        vertical-align: middle;\n",
       "    }\n",
       "\n",
       "    .dataframe tbody tr th {\n",
       "        vertical-align: top;\n",
       "    }\n",
       "\n",
       "    .dataframe thead th {\n",
       "        text-align: right;\n",
       "    }\n",
       "</style>\n",
       "<table border=\"1\" class=\"dataframe\">\n",
       "  <thead>\n",
       "    <tr style=\"text-align: right;\">\n",
       "      <th></th>\n",
       "      <th>customerID</th>\n",
       "      <th>Type</th>\n",
       "      <th>PaperlessBilling</th>\n",
       "      <th>PaymentMethod</th>\n",
       "      <th>MonthlyCharges</th>\n",
       "      <th>TotalCharges</th>\n",
       "      <th>churn</th>\n",
       "      <th>tenure</th>\n",
       "    </tr>\n",
       "  </thead>\n",
       "  <tbody>\n",
       "    <tr>\n",
       "      <th>0</th>\n",
       "      <td>7590-VHVEG</td>\n",
       "      <td>Month-to-month</td>\n",
       "      <td>Yes</td>\n",
       "      <td>Electronic check</td>\n",
       "      <td>29.85</td>\n",
       "      <td>29.85</td>\n",
       "      <td>0</td>\n",
       "      <td>31</td>\n",
       "    </tr>\n",
       "    <tr>\n",
       "      <th>1</th>\n",
       "      <td>5575-GNVDE</td>\n",
       "      <td>One year</td>\n",
       "      <td>No</td>\n",
       "      <td>Mailed check</td>\n",
       "      <td>56.95</td>\n",
       "      <td>1889.50</td>\n",
       "      <td>0</td>\n",
       "      <td>1036</td>\n",
       "    </tr>\n",
       "    <tr>\n",
       "      <th>2</th>\n",
       "      <td>3668-QPYBK</td>\n",
       "      <td>Month-to-month</td>\n",
       "      <td>Yes</td>\n",
       "      <td>Mailed check</td>\n",
       "      <td>53.85</td>\n",
       "      <td>108.15</td>\n",
       "      <td>1</td>\n",
       "      <td>61</td>\n",
       "    </tr>\n",
       "    <tr>\n",
       "      <th>3</th>\n",
       "      <td>7795-CFOCW</td>\n",
       "      <td>One year</td>\n",
       "      <td>No</td>\n",
       "      <td>Bank transfer (automatic)</td>\n",
       "      <td>42.30</td>\n",
       "      <td>1840.75</td>\n",
       "      <td>0</td>\n",
       "      <td>1371</td>\n",
       "    </tr>\n",
       "    <tr>\n",
       "      <th>4</th>\n",
       "      <td>9237-HQITU</td>\n",
       "      <td>Month-to-month</td>\n",
       "      <td>Yes</td>\n",
       "      <td>Electronic check</td>\n",
       "      <td>70.70</td>\n",
       "      <td>151.65</td>\n",
       "      <td>1</td>\n",
       "      <td>61</td>\n",
       "    </tr>\n",
       "  </tbody>\n",
       "</table>\n",
       "</div>"
      ],
      "text/plain": [
       "   customerID            Type PaperlessBilling              PaymentMethod  \\\n",
       "0  7590-VHVEG  Month-to-month              Yes           Electronic check   \n",
       "1  5575-GNVDE        One year               No               Mailed check   \n",
       "2  3668-QPYBK  Month-to-month              Yes               Mailed check   \n",
       "3  7795-CFOCW        One year               No  Bank transfer (automatic)   \n",
       "4  9237-HQITU  Month-to-month              Yes           Electronic check   \n",
       "\n",
       "   MonthlyCharges  TotalCharges  churn  tenure  \n",
       "0           29.85         29.85      0      31  \n",
       "1           56.95       1889.50      0    1036  \n",
       "2           53.85        108.15      1      61  \n",
       "3           42.30       1840.75      0    1371  \n",
       "4           70.70        151.65      1      61  "
      ]
     },
     "execution_count": 21,
     "metadata": {},
     "output_type": "execute_result"
    }
   ],
   "source": [
    "contract.head()"
   ]
  },
  {
   "cell_type": "markdown",
   "id": "bb2012dc",
   "metadata": {},
   "source": [
    "**Объединение таблиц**"
   ]
  },
  {
   "cell_type": "markdown",
   "id": "774c9c35",
   "metadata": {},
   "source": [
    "Объединим таблицы и проверим качество объединения. "
   ]
  },
  {
   "cell_type": "code",
   "execution_count": 22,
   "id": "98745927",
   "metadata": {},
   "outputs": [],
   "source": [
    "data = contract.merge(personal, how='left', on='customerID').merge(internet, how='left', \n",
    "                                                                   on='customerID').merge(phone, how='left', on='customerID')"
   ]
  },
  {
   "cell_type": "code",
   "execution_count": 23,
   "id": "c43d1746",
   "metadata": {},
   "outputs": [
    {
     "name": "stdout",
     "output_type": "stream",
     "text": [
      "<class 'pandas.core.frame.DataFrame'>\n",
      "Int64Index: 7032 entries, 0 to 7031\n",
      "Data columns (total 20 columns):\n",
      " #   Column            Non-Null Count  Dtype  \n",
      "---  ------            --------------  -----  \n",
      " 0   customerID        7032 non-null   object \n",
      " 1   Type              7032 non-null   object \n",
      " 2   PaperlessBilling  7032 non-null   object \n",
      " 3   PaymentMethod     7032 non-null   object \n",
      " 4   MonthlyCharges    7032 non-null   float64\n",
      " 5   TotalCharges      7032 non-null   float64\n",
      " 6   churn             7032 non-null   int32  \n",
      " 7   tenure            7032 non-null   int64  \n",
      " 8   gender            7032 non-null   object \n",
      " 9   SeniorCitizen     7032 non-null   int64  \n",
      " 10  Partner           7032 non-null   object \n",
      " 11  Dependents        7032 non-null   object \n",
      " 12  InternetService   5512 non-null   object \n",
      " 13  OnlineSecurity    5512 non-null   object \n",
      " 14  OnlineBackup      5512 non-null   object \n",
      " 15  DeviceProtection  5512 non-null   object \n",
      " 16  TechSupport       5512 non-null   object \n",
      " 17  StreamingTV       5512 non-null   object \n",
      " 18  StreamingMovies   5512 non-null   object \n",
      " 19  MultipleLines     6352 non-null   object \n",
      "dtypes: float64(2), int32(1), int64(2), object(15)\n",
      "memory usage: 1.1+ MB\n"
     ]
    }
   ],
   "source": [
    "data.info()"
   ]
  },
  {
   "cell_type": "code",
   "execution_count": 24,
   "id": "d6924572",
   "metadata": {},
   "outputs": [
    {
     "data": {
      "text/plain": [
       "0"
      ]
     },
     "execution_count": 24,
     "metadata": {},
     "output_type": "execute_result"
    }
   ],
   "source": [
    "data.duplicated().sum()"
   ]
  },
  {
   "cell_type": "code",
   "execution_count": 25,
   "id": "5a079278",
   "metadata": {},
   "outputs": [
    {
     "data": {
      "text/plain": [
       "True"
      ]
     },
     "execution_count": 25,
     "metadata": {},
     "output_type": "execute_result"
    }
   ],
   "source": [
    "data['customerID'].is_unique"
   ]
  },
  {
   "cell_type": "code",
   "execution_count": 26,
   "id": "b1f2cc65",
   "metadata": {},
   "outputs": [
    {
     "data": {
      "text/plain": [
       "customerID             0\n",
       "Type                   0\n",
       "PaperlessBilling       0\n",
       "PaymentMethod          0\n",
       "MonthlyCharges         0\n",
       "TotalCharges           0\n",
       "churn                  0\n",
       "tenure                 0\n",
       "gender                 0\n",
       "SeniorCitizen          0\n",
       "Partner                0\n",
       "Dependents             0\n",
       "InternetService     1520\n",
       "OnlineSecurity      1520\n",
       "OnlineBackup        1520\n",
       "DeviceProtection    1520\n",
       "TechSupport         1520\n",
       "StreamingTV         1520\n",
       "StreamingMovies     1520\n",
       "MultipleLines        680\n",
       "dtype: int64"
      ]
     },
     "execution_count": 26,
     "metadata": {},
     "output_type": "execute_result"
    }
   ],
   "source": [
    "data.isnull().sum()"
   ]
  },
  {
   "cell_type": "markdown",
   "id": "20fc6769",
   "metadata": {},
   "source": [
    "Ещё на этапе знакомства с данными было заметно, что количество строк в таблицах отличается. Это происходит потому, что не все клиенты пользуются какими-либо услугами. Логично будет заполнить пропуски значением `No`.  "
   ]
  },
  {
   "cell_type": "code",
   "execution_count": 27,
   "id": "f168894a",
   "metadata": {},
   "outputs": [],
   "source": [
    "data = data.fillna('No')"
   ]
  },
  {
   "cell_type": "code",
   "execution_count": 28,
   "id": "9cab1f11",
   "metadata": {
    "scrolled": false
   },
   "outputs": [
    {
     "name": "stdout",
     "output_type": "stream",
     "text": [
      "<class 'pandas.core.frame.DataFrame'>\n",
      "Int64Index: 7032 entries, 0 to 7031\n",
      "Data columns (total 20 columns):\n",
      " #   Column            Non-Null Count  Dtype  \n",
      "---  ------            --------------  -----  \n",
      " 0   customerID        7032 non-null   object \n",
      " 1   Type              7032 non-null   object \n",
      " 2   PaperlessBilling  7032 non-null   object \n",
      " 3   PaymentMethod     7032 non-null   object \n",
      " 4   MonthlyCharges    7032 non-null   float64\n",
      " 5   TotalCharges      7032 non-null   float64\n",
      " 6   churn             7032 non-null   int32  \n",
      " 7   tenure            7032 non-null   int64  \n",
      " 8   gender            7032 non-null   object \n",
      " 9   SeniorCitizen     7032 non-null   int64  \n",
      " 10  Partner           7032 non-null   object \n",
      " 11  Dependents        7032 non-null   object \n",
      " 12  InternetService   7032 non-null   object \n",
      " 13  OnlineSecurity    7032 non-null   object \n",
      " 14  OnlineBackup      7032 non-null   object \n",
      " 15  DeviceProtection  7032 non-null   object \n",
      " 16  TechSupport       7032 non-null   object \n",
      " 17  StreamingTV       7032 non-null   object \n",
      " 18  StreamingMovies   7032 non-null   object \n",
      " 19  MultipleLines     7032 non-null   object \n",
      "dtypes: float64(2), int32(1), int64(2), object(15)\n",
      "memory usage: 1.1+ MB\n"
     ]
    }
   ],
   "source": [
    "data.info()"
   ]
  },
  {
   "cell_type": "markdown",
   "id": "55e14da9",
   "metadata": {},
   "source": [
    "Столбец с кодом клиента превратим в индекс, чтобы эти данные не участвовали в обучении модели: "
   ]
  },
  {
   "cell_type": "code",
   "execution_count": 29,
   "id": "6f7fe79f",
   "metadata": {},
   "outputs": [],
   "source": [
    "data = data.set_index('customerID')"
   ]
  },
  {
   "cell_type": "markdown",
   "id": "9ae38827",
   "metadata": {},
   "source": [
    "Внешний вид итоговой таблицы: "
   ]
  },
  {
   "cell_type": "code",
   "execution_count": 30,
   "id": "a56e565c",
   "metadata": {},
   "outputs": [
    {
     "data": {
      "text/html": [
       "<div>\n",
       "<style scoped>\n",
       "    .dataframe tbody tr th:only-of-type {\n",
       "        vertical-align: middle;\n",
       "    }\n",
       "\n",
       "    .dataframe tbody tr th {\n",
       "        vertical-align: top;\n",
       "    }\n",
       "\n",
       "    .dataframe thead th {\n",
       "        text-align: right;\n",
       "    }\n",
       "</style>\n",
       "<table border=\"1\" class=\"dataframe\">\n",
       "  <thead>\n",
       "    <tr style=\"text-align: right;\">\n",
       "      <th></th>\n",
       "      <th>Type</th>\n",
       "      <th>PaperlessBilling</th>\n",
       "      <th>PaymentMethod</th>\n",
       "      <th>MonthlyCharges</th>\n",
       "      <th>TotalCharges</th>\n",
       "      <th>churn</th>\n",
       "      <th>tenure</th>\n",
       "      <th>gender</th>\n",
       "      <th>SeniorCitizen</th>\n",
       "      <th>Partner</th>\n",
       "      <th>Dependents</th>\n",
       "      <th>InternetService</th>\n",
       "      <th>OnlineSecurity</th>\n",
       "      <th>OnlineBackup</th>\n",
       "      <th>DeviceProtection</th>\n",
       "      <th>TechSupport</th>\n",
       "      <th>StreamingTV</th>\n",
       "      <th>StreamingMovies</th>\n",
       "      <th>MultipleLines</th>\n",
       "    </tr>\n",
       "    <tr>\n",
       "      <th>customerID</th>\n",
       "      <th></th>\n",
       "      <th></th>\n",
       "      <th></th>\n",
       "      <th></th>\n",
       "      <th></th>\n",
       "      <th></th>\n",
       "      <th></th>\n",
       "      <th></th>\n",
       "      <th></th>\n",
       "      <th></th>\n",
       "      <th></th>\n",
       "      <th></th>\n",
       "      <th></th>\n",
       "      <th></th>\n",
       "      <th></th>\n",
       "      <th></th>\n",
       "      <th></th>\n",
       "      <th></th>\n",
       "      <th></th>\n",
       "    </tr>\n",
       "  </thead>\n",
       "  <tbody>\n",
       "    <tr>\n",
       "      <th>7590-VHVEG</th>\n",
       "      <td>Month-to-month</td>\n",
       "      <td>Yes</td>\n",
       "      <td>Electronic check</td>\n",
       "      <td>29.85</td>\n",
       "      <td>29.85</td>\n",
       "      <td>0</td>\n",
       "      <td>31</td>\n",
       "      <td>Female</td>\n",
       "      <td>0</td>\n",
       "      <td>Yes</td>\n",
       "      <td>No</td>\n",
       "      <td>DSL</td>\n",
       "      <td>No</td>\n",
       "      <td>Yes</td>\n",
       "      <td>No</td>\n",
       "      <td>No</td>\n",
       "      <td>No</td>\n",
       "      <td>No</td>\n",
       "      <td>No</td>\n",
       "    </tr>\n",
       "    <tr>\n",
       "      <th>5575-GNVDE</th>\n",
       "      <td>One year</td>\n",
       "      <td>No</td>\n",
       "      <td>Mailed check</td>\n",
       "      <td>56.95</td>\n",
       "      <td>1889.50</td>\n",
       "      <td>0</td>\n",
       "      <td>1036</td>\n",
       "      <td>Male</td>\n",
       "      <td>0</td>\n",
       "      <td>No</td>\n",
       "      <td>No</td>\n",
       "      <td>DSL</td>\n",
       "      <td>Yes</td>\n",
       "      <td>No</td>\n",
       "      <td>Yes</td>\n",
       "      <td>No</td>\n",
       "      <td>No</td>\n",
       "      <td>No</td>\n",
       "      <td>No</td>\n",
       "    </tr>\n",
       "    <tr>\n",
       "      <th>3668-QPYBK</th>\n",
       "      <td>Month-to-month</td>\n",
       "      <td>Yes</td>\n",
       "      <td>Mailed check</td>\n",
       "      <td>53.85</td>\n",
       "      <td>108.15</td>\n",
       "      <td>1</td>\n",
       "      <td>61</td>\n",
       "      <td>Male</td>\n",
       "      <td>0</td>\n",
       "      <td>No</td>\n",
       "      <td>No</td>\n",
       "      <td>DSL</td>\n",
       "      <td>Yes</td>\n",
       "      <td>Yes</td>\n",
       "      <td>No</td>\n",
       "      <td>No</td>\n",
       "      <td>No</td>\n",
       "      <td>No</td>\n",
       "      <td>No</td>\n",
       "    </tr>\n",
       "    <tr>\n",
       "      <th>7795-CFOCW</th>\n",
       "      <td>One year</td>\n",
       "      <td>No</td>\n",
       "      <td>Bank transfer (automatic)</td>\n",
       "      <td>42.30</td>\n",
       "      <td>1840.75</td>\n",
       "      <td>0</td>\n",
       "      <td>1371</td>\n",
       "      <td>Male</td>\n",
       "      <td>0</td>\n",
       "      <td>No</td>\n",
       "      <td>No</td>\n",
       "      <td>DSL</td>\n",
       "      <td>Yes</td>\n",
       "      <td>No</td>\n",
       "      <td>Yes</td>\n",
       "      <td>Yes</td>\n",
       "      <td>No</td>\n",
       "      <td>No</td>\n",
       "      <td>No</td>\n",
       "    </tr>\n",
       "    <tr>\n",
       "      <th>9237-HQITU</th>\n",
       "      <td>Month-to-month</td>\n",
       "      <td>Yes</td>\n",
       "      <td>Electronic check</td>\n",
       "      <td>70.70</td>\n",
       "      <td>151.65</td>\n",
       "      <td>1</td>\n",
       "      <td>61</td>\n",
       "      <td>Female</td>\n",
       "      <td>0</td>\n",
       "      <td>No</td>\n",
       "      <td>No</td>\n",
       "      <td>Fiber optic</td>\n",
       "      <td>No</td>\n",
       "      <td>No</td>\n",
       "      <td>No</td>\n",
       "      <td>No</td>\n",
       "      <td>No</td>\n",
       "      <td>No</td>\n",
       "      <td>No</td>\n",
       "    </tr>\n",
       "  </tbody>\n",
       "</table>\n",
       "</div>"
      ],
      "text/plain": [
       "                      Type PaperlessBilling              PaymentMethod  \\\n",
       "customerID                                                               \n",
       "7590-VHVEG  Month-to-month              Yes           Electronic check   \n",
       "5575-GNVDE        One year               No               Mailed check   \n",
       "3668-QPYBK  Month-to-month              Yes               Mailed check   \n",
       "7795-CFOCW        One year               No  Bank transfer (automatic)   \n",
       "9237-HQITU  Month-to-month              Yes           Electronic check   \n",
       "\n",
       "            MonthlyCharges  TotalCharges  churn  tenure  gender  \\\n",
       "customerID                                                        \n",
       "7590-VHVEG           29.85         29.85      0      31  Female   \n",
       "5575-GNVDE           56.95       1889.50      0    1036    Male   \n",
       "3668-QPYBK           53.85        108.15      1      61    Male   \n",
       "7795-CFOCW           42.30       1840.75      0    1371    Male   \n",
       "9237-HQITU           70.70        151.65      1      61  Female   \n",
       "\n",
       "            SeniorCitizen Partner Dependents InternetService OnlineSecurity  \\\n",
       "customerID                                                                    \n",
       "7590-VHVEG              0     Yes         No             DSL             No   \n",
       "5575-GNVDE              0      No         No             DSL            Yes   \n",
       "3668-QPYBK              0      No         No             DSL            Yes   \n",
       "7795-CFOCW              0      No         No             DSL            Yes   \n",
       "9237-HQITU              0      No         No     Fiber optic             No   \n",
       "\n",
       "           OnlineBackup DeviceProtection TechSupport StreamingTV  \\\n",
       "customerID                                                         \n",
       "7590-VHVEG          Yes               No          No          No   \n",
       "5575-GNVDE           No              Yes          No          No   \n",
       "3668-QPYBK          Yes               No          No          No   \n",
       "7795-CFOCW           No              Yes         Yes          No   \n",
       "9237-HQITU           No               No          No          No   \n",
       "\n",
       "           StreamingMovies MultipleLines  \n",
       "customerID                                \n",
       "7590-VHVEG              No            No  \n",
       "5575-GNVDE              No            No  \n",
       "3668-QPYBK              No            No  \n",
       "7795-CFOCW              No            No  \n",
       "9237-HQITU              No            No  "
      ]
     },
     "execution_count": 30,
     "metadata": {},
     "output_type": "execute_result"
    }
   ],
   "source": [
    "data.head()"
   ]
  },
  {
   "cell_type": "markdown",
   "id": "88d3af38",
   "metadata": {},
   "source": [
    "### Визуализация данных и отбор признаков"
   ]
  },
  {
   "cell_type": "markdown",
   "id": "6c1e2d4c",
   "metadata": {},
   "source": [
    "Проверим, есть ли разница в размере ежемесячных платежей у оставшихся и ушедших клиентов. "
   ]
  },
  {
   "cell_type": "code",
   "execution_count": 31,
   "id": "9a48fd8b",
   "metadata": {},
   "outputs": [
    {
     "data": {
      "image/png": "[encoded data removed]",
      "text/plain": [
       "<Figure size 432x288 with 1 Axes>"
      ]
     },
     "metadata": {
      "needs_background": "light"
     },
     "output_type": "display_data"
    }
   ],
   "source": [
    "sns.barplot(x='churn', y='MonthlyCharges', data=data).set_title('Ежемесячные платежи ушедших и оставшихся клиентов');"
   ]
  },
  {
   "cell_type": "markdown",
   "id": "a6cde567",
   "metadata": {},
   "source": [
    "Ушедшие клиенты каждый месяц платили больше, чем оставшиеся.\n",
    "\n",
    "Посмотрим, как это отразится на сумме общих платежей: "
   ]
  },
  {
   "cell_type": "code",
   "execution_count": 32,
   "id": "fca7b059",
   "metadata": {
    "scrolled": true
   },
   "outputs": [
    {
     "data": {
      "image/png": "[encoded data removed]",
      "text/plain": [
       "<Figure size 432x288 with 1 Axes>"
      ]
     },
     "metadata": {
      "needs_background": "light"
     },
     "output_type": "display_data"
    }
   ],
   "source": [
    "sns.barplot(x='churn', y='TotalCharges', data=data).set_title('Общие затраты');"
   ]
  },
  {
   "cell_type": "markdown",
   "id": "b3112bc2",
   "metadata": {},
   "source": [
    "Здесь ситуация обратная - оставшиеся клиенты суммарно заплатили больше. Скорее всего, это связано с тем, что они дольше пользуются услугами связи. Стоит учесть возможную корреляцию признаков `Total Charges` и `Tenure` при отборе признаков для обучения модели. \n",
    "\n",
    "Проверим предположение о том, что оставшиеся клиенты дольше пользуются услугами: "
   ]
  },
  {
   "cell_type": "code",
   "execution_count": 33,
   "id": "95ae39a0",
   "metadata": {},
   "outputs": [
    {
     "data": {
      "image/png": "[encoded data removed]",
      "text/plain": [
       "<Figure size 432x288 with 1 Axes>"
      ]
     },
     "metadata": {
      "needs_background": "light"
     },
     "output_type": "display_data"
    }
   ],
   "source": [
    "sns.barplot(x='churn', y='tenure', data=data).set_title('Срок использования услуг');"
   ]
  },
  {
   "cell_type": "markdown",
   "id": "be5fa36e",
   "metadata": {},
   "source": [
    "Также логично предположить, что ушедшие клиенты использовали помесячный тип оплаты. Это позволяет быстро отказаться от услуг компании, не дожидаясь окончания более длительного оплаченного периода (1 или 2 года). "
   ]
  },
  {
   "cell_type": "code",
   "execution_count": 34,
   "id": "c3a208f3",
   "metadata": {},
   "outputs": [
    {
     "data": {
      "image/png": "[encoded data removed]",
      "text/plain": [
       "<Figure size 432x288 with 1 Axes>"
      ]
     },
     "metadata": {
      "needs_background": "light"
     },
     "output_type": "display_data"
    }
   ],
   "source": [
    "sns.countplot(x='Type', hue='churn', data=data).set_title('Тип оплаты');"
   ]
  },
  {
   "cell_type": "markdown",
   "id": "ed141db8",
   "metadata": {},
   "source": [
    "Действительно, помесячный тип оплаты в целом является самым популярным. В том числе среди ушедших клиентов. "
   ]
  },
  {
   "cell_type": "code",
   "execution_count": 35,
   "id": "d22886e3",
   "metadata": {},
   "outputs": [
    {
     "data": {
      "image/png": "[encoded data removed]",
      "text/plain": [
       "<Figure size 720x288 with 1 Axes>"
      ]
     },
     "metadata": {
      "needs_background": "light"
     },
     "output_type": "display_data"
    }
   ],
   "source": [
    "plt.figure(figsize=(10,4))\n",
    "sns.countplot(x='PaymentMethod', hue='churn', data=data).set_title('Способы оплаты');"
   ]
  },
  {
   "cell_type": "markdown",
   "id": "3022e479",
   "metadata": {},
   "source": [
    "Также можно было предположить, что клиенты уходят из-за неудобного метода оплаты. Но график этого не подтверждает. Большая часть ушедших клиентов расплачивалась методом 'Electronic check'. Среди оставшихся клиентов сложно выделить какие-то предпочтения. Способы оплаты распределены примерно одинаково. "
   ]
  },
  {
   "cell_type": "markdown",
   "id": "82b6cda6",
   "metadata": {},
   "source": [
    "Отобразим коэффициенты корреляции количественных данных:"
   ]
  },
  {
   "cell_type": "code",
   "execution_count": 36,
   "id": "5062284b",
   "metadata": {},
   "outputs": [
    {
     "data": {
      "text/html": [
       "<div>\n",
       "<style scoped>\n",
       "    .dataframe tbody tr th:only-of-type {\n",
       "        vertical-align: middle;\n",
       "    }\n",
       "\n",
       "    .dataframe tbody tr th {\n",
       "        vertical-align: top;\n",
       "    }\n",
       "\n",
       "    .dataframe thead th {\n",
       "        text-align: right;\n",
       "    }\n",
       "</style>\n",
       "<table border=\"1\" class=\"dataframe\">\n",
       "  <thead>\n",
       "    <tr style=\"text-align: right;\">\n",
       "      <th></th>\n",
       "      <th>MonthlyCharges</th>\n",
       "      <th>TotalCharges</th>\n",
       "      <th>tenure</th>\n",
       "    </tr>\n",
       "  </thead>\n",
       "  <tbody>\n",
       "    <tr>\n",
       "      <th>MonthlyCharges</th>\n",
       "      <td>1.000000</td>\n",
       "      <td>0.651065</td>\n",
       "      <td>0.246715</td>\n",
       "    </tr>\n",
       "    <tr>\n",
       "      <th>TotalCharges</th>\n",
       "      <td>0.651065</td>\n",
       "      <td>1.000000</td>\n",
       "      <td>0.825811</td>\n",
       "    </tr>\n",
       "    <tr>\n",
       "      <th>tenure</th>\n",
       "      <td>0.246715</td>\n",
       "      <td>0.825811</td>\n",
       "      <td>1.000000</td>\n",
       "    </tr>\n",
       "  </tbody>\n",
       "</table>\n",
       "</div>"
      ],
      "text/plain": [
       "                MonthlyCharges  TotalCharges    tenure\n",
       "MonthlyCharges        1.000000      0.651065  0.246715\n",
       "TotalCharges          0.651065      1.000000  0.825811\n",
       "tenure                0.246715      0.825811  1.000000"
      ]
     },
     "metadata": {},
     "output_type": "display_data"
    }
   ],
   "source": [
    "cor_columns = ['MonthlyCharges', 'TotalCharges', 'tenure']\n",
    "display(data[cor_columns].corr())"
   ]
  },
  {
   "cell_type": "markdown",
   "id": "a6820aa4",
   "metadata": {},
   "source": [
    "Корреляция между `TotalCharges` и `tenure` 0.82. Это уже было описано выше - чем дольше клиент пользуется услугами, тем больше сумма платежей за весь период времени. Столбец `TotalCharges` нужно будет удалить, чтобы модель не обучалась на этих данных."
   ]
  },
  {
   "cell_type": "markdown",
   "id": "40492679",
   "metadata": {},
   "source": [
    "Посмотрим на корреляцию между уходом клиента, использованием дополнительных услуг и персональными данными:"
   ]
  },
  {
   "cell_type": "code",
   "execution_count": 37,
   "id": "14dd8e3d",
   "metadata": {},
   "outputs": [],
   "source": [
    "cols_to_keep = ['Type', 'PaymentMethod', 'InternetService', 'OnlineSecurity', 'OnlineBackup', 'DeviceProtection', \n",
    "                'TechSupport', 'StreamingTV', 'StreamingMovies', 'churn', 'gender', 'SeniorCitizen', 'Partner', 'Dependents']\n",
    "                \n",
    "df = data[cols_to_keep]"
   ]
  },
  {
   "cell_type": "code",
   "execution_count": 38,
   "id": "8c2c7f51",
   "metadata": {},
   "outputs": [],
   "source": [
    "interval_cols = ['MonthlyCharges', 'TotalCharges', 'tenure']"
   ]
  },
  {
   "cell_type": "code",
   "execution_count": 39,
   "id": "5c4e5a24",
   "metadata": {},
   "outputs": [
    {
     "data": {
      "text/html": [
       "<div>\n",
       "<style scoped>\n",
       "    .dataframe tbody tr th:only-of-type {\n",
       "        vertical-align: middle;\n",
       "    }\n",
       "\n",
       "    .dataframe tbody tr th {\n",
       "        vertical-align: top;\n",
       "    }\n",
       "\n",
       "    .dataframe thead th {\n",
       "        text-align: right;\n",
       "    }\n",
       "</style>\n",
       "<table border=\"1\" class=\"dataframe\">\n",
       "  <thead>\n",
       "    <tr style=\"text-align: right;\">\n",
       "      <th></th>\n",
       "      <th>Type</th>\n",
       "      <th>PaymentMethod</th>\n",
       "      <th>InternetService</th>\n",
       "      <th>OnlineSecurity</th>\n",
       "      <th>OnlineBackup</th>\n",
       "      <th>DeviceProtection</th>\n",
       "      <th>TechSupport</th>\n",
       "      <th>StreamingTV</th>\n",
       "      <th>StreamingMovies</th>\n",
       "      <th>churn</th>\n",
       "      <th>gender</th>\n",
       "      <th>SeniorCitizen</th>\n",
       "      <th>Partner</th>\n",
       "      <th>Dependents</th>\n",
       "    </tr>\n",
       "  </thead>\n",
       "  <tbody>\n",
       "    <tr>\n",
       "      <th>Type</th>\n",
       "      <td>1.00</td>\n",
       "      <td>0.28</td>\n",
       "      <td>0.50</td>\n",
       "      <td>0.15</td>\n",
       "      <td>0.10</td>\n",
       "      <td>0.14</td>\n",
       "      <td>0.18</td>\n",
       "      <td>0.07</td>\n",
       "      <td>0.07</td>\n",
       "      <td>0.25</td>\n",
       "      <td>0.00</td>\n",
       "      <td>0.09</td>\n",
       "      <td>0.18</td>\n",
       "      <td>0.15</td>\n",
       "    </tr>\n",
       "    <tr>\n",
       "      <th>PaymentMethod</th>\n",
       "      <td>0.28</td>\n",
       "      <td>1.00</td>\n",
       "      <td>0.32</td>\n",
       "      <td>0.26</td>\n",
       "      <td>0.28</td>\n",
       "      <td>0.31</td>\n",
       "      <td>0.27</td>\n",
       "      <td>0.38</td>\n",
       "      <td>0.38</td>\n",
       "      <td>0.45</td>\n",
       "      <td>0.00</td>\n",
       "      <td>0.29</td>\n",
       "      <td>0.24</td>\n",
       "      <td>0.22</td>\n",
       "    </tr>\n",
       "    <tr>\n",
       "      <th>InternetService</th>\n",
       "      <td>0.50</td>\n",
       "      <td>0.32</td>\n",
       "      <td>1.00</td>\n",
       "      <td>0.24</td>\n",
       "      <td>0.23</td>\n",
       "      <td>0.23</td>\n",
       "      <td>0.24</td>\n",
       "      <td>0.27</td>\n",
       "      <td>0.27</td>\n",
       "      <td>0.20</td>\n",
       "      <td>0.00</td>\n",
       "      <td>0.16</td>\n",
       "      <td>0.00</td>\n",
       "      <td>0.11</td>\n",
       "    </tr>\n",
       "    <tr>\n",
       "      <th>OnlineSecurity</th>\n",
       "      <td>0.15</td>\n",
       "      <td>0.26</td>\n",
       "      <td>0.24</td>\n",
       "      <td>1.00</td>\n",
       "      <td>0.43</td>\n",
       "      <td>0.42</td>\n",
       "      <td>0.53</td>\n",
       "      <td>0.27</td>\n",
       "      <td>0.29</td>\n",
       "      <td>0.26</td>\n",
       "      <td>0.02</td>\n",
       "      <td>0.06</td>\n",
       "      <td>0.22</td>\n",
       "      <td>0.12</td>\n",
       "    </tr>\n",
       "    <tr>\n",
       "      <th>OnlineBackup</th>\n",
       "      <td>0.10</td>\n",
       "      <td>0.28</td>\n",
       "      <td>0.23</td>\n",
       "      <td>0.43</td>\n",
       "      <td>1.00</td>\n",
       "      <td>0.46</td>\n",
       "      <td>0.44</td>\n",
       "      <td>0.43</td>\n",
       "      <td>0.42</td>\n",
       "      <td>0.13</td>\n",
       "      <td>0.01</td>\n",
       "      <td>0.10</td>\n",
       "      <td>0.22</td>\n",
       "      <td>0.03</td>\n",
       "    </tr>\n",
       "    <tr>\n",
       "      <th>DeviceProtection</th>\n",
       "      <td>0.14</td>\n",
       "      <td>0.31</td>\n",
       "      <td>0.23</td>\n",
       "      <td>0.42</td>\n",
       "      <td>0.46</td>\n",
       "      <td>1.00</td>\n",
       "      <td>0.50</td>\n",
       "      <td>0.57</td>\n",
       "      <td>0.59</td>\n",
       "      <td>0.10</td>\n",
       "      <td>0.00</td>\n",
       "      <td>0.09</td>\n",
       "      <td>0.24</td>\n",
       "      <td>0.01</td>\n",
       "    </tr>\n",
       "    <tr>\n",
       "      <th>TechSupport</th>\n",
       "      <td>0.18</td>\n",
       "      <td>0.27</td>\n",
       "      <td>0.24</td>\n",
       "      <td>0.53</td>\n",
       "      <td>0.44</td>\n",
       "      <td>0.50</td>\n",
       "      <td>1.00</td>\n",
       "      <td>0.42</td>\n",
       "      <td>0.43</td>\n",
       "      <td>0.25</td>\n",
       "      <td>0.00</td>\n",
       "      <td>0.09</td>\n",
       "      <td>0.19</td>\n",
       "      <td>0.10</td>\n",
       "    </tr>\n",
       "    <tr>\n",
       "      <th>StreamingTV</th>\n",
       "      <td>0.07</td>\n",
       "      <td>0.38</td>\n",
       "      <td>0.27</td>\n",
       "      <td>0.27</td>\n",
       "      <td>0.43</td>\n",
       "      <td>0.57</td>\n",
       "      <td>0.42</td>\n",
       "      <td>1.00</td>\n",
       "      <td>0.74</td>\n",
       "      <td>0.10</td>\n",
       "      <td>0.00</td>\n",
       "      <td>0.16</td>\n",
       "      <td>0.19</td>\n",
       "      <td>0.02</td>\n",
       "    </tr>\n",
       "    <tr>\n",
       "      <th>StreamingMovies</th>\n",
       "      <td>0.07</td>\n",
       "      <td>0.38</td>\n",
       "      <td>0.27</td>\n",
       "      <td>0.29</td>\n",
       "      <td>0.42</td>\n",
       "      <td>0.59</td>\n",
       "      <td>0.43</td>\n",
       "      <td>0.74</td>\n",
       "      <td>1.00</td>\n",
       "      <td>0.09</td>\n",
       "      <td>0.00</td>\n",
       "      <td>0.19</td>\n",
       "      <td>0.18</td>\n",
       "      <td>0.06</td>\n",
       "    </tr>\n",
       "    <tr>\n",
       "      <th>churn</th>\n",
       "      <td>0.25</td>\n",
       "      <td>0.45</td>\n",
       "      <td>0.20</td>\n",
       "      <td>0.26</td>\n",
       "      <td>0.13</td>\n",
       "      <td>0.10</td>\n",
       "      <td>0.25</td>\n",
       "      <td>0.10</td>\n",
       "      <td>0.09</td>\n",
       "      <td>1.00</td>\n",
       "      <td>0.00</td>\n",
       "      <td>0.23</td>\n",
       "      <td>0.23</td>\n",
       "      <td>0.25</td>\n",
       "    </tr>\n",
       "    <tr>\n",
       "      <th>gender</th>\n",
       "      <td>0.00</td>\n",
       "      <td>0.00</td>\n",
       "      <td>0.00</td>\n",
       "      <td>0.02</td>\n",
       "      <td>0.01</td>\n",
       "      <td>0.00</td>\n",
       "      <td>0.00</td>\n",
       "      <td>0.00</td>\n",
       "      <td>0.00</td>\n",
       "      <td>0.00</td>\n",
       "      <td>1.00</td>\n",
       "      <td>0.00</td>\n",
       "      <td>0.00</td>\n",
       "      <td>0.00</td>\n",
       "    </tr>\n",
       "    <tr>\n",
       "      <th>SeniorCitizen</th>\n",
       "      <td>0.09</td>\n",
       "      <td>0.29</td>\n",
       "      <td>0.16</td>\n",
       "      <td>0.06</td>\n",
       "      <td>0.10</td>\n",
       "      <td>0.09</td>\n",
       "      <td>0.09</td>\n",
       "      <td>0.16</td>\n",
       "      <td>0.19</td>\n",
       "      <td>0.23</td>\n",
       "      <td>0.00</td>\n",
       "      <td>1.00</td>\n",
       "      <td>0.02</td>\n",
       "      <td>0.32</td>\n",
       "    </tr>\n",
       "    <tr>\n",
       "      <th>Partner</th>\n",
       "      <td>0.18</td>\n",
       "      <td>0.24</td>\n",
       "      <td>0.00</td>\n",
       "      <td>0.22</td>\n",
       "      <td>0.22</td>\n",
       "      <td>0.24</td>\n",
       "      <td>0.19</td>\n",
       "      <td>0.19</td>\n",
       "      <td>0.18</td>\n",
       "      <td>0.23</td>\n",
       "      <td>0.00</td>\n",
       "      <td>0.02</td>\n",
       "      <td>1.00</td>\n",
       "      <td>0.65</td>\n",
       "    </tr>\n",
       "    <tr>\n",
       "      <th>Dependents</th>\n",
       "      <td>0.15</td>\n",
       "      <td>0.22</td>\n",
       "      <td>0.11</td>\n",
       "      <td>0.12</td>\n",
       "      <td>0.03</td>\n",
       "      <td>0.01</td>\n",
       "      <td>0.10</td>\n",
       "      <td>0.02</td>\n",
       "      <td>0.06</td>\n",
       "      <td>0.25</td>\n",
       "      <td>0.00</td>\n",
       "      <td>0.32</td>\n",
       "      <td>0.65</td>\n",
       "      <td>1.00</td>\n",
       "    </tr>\n",
       "  </tbody>\n",
       "</table>\n",
       "</div>"
      ],
      "text/plain": [
       "                  Type  PaymentMethod  InternetService  OnlineSecurity  \\\n",
       "Type              1.00           0.28             0.50            0.15   \n",
       "PaymentMethod     0.28           1.00             0.32            0.26   \n",
       "InternetService   0.50           0.32             1.00            0.24   \n",
       "OnlineSecurity    0.15           0.26             0.24            1.00   \n",
       "OnlineBackup      0.10           0.28             0.23            0.43   \n",
       "DeviceProtection  0.14           0.31             0.23            0.42   \n",
       "TechSupport       0.18           0.27             0.24            0.53   \n",
       "StreamingTV       0.07           0.38             0.27            0.27   \n",
       "StreamingMovies   0.07           0.38             0.27            0.29   \n",
       "churn             0.25           0.45             0.20            0.26   \n",
       "gender            0.00           0.00             0.00            0.02   \n",
       "SeniorCitizen     0.09           0.29             0.16            0.06   \n",
       "Partner           0.18           0.24             0.00            0.22   \n",
       "Dependents        0.15           0.22             0.11            0.12   \n",
       "\n",
       "                  OnlineBackup  DeviceProtection  TechSupport  StreamingTV  \\\n",
       "Type                      0.10              0.14         0.18         0.07   \n",
       "PaymentMethod             0.28              0.31         0.27         0.38   \n",
       "InternetService           0.23              0.23         0.24         0.27   \n",
       "OnlineSecurity            0.43              0.42         0.53         0.27   \n",
       "OnlineBackup              1.00              0.46         0.44         0.43   \n",
       "DeviceProtection          0.46              1.00         0.50         0.57   \n",
       "TechSupport               0.44              0.50         1.00         0.42   \n",
       "StreamingTV               0.43              0.57         0.42         1.00   \n",
       "StreamingMovies           0.42              0.59         0.43         0.74   \n",
       "churn                     0.13              0.10         0.25         0.10   \n",
       "gender                    0.01              0.00         0.00         0.00   \n",
       "SeniorCitizen             0.10              0.09         0.09         0.16   \n",
       "Partner                   0.22              0.24         0.19         0.19   \n",
       "Dependents                0.03              0.01         0.10         0.02   \n",
       "\n",
       "                  StreamingMovies  churn  gender  SeniorCitizen  Partner  \\\n",
       "Type                         0.07   0.25    0.00           0.09     0.18   \n",
       "PaymentMethod                0.38   0.45    0.00           0.29     0.24   \n",
       "InternetService              0.27   0.20    0.00           0.16     0.00   \n",
       "OnlineSecurity               0.29   0.26    0.02           0.06     0.22   \n",
       "OnlineBackup                 0.42   0.13    0.01           0.10     0.22   \n",
       "DeviceProtection             0.59   0.10    0.00           0.09     0.24   \n",
       "TechSupport                  0.43   0.25    0.00           0.09     0.19   \n",
       "StreamingTV                  0.74   0.10    0.00           0.16     0.19   \n",
       "StreamingMovies              1.00   0.09    0.00           0.19     0.18   \n",
       "churn                        0.09   1.00    0.00           0.23     0.23   \n",
       "gender                       0.00   0.00    1.00           0.00     0.00   \n",
       "SeniorCitizen                0.19   0.23    0.00           1.00     0.02   \n",
       "Partner                      0.18   0.23    0.00           0.02     1.00   \n",
       "Dependents                   0.06   0.25    0.00           0.32     0.65   \n",
       "\n",
       "                  Dependents  \n",
       "Type                    0.15  \n",
       "PaymentMethod           0.22  \n",
       "InternetService         0.11  \n",
       "OnlineSecurity          0.12  \n",
       "OnlineBackup            0.03  \n",
       "DeviceProtection        0.01  \n",
       "TechSupport             0.10  \n",
       "StreamingTV             0.02  \n",
       "StreamingMovies         0.06  \n",
       "churn                   0.25  \n",
       "gender                  0.00  \n",
       "SeniorCitizen           0.32  \n",
       "Partner                 0.65  \n",
       "Dependents              1.00  "
      ]
     },
     "execution_count": 39,
     "metadata": {},
     "output_type": "execute_result"
    }
   ],
   "source": [
    "phik_overview = df.phik_matrix(interval_cols=interval_cols)\n",
    "phik_overview.round(2)"
   ]
  },
  {
   "cell_type": "code",
   "execution_count": 40,
   "id": "b6fa9643",
   "metadata": {},
   "outputs": [
    {
     "data": {
      "image/png": "[encoded data removed]",
      "text/plain": [
       "<Figure size 864x864 with 2 Axes>"
      ]
     },
     "metadata": {
      "needs_background": "light"
     },
     "output_type": "display_data"
    }
   ],
   "source": [
    "plot_correlation_matrix(phik_overview.values, \n",
    "                        x_labels=phik_overview.columns, \n",
    "                        y_labels=phik_overview.index, \n",
    "                        vmin=0, vmax=1, color_map=\"Greens\", \n",
    "                        title=r\"correlation $\\phi_K$\", \n",
    "                        fontsize_factor=1.5, \n",
    "                        figsize=(12, 12))\n",
    "plt.tight_layout()"
   ]
  },
  {
   "cell_type": "markdown",
   "id": "893e755e",
   "metadata": {},
   "source": [
    "С точки зрения ухода клиента самый значительный коэффициент можно увидеть между уходом и использованием интернета. Использование остальных услуг не оказывает значительного влияния на уход пользователя. Возможно, соотношение цены и качества интернета не устроило ушедших клиентов. "
   ]
  },
  {
   "cell_type": "markdown",
   "id": "79851d0a",
   "metadata": {},
   "source": [
    "Пол, пенсионный статус, наличие партнера и иждивенцев не оказывают влияния на уход клиента. Столбец `gender` можно удалить, т.к. корреляция между уходом и полом клиента равна нулю. "
   ]
  },
  {
   "cell_type": "markdown",
   "id": "ea7a31aa",
   "metadata": {},
   "source": [
    "## Обучение моделей"
   ]
  },
  {
   "cell_type": "markdown",
   "id": "b5d09d79",
   "metadata": {},
   "source": [
    "### Подготовка данных для обучения"
   ]
  },
  {
   "cell_type": "markdown",
   "id": "ba10811b",
   "metadata": {},
   "source": [
    "Удалим ненужные столбцы: "
   ]
  },
  {
   "cell_type": "code",
   "execution_count": 41,
   "id": "af2dea8d",
   "metadata": {},
   "outputs": [],
   "source": [
    "data_final = data.drop(['TotalCharges', 'gender'], axis=1)"
   ]
  },
  {
   "cell_type": "markdown",
   "id": "4f22fab7",
   "metadata": {},
   "source": [
    "При знакомстве с данными можно было заметить дисбаланс классов. Оставшихся клиентов в три раза больше, чем ушедших. Тем не менее, методы борьбы с дисбалансом нецелесообразны с точки зрения оптимизации целевой метрики ROC AUC. "
   ]
  },
  {
   "cell_type": "code",
   "execution_count": 42,
   "id": "bac47b46",
   "metadata": {},
   "outputs": [
    {
     "name": "stdout",
     "output_type": "stream",
     "text": [
      "<class 'pandas.core.frame.DataFrame'>\n",
      "Index: 7032 entries, 7590-VHVEG to 3186-AJIEK\n",
      "Data columns (total 17 columns):\n",
      " #   Column            Non-Null Count  Dtype  \n",
      "---  ------            --------------  -----  \n",
      " 0   Type              7032 non-null   object \n",
      " 1   PaperlessBilling  7032 non-null   object \n",
      " 2   PaymentMethod     7032 non-null   object \n",
      " 3   MonthlyCharges    7032 non-null   float64\n",
      " 4   churn             7032 non-null   int32  \n",
      " 5   tenure            7032 non-null   int64  \n",
      " 6   SeniorCitizen     7032 non-null   int64  \n",
      " 7   Partner           7032 non-null   object \n",
      " 8   Dependents        7032 non-null   object \n",
      " 9   InternetService   7032 non-null   object \n",
      " 10  OnlineSecurity    7032 non-null   object \n",
      " 11  OnlineBackup      7032 non-null   object \n",
      " 12  DeviceProtection  7032 non-null   object \n",
      " 13  TechSupport       7032 non-null   object \n",
      " 14  StreamingTV       7032 non-null   object \n",
      " 15  StreamingMovies   7032 non-null   object \n",
      " 16  MultipleLines     7032 non-null   object \n",
      "dtypes: float64(1), int32(1), int64(2), object(13)\n",
      "memory usage: 1.2+ MB\n"
     ]
    }
   ],
   "source": [
    "data_final.info()"
   ]
  },
  {
   "cell_type": "code",
   "execution_count": 43,
   "id": "011b8642",
   "metadata": {},
   "outputs": [],
   "source": [
    "data_final_ohe = pd.get_dummies(data_final, drop_first=True)"
   ]
  },
  {
   "cell_type": "code",
   "execution_count": 44,
   "id": "82e97a64",
   "metadata": {},
   "outputs": [
    {
     "data": {
      "text/html": [
       "<div>\n",
       "<style scoped>\n",
       "    .dataframe tbody tr th:only-of-type {\n",
       "        vertical-align: middle;\n",
       "    }\n",
       "\n",
       "    .dataframe tbody tr th {\n",
       "        vertical-align: top;\n",
       "    }\n",
       "\n",
       "    .dataframe thead th {\n",
       "        text-align: right;\n",
       "    }\n",
       "</style>\n",
       "<table border=\"1\" class=\"dataframe\">\n",
       "  <thead>\n",
       "    <tr style=\"text-align: right;\">\n",
       "      <th></th>\n",
       "      <th>MonthlyCharges</th>\n",
       "      <th>churn</th>\n",
       "      <th>tenure</th>\n",
       "      <th>SeniorCitizen</th>\n",
       "      <th>Type_One year</th>\n",
       "      <th>Type_Two year</th>\n",
       "      <th>PaperlessBilling_Yes</th>\n",
       "      <th>PaymentMethod_Credit card (automatic)</th>\n",
       "      <th>PaymentMethod_Electronic check</th>\n",
       "      <th>PaymentMethod_Mailed check</th>\n",
       "      <th>...</th>\n",
       "      <th>Dependents_Yes</th>\n",
       "      <th>InternetService_Fiber optic</th>\n",
       "      <th>InternetService_No</th>\n",
       "      <th>OnlineSecurity_Yes</th>\n",
       "      <th>OnlineBackup_Yes</th>\n",
       "      <th>DeviceProtection_Yes</th>\n",
       "      <th>TechSupport_Yes</th>\n",
       "      <th>StreamingTV_Yes</th>\n",
       "      <th>StreamingMovies_Yes</th>\n",
       "      <th>MultipleLines_Yes</th>\n",
       "    </tr>\n",
       "    <tr>\n",
       "      <th>customerID</th>\n",
       "      <th></th>\n",
       "      <th></th>\n",
       "      <th></th>\n",
       "      <th></th>\n",
       "      <th></th>\n",
       "      <th></th>\n",
       "      <th></th>\n",
       "      <th></th>\n",
       "      <th></th>\n",
       "      <th></th>\n",
       "      <th></th>\n",
       "      <th></th>\n",
       "      <th></th>\n",
       "      <th></th>\n",
       "      <th></th>\n",
       "      <th></th>\n",
       "      <th></th>\n",
       "      <th></th>\n",
       "      <th></th>\n",
       "      <th></th>\n",
       "      <th></th>\n",
       "    </tr>\n",
       "  </thead>\n",
       "  <tbody>\n",
       "    <tr>\n",
       "      <th>7590-VHVEG</th>\n",
       "      <td>29.85</td>\n",
       "      <td>0</td>\n",
       "      <td>31</td>\n",
       "      <td>0</td>\n",
       "      <td>0</td>\n",
       "      <td>0</td>\n",
       "      <td>1</td>\n",
       "      <td>0</td>\n",
       "      <td>1</td>\n",
       "      <td>0</td>\n",
       "      <td>...</td>\n",
       "      <td>0</td>\n",
       "      <td>0</td>\n",
       "      <td>0</td>\n",
       "      <td>0</td>\n",
       "      <td>1</td>\n",
       "      <td>0</td>\n",
       "      <td>0</td>\n",
       "      <td>0</td>\n",
       "      <td>0</td>\n",
       "      <td>0</td>\n",
       "    </tr>\n",
       "    <tr>\n",
       "      <th>5575-GNVDE</th>\n",
       "      <td>56.95</td>\n",
       "      <td>0</td>\n",
       "      <td>1036</td>\n",
       "      <td>0</td>\n",
       "      <td>1</td>\n",
       "      <td>0</td>\n",
       "      <td>0</td>\n",
       "      <td>0</td>\n",
       "      <td>0</td>\n",
       "      <td>1</td>\n",
       "      <td>...</td>\n",
       "      <td>0</td>\n",
       "      <td>0</td>\n",
       "      <td>0</td>\n",
       "      <td>1</td>\n",
       "      <td>0</td>\n",
       "      <td>1</td>\n",
       "      <td>0</td>\n",
       "      <td>0</td>\n",
       "      <td>0</td>\n",
       "      <td>0</td>\n",
       "    </tr>\n",
       "    <tr>\n",
       "      <th>3668-QPYBK</th>\n",
       "      <td>53.85</td>\n",
       "      <td>1</td>\n",
       "      <td>61</td>\n",
       "      <td>0</td>\n",
       "      <td>0</td>\n",
       "      <td>0</td>\n",
       "      <td>1</td>\n",
       "      <td>0</td>\n",
       "      <td>0</td>\n",
       "      <td>1</td>\n",
       "      <td>...</td>\n",
       "      <td>0</td>\n",
       "      <td>0</td>\n",
       "      <td>0</td>\n",
       "      <td>1</td>\n",
       "      <td>1</td>\n",
       "      <td>0</td>\n",
       "      <td>0</td>\n",
       "      <td>0</td>\n",
       "      <td>0</td>\n",
       "      <td>0</td>\n",
       "    </tr>\n",
       "    <tr>\n",
       "      <th>7795-CFOCW</th>\n",
       "      <td>42.30</td>\n",
       "      <td>0</td>\n",
       "      <td>1371</td>\n",
       "      <td>0</td>\n",
       "      <td>1</td>\n",
       "      <td>0</td>\n",
       "      <td>0</td>\n",
       "      <td>0</td>\n",
       "      <td>0</td>\n",
       "      <td>0</td>\n",
       "      <td>...</td>\n",
       "      <td>0</td>\n",
       "      <td>0</td>\n",
       "      <td>0</td>\n",
       "      <td>1</td>\n",
       "      <td>0</td>\n",
       "      <td>1</td>\n",
       "      <td>1</td>\n",
       "      <td>0</td>\n",
       "      <td>0</td>\n",
       "      <td>0</td>\n",
       "    </tr>\n",
       "    <tr>\n",
       "      <th>9237-HQITU</th>\n",
       "      <td>70.70</td>\n",
       "      <td>1</td>\n",
       "      <td>61</td>\n",
       "      <td>0</td>\n",
       "      <td>0</td>\n",
       "      <td>0</td>\n",
       "      <td>1</td>\n",
       "      <td>0</td>\n",
       "      <td>1</td>\n",
       "      <td>0</td>\n",
       "      <td>...</td>\n",
       "      <td>0</td>\n",
       "      <td>1</td>\n",
       "      <td>0</td>\n",
       "      <td>0</td>\n",
       "      <td>0</td>\n",
       "      <td>0</td>\n",
       "      <td>0</td>\n",
       "      <td>0</td>\n",
       "      <td>0</td>\n",
       "      <td>0</td>\n",
       "    </tr>\n",
       "    <tr>\n",
       "      <th>...</th>\n",
       "      <td>...</td>\n",
       "      <td>...</td>\n",
       "      <td>...</td>\n",
       "      <td>...</td>\n",
       "      <td>...</td>\n",
       "      <td>...</td>\n",
       "      <td>...</td>\n",
       "      <td>...</td>\n",
       "      <td>...</td>\n",
       "      <td>...</td>\n",
       "      <td>...</td>\n",
       "      <td>...</td>\n",
       "      <td>...</td>\n",
       "      <td>...</td>\n",
       "      <td>...</td>\n",
       "      <td>...</td>\n",
       "      <td>...</td>\n",
       "      <td>...</td>\n",
       "      <td>...</td>\n",
       "      <td>...</td>\n",
       "      <td>...</td>\n",
       "    </tr>\n",
       "    <tr>\n",
       "      <th>6840-RESVB</th>\n",
       "      <td>84.80</td>\n",
       "      <td>0</td>\n",
       "      <td>730</td>\n",
       "      <td>0</td>\n",
       "      <td>1</td>\n",
       "      <td>0</td>\n",
       "      <td>1</td>\n",
       "      <td>0</td>\n",
       "      <td>0</td>\n",
       "      <td>1</td>\n",
       "      <td>...</td>\n",
       "      <td>1</td>\n",
       "      <td>0</td>\n",
       "      <td>0</td>\n",
       "      <td>1</td>\n",
       "      <td>0</td>\n",
       "      <td>1</td>\n",
       "      <td>1</td>\n",
       "      <td>1</td>\n",
       "      <td>1</td>\n",
       "      <td>1</td>\n",
       "    </tr>\n",
       "    <tr>\n",
       "      <th>2234-XADUH</th>\n",
       "      <td>103.20</td>\n",
       "      <td>0</td>\n",
       "      <td>2191</td>\n",
       "      <td>0</td>\n",
       "      <td>1</td>\n",
       "      <td>0</td>\n",
       "      <td>1</td>\n",
       "      <td>1</td>\n",
       "      <td>0</td>\n",
       "      <td>0</td>\n",
       "      <td>...</td>\n",
       "      <td>1</td>\n",
       "      <td>1</td>\n",
       "      <td>0</td>\n",
       "      <td>0</td>\n",
       "      <td>1</td>\n",
       "      <td>1</td>\n",
       "      <td>0</td>\n",
       "      <td>1</td>\n",
       "      <td>1</td>\n",
       "      <td>1</td>\n",
       "    </tr>\n",
       "    <tr>\n",
       "      <th>4801-JZAZL</th>\n",
       "      <td>29.60</td>\n",
       "      <td>0</td>\n",
       "      <td>337</td>\n",
       "      <td>0</td>\n",
       "      <td>0</td>\n",
       "      <td>0</td>\n",
       "      <td>1</td>\n",
       "      <td>0</td>\n",
       "      <td>1</td>\n",
       "      <td>0</td>\n",
       "      <td>...</td>\n",
       "      <td>1</td>\n",
       "      <td>0</td>\n",
       "      <td>0</td>\n",
       "      <td>1</td>\n",
       "      <td>0</td>\n",
       "      <td>0</td>\n",
       "      <td>0</td>\n",
       "      <td>0</td>\n",
       "      <td>0</td>\n",
       "      <td>0</td>\n",
       "    </tr>\n",
       "    <tr>\n",
       "      <th>8361-LTMKD</th>\n",
       "      <td>74.40</td>\n",
       "      <td>1</td>\n",
       "      <td>123</td>\n",
       "      <td>1</td>\n",
       "      <td>0</td>\n",
       "      <td>0</td>\n",
       "      <td>1</td>\n",
       "      <td>0</td>\n",
       "      <td>0</td>\n",
       "      <td>1</td>\n",
       "      <td>...</td>\n",
       "      <td>0</td>\n",
       "      <td>1</td>\n",
       "      <td>0</td>\n",
       "      <td>0</td>\n",
       "      <td>0</td>\n",
       "      <td>0</td>\n",
       "      <td>0</td>\n",
       "      <td>0</td>\n",
       "      <td>0</td>\n",
       "      <td>1</td>\n",
       "    </tr>\n",
       "    <tr>\n",
       "      <th>3186-AJIEK</th>\n",
       "      <td>105.65</td>\n",
       "      <td>0</td>\n",
       "      <td>2010</td>\n",
       "      <td>0</td>\n",
       "      <td>0</td>\n",
       "      <td>1</td>\n",
       "      <td>1</td>\n",
       "      <td>0</td>\n",
       "      <td>0</td>\n",
       "      <td>0</td>\n",
       "      <td>...</td>\n",
       "      <td>0</td>\n",
       "      <td>1</td>\n",
       "      <td>0</td>\n",
       "      <td>1</td>\n",
       "      <td>0</td>\n",
       "      <td>1</td>\n",
       "      <td>1</td>\n",
       "      <td>1</td>\n",
       "      <td>1</td>\n",
       "      <td>0</td>\n",
       "    </tr>\n",
       "  </tbody>\n",
       "</table>\n",
       "<p>7032 rows × 21 columns</p>\n",
       "</div>"
      ],
      "text/plain": [
       "            MonthlyCharges  churn  tenure  SeniorCitizen  Type_One year  \\\n",
       "customerID                                                                \n",
       "7590-VHVEG           29.85      0      31              0              0   \n",
       "5575-GNVDE           56.95      0    1036              0              1   \n",
       "3668-QPYBK           53.85      1      61              0              0   \n",
       "7795-CFOCW           42.30      0    1371              0              1   \n",
       "9237-HQITU           70.70      1      61              0              0   \n",
       "...                    ...    ...     ...            ...            ...   \n",
       "6840-RESVB           84.80      0     730              0              1   \n",
       "2234-XADUH          103.20      0    2191              0              1   \n",
       "4801-JZAZL           29.60      0     337              0              0   \n",
       "8361-LTMKD           74.40      1     123              1              0   \n",
       "3186-AJIEK          105.65      0    2010              0              0   \n",
       "\n",
       "            Type_Two year  PaperlessBilling_Yes  \\\n",
       "customerID                                        \n",
       "7590-VHVEG              0                     1   \n",
       "5575-GNVDE              0                     0   \n",
       "3668-QPYBK              0                     1   \n",
       "7795-CFOCW              0                     0   \n",
       "9237-HQITU              0                     1   \n",
       "...                   ...                   ...   \n",
       "6840-RESVB              0                     1   \n",
       "2234-XADUH              0                     1   \n",
       "4801-JZAZL              0                     1   \n",
       "8361-LTMKD              0                     1   \n",
       "3186-AJIEK              1                     1   \n",
       "\n",
       "            PaymentMethod_Credit card (automatic)  \\\n",
       "customerID                                          \n",
       "7590-VHVEG                                      0   \n",
       "5575-GNVDE                                      0   \n",
       "3668-QPYBK                                      0   \n",
       "7795-CFOCW                                      0   \n",
       "9237-HQITU                                      0   \n",
       "...                                           ...   \n",
       "6840-RESVB                                      0   \n",
       "2234-XADUH                                      1   \n",
       "4801-JZAZL                                      0   \n",
       "8361-LTMKD                                      0   \n",
       "3186-AJIEK                                      0   \n",
       "\n",
       "            PaymentMethod_Electronic check  PaymentMethod_Mailed check  ...  \\\n",
       "customerID                                                              ...   \n",
       "7590-VHVEG                               1                           0  ...   \n",
       "5575-GNVDE                               0                           1  ...   \n",
       "3668-QPYBK                               0                           1  ...   \n",
       "7795-CFOCW                               0                           0  ...   \n",
       "9237-HQITU                               1                           0  ...   \n",
       "...                                    ...                         ...  ...   \n",
       "6840-RESVB                               0                           1  ...   \n",
       "2234-XADUH                               0                           0  ...   \n",
       "4801-JZAZL                               1                           0  ...   \n",
       "8361-LTMKD                               0                           1  ...   \n",
       "3186-AJIEK                               0                           0  ...   \n",
       "\n",
       "            Dependents_Yes  InternetService_Fiber optic  InternetService_No  \\\n",
       "customerID                                                                    \n",
       "7590-VHVEG               0                            0                   0   \n",
       "5575-GNVDE               0                            0                   0   \n",
       "3668-QPYBK               0                            0                   0   \n",
       "7795-CFOCW               0                            0                   0   \n",
       "9237-HQITU               0                            1                   0   \n",
       "...                    ...                          ...                 ...   \n",
       "6840-RESVB               1                            0                   0   \n",
       "2234-XADUH               1                            1                   0   \n",
       "4801-JZAZL               1                            0                   0   \n",
       "8361-LTMKD               0                            1                   0   \n",
       "3186-AJIEK               0                            1                   0   \n",
       "\n",
       "            OnlineSecurity_Yes  OnlineBackup_Yes  DeviceProtection_Yes  \\\n",
       "customerID                                                               \n",
       "7590-VHVEG                   0                 1                     0   \n",
       "5575-GNVDE                   1                 0                     1   \n",
       "3668-QPYBK                   1                 1                     0   \n",
       "7795-CFOCW                   1                 0                     1   \n",
       "9237-HQITU                   0                 0                     0   \n",
       "...                        ...               ...                   ...   \n",
       "6840-RESVB                   1                 0                     1   \n",
       "2234-XADUH                   0                 1                     1   \n",
       "4801-JZAZL                   1                 0                     0   \n",
       "8361-LTMKD                   0                 0                     0   \n",
       "3186-AJIEK                   1                 0                     1   \n",
       "\n",
       "            TechSupport_Yes  StreamingTV_Yes  StreamingMovies_Yes  \\\n",
       "customerID                                                          \n",
       "7590-VHVEG                0                0                    0   \n",
       "5575-GNVDE                0                0                    0   \n",
       "3668-QPYBK                0                0                    0   \n",
       "7795-CFOCW                1                0                    0   \n",
       "9237-HQITU                0                0                    0   \n",
       "...                     ...              ...                  ...   \n",
       "6840-RESVB                1                1                    1   \n",
       "2234-XADUH                0                1                    1   \n",
       "4801-JZAZL                0                0                    0   \n",
       "8361-LTMKD                0                0                    0   \n",
       "3186-AJIEK                1                1                    1   \n",
       "\n",
       "            MultipleLines_Yes  \n",
       "customerID                     \n",
       "7590-VHVEG                  0  \n",
       "5575-GNVDE                  0  \n",
       "3668-QPYBK                  0  \n",
       "7795-CFOCW                  0  \n",
       "9237-HQITU                  0  \n",
       "...                       ...  \n",
       "6840-RESVB                  1  \n",
       "2234-XADUH                  1  \n",
       "4801-JZAZL                  0  \n",
       "8361-LTMKD                  1  \n",
       "3186-AJIEK                  0  \n",
       "\n",
       "[7032 rows x 21 columns]"
      ]
     },
     "execution_count": 44,
     "metadata": {},
     "output_type": "execute_result"
    }
   ],
   "source": [
    "data_final_ohe"
   ]
  },
  {
   "cell_type": "code",
   "execution_count": 45,
   "id": "48cb009e",
   "metadata": {},
   "outputs": [],
   "source": [
    "target = data_final_ohe['churn'] \n",
    "features = data_final_ohe.drop('churn', axis=1)"
   ]
  },
  {
   "cell_type": "code",
   "execution_count": 46,
   "id": "2b286fa9",
   "metadata": {},
   "outputs": [],
   "source": [
    "features_train, features_test, target_train, target_test = train_test_split(features, target, test_size=0.25, random_state=120922)"
   ]
  },
  {
   "cell_type": "markdown",
   "id": "2f285bca",
   "metadata": {},
   "source": [
    "Размеры выборок: "
   ]
  },
  {
   "cell_type": "code",
   "execution_count": 47,
   "id": "de156132",
   "metadata": {},
   "outputs": [
    {
     "name": "stdout",
     "output_type": "stream",
     "text": [
      "Обучающая выборка\n",
      "(5274, 20)\n",
      "(5274,)\n"
     ]
    }
   ],
   "source": [
    "print('Обучающая выборка')\n",
    "print(features_train.shape)\n",
    "print(target_train.shape)"
   ]
  },
  {
   "cell_type": "code",
   "execution_count": 48,
   "id": "634710f6",
   "metadata": {},
   "outputs": [
    {
     "name": "stdout",
     "output_type": "stream",
     "text": [
      "Тестовая выборка\n",
      "(1758, 20)\n",
      "(1758,)\n"
     ]
    }
   ],
   "source": [
    "print('Тестовая выборка')\n",
    "print(features_test.shape)\n",
    "print(target_test.shape)"
   ]
  },
  {
   "cell_type": "markdown",
   "id": "5908a1b8",
   "metadata": {},
   "source": [
    "### Логистическая регрессия"
   ]
  },
  {
   "cell_type": "code",
   "execution_count": 49,
   "id": "6aeb421d",
   "metadata": {},
   "outputs": [
    {
     "name": "stderr",
     "output_type": "stream",
     "text": [
      "C:\\Users\\freak\\anaconda3\\lib\\site-packages\\sklearn\\model_selection\\_validation.py:615: FitFailedWarning: Estimator fit failed. The score on this train-test partition for these parameters will be set to nan. Details: \n",
      "Traceback (most recent call last):\n",
      "  File \"C:\\Users\\freak\\anaconda3\\lib\\site-packages\\sklearn\\model_selection\\_validation.py\", line 598, in _fit_and_score\n",
      "    estimator.fit(X_train, y_train, **fit_params)\n",
      "  File \"C:\\Users\\freak\\anaconda3\\lib\\site-packages\\sklearn\\linear_model\\_logistic.py\", line 1306, in fit\n",
      "    solver = _check_solver(self.solver, self.penalty, self.dual)\n",
      "  File \"C:\\Users\\freak\\anaconda3\\lib\\site-packages\\sklearn\\linear_model\\_logistic.py\", line 443, in _check_solver\n",
      "    raise ValueError(\"Solver %s supports only 'l2' or 'none' penalties, \"\n",
      "ValueError: Solver lbfgs supports only 'l2' or 'none' penalties, got l1 penalty.\n",
      "\n",
      "  warnings.warn(\"Estimator fit failed. The score on this train-test\"\n",
      "C:\\Users\\freak\\anaconda3\\lib\\site-packages\\sklearn\\model_selection\\_validation.py:615: FitFailedWarning: Estimator fit failed. The score on this train-test partition for these parameters will be set to nan. Details: \n",
      "Traceback (most recent call last):\n",
      "  File \"C:\\Users\\freak\\anaconda3\\lib\\site-packages\\sklearn\\model_selection\\_validation.py\", line 598, in _fit_and_score\n",
      "    estimator.fit(X_train, y_train, **fit_params)\n",
      "  File \"C:\\Users\\freak\\anaconda3\\lib\\site-packages\\sklearn\\linear_model\\_logistic.py\", line 1306, in fit\n",
      "    solver = _check_solver(self.solver, self.penalty, self.dual)\n",
      "  File \"C:\\Users\\freak\\anaconda3\\lib\\site-packages\\sklearn\\linear_model\\_logistic.py\", line 443, in _check_solver\n",
      "    raise ValueError(\"Solver %s supports only 'l2' or 'none' penalties, \"\n",
      "ValueError: Solver lbfgs supports only 'l2' or 'none' penalties, got l1 penalty.\n",
      "\n",
      "  warnings.warn(\"Estimator fit failed. The score on this train-test\"\n",
      "C:\\Users\\freak\\anaconda3\\lib\\site-packages\\sklearn\\model_selection\\_validation.py:615: FitFailedWarning: Estimator fit failed. The score on this train-test partition for these parameters will be set to nan. Details: \n",
      "Traceback (most recent call last):\n",
      "  File \"C:\\Users\\freak\\anaconda3\\lib\\site-packages\\sklearn\\model_selection\\_validation.py\", line 598, in _fit_and_score\n",
      "    estimator.fit(X_train, y_train, **fit_params)\n",
      "  File \"C:\\Users\\freak\\anaconda3\\lib\\site-packages\\sklearn\\linear_model\\_logistic.py\", line 1306, in fit\n",
      "    solver = _check_solver(self.solver, self.penalty, self.dual)\n",
      "  File \"C:\\Users\\freak\\anaconda3\\lib\\site-packages\\sklearn\\linear_model\\_logistic.py\", line 443, in _check_solver\n",
      "    raise ValueError(\"Solver %s supports only 'l2' or 'none' penalties, \"\n",
      "ValueError: Solver lbfgs supports only 'l2' or 'none' penalties, got l1 penalty.\n",
      "\n",
      "  warnings.warn(\"Estimator fit failed. The score on this train-test\"\n",
      "C:\\Users\\freak\\anaconda3\\lib\\site-packages\\sklearn\\model_selection\\_validation.py:615: FitFailedWarning: Estimator fit failed. The score on this train-test partition for these parameters will be set to nan. Details: \n",
      "Traceback (most recent call last):\n",
      "  File \"C:\\Users\\freak\\anaconda3\\lib\\site-packages\\sklearn\\model_selection\\_validation.py\", line 598, in _fit_and_score\n",
      "    estimator.fit(X_train, y_train, **fit_params)\n",
      "  File \"C:\\Users\\freak\\anaconda3\\lib\\site-packages\\sklearn\\linear_model\\_logistic.py\", line 1306, in fit\n",
      "    solver = _check_solver(self.solver, self.penalty, self.dual)\n",
      "  File \"C:\\Users\\freak\\anaconda3\\lib\\site-packages\\sklearn\\linear_model\\_logistic.py\", line 443, in _check_solver\n",
      "    raise ValueError(\"Solver %s supports only 'l2' or 'none' penalties, \"\n",
      "ValueError: Solver lbfgs supports only 'l2' or 'none' penalties, got l1 penalty.\n",
      "\n",
      "  warnings.warn(\"Estimator fit failed. The score on this train-test\"\n",
      "C:\\Users\\freak\\anaconda3\\lib\\site-packages\\sklearn\\model_selection\\_validation.py:615: FitFailedWarning: Estimator fit failed. The score on this train-test partition for these parameters will be set to nan. Details: \n",
      "Traceback (most recent call last):\n",
      "  File \"C:\\Users\\freak\\anaconda3\\lib\\site-packages\\sklearn\\model_selection\\_validation.py\", line 598, in _fit_and_score\n",
      "    estimator.fit(X_train, y_train, **fit_params)\n",
      "  File \"C:\\Users\\freak\\anaconda3\\lib\\site-packages\\sklearn\\linear_model\\_logistic.py\", line 1306, in fit\n",
      "    solver = _check_solver(self.solver, self.penalty, self.dual)\n",
      "  File \"C:\\Users\\freak\\anaconda3\\lib\\site-packages\\sklearn\\linear_model\\_logistic.py\", line 443, in _check_solver\n",
      "    raise ValueError(\"Solver %s supports only 'l2' or 'none' penalties, \"\n",
      "ValueError: Solver lbfgs supports only 'l2' or 'none' penalties, got l1 penalty.\n",
      "\n",
      "  warnings.warn(\"Estimator fit failed. The score on this train-test\"\n",
      "C:\\Users\\freak\\anaconda3\\lib\\site-packages\\sklearn\\model_selection\\_validation.py:615: FitFailedWarning: Estimator fit failed. The score on this train-test partition for these parameters will be set to nan. Details: \n",
      "Traceback (most recent call last):\n",
      "  File \"C:\\Users\\freak\\anaconda3\\lib\\site-packages\\sklearn\\model_selection\\_validation.py\", line 598, in _fit_and_score\n",
      "    estimator.fit(X_train, y_train, **fit_params)\n",
      "  File \"C:\\Users\\freak\\anaconda3\\lib\\site-packages\\sklearn\\linear_model\\_logistic.py\", line 1306, in fit\n",
      "    solver = _check_solver(self.solver, self.penalty, self.dual)\n",
      "  File \"C:\\Users\\freak\\anaconda3\\lib\\site-packages\\sklearn\\linear_model\\_logistic.py\", line 443, in _check_solver\n",
      "    raise ValueError(\"Solver %s supports only 'l2' or 'none' penalties, \"\n",
      "ValueError: Solver lbfgs supports only 'l2' or 'none' penalties, got l1 penalty.\n",
      "\n",
      "  warnings.warn(\"Estimator fit failed. The score on this train-test\"\n",
      "C:\\Users\\freak\\anaconda3\\lib\\site-packages\\sklearn\\model_selection\\_validation.py:615: FitFailedWarning: Estimator fit failed. The score on this train-test partition for these parameters will be set to nan. Details: \n",
      "Traceback (most recent call last):\n",
      "  File \"C:\\Users\\freak\\anaconda3\\lib\\site-packages\\sklearn\\model_selection\\_validation.py\", line 598, in _fit_and_score\n",
      "    estimator.fit(X_train, y_train, **fit_params)\n",
      "  File \"C:\\Users\\freak\\anaconda3\\lib\\site-packages\\sklearn\\linear_model\\_logistic.py\", line 1306, in fit\n",
      "    solver = _check_solver(self.solver, self.penalty, self.dual)\n",
      "  File \"C:\\Users\\freak\\anaconda3\\lib\\site-packages\\sklearn\\linear_model\\_logistic.py\", line 443, in _check_solver\n",
      "    raise ValueError(\"Solver %s supports only 'l2' or 'none' penalties, \"\n",
      "ValueError: Solver lbfgs supports only 'l2' or 'none' penalties, got l1 penalty.\n",
      "\n",
      "  warnings.warn(\"Estimator fit failed. The score on this train-test\"\n",
      "C:\\Users\\freak\\anaconda3\\lib\\site-packages\\sklearn\\model_selection\\_validation.py:615: FitFailedWarning: Estimator fit failed. The score on this train-test partition for these parameters will be set to nan. Details: \n",
      "Traceback (most recent call last):\n",
      "  File \"C:\\Users\\freak\\anaconda3\\lib\\site-packages\\sklearn\\model_selection\\_validation.py\", line 598, in _fit_and_score\n",
      "    estimator.fit(X_train, y_train, **fit_params)\n",
      "  File \"C:\\Users\\freak\\anaconda3\\lib\\site-packages\\sklearn\\linear_model\\_logistic.py\", line 1306, in fit\n",
      "    solver = _check_solver(self.solver, self.penalty, self.dual)\n",
      "  File \"C:\\Users\\freak\\anaconda3\\lib\\site-packages\\sklearn\\linear_model\\_logistic.py\", line 443, in _check_solver\n",
      "    raise ValueError(\"Solver %s supports only 'l2' or 'none' penalties, \"\n",
      "ValueError: Solver lbfgs supports only 'l2' or 'none' penalties, got l1 penalty.\n",
      "\n",
      "  warnings.warn(\"Estimator fit failed. The score on this train-test\"\n",
      "C:\\Users\\freak\\anaconda3\\lib\\site-packages\\sklearn\\model_selection\\_validation.py:615: FitFailedWarning: Estimator fit failed. The score on this train-test partition for these parameters will be set to nan. Details: \n",
      "Traceback (most recent call last):\n",
      "  File \"C:\\Users\\freak\\anaconda3\\lib\\site-packages\\sklearn\\model_selection\\_validation.py\", line 598, in _fit_and_score\n",
      "    estimator.fit(X_train, y_train, **fit_params)\n",
      "  File \"C:\\Users\\freak\\anaconda3\\lib\\site-packages\\sklearn\\linear_model\\_logistic.py\", line 1306, in fit\n",
      "    solver = _check_solver(self.solver, self.penalty, self.dual)\n",
      "  File \"C:\\Users\\freak\\anaconda3\\lib\\site-packages\\sklearn\\linear_model\\_logistic.py\", line 443, in _check_solver\n",
      "    raise ValueError(\"Solver %s supports only 'l2' or 'none' penalties, \"\n",
      "ValueError: Solver lbfgs supports only 'l2' or 'none' penalties, got l1 penalty.\n",
      "\n",
      "  warnings.warn(\"Estimator fit failed. The score on this train-test\"\n",
      "C:\\Users\\freak\\anaconda3\\lib\\site-packages\\sklearn\\model_selection\\_validation.py:615: FitFailedWarning: Estimator fit failed. The score on this train-test partition for these parameters will be set to nan. Details: \n",
      "Traceback (most recent call last):\n",
      "  File \"C:\\Users\\freak\\anaconda3\\lib\\site-packages\\sklearn\\model_selection\\_validation.py\", line 598, in _fit_and_score\n",
      "    estimator.fit(X_train, y_train, **fit_params)\n",
      "  File \"C:\\Users\\freak\\anaconda3\\lib\\site-packages\\sklearn\\linear_model\\_logistic.py\", line 1306, in fit\n",
      "    solver = _check_solver(self.solver, self.penalty, self.dual)\n",
      "  File \"C:\\Users\\freak\\anaconda3\\lib\\site-packages\\sklearn\\linear_model\\_logistic.py\", line 443, in _check_solver\n",
      "    raise ValueError(\"Solver %s supports only 'l2' or 'none' penalties, \"\n",
      "ValueError: Solver lbfgs supports only 'l2' or 'none' penalties, got l1 penalty.\n",
      "\n",
      "  warnings.warn(\"Estimator fit failed. The score on this train-test\"\n"
     ]
    },
    {
     "name": "stderr",
     "output_type": "stream",
     "text": [
      "C:\\Users\\freak\\anaconda3\\lib\\site-packages\\sklearn\\model_selection\\_validation.py:615: FitFailedWarning: Estimator fit failed. The score on this train-test partition for these parameters will be set to nan. Details: \n",
      "Traceback (most recent call last):\n",
      "  File \"C:\\Users\\freak\\anaconda3\\lib\\site-packages\\sklearn\\model_selection\\_validation.py\", line 598, in _fit_and_score\n",
      "    estimator.fit(X_train, y_train, **fit_params)\n",
      "  File \"C:\\Users\\freak\\anaconda3\\lib\\site-packages\\sklearn\\linear_model\\_logistic.py\", line 1306, in fit\n",
      "    solver = _check_solver(self.solver, self.penalty, self.dual)\n",
      "  File \"C:\\Users\\freak\\anaconda3\\lib\\site-packages\\sklearn\\linear_model\\_logistic.py\", line 443, in _check_solver\n",
      "    raise ValueError(\"Solver %s supports only 'l2' or 'none' penalties, \"\n",
      "ValueError: Solver lbfgs supports only 'l2' or 'none' penalties, got l1 penalty.\n",
      "\n",
      "  warnings.warn(\"Estimator fit failed. The score on this train-test\"\n",
      "C:\\Users\\freak\\anaconda3\\lib\\site-packages\\sklearn\\model_selection\\_validation.py:615: FitFailedWarning: Estimator fit failed. The score on this train-test partition for these parameters will be set to nan. Details: \n",
      "Traceback (most recent call last):\n",
      "  File \"C:\\Users\\freak\\anaconda3\\lib\\site-packages\\sklearn\\model_selection\\_validation.py\", line 598, in _fit_and_score\n",
      "    estimator.fit(X_train, y_train, **fit_params)\n",
      "  File \"C:\\Users\\freak\\anaconda3\\lib\\site-packages\\sklearn\\linear_model\\_logistic.py\", line 1306, in fit\n",
      "    solver = _check_solver(self.solver, self.penalty, self.dual)\n",
      "  File \"C:\\Users\\freak\\anaconda3\\lib\\site-packages\\sklearn\\linear_model\\_logistic.py\", line 443, in _check_solver\n",
      "    raise ValueError(\"Solver %s supports only 'l2' or 'none' penalties, \"\n",
      "ValueError: Solver lbfgs supports only 'l2' or 'none' penalties, got l1 penalty.\n",
      "\n",
      "  warnings.warn(\"Estimator fit failed. The score on this train-test\"\n",
      "C:\\Users\\freak\\anaconda3\\lib\\site-packages\\sklearn\\model_selection\\_validation.py:615: FitFailedWarning: Estimator fit failed. The score on this train-test partition for these parameters will be set to nan. Details: \n",
      "Traceback (most recent call last):\n",
      "  File \"C:\\Users\\freak\\anaconda3\\lib\\site-packages\\sklearn\\model_selection\\_validation.py\", line 598, in _fit_and_score\n",
      "    estimator.fit(X_train, y_train, **fit_params)\n",
      "  File \"C:\\Users\\freak\\anaconda3\\lib\\site-packages\\sklearn\\linear_model\\_logistic.py\", line 1306, in fit\n",
      "    solver = _check_solver(self.solver, self.penalty, self.dual)\n",
      "  File \"C:\\Users\\freak\\anaconda3\\lib\\site-packages\\sklearn\\linear_model\\_logistic.py\", line 443, in _check_solver\n",
      "    raise ValueError(\"Solver %s supports only 'l2' or 'none' penalties, \"\n",
      "ValueError: Solver lbfgs supports only 'l2' or 'none' penalties, got l1 penalty.\n",
      "\n",
      "  warnings.warn(\"Estimator fit failed. The score on this train-test\"\n",
      "C:\\Users\\freak\\anaconda3\\lib\\site-packages\\sklearn\\model_selection\\_validation.py:615: FitFailedWarning: Estimator fit failed. The score on this train-test partition for these parameters will be set to nan. Details: \n",
      "Traceback (most recent call last):\n",
      "  File \"C:\\Users\\freak\\anaconda3\\lib\\site-packages\\sklearn\\model_selection\\_validation.py\", line 598, in _fit_and_score\n",
      "    estimator.fit(X_train, y_train, **fit_params)\n",
      "  File \"C:\\Users\\freak\\anaconda3\\lib\\site-packages\\sklearn\\linear_model\\_logistic.py\", line 1306, in fit\n",
      "    solver = _check_solver(self.solver, self.penalty, self.dual)\n",
      "  File \"C:\\Users\\freak\\anaconda3\\lib\\site-packages\\sklearn\\linear_model\\_logistic.py\", line 443, in _check_solver\n",
      "    raise ValueError(\"Solver %s supports only 'l2' or 'none' penalties, \"\n",
      "ValueError: Solver lbfgs supports only 'l2' or 'none' penalties, got l1 penalty.\n",
      "\n",
      "  warnings.warn(\"Estimator fit failed. The score on this train-test\"\n",
      "C:\\Users\\freak\\anaconda3\\lib\\site-packages\\sklearn\\model_selection\\_validation.py:615: FitFailedWarning: Estimator fit failed. The score on this train-test partition for these parameters will be set to nan. Details: \n",
      "Traceback (most recent call last):\n",
      "  File \"C:\\Users\\freak\\anaconda3\\lib\\site-packages\\sklearn\\model_selection\\_validation.py\", line 598, in _fit_and_score\n",
      "    estimator.fit(X_train, y_train, **fit_params)\n",
      "  File \"C:\\Users\\freak\\anaconda3\\lib\\site-packages\\sklearn\\linear_model\\_logistic.py\", line 1306, in fit\n",
      "    solver = _check_solver(self.solver, self.penalty, self.dual)\n",
      "  File \"C:\\Users\\freak\\anaconda3\\lib\\site-packages\\sklearn\\linear_model\\_logistic.py\", line 443, in _check_solver\n",
      "    raise ValueError(\"Solver %s supports only 'l2' or 'none' penalties, \"\n",
      "ValueError: Solver lbfgs supports only 'l2' or 'none' penalties, got l1 penalty.\n",
      "\n",
      "  warnings.warn(\"Estimator fit failed. The score on this train-test\"\n",
      "C:\\Users\\freak\\anaconda3\\lib\\site-packages\\sklearn\\model_selection\\_validation.py:615: FitFailedWarning: Estimator fit failed. The score on this train-test partition for these parameters will be set to nan. Details: \n",
      "Traceback (most recent call last):\n",
      "  File \"C:\\Users\\freak\\anaconda3\\lib\\site-packages\\sklearn\\model_selection\\_validation.py\", line 598, in _fit_and_score\n",
      "    estimator.fit(X_train, y_train, **fit_params)\n",
      "  File \"C:\\Users\\freak\\anaconda3\\lib\\site-packages\\sklearn\\linear_model\\_logistic.py\", line 1306, in fit\n",
      "    solver = _check_solver(self.solver, self.penalty, self.dual)\n",
      "  File \"C:\\Users\\freak\\anaconda3\\lib\\site-packages\\sklearn\\linear_model\\_logistic.py\", line 443, in _check_solver\n",
      "    raise ValueError(\"Solver %s supports only 'l2' or 'none' penalties, \"\n",
      "ValueError: Solver lbfgs supports only 'l2' or 'none' penalties, got l1 penalty.\n",
      "\n",
      "  warnings.warn(\"Estimator fit failed. The score on this train-test\"\n",
      "C:\\Users\\freak\\anaconda3\\lib\\site-packages\\sklearn\\model_selection\\_validation.py:615: FitFailedWarning: Estimator fit failed. The score on this train-test partition for these parameters will be set to nan. Details: \n",
      "Traceback (most recent call last):\n",
      "  File \"C:\\Users\\freak\\anaconda3\\lib\\site-packages\\sklearn\\model_selection\\_validation.py\", line 598, in _fit_and_score\n",
      "    estimator.fit(X_train, y_train, **fit_params)\n",
      "  File \"C:\\Users\\freak\\anaconda3\\lib\\site-packages\\sklearn\\linear_model\\_logistic.py\", line 1306, in fit\n",
      "    solver = _check_solver(self.solver, self.penalty, self.dual)\n",
      "  File \"C:\\Users\\freak\\anaconda3\\lib\\site-packages\\sklearn\\linear_model\\_logistic.py\", line 443, in _check_solver\n",
      "    raise ValueError(\"Solver %s supports only 'l2' or 'none' penalties, \"\n",
      "ValueError: Solver lbfgs supports only 'l2' or 'none' penalties, got l1 penalty.\n",
      "\n",
      "  warnings.warn(\"Estimator fit failed. The score on this train-test\"\n",
      "C:\\Users\\freak\\anaconda3\\lib\\site-packages\\sklearn\\model_selection\\_validation.py:615: FitFailedWarning: Estimator fit failed. The score on this train-test partition for these parameters will be set to nan. Details: \n",
      "Traceback (most recent call last):\n",
      "  File \"C:\\Users\\freak\\anaconda3\\lib\\site-packages\\sklearn\\model_selection\\_validation.py\", line 598, in _fit_and_score\n",
      "    estimator.fit(X_train, y_train, **fit_params)\n",
      "  File \"C:\\Users\\freak\\anaconda3\\lib\\site-packages\\sklearn\\linear_model\\_logistic.py\", line 1306, in fit\n",
      "    solver = _check_solver(self.solver, self.penalty, self.dual)\n",
      "  File \"C:\\Users\\freak\\anaconda3\\lib\\site-packages\\sklearn\\linear_model\\_logistic.py\", line 443, in _check_solver\n",
      "    raise ValueError(\"Solver %s supports only 'l2' or 'none' penalties, \"\n",
      "ValueError: Solver lbfgs supports only 'l2' or 'none' penalties, got l1 penalty.\n",
      "\n",
      "  warnings.warn(\"Estimator fit failed. The score on this train-test\"\n",
      "C:\\Users\\freak\\anaconda3\\lib\\site-packages\\sklearn\\model_selection\\_validation.py:615: FitFailedWarning: Estimator fit failed. The score on this train-test partition for these parameters will be set to nan. Details: \n",
      "Traceback (most recent call last):\n",
      "  File \"C:\\Users\\freak\\anaconda3\\lib\\site-packages\\sklearn\\model_selection\\_validation.py\", line 598, in _fit_and_score\n",
      "    estimator.fit(X_train, y_train, **fit_params)\n",
      "  File \"C:\\Users\\freak\\anaconda3\\lib\\site-packages\\sklearn\\linear_model\\_logistic.py\", line 1306, in fit\n",
      "    solver = _check_solver(self.solver, self.penalty, self.dual)\n",
      "  File \"C:\\Users\\freak\\anaconda3\\lib\\site-packages\\sklearn\\linear_model\\_logistic.py\", line 443, in _check_solver\n",
      "    raise ValueError(\"Solver %s supports only 'l2' or 'none' penalties, \"\n",
      "ValueError: Solver lbfgs supports only 'l2' or 'none' penalties, got l1 penalty.\n",
      "\n",
      "  warnings.warn(\"Estimator fit failed. The score on this train-test\"\n",
      "C:\\Users\\freak\\anaconda3\\lib\\site-packages\\sklearn\\model_selection\\_validation.py:615: FitFailedWarning: Estimator fit failed. The score on this train-test partition for these parameters will be set to nan. Details: \n",
      "Traceback (most recent call last):\n",
      "  File \"C:\\Users\\freak\\anaconda3\\lib\\site-packages\\sklearn\\model_selection\\_validation.py\", line 598, in _fit_and_score\n",
      "    estimator.fit(X_train, y_train, **fit_params)\n",
      "  File \"C:\\Users\\freak\\anaconda3\\lib\\site-packages\\sklearn\\linear_model\\_logistic.py\", line 1306, in fit\n",
      "    solver = _check_solver(self.solver, self.penalty, self.dual)\n",
      "  File \"C:\\Users\\freak\\anaconda3\\lib\\site-packages\\sklearn\\linear_model\\_logistic.py\", line 443, in _check_solver\n",
      "    raise ValueError(\"Solver %s supports only 'l2' or 'none' penalties, \"\n",
      "ValueError: Solver lbfgs supports only 'l2' or 'none' penalties, got l1 penalty.\n",
      "\n",
      "  warnings.warn(\"Estimator fit failed. The score on this train-test\"\n"
     ]
    },
    {
     "name": "stderr",
     "output_type": "stream",
     "text": [
      "C:\\Users\\freak\\anaconda3\\lib\\site-packages\\sklearn\\model_selection\\_validation.py:615: FitFailedWarning: Estimator fit failed. The score on this train-test partition for these parameters will be set to nan. Details: \n",
      "Traceback (most recent call last):\n",
      "  File \"C:\\Users\\freak\\anaconda3\\lib\\site-packages\\sklearn\\model_selection\\_validation.py\", line 598, in _fit_and_score\n",
      "    estimator.fit(X_train, y_train, **fit_params)\n",
      "  File \"C:\\Users\\freak\\anaconda3\\lib\\site-packages\\sklearn\\linear_model\\_logistic.py\", line 1306, in fit\n",
      "    solver = _check_solver(self.solver, self.penalty, self.dual)\n",
      "  File \"C:\\Users\\freak\\anaconda3\\lib\\site-packages\\sklearn\\linear_model\\_logistic.py\", line 443, in _check_solver\n",
      "    raise ValueError(\"Solver %s supports only 'l2' or 'none' penalties, \"\n",
      "ValueError: Solver lbfgs supports only 'l2' or 'none' penalties, got l1 penalty.\n",
      "\n",
      "  warnings.warn(\"Estimator fit failed. The score on this train-test\"\n",
      "C:\\Users\\freak\\anaconda3\\lib\\site-packages\\sklearn\\model_selection\\_validation.py:615: FitFailedWarning: Estimator fit failed. The score on this train-test partition for these parameters will be set to nan. Details: \n",
      "Traceback (most recent call last):\n",
      "  File \"C:\\Users\\freak\\anaconda3\\lib\\site-packages\\sklearn\\model_selection\\_validation.py\", line 598, in _fit_and_score\n",
      "    estimator.fit(X_train, y_train, **fit_params)\n",
      "  File \"C:\\Users\\freak\\anaconda3\\lib\\site-packages\\sklearn\\linear_model\\_logistic.py\", line 1306, in fit\n",
      "    solver = _check_solver(self.solver, self.penalty, self.dual)\n",
      "  File \"C:\\Users\\freak\\anaconda3\\lib\\site-packages\\sklearn\\linear_model\\_logistic.py\", line 443, in _check_solver\n",
      "    raise ValueError(\"Solver %s supports only 'l2' or 'none' penalties, \"\n",
      "ValueError: Solver lbfgs supports only 'l2' or 'none' penalties, got l1 penalty.\n",
      "\n",
      "  warnings.warn(\"Estimator fit failed. The score on this train-test\"\n",
      "C:\\Users\\freak\\anaconda3\\lib\\site-packages\\sklearn\\model_selection\\_validation.py:615: FitFailedWarning: Estimator fit failed. The score on this train-test partition for these parameters will be set to nan. Details: \n",
      "Traceback (most recent call last):\n",
      "  File \"C:\\Users\\freak\\anaconda3\\lib\\site-packages\\sklearn\\model_selection\\_validation.py\", line 598, in _fit_and_score\n",
      "    estimator.fit(X_train, y_train, **fit_params)\n",
      "  File \"C:\\Users\\freak\\anaconda3\\lib\\site-packages\\sklearn\\linear_model\\_logistic.py\", line 1306, in fit\n",
      "    solver = _check_solver(self.solver, self.penalty, self.dual)\n",
      "  File \"C:\\Users\\freak\\anaconda3\\lib\\site-packages\\sklearn\\linear_model\\_logistic.py\", line 443, in _check_solver\n",
      "    raise ValueError(\"Solver %s supports only 'l2' or 'none' penalties, \"\n",
      "ValueError: Solver lbfgs supports only 'l2' or 'none' penalties, got l1 penalty.\n",
      "\n",
      "  warnings.warn(\"Estimator fit failed. The score on this train-test\"\n",
      "C:\\Users\\freak\\anaconda3\\lib\\site-packages\\sklearn\\model_selection\\_validation.py:615: FitFailedWarning: Estimator fit failed. The score on this train-test partition for these parameters will be set to nan. Details: \n",
      "Traceback (most recent call last):\n",
      "  File \"C:\\Users\\freak\\anaconda3\\lib\\site-packages\\sklearn\\model_selection\\_validation.py\", line 598, in _fit_and_score\n",
      "    estimator.fit(X_train, y_train, **fit_params)\n",
      "  File \"C:\\Users\\freak\\anaconda3\\lib\\site-packages\\sklearn\\linear_model\\_logistic.py\", line 1306, in fit\n",
      "    solver = _check_solver(self.solver, self.penalty, self.dual)\n",
      "  File \"C:\\Users\\freak\\anaconda3\\lib\\site-packages\\sklearn\\linear_model\\_logistic.py\", line 443, in _check_solver\n",
      "    raise ValueError(\"Solver %s supports only 'l2' or 'none' penalties, \"\n",
      "ValueError: Solver lbfgs supports only 'l2' or 'none' penalties, got l1 penalty.\n",
      "\n",
      "  warnings.warn(\"Estimator fit failed. The score on this train-test\"\n",
      "C:\\Users\\freak\\anaconda3\\lib\\site-packages\\sklearn\\model_selection\\_validation.py:615: FitFailedWarning: Estimator fit failed. The score on this train-test partition for these parameters will be set to nan. Details: \n",
      "Traceback (most recent call last):\n",
      "  File \"C:\\Users\\freak\\anaconda3\\lib\\site-packages\\sklearn\\model_selection\\_validation.py\", line 598, in _fit_and_score\n",
      "    estimator.fit(X_train, y_train, **fit_params)\n",
      "  File \"C:\\Users\\freak\\anaconda3\\lib\\site-packages\\sklearn\\linear_model\\_logistic.py\", line 1306, in fit\n",
      "    solver = _check_solver(self.solver, self.penalty, self.dual)\n",
      "  File \"C:\\Users\\freak\\anaconda3\\lib\\site-packages\\sklearn\\linear_model\\_logistic.py\", line 443, in _check_solver\n",
      "    raise ValueError(\"Solver %s supports only 'l2' or 'none' penalties, \"\n",
      "ValueError: Solver lbfgs supports only 'l2' or 'none' penalties, got l1 penalty.\n",
      "\n",
      "  warnings.warn(\"Estimator fit failed. The score on this train-test\"\n",
      "C:\\Users\\freak\\anaconda3\\lib\\site-packages\\sklearn\\model_selection\\_validation.py:615: FitFailedWarning: Estimator fit failed. The score on this train-test partition for these parameters will be set to nan. Details: \n",
      "Traceback (most recent call last):\n",
      "  File \"C:\\Users\\freak\\anaconda3\\lib\\site-packages\\sklearn\\model_selection\\_validation.py\", line 598, in _fit_and_score\n",
      "    estimator.fit(X_train, y_train, **fit_params)\n",
      "  File \"C:\\Users\\freak\\anaconda3\\lib\\site-packages\\sklearn\\linear_model\\_logistic.py\", line 1306, in fit\n",
      "    solver = _check_solver(self.solver, self.penalty, self.dual)\n",
      "  File \"C:\\Users\\freak\\anaconda3\\lib\\site-packages\\sklearn\\linear_model\\_logistic.py\", line 443, in _check_solver\n",
      "    raise ValueError(\"Solver %s supports only 'l2' or 'none' penalties, \"\n",
      "ValueError: Solver lbfgs supports only 'l2' or 'none' penalties, got l1 penalty.\n",
      "\n",
      "  warnings.warn(\"Estimator fit failed. The score on this train-test\"\n",
      "C:\\Users\\freak\\anaconda3\\lib\\site-packages\\sklearn\\model_selection\\_validation.py:615: FitFailedWarning: Estimator fit failed. The score on this train-test partition for these parameters will be set to nan. Details: \n",
      "Traceback (most recent call last):\n",
      "  File \"C:\\Users\\freak\\anaconda3\\lib\\site-packages\\sklearn\\model_selection\\_validation.py\", line 598, in _fit_and_score\n",
      "    estimator.fit(X_train, y_train, **fit_params)\n",
      "  File \"C:\\Users\\freak\\anaconda3\\lib\\site-packages\\sklearn\\linear_model\\_logistic.py\", line 1306, in fit\n",
      "    solver = _check_solver(self.solver, self.penalty, self.dual)\n",
      "  File \"C:\\Users\\freak\\anaconda3\\lib\\site-packages\\sklearn\\linear_model\\_logistic.py\", line 443, in _check_solver\n",
      "    raise ValueError(\"Solver %s supports only 'l2' or 'none' penalties, \"\n",
      "ValueError: Solver lbfgs supports only 'l2' or 'none' penalties, got l1 penalty.\n",
      "\n",
      "  warnings.warn(\"Estimator fit failed. The score on this train-test\"\n",
      "C:\\Users\\freak\\anaconda3\\lib\\site-packages\\sklearn\\model_selection\\_validation.py:615: FitFailedWarning: Estimator fit failed. The score on this train-test partition for these parameters will be set to nan. Details: \n",
      "Traceback (most recent call last):\n",
      "  File \"C:\\Users\\freak\\anaconda3\\lib\\site-packages\\sklearn\\model_selection\\_validation.py\", line 598, in _fit_and_score\n",
      "    estimator.fit(X_train, y_train, **fit_params)\n",
      "  File \"C:\\Users\\freak\\anaconda3\\lib\\site-packages\\sklearn\\linear_model\\_logistic.py\", line 1306, in fit\n",
      "    solver = _check_solver(self.solver, self.penalty, self.dual)\n",
      "  File \"C:\\Users\\freak\\anaconda3\\lib\\site-packages\\sklearn\\linear_model\\_logistic.py\", line 443, in _check_solver\n",
      "    raise ValueError(\"Solver %s supports only 'l2' or 'none' penalties, \"\n",
      "ValueError: Solver lbfgs supports only 'l2' or 'none' penalties, got l1 penalty.\n",
      "\n",
      "  warnings.warn(\"Estimator fit failed. The score on this train-test\"\n",
      "C:\\Users\\freak\\anaconda3\\lib\\site-packages\\sklearn\\model_selection\\_validation.py:615: FitFailedWarning: Estimator fit failed. The score on this train-test partition for these parameters will be set to nan. Details: \n",
      "Traceback (most recent call last):\n",
      "  File \"C:\\Users\\freak\\anaconda3\\lib\\site-packages\\sklearn\\model_selection\\_validation.py\", line 598, in _fit_and_score\n",
      "    estimator.fit(X_train, y_train, **fit_params)\n",
      "  File \"C:\\Users\\freak\\anaconda3\\lib\\site-packages\\sklearn\\linear_model\\_logistic.py\", line 1306, in fit\n",
      "    solver = _check_solver(self.solver, self.penalty, self.dual)\n",
      "  File \"C:\\Users\\freak\\anaconda3\\lib\\site-packages\\sklearn\\linear_model\\_logistic.py\", line 443, in _check_solver\n",
      "    raise ValueError(\"Solver %s supports only 'l2' or 'none' penalties, \"\n",
      "ValueError: Solver lbfgs supports only 'l2' or 'none' penalties, got l1 penalty.\n",
      "\n",
      "  warnings.warn(\"Estimator fit failed. The score on this train-test\"\n",
      "C:\\Users\\freak\\anaconda3\\lib\\site-packages\\sklearn\\model_selection\\_validation.py:615: FitFailedWarning: Estimator fit failed. The score on this train-test partition for these parameters will be set to nan. Details: \n",
      "Traceback (most recent call last):\n",
      "  File \"C:\\Users\\freak\\anaconda3\\lib\\site-packages\\sklearn\\model_selection\\_validation.py\", line 598, in _fit_and_score\n",
      "    estimator.fit(X_train, y_train, **fit_params)\n",
      "  File \"C:\\Users\\freak\\anaconda3\\lib\\site-packages\\sklearn\\linear_model\\_logistic.py\", line 1306, in fit\n",
      "    solver = _check_solver(self.solver, self.penalty, self.dual)\n",
      "  File \"C:\\Users\\freak\\anaconda3\\lib\\site-packages\\sklearn\\linear_model\\_logistic.py\", line 443, in _check_solver\n",
      "    raise ValueError(\"Solver %s supports only 'l2' or 'none' penalties, \"\n",
      "ValueError: Solver lbfgs supports only 'l2' or 'none' penalties, got l1 penalty.\n",
      "\n",
      "  warnings.warn(\"Estimator fit failed. The score on this train-test\"\n"
     ]
    },
    {
     "name": "stderr",
     "output_type": "stream",
     "text": [
      "C:\\Users\\freak\\anaconda3\\lib\\site-packages\\sklearn\\model_selection\\_validation.py:615: FitFailedWarning: Estimator fit failed. The score on this train-test partition for these parameters will be set to nan. Details: \n",
      "Traceback (most recent call last):\n",
      "  File \"C:\\Users\\freak\\anaconda3\\lib\\site-packages\\sklearn\\model_selection\\_validation.py\", line 598, in _fit_and_score\n",
      "    estimator.fit(X_train, y_train, **fit_params)\n",
      "  File \"C:\\Users\\freak\\anaconda3\\lib\\site-packages\\sklearn\\linear_model\\_logistic.py\", line 1306, in fit\n",
      "    solver = _check_solver(self.solver, self.penalty, self.dual)\n",
      "  File \"C:\\Users\\freak\\anaconda3\\lib\\site-packages\\sklearn\\linear_model\\_logistic.py\", line 443, in _check_solver\n",
      "    raise ValueError(\"Solver %s supports only 'l2' or 'none' penalties, \"\n",
      "ValueError: Solver lbfgs supports only 'l2' or 'none' penalties, got l1 penalty.\n",
      "\n",
      "  warnings.warn(\"Estimator fit failed. The score on this train-test\"\n",
      "C:\\Users\\freak\\anaconda3\\lib\\site-packages\\sklearn\\model_selection\\_validation.py:615: FitFailedWarning: Estimator fit failed. The score on this train-test partition for these parameters will be set to nan. Details: \n",
      "Traceback (most recent call last):\n",
      "  File \"C:\\Users\\freak\\anaconda3\\lib\\site-packages\\sklearn\\model_selection\\_validation.py\", line 598, in _fit_and_score\n",
      "    estimator.fit(X_train, y_train, **fit_params)\n",
      "  File \"C:\\Users\\freak\\anaconda3\\lib\\site-packages\\sklearn\\linear_model\\_logistic.py\", line 1306, in fit\n",
      "    solver = _check_solver(self.solver, self.penalty, self.dual)\n",
      "  File \"C:\\Users\\freak\\anaconda3\\lib\\site-packages\\sklearn\\linear_model\\_logistic.py\", line 443, in _check_solver\n",
      "    raise ValueError(\"Solver %s supports only 'l2' or 'none' penalties, \"\n",
      "ValueError: Solver lbfgs supports only 'l2' or 'none' penalties, got l1 penalty.\n",
      "\n",
      "  warnings.warn(\"Estimator fit failed. The score on this train-test\"\n",
      "C:\\Users\\freak\\anaconda3\\lib\\site-packages\\sklearn\\model_selection\\_validation.py:615: FitFailedWarning: Estimator fit failed. The score on this train-test partition for these parameters will be set to nan. Details: \n",
      "Traceback (most recent call last):\n",
      "  File \"C:\\Users\\freak\\anaconda3\\lib\\site-packages\\sklearn\\model_selection\\_validation.py\", line 598, in _fit_and_score\n",
      "    estimator.fit(X_train, y_train, **fit_params)\n",
      "  File \"C:\\Users\\freak\\anaconda3\\lib\\site-packages\\sklearn\\linear_model\\_logistic.py\", line 1306, in fit\n",
      "    solver = _check_solver(self.solver, self.penalty, self.dual)\n",
      "  File \"C:\\Users\\freak\\anaconda3\\lib\\site-packages\\sklearn\\linear_model\\_logistic.py\", line 443, in _check_solver\n",
      "    raise ValueError(\"Solver %s supports only 'l2' or 'none' penalties, \"\n",
      "ValueError: Solver lbfgs supports only 'l2' or 'none' penalties, got l1 penalty.\n",
      "\n",
      "  warnings.warn(\"Estimator fit failed. The score on this train-test\"\n",
      "C:\\Users\\freak\\anaconda3\\lib\\site-packages\\sklearn\\model_selection\\_validation.py:615: FitFailedWarning: Estimator fit failed. The score on this train-test partition for these parameters will be set to nan. Details: \n",
      "Traceback (most recent call last):\n",
      "  File \"C:\\Users\\freak\\anaconda3\\lib\\site-packages\\sklearn\\model_selection\\_validation.py\", line 598, in _fit_and_score\n",
      "    estimator.fit(X_train, y_train, **fit_params)\n",
      "  File \"C:\\Users\\freak\\anaconda3\\lib\\site-packages\\sklearn\\linear_model\\_logistic.py\", line 1306, in fit\n",
      "    solver = _check_solver(self.solver, self.penalty, self.dual)\n",
      "  File \"C:\\Users\\freak\\anaconda3\\lib\\site-packages\\sklearn\\linear_model\\_logistic.py\", line 443, in _check_solver\n",
      "    raise ValueError(\"Solver %s supports only 'l2' or 'none' penalties, \"\n",
      "ValueError: Solver lbfgs supports only 'l2' or 'none' penalties, got l1 penalty.\n",
      "\n",
      "  warnings.warn(\"Estimator fit failed. The score on this train-test\"\n",
      "C:\\Users\\freak\\anaconda3\\lib\\site-packages\\sklearn\\model_selection\\_validation.py:615: FitFailedWarning: Estimator fit failed. The score on this train-test partition for these parameters will be set to nan. Details: \n",
      "Traceback (most recent call last):\n",
      "  File \"C:\\Users\\freak\\anaconda3\\lib\\site-packages\\sklearn\\model_selection\\_validation.py\", line 598, in _fit_and_score\n",
      "    estimator.fit(X_train, y_train, **fit_params)\n",
      "  File \"C:\\Users\\freak\\anaconda3\\lib\\site-packages\\sklearn\\linear_model\\_logistic.py\", line 1306, in fit\n",
      "    solver = _check_solver(self.solver, self.penalty, self.dual)\n",
      "  File \"C:\\Users\\freak\\anaconda3\\lib\\site-packages\\sklearn\\linear_model\\_logistic.py\", line 443, in _check_solver\n",
      "    raise ValueError(\"Solver %s supports only 'l2' or 'none' penalties, \"\n",
      "ValueError: Solver lbfgs supports only 'l2' or 'none' penalties, got l1 penalty.\n",
      "\n",
      "  warnings.warn(\"Estimator fit failed. The score on this train-test\"\n"
     ]
    },
    {
     "name": "stdout",
     "output_type": "stream",
     "text": [
      "{'C': 1, 'penalty': 'l2'}\n"
     ]
    },
    {
     "name": "stderr",
     "output_type": "stream",
     "text": [
      "C:\\Users\\freak\\anaconda3\\lib\\site-packages\\sklearn\\model_selection\\_search.py:922: UserWarning: One or more of the test scores are non-finite: [       nan 0.81510143        nan 0.83490374        nan 0.84101971\n",
      "        nan 0.84201609        nan 0.84197532        nan 0.8412652\n",
      "        nan 0.84153683]\n",
      "  warnings.warn(\n"
     ]
    }
   ],
   "source": [
    "param_grid = {'C': [0.001, 0.01, 0.1, 1, 10, 100, 1000], 'penalty':['l1','l2']}\n",
    "\n",
    "model_LR = LogisticRegression(random_state=120922, n_jobs=-1)\n",
    "\n",
    "grid_search_LR = GridSearchCV(model_LR, param_grid, cv=5, scoring='roc_auc')\n",
    "grid_search_LR.fit(features_train, target_train)\n",
    "\n",
    "print(grid_search_LR.best_params_)"
   ]
  },
  {
   "cell_type": "code",
   "execution_count": 50,
   "id": "eca29b96",
   "metadata": {},
   "outputs": [
    {
     "name": "stdout",
     "output_type": "stream",
     "text": [
      "ROC-AUC на кросс-валидации: 0.84\n",
      "Accuracy для Логистической регрессии: 0.80\n"
     ]
    }
   ],
   "source": [
    "accuracy_lr = cross_val_score(grid_search_LR.best_estimator_, features_train, target_train, cv=5, scoring='accuracy').mean()\n",
    "print(f'ROC-AUC на кросс-валидации: {grid_search_LR.best_score_:.2f}')\n",
    "print(f'Accuracy для Логистической регрессии: {accuracy_lr:.2f}')"
   ]
  },
  {
   "cell_type": "markdown",
   "id": "b35ddbe8",
   "metadata": {},
   "source": [
    "### Случайный лес"
   ]
  },
  {
   "cell_type": "code",
   "execution_count": 51,
   "id": "d9e25735",
   "metadata": {},
   "outputs": [
    {
     "name": "stdout",
     "output_type": "stream",
     "text": [
      "{'max_depth': 5, 'min_samples_leaf': 2, 'min_samples_split': 8, 'n_estimators': 100}\n"
     ]
    }
   ],
   "source": [
    "param_grid = {\n",
    "    'max_depth': [3, 4, 5],\n",
    "    'min_samples_split': [2, 6, 8],\n",
    "    'min_samples_leaf': [2, 6, 8],\n",
    "    'n_estimators': [10, 50, 100]}\n",
    "\n",
    "forest_model = RandomForestClassifier(random_state=120922)\n",
    "\n",
    "grid_search_RF = GridSearchCV(forest_model, param_grid, cv=5, scoring='roc_auc')\n",
    "grid_search_RF.fit(features_train, target_train)\n",
    "\n",
    "print(grid_search_RF.best_params_)"
   ]
  },
  {
   "cell_type": "code",
   "execution_count": 52,
   "id": "2bcb73fa",
   "metadata": {
    "scrolled": true
   },
   "outputs": [
    {
     "name": "stdout",
     "output_type": "stream",
     "text": [
      "ROC-AUC на кросс-валидации: 0.86\n",
      "Accuracy для Случайного леса: 0.81\n"
     ]
    }
   ],
   "source": [
    "accuracy_forest = cross_val_score(grid_search_RF.best_estimator_, features_train, target_train, cv=5, scoring='accuracy').mean()\n",
    "print(f'ROC-AUC на кросс-валидации: {grid_search_RF.best_score_:.2f}')\n",
    "print(f'Accuracy для Случайного леса: {accuracy_forest:.2f}')"
   ]
  },
  {
   "cell_type": "markdown",
   "id": "4e8b9757",
   "metadata": {},
   "source": [
    "### CatBoost "
   ]
  },
  {
   "cell_type": "code",
   "execution_count": 53,
   "id": "9064877e",
   "metadata": {},
   "outputs": [
    {
     "name": "stdout",
     "output_type": "stream",
     "text": [
      "{'depth': 4, 'iterations': 1000, 'learning_rate': 0.04}\n",
      "Wall time: 1min 54s\n"
     ]
    }
   ],
   "source": [
    "%%time\n",
    "param_grid = {\n",
    "    'learning_rate': [0.01, 0.02, 0.03, 0.04],\n",
    "    'iterations': [50, 100, 500, 1000],\n",
    "    'depth': [2, 3, 4]}\n",
    "\n",
    "cat_model = CatBoostClassifier(random_state=120922, verbose=0, eval_metric = 'AUC')\n",
    "\n",
    "grid_search_cat = GridSearchCV(cat_model, param_grid, cv=5, scoring='roc_auc')\n",
    "grid_search_cat.fit(features_train, target_train)\n",
    "\n",
    "print(grid_search_cat.best_params_)"
   ]
  },
  {
   "cell_type": "code",
   "execution_count": 54,
   "id": "9e9d34ee",
   "metadata": {},
   "outputs": [
    {
     "name": "stdout",
     "output_type": "stream",
     "text": [
      "ROC-AUC на кросс-валидации: 0.92\n",
      "Accuracy для CatBoost: 0.87\n"
     ]
    }
   ],
   "source": [
    "accuracy_cat = cross_val_score(grid_search_cat.best_estimator_, features_train, target_train, cv=5, scoring='accuracy').mean()\n",
    "print(f'ROC-AUC на кросс-валидации: {grid_search_cat.best_score_:.2f}')\n",
    "print(f'Accuracy для CatBoost: {accuracy_cat:.2f}')"
   ]
  },
  {
   "cell_type": "code",
   "execution_count": 55,
   "id": "a8219bfa",
   "metadata": {},
   "outputs": [
    {
     "name": "stdout",
     "output_type": "stream",
     "text": [
      "ROC-AUC для CatBoost на тестовой выборке: 0.92\n"
     ]
    }
   ],
   "source": [
    "probalities_pred_cat = roc_auc_score(target_test, grid_search_cat.best_estimator_.predict_proba(features_test)[:, 1])\n",
    "print(f'ROC-AUC для CatBoost на тестовой выборке: {probalities_pred_cat:.2f}')"
   ]
  },
  {
   "cell_type": "markdown",
   "id": "4bcab07d",
   "metadata": {},
   "source": [
    "Наилучший результат показывает модель CatBoost со следующими гиперпараметрами: \n",
    "\n",
    "`{'depth': 4, 'iterations': 1000, 'learning_rate': 0.04}`.\n",
    "\n",
    "**Значение ROC AUC на кросс-валидации аналогично показателями, полученным при проверке модели CatBoost на тестовой выборке: 0.92** "
   ]
  }
 ],
 "metadata": {
  "ExecuteTimeLog": [
   {
    "duration": 3957,
    "start_time": "2022-09-21T10:06:31.752Z"
   },
   {
    "duration": 1715,
    "start_time": "2022-09-21T10:06:35.712Z"
   },
   {
    "duration": 353,
    "start_time": "2022-09-21T10:06:37.429Z"
   },
   {
    "duration": 87,
    "start_time": "2022-09-21T10:06:37.785Z"
   },
   {
    "duration": 40,
    "start_time": "2022-09-21T10:06:37.875Z"
   },
   {
    "duration": 13,
    "start_time": "2022-09-21T10:06:39.352Z"
   },
   {
    "duration": 173,
    "start_time": "2022-09-21T10:06:40.247Z"
   },
   {
    "duration": 10,
    "start_time": "2022-09-21T10:06:43.207Z"
   },
   {
    "duration": 5,
    "start_time": "2022-09-21T10:06:43.399Z"
   },
   {
    "duration": 3,
    "start_time": "2022-09-21T10:06:43.772Z"
   },
   {
    "duration": 24,
    "start_time": "2022-09-21T10:06:43.952Z"
   },
   {
    "duration": 8,
    "start_time": "2022-09-21T10:06:44.556Z"
   },
   {
    "duration": 5,
    "start_time": "2022-09-21T10:06:44.731Z"
   },
   {
    "duration": 3,
    "start_time": "2022-09-21T10:06:45.151Z"
   },
   {
    "duration": 3,
    "start_time": "2022-09-21T10:06:46.207Z"
   },
   {
    "duration": 3,
    "start_time": "2022-09-21T10:06:46.632Z"
   },
   {
    "duration": 3,
    "start_time": "2022-09-21T10:06:46.843Z"
   },
   {
    "duration": 2,
    "start_time": "2022-09-21T10:06:47.195Z"
   },
   {
    "duration": 2,
    "start_time": "2022-09-21T10:06:47.616Z"
   },
   {
    "duration": 2,
    "start_time": "2022-09-21T10:06:47.823Z"
   },
   {
    "duration": 4,
    "start_time": "2022-09-21T10:06:48.247Z"
   },
   {
    "duration": 7,
    "start_time": "2022-09-21T10:06:48.470Z"
   },
   {
    "duration": 13,
    "start_time": "2022-09-21T10:06:48.673Z"
   },
   {
    "duration": 22,
    "start_time": "2022-09-21T10:06:49.245Z"
   },
   {
    "duration": 6,
    "start_time": "2022-09-21T10:06:49.450Z"
   },
   {
    "duration": 13,
    "start_time": "2022-09-21T10:06:49.670Z"
   },
   {
    "duration": 6,
    "start_time": "2022-09-21T10:06:51.211Z"
   },
   {
    "duration": 15,
    "start_time": "2022-09-21T10:06:51.711Z"
   },
   {
    "duration": 2,
    "start_time": "2022-09-21T10:06:52.387Z"
   },
   {
    "duration": 3,
    "start_time": "2022-09-21T10:06:52.803Z"
   },
   {
    "duration": 3,
    "start_time": "2022-09-21T10:06:53.191Z"
   },
   {
    "duration": 3,
    "start_time": "2022-09-21T10:06:53.431Z"
   },
   {
    "duration": 13,
    "start_time": "2022-09-21T10:06:54.071Z"
   },
   {
    "duration": 2,
    "start_time": "2022-09-21T10:06:54.290Z"
   },
   {
    "duration": 2,
    "start_time": "2022-09-21T10:06:54.496Z"
   },
   {
    "duration": 2,
    "start_time": "2022-09-21T10:06:54.744Z"
   },
   {
    "duration": 3,
    "start_time": "2022-09-21T10:06:55.170Z"
   },
   {
    "duration": 7,
    "start_time": "2022-09-21T10:06:55.591Z"
   },
   {
    "duration": 4,
    "start_time": "2022-09-21T10:06:55.772Z"
   },
   {
    "duration": 3,
    "start_time": "2022-09-21T10:06:56.083Z"
   },
   {
    "duration": 8,
    "start_time": "2022-09-21T10:06:56.231Z"
   },
   {
    "duration": 28,
    "start_time": "2022-09-21T10:06:56.936Z"
   },
   {
    "duration": 26,
    "start_time": "2022-09-21T10:06:57.471Z"
   },
   {
    "duration": 23,
    "start_time": "2022-09-21T10:06:57.698Z"
   },
   {
    "duration": 7,
    "start_time": "2022-09-21T10:06:58.495Z"
   },
   {
    "duration": 16,
    "start_time": "2022-09-21T10:06:58.898Z"
   },
   {
    "duration": 21,
    "start_time": "2022-09-21T10:06:59.947Z"
   },
   {
    "duration": 18,
    "start_time": "2022-09-21T10:07:01.103Z"
   },
   {
    "duration": 8,
    "start_time": "2022-09-21T10:07:01.852Z"
   },
   {
    "duration": 20,
    "start_time": "2022-09-21T10:07:02.372Z"
   },
   {
    "duration": 217,
    "start_time": "2022-09-21T10:07:03.207Z"
   },
   {
    "duration": 184,
    "start_time": "2022-09-21T10:07:04.943Z"
   },
   {
    "duration": 274,
    "start_time": "2022-09-21T10:07:05.870Z"
   },
   {
    "duration": 145,
    "start_time": "2022-09-21T10:07:06.791Z"
   },
   {
    "duration": 178,
    "start_time": "2022-09-21T10:07:07.645Z"
   },
   {
    "duration": 12,
    "start_time": "2022-09-21T10:07:09.296Z"
   },
   {
    "duration": 7,
    "start_time": "2022-09-21T10:07:11.588Z"
   },
   {
    "duration": 3,
    "start_time": "2022-09-21T10:07:11.877Z"
   },
   {
    "duration": 691,
    "start_time": "2022-09-21T10:07:12.151Z"
   },
   {
    "duration": 2340,
    "start_time": "2022-09-21T10:07:12.844Z"
   },
   {
    "duration": 6,
    "start_time": "2022-09-21T10:07:15.526Z"
   },
   {
    "duration": 23,
    "start_time": "2022-09-21T10:07:16.674Z"
   },
   {
    "duration": 37,
    "start_time": "2022-09-21T10:07:17.111Z"
   },
   {
    "duration": 31,
    "start_time": "2022-09-21T10:07:17.543Z"
   },
   {
    "duration": 6,
    "start_time": "2022-09-21T10:07:17.931Z"
   },
   {
    "duration": 7,
    "start_time": "2022-09-21T10:07:18.283Z"
   },
   {
    "duration": 6,
    "start_time": "2022-09-21T10:07:19.956Z"
   },
   {
    "duration": 16,
    "start_time": "2022-09-21T10:07:20.655Z"
   },
   {
    "duration": 96064,
    "start_time": "2022-09-21T10:07:22.091Z"
   },
   {
    "duration": 14064,
    "start_time": "2022-09-21T10:09:07.891Z"
   },
   {
    "duration": 26,
    "start_time": "2022-09-21T10:09:42.945Z"
   },
   {
    "duration": 142,
    "start_time": "2022-09-21T10:09:56.629Z"
   },
   {
    "duration": 64,
    "start_time": "2022-09-21T10:10:04.907Z"
   },
   {
    "duration": 12,
    "start_time": "2022-09-21T10:12:05.474Z"
   },
   {
    "duration": 62,
    "start_time": "2022-09-21T10:12:27.443Z"
   },
   {
    "duration": 18,
    "start_time": "2022-09-21T10:14:06.099Z"
   },
   {
    "duration": 3689,
    "start_time": "2022-09-21T10:14:33.099Z"
   },
   {
    "duration": 2467,
    "start_time": "2022-09-21T10:15:04.848Z"
   },
   {
    "duration": 6,
    "start_time": "2022-09-21T10:15:46.591Z"
   },
   {
    "duration": 13,
    "start_time": "2022-09-21T10:16:04.091Z"
   },
   {
    "duration": 2343,
    "start_time": "2022-09-21T10:16:24.099Z"
   },
   {
    "duration": 2331,
    "start_time": "2022-09-21T10:16:33.778Z"
   },
   {
    "duration": 6,
    "start_time": "2022-09-21T10:17:02.699Z"
   },
   {
    "duration": 6,
    "start_time": "2022-09-21T10:17:10.099Z"
   },
   {
    "duration": 8,
    "start_time": "2022-09-21T10:17:18.149Z"
   },
   {
    "duration": 13,
    "start_time": "2022-09-21T10:17:38.054Z"
   },
   {
    "duration": 21,
    "start_time": "2022-09-21T10:18:48.657Z"
   },
   {
    "duration": 2951,
    "start_time": "2022-09-21T10:19:28.775Z"
   },
   {
    "duration": 922,
    "start_time": "2022-09-21T10:21:35.540Z"
   },
   {
    "duration": 969,
    "start_time": "2022-09-21T10:21:39.578Z"
   },
   {
    "duration": 5,
    "start_time": "2022-09-21T10:22:16.367Z"
   },
   {
    "duration": 131,
    "start_time": "2022-09-21T10:22:17.064Z"
   },
   {
    "duration": 67,
    "start_time": "2022-09-21T10:22:17.783Z"
   },
   {
    "duration": 33,
    "start_time": "2022-09-21T10:22:19.084Z"
   },
   {
    "duration": 8,
    "start_time": "2022-09-21T10:22:20.855Z"
   },
   {
    "duration": 166,
    "start_time": "2022-09-21T10:22:21.952Z"
   },
   {
    "duration": 9,
    "start_time": "2022-09-21T10:22:26.014Z"
   },
   {
    "duration": 5,
    "start_time": "2022-09-21T10:22:26.259Z"
   },
   {
    "duration": 3,
    "start_time": "2022-09-21T10:22:26.896Z"
   },
   {
    "duration": 24,
    "start_time": "2022-09-21T10:22:27.814Z"
   },
   {
    "duration": 6,
    "start_time": "2022-09-21T10:22:28.836Z"
   },
   {
    "duration": 6,
    "start_time": "2022-09-21T10:22:29.643Z"
   },
   {
    "duration": 3,
    "start_time": "2022-09-21T10:22:30.351Z"
   },
   {
    "duration": 3,
    "start_time": "2022-09-21T10:22:31.679Z"
   },
   {
    "duration": 3,
    "start_time": "2022-09-21T10:22:32.115Z"
   },
   {
    "duration": 3,
    "start_time": "2022-09-21T10:22:32.359Z"
   },
   {
    "duration": 3,
    "start_time": "2022-09-21T10:22:32.791Z"
   },
   {
    "duration": 3,
    "start_time": "2022-09-21T10:22:33.178Z"
   },
   {
    "duration": 2,
    "start_time": "2022-09-21T10:22:33.351Z"
   },
   {
    "duration": 3,
    "start_time": "2022-09-21T10:22:33.771Z"
   },
   {
    "duration": 8,
    "start_time": "2022-09-21T10:22:34.019Z"
   },
   {
    "duration": 13,
    "start_time": "2022-09-21T10:22:34.236Z"
   },
   {
    "duration": 10,
    "start_time": "2022-09-21T10:22:35.503Z"
   },
   {
    "duration": 7,
    "start_time": "2022-09-21T10:22:36.064Z"
   },
   {
    "duration": 17,
    "start_time": "2022-09-21T10:22:36.763Z"
   },
   {
    "duration": 11,
    "start_time": "2022-09-21T10:23:15.315Z"
   },
   {
    "duration": 8,
    "start_time": "2022-09-21T10:23:23.940Z"
   },
   {
    "duration": 7,
    "start_time": "2022-09-21T10:23:31.951Z"
   },
   {
    "duration": 16,
    "start_time": "2022-09-21T10:23:41.364Z"
   },
   {
    "duration": 7,
    "start_time": "2022-09-21T10:23:45.880Z"
   },
   {
    "duration": 6,
    "start_time": "2022-09-21T10:23:56.563Z"
   },
   {
    "duration": 13,
    "start_time": "2022-09-21T10:23:57.859Z"
   },
   {
    "duration": 7,
    "start_time": "2022-09-21T10:24:00.044Z"
   },
   {
    "duration": 17,
    "start_time": "2022-09-21T10:24:00.340Z"
   },
   {
    "duration": 2,
    "start_time": "2022-09-21T10:24:00.860Z"
   },
   {
    "duration": 3,
    "start_time": "2022-09-21T10:24:01.179Z"
   },
   {
    "duration": 4,
    "start_time": "2022-09-21T10:24:01.511Z"
   },
   {
    "duration": 3,
    "start_time": "2022-09-21T10:24:01.759Z"
   },
   {
    "duration": 15,
    "start_time": "2022-09-21T10:24:02.242Z"
   },
   {
    "duration": 3,
    "start_time": "2022-09-21T10:24:02.479Z"
   },
   {
    "duration": 3,
    "start_time": "2022-09-21T10:24:02.699Z"
   },
   {
    "duration": 3,
    "start_time": "2022-09-21T10:24:02.911Z"
   },
   {
    "duration": 3,
    "start_time": "2022-09-21T10:24:03.435Z"
   },
   {
    "duration": 8,
    "start_time": "2022-09-21T10:24:03.934Z"
   },
   {
    "duration": 4,
    "start_time": "2022-09-21T10:24:04.181Z"
   },
   {
    "duration": 3,
    "start_time": "2022-09-21T10:24:04.459Z"
   },
   {
    "duration": 10,
    "start_time": "2022-09-21T10:24:04.711Z"
   },
   {
    "duration": 33,
    "start_time": "2022-09-21T10:24:05.415Z"
   },
   {
    "duration": 18,
    "start_time": "2022-09-21T10:24:05.799Z"
   },
   {
    "duration": 16,
    "start_time": "2022-09-21T10:24:06.011Z"
   },
   {
    "duration": 4,
    "start_time": "2022-09-21T10:24:06.220Z"
   },
   {
    "duration": 10,
    "start_time": "2022-09-21T10:24:06.434Z"
   },
   {
    "duration": 11,
    "start_time": "2022-09-21T10:24:07.063Z"
   },
   {
    "duration": 19,
    "start_time": "2022-09-21T10:24:07.843Z"
   },
   {
    "duration": 5,
    "start_time": "2022-09-21T10:24:08.343Z"
   },
   {
    "duration": 19,
    "start_time": "2022-09-21T10:24:08.759Z"
   },
   {
    "duration": 198,
    "start_time": "2022-09-21T10:24:09.399Z"
   },
   {
    "duration": 191,
    "start_time": "2022-09-21T10:24:10.663Z"
   },
   {
    "duration": 202,
    "start_time": "2022-09-21T10:24:11.259Z"
   },
   {
    "duration": 165,
    "start_time": "2022-09-21T10:24:11.889Z"
   },
   {
    "duration": 271,
    "start_time": "2022-09-21T10:24:12.498Z"
   },
   {
    "duration": 16,
    "start_time": "2022-09-21T10:24:13.380Z"
   },
   {
    "duration": 6,
    "start_time": "2022-09-21T10:24:14.915Z"
   },
   {
    "duration": 3,
    "start_time": "2022-09-21T10:24:15.151Z"
   },
   {
    "duration": 600,
    "start_time": "2022-09-21T10:24:15.399Z"
   },
   {
    "duration": 2136,
    "start_time": "2022-09-21T10:24:16.036Z"
   },
   {
    "duration": 6,
    "start_time": "2022-09-21T10:24:18.175Z"
   },
   {
    "duration": 16,
    "start_time": "2022-09-21T10:24:18.933Z"
   },
   {
    "duration": 26,
    "start_time": "2022-09-21T10:24:19.120Z"
   },
   {
    "duration": 25,
    "start_time": "2022-09-21T10:24:19.319Z"
   },
   {
    "duration": 6,
    "start_time": "2022-09-21T10:24:19.499Z"
   },
   {
    "duration": 8,
    "start_time": "2022-09-21T10:24:19.700Z"
   },
   {
    "duration": 5,
    "start_time": "2022-09-21T10:24:20.534Z"
   },
   {
    "duration": 4,
    "start_time": "2022-09-21T10:24:20.691Z"
   },
   {
    "duration": 35201,
    "start_time": "2022-09-21T10:24:21.154Z"
   },
   {
    "duration": 6003,
    "start_time": "2022-09-21T10:24:56.358Z"
   },
   {
    "duration": 89,
    "start_time": "2022-09-21T10:25:02.366Z"
   },
   {
    "duration": 3235,
    "start_time": "2022-09-21T10:25:17.519Z"
   },
   {
    "duration": 1361,
    "start_time": "2022-09-21T10:26:29.964Z"
   },
   {
    "duration": 1101,
    "start_time": "2022-09-21T10:26:35.103Z"
   },
   {
    "duration": 2352,
    "start_time": "2022-09-21T10:26:50.876Z"
   },
   {
    "duration": 2006,
    "start_time": "2022-09-21T10:26:53.230Z"
   },
   {
    "duration": 111,
    "start_time": "2022-09-21T10:26:55.238Z"
   },
   {
    "duration": 77,
    "start_time": "2022-09-21T10:26:55.352Z"
   },
   {
    "duration": 53,
    "start_time": "2022-09-21T10:26:55.430Z"
   },
   {
    "duration": 7,
    "start_time": "2022-09-21T10:26:56.859Z"
   },
   {
    "duration": 160,
    "start_time": "2022-09-21T10:26:58.236Z"
   },
   {
    "duration": 8,
    "start_time": "2022-09-21T10:27:02.774Z"
   },
   {
    "duration": 4,
    "start_time": "2022-09-21T10:27:03.260Z"
   },
   {
    "duration": 3,
    "start_time": "2022-09-21T10:27:05.375Z"
   },
   {
    "duration": 17,
    "start_time": "2022-09-21T10:27:06.320Z"
   },
   {
    "duration": 6,
    "start_time": "2022-09-21T10:27:07.076Z"
   },
   {
    "duration": 6,
    "start_time": "2022-09-21T10:27:07.252Z"
   },
   {
    "duration": 3,
    "start_time": "2022-09-21T10:27:07.572Z"
   },
   {
    "duration": 3,
    "start_time": "2022-09-21T10:27:08.735Z"
   },
   {
    "duration": 3,
    "start_time": "2022-09-21T10:27:09.042Z"
   },
   {
    "duration": 2,
    "start_time": "2022-09-21T10:27:09.192Z"
   },
   {
    "duration": 2,
    "start_time": "2022-09-21T10:27:09.500Z"
   },
   {
    "duration": 2,
    "start_time": "2022-09-21T10:27:09.780Z"
   },
   {
    "duration": 2,
    "start_time": "2022-09-21T10:27:09.960Z"
   },
   {
    "duration": 7,
    "start_time": "2022-09-21T10:27:10.272Z"
   },
   {
    "duration": 10,
    "start_time": "2022-09-21T10:27:10.420Z"
   },
   {
    "duration": 18,
    "start_time": "2022-09-21T10:27:10.572Z"
   },
   {
    "duration": 12,
    "start_time": "2022-09-21T10:27:11.092Z"
   },
   {
    "duration": 7,
    "start_time": "2022-09-21T10:27:12.040Z"
   },
   {
    "duration": 166,
    "start_time": "2022-09-21T10:27:13.760Z"
   },
   {
    "duration": 5,
    "start_time": "2022-09-21T10:27:49.403Z"
   },
   {
    "duration": 357,
    "start_time": "2022-09-21T10:27:49.939Z"
   },
   {
    "duration": 3164,
    "start_time": "2022-09-21T12:47:54.773Z"
   },
   {
    "duration": 1723,
    "start_time": "2022-09-21T12:47:57.940Z"
   },
   {
    "duration": 370,
    "start_time": "2022-09-21T12:47:59.665Z"
   },
   {
    "duration": 92,
    "start_time": "2022-09-21T12:48:00.037Z"
   },
   {
    "duration": 51,
    "start_time": "2022-09-21T12:48:00.132Z"
   },
   {
    "duration": 6,
    "start_time": "2022-09-21T12:48:00.185Z"
   },
   {
    "duration": 168,
    "start_time": "2022-09-21T12:48:00.193Z"
   },
   {
    "duration": 17,
    "start_time": "2022-09-21T12:48:00.363Z"
   },
   {
    "duration": 27,
    "start_time": "2022-09-21T12:48:00.387Z"
   },
   {
    "duration": 18,
    "start_time": "2022-09-21T12:48:00.416Z"
   },
   {
    "duration": 46,
    "start_time": "2022-09-21T12:48:00.436Z"
   },
   {
    "duration": 39,
    "start_time": "2022-09-21T12:48:00.484Z"
   },
   {
    "duration": 11,
    "start_time": "2022-09-21T12:48:00.526Z"
   },
   {
    "duration": 14,
    "start_time": "2022-09-21T12:48:00.541Z"
   },
   {
    "duration": 45,
    "start_time": "2022-09-21T12:48:00.557Z"
   },
   {
    "duration": 34,
    "start_time": "2022-09-21T12:48:00.604Z"
   },
   {
    "duration": 30,
    "start_time": "2022-09-21T12:48:00.641Z"
   },
   {
    "duration": 42,
    "start_time": "2022-09-21T12:48:00.673Z"
   },
   {
    "duration": 25,
    "start_time": "2022-09-21T12:48:00.718Z"
   },
   {
    "duration": 23,
    "start_time": "2022-09-21T12:48:00.745Z"
   },
   {
    "duration": 41,
    "start_time": "2022-09-21T12:48:00.770Z"
   },
   {
    "duration": 44,
    "start_time": "2022-09-21T12:48:00.813Z"
   },
   {
    "duration": 60,
    "start_time": "2022-09-21T12:48:00.860Z"
   },
   {
    "duration": 28,
    "start_time": "2022-09-21T12:48:00.922Z"
   },
   {
    "duration": 57,
    "start_time": "2022-09-21T12:48:00.952Z"
   },
   {
    "duration": 330,
    "start_time": "2022-09-21T12:48:01.011Z"
   },
   {
    "duration": 17,
    "start_time": "2022-09-21T12:48:01.343Z"
   },
   {
    "duration": 48,
    "start_time": "2022-09-21T12:48:01.362Z"
   },
   {
    "duration": 35,
    "start_time": "2022-09-21T12:48:01.412Z"
   },
   {
    "duration": 61,
    "start_time": "2022-09-21T12:48:01.448Z"
   },
   {
    "duration": 37,
    "start_time": "2022-09-21T12:48:01.510Z"
   },
   {
    "duration": 21,
    "start_time": "2022-09-21T12:48:01.549Z"
   },
   {
    "duration": 59,
    "start_time": "2022-09-21T12:48:01.572Z"
   },
   {
    "duration": 31,
    "start_time": "2022-09-21T12:48:01.632Z"
   },
   {
    "duration": 35,
    "start_time": "2022-09-21T12:48:01.665Z"
   },
   {
    "duration": 11,
    "start_time": "2022-09-21T12:48:01.703Z"
   },
   {
    "duration": 19,
    "start_time": "2022-09-21T12:48:01.716Z"
   },
   {
    "duration": 20,
    "start_time": "2022-09-21T12:48:01.738Z"
   },
   {
    "duration": 19,
    "start_time": "2022-09-21T12:48:01.760Z"
   },
   {
    "duration": 28,
    "start_time": "2022-09-21T12:48:01.786Z"
   },
   {
    "duration": 4,
    "start_time": "2022-09-21T12:48:01.890Z"
   },
   {
    "duration": 20,
    "start_time": "2022-09-21T12:48:01.900Z"
   },
   {
    "duration": 58,
    "start_time": "2022-09-21T12:48:01.922Z"
   },
   {
    "duration": 23,
    "start_time": "2022-09-21T12:48:01.982Z"
   },
   {
    "duration": 30,
    "start_time": "2022-09-21T12:48:02.007Z"
   },
   {
    "duration": 28,
    "start_time": "2022-09-21T12:48:02.039Z"
   },
   {
    "duration": 40,
    "start_time": "2022-09-21T12:48:02.069Z"
   },
   {
    "duration": 27,
    "start_time": "2022-09-21T12:48:02.111Z"
   },
   {
    "duration": 18,
    "start_time": "2022-09-21T12:48:02.140Z"
   },
   {
    "duration": 7,
    "start_time": "2022-09-21T12:48:02.161Z"
   },
   {
    "duration": 50,
    "start_time": "2022-09-21T12:48:02.169Z"
   },
   {
    "duration": 231,
    "start_time": "2022-09-21T12:48:02.221Z"
   },
   {
    "duration": 237,
    "start_time": "2022-09-21T12:48:02.455Z"
   },
   {
    "duration": 195,
    "start_time": "2022-09-21T12:48:02.694Z"
   },
   {
    "duration": 168,
    "start_time": "2022-09-21T12:48:02.894Z"
   },
   {
    "duration": 201,
    "start_time": "2022-09-21T12:48:03.064Z"
   },
   {
    "duration": 26,
    "start_time": "2022-09-21T12:48:03.267Z"
   },
   {
    "duration": 21,
    "start_time": "2022-09-21T12:48:03.295Z"
   },
   {
    "duration": 12,
    "start_time": "2022-09-21T12:48:03.319Z"
   },
   {
    "duration": 579,
    "start_time": "2022-09-21T12:48:03.334Z"
   },
   {
    "duration": 2458,
    "start_time": "2022-09-21T12:48:03.915Z"
   },
   {
    "duration": 6,
    "start_time": "2022-09-21T12:48:06.375Z"
   },
   {
    "duration": 45,
    "start_time": "2022-09-21T12:48:06.383Z"
   },
   {
    "duration": 25,
    "start_time": "2022-09-21T12:48:06.431Z"
   },
   {
    "duration": 19,
    "start_time": "2022-09-21T12:48:06.457Z"
   },
   {
    "duration": 12,
    "start_time": "2022-09-21T12:48:06.479Z"
   },
   {
    "duration": 22,
    "start_time": "2022-09-21T12:48:06.493Z"
   },
   {
    "duration": 8,
    "start_time": "2022-09-21T12:48:06.517Z"
   },
   {
    "duration": 10,
    "start_time": "2022-09-21T12:48:06.527Z"
   },
   {
    "duration": 69739,
    "start_time": "2022-09-21T12:48:06.539Z"
   },
   {
    "duration": 9099,
    "start_time": "2022-09-21T12:49:16.284Z"
   },
   {
    "duration": 4,
    "start_time": "2022-09-21T12:49:25.389Z"
   },
   {
    "duration": 94,
    "start_time": "2022-09-21T12:49:25.396Z"
   },
   {
    "duration": 62656,
    "start_time": "2022-09-21T12:49:25.494Z"
   },
   {
    "duration": 1431,
    "start_time": "2022-09-21T12:50:28.152Z"
   },
   {
    "duration": 3,
    "start_time": "2022-09-21T12:50:29.585Z"
   },
   {
    "duration": 316926,
    "start_time": "2022-09-21T12:50:29.590Z"
   },
   {
    "duration": 11131,
    "start_time": "2022-09-21T12:55:46.517Z"
   },
   {
    "duration": 3,
    "start_time": "2022-09-21T12:55:57.650Z"
   },
   {
    "duration": 21,
    "start_time": "2022-09-21T12:55:57.655Z"
   },
   {
    "duration": 2115,
    "start_time": "2022-09-21T13:11:49.940Z"
   },
   {
    "duration": 1451,
    "start_time": "2022-09-21T13:11:52.057Z"
   },
   {
    "duration": 109,
    "start_time": "2022-09-21T13:11:53.510Z"
   },
   {
    "duration": 97,
    "start_time": "2022-09-21T13:11:53.621Z"
   },
   {
    "duration": 57,
    "start_time": "2022-09-21T13:11:53.720Z"
   },
   {
    "duration": 7,
    "start_time": "2022-09-21T13:11:53.779Z"
   },
   {
    "duration": 185,
    "start_time": "2022-09-21T13:11:53.788Z"
   },
   {
    "duration": 7,
    "start_time": "2022-09-21T13:11:53.975Z"
   },
   {
    "duration": 6,
    "start_time": "2022-09-21T13:11:53.984Z"
   },
   {
    "duration": 4,
    "start_time": "2022-09-21T13:11:53.993Z"
   },
   {
    "duration": 18,
    "start_time": "2022-09-21T13:11:53.999Z"
   },
   {
    "duration": 7,
    "start_time": "2022-09-21T13:11:54.019Z"
   },
   {
    "duration": 6,
    "start_time": "2022-09-21T13:11:54.028Z"
   },
   {
    "duration": 5,
    "start_time": "2022-09-21T13:11:54.035Z"
   },
   {
    "duration": 2,
    "start_time": "2022-09-21T13:11:54.077Z"
   },
   {
    "duration": 6,
    "start_time": "2022-09-21T13:11:54.081Z"
   },
   {
    "duration": 5,
    "start_time": "2022-09-21T13:11:54.089Z"
   },
   {
    "duration": 5,
    "start_time": "2022-09-21T13:11:54.096Z"
   },
   {
    "duration": 5,
    "start_time": "2022-09-21T13:11:54.103Z"
   },
   {
    "duration": 4,
    "start_time": "2022-09-21T13:11:54.110Z"
   },
   {
    "duration": 6,
    "start_time": "2022-09-21T13:11:54.116Z"
   },
   {
    "duration": 11,
    "start_time": "2022-09-21T13:11:54.124Z"
   },
   {
    "duration": 18,
    "start_time": "2022-09-21T13:11:54.177Z"
   },
   {
    "duration": 12,
    "start_time": "2022-09-21T13:11:54.197Z"
   },
   {
    "duration": 5,
    "start_time": "2022-09-21T13:11:54.211Z"
   },
   {
    "duration": 293,
    "start_time": "2022-09-21T13:11:54.218Z"
   },
   {
    "duration": 14,
    "start_time": "2022-09-21T13:11:54.514Z"
   },
   {
    "duration": 124,
    "start_time": "2022-09-21T13:11:54.536Z"
   },
   {
    "duration": 22,
    "start_time": "2022-09-21T13:11:54.662Z"
   },
   {
    "duration": 3,
    "start_time": "2022-09-21T13:11:54.686Z"
   },
   {
    "duration": 8,
    "start_time": "2022-09-21T13:11:54.691Z"
   },
   {
    "duration": 6,
    "start_time": "2022-09-21T13:11:54.701Z"
   },
   {
    "duration": 10,
    "start_time": "2022-09-21T13:11:54.709Z"
   },
   {
    "duration": 21,
    "start_time": "2022-09-21T13:11:54.721Z"
   },
   {
    "duration": 3,
    "start_time": "2022-09-21T13:11:54.743Z"
   },
   {
    "duration": 29,
    "start_time": "2022-09-21T13:11:54.748Z"
   },
   {
    "duration": 5,
    "start_time": "2022-09-21T13:11:54.779Z"
   },
   {
    "duration": 7,
    "start_time": "2022-09-21T13:11:54.785Z"
   },
   {
    "duration": 9,
    "start_time": "2022-09-21T13:11:54.794Z"
   },
   {
    "duration": 5,
    "start_time": "2022-09-21T13:11:54.805Z"
   },
   {
    "duration": 9,
    "start_time": "2022-09-21T13:11:54.812Z"
   },
   {
    "duration": 11,
    "start_time": "2022-09-21T13:11:54.824Z"
   },
   {
    "duration": 58,
    "start_time": "2022-09-21T13:11:54.837Z"
   },
   {
    "duration": 21,
    "start_time": "2022-09-21T13:11:54.898Z"
   },
   {
    "duration": 18,
    "start_time": "2022-09-21T13:11:54.922Z"
   },
   {
    "duration": 7,
    "start_time": "2022-09-21T13:11:54.943Z"
   },
   {
    "duration": 13,
    "start_time": "2022-09-21T13:11:54.977Z"
   },
   {
    "duration": 12,
    "start_time": "2022-09-21T13:11:54.992Z"
   },
   {
    "duration": 19,
    "start_time": "2022-09-21T13:11:55.006Z"
   },
   {
    "duration": 5,
    "start_time": "2022-09-21T13:11:55.027Z"
   },
   {
    "duration": 51,
    "start_time": "2022-09-21T13:11:55.034Z"
   },
   {
    "duration": 200,
    "start_time": "2022-09-21T13:11:55.087Z"
   },
   {
    "duration": 228,
    "start_time": "2022-09-21T13:11:55.288Z"
   },
   {
    "duration": 190,
    "start_time": "2022-09-21T13:11:55.519Z"
   },
   {
    "duration": 141,
    "start_time": "2022-09-21T13:11:55.711Z"
   },
   {
    "duration": 177,
    "start_time": "2022-09-21T13:11:55.854Z"
   },
   {
    "duration": 12,
    "start_time": "2022-09-21T13:11:56.032Z"
   },
   {
    "duration": 4,
    "start_time": "2022-09-21T13:11:56.046Z"
   },
   {
    "duration": 25,
    "start_time": "2022-09-21T13:11:56.052Z"
   },
   {
    "duration": 557,
    "start_time": "2022-09-21T13:11:56.079Z"
   },
   {
    "duration": 2162,
    "start_time": "2022-09-21T13:11:56.638Z"
   },
   {
    "duration": 4,
    "start_time": "2022-09-21T13:11:58.802Z"
   },
   {
    "duration": 16,
    "start_time": "2022-09-21T13:11:58.808Z"
   },
   {
    "duration": 26,
    "start_time": "2022-09-21T13:11:58.826Z"
   },
   {
    "duration": 27,
    "start_time": "2022-09-21T13:11:58.854Z"
   },
   {
    "duration": 5,
    "start_time": "2022-09-21T13:11:58.884Z"
   },
   {
    "duration": 10,
    "start_time": "2022-09-21T13:11:58.891Z"
   },
   {
    "duration": 5,
    "start_time": "2022-09-21T13:11:58.903Z"
   },
   {
    "duration": 6,
    "start_time": "2022-09-21T13:11:58.910Z"
   },
   {
    "duration": 35565,
    "start_time": "2022-09-21T13:11:58.918Z"
   },
   {
    "duration": 4503,
    "start_time": "2022-09-21T13:12:34.485Z"
   },
   {
    "duration": 90,
    "start_time": "2022-09-21T13:12:38.991Z"
   },
   {
    "duration": 92,
    "start_time": "2022-09-21T13:12:39.086Z"
   },
   {
    "duration": 61813,
    "start_time": "2022-09-21T13:12:39.180Z"
   },
   {
    "duration": 1566,
    "start_time": "2022-09-21T13:13:40.995Z"
   },
   {
    "duration": 3,
    "start_time": "2022-09-21T13:13:42.563Z"
   },
   {
    "duration": 324854,
    "start_time": "2022-09-21T13:13:42.576Z"
   },
   {
    "duration": 9991,
    "start_time": "2022-09-21T13:19:07.432Z"
   },
   {
    "duration": 2,
    "start_time": "2022-09-21T13:19:17.425Z"
   },
   {
    "duration": 11,
    "start_time": "2022-09-21T13:19:17.429Z"
   },
   {
    "duration": 2092,
    "start_time": "2022-09-21T13:19:58.692Z"
   },
   {
    "duration": 1558,
    "start_time": "2022-09-21T13:20:00.788Z"
   },
   {
    "duration": 113,
    "start_time": "2022-09-21T13:20:02.348Z"
   },
   {
    "duration": 68,
    "start_time": "2022-09-21T13:20:02.463Z"
   },
   {
    "duration": 55,
    "start_time": "2022-09-21T13:20:02.533Z"
   },
   {
    "duration": 7,
    "start_time": "2022-09-21T13:20:02.593Z"
   },
   {
    "duration": 181,
    "start_time": "2022-09-21T13:20:02.603Z"
   },
   {
    "duration": 10,
    "start_time": "2022-09-21T13:20:02.785Z"
   },
   {
    "duration": 7,
    "start_time": "2022-09-21T13:20:02.797Z"
   },
   {
    "duration": 5,
    "start_time": "2022-09-21T13:20:02.807Z"
   },
   {
    "duration": 17,
    "start_time": "2022-09-21T13:20:02.814Z"
   },
   {
    "duration": 5,
    "start_time": "2022-09-21T13:20:02.832Z"
   },
   {
    "duration": 6,
    "start_time": "2022-09-21T13:20:02.839Z"
   },
   {
    "duration": 5,
    "start_time": "2022-09-21T13:20:02.846Z"
   },
   {
    "duration": 6,
    "start_time": "2022-09-21T13:20:02.852Z"
   },
   {
    "duration": 5,
    "start_time": "2022-09-21T13:20:02.879Z"
   },
   {
    "duration": 15,
    "start_time": "2022-09-21T13:20:02.886Z"
   },
   {
    "duration": 13,
    "start_time": "2022-09-21T13:20:02.902Z"
   },
   {
    "duration": 12,
    "start_time": "2022-09-21T13:20:02.916Z"
   },
   {
    "duration": 9,
    "start_time": "2022-09-21T13:20:02.930Z"
   },
   {
    "duration": 5,
    "start_time": "2022-09-21T13:20:02.941Z"
   },
   {
    "duration": 17,
    "start_time": "2022-09-21T13:20:02.947Z"
   },
   {
    "duration": 20,
    "start_time": "2022-09-21T13:20:02.966Z"
   },
   {
    "duration": 18,
    "start_time": "2022-09-21T13:20:02.987Z"
   },
   {
    "duration": 12,
    "start_time": "2022-09-21T13:20:03.006Z"
   },
   {
    "duration": 493,
    "start_time": "2022-09-21T13:20:03.020Z"
   },
   {
    "duration": 15,
    "start_time": "2022-09-21T13:20:03.515Z"
   },
   {
    "duration": 133,
    "start_time": "2022-09-21T13:20:03.579Z"
   },
   {
    "duration": 65,
    "start_time": "2022-09-21T13:20:03.713Z"
   },
   {
    "duration": 16,
    "start_time": "2022-09-21T13:20:03.780Z"
   },
   {
    "duration": 14,
    "start_time": "2022-09-21T13:20:03.798Z"
   },
   {
    "duration": 12,
    "start_time": "2022-09-21T13:20:03.814Z"
   },
   {
    "duration": 6,
    "start_time": "2022-09-21T13:20:03.827Z"
   },
   {
    "duration": 55,
    "start_time": "2022-09-21T13:20:03.834Z"
   },
   {
    "duration": 7,
    "start_time": "2022-09-21T13:20:03.895Z"
   },
   {
    "duration": 5,
    "start_time": "2022-09-21T13:20:03.904Z"
   },
   {
    "duration": 6,
    "start_time": "2022-09-21T13:20:03.910Z"
   },
   {
    "duration": 6,
    "start_time": "2022-09-21T13:20:03.917Z"
   },
   {
    "duration": 9,
    "start_time": "2022-09-21T13:20:03.924Z"
   },
   {
    "duration": 3,
    "start_time": "2022-09-21T13:20:03.977Z"
   },
   {
    "duration": 19,
    "start_time": "2022-09-21T13:20:03.983Z"
   },
   {
    "duration": 12,
    "start_time": "2022-09-21T13:20:04.003Z"
   },
   {
    "duration": 72,
    "start_time": "2022-09-21T13:20:04.017Z"
   },
   {
    "duration": 18,
    "start_time": "2022-09-21T13:20:04.091Z"
   },
   {
    "duration": 14,
    "start_time": "2022-09-21T13:20:04.110Z"
   },
   {
    "duration": 10,
    "start_time": "2022-09-21T13:20:04.178Z"
   },
   {
    "duration": 22,
    "start_time": "2022-09-21T13:20:04.190Z"
   },
   {
    "duration": 65,
    "start_time": "2022-09-21T13:20:04.214Z"
   },
   {
    "duration": 25,
    "start_time": "2022-09-21T13:20:04.281Z"
   },
   {
    "duration": 5,
    "start_time": "2022-09-21T13:20:04.308Z"
   },
   {
    "duration": 78,
    "start_time": "2022-09-21T13:20:04.315Z"
   },
   {
    "duration": 418,
    "start_time": "2022-09-21T13:20:04.395Z"
   },
   {
    "duration": 412,
    "start_time": "2022-09-21T13:20:04.815Z"
   },
   {
    "duration": 323,
    "start_time": "2022-09-21T13:20:05.278Z"
   },
   {
    "duration": 148,
    "start_time": "2022-09-21T13:20:05.604Z"
   },
   {
    "duration": 181,
    "start_time": "2022-09-21T13:20:05.754Z"
   },
   {
    "duration": 10,
    "start_time": "2022-09-21T13:20:05.937Z"
   },
   {
    "duration": 4,
    "start_time": "2022-09-21T13:20:05.949Z"
   },
   {
    "duration": 10,
    "start_time": "2022-09-21T13:20:05.955Z"
   },
   {
    "duration": 634,
    "start_time": "2022-09-21T13:20:05.979Z"
   },
   {
    "duration": 2377,
    "start_time": "2022-09-21T13:20:06.615Z"
   },
   {
    "duration": 5,
    "start_time": "2022-09-21T13:20:08.995Z"
   },
   {
    "duration": 43,
    "start_time": "2022-09-21T13:20:09.001Z"
   },
   {
    "duration": 45,
    "start_time": "2022-09-21T13:20:09.046Z"
   },
   {
    "duration": 21,
    "start_time": "2022-09-21T13:20:09.093Z"
   },
   {
    "duration": 4,
    "start_time": "2022-09-21T13:20:09.116Z"
   },
   {
    "duration": 16,
    "start_time": "2022-09-21T13:20:09.122Z"
   },
   {
    "duration": 13,
    "start_time": "2022-09-21T13:20:09.140Z"
   },
   {
    "duration": 25,
    "start_time": "2022-09-21T13:20:09.154Z"
   },
   {
    "duration": 95605,
    "start_time": "2022-09-21T13:20:09.181Z"
   },
   {
    "duration": 14496,
    "start_time": "2022-09-21T13:21:44.792Z"
   },
   {
    "duration": 4,
    "start_time": "2022-09-21T13:21:59.293Z"
   },
   {
    "duration": 96,
    "start_time": "2022-09-21T13:21:59.303Z"
   },
   {
    "duration": 68937,
    "start_time": "2022-09-21T13:21:59.401Z"
   },
   {
    "duration": 1506,
    "start_time": "2022-09-21T13:23:08.341Z"
   },
   {
    "duration": 2,
    "start_time": "2022-09-21T13:23:09.850Z"
   },
   {
    "duration": 293066,
    "start_time": "2022-09-21T13:23:09.853Z"
   },
   {
    "duration": 14047,
    "start_time": "2022-09-21T13:28:02.920Z"
   },
   {
    "duration": 3,
    "start_time": "2022-09-21T13:28:16.968Z"
   },
   {
    "duration": 20,
    "start_time": "2022-09-21T13:28:16.972Z"
   },
   {
    "duration": 2784,
    "start_time": "2022-09-23T11:38:19.800Z"
   },
   {
    "duration": 1801,
    "start_time": "2022-09-23T11:38:24.256Z"
   },
   {
    "duration": 104,
    "start_time": "2022-09-23T11:38:26.952Z"
   },
   {
    "duration": 55,
    "start_time": "2022-09-23T11:38:29.676Z"
   },
   {
    "duration": 28,
    "start_time": "2022-09-23T11:41:06.760Z"
   },
   {
    "duration": 6,
    "start_time": "2022-09-23T11:41:09.025Z"
   },
   {
    "duration": 146,
    "start_time": "2022-09-23T11:41:10.500Z"
   },
   {
    "duration": 6,
    "start_time": "2022-09-23T11:41:15.472Z"
   },
   {
    "duration": 4,
    "start_time": "2022-09-23T11:41:16.060Z"
   },
   {
    "duration": 3,
    "start_time": "2022-09-23T11:41:17.372Z"
   },
   {
    "duration": 14,
    "start_time": "2022-09-23T11:41:19.088Z"
   },
   {
    "duration": 6,
    "start_time": "2022-09-23T11:41:20.401Z"
   },
   {
    "duration": 5,
    "start_time": "2022-09-23T11:41:20.860Z"
   },
   {
    "duration": 3,
    "start_time": "2022-09-23T11:41:23.688Z"
   },
   {
    "duration": 6,
    "start_time": "2022-09-23T11:41:24.180Z"
   },
   {
    "duration": 13,
    "start_time": "2022-09-23T11:41:24.652Z"
   },
   {
    "duration": 7,
    "start_time": "2022-09-23T11:41:25.936Z"
   },
   {
    "duration": 131,
    "start_time": "2022-09-23T11:41:26.569Z"
   },
   {
    "duration": 4,
    "start_time": "2022-09-23T11:41:27.996Z"
   },
   {
    "duration": 113,
    "start_time": "2022-09-23T11:47:58.756Z"
   }
  ],
  "kernelspec": {
   "display_name": "Python 3 (ipykernel)",
   "language": "python",
   "name": "python3"
  },
  "language_info": {
   "codemirror_mode": {
    "name": "ipython",
    "version": 3
   },
   "file_extension": ".py",
   "mimetype": "text/x-python",
   "name": "python",
   "nbconvert_exporter": "python",
   "pygments_lexer": "ipython3",
   "version": "3.9.7"
  },
  "toc": {
   "base_numbering": 1,
   "nav_menu": {},
   "number_sections": true,
   "sideBar": true,
   "skip_h1_title": true,
   "title_cell": "Table of Contents",
   "title_sidebar": "Contents",
   "toc_cell": true,
   "toc_position": {
    "height": "calc(100% - 180px)",
    "left": "10px",
    "top": "150px",
    "width": "222px"
   },
   "toc_section_display": true,
   "toc_window_display": true
  }
 },
 "nbformat": 4,
 "nbformat_minor": 5
}
