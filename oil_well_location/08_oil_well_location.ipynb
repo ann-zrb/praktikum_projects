{
 "cells": [
  {
   "cell_type": "markdown",
   "id": "5ed5be75",
   "metadata": {
    "toc": true
   },
   "source": [
    "<h1>Table of Contents<span class=\"tocSkip\"></span></h1>\n",
    "<div class=\"toc\"><ul class=\"toc-item\"><li><span><a href=\"#Загрузка-и-подготовка-данных\" data-toc-modified-id=\"Загрузка-и-подготовка-данных-1\"><span class=\"toc-item-num\">1&nbsp;&nbsp;</span>Загрузка и подготовка данных</a></span></li><li><span><a href=\"#Обучение-и-проверка-модели\" data-toc-modified-id=\"Обучение-и-проверка-модели-2\"><span class=\"toc-item-num\">2&nbsp;&nbsp;</span>Обучение и проверка модели</a></span></li><li><span><a href=\"#Подготовка-к-расчёту-прибыли\" data-toc-modified-id=\"Подготовка-к-расчёту-прибыли-3\"><span class=\"toc-item-num\">3&nbsp;&nbsp;</span>Подготовка к расчёту прибыли</a></span></li><li><span><a href=\"#Расчёт-прибыли-и-рисков\" data-toc-modified-id=\"Расчёт-прибыли-и-рисков-4\"><span class=\"toc-item-num\">4&nbsp;&nbsp;</span>Расчёт прибыли и рисков</a></span></li><li><span><a href=\"#Вывод\" data-toc-modified-id=\"Вывод-5\"><span class=\"toc-item-num\">5&nbsp;&nbsp;</span>Вывод</a></span></li></ul></div>"
   ]
  },
  {
   "cell_type": "markdown",
   "id": "c3ff5aef",
   "metadata": {},
   "source": [
    "## Загрузка и подготовка данных"
   ]
  },
  {
   "cell_type": "markdown",
   "id": "e6718130",
   "metadata": {},
   "source": [
    "Начнем исследование с общего обзора данных. Для этого сразу импортируем всё, что необходимо для исследования. "
   ]
  },
  {
   "cell_type": "code",
   "execution_count": 1,
   "id": "49dfab99",
   "metadata": {},
   "outputs": [],
   "source": [
    "import pandas as pd\n",
    "import numpy as np\n",
    "import matplotlib.pyplot as plt \n",
    "import itertools\n",
    "from sklearn.model_selection import train_test_split\n",
    "from sklearn.linear_model import LinearRegression\n",
    "from sklearn.preprocessing import StandardScaler\n",
    "from sklearn.metrics import mean_squared_error\n",
    "from numpy.random import RandomState\n",
    "from scipy import stats as st"
   ]
  },
  {
   "cell_type": "markdown",
   "id": "2e84742b",
   "metadata": {},
   "source": [
    "Прочитаем файлы. Т.к. проект выполняется локально, а не на платформе, используем конструкцию try-except, чтобы избежать ошибки: "
   ]
  },
  {
   "cell_type": "code",
   "execution_count": 2,
   "id": "4cb7d671",
   "metadata": {},
   "outputs": [],
   "source": [
    "try:\n",
    "    data_0 = pd.read_csv('C:/Users/freak/Desktop/Python/ML_oil_extraction_project/geo_data_0.csv')\n",
    "    data_1 = pd.read_csv('C:/Users/freak/Desktop/Python/ML_oil_extraction_project/geo_data_1.csv')\n",
    "    data_2 = pd.read_csv('C:/Users/freak/Desktop/Python/ML_oil_extraction_project/geo_data_2.csv')\n",
    "except: \n",
    "    data_0 = pd.read_csv('/datasets/geo_data_0.csv')\n",
    "    data_1 = pd.read_csv('/datasets/geo_data_1.csv')\n",
    "    data_2 = pd.read_csv('/datasets/geo_data_2.csv')"
   ]
  },
  {
   "cell_type": "markdown",
   "id": "470e80ac",
   "metadata": {},
   "source": [
    "Получим общую информацию о датасетах: "
   ]
  },
  {
   "cell_type": "code",
   "execution_count": 3,
   "id": "24a9bd22",
   "metadata": {},
   "outputs": [
    {
     "name": "stdout",
     "output_type": "stream",
     "text": [
      "<class 'pandas.core.frame.DataFrame'>\n",
      "RangeIndex: 100000 entries, 0 to 99999\n",
      "Data columns (total 5 columns):\n",
      " #   Column   Non-Null Count   Dtype  \n",
      "---  ------   --------------   -----  \n",
      " 0   id       100000 non-null  object \n",
      " 1   f0       100000 non-null  float64\n",
      " 2   f1       100000 non-null  float64\n",
      " 3   f2       100000 non-null  float64\n",
      " 4   product  100000 non-null  float64\n",
      "dtypes: float64(4), object(1)\n",
      "memory usage: 3.8+ MB\n",
      "None\n",
      "\n",
      "<class 'pandas.core.frame.DataFrame'>\n",
      "RangeIndex: 100000 entries, 0 to 99999\n",
      "Data columns (total 5 columns):\n",
      " #   Column   Non-Null Count   Dtype  \n",
      "---  ------   --------------   -----  \n",
      " 0   id       100000 non-null  object \n",
      " 1   f0       100000 non-null  float64\n",
      " 2   f1       100000 non-null  float64\n",
      " 3   f2       100000 non-null  float64\n",
      " 4   product  100000 non-null  float64\n",
      "dtypes: float64(4), object(1)\n",
      "memory usage: 3.8+ MB\n",
      "None\n",
      "\n",
      "<class 'pandas.core.frame.DataFrame'>\n",
      "RangeIndex: 100000 entries, 0 to 99999\n",
      "Data columns (total 5 columns):\n",
      " #   Column   Non-Null Count   Dtype  \n",
      "---  ------   --------------   -----  \n",
      " 0   id       100000 non-null  object \n",
      " 1   f0       100000 non-null  float64\n",
      " 2   f1       100000 non-null  float64\n",
      " 3   f2       100000 non-null  float64\n",
      " 4   product  100000 non-null  float64\n",
      "dtypes: float64(4), object(1)\n",
      "memory usage: 3.8+ MB\n",
      "None\n",
      "\n"
     ]
    }
   ],
   "source": [
    "for data in [data_0, data_1, data_2]: \n",
    "    print(data.info(), end='\\n\\n')"
   ]
  },
  {
   "cell_type": "markdown",
   "id": "66495c41",
   "metadata": {},
   "source": [
    "Можно заметить отсутствие пропусков в датасетах."
   ]
  },
  {
   "cell_type": "markdown",
   "id": "37b03515",
   "metadata": {},
   "source": [
    "Проверим наличие дубликатов: "
   ]
  },
  {
   "cell_type": "code",
   "execution_count": 4,
   "id": "fa9eb6fe",
   "metadata": {},
   "outputs": [
    {
     "name": "stdout",
     "output_type": "stream",
     "text": [
      "Кол-во дубликатов: 0\n",
      "\n",
      "Кол-во дубликатов: 0\n",
      "\n",
      "Кол-во дубликатов: 0\n",
      "\n"
     ]
    }
   ],
   "source": [
    "for data in [data_0, data_1, data_2]: \n",
    "    print('Кол-во дубликатов:', data.duplicated().sum(), end='\\n\\n')"
   ]
  },
  {
   "cell_type": "markdown",
   "id": "65b038f4",
   "metadata": {},
   "source": [
    "Ознакомимся с форматом таблиц: "
   ]
  },
  {
   "cell_type": "code",
   "execution_count": 5,
   "id": "c048343d",
   "metadata": {},
   "outputs": [
    {
     "data": {
      "text/html": [
       "<div>\n",
       "<style scoped>\n",
       "    .dataframe tbody tr th:only-of-type {\n",
       "        vertical-align: middle;\n",
       "    }\n",
       "\n",
       "    .dataframe tbody tr th {\n",
       "        vertical-align: top;\n",
       "    }\n",
       "\n",
       "    .dataframe thead th {\n",
       "        text-align: right;\n",
       "    }\n",
       "</style>\n",
       "<table border=\"1\" class=\"dataframe\">\n",
       "  <thead>\n",
       "    <tr style=\"text-align: right;\">\n",
       "      <th></th>\n",
       "      <th>id</th>\n",
       "      <th>f0</th>\n",
       "      <th>f1</th>\n",
       "      <th>f2</th>\n",
       "      <th>product</th>\n",
       "    </tr>\n",
       "  </thead>\n",
       "  <tbody>\n",
       "    <tr>\n",
       "      <th>0</th>\n",
       "      <td>txEyH</td>\n",
       "      <td>0.705745</td>\n",
       "      <td>-0.497823</td>\n",
       "      <td>1.221170</td>\n",
       "      <td>105.280062</td>\n",
       "    </tr>\n",
       "    <tr>\n",
       "      <th>1</th>\n",
       "      <td>2acmU</td>\n",
       "      <td>1.334711</td>\n",
       "      <td>-0.340164</td>\n",
       "      <td>4.365080</td>\n",
       "      <td>73.037750</td>\n",
       "    </tr>\n",
       "    <tr>\n",
       "      <th>2</th>\n",
       "      <td>409Wp</td>\n",
       "      <td>1.022732</td>\n",
       "      <td>0.151990</td>\n",
       "      <td>1.419926</td>\n",
       "      <td>85.265647</td>\n",
       "    </tr>\n",
       "    <tr>\n",
       "      <th>3</th>\n",
       "      <td>iJLyR</td>\n",
       "      <td>-0.032172</td>\n",
       "      <td>0.139033</td>\n",
       "      <td>2.978566</td>\n",
       "      <td>168.620776</td>\n",
       "    </tr>\n",
       "    <tr>\n",
       "      <th>4</th>\n",
       "      <td>Xdl7t</td>\n",
       "      <td>1.988431</td>\n",
       "      <td>0.155413</td>\n",
       "      <td>4.751769</td>\n",
       "      <td>154.036647</td>\n",
       "    </tr>\n",
       "  </tbody>\n",
       "</table>\n",
       "</div>"
      ],
      "text/plain": [
       "      id        f0        f1        f2     product\n",
       "0  txEyH  0.705745 -0.497823  1.221170  105.280062\n",
       "1  2acmU  1.334711 -0.340164  4.365080   73.037750\n",
       "2  409Wp  1.022732  0.151990  1.419926   85.265647\n",
       "3  iJLyR -0.032172  0.139033  2.978566  168.620776\n",
       "4  Xdl7t  1.988431  0.155413  4.751769  154.036647"
      ]
     },
     "execution_count": 5,
     "metadata": {},
     "output_type": "execute_result"
    }
   ],
   "source": [
    "data_0.head()"
   ]
  },
  {
   "cell_type": "code",
   "execution_count": 6,
   "id": "c722721e",
   "metadata": {},
   "outputs": [
    {
     "data": {
      "text/html": [
       "<div>\n",
       "<style scoped>\n",
       "    .dataframe tbody tr th:only-of-type {\n",
       "        vertical-align: middle;\n",
       "    }\n",
       "\n",
       "    .dataframe tbody tr th {\n",
       "        vertical-align: top;\n",
       "    }\n",
       "\n",
       "    .dataframe thead th {\n",
       "        text-align: right;\n",
       "    }\n",
       "</style>\n",
       "<table border=\"1\" class=\"dataframe\">\n",
       "  <thead>\n",
       "    <tr style=\"text-align: right;\">\n",
       "      <th></th>\n",
       "      <th>id</th>\n",
       "      <th>f0</th>\n",
       "      <th>f1</th>\n",
       "      <th>f2</th>\n",
       "      <th>product</th>\n",
       "    </tr>\n",
       "  </thead>\n",
       "  <tbody>\n",
       "    <tr>\n",
       "      <th>0</th>\n",
       "      <td>kBEdx</td>\n",
       "      <td>-15.001348</td>\n",
       "      <td>-8.276000</td>\n",
       "      <td>-0.005876</td>\n",
       "      <td>3.179103</td>\n",
       "    </tr>\n",
       "    <tr>\n",
       "      <th>1</th>\n",
       "      <td>62mP7</td>\n",
       "      <td>14.272088</td>\n",
       "      <td>-3.475083</td>\n",
       "      <td>0.999183</td>\n",
       "      <td>26.953261</td>\n",
       "    </tr>\n",
       "    <tr>\n",
       "      <th>2</th>\n",
       "      <td>vyE1P</td>\n",
       "      <td>6.263187</td>\n",
       "      <td>-5.948386</td>\n",
       "      <td>5.001160</td>\n",
       "      <td>134.766305</td>\n",
       "    </tr>\n",
       "    <tr>\n",
       "      <th>3</th>\n",
       "      <td>KcrkZ</td>\n",
       "      <td>-13.081196</td>\n",
       "      <td>-11.506057</td>\n",
       "      <td>4.999415</td>\n",
       "      <td>137.945408</td>\n",
       "    </tr>\n",
       "    <tr>\n",
       "      <th>4</th>\n",
       "      <td>AHL4O</td>\n",
       "      <td>12.702195</td>\n",
       "      <td>-8.147433</td>\n",
       "      <td>5.004363</td>\n",
       "      <td>134.766305</td>\n",
       "    </tr>\n",
       "  </tbody>\n",
       "</table>\n",
       "</div>"
      ],
      "text/plain": [
       "      id         f0         f1        f2     product\n",
       "0  kBEdx -15.001348  -8.276000 -0.005876    3.179103\n",
       "1  62mP7  14.272088  -3.475083  0.999183   26.953261\n",
       "2  vyE1P   6.263187  -5.948386  5.001160  134.766305\n",
       "3  KcrkZ -13.081196 -11.506057  4.999415  137.945408\n",
       "4  AHL4O  12.702195  -8.147433  5.004363  134.766305"
      ]
     },
     "execution_count": 6,
     "metadata": {},
     "output_type": "execute_result"
    }
   ],
   "source": [
    "data_1.head()"
   ]
  },
  {
   "cell_type": "code",
   "execution_count": 7,
   "id": "e1ec0054",
   "metadata": {},
   "outputs": [
    {
     "data": {
      "text/html": [
       "<div>\n",
       "<style scoped>\n",
       "    .dataframe tbody tr th:only-of-type {\n",
       "        vertical-align: middle;\n",
       "    }\n",
       "\n",
       "    .dataframe tbody tr th {\n",
       "        vertical-align: top;\n",
       "    }\n",
       "\n",
       "    .dataframe thead th {\n",
       "        text-align: right;\n",
       "    }\n",
       "</style>\n",
       "<table border=\"1\" class=\"dataframe\">\n",
       "  <thead>\n",
       "    <tr style=\"text-align: right;\">\n",
       "      <th></th>\n",
       "      <th>id</th>\n",
       "      <th>f0</th>\n",
       "      <th>f1</th>\n",
       "      <th>f2</th>\n",
       "      <th>product</th>\n",
       "    </tr>\n",
       "  </thead>\n",
       "  <tbody>\n",
       "    <tr>\n",
       "      <th>0</th>\n",
       "      <td>fwXo0</td>\n",
       "      <td>-1.146987</td>\n",
       "      <td>0.963328</td>\n",
       "      <td>-0.828965</td>\n",
       "      <td>27.758673</td>\n",
       "    </tr>\n",
       "    <tr>\n",
       "      <th>1</th>\n",
       "      <td>WJtFt</td>\n",
       "      <td>0.262778</td>\n",
       "      <td>0.269839</td>\n",
       "      <td>-2.530187</td>\n",
       "      <td>56.069697</td>\n",
       "    </tr>\n",
       "    <tr>\n",
       "      <th>2</th>\n",
       "      <td>ovLUW</td>\n",
       "      <td>0.194587</td>\n",
       "      <td>0.289035</td>\n",
       "      <td>-5.586433</td>\n",
       "      <td>62.871910</td>\n",
       "    </tr>\n",
       "    <tr>\n",
       "      <th>3</th>\n",
       "      <td>q6cA6</td>\n",
       "      <td>2.236060</td>\n",
       "      <td>-0.553760</td>\n",
       "      <td>0.930038</td>\n",
       "      <td>114.572842</td>\n",
       "    </tr>\n",
       "    <tr>\n",
       "      <th>4</th>\n",
       "      <td>WPMUX</td>\n",
       "      <td>-0.515993</td>\n",
       "      <td>1.716266</td>\n",
       "      <td>5.899011</td>\n",
       "      <td>149.600746</td>\n",
       "    </tr>\n",
       "  </tbody>\n",
       "</table>\n",
       "</div>"
      ],
      "text/plain": [
       "      id        f0        f1        f2     product\n",
       "0  fwXo0 -1.146987  0.963328 -0.828965   27.758673\n",
       "1  WJtFt  0.262778  0.269839 -2.530187   56.069697\n",
       "2  ovLUW  0.194587  0.289035 -5.586433   62.871910\n",
       "3  q6cA6  2.236060 -0.553760  0.930038  114.572842\n",
       "4  WPMUX -0.515993  1.716266  5.899011  149.600746"
      ]
     },
     "execution_count": 7,
     "metadata": {},
     "output_type": "execute_result"
    }
   ],
   "source": [
    "data_2.head()"
   ]
  },
  {
   "cell_type": "markdown",
   "id": "29215942",
   "metadata": {},
   "source": [
    "Посмотрим на распределение данных: "
   ]
  },
  {
   "cell_type": "code",
   "execution_count": 8,
   "id": "9f7d53a6",
   "metadata": {},
   "outputs": [
    {
     "data": {
      "text/plain": [
       "array([[<AxesSubplot:title={'center':'f0'}>,\n",
       "        <AxesSubplot:title={'center':'f1'}>],\n",
       "       [<AxesSubplot:title={'center':'f2'}>,\n",
       "        <AxesSubplot:title={'center':'product'}>]], dtype=object)"
      ]
     },
     "execution_count": 8,
     "metadata": {},
     "output_type": "execute_result"
    },
    {
     "data": {
      "image/png": "[encoded data removed]",
      "text/plain": [
       "<Figure size 864x576 with 4 Axes>"
      ]
     },
     "metadata": {
      "needs_background": "light"
     },
     "output_type": "display_data"
    }
   ],
   "source": [
    "data_0.hist(bins=20, figsize=(12, 8))"
   ]
  },
  {
   "cell_type": "code",
   "execution_count": 9,
   "id": "406c4eaf",
   "metadata": {},
   "outputs": [
    {
     "data": {
      "text/plain": [
       "array([[<AxesSubplot:title={'center':'f0'}>,\n",
       "        <AxesSubplot:title={'center':'f1'}>],\n",
       "       [<AxesSubplot:title={'center':'f2'}>,\n",
       "        <AxesSubplot:title={'center':'product'}>]], dtype=object)"
      ]
     },
     "execution_count": 9,
     "metadata": {},
     "output_type": "execute_result"
    },
    {
     "data": {
      "image/png": "[encoded data removed]",
      "text/plain": [
       "<Figure size 864x576 with 4 Axes>"
      ]
     },
     "metadata": {
      "needs_background": "light"
     },
     "output_type": "display_data"
    }
   ],
   "source": [
    "data_1.hist(bins=20, figsize=(12, 8))"
   ]
  },
  {
   "cell_type": "code",
   "execution_count": 10,
   "id": "755f4964",
   "metadata": {},
   "outputs": [
    {
     "data": {
      "text/plain": [
       "array([[<AxesSubplot:title={'center':'f0'}>,\n",
       "        <AxesSubplot:title={'center':'f1'}>],\n",
       "       [<AxesSubplot:title={'center':'f2'}>,\n",
       "        <AxesSubplot:title={'center':'product'}>]], dtype=object)"
      ]
     },
     "execution_count": 10,
     "metadata": {},
     "output_type": "execute_result"
    },
    {
     "data": {
      "image/png": "[encoded data removed]",
      "text/plain": [
       "<Figure size 864x576 with 4 Axes>"
      ]
     },
     "metadata": {
      "needs_background": "light"
     },
     "output_type": "display_data"
    }
   ],
   "source": [
    "data_2.hist(bins=20, figsize=(12, 8))"
   ]
  },
  {
   "cell_type": "markdown",
   "id": "ffdb4241",
   "metadata": {},
   "source": [
    "**Выводы:**\n",
    "- В данных отсутствуют пропуски и дубликаты; \n",
    "- Можно заметить, что некоторые признаки распределены не нормально. Однако, так как значение признаков неизвестно, трудно дать более адекватную оценку распределению. "
   ]
  },
  {
   "cell_type": "markdown",
   "id": "cbd956e8",
   "metadata": {},
   "source": [
    "## Обучение и проверка модели"
   ]
  },
  {
   "cell_type": "markdown",
   "id": "976c171f",
   "metadata": {},
   "source": [
    "Разделим данные на признаки и целевой признак:"
   ]
  },
  {
   "cell_type": "code",
   "execution_count": 11,
   "id": "6c0a3ac0",
   "metadata": {},
   "outputs": [],
   "source": [
    "features = ['f0', 'f1', 'f2']\n",
    "target = ['product']\n",
    "\n",
    "features_0 = data_0[features]\n",
    "target_0 = data_0[target]\n",
    "\n",
    "features_1 = data_1[features]\n",
    "target_1 = data_1[target]\n",
    "\n",
    "features_2 = data_2[features]\n",
    "target_2 = data_2[target]"
   ]
  },
  {
   "cell_type": "markdown",
   "id": "8b1cf40e",
   "metadata": {},
   "source": [
    "Согласно техническому заданию, для нашего проекта будем использовать линейную регрессию. "
   ]
  },
  {
   "cell_type": "markdown",
   "id": "95880ffe",
   "metadata": {},
   "source": [
    "Попробуем решить вопрос с помощью функции. Затем выведем на экран средний запас предсказанного сырья и RMSE модели."
   ]
  },
  {
   "cell_type": "code",
   "execution_count": 12,
   "id": "6a43fafd",
   "metadata": {},
   "outputs": [],
   "source": [
    "def LinReg(features, target):\n",
    "    \n",
    "    features_train, features_valid, target_train, target_valid = train_test_split(features, target, \n",
    "                                                                                  test_size=0.25, random_state=123)\n",
    "    \n",
    "    model = LinearRegression()\n",
    "    model.fit(features_train, target_train)\n",
    "    predict = model.predict(features_valid)\n",
    "\n",
    "    predict_mean = predict.mean()\n",
    "    rmse = mean_squared_error(target_valid, predict)**0.5\n",
    "\n",
    "    print('Cредний запас предсказанного сырья:', round(predict_mean, 2))\n",
    "    print('RMSE:', round(rmse, 2))\n",
    "    \n",
    "    return target_valid, predict"
   ]
  },
  {
   "cell_type": "markdown",
   "id": "5a91d4e4",
   "metadata": {},
   "source": [
    "**Регион 0 (geo_data_0.csv):**"
   ]
  },
  {
   "cell_type": "code",
   "execution_count": 13,
   "id": "15ab556b",
   "metadata": {},
   "outputs": [
    {
     "name": "stdout",
     "output_type": "stream",
     "text": [
      "Cредний запас предсказанного сырья: 92.55\n",
      "RMSE: 37.65\n"
     ]
    }
   ],
   "source": [
    "target_0_valid, predict_0 = LinReg(features_0, target_0)"
   ]
  },
  {
   "cell_type": "markdown",
   "id": "18e2ea2a",
   "metadata": {},
   "source": [
    "**Регион 1 (geo_data_1.csv):**"
   ]
  },
  {
   "cell_type": "code",
   "execution_count": 14,
   "id": "281268c1",
   "metadata": {},
   "outputs": [
    {
     "name": "stdout",
     "output_type": "stream",
     "text": [
      "Cредний запас предсказанного сырья: 69.28\n",
      "RMSE: 0.9\n"
     ]
    }
   ],
   "source": [
    "target_1_valid, predict_1 = LinReg(features_1, target_1)"
   ]
  },
  {
   "cell_type": "markdown",
   "id": "e5a22c25",
   "metadata": {},
   "source": [
    "**Регион 2 (geo_data_2.csv):**"
   ]
  },
  {
   "cell_type": "code",
   "execution_count": 15,
   "id": "d17780d2",
   "metadata": {},
   "outputs": [
    {
     "name": "stdout",
     "output_type": "stream",
     "text": [
      "Cредний запас предсказанного сырья: 95.1\n",
      "RMSE: 40.13\n"
     ]
    }
   ],
   "source": [
    "target_2_valid, predict_2 = LinReg(features_2, target_2)"
   ]
  },
  {
   "cell_type": "markdown",
   "id": "ed130a78",
   "metadata": {},
   "source": [
    "**Выводы:**\n",
    "- В регионах №0 и №2 можно увидеть очень высокие показатели среднего запаса сырья (92,55 и 95,1). Вместе с этим показатели RMSE в этих регионах также очень выскокие (37,65 и 40,13). Это может указывать на низкое качество модели регрессии. \n",
    "- В регионе №1 средний запас предсказанного сырья заметно ниже (69,28). Одновременно с этим и значение RMSE намного ниже, чем в двух других регионах. Можно сказать, что для этого региона качество предсказаний оказалось высоким. "
   ]
  },
  {
   "cell_type": "markdown",
   "id": "d32eef1d",
   "metadata": {},
   "source": [
    "## Подготовка к расчёту прибыли"
   ]
  },
  {
   "cell_type": "markdown",
   "id": "f529af21",
   "metadata": {},
   "source": [
    "Рассчитаем достаточный объём сырья для безубыточной разработки новой скважины. Затем сравним полученный объём сырья со средним запасом в каждом регионе."
   ]
  },
  {
   "cell_type": "markdown",
   "id": "aa0aa00c",
   "metadata": {},
   "source": [
    "Создадим отдельные переменные для ключевых значений:"
   ]
  },
  {
   "cell_type": "code",
   "execution_count": 16,
   "id": "b93c90b0",
   "metadata": {},
   "outputs": [],
   "source": [
    "BUDGET = 1e+10 #бюджет на разработку скважин в регионе — 10 млрд рублей\n",
    "BEST_WELLSITES = 200 #200 лучших скважин из выбранных 500\n",
    "SAMPLE_WELLSITES = 500 #500 случайно выбранных скважин \n",
    "PROFIT_PER_UNIT = 4.5e+5 #доход с каждой единицы продукта составляет 450 тыс. рублей"
   ]
  },
  {
   "cell_type": "code",
   "execution_count": 17,
   "id": "42a993c9",
   "metadata": {},
   "outputs": [],
   "source": [
    "product_amount = BUDGET / (BEST_WELLSITES * PROFIT_PER_UNIT)"
   ]
  },
  {
   "cell_type": "code",
   "execution_count": 18,
   "id": "e08a3bad",
   "metadata": {},
   "outputs": [
    {
     "name": "stdout",
     "output_type": "stream",
     "text": [
      "Достаточный объём сырья для безубыточной разработки новой скважины 111.11\n"
     ]
    }
   ],
   "source": [
    "print('Достаточный объём сырья для безубыточной разработки новой скважины', round(product_amount, 2))"
   ]
  },
  {
   "cell_type": "markdown",
   "id": "010db386",
   "metadata": {},
   "source": [
    "**Вывод:**\n",
    "\n",
    "Достаточный объём сырья для безубыточной разработки новой скважины 111.11. Такой объем достигается при разработке 200 лучших скважин из 500 выбранных для каждого региона. Этот объем превышает показатели, полученные в предыдущем пункте. "
   ]
  },
  {
   "cell_type": "markdown",
   "id": "bb8f155c",
   "metadata": {},
   "source": [
    "## Расчёт прибыли и рисков "
   ]
  },
  {
   "cell_type": "markdown",
   "id": "43e471ab",
   "metadata": {},
   "source": [
    "Преобразуем данные, чтобы избежать ошибки при дальнейшей работе: "
   ]
  },
  {
   "cell_type": "code",
   "execution_count": 19,
   "id": "ce250157",
   "metadata": {},
   "outputs": [],
   "source": [
    "target_0_valid_upd = pd.Series(target_0_valid['product']).reset_index(drop=True)\n",
    "target_1_valid_upd = pd.Series(target_1_valid['product']).reset_index(drop=True)\n",
    "target_2_valid_upd = pd.Series(target_2_valid['product']).reset_index(drop=True)"
   ]
  },
  {
   "cell_type": "code",
   "execution_count": 20,
   "id": "5d0908a4",
   "metadata": {},
   "outputs": [],
   "source": [
    "predict_0_upd = pd.Series(*predict_0.reshape(1,-1))\n",
    "predict_1_upd = pd.Series(*predict_1.reshape(1,-1))\n",
    "predict_2_upd = pd.Series(*predict_2.reshape(1,-1))"
   ]
  },
  {
   "cell_type": "markdown",
   "id": "8805c018",
   "metadata": {},
   "source": [
    "**Напишем функцию для расчёта прибыли по выбранным скважинам и предсказаниям модели:**\n",
    "- Выберем скважины с максимальными значениями предсказаний.\n",
    "- Просуммируем целевое значение объёма сырья, соответствующее этим предсказаниям.\n",
    "- Рассчитаем прибыль для полученного объёма сырья.\n"
   ]
  },
  {
   "cell_type": "code",
   "execution_count": 21,
   "id": "d1b05f3d",
   "metadata": {},
   "outputs": [],
   "source": [
    "def income(true_target, predicted_target):\n",
    "    sort_Series = pd.Series(predicted_target).sort_values(ascending=False)[:BEST_WELLSITES]\n",
    "    true_target_sorted = (true_target.reset_index(drop=True)[sort_Series.index])\n",
    "    true_target_sorted_sum = true_target_sorted.sum() \n",
    "    return round((true_target_sorted_sum * PROFIT_PER_UNIT) - BUDGET, 2)"
   ]
  },
  {
   "cell_type": "markdown",
   "id": "5456e0b6",
   "metadata": {},
   "source": [
    "**Регион 0**"
   ]
  },
  {
   "cell_type": "code",
   "execution_count": 22,
   "id": "cc7c03e9",
   "metadata": {},
   "outputs": [
    {
     "data": {
      "text/plain": [
       "3534670917.26"
      ]
     },
     "execution_count": 22,
     "metadata": {},
     "output_type": "execute_result"
    }
   ],
   "source": [
    "income(target_0_valid_upd, predict_0_upd)"
   ]
  },
  {
   "cell_type": "markdown",
   "id": "932d54d6",
   "metadata": {},
   "source": [
    "**Регион 1**"
   ]
  },
  {
   "cell_type": "code",
   "execution_count": 23,
   "id": "edaeffa7",
   "metadata": {},
   "outputs": [
    {
     "data": {
      "text/plain": [
       "2415086696.68"
      ]
     },
     "execution_count": 23,
     "metadata": {},
     "output_type": "execute_result"
    }
   ],
   "source": [
    "income(target_1_valid_upd, predict_1_upd)"
   ]
  },
  {
   "cell_type": "markdown",
   "id": "9caab723",
   "metadata": {},
   "source": [
    "**Регион 2**"
   ]
  },
  {
   "cell_type": "code",
   "execution_count": 24,
   "id": "fc43b68e",
   "metadata": {},
   "outputs": [
    {
     "data": {
      "text/plain": [
       "2370343863.02"
      ]
     },
     "execution_count": 24,
     "metadata": {},
     "output_type": "execute_result"
    }
   ],
   "source": [
    "income(target_2_valid_upd, predict_2_upd)"
   ]
  },
  {
   "cell_type": "markdown",
   "id": "8eb56e48",
   "metadata": {},
   "source": [
    "**Посчитаем риски и прибыль для каждого региона:**\n",
    "\n",
    "- Применим технику Bootstrap с 1000 выборок, чтобы найти распределение прибыли.\n",
    "\n",
    "- Найдём среднюю прибыль, 95%-й доверительный интервал и риск убытков. Убыток — это отрицательная прибыль."
   ]
  },
  {
   "cell_type": "code",
   "execution_count": 25,
   "id": "45336014",
   "metadata": {},
   "outputs": [],
   "source": [
    "state = np.random.RandomState(123) "
   ]
  },
  {
   "cell_type": "code",
   "execution_count": 26,
   "id": "b5736cc6",
   "metadata": {},
   "outputs": [],
   "source": [
    "def confidence_interval(true_target, predicted_target):\n",
    "    samples = []\n",
    "    for i in range(1000):\n",
    "        sample = pd.Series(predicted_target).sample(n=SAMPLE_WELLSITES, replace=True, random_state=state)\n",
    "        samples.append(income(true_target,sample))\n",
    "    samples = pd.Series(samples)\n",
    "    print('Средняя прибыль:', samples.mean())\n",
    "    print('Риски:', samples.apply(lambda x: x < 0).sum()/len(samples)*100,\"%\") \n",
    "    \n",
    "    lower = samples.quantile(0.025)\n",
    "    upper = samples.quantile(0.975)\n",
    "    return print('95%-й доверительный интервал:', round(lower,2), round(upper,2))"
   ]
  },
  {
   "cell_type": "markdown",
   "id": "dde118a2",
   "metadata": {},
   "source": [
    "**Регион 0**"
   ]
  },
  {
   "cell_type": "code",
   "execution_count": 27,
   "id": "b98e47ee",
   "metadata": {},
   "outputs": [
    {
     "name": "stdout",
     "output_type": "stream",
     "text": [
      "Средняя прибыль: 477416824.26650023\n",
      "Риски: 4.1000000000000005 %\n",
      "95%-й доверительный интервал: -57993911.8 974822014.78\n"
     ]
    }
   ],
   "source": [
    "confidence_interval(target_0_valid_upd, predict_0_upd)"
   ]
  },
  {
   "cell_type": "markdown",
   "id": "76316122",
   "metadata": {},
   "source": [
    "**Регион 1**"
   ]
  },
  {
   "cell_type": "code",
   "execution_count": 28,
   "id": "f485d996",
   "metadata": {},
   "outputs": [
    {
     "name": "stdout",
     "output_type": "stream",
     "text": [
      "Средняя прибыль: 467477683.9188197\n",
      "Риски: 1.0 %\n",
      "95%-й доверительный интервал: 68764375.66 871492097.36\n"
     ]
    }
   ],
   "source": [
    "confidence_interval(target_1_valid_upd, predict_1_upd)"
   ]
  },
  {
   "cell_type": "markdown",
   "id": "836527e2",
   "metadata": {},
   "source": [
    "**Регион 2**"
   ]
  },
  {
   "cell_type": "code",
   "execution_count": 29,
   "id": "89a9a64f",
   "metadata": {},
   "outputs": [
    {
     "name": "stdout",
     "output_type": "stream",
     "text": [
      "Средняя прибыль: 362132780.61962056\n",
      "Риски: 8.9 %\n",
      "95%-й доверительный интервал: -182992233.25 870966851.57\n"
     ]
    }
   ],
   "source": [
    "confidence_interval(target_2_valid_upd, predict_2_upd)"
   ]
  },
  {
   "cell_type": "markdown",
   "id": "e5396dbb",
   "metadata": {},
   "source": [
    "## Вывод"
   ]
  },
  {
   "cell_type": "markdown",
   "id": "30ab4c8e",
   "metadata": {},
   "source": [
    "Согласно техническому заданию, рекомендовать можно только регион, в котором риск убытков ниже 2,5%. По результатам нашего исследования этому условию соответствует только _Регион 1_ со следующими характеристиками: \n",
    "\n",
    "- Средняя прибыль: 467477683.9188197\n",
    "\n",
    "- Риски: 1.0 %\n",
    "\n",
    "- 95%-й доверительный интервал: (68764375.66, 871492097.36)\n"
   ]
  }
 ],
 "metadata": {
  "kernelspec": {
   "display_name": "Python 3 (ipykernel)",
   "language": "python",
   "name": "python3"
  },
  "language_info": {
   "codemirror_mode": {
    "name": "ipython",
    "version": 3
   },
   "file_extension": ".py",
   "mimetype": "text/x-python",
   "name": "python",
   "nbconvert_exporter": "python",
   "pygments_lexer": "ipython3",
   "version": "3.9.7"
  },
  "toc": {
   "base_numbering": 1,
   "nav_menu": {},
   "number_sections": true,
   "sideBar": true,
   "skip_h1_title": true,
   "title_cell": "Table of Contents",
   "title_sidebar": "Contents",
   "toc_cell": true,
   "toc_position": {
    "height": "calc(100% - 180px)",
    "left": "10px",
    "top": "150px",
    "width": "225.825px"
   },
   "toc_section_display": true,
   "toc_window_display": true
  }
 },
 "nbformat": 4,
 "nbformat_minor": 5
}
