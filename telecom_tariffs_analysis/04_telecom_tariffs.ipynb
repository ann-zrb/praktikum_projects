{
 "cells": [
  {
   "cell_type": "markdown",
   "id": "e62b90fc",
   "metadata": {},
   "source": [
    "## Обзор данных"
   ]
  },
  {
   "cell_type": "markdown",
   "id": "c86f667c",
   "metadata": {},
   "source": [
    "Начнем исследование с общего обзора данных. Для этого импортируем библиотеку `pandas`, прочитаем с её помощью файлы, а также сразу импортируем все необходимые для проверки гипотез библиотеки. "
   ]
  },
  {
   "cell_type": "code",
   "execution_count": 1,
   "id": "ca3d5520",
   "metadata": {},
   "outputs": [],
   "source": [
    "import pandas as pd\n",
    "import seaborn as sns\n",
    "import matplotlib.pyplot as plt\n",
    "import numpy as np\n",
    "import scipy.stats as st"
   ]
  },
  {
   "cell_type": "markdown",
   "id": "ba1939ce",
   "metadata": {},
   "source": [
    "Прочитаем файлы и сохраним их в соответствующих переменных для дальнейшей работы (используем конструкцию try-except, т.к. проект выполнялся локально, а не на платформе): "
   ]
  },
  {
   "cell_type": "code",
   "execution_count": 2,
   "id": "cd4562a1",
   "metadata": {},
   "outputs": [],
   "source": [
    "try:\n",
    "    calls = pd.read_csv('C:/Users/freak/Desktop/Python/Project4/calls.csv')\n",
    "    internet = pd.read_csv('C:/Users/freak/Desktop/Python/Project4/internet.csv')\n",
    "    messages = pd.read_csv('C:/Users/freak/Desktop/Python/Project4/messages.csv')\n",
    "    tariffs = pd.read_csv('C:/Users/freak/Desktop/Python/Project4/tariffs.csv')\n",
    "    users = pd.read_csv('C:/Users/freak/Desktop/Python/Project4/users.csv')\n",
    "\n",
    "except FileNotFoundError:\n",
    "    calls = pd.read_csv('/datasets/calls.csv')\n",
    "    internet = pd.read_csv('/datasets/internet.csv')\n",
    "    messages = pd.read_csv('/datasets/messages.csv')\n",
    "    tariffs = pd.read_csv('/datasets/tariffs.csv')\n",
    "    users = pd.read_csv('/datasets/users.csv')"
   ]
  },
  {
   "cell_type": "code",
   "execution_count": 3,
   "id": "35c79d84",
   "metadata": {},
   "outputs": [
    {
     "name": "stdout",
     "output_type": "stream",
     "text": [
      "<class 'pandas.core.frame.DataFrame'>\n",
      "RangeIndex: 202607 entries, 0 to 202606\n",
      "Data columns (total 4 columns):\n",
      " #   Column     Non-Null Count   Dtype  \n",
      "---  ------     --------------   -----  \n",
      " 0   id         202607 non-null  object \n",
      " 1   call_date  202607 non-null  object \n",
      " 2   duration   202607 non-null  float64\n",
      " 3   user_id    202607 non-null  int64  \n",
      "dtypes: float64(1), int64(1), object(2)\n",
      "memory usage: 6.2+ MB\n",
      "None\n",
      "\n",
      "<class 'pandas.core.frame.DataFrame'>\n",
      "RangeIndex: 149396 entries, 0 to 149395\n",
      "Data columns (total 5 columns):\n",
      " #   Column        Non-Null Count   Dtype  \n",
      "---  ------        --------------   -----  \n",
      " 0   Unnamed: 0    149396 non-null  int64  \n",
      " 1   id            149396 non-null  object \n",
      " 2   mb_used       149396 non-null  float64\n",
      " 3   session_date  149396 non-null  object \n",
      " 4   user_id       149396 non-null  int64  \n",
      "dtypes: float64(1), int64(2), object(2)\n",
      "memory usage: 5.7+ MB\n",
      "None\n",
      "\n",
      "<class 'pandas.core.frame.DataFrame'>\n",
      "RangeIndex: 123036 entries, 0 to 123035\n",
      "Data columns (total 3 columns):\n",
      " #   Column        Non-Null Count   Dtype \n",
      "---  ------        --------------   ----- \n",
      " 0   id            123036 non-null  object\n",
      " 1   message_date  123036 non-null  object\n",
      " 2   user_id       123036 non-null  int64 \n",
      "dtypes: int64(1), object(2)\n",
      "memory usage: 2.8+ MB\n",
      "None\n",
      "\n",
      "<class 'pandas.core.frame.DataFrame'>\n",
      "RangeIndex: 500 entries, 0 to 499\n",
      "Data columns (total 8 columns):\n",
      " #   Column      Non-Null Count  Dtype \n",
      "---  ------      --------------  ----- \n",
      " 0   user_id     500 non-null    int64 \n",
      " 1   age         500 non-null    int64 \n",
      " 2   churn_date  38 non-null     object\n",
      " 3   city        500 non-null    object\n",
      " 4   first_name  500 non-null    object\n",
      " 5   last_name   500 non-null    object\n",
      " 6   reg_date    500 non-null    object\n",
      " 7   tariff      500 non-null    object\n",
      "dtypes: int64(2), object(6)\n",
      "memory usage: 31.4+ KB\n",
      "None\n",
      "\n",
      "<class 'pandas.core.frame.DataFrame'>\n",
      "RangeIndex: 2 entries, 0 to 1\n",
      "Data columns (total 8 columns):\n",
      " #   Column                 Non-Null Count  Dtype \n",
      "---  ------                 --------------  ----- \n",
      " 0   messages_included      2 non-null      int64 \n",
      " 1   mb_per_month_included  2 non-null      int64 \n",
      " 2   minutes_included       2 non-null      int64 \n",
      " 3   rub_monthly_fee        2 non-null      int64 \n",
      " 4   rub_per_gb             2 non-null      int64 \n",
      " 5   rub_per_message        2 non-null      int64 \n",
      " 6   rub_per_minute         2 non-null      int64 \n",
      " 7   tariff_name            2 non-null      object\n",
      "dtypes: int64(7), object(1)\n",
      "memory usage: 256.0+ bytes\n",
      "None\n",
      "\n"
     ]
    }
   ],
   "source": [
    "for data in [calls, internet, messages, users, tariffs]: print(data.info(), end='\\n\\n')"
   ]
  },
  {
   "cell_type": "markdown",
   "id": "8a3305c4",
   "metadata": {},
   "source": [
    "**Предварительные выводы о данных:** \n",
    "- наименования стоблцов присвоены корректно — все буквы в нижнем регистре, отсутствуют лишние пробелы, соблюдены правила \"змеиного регистра\"; \n",
    "- в стоблцах с датой и временем необходимо будет заменить тип данных на `datetime`. \n",
    "- в стоблцах с мегабайтами и минутами небходимо будет округлить значения в большую сторону, т.к. оператор при расчете стоимости услуг округляет эти цифры в большую сторону.\n",
    "- аномальных пропусков нет. Пропущенные значения в столбце `churn_date` означают, что тариф ещё действовал на момент выгрузки данных. "
   ]
  },
  {
   "cell_type": "code",
   "execution_count": 4,
   "id": "6e959a47",
   "metadata": {},
   "outputs": [
    {
     "name": "stdout",
     "output_type": "stream",
     "text": [
      "Проверка на дубли: 0\n",
      "\n",
      "Проверка на пропуски: id           0\n",
      "call_date    0\n",
      "duration     0\n",
      "user_id      0\n",
      "dtype: int64\n",
      "\n"
     ]
    },
    {
     "data": {
      "text/html": [
       "<div>\n",
       "<style scoped>\n",
       "    .dataframe tbody tr th:only-of-type {\n",
       "        vertical-align: middle;\n",
       "    }\n",
       "\n",
       "    .dataframe tbody tr th {\n",
       "        vertical-align: top;\n",
       "    }\n",
       "\n",
       "    .dataframe thead th {\n",
       "        text-align: right;\n",
       "    }\n",
       "</style>\n",
       "<table border=\"1\" class=\"dataframe\">\n",
       "  <thead>\n",
       "    <tr style=\"text-align: right;\">\n",
       "      <th></th>\n",
       "      <th>id</th>\n",
       "      <th>call_date</th>\n",
       "      <th>duration</th>\n",
       "      <th>user_id</th>\n",
       "    </tr>\n",
       "  </thead>\n",
       "  <tbody>\n",
       "    <tr>\n",
       "      <th>0</th>\n",
       "      <td>1000_0</td>\n",
       "      <td>2018-07-25</td>\n",
       "      <td>0.00</td>\n",
       "      <td>1000</td>\n",
       "    </tr>\n",
       "    <tr>\n",
       "      <th>1</th>\n",
       "      <td>1000_1</td>\n",
       "      <td>2018-08-17</td>\n",
       "      <td>0.00</td>\n",
       "      <td>1000</td>\n",
       "    </tr>\n",
       "    <tr>\n",
       "      <th>2</th>\n",
       "      <td>1000_2</td>\n",
       "      <td>2018-06-11</td>\n",
       "      <td>2.85</td>\n",
       "      <td>1000</td>\n",
       "    </tr>\n",
       "    <tr>\n",
       "      <th>3</th>\n",
       "      <td>1000_3</td>\n",
       "      <td>2018-09-21</td>\n",
       "      <td>13.80</td>\n",
       "      <td>1000</td>\n",
       "    </tr>\n",
       "    <tr>\n",
       "      <th>4</th>\n",
       "      <td>1000_4</td>\n",
       "      <td>2018-12-15</td>\n",
       "      <td>5.18</td>\n",
       "      <td>1000</td>\n",
       "    </tr>\n",
       "  </tbody>\n",
       "</table>\n",
       "</div>"
      ],
      "text/plain": [
       "       id   call_date  duration  user_id\n",
       "0  1000_0  2018-07-25      0.00     1000\n",
       "1  1000_1  2018-08-17      0.00     1000\n",
       "2  1000_2  2018-06-11      2.85     1000\n",
       "3  1000_3  2018-09-21     13.80     1000\n",
       "4  1000_4  2018-12-15      5.18     1000"
      ]
     },
     "metadata": {},
     "output_type": "display_data"
    },
    {
     "name": "stdout",
     "output_type": "stream",
     "text": [
      "Проверка на дубли: 0\n",
      "\n",
      "Проверка на пропуски: Unnamed: 0      0\n",
      "id              0\n",
      "mb_used         0\n",
      "session_date    0\n",
      "user_id         0\n",
      "dtype: int64\n",
      "\n"
     ]
    },
    {
     "data": {
      "text/html": [
       "<div>\n",
       "<style scoped>\n",
       "    .dataframe tbody tr th:only-of-type {\n",
       "        vertical-align: middle;\n",
       "    }\n",
       "\n",
       "    .dataframe tbody tr th {\n",
       "        vertical-align: top;\n",
       "    }\n",
       "\n",
       "    .dataframe thead th {\n",
       "        text-align: right;\n",
       "    }\n",
       "</style>\n",
       "<table border=\"1\" class=\"dataframe\">\n",
       "  <thead>\n",
       "    <tr style=\"text-align: right;\">\n",
       "      <th></th>\n",
       "      <th>Unnamed: 0</th>\n",
       "      <th>id</th>\n",
       "      <th>mb_used</th>\n",
       "      <th>session_date</th>\n",
       "      <th>user_id</th>\n",
       "    </tr>\n",
       "  </thead>\n",
       "  <tbody>\n",
       "    <tr>\n",
       "      <th>0</th>\n",
       "      <td>0</td>\n",
       "      <td>1000_0</td>\n",
       "      <td>112.95</td>\n",
       "      <td>2018-11-25</td>\n",
       "      <td>1000</td>\n",
       "    </tr>\n",
       "    <tr>\n",
       "      <th>1</th>\n",
       "      <td>1</td>\n",
       "      <td>1000_1</td>\n",
       "      <td>1052.81</td>\n",
       "      <td>2018-09-07</td>\n",
       "      <td>1000</td>\n",
       "    </tr>\n",
       "    <tr>\n",
       "      <th>2</th>\n",
       "      <td>2</td>\n",
       "      <td>1000_2</td>\n",
       "      <td>1197.26</td>\n",
       "      <td>2018-06-25</td>\n",
       "      <td>1000</td>\n",
       "    </tr>\n",
       "    <tr>\n",
       "      <th>3</th>\n",
       "      <td>3</td>\n",
       "      <td>1000_3</td>\n",
       "      <td>550.27</td>\n",
       "      <td>2018-08-22</td>\n",
       "      <td>1000</td>\n",
       "    </tr>\n",
       "    <tr>\n",
       "      <th>4</th>\n",
       "      <td>4</td>\n",
       "      <td>1000_4</td>\n",
       "      <td>302.56</td>\n",
       "      <td>2018-09-24</td>\n",
       "      <td>1000</td>\n",
       "    </tr>\n",
       "  </tbody>\n",
       "</table>\n",
       "</div>"
      ],
      "text/plain": [
       "   Unnamed: 0      id  mb_used session_date  user_id\n",
       "0           0  1000_0   112.95   2018-11-25     1000\n",
       "1           1  1000_1  1052.81   2018-09-07     1000\n",
       "2           2  1000_2  1197.26   2018-06-25     1000\n",
       "3           3  1000_3   550.27   2018-08-22     1000\n",
       "4           4  1000_4   302.56   2018-09-24     1000"
      ]
     },
     "metadata": {},
     "output_type": "display_data"
    },
    {
     "name": "stdout",
     "output_type": "stream",
     "text": [
      "Проверка на дубли: 0\n",
      "\n",
      "Проверка на пропуски: id              0\n",
      "message_date    0\n",
      "user_id         0\n",
      "dtype: int64\n",
      "\n"
     ]
    },
    {
     "data": {
      "text/html": [
       "<div>\n",
       "<style scoped>\n",
       "    .dataframe tbody tr th:only-of-type {\n",
       "        vertical-align: middle;\n",
       "    }\n",
       "\n",
       "    .dataframe tbody tr th {\n",
       "        vertical-align: top;\n",
       "    }\n",
       "\n",
       "    .dataframe thead th {\n",
       "        text-align: right;\n",
       "    }\n",
       "</style>\n",
       "<table border=\"1\" class=\"dataframe\">\n",
       "  <thead>\n",
       "    <tr style=\"text-align: right;\">\n",
       "      <th></th>\n",
       "      <th>id</th>\n",
       "      <th>message_date</th>\n",
       "      <th>user_id</th>\n",
       "    </tr>\n",
       "  </thead>\n",
       "  <tbody>\n",
       "    <tr>\n",
       "      <th>0</th>\n",
       "      <td>1000_0</td>\n",
       "      <td>2018-06-27</td>\n",
       "      <td>1000</td>\n",
       "    </tr>\n",
       "    <tr>\n",
       "      <th>1</th>\n",
       "      <td>1000_1</td>\n",
       "      <td>2018-10-08</td>\n",
       "      <td>1000</td>\n",
       "    </tr>\n",
       "    <tr>\n",
       "      <th>2</th>\n",
       "      <td>1000_2</td>\n",
       "      <td>2018-08-04</td>\n",
       "      <td>1000</td>\n",
       "    </tr>\n",
       "    <tr>\n",
       "      <th>3</th>\n",
       "      <td>1000_3</td>\n",
       "      <td>2018-06-16</td>\n",
       "      <td>1000</td>\n",
       "    </tr>\n",
       "    <tr>\n",
       "      <th>4</th>\n",
       "      <td>1000_4</td>\n",
       "      <td>2018-12-05</td>\n",
       "      <td>1000</td>\n",
       "    </tr>\n",
       "  </tbody>\n",
       "</table>\n",
       "</div>"
      ],
      "text/plain": [
       "       id message_date  user_id\n",
       "0  1000_0   2018-06-27     1000\n",
       "1  1000_1   2018-10-08     1000\n",
       "2  1000_2   2018-08-04     1000\n",
       "3  1000_3   2018-06-16     1000\n",
       "4  1000_4   2018-12-05     1000"
      ]
     },
     "metadata": {},
     "output_type": "display_data"
    },
    {
     "name": "stdout",
     "output_type": "stream",
     "text": [
      "Проверка на дубли: 0\n",
      "\n",
      "Проверка на пропуски: user_id         0\n",
      "age             0\n",
      "churn_date    462\n",
      "city            0\n",
      "first_name      0\n",
      "last_name       0\n",
      "reg_date        0\n",
      "tariff          0\n",
      "dtype: int64\n",
      "\n"
     ]
    },
    {
     "data": {
      "text/html": [
       "<div>\n",
       "<style scoped>\n",
       "    .dataframe tbody tr th:only-of-type {\n",
       "        vertical-align: middle;\n",
       "    }\n",
       "\n",
       "    .dataframe tbody tr th {\n",
       "        vertical-align: top;\n",
       "    }\n",
       "\n",
       "    .dataframe thead th {\n",
       "        text-align: right;\n",
       "    }\n",
       "</style>\n",
       "<table border=\"1\" class=\"dataframe\">\n",
       "  <thead>\n",
       "    <tr style=\"text-align: right;\">\n",
       "      <th></th>\n",
       "      <th>user_id</th>\n",
       "      <th>age</th>\n",
       "      <th>churn_date</th>\n",
       "      <th>city</th>\n",
       "      <th>first_name</th>\n",
       "      <th>last_name</th>\n",
       "      <th>reg_date</th>\n",
       "      <th>tariff</th>\n",
       "    </tr>\n",
       "  </thead>\n",
       "  <tbody>\n",
       "    <tr>\n",
       "      <th>0</th>\n",
       "      <td>1000</td>\n",
       "      <td>52</td>\n",
       "      <td>NaN</td>\n",
       "      <td>Краснодар</td>\n",
       "      <td>Рафаил</td>\n",
       "      <td>Верещагин</td>\n",
       "      <td>2018-05-25</td>\n",
       "      <td>ultra</td>\n",
       "    </tr>\n",
       "    <tr>\n",
       "      <th>1</th>\n",
       "      <td>1001</td>\n",
       "      <td>41</td>\n",
       "      <td>NaN</td>\n",
       "      <td>Москва</td>\n",
       "      <td>Иван</td>\n",
       "      <td>Ежов</td>\n",
       "      <td>2018-11-01</td>\n",
       "      <td>smart</td>\n",
       "    </tr>\n",
       "    <tr>\n",
       "      <th>2</th>\n",
       "      <td>1002</td>\n",
       "      <td>59</td>\n",
       "      <td>NaN</td>\n",
       "      <td>Стерлитамак</td>\n",
       "      <td>Евгений</td>\n",
       "      <td>Абрамович</td>\n",
       "      <td>2018-06-17</td>\n",
       "      <td>smart</td>\n",
       "    </tr>\n",
       "    <tr>\n",
       "      <th>3</th>\n",
       "      <td>1003</td>\n",
       "      <td>23</td>\n",
       "      <td>NaN</td>\n",
       "      <td>Москва</td>\n",
       "      <td>Белла</td>\n",
       "      <td>Белякова</td>\n",
       "      <td>2018-08-17</td>\n",
       "      <td>ultra</td>\n",
       "    </tr>\n",
       "    <tr>\n",
       "      <th>4</th>\n",
       "      <td>1004</td>\n",
       "      <td>68</td>\n",
       "      <td>NaN</td>\n",
       "      <td>Новокузнецк</td>\n",
       "      <td>Татьяна</td>\n",
       "      <td>Авдеенко</td>\n",
       "      <td>2018-05-14</td>\n",
       "      <td>ultra</td>\n",
       "    </tr>\n",
       "  </tbody>\n",
       "</table>\n",
       "</div>"
      ],
      "text/plain": [
       "   user_id  age churn_date         city first_name  last_name    reg_date  \\\n",
       "0     1000   52        NaN    Краснодар     Рафаил  Верещагин  2018-05-25   \n",
       "1     1001   41        NaN       Москва       Иван       Ежов  2018-11-01   \n",
       "2     1002   59        NaN  Стерлитамак    Евгений  Абрамович  2018-06-17   \n",
       "3     1003   23        NaN       Москва      Белла   Белякова  2018-08-17   \n",
       "4     1004   68        NaN  Новокузнецк    Татьяна   Авдеенко  2018-05-14   \n",
       "\n",
       "  tariff  \n",
       "0  ultra  \n",
       "1  smart  \n",
       "2  smart  \n",
       "3  ultra  \n",
       "4  ultra  "
      ]
     },
     "metadata": {},
     "output_type": "display_data"
    },
    {
     "name": "stdout",
     "output_type": "stream",
     "text": [
      "Проверка на дубли: 0\n",
      "\n",
      "Проверка на пропуски: messages_included        0\n",
      "mb_per_month_included    0\n",
      "minutes_included         0\n",
      "rub_monthly_fee          0\n",
      "rub_per_gb               0\n",
      "rub_per_message          0\n",
      "rub_per_minute           0\n",
      "tariff_name              0\n",
      "dtype: int64\n",
      "\n"
     ]
    },
    {
     "data": {
      "text/html": [
       "<div>\n",
       "<style scoped>\n",
       "    .dataframe tbody tr th:only-of-type {\n",
       "        vertical-align: middle;\n",
       "    }\n",
       "\n",
       "    .dataframe tbody tr th {\n",
       "        vertical-align: top;\n",
       "    }\n",
       "\n",
       "    .dataframe thead th {\n",
       "        text-align: right;\n",
       "    }\n",
       "</style>\n",
       "<table border=\"1\" class=\"dataframe\">\n",
       "  <thead>\n",
       "    <tr style=\"text-align: right;\">\n",
       "      <th></th>\n",
       "      <th>messages_included</th>\n",
       "      <th>mb_per_month_included</th>\n",
       "      <th>minutes_included</th>\n",
       "      <th>rub_monthly_fee</th>\n",
       "      <th>rub_per_gb</th>\n",
       "      <th>rub_per_message</th>\n",
       "      <th>rub_per_minute</th>\n",
       "      <th>tariff_name</th>\n",
       "    </tr>\n",
       "  </thead>\n",
       "  <tbody>\n",
       "    <tr>\n",
       "      <th>0</th>\n",
       "      <td>50</td>\n",
       "      <td>15360</td>\n",
       "      <td>500</td>\n",
       "      <td>550</td>\n",
       "      <td>200</td>\n",
       "      <td>3</td>\n",
       "      <td>3</td>\n",
       "      <td>smart</td>\n",
       "    </tr>\n",
       "    <tr>\n",
       "      <th>1</th>\n",
       "      <td>1000</td>\n",
       "      <td>30720</td>\n",
       "      <td>3000</td>\n",
       "      <td>1950</td>\n",
       "      <td>150</td>\n",
       "      <td>1</td>\n",
       "      <td>1</td>\n",
       "      <td>ultra</td>\n",
       "    </tr>\n",
       "  </tbody>\n",
       "</table>\n",
       "</div>"
      ],
      "text/plain": [
       "   messages_included  mb_per_month_included  minutes_included  \\\n",
       "0                 50                  15360               500   \n",
       "1               1000                  30720              3000   \n",
       "\n",
       "   rub_monthly_fee  rub_per_gb  rub_per_message  rub_per_minute tariff_name  \n",
       "0              550         200                3               3       smart  \n",
       "1             1950         150                1               1       ultra  "
      ]
     },
     "metadata": {},
     "output_type": "display_data"
    }
   ],
   "source": [
    "for data in [calls, internet, messages, users, tariffs]: \n",
    "    print(f'Проверка на дубли: {data.duplicated().sum()}', end='\\n\\n')\n",
    "    print(f'Проверка на пропуски: {data.isna().sum()}', end='\\n\\n')\n",
    "    display(data.head())"
   ]
  },
  {
   "cell_type": "markdown",
   "id": "c11c5af7",
   "metadata": {},
   "source": [
    "## Предобработка данных"
   ]
  },
  {
   "cell_type": "markdown",
   "id": "94139849",
   "metadata": {},
   "source": [
    "### Изменение типов данных"
   ]
  },
  {
   "cell_type": "markdown",
   "id": "05923879",
   "metadata": {},
   "source": [
    "Заменим тип данных в столбцах с датой и временем: "
   ]
  },
  {
   "cell_type": "code",
   "execution_count": 5,
   "id": "e29454ca",
   "metadata": {},
   "outputs": [
    {
     "name": "stdout",
     "output_type": "stream",
     "text": [
      "<class 'pandas.core.frame.DataFrame'>\n",
      "RangeIndex: 202607 entries, 0 to 202606\n",
      "Data columns (total 4 columns):\n",
      " #   Column     Non-Null Count   Dtype         \n",
      "---  ------     --------------   -----         \n",
      " 0   id         202607 non-null  object        \n",
      " 1   call_date  202607 non-null  datetime64[ns]\n",
      " 2   duration   202607 non-null  float64       \n",
      " 3   user_id    202607 non-null  int64         \n",
      "dtypes: datetime64[ns](1), float64(1), int64(1), object(1)\n",
      "memory usage: 6.2+ MB\n",
      "None\n",
      "\n",
      "<class 'pandas.core.frame.DataFrame'>\n",
      "RangeIndex: 149396 entries, 0 to 149395\n",
      "Data columns (total 5 columns):\n",
      " #   Column        Non-Null Count   Dtype         \n",
      "---  ------        --------------   -----         \n",
      " 0   Unnamed: 0    149396 non-null  int64         \n",
      " 1   id            149396 non-null  object        \n",
      " 2   mb_used       149396 non-null  float64       \n",
      " 3   session_date  149396 non-null  datetime64[ns]\n",
      " 4   user_id       149396 non-null  int64         \n",
      "dtypes: datetime64[ns](1), float64(1), int64(2), object(1)\n",
      "memory usage: 5.7+ MB\n",
      "None\n",
      "\n",
      "<class 'pandas.core.frame.DataFrame'>\n",
      "RangeIndex: 123036 entries, 0 to 123035\n",
      "Data columns (total 3 columns):\n",
      " #   Column        Non-Null Count   Dtype         \n",
      "---  ------        --------------   -----         \n",
      " 0   id            123036 non-null  object        \n",
      " 1   message_date  123036 non-null  datetime64[ns]\n",
      " 2   user_id       123036 non-null  int64         \n",
      "dtypes: datetime64[ns](1), int64(1), object(1)\n",
      "memory usage: 2.8+ MB\n",
      "None\n",
      "\n",
      "<class 'pandas.core.frame.DataFrame'>\n",
      "RangeIndex: 500 entries, 0 to 499\n",
      "Data columns (total 8 columns):\n",
      " #   Column      Non-Null Count  Dtype         \n",
      "---  ------      --------------  -----         \n",
      " 0   user_id     500 non-null    int64         \n",
      " 1   age         500 non-null    int64         \n",
      " 2   churn_date  38 non-null     datetime64[ns]\n",
      " 3   city        500 non-null    object        \n",
      " 4   first_name  500 non-null    object        \n",
      " 5   last_name   500 non-null    object        \n",
      " 6   reg_date    500 non-null    datetime64[ns]\n",
      " 7   tariff      500 non-null    object        \n",
      "dtypes: datetime64[ns](2), int64(2), object(4)\n",
      "memory usage: 31.4+ KB\n",
      "None\n",
      "\n"
     ]
    }
   ],
   "source": [
    "calls['call_date'] = pd.to_datetime(calls['call_date'], format= '%Y.%m.%d')\n",
    "internet['session_date'] = pd.to_datetime(internet['session_date'], format = '%Y.%m.%d')\n",
    "messages['message_date'] = pd.to_datetime(messages['message_date'], format = '%Y.%m.%d')\n",
    "users['churn_date'] = pd.to_datetime(users['churn_date'], format='%Y.%m.%d')\n",
    "users['reg_date'] = pd.to_datetime(users['reg_date'], format='%Y.%m.%d')\n",
    "\n",
    "for data in [calls, internet, messages, users]: print(data.info(), end='\\n\\n')"
   ]
  },
  {
   "cell_type": "markdown",
   "id": "dc9d8f57",
   "metadata": {},
   "source": [
    "Замена проведена успешно. Можно двигаться дальше."
   ]
  },
  {
   "cell_type": "markdown",
   "id": "5b4fa93c",
   "metadata": {},
   "source": [
    "### Пропуски и нулевые значения"
   ]
  },
  {
   "cell_type": "markdown",
   "id": "4704cd9b",
   "metadata": {},
   "source": [
    "Выше мы обнаружили в некоторых столбцах пропущенные значения. Для `churn_date` пропуски означают, что тариф ещё действовал на момент выгрузки данных. Кроме того, данные из этго столбца не пригодятся нам для исследования. Поэтому разумно будет оставить столбец без заполнения пропусков. Если исследование будет продолжено и данные станут нужны, необходимо будет запросить их у заказчика. "
   ]
  },
  {
   "cell_type": "markdown",
   "id": "c40941cb",
   "metadata": {},
   "source": [
    "Также известно, что часть столбцов заполнена нулями. Так, например, нули в продолжительности звонка означают пропущенный вызов. Проверим, сколько пропущенных звонков зафиксированно, а также есть ли нулевые значения в других столбцах:  "
   ]
  },
  {
   "cell_type": "code",
   "execution_count": 6,
   "id": "d0f33527",
   "metadata": {},
   "outputs": [
    {
     "data": {
      "text/plain": [
       "39613"
      ]
     },
     "execution_count": 6,
     "metadata": {},
     "output_type": "execute_result"
    }
   ],
   "source": [
    "calls.loc[calls['duration'] == 0, 'duration'].value_counts()[0]"
   ]
  },
  {
   "cell_type": "markdown",
   "id": "49b95104",
   "metadata": {},
   "source": [
    "Доля звонков с нулевой продолжительностью: "
   ]
  },
  {
   "cell_type": "code",
   "execution_count": 7,
   "id": "78d8173c",
   "metadata": {},
   "outputs": [
    {
     "data": {
      "text/plain": [
       "0.19551644316336553"
      ]
     },
     "execution_count": 7,
     "metadata": {},
     "output_type": "execute_result"
    }
   ],
   "source": [
    "calls.loc[calls['duration'] == 0, 'duration'].value_counts()[0]/len(calls) #делим на общую длину датафрейма"
   ]
  },
  {
   "cell_type": "markdown",
   "id": "7436861c",
   "metadata": {},
   "source": [
    "Проверим количество интернет-сессий на наличие нулевых значений: "
   ]
  },
  {
   "cell_type": "code",
   "execution_count": 8,
   "id": "ae641adb",
   "metadata": {},
   "outputs": [
    {
     "data": {
      "text/plain": [
       "19598"
      ]
     },
     "execution_count": 8,
     "metadata": {},
     "output_type": "execute_result"
    }
   ],
   "source": [
    "internet.loc[internet['mb_used'] == 0, 'mb_used'].value_counts()[0]"
   ]
  },
  {
   "cell_type": "markdown",
   "id": "b26af7fd",
   "metadata": {},
   "source": [
    "Доля нулевых интернет-сессий:"
   ]
  },
  {
   "cell_type": "code",
   "execution_count": 9,
   "id": "28d6453d",
   "metadata": {},
   "outputs": [
    {
     "data": {
      "text/plain": [
       "0.13118155773916304"
      ]
     },
     "execution_count": 9,
     "metadata": {},
     "output_type": "execute_result"
    }
   ],
   "source": [
    "internet.loc[internet['mb_used'] == 0, 'mb_used'].value_counts()[0]/len(internet) #делим на общую длину датафрейма"
   ]
  },
  {
   "cell_type": "markdown",
   "id": "c3be3ba8",
   "metadata": {},
   "source": [
    "Итак, есть большое количество звонков и интернет-сессий с нулевой продолжительностью. Однако, эти данные не влияют на исследование, так как мы будем изучать количество предоставленных услуг. \n",
    "Так, например, если абонент совершил 5 звонков длительностью 0,5,7,2,0 или же 3 звонка длительностью 5,7,2, он заплатит за 14 минут, которые будут учтены в общей статистике. Аналогичная ситуация с потраченными мегабайтами. Возможно, пользователь не выходил в интернет, либо не смог воспользоваться интернетом из-за низкого качества связи. Поэтому сессия завершилась с нулевым значением. "
   ]
  },
  {
   "cell_type": "markdown",
   "id": "0806a2c0",
   "metadata": {},
   "source": [
    "### Округление значений"
   ]
  },
  {
   "cell_type": "markdown",
   "id": "87363018",
   "metadata": {},
   "source": [
    "При расчете стоимости услуг оператор всегда округляет минуты и мегабайты в большую сторону. Приведем наши таблицы в соответствие этому принципу. Начнем со звонков:"
   ]
  },
  {
   "cell_type": "code",
   "execution_count": 10,
   "id": "94f011f7",
   "metadata": {
    "scrolled": true
   },
   "outputs": [
    {
     "data": {
      "text/html": [
       "<div>\n",
       "<style scoped>\n",
       "    .dataframe tbody tr th:only-of-type {\n",
       "        vertical-align: middle;\n",
       "    }\n",
       "\n",
       "    .dataframe tbody tr th {\n",
       "        vertical-align: top;\n",
       "    }\n",
       "\n",
       "    .dataframe thead th {\n",
       "        text-align: right;\n",
       "    }\n",
       "</style>\n",
       "<table border=\"1\" class=\"dataframe\">\n",
       "  <thead>\n",
       "    <tr style=\"text-align: right;\">\n",
       "      <th></th>\n",
       "      <th>id</th>\n",
       "      <th>call_date</th>\n",
       "      <th>duration</th>\n",
       "      <th>user_id</th>\n",
       "    </tr>\n",
       "  </thead>\n",
       "  <tbody>\n",
       "    <tr>\n",
       "      <th>0</th>\n",
       "      <td>1000_0</td>\n",
       "      <td>2018-07-25</td>\n",
       "      <td>0.00</td>\n",
       "      <td>1000</td>\n",
       "    </tr>\n",
       "    <tr>\n",
       "      <th>1</th>\n",
       "      <td>1000_1</td>\n",
       "      <td>2018-08-17</td>\n",
       "      <td>0.00</td>\n",
       "      <td>1000</td>\n",
       "    </tr>\n",
       "    <tr>\n",
       "      <th>2</th>\n",
       "      <td>1000_2</td>\n",
       "      <td>2018-06-11</td>\n",
       "      <td>2.85</td>\n",
       "      <td>1000</td>\n",
       "    </tr>\n",
       "    <tr>\n",
       "      <th>3</th>\n",
       "      <td>1000_3</td>\n",
       "      <td>2018-09-21</td>\n",
       "      <td>13.80</td>\n",
       "      <td>1000</td>\n",
       "    </tr>\n",
       "    <tr>\n",
       "      <th>4</th>\n",
       "      <td>1000_4</td>\n",
       "      <td>2018-12-15</td>\n",
       "      <td>5.18</td>\n",
       "      <td>1000</td>\n",
       "    </tr>\n",
       "  </tbody>\n",
       "</table>\n",
       "</div>"
      ],
      "text/plain": [
       "       id  call_date  duration  user_id\n",
       "0  1000_0 2018-07-25      0.00     1000\n",
       "1  1000_1 2018-08-17      0.00     1000\n",
       "2  1000_2 2018-06-11      2.85     1000\n",
       "3  1000_3 2018-09-21     13.80     1000\n",
       "4  1000_4 2018-12-15      5.18     1000"
      ]
     },
     "execution_count": 10,
     "metadata": {},
     "output_type": "execute_result"
    }
   ],
   "source": [
    "calls.head() #как выглядят звонки до округления"
   ]
  },
  {
   "cell_type": "code",
   "execution_count": 11,
   "id": "df7db93a",
   "metadata": {},
   "outputs": [
    {
     "data": {
      "text/html": [
       "<div>\n",
       "<style scoped>\n",
       "    .dataframe tbody tr th:only-of-type {\n",
       "        vertical-align: middle;\n",
       "    }\n",
       "\n",
       "    .dataframe tbody tr th {\n",
       "        vertical-align: top;\n",
       "    }\n",
       "\n",
       "    .dataframe thead th {\n",
       "        text-align: right;\n",
       "    }\n",
       "</style>\n",
       "<table border=\"1\" class=\"dataframe\">\n",
       "  <thead>\n",
       "    <tr style=\"text-align: right;\">\n",
       "      <th></th>\n",
       "      <th>id</th>\n",
       "      <th>call_date</th>\n",
       "      <th>duration</th>\n",
       "      <th>user_id</th>\n",
       "    </tr>\n",
       "  </thead>\n",
       "  <tbody>\n",
       "    <tr>\n",
       "      <th>0</th>\n",
       "      <td>1000_0</td>\n",
       "      <td>2018-07-25</td>\n",
       "      <td>0.0</td>\n",
       "      <td>1000</td>\n",
       "    </tr>\n",
       "    <tr>\n",
       "      <th>1</th>\n",
       "      <td>1000_1</td>\n",
       "      <td>2018-08-17</td>\n",
       "      <td>0.0</td>\n",
       "      <td>1000</td>\n",
       "    </tr>\n",
       "    <tr>\n",
       "      <th>2</th>\n",
       "      <td>1000_2</td>\n",
       "      <td>2018-06-11</td>\n",
       "      <td>3.0</td>\n",
       "      <td>1000</td>\n",
       "    </tr>\n",
       "    <tr>\n",
       "      <th>3</th>\n",
       "      <td>1000_3</td>\n",
       "      <td>2018-09-21</td>\n",
       "      <td>14.0</td>\n",
       "      <td>1000</td>\n",
       "    </tr>\n",
       "    <tr>\n",
       "      <th>4</th>\n",
       "      <td>1000_4</td>\n",
       "      <td>2018-12-15</td>\n",
       "      <td>6.0</td>\n",
       "      <td>1000</td>\n",
       "    </tr>\n",
       "  </tbody>\n",
       "</table>\n",
       "</div>"
      ],
      "text/plain": [
       "       id  call_date  duration  user_id\n",
       "0  1000_0 2018-07-25       0.0     1000\n",
       "1  1000_1 2018-08-17       0.0     1000\n",
       "2  1000_2 2018-06-11       3.0     1000\n",
       "3  1000_3 2018-09-21      14.0     1000\n",
       "4  1000_4 2018-12-15       6.0     1000"
      ]
     },
     "execution_count": 11,
     "metadata": {},
     "output_type": "execute_result"
    }
   ],
   "source": [
    "calls['duration'] = np.ceil(calls['duration'])\n",
    "calls.head() #как выглядят звонки после округления"
   ]
  },
  {
   "cell_type": "markdown",
   "id": "e448d67d",
   "metadata": {},
   "source": [
    "Далее перейдем к статистике по месяцам. "
   ]
  },
  {
   "cell_type": "markdown",
   "id": "d573a525",
   "metadata": {},
   "source": [
    "### Статистика по месяцам"
   ]
  },
  {
   "cell_type": "markdown",
   "id": "23235a8f",
   "metadata": {},
   "source": [
    "Для вычисления помесячной статистики необходимо добавить столбец с месяцем во все таблицы: "
   ]
  },
  {
   "cell_type": "code",
   "execution_count": 12,
   "id": "b65d760c",
   "metadata": {},
   "outputs": [],
   "source": [
    "calls['month'] = calls['call_date'].dt.month"
   ]
  },
  {
   "cell_type": "code",
   "execution_count": 13,
   "id": "c787fb85",
   "metadata": {},
   "outputs": [],
   "source": [
    "internet['month'] = internet['session_date'].dt.month"
   ]
  },
  {
   "cell_type": "code",
   "execution_count": 14,
   "id": "ab0fa342",
   "metadata": {},
   "outputs": [],
   "source": [
    "messages['month'] = messages['message_date'].dt.month"
   ]
  },
  {
   "cell_type": "markdown",
   "id": "570532cd",
   "metadata": {},
   "source": [
    "Теперь можно переходить к статистике по месяцам. \n",
    "\n",
    "Вычислим количество сделанных звонков и израсходованных минут разговора по месяцам: "
   ]
  },
  {
   "cell_type": "code",
   "execution_count": 15,
   "id": "f679fdb9",
   "metadata": {},
   "outputs": [],
   "source": [
    "calls_pivot = calls.pivot_table(index=['user_id','month'], values='duration',aggfunc=('sum','count')).reset_index()\n"
   ]
  },
  {
   "cell_type": "code",
   "execution_count": 16,
   "id": "b8732c70",
   "metadata": {},
   "outputs": [],
   "source": [
    "calls_pivot.columns = ['user_id', 'month', 'calls_amount', 'calls_duration']"
   ]
  },
  {
   "cell_type": "code",
   "execution_count": 17,
   "id": "337ccaa1",
   "metadata": {
    "scrolled": true
   },
   "outputs": [
    {
     "data": {
      "text/html": [
       "<div>\n",
       "<style scoped>\n",
       "    .dataframe tbody tr th:only-of-type {\n",
       "        vertical-align: middle;\n",
       "    }\n",
       "\n",
       "    .dataframe tbody tr th {\n",
       "        vertical-align: top;\n",
       "    }\n",
       "\n",
       "    .dataframe thead th {\n",
       "        text-align: right;\n",
       "    }\n",
       "</style>\n",
       "<table border=\"1\" class=\"dataframe\">\n",
       "  <thead>\n",
       "    <tr style=\"text-align: right;\">\n",
       "      <th></th>\n",
       "      <th>user_id</th>\n",
       "      <th>month</th>\n",
       "      <th>calls_amount</th>\n",
       "      <th>calls_duration</th>\n",
       "    </tr>\n",
       "  </thead>\n",
       "  <tbody>\n",
       "    <tr>\n",
       "      <th>0</th>\n",
       "      <td>1000</td>\n",
       "      <td>5</td>\n",
       "      <td>22</td>\n",
       "      <td>159.0</td>\n",
       "    </tr>\n",
       "    <tr>\n",
       "      <th>1</th>\n",
       "      <td>1000</td>\n",
       "      <td>6</td>\n",
       "      <td>43</td>\n",
       "      <td>172.0</td>\n",
       "    </tr>\n",
       "    <tr>\n",
       "      <th>2</th>\n",
       "      <td>1000</td>\n",
       "      <td>7</td>\n",
       "      <td>47</td>\n",
       "      <td>340.0</td>\n",
       "    </tr>\n",
       "    <tr>\n",
       "      <th>3</th>\n",
       "      <td>1000</td>\n",
       "      <td>8</td>\n",
       "      <td>52</td>\n",
       "      <td>408.0</td>\n",
       "    </tr>\n",
       "    <tr>\n",
       "      <th>4</th>\n",
       "      <td>1000</td>\n",
       "      <td>9</td>\n",
       "      <td>58</td>\n",
       "      <td>466.0</td>\n",
       "    </tr>\n",
       "  </tbody>\n",
       "</table>\n",
       "</div>"
      ],
      "text/plain": [
       "   user_id  month  calls_amount  calls_duration\n",
       "0     1000      5            22           159.0\n",
       "1     1000      6            43           172.0\n",
       "2     1000      7            47           340.0\n",
       "3     1000      8            52           408.0\n",
       "4     1000      9            58           466.0"
      ]
     },
     "execution_count": 17,
     "metadata": {},
     "output_type": "execute_result"
    }
   ],
   "source": [
    "calls_pivot.head()"
   ]
  },
  {
   "cell_type": "code",
   "execution_count": 18,
   "id": "5b9f9949",
   "metadata": {},
   "outputs": [
    {
     "data": {
      "text/plain": [
       "1450301.0"
      ]
     },
     "execution_count": 18,
     "metadata": {},
     "output_type": "execute_result"
    }
   ],
   "source": [
    "calls_pivot.calls_duration.sum()"
   ]
  },
  {
   "cell_type": "markdown",
   "id": "7b90317e",
   "metadata": {},
   "source": [
    "Посчитаем количество отправленных сообщений по месяцам:"
   ]
  },
  {
   "cell_type": "code",
   "execution_count": 19,
   "id": "ac7e3530",
   "metadata": {},
   "outputs": [
    {
     "data": {
      "text/html": [
       "<div>\n",
       "<style scoped>\n",
       "    .dataframe tbody tr th:only-of-type {\n",
       "        vertical-align: middle;\n",
       "    }\n",
       "\n",
       "    .dataframe tbody tr th {\n",
       "        vertical-align: top;\n",
       "    }\n",
       "\n",
       "    .dataframe thead th {\n",
       "        text-align: right;\n",
       "    }\n",
       "</style>\n",
       "<table border=\"1\" class=\"dataframe\">\n",
       "  <thead>\n",
       "    <tr style=\"text-align: right;\">\n",
       "      <th></th>\n",
       "      <th>user_id</th>\n",
       "      <th>month</th>\n",
       "      <th>sms_amount</th>\n",
       "    </tr>\n",
       "  </thead>\n",
       "  <tbody>\n",
       "    <tr>\n",
       "      <th>0</th>\n",
       "      <td>1000</td>\n",
       "      <td>5</td>\n",
       "      <td>22</td>\n",
       "    </tr>\n",
       "    <tr>\n",
       "      <th>1</th>\n",
       "      <td>1000</td>\n",
       "      <td>6</td>\n",
       "      <td>60</td>\n",
       "    </tr>\n",
       "    <tr>\n",
       "      <th>2</th>\n",
       "      <td>1000</td>\n",
       "      <td>7</td>\n",
       "      <td>75</td>\n",
       "    </tr>\n",
       "    <tr>\n",
       "      <th>3</th>\n",
       "      <td>1000</td>\n",
       "      <td>8</td>\n",
       "      <td>81</td>\n",
       "    </tr>\n",
       "    <tr>\n",
       "      <th>4</th>\n",
       "      <td>1000</td>\n",
       "      <td>9</td>\n",
       "      <td>57</td>\n",
       "    </tr>\n",
       "  </tbody>\n",
       "</table>\n",
       "</div>"
      ],
      "text/plain": [
       "   user_id  month  sms_amount\n",
       "0     1000      5          22\n",
       "1     1000      6          60\n",
       "2     1000      7          75\n",
       "3     1000      8          81\n",
       "4     1000      9          57"
      ]
     },
     "execution_count": 19,
     "metadata": {},
     "output_type": "execute_result"
    }
   ],
   "source": [
    "messages_pivot = messages.pivot_table(index=['user_id','month'], values='message_date',aggfunc='count').reset_index()\n",
    "messages_pivot.columns = ['user_id', 'month', 'sms_amount']\n",
    "messages_pivot.head()"
   ]
  },
  {
   "cell_type": "code",
   "execution_count": 20,
   "id": "49e103ff",
   "metadata": {},
   "outputs": [
    {
     "data": {
      "text/plain": [
       "123036"
      ]
     },
     "execution_count": 20,
     "metadata": {},
     "output_type": "execute_result"
    }
   ],
   "source": [
    "messages_pivot.sms_amount.sum()"
   ]
  },
  {
   "cell_type": "markdown",
   "id": "cb1e3c7d",
   "metadata": {},
   "source": [
    "Перейдем к объему израсходованного интернет-трафика по месяцам:"
   ]
  },
  {
   "cell_type": "code",
   "execution_count": 21,
   "id": "59a891f1",
   "metadata": {},
   "outputs": [
    {
     "data": {
      "text/html": [
       "<div>\n",
       "<style scoped>\n",
       "    .dataframe tbody tr th:only-of-type {\n",
       "        vertical-align: middle;\n",
       "    }\n",
       "\n",
       "    .dataframe tbody tr th {\n",
       "        vertical-align: top;\n",
       "    }\n",
       "\n",
       "    .dataframe thead th {\n",
       "        text-align: right;\n",
       "    }\n",
       "</style>\n",
       "<table border=\"1\" class=\"dataframe\">\n",
       "  <thead>\n",
       "    <tr style=\"text-align: right;\">\n",
       "      <th></th>\n",
       "      <th>user_id</th>\n",
       "      <th>month</th>\n",
       "      <th>internet_amount</th>\n",
       "    </tr>\n",
       "  </thead>\n",
       "  <tbody>\n",
       "    <tr>\n",
       "      <th>0</th>\n",
       "      <td>1000</td>\n",
       "      <td>5</td>\n",
       "      <td>2253.49</td>\n",
       "    </tr>\n",
       "    <tr>\n",
       "      <th>1</th>\n",
       "      <td>1000</td>\n",
       "      <td>6</td>\n",
       "      <td>23233.77</td>\n",
       "    </tr>\n",
       "    <tr>\n",
       "      <th>2</th>\n",
       "      <td>1000</td>\n",
       "      <td>7</td>\n",
       "      <td>14003.64</td>\n",
       "    </tr>\n",
       "    <tr>\n",
       "      <th>3</th>\n",
       "      <td>1000</td>\n",
       "      <td>8</td>\n",
       "      <td>14055.93</td>\n",
       "    </tr>\n",
       "    <tr>\n",
       "      <th>4</th>\n",
       "      <td>1000</td>\n",
       "      <td>9</td>\n",
       "      <td>14568.91</td>\n",
       "    </tr>\n",
       "  </tbody>\n",
       "</table>\n",
       "</div>"
      ],
      "text/plain": [
       "   user_id  month  internet_amount\n",
       "0     1000      5          2253.49\n",
       "1     1000      6         23233.77\n",
       "2     1000      7         14003.64\n",
       "3     1000      8         14055.93\n",
       "4     1000      9         14568.91"
      ]
     },
     "execution_count": 21,
     "metadata": {},
     "output_type": "execute_result"
    }
   ],
   "source": [
    "internet_pivot = internet.pivot_table(index=['user_id','month'], values='mb_used',aggfunc='sum').reset_index()\n",
    "internet_pivot.columns = ['user_id', 'month', 'internet_amount']\n",
    "internet_pivot.head()"
   ]
  },
  {
   "cell_type": "code",
   "execution_count": 22,
   "id": "294f5677",
   "metadata": {},
   "outputs": [
    {
     "data": {
      "text/plain": [
       "55305267.730000004"
      ]
     },
     "execution_count": 22,
     "metadata": {},
     "output_type": "execute_result"
    }
   ],
   "source": [
    "internet_pivot['internet_amount'].sum()"
   ]
  },
  {
   "cell_type": "code",
   "execution_count": 23,
   "id": "072318f4",
   "metadata": {},
   "outputs": [
    {
     "data": {
      "text/plain": [
       "55305267.73"
      ]
     },
     "execution_count": 23,
     "metadata": {},
     "output_type": "execute_result"
    }
   ],
   "source": [
    "internet['mb_used'].sum()"
   ]
  },
  {
   "cell_type": "code",
   "execution_count": 24,
   "id": "9ebb6361",
   "metadata": {},
   "outputs": [
    {
     "data": {
      "text/html": [
       "<div>\n",
       "<style scoped>\n",
       "    .dataframe tbody tr th:only-of-type {\n",
       "        vertical-align: middle;\n",
       "    }\n",
       "\n",
       "    .dataframe tbody tr th {\n",
       "        vertical-align: top;\n",
       "    }\n",
       "\n",
       "    .dataframe thead th {\n",
       "        text-align: right;\n",
       "    }\n",
       "</style>\n",
       "<table border=\"1\" class=\"dataframe\">\n",
       "  <thead>\n",
       "    <tr style=\"text-align: right;\">\n",
       "      <th></th>\n",
       "      <th>user_id</th>\n",
       "      <th>month</th>\n",
       "      <th>internet_amount</th>\n",
       "    </tr>\n",
       "  </thead>\n",
       "  <tbody>\n",
       "    <tr>\n",
       "      <th>0</th>\n",
       "      <td>1000</td>\n",
       "      <td>5</td>\n",
       "      <td>2.200674</td>\n",
       "    </tr>\n",
       "    <tr>\n",
       "      <th>1</th>\n",
       "      <td>1000</td>\n",
       "      <td>6</td>\n",
       "      <td>22.689229</td>\n",
       "    </tr>\n",
       "    <tr>\n",
       "      <th>2</th>\n",
       "      <td>1000</td>\n",
       "      <td>7</td>\n",
       "      <td>13.675430</td>\n",
       "    </tr>\n",
       "    <tr>\n",
       "      <th>3</th>\n",
       "      <td>1000</td>\n",
       "      <td>8</td>\n",
       "      <td>13.726494</td>\n",
       "    </tr>\n",
       "    <tr>\n",
       "      <th>4</th>\n",
       "      <td>1000</td>\n",
       "      <td>9</td>\n",
       "      <td>14.227451</td>\n",
       "    </tr>\n",
       "    <tr>\n",
       "      <th>...</th>\n",
       "      <td>...</td>\n",
       "      <td>...</td>\n",
       "      <td>...</td>\n",
       "    </tr>\n",
       "    <tr>\n",
       "      <th>3198</th>\n",
       "      <td>1498</td>\n",
       "      <td>10</td>\n",
       "      <td>20.097031</td>\n",
       "    </tr>\n",
       "    <tr>\n",
       "      <th>3199</th>\n",
       "      <td>1499</td>\n",
       "      <td>9</td>\n",
       "      <td>1.802490</td>\n",
       "    </tr>\n",
       "    <tr>\n",
       "      <th>3200</th>\n",
       "      <td>1499</td>\n",
       "      <td>10</td>\n",
       "      <td>17.371592</td>\n",
       "    </tr>\n",
       "    <tr>\n",
       "      <th>3201</th>\n",
       "      <td>1499</td>\n",
       "      <td>11</td>\n",
       "      <td>17.542295</td>\n",
       "    </tr>\n",
       "    <tr>\n",
       "      <th>3202</th>\n",
       "      <td>1499</td>\n",
       "      <td>12</td>\n",
       "      <td>12.749590</td>\n",
       "    </tr>\n",
       "  </tbody>\n",
       "</table>\n",
       "<p>3203 rows × 3 columns</p>\n",
       "</div>"
      ],
      "text/plain": [
       "      user_id  month  internet_amount\n",
       "0        1000      5         2.200674\n",
       "1        1000      6        22.689229\n",
       "2        1000      7        13.675430\n",
       "3        1000      8        13.726494\n",
       "4        1000      9        14.227451\n",
       "...       ...    ...              ...\n",
       "3198     1498     10        20.097031\n",
       "3199     1499      9         1.802490\n",
       "3200     1499     10        17.371592\n",
       "3201     1499     11        17.542295\n",
       "3202     1499     12        12.749590\n",
       "\n",
       "[3203 rows x 3 columns]"
      ]
     },
     "execution_count": 24,
     "metadata": {},
     "output_type": "execute_result"
    }
   ],
   "source": [
    "internet_pivot['internet_amount'] = internet_pivot['internet_amount']/1024\n",
    "internet_pivot"
   ]
  },
  {
   "cell_type": "code",
   "execution_count": 25,
   "id": "14c6d607",
   "metadata": {},
   "outputs": [
    {
     "data": {
      "text/html": [
       "<div>\n",
       "<style scoped>\n",
       "    .dataframe tbody tr th:only-of-type {\n",
       "        vertical-align: middle;\n",
       "    }\n",
       "\n",
       "    .dataframe tbody tr th {\n",
       "        vertical-align: top;\n",
       "    }\n",
       "\n",
       "    .dataframe thead th {\n",
       "        text-align: right;\n",
       "    }\n",
       "</style>\n",
       "<table border=\"1\" class=\"dataframe\">\n",
       "  <thead>\n",
       "    <tr style=\"text-align: right;\">\n",
       "      <th></th>\n",
       "      <th>user_id</th>\n",
       "      <th>month</th>\n",
       "      <th>internet_amount</th>\n",
       "    </tr>\n",
       "  </thead>\n",
       "  <tbody>\n",
       "    <tr>\n",
       "      <th>0</th>\n",
       "      <td>1000</td>\n",
       "      <td>5</td>\n",
       "      <td>3.0</td>\n",
       "    </tr>\n",
       "    <tr>\n",
       "      <th>1</th>\n",
       "      <td>1000</td>\n",
       "      <td>6</td>\n",
       "      <td>23.0</td>\n",
       "    </tr>\n",
       "    <tr>\n",
       "      <th>2</th>\n",
       "      <td>1000</td>\n",
       "      <td>7</td>\n",
       "      <td>14.0</td>\n",
       "    </tr>\n",
       "    <tr>\n",
       "      <th>3</th>\n",
       "      <td>1000</td>\n",
       "      <td>8</td>\n",
       "      <td>14.0</td>\n",
       "    </tr>\n",
       "    <tr>\n",
       "      <th>4</th>\n",
       "      <td>1000</td>\n",
       "      <td>9</td>\n",
       "      <td>15.0</td>\n",
       "    </tr>\n",
       "    <tr>\n",
       "      <th>...</th>\n",
       "      <td>...</td>\n",
       "      <td>...</td>\n",
       "      <td>...</td>\n",
       "    </tr>\n",
       "    <tr>\n",
       "      <th>3198</th>\n",
       "      <td>1498</td>\n",
       "      <td>10</td>\n",
       "      <td>21.0</td>\n",
       "    </tr>\n",
       "    <tr>\n",
       "      <th>3199</th>\n",
       "      <td>1499</td>\n",
       "      <td>9</td>\n",
       "      <td>2.0</td>\n",
       "    </tr>\n",
       "    <tr>\n",
       "      <th>3200</th>\n",
       "      <td>1499</td>\n",
       "      <td>10</td>\n",
       "      <td>18.0</td>\n",
       "    </tr>\n",
       "    <tr>\n",
       "      <th>3201</th>\n",
       "      <td>1499</td>\n",
       "      <td>11</td>\n",
       "      <td>18.0</td>\n",
       "    </tr>\n",
       "    <tr>\n",
       "      <th>3202</th>\n",
       "      <td>1499</td>\n",
       "      <td>12</td>\n",
       "      <td>13.0</td>\n",
       "    </tr>\n",
       "  </tbody>\n",
       "</table>\n",
       "<p>3203 rows × 3 columns</p>\n",
       "</div>"
      ],
      "text/plain": [
       "      user_id  month  internet_amount\n",
       "0        1000      5              3.0\n",
       "1        1000      6             23.0\n",
       "2        1000      7             14.0\n",
       "3        1000      8             14.0\n",
       "4        1000      9             15.0\n",
       "...       ...    ...              ...\n",
       "3198     1498     10             21.0\n",
       "3199     1499      9              2.0\n",
       "3200     1499     10             18.0\n",
       "3201     1499     11             18.0\n",
       "3202     1499     12             13.0\n",
       "\n",
       "[3203 rows x 3 columns]"
      ]
     },
     "execution_count": 25,
     "metadata": {},
     "output_type": "execute_result"
    }
   ],
   "source": [
    "internet_pivot['internet_amount'] = np.ceil(internet_pivot['internet_amount'])\n",
    "internet_pivot"
   ]
  },
  {
   "cell_type": "code",
   "execution_count": 26,
   "id": "95c6f92a",
   "metadata": {},
   "outputs": [
    {
     "data": {
      "text/plain": [
       "55599.0"
      ]
     },
     "execution_count": 26,
     "metadata": {},
     "output_type": "execute_result"
    }
   ],
   "source": [
    "internet_pivot['internet_amount'].sum()"
   ]
  },
  {
   "cell_type": "markdown",
   "id": "3dab7bcf",
   "metadata": {},
   "source": [
    "### Помесячная выручка"
   ]
  },
  {
   "cell_type": "markdown",
   "id": "3ef54b94",
   "metadata": {},
   "source": [
    "Рассчитаем помесячную выручку с каждого пользователя (вычтем бесплатный лимит из суммарного количества звонков, сообщений и интернет-трафика; остаток умножим на значение из тарифного плана; прибавим абонентскую плату, соответствующую тарифному плану)."
   ]
  },
  {
   "cell_type": "markdown",
   "id": "1fbe05fa",
   "metadata": {},
   "source": [
    "Для начала соберем все необходимые данные в сводную таблицу:"
   ]
  },
  {
   "cell_type": "code",
   "execution_count": 27,
   "id": "54154a6b",
   "metadata": {},
   "outputs": [
    {
     "data": {
      "text/html": [
       "<div>\n",
       "<style scoped>\n",
       "    .dataframe tbody tr th:only-of-type {\n",
       "        vertical-align: middle;\n",
       "    }\n",
       "\n",
       "    .dataframe tbody tr th {\n",
       "        vertical-align: top;\n",
       "    }\n",
       "\n",
       "    .dataframe thead th {\n",
       "        text-align: right;\n",
       "    }\n",
       "</style>\n",
       "<table border=\"1\" class=\"dataframe\">\n",
       "  <thead>\n",
       "    <tr style=\"text-align: right;\">\n",
       "      <th></th>\n",
       "      <th>user_id</th>\n",
       "      <th>month</th>\n",
       "      <th>calls_amount</th>\n",
       "      <th>calls_duration</th>\n",
       "      <th>sms_amount</th>\n",
       "      <th>internet_amount</th>\n",
       "    </tr>\n",
       "  </thead>\n",
       "  <tbody>\n",
       "    <tr>\n",
       "      <th>0</th>\n",
       "      <td>1000</td>\n",
       "      <td>5</td>\n",
       "      <td>22.0</td>\n",
       "      <td>159.0</td>\n",
       "      <td>22.0</td>\n",
       "      <td>3.0</td>\n",
       "    </tr>\n",
       "    <tr>\n",
       "      <th>1</th>\n",
       "      <td>1000</td>\n",
       "      <td>6</td>\n",
       "      <td>43.0</td>\n",
       "      <td>172.0</td>\n",
       "      <td>60.0</td>\n",
       "      <td>23.0</td>\n",
       "    </tr>\n",
       "    <tr>\n",
       "      <th>2</th>\n",
       "      <td>1000</td>\n",
       "      <td>7</td>\n",
       "      <td>47.0</td>\n",
       "      <td>340.0</td>\n",
       "      <td>75.0</td>\n",
       "      <td>14.0</td>\n",
       "    </tr>\n",
       "    <tr>\n",
       "      <th>3</th>\n",
       "      <td>1000</td>\n",
       "      <td>8</td>\n",
       "      <td>52.0</td>\n",
       "      <td>408.0</td>\n",
       "      <td>81.0</td>\n",
       "      <td>14.0</td>\n",
       "    </tr>\n",
       "    <tr>\n",
       "      <th>4</th>\n",
       "      <td>1000</td>\n",
       "      <td>9</td>\n",
       "      <td>58.0</td>\n",
       "      <td>466.0</td>\n",
       "      <td>57.0</td>\n",
       "      <td>15.0</td>\n",
       "    </tr>\n",
       "    <tr>\n",
       "      <th>5</th>\n",
       "      <td>1000</td>\n",
       "      <td>10</td>\n",
       "      <td>57.0</td>\n",
       "      <td>350.0</td>\n",
       "      <td>73.0</td>\n",
       "      <td>15.0</td>\n",
       "    </tr>\n",
       "    <tr>\n",
       "      <th>6</th>\n",
       "      <td>1000</td>\n",
       "      <td>11</td>\n",
       "      <td>43.0</td>\n",
       "      <td>338.0</td>\n",
       "      <td>58.0</td>\n",
       "      <td>15.0</td>\n",
       "    </tr>\n",
       "    <tr>\n",
       "      <th>7</th>\n",
       "      <td>1000</td>\n",
       "      <td>12</td>\n",
       "      <td>46.0</td>\n",
       "      <td>333.0</td>\n",
       "      <td>70.0</td>\n",
       "      <td>10.0</td>\n",
       "    </tr>\n",
       "    <tr>\n",
       "      <th>8</th>\n",
       "      <td>1001</td>\n",
       "      <td>11</td>\n",
       "      <td>59.0</td>\n",
       "      <td>430.0</td>\n",
       "      <td>NaN</td>\n",
       "      <td>18.0</td>\n",
       "    </tr>\n",
       "    <tr>\n",
       "      <th>9</th>\n",
       "      <td>1001</td>\n",
       "      <td>12</td>\n",
       "      <td>63.0</td>\n",
       "      <td>414.0</td>\n",
       "      <td>NaN</td>\n",
       "      <td>14.0</td>\n",
       "    </tr>\n",
       "    <tr>\n",
       "      <th>10</th>\n",
       "      <td>1002</td>\n",
       "      <td>6</td>\n",
       "      <td>15.0</td>\n",
       "      <td>117.0</td>\n",
       "      <td>4.0</td>\n",
       "      <td>11.0</td>\n",
       "    </tr>\n",
       "    <tr>\n",
       "      <th>11</th>\n",
       "      <td>1002</td>\n",
       "      <td>7</td>\n",
       "      <td>26.0</td>\n",
       "      <td>214.0</td>\n",
       "      <td>11.0</td>\n",
       "      <td>18.0</td>\n",
       "    </tr>\n",
       "    <tr>\n",
       "      <th>12</th>\n",
       "      <td>1002</td>\n",
       "      <td>8</td>\n",
       "      <td>42.0</td>\n",
       "      <td>289.0</td>\n",
       "      <td>13.0</td>\n",
       "      <td>20.0</td>\n",
       "    </tr>\n",
       "    <tr>\n",
       "      <th>13</th>\n",
       "      <td>1002</td>\n",
       "      <td>9</td>\n",
       "      <td>36.0</td>\n",
       "      <td>206.0</td>\n",
       "      <td>4.0</td>\n",
       "      <td>17.0</td>\n",
       "    </tr>\n",
       "    <tr>\n",
       "      <th>14</th>\n",
       "      <td>1002</td>\n",
       "      <td>10</td>\n",
       "      <td>33.0</td>\n",
       "      <td>212.0</td>\n",
       "      <td>10.0</td>\n",
       "      <td>14.0</td>\n",
       "    </tr>\n",
       "    <tr>\n",
       "      <th>15</th>\n",
       "      <td>1002</td>\n",
       "      <td>11</td>\n",
       "      <td>32.0</td>\n",
       "      <td>243.0</td>\n",
       "      <td>16.0</td>\n",
       "      <td>19.0</td>\n",
       "    </tr>\n",
       "    <tr>\n",
       "      <th>16</th>\n",
       "      <td>1002</td>\n",
       "      <td>12</td>\n",
       "      <td>33.0</td>\n",
       "      <td>236.0</td>\n",
       "      <td>12.0</td>\n",
       "      <td>18.0</td>\n",
       "    </tr>\n",
       "    <tr>\n",
       "      <th>17</th>\n",
       "      <td>1003</td>\n",
       "      <td>8</td>\n",
       "      <td>55.0</td>\n",
       "      <td>380.0</td>\n",
       "      <td>37.0</td>\n",
       "      <td>9.0</td>\n",
       "    </tr>\n",
       "    <tr>\n",
       "      <th>18</th>\n",
       "      <td>1003</td>\n",
       "      <td>9</td>\n",
       "      <td>134.0</td>\n",
       "      <td>961.0</td>\n",
       "      <td>91.0</td>\n",
       "      <td>13.0</td>\n",
       "    </tr>\n",
       "    <tr>\n",
       "      <th>19</th>\n",
       "      <td>1003</td>\n",
       "      <td>10</td>\n",
       "      <td>108.0</td>\n",
       "      <td>855.0</td>\n",
       "      <td>83.0</td>\n",
       "      <td>15.0</td>\n",
       "    </tr>\n",
       "  </tbody>\n",
       "</table>\n",
       "</div>"
      ],
      "text/plain": [
       "    user_id  month  calls_amount  calls_duration  sms_amount  internet_amount\n",
       "0      1000      5          22.0           159.0        22.0              3.0\n",
       "1      1000      6          43.0           172.0        60.0             23.0\n",
       "2      1000      7          47.0           340.0        75.0             14.0\n",
       "3      1000      8          52.0           408.0        81.0             14.0\n",
       "4      1000      9          58.0           466.0        57.0             15.0\n",
       "5      1000     10          57.0           350.0        73.0             15.0\n",
       "6      1000     11          43.0           338.0        58.0             15.0\n",
       "7      1000     12          46.0           333.0        70.0             10.0\n",
       "8      1001     11          59.0           430.0         NaN             18.0\n",
       "9      1001     12          63.0           414.0         NaN             14.0\n",
       "10     1002      6          15.0           117.0         4.0             11.0\n",
       "11     1002      7          26.0           214.0        11.0             18.0\n",
       "12     1002      8          42.0           289.0        13.0             20.0\n",
       "13     1002      9          36.0           206.0         4.0             17.0\n",
       "14     1002     10          33.0           212.0        10.0             14.0\n",
       "15     1002     11          32.0           243.0        16.0             19.0\n",
       "16     1002     12          33.0           236.0        12.0             18.0\n",
       "17     1003      8          55.0           380.0        37.0              9.0\n",
       "18     1003      9         134.0           961.0        91.0             13.0\n",
       "19     1003     10         108.0           855.0        83.0             15.0"
      ]
     },
     "execution_count": 27,
     "metadata": {},
     "output_type": "execute_result"
    }
   ],
   "source": [
    "total_data = calls_pivot.merge(messages_pivot, on=['user_id', 'month'], how='outer')\n",
    "total_data = total_data.merge(internet_pivot, on=['user_id', 'month'], how='outer')\n",
    "total_data.head(20)"
   ]
  },
  {
   "cell_type": "markdown",
   "id": "221ee066",
   "metadata": {},
   "source": [
    "После объединения можно заметить пропуски в строках с индексами 8 и 9. Возможно, пользователь не отправлял смс-сообщения, зато очень активно пользовался интернетом. \n",
    "\n",
    "Проверим, есть ли еще пропуски в общей таблице: "
   ]
  },
  {
   "cell_type": "code",
   "execution_count": 28,
   "id": "f5d35aa1",
   "metadata": {
    "scrolled": false
   },
   "outputs": [
    {
     "data": {
      "text/plain": [
       "user_id              0\n",
       "month                0\n",
       "calls_amount        40\n",
       "calls_duration      40\n",
       "sms_amount         497\n",
       "internet_amount     11\n",
       "dtype: int64"
      ]
     },
     "execution_count": 28,
     "metadata": {},
     "output_type": "execute_result"
    }
   ],
   "source": [
    "total_data.isna().sum()"
   ]
  },
  {
   "cell_type": "markdown",
   "id": "83732c50",
   "metadata": {},
   "source": [
    "Видимо, смс-сообщения постепенно уходят в прошлое. Пропусков достаточно много. Их логично будет заменить нулями. "
   ]
  },
  {
   "cell_type": "code",
   "execution_count": 29,
   "id": "8e8334b2",
   "metadata": {},
   "outputs": [
    {
     "data": {
      "text/html": [
       "<div>\n",
       "<style scoped>\n",
       "    .dataframe tbody tr th:only-of-type {\n",
       "        vertical-align: middle;\n",
       "    }\n",
       "\n",
       "    .dataframe tbody tr th {\n",
       "        vertical-align: top;\n",
       "    }\n",
       "\n",
       "    .dataframe thead th {\n",
       "        text-align: right;\n",
       "    }\n",
       "</style>\n",
       "<table border=\"1\" class=\"dataframe\">\n",
       "  <thead>\n",
       "    <tr style=\"text-align: right;\">\n",
       "      <th></th>\n",
       "      <th>user_id</th>\n",
       "      <th>month</th>\n",
       "      <th>calls_amount</th>\n",
       "      <th>calls_duration</th>\n",
       "      <th>sms_amount</th>\n",
       "      <th>internet_amount</th>\n",
       "    </tr>\n",
       "  </thead>\n",
       "  <tbody>\n",
       "    <tr>\n",
       "      <th>0</th>\n",
       "      <td>1000</td>\n",
       "      <td>5</td>\n",
       "      <td>22.0</td>\n",
       "      <td>159.0</td>\n",
       "      <td>22.0</td>\n",
       "      <td>3.0</td>\n",
       "    </tr>\n",
       "    <tr>\n",
       "      <th>1</th>\n",
       "      <td>1000</td>\n",
       "      <td>6</td>\n",
       "      <td>43.0</td>\n",
       "      <td>172.0</td>\n",
       "      <td>60.0</td>\n",
       "      <td>23.0</td>\n",
       "    </tr>\n",
       "    <tr>\n",
       "      <th>2</th>\n",
       "      <td>1000</td>\n",
       "      <td>7</td>\n",
       "      <td>47.0</td>\n",
       "      <td>340.0</td>\n",
       "      <td>75.0</td>\n",
       "      <td>14.0</td>\n",
       "    </tr>\n",
       "    <tr>\n",
       "      <th>3</th>\n",
       "      <td>1000</td>\n",
       "      <td>8</td>\n",
       "      <td>52.0</td>\n",
       "      <td>408.0</td>\n",
       "      <td>81.0</td>\n",
       "      <td>14.0</td>\n",
       "    </tr>\n",
       "    <tr>\n",
       "      <th>4</th>\n",
       "      <td>1000</td>\n",
       "      <td>9</td>\n",
       "      <td>58.0</td>\n",
       "      <td>466.0</td>\n",
       "      <td>57.0</td>\n",
       "      <td>15.0</td>\n",
       "    </tr>\n",
       "    <tr>\n",
       "      <th>5</th>\n",
       "      <td>1000</td>\n",
       "      <td>10</td>\n",
       "      <td>57.0</td>\n",
       "      <td>350.0</td>\n",
       "      <td>73.0</td>\n",
       "      <td>15.0</td>\n",
       "    </tr>\n",
       "    <tr>\n",
       "      <th>6</th>\n",
       "      <td>1000</td>\n",
       "      <td>11</td>\n",
       "      <td>43.0</td>\n",
       "      <td>338.0</td>\n",
       "      <td>58.0</td>\n",
       "      <td>15.0</td>\n",
       "    </tr>\n",
       "    <tr>\n",
       "      <th>7</th>\n",
       "      <td>1000</td>\n",
       "      <td>12</td>\n",
       "      <td>46.0</td>\n",
       "      <td>333.0</td>\n",
       "      <td>70.0</td>\n",
       "      <td>10.0</td>\n",
       "    </tr>\n",
       "    <tr>\n",
       "      <th>8</th>\n",
       "      <td>1001</td>\n",
       "      <td>11</td>\n",
       "      <td>59.0</td>\n",
       "      <td>430.0</td>\n",
       "      <td>0.0</td>\n",
       "      <td>18.0</td>\n",
       "    </tr>\n",
       "    <tr>\n",
       "      <th>9</th>\n",
       "      <td>1001</td>\n",
       "      <td>12</td>\n",
       "      <td>63.0</td>\n",
       "      <td>414.0</td>\n",
       "      <td>0.0</td>\n",
       "      <td>14.0</td>\n",
       "    </tr>\n",
       "  </tbody>\n",
       "</table>\n",
       "</div>"
      ],
      "text/plain": [
       "   user_id  month  calls_amount  calls_duration  sms_amount  internet_amount\n",
       "0     1000      5          22.0           159.0        22.0              3.0\n",
       "1     1000      6          43.0           172.0        60.0             23.0\n",
       "2     1000      7          47.0           340.0        75.0             14.0\n",
       "3     1000      8          52.0           408.0        81.0             14.0\n",
       "4     1000      9          58.0           466.0        57.0             15.0\n",
       "5     1000     10          57.0           350.0        73.0             15.0\n",
       "6     1000     11          43.0           338.0        58.0             15.0\n",
       "7     1000     12          46.0           333.0        70.0             10.0\n",
       "8     1001     11          59.0           430.0         0.0             18.0\n",
       "9     1001     12          63.0           414.0         0.0             14.0"
      ]
     },
     "execution_count": 29,
     "metadata": {},
     "output_type": "execute_result"
    }
   ],
   "source": [
    "total_data['sms_amount'] = total_data['sms_amount'].fillna(0)\n",
    "total_data.head(10) #посмотрим на результат замены"
   ]
  },
  {
   "cell_type": "markdown",
   "id": "55cb51be",
   "metadata": {},
   "source": [
    "Замена прошла успешно, пользователь с номером 1001 отправил 0 смс-сообщений. "
   ]
  },
  {
   "cell_type": "code",
   "execution_count": 30,
   "id": "1e308eca",
   "metadata": {},
   "outputs": [],
   "source": [
    "total_data[['calls_amount', 'calls_duration', 'sms_amount',\n",
    "       'internet_amount']] = total_data[['calls_amount', 'calls_duration', 'sms_amount',\n",
    "       'internet_amount']].fillna(0)"
   ]
  },
  {
   "cell_type": "markdown",
   "id": "e77a53fa",
   "metadata": {},
   "source": [
    "Добавим тариф, это важно для последующего расчета выручки: "
   ]
  },
  {
   "cell_type": "code",
   "execution_count": 31,
   "id": "30d594c4",
   "metadata": {},
   "outputs": [],
   "source": [
    "total_data = total_data.merge(users[['user_id','tariff']], on = 'user_id', how='outer')"
   ]
  },
  {
   "cell_type": "code",
   "execution_count": 32,
   "id": "3eb9fc5f",
   "metadata": {},
   "outputs": [
    {
     "data": {
      "text/html": [
       "<div>\n",
       "<style scoped>\n",
       "    .dataframe tbody tr th:only-of-type {\n",
       "        vertical-align: middle;\n",
       "    }\n",
       "\n",
       "    .dataframe tbody tr th {\n",
       "        vertical-align: top;\n",
       "    }\n",
       "\n",
       "    .dataframe thead th {\n",
       "        text-align: right;\n",
       "    }\n",
       "</style>\n",
       "<table border=\"1\" class=\"dataframe\">\n",
       "  <thead>\n",
       "    <tr style=\"text-align: right;\">\n",
       "      <th></th>\n",
       "      <th>user_id</th>\n",
       "      <th>month</th>\n",
       "      <th>calls_amount</th>\n",
       "      <th>calls_duration</th>\n",
       "      <th>sms_amount</th>\n",
       "      <th>internet_amount</th>\n",
       "      <th>tariff</th>\n",
       "    </tr>\n",
       "  </thead>\n",
       "  <tbody>\n",
       "    <tr>\n",
       "      <th>0</th>\n",
       "      <td>1000</td>\n",
       "      <td>5.0</td>\n",
       "      <td>22.0</td>\n",
       "      <td>159.0</td>\n",
       "      <td>22.0</td>\n",
       "      <td>3.0</td>\n",
       "      <td>ultra</td>\n",
       "    </tr>\n",
       "    <tr>\n",
       "      <th>1</th>\n",
       "      <td>1000</td>\n",
       "      <td>6.0</td>\n",
       "      <td>43.0</td>\n",
       "      <td>172.0</td>\n",
       "      <td>60.0</td>\n",
       "      <td>23.0</td>\n",
       "      <td>ultra</td>\n",
       "    </tr>\n",
       "    <tr>\n",
       "      <th>2</th>\n",
       "      <td>1000</td>\n",
       "      <td>7.0</td>\n",
       "      <td>47.0</td>\n",
       "      <td>340.0</td>\n",
       "      <td>75.0</td>\n",
       "      <td>14.0</td>\n",
       "      <td>ultra</td>\n",
       "    </tr>\n",
       "    <tr>\n",
       "      <th>3</th>\n",
       "      <td>1000</td>\n",
       "      <td>8.0</td>\n",
       "      <td>52.0</td>\n",
       "      <td>408.0</td>\n",
       "      <td>81.0</td>\n",
       "      <td>14.0</td>\n",
       "      <td>ultra</td>\n",
       "    </tr>\n",
       "    <tr>\n",
       "      <th>4</th>\n",
       "      <td>1000</td>\n",
       "      <td>9.0</td>\n",
       "      <td>58.0</td>\n",
       "      <td>466.0</td>\n",
       "      <td>57.0</td>\n",
       "      <td>15.0</td>\n",
       "      <td>ultra</td>\n",
       "    </tr>\n",
       "  </tbody>\n",
       "</table>\n",
       "</div>"
      ],
      "text/plain": [
       "   user_id  month  calls_amount  calls_duration  sms_amount  internet_amount  \\\n",
       "0     1000    5.0          22.0           159.0        22.0              3.0   \n",
       "1     1000    6.0          43.0           172.0        60.0             23.0   \n",
       "2     1000    7.0          47.0           340.0        75.0             14.0   \n",
       "3     1000    8.0          52.0           408.0        81.0             14.0   \n",
       "4     1000    9.0          58.0           466.0        57.0             15.0   \n",
       "\n",
       "  tariff  \n",
       "0  ultra  \n",
       "1  ultra  \n",
       "2  ultra  \n",
       "3  ultra  \n",
       "4  ultra  "
      ]
     },
     "execution_count": 32,
     "metadata": {},
     "output_type": "execute_result"
    }
   ],
   "source": [
    "total_data.head()"
   ]
  },
  {
   "cell_type": "code",
   "execution_count": 33,
   "id": "be9d86db",
   "metadata": {},
   "outputs": [
    {
     "data": {
      "text/html": [
       "<div>\n",
       "<style scoped>\n",
       "    .dataframe tbody tr th:only-of-type {\n",
       "        vertical-align: middle;\n",
       "    }\n",
       "\n",
       "    .dataframe tbody tr th {\n",
       "        vertical-align: top;\n",
       "    }\n",
       "\n",
       "    .dataframe thead th {\n",
       "        text-align: right;\n",
       "    }\n",
       "</style>\n",
       "<table border=\"1\" class=\"dataframe\">\n",
       "  <thead>\n",
       "    <tr style=\"text-align: right;\">\n",
       "      <th></th>\n",
       "      <th>messages_included</th>\n",
       "      <th>mb_per_month_included</th>\n",
       "      <th>minutes_included</th>\n",
       "      <th>rub_monthly_fee</th>\n",
       "      <th>rub_per_gb</th>\n",
       "      <th>rub_per_message</th>\n",
       "      <th>rub_per_minute</th>\n",
       "      <th>tariff_name</th>\n",
       "    </tr>\n",
       "  </thead>\n",
       "  <tbody>\n",
       "    <tr>\n",
       "      <th>0</th>\n",
       "      <td>50</td>\n",
       "      <td>15.0</td>\n",
       "      <td>500</td>\n",
       "      <td>550</td>\n",
       "      <td>200</td>\n",
       "      <td>3</td>\n",
       "      <td>3</td>\n",
       "      <td>smart</td>\n",
       "    </tr>\n",
       "    <tr>\n",
       "      <th>1</th>\n",
       "      <td>1000</td>\n",
       "      <td>30.0</td>\n",
       "      <td>3000</td>\n",
       "      <td>1950</td>\n",
       "      <td>150</td>\n",
       "      <td>1</td>\n",
       "      <td>1</td>\n",
       "      <td>ultra</td>\n",
       "    </tr>\n",
       "  </tbody>\n",
       "</table>\n",
       "</div>"
      ],
      "text/plain": [
       "   messages_included  mb_per_month_included  minutes_included  \\\n",
       "0                 50                   15.0               500   \n",
       "1               1000                   30.0              3000   \n",
       "\n",
       "   rub_monthly_fee  rub_per_gb  rub_per_message  rub_per_minute tariff_name  \n",
       "0              550         200                3               3       smart  \n",
       "1             1950         150                1               1       ultra  "
      ]
     },
     "execution_count": 33,
     "metadata": {},
     "output_type": "execute_result"
    }
   ],
   "source": [
    "tariffs['mb_per_month_included'] = tariffs['mb_per_month_included']/1024\n",
    "tariffs['mb_per_month_included'] = np.ceil(tariffs['mb_per_month_included'])\n",
    "tariffs"
   ]
  },
  {
   "cell_type": "code",
   "execution_count": 34,
   "id": "2a8a85b6",
   "metadata": {},
   "outputs": [
    {
     "data": {
      "text/html": [
       "<div>\n",
       "<style scoped>\n",
       "    .dataframe tbody tr th:only-of-type {\n",
       "        vertical-align: middle;\n",
       "    }\n",
       "\n",
       "    .dataframe tbody tr th {\n",
       "        vertical-align: top;\n",
       "    }\n",
       "\n",
       "    .dataframe thead th {\n",
       "        text-align: right;\n",
       "    }\n",
       "</style>\n",
       "<table border=\"1\" class=\"dataframe\">\n",
       "  <thead>\n",
       "    <tr style=\"text-align: right;\">\n",
       "      <th></th>\n",
       "      <th>user_id</th>\n",
       "      <th>month</th>\n",
       "      <th>calls_amount</th>\n",
       "      <th>calls_duration</th>\n",
       "      <th>sms_amount</th>\n",
       "      <th>internet_amount</th>\n",
       "      <th>tariff</th>\n",
       "    </tr>\n",
       "  </thead>\n",
       "  <tbody>\n",
       "    <tr>\n",
       "      <th>3108</th>\n",
       "      <td>1486</td>\n",
       "      <td>12.0</td>\n",
       "      <td>133.0</td>\n",
       "      <td>1007.0</td>\n",
       "      <td>83.0</td>\n",
       "      <td>38.0</td>\n",
       "      <td>smart</td>\n",
       "    </tr>\n",
       "  </tbody>\n",
       "</table>\n",
       "</div>"
      ],
      "text/plain": [
       "      user_id  month  calls_amount  calls_duration  sms_amount  \\\n",
       "3108     1486   12.0         133.0          1007.0        83.0   \n",
       "\n",
       "      internet_amount tariff  \n",
       "3108             38.0  smart  "
      ]
     },
     "execution_count": 34,
     "metadata": {},
     "output_type": "execute_result"
    }
   ],
   "source": [
    "total_data.query('user_id==1486 & month==12')"
   ]
  },
  {
   "cell_type": "markdown",
   "id": "29e1c7d6",
   "metadata": {},
   "source": [
    "Рассчитаем помесячную выручку с каждого пользователя с помощью функции одной строки: "
   ]
  },
  {
   "cell_type": "code",
   "execution_count": 35,
   "id": "185b5db3",
   "metadata": {},
   "outputs": [
    {
     "data": {
      "text/html": [
       "<div>\n",
       "<style scoped>\n",
       "    .dataframe tbody tr th:only-of-type {\n",
       "        vertical-align: middle;\n",
       "    }\n",
       "\n",
       "    .dataframe tbody tr th {\n",
       "        vertical-align: top;\n",
       "    }\n",
       "\n",
       "    .dataframe thead th {\n",
       "        text-align: right;\n",
       "    }\n",
       "</style>\n",
       "<table border=\"1\" class=\"dataframe\">\n",
       "  <thead>\n",
       "    <tr style=\"text-align: right;\">\n",
       "      <th></th>\n",
       "      <th>user_id</th>\n",
       "      <th>month</th>\n",
       "      <th>calls_amount</th>\n",
       "      <th>calls_duration</th>\n",
       "      <th>sms_amount</th>\n",
       "      <th>internet_amount</th>\n",
       "      <th>tariff</th>\n",
       "      <th>revenue</th>\n",
       "    </tr>\n",
       "  </thead>\n",
       "  <tbody>\n",
       "    <tr>\n",
       "      <th>0</th>\n",
       "      <td>1000</td>\n",
       "      <td>5.0</td>\n",
       "      <td>22.0</td>\n",
       "      <td>159.0</td>\n",
       "      <td>22.0</td>\n",
       "      <td>3.0</td>\n",
       "      <td>ultra</td>\n",
       "      <td>1950.0</td>\n",
       "    </tr>\n",
       "    <tr>\n",
       "      <th>1</th>\n",
       "      <td>1000</td>\n",
       "      <td>6.0</td>\n",
       "      <td>43.0</td>\n",
       "      <td>172.0</td>\n",
       "      <td>60.0</td>\n",
       "      <td>23.0</td>\n",
       "      <td>ultra</td>\n",
       "      <td>1950.0</td>\n",
       "    </tr>\n",
       "    <tr>\n",
       "      <th>2</th>\n",
       "      <td>1000</td>\n",
       "      <td>7.0</td>\n",
       "      <td>47.0</td>\n",
       "      <td>340.0</td>\n",
       "      <td>75.0</td>\n",
       "      <td>14.0</td>\n",
       "      <td>ultra</td>\n",
       "      <td>1950.0</td>\n",
       "    </tr>\n",
       "    <tr>\n",
       "      <th>3</th>\n",
       "      <td>1000</td>\n",
       "      <td>8.0</td>\n",
       "      <td>52.0</td>\n",
       "      <td>408.0</td>\n",
       "      <td>81.0</td>\n",
       "      <td>14.0</td>\n",
       "      <td>ultra</td>\n",
       "      <td>1950.0</td>\n",
       "    </tr>\n",
       "    <tr>\n",
       "      <th>4</th>\n",
       "      <td>1000</td>\n",
       "      <td>9.0</td>\n",
       "      <td>58.0</td>\n",
       "      <td>466.0</td>\n",
       "      <td>57.0</td>\n",
       "      <td>15.0</td>\n",
       "      <td>ultra</td>\n",
       "      <td>1950.0</td>\n",
       "    </tr>\n",
       "    <tr>\n",
       "      <th>5</th>\n",
       "      <td>1000</td>\n",
       "      <td>10.0</td>\n",
       "      <td>57.0</td>\n",
       "      <td>350.0</td>\n",
       "      <td>73.0</td>\n",
       "      <td>15.0</td>\n",
       "      <td>ultra</td>\n",
       "      <td>1950.0</td>\n",
       "    </tr>\n",
       "    <tr>\n",
       "      <th>6</th>\n",
       "      <td>1000</td>\n",
       "      <td>11.0</td>\n",
       "      <td>43.0</td>\n",
       "      <td>338.0</td>\n",
       "      <td>58.0</td>\n",
       "      <td>15.0</td>\n",
       "      <td>ultra</td>\n",
       "      <td>1950.0</td>\n",
       "    </tr>\n",
       "    <tr>\n",
       "      <th>7</th>\n",
       "      <td>1000</td>\n",
       "      <td>12.0</td>\n",
       "      <td>46.0</td>\n",
       "      <td>333.0</td>\n",
       "      <td>70.0</td>\n",
       "      <td>10.0</td>\n",
       "      <td>ultra</td>\n",
       "      <td>1950.0</td>\n",
       "    </tr>\n",
       "    <tr>\n",
       "      <th>8</th>\n",
       "      <td>1001</td>\n",
       "      <td>11.0</td>\n",
       "      <td>59.0</td>\n",
       "      <td>430.0</td>\n",
       "      <td>0.0</td>\n",
       "      <td>18.0</td>\n",
       "      <td>smart</td>\n",
       "      <td>1150.0</td>\n",
       "    </tr>\n",
       "    <tr>\n",
       "      <th>9</th>\n",
       "      <td>1001</td>\n",
       "      <td>12.0</td>\n",
       "      <td>63.0</td>\n",
       "      <td>414.0</td>\n",
       "      <td>0.0</td>\n",
       "      <td>14.0</td>\n",
       "      <td>smart</td>\n",
       "      <td>550.0</td>\n",
       "    </tr>\n",
       "    <tr>\n",
       "      <th>10</th>\n",
       "      <td>1002</td>\n",
       "      <td>6.0</td>\n",
       "      <td>15.0</td>\n",
       "      <td>117.0</td>\n",
       "      <td>4.0</td>\n",
       "      <td>11.0</td>\n",
       "      <td>smart</td>\n",
       "      <td>550.0</td>\n",
       "    </tr>\n",
       "    <tr>\n",
       "      <th>11</th>\n",
       "      <td>1002</td>\n",
       "      <td>7.0</td>\n",
       "      <td>26.0</td>\n",
       "      <td>214.0</td>\n",
       "      <td>11.0</td>\n",
       "      <td>18.0</td>\n",
       "      <td>smart</td>\n",
       "      <td>1150.0</td>\n",
       "    </tr>\n",
       "    <tr>\n",
       "      <th>12</th>\n",
       "      <td>1002</td>\n",
       "      <td>8.0</td>\n",
       "      <td>42.0</td>\n",
       "      <td>289.0</td>\n",
       "      <td>13.0</td>\n",
       "      <td>20.0</td>\n",
       "      <td>smart</td>\n",
       "      <td>1550.0</td>\n",
       "    </tr>\n",
       "    <tr>\n",
       "      <th>13</th>\n",
       "      <td>1002</td>\n",
       "      <td>9.0</td>\n",
       "      <td>36.0</td>\n",
       "      <td>206.0</td>\n",
       "      <td>4.0</td>\n",
       "      <td>17.0</td>\n",
       "      <td>smart</td>\n",
       "      <td>950.0</td>\n",
       "    </tr>\n",
       "    <tr>\n",
       "      <th>14</th>\n",
       "      <td>1002</td>\n",
       "      <td>10.0</td>\n",
       "      <td>33.0</td>\n",
       "      <td>212.0</td>\n",
       "      <td>10.0</td>\n",
       "      <td>14.0</td>\n",
       "      <td>smart</td>\n",
       "      <td>550.0</td>\n",
       "    </tr>\n",
       "    <tr>\n",
       "      <th>15</th>\n",
       "      <td>1002</td>\n",
       "      <td>11.0</td>\n",
       "      <td>32.0</td>\n",
       "      <td>243.0</td>\n",
       "      <td>16.0</td>\n",
       "      <td>19.0</td>\n",
       "      <td>smart</td>\n",
       "      <td>1350.0</td>\n",
       "    </tr>\n",
       "    <tr>\n",
       "      <th>16</th>\n",
       "      <td>1002</td>\n",
       "      <td>12.0</td>\n",
       "      <td>33.0</td>\n",
       "      <td>236.0</td>\n",
       "      <td>12.0</td>\n",
       "      <td>18.0</td>\n",
       "      <td>smart</td>\n",
       "      <td>1150.0</td>\n",
       "    </tr>\n",
       "    <tr>\n",
       "      <th>17</th>\n",
       "      <td>1003</td>\n",
       "      <td>8.0</td>\n",
       "      <td>55.0</td>\n",
       "      <td>380.0</td>\n",
       "      <td>37.0</td>\n",
       "      <td>9.0</td>\n",
       "      <td>ultra</td>\n",
       "      <td>1950.0</td>\n",
       "    </tr>\n",
       "    <tr>\n",
       "      <th>18</th>\n",
       "      <td>1003</td>\n",
       "      <td>9.0</td>\n",
       "      <td>134.0</td>\n",
       "      <td>961.0</td>\n",
       "      <td>91.0</td>\n",
       "      <td>13.0</td>\n",
       "      <td>ultra</td>\n",
       "      <td>1950.0</td>\n",
       "    </tr>\n",
       "    <tr>\n",
       "      <th>19</th>\n",
       "      <td>1003</td>\n",
       "      <td>10.0</td>\n",
       "      <td>108.0</td>\n",
       "      <td>855.0</td>\n",
       "      <td>83.0</td>\n",
       "      <td>15.0</td>\n",
       "      <td>ultra</td>\n",
       "      <td>1950.0</td>\n",
       "    </tr>\n",
       "  </tbody>\n",
       "</table>\n",
       "</div>"
      ],
      "text/plain": [
       "    user_id  month  calls_amount  calls_duration  sms_amount  internet_amount  \\\n",
       "0      1000    5.0          22.0           159.0        22.0              3.0   \n",
       "1      1000    6.0          43.0           172.0        60.0             23.0   \n",
       "2      1000    7.0          47.0           340.0        75.0             14.0   \n",
       "3      1000    8.0          52.0           408.0        81.0             14.0   \n",
       "4      1000    9.0          58.0           466.0        57.0             15.0   \n",
       "5      1000   10.0          57.0           350.0        73.0             15.0   \n",
       "6      1000   11.0          43.0           338.0        58.0             15.0   \n",
       "7      1000   12.0          46.0           333.0        70.0             10.0   \n",
       "8      1001   11.0          59.0           430.0         0.0             18.0   \n",
       "9      1001   12.0          63.0           414.0         0.0             14.0   \n",
       "10     1002    6.0          15.0           117.0         4.0             11.0   \n",
       "11     1002    7.0          26.0           214.0        11.0             18.0   \n",
       "12     1002    8.0          42.0           289.0        13.0             20.0   \n",
       "13     1002    9.0          36.0           206.0         4.0             17.0   \n",
       "14     1002   10.0          33.0           212.0        10.0             14.0   \n",
       "15     1002   11.0          32.0           243.0        16.0             19.0   \n",
       "16     1002   12.0          33.0           236.0        12.0             18.0   \n",
       "17     1003    8.0          55.0           380.0        37.0              9.0   \n",
       "18     1003    9.0         134.0           961.0        91.0             13.0   \n",
       "19     1003   10.0         108.0           855.0        83.0             15.0   \n",
       "\n",
       "   tariff  revenue  \n",
       "0   ultra   1950.0  \n",
       "1   ultra   1950.0  \n",
       "2   ultra   1950.0  \n",
       "3   ultra   1950.0  \n",
       "4   ultra   1950.0  \n",
       "5   ultra   1950.0  \n",
       "6   ultra   1950.0  \n",
       "7   ultra   1950.0  \n",
       "8   smart   1150.0  \n",
       "9   smart    550.0  \n",
       "10  smart    550.0  \n",
       "11  smart   1150.0  \n",
       "12  smart   1550.0  \n",
       "13  smart    950.0  \n",
       "14  smart    550.0  \n",
       "15  smart   1350.0  \n",
       "16  smart   1150.0  \n",
       "17  ultra   1950.0  \n",
       "18  ultra   1950.0  \n",
       "19  ultra   1950.0  "
      ]
     },
     "execution_count": 35,
     "metadata": {},
     "output_type": "execute_result"
    }
   ],
   "source": [
    "def revenue(row):\n",
    "    sms_amount = row['sms_amount']\n",
    "    internet_amount = row['internet_amount']\n",
    "    tariff = row['tariff']\n",
    "    calls_duration = row['calls_duration']\n",
    "    calls_amount = row['calls_amount']\n",
    "    \n",
    "    if tariff == 'smart':\n",
    "        extra_duration = calls_duration - tariffs.loc[0, 'minutes_included']\n",
    "        extra_mb = internet_amount - tariffs.loc[0, 'mb_per_month_included']\n",
    "        extra_messages = sms_amount - tariffs.loc[0, 'messages_included']\n",
    "        \n",
    "        if extra_duration < 0: extra_duration = 0\n",
    "        if extra_mb < 0: extra_mb = 0\n",
    "        if extra_messages < 0: extra_messages = 0\n",
    "        \n",
    "        return (tariffs.loc[0, 'rub_per_message'] * extra_messages + \n",
    "                   tariffs.loc[0, 'rub_per_gb'] * extra_mb + \n",
    "                   tariffs.loc[0, 'rub_per_minute'] * extra_duration + \n",
    "                   tariffs.loc[0, 'rub_monthly_fee']\n",
    "                  ) \n",
    "    else: #аналогичный расчет для тарифа Ультра \n",
    "        extra_duration = calls_duration - tariffs.loc[1, 'minutes_included']\n",
    "        extra_mb = internet_amount - tariffs.loc[1, 'mb_per_month_included']\n",
    "        extra_messages = sms_amount - tariffs.loc[1, 'messages_included']\n",
    "        \n",
    "        if extra_duration < 0: extra_duration = 0\n",
    "        if extra_mb < 0: extra_mb = 0\n",
    "        if extra_messages < 0: extra_messages = 0\n",
    "        \n",
    "        return (tariffs.loc[1, 'rub_per_message'] * extra_messages + \n",
    "                   tariffs.loc[1, 'rub_per_gb'] * extra_mb + \n",
    "                   tariffs.loc[1, 'rub_per_minute'] * extra_duration + \n",
    "                   tariffs.loc[1, 'rub_monthly_fee']\n",
    "                  )\n",
    "\n",
    "total_data['revenue'] = total_data.apply(revenue, axis=1)\n",
    "total_data.head(20)"
   ]
  },
  {
   "cell_type": "code",
   "execution_count": 36,
   "id": "0aa01e59",
   "metadata": {},
   "outputs": [],
   "source": [
    "def revenue(row):\n",
    "    money = 0\n",
    "    sms_amount = row['sms_amount']\n",
    "    internet_amount = row['internet_amount']\n",
    "    tariff = row['tariff']\n",
    "    calls_duration = row['calls_duration']\n",
    "    #calls_amount = row['calls_amount']\n",
    "    \n",
    "    if tariff == 'smart':\n",
    "        extra_duration = calls_duration - tariffs.loc[0, 'minutes_included']\n",
    "        extra_mb = internet_amount - tariffs.loc[0, 'mb_per_month_included']\n",
    "        extra_messages = sms_amount - tariffs.loc[0, 'messages_included']\n",
    "        \n",
    "        if extra_duration < 0: extra_duration = 0\n",
    "        if extra_mb < 0: extra_mb = 0\n",
    "        if extra_messages < 0: extra_messages = 0\n",
    "        \n",
    "        money += (tariffs.loc[0, 'rub_per_message'] * extra_messages + \n",
    "                   tariffs.loc[0, 'rub_per_gb'] * extra_mb + \n",
    "                   tariffs.loc[0, 'rub_per_minute'] * extra_duration + \n",
    "                   tariffs.loc[0, 'rub_monthly_fee']\n",
    "                  ) \n",
    "    if tariff == 'ultra':#аналогичный расчет для тарифа Ультра \n",
    "        extra_duration = calls_duration - tariffs.loc[1, 'minutes_included']\n",
    "        extra_mb = internet_amount - tariffs.loc[1, 'mb_per_month_included']\n",
    "        extra_messages = sms_amount - tariffs.loc[1, 'messages_included']\n",
    "        \n",
    "        if extra_duration < 0: extra_duration = 0\n",
    "        if extra_mb < 0: extra_mb = 0\n",
    "        if extra_messages < 0: extra_messages = 0\n",
    "        \n",
    "        money += (tariffs.loc[1, 'rub_per_message'] * extra_messages + \n",
    "                   tariffs.loc[1, 'rub_per_gb'] * extra_mb + \n",
    "                   tariffs.loc[1, 'rub_per_minute'] * extra_duration + \n",
    "                   tariffs.loc[1, 'rub_monthly_fee']\n",
    "                  )\n",
    "    return money"
   ]
  },
  {
   "cell_type": "code",
   "execution_count": 37,
   "id": "9794df97",
   "metadata": {},
   "outputs": [
    {
     "data": {
      "text/html": [
       "<div>\n",
       "<style scoped>\n",
       "    .dataframe tbody tr th:only-of-type {\n",
       "        vertical-align: middle;\n",
       "    }\n",
       "\n",
       "    .dataframe tbody tr th {\n",
       "        vertical-align: top;\n",
       "    }\n",
       "\n",
       "    .dataframe thead th {\n",
       "        text-align: right;\n",
       "    }\n",
       "</style>\n",
       "<table border=\"1\" class=\"dataframe\">\n",
       "  <thead>\n",
       "    <tr style=\"text-align: right;\">\n",
       "      <th></th>\n",
       "      <th>user_id</th>\n",
       "      <th>month</th>\n",
       "      <th>calls_amount</th>\n",
       "      <th>calls_duration</th>\n",
       "      <th>sms_amount</th>\n",
       "      <th>internet_amount</th>\n",
       "      <th>tariff</th>\n",
       "      <th>revenue</th>\n",
       "    </tr>\n",
       "  </thead>\n",
       "  <tbody>\n",
       "    <tr>\n",
       "      <th>0</th>\n",
       "      <td>1000</td>\n",
       "      <td>5.0</td>\n",
       "      <td>22.0</td>\n",
       "      <td>159.0</td>\n",
       "      <td>22.0</td>\n",
       "      <td>3.0</td>\n",
       "      <td>ultra</td>\n",
       "      <td>1950.0</td>\n",
       "    </tr>\n",
       "    <tr>\n",
       "      <th>1</th>\n",
       "      <td>1000</td>\n",
       "      <td>6.0</td>\n",
       "      <td>43.0</td>\n",
       "      <td>172.0</td>\n",
       "      <td>60.0</td>\n",
       "      <td>23.0</td>\n",
       "      <td>ultra</td>\n",
       "      <td>1950.0</td>\n",
       "    </tr>\n",
       "    <tr>\n",
       "      <th>2</th>\n",
       "      <td>1000</td>\n",
       "      <td>7.0</td>\n",
       "      <td>47.0</td>\n",
       "      <td>340.0</td>\n",
       "      <td>75.0</td>\n",
       "      <td>14.0</td>\n",
       "      <td>ultra</td>\n",
       "      <td>1950.0</td>\n",
       "    </tr>\n",
       "    <tr>\n",
       "      <th>3</th>\n",
       "      <td>1000</td>\n",
       "      <td>8.0</td>\n",
       "      <td>52.0</td>\n",
       "      <td>408.0</td>\n",
       "      <td>81.0</td>\n",
       "      <td>14.0</td>\n",
       "      <td>ultra</td>\n",
       "      <td>1950.0</td>\n",
       "    </tr>\n",
       "    <tr>\n",
       "      <th>4</th>\n",
       "      <td>1000</td>\n",
       "      <td>9.0</td>\n",
       "      <td>58.0</td>\n",
       "      <td>466.0</td>\n",
       "      <td>57.0</td>\n",
       "      <td>15.0</td>\n",
       "      <td>ultra</td>\n",
       "      <td>1950.0</td>\n",
       "    </tr>\n",
       "    <tr>\n",
       "      <th>...</th>\n",
       "      <td>...</td>\n",
       "      <td>...</td>\n",
       "      <td>...</td>\n",
       "      <td>...</td>\n",
       "      <td>...</td>\n",
       "      <td>...</td>\n",
       "      <td>...</td>\n",
       "      <td>...</td>\n",
       "    </tr>\n",
       "    <tr>\n",
       "      <th>3211</th>\n",
       "      <td>1489</td>\n",
       "      <td>10.0</td>\n",
       "      <td>0.0</td>\n",
       "      <td>0.0</td>\n",
       "      <td>21.0</td>\n",
       "      <td>20.0</td>\n",
       "      <td>smart</td>\n",
       "      <td>1550.0</td>\n",
       "    </tr>\n",
       "    <tr>\n",
       "      <th>3212</th>\n",
       "      <td>1489</td>\n",
       "      <td>11.0</td>\n",
       "      <td>0.0</td>\n",
       "      <td>0.0</td>\n",
       "      <td>20.0</td>\n",
       "      <td>18.0</td>\n",
       "      <td>smart</td>\n",
       "      <td>1150.0</td>\n",
       "    </tr>\n",
       "    <tr>\n",
       "      <th>3213</th>\n",
       "      <td>1489</td>\n",
       "      <td>12.0</td>\n",
       "      <td>0.0</td>\n",
       "      <td>0.0</td>\n",
       "      <td>35.0</td>\n",
       "      <td>17.0</td>\n",
       "      <td>smart</td>\n",
       "      <td>950.0</td>\n",
       "    </tr>\n",
       "    <tr>\n",
       "      <th>3214</th>\n",
       "      <td>1128</td>\n",
       "      <td>NaN</td>\n",
       "      <td>NaN</td>\n",
       "      <td>NaN</td>\n",
       "      <td>NaN</td>\n",
       "      <td>NaN</td>\n",
       "      <td>ultra</td>\n",
       "      <td>NaN</td>\n",
       "    </tr>\n",
       "    <tr>\n",
       "      <th>3215</th>\n",
       "      <td>1371</td>\n",
       "      <td>NaN</td>\n",
       "      <td>NaN</td>\n",
       "      <td>NaN</td>\n",
       "      <td>NaN</td>\n",
       "      <td>NaN</td>\n",
       "      <td>smart</td>\n",
       "      <td>NaN</td>\n",
       "    </tr>\n",
       "  </tbody>\n",
       "</table>\n",
       "<p>3216 rows × 8 columns</p>\n",
       "</div>"
      ],
      "text/plain": [
       "      user_id  month  calls_amount  calls_duration  sms_amount  \\\n",
       "0        1000    5.0          22.0           159.0        22.0   \n",
       "1        1000    6.0          43.0           172.0        60.0   \n",
       "2        1000    7.0          47.0           340.0        75.0   \n",
       "3        1000    8.0          52.0           408.0        81.0   \n",
       "4        1000    9.0          58.0           466.0        57.0   \n",
       "...       ...    ...           ...             ...         ...   \n",
       "3211     1489   10.0           0.0             0.0        21.0   \n",
       "3212     1489   11.0           0.0             0.0        20.0   \n",
       "3213     1489   12.0           0.0             0.0        35.0   \n",
       "3214     1128    NaN           NaN             NaN         NaN   \n",
       "3215     1371    NaN           NaN             NaN         NaN   \n",
       "\n",
       "      internet_amount tariff  revenue  \n",
       "0                 3.0  ultra   1950.0  \n",
       "1                23.0  ultra   1950.0  \n",
       "2                14.0  ultra   1950.0  \n",
       "3                14.0  ultra   1950.0  \n",
       "4                15.0  ultra   1950.0  \n",
       "...               ...    ...      ...  \n",
       "3211             20.0  smart   1550.0  \n",
       "3212             18.0  smart   1150.0  \n",
       "3213             17.0  smart    950.0  \n",
       "3214              NaN  ultra      NaN  \n",
       "3215              NaN  smart      NaN  \n",
       "\n",
       "[3216 rows x 8 columns]"
      ]
     },
     "execution_count": 37,
     "metadata": {},
     "output_type": "execute_result"
    }
   ],
   "source": [
    "total_data"
   ]
  },
  {
   "cell_type": "code",
   "execution_count": 38,
   "id": "4f225d12",
   "metadata": {},
   "outputs": [
    {
     "data": {
      "text/plain": [
       "4914451.0"
      ]
     },
     "metadata": {},
     "output_type": "display_data"
    },
    {
     "data": {
      "text/html": [
       "<div>\n",
       "<style scoped>\n",
       "    .dataframe tbody tr th:only-of-type {\n",
       "        vertical-align: middle;\n",
       "    }\n",
       "\n",
       "    .dataframe tbody tr th {\n",
       "        vertical-align: top;\n",
       "    }\n",
       "\n",
       "    .dataframe thead th {\n",
       "        text-align: right;\n",
       "    }\n",
       "</style>\n",
       "<table border=\"1\" class=\"dataframe\">\n",
       "  <thead>\n",
       "    <tr style=\"text-align: right;\">\n",
       "      <th></th>\n",
       "      <th>user_id</th>\n",
       "      <th>month</th>\n",
       "      <th>calls_amount</th>\n",
       "      <th>calls_duration</th>\n",
       "      <th>sms_amount</th>\n",
       "      <th>internet_amount</th>\n",
       "      <th>tariff</th>\n",
       "      <th>revenue</th>\n",
       "    </tr>\n",
       "  </thead>\n",
       "  <tbody>\n",
       "    <tr>\n",
       "      <th>0</th>\n",
       "      <td>1000</td>\n",
       "      <td>5.0</td>\n",
       "      <td>22.0</td>\n",
       "      <td>159.0</td>\n",
       "      <td>22.0</td>\n",
       "      <td>3.0</td>\n",
       "      <td>ultra</td>\n",
       "      <td>1950.0</td>\n",
       "    </tr>\n",
       "    <tr>\n",
       "      <th>1</th>\n",
       "      <td>1000</td>\n",
       "      <td>6.0</td>\n",
       "      <td>43.0</td>\n",
       "      <td>172.0</td>\n",
       "      <td>60.0</td>\n",
       "      <td>23.0</td>\n",
       "      <td>ultra</td>\n",
       "      <td>1950.0</td>\n",
       "    </tr>\n",
       "    <tr>\n",
       "      <th>2</th>\n",
       "      <td>1000</td>\n",
       "      <td>7.0</td>\n",
       "      <td>47.0</td>\n",
       "      <td>340.0</td>\n",
       "      <td>75.0</td>\n",
       "      <td>14.0</td>\n",
       "      <td>ultra</td>\n",
       "      <td>1950.0</td>\n",
       "    </tr>\n",
       "    <tr>\n",
       "      <th>3</th>\n",
       "      <td>1000</td>\n",
       "      <td>8.0</td>\n",
       "      <td>52.0</td>\n",
       "      <td>408.0</td>\n",
       "      <td>81.0</td>\n",
       "      <td>14.0</td>\n",
       "      <td>ultra</td>\n",
       "      <td>1950.0</td>\n",
       "    </tr>\n",
       "    <tr>\n",
       "      <th>4</th>\n",
       "      <td>1000</td>\n",
       "      <td>9.0</td>\n",
       "      <td>58.0</td>\n",
       "      <td>466.0</td>\n",
       "      <td>57.0</td>\n",
       "      <td>15.0</td>\n",
       "      <td>ultra</td>\n",
       "      <td>1950.0</td>\n",
       "    </tr>\n",
       "    <tr>\n",
       "      <th>5</th>\n",
       "      <td>1000</td>\n",
       "      <td>10.0</td>\n",
       "      <td>57.0</td>\n",
       "      <td>350.0</td>\n",
       "      <td>73.0</td>\n",
       "      <td>15.0</td>\n",
       "      <td>ultra</td>\n",
       "      <td>1950.0</td>\n",
       "    </tr>\n",
       "    <tr>\n",
       "      <th>6</th>\n",
       "      <td>1000</td>\n",
       "      <td>11.0</td>\n",
       "      <td>43.0</td>\n",
       "      <td>338.0</td>\n",
       "      <td>58.0</td>\n",
       "      <td>15.0</td>\n",
       "      <td>ultra</td>\n",
       "      <td>1950.0</td>\n",
       "    </tr>\n",
       "    <tr>\n",
       "      <th>7</th>\n",
       "      <td>1000</td>\n",
       "      <td>12.0</td>\n",
       "      <td>46.0</td>\n",
       "      <td>333.0</td>\n",
       "      <td>70.0</td>\n",
       "      <td>10.0</td>\n",
       "      <td>ultra</td>\n",
       "      <td>1950.0</td>\n",
       "    </tr>\n",
       "    <tr>\n",
       "      <th>8</th>\n",
       "      <td>1001</td>\n",
       "      <td>11.0</td>\n",
       "      <td>59.0</td>\n",
       "      <td>430.0</td>\n",
       "      <td>0.0</td>\n",
       "      <td>18.0</td>\n",
       "      <td>smart</td>\n",
       "      <td>1150.0</td>\n",
       "    </tr>\n",
       "    <tr>\n",
       "      <th>9</th>\n",
       "      <td>1001</td>\n",
       "      <td>12.0</td>\n",
       "      <td>63.0</td>\n",
       "      <td>414.0</td>\n",
       "      <td>0.0</td>\n",
       "      <td>14.0</td>\n",
       "      <td>smart</td>\n",
       "      <td>550.0</td>\n",
       "    </tr>\n",
       "    <tr>\n",
       "      <th>10</th>\n",
       "      <td>1002</td>\n",
       "      <td>6.0</td>\n",
       "      <td>15.0</td>\n",
       "      <td>117.0</td>\n",
       "      <td>4.0</td>\n",
       "      <td>11.0</td>\n",
       "      <td>smart</td>\n",
       "      <td>550.0</td>\n",
       "    </tr>\n",
       "    <tr>\n",
       "      <th>11</th>\n",
       "      <td>1002</td>\n",
       "      <td>7.0</td>\n",
       "      <td>26.0</td>\n",
       "      <td>214.0</td>\n",
       "      <td>11.0</td>\n",
       "      <td>18.0</td>\n",
       "      <td>smart</td>\n",
       "      <td>1150.0</td>\n",
       "    </tr>\n",
       "    <tr>\n",
       "      <th>12</th>\n",
       "      <td>1002</td>\n",
       "      <td>8.0</td>\n",
       "      <td>42.0</td>\n",
       "      <td>289.0</td>\n",
       "      <td>13.0</td>\n",
       "      <td>20.0</td>\n",
       "      <td>smart</td>\n",
       "      <td>1550.0</td>\n",
       "    </tr>\n",
       "    <tr>\n",
       "      <th>13</th>\n",
       "      <td>1002</td>\n",
       "      <td>9.0</td>\n",
       "      <td>36.0</td>\n",
       "      <td>206.0</td>\n",
       "      <td>4.0</td>\n",
       "      <td>17.0</td>\n",
       "      <td>smart</td>\n",
       "      <td>950.0</td>\n",
       "    </tr>\n",
       "    <tr>\n",
       "      <th>14</th>\n",
       "      <td>1002</td>\n",
       "      <td>10.0</td>\n",
       "      <td>33.0</td>\n",
       "      <td>212.0</td>\n",
       "      <td>10.0</td>\n",
       "      <td>14.0</td>\n",
       "      <td>smart</td>\n",
       "      <td>550.0</td>\n",
       "    </tr>\n",
       "    <tr>\n",
       "      <th>15</th>\n",
       "      <td>1002</td>\n",
       "      <td>11.0</td>\n",
       "      <td>32.0</td>\n",
       "      <td>243.0</td>\n",
       "      <td>16.0</td>\n",
       "      <td>19.0</td>\n",
       "      <td>smart</td>\n",
       "      <td>1350.0</td>\n",
       "    </tr>\n",
       "    <tr>\n",
       "      <th>16</th>\n",
       "      <td>1002</td>\n",
       "      <td>12.0</td>\n",
       "      <td>33.0</td>\n",
       "      <td>236.0</td>\n",
       "      <td>12.0</td>\n",
       "      <td>18.0</td>\n",
       "      <td>smart</td>\n",
       "      <td>1150.0</td>\n",
       "    </tr>\n",
       "    <tr>\n",
       "      <th>17</th>\n",
       "      <td>1003</td>\n",
       "      <td>8.0</td>\n",
       "      <td>55.0</td>\n",
       "      <td>380.0</td>\n",
       "      <td>37.0</td>\n",
       "      <td>9.0</td>\n",
       "      <td>ultra</td>\n",
       "      <td>1950.0</td>\n",
       "    </tr>\n",
       "    <tr>\n",
       "      <th>18</th>\n",
       "      <td>1003</td>\n",
       "      <td>9.0</td>\n",
       "      <td>134.0</td>\n",
       "      <td>961.0</td>\n",
       "      <td>91.0</td>\n",
       "      <td>13.0</td>\n",
       "      <td>ultra</td>\n",
       "      <td>1950.0</td>\n",
       "    </tr>\n",
       "    <tr>\n",
       "      <th>19</th>\n",
       "      <td>1003</td>\n",
       "      <td>10.0</td>\n",
       "      <td>108.0</td>\n",
       "      <td>855.0</td>\n",
       "      <td>83.0</td>\n",
       "      <td>15.0</td>\n",
       "      <td>ultra</td>\n",
       "      <td>1950.0</td>\n",
       "    </tr>\n",
       "  </tbody>\n",
       "</table>\n",
       "</div>"
      ],
      "text/plain": [
       "    user_id  month  calls_amount  calls_duration  sms_amount  internet_amount  \\\n",
       "0      1000    5.0          22.0           159.0        22.0              3.0   \n",
       "1      1000    6.0          43.0           172.0        60.0             23.0   \n",
       "2      1000    7.0          47.0           340.0        75.0             14.0   \n",
       "3      1000    8.0          52.0           408.0        81.0             14.0   \n",
       "4      1000    9.0          58.0           466.0        57.0             15.0   \n",
       "5      1000   10.0          57.0           350.0        73.0             15.0   \n",
       "6      1000   11.0          43.0           338.0        58.0             15.0   \n",
       "7      1000   12.0          46.0           333.0        70.0             10.0   \n",
       "8      1001   11.0          59.0           430.0         0.0             18.0   \n",
       "9      1001   12.0          63.0           414.0         0.0             14.0   \n",
       "10     1002    6.0          15.0           117.0         4.0             11.0   \n",
       "11     1002    7.0          26.0           214.0        11.0             18.0   \n",
       "12     1002    8.0          42.0           289.0        13.0             20.0   \n",
       "13     1002    9.0          36.0           206.0         4.0             17.0   \n",
       "14     1002   10.0          33.0           212.0        10.0             14.0   \n",
       "15     1002   11.0          32.0           243.0        16.0             19.0   \n",
       "16     1002   12.0          33.0           236.0        12.0             18.0   \n",
       "17     1003    8.0          55.0           380.0        37.0              9.0   \n",
       "18     1003    9.0         134.0           961.0        91.0             13.0   \n",
       "19     1003   10.0         108.0           855.0        83.0             15.0   \n",
       "\n",
       "   tariff  revenue  \n",
       "0   ultra   1950.0  \n",
       "1   ultra   1950.0  \n",
       "2   ultra   1950.0  \n",
       "3   ultra   1950.0  \n",
       "4   ultra   1950.0  \n",
       "5   ultra   1950.0  \n",
       "6   ultra   1950.0  \n",
       "7   ultra   1950.0  \n",
       "8   smart   1150.0  \n",
       "9   smart    550.0  \n",
       "10  smart    550.0  \n",
       "11  smart   1150.0  \n",
       "12  smart   1550.0  \n",
       "13  smart    950.0  \n",
       "14  smart    550.0  \n",
       "15  smart   1350.0  \n",
       "16  smart   1150.0  \n",
       "17  ultra   1950.0  \n",
       "18  ultra   1950.0  \n",
       "19  ultra   1950.0  "
      ]
     },
     "execution_count": 38,
     "metadata": {},
     "output_type": "execute_result"
    }
   ],
   "source": [
    "total_data['revenue'] = total_data.apply(revenue, axis=1)\n",
    "display(total_data['revenue'].sum())\n",
    "total_data.head(20)"
   ]
  },
  {
   "cell_type": "code",
   "execution_count": 39,
   "id": "c2c69c55",
   "metadata": {},
   "outputs": [
    {
     "data": {
      "text/html": [
       "<div>\n",
       "<style scoped>\n",
       "    .dataframe tbody tr th:only-of-type {\n",
       "        vertical-align: middle;\n",
       "    }\n",
       "\n",
       "    .dataframe tbody tr th {\n",
       "        vertical-align: top;\n",
       "    }\n",
       "\n",
       "    .dataframe thead th {\n",
       "        text-align: right;\n",
       "    }\n",
       "</style>\n",
       "<table border=\"1\" class=\"dataframe\">\n",
       "  <thead>\n",
       "    <tr style=\"text-align: right;\">\n",
       "      <th></th>\n",
       "      <th>messages_included</th>\n",
       "      <th>mb_per_month_included</th>\n",
       "      <th>minutes_included</th>\n",
       "      <th>rub_monthly_fee</th>\n",
       "      <th>rub_per_gb</th>\n",
       "      <th>rub_per_message</th>\n",
       "      <th>rub_per_minute</th>\n",
       "      <th>tariff_name</th>\n",
       "    </tr>\n",
       "  </thead>\n",
       "  <tbody>\n",
       "    <tr>\n",
       "      <th>0</th>\n",
       "      <td>50</td>\n",
       "      <td>15.0</td>\n",
       "      <td>500</td>\n",
       "      <td>550</td>\n",
       "      <td>200</td>\n",
       "      <td>3</td>\n",
       "      <td>3</td>\n",
       "      <td>smart</td>\n",
       "    </tr>\n",
       "    <tr>\n",
       "      <th>1</th>\n",
       "      <td>1000</td>\n",
       "      <td>30.0</td>\n",
       "      <td>3000</td>\n",
       "      <td>1950</td>\n",
       "      <td>150</td>\n",
       "      <td>1</td>\n",
       "      <td>1</td>\n",
       "      <td>ultra</td>\n",
       "    </tr>\n",
       "  </tbody>\n",
       "</table>\n",
       "</div>"
      ],
      "text/plain": [
       "   messages_included  mb_per_month_included  minutes_included  \\\n",
       "0                 50                   15.0               500   \n",
       "1               1000                   30.0              3000   \n",
       "\n",
       "   rub_monthly_fee  rub_per_gb  rub_per_message  rub_per_minute tariff_name  \n",
       "0              550         200                3               3       smart  \n",
       "1             1950         150                1               1       ultra  "
      ]
     },
     "execution_count": 39,
     "metadata": {},
     "output_type": "execute_result"
    }
   ],
   "source": [
    "tariffs"
   ]
  },
  {
   "cell_type": "code",
   "execution_count": 40,
   "id": "89bb12e0",
   "metadata": {},
   "outputs": [
    {
     "data": {
      "text/html": [
       "<div>\n",
       "<style scoped>\n",
       "    .dataframe tbody tr th:only-of-type {\n",
       "        vertical-align: middle;\n",
       "    }\n",
       "\n",
       "    .dataframe tbody tr th {\n",
       "        vertical-align: top;\n",
       "    }\n",
       "\n",
       "    .dataframe thead th {\n",
       "        text-align: right;\n",
       "    }\n",
       "</style>\n",
       "<table border=\"1\" class=\"dataframe\">\n",
       "  <thead>\n",
       "    <tr style=\"text-align: right;\">\n",
       "      <th></th>\n",
       "      <th>user_id</th>\n",
       "      <th>month</th>\n",
       "      <th>calls_amount</th>\n",
       "      <th>calls_duration</th>\n",
       "      <th>sms_amount</th>\n",
       "      <th>internet_amount</th>\n",
       "      <th>tariff</th>\n",
       "      <th>revenue</th>\n",
       "    </tr>\n",
       "  </thead>\n",
       "  <tbody>\n",
       "    <tr>\n",
       "      <th>3108</th>\n",
       "      <td>1486</td>\n",
       "      <td>12.0</td>\n",
       "      <td>133.0</td>\n",
       "      <td>1007.0</td>\n",
       "      <td>83.0</td>\n",
       "      <td>38.0</td>\n",
       "      <td>smart</td>\n",
       "      <td>6770.0</td>\n",
       "    </tr>\n",
       "    <tr>\n",
       "      <th>260</th>\n",
       "      <td>1042</td>\n",
       "      <td>12.0</td>\n",
       "      <td>121.0</td>\n",
       "      <td>728.0</td>\n",
       "      <td>75.0</td>\n",
       "      <td>37.0</td>\n",
       "      <td>smart</td>\n",
       "      <td>5709.0</td>\n",
       "    </tr>\n",
       "    <tr>\n",
       "      <th>3107</th>\n",
       "      <td>1486</td>\n",
       "      <td>11.0</td>\n",
       "      <td>108.0</td>\n",
       "      <td>764.0</td>\n",
       "      <td>96.0</td>\n",
       "      <td>36.0</td>\n",
       "      <td>smart</td>\n",
       "      <td>5680.0</td>\n",
       "    </tr>\n",
       "    <tr>\n",
       "      <th>1622</th>\n",
       "      <td>1261</td>\n",
       "      <td>12.0</td>\n",
       "      <td>141.0</td>\n",
       "      <td>1074.0</td>\n",
       "      <td>22.0</td>\n",
       "      <td>32.0</td>\n",
       "      <td>smart</td>\n",
       "      <td>5672.0</td>\n",
       "    </tr>\n",
       "    <tr>\n",
       "      <th>1793</th>\n",
       "      <td>1286</td>\n",
       "      <td>12.0</td>\n",
       "      <td>95.0</td>\n",
       "      <td>739.0</td>\n",
       "      <td>68.0</td>\n",
       "      <td>35.0</td>\n",
       "      <td>smart</td>\n",
       "      <td>5321.0</td>\n",
       "    </tr>\n",
       "  </tbody>\n",
       "</table>\n",
       "</div>"
      ],
      "text/plain": [
       "      user_id  month  calls_amount  calls_duration  sms_amount  \\\n",
       "3108     1486   12.0         133.0          1007.0        83.0   \n",
       "260      1042   12.0         121.0           728.0        75.0   \n",
       "3107     1486   11.0         108.0           764.0        96.0   \n",
       "1622     1261   12.0         141.0          1074.0        22.0   \n",
       "1793     1286   12.0          95.0           739.0        68.0   \n",
       "\n",
       "      internet_amount tariff  revenue  \n",
       "3108             38.0  smart   6770.0  \n",
       "260              37.0  smart   5709.0  \n",
       "3107             36.0  smart   5680.0  \n",
       "1622             32.0  smart   5672.0  \n",
       "1793             35.0  smart   5321.0  "
      ]
     },
     "execution_count": 40,
     "metadata": {},
     "output_type": "execute_result"
    }
   ],
   "source": [
    "total_data.sort_values('revenue', ascending=False).head()"
   ]
  },
  {
   "cell_type": "code",
   "execution_count": 41,
   "id": "4cf17596",
   "metadata": {},
   "outputs": [
    {
     "data": {
      "text/plain": [
       "1450301.0"
      ]
     },
     "execution_count": 41,
     "metadata": {},
     "output_type": "execute_result"
    }
   ],
   "source": [
    "total_data['calls_duration'].sum()"
   ]
  },
  {
   "cell_type": "code",
   "execution_count": 42,
   "id": "860fae9b",
   "metadata": {},
   "outputs": [
    {
     "data": {
      "text/plain": [
       "123036.0"
      ]
     },
     "execution_count": 42,
     "metadata": {},
     "output_type": "execute_result"
    }
   ],
   "source": [
    "total_data['sms_amount'].sum()"
   ]
  },
  {
   "cell_type": "code",
   "execution_count": 43,
   "id": "5b642749",
   "metadata": {},
   "outputs": [
    {
     "data": {
      "text/plain": [
       "55599.0"
      ]
     },
     "execution_count": 43,
     "metadata": {},
     "output_type": "execute_result"
    }
   ],
   "source": [
    "total_data['internet_amount'].sum()"
   ]
  },
  {
   "cell_type": "markdown",
   "id": "3f7edc7a",
   "metadata": {},
   "source": [
    "Конечно, нельзя судить обо всех пользователях на основании 20 строк таблицы, но сейчас данные выглядят так, будто пользователи более дорогого тарифа не превышают абонентскую плату, т.е. их расходы на связь более стабильны, чем у пользователей дешевого тарифа. Это максимально натянутый вывод. На данном этапе не будем воспринимать его всерьез. "
   ]
  },
  {
   "cell_type": "markdown",
   "id": "cc9b7894",
   "metadata": {},
   "source": [
    "## Анализ данных"
   ]
  },
  {
   "cell_type": "markdown",
   "id": "9f24f334",
   "metadata": {},
   "source": [
    "Проанализируем поведение абонентов каждого тарифа.\n",
    "\n",
    "Узнаем, сколько минут разговора, сколько сообщений и какой объём интернет-трафика требуется пользователям каждого тарифа в месяц. "
   ]
  },
  {
   "cell_type": "markdown",
   "id": "b7bf032a",
   "metadata": {},
   "source": [
    "С помощью сводных таблиц посмотрим, сколько минут/сообщений/трафика нужно пользователям в месяц.\n",
    "\n",
    "**Для тарифа \"Смарт\":**"
   ]
  },
  {
   "cell_type": "code",
   "execution_count": 44,
   "id": "00a2142e",
   "metadata": {
    "scrolled": true
   },
   "outputs": [
    {
     "data": {
      "text/html": [
       "<div>\n",
       "<style scoped>\n",
       "    .dataframe tbody tr th:only-of-type {\n",
       "        vertical-align: middle;\n",
       "    }\n",
       "\n",
       "    .dataframe tbody tr th {\n",
       "        vertical-align: top;\n",
       "    }\n",
       "\n",
       "    .dataframe thead th {\n",
       "        text-align: right;\n",
       "    }\n",
       "</style>\n",
       "<table border=\"1\" class=\"dataframe\">\n",
       "  <thead>\n",
       "    <tr style=\"text-align: right;\">\n",
       "      <th></th>\n",
       "      <th>month</th>\n",
       "      <th>calls_duration</th>\n",
       "      <th>internet_amount</th>\n",
       "      <th>sms_amount</th>\n",
       "    </tr>\n",
       "  </thead>\n",
       "  <tbody>\n",
       "    <tr>\n",
       "      <th>0</th>\n",
       "      <td>1.0</td>\n",
       "      <td>162.5</td>\n",
       "      <td>7.0</td>\n",
       "      <td>15.0</td>\n",
       "    </tr>\n",
       "    <tr>\n",
       "      <th>1</th>\n",
       "      <td>2.0</td>\n",
       "      <td>258.0</td>\n",
       "      <td>13.0</td>\n",
       "      <td>20.0</td>\n",
       "    </tr>\n",
       "    <tr>\n",
       "      <th>2</th>\n",
       "      <td>3.0</td>\n",
       "      <td>409.0</td>\n",
       "      <td>16.0</td>\n",
       "      <td>23.0</td>\n",
       "    </tr>\n",
       "    <tr>\n",
       "      <th>3</th>\n",
       "      <td>4.0</td>\n",
       "      <td>368.5</td>\n",
       "      <td>14.0</td>\n",
       "      <td>28.0</td>\n",
       "    </tr>\n",
       "    <tr>\n",
       "      <th>4</th>\n",
       "      <td>5.0</td>\n",
       "      <td>433.0</td>\n",
       "      <td>16.0</td>\n",
       "      <td>30.0</td>\n",
       "    </tr>\n",
       "    <tr>\n",
       "      <th>5</th>\n",
       "      <td>6.0</td>\n",
       "      <td>400.0</td>\n",
       "      <td>16.0</td>\n",
       "      <td>28.0</td>\n",
       "    </tr>\n",
       "    <tr>\n",
       "      <th>6</th>\n",
       "      <td>7.0</td>\n",
       "      <td>414.0</td>\n",
       "      <td>16.0</td>\n",
       "      <td>29.0</td>\n",
       "    </tr>\n",
       "    <tr>\n",
       "      <th>7</th>\n",
       "      <td>8.0</td>\n",
       "      <td>432.0</td>\n",
       "      <td>17.0</td>\n",
       "      <td>27.0</td>\n",
       "    </tr>\n",
       "    <tr>\n",
       "      <th>8</th>\n",
       "      <td>9.0</td>\n",
       "      <td>435.0</td>\n",
       "      <td>16.0</td>\n",
       "      <td>30.0</td>\n",
       "    </tr>\n",
       "    <tr>\n",
       "      <th>9</th>\n",
       "      <td>10.0</td>\n",
       "      <td>427.5</td>\n",
       "      <td>17.0</td>\n",
       "      <td>30.0</td>\n",
       "    </tr>\n",
       "    <tr>\n",
       "      <th>10</th>\n",
       "      <td>11.0</td>\n",
       "      <td>428.5</td>\n",
       "      <td>17.0</td>\n",
       "      <td>28.0</td>\n",
       "    </tr>\n",
       "    <tr>\n",
       "      <th>11</th>\n",
       "      <td>12.0</td>\n",
       "      <td>471.0</td>\n",
       "      <td>18.0</td>\n",
       "      <td>29.0</td>\n",
       "    </tr>\n",
       "  </tbody>\n",
       "</table>\n",
       "</div>"
      ],
      "text/plain": [
       "    month  calls_duration  internet_amount  sms_amount\n",
       "0     1.0           162.5              7.0        15.0\n",
       "1     2.0           258.0             13.0        20.0\n",
       "2     3.0           409.0             16.0        23.0\n",
       "3     4.0           368.5             14.0        28.0\n",
       "4     5.0           433.0             16.0        30.0\n",
       "5     6.0           400.0             16.0        28.0\n",
       "6     7.0           414.0             16.0        29.0\n",
       "7     8.0           432.0             17.0        27.0\n",
       "8     9.0           435.0             16.0        30.0\n",
       "9    10.0           427.5             17.0        30.0\n",
       "10   11.0           428.5             17.0        28.0\n",
       "11   12.0           471.0             18.0        29.0"
      ]
     },
     "execution_count": 44,
     "metadata": {},
     "output_type": "execute_result"
    }
   ],
   "source": [
    "smart = total_data.query('tariff==\"smart\"') #срез для тарифа \"Смарт\"\n",
    "smart_pivot = smart.pivot_table(\n",
    "    index='month', values=['calls_duration', 'sms_amount', 'internet_amount'] ,aggfunc='median').reset_index()\n",
    "smart_pivot #взяли медиану, т.к. она более устойчива к выбросам"
   ]
  },
  {
   "cell_type": "markdown",
   "id": "b68727f1",
   "metadata": {},
   "source": [
    "**Для тарифа \"Ультра\":**"
   ]
  },
  {
   "cell_type": "code",
   "execution_count": 45,
   "id": "68d84944",
   "metadata": {},
   "outputs": [
    {
     "data": {
      "text/html": [
       "<div>\n",
       "<style scoped>\n",
       "    .dataframe tbody tr th:only-of-type {\n",
       "        vertical-align: middle;\n",
       "    }\n",
       "\n",
       "    .dataframe tbody tr th {\n",
       "        vertical-align: top;\n",
       "    }\n",
       "\n",
       "    .dataframe thead th {\n",
       "        text-align: right;\n",
       "    }\n",
       "</style>\n",
       "<table border=\"1\" class=\"dataframe\">\n",
       "  <thead>\n",
       "    <tr style=\"text-align: right;\">\n",
       "      <th></th>\n",
       "      <th>month</th>\n",
       "      <th>calls_duration</th>\n",
       "      <th>internet_amount</th>\n",
       "      <th>sms_amount</th>\n",
       "    </tr>\n",
       "  </thead>\n",
       "  <tbody>\n",
       "    <tr>\n",
       "      <th>0</th>\n",
       "      <td>1.0</td>\n",
       "      <td>382.0</td>\n",
       "      <td>15.0</td>\n",
       "      <td>32.0</td>\n",
       "    </tr>\n",
       "    <tr>\n",
       "      <th>1</th>\n",
       "      <td>2.0</td>\n",
       "      <td>168.0</td>\n",
       "      <td>7.5</td>\n",
       "      <td>5.5</td>\n",
       "    </tr>\n",
       "    <tr>\n",
       "      <th>2</th>\n",
       "      <td>3.0</td>\n",
       "      <td>403.0</td>\n",
       "      <td>18.0</td>\n",
       "      <td>20.0</td>\n",
       "    </tr>\n",
       "    <tr>\n",
       "      <th>3</th>\n",
       "      <td>4.0</td>\n",
       "      <td>453.0</td>\n",
       "      <td>17.0</td>\n",
       "      <td>17.0</td>\n",
       "    </tr>\n",
       "    <tr>\n",
       "      <th>4</th>\n",
       "      <td>5.0</td>\n",
       "      <td>519.0</td>\n",
       "      <td>19.0</td>\n",
       "      <td>25.0</td>\n",
       "    </tr>\n",
       "    <tr>\n",
       "      <th>5</th>\n",
       "      <td>6.0</td>\n",
       "      <td>479.0</td>\n",
       "      <td>19.5</td>\n",
       "      <td>27.5</td>\n",
       "    </tr>\n",
       "    <tr>\n",
       "      <th>6</th>\n",
       "      <td>7.0</td>\n",
       "      <td>542.0</td>\n",
       "      <td>20.0</td>\n",
       "      <td>38.0</td>\n",
       "    </tr>\n",
       "    <tr>\n",
       "      <th>7</th>\n",
       "      <td>8.0</td>\n",
       "      <td>500.0</td>\n",
       "      <td>19.0</td>\n",
       "      <td>40.0</td>\n",
       "    </tr>\n",
       "    <tr>\n",
       "      <th>8</th>\n",
       "      <td>9.0</td>\n",
       "      <td>520.0</td>\n",
       "      <td>20.0</td>\n",
       "      <td>43.0</td>\n",
       "    </tr>\n",
       "    <tr>\n",
       "      <th>9</th>\n",
       "      <td>10.0</td>\n",
       "      <td>533.0</td>\n",
       "      <td>20.0</td>\n",
       "      <td>49.0</td>\n",
       "    </tr>\n",
       "    <tr>\n",
       "      <th>10</th>\n",
       "      <td>11.0</td>\n",
       "      <td>546.0</td>\n",
       "      <td>18.5</td>\n",
       "      <td>43.0</td>\n",
       "    </tr>\n",
       "    <tr>\n",
       "      <th>11</th>\n",
       "      <td>12.0</td>\n",
       "      <td>584.0</td>\n",
       "      <td>22.0</td>\n",
       "      <td>51.0</td>\n",
       "    </tr>\n",
       "  </tbody>\n",
       "</table>\n",
       "</div>"
      ],
      "text/plain": [
       "    month  calls_duration  internet_amount  sms_amount\n",
       "0     1.0           382.0             15.0        32.0\n",
       "1     2.0           168.0              7.5         5.5\n",
       "2     3.0           403.0             18.0        20.0\n",
       "3     4.0           453.0             17.0        17.0\n",
       "4     5.0           519.0             19.0        25.0\n",
       "5     6.0           479.0             19.5        27.5\n",
       "6     7.0           542.0             20.0        38.0\n",
       "7     8.0           500.0             19.0        40.0\n",
       "8     9.0           520.0             20.0        43.0\n",
       "9    10.0           533.0             20.0        49.0\n",
       "10   11.0           546.0             18.5        43.0\n",
       "11   12.0           584.0             22.0        51.0"
      ]
     },
     "execution_count": 45,
     "metadata": {},
     "output_type": "execute_result"
    }
   ],
   "source": [
    "ultra = total_data.query('tariff==\"ultra\"') #срез для тарифа \"Ультра\"\n",
    "ultra_pivot = ultra.pivot_table(\n",
    "    index='month', values=['calls_duration', 'sms_amount', 'internet_amount'] ,aggfunc='median').reset_index()\n",
    "ultra_pivot #взяли медиану, т.к. она более устойчива к выбросам"
   ]
  },
  {
   "cell_type": "markdown",
   "id": "1f3e099f",
   "metadata": {},
   "source": [
    "Посчитаем среднее количество, дисперсию и стандартное отклонение. Построим гистограммы. Опишем распределения."
   ]
  },
  {
   "cell_type": "code",
   "execution_count": 46,
   "id": "e68b1526",
   "metadata": {
    "scrolled": true
   },
   "outputs": [
    {
     "data": {
      "text/html": [
       "<div>\n",
       "<style scoped>\n",
       "    .dataframe tbody tr th:only-of-type {\n",
       "        vertical-align: middle;\n",
       "    }\n",
       "\n",
       "    .dataframe tbody tr th {\n",
       "        vertical-align: top;\n",
       "    }\n",
       "\n",
       "    .dataframe thead tr th {\n",
       "        text-align: left;\n",
       "    }\n",
       "\n",
       "    .dataframe thead tr:last-of-type th {\n",
       "        text-align: right;\n",
       "    }\n",
       "</style>\n",
       "<table border=\"1\" class=\"dataframe\">\n",
       "  <thead>\n",
       "    <tr>\n",
       "      <th></th>\n",
       "      <th colspan=\"3\" halign=\"left\">calls_duration</th>\n",
       "      <th colspan=\"3\" halign=\"left\">internet_amount</th>\n",
       "      <th colspan=\"3\" halign=\"left\">revenue</th>\n",
       "      <th colspan=\"3\" halign=\"left\">sms_amount</th>\n",
       "    </tr>\n",
       "    <tr>\n",
       "      <th></th>\n",
       "      <th>median</th>\n",
       "      <th>std</th>\n",
       "      <th>var</th>\n",
       "      <th>median</th>\n",
       "      <th>std</th>\n",
       "      <th>var</th>\n",
       "      <th>median</th>\n",
       "      <th>std</th>\n",
       "      <th>var</th>\n",
       "      <th>median</th>\n",
       "      <th>std</th>\n",
       "      <th>var</th>\n",
       "    </tr>\n",
       "    <tr>\n",
       "      <th>tariff</th>\n",
       "      <th></th>\n",
       "      <th></th>\n",
       "      <th></th>\n",
       "      <th></th>\n",
       "      <th></th>\n",
       "      <th></th>\n",
       "      <th></th>\n",
       "      <th></th>\n",
       "      <th></th>\n",
       "      <th></th>\n",
       "      <th></th>\n",
       "      <th></th>\n",
       "    </tr>\n",
       "  </thead>\n",
       "  <tbody>\n",
       "    <tr>\n",
       "      <th>smart</th>\n",
       "      <td>422.0</td>\n",
       "      <td>190.313730</td>\n",
       "      <td>36219.315784</td>\n",
       "      <td>17.0</td>\n",
       "      <td>5.747061</td>\n",
       "      <td>33.028705</td>\n",
       "      <td>1023.0</td>\n",
       "      <td>818.404367</td>\n",
       "      <td>669785.708006</td>\n",
       "      <td>28.0</td>\n",
       "      <td>28.227876</td>\n",
       "      <td>796.812958</td>\n",
       "    </tr>\n",
       "    <tr>\n",
       "      <th>ultra</th>\n",
       "      <td>518.0</td>\n",
       "      <td>317.606098</td>\n",
       "      <td>100873.633397</td>\n",
       "      <td>19.0</td>\n",
       "      <td>9.853511</td>\n",
       "      <td>97.091686</td>\n",
       "      <td>1950.0</td>\n",
       "      <td>376.187114</td>\n",
       "      <td>141516.745079</td>\n",
       "      <td>38.0</td>\n",
       "      <td>47.804457</td>\n",
       "      <td>2285.266143</td>\n",
       "    </tr>\n",
       "  </tbody>\n",
       "</table>\n",
       "</div>"
      ],
      "text/plain": [
       "       calls_duration                            internet_amount            \\\n",
       "               median         std            var          median       std   \n",
       "tariff                                                                       \n",
       "smart           422.0  190.313730   36219.315784            17.0  5.747061   \n",
       "ultra           518.0  317.606098  100873.633397            19.0  9.853511   \n",
       "\n",
       "                  revenue                            sms_amount             \\\n",
       "              var  median         std            var     median        std   \n",
       "tariff                                                                       \n",
       "smart   33.028705  1023.0  818.404367  669785.708006       28.0  28.227876   \n",
       "ultra   97.091686  1950.0  376.187114  141516.745079       38.0  47.804457   \n",
       "\n",
       "                     \n",
       "                var  \n",
       "tariff               \n",
       "smart    796.812958  \n",
       "ultra   2285.266143  "
      ]
     },
     "execution_count": 46,
     "metadata": {},
     "output_type": "execute_result"
    }
   ],
   "source": [
    "total_data_stat = total_data.pivot_table(index=['tariff'], values=['calls_duration', 'internet_amount', 'sms_amount', 'revenue'], \n",
    "                    aggfunc={'calls_duration': [np.median, np.var, np.std], \n",
    "                             'internet_amount': [np.median, np.var, np.std], \n",
    "                             'sms_amount': [np.median, np.var, np.std],\n",
    "                            'revenue': [np.median, np.var, np.std]})\n",
    "total_data_stat"
   ]
  },
  {
   "cell_type": "code",
   "execution_count": 47,
   "id": "84e27d5e",
   "metadata": {},
   "outputs": [
    {
     "data": {
      "image/png": "[encoded data removed]",
      "text/plain": [
       "<Figure size 360x360 with 1 Axes>"
      ]
     },
     "metadata": {
      "needs_background": "light"
     },
     "output_type": "display_data"
    },
    {
     "data": {
      "image/png": "[encoded data removed]",
      "text/plain": [
       "<Figure size 360x360 with 1 Axes>"
      ]
     },
     "metadata": {
      "needs_background": "light"
     },
     "output_type": "display_data"
    },
    {
     "data": {
      "image/png": "[encoded data removed]",
      "text/plain": [
       "<Figure size 360x360 with 1 Axes>"
      ]
     },
     "metadata": {
      "needs_background": "light"
     },
     "output_type": "display_data"
    }
   ],
   "source": [
    "for column in ['calls_duration', 'internet_amount', 'sms_amount']:    \n",
    "    sns.catplot(x=\"tariff\", y=column, kind=\"box\", data=total_data, color='slateblue')"
   ]
  },
  {
   "cell_type": "markdown",
   "id": "4513313d",
   "metadata": {},
   "source": [
    "Минуты/сообщения/трафик по тарифу «Ультра» имеют большую дисперсию по сравнению с тарифом «Смарт». Медианы на всех графиках также смещены в большую сторону. Стоит отметить, что выбросов на графиках дешевого тарифа существенно больше."
   ]
  },
  {
   "cell_type": "markdown",
   "id": "e41bffc6",
   "metadata": {},
   "source": [
    "Посмотрим, как выглядят гистограммы для этих показателей:"
   ]
  },
  {
   "cell_type": "code",
   "execution_count": 48,
   "id": "8b642851",
   "metadata": {},
   "outputs": [
    {
     "data": {
      "image/png": "[encoded data removed]",
      "text/plain": [
       "<Figure size 432x288 with 1 Axes>"
      ]
     },
     "metadata": {
      "needs_background": "light"
     },
     "output_type": "display_data"
    }
   ],
   "source": [
    "total_data.query('tariff == \"ultra\"')['calls_duration'].hist(alpha=0.5)\n",
    "total_data.query('tariff == \"smart\"')['calls_duration'].hist(alpha=0.5)\n",
    "plt.legend(['ultra', 'smart']);"
   ]
  },
  {
   "cell_type": "code",
   "execution_count": 49,
   "id": "fbfc34d9",
   "metadata": {
    "scrolled": true
   },
   "outputs": [
    {
     "data": {
      "image/png": "[encoded data removed]",
      "text/plain": [
       "<Figure size 432x288 with 1 Axes>"
      ]
     },
     "metadata": {
      "needs_background": "light"
     },
     "output_type": "display_data"
    }
   ],
   "source": [
    "total_data.query('tariff == \"ultra\"')['internet_amount'].hist(alpha=0.5)\n",
    "total_data.query('tariff == \"smart\"')['internet_amount'].hist(alpha=0.5)\n",
    "plt.legend(['ultra', 'smart']);"
   ]
  },
  {
   "cell_type": "code",
   "execution_count": 50,
   "id": "b333da58",
   "metadata": {},
   "outputs": [
    {
     "data": {
      "image/png": "[encoded data removed]",
      "text/plain": [
       "<Figure size 432x288 with 1 Axes>"
      ]
     },
     "metadata": {
      "needs_background": "light"
     },
     "output_type": "display_data"
    }
   ],
   "source": [
    "total_data.query('tariff == \"ultra\"')['sms_amount'].hist(alpha=0.5)\n",
    "total_data.query('tariff == \"smart\"')['sms_amount'].hist(alpha=0.5)\n",
    "plt.legend(['ultra', 'smart']);"
   ]
  },
  {
   "cell_type": "markdown",
   "id": "049502ad",
   "metadata": {},
   "source": [
    "**Выводы:**\n",
    "\n",
    "Дисперсия для тарифа \"Смарт\" меньше, чем для тарифа \"Ультра\" по всем показателям: по длительности звонков, числу смс и интернет-трафику. \n",
    "\n",
    "Поведение пользователей тарифа \"Ультра\" более разнообразное с точки зрения потребления услуг. Возможно, более дорогой тариф помогает абонентам не беспокоиться о неожиданном отключении пакета минут/смс/интернета. Поэтому их потребительское поведение более свободно. "
   ]
  },
  {
   "cell_type": "markdown",
   "id": "41762d7c",
   "metadata": {},
   "source": [
    "## Проверка гипотез"
   ]
  },
  {
   "cell_type": "markdown",
   "id": "bd49bff3",
   "metadata": {},
   "source": [
    "### Первая пара гипотез"
   ]
  },
  {
   "cell_type": "markdown",
   "id": "1235ab81",
   "metadata": {},
   "source": [
    "$H_0$  — средняя выручка пользователей тарифа «Ультра» равна средней выручке пользователей тарифа «Смарт».\n",
    "\n",
    "$H_1$ — средняя выручка пользователей тарифов «Ультра» и «Смарт» различаются.\n",
    "\n",
    "α=5%"
   ]
  },
  {
   "cell_type": "markdown",
   "id": "0db94027",
   "metadata": {},
   "source": [
    "В пункте 3 нашего исследования можно увидеть, что дисперсии выручек сильно отличаются. Поэтому для проверки гипотез подойдет метод `scipy.stats.ttest_ind (array1, array2, equal_var = False)`."
   ]
  },
  {
   "cell_type": "code",
   "execution_count": 51,
   "id": "57f785a9",
   "metadata": {},
   "outputs": [
    {
     "data": {
      "text/plain": [
       "2"
      ]
     },
     "metadata": {},
     "output_type": "display_data"
    },
    {
     "data": {
      "text/html": [
       "<div>\n",
       "<style scoped>\n",
       "    .dataframe tbody tr th:only-of-type {\n",
       "        vertical-align: middle;\n",
       "    }\n",
       "\n",
       "    .dataframe tbody tr th {\n",
       "        vertical-align: top;\n",
       "    }\n",
       "\n",
       "    .dataframe thead th {\n",
       "        text-align: right;\n",
       "    }\n",
       "</style>\n",
       "<table border=\"1\" class=\"dataframe\">\n",
       "  <thead>\n",
       "    <tr style=\"text-align: right;\">\n",
       "      <th></th>\n",
       "      <th>user_id</th>\n",
       "      <th>month</th>\n",
       "      <th>calls_amount</th>\n",
       "      <th>calls_duration</th>\n",
       "      <th>sms_amount</th>\n",
       "      <th>internet_amount</th>\n",
       "      <th>tariff</th>\n",
       "      <th>revenue</th>\n",
       "    </tr>\n",
       "  </thead>\n",
       "  <tbody>\n",
       "    <tr>\n",
       "      <th>0</th>\n",
       "      <td>1000</td>\n",
       "      <td>5.0</td>\n",
       "      <td>22.0</td>\n",
       "      <td>159.0</td>\n",
       "      <td>22.0</td>\n",
       "      <td>3.0</td>\n",
       "      <td>ultra</td>\n",
       "      <td>1950.0</td>\n",
       "    </tr>\n",
       "    <tr>\n",
       "      <th>1</th>\n",
       "      <td>1000</td>\n",
       "      <td>6.0</td>\n",
       "      <td>43.0</td>\n",
       "      <td>172.0</td>\n",
       "      <td>60.0</td>\n",
       "      <td>23.0</td>\n",
       "      <td>ultra</td>\n",
       "      <td>1950.0</td>\n",
       "    </tr>\n",
       "    <tr>\n",
       "      <th>2</th>\n",
       "      <td>1000</td>\n",
       "      <td>7.0</td>\n",
       "      <td>47.0</td>\n",
       "      <td>340.0</td>\n",
       "      <td>75.0</td>\n",
       "      <td>14.0</td>\n",
       "      <td>ultra</td>\n",
       "      <td>1950.0</td>\n",
       "    </tr>\n",
       "    <tr>\n",
       "      <th>3</th>\n",
       "      <td>1000</td>\n",
       "      <td>8.0</td>\n",
       "      <td>52.0</td>\n",
       "      <td>408.0</td>\n",
       "      <td>81.0</td>\n",
       "      <td>14.0</td>\n",
       "      <td>ultra</td>\n",
       "      <td>1950.0</td>\n",
       "    </tr>\n",
       "    <tr>\n",
       "      <th>4</th>\n",
       "      <td>1000</td>\n",
       "      <td>9.0</td>\n",
       "      <td>58.0</td>\n",
       "      <td>466.0</td>\n",
       "      <td>57.0</td>\n",
       "      <td>15.0</td>\n",
       "      <td>ultra</td>\n",
       "      <td>1950.0</td>\n",
       "    </tr>\n",
       "  </tbody>\n",
       "</table>\n",
       "</div>"
      ],
      "text/plain": [
       "   user_id  month  calls_amount  calls_duration  sms_amount  internet_amount  \\\n",
       "0     1000    5.0          22.0           159.0        22.0              3.0   \n",
       "1     1000    6.0          43.0           172.0        60.0             23.0   \n",
       "2     1000    7.0          47.0           340.0        75.0             14.0   \n",
       "3     1000    8.0          52.0           408.0        81.0             14.0   \n",
       "4     1000    9.0          58.0           466.0        57.0             15.0   \n",
       "\n",
       "  tariff  revenue  \n",
       "0  ultra   1950.0  \n",
       "1  ultra   1950.0  \n",
       "2  ultra   1950.0  \n",
       "3  ultra   1950.0  \n",
       "4  ultra   1950.0  "
      ]
     },
     "execution_count": 51,
     "metadata": {},
     "output_type": "execute_result"
    }
   ],
   "source": [
    "display(total_data.revenue.isna().sum())\n",
    "total_data.head()"
   ]
  },
  {
   "cell_type": "code",
   "execution_count": 52,
   "id": "6056d1c9",
   "metadata": {},
   "outputs": [],
   "source": [
    "total_data = total_data.dropna(subset=['revenue']) #убираем пропуски, чтобы p-value не превратилось в nan из-за них"
   ]
  },
  {
   "cell_type": "code",
   "execution_count": 53,
   "id": "ed599cbc",
   "metadata": {},
   "outputs": [
    {
     "name": "stdout",
     "output_type": "stream",
     "text": [
      "p-value: 4.2606313931076085e-250\n",
      "Отвергаем нулевую гипотезу\n"
     ]
    }
   ],
   "source": [
    "ultra = total_data.query('tariff == \"ultra\"')['revenue']\n",
    "smart = total_data.query('tariff == \"smart\"')['revenue']\n",
    "\n",
    "alpha = .05\n",
    "\n",
    "results = st.ttest_ind(ultra, smart, equal_var=False)\n",
    "\n",
    "print('p-value:', results.pvalue)\n",
    "\n",
    "if (results.pvalue < alpha):\n",
    "    print(\"Отвергаем нулевую гипотезу\")\n",
    "else:\n",
    "    print(\"Не получилось отвергнуть нулевую гипотезу\")"
   ]
  },
  {
   "cell_type": "markdown",
   "id": "1201dffb",
   "metadata": {},
   "source": [
    "Действительно, если вернуться к таблице из пункта 3, можно увидеть, что средняя выручка пользователей тарифа \"Смарт\" составляет 1023 рубля, а средняя выручка пользователей тарифа \"Ультра\" — 1950 рублей. Получается, что пользователи более дешевого тарифа в среднем платят в два раза больше, т.к. у них раньше заканчиваются пакеты услуг. "
   ]
  },
  {
   "cell_type": "markdown",
   "id": "f691524f",
   "metadata": {},
   "source": [
    "### Вторая пара гипотез"
   ]
  },
  {
   "cell_type": "markdown",
   "id": "24630d8a",
   "metadata": {},
   "source": [
    "$H_0$  — средняя выручка пользователей из Москвы равна средней выручке пользователей из других регионов.\n",
    "\n",
    "$H_1$ — средняя выручка пользователей из Москвы отличается от средней выручки пользователей из других регионов.\n",
    "\n",
    "α=5%"
   ]
  },
  {
   "cell_type": "code",
   "execution_count": 54,
   "id": "17ed266e",
   "metadata": {},
   "outputs": [],
   "source": [
    "# добавим наименование населенного пункта для каждого абонента\n",
    "total_data = total_data.merge(users[['user_id','city']], on = 'user_id')"
   ]
  },
  {
   "cell_type": "code",
   "execution_count": 55,
   "id": "350d173e",
   "metadata": {},
   "outputs": [
    {
     "data": {
      "text/html": [
       "<div>\n",
       "<style scoped>\n",
       "    .dataframe tbody tr th:only-of-type {\n",
       "        vertical-align: middle;\n",
       "    }\n",
       "\n",
       "    .dataframe tbody tr th {\n",
       "        vertical-align: top;\n",
       "    }\n",
       "\n",
       "    .dataframe thead th {\n",
       "        text-align: right;\n",
       "    }\n",
       "</style>\n",
       "<table border=\"1\" class=\"dataframe\">\n",
       "  <thead>\n",
       "    <tr style=\"text-align: right;\">\n",
       "      <th></th>\n",
       "      <th>user_id</th>\n",
       "      <th>month</th>\n",
       "      <th>calls_amount</th>\n",
       "      <th>calls_duration</th>\n",
       "      <th>sms_amount</th>\n",
       "      <th>internet_amount</th>\n",
       "      <th>tariff</th>\n",
       "      <th>revenue</th>\n",
       "      <th>city</th>\n",
       "    </tr>\n",
       "  </thead>\n",
       "  <tbody>\n",
       "    <tr>\n",
       "      <th>0</th>\n",
       "      <td>1000</td>\n",
       "      <td>5.0</td>\n",
       "      <td>22.0</td>\n",
       "      <td>159.0</td>\n",
       "      <td>22.0</td>\n",
       "      <td>3.0</td>\n",
       "      <td>ultra</td>\n",
       "      <td>1950.0</td>\n",
       "      <td>Краснодар</td>\n",
       "    </tr>\n",
       "    <tr>\n",
       "      <th>1</th>\n",
       "      <td>1000</td>\n",
       "      <td>6.0</td>\n",
       "      <td>43.0</td>\n",
       "      <td>172.0</td>\n",
       "      <td>60.0</td>\n",
       "      <td>23.0</td>\n",
       "      <td>ultra</td>\n",
       "      <td>1950.0</td>\n",
       "      <td>Краснодар</td>\n",
       "    </tr>\n",
       "    <tr>\n",
       "      <th>2</th>\n",
       "      <td>1000</td>\n",
       "      <td>7.0</td>\n",
       "      <td>47.0</td>\n",
       "      <td>340.0</td>\n",
       "      <td>75.0</td>\n",
       "      <td>14.0</td>\n",
       "      <td>ultra</td>\n",
       "      <td>1950.0</td>\n",
       "      <td>Краснодар</td>\n",
       "    </tr>\n",
       "    <tr>\n",
       "      <th>3</th>\n",
       "      <td>1000</td>\n",
       "      <td>8.0</td>\n",
       "      <td>52.0</td>\n",
       "      <td>408.0</td>\n",
       "      <td>81.0</td>\n",
       "      <td>14.0</td>\n",
       "      <td>ultra</td>\n",
       "      <td>1950.0</td>\n",
       "      <td>Краснодар</td>\n",
       "    </tr>\n",
       "    <tr>\n",
       "      <th>4</th>\n",
       "      <td>1000</td>\n",
       "      <td>9.0</td>\n",
       "      <td>58.0</td>\n",
       "      <td>466.0</td>\n",
       "      <td>57.0</td>\n",
       "      <td>15.0</td>\n",
       "      <td>ultra</td>\n",
       "      <td>1950.0</td>\n",
       "      <td>Краснодар</td>\n",
       "    </tr>\n",
       "    <tr>\n",
       "      <th>...</th>\n",
       "      <td>...</td>\n",
       "      <td>...</td>\n",
       "      <td>...</td>\n",
       "      <td>...</td>\n",
       "      <td>...</td>\n",
       "      <td>...</td>\n",
       "      <td>...</td>\n",
       "      <td>...</td>\n",
       "      <td>...</td>\n",
       "    </tr>\n",
       "    <tr>\n",
       "      <th>3209</th>\n",
       "      <td>1489</td>\n",
       "      <td>8.0</td>\n",
       "      <td>0.0</td>\n",
       "      <td>0.0</td>\n",
       "      <td>17.0</td>\n",
       "      <td>11.0</td>\n",
       "      <td>smart</td>\n",
       "      <td>550.0</td>\n",
       "      <td>Санкт-Петербург</td>\n",
       "    </tr>\n",
       "    <tr>\n",
       "      <th>3210</th>\n",
       "      <td>1489</td>\n",
       "      <td>9.0</td>\n",
       "      <td>0.0</td>\n",
       "      <td>0.0</td>\n",
       "      <td>32.0</td>\n",
       "      <td>17.0</td>\n",
       "      <td>smart</td>\n",
       "      <td>950.0</td>\n",
       "      <td>Санкт-Петербург</td>\n",
       "    </tr>\n",
       "    <tr>\n",
       "      <th>3211</th>\n",
       "      <td>1489</td>\n",
       "      <td>10.0</td>\n",
       "      <td>0.0</td>\n",
       "      <td>0.0</td>\n",
       "      <td>21.0</td>\n",
       "      <td>20.0</td>\n",
       "      <td>smart</td>\n",
       "      <td>1550.0</td>\n",
       "      <td>Санкт-Петербург</td>\n",
       "    </tr>\n",
       "    <tr>\n",
       "      <th>3212</th>\n",
       "      <td>1489</td>\n",
       "      <td>11.0</td>\n",
       "      <td>0.0</td>\n",
       "      <td>0.0</td>\n",
       "      <td>20.0</td>\n",
       "      <td>18.0</td>\n",
       "      <td>smart</td>\n",
       "      <td>1150.0</td>\n",
       "      <td>Санкт-Петербург</td>\n",
       "    </tr>\n",
       "    <tr>\n",
       "      <th>3213</th>\n",
       "      <td>1489</td>\n",
       "      <td>12.0</td>\n",
       "      <td>0.0</td>\n",
       "      <td>0.0</td>\n",
       "      <td>35.0</td>\n",
       "      <td>17.0</td>\n",
       "      <td>smart</td>\n",
       "      <td>950.0</td>\n",
       "      <td>Санкт-Петербург</td>\n",
       "    </tr>\n",
       "  </tbody>\n",
       "</table>\n",
       "<p>3214 rows × 9 columns</p>\n",
       "</div>"
      ],
      "text/plain": [
       "      user_id  month  calls_amount  calls_duration  sms_amount  \\\n",
       "0        1000    5.0          22.0           159.0        22.0   \n",
       "1        1000    6.0          43.0           172.0        60.0   \n",
       "2        1000    7.0          47.0           340.0        75.0   \n",
       "3        1000    8.0          52.0           408.0        81.0   \n",
       "4        1000    9.0          58.0           466.0        57.0   \n",
       "...       ...    ...           ...             ...         ...   \n",
       "3209     1489    8.0           0.0             0.0        17.0   \n",
       "3210     1489    9.0           0.0             0.0        32.0   \n",
       "3211     1489   10.0           0.0             0.0        21.0   \n",
       "3212     1489   11.0           0.0             0.0        20.0   \n",
       "3213     1489   12.0           0.0             0.0        35.0   \n",
       "\n",
       "      internet_amount tariff  revenue             city  \n",
       "0                 3.0  ultra   1950.0        Краснодар  \n",
       "1                23.0  ultra   1950.0        Краснодар  \n",
       "2                14.0  ultra   1950.0        Краснодар  \n",
       "3                14.0  ultra   1950.0        Краснодар  \n",
       "4                15.0  ultra   1950.0        Краснодар  \n",
       "...               ...    ...      ...              ...  \n",
       "3209             11.0  smart    550.0  Санкт-Петербург  \n",
       "3210             17.0  smart    950.0  Санкт-Петербург  \n",
       "3211             20.0  smart   1550.0  Санкт-Петербург  \n",
       "3212             18.0  smart   1150.0  Санкт-Петербург  \n",
       "3213             17.0  smart    950.0  Санкт-Петербург  \n",
       "\n",
       "[3214 rows x 9 columns]"
      ]
     },
     "execution_count": 55,
     "metadata": {},
     "output_type": "execute_result"
    }
   ],
   "source": [
    "total_data"
   ]
  },
  {
   "cell_type": "code",
   "execution_count": 56,
   "id": "d665ace6",
   "metadata": {},
   "outputs": [
    {
     "name": "stdout",
     "output_type": "stream",
     "text": [
      "p-value: 0.5257376663729298\n",
      "Не получилось отвергнуть нулевую гипотезу\n"
     ]
    }
   ],
   "source": [
    "moscow = total_data[total_data['city'] == 'Москва']\n",
    "other = total_data[total_data['city'] != 'Москва']\n",
    "\n",
    "alpha = 0.05\n",
    "\n",
    "results = st.ttest_ind(moscow['revenue'], other['revenue'], equal_var = False)\n",
    "print('p-value:', results.pvalue)\n",
    "\n",
    "if (results.pvalue < alpha):\n",
    "    print(\"Отвергаем нулевую гипотезу\")\n",
    "else:\n",
    "    print(\"Не получилось отвергнуть нулевую гипотезу\")"
   ]
  },
  {
   "cell_type": "markdown",
   "id": "a217139f",
   "metadata": {},
   "source": [
    "Не получилось отвергнуть нулевую гипотезу о равенстве выручки в Москве и регионах."
   ]
  },
  {
   "cell_type": "code",
   "execution_count": 57,
   "id": "8590150f",
   "metadata": {},
   "outputs": [],
   "source": [
    "def region_type(city): #проведем категоризацию городов с помощью функции\n",
    "    if city == 'Москва': \n",
    "        return 'Москва'\n",
    "    else: \n",
    "        return 'Другой регион'"
   ]
  },
  {
   "cell_type": "code",
   "execution_count": 58,
   "id": "05ed8370",
   "metadata": {},
   "outputs": [
    {
     "data": {
      "text/html": [
       "<div>\n",
       "<style scoped>\n",
       "    .dataframe tbody tr th:only-of-type {\n",
       "        vertical-align: middle;\n",
       "    }\n",
       "\n",
       "    .dataframe tbody tr th {\n",
       "        vertical-align: top;\n",
       "    }\n",
       "\n",
       "    .dataframe thead th {\n",
       "        text-align: right;\n",
       "    }\n",
       "</style>\n",
       "<table border=\"1\" class=\"dataframe\">\n",
       "  <thead>\n",
       "    <tr style=\"text-align: right;\">\n",
       "      <th></th>\n",
       "      <th>revenue</th>\n",
       "    </tr>\n",
       "    <tr>\n",
       "      <th>region</th>\n",
       "      <th></th>\n",
       "    </tr>\n",
       "  </thead>\n",
       "  <tbody>\n",
       "    <tr>\n",
       "      <th>Другой регион</th>\n",
       "      <td>1524.936227</td>\n",
       "    </tr>\n",
       "    <tr>\n",
       "      <th>Москва</th>\n",
       "      <td>1546.713584</td>\n",
       "    </tr>\n",
       "  </tbody>\n",
       "</table>\n",
       "</div>"
      ],
      "text/plain": [
       "                   revenue\n",
       "region                    \n",
       "Другой регион  1524.936227\n",
       "Москва         1546.713584"
      ]
     },
     "execution_count": 58,
     "metadata": {},
     "output_type": "execute_result"
    }
   ],
   "source": [
    "total_data['region'] = total_data['city'].apply(region_type) #добавим столбец с типом региона\n",
    "total_data.pivot_table(index='region', values='revenue', aggfunc='mean') #посмотрим выручку по регионам"
   ]
  },
  {
   "cell_type": "markdown",
   "id": "a3bea9df",
   "metadata": {},
   "source": [
    "## Общий вывод"
   ]
  },
  {
   "cell_type": "markdown",
   "id": "3cfd4f14",
   "metadata": {},
   "source": [
    "В результате исследования удалось выяснить, что доходы от тарифа \"Ультра\" превышают доходы от тарифа \"Смарт\": 1950 руб. против 1023 руб. соответственно. \n",
    "\n",
    "В поведении пользователей можно выделить следующие особенности: \n",
    "\n",
    "- Пользователи тарифа «Смарт» вынуждены оплачивать пакеты услуг сверх абонентской платы, т.к. им не хватает включенных в тариф минут/смс/гигабайт. В итоге пользователи платят в два раза больше: 1023 руб вместо изначальных 550 руб. \n",
    "- Пользователи тарифа «Ультра» не используют пакеты услуг в полном объеме. \n",
    "- Разница между выручкой в Москве и других регионах оказалась незначительной, что не позволило нам отвергнуть гипотезу о равенстве выручек. \n",
    "\n",
    "Рекламному отделу стоит сосредоточиться на продвижении тарифа \"Ультра\". "
   ]
  }
 ],
 "metadata": {
  "ExecuteTimeLog": [
   {
    "duration": 675,
    "start_time": "2022-02-22T08:15:41.503Z"
   },
   {
    "duration": 58,
    "start_time": "2022-02-22T08:15:54.170Z"
   },
   {
    "duration": 61,
    "start_time": "2022-02-22T08:31:05.196Z"
   },
   {
    "duration": 52,
    "start_time": "2022-02-22T08:31:11.398Z"
   },
   {
    "duration": 15,
    "start_time": "2022-02-22T09:01:06.911Z"
   },
   {
    "duration": 10,
    "start_time": "2022-02-22T09:24:27.218Z"
   },
   {
    "duration": 10,
    "start_time": "2022-02-22T09:24:43.862Z"
   },
   {
    "duration": 11,
    "start_time": "2022-02-22T09:24:52.232Z"
   },
   {
    "duration": 11,
    "start_time": "2022-02-22T09:24:58.074Z"
   },
   {
    "duration": 18,
    "start_time": "2022-02-22T11:01:22.246Z"
   },
   {
    "duration": 44,
    "start_time": "2022-02-22T11:11:57.910Z"
   },
   {
    "duration": 64,
    "start_time": "2022-02-22T11:12:12.675Z"
   },
   {
    "duration": 71,
    "start_time": "2022-02-22T11:20:24.158Z"
   },
   {
    "duration": 7,
    "start_time": "2022-02-22T11:31:01.322Z"
   },
   {
    "duration": 82,
    "start_time": "2022-02-22T11:33:09.870Z"
   },
   {
    "duration": -275,
    "start_time": "2022-02-22T11:33:21.930Z"
   },
   {
    "duration": 75,
    "start_time": "2022-02-22T11:39:08.122Z"
   },
   {
    "duration": 9,
    "start_time": "2022-02-22T11:39:41.501Z"
   },
   {
    "duration": 7,
    "start_time": "2022-02-22T11:40:26.574Z"
   },
   {
    "duration": 8,
    "start_time": "2022-02-22T11:40:32.443Z"
   },
   {
    "duration": 7,
    "start_time": "2022-02-22T11:44:31.586Z"
   },
   {
    "duration": 247,
    "start_time": "2022-02-22T11:49:40.730Z"
   },
   {
    "duration": 270,
    "start_time": "2022-02-22T11:49:52.089Z"
   },
   {
    "duration": 227,
    "start_time": "2022-02-22T11:50:52.339Z"
   },
   {
    "duration": 245,
    "start_time": "2022-02-22T11:51:03.567Z"
   },
   {
    "duration": 478,
    "start_time": "2022-02-22T11:51:14.774Z"
   },
   {
    "duration": 5,
    "start_time": "2022-02-22T11:51:24.937Z"
   },
   {
    "duration": 3,
    "start_time": "2022-02-22T11:51:28.181Z"
   },
   {
    "duration": 6,
    "start_time": "2022-02-22T11:51:33.812Z"
   },
   {
    "duration": 6,
    "start_time": "2022-02-22T11:51:46.264Z"
   },
   {
    "duration": 241,
    "start_time": "2022-02-22T11:52:24.433Z"
   },
   {
    "duration": 226,
    "start_time": "2022-02-22T11:52:27.480Z"
   },
   {
    "duration": 232,
    "start_time": "2022-02-22T11:52:30.923Z"
   },
   {
    "duration": 223,
    "start_time": "2022-02-22T11:52:35.392Z"
   },
   {
    "duration": 227,
    "start_time": "2022-02-22T12:01:50.799Z"
   },
   {
    "duration": 5,
    "start_time": "2022-02-22T12:01:56.244Z"
   },
   {
    "duration": 6,
    "start_time": "2022-02-22T12:06:42.642Z"
   },
   {
    "duration": 260,
    "start_time": "2022-02-22T12:10:20.223Z"
   },
   {
    "duration": 50,
    "start_time": "2022-02-22T12:10:29.698Z"
   },
   {
    "duration": 10,
    "start_time": "2022-02-22T12:10:33.627Z"
   },
   {
    "duration": 226,
    "start_time": "2022-02-22T12:10:36.632Z"
   },
   {
    "duration": 249,
    "start_time": "2022-02-22T12:12:06.105Z"
   },
   {
    "duration": 442,
    "start_time": "2022-02-22T12:12:32.842Z"
   },
   {
    "duration": 233,
    "start_time": "2022-02-22T12:13:50.959Z"
   },
   {
    "duration": 4,
    "start_time": "2022-02-22T12:19:38.416Z"
   },
   {
    "duration": 6,
    "start_time": "2022-02-22T12:20:20.619Z"
   },
   {
    "duration": 19,
    "start_time": "2022-02-22T12:20:31.772Z"
   },
   {
    "duration": 5,
    "start_time": "2022-02-22T12:21:00.220Z"
   },
   {
    "duration": 6,
    "start_time": "2022-02-22T12:21:06.830Z"
   },
   {
    "duration": 6,
    "start_time": "2022-02-22T12:21:41.025Z"
   },
   {
    "duration": 20,
    "start_time": "2022-02-22T12:21:53.569Z"
   },
   {
    "duration": 25,
    "start_time": "2022-02-22T12:22:50.412Z"
   },
   {
    "duration": 14,
    "start_time": "2022-02-22T12:23:26.089Z"
   },
   {
    "duration": 13,
    "start_time": "2022-02-22T12:23:42.853Z"
   },
   {
    "duration": 12,
    "start_time": "2022-02-22T12:24:27.914Z"
   },
   {
    "duration": 5,
    "start_time": "2022-02-22T12:25:37.800Z"
   },
   {
    "duration": 21,
    "start_time": "2022-02-22T12:25:50.538Z"
   },
   {
    "duration": 4,
    "start_time": "2022-02-22T12:26:19.033Z"
   },
   {
    "duration": 20,
    "start_time": "2022-02-22T12:26:26.565Z"
   },
   {
    "duration": 6,
    "start_time": "2022-02-22T12:36:14.420Z"
   },
   {
    "duration": 227,
    "start_time": "2022-02-22T12:37:28.103Z"
   },
   {
    "duration": 13,
    "start_time": "2022-02-22T12:37:34.345Z"
   },
   {
    "duration": 25,
    "start_time": "2022-02-22T12:37:44.327Z"
   },
   {
    "duration": 12,
    "start_time": "2022-02-22T12:38:02.925Z"
   },
   {
    "duration": 5,
    "start_time": "2022-02-22T12:38:38.618Z"
   },
   {
    "duration": 12,
    "start_time": "2022-02-22T12:38:43.270Z"
   },
   {
    "duration": 5,
    "start_time": "2022-02-22T12:39:04.325Z"
   },
   {
    "duration": 49,
    "start_time": "2022-02-22T12:39:37.902Z"
   },
   {
    "duration": 10,
    "start_time": "2022-02-22T12:39:37.953Z"
   },
   {
    "duration": 5,
    "start_time": "2022-02-22T12:39:37.965Z"
   },
   {
    "duration": 14,
    "start_time": "2022-02-22T12:39:37.972Z"
   },
   {
    "duration": 6,
    "start_time": "2022-02-22T12:39:53.852Z"
   },
   {
    "duration": 72,
    "start_time": "2022-02-22T12:40:25.924Z"
   },
   {
    "duration": 10,
    "start_time": "2022-02-22T12:40:25.999Z"
   },
   {
    "duration": 238,
    "start_time": "2022-02-22T12:40:26.011Z"
   },
   {
    "duration": -262,
    "start_time": "2022-02-22T12:40:26.513Z"
   },
   {
    "duration": 6,
    "start_time": "2022-02-22T12:40:39.431Z"
   },
   {
    "duration": 6,
    "start_time": "2022-02-22T12:40:41.854Z"
   },
   {
    "duration": 11,
    "start_time": "2022-02-22T12:41:15.272Z"
   },
   {
    "duration": 7,
    "start_time": "2022-02-22T12:47:08.620Z"
   },
   {
    "duration": 10,
    "start_time": "2022-02-22T12:47:23.058Z"
   },
   {
    "duration": 311,
    "start_time": "2022-02-22T12:48:53.715Z"
   },
   {
    "duration": 241,
    "start_time": "2022-02-22T12:49:00.967Z"
   },
   {
    "duration": 5,
    "start_time": "2022-02-22T12:49:29.652Z"
   },
   {
    "duration": 7,
    "start_time": "2022-02-22T12:49:42.780Z"
   },
   {
    "duration": 5,
    "start_time": "2022-02-22T12:50:02.237Z"
   },
   {
    "duration": 7,
    "start_time": "2022-02-22T12:50:19.810Z"
   },
   {
    "duration": 35,
    "start_time": "2022-02-22T12:50:19.819Z"
   },
   {
    "duration": 15,
    "start_time": "2022-02-22T12:50:19.856Z"
   },
   {
    "duration": 6,
    "start_time": "2022-02-22T12:51:54.671Z"
   },
   {
    "duration": 14,
    "start_time": "2022-02-22T12:52:20.961Z"
   },
   {
    "duration": 6,
    "start_time": "2022-02-22T12:52:26.011Z"
   },
   {
    "duration": 226,
    "start_time": "2022-02-22T13:03:44.143Z"
   },
   {
    "duration": 248,
    "start_time": "2022-02-22T13:04:19.319Z"
   },
   {
    "duration": 249,
    "start_time": "2022-02-22T13:04:23.810Z"
   },
   {
    "duration": 51,
    "start_time": "2022-02-22T13:04:43.754Z"
   },
   {
    "duration": 9,
    "start_time": "2022-02-22T13:04:43.807Z"
   },
   {
    "duration": 9,
    "start_time": "2022-02-22T13:04:43.819Z"
   },
   {
    "duration": 11,
    "start_time": "2022-02-22T13:04:43.831Z"
   },
   {
    "duration": 6,
    "start_time": "2022-02-22T13:04:43.843Z"
   },
   {
    "duration": 14,
    "start_time": "2022-02-22T13:04:43.851Z"
   },
   {
    "duration": 6,
    "start_time": "2022-02-22T13:04:43.867Z"
   },
   {
    "duration": 1313,
    "start_time": "2022-02-22T13:05:24.834Z"
   },
   {
    "duration": 58,
    "start_time": "2022-02-22T13:05:42.146Z"
   },
   {
    "duration": 10,
    "start_time": "2022-02-22T13:05:42.206Z"
   },
   {
    "duration": 236,
    "start_time": "2022-02-22T13:05:42.218Z"
   },
   {
    "duration": -361,
    "start_time": "2022-02-22T13:05:42.817Z"
   },
   {
    "duration": -363,
    "start_time": "2022-02-22T13:05:42.820Z"
   },
   {
    "duration": -364,
    "start_time": "2022-02-22T13:05:42.822Z"
   },
   {
    "duration": -365,
    "start_time": "2022-02-22T13:05:42.825Z"
   },
   {
    "duration": 7,
    "start_time": "2022-02-22T13:06:30.339Z"
   },
   {
    "duration": 6,
    "start_time": "2022-02-22T13:06:32.673Z"
   },
   {
    "duration": 51,
    "start_time": "2022-02-22T13:06:47.579Z"
   },
   {
    "duration": 9,
    "start_time": "2022-02-22T13:06:47.632Z"
   },
   {
    "duration": 21,
    "start_time": "2022-02-22T13:06:47.643Z"
   },
   {
    "duration": 25,
    "start_time": "2022-02-22T13:06:47.665Z"
   },
   {
    "duration": 24,
    "start_time": "2022-02-22T13:06:47.692Z"
   },
   {
    "duration": 5,
    "start_time": "2022-02-22T13:06:47.718Z"
   },
   {
    "duration": 21,
    "start_time": "2022-02-22T13:06:47.724Z"
   },
   {
    "duration": 23,
    "start_time": "2022-02-22T13:06:47.747Z"
   },
   {
    "duration": 5,
    "start_time": "2022-02-22T13:07:15.101Z"
   },
   {
    "duration": 5,
    "start_time": "2022-02-22T13:08:15.034Z"
   },
   {
    "duration": 5,
    "start_time": "2022-02-22T13:08:48.985Z"
   },
   {
    "duration": 10,
    "start_time": "2022-02-22T13:08:55.345Z"
   },
   {
    "duration": 6,
    "start_time": "2022-02-22T13:08:57.571Z"
   },
   {
    "duration": 4,
    "start_time": "2022-02-22T13:11:00.528Z"
   },
   {
    "duration": 6,
    "start_time": "2022-02-22T13:11:09.894Z"
   },
   {
    "duration": 4,
    "start_time": "2022-02-22T13:11:11.202Z"
   },
   {
    "duration": 5,
    "start_time": "2022-02-22T13:11:14.014Z"
   },
   {
    "duration": 20,
    "start_time": "2022-02-22T13:11:41.717Z"
   },
   {
    "duration": 56,
    "start_time": "2022-02-22T13:12:16.783Z"
   },
   {
    "duration": 10,
    "start_time": "2022-02-22T13:12:16.841Z"
   },
   {
    "duration": 5,
    "start_time": "2022-02-22T13:12:16.854Z"
   },
   {
    "duration": 8,
    "start_time": "2022-02-22T13:12:16.861Z"
   },
   {
    "duration": 7,
    "start_time": "2022-02-22T13:12:16.871Z"
   },
   {
    "duration": 41,
    "start_time": "2022-02-22T13:12:16.879Z"
   },
   {
    "duration": 286,
    "start_time": "2022-02-22T13:12:16.922Z"
   },
   {
    "duration": -344,
    "start_time": "2022-02-22T13:12:17.554Z"
   },
   {
    "duration": -346,
    "start_time": "2022-02-22T13:12:17.557Z"
   },
   {
    "duration": 20,
    "start_time": "2022-02-22T13:13:00.905Z"
   },
   {
    "duration": 54,
    "start_time": "2022-02-22T13:13:10.595Z"
   },
   {
    "duration": 11,
    "start_time": "2022-02-22T13:13:10.651Z"
   },
   {
    "duration": 23,
    "start_time": "2022-02-22T13:13:10.664Z"
   },
   {
    "duration": 24,
    "start_time": "2022-02-22T13:13:10.689Z"
   },
   {
    "duration": 23,
    "start_time": "2022-02-22T13:13:10.715Z"
   },
   {
    "duration": 19,
    "start_time": "2022-02-22T13:13:10.740Z"
   },
   {
    "duration": 256,
    "start_time": "2022-02-22T13:13:10.761Z"
   },
   {
    "duration": -308,
    "start_time": "2022-02-22T13:13:11.327Z"
   },
   {
    "duration": -312,
    "start_time": "2022-02-22T13:13:11.332Z"
   },
   {
    "duration": 254,
    "start_time": "2022-02-22T13:13:41.993Z"
   },
   {
    "duration": 55,
    "start_time": "2022-02-22T13:14:43.481Z"
   },
   {
    "duration": 9,
    "start_time": "2022-02-22T13:14:43.538Z"
   },
   {
    "duration": 6,
    "start_time": "2022-02-22T13:46:53.449Z"
   },
   {
    "duration": 6,
    "start_time": "2022-02-22T13:47:03.417Z"
   },
   {
    "duration": 5,
    "start_time": "2022-02-22T13:48:04.693Z"
   },
   {
    "duration": 5,
    "start_time": "2022-02-22T13:48:42.413Z"
   },
   {
    "duration": 12,
    "start_time": "2022-02-22T13:52:02.934Z"
   },
   {
    "duration": 17,
    "start_time": "2022-02-22T13:52:28.848Z"
   },
   {
    "duration": 4,
    "start_time": "2022-02-22T14:07:48.003Z"
   },
   {
    "duration": 15,
    "start_time": "2022-02-22T14:08:02.730Z"
   },
   {
    "duration": 5,
    "start_time": "2022-02-22T14:08:22.972Z"
   },
   {
    "duration": 4,
    "start_time": "2022-02-22T14:08:25.309Z"
   },
   {
    "duration": 15,
    "start_time": "2022-02-22T14:08:26.772Z"
   },
   {
    "duration": 4,
    "start_time": "2022-02-22T14:10:38.882Z"
   },
   {
    "duration": 15,
    "start_time": "2022-02-22T14:10:41.655Z"
   },
   {
    "duration": 52,
    "start_time": "2022-02-22T14:10:56.024Z"
   },
   {
    "duration": 3,
    "start_time": "2022-02-22T14:10:56.078Z"
   },
   {
    "duration": 30,
    "start_time": "2022-02-22T14:10:56.084Z"
   },
   {
    "duration": 457,
    "start_time": "2022-02-22T14:12:10.503Z"
   },
   {
    "duration": 15,
    "start_time": "2022-02-22T14:12:13.170Z"
   },
   {
    "duration": 253,
    "start_time": "2022-02-22T14:12:43.200Z"
   },
   {
    "duration": 228,
    "start_time": "2022-02-22T14:12:51.766Z"
   },
   {
    "duration": 262,
    "start_time": "2022-02-22T14:12:58.058Z"
   },
   {
    "duration": 6,
    "start_time": "2022-02-22T14:36:53.645Z"
   },
   {
    "duration": 4,
    "start_time": "2022-02-22T14:41:41.281Z"
   },
   {
    "duration": 15,
    "start_time": "2022-02-22T14:41:43.931Z"
   },
   {
    "duration": 4,
    "start_time": "2022-02-22T14:42:50.700Z"
   },
   {
    "duration": 15,
    "start_time": "2022-02-22T14:42:53.003Z"
   },
   {
    "duration": 4,
    "start_time": "2022-02-22T14:44:52.974Z"
   },
   {
    "duration": 15,
    "start_time": "2022-02-22T14:44:55.926Z"
   },
   {
    "duration": 57,
    "start_time": "2022-02-22T14:45:10.410Z"
   },
   {
    "duration": 4,
    "start_time": "2022-02-22T14:45:10.469Z"
   },
   {
    "duration": 36,
    "start_time": "2022-02-22T14:45:10.476Z"
   },
   {
    "duration": 5,
    "start_time": "2022-02-22T14:48:01.847Z"
   },
   {
    "duration": 15,
    "start_time": "2022-02-22T14:48:04.561Z"
   },
   {
    "duration": 58,
    "start_time": "2022-02-22T14:53:04.432Z"
   },
   {
    "duration": 6,
    "start_time": "2022-02-22T14:53:04.492Z"
   },
   {
    "duration": 14,
    "start_time": "2022-02-22T14:53:04.501Z"
   },
   {
    "duration": 67,
    "start_time": "2022-02-22T14:53:44.513Z"
   },
   {
    "duration": 3,
    "start_time": "2022-02-22T14:53:44.582Z"
   },
   {
    "duration": 19,
    "start_time": "2022-02-22T14:53:44.587Z"
   },
   {
    "duration": 6,
    "start_time": "2022-02-22T14:53:56.607Z"
   },
   {
    "duration": 14,
    "start_time": "2022-02-22T14:53:59.376Z"
   },
   {
    "duration": 5,
    "start_time": "2022-02-22T14:54:04.756Z"
   },
   {
    "duration": 16,
    "start_time": "2022-02-22T14:54:06.724Z"
   },
   {
    "duration": 65,
    "start_time": "2022-02-22T14:54:13.173Z"
   },
   {
    "duration": 5,
    "start_time": "2022-02-22T14:54:13.241Z"
   },
   {
    "duration": 15,
    "start_time": "2022-02-22T14:54:13.249Z"
   },
   {
    "duration": 4,
    "start_time": "2022-02-22T14:55:26.328Z"
   },
   {
    "duration": 15,
    "start_time": "2022-02-22T14:55:28.131Z"
   },
   {
    "duration": 16,
    "start_time": "2022-02-22T14:56:10.232Z"
   },
   {
    "duration": 51,
    "start_time": "2022-02-22T14:56:24.037Z"
   },
   {
    "duration": 13,
    "start_time": "2022-02-22T14:56:24.091Z"
   },
   {
    "duration": 23,
    "start_time": "2022-02-22T14:56:59.586Z"
   },
   {
    "duration": 15,
    "start_time": "2022-02-22T14:57:19.800Z"
   },
   {
    "duration": 4,
    "start_time": "2022-02-22T14:58:16.859Z"
   },
   {
    "duration": 15,
    "start_time": "2022-02-22T14:58:19.070Z"
   },
   {
    "duration": 32,
    "start_time": "2022-02-22T15:01:21.159Z"
   },
   {
    "duration": 15,
    "start_time": "2022-02-22T15:01:22.880Z"
   },
   {
    "duration": 30,
    "start_time": "2022-02-22T15:01:59.931Z"
   },
   {
    "duration": 20,
    "start_time": "2022-02-22T15:02:01.713Z"
   },
   {
    "duration": 20,
    "start_time": "2022-02-22T15:02:11.678Z"
   },
   {
    "duration": 15,
    "start_time": "2022-02-22T15:02:13.955Z"
   },
   {
    "duration": 52,
    "start_time": "2022-02-22T15:02:26.536Z"
   },
   {
    "duration": 14,
    "start_time": "2022-02-22T15:02:26.590Z"
   },
   {
    "duration": 243,
    "start_time": "2022-02-22T15:12:47.716Z"
   },
   {
    "duration": 58,
    "start_time": "2022-02-22T15:15:04.012Z"
   },
   {
    "duration": 239,
    "start_time": "2022-02-22T15:15:04.072Z"
   },
   {
    "duration": -388,
    "start_time": "2022-02-22T15:15:04.701Z"
   },
   {
    "duration": 241,
    "start_time": "2022-02-22T15:15:26.033Z"
   },
   {
    "duration": 5,
    "start_time": "2022-02-22T15:15:41.873Z"
   },
   {
    "duration": 4,
    "start_time": "2022-02-22T15:15:44.053Z"
   },
   {
    "duration": 22,
    "start_time": "2022-02-22T15:15:45.375Z"
   },
   {
    "duration": 5,
    "start_time": "2022-02-22T15:15:50.301Z"
   },
   {
    "duration": 66,
    "start_time": "2022-02-22T15:15:58.608Z"
   },
   {
    "duration": 5,
    "start_time": "2022-02-22T15:15:58.677Z"
   },
   {
    "duration": 26,
    "start_time": "2022-02-22T15:15:58.684Z"
   },
   {
    "duration": 64,
    "start_time": "2022-02-22T15:26:05.710Z"
   },
   {
    "duration": 4,
    "start_time": "2022-02-22T15:26:05.776Z"
   },
   {
    "duration": 19,
    "start_time": "2022-02-22T15:26:05.782Z"
   },
   {
    "duration": 58,
    "start_time": "2022-02-22T15:49:21.438Z"
   },
   {
    "duration": 4,
    "start_time": "2022-02-22T15:49:21.498Z"
   },
   {
    "duration": 20,
    "start_time": "2022-02-22T15:49:21.504Z"
   },
   {
    "duration": 6,
    "start_time": "2022-02-22T15:54:31.123Z"
   },
   {
    "duration": 2386,
    "start_time": "2022-02-22T16:04:03.654Z"
   },
   {
    "duration": 224,
    "start_time": "2022-02-22T16:04:15.847Z"
   },
   {
    "duration": 247,
    "start_time": "2022-02-22T16:06:14.409Z"
   },
   {
    "duration": 226,
    "start_time": "2022-02-22T16:06:28.668Z"
   },
   {
    "duration": 1222,
    "start_time": "2022-02-22T16:06:40.294Z"
   },
   {
    "duration": 19,
    "start_time": "2022-02-22T16:12:41.345Z"
   },
   {
    "duration": 15,
    "start_time": "2022-02-22T16:12:44.291Z"
   },
   {
    "duration": 26,
    "start_time": "2022-02-22T16:13:21.055Z"
   },
   {
    "duration": 18,
    "start_time": "2022-02-22T16:13:23.719Z"
   },
   {
    "duration": 12,
    "start_time": "2022-02-22T16:13:36.398Z"
   },
   {
    "duration": 15,
    "start_time": "2022-02-22T16:13:37.770Z"
   },
   {
    "duration": 55,
    "start_time": "2022-02-22T16:13:48.229Z"
   },
   {
    "duration": 25,
    "start_time": "2022-02-22T16:13:48.286Z"
   },
   {
    "duration": 24,
    "start_time": "2022-02-22T16:13:48.314Z"
   },
   {
    "duration": 217,
    "start_time": "2022-02-22T16:16:40.864Z"
   },
   {
    "duration": 10,
    "start_time": "2022-02-22T16:20:34.677Z"
   },
   {
    "duration": 16,
    "start_time": "2022-02-22T16:20:39.832Z"
   },
   {
    "duration": 55,
    "start_time": "2022-02-22T16:20:56.346Z"
   },
   {
    "duration": 9,
    "start_time": "2022-02-22T16:20:56.404Z"
   },
   {
    "duration": 24,
    "start_time": "2022-02-22T16:20:56.415Z"
   },
   {
    "duration": 15,
    "start_time": "2022-02-22T16:21:04.751Z"
   },
   {
    "duration": 6,
    "start_time": "2022-02-22T16:21:19.052Z"
   },
   {
    "duration": 15,
    "start_time": "2022-02-22T16:21:21.693Z"
   },
   {
    "duration": 6,
    "start_time": "2022-02-22T16:21:26.168Z"
   },
   {
    "duration": 18,
    "start_time": "2022-02-22T16:21:27.756Z"
   },
   {
    "duration": 57,
    "start_time": "2022-02-22T16:21:33.704Z"
   },
   {
    "duration": 6,
    "start_time": "2022-02-22T16:21:33.763Z"
   },
   {
    "duration": 16,
    "start_time": "2022-02-22T16:21:33.770Z"
   },
   {
    "duration": 6,
    "start_time": "2022-02-22T16:22:28.946Z"
   },
   {
    "duration": 5,
    "start_time": "2022-02-22T16:25:04.687Z"
   },
   {
    "duration": 7,
    "start_time": "2022-02-22T16:25:06.482Z"
   },
   {
    "duration": 15,
    "start_time": "2022-02-22T16:25:26.090Z"
   },
   {
    "duration": 6,
    "start_time": "2022-02-22T16:26:01.575Z"
   },
   {
    "duration": 61,
    "start_time": "2022-02-22T16:27:04.000Z"
   },
   {
    "duration": 6,
    "start_time": "2022-02-22T16:27:04.062Z"
   },
   {
    "duration": 17,
    "start_time": "2022-02-22T16:27:04.069Z"
   },
   {
    "duration": 5,
    "start_time": "2022-02-22T16:27:04.088Z"
   },
   {
    "duration": 29,
    "start_time": "2022-02-22T16:27:04.095Z"
   },
   {
    "duration": 21,
    "start_time": "2022-02-22T16:27:04.127Z"
   },
   {
    "duration": 5,
    "start_time": "2022-02-22T16:27:04.150Z"
   },
   {
    "duration": 16,
    "start_time": "2022-02-22T16:28:10.610Z"
   },
   {
    "duration": 57,
    "start_time": "2022-02-22T16:28:17.589Z"
   },
   {
    "duration": 8,
    "start_time": "2022-02-22T16:28:17.649Z"
   },
   {
    "duration": 15,
    "start_time": "2022-02-22T16:28:17.659Z"
   },
   {
    "duration": 7,
    "start_time": "2022-02-22T16:28:17.676Z"
   },
   {
    "duration": 5,
    "start_time": "2022-02-22T16:28:17.685Z"
   },
   {
    "duration": 55,
    "start_time": "2022-02-22T16:28:17.691Z"
   },
   {
    "duration": 6,
    "start_time": "2022-02-22T16:28:17.748Z"
   },
   {
    "duration": 16,
    "start_time": "2022-02-22T16:28:17.756Z"
   },
   {
    "duration": 3,
    "start_time": "2022-02-22T16:28:30.603Z"
   },
   {
    "duration": 5,
    "start_time": "2022-02-22T16:28:32.880Z"
   },
   {
    "duration": 3195,
    "start_time": "2022-02-22T16:29:02.038Z"
   },
   {
    "duration": -514,
    "start_time": "2022-02-22T16:29:05.751Z"
   },
   {
    "duration": 3126,
    "start_time": "2022-02-22T16:29:11.339Z"
   },
   {
    "duration": 5,
    "start_time": "2022-02-22T16:29:16.639Z"
   },
   {
    "duration": 64,
    "start_time": "2022-02-22T16:29:58.508Z"
   },
   {
    "duration": 6,
    "start_time": "2022-02-22T16:29:58.575Z"
   },
   {
    "duration": 19,
    "start_time": "2022-02-22T16:29:58.584Z"
   },
   {
    "duration": 18,
    "start_time": "2022-02-22T16:29:58.605Z"
   },
   {
    "duration": 7,
    "start_time": "2022-02-22T16:29:58.625Z"
   },
   {
    "duration": 14,
    "start_time": "2022-02-22T16:29:58.634Z"
   },
   {
    "duration": 10,
    "start_time": "2022-02-22T16:29:58.650Z"
   },
   {
    "duration": 15,
    "start_time": "2022-02-22T16:29:58.661Z"
   },
   {
    "duration": 5,
    "start_time": "2022-02-22T16:32:44.932Z"
   },
   {
    "duration": 5,
    "start_time": "2022-02-22T16:33:10.634Z"
   },
   {
    "duration": 15,
    "start_time": "2022-02-22T16:33:52.770Z"
   },
   {
    "duration": 4,
    "start_time": "2022-02-22T16:34:19.145Z"
   },
   {
    "duration": 13,
    "start_time": "2022-02-22T16:34:25.641Z"
   },
   {
    "duration": 61,
    "start_time": "2022-02-22T16:38:44.593Z"
   },
   {
    "duration": 13,
    "start_time": "2022-02-22T16:45:07.567Z"
   },
   {
    "duration": 75,
    "start_time": "2022-02-22T16:51:21.939Z"
   },
   {
    "duration": 10,
    "start_time": "2022-02-22T17:29:23.785Z"
   },
   {
    "duration": 91,
    "start_time": "2022-02-22T17:47:28.731Z"
   },
   {
    "duration": 73,
    "start_time": "2022-02-22T18:00:14.626Z"
   },
   {
    "duration": 17,
    "start_time": "2022-02-22T18:11:15.909Z"
   },
   {
    "duration": 212,
    "start_time": "2022-02-22T18:13:07.960Z"
   },
   {
    "duration": 16,
    "start_time": "2022-02-22T18:13:12.719Z"
   },
   {
    "duration": 12,
    "start_time": "2022-02-22T18:13:14.856Z"
   },
   {
    "duration": 56,
    "start_time": "2022-02-22T18:13:52.099Z"
   },
   {
    "duration": 11,
    "start_time": "2022-02-22T18:13:52.157Z"
   },
   {
    "duration": 11,
    "start_time": "2022-02-22T18:13:52.170Z"
   },
   {
    "duration": 37,
    "start_time": "2022-02-22T18:13:52.183Z"
   },
   {
    "duration": 16,
    "start_time": "2022-02-22T18:13:52.222Z"
   },
   {
    "duration": 5,
    "start_time": "2022-02-22T18:13:52.239Z"
   },
   {
    "duration": 3,
    "start_time": "2022-02-22T18:13:52.246Z"
   },
   {
    "duration": 15,
    "start_time": "2022-02-22T18:13:52.251Z"
   },
   {
    "duration": 3,
    "start_time": "2022-02-22T18:13:52.269Z"
   },
   {
    "duration": 46,
    "start_time": "2022-02-22T18:13:52.275Z"
   },
   {
    "duration": 6,
    "start_time": "2022-02-22T18:13:52.323Z"
   },
   {
    "duration": 5,
    "start_time": "2022-02-22T18:13:52.331Z"
   },
   {
    "duration": 15,
    "start_time": "2022-02-22T18:13:52.338Z"
   },
   {
    "duration": 4,
    "start_time": "2022-02-22T18:13:52.355Z"
   },
   {
    "duration": 15,
    "start_time": "2022-02-22T18:13:52.361Z"
   },
   {
    "duration": 17,
    "start_time": "2022-02-22T18:13:52.420Z"
   },
   {
    "duration": 16,
    "start_time": "2022-02-22T18:13:52.439Z"
   },
   {
    "duration": 10,
    "start_time": "2022-02-22T18:13:52.456Z"
   },
   {
    "duration": 17,
    "start_time": "2022-02-22T18:14:12.064Z"
   },
   {
    "duration": 15,
    "start_time": "2022-02-22T18:14:12.871Z"
   },
   {
    "duration": 728,
    "start_time": "2022-02-23T12:47:54.201Z"
   },
   {
    "duration": 13,
    "start_time": "2022-02-23T12:47:54.931Z"
   },
   {
    "duration": 39,
    "start_time": "2022-02-23T12:47:54.946Z"
   },
   {
    "duration": 8,
    "start_time": "2022-02-23T12:47:54.987Z"
   },
   {
    "duration": 33,
    "start_time": "2022-02-23T12:47:54.996Z"
   },
   {
    "duration": 20,
    "start_time": "2022-02-23T12:47:55.031Z"
   },
   {
    "duration": 15,
    "start_time": "2022-02-23T12:47:55.052Z"
   },
   {
    "duration": 16,
    "start_time": "2022-02-23T12:47:55.071Z"
   },
   {
    "duration": 9,
    "start_time": "2022-02-23T12:47:55.090Z"
   },
   {
    "duration": 21,
    "start_time": "2022-02-23T12:47:55.100Z"
   },
   {
    "duration": 13,
    "start_time": "2022-02-23T12:47:55.123Z"
   },
   {
    "duration": 8,
    "start_time": "2022-02-23T12:47:55.138Z"
   },
   {
    "duration": 14,
    "start_time": "2022-02-23T12:47:55.148Z"
   },
   {
    "duration": 10,
    "start_time": "2022-02-23T12:47:55.164Z"
   },
   {
    "duration": 22,
    "start_time": "2022-02-23T12:47:55.176Z"
   },
   {
    "duration": 29,
    "start_time": "2022-02-23T12:47:55.200Z"
   },
   {
    "duration": 17,
    "start_time": "2022-02-23T12:47:55.231Z"
   },
   {
    "duration": 15,
    "start_time": "2022-02-23T12:47:55.250Z"
   },
   {
    "duration": 18,
    "start_time": "2022-02-23T13:09:18.512Z"
   },
   {
    "duration": 16,
    "start_time": "2022-02-23T13:09:28.041Z"
   },
   {
    "duration": 14,
    "start_time": "2022-02-23T13:18:35.592Z"
   },
   {
    "duration": 20,
    "start_time": "2022-02-23T13:35:06.448Z"
   },
   {
    "duration": 15,
    "start_time": "2022-02-23T13:36:17.134Z"
   },
   {
    "duration": 8,
    "start_time": "2022-02-23T13:44:37.236Z"
   },
   {
    "duration": 12,
    "start_time": "2022-02-23T13:52:33.271Z"
   },
   {
    "duration": 9,
    "start_time": "2022-02-23T13:52:48.811Z"
   },
   {
    "duration": 66,
    "start_time": "2022-02-23T13:53:40.762Z"
   },
   {
    "duration": 8,
    "start_time": "2022-02-23T13:57:01.074Z"
   },
   {
    "duration": 20,
    "start_time": "2022-02-23T13:58:57.072Z"
   },
   {
    "duration": 10,
    "start_time": "2022-02-23T13:59:40.687Z"
   },
   {
    "duration": 9,
    "start_time": "2022-02-23T14:01:39.554Z"
   },
   {
    "duration": 8,
    "start_time": "2022-02-23T14:03:44.007Z"
   },
   {
    "duration": 8,
    "start_time": "2022-02-23T14:09:20.613Z"
   },
   {
    "duration": 64,
    "start_time": "2022-02-23T14:11:52.611Z"
   },
   {
    "duration": 13,
    "start_time": "2022-02-23T14:11:52.678Z"
   },
   {
    "duration": 11,
    "start_time": "2022-02-23T14:11:52.718Z"
   },
   {
    "duration": 9,
    "start_time": "2022-02-23T14:11:52.731Z"
   },
   {
    "duration": 30,
    "start_time": "2022-02-23T14:11:52.741Z"
   },
   {
    "duration": 26,
    "start_time": "2022-02-23T14:11:52.773Z"
   },
   {
    "duration": 42,
    "start_time": "2022-02-23T14:11:52.800Z"
   },
   {
    "duration": 47,
    "start_time": "2022-02-23T14:11:52.844Z"
   },
   {
    "duration": 7,
    "start_time": "2022-02-23T14:11:52.893Z"
   },
   {
    "duration": 17,
    "start_time": "2022-02-23T14:11:52.901Z"
   },
   {
    "duration": 6,
    "start_time": "2022-02-23T14:11:52.920Z"
   },
   {
    "duration": 4,
    "start_time": "2022-02-23T14:11:52.928Z"
   },
   {
    "duration": 15,
    "start_time": "2022-02-23T14:11:52.933Z"
   },
   {
    "duration": 7,
    "start_time": "2022-02-23T14:11:52.950Z"
   },
   {
    "duration": 15,
    "start_time": "2022-02-23T14:11:52.958Z"
   },
   {
    "duration": 45,
    "start_time": "2022-02-23T14:11:52.974Z"
   },
   {
    "duration": 16,
    "start_time": "2022-02-23T14:11:53.021Z"
   },
   {
    "duration": 15,
    "start_time": "2022-02-23T14:11:53.038Z"
   },
   {
    "duration": 25,
    "start_time": "2022-02-23T14:11:53.055Z"
   },
   {
    "duration": 36,
    "start_time": "2022-02-23T14:11:53.082Z"
   },
   {
    "duration": 7,
    "start_time": "2022-02-23T14:11:53.120Z"
   },
   {
    "duration": 17,
    "start_time": "2022-02-23T14:11:53.128Z"
   },
   {
    "duration": 13,
    "start_time": "2022-02-23T14:11:53.148Z"
   },
   {
    "duration": 10,
    "start_time": "2022-02-23T14:11:53.163Z"
   },
   {
    "duration": 14,
    "start_time": "2022-02-23T14:11:53.175Z"
   },
   {
    "duration": 10,
    "start_time": "2022-02-23T14:11:53.191Z"
   },
   {
    "duration": 7,
    "start_time": "2022-02-23T14:11:53.218Z"
   },
   {
    "duration": 11,
    "start_time": "2022-02-23T14:11:53.227Z"
   },
   {
    "duration": 10,
    "start_time": "2022-02-23T14:11:53.240Z"
   },
   {
    "duration": 9,
    "start_time": "2022-02-23T15:26:57.663Z"
   },
   {
    "duration": 9,
    "start_time": "2022-02-23T15:28:23.723Z"
   },
   {
    "duration": 22,
    "start_time": "2022-02-23T15:51:40.120Z"
   },
   {
    "duration": 4,
    "start_time": "2022-02-23T16:07:32.955Z"
   },
   {
    "duration": 3,
    "start_time": "2022-02-23T16:08:44.954Z"
   },
   {
    "duration": 3,
    "start_time": "2022-02-23T16:09:16.553Z"
   },
   {
    "duration": 3,
    "start_time": "2022-02-23T16:09:23.547Z"
   },
   {
    "duration": 4,
    "start_time": "2022-02-23T16:09:32.458Z"
   },
   {
    "duration": 24,
    "start_time": "2022-02-23T16:11:33.397Z"
   },
   {
    "duration": 19,
    "start_time": "2022-02-23T16:11:40.666Z"
   },
   {
    "duration": 101,
    "start_time": "2022-02-23T16:16:35.915Z"
   },
   {
    "duration": 19,
    "start_time": "2022-02-23T16:19:49.578Z"
   },
   {
    "duration": 10,
    "start_time": "2022-02-23T16:20:15.587Z"
   },
   {
    "duration": 63,
    "start_time": "2022-02-23T16:20:27.336Z"
   },
   {
    "duration": 10,
    "start_time": "2022-02-23T16:20:27.401Z"
   },
   {
    "duration": 10,
    "start_time": "2022-02-23T16:20:27.413Z"
   },
   {
    "duration": 9,
    "start_time": "2022-02-23T16:20:27.424Z"
   },
   {
    "duration": 17,
    "start_time": "2022-02-23T16:20:27.435Z"
   },
   {
    "duration": 6,
    "start_time": "2022-02-23T16:20:27.454Z"
   },
   {
    "duration": 11,
    "start_time": "2022-02-23T16:20:27.462Z"
   },
   {
    "duration": 18,
    "start_time": "2022-02-23T16:20:27.476Z"
   },
   {
    "duration": 24,
    "start_time": "2022-02-23T16:20:27.496Z"
   },
   {
    "duration": 15,
    "start_time": "2022-02-23T16:20:27.522Z"
   },
   {
    "duration": 5,
    "start_time": "2022-02-23T16:20:27.539Z"
   },
   {
    "duration": 7,
    "start_time": "2022-02-23T16:20:27.546Z"
   },
   {
    "duration": 19,
    "start_time": "2022-02-23T16:20:27.555Z"
   },
   {
    "duration": 6,
    "start_time": "2022-02-23T16:20:27.576Z"
   },
   {
    "duration": 40,
    "start_time": "2022-02-23T16:20:27.583Z"
   },
   {
    "duration": 18,
    "start_time": "2022-02-23T16:20:27.625Z"
   },
   {
    "duration": 14,
    "start_time": "2022-02-23T16:20:27.646Z"
   },
   {
    "duration": 14,
    "start_time": "2022-02-23T16:20:27.662Z"
   },
   {
    "duration": 49,
    "start_time": "2022-02-23T16:20:27.678Z"
   },
   {
    "duration": 14,
    "start_time": "2022-02-23T16:20:27.729Z"
   },
   {
    "duration": 7,
    "start_time": "2022-02-23T16:20:27.745Z"
   },
   {
    "duration": 14,
    "start_time": "2022-02-23T16:20:27.754Z"
   },
   {
    "duration": 11,
    "start_time": "2022-02-23T16:20:27.769Z"
   },
   {
    "duration": 36,
    "start_time": "2022-02-23T16:20:27.782Z"
   },
   {
    "duration": 12,
    "start_time": "2022-02-23T16:20:27.820Z"
   },
   {
    "duration": 14,
    "start_time": "2022-02-23T16:20:27.834Z"
   },
   {
    "duration": 11,
    "start_time": "2022-02-23T16:20:27.849Z"
   },
   {
    "duration": 11,
    "start_time": "2022-02-23T16:20:27.862Z"
   },
   {
    "duration": 11,
    "start_time": "2022-02-23T16:20:27.875Z"
   },
   {
    "duration": 36,
    "start_time": "2022-02-23T16:20:27.888Z"
   },
   {
    "duration": 8,
    "start_time": "2022-02-23T16:20:27.926Z"
   },
   {
    "duration": 12,
    "start_time": "2022-02-23T16:20:27.937Z"
   },
   {
    "duration": 9,
    "start_time": "2022-02-23T16:20:27.951Z"
   },
   {
    "duration": 7,
    "start_time": "2022-02-23T16:20:27.962Z"
   },
   {
    "duration": 22,
    "start_time": "2022-02-23T16:20:27.971Z"
   },
   {
    "duration": 4,
    "start_time": "2022-02-23T16:22:32.329Z"
   },
   {
    "duration": 4,
    "start_time": "2022-02-23T16:22:36.326Z"
   },
   {
    "duration": 3,
    "start_time": "2022-02-23T16:23:09.478Z"
   },
   {
    "duration": 4,
    "start_time": "2022-02-23T16:23:11.813Z"
   },
   {
    "duration": 4,
    "start_time": "2022-02-23T16:23:40.751Z"
   },
   {
    "duration": 3,
    "start_time": "2022-02-23T16:24:08.185Z"
   },
   {
    "duration": 4,
    "start_time": "2022-02-23T16:24:16.108Z"
   },
   {
    "duration": 4,
    "start_time": "2022-02-23T16:24:20.122Z"
   },
   {
    "duration": 7,
    "start_time": "2022-02-23T16:31:24.229Z"
   },
   {
    "duration": 6,
    "start_time": "2022-02-23T16:51:27.455Z"
   },
   {
    "duration": 5,
    "start_time": "2022-02-23T16:51:46.792Z"
   },
   {
    "duration": 5,
    "start_time": "2022-02-23T16:53:03.683Z"
   },
   {
    "duration": 3,
    "start_time": "2022-02-23T16:59:56.032Z"
   },
   {
    "duration": 4,
    "start_time": "2022-02-23T17:00:24.400Z"
   },
   {
    "duration": 5,
    "start_time": "2022-02-23T17:00:36.597Z"
   },
   {
    "duration": 4,
    "start_time": "2022-02-23T17:00:56.225Z"
   },
   {
    "duration": 20,
    "start_time": "2022-02-23T17:03:19.898Z"
   },
   {
    "duration": 15,
    "start_time": "2022-02-23T17:18:01.929Z"
   },
   {
    "duration": 14,
    "start_time": "2022-02-23T17:20:10.819Z"
   },
   {
    "duration": 59,
    "start_time": "2022-02-23T17:20:26.574Z"
   },
   {
    "duration": 13,
    "start_time": "2022-02-23T17:20:26.635Z"
   },
   {
    "duration": 25,
    "start_time": "2022-02-23T17:20:26.650Z"
   },
   {
    "duration": 26,
    "start_time": "2022-02-23T17:20:26.677Z"
   },
   {
    "duration": 37,
    "start_time": "2022-02-23T17:20:26.704Z"
   },
   {
    "duration": 12,
    "start_time": "2022-02-23T17:20:26.743Z"
   },
   {
    "duration": 16,
    "start_time": "2022-02-23T17:20:26.757Z"
   },
   {
    "duration": 23,
    "start_time": "2022-02-23T17:20:26.775Z"
   },
   {
    "duration": 33,
    "start_time": "2022-02-23T17:20:26.800Z"
   },
   {
    "duration": 29,
    "start_time": "2022-02-23T17:20:26.836Z"
   },
   {
    "duration": 5,
    "start_time": "2022-02-23T17:20:26.867Z"
   },
   {
    "duration": 29,
    "start_time": "2022-02-23T17:20:26.873Z"
   },
   {
    "duration": 25,
    "start_time": "2022-02-23T17:20:26.904Z"
   },
   {
    "duration": 6,
    "start_time": "2022-02-23T17:20:26.932Z"
   },
   {
    "duration": 16,
    "start_time": "2022-02-23T17:20:26.940Z"
   },
   {
    "duration": 21,
    "start_time": "2022-02-23T17:20:26.958Z"
   },
   {
    "duration": 18,
    "start_time": "2022-02-23T17:20:26.981Z"
   },
   {
    "duration": 17,
    "start_time": "2022-02-23T17:20:27.019Z"
   },
   {
    "duration": 28,
    "start_time": "2022-02-23T17:20:27.038Z"
   },
   {
    "duration": 23,
    "start_time": "2022-02-23T17:20:27.068Z"
   },
   {
    "duration": 32,
    "start_time": "2022-02-23T17:20:27.092Z"
   },
   {
    "duration": 22,
    "start_time": "2022-02-23T17:20:27.126Z"
   },
   {
    "duration": 15,
    "start_time": "2022-02-23T17:20:27.150Z"
   },
   {
    "duration": 12,
    "start_time": "2022-02-23T17:20:27.167Z"
   },
   {
    "duration": 17,
    "start_time": "2022-02-23T17:20:27.181Z"
   },
   {
    "duration": 27,
    "start_time": "2022-02-23T17:20:27.200Z"
   },
   {
    "duration": 8,
    "start_time": "2022-02-23T17:20:27.231Z"
   },
   {
    "duration": 15,
    "start_time": "2022-02-23T17:20:27.241Z"
   },
   {
    "duration": 29,
    "start_time": "2022-02-23T17:20:27.258Z"
   },
   {
    "duration": 45,
    "start_time": "2022-02-23T17:20:27.289Z"
   },
   {
    "duration": 24,
    "start_time": "2022-02-23T17:20:27.336Z"
   },
   {
    "duration": 30,
    "start_time": "2022-02-23T17:20:27.362Z"
   },
   {
    "duration": 23,
    "start_time": "2022-02-23T17:20:27.394Z"
   },
   {
    "duration": 43,
    "start_time": "2022-02-23T17:20:27.419Z"
   },
   {
    "duration": 42,
    "start_time": "2022-02-23T17:20:27.464Z"
   },
   {
    "duration": 59,
    "start_time": "2022-02-23T17:20:27.508Z"
   },
   {
    "duration": 17,
    "start_time": "2022-02-23T17:20:27.568Z"
   },
   {
    "duration": 25,
    "start_time": "2022-02-23T17:20:27.587Z"
   },
   {
    "duration": 25,
    "start_time": "2022-02-23T17:20:27.613Z"
   },
   {
    "duration": 28,
    "start_time": "2022-02-23T17:20:27.640Z"
   },
   {
    "duration": 42,
    "start_time": "2022-02-23T17:20:27.670Z"
   },
   {
    "duration": 15,
    "start_time": "2022-02-23T18:22:40.403Z"
   },
   {
    "duration": 19,
    "start_time": "2022-02-23T18:22:56.085Z"
   },
   {
    "duration": 14,
    "start_time": "2022-02-23T18:23:56.182Z"
   },
   {
    "duration": 13,
    "start_time": "2022-02-23T18:24:02.555Z"
   },
   {
    "duration": 18,
    "start_time": "2022-02-23T18:24:36.763Z"
   },
   {
    "duration": 283,
    "start_time": "2022-02-23T18:25:19.056Z"
   },
   {
    "duration": 208,
    "start_time": "2022-02-23T18:25:57.600Z"
   },
   {
    "duration": 12,
    "start_time": "2022-02-23T18:26:07.107Z"
   },
   {
    "duration": 12,
    "start_time": "2022-02-23T18:26:17.024Z"
   },
   {
    "duration": 12,
    "start_time": "2022-02-23T18:26:26.792Z"
   },
   {
    "duration": 59,
    "start_time": "2022-02-23T18:27:41.340Z"
   },
   {
    "duration": 16,
    "start_time": "2022-02-23T18:27:41.401Z"
   },
   {
    "duration": 27,
    "start_time": "2022-02-23T18:27:41.419Z"
   },
   {
    "duration": 15,
    "start_time": "2022-02-23T18:27:41.448Z"
   },
   {
    "duration": 22,
    "start_time": "2022-02-23T18:27:41.465Z"
   },
   {
    "duration": 17,
    "start_time": "2022-02-23T18:27:41.488Z"
   },
   {
    "duration": 31,
    "start_time": "2022-02-23T18:27:41.506Z"
   },
   {
    "duration": 24,
    "start_time": "2022-02-23T18:27:41.540Z"
   },
   {
    "duration": 15,
    "start_time": "2022-02-23T18:27:41.566Z"
   },
   {
    "duration": 37,
    "start_time": "2022-02-23T18:27:41.583Z"
   },
   {
    "duration": 22,
    "start_time": "2022-02-23T18:27:41.622Z"
   },
   {
    "duration": 14,
    "start_time": "2022-02-23T18:27:41.646Z"
   },
   {
    "duration": 46,
    "start_time": "2022-02-23T18:27:41.662Z"
   },
   {
    "duration": 13,
    "start_time": "2022-02-23T18:27:41.710Z"
   },
   {
    "duration": 29,
    "start_time": "2022-02-23T18:27:41.725Z"
   },
   {
    "duration": 29,
    "start_time": "2022-02-23T18:27:41.756Z"
   },
   {
    "duration": 16,
    "start_time": "2022-02-23T18:27:41.787Z"
   },
   {
    "duration": 14,
    "start_time": "2022-02-23T18:27:41.805Z"
   },
   {
    "duration": 34,
    "start_time": "2022-02-23T18:27:41.820Z"
   },
   {
    "duration": 21,
    "start_time": "2022-02-23T18:27:41.856Z"
   },
   {
    "duration": 8,
    "start_time": "2022-02-23T18:27:41.879Z"
   },
   {
    "duration": 22,
    "start_time": "2022-02-23T18:27:41.889Z"
   },
   {
    "duration": 18,
    "start_time": "2022-02-23T18:27:41.915Z"
   },
   {
    "duration": 23,
    "start_time": "2022-02-23T18:27:41.935Z"
   },
   {
    "duration": 23,
    "start_time": "2022-02-23T18:27:41.960Z"
   },
   {
    "duration": 23,
    "start_time": "2022-02-23T18:27:41.985Z"
   },
   {
    "duration": 44,
    "start_time": "2022-02-23T18:27:42.010Z"
   },
   {
    "duration": 22,
    "start_time": "2022-02-23T18:27:42.062Z"
   },
   {
    "duration": 18,
    "start_time": "2022-02-23T18:27:42.087Z"
   },
   {
    "duration": 24,
    "start_time": "2022-02-23T18:27:42.107Z"
   },
   {
    "duration": 25,
    "start_time": "2022-02-23T18:27:42.133Z"
   },
   {
    "duration": 14,
    "start_time": "2022-02-23T18:27:42.160Z"
   },
   {
    "duration": 22,
    "start_time": "2022-02-23T18:27:42.176Z"
   },
   {
    "duration": 19,
    "start_time": "2022-02-23T18:27:42.200Z"
   },
   {
    "duration": 33,
    "start_time": "2022-02-23T18:27:42.221Z"
   },
   {
    "duration": 31,
    "start_time": "2022-02-23T18:27:42.256Z"
   },
   {
    "duration": 18,
    "start_time": "2022-02-23T18:27:42.288Z"
   },
   {
    "duration": 6,
    "start_time": "2022-02-23T18:27:42.307Z"
   },
   {
    "duration": 10,
    "start_time": "2022-02-23T18:27:42.314Z"
   },
   {
    "duration": 21,
    "start_time": "2022-02-23T18:27:42.326Z"
   },
   {
    "duration": 19,
    "start_time": "2022-02-23T18:27:42.349Z"
   },
   {
    "duration": 12,
    "start_time": "2022-02-23T18:27:42.370Z"
   },
   {
    "duration": 19,
    "start_time": "2022-02-23T18:47:25.208Z"
   },
   {
    "duration": 20,
    "start_time": "2022-02-23T18:47:43.186Z"
   },
   {
    "duration": 19,
    "start_time": "2022-02-23T18:49:56.430Z"
   },
   {
    "duration": 22,
    "start_time": "2022-02-23T18:50:14.443Z"
   },
   {
    "duration": 20,
    "start_time": "2022-02-23T18:51:14.352Z"
   },
   {
    "duration": 20,
    "start_time": "2022-02-23T18:52:44.962Z"
   },
   {
    "duration": 8,
    "start_time": "2022-02-23T18:54:36.222Z"
   },
   {
    "duration": 8,
    "start_time": "2022-02-23T18:59:10.483Z"
   },
   {
    "duration": 5,
    "start_time": "2022-02-23T18:59:38.659Z"
   },
   {
    "duration": 5,
    "start_time": "2022-02-23T19:00:19.147Z"
   },
   {
    "duration": 7,
    "start_time": "2022-02-23T19:00:34.040Z"
   },
   {
    "duration": 5,
    "start_time": "2022-02-23T19:02:04.932Z"
   },
   {
    "duration": 6,
    "start_time": "2022-02-23T19:03:04.362Z"
   },
   {
    "duration": 11,
    "start_time": "2022-02-23T19:03:21.314Z"
   },
   {
    "duration": 11,
    "start_time": "2022-02-23T19:03:33.151Z"
   },
   {
    "duration": 12,
    "start_time": "2022-02-23T19:04:11.561Z"
   },
   {
    "duration": 11,
    "start_time": "2022-02-23T19:12:21.928Z"
   },
   {
    "duration": 6,
    "start_time": "2022-02-23T19:12:36.112Z"
   },
   {
    "duration": 5777,
    "start_time": "2022-02-23T19:13:04.608Z"
   },
   {
    "duration": -557,
    "start_time": "2022-02-23T19:13:10.946Z"
   },
   {
    "duration": 5293,
    "start_time": "2022-02-23T19:13:10.935Z"
   },
   {
    "duration": 6,
    "start_time": "2022-02-23T19:15:06.671Z"
   },
   {
    "duration": 5255,
    "start_time": "2022-02-23T19:34:38.224Z"
   },
   {
    "duration": 56,
    "start_time": "2022-02-23T19:35:28.435Z"
   },
   {
    "duration": 11,
    "start_time": "2022-02-23T19:35:28.493Z"
   },
   {
    "duration": 19,
    "start_time": "2022-02-23T19:35:28.506Z"
   },
   {
    "duration": 8,
    "start_time": "2022-02-23T19:35:28.527Z"
   },
   {
    "duration": 13,
    "start_time": "2022-02-23T19:35:28.566Z"
   },
   {
    "duration": 18,
    "start_time": "2022-02-23T19:35:28.581Z"
   },
   {
    "duration": 22,
    "start_time": "2022-02-23T19:35:28.601Z"
   },
   {
    "duration": 14,
    "start_time": "2022-02-23T19:35:28.629Z"
   },
   {
    "duration": 6,
    "start_time": "2022-02-23T19:35:28.645Z"
   },
   {
    "duration": 16,
    "start_time": "2022-02-23T19:35:28.653Z"
   },
   {
    "duration": 12,
    "start_time": "2022-02-23T19:35:28.670Z"
   },
   {
    "duration": 5,
    "start_time": "2022-02-23T19:35:28.697Z"
   },
   {
    "duration": 21,
    "start_time": "2022-02-23T19:35:28.704Z"
   },
   {
    "duration": 3,
    "start_time": "2022-02-23T19:35:28.727Z"
   },
   {
    "duration": 18,
    "start_time": "2022-02-23T19:35:28.732Z"
   },
   {
    "duration": 7,
    "start_time": "2022-02-23T19:35:28.760Z"
   },
   {
    "duration": 14,
    "start_time": "2022-02-23T19:35:28.769Z"
   },
   {
    "duration": 7,
    "start_time": "2022-02-23T19:35:28.785Z"
   },
   {
    "duration": 41,
    "start_time": "2022-02-23T19:35:28.794Z"
   },
   {
    "duration": 14,
    "start_time": "2022-02-23T19:35:28.837Z"
   },
   {
    "duration": 14,
    "start_time": "2022-02-23T19:35:28.853Z"
   },
   {
    "duration": 22,
    "start_time": "2022-02-23T19:35:28.869Z"
   },
   {
    "duration": 17,
    "start_time": "2022-02-23T19:35:28.919Z"
   },
   {
    "duration": 9,
    "start_time": "2022-02-23T19:35:28.937Z"
   },
   {
    "duration": 16,
    "start_time": "2022-02-23T19:35:28.947Z"
   },
   {
    "duration": 12,
    "start_time": "2022-02-23T19:35:28.966Z"
   },
   {
    "duration": 38,
    "start_time": "2022-02-23T19:35:28.980Z"
   },
   {
    "duration": 12,
    "start_time": "2022-02-23T19:35:29.020Z"
   },
   {
    "duration": 12,
    "start_time": "2022-02-23T19:35:29.034Z"
   },
   {
    "duration": 9,
    "start_time": "2022-02-23T19:35:29.047Z"
   },
   {
    "duration": 12,
    "start_time": "2022-02-23T19:35:29.058Z"
   },
   {
    "duration": 8,
    "start_time": "2022-02-23T19:35:29.072Z"
   },
   {
    "duration": 36,
    "start_time": "2022-02-23T19:35:29.082Z"
   },
   {
    "duration": 10,
    "start_time": "2022-02-23T19:35:29.120Z"
   },
   {
    "duration": 14,
    "start_time": "2022-02-23T19:35:29.131Z"
   },
   {
    "duration": 10,
    "start_time": "2022-02-23T19:35:29.147Z"
   },
   {
    "duration": 5,
    "start_time": "2022-02-23T19:35:29.160Z"
   },
   {
    "duration": 21,
    "start_time": "2022-02-23T19:35:29.167Z"
   },
   {
    "duration": 30,
    "start_time": "2022-02-23T19:35:29.190Z"
   },
   {
    "duration": 7,
    "start_time": "2022-02-23T19:35:29.222Z"
   },
   {
    "duration": 5,
    "start_time": "2022-02-23T19:35:29.231Z"
   },
   {
    "duration": 17,
    "start_time": "2022-02-23T19:35:29.237Z"
   },
   {
    "duration": 33,
    "start_time": "2022-02-23T19:35:29.256Z"
   },
   {
    "duration": 20,
    "start_time": "2022-02-23T19:35:29.291Z"
   },
   {
    "duration": 19,
    "start_time": "2022-02-23T19:35:29.313Z"
   },
   {
    "duration": 7,
    "start_time": "2022-02-23T19:36:10.362Z"
   },
   {
    "duration": 5,
    "start_time": "2022-02-23T19:41:40.257Z"
   },
   {
    "duration": 4,
    "start_time": "2022-02-23T19:57:48.994Z"
   },
   {
    "duration": 6,
    "start_time": "2022-02-23T19:57:52.326Z"
   },
   {
    "duration": 59,
    "start_time": "2022-02-23T19:58:56.052Z"
   },
   {
    "duration": 12,
    "start_time": "2022-02-23T19:58:56.113Z"
   },
   {
    "duration": 10,
    "start_time": "2022-02-23T19:58:56.127Z"
   },
   {
    "duration": 8,
    "start_time": "2022-02-23T19:58:56.139Z"
   },
   {
    "duration": 15,
    "start_time": "2022-02-23T19:58:56.148Z"
   },
   {
    "duration": 6,
    "start_time": "2022-02-23T19:58:56.165Z"
   },
   {
    "duration": 4,
    "start_time": "2022-02-23T19:58:56.172Z"
   },
   {
    "duration": 51,
    "start_time": "2022-02-23T19:58:56.178Z"
   },
   {
    "duration": 8,
    "start_time": "2022-02-23T19:58:56.231Z"
   },
   {
    "duration": 17,
    "start_time": "2022-02-23T19:58:56.241Z"
   },
   {
    "duration": 5,
    "start_time": "2022-02-23T19:58:56.259Z"
   },
   {
    "duration": 4,
    "start_time": "2022-02-23T19:58:56.266Z"
   },
   {
    "duration": 21,
    "start_time": "2022-02-23T19:58:56.272Z"
   },
   {
    "duration": 25,
    "start_time": "2022-02-23T19:58:56.295Z"
   },
   {
    "duration": 16,
    "start_time": "2022-02-23T19:58:56.322Z"
   },
   {
    "duration": 7,
    "start_time": "2022-02-23T19:58:56.340Z"
   },
   {
    "duration": 12,
    "start_time": "2022-02-23T19:58:56.348Z"
   },
   {
    "duration": 6,
    "start_time": "2022-02-23T19:58:56.361Z"
   },
   {
    "duration": 5,
    "start_time": "2022-02-23T19:58:56.369Z"
   },
   {
    "duration": 55,
    "start_time": "2022-02-23T19:58:56.376Z"
   },
   {
    "duration": 16,
    "start_time": "2022-02-23T19:58:56.433Z"
   },
   {
    "duration": 16,
    "start_time": "2022-02-23T19:58:56.451Z"
   },
   {
    "duration": 19,
    "start_time": "2022-02-23T19:58:56.469Z"
   },
   {
    "duration": 41,
    "start_time": "2022-02-23T19:58:56.490Z"
   },
   {
    "duration": 7,
    "start_time": "2022-02-23T19:58:56.533Z"
   },
   {
    "duration": 13,
    "start_time": "2022-02-23T19:58:56.542Z"
   },
   {
    "duration": 26,
    "start_time": "2022-02-23T19:58:56.557Z"
   },
   {
    "duration": 10,
    "start_time": "2022-02-23T19:58:56.585Z"
   },
   {
    "duration": 25,
    "start_time": "2022-02-23T19:58:56.597Z"
   },
   {
    "duration": 11,
    "start_time": "2022-02-23T19:58:56.624Z"
   },
   {
    "duration": 10,
    "start_time": "2022-02-23T19:58:56.637Z"
   },
   {
    "duration": 10,
    "start_time": "2022-02-23T19:58:56.649Z"
   },
   {
    "duration": 11,
    "start_time": "2022-02-23T19:58:56.660Z"
   },
   {
    "duration": 11,
    "start_time": "2022-02-23T19:58:56.672Z"
   },
   {
    "duration": 10,
    "start_time": "2022-02-23T19:58:56.685Z"
   },
   {
    "duration": 25,
    "start_time": "2022-02-23T19:58:56.697Z"
   },
   {
    "duration": 10,
    "start_time": "2022-02-23T19:58:56.723Z"
   },
   {
    "duration": 9,
    "start_time": "2022-02-23T19:58:56.735Z"
   },
   {
    "duration": 30,
    "start_time": "2022-02-23T19:58:56.746Z"
   },
   {
    "duration": 14,
    "start_time": "2022-02-23T19:58:56.778Z"
   },
   {
    "duration": 8,
    "start_time": "2022-02-23T19:58:56.795Z"
   },
   {
    "duration": 4,
    "start_time": "2022-02-23T19:58:56.805Z"
   },
   {
    "duration": 14,
    "start_time": "2022-02-23T19:58:56.811Z"
   },
   {
    "duration": 21,
    "start_time": "2022-02-23T19:58:56.826Z"
   },
   {
    "duration": 17,
    "start_time": "2022-02-23T19:58:56.849Z"
   },
   {
    "duration": 19,
    "start_time": "2022-02-23T19:58:56.868Z"
   },
   {
    "duration": 10,
    "start_time": "2022-02-23T20:18:30.596Z"
   },
   {
    "duration": 231,
    "start_time": "2022-02-23T20:34:38.790Z"
   },
   {
    "duration": 293,
    "start_time": "2022-02-23T20:35:00.407Z"
   },
   {
    "duration": 55,
    "start_time": "2022-02-23T20:35:14.295Z"
   },
   {
    "duration": 13,
    "start_time": "2022-02-23T20:35:14.353Z"
   },
   {
    "duration": 14,
    "start_time": "2022-02-23T20:35:14.368Z"
   },
   {
    "duration": 14,
    "start_time": "2022-02-23T20:35:14.384Z"
   },
   {
    "duration": 57,
    "start_time": "2022-02-23T20:35:14.400Z"
   },
   {
    "duration": 37,
    "start_time": "2022-02-23T20:35:14.458Z"
   },
   {
    "duration": 24,
    "start_time": "2022-02-23T20:35:14.497Z"
   },
   {
    "duration": 40,
    "start_time": "2022-02-23T20:35:14.523Z"
   },
   {
    "duration": 19,
    "start_time": "2022-02-23T20:35:14.566Z"
   },
   {
    "duration": 36,
    "start_time": "2022-02-23T20:35:14.587Z"
   },
   {
    "duration": 29,
    "start_time": "2022-02-23T20:35:14.625Z"
   },
   {
    "duration": 19,
    "start_time": "2022-02-23T20:35:14.656Z"
   },
   {
    "duration": 36,
    "start_time": "2022-02-23T20:35:14.676Z"
   },
   {
    "duration": 15,
    "start_time": "2022-02-23T20:35:14.715Z"
   },
   {
    "duration": 40,
    "start_time": "2022-02-23T20:35:14.731Z"
   },
   {
    "duration": 37,
    "start_time": "2022-02-23T20:35:14.773Z"
   },
   {
    "duration": 49,
    "start_time": "2022-02-23T20:35:14.812Z"
   },
   {
    "duration": 10,
    "start_time": "2022-02-23T20:35:14.863Z"
   },
   {
    "duration": 28,
    "start_time": "2022-02-23T20:35:14.875Z"
   },
   {
    "duration": 44,
    "start_time": "2022-02-23T20:35:14.905Z"
   },
   {
    "duration": 15,
    "start_time": "2022-02-23T20:35:14.951Z"
   },
   {
    "duration": 13,
    "start_time": "2022-02-23T20:35:14.968Z"
   },
   {
    "duration": 21,
    "start_time": "2022-02-23T20:35:14.983Z"
   },
   {
    "duration": 23,
    "start_time": "2022-02-23T20:35:15.006Z"
   },
   {
    "duration": 12,
    "start_time": "2022-02-23T20:35:15.032Z"
   },
   {
    "duration": 21,
    "start_time": "2022-02-23T20:35:15.046Z"
   },
   {
    "duration": 17,
    "start_time": "2022-02-23T20:35:15.071Z"
   },
   {
    "duration": 10,
    "start_time": "2022-02-23T20:35:15.090Z"
   },
   {
    "duration": 29,
    "start_time": "2022-02-23T20:35:15.101Z"
   },
   {
    "duration": 13,
    "start_time": "2022-02-23T20:35:15.132Z"
   },
   {
    "duration": 10,
    "start_time": "2022-02-23T20:35:15.147Z"
   },
   {
    "duration": 10,
    "start_time": "2022-02-23T20:35:15.158Z"
   },
   {
    "duration": 11,
    "start_time": "2022-02-23T20:35:15.170Z"
   },
   {
    "duration": 13,
    "start_time": "2022-02-23T20:35:15.183Z"
   },
   {
    "duration": 28,
    "start_time": "2022-02-23T20:35:15.197Z"
   },
   {
    "duration": 7,
    "start_time": "2022-02-23T20:35:15.226Z"
   },
   {
    "duration": 6,
    "start_time": "2022-02-23T20:35:15.235Z"
   },
   {
    "duration": 7,
    "start_time": "2022-02-23T20:35:15.243Z"
   },
   {
    "duration": 21,
    "start_time": "2022-02-23T20:35:15.252Z"
   },
   {
    "duration": 44,
    "start_time": "2022-02-23T20:35:15.275Z"
   },
   {
    "duration": 9,
    "start_time": "2022-02-23T20:35:15.321Z"
   },
   {
    "duration": 7,
    "start_time": "2022-02-23T20:35:15.332Z"
   },
   {
    "duration": 10,
    "start_time": "2022-02-23T20:35:15.340Z"
   },
   {
    "duration": 20,
    "start_time": "2022-02-23T20:35:15.352Z"
   },
   {
    "duration": 15,
    "start_time": "2022-02-23T20:35:15.374Z"
   },
   {
    "duration": 20,
    "start_time": "2022-02-23T20:35:15.419Z"
   },
   {
    "duration": 29,
    "start_time": "2022-02-23T20:37:22.814Z"
   },
   {
    "duration": 19,
    "start_time": "2022-02-23T20:37:31.346Z"
   },
   {
    "duration": 19,
    "start_time": "2022-02-23T20:50:15.894Z"
   },
   {
    "duration": 20,
    "start_time": "2022-02-23T21:08:03.988Z"
   },
   {
    "duration": 20,
    "start_time": "2022-02-23T21:08:21.716Z"
   },
   {
    "duration": 314,
    "start_time": "2022-02-24T06:13:36.605Z"
   },
   {
    "duration": 688,
    "start_time": "2022-02-24T06:13:45.793Z"
   },
   {
    "duration": 14,
    "start_time": "2022-02-24T06:13:46.483Z"
   },
   {
    "duration": 16,
    "start_time": "2022-02-24T06:13:46.500Z"
   },
   {
    "duration": 7,
    "start_time": "2022-02-24T06:13:46.518Z"
   },
   {
    "duration": 20,
    "start_time": "2022-02-24T06:13:46.527Z"
   },
   {
    "duration": 7,
    "start_time": "2022-02-24T06:13:46.549Z"
   },
   {
    "duration": 5,
    "start_time": "2022-02-24T06:13:46.558Z"
   },
   {
    "duration": 42,
    "start_time": "2022-02-24T06:13:46.566Z"
   },
   {
    "duration": 4,
    "start_time": "2022-02-24T06:13:46.611Z"
   },
   {
    "duration": 20,
    "start_time": "2022-02-24T06:13:46.616Z"
   },
   {
    "duration": 11,
    "start_time": "2022-02-24T06:13:46.638Z"
   },
   {
    "duration": 8,
    "start_time": "2022-02-24T06:13:46.650Z"
   },
   {
    "duration": 19,
    "start_time": "2022-02-24T06:13:46.660Z"
   },
   {
    "duration": 26,
    "start_time": "2022-02-24T06:13:46.681Z"
   },
   {
    "duration": 21,
    "start_time": "2022-02-24T06:13:46.709Z"
   },
   {
    "duration": 8,
    "start_time": "2022-02-24T06:13:46.732Z"
   },
   {
    "duration": 13,
    "start_time": "2022-02-24T06:13:46.742Z"
   },
   {
    "duration": 4,
    "start_time": "2022-02-24T06:13:46.757Z"
   },
   {
    "duration": 12,
    "start_time": "2022-02-24T06:13:46.763Z"
   },
   {
    "duration": 45,
    "start_time": "2022-02-24T06:13:46.777Z"
   },
   {
    "duration": 16,
    "start_time": "2022-02-24T06:13:46.823Z"
   },
   {
    "duration": 14,
    "start_time": "2022-02-24T06:13:46.841Z"
   },
   {
    "duration": 22,
    "start_time": "2022-02-24T06:13:46.859Z"
   },
   {
    "duration": 38,
    "start_time": "2022-02-24T06:13:46.883Z"
   },
   {
    "duration": 8,
    "start_time": "2022-02-24T06:13:46.923Z"
   },
   {
    "duration": 19,
    "start_time": "2022-02-24T06:13:46.933Z"
   },
   {
    "duration": 12,
    "start_time": "2022-02-24T06:13:46.954Z"
   },
   {
    "duration": 11,
    "start_time": "2022-02-24T06:13:46.968Z"
   },
   {
    "duration": 36,
    "start_time": "2022-02-24T06:13:46.981Z"
   },
   {
    "duration": 21,
    "start_time": "2022-02-24T06:13:47.019Z"
   },
   {
    "duration": 11,
    "start_time": "2022-02-24T06:13:47.042Z"
   },
   {
    "duration": 10,
    "start_time": "2022-02-24T06:13:47.055Z"
   },
   {
    "duration": 10,
    "start_time": "2022-02-24T06:13:47.067Z"
   },
   {
    "duration": 34,
    "start_time": "2022-02-24T06:13:47.079Z"
   },
   {
    "duration": 11,
    "start_time": "2022-02-24T06:13:47.115Z"
   },
   {
    "duration": 20,
    "start_time": "2022-02-24T06:13:47.128Z"
   },
   {
    "duration": 10,
    "start_time": "2022-02-24T06:13:47.150Z"
   },
   {
    "duration": 9,
    "start_time": "2022-02-24T06:13:47.162Z"
   },
   {
    "duration": 23,
    "start_time": "2022-02-24T06:13:47.173Z"
   },
   {
    "duration": 15,
    "start_time": "2022-02-24T06:13:47.207Z"
   },
   {
    "duration": 9,
    "start_time": "2022-02-24T06:13:47.224Z"
   },
   {
    "duration": 11,
    "start_time": "2022-02-24T06:13:47.235Z"
   },
   {
    "duration": 11,
    "start_time": "2022-02-24T06:13:47.248Z"
   },
   {
    "duration": 24,
    "start_time": "2022-02-24T06:13:47.261Z"
   },
   {
    "duration": 31,
    "start_time": "2022-02-24T06:13:47.287Z"
   },
   {
    "duration": 25,
    "start_time": "2022-02-24T06:13:47.320Z"
   },
   {
    "duration": 244,
    "start_time": "2022-02-24T06:16:06.878Z"
   },
   {
    "duration": 202,
    "start_time": "2022-02-24T06:17:48.074Z"
   },
   {
    "duration": 201,
    "start_time": "2022-02-24T06:18:19.701Z"
   },
   {
    "duration": 208,
    "start_time": "2022-02-24T06:18:26.589Z"
   },
   {
    "duration": 673,
    "start_time": "2022-02-24T06:18:44.018Z"
   },
   {
    "duration": 20,
    "start_time": "2022-02-24T06:18:44.693Z"
   },
   {
    "duration": 11,
    "start_time": "2022-02-24T06:18:44.715Z"
   },
   {
    "duration": 10,
    "start_time": "2022-02-24T06:18:44.728Z"
   },
   {
    "duration": 17,
    "start_time": "2022-02-24T06:18:44.740Z"
   },
   {
    "duration": 6,
    "start_time": "2022-02-24T06:18:44.758Z"
   },
   {
    "duration": 8,
    "start_time": "2022-02-24T06:18:44.765Z"
   },
   {
    "duration": 46,
    "start_time": "2022-02-24T06:18:44.775Z"
   },
   {
    "duration": 4,
    "start_time": "2022-02-24T06:18:44.824Z"
   },
   {
    "duration": 15,
    "start_time": "2022-02-24T06:18:44.831Z"
   },
   {
    "duration": 8,
    "start_time": "2022-02-24T06:18:44.848Z"
   },
   {
    "duration": 10,
    "start_time": "2022-02-24T06:18:44.858Z"
   },
   {
    "duration": 44,
    "start_time": "2022-02-24T06:18:44.870Z"
   },
   {
    "duration": 5,
    "start_time": "2022-02-24T06:18:44.916Z"
   },
   {
    "duration": 17,
    "start_time": "2022-02-24T06:18:44.923Z"
   },
   {
    "duration": 13,
    "start_time": "2022-02-24T06:18:44.942Z"
   },
   {
    "duration": 15,
    "start_time": "2022-02-24T06:18:44.957Z"
   },
   {
    "duration": 9,
    "start_time": "2022-02-24T06:18:44.973Z"
   },
   {
    "duration": 29,
    "start_time": "2022-02-24T06:18:44.983Z"
   },
   {
    "duration": 35,
    "start_time": "2022-02-24T06:18:45.015Z"
   },
   {
    "duration": 18,
    "start_time": "2022-02-24T06:18:45.051Z"
   },
   {
    "duration": 17,
    "start_time": "2022-02-24T06:18:45.071Z"
   },
   {
    "duration": 33,
    "start_time": "2022-02-24T06:18:45.090Z"
   },
   {
    "duration": 19,
    "start_time": "2022-02-24T06:18:45.125Z"
   },
   {
    "duration": 8,
    "start_time": "2022-02-24T06:18:45.145Z"
   },
   {
    "duration": 21,
    "start_time": "2022-02-24T06:18:45.155Z"
   },
   {
    "duration": 32,
    "start_time": "2022-02-24T06:18:45.180Z"
   },
   {
    "duration": 16,
    "start_time": "2022-02-24T06:18:45.214Z"
   },
   {
    "duration": 18,
    "start_time": "2022-02-24T06:18:45.232Z"
   },
   {
    "duration": 13,
    "start_time": "2022-02-24T06:18:45.252Z"
   },
   {
    "duration": 14,
    "start_time": "2022-02-24T06:18:45.267Z"
   },
   {
    "duration": 29,
    "start_time": "2022-02-24T06:18:45.283Z"
   },
   {
    "duration": 10,
    "start_time": "2022-02-24T06:18:45.314Z"
   },
   {
    "duration": 15,
    "start_time": "2022-02-24T06:18:45.326Z"
   },
   {
    "duration": 14,
    "start_time": "2022-02-24T06:18:45.343Z"
   },
   {
    "duration": 6,
    "start_time": "2022-02-24T06:18:45.358Z"
   },
   {
    "duration": 9,
    "start_time": "2022-02-24T06:18:45.365Z"
   },
   {
    "duration": 10,
    "start_time": "2022-02-24T06:18:45.376Z"
   },
   {
    "duration": 36,
    "start_time": "2022-02-24T06:18:45.387Z"
   },
   {
    "duration": 15,
    "start_time": "2022-02-24T06:18:45.425Z"
   },
   {
    "duration": 7,
    "start_time": "2022-02-24T06:18:45.442Z"
   },
   {
    "duration": 7,
    "start_time": "2022-02-24T06:18:45.451Z"
   },
   {
    "duration": 9,
    "start_time": "2022-02-24T06:18:45.459Z"
   },
   {
    "duration": 50,
    "start_time": "2022-02-24T06:18:45.469Z"
   },
   {
    "duration": 16,
    "start_time": "2022-02-24T06:18:45.521Z"
   },
   {
    "duration": 29,
    "start_time": "2022-02-24T06:18:45.539Z"
   },
   {
    "duration": 277,
    "start_time": "2022-02-24T06:19:04.810Z"
   },
   {
    "duration": 5173,
    "start_time": "2022-02-24T06:19:42.732Z"
   },
   {
    "duration": 69,
    "start_time": "2022-02-24T06:20:04.724Z"
   },
   {
    "duration": 11,
    "start_time": "2022-02-24T06:20:07.259Z"
   },
   {
    "duration": 11,
    "start_time": "2022-02-24T06:20:10.228Z"
   },
   {
    "duration": 8,
    "start_time": "2022-02-24T06:20:12.591Z"
   },
   {
    "duration": 16,
    "start_time": "2022-02-24T06:20:14.761Z"
   },
   {
    "duration": 6,
    "start_time": "2022-02-24T06:20:20.085Z"
   },
   {
    "duration": 5,
    "start_time": "2022-02-24T06:20:22.320Z"
   },
   {
    "duration": 15,
    "start_time": "2022-02-24T06:20:24.736Z"
   },
   {
    "duration": 4,
    "start_time": "2022-02-24T06:20:29.079Z"
   },
   {
    "duration": 18,
    "start_time": "2022-02-24T06:20:31.231Z"
   },
   {
    "duration": 6,
    "start_time": "2022-02-24T06:20:35.860Z"
   },
   {
    "duration": 6,
    "start_time": "2022-02-24T06:20:37.660Z"
   },
   {
    "duration": 17,
    "start_time": "2022-02-24T06:20:40.010Z"
   },
   {
    "duration": 5,
    "start_time": "2022-02-24T06:20:50.708Z"
   },
   {
    "duration": 15,
    "start_time": "2022-02-24T06:20:52.689Z"
   },
   {
    "duration": 8,
    "start_time": "2022-02-24T06:20:58.145Z"
   },
   {
    "duration": 13,
    "start_time": "2022-02-24T06:21:00.168Z"
   },
   {
    "duration": 5,
    "start_time": "2022-02-24T06:21:02.512Z"
   },
   {
    "duration": 7,
    "start_time": "2022-02-24T06:21:04.975Z"
   },
   {
    "duration": 19,
    "start_time": "2022-02-24T06:21:11.513Z"
   },
   {
    "duration": 17,
    "start_time": "2022-02-24T06:21:13.232Z"
   },
   {
    "duration": 16,
    "start_time": "2022-02-24T06:21:16.081Z"
   },
   {
    "duration": 21,
    "start_time": "2022-02-24T06:21:27.594Z"
   },
   {
    "duration": 19,
    "start_time": "2022-02-24T06:21:29.377Z"
   },
   {
    "duration": 9,
    "start_time": "2022-02-24T06:21:32.478Z"
   },
   {
    "duration": 13,
    "start_time": "2022-02-24T06:21:36.555Z"
   },
   {
    "duration": 9,
    "start_time": "2022-02-24T06:21:38.320Z"
   },
   {
    "duration": 9,
    "start_time": "2022-02-24T06:21:40.656Z"
   },
   {
    "duration": 14,
    "start_time": "2022-02-24T06:21:42.844Z"
   },
   {
    "duration": 11,
    "start_time": "2022-02-24T06:21:44.307Z"
   },
   {
    "duration": 9,
    "start_time": "2022-02-24T06:21:47.122Z"
   },
   {
    "duration": 12,
    "start_time": "2022-02-24T06:21:49.309Z"
   },
   {
    "duration": 10,
    "start_time": "2022-02-24T06:21:51.939Z"
   },
   {
    "duration": 10,
    "start_time": "2022-02-24T06:21:57.723Z"
   },
   {
    "duration": 10,
    "start_time": "2022-02-24T06:22:00.585Z"
   },
   {
    "duration": 6,
    "start_time": "2022-02-24T06:22:03.199Z"
   },
   {
    "duration": 221,
    "start_time": "2022-02-24T06:22:23.394Z"
   },
   {
    "duration": 339,
    "start_time": "2022-02-24T06:22:42.272Z"
   },
   {
    "duration": 317,
    "start_time": "2022-02-24T06:22:46.279Z"
   },
   {
    "duration": 21,
    "start_time": "2022-02-24T06:24:12.523Z"
   },
   {
    "duration": 16,
    "start_time": "2022-02-24T06:24:22.706Z"
   },
   {
    "duration": 195,
    "start_time": "2022-02-24T06:24:41.886Z"
   },
   {
    "duration": 235,
    "start_time": "2022-02-24T06:25:24.038Z"
   },
   {
    "duration": 267,
    "start_time": "2022-02-24T06:26:09.984Z"
   },
   {
    "duration": 265,
    "start_time": "2022-02-24T06:26:28.186Z"
   },
   {
    "duration": 258,
    "start_time": "2022-02-24T06:26:38.529Z"
   },
   {
    "duration": 341,
    "start_time": "2022-02-24T06:27:00.550Z"
   },
   {
    "duration": 59,
    "start_time": "2022-02-24T06:27:21.495Z"
   },
   {
    "duration": 13,
    "start_time": "2022-02-24T06:27:21.557Z"
   },
   {
    "duration": 42,
    "start_time": "2022-02-24T06:27:21.573Z"
   },
   {
    "duration": 7,
    "start_time": "2022-02-24T06:27:21.617Z"
   },
   {
    "duration": 23,
    "start_time": "2022-02-24T06:27:21.626Z"
   },
   {
    "duration": 6,
    "start_time": "2022-02-24T06:27:21.651Z"
   },
   {
    "duration": 8,
    "start_time": "2022-02-24T06:27:21.658Z"
   },
   {
    "duration": 51,
    "start_time": "2022-02-24T06:27:21.670Z"
   },
   {
    "duration": 8,
    "start_time": "2022-02-24T06:27:21.724Z"
   },
   {
    "duration": 16,
    "start_time": "2022-02-24T06:27:21.734Z"
   },
   {
    "duration": 6,
    "start_time": "2022-02-24T06:27:21.752Z"
   },
   {
    "duration": 5,
    "start_time": "2022-02-24T06:27:21.759Z"
   },
   {
    "duration": 46,
    "start_time": "2022-02-24T06:27:21.766Z"
   },
   {
    "duration": 7,
    "start_time": "2022-02-24T06:27:21.813Z"
   },
   {
    "duration": 17,
    "start_time": "2022-02-24T06:27:21.821Z"
   },
   {
    "duration": 8,
    "start_time": "2022-02-24T06:27:21.840Z"
   },
   {
    "duration": 18,
    "start_time": "2022-02-24T06:27:21.849Z"
   },
   {
    "duration": 6,
    "start_time": "2022-02-24T06:27:21.869Z"
   },
   {
    "duration": 33,
    "start_time": "2022-02-24T06:27:21.876Z"
   },
   {
    "duration": 19,
    "start_time": "2022-02-24T06:27:21.911Z"
   },
   {
    "duration": 19,
    "start_time": "2022-02-24T06:27:21.932Z"
   },
   {
    "duration": 18,
    "start_time": "2022-02-24T06:27:21.953Z"
   },
   {
    "duration": 48,
    "start_time": "2022-02-24T06:27:21.975Z"
   },
   {
    "duration": 18,
    "start_time": "2022-02-24T06:27:22.025Z"
   },
   {
    "duration": 8,
    "start_time": "2022-02-24T06:27:22.046Z"
   },
   {
    "duration": 15,
    "start_time": "2022-02-24T06:27:22.056Z"
   },
   {
    "duration": 38,
    "start_time": "2022-02-24T06:27:22.073Z"
   },
   {
    "duration": 12,
    "start_time": "2022-02-24T06:27:22.113Z"
   },
   {
    "duration": 15,
    "start_time": "2022-02-24T06:27:22.127Z"
   },
   {
    "duration": 15,
    "start_time": "2022-02-24T06:27:22.144Z"
   },
   {
    "duration": 12,
    "start_time": "2022-02-24T06:27:22.161Z"
   },
   {
    "duration": 13,
    "start_time": "2022-02-24T06:27:22.175Z"
   },
   {
    "duration": 9,
    "start_time": "2022-02-24T06:27:22.208Z"
   },
   {
    "duration": 18,
    "start_time": "2022-02-24T06:27:22.219Z"
   },
   {
    "duration": 15,
    "start_time": "2022-02-24T06:27:22.239Z"
   },
   {
    "duration": 12,
    "start_time": "2022-02-24T06:27:22.256Z"
   },
   {
    "duration": 16,
    "start_time": "2022-02-24T06:27:22.271Z"
   },
   {
    "duration": 10,
    "start_time": "2022-02-24T06:27:22.289Z"
   },
   {
    "duration": 20,
    "start_time": "2022-02-24T06:27:22.308Z"
   },
   {
    "duration": 28,
    "start_time": "2022-02-24T06:27:22.330Z"
   },
   {
    "duration": 9,
    "start_time": "2022-02-24T06:27:22.360Z"
   },
   {
    "duration": 15,
    "start_time": "2022-02-24T06:27:22.371Z"
   },
   {
    "duration": 22,
    "start_time": "2022-02-24T06:27:22.388Z"
   },
   {
    "duration": 26,
    "start_time": "2022-02-24T06:27:22.413Z"
   },
   {
    "duration": 18,
    "start_time": "2022-02-24T06:27:22.442Z"
   },
   {
    "duration": 47,
    "start_time": "2022-02-24T06:27:22.462Z"
   },
   {
    "duration": 3,
    "start_time": "2022-02-24T06:29:40.665Z"
   },
   {
    "duration": 3,
    "start_time": "2022-02-24T06:29:42.268Z"
   },
   {
    "duration": 4,
    "start_time": "2022-02-24T06:29:54.890Z"
   },
   {
    "duration": 3,
    "start_time": "2022-02-24T06:30:32.497Z"
   },
   {
    "duration": 698,
    "start_time": "2022-02-24T06:31:25.131Z"
   },
   {
    "duration": 13,
    "start_time": "2022-02-24T06:31:25.831Z"
   },
   {
    "duration": 18,
    "start_time": "2022-02-24T06:31:25.846Z"
   },
   {
    "duration": 22,
    "start_time": "2022-02-24T06:31:25.867Z"
   },
   {
    "duration": 34,
    "start_time": "2022-02-24T06:31:25.891Z"
   },
   {
    "duration": 18,
    "start_time": "2022-02-24T06:31:25.927Z"
   },
   {
    "duration": 12,
    "start_time": "2022-02-24T06:31:25.948Z"
   },
   {
    "duration": 24,
    "start_time": "2022-02-24T06:31:25.964Z"
   },
   {
    "duration": 20,
    "start_time": "2022-02-24T06:31:25.990Z"
   },
   {
    "duration": 28,
    "start_time": "2022-02-24T06:31:26.012Z"
   },
   {
    "duration": 28,
    "start_time": "2022-02-24T06:31:26.042Z"
   },
   {
    "duration": 23,
    "start_time": "2022-02-24T06:31:26.072Z"
   },
   {
    "duration": 34,
    "start_time": "2022-02-24T06:31:26.097Z"
   },
   {
    "duration": 26,
    "start_time": "2022-02-24T06:31:26.133Z"
   },
   {
    "duration": 34,
    "start_time": "2022-02-24T06:31:26.161Z"
   },
   {
    "duration": 34,
    "start_time": "2022-02-24T06:31:26.197Z"
   },
   {
    "duration": 28,
    "start_time": "2022-02-24T06:31:26.233Z"
   },
   {
    "duration": 13,
    "start_time": "2022-02-24T06:31:26.263Z"
   },
   {
    "duration": 13,
    "start_time": "2022-02-24T06:31:26.278Z"
   },
   {
    "duration": 38,
    "start_time": "2022-02-24T06:31:26.292Z"
   },
   {
    "duration": 17,
    "start_time": "2022-02-24T06:31:26.333Z"
   },
   {
    "duration": 15,
    "start_time": "2022-02-24T06:31:26.352Z"
   },
   {
    "duration": 37,
    "start_time": "2022-02-24T06:31:26.371Z"
   },
   {
    "duration": 17,
    "start_time": "2022-02-24T06:31:26.411Z"
   },
   {
    "duration": 9,
    "start_time": "2022-02-24T06:31:26.430Z"
   },
   {
    "duration": 16,
    "start_time": "2022-02-24T06:31:26.440Z"
   },
   {
    "duration": 12,
    "start_time": "2022-02-24T06:31:26.458Z"
   },
   {
    "duration": 39,
    "start_time": "2022-02-24T06:31:26.472Z"
   },
   {
    "duration": 19,
    "start_time": "2022-02-24T06:31:26.513Z"
   },
   {
    "duration": 12,
    "start_time": "2022-02-24T06:31:26.534Z"
   },
   {
    "duration": 12,
    "start_time": "2022-02-24T06:31:26.548Z"
   },
   {
    "duration": 12,
    "start_time": "2022-02-24T06:31:26.562Z"
   },
   {
    "duration": 33,
    "start_time": "2022-02-24T06:31:26.576Z"
   },
   {
    "duration": 12,
    "start_time": "2022-02-24T06:31:26.611Z"
   },
   {
    "duration": 12,
    "start_time": "2022-02-24T06:31:26.625Z"
   },
   {
    "duration": 11,
    "start_time": "2022-02-24T06:31:26.639Z"
   },
   {
    "duration": 13,
    "start_time": "2022-02-24T06:31:26.652Z"
   },
   {
    "duration": 10,
    "start_time": "2022-02-24T06:31:26.667Z"
   },
   {
    "duration": 36,
    "start_time": "2022-02-24T06:31:26.679Z"
   },
   {
    "duration": 15,
    "start_time": "2022-02-24T06:31:26.717Z"
   },
   {
    "duration": 8,
    "start_time": "2022-02-24T06:31:26.735Z"
   },
   {
    "duration": 9,
    "start_time": "2022-02-24T06:31:26.745Z"
   },
   {
    "duration": 14,
    "start_time": "2022-02-24T06:31:26.756Z"
   },
   {
    "duration": 45,
    "start_time": "2022-02-24T06:31:26.772Z"
   },
   {
    "duration": 18,
    "start_time": "2022-02-24T06:31:26.819Z"
   },
   {
    "duration": 22,
    "start_time": "2022-02-24T06:31:26.839Z"
   },
   {
    "duration": 18,
    "start_time": "2022-02-24T06:32:18.742Z"
   },
   {
    "duration": 14,
    "start_time": "2022-02-24T06:32:25.007Z"
   },
   {
    "duration": 6482,
    "start_time": "2022-02-24T06:32:29.904Z"
   },
   {
    "duration": 68,
    "start_time": "2022-02-24T06:48:39.622Z"
   },
   {
    "duration": 28,
    "start_time": "2022-02-24T06:48:39.693Z"
   },
   {
    "duration": 30,
    "start_time": "2022-02-24T06:48:39.724Z"
   },
   {
    "duration": 37,
    "start_time": "2022-02-24T06:48:39.756Z"
   },
   {
    "duration": 33,
    "start_time": "2022-02-24T06:48:39.795Z"
   },
   {
    "duration": 34,
    "start_time": "2022-02-24T06:48:39.830Z"
   },
   {
    "duration": 36,
    "start_time": "2022-02-24T06:48:39.866Z"
   },
   {
    "duration": 39,
    "start_time": "2022-02-24T06:48:39.905Z"
   },
   {
    "duration": 55,
    "start_time": "2022-02-24T06:48:39.948Z"
   },
   {
    "duration": 63,
    "start_time": "2022-02-24T06:48:40.005Z"
   },
   {
    "duration": 18,
    "start_time": "2022-02-24T06:48:40.071Z"
   },
   {
    "duration": 32,
    "start_time": "2022-02-24T06:48:40.092Z"
   },
   {
    "duration": 39,
    "start_time": "2022-02-24T06:48:40.126Z"
   },
   {
    "duration": 34,
    "start_time": "2022-02-24T06:48:40.167Z"
   },
   {
    "duration": 51,
    "start_time": "2022-02-24T06:48:40.203Z"
   },
   {
    "duration": 37,
    "start_time": "2022-02-24T06:48:40.256Z"
   },
   {
    "duration": 29,
    "start_time": "2022-02-24T06:48:40.295Z"
   },
   {
    "duration": 27,
    "start_time": "2022-02-24T06:48:40.326Z"
   },
   {
    "duration": 45,
    "start_time": "2022-02-24T06:48:40.355Z"
   },
   {
    "duration": 41,
    "start_time": "2022-02-24T06:48:40.402Z"
   },
   {
    "duration": 33,
    "start_time": "2022-02-24T06:48:40.445Z"
   },
   {
    "duration": 42,
    "start_time": "2022-02-24T06:48:40.480Z"
   },
   {
    "duration": 44,
    "start_time": "2022-02-24T06:48:40.526Z"
   },
   {
    "duration": 41,
    "start_time": "2022-02-24T06:48:40.572Z"
   },
   {
    "duration": 29,
    "start_time": "2022-02-24T06:48:40.615Z"
   },
   {
    "duration": 51,
    "start_time": "2022-02-24T06:48:40.646Z"
   },
   {
    "duration": 24,
    "start_time": "2022-02-24T06:48:40.699Z"
   },
   {
    "duration": 29,
    "start_time": "2022-02-24T06:48:40.726Z"
   },
   {
    "duration": 38,
    "start_time": "2022-02-24T06:48:40.758Z"
   },
   {
    "duration": 53,
    "start_time": "2022-02-24T06:48:40.798Z"
   },
   {
    "duration": 51,
    "start_time": "2022-02-24T06:48:40.853Z"
   },
   {
    "duration": 45,
    "start_time": "2022-02-24T06:48:40.906Z"
   },
   {
    "duration": 51,
    "start_time": "2022-02-24T06:48:40.953Z"
   },
   {
    "duration": 45,
    "start_time": "2022-02-24T06:48:41.006Z"
   },
   {
    "duration": 50,
    "start_time": "2022-02-24T06:48:41.053Z"
   },
   {
    "duration": 43,
    "start_time": "2022-02-24T06:48:41.105Z"
   },
   {
    "duration": 31,
    "start_time": "2022-02-24T06:48:41.150Z"
   },
   {
    "duration": 34,
    "start_time": "2022-02-24T06:48:41.183Z"
   },
   {
    "duration": 76,
    "start_time": "2022-02-24T06:48:41.219Z"
   },
   {
    "duration": 63,
    "start_time": "2022-02-24T06:48:41.297Z"
   },
   {
    "duration": 32,
    "start_time": "2022-02-24T06:48:41.362Z"
   },
   {
    "duration": 31,
    "start_time": "2022-02-24T06:48:41.396Z"
   },
   {
    "duration": 46,
    "start_time": "2022-02-24T06:48:41.429Z"
   },
   {
    "duration": 79,
    "start_time": "2022-02-24T06:48:41.477Z"
   },
   {
    "duration": 45,
    "start_time": "2022-02-24T06:48:41.558Z"
   },
   {
    "duration": 45,
    "start_time": "2022-02-24T06:48:41.605Z"
   },
   {
    "duration": 3,
    "start_time": "2022-02-24T06:49:20.715Z"
   },
   {
    "duration": 202,
    "start_time": "2022-02-24T06:50:07.267Z"
   },
   {
    "duration": 310,
    "start_time": "2022-02-24T06:50:48.567Z"
   },
   {
    "duration": 4802,
    "start_time": "2022-02-24T06:50:55.689Z"
   },
   {
    "duration": 697,
    "start_time": "2022-02-24T07:11:10.671Z"
   },
   {
    "duration": 13,
    "start_time": "2022-02-24T07:11:11.370Z"
   },
   {
    "duration": 23,
    "start_time": "2022-02-24T07:11:11.385Z"
   },
   {
    "duration": 9,
    "start_time": "2022-02-24T07:11:11.410Z"
   },
   {
    "duration": 31,
    "start_time": "2022-02-24T07:11:11.421Z"
   },
   {
    "duration": 9,
    "start_time": "2022-02-24T07:11:11.454Z"
   },
   {
    "duration": 6,
    "start_time": "2022-02-24T07:11:11.465Z"
   },
   {
    "duration": 34,
    "start_time": "2022-02-24T07:11:11.474Z"
   },
   {
    "duration": 10,
    "start_time": "2022-02-24T07:11:11.511Z"
   },
   {
    "duration": 29,
    "start_time": "2022-02-24T07:11:11.523Z"
   },
   {
    "duration": 10,
    "start_time": "2022-02-24T07:11:11.553Z"
   },
   {
    "duration": 6,
    "start_time": "2022-02-24T07:11:11.565Z"
   },
   {
    "duration": 26,
    "start_time": "2022-02-24T07:11:11.573Z"
   },
   {
    "duration": 12,
    "start_time": "2022-02-24T07:11:11.601Z"
   },
   {
    "duration": 18,
    "start_time": "2022-02-24T07:11:11.615Z"
   },
   {
    "duration": 14,
    "start_time": "2022-02-24T07:11:11.635Z"
   },
   {
    "duration": 21,
    "start_time": "2022-02-24T07:11:11.651Z"
   },
   {
    "duration": 6,
    "start_time": "2022-02-24T07:11:11.674Z"
   },
   {
    "duration": 15,
    "start_time": "2022-02-24T07:11:11.682Z"
   },
   {
    "duration": 26,
    "start_time": "2022-02-24T07:11:11.699Z"
   },
   {
    "duration": 17,
    "start_time": "2022-02-24T07:11:11.728Z"
   },
   {
    "duration": 16,
    "start_time": "2022-02-24T07:11:11.747Z"
   },
   {
    "duration": 49,
    "start_time": "2022-02-24T07:11:11.767Z"
   },
   {
    "duration": 17,
    "start_time": "2022-02-24T07:11:11.818Z"
   },
   {
    "duration": 8,
    "start_time": "2022-02-24T07:11:11.838Z"
   },
   {
    "duration": 16,
    "start_time": "2022-02-24T07:11:11.848Z"
   },
   {
    "duration": 15,
    "start_time": "2022-02-24T07:11:11.866Z"
   },
   {
    "duration": 31,
    "start_time": "2022-02-24T07:11:11.883Z"
   },
   {
    "duration": 64,
    "start_time": "2022-02-24T07:11:11.916Z"
   },
   {
    "duration": 23,
    "start_time": "2022-02-24T07:11:11.981Z"
   },
   {
    "duration": 10,
    "start_time": "2022-02-24T07:11:12.006Z"
   },
   {
    "duration": 14,
    "start_time": "2022-02-24T07:11:12.018Z"
   },
   {
    "duration": 12,
    "start_time": "2022-02-24T07:11:12.034Z"
   },
   {
    "duration": 11,
    "start_time": "2022-02-24T07:11:12.047Z"
   },
   {
    "duration": 17,
    "start_time": "2022-02-24T07:11:12.060Z"
   },
   {
    "duration": 28,
    "start_time": "2022-02-24T07:11:12.079Z"
   },
   {
    "duration": 4,
    "start_time": "2022-02-24T07:11:12.110Z"
   },
   {
    "duration": 19,
    "start_time": "2022-02-24T07:11:12.116Z"
   },
   {
    "duration": 23,
    "start_time": "2022-02-24T07:11:12.137Z"
   },
   {
    "duration": 15,
    "start_time": "2022-02-24T07:11:12.162Z"
   },
   {
    "duration": 9,
    "start_time": "2022-02-24T07:11:12.179Z"
   },
   {
    "duration": 21,
    "start_time": "2022-02-24T07:11:12.189Z"
   },
   {
    "duration": 12,
    "start_time": "2022-02-24T07:11:12.212Z"
   },
   {
    "duration": 26,
    "start_time": "2022-02-24T07:11:12.226Z"
   },
   {
    "duration": 16,
    "start_time": "2022-02-24T07:11:12.255Z"
   },
   {
    "duration": 42,
    "start_time": "2022-02-24T07:11:12.273Z"
   },
   {
    "duration": 3,
    "start_time": "2022-02-24T07:12:28.464Z"
   },
   {
    "duration": 4,
    "start_time": "2022-02-24T07:12:38.872Z"
   },
   {
    "duration": 4,
    "start_time": "2022-02-24T07:13:03.907Z"
   },
   {
    "duration": 4,
    "start_time": "2022-02-24T07:13:24.048Z"
   },
   {
    "duration": 4,
    "start_time": "2022-02-24T07:13:45.761Z"
   },
   {
    "duration": 4,
    "start_time": "2022-02-24T07:14:34.741Z"
   },
   {
    "duration": 3,
    "start_time": "2022-02-24T07:14:35.784Z"
   },
   {
    "duration": 4,
    "start_time": "2022-02-24T07:15:18.860Z"
   },
   {
    "duration": 3,
    "start_time": "2022-02-24T07:16:07.900Z"
   },
   {
    "duration": 4,
    "start_time": "2022-02-24T07:16:45.378Z"
   },
   {
    "duration": 3,
    "start_time": "2022-02-24T07:16:57.068Z"
   },
   {
    "duration": 4,
    "start_time": "2022-02-24T07:16:58.738Z"
   },
   {
    "duration": 701,
    "start_time": "2022-02-24T07:17:16.895Z"
   },
   {
    "duration": 14,
    "start_time": "2022-02-24T07:17:17.599Z"
   },
   {
    "duration": 11,
    "start_time": "2022-02-24T07:17:17.619Z"
   },
   {
    "duration": 9,
    "start_time": "2022-02-24T07:17:17.633Z"
   },
   {
    "duration": 16,
    "start_time": "2022-02-24T07:17:17.644Z"
   },
   {
    "duration": 47,
    "start_time": "2022-02-24T07:17:17.662Z"
   },
   {
    "duration": 6,
    "start_time": "2022-02-24T07:17:17.711Z"
   },
   {
    "duration": 15,
    "start_time": "2022-02-24T07:17:17.721Z"
   },
   {
    "duration": 5,
    "start_time": "2022-02-24T07:17:17.739Z"
   },
   {
    "duration": 16,
    "start_time": "2022-02-24T07:17:17.745Z"
   },
   {
    "duration": 46,
    "start_time": "2022-02-24T07:17:17.763Z"
   },
   {
    "duration": 5,
    "start_time": "2022-02-24T07:17:17.810Z"
   },
   {
    "duration": 16,
    "start_time": "2022-02-24T07:17:17.817Z"
   },
   {
    "duration": 9,
    "start_time": "2022-02-24T07:17:17.835Z"
   },
   {
    "duration": 22,
    "start_time": "2022-02-24T07:17:17.846Z"
   },
   {
    "duration": 16,
    "start_time": "2022-02-24T07:17:17.870Z"
   },
   {
    "duration": 30,
    "start_time": "2022-02-24T07:17:17.888Z"
   },
   {
    "duration": 4,
    "start_time": "2022-02-24T07:17:17.920Z"
   },
   {
    "duration": 12,
    "start_time": "2022-02-24T07:17:17.926Z"
   },
   {
    "duration": 28,
    "start_time": "2022-02-24T07:17:17.940Z"
   },
   {
    "duration": 39,
    "start_time": "2022-02-24T07:17:17.970Z"
   },
   {
    "duration": 15,
    "start_time": "2022-02-24T07:17:18.011Z"
   },
   {
    "duration": 24,
    "start_time": "2022-02-24T07:17:18.028Z"
   },
   {
    "duration": 17,
    "start_time": "2022-02-24T07:17:18.054Z"
   },
   {
    "duration": 8,
    "start_time": "2022-02-24T07:17:18.073Z"
   },
   {
    "duration": 15,
    "start_time": "2022-02-24T07:17:18.110Z"
   },
   {
    "duration": 14,
    "start_time": "2022-02-24T07:17:18.127Z"
   },
   {
    "duration": 9,
    "start_time": "2022-02-24T07:17:18.143Z"
   },
   {
    "duration": 21,
    "start_time": "2022-02-24T07:17:18.154Z"
   },
   {
    "duration": 32,
    "start_time": "2022-02-24T07:17:18.177Z"
   },
   {
    "duration": 9,
    "start_time": "2022-02-24T07:17:18.211Z"
   },
   {
    "duration": 11,
    "start_time": "2022-02-24T07:17:18.222Z"
   },
   {
    "duration": 16,
    "start_time": "2022-02-24T07:17:18.235Z"
   },
   {
    "duration": 14,
    "start_time": "2022-02-24T07:17:18.253Z"
   },
   {
    "duration": 19,
    "start_time": "2022-02-24T07:17:18.268Z"
   },
   {
    "duration": 21,
    "start_time": "2022-02-24T07:17:18.288Z"
   },
   {
    "duration": 6,
    "start_time": "2022-02-24T07:17:18.310Z"
   },
   {
    "duration": 9,
    "start_time": "2022-02-24T07:17:18.318Z"
   },
   {
    "duration": 28,
    "start_time": "2022-02-24T07:17:18.328Z"
   },
   {
    "duration": 15,
    "start_time": "2022-02-24T07:17:18.357Z"
   },
   {
    "duration": 8,
    "start_time": "2022-02-24T07:17:18.373Z"
   },
   {
    "duration": 27,
    "start_time": "2022-02-24T07:17:18.383Z"
   },
   {
    "duration": 12,
    "start_time": "2022-02-24T07:17:18.412Z"
   },
   {
    "duration": 23,
    "start_time": "2022-02-24T07:17:18.426Z"
   },
   {
    "duration": 19,
    "start_time": "2022-02-24T07:17:18.451Z"
   },
   {
    "duration": 43,
    "start_time": "2022-02-24T07:17:18.472Z"
   },
   {
    "duration": 271,
    "start_time": "2022-02-24T07:18:24.259Z"
   },
   {
    "duration": 12,
    "start_time": "2022-02-24T07:31:47.264Z"
   },
   {
    "duration": 11,
    "start_time": "2022-02-24T07:33:34.868Z"
   },
   {
    "duration": 648,
    "start_time": "2022-02-24T07:43:53.861Z"
   },
   {
    "duration": 13,
    "start_time": "2022-02-24T07:43:54.511Z"
   },
   {
    "duration": 16,
    "start_time": "2022-02-24T07:43:54.529Z"
   },
   {
    "duration": 8,
    "start_time": "2022-02-24T07:43:54.548Z"
   },
   {
    "duration": 20,
    "start_time": "2022-02-24T07:43:54.557Z"
   },
   {
    "duration": 30,
    "start_time": "2022-02-24T07:43:54.579Z"
   },
   {
    "duration": 9,
    "start_time": "2022-02-24T07:43:54.611Z"
   },
   {
    "duration": 20,
    "start_time": "2022-02-24T07:43:54.623Z"
   },
   {
    "duration": 8,
    "start_time": "2022-02-24T07:43:54.645Z"
   },
   {
    "duration": 19,
    "start_time": "2022-02-24T07:43:54.655Z"
   },
   {
    "duration": 33,
    "start_time": "2022-02-24T07:43:54.676Z"
   },
   {
    "duration": 5,
    "start_time": "2022-02-24T07:43:54.710Z"
   },
   {
    "duration": 18,
    "start_time": "2022-02-24T07:43:54.717Z"
   },
   {
    "duration": 6,
    "start_time": "2022-02-24T07:43:54.737Z"
   },
   {
    "duration": 20,
    "start_time": "2022-02-24T07:43:54.745Z"
   },
   {
    "duration": 9,
    "start_time": "2022-02-24T07:43:54.767Z"
   },
   {
    "duration": 40,
    "start_time": "2022-02-24T07:43:54.778Z"
   },
   {
    "duration": 8,
    "start_time": "2022-02-24T07:43:54.820Z"
   },
   {
    "duration": 14,
    "start_time": "2022-02-24T07:43:54.830Z"
   },
   {
    "duration": 15,
    "start_time": "2022-02-24T07:43:54.846Z"
   },
   {
    "duration": 21,
    "start_time": "2022-02-24T07:43:54.863Z"
   },
   {
    "duration": 19,
    "start_time": "2022-02-24T07:43:54.906Z"
   },
   {
    "duration": 17,
    "start_time": "2022-02-24T07:43:54.927Z"
   },
   {
    "duration": 33,
    "start_time": "2022-02-24T07:43:54.946Z"
   },
   {
    "duration": 39,
    "start_time": "2022-02-24T07:43:54.981Z"
   },
   {
    "duration": 9,
    "start_time": "2022-02-24T07:43:55.025Z"
   },
   {
    "duration": 16,
    "start_time": "2022-02-24T07:43:55.037Z"
   },
   {
    "duration": 12,
    "start_time": "2022-02-24T07:43:55.055Z"
   },
   {
    "duration": 42,
    "start_time": "2022-02-24T07:43:55.069Z"
   },
   {
    "duration": 18,
    "start_time": "2022-02-24T07:43:55.113Z"
   },
   {
    "duration": 14,
    "start_time": "2022-02-24T07:43:55.134Z"
   },
   {
    "duration": 12,
    "start_time": "2022-02-24T07:43:55.150Z"
   },
   {
    "duration": 16,
    "start_time": "2022-02-24T07:43:55.164Z"
   },
   {
    "duration": 31,
    "start_time": "2022-02-24T07:43:55.182Z"
   },
   {
    "duration": 10,
    "start_time": "2022-02-24T07:43:55.215Z"
   },
   {
    "duration": 12,
    "start_time": "2022-02-24T07:43:55.227Z"
   },
   {
    "duration": 10,
    "start_time": "2022-02-24T07:43:55.240Z"
   },
   {
    "duration": 7,
    "start_time": "2022-02-24T07:43:55.252Z"
   },
   {
    "duration": 11,
    "start_time": "2022-02-24T07:43:55.261Z"
   },
   {
    "duration": 47,
    "start_time": "2022-02-24T07:43:55.274Z"
   },
   {
    "duration": 16,
    "start_time": "2022-02-24T07:43:55.323Z"
   },
   {
    "duration": 9,
    "start_time": "2022-02-24T07:43:55.341Z"
   },
   {
    "duration": 8,
    "start_time": "2022-02-24T07:43:55.352Z"
   },
   {
    "duration": 10,
    "start_time": "2022-02-24T07:43:55.362Z"
   },
   {
    "duration": 48,
    "start_time": "2022-02-24T07:43:55.374Z"
   },
   {
    "duration": 19,
    "start_time": "2022-02-24T07:43:55.424Z"
   },
   {
    "duration": 22,
    "start_time": "2022-02-24T07:43:55.446Z"
   },
   {
    "duration": 11,
    "start_time": "2022-02-24T07:45:33.875Z"
   },
   {
    "duration": 299,
    "start_time": "2022-02-24T07:45:54.540Z"
   },
   {
    "duration": 68,
    "start_time": "2022-02-24T07:48:28.647Z"
   },
   {
    "duration": 14,
    "start_time": "2022-02-24T07:48:28.718Z"
   },
   {
    "duration": 14,
    "start_time": "2022-02-24T07:48:28.735Z"
   },
   {
    "duration": 10,
    "start_time": "2022-02-24T07:48:28.751Z"
   },
   {
    "duration": 57,
    "start_time": "2022-02-24T07:48:28.763Z"
   },
   {
    "duration": 11,
    "start_time": "2022-02-24T07:48:28.822Z"
   },
   {
    "duration": 19,
    "start_time": "2022-02-24T07:48:28.835Z"
   },
   {
    "duration": 16,
    "start_time": "2022-02-24T07:48:28.857Z"
   },
   {
    "duration": 8,
    "start_time": "2022-02-24T07:48:28.875Z"
   },
   {
    "duration": 36,
    "start_time": "2022-02-24T07:48:28.886Z"
   },
   {
    "duration": 10,
    "start_time": "2022-02-24T07:48:28.924Z"
   },
   {
    "duration": 9,
    "start_time": "2022-02-24T07:48:28.936Z"
   },
   {
    "duration": 18,
    "start_time": "2022-02-24T07:48:28.946Z"
   },
   {
    "duration": 15,
    "start_time": "2022-02-24T07:48:28.966Z"
   },
   {
    "duration": 33,
    "start_time": "2022-02-24T07:48:28.983Z"
   },
   {
    "duration": 9,
    "start_time": "2022-02-24T07:48:29.018Z"
   },
   {
    "duration": 30,
    "start_time": "2022-02-24T07:48:29.029Z"
   },
   {
    "duration": 5,
    "start_time": "2022-02-24T07:48:29.061Z"
   },
   {
    "duration": 13,
    "start_time": "2022-02-24T07:48:29.068Z"
   },
   {
    "duration": 28,
    "start_time": "2022-02-24T07:48:29.083Z"
   },
   {
    "duration": 21,
    "start_time": "2022-02-24T07:48:29.113Z"
   },
   {
    "duration": 17,
    "start_time": "2022-02-24T07:48:29.136Z"
   },
   {
    "duration": 15,
    "start_time": "2022-02-24T07:48:29.157Z"
   },
   {
    "duration": 52,
    "start_time": "2022-02-24T07:48:29.174Z"
   },
   {
    "duration": 19,
    "start_time": "2022-02-24T07:48:29.228Z"
   },
   {
    "duration": 9,
    "start_time": "2022-02-24T07:48:29.249Z"
   },
   {
    "duration": 17,
    "start_time": "2022-02-24T07:48:29.260Z"
   },
   {
    "duration": 37,
    "start_time": "2022-02-24T07:48:29.279Z"
   },
   {
    "duration": 18,
    "start_time": "2022-02-24T07:48:29.318Z"
   },
   {
    "duration": 18,
    "start_time": "2022-02-24T07:48:29.338Z"
   },
   {
    "duration": 12,
    "start_time": "2022-02-24T07:48:29.358Z"
   },
   {
    "duration": 12,
    "start_time": "2022-02-24T07:48:29.372Z"
   },
   {
    "duration": 30,
    "start_time": "2022-02-24T07:48:29.386Z"
   },
   {
    "duration": 12,
    "start_time": "2022-02-24T07:48:29.418Z"
   },
   {
    "duration": 14,
    "start_time": "2022-02-24T07:48:29.432Z"
   },
   {
    "duration": 14,
    "start_time": "2022-02-24T07:48:29.448Z"
   },
   {
    "duration": 15,
    "start_time": "2022-02-24T07:48:29.464Z"
   },
   {
    "duration": 28,
    "start_time": "2022-02-24T07:48:29.482Z"
   },
   {
    "duration": 8,
    "start_time": "2022-02-24T07:48:29.512Z"
   },
   {
    "duration": 10,
    "start_time": "2022-02-24T07:48:29.522Z"
   },
   {
    "duration": 28,
    "start_time": "2022-02-24T07:48:29.534Z"
   },
   {
    "duration": 20,
    "start_time": "2022-02-24T07:48:29.563Z"
   },
   {
    "duration": 8,
    "start_time": "2022-02-24T07:48:29.585Z"
   },
   {
    "duration": 3,
    "start_time": "2022-02-24T07:48:29.608Z"
   },
   {
    "duration": 9,
    "start_time": "2022-02-24T07:48:29.613Z"
   },
   {
    "duration": 23,
    "start_time": "2022-02-24T07:48:29.624Z"
   },
   {
    "duration": 16,
    "start_time": "2022-02-24T07:48:29.649Z"
   },
   {
    "duration": 46,
    "start_time": "2022-02-24T07:48:29.667Z"
   },
   {
    "duration": 203,
    "start_time": "2022-02-24T07:48:45.085Z"
   },
   {
    "duration": 770,
    "start_time": "2022-02-24T07:52:20.909Z"
   },
   {
    "duration": 13,
    "start_time": "2022-02-24T07:52:21.680Z"
   },
   {
    "duration": 26,
    "start_time": "2022-02-24T07:52:21.695Z"
   },
   {
    "duration": 18,
    "start_time": "2022-02-24T07:52:21.723Z"
   },
   {
    "duration": 26,
    "start_time": "2022-02-24T07:52:21.743Z"
   },
   {
    "duration": 36,
    "start_time": "2022-02-24T07:52:21.771Z"
   },
   {
    "duration": 16,
    "start_time": "2022-02-24T07:52:21.809Z"
   },
   {
    "duration": 35,
    "start_time": "2022-02-24T07:52:21.828Z"
   },
   {
    "duration": 27,
    "start_time": "2022-02-24T07:52:21.865Z"
   },
   {
    "duration": 25,
    "start_time": "2022-02-24T07:52:21.894Z"
   },
   {
    "duration": 28,
    "start_time": "2022-02-24T07:52:21.922Z"
   },
   {
    "duration": 19,
    "start_time": "2022-02-24T07:52:21.952Z"
   },
   {
    "duration": 43,
    "start_time": "2022-02-24T07:52:21.973Z"
   },
   {
    "duration": 14,
    "start_time": "2022-02-24T07:52:22.019Z"
   },
   {
    "duration": 29,
    "start_time": "2022-02-24T07:52:22.036Z"
   },
   {
    "duration": 26,
    "start_time": "2022-02-24T07:52:22.067Z"
   },
   {
    "duration": 33,
    "start_time": "2022-02-24T07:52:22.095Z"
   },
   {
    "duration": 39,
    "start_time": "2022-02-24T07:52:22.130Z"
   },
   {
    "duration": 34,
    "start_time": "2022-02-24T07:52:22.171Z"
   },
   {
    "duration": 57,
    "start_time": "2022-02-24T07:52:22.207Z"
   },
   {
    "duration": 53,
    "start_time": "2022-02-24T07:52:22.266Z"
   },
   {
    "duration": 27,
    "start_time": "2022-02-24T07:52:22.321Z"
   },
   {
    "duration": 36,
    "start_time": "2022-02-24T07:52:22.354Z"
   },
   {
    "duration": 37,
    "start_time": "2022-02-24T07:52:22.394Z"
   },
   {
    "duration": 19,
    "start_time": "2022-02-24T07:52:22.433Z"
   },
   {
    "duration": 8,
    "start_time": "2022-02-24T07:52:22.454Z"
   },
   {
    "duration": 28,
    "start_time": "2022-02-24T07:52:22.464Z"
   },
   {
    "duration": 42,
    "start_time": "2022-02-24T07:52:22.495Z"
   },
   {
    "duration": 54,
    "start_time": "2022-02-24T07:52:22.539Z"
   },
   {
    "duration": 31,
    "start_time": "2022-02-24T07:52:22.596Z"
   },
   {
    "duration": 46,
    "start_time": "2022-02-24T07:52:22.629Z"
   },
   {
    "duration": 41,
    "start_time": "2022-02-24T07:52:22.677Z"
   },
   {
    "duration": 19,
    "start_time": "2022-02-24T07:52:22.720Z"
   },
   {
    "duration": 27,
    "start_time": "2022-02-24T07:52:22.741Z"
   },
   {
    "duration": 49,
    "start_time": "2022-02-24T07:52:22.770Z"
   },
   {
    "duration": 32,
    "start_time": "2022-02-24T07:52:22.822Z"
   },
   {
    "duration": 46,
    "start_time": "2022-02-24T07:52:22.856Z"
   },
   {
    "duration": 39,
    "start_time": "2022-02-24T07:52:22.903Z"
   },
   {
    "duration": 28,
    "start_time": "2022-02-24T07:52:22.944Z"
   },
   {
    "duration": 38,
    "start_time": "2022-02-24T07:52:22.974Z"
   },
   {
    "duration": 40,
    "start_time": "2022-02-24T07:52:23.014Z"
   },
   {
    "duration": 39,
    "start_time": "2022-02-24T07:52:23.056Z"
   },
   {
    "duration": 31,
    "start_time": "2022-02-24T07:52:23.097Z"
   },
   {
    "duration": 30,
    "start_time": "2022-02-24T07:52:23.130Z"
   },
   {
    "duration": 36,
    "start_time": "2022-02-24T07:52:23.162Z"
   },
   {
    "duration": 53,
    "start_time": "2022-02-24T07:52:23.201Z"
   },
   {
    "duration": 40,
    "start_time": "2022-02-24T07:52:23.256Z"
   },
   {
    "duration": 21,
    "start_time": "2022-02-24T07:52:23.298Z"
   },
   {
    "duration": 296,
    "start_time": "2022-02-24T07:52:58.089Z"
   },
   {
    "duration": 241,
    "start_time": "2022-02-24T07:58:57.182Z"
   },
   {
    "duration": 1512,
    "start_time": "2022-02-24T07:59:11.980Z"
   },
   {
    "duration": 14,
    "start_time": "2022-02-24T08:03:32.235Z"
   },
   {
    "duration": 212,
    "start_time": "2022-02-24T08:03:56.553Z"
   },
   {
    "duration": 278,
    "start_time": "2022-02-24T08:04:15.300Z"
   },
   {
    "duration": 15,
    "start_time": "2022-02-24T08:04:29.204Z"
   },
   {
    "duration": 15,
    "start_time": "2022-02-24T08:05:17.272Z"
   },
   {
    "duration": 16,
    "start_time": "2022-02-24T08:05:21.462Z"
   },
   {
    "duration": 19,
    "start_time": "2022-02-24T08:05:42.397Z"
   },
   {
    "duration": 66,
    "start_time": "2022-02-24T08:27:40.274Z"
   },
   {
    "duration": 11,
    "start_time": "2022-02-24T08:27:40.343Z"
   },
   {
    "duration": 22,
    "start_time": "2022-02-24T08:27:40.357Z"
   },
   {
    "duration": 33,
    "start_time": "2022-02-24T08:27:40.381Z"
   },
   {
    "duration": 19,
    "start_time": "2022-02-24T08:27:40.416Z"
   },
   {
    "duration": 10,
    "start_time": "2022-02-24T08:27:40.436Z"
   },
   {
    "duration": 9,
    "start_time": "2022-02-24T08:27:40.448Z"
   },
   {
    "duration": 23,
    "start_time": "2022-02-24T08:27:40.460Z"
   },
   {
    "duration": 25,
    "start_time": "2022-02-24T08:27:40.485Z"
   },
   {
    "duration": 21,
    "start_time": "2022-02-24T08:27:40.512Z"
   },
   {
    "duration": 25,
    "start_time": "2022-02-24T08:27:40.535Z"
   },
   {
    "duration": 17,
    "start_time": "2022-02-24T08:27:40.562Z"
   },
   {
    "duration": 29,
    "start_time": "2022-02-24T08:27:40.581Z"
   },
   {
    "duration": 12,
    "start_time": "2022-02-24T08:27:40.612Z"
   },
   {
    "duration": 35,
    "start_time": "2022-02-24T08:27:40.625Z"
   },
   {
    "duration": 36,
    "start_time": "2022-02-24T08:27:40.662Z"
   },
   {
    "duration": 29,
    "start_time": "2022-02-24T08:27:40.700Z"
   },
   {
    "duration": 18,
    "start_time": "2022-02-24T08:27:40.731Z"
   },
   {
    "duration": 28,
    "start_time": "2022-02-24T08:27:40.751Z"
   },
   {
    "duration": 32,
    "start_time": "2022-02-24T08:27:40.780Z"
   },
   {
    "duration": 36,
    "start_time": "2022-02-24T08:27:40.814Z"
   },
   {
    "duration": 35,
    "start_time": "2022-02-24T08:27:40.852Z"
   },
   {
    "duration": 16,
    "start_time": "2022-02-24T08:27:40.891Z"
   },
   {
    "duration": 46,
    "start_time": "2022-02-24T08:27:40.910Z"
   },
   {
    "duration": 18,
    "start_time": "2022-02-24T08:27:40.958Z"
   },
   {
    "duration": 17,
    "start_time": "2022-02-24T08:27:40.978Z"
   },
   {
    "duration": 21,
    "start_time": "2022-02-24T08:27:40.997Z"
   },
   {
    "duration": 32,
    "start_time": "2022-02-24T08:27:41.020Z"
   },
   {
    "duration": 27,
    "start_time": "2022-02-24T08:27:41.054Z"
   },
   {
    "duration": 33,
    "start_time": "2022-02-24T08:27:41.083Z"
   },
   {
    "duration": 26,
    "start_time": "2022-02-24T08:27:41.118Z"
   },
   {
    "duration": 29,
    "start_time": "2022-02-24T08:27:41.146Z"
   },
   {
    "duration": 14,
    "start_time": "2022-02-24T08:27:41.177Z"
   },
   {
    "duration": 32,
    "start_time": "2022-02-24T08:27:41.193Z"
   },
   {
    "duration": 21,
    "start_time": "2022-02-24T08:27:41.227Z"
   },
   {
    "duration": 24,
    "start_time": "2022-02-24T08:27:41.250Z"
   },
   {
    "duration": 33,
    "start_time": "2022-02-24T08:27:41.275Z"
   },
   {
    "duration": 21,
    "start_time": "2022-02-24T08:27:41.310Z"
   },
   {
    "duration": 20,
    "start_time": "2022-02-24T08:27:41.333Z"
   },
   {
    "duration": 33,
    "start_time": "2022-02-24T08:27:41.355Z"
   },
   {
    "duration": 37,
    "start_time": "2022-02-24T08:27:41.390Z"
   },
   {
    "duration": 23,
    "start_time": "2022-02-24T08:27:41.429Z"
   },
   {
    "duration": 13,
    "start_time": "2022-02-24T08:27:41.454Z"
   },
   {
    "duration": 20,
    "start_time": "2022-02-24T08:27:41.469Z"
   },
   {
    "duration": 14,
    "start_time": "2022-02-24T08:27:41.491Z"
   },
   {
    "duration": 38,
    "start_time": "2022-02-24T08:27:41.507Z"
   },
   {
    "duration": 30,
    "start_time": "2022-02-24T08:27:41.547Z"
   },
   {
    "duration": 23,
    "start_time": "2022-02-24T08:27:41.579Z"
   },
   {
    "duration": 34,
    "start_time": "2022-02-24T08:27:41.603Z"
   },
   {
    "duration": 6,
    "start_time": "2022-02-24T08:29:25.531Z"
   },
   {
    "duration": 208,
    "start_time": "2022-02-24T08:29:40.900Z"
   },
   {
    "duration": -1120,
    "start_time": "2022-02-24T08:29:42.231Z"
   },
   {
    "duration": -1122,
    "start_time": "2022-02-24T08:29:42.234Z"
   },
   {
    "duration": -1123,
    "start_time": "2022-02-24T08:29:42.237Z"
   },
   {
    "duration": -1128,
    "start_time": "2022-02-24T08:29:42.243Z"
   },
   {
    "duration": -1131,
    "start_time": "2022-02-24T08:29:42.247Z"
   },
   {
    "duration": -1133,
    "start_time": "2022-02-24T08:29:42.250Z"
   },
   {
    "duration": -1135,
    "start_time": "2022-02-24T08:29:42.253Z"
   },
   {
    "duration": -1137,
    "start_time": "2022-02-24T08:29:42.256Z"
   },
   {
    "duration": -1151,
    "start_time": "2022-02-24T08:29:42.272Z"
   },
   {
    "duration": -1154,
    "start_time": "2022-02-24T08:29:42.276Z"
   },
   {
    "duration": -1158,
    "start_time": "2022-02-24T08:29:42.281Z"
   },
   {
    "duration": -1159,
    "start_time": "2022-02-24T08:29:42.283Z"
   },
   {
    "duration": -1161,
    "start_time": "2022-02-24T08:29:42.286Z"
   },
   {
    "duration": -1162,
    "start_time": "2022-02-24T08:29:42.288Z"
   },
   {
    "duration": 58,
    "start_time": "2022-02-24T08:30:27.696Z"
   },
   {
    "duration": 12,
    "start_time": "2022-02-24T08:30:27.757Z"
   },
   {
    "duration": 45,
    "start_time": "2022-02-24T08:30:27.771Z"
   },
   {
    "duration": 12,
    "start_time": "2022-02-24T08:30:27.818Z"
   },
   {
    "duration": 32,
    "start_time": "2022-02-24T08:30:27.833Z"
   },
   {
    "duration": 28,
    "start_time": "2022-02-24T08:30:27.868Z"
   },
   {
    "duration": 10,
    "start_time": "2022-02-24T08:30:27.898Z"
   },
   {
    "duration": 32,
    "start_time": "2022-02-24T08:30:27.910Z"
   },
   {
    "duration": 18,
    "start_time": "2022-02-24T08:30:27.945Z"
   },
   {
    "duration": 25,
    "start_time": "2022-02-24T08:30:27.965Z"
   },
   {
    "duration": 16,
    "start_time": "2022-02-24T08:30:27.992Z"
   },
   {
    "duration": 12,
    "start_time": "2022-02-24T08:30:28.010Z"
   },
   {
    "duration": 21,
    "start_time": "2022-02-24T08:30:28.024Z"
   },
   {
    "duration": 22,
    "start_time": "2022-02-24T08:30:28.047Z"
   },
   {
    "duration": 27,
    "start_time": "2022-02-24T08:30:28.071Z"
   },
   {
    "duration": 20,
    "start_time": "2022-02-24T08:30:28.100Z"
   },
   {
    "duration": 25,
    "start_time": "2022-02-24T08:30:28.122Z"
   },
   {
    "duration": 8,
    "start_time": "2022-02-24T08:30:28.149Z"
   },
   {
    "duration": 30,
    "start_time": "2022-02-24T08:30:28.159Z"
   },
   {
    "duration": 29,
    "start_time": "2022-02-24T08:30:28.191Z"
   },
   {
    "duration": 17,
    "start_time": "2022-02-24T08:30:28.222Z"
   },
   {
    "duration": 16,
    "start_time": "2022-02-24T08:30:28.241Z"
   },
   {
    "duration": 32,
    "start_time": "2022-02-24T08:30:28.259Z"
   },
   {
    "duration": 30,
    "start_time": "2022-02-24T08:30:28.293Z"
   },
   {
    "duration": 9,
    "start_time": "2022-02-24T08:30:28.325Z"
   },
   {
    "duration": 16,
    "start_time": "2022-02-24T08:30:28.335Z"
   },
   {
    "duration": 13,
    "start_time": "2022-02-24T08:30:28.355Z"
   },
   {
    "duration": 40,
    "start_time": "2022-02-24T08:30:28.370Z"
   },
   {
    "duration": 13,
    "start_time": "2022-02-24T08:30:28.413Z"
   },
   {
    "duration": 17,
    "start_time": "2022-02-24T08:30:28.428Z"
   },
   {
    "duration": 18,
    "start_time": "2022-02-24T08:30:28.447Z"
   },
   {
    "duration": 19,
    "start_time": "2022-02-24T08:30:28.467Z"
   },
   {
    "duration": 22,
    "start_time": "2022-02-24T08:30:28.487Z"
   },
   {
    "duration": 13,
    "start_time": "2022-02-24T08:30:28.511Z"
   },
   {
    "duration": 16,
    "start_time": "2022-02-24T08:30:28.526Z"
   },
   {
    "duration": 16,
    "start_time": "2022-02-24T08:30:28.544Z"
   },
   {
    "duration": 12,
    "start_time": "2022-02-24T08:30:28.562Z"
   },
   {
    "duration": 11,
    "start_time": "2022-02-24T08:30:28.576Z"
   },
   {
    "duration": 21,
    "start_time": "2022-02-24T08:30:28.588Z"
   },
   {
    "duration": 20,
    "start_time": "2022-02-24T08:30:28.611Z"
   },
   {
    "duration": 18,
    "start_time": "2022-02-24T08:30:28.634Z"
   },
   {
    "duration": 9,
    "start_time": "2022-02-24T08:30:28.654Z"
   },
   {
    "duration": 10,
    "start_time": "2022-02-24T08:30:28.665Z"
   },
   {
    "duration": 31,
    "start_time": "2022-02-24T08:30:28.678Z"
   },
   {
    "duration": 22,
    "start_time": "2022-02-24T08:30:28.711Z"
   },
   {
    "duration": 18,
    "start_time": "2022-02-24T08:30:28.735Z"
   },
   {
    "duration": 59,
    "start_time": "2022-02-24T08:30:28.756Z"
   },
   {
    "duration": 19,
    "start_time": "2022-02-24T08:30:28.817Z"
   },
   {
    "duration": 230,
    "start_time": "2022-02-24T08:49:06.711Z"
   },
   {
    "duration": 212,
    "start_time": "2022-02-24T08:49:30.285Z"
   },
   {
    "duration": 204,
    "start_time": "2022-02-24T08:49:47.328Z"
   },
   {
    "duration": 20,
    "start_time": "2022-02-24T08:51:40.896Z"
   },
   {
    "duration": 19,
    "start_time": "2022-02-24T08:56:14.842Z"
   },
   {
    "duration": 198,
    "start_time": "2022-02-24T09:09:49.962Z"
   },
   {
    "duration": 206,
    "start_time": "2022-02-24T09:10:09.602Z"
   },
   {
    "duration": 34,
    "start_time": "2022-02-24T09:10:39.039Z"
   },
   {
    "duration": 305,
    "start_time": "2022-02-24T09:27:09.004Z"
   },
   {
    "duration": 19,
    "start_time": "2022-02-24T09:27:39.146Z"
   },
   {
    "duration": 373,
    "start_time": "2022-02-24T09:28:34.323Z"
   },
   {
    "duration": 206,
    "start_time": "2022-02-24T09:28:53.280Z"
   },
   {
    "duration": 218,
    "start_time": "2022-02-24T09:29:00.509Z"
   },
   {
    "duration": 75,
    "start_time": "2022-02-24T09:29:22.923Z"
   },
   {
    "duration": 19,
    "start_time": "2022-02-24T09:29:29.432Z"
   },
   {
    "duration": 20,
    "start_time": "2022-02-24T09:29:55.274Z"
   },
   {
    "duration": 20,
    "start_time": "2022-02-24T09:30:09.565Z"
   },
   {
    "duration": 22,
    "start_time": "2022-02-24T09:46:53.608Z"
   },
   {
    "duration": 239,
    "start_time": "2022-02-24T09:47:30.066Z"
   },
   {
    "duration": 18,
    "start_time": "2022-02-24T09:47:49.794Z"
   },
   {
    "duration": 19,
    "start_time": "2022-02-24T09:48:01.665Z"
   },
   {
    "duration": 21,
    "start_time": "2022-02-24T09:48:48.775Z"
   },
   {
    "duration": 21,
    "start_time": "2022-02-24T09:49:07.655Z"
   },
   {
    "duration": 219,
    "start_time": "2022-02-24T10:04:32.772Z"
   },
   {
    "duration": 19,
    "start_time": "2022-02-24T10:04:42.458Z"
   },
   {
    "duration": 20,
    "start_time": "2022-02-24T10:07:22.492Z"
   },
   {
    "duration": 20,
    "start_time": "2022-02-24T10:11:37.263Z"
   },
   {
    "duration": 27,
    "start_time": "2022-02-24T10:12:15.659Z"
   },
   {
    "duration": 31,
    "start_time": "2022-02-24T10:12:40.317Z"
   },
   {
    "duration": 27,
    "start_time": "2022-02-24T10:14:05.877Z"
   },
   {
    "duration": 21,
    "start_time": "2022-02-24T10:15:45.334Z"
   },
   {
    "duration": 84,
    "start_time": "2022-02-24T10:16:42.245Z"
   },
   {
    "duration": 208,
    "start_time": "2022-02-24T10:30:47.637Z"
   },
   {
    "duration": 256,
    "start_time": "2022-02-24T10:30:50.226Z"
   },
   {
    "duration": 226,
    "start_time": "2022-02-24T10:30:53.331Z"
   },
   {
    "duration": 61,
    "start_time": "2022-02-24T10:31:11.117Z"
   },
   {
    "duration": 14,
    "start_time": "2022-02-24T10:31:11.181Z"
   },
   {
    "duration": 15,
    "start_time": "2022-02-24T10:31:11.208Z"
   },
   {
    "duration": 8,
    "start_time": "2022-02-24T10:31:11.226Z"
   },
   {
    "duration": 18,
    "start_time": "2022-02-24T10:31:11.236Z"
   },
   {
    "duration": 11,
    "start_time": "2022-02-24T10:31:11.256Z"
   },
   {
    "duration": 43,
    "start_time": "2022-02-24T10:31:11.269Z"
   },
   {
    "duration": 26,
    "start_time": "2022-02-24T10:31:11.315Z"
   },
   {
    "duration": 7,
    "start_time": "2022-02-24T10:31:11.346Z"
   },
   {
    "duration": 22,
    "start_time": "2022-02-24T10:31:11.356Z"
   },
   {
    "duration": 29,
    "start_time": "2022-02-24T10:31:11.380Z"
   },
   {
    "duration": 8,
    "start_time": "2022-02-24T10:31:11.411Z"
   },
   {
    "duration": 25,
    "start_time": "2022-02-24T10:31:11.421Z"
   },
   {
    "duration": 7,
    "start_time": "2022-02-24T10:31:11.449Z"
   },
   {
    "duration": 41,
    "start_time": "2022-02-24T10:31:11.458Z"
   },
   {
    "duration": 11,
    "start_time": "2022-02-24T10:31:11.501Z"
   },
   {
    "duration": 18,
    "start_time": "2022-02-24T10:31:11.514Z"
   },
   {
    "duration": 10,
    "start_time": "2022-02-24T10:31:11.534Z"
   },
   {
    "duration": 15,
    "start_time": "2022-02-24T10:31:11.546Z"
   },
   {
    "duration": 28,
    "start_time": "2022-02-24T10:31:11.564Z"
   },
   {
    "duration": 30,
    "start_time": "2022-02-24T10:31:11.594Z"
   },
   {
    "duration": 16,
    "start_time": "2022-02-24T10:31:11.626Z"
   },
   {
    "duration": 27,
    "start_time": "2022-02-24T10:31:11.644Z"
   },
   {
    "duration": 39,
    "start_time": "2022-02-24T10:31:11.674Z"
   },
   {
    "duration": 9,
    "start_time": "2022-02-24T10:31:11.715Z"
   },
   {
    "duration": 26,
    "start_time": "2022-02-24T10:31:11.726Z"
   },
   {
    "duration": 25,
    "start_time": "2022-02-24T10:31:11.757Z"
   },
   {
    "duration": 22,
    "start_time": "2022-02-24T10:31:11.784Z"
   },
   {
    "duration": 33,
    "start_time": "2022-02-24T10:31:11.809Z"
   },
   {
    "duration": 27,
    "start_time": "2022-02-24T10:31:11.845Z"
   },
   {
    "duration": 25,
    "start_time": "2022-02-24T10:31:11.875Z"
   },
   {
    "duration": 21,
    "start_time": "2022-02-24T10:31:11.902Z"
   },
   {
    "duration": 22,
    "start_time": "2022-02-24T10:31:11.925Z"
   },
   {
    "duration": 16,
    "start_time": "2022-02-24T10:31:11.949Z"
   },
   {
    "duration": 17,
    "start_time": "2022-02-24T10:31:11.967Z"
   },
   {
    "duration": 24,
    "start_time": "2022-02-24T10:31:11.986Z"
   },
   {
    "duration": 22,
    "start_time": "2022-02-24T10:31:12.012Z"
   },
   {
    "duration": 22,
    "start_time": "2022-02-24T10:31:12.036Z"
   },
   {
    "duration": 28,
    "start_time": "2022-02-24T10:31:12.060Z"
   },
   {
    "duration": 51,
    "start_time": "2022-02-24T10:31:12.091Z"
   },
   {
    "duration": 29,
    "start_time": "2022-02-24T10:31:12.144Z"
   },
   {
    "duration": 8,
    "start_time": "2022-02-24T10:31:12.176Z"
   },
   {
    "duration": 19,
    "start_time": "2022-02-24T10:31:12.186Z"
   },
   {
    "duration": 24,
    "start_time": "2022-02-24T10:31:12.207Z"
   },
   {
    "duration": 35,
    "start_time": "2022-02-24T10:31:12.233Z"
   },
   {
    "duration": 17,
    "start_time": "2022-02-24T10:31:12.270Z"
   },
   {
    "duration": 38,
    "start_time": "2022-02-24T10:31:12.289Z"
   },
   {
    "duration": 18,
    "start_time": "2022-02-24T10:31:12.330Z"
   },
   {
    "duration": 21,
    "start_time": "2022-02-24T10:31:12.349Z"
   },
   {
    "duration": 41,
    "start_time": "2022-02-24T10:31:12.372Z"
   },
   {
    "duration": 217,
    "start_time": "2022-02-24T10:32:39.543Z"
   },
   {
    "duration": -1224,
    "start_time": "2022-02-24T10:32:40.987Z"
   },
   {
    "duration": -1228,
    "start_time": "2022-02-24T10:32:40.992Z"
   },
   {
    "duration": -1231,
    "start_time": "2022-02-24T10:32:40.997Z"
   },
   {
    "duration": -1235,
    "start_time": "2022-02-24T10:32:41.002Z"
   },
   {
    "duration": -1238,
    "start_time": "2022-02-24T10:32:41.006Z"
   },
   {
    "duration": -1242,
    "start_time": "2022-02-24T10:32:41.011Z"
   },
   {
    "duration": -1244,
    "start_time": "2022-02-24T10:32:41.014Z"
   },
   {
    "duration": -1248,
    "start_time": "2022-02-24T10:32:41.019Z"
   },
   {
    "duration": -1250,
    "start_time": "2022-02-24T10:32:41.023Z"
   },
   {
    "duration": -1255,
    "start_time": "2022-02-24T10:32:41.029Z"
   },
   {
    "duration": -1258,
    "start_time": "2022-02-24T10:32:41.033Z"
   },
   {
    "duration": -1261,
    "start_time": "2022-02-24T10:32:41.037Z"
   },
   {
    "duration": -1266,
    "start_time": "2022-02-24T10:32:41.043Z"
   },
   {
    "duration": -1269,
    "start_time": "2022-02-24T10:32:41.047Z"
   },
   {
    "duration": -1273,
    "start_time": "2022-02-24T10:32:41.052Z"
   },
   {
    "duration": -1277,
    "start_time": "2022-02-24T10:32:41.057Z"
   },
   {
    "duration": 60,
    "start_time": "2022-02-24T10:32:51.466Z"
   },
   {
    "duration": 12,
    "start_time": "2022-02-24T10:32:51.528Z"
   },
   {
    "duration": 13,
    "start_time": "2022-02-24T10:32:51.542Z"
   },
   {
    "duration": 17,
    "start_time": "2022-02-24T10:32:51.557Z"
   },
   {
    "duration": 38,
    "start_time": "2022-02-24T10:32:51.576Z"
   },
   {
    "duration": 18,
    "start_time": "2022-02-24T10:32:51.616Z"
   },
   {
    "duration": 7,
    "start_time": "2022-02-24T10:32:51.636Z"
   },
   {
    "duration": 21,
    "start_time": "2022-02-24T10:32:51.646Z"
   },
   {
    "duration": 8,
    "start_time": "2022-02-24T10:32:51.670Z"
   },
   {
    "duration": 41,
    "start_time": "2022-02-24T10:32:51.680Z"
   },
   {
    "duration": 10,
    "start_time": "2022-02-24T10:32:51.723Z"
   },
   {
    "duration": 7,
    "start_time": "2022-02-24T10:32:51.735Z"
   },
   {
    "duration": 17,
    "start_time": "2022-02-24T10:32:51.744Z"
   },
   {
    "duration": 8,
    "start_time": "2022-02-24T10:32:51.763Z"
   },
   {
    "duration": 42,
    "start_time": "2022-02-24T10:32:51.773Z"
   },
   {
    "duration": 9,
    "start_time": "2022-02-24T10:32:51.816Z"
   },
   {
    "duration": 14,
    "start_time": "2022-02-24T10:32:51.827Z"
   },
   {
    "duration": 6,
    "start_time": "2022-02-24T10:32:51.843Z"
   },
   {
    "duration": 12,
    "start_time": "2022-02-24T10:32:51.850Z"
   },
   {
    "duration": 45,
    "start_time": "2022-02-24T10:32:51.864Z"
   },
   {
    "duration": 17,
    "start_time": "2022-02-24T10:32:51.911Z"
   },
   {
    "duration": 15,
    "start_time": "2022-02-24T10:32:51.930Z"
   },
   {
    "duration": 24,
    "start_time": "2022-02-24T10:32:51.948Z"
   },
   {
    "duration": 39,
    "start_time": "2022-02-24T10:32:51.975Z"
   },
   {
    "duration": 8,
    "start_time": "2022-02-24T10:32:52.016Z"
   },
   {
    "duration": 18,
    "start_time": "2022-02-24T10:32:52.026Z"
   },
   {
    "duration": 29,
    "start_time": "2022-02-24T10:32:52.047Z"
   },
   {
    "duration": 14,
    "start_time": "2022-02-24T10:32:52.079Z"
   },
   {
    "duration": 24,
    "start_time": "2022-02-24T10:32:52.095Z"
   },
   {
    "duration": 11,
    "start_time": "2022-02-24T10:32:52.121Z"
   },
   {
    "duration": 11,
    "start_time": "2022-02-24T10:32:52.134Z"
   },
   {
    "duration": 10,
    "start_time": "2022-02-24T10:32:52.148Z"
   },
   {
    "duration": 10,
    "start_time": "2022-02-24T10:32:52.160Z"
   },
   {
    "duration": 44,
    "start_time": "2022-02-24T10:32:52.172Z"
   },
   {
    "duration": 14,
    "start_time": "2022-02-24T10:32:52.218Z"
   },
   {
    "duration": 15,
    "start_time": "2022-02-24T10:32:52.234Z"
   },
   {
    "duration": 9,
    "start_time": "2022-02-24T10:32:52.251Z"
   },
   {
    "duration": 8,
    "start_time": "2022-02-24T10:32:52.262Z"
   },
   {
    "duration": 10,
    "start_time": "2022-02-24T10:32:52.271Z"
   },
   {
    "duration": 29,
    "start_time": "2022-02-24T10:32:52.308Z"
   },
   {
    "duration": 20,
    "start_time": "2022-02-24T10:32:52.339Z"
   },
   {
    "duration": 11,
    "start_time": "2022-02-24T10:32:52.362Z"
   },
   {
    "duration": 10,
    "start_time": "2022-02-24T10:32:52.376Z"
   },
   {
    "duration": 21,
    "start_time": "2022-02-24T10:32:52.388Z"
   },
   {
    "duration": 33,
    "start_time": "2022-02-24T10:32:52.411Z"
   },
   {
    "duration": 24,
    "start_time": "2022-02-24T10:32:52.447Z"
   },
   {
    "duration": 22,
    "start_time": "2022-02-24T10:32:52.472Z"
   },
   {
    "duration": 19,
    "start_time": "2022-02-24T10:32:52.508Z"
   },
   {
    "duration": 19,
    "start_time": "2022-02-24T10:32:52.528Z"
   },
   {
    "duration": 22,
    "start_time": "2022-02-24T10:32:52.549Z"
   },
   {
    "duration": 221,
    "start_time": "2022-02-24T10:35:40.552Z"
   },
   {
    "duration": 677,
    "start_time": "2022-02-24T10:36:04.250Z"
   },
   {
    "duration": 15,
    "start_time": "2022-02-24T10:36:04.929Z"
   },
   {
    "duration": 12,
    "start_time": "2022-02-24T10:36:04.947Z"
   },
   {
    "duration": 7,
    "start_time": "2022-02-24T10:36:04.962Z"
   },
   {
    "duration": 49,
    "start_time": "2022-02-24T10:36:04.971Z"
   },
   {
    "duration": 5,
    "start_time": "2022-02-24T10:36:05.022Z"
   },
   {
    "duration": 7,
    "start_time": "2022-02-24T10:36:05.029Z"
   },
   {
    "duration": 16,
    "start_time": "2022-02-24T10:36:05.039Z"
   },
   {
    "duration": 7,
    "start_time": "2022-02-24T10:36:05.058Z"
   },
   {
    "duration": 47,
    "start_time": "2022-02-24T10:36:05.067Z"
   },
   {
    "duration": 8,
    "start_time": "2022-02-24T10:36:05.117Z"
   },
   {
    "duration": 7,
    "start_time": "2022-02-24T10:36:05.127Z"
   },
   {
    "duration": 17,
    "start_time": "2022-02-24T10:36:05.136Z"
   },
   {
    "duration": 11,
    "start_time": "2022-02-24T10:36:05.155Z"
   },
   {
    "duration": 41,
    "start_time": "2022-02-24T10:36:05.168Z"
   },
   {
    "duration": 6,
    "start_time": "2022-02-24T10:36:05.211Z"
   },
   {
    "duration": 20,
    "start_time": "2022-02-24T10:36:05.219Z"
   },
   {
    "duration": 7,
    "start_time": "2022-02-24T10:36:05.240Z"
   },
   {
    "duration": 19,
    "start_time": "2022-02-24T10:36:05.249Z"
   },
   {
    "duration": 38,
    "start_time": "2022-02-24T10:36:05.270Z"
   },
   {
    "duration": 16,
    "start_time": "2022-02-24T10:36:05.311Z"
   },
   {
    "duration": 17,
    "start_time": "2022-02-24T10:36:05.329Z"
   },
   {
    "duration": 23,
    "start_time": "2022-02-24T10:36:05.349Z"
   },
   {
    "duration": 47,
    "start_time": "2022-02-24T10:36:05.374Z"
   },
   {
    "duration": 8,
    "start_time": "2022-02-24T10:36:05.423Z"
   },
   {
    "duration": 23,
    "start_time": "2022-02-24T10:36:05.433Z"
   },
   {
    "duration": 22,
    "start_time": "2022-02-24T10:36:05.458Z"
   },
   {
    "duration": 14,
    "start_time": "2022-02-24T10:36:05.482Z"
   },
   {
    "duration": 24,
    "start_time": "2022-02-24T10:36:05.498Z"
   },
   {
    "duration": 20,
    "start_time": "2022-02-24T10:36:05.524Z"
   },
   {
    "duration": 17,
    "start_time": "2022-02-24T10:36:05.545Z"
   },
   {
    "duration": 13,
    "start_time": "2022-02-24T10:36:05.564Z"
   },
   {
    "duration": 16,
    "start_time": "2022-02-24T10:36:05.579Z"
   },
   {
    "duration": 19,
    "start_time": "2022-02-24T10:36:05.597Z"
   },
   {
    "duration": 15,
    "start_time": "2022-02-24T10:36:05.619Z"
   },
   {
    "duration": 20,
    "start_time": "2022-02-24T10:36:05.636Z"
   },
   {
    "duration": 28,
    "start_time": "2022-02-24T10:36:05.658Z"
   },
   {
    "duration": 13,
    "start_time": "2022-02-24T10:36:05.688Z"
   },
   {
    "duration": 19,
    "start_time": "2022-02-24T10:36:05.703Z"
   },
   {
    "duration": 53,
    "start_time": "2022-02-24T10:36:05.725Z"
   },
   {
    "duration": 29,
    "start_time": "2022-02-24T10:36:05.780Z"
   },
   {
    "duration": 8,
    "start_time": "2022-02-24T10:36:05.811Z"
   },
   {
    "duration": 10,
    "start_time": "2022-02-24T10:36:05.822Z"
   },
   {
    "duration": 22,
    "start_time": "2022-02-24T10:36:05.834Z"
   },
   {
    "duration": 28,
    "start_time": "2022-02-24T10:36:05.859Z"
   },
   {
    "duration": 19,
    "start_time": "2022-02-24T10:36:05.889Z"
   },
   {
    "duration": 23,
    "start_time": "2022-02-24T10:36:05.910Z"
   },
   {
    "duration": 18,
    "start_time": "2022-02-24T10:36:05.936Z"
   },
   {
    "duration": 53,
    "start_time": "2022-02-24T10:36:05.956Z"
   },
   {
    "duration": 27,
    "start_time": "2022-02-24T10:36:06.011Z"
   },
   {
    "duration": 288,
    "start_time": "2022-02-24T11:03:01.431Z"
   },
   {
    "duration": 239,
    "start_time": "2022-02-24T11:03:12.198Z"
   },
   {
    "duration": 219,
    "start_time": "2022-02-24T11:19:44.169Z"
   },
   {
    "duration": 15,
    "start_time": "2022-02-24T11:20:12.442Z"
   },
   {
    "duration": 12,
    "start_time": "2022-02-24T11:20:15.491Z"
   },
   {
    "duration": 69,
    "start_time": "2022-02-24T11:30:54.293Z"
   },
   {
    "duration": 12,
    "start_time": "2022-02-24T11:30:54.364Z"
   },
   {
    "duration": 35,
    "start_time": "2022-02-24T11:30:54.377Z"
   },
   {
    "duration": 17,
    "start_time": "2022-02-24T11:30:54.414Z"
   },
   {
    "duration": 29,
    "start_time": "2022-02-24T11:30:54.433Z"
   },
   {
    "duration": 17,
    "start_time": "2022-02-24T11:30:54.464Z"
   },
   {
    "duration": 18,
    "start_time": "2022-02-24T11:30:54.483Z"
   },
   {
    "duration": 29,
    "start_time": "2022-02-24T11:30:54.503Z"
   },
   {
    "duration": 14,
    "start_time": "2022-02-24T11:30:54.535Z"
   },
   {
    "duration": 28,
    "start_time": "2022-02-24T11:30:54.551Z"
   },
   {
    "duration": 13,
    "start_time": "2022-02-24T11:30:54.581Z"
   },
   {
    "duration": 22,
    "start_time": "2022-02-24T11:30:54.596Z"
   },
   {
    "duration": 37,
    "start_time": "2022-02-24T11:30:54.620Z"
   },
   {
    "duration": 15,
    "start_time": "2022-02-24T11:30:54.659Z"
   },
   {
    "duration": 31,
    "start_time": "2022-02-24T11:30:54.676Z"
   },
   {
    "duration": 30,
    "start_time": "2022-02-24T11:30:54.709Z"
   },
   {
    "duration": 23,
    "start_time": "2022-02-24T11:30:54.741Z"
   },
   {
    "duration": 9,
    "start_time": "2022-02-24T11:30:54.766Z"
   },
   {
    "duration": 15,
    "start_time": "2022-02-24T11:30:54.777Z"
   },
   {
    "duration": 27,
    "start_time": "2022-02-24T11:30:54.793Z"
   },
   {
    "duration": 20,
    "start_time": "2022-02-24T11:30:54.822Z"
   },
   {
    "duration": 13,
    "start_time": "2022-02-24T11:30:54.844Z"
   },
   {
    "duration": 36,
    "start_time": "2022-02-24T11:30:54.861Z"
   },
   {
    "duration": 22,
    "start_time": "2022-02-24T11:30:54.900Z"
   },
   {
    "duration": 9,
    "start_time": "2022-02-24T11:30:54.924Z"
   },
   {
    "duration": 18,
    "start_time": "2022-02-24T11:30:54.936Z"
   },
   {
    "duration": 13,
    "start_time": "2022-02-24T11:30:54.956Z"
   },
   {
    "duration": 38,
    "start_time": "2022-02-24T11:30:54.971Z"
   },
   {
    "duration": 24,
    "start_time": "2022-02-24T11:30:55.011Z"
   },
   {
    "duration": 18,
    "start_time": "2022-02-24T11:30:55.037Z"
   },
   {
    "duration": 27,
    "start_time": "2022-02-24T11:30:55.057Z"
   },
   {
    "duration": 14,
    "start_time": "2022-02-24T11:30:55.086Z"
   },
   {
    "duration": 18,
    "start_time": "2022-02-24T11:30:55.102Z"
   },
   {
    "duration": 16,
    "start_time": "2022-02-24T11:30:55.123Z"
   },
   {
    "duration": 19,
    "start_time": "2022-02-24T11:30:55.141Z"
   },
   {
    "duration": 25,
    "start_time": "2022-02-24T11:30:55.162Z"
   },
   {
    "duration": 15,
    "start_time": "2022-02-24T11:30:55.189Z"
   },
   {
    "duration": 17,
    "start_time": "2022-02-24T11:30:55.206Z"
   },
   {
    "duration": 11,
    "start_time": "2022-02-24T11:30:55.225Z"
   },
   {
    "duration": 31,
    "start_time": "2022-02-24T11:30:55.239Z"
   },
   {
    "duration": 35,
    "start_time": "2022-02-24T11:30:55.273Z"
   },
   {
    "duration": 9,
    "start_time": "2022-02-24T11:30:55.310Z"
   },
   {
    "duration": 10,
    "start_time": "2022-02-24T11:30:55.321Z"
   },
   {
    "duration": 23,
    "start_time": "2022-02-24T11:30:55.333Z"
   },
   {
    "duration": 38,
    "start_time": "2022-02-24T11:30:55.358Z"
   },
   {
    "duration": 21,
    "start_time": "2022-02-24T11:30:55.398Z"
   },
   {
    "duration": 22,
    "start_time": "2022-02-24T11:30:55.420Z"
   },
   {
    "duration": 18,
    "start_time": "2022-02-24T11:30:55.444Z"
   },
   {
    "duration": 45,
    "start_time": "2022-02-24T11:30:55.464Z"
   },
   {
    "duration": 19,
    "start_time": "2022-02-24T11:30:55.511Z"
   },
   {
    "duration": 21,
    "start_time": "2022-02-24T11:30:55.532Z"
   },
   {
    "duration": 19,
    "start_time": "2022-02-24T11:31:52.851Z"
   },
   {
    "duration": 18,
    "start_time": "2022-02-24T11:32:17.309Z"
   },
   {
    "duration": 10,
    "start_time": "2022-02-24T11:32:34.176Z"
   },
   {
    "duration": 20,
    "start_time": "2022-02-24T11:32:51.353Z"
   },
   {
    "duration": 17,
    "start_time": "2022-02-24T11:33:43.774Z"
   },
   {
    "duration": 22,
    "start_time": "2022-02-24T11:34:05.806Z"
   },
   {
    "duration": 30,
    "start_time": "2022-02-24T11:34:14.941Z"
   },
   {
    "duration": 19,
    "start_time": "2022-02-24T11:34:27.086Z"
   },
   {
    "duration": 20,
    "start_time": "2022-02-24T11:34:34.653Z"
   },
   {
    "duration": 20,
    "start_time": "2022-02-24T11:34:46.445Z"
   },
   {
    "duration": 59,
    "start_time": "2022-02-24T11:34:57.948Z"
   },
   {
    "duration": 12,
    "start_time": "2022-02-24T11:34:58.010Z"
   },
   {
    "duration": 12,
    "start_time": "2022-02-24T11:34:58.025Z"
   },
   {
    "duration": 9,
    "start_time": "2022-02-24T11:34:58.039Z"
   },
   {
    "duration": 26,
    "start_time": "2022-02-24T11:34:58.050Z"
   },
   {
    "duration": 6,
    "start_time": "2022-02-24T11:34:58.108Z"
   },
   {
    "duration": 6,
    "start_time": "2022-02-24T11:34:58.115Z"
   },
   {
    "duration": 18,
    "start_time": "2022-02-24T11:34:58.124Z"
   },
   {
    "duration": 6,
    "start_time": "2022-02-24T11:34:58.144Z"
   },
   {
    "duration": 20,
    "start_time": "2022-02-24T11:34:58.151Z"
   },
   {
    "duration": 6,
    "start_time": "2022-02-24T11:34:58.208Z"
   },
   {
    "duration": 14,
    "start_time": "2022-02-24T11:34:58.216Z"
   },
   {
    "duration": 18,
    "start_time": "2022-02-24T11:34:58.232Z"
   },
   {
    "duration": 10,
    "start_time": "2022-02-24T11:34:58.252Z"
   },
   {
    "duration": 19,
    "start_time": "2022-02-24T11:34:58.263Z"
   },
   {
    "duration": 31,
    "start_time": "2022-02-24T11:34:58.284Z"
   },
   {
    "duration": 16,
    "start_time": "2022-02-24T11:34:58.317Z"
   },
   {
    "duration": 5,
    "start_time": "2022-02-24T11:34:58.335Z"
   },
   {
    "duration": 10,
    "start_time": "2022-02-24T11:34:58.342Z"
   },
   {
    "duration": 25,
    "start_time": "2022-02-24T11:34:58.354Z"
   },
   {
    "duration": 38,
    "start_time": "2022-02-24T11:34:58.380Z"
   },
   {
    "duration": 12,
    "start_time": "2022-02-24T11:34:58.420Z"
   },
   {
    "duration": 22,
    "start_time": "2022-02-24T11:34:58.436Z"
   },
   {
    "duration": 18,
    "start_time": "2022-02-24T11:34:58.461Z"
   },
   {
    "duration": 34,
    "start_time": "2022-02-24T11:34:58.481Z"
   },
   {
    "duration": 14,
    "start_time": "2022-02-24T11:34:58.517Z"
   },
   {
    "duration": 14,
    "start_time": "2022-02-24T11:34:58.533Z"
   },
   {
    "duration": 14,
    "start_time": "2022-02-24T11:34:58.549Z"
   },
   {
    "duration": 18,
    "start_time": "2022-02-24T11:34:58.565Z"
   },
   {
    "duration": 30,
    "start_time": "2022-02-24T11:34:58.585Z"
   },
   {
    "duration": 12,
    "start_time": "2022-02-24T11:34:58.617Z"
   },
   {
    "duration": 20,
    "start_time": "2022-02-24T11:34:58.631Z"
   },
   {
    "duration": 14,
    "start_time": "2022-02-24T11:34:58.653Z"
   },
   {
    "duration": 14,
    "start_time": "2022-02-24T11:34:58.669Z"
   },
   {
    "duration": 25,
    "start_time": "2022-02-24T11:34:58.685Z"
   },
   {
    "duration": 14,
    "start_time": "2022-02-24T11:34:58.712Z"
   },
   {
    "duration": 11,
    "start_time": "2022-02-24T11:34:58.728Z"
   },
   {
    "duration": 8,
    "start_time": "2022-02-24T11:34:58.741Z"
   },
   {
    "duration": 10,
    "start_time": "2022-02-24T11:34:58.751Z"
   },
   {
    "duration": 23,
    "start_time": "2022-02-24T11:34:58.763Z"
   },
   {
    "duration": 35,
    "start_time": "2022-02-24T11:34:58.788Z"
   },
   {
    "duration": 8,
    "start_time": "2022-02-24T11:34:58.825Z"
   },
   {
    "duration": 7,
    "start_time": "2022-02-24T11:34:58.835Z"
   },
   {
    "duration": 13,
    "start_time": "2022-02-24T11:34:58.844Z"
   },
   {
    "duration": 24,
    "start_time": "2022-02-24T11:34:58.859Z"
   },
   {
    "duration": 17,
    "start_time": "2022-02-24T11:34:58.907Z"
   },
   {
    "duration": 22,
    "start_time": "2022-02-24T11:34:58.925Z"
   },
   {
    "duration": 17,
    "start_time": "2022-02-24T11:34:58.949Z"
   },
   {
    "duration": 51,
    "start_time": "2022-02-24T11:34:58.968Z"
   },
   {
    "duration": 21,
    "start_time": "2022-02-24T11:34:59.021Z"
   },
   {
    "duration": 20,
    "start_time": "2022-02-24T11:34:59.044Z"
   },
   {
    "duration": 6,
    "start_time": "2022-02-24T11:35:25.724Z"
   },
   {
    "duration": 6,
    "start_time": "2022-02-24T11:35:40.777Z"
   },
   {
    "duration": 14,
    "start_time": "2022-02-24T11:36:08.660Z"
   },
   {
    "duration": 22,
    "start_time": "2022-02-24T11:40:04.851Z"
   },
   {
    "duration": 208,
    "start_time": "2022-02-24T11:41:14.367Z"
   },
   {
    "duration": 20,
    "start_time": "2022-02-24T11:41:24.420Z"
   },
   {
    "duration": 18,
    "start_time": "2022-02-24T11:41:50.345Z"
   },
   {
    "duration": 20,
    "start_time": "2022-02-24T11:42:13.026Z"
   },
   {
    "duration": 274,
    "start_time": "2022-02-24T14:00:21.422Z"
   },
   {
    "duration": 18,
    "start_time": "2022-02-24T14:00:37.123Z"
   },
   {
    "duration": 22,
    "start_time": "2022-02-24T14:39:20.156Z"
   },
   {
    "duration": 58,
    "start_time": "2022-02-24T14:39:26.760Z"
   },
   {
    "duration": 18,
    "start_time": "2022-02-24T14:39:26.821Z"
   },
   {
    "duration": 16,
    "start_time": "2022-02-24T14:39:26.841Z"
   },
   {
    "duration": 11,
    "start_time": "2022-02-24T14:39:26.860Z"
   },
   {
    "duration": 58,
    "start_time": "2022-02-24T14:39:26.873Z"
   },
   {
    "duration": 10,
    "start_time": "2022-02-24T14:39:26.934Z"
   },
   {
    "duration": 8,
    "start_time": "2022-02-24T14:39:26.946Z"
   },
   {
    "duration": 20,
    "start_time": "2022-02-24T14:39:26.957Z"
   },
   {
    "duration": 5,
    "start_time": "2022-02-24T14:39:27.007Z"
   },
   {
    "duration": 24,
    "start_time": "2022-02-24T14:39:27.014Z"
   },
   {
    "duration": 8,
    "start_time": "2022-02-24T14:39:27.040Z"
   },
   {
    "duration": 5,
    "start_time": "2022-02-24T14:39:27.051Z"
   },
   {
    "duration": 20,
    "start_time": "2022-02-24T14:39:27.058Z"
   },
   {
    "duration": 29,
    "start_time": "2022-02-24T14:39:27.080Z"
   },
   {
    "duration": 15,
    "start_time": "2022-02-24T14:39:27.111Z"
   },
   {
    "duration": 9,
    "start_time": "2022-02-24T14:39:27.128Z"
   },
   {
    "duration": 14,
    "start_time": "2022-02-24T14:39:27.139Z"
   },
   {
    "duration": 4,
    "start_time": "2022-02-24T14:39:27.155Z"
   },
   {
    "duration": 12,
    "start_time": "2022-02-24T14:39:27.161Z"
   },
   {
    "duration": 54,
    "start_time": "2022-02-24T14:39:27.175Z"
   },
   {
    "duration": 18,
    "start_time": "2022-02-24T14:39:27.231Z"
   },
   {
    "duration": 14,
    "start_time": "2022-02-24T14:39:27.251Z"
   },
   {
    "duration": 46,
    "start_time": "2022-02-24T14:39:27.270Z"
   },
   {
    "duration": 18,
    "start_time": "2022-02-24T14:39:27.319Z"
   },
   {
    "duration": 8,
    "start_time": "2022-02-24T14:39:27.339Z"
   },
   {
    "duration": 22,
    "start_time": "2022-02-24T14:39:27.349Z"
   },
   {
    "duration": 15,
    "start_time": "2022-02-24T14:39:27.373Z"
   },
   {
    "duration": 11,
    "start_time": "2022-02-24T14:39:27.408Z"
   },
   {
    "duration": 24,
    "start_time": "2022-02-24T14:39:27.421Z"
   },
   {
    "duration": 10,
    "start_time": "2022-02-24T14:39:27.447Z"
   },
   {
    "duration": 17,
    "start_time": "2022-02-24T14:39:27.459Z"
   },
   {
    "duration": 31,
    "start_time": "2022-02-24T14:39:27.478Z"
   },
   {
    "duration": 17,
    "start_time": "2022-02-24T14:39:27.511Z"
   },
   {
    "duration": 13,
    "start_time": "2022-02-24T14:39:27.530Z"
   },
   {
    "duration": 14,
    "start_time": "2022-02-24T14:39:27.546Z"
   },
   {
    "duration": 17,
    "start_time": "2022-02-24T14:39:27.562Z"
   },
   {
    "duration": 35,
    "start_time": "2022-02-24T14:39:27.581Z"
   },
   {
    "duration": 6,
    "start_time": "2022-02-24T14:39:27.618Z"
   },
   {
    "duration": 18,
    "start_time": "2022-02-24T14:39:27.626Z"
   },
   {
    "duration": 34,
    "start_time": "2022-02-24T14:39:27.647Z"
   },
   {
    "duration": 31,
    "start_time": "2022-02-24T14:39:27.684Z"
   },
   {
    "duration": 14,
    "start_time": "2022-02-24T14:39:27.718Z"
   },
   {
    "duration": 8,
    "start_time": "2022-02-24T14:39:27.735Z"
   },
   {
    "duration": 10,
    "start_time": "2022-02-24T14:39:27.746Z"
   },
   {
    "duration": 52,
    "start_time": "2022-02-24T14:39:27.758Z"
   },
   {
    "duration": 18,
    "start_time": "2022-02-24T14:39:27.812Z"
   },
   {
    "duration": 20,
    "start_time": "2022-02-24T14:39:27.832Z"
   },
   {
    "duration": 19,
    "start_time": "2022-02-24T14:39:27.854Z"
   },
   {
    "duration": 51,
    "start_time": "2022-02-24T14:39:27.875Z"
   },
   {
    "duration": 21,
    "start_time": "2022-02-24T14:39:27.928Z"
   },
   {
    "duration": 20,
    "start_time": "2022-02-24T14:39:27.950Z"
   },
   {
    "duration": 316,
    "start_time": "2022-02-24T16:50:06.442Z"
   },
   {
    "duration": 18,
    "start_time": "2022-02-24T16:50:15.373Z"
   },
   {
    "duration": 219,
    "start_time": "2022-02-24T16:50:24.518Z"
   },
   {
    "duration": 18,
    "start_time": "2022-02-24T16:50:43.888Z"
   },
   {
    "duration": 21,
    "start_time": "2022-02-24T17:32:15.210Z"
   },
   {
    "duration": 223,
    "start_time": "2022-02-24T17:34:17.262Z"
   },
   {
    "duration": 262,
    "start_time": "2022-02-24T17:34:36.998Z"
   },
   {
    "duration": 23,
    "start_time": "2022-02-24T17:34:48.413Z"
   },
   {
    "duration": 192,
    "start_time": "2022-02-24T17:39:20.077Z"
   },
   {
    "duration": 237,
    "start_time": "2022-02-24T17:40:00.187Z"
   },
   {
    "duration": 235,
    "start_time": "2022-02-24T17:40:58.160Z"
   },
   {
    "duration": 268,
    "start_time": "2022-02-24T17:41:19.690Z"
   },
   {
    "duration": 229,
    "start_time": "2022-02-24T17:48:43.792Z"
   },
   {
    "duration": 62,
    "start_time": "2022-02-24T17:48:55.729Z"
   },
   {
    "duration": 12,
    "start_time": "2022-02-24T17:48:55.792Z"
   },
   {
    "duration": 11,
    "start_time": "2022-02-24T17:48:55.806Z"
   },
   {
    "duration": 8,
    "start_time": "2022-02-24T17:48:55.819Z"
   },
   {
    "duration": 18,
    "start_time": "2022-02-24T17:48:55.829Z"
   },
   {
    "duration": 8,
    "start_time": "2022-02-24T17:48:55.849Z"
   },
   {
    "duration": 11,
    "start_time": "2022-02-24T17:48:55.859Z"
   },
   {
    "duration": 46,
    "start_time": "2022-02-24T17:48:55.873Z"
   },
   {
    "duration": 17,
    "start_time": "2022-02-24T17:48:55.921Z"
   },
   {
    "duration": 31,
    "start_time": "2022-02-24T17:48:55.940Z"
   },
   {
    "duration": 16,
    "start_time": "2022-02-24T17:48:55.973Z"
   },
   {
    "duration": 16,
    "start_time": "2022-02-24T17:48:55.991Z"
   },
   {
    "duration": 41,
    "start_time": "2022-02-24T17:48:56.009Z"
   },
   {
    "duration": 33,
    "start_time": "2022-02-24T17:48:56.052Z"
   },
   {
    "duration": 33,
    "start_time": "2022-02-24T17:48:56.087Z"
   },
   {
    "duration": 13,
    "start_time": "2022-02-24T17:48:56.122Z"
   },
   {
    "duration": 12,
    "start_time": "2022-02-24T17:48:56.137Z"
   },
   {
    "duration": 4,
    "start_time": "2022-02-24T17:48:56.151Z"
   },
   {
    "duration": 12,
    "start_time": "2022-02-24T17:48:56.156Z"
   },
   {
    "duration": 44,
    "start_time": "2022-02-24T17:48:56.170Z"
   },
   {
    "duration": 17,
    "start_time": "2022-02-24T17:48:56.216Z"
   },
   {
    "duration": 13,
    "start_time": "2022-02-24T17:48:56.234Z"
   },
   {
    "duration": 21,
    "start_time": "2022-02-24T17:48:56.252Z"
   },
   {
    "duration": 47,
    "start_time": "2022-02-24T17:48:56.276Z"
   },
   {
    "duration": 8,
    "start_time": "2022-02-24T17:48:56.325Z"
   },
   {
    "duration": 17,
    "start_time": "2022-02-24T17:48:56.335Z"
   },
   {
    "duration": 14,
    "start_time": "2022-02-24T17:48:56.354Z"
   },
   {
    "duration": 13,
    "start_time": "2022-02-24T17:48:56.370Z"
   },
   {
    "duration": 36,
    "start_time": "2022-02-24T17:48:56.385Z"
   },
   {
    "duration": 36,
    "start_time": "2022-02-24T17:48:56.423Z"
   },
   {
    "duration": 30,
    "start_time": "2022-02-24T17:48:56.461Z"
   },
   {
    "duration": 36,
    "start_time": "2022-02-24T17:48:56.494Z"
   },
   {
    "duration": 36,
    "start_time": "2022-02-24T17:48:56.532Z"
   },
   {
    "duration": 41,
    "start_time": "2022-02-24T17:48:56.570Z"
   },
   {
    "duration": 33,
    "start_time": "2022-02-24T17:48:56.613Z"
   },
   {
    "duration": 38,
    "start_time": "2022-02-24T17:48:56.648Z"
   },
   {
    "duration": 47,
    "start_time": "2022-02-24T17:48:56.689Z"
   },
   {
    "duration": 13,
    "start_time": "2022-02-24T17:48:56.738Z"
   },
   {
    "duration": 33,
    "start_time": "2022-02-24T17:48:56.753Z"
   },
   {
    "duration": 28,
    "start_time": "2022-02-24T17:48:56.788Z"
   },
   {
    "duration": 24,
    "start_time": "2022-02-24T17:48:56.818Z"
   },
   {
    "duration": 22,
    "start_time": "2022-02-24T17:48:56.844Z"
   },
   {
    "duration": 18,
    "start_time": "2022-02-24T17:48:56.868Z"
   },
   {
    "duration": 29,
    "start_time": "2022-02-24T17:48:56.889Z"
   },
   {
    "duration": 46,
    "start_time": "2022-02-24T17:48:56.921Z"
   },
   {
    "duration": 21,
    "start_time": "2022-02-24T17:48:56.969Z"
   },
   {
    "duration": 24,
    "start_time": "2022-02-24T17:48:56.992Z"
   },
   {
    "duration": 29,
    "start_time": "2022-02-24T17:48:57.018Z"
   },
   {
    "duration": 26,
    "start_time": "2022-02-24T17:48:57.049Z"
   },
   {
    "duration": 28,
    "start_time": "2022-02-24T17:48:57.078Z"
   },
   {
    "duration": 33,
    "start_time": "2022-02-24T17:48:57.108Z"
   },
   {
    "duration": 207,
    "start_time": "2022-02-24T17:48:57.143Z"
   },
   {
    "duration": 19,
    "start_time": "2022-02-24T17:54:52.083Z"
   },
   {
    "duration": 196,
    "start_time": "2022-02-24T17:55:51.343Z"
   },
   {
    "duration": 204,
    "start_time": "2022-02-24T17:56:04.489Z"
   },
   {
    "duration": 67,
    "start_time": "2022-02-24T17:56:21.114Z"
   },
   {
    "duration": 28,
    "start_time": "2022-02-24T17:56:21.184Z"
   },
   {
    "duration": 11,
    "start_time": "2022-02-24T17:56:21.215Z"
   },
   {
    "duration": 9,
    "start_time": "2022-02-24T17:56:21.228Z"
   },
   {
    "duration": 21,
    "start_time": "2022-02-24T17:56:21.240Z"
   },
   {
    "duration": 47,
    "start_time": "2022-02-24T17:56:21.263Z"
   },
   {
    "duration": 4,
    "start_time": "2022-02-24T17:56:21.313Z"
   },
   {
    "duration": 16,
    "start_time": "2022-02-24T17:56:21.320Z"
   },
   {
    "duration": 8,
    "start_time": "2022-02-24T17:56:21.339Z"
   },
   {
    "duration": 27,
    "start_time": "2022-02-24T17:56:21.349Z"
   },
   {
    "duration": 32,
    "start_time": "2022-02-24T17:56:21.378Z"
   },
   {
    "duration": 6,
    "start_time": "2022-02-24T17:56:21.412Z"
   },
   {
    "duration": 20,
    "start_time": "2022-02-24T17:56:21.419Z"
   },
   {
    "duration": 19,
    "start_time": "2022-02-24T17:56:21.441Z"
   },
   {
    "duration": 24,
    "start_time": "2022-02-24T17:56:21.462Z"
   },
   {
    "duration": 12,
    "start_time": "2022-02-24T17:56:21.488Z"
   },
   {
    "duration": 17,
    "start_time": "2022-02-24T17:56:21.502Z"
   },
   {
    "duration": 3,
    "start_time": "2022-02-24T17:56:21.521Z"
   },
   {
    "duration": 12,
    "start_time": "2022-02-24T17:56:21.526Z"
   },
   {
    "duration": 38,
    "start_time": "2022-02-24T17:56:21.540Z"
   },
   {
    "duration": 27,
    "start_time": "2022-02-24T17:56:21.580Z"
   },
   {
    "duration": 11,
    "start_time": "2022-02-24T17:56:21.610Z"
   },
   {
    "duration": 32,
    "start_time": "2022-02-24T17:56:21.625Z"
   },
   {
    "duration": 21,
    "start_time": "2022-02-24T17:56:21.660Z"
   },
   {
    "duration": 13,
    "start_time": "2022-02-24T17:56:21.683Z"
   },
   {
    "duration": 14,
    "start_time": "2022-02-24T17:56:21.708Z"
   },
   {
    "duration": 18,
    "start_time": "2022-02-24T17:56:21.724Z"
   },
   {
    "duration": 12,
    "start_time": "2022-02-24T17:56:21.744Z"
   },
   {
    "duration": 15,
    "start_time": "2022-02-24T17:56:21.758Z"
   },
   {
    "duration": 50,
    "start_time": "2022-02-24T17:56:21.776Z"
   },
   {
    "duration": 13,
    "start_time": "2022-02-24T17:56:21.828Z"
   },
   {
    "duration": 16,
    "start_time": "2022-02-24T17:56:21.844Z"
   },
   {
    "duration": 15,
    "start_time": "2022-02-24T17:56:21.862Z"
   },
   {
    "duration": 15,
    "start_time": "2022-02-24T17:56:21.879Z"
   },
   {
    "duration": 11,
    "start_time": "2022-02-24T17:56:21.896Z"
   },
   {
    "duration": 18,
    "start_time": "2022-02-24T17:56:21.910Z"
   },
   {
    "duration": 18,
    "start_time": "2022-02-24T17:56:21.930Z"
   },
   {
    "duration": 12,
    "start_time": "2022-02-24T17:56:21.950Z"
   },
   {
    "duration": 13,
    "start_time": "2022-02-24T17:56:21.964Z"
   },
   {
    "duration": 31,
    "start_time": "2022-02-24T17:56:21.979Z"
   },
   {
    "duration": 15,
    "start_time": "2022-02-24T17:56:22.013Z"
   },
   {
    "duration": 9,
    "start_time": "2022-02-24T17:56:22.030Z"
   },
   {
    "duration": 11,
    "start_time": "2022-02-24T17:56:22.041Z"
   },
   {
    "duration": 9,
    "start_time": "2022-02-24T17:56:22.055Z"
   },
   {
    "duration": 46,
    "start_time": "2022-02-24T17:56:22.066Z"
   },
   {
    "duration": 15,
    "start_time": "2022-02-24T17:56:22.114Z"
   },
   {
    "duration": 19,
    "start_time": "2022-02-24T17:56:22.131Z"
   },
   {
    "duration": 17,
    "start_time": "2022-02-24T17:56:22.152Z"
   },
   {
    "duration": 202,
    "start_time": "2022-02-24T17:56:22.171Z"
   },
   {
    "duration": -407,
    "start_time": "2022-02-24T17:56:22.782Z"
   },
   {
    "duration": -415,
    "start_time": "2022-02-24T17:56:22.791Z"
   },
   {
    "duration": -441,
    "start_time": "2022-02-24T17:56:22.818Z"
   },
   {
    "duration": 27,
    "start_time": "2022-02-24T18:53:25.948Z"
   },
   {
    "duration": 21,
    "start_time": "2022-02-24T18:53:27.356Z"
   },
   {
    "duration": 8,
    "start_time": "2022-02-24T18:54:19.401Z"
   },
   {
    "duration": 7,
    "start_time": "2022-02-24T18:54:35.572Z"
   },
   {
    "duration": 9,
    "start_time": "2022-02-24T18:54:56.154Z"
   },
   {
    "duration": 10,
    "start_time": "2022-02-24T18:55:11.927Z"
   },
   {
    "duration": 11,
    "start_time": "2022-02-24T18:55:24.885Z"
   },
   {
    "duration": 60,
    "start_time": "2022-02-24T19:39:18.961Z"
   },
   {
    "duration": 8,
    "start_time": "2022-02-24T19:48:40.677Z"
   },
   {
    "duration": 17,
    "start_time": "2022-02-24T19:48:41.947Z"
   },
   {
    "duration": 8,
    "start_time": "2022-02-24T19:49:34.046Z"
   },
   {
    "duration": 14,
    "start_time": "2022-02-24T19:50:18.294Z"
   },
   {
    "duration": 14,
    "start_time": "2022-02-24T19:53:13.950Z"
   },
   {
    "duration": 205,
    "start_time": "2022-02-24T19:56:06.170Z"
   },
   {
    "duration": 221,
    "start_time": "2022-02-24T19:56:22.397Z"
   },
   {
    "duration": 59,
    "start_time": "2022-02-24T19:56:33.583Z"
   },
   {
    "duration": 13,
    "start_time": "2022-02-24T19:56:33.644Z"
   },
   {
    "duration": 15,
    "start_time": "2022-02-24T19:56:33.659Z"
   },
   {
    "duration": 36,
    "start_time": "2022-02-24T19:56:33.676Z"
   },
   {
    "duration": 18,
    "start_time": "2022-02-24T19:56:33.714Z"
   },
   {
    "duration": 9,
    "start_time": "2022-02-24T19:56:33.734Z"
   },
   {
    "duration": 5,
    "start_time": "2022-02-24T19:56:33.745Z"
   },
   {
    "duration": 55,
    "start_time": "2022-02-24T19:56:33.752Z"
   },
   {
    "duration": 4,
    "start_time": "2022-02-24T19:56:33.811Z"
   },
   {
    "duration": 20,
    "start_time": "2022-02-24T19:56:33.818Z"
   },
   {
    "duration": 21,
    "start_time": "2022-02-24T19:56:33.839Z"
   },
   {
    "duration": 8,
    "start_time": "2022-02-24T19:56:33.862Z"
   },
   {
    "duration": 27,
    "start_time": "2022-02-24T19:56:33.872Z"
   },
   {
    "duration": 133,
    "start_time": "2022-02-24T19:56:33.901Z"
   },
   {
    "duration": 90,
    "start_time": "2022-02-24T19:56:34.036Z"
   },
   {
    "duration": 15,
    "start_time": "2022-02-24T19:56:34.128Z"
   },
   {
    "duration": 89,
    "start_time": "2022-02-24T19:56:34.146Z"
   },
   {
    "duration": 5,
    "start_time": "2022-02-24T19:56:34.238Z"
   },
   {
    "duration": 16,
    "start_time": "2022-02-24T19:56:34.245Z"
   },
   {
    "duration": 21,
    "start_time": "2022-02-24T19:56:34.263Z"
   },
   {
    "duration": 36,
    "start_time": "2022-02-24T19:56:34.286Z"
   },
   {
    "duration": 17,
    "start_time": "2022-02-24T19:56:34.324Z"
   },
   {
    "duration": 26,
    "start_time": "2022-02-24T19:56:34.343Z"
   },
   {
    "duration": 17,
    "start_time": "2022-02-24T19:56:34.371Z"
   },
   {
    "duration": 21,
    "start_time": "2022-02-24T19:56:34.390Z"
   },
   {
    "duration": 17,
    "start_time": "2022-02-24T19:56:34.413Z"
   },
   {
    "duration": 10,
    "start_time": "2022-02-24T19:56:34.435Z"
   },
   {
    "duration": 10,
    "start_time": "2022-02-24T19:56:34.448Z"
   },
   {
    "duration": 19,
    "start_time": "2022-02-24T19:56:34.460Z"
   },
   {
    "duration": 10,
    "start_time": "2022-02-24T19:56:34.507Z"
   },
   {
    "duration": 9,
    "start_time": "2022-02-24T19:56:34.519Z"
   },
   {
    "duration": 10,
    "start_time": "2022-02-24T19:56:34.530Z"
   },
   {
    "duration": 13,
    "start_time": "2022-02-24T19:56:34.542Z"
   },
   {
    "duration": 15,
    "start_time": "2022-02-24T19:56:34.557Z"
   },
   {
    "duration": 40,
    "start_time": "2022-02-24T19:56:34.574Z"
   },
   {
    "duration": 16,
    "start_time": "2022-02-24T19:56:34.616Z"
   },
   {
    "duration": 18,
    "start_time": "2022-02-24T19:56:34.634Z"
   },
   {
    "duration": 6,
    "start_time": "2022-02-24T19:56:34.653Z"
   },
   {
    "duration": 11,
    "start_time": "2022-02-24T19:56:34.661Z"
   },
   {
    "duration": 43,
    "start_time": "2022-02-24T19:56:34.674Z"
   },
   {
    "duration": 30,
    "start_time": "2022-02-24T19:56:34.718Z"
   },
   {
    "duration": 9,
    "start_time": "2022-02-24T19:56:34.749Z"
   },
   {
    "duration": 8,
    "start_time": "2022-02-24T19:56:34.760Z"
   },
   {
    "duration": 20,
    "start_time": "2022-02-24T19:56:34.770Z"
   },
   {
    "duration": 33,
    "start_time": "2022-02-24T19:56:34.793Z"
   },
   {
    "duration": 15,
    "start_time": "2022-02-24T19:56:34.828Z"
   },
   {
    "duration": 20,
    "start_time": "2022-02-24T19:56:34.845Z"
   },
   {
    "duration": 42,
    "start_time": "2022-02-24T19:56:34.867Z"
   },
   {
    "duration": 21,
    "start_time": "2022-02-24T19:56:34.911Z"
   },
   {
    "duration": 21,
    "start_time": "2022-02-24T19:56:34.933Z"
   },
   {
    "duration": 14,
    "start_time": "2022-02-24T19:56:56.987Z"
   },
   {
    "duration": 4,
    "start_time": "2022-02-24T19:57:00.245Z"
   },
   {
    "duration": 14,
    "start_time": "2022-02-24T20:35:51.527Z"
   },
   {
    "duration": 13,
    "start_time": "2022-02-24T21:08:38.276Z"
   },
   {
    "duration": 7,
    "start_time": "2022-02-24T21:08:56.033Z"
   },
   {
    "duration": 15,
    "start_time": "2022-02-24T21:09:03.945Z"
   },
   {
    "duration": 67,
    "start_time": "2022-02-24T21:09:36.949Z"
   },
   {
    "duration": 12,
    "start_time": "2022-02-24T21:09:37.019Z"
   },
   {
    "duration": 12,
    "start_time": "2022-02-24T21:09:37.034Z"
   },
   {
    "duration": 11,
    "start_time": "2022-02-24T21:09:37.049Z"
   },
   {
    "duration": 51,
    "start_time": "2022-02-24T21:09:37.062Z"
   },
   {
    "duration": 9,
    "start_time": "2022-02-24T21:09:37.115Z"
   },
   {
    "duration": 8,
    "start_time": "2022-02-24T21:09:37.125Z"
   },
   {
    "duration": 21,
    "start_time": "2022-02-24T21:09:37.136Z"
   },
   {
    "duration": 5,
    "start_time": "2022-02-24T21:09:37.160Z"
   },
   {
    "duration": 50,
    "start_time": "2022-02-24T21:09:37.167Z"
   },
   {
    "duration": 19,
    "start_time": "2022-02-24T21:09:37.219Z"
   },
   {
    "duration": 16,
    "start_time": "2022-02-24T21:09:37.240Z"
   },
   {
    "duration": 41,
    "start_time": "2022-02-24T21:09:37.258Z"
   },
   {
    "duration": 14,
    "start_time": "2022-02-24T21:09:37.301Z"
   },
   {
    "duration": 31,
    "start_time": "2022-02-24T21:09:37.318Z"
   },
   {
    "duration": 22,
    "start_time": "2022-02-24T21:09:37.351Z"
   },
   {
    "duration": 25,
    "start_time": "2022-02-24T21:09:37.375Z"
   },
   {
    "duration": 4,
    "start_time": "2022-02-24T21:09:37.402Z"
   },
   {
    "duration": 14,
    "start_time": "2022-02-24T21:09:37.408Z"
   },
   {
    "duration": 29,
    "start_time": "2022-02-24T21:09:37.424Z"
   },
   {
    "duration": 16,
    "start_time": "2022-02-24T21:09:37.455Z"
   },
   {
    "duration": 12,
    "start_time": "2022-02-24T21:09:37.473Z"
   },
   {
    "duration": 55,
    "start_time": "2022-02-24T21:09:37.489Z"
   },
   {
    "duration": 32,
    "start_time": "2022-02-24T21:09:37.547Z"
   },
   {
    "duration": 18,
    "start_time": "2022-02-24T21:09:37.581Z"
   },
   {
    "duration": 20,
    "start_time": "2022-02-24T21:09:37.601Z"
   },
   {
    "duration": 41,
    "start_time": "2022-02-24T21:09:37.623Z"
   },
   {
    "duration": 28,
    "start_time": "2022-02-24T21:09:37.666Z"
   },
   {
    "duration": 29,
    "start_time": "2022-02-24T21:09:37.696Z"
   },
   {
    "duration": 38,
    "start_time": "2022-02-24T21:09:37.727Z"
   },
   {
    "duration": 35,
    "start_time": "2022-02-24T21:09:37.767Z"
   },
   {
    "duration": 21,
    "start_time": "2022-02-24T21:09:37.804Z"
   },
   {
    "duration": 10,
    "start_time": "2022-02-24T21:09:37.827Z"
   },
   {
    "duration": 38,
    "start_time": "2022-02-24T21:09:37.840Z"
   },
   {
    "duration": 22,
    "start_time": "2022-02-24T21:09:37.880Z"
   },
   {
    "duration": 39,
    "start_time": "2022-02-24T21:09:37.903Z"
   },
   {
    "duration": 26,
    "start_time": "2022-02-24T21:09:37.944Z"
   },
   {
    "duration": 12,
    "start_time": "2022-02-24T21:09:37.972Z"
   },
   {
    "duration": 33,
    "start_time": "2022-02-24T21:09:37.986Z"
   },
   {
    "duration": 25,
    "start_time": "2022-02-24T21:09:38.020Z"
   },
   {
    "duration": 18,
    "start_time": "2022-02-24T21:09:38.047Z"
   },
   {
    "duration": 38,
    "start_time": "2022-02-24T21:09:38.067Z"
   },
   {
    "duration": 23,
    "start_time": "2022-02-24T21:09:38.108Z"
   },
   {
    "duration": 18,
    "start_time": "2022-02-24T21:09:38.133Z"
   },
   {
    "duration": 40,
    "start_time": "2022-02-24T21:09:38.153Z"
   },
   {
    "duration": 18,
    "start_time": "2022-02-24T21:09:38.195Z"
   },
   {
    "duration": 22,
    "start_time": "2022-02-24T21:09:38.215Z"
   },
   {
    "duration": 18,
    "start_time": "2022-02-24T21:09:38.238Z"
   },
   {
    "duration": 30,
    "start_time": "2022-02-24T21:09:38.258Z"
   },
   {
    "duration": 33,
    "start_time": "2022-02-24T21:09:38.290Z"
   },
   {
    "duration": 7,
    "start_time": "2022-02-24T21:15:31.814Z"
   },
   {
    "duration": 14,
    "start_time": "2022-02-24T21:19:37.539Z"
   },
   {
    "duration": 13,
    "start_time": "2022-02-24T21:22:37.815Z"
   },
   {
    "duration": 13,
    "start_time": "2022-02-24T21:38:48.758Z"
   },
   {
    "duration": 10,
    "start_time": "2022-02-24T21:39:01.704Z"
   },
   {
    "duration": 9,
    "start_time": "2022-02-24T21:39:06.339Z"
   },
   {
    "duration": 14,
    "start_time": "2022-02-24T21:41:33.004Z"
   },
   {
    "duration": 84,
    "start_time": "2022-02-24T21:43:51.217Z"
   },
   {
    "duration": 4,
    "start_time": "2022-02-24T21:44:11.087Z"
   },
   {
    "duration": 4,
    "start_time": "2022-02-24T21:44:13.048Z"
   },
   {
    "duration": 4,
    "start_time": "2022-02-24T21:44:35.099Z"
   },
   {
    "duration": 3,
    "start_time": "2022-02-24T21:45:18.903Z"
   },
   {
    "duration": 6,
    "start_time": "2022-02-24T21:45:21.160Z"
   },
   {
    "duration": 4,
    "start_time": "2022-02-24T21:45:27.310Z"
   },
   {
    "duration": 4,
    "start_time": "2022-02-24T21:45:36.131Z"
   },
   {
    "duration": 5,
    "start_time": "2022-02-24T21:45:38.358Z"
   },
   {
    "duration": 4,
    "start_time": "2022-02-24T21:45:42.945Z"
   },
   {
    "duration": 5,
    "start_time": "2022-02-24T21:46:39.619Z"
   },
   {
    "duration": 761,
    "start_time": "2022-02-24T22:00:18.806Z"
   },
   {
    "duration": 13,
    "start_time": "2022-02-24T22:00:19.569Z"
   },
   {
    "duration": 29,
    "start_time": "2022-02-24T22:00:19.588Z"
   },
   {
    "duration": 10,
    "start_time": "2022-02-24T22:00:19.619Z"
   },
   {
    "duration": 17,
    "start_time": "2022-02-24T22:00:19.631Z"
   },
   {
    "duration": 7,
    "start_time": "2022-02-24T22:00:19.650Z"
   },
   {
    "duration": 5,
    "start_time": "2022-02-24T22:00:19.660Z"
   },
   {
    "duration": 50,
    "start_time": "2022-02-24T22:00:19.668Z"
   },
   {
    "duration": 9,
    "start_time": "2022-02-24T22:00:19.719Z"
   },
   {
    "duration": 7,
    "start_time": "2022-02-24T22:00:19.730Z"
   },
   {
    "duration": 17,
    "start_time": "2022-02-24T22:00:19.739Z"
   },
   {
    "duration": 10,
    "start_time": "2022-02-24T22:00:19.758Z"
   },
   {
    "duration": 43,
    "start_time": "2022-02-24T22:00:19.769Z"
   },
   {
    "duration": 4,
    "start_time": "2022-02-24T22:00:19.814Z"
   },
   {
    "duration": 15,
    "start_time": "2022-02-24T22:00:19.820Z"
   },
   {
    "duration": 23,
    "start_time": "2022-02-24T22:00:19.837Z"
   },
   {
    "duration": 14,
    "start_time": "2022-02-24T22:00:19.863Z"
   },
   {
    "duration": 40,
    "start_time": "2022-02-24T22:00:19.879Z"
   },
   {
    "duration": 39,
    "start_time": "2022-02-24T22:00:19.921Z"
   },
   {
    "duration": 11,
    "start_time": "2022-02-24T22:00:19.962Z"
   },
   {
    "duration": 26,
    "start_time": "2022-02-24T22:00:19.975Z"
   },
   {
    "duration": 19,
    "start_time": "2022-02-24T22:00:20.005Z"
   },
   {
    "duration": 10,
    "start_time": "2022-02-24T22:00:20.026Z"
   },
   {
    "duration": 26,
    "start_time": "2022-02-24T22:00:20.038Z"
   },
   {
    "duration": 17,
    "start_time": "2022-02-24T22:00:20.066Z"
   },
   {
    "duration": 28,
    "start_time": "2022-02-24T22:00:20.085Z"
   },
   {
    "duration": 30,
    "start_time": "2022-02-24T22:00:20.116Z"
   },
   {
    "duration": 14,
    "start_time": "2022-02-24T22:00:20.148Z"
   },
   {
    "duration": 17,
    "start_time": "2022-02-24T22:00:20.164Z"
   },
   {
    "duration": 14,
    "start_time": "2022-02-24T22:00:20.182Z"
   },
   {
    "duration": 19,
    "start_time": "2022-02-24T22:00:20.198Z"
   },
   {
    "duration": 23,
    "start_time": "2022-02-24T22:00:20.219Z"
   },
   {
    "duration": 20,
    "start_time": "2022-02-24T22:00:20.244Z"
   },
   {
    "duration": 21,
    "start_time": "2022-02-24T22:00:20.267Z"
   },
   {
    "duration": 17,
    "start_time": "2022-02-24T22:00:20.290Z"
   },
   {
    "duration": 12,
    "start_time": "2022-02-24T22:00:20.309Z"
   },
   {
    "duration": 15,
    "start_time": "2022-02-24T22:00:20.323Z"
   },
   {
    "duration": 29,
    "start_time": "2022-02-24T22:00:20.340Z"
   },
   {
    "duration": 18,
    "start_time": "2022-02-24T22:00:20.371Z"
   },
   {
    "duration": 9,
    "start_time": "2022-02-24T22:00:20.391Z"
   },
   {
    "duration": 13,
    "start_time": "2022-02-24T22:00:20.401Z"
   },
   {
    "duration": 14,
    "start_time": "2022-02-24T22:00:20.416Z"
   },
   {
    "duration": 23,
    "start_time": "2022-02-24T22:00:20.431Z"
   },
   {
    "duration": 24,
    "start_time": "2022-02-24T22:00:20.456Z"
   },
   {
    "duration": 29,
    "start_time": "2022-02-24T22:00:20.482Z"
   },
   {
    "duration": 19,
    "start_time": "2022-02-24T22:00:20.513Z"
   },
   {
    "duration": 18,
    "start_time": "2022-02-24T22:00:20.534Z"
   },
   {
    "duration": 34,
    "start_time": "2022-02-24T22:00:20.554Z"
   },
   {
    "duration": 952,
    "start_time": "2022-02-25T11:51:13.831Z"
   },
   {
    "duration": 15,
    "start_time": "2022-02-25T11:51:14.786Z"
   },
   {
    "duration": 16,
    "start_time": "2022-02-25T11:51:14.804Z"
   },
   {
    "duration": 28,
    "start_time": "2022-02-25T11:51:14.823Z"
   },
   {
    "duration": 37,
    "start_time": "2022-02-25T11:51:14.854Z"
   },
   {
    "duration": 18,
    "start_time": "2022-02-25T11:51:14.893Z"
   },
   {
    "duration": 17,
    "start_time": "2022-02-25T11:51:14.913Z"
   },
   {
    "duration": 31,
    "start_time": "2022-02-25T11:51:14.932Z"
   },
   {
    "duration": 14,
    "start_time": "2022-02-25T11:51:14.967Z"
   },
   {
    "duration": 13,
    "start_time": "2022-02-25T11:51:14.984Z"
   },
   {
    "duration": 44,
    "start_time": "2022-02-25T11:51:15.000Z"
   },
   {
    "duration": 31,
    "start_time": "2022-02-25T11:51:15.046Z"
   },
   {
    "duration": 40,
    "start_time": "2022-02-25T11:51:15.080Z"
   },
   {
    "duration": 6,
    "start_time": "2022-02-25T11:51:15.123Z"
   },
   {
    "duration": 17,
    "start_time": "2022-02-25T11:51:15.132Z"
   },
   {
    "duration": 39,
    "start_time": "2022-02-25T11:51:15.151Z"
   },
   {
    "duration": 29,
    "start_time": "2022-02-25T11:51:15.192Z"
   },
   {
    "duration": 26,
    "start_time": "2022-02-25T11:51:15.224Z"
   },
   {
    "duration": 42,
    "start_time": "2022-02-25T11:51:15.253Z"
   },
   {
    "duration": 16,
    "start_time": "2022-02-25T11:51:15.298Z"
   },
   {
    "duration": 30,
    "start_time": "2022-02-25T11:51:15.316Z"
   },
   {
    "duration": 55,
    "start_time": "2022-02-25T11:51:15.349Z"
   },
   {
    "duration": 10,
    "start_time": "2022-02-25T11:51:15.407Z"
   },
   {
    "duration": 19,
    "start_time": "2022-02-25T11:51:15.419Z"
   },
   {
    "duration": 13,
    "start_time": "2022-02-25T11:51:15.441Z"
   },
   {
    "duration": 40,
    "start_time": "2022-02-25T11:51:15.457Z"
   },
   {
    "duration": 19,
    "start_time": "2022-02-25T11:51:15.503Z"
   },
   {
    "duration": 18,
    "start_time": "2022-02-25T11:51:15.527Z"
   },
   {
    "duration": 48,
    "start_time": "2022-02-25T11:51:15.547Z"
   },
   {
    "duration": 10,
    "start_time": "2022-02-25T11:51:15.598Z"
   },
   {
    "duration": 16,
    "start_time": "2022-02-25T11:51:15.611Z"
   },
   {
    "duration": 474,
    "start_time": "2022-02-25T11:51:15.629Z"
   },
   {
    "duration": -1225,
    "start_time": "2022-02-25T11:51:17.331Z"
   },
   {
    "duration": -1228,
    "start_time": "2022-02-25T11:51:17.336Z"
   },
   {
    "duration": -1231,
    "start_time": "2022-02-25T11:51:17.341Z"
   },
   {
    "duration": -1233,
    "start_time": "2022-02-25T11:51:17.345Z"
   },
   {
    "duration": -1238,
    "start_time": "2022-02-25T11:51:17.352Z"
   },
   {
    "duration": -1247,
    "start_time": "2022-02-25T11:51:17.363Z"
   },
   {
    "duration": -1250,
    "start_time": "2022-02-25T11:51:17.368Z"
   },
   {
    "duration": -1252,
    "start_time": "2022-02-25T11:51:17.372Z"
   },
   {
    "duration": -1254,
    "start_time": "2022-02-25T11:51:17.376Z"
   },
   {
    "duration": -1258,
    "start_time": "2022-02-25T11:51:17.382Z"
   },
   {
    "duration": -1261,
    "start_time": "2022-02-25T11:51:17.387Z"
   },
   {
    "duration": -1263,
    "start_time": "2022-02-25T11:51:17.391Z"
   },
   {
    "duration": -1266,
    "start_time": "2022-02-25T11:51:17.396Z"
   },
   {
    "duration": -1269,
    "start_time": "2022-02-25T11:51:17.401Z"
   },
   {
    "duration": -1272,
    "start_time": "2022-02-25T11:51:17.406Z"
   },
   {
    "duration": -1275,
    "start_time": "2022-02-25T11:51:17.411Z"
   },
   {
    "duration": 415,
    "start_time": "2022-02-25T11:52:01.840Z"
   },
   {
    "duration": 13,
    "start_time": "2022-02-25T11:52:16.219Z"
   },
   {
    "duration": 13,
    "start_time": "2022-02-25T11:55:01.586Z"
   },
   {
    "duration": 18,
    "start_time": "2022-02-25T11:57:35.713Z"
   },
   {
    "duration": 296,
    "start_time": "2022-02-25T11:57:49.842Z"
   },
   {
    "duration": 5,
    "start_time": "2022-02-25T11:57:53.060Z"
   },
   {
    "duration": 5,
    "start_time": "2022-02-25T11:57:54.268Z"
   },
   {
    "duration": 29,
    "start_time": "2022-02-25T11:58:01.198Z"
   },
   {
    "duration": 23,
    "start_time": "2022-02-25T11:58:15.494Z"
   },
   {
    "duration": 11,
    "start_time": "2022-02-25T11:58:24.953Z"
   },
   {
    "duration": 4,
    "start_time": "2022-02-25T11:58:27.970Z"
   },
   {
    "duration": 6,
    "start_time": "2022-02-25T11:58:28.806Z"
   },
   {
    "duration": 27,
    "start_time": "2022-02-25T11:58:32.095Z"
   },
   {
    "duration": 23,
    "start_time": "2022-02-25T11:58:34.965Z"
   },
   {
    "duration": 27,
    "start_time": "2022-02-25T11:58:44.860Z"
   },
   {
    "duration": 305,
    "start_time": "2022-02-25T11:59:25.604Z"
   },
   {
    "duration": 37,
    "start_time": "2022-02-25T11:59:44.523Z"
   },
   {
    "duration": 29,
    "start_time": "2022-02-25T12:09:23.656Z"
   },
   {
    "duration": 273,
    "start_time": "2022-02-25T12:10:37.124Z"
   },
   {
    "duration": 316,
    "start_time": "2022-02-25T12:10:46.642Z"
   },
   {
    "duration": 29,
    "start_time": "2022-02-25T12:11:44.755Z"
   },
   {
    "duration": 26,
    "start_time": "2022-02-25T12:11:53.254Z"
   },
   {
    "duration": 26,
    "start_time": "2022-02-25T12:30:07.449Z"
   },
   {
    "duration": 266,
    "start_time": "2022-02-25T12:30:48.914Z"
   },
   {
    "duration": 94,
    "start_time": "2022-02-25T12:36:04.577Z"
   },
   {
    "duration": 26,
    "start_time": "2022-02-25T12:37:48.587Z"
   },
   {
    "duration": 28,
    "start_time": "2022-02-25T12:38:15.549Z"
   },
   {
    "duration": 152,
    "start_time": "2022-02-25T13:19:26.444Z"
   },
   {
    "duration": 283,
    "start_time": "2022-02-25T13:19:42.777Z"
   },
   {
    "duration": 335,
    "start_time": "2022-02-25T13:19:59.501Z"
   },
   {
    "duration": 274,
    "start_time": "2022-02-25T13:20:16.890Z"
   },
   {
    "duration": 46,
    "start_time": "2022-02-25T13:20:23.870Z"
   },
   {
    "duration": 303,
    "start_time": "2022-02-25T13:21:16.712Z"
   },
   {
    "duration": 42,
    "start_time": "2022-02-25T13:21:22.977Z"
   },
   {
    "duration": 41,
    "start_time": "2022-02-25T13:22:14.084Z"
   },
   {
    "duration": 45,
    "start_time": "2022-02-25T13:22:49.856Z"
   },
   {
    "duration": 174,
    "start_time": "2022-02-25T13:23:26.784Z"
   },
   {
    "duration": 44,
    "start_time": "2022-02-25T13:23:42.961Z"
   },
   {
    "duration": 44,
    "start_time": "2022-02-25T13:24:28.289Z"
   },
   {
    "duration": 43,
    "start_time": "2022-02-25T13:28:12.900Z"
   },
   {
    "duration": 41,
    "start_time": "2022-02-25T13:28:32.399Z"
   },
   {
    "duration": 297,
    "start_time": "2022-02-25T13:29:04.050Z"
   },
   {
    "duration": 339,
    "start_time": "2022-02-25T13:29:31.946Z"
   },
   {
    "duration": 38,
    "start_time": "2022-02-25T13:29:56.366Z"
   },
   {
    "duration": 42,
    "start_time": "2022-02-25T13:30:53.635Z"
   },
   {
    "duration": 43,
    "start_time": "2022-02-25T13:31:17.121Z"
   },
   {
    "duration": 43,
    "start_time": "2022-02-25T13:31:49.460Z"
   },
   {
    "duration": 45,
    "start_time": "2022-02-25T13:32:25.868Z"
   },
   {
    "duration": 43,
    "start_time": "2022-02-25T13:32:34.804Z"
   },
   {
    "duration": 44,
    "start_time": "2022-02-25T13:32:41.117Z"
   },
   {
    "duration": 42,
    "start_time": "2022-02-25T13:33:01.771Z"
   },
   {
    "duration": 41,
    "start_time": "2022-02-25T13:33:16.425Z"
   },
   {
    "duration": 846,
    "start_time": "2022-02-25T13:33:23.518Z"
   },
   {
    "duration": 15,
    "start_time": "2022-02-25T13:33:24.367Z"
   },
   {
    "duration": 13,
    "start_time": "2022-02-25T13:33:24.394Z"
   },
   {
    "duration": 14,
    "start_time": "2022-02-25T13:33:24.410Z"
   },
   {
    "duration": 23,
    "start_time": "2022-02-25T13:33:24.426Z"
   },
   {
    "duration": 16,
    "start_time": "2022-02-25T13:33:24.451Z"
   },
   {
    "duration": 29,
    "start_time": "2022-02-25T13:33:24.469Z"
   },
   {
    "duration": 23,
    "start_time": "2022-02-25T13:33:24.503Z"
   },
   {
    "duration": 8,
    "start_time": "2022-02-25T13:33:24.530Z"
   },
   {
    "duration": 7,
    "start_time": "2022-02-25T13:33:24.541Z"
   },
   {
    "duration": 63,
    "start_time": "2022-02-25T13:33:24.550Z"
   },
   {
    "duration": 12,
    "start_time": "2022-02-25T13:33:24.615Z"
   },
   {
    "duration": 18,
    "start_time": "2022-02-25T13:33:24.629Z"
   },
   {
    "duration": 5,
    "start_time": "2022-02-25T13:33:24.650Z"
   },
   {
    "duration": 44,
    "start_time": "2022-02-25T13:33:24.658Z"
   },
   {
    "duration": 21,
    "start_time": "2022-02-25T13:33:24.705Z"
   },
   {
    "duration": 21,
    "start_time": "2022-02-25T13:33:24.729Z"
   },
   {
    "duration": 67,
    "start_time": "2022-02-25T13:33:24.752Z"
   },
   {
    "duration": 22,
    "start_time": "2022-02-25T13:33:24.822Z"
   },
   {
    "duration": 49,
    "start_time": "2022-02-25T13:33:24.846Z"
   },
   {
    "duration": 28,
    "start_time": "2022-02-25T13:33:24.898Z"
   },
   {
    "duration": 22,
    "start_time": "2022-02-25T13:33:24.929Z"
   },
   {
    "duration": 37,
    "start_time": "2022-02-25T13:33:24.956Z"
   },
   {
    "duration": 17,
    "start_time": "2022-02-25T13:33:24.998Z"
   },
   {
    "duration": 18,
    "start_time": "2022-02-25T13:33:25.017Z"
   },
   {
    "duration": 12,
    "start_time": "2022-02-25T13:33:25.037Z"
   },
   {
    "duration": 51,
    "start_time": "2022-02-25T13:33:25.051Z"
   },
   {
    "duration": 15,
    "start_time": "2022-02-25T13:33:25.105Z"
   },
   {
    "duration": 13,
    "start_time": "2022-02-25T13:33:25.123Z"
   },
   {
    "duration": 12,
    "start_time": "2022-02-25T13:33:25.139Z"
   },
   {
    "duration": 42,
    "start_time": "2022-02-25T13:33:25.153Z"
   },
   {
    "duration": 14,
    "start_time": "2022-02-25T13:33:25.198Z"
   },
   {
    "duration": 18,
    "start_time": "2022-02-25T13:33:25.215Z"
   },
   {
    "duration": 23,
    "start_time": "2022-02-25T13:33:25.236Z"
   },
   {
    "duration": 45,
    "start_time": "2022-02-25T13:33:25.261Z"
   },
   {
    "duration": 4,
    "start_time": "2022-02-25T13:33:25.308Z"
   },
   {
    "duration": 11,
    "start_time": "2022-02-25T13:33:25.315Z"
   },
   {
    "duration": 31,
    "start_time": "2022-02-25T13:33:25.328Z"
   },
   {
    "duration": 48,
    "start_time": "2022-02-25T13:33:25.362Z"
   },
   {
    "duration": 10,
    "start_time": "2022-02-25T13:33:25.412Z"
   },
   {
    "duration": 10,
    "start_time": "2022-02-25T13:33:25.425Z"
   },
   {
    "duration": 10,
    "start_time": "2022-02-25T13:33:25.437Z"
   },
   {
    "duration": 61,
    "start_time": "2022-02-25T13:33:25.449Z"
   },
   {
    "duration": 25,
    "start_time": "2022-02-25T13:33:25.512Z"
   },
   {
    "duration": 25,
    "start_time": "2022-02-25T13:33:25.539Z"
   },
   {
    "duration": 44,
    "start_time": "2022-02-25T13:33:25.593Z"
   },
   {
    "duration": 26,
    "start_time": "2022-02-25T13:33:25.639Z"
   },
   {
    "duration": 51,
    "start_time": "2022-02-25T13:33:25.667Z"
   },
   {
    "duration": 45,
    "start_time": "2022-02-25T13:33:52.330Z"
   },
   {
    "duration": 42,
    "start_time": "2022-02-25T13:33:55.807Z"
   },
   {
    "duration": 24,
    "start_time": "2022-02-25T13:34:13.246Z"
   },
   {
    "duration": 375,
    "start_time": "2022-02-25T13:46:22.539Z"
   },
   {
    "duration": 312,
    "start_time": "2022-02-25T13:46:45.001Z"
   },
   {
    "duration": 5383,
    "start_time": "2022-02-25T13:46:52.223Z"
   },
   {
    "duration": 436,
    "start_time": "2022-02-25T13:47:57.988Z"
   },
   {
    "duration": 286,
    "start_time": "2022-02-25T13:51:43.777Z"
   },
   {
    "duration": 1117,
    "start_time": "2022-02-25T13:51:58.645Z"
   },
   {
    "duration": 16,
    "start_time": "2022-02-25T13:51:59.764Z"
   },
   {
    "duration": 11,
    "start_time": "2022-02-25T13:51:59.785Z"
   },
   {
    "duration": 15,
    "start_time": "2022-02-25T13:51:59.800Z"
   },
   {
    "duration": 21,
    "start_time": "2022-02-25T13:51:59.817Z"
   },
   {
    "duration": 8,
    "start_time": "2022-02-25T13:51:59.840Z"
   },
   {
    "duration": 8,
    "start_time": "2022-02-25T13:51:59.850Z"
   },
   {
    "duration": 47,
    "start_time": "2022-02-25T13:51:59.862Z"
   },
   {
    "duration": 10,
    "start_time": "2022-02-25T13:51:59.912Z"
   },
   {
    "duration": 6,
    "start_time": "2022-02-25T13:51:59.925Z"
   },
   {
    "duration": 20,
    "start_time": "2022-02-25T13:51:59.933Z"
   },
   {
    "duration": 45,
    "start_time": "2022-02-25T13:51:59.955Z"
   },
   {
    "duration": 16,
    "start_time": "2022-02-25T13:52:00.003Z"
   },
   {
    "duration": 5,
    "start_time": "2022-02-25T13:52:00.021Z"
   },
   {
    "duration": 22,
    "start_time": "2022-02-25T13:52:00.029Z"
   },
   {
    "duration": 53,
    "start_time": "2022-02-25T13:52:00.054Z"
   },
   {
    "duration": 27,
    "start_time": "2022-02-25T13:52:00.109Z"
   },
   {
    "duration": 35,
    "start_time": "2022-02-25T13:52:00.138Z"
   },
   {
    "duration": 35,
    "start_time": "2022-02-25T13:52:00.175Z"
   },
   {
    "duration": 16,
    "start_time": "2022-02-25T13:52:00.213Z"
   },
   {
    "duration": 36,
    "start_time": "2022-02-25T13:52:00.231Z"
   },
   {
    "duration": 45,
    "start_time": "2022-02-25T13:52:00.269Z"
   },
   {
    "duration": 15,
    "start_time": "2022-02-25T13:52:00.321Z"
   },
   {
    "duration": 38,
    "start_time": "2022-02-25T13:52:00.339Z"
   },
   {
    "duration": 34,
    "start_time": "2022-02-25T13:52:00.380Z"
   },
   {
    "duration": 18,
    "start_time": "2022-02-25T13:52:00.417Z"
   },
   {
    "duration": 25,
    "start_time": "2022-02-25T13:52:00.437Z"
   },
   {
    "duration": 24,
    "start_time": "2022-02-25T13:52:00.465Z"
   },
   {
    "duration": 19,
    "start_time": "2022-02-25T13:52:00.493Z"
   },
   {
    "duration": 45,
    "start_time": "2022-02-25T13:52:00.515Z"
   },
   {
    "duration": 27,
    "start_time": "2022-02-25T13:52:00.563Z"
   },
   {
    "duration": 33,
    "start_time": "2022-02-25T13:52:00.592Z"
   },
   {
    "duration": 23,
    "start_time": "2022-02-25T13:52:00.628Z"
   },
   {
    "duration": 31,
    "start_time": "2022-02-25T13:52:00.654Z"
   },
   {
    "duration": 29,
    "start_time": "2022-02-25T13:52:00.687Z"
   },
   {
    "duration": 12,
    "start_time": "2022-02-25T13:52:00.718Z"
   },
   {
    "duration": 10,
    "start_time": "2022-02-25T13:52:00.733Z"
   },
   {
    "duration": 29,
    "start_time": "2022-02-25T13:52:00.746Z"
   },
   {
    "duration": 28,
    "start_time": "2022-02-25T13:52:00.778Z"
   },
   {
    "duration": 94,
    "start_time": "2022-02-25T13:52:00.809Z"
   },
   {
    "duration": 23,
    "start_time": "2022-02-25T13:52:00.905Z"
   },
   {
    "duration": 18,
    "start_time": "2022-02-25T13:52:00.930Z"
   },
   {
    "duration": 42,
    "start_time": "2022-02-25T13:52:00.951Z"
   },
   {
    "duration": 25,
    "start_time": "2022-02-25T13:52:00.997Z"
   },
   {
    "duration": 28,
    "start_time": "2022-02-25T13:52:01.025Z"
   },
   {
    "duration": 1203,
    "start_time": "2022-02-25T13:52:01.056Z"
   },
   {
    "duration": 37,
    "start_time": "2022-02-25T13:52:02.262Z"
   },
   {
    "duration": 38,
    "start_time": "2022-02-25T13:52:02.301Z"
   },
   {
    "duration": 39,
    "start_time": "2022-02-25T13:52:02.342Z"
   },
   {
    "duration": 25,
    "start_time": "2022-02-25T13:54:15.674Z"
   },
   {
    "duration": 23,
    "start_time": "2022-02-25T13:54:28.435Z"
   },
   {
    "duration": 31,
    "start_time": "2022-02-25T15:22:38.674Z"
   },
   {
    "duration": 761,
    "start_time": "2022-02-25T15:23:31.218Z"
   },
   {
    "duration": 23,
    "start_time": "2022-02-25T15:23:45.574Z"
   },
   {
    "duration": 411,
    "start_time": "2022-02-25T15:24:30.483Z"
   },
   {
    "duration": 14,
    "start_time": "2022-02-25T15:24:38.741Z"
   },
   {
    "duration": 12,
    "start_time": "2022-02-25T15:24:50.743Z"
   },
   {
    "duration": 26,
    "start_time": "2022-02-25T16:33:31.893Z"
   },
   {
    "duration": 25,
    "start_time": "2022-02-25T16:33:45.129Z"
   },
   {
    "duration": 16,
    "start_time": "2022-02-25T17:17:30.069Z"
   },
   {
    "duration": 12,
    "start_time": "2022-02-25T17:24:17.708Z"
   },
   {
    "duration": 26,
    "start_time": "2022-02-25T17:28:48.232Z"
   },
   {
    "duration": 5,
    "start_time": "2022-02-25T18:02:23.121Z"
   },
   {
    "duration": 5,
    "start_time": "2022-02-25T18:02:25.080Z"
   },
   {
    "duration": 5,
    "start_time": "2022-02-25T18:02:26.200Z"
   },
   {
    "duration": 5,
    "start_time": "2022-02-25T18:02:31.842Z"
   },
   {
    "duration": 290,
    "start_time": "2022-02-25T20:17:25.276Z"
   },
   {
    "duration": 9,
    "start_time": "2022-02-25T20:17:33.753Z"
   },
   {
    "duration": 7,
    "start_time": "2022-02-25T20:18:13.776Z"
   },
   {
    "duration": 6,
    "start_time": "2022-02-25T20:18:15.730Z"
   },
   {
    "duration": 7,
    "start_time": "2022-02-25T20:18:28.430Z"
   },
   {
    "duration": 10,
    "start_time": "2022-02-25T20:18:48.352Z"
   },
   {
    "duration": 8,
    "start_time": "2022-02-25T20:19:13.369Z"
   },
   {
    "duration": 294,
    "start_time": "2022-02-25T20:19:34.227Z"
   },
   {
    "duration": 8,
    "start_time": "2022-02-25T20:19:40.596Z"
   },
   {
    "duration": 10,
    "start_time": "2022-02-25T20:20:20.210Z"
   },
   {
    "duration": 10,
    "start_time": "2022-02-25T20:21:42.759Z"
   },
   {
    "duration": 7120,
    "start_time": "2022-02-25T20:21:53.331Z"
   },
   {
    "duration": 8,
    "start_time": "2022-02-25T20:22:10.587Z"
   },
   {
    "duration": 9,
    "start_time": "2022-02-25T20:22:22.491Z"
   },
   {
    "duration": 372,
    "start_time": "2022-02-26T09:53:15.193Z"
   },
   {
    "duration": 617,
    "start_time": "2022-02-26T12:12:01.780Z"
   },
   {
    "duration": 11,
    "start_time": "2022-02-26T12:12:02.398Z"
   },
   {
    "duration": 15,
    "start_time": "2022-02-26T12:12:02.411Z"
   },
   {
    "duration": 9,
    "start_time": "2022-02-26T12:12:02.428Z"
   },
   {
    "duration": 13,
    "start_time": "2022-02-26T12:12:02.438Z"
   },
   {
    "duration": 8,
    "start_time": "2022-02-26T12:12:02.453Z"
   },
   {
    "duration": 11,
    "start_time": "2022-02-26T12:12:02.463Z"
   },
   {
    "duration": 24,
    "start_time": "2022-02-26T12:12:02.477Z"
   },
   {
    "duration": 10,
    "start_time": "2022-02-26T12:12:02.503Z"
   },
   {
    "duration": 10,
    "start_time": "2022-02-26T12:12:02.515Z"
   },
   {
    "duration": 14,
    "start_time": "2022-02-26T12:12:02.526Z"
   },
   {
    "duration": 17,
    "start_time": "2022-02-26T12:12:02.542Z"
   },
   {
    "duration": 11,
    "start_time": "2022-02-26T12:12:02.560Z"
   },
   {
    "duration": 7,
    "start_time": "2022-02-26T12:12:02.572Z"
   },
   {
    "duration": 6,
    "start_time": "2022-02-26T12:12:02.580Z"
   },
   {
    "duration": 11,
    "start_time": "2022-02-26T12:12:02.588Z"
   },
   {
    "duration": 11,
    "start_time": "2022-02-26T12:12:02.601Z"
   },
   {
    "duration": 48,
    "start_time": "2022-02-26T12:12:02.614Z"
   },
   {
    "duration": 16,
    "start_time": "2022-02-26T12:12:02.664Z"
   },
   {
    "duration": 11,
    "start_time": "2022-02-26T12:12:02.682Z"
   },
   {
    "duration": 21,
    "start_time": "2022-02-26T12:12:02.695Z"
   },
   {
    "duration": 15,
    "start_time": "2022-02-26T12:12:02.717Z"
   },
   {
    "duration": 28,
    "start_time": "2022-02-26T12:12:02.735Z"
   },
   {
    "duration": 12,
    "start_time": "2022-02-26T12:12:02.766Z"
   },
   {
    "duration": 9,
    "start_time": "2022-02-26T12:12:02.780Z"
   },
   {
    "duration": 8,
    "start_time": "2022-02-26T12:12:02.791Z"
   },
   {
    "duration": 15,
    "start_time": "2022-02-26T12:12:02.800Z"
   },
   {
    "duration": 44,
    "start_time": "2022-02-26T12:12:02.817Z"
   },
   {
    "duration": 8,
    "start_time": "2022-02-26T12:12:02.863Z"
   },
   {
    "duration": 8,
    "start_time": "2022-02-26T12:12:02.873Z"
   },
   {
    "duration": 8,
    "start_time": "2022-02-26T12:12:02.883Z"
   },
   {
    "duration": 8,
    "start_time": "2022-02-26T12:12:02.893Z"
   },
   {
    "duration": 9,
    "start_time": "2022-02-26T12:12:02.903Z"
   },
   {
    "duration": 48,
    "start_time": "2022-02-26T12:12:02.914Z"
   },
   {
    "duration": 14,
    "start_time": "2022-02-26T12:12:02.963Z"
   },
   {
    "duration": 4,
    "start_time": "2022-02-26T12:12:02.978Z"
   },
   {
    "duration": 5,
    "start_time": "2022-02-26T12:12:02.984Z"
   },
   {
    "duration": 17,
    "start_time": "2022-02-26T12:12:02.990Z"
   },
   {
    "duration": 13,
    "start_time": "2022-02-26T12:12:03.008Z"
   },
   {
    "duration": 8,
    "start_time": "2022-02-26T12:12:03.059Z"
   },
   {
    "duration": 12,
    "start_time": "2022-02-26T12:12:03.069Z"
   },
   {
    "duration": 11,
    "start_time": "2022-02-26T12:12:03.083Z"
   },
   {
    "duration": 31,
    "start_time": "2022-02-26T12:12:03.096Z"
   },
   {
    "duration": 15,
    "start_time": "2022-02-26T12:12:03.128Z"
   },
   {
    "duration": 19,
    "start_time": "2022-02-26T12:12:03.145Z"
   },
   {
    "duration": 16,
    "start_time": "2022-02-26T12:12:03.165Z"
   },
   {
    "duration": 15,
    "start_time": "2022-02-26T12:12:03.182Z"
   },
   {
    "duration": 5,
    "start_time": "2022-02-26T12:12:03.199Z"
   },
   {
    "duration": 16,
    "start_time": "2022-02-26T12:12:03.206Z"
   },
   {
    "duration": 16,
    "start_time": "2022-02-26T12:12:03.259Z"
   },
   {
    "duration": 280,
    "start_time": "2022-02-26T14:04:55.882Z"
   },
   {
    "duration": 18,
    "start_time": "2022-02-26T14:05:05.076Z"
   },
   {
    "duration": 16,
    "start_time": "2022-02-26T14:10:59.458Z"
   },
   {
    "duration": 16,
    "start_time": "2022-02-26T14:21:03.309Z"
   },
   {
    "duration": 17,
    "start_time": "2022-02-26T14:22:12.993Z"
   },
   {
    "duration": 16,
    "start_time": "2022-02-26T14:22:20.533Z"
   },
   {
    "duration": 17,
    "start_time": "2022-02-26T14:22:25.667Z"
   },
   {
    "duration": 14,
    "start_time": "2022-02-26T14:22:41.919Z"
   },
   {
    "duration": 12,
    "start_time": "2022-02-26T14:23:15.252Z"
   },
   {
    "duration": 9,
    "start_time": "2022-02-26T14:23:23.104Z"
   },
   {
    "duration": 17,
    "start_time": "2022-02-26T14:23:38.960Z"
   },
   {
    "duration": 3,
    "start_time": "2022-02-26T14:56:09.492Z"
   },
   {
    "duration": 4,
    "start_time": "2022-02-26T14:56:20.571Z"
   },
   {
    "duration": 224,
    "start_time": "2022-02-26T14:57:23.394Z"
   },
   {
    "duration": 4902,
    "start_time": "2022-02-26T14:58:28.791Z"
   },
   {
    "duration": 8,
    "start_time": "2022-02-26T14:59:08.098Z"
   },
   {
    "duration": 366,
    "start_time": "2022-02-26T15:00:12.708Z"
   },
   {
    "duration": 8,
    "start_time": "2022-02-26T15:00:44.370Z"
   },
   {
    "duration": -1509,
    "start_time": "2022-02-26T15:05:04.082Z"
   },
   {
    "duration": 6,
    "start_time": "2022-02-26T15:06:42.821Z"
   },
   {
    "duration": 7,
    "start_time": "2022-02-26T15:07:11.684Z"
   },
   {
    "duration": 10,
    "start_time": "2022-02-26T15:07:31.129Z"
   },
   {
    "duration": 10,
    "start_time": "2022-02-26T15:07:36.884Z"
   },
   {
    "duration": 222,
    "start_time": "2022-02-26T15:09:46.993Z"
   },
   {
    "duration": 7,
    "start_time": "2022-02-26T15:09:55.943Z"
   },
   {
    "duration": 6,
    "start_time": "2022-02-26T15:10:09.895Z"
   },
   {
    "duration": 224,
    "start_time": "2022-02-26T15:12:02.567Z"
   },
   {
    "duration": 8,
    "start_time": "2022-02-26T15:12:18.191Z"
   },
   {
    "duration": 7,
    "start_time": "2022-02-26T15:12:39.482Z"
   },
   {
    "duration": 10,
    "start_time": "2022-02-26T15:13:01.784Z"
   },
   {
    "duration": 13,
    "start_time": "2022-02-26T15:13:33.990Z"
   },
   {
    "duration": 9,
    "start_time": "2022-02-26T15:13:45.566Z"
   },
   {
    "duration": 228,
    "start_time": "2022-02-26T15:15:30.763Z"
   },
   {
    "duration": 8,
    "start_time": "2022-02-26T15:15:45.441Z"
   },
   {
    "duration": 12,
    "start_time": "2022-02-26T15:15:51.241Z"
   },
   {
    "duration": 11,
    "start_time": "2022-02-26T15:23:14.683Z"
   },
   {
    "duration": 9,
    "start_time": "2022-02-26T15:25:42.760Z"
   },
   {
    "duration": 11,
    "start_time": "2022-02-26T15:25:45.145Z"
   },
   {
    "duration": 3,
    "start_time": "2022-02-26T15:33:40.724Z"
   },
   {
    "duration": 4,
    "start_time": "2022-02-26T15:34:40.505Z"
   },
   {
    "duration": 24,
    "start_time": "2022-02-26T16:51:36.924Z"
   },
   {
    "duration": 26,
    "start_time": "2022-02-26T16:52:02.763Z"
   },
   {
    "duration": 20,
    "start_time": "2022-02-26T16:52:16.335Z"
   },
   {
    "duration": 20,
    "start_time": "2022-02-26T18:50:18.949Z"
   },
   {
    "duration": 17,
    "start_time": "2022-02-26T18:50:55.722Z"
   },
   {
    "duration": 18,
    "start_time": "2022-02-26T18:51:04.947Z"
   },
   {
    "duration": 17,
    "start_time": "2022-02-26T18:51:15.892Z"
   },
   {
    "duration": 18,
    "start_time": "2022-02-26T18:51:39.984Z"
   },
   {
    "duration": 17,
    "start_time": "2022-02-26T18:53:09.767Z"
   },
   {
    "duration": 18,
    "start_time": "2022-02-26T18:53:21.846Z"
   },
   {
    "duration": 17,
    "start_time": "2022-02-26T18:53:27.913Z"
   },
   {
    "duration": 16,
    "start_time": "2022-02-26T18:53:31.648Z"
   },
   {
    "duration": 13,
    "start_time": "2022-02-26T18:53:37.857Z"
   },
   {
    "duration": 677,
    "start_time": "2022-02-26T21:17:00.221Z"
   },
   {
    "duration": 11,
    "start_time": "2022-02-26T21:17:00.900Z"
   },
   {
    "duration": 23,
    "start_time": "2022-02-26T21:17:00.913Z"
   },
   {
    "duration": 21,
    "start_time": "2022-02-26T21:17:00.939Z"
   },
   {
    "duration": 14,
    "start_time": "2022-02-26T21:17:00.962Z"
   },
   {
    "duration": 9,
    "start_time": "2022-02-26T21:17:00.978Z"
   },
   {
    "duration": 8,
    "start_time": "2022-02-26T21:17:00.989Z"
   },
   {
    "duration": 24,
    "start_time": "2022-02-26T21:17:01.000Z"
   },
   {
    "duration": 6,
    "start_time": "2022-02-26T21:17:01.027Z"
   },
   {
    "duration": 5,
    "start_time": "2022-02-26T21:17:01.059Z"
   },
   {
    "duration": 21,
    "start_time": "2022-02-26T21:17:01.066Z"
   },
   {
    "duration": 9,
    "start_time": "2022-02-26T21:17:01.089Z"
   },
   {
    "duration": 11,
    "start_time": "2022-02-26T21:17:01.100Z"
   },
   {
    "duration": 3,
    "start_time": "2022-02-26T21:17:01.113Z"
   },
   {
    "duration": 6,
    "start_time": "2022-02-26T21:17:01.118Z"
   },
   {
    "duration": 48,
    "start_time": "2022-02-26T21:17:01.126Z"
   },
   {
    "duration": 20,
    "start_time": "2022-02-26T21:17:01.176Z"
   },
   {
    "duration": 19,
    "start_time": "2022-02-26T21:17:01.198Z"
   },
   {
    "duration": 42,
    "start_time": "2022-02-26T21:17:01.219Z"
   },
   {
    "duration": 10,
    "start_time": "2022-02-26T21:17:01.263Z"
   },
   {
    "duration": 20,
    "start_time": "2022-02-26T21:17:01.275Z"
   },
   {
    "duration": 15,
    "start_time": "2022-02-26T21:17:01.297Z"
   },
   {
    "duration": 10,
    "start_time": "2022-02-26T21:17:01.315Z"
   },
   {
    "duration": 39,
    "start_time": "2022-02-26T21:17:01.328Z"
   },
   {
    "duration": 15,
    "start_time": "2022-02-26T21:17:01.370Z"
   },
   {
    "duration": 11,
    "start_time": "2022-02-26T21:17:01.387Z"
   },
   {
    "duration": 16,
    "start_time": "2022-02-26T21:17:01.400Z"
   },
   {
    "duration": 37,
    "start_time": "2022-02-26T21:17:01.418Z"
   },
   {
    "duration": 13,
    "start_time": "2022-02-26T21:17:01.457Z"
   },
   {
    "duration": 15,
    "start_time": "2022-02-26T21:17:01.471Z"
   },
   {
    "duration": 26,
    "start_time": "2022-02-26T21:17:01.488Z"
   },
   {
    "duration": 25,
    "start_time": "2022-02-26T21:17:01.516Z"
   },
   {
    "duration": 48,
    "start_time": "2022-02-26T21:17:01.543Z"
   },
   {
    "duration": 19,
    "start_time": "2022-02-26T21:17:01.593Z"
   },
   {
    "duration": 19,
    "start_time": "2022-02-26T21:17:01.614Z"
   },
   {
    "duration": 8,
    "start_time": "2022-02-26T21:17:01.635Z"
   },
   {
    "duration": 5,
    "start_time": "2022-02-26T21:17:01.645Z"
   },
   {
    "duration": 18,
    "start_time": "2022-02-26T21:17:01.652Z"
   },
   {
    "duration": 25,
    "start_time": "2022-02-26T21:17:01.672Z"
   },
   {
    "duration": 26,
    "start_time": "2022-02-26T21:17:01.699Z"
   },
   {
    "duration": 11,
    "start_time": "2022-02-26T21:17:01.727Z"
   },
   {
    "duration": 8,
    "start_time": "2022-02-26T21:17:01.739Z"
   },
   {
    "duration": 23,
    "start_time": "2022-02-26T21:17:01.748Z"
   },
   {
    "duration": 30,
    "start_time": "2022-02-26T21:17:01.772Z"
   },
   {
    "duration": 16,
    "start_time": "2022-02-26T21:17:01.804Z"
   },
   {
    "duration": 24,
    "start_time": "2022-02-26T21:17:01.822Z"
   },
   {
    "duration": 27,
    "start_time": "2022-02-26T21:17:01.848Z"
   },
   {
    "duration": 23,
    "start_time": "2022-02-26T21:17:01.877Z"
   },
   {
    "duration": 595,
    "start_time": "2022-03-07T12:43:49.625Z"
   },
   {
    "duration": 65,
    "start_time": "2022-03-07T12:43:50.222Z"
   },
   {
    "duration": 11,
    "start_time": "2022-03-07T12:43:50.290Z"
   },
   {
    "duration": 8,
    "start_time": "2022-03-07T12:43:50.303Z"
   },
   {
    "duration": 7,
    "start_time": "2022-03-07T12:43:50.312Z"
   },
   {
    "duration": 15,
    "start_time": "2022-03-07T12:43:50.320Z"
   },
   {
    "duration": 27,
    "start_time": "2022-03-07T12:43:50.336Z"
   },
   {
    "duration": 3,
    "start_time": "2022-03-07T12:43:50.365Z"
   },
   {
    "duration": 15,
    "start_time": "2022-03-07T12:43:50.370Z"
   },
   {
    "duration": 6,
    "start_time": "2022-03-07T12:43:50.387Z"
   },
   {
    "duration": 6,
    "start_time": "2022-03-07T12:43:50.394Z"
   },
   {
    "duration": 15,
    "start_time": "2022-03-07T12:43:50.401Z"
   },
   {
    "duration": 6,
    "start_time": "2022-03-07T12:43:50.417Z"
   },
   {
    "duration": 39,
    "start_time": "2022-03-07T12:43:50.425Z"
   },
   {
    "duration": 4,
    "start_time": "2022-03-07T12:43:50.466Z"
   },
   {
    "duration": 10,
    "start_time": "2022-03-07T12:43:50.471Z"
   },
   {
    "duration": 13,
    "start_time": "2022-03-07T12:43:50.482Z"
   },
   {
    "duration": 11,
    "start_time": "2022-03-07T12:43:50.496Z"
   },
   {
    "duration": 18,
    "start_time": "2022-03-07T12:43:50.508Z"
   },
   {
    "duration": 15,
    "start_time": "2022-03-07T12:43:50.559Z"
   },
   {
    "duration": 10,
    "start_time": "2022-03-07T12:43:50.575Z"
   },
   {
    "duration": 22,
    "start_time": "2022-03-07T12:43:50.587Z"
   },
   {
    "duration": 15,
    "start_time": "2022-03-07T12:43:50.612Z"
   },
   {
    "duration": 31,
    "start_time": "2022-03-07T12:43:50.629Z"
   },
   {
    "duration": 17,
    "start_time": "2022-03-07T12:43:50.662Z"
   },
   {
    "duration": 8,
    "start_time": "2022-03-07T12:43:50.682Z"
   },
   {
    "duration": 9,
    "start_time": "2022-03-07T12:43:50.692Z"
   },
   {
    "duration": 16,
    "start_time": "2022-03-07T12:43:50.702Z"
   },
   {
    "duration": 11,
    "start_time": "2022-03-07T12:43:50.720Z"
   },
   {
    "duration": 11,
    "start_time": "2022-03-07T12:43:50.760Z"
   },
   {
    "duration": 10,
    "start_time": "2022-03-07T12:43:50.773Z"
   },
   {
    "duration": 10,
    "start_time": "2022-03-07T12:43:50.784Z"
   },
   {
    "duration": 13,
    "start_time": "2022-03-07T12:43:50.795Z"
   },
   {
    "duration": 12,
    "start_time": "2022-03-07T12:43:50.810Z"
   },
   {
    "duration": 42,
    "start_time": "2022-03-07T12:43:50.823Z"
   },
   {
    "duration": 22,
    "start_time": "2022-03-07T12:43:50.868Z"
   },
   {
    "duration": 5,
    "start_time": "2022-03-07T12:43:50.892Z"
   },
   {
    "duration": 8,
    "start_time": "2022-03-07T12:43:50.899Z"
   },
   {
    "duration": 18,
    "start_time": "2022-03-07T12:43:50.908Z"
   },
   {
    "duration": 38,
    "start_time": "2022-03-07T12:43:50.927Z"
   },
   {
    "duration": 7,
    "start_time": "2022-03-07T12:43:50.967Z"
   },
   {
    "duration": 6,
    "start_time": "2022-03-07T12:43:50.976Z"
   },
   {
    "duration": 9,
    "start_time": "2022-03-07T12:43:50.984Z"
   },
   {
    "duration": 22,
    "start_time": "2022-03-07T12:43:50.995Z"
   },
   {
    "duration": 19,
    "start_time": "2022-03-07T12:43:51.019Z"
   },
   {
    "duration": 35,
    "start_time": "2022-03-07T12:43:51.039Z"
   },
   {
    "duration": 18,
    "start_time": "2022-03-07T12:43:51.075Z"
   },
   {
    "duration": 19,
    "start_time": "2022-03-07T12:43:51.094Z"
   },
   {
    "duration": 48,
    "start_time": "2022-03-07T12:43:51.115Z"
   },
   {
    "duration": 81,
    "start_time": "2022-03-07T12:45:03.454Z"
   },
   {
    "duration": 92,
    "start_time": "2022-03-07T12:45:09.421Z"
   },
   {
    "duration": 74,
    "start_time": "2022-03-07T12:45:15.458Z"
   },
   {
    "duration": 81,
    "start_time": "2022-03-07T12:45:41.234Z"
   },
   {
    "duration": 73,
    "start_time": "2022-03-07T12:45:48.318Z"
   },
   {
    "duration": 76,
    "start_time": "2022-03-07T12:46:36.544Z"
   },
   {
    "duration": 74,
    "start_time": "2022-03-07T12:46:55.644Z"
   },
   {
    "duration": 665,
    "start_time": "2022-03-07T12:57:17.463Z"
   },
   {
    "duration": 63,
    "start_time": "2022-03-07T12:57:18.130Z"
   },
   {
    "duration": 11,
    "start_time": "2022-03-07T12:57:18.195Z"
   },
   {
    "duration": 19,
    "start_time": "2022-03-07T12:57:18.208Z"
   },
   {
    "duration": 8,
    "start_time": "2022-03-07T12:57:18.229Z"
   },
   {
    "duration": 39,
    "start_time": "2022-03-07T12:57:18.239Z"
   },
   {
    "duration": 10,
    "start_time": "2022-03-07T12:57:18.279Z"
   },
   {
    "duration": 14,
    "start_time": "2022-03-07T12:57:18.292Z"
   },
   {
    "duration": 30,
    "start_time": "2022-03-07T12:57:18.308Z"
   },
   {
    "duration": 5,
    "start_time": "2022-03-07T12:57:18.339Z"
   },
   {
    "duration": 16,
    "start_time": "2022-03-07T12:57:18.346Z"
   },
   {
    "duration": 17,
    "start_time": "2022-03-07T12:57:18.364Z"
   },
   {
    "duration": 10,
    "start_time": "2022-03-07T12:57:18.383Z"
   },
   {
    "duration": 19,
    "start_time": "2022-03-07T12:57:18.394Z"
   },
   {
    "duration": 13,
    "start_time": "2022-03-07T12:57:18.415Z"
   },
   {
    "duration": 9,
    "start_time": "2022-03-07T12:57:18.429Z"
   },
   {
    "duration": 18,
    "start_time": "2022-03-07T12:57:18.439Z"
   },
   {
    "duration": 12,
    "start_time": "2022-03-07T12:57:18.459Z"
   },
   {
    "duration": 16,
    "start_time": "2022-03-07T12:57:18.473Z"
   },
   {
    "duration": 13,
    "start_time": "2022-03-07T12:57:18.491Z"
   },
   {
    "duration": 10,
    "start_time": "2022-03-07T12:57:18.506Z"
   },
   {
    "duration": 49,
    "start_time": "2022-03-07T12:57:18.518Z"
   },
   {
    "duration": 15,
    "start_time": "2022-03-07T12:57:18.571Z"
   },
   {
    "duration": 8,
    "start_time": "2022-03-07T12:57:18.589Z"
   },
   {
    "duration": 20,
    "start_time": "2022-03-07T12:57:18.599Z"
   },
   {
    "duration": 20,
    "start_time": "2022-03-07T12:57:18.621Z"
   },
   {
    "duration": 21,
    "start_time": "2022-03-07T12:57:18.643Z"
   },
   {
    "duration": 13,
    "start_time": "2022-03-07T12:57:18.666Z"
   },
   {
    "duration": 10,
    "start_time": "2022-03-07T12:57:18.681Z"
   },
   {
    "duration": 8,
    "start_time": "2022-03-07T12:57:18.693Z"
   },
   {
    "duration": 9,
    "start_time": "2022-03-07T12:57:18.703Z"
   },
   {
    "duration": 48,
    "start_time": "2022-03-07T12:57:18.714Z"
   },
   {
    "duration": 14,
    "start_time": "2022-03-07T12:57:18.764Z"
   },
   {
    "duration": 13,
    "start_time": "2022-03-07T12:57:18.780Z"
   },
   {
    "duration": 12,
    "start_time": "2022-03-07T12:57:18.795Z"
   },
   {
    "duration": 12,
    "start_time": "2022-03-07T12:57:18.809Z"
   },
   {
    "duration": 4,
    "start_time": "2022-03-07T12:57:18.860Z"
   },
   {
    "duration": 5,
    "start_time": "2022-03-07T12:57:18.866Z"
   },
   {
    "duration": 17,
    "start_time": "2022-03-07T12:57:18.873Z"
   },
   {
    "duration": 13,
    "start_time": "2022-03-07T12:57:18.892Z"
   },
   {
    "duration": 8,
    "start_time": "2022-03-07T12:57:18.907Z"
   },
   {
    "duration": 3,
    "start_time": "2022-03-07T12:57:18.916Z"
   },
   {
    "duration": 40,
    "start_time": "2022-03-07T12:57:18.921Z"
   },
   {
    "duration": 18,
    "start_time": "2022-03-07T12:57:18.962Z"
   },
   {
    "duration": 13,
    "start_time": "2022-03-07T12:57:18.982Z"
   },
   {
    "duration": 17,
    "start_time": "2022-03-07T12:57:18.997Z"
   },
   {
    "duration": 52,
    "start_time": "2022-03-07T12:57:19.016Z"
   },
   {
    "duration": 26,
    "start_time": "2022-03-07T12:57:19.070Z"
   },
   {
    "duration": 25,
    "start_time": "2022-03-07T12:57:19.098Z"
   },
   {
    "duration": 3,
    "start_time": "2022-03-07T12:57:40.459Z"
   },
   {
    "duration": 12,
    "start_time": "2022-03-07T13:25:45.136Z"
   },
   {
    "duration": 12,
    "start_time": "2022-03-07T13:25:47.592Z"
   },
   {
    "duration": 11,
    "start_time": "2022-03-07T13:31:47.982Z"
   },
   {
    "duration": 605,
    "start_time": "2022-03-07T13:32:11.043Z"
   },
   {
    "duration": 65,
    "start_time": "2022-03-07T13:32:11.650Z"
   },
   {
    "duration": 11,
    "start_time": "2022-03-07T13:32:11.717Z"
   },
   {
    "duration": 31,
    "start_time": "2022-03-07T13:32:11.730Z"
   },
   {
    "duration": 8,
    "start_time": "2022-03-07T13:32:11.763Z"
   },
   {
    "duration": 20,
    "start_time": "2022-03-07T13:32:11.772Z"
   },
   {
    "duration": 10,
    "start_time": "2022-03-07T13:32:11.793Z"
   },
   {
    "duration": 10,
    "start_time": "2022-03-07T13:32:11.805Z"
   },
   {
    "duration": 16,
    "start_time": "2022-03-07T13:32:11.817Z"
   },
   {
    "duration": 29,
    "start_time": "2022-03-07T13:32:11.836Z"
   },
   {
    "duration": 5,
    "start_time": "2022-03-07T13:32:11.867Z"
   },
   {
    "duration": 17,
    "start_time": "2022-03-07T13:32:11.873Z"
   },
   {
    "duration": 7,
    "start_time": "2022-03-07T13:32:11.891Z"
   },
   {
    "duration": 11,
    "start_time": "2022-03-07T13:32:11.899Z"
   },
   {
    "duration": 4,
    "start_time": "2022-03-07T13:32:11.913Z"
   },
   {
    "duration": 41,
    "start_time": "2022-03-07T13:32:11.919Z"
   },
   {
    "duration": 19,
    "start_time": "2022-03-07T13:32:11.962Z"
   },
   {
    "duration": 16,
    "start_time": "2022-03-07T13:32:11.984Z"
   },
   {
    "duration": 13,
    "start_time": "2022-03-07T13:32:12.002Z"
   },
   {
    "duration": 43,
    "start_time": "2022-03-07T13:32:12.017Z"
   },
   {
    "duration": 15,
    "start_time": "2022-03-07T13:32:12.062Z"
   },
   {
    "duration": 10,
    "start_time": "2022-03-07T13:32:12.079Z"
   },
   {
    "duration": 20,
    "start_time": "2022-03-07T13:32:12.091Z"
   },
   {
    "duration": 15,
    "start_time": "2022-03-07T13:32:12.113Z"
   },
   {
    "duration": 34,
    "start_time": "2022-03-07T13:32:12.129Z"
   },
   {
    "duration": 11,
    "start_time": "2022-03-07T13:32:12.165Z"
   },
   {
    "duration": 8,
    "start_time": "2022-03-07T13:32:12.180Z"
   },
   {
    "duration": 8,
    "start_time": "2022-03-07T13:32:12.190Z"
   },
   {
    "duration": 14,
    "start_time": "2022-03-07T13:32:12.199Z"
   },
   {
    "duration": 10,
    "start_time": "2022-03-07T13:32:12.214Z"
   },
   {
    "duration": 41,
    "start_time": "2022-03-07T13:32:12.226Z"
   },
   {
    "duration": 14,
    "start_time": "2022-03-07T13:32:12.269Z"
   },
   {
    "duration": 10,
    "start_time": "2022-03-07T13:32:12.284Z"
   },
   {
    "duration": 17,
    "start_time": "2022-03-07T13:32:12.296Z"
   },
   {
    "duration": 13,
    "start_time": "2022-03-07T13:32:12.315Z"
   },
   {
    "duration": 32,
    "start_time": "2022-03-07T13:32:12.329Z"
   },
   {
    "duration": 13,
    "start_time": "2022-03-07T13:32:12.362Z"
   },
   {
    "duration": 3,
    "start_time": "2022-03-07T13:32:12.376Z"
   },
   {
    "duration": 5,
    "start_time": "2022-03-07T13:32:12.381Z"
   },
   {
    "duration": 18,
    "start_time": "2022-03-07T13:32:12.388Z"
   },
   {
    "duration": 15,
    "start_time": "2022-03-07T13:32:12.407Z"
   },
   {
    "duration": 41,
    "start_time": "2022-03-07T13:32:12.423Z"
   },
   {
    "duration": 3,
    "start_time": "2022-03-07T13:32:12.466Z"
   },
   {
    "duration": 7,
    "start_time": "2022-03-07T13:32:12.470Z"
   },
   {
    "duration": 18,
    "start_time": "2022-03-07T13:32:12.478Z"
   },
   {
    "duration": 13,
    "start_time": "2022-03-07T13:32:12.498Z"
   },
   {
    "duration": 50,
    "start_time": "2022-03-07T13:32:12.513Z"
   },
   {
    "duration": 18,
    "start_time": "2022-03-07T13:32:12.564Z"
   },
   {
    "duration": 18,
    "start_time": "2022-03-07T13:32:12.584Z"
   },
   {
    "duration": 19,
    "start_time": "2022-03-07T13:32:12.604Z"
   },
   {
    "duration": 13,
    "start_time": "2022-03-07T13:35:27.214Z"
   },
   {
    "duration": 13,
    "start_time": "2022-03-07T13:35:32.577Z"
   },
   {
    "duration": 11,
    "start_time": "2022-03-07T13:35:36.451Z"
   },
   {
    "duration": 309,
    "start_time": "2022-03-07T13:49:56.084Z"
   },
   {
    "duration": 21,
    "start_time": "2022-03-07T13:50:26.038Z"
   },
   {
    "duration": 19,
    "start_time": "2022-03-07T13:50:38.446Z"
   },
   {
    "duration": 19,
    "start_time": "2022-03-07T13:50:50.658Z"
   },
   {
    "duration": 14,
    "start_time": "2022-03-07T13:51:00.552Z"
   },
   {
    "duration": 5,
    "start_time": "2022-03-07T13:52:16.033Z"
   },
   {
    "duration": 84,
    "start_time": "2022-03-07T14:25:06.191Z"
   },
   {
    "duration": 221,
    "start_time": "2022-03-07T14:30:07.569Z"
   },
   {
    "duration": 25,
    "start_time": "2022-03-07T14:30:47.504Z"
   },
   {
    "duration": 13,
    "start_time": "2022-03-07T14:31:14.677Z"
   },
   {
    "duration": 557,
    "start_time": "2022-03-07T14:32:08.709Z"
   },
   {
    "duration": 63,
    "start_time": "2022-03-07T14:32:09.268Z"
   },
   {
    "duration": 12,
    "start_time": "2022-03-07T14:32:09.333Z"
   },
   {
    "duration": 18,
    "start_time": "2022-03-07T14:32:09.347Z"
   },
   {
    "duration": 8,
    "start_time": "2022-03-07T14:32:09.367Z"
   },
   {
    "duration": 18,
    "start_time": "2022-03-07T14:32:09.376Z"
   },
   {
    "duration": 19,
    "start_time": "2022-03-07T14:32:09.395Z"
   },
   {
    "duration": 4,
    "start_time": "2022-03-07T14:32:09.415Z"
   },
   {
    "duration": 40,
    "start_time": "2022-03-07T14:32:09.421Z"
   },
   {
    "duration": 14,
    "start_time": "2022-03-07T14:32:09.463Z"
   },
   {
    "duration": 6,
    "start_time": "2022-03-07T14:32:09.479Z"
   },
   {
    "duration": 5,
    "start_time": "2022-03-07T14:32:09.487Z"
   },
   {
    "duration": 15,
    "start_time": "2022-03-07T14:32:09.494Z"
   },
   {
    "duration": 8,
    "start_time": "2022-03-07T14:32:09.511Z"
   },
   {
    "duration": 47,
    "start_time": "2022-03-07T14:32:09.521Z"
   },
   {
    "duration": 4,
    "start_time": "2022-03-07T14:32:09.570Z"
   },
   {
    "duration": 8,
    "start_time": "2022-03-07T14:32:09.575Z"
   },
   {
    "duration": 299,
    "start_time": "2022-03-07T14:32:09.584Z"
   },
   {
    "duration": -1085,
    "start_time": "2022-03-07T14:32:10.971Z"
   },
   {
    "duration": -1090,
    "start_time": "2022-03-07T14:32:10.977Z"
   },
   {
    "duration": -1094,
    "start_time": "2022-03-07T14:32:10.982Z"
   },
   {
    "duration": -1098,
    "start_time": "2022-03-07T14:32:10.987Z"
   },
   {
    "duration": -1104,
    "start_time": "2022-03-07T14:32:10.994Z"
   },
   {
    "duration": -1107,
    "start_time": "2022-03-07T14:32:10.998Z"
   },
   {
    "duration": -1111,
    "start_time": "2022-03-07T14:32:11.004Z"
   },
   {
    "duration": -1116,
    "start_time": "2022-03-07T14:32:11.010Z"
   },
   {
    "duration": -1120,
    "start_time": "2022-03-07T14:32:11.015Z"
   },
   {
    "duration": -1124,
    "start_time": "2022-03-07T14:32:11.020Z"
   },
   {
    "duration": -1128,
    "start_time": "2022-03-07T14:32:11.026Z"
   },
   {
    "duration": -1132,
    "start_time": "2022-03-07T14:32:11.031Z"
   },
   {
    "duration": -1136,
    "start_time": "2022-03-07T14:32:11.036Z"
   },
   {
    "duration": -1141,
    "start_time": "2022-03-07T14:32:11.042Z"
   },
   {
    "duration": -1146,
    "start_time": "2022-03-07T14:32:11.048Z"
   },
   {
    "duration": -1151,
    "start_time": "2022-03-07T14:32:11.053Z"
   },
   {
    "duration": -1155,
    "start_time": "2022-03-07T14:32:11.058Z"
   },
   {
    "duration": -1183,
    "start_time": "2022-03-07T14:32:11.087Z"
   },
   {
    "duration": -1189,
    "start_time": "2022-03-07T14:32:11.094Z"
   },
   {
    "duration": -1193,
    "start_time": "2022-03-07T14:32:11.099Z"
   },
   {
    "duration": -1199,
    "start_time": "2022-03-07T14:32:11.106Z"
   },
   {
    "duration": -1203,
    "start_time": "2022-03-07T14:32:11.111Z"
   },
   {
    "duration": -1208,
    "start_time": "2022-03-07T14:32:11.117Z"
   },
   {
    "duration": -1213,
    "start_time": "2022-03-07T14:32:11.123Z"
   },
   {
    "duration": -1217,
    "start_time": "2022-03-07T14:32:11.128Z"
   },
   {
    "duration": -1221,
    "start_time": "2022-03-07T14:32:11.133Z"
   },
   {
    "duration": -1227,
    "start_time": "2022-03-07T14:32:11.140Z"
   },
   {
    "duration": -1231,
    "start_time": "2022-03-07T14:32:11.145Z"
   },
   {
    "duration": -1235,
    "start_time": "2022-03-07T14:32:11.150Z"
   },
   {
    "duration": -1239,
    "start_time": "2022-03-07T14:32:11.155Z"
   },
   {
    "duration": -1245,
    "start_time": "2022-03-07T14:32:11.161Z"
   },
   {
    "duration": -1249,
    "start_time": "2022-03-07T14:32:11.166Z"
   },
   {
    "duration": -1254,
    "start_time": "2022-03-07T14:32:11.172Z"
   },
   {
    "duration": 578,
    "start_time": "2022-03-07T14:34:05.898Z"
   },
   {
    "duration": 63,
    "start_time": "2022-03-07T14:34:06.478Z"
   },
   {
    "duration": 16,
    "start_time": "2022-03-07T14:34:06.543Z"
   },
   {
    "duration": 8,
    "start_time": "2022-03-07T14:34:06.561Z"
   },
   {
    "duration": 7,
    "start_time": "2022-03-07T14:34:06.571Z"
   },
   {
    "duration": 18,
    "start_time": "2022-03-07T14:34:06.579Z"
   },
   {
    "duration": 5,
    "start_time": "2022-03-07T14:34:06.599Z"
   },
   {
    "duration": 2,
    "start_time": "2022-03-07T14:34:06.606Z"
   },
   {
    "duration": 19,
    "start_time": "2022-03-07T14:34:06.610Z"
   },
   {
    "duration": 42,
    "start_time": "2022-03-07T14:34:06.630Z"
   },
   {
    "duration": 5,
    "start_time": "2022-03-07T14:34:06.674Z"
   },
   {
    "duration": 5,
    "start_time": "2022-03-07T14:34:06.680Z"
   },
   {
    "duration": 16,
    "start_time": "2022-03-07T14:34:06.686Z"
   },
   {
    "duration": 5,
    "start_time": "2022-03-07T14:34:06.704Z"
   },
   {
    "duration": 49,
    "start_time": "2022-03-07T14:34:06.711Z"
   },
   {
    "duration": 4,
    "start_time": "2022-03-07T14:34:06.761Z"
   },
   {
    "duration": 8,
    "start_time": "2022-03-07T14:34:06.766Z"
   },
   {
    "duration": 15,
    "start_time": "2022-03-07T14:34:06.776Z"
   },
   {
    "duration": 21,
    "start_time": "2022-03-07T14:34:06.792Z"
   },
   {
    "duration": 11,
    "start_time": "2022-03-07T14:34:06.814Z"
   },
   {
    "duration": 45,
    "start_time": "2022-03-07T14:34:06.827Z"
   },
   {
    "duration": 20,
    "start_time": "2022-03-07T14:34:06.874Z"
   },
   {
    "duration": 17,
    "start_time": "2022-03-07T14:34:06.899Z"
   },
   {
    "duration": 46,
    "start_time": "2022-03-07T14:34:06.919Z"
   },
   {
    "duration": 15,
    "start_time": "2022-03-07T14:34:06.967Z"
   },
   {
    "duration": 7,
    "start_time": "2022-03-07T14:34:06.983Z"
   },
   {
    "duration": 14,
    "start_time": "2022-03-07T14:34:06.991Z"
   },
   {
    "duration": 8,
    "start_time": "2022-03-07T14:34:07.007Z"
   },
   {
    "duration": 14,
    "start_time": "2022-03-07T14:34:07.016Z"
   },
   {
    "duration": 37,
    "start_time": "2022-03-07T14:34:07.032Z"
   },
   {
    "duration": 8,
    "start_time": "2022-03-07T14:34:07.071Z"
   },
   {
    "duration": 11,
    "start_time": "2022-03-07T14:34:07.081Z"
   },
   {
    "duration": 10,
    "start_time": "2022-03-07T14:34:07.093Z"
   },
   {
    "duration": 8,
    "start_time": "2022-03-07T14:34:07.104Z"
   },
   {
    "duration": 13,
    "start_time": "2022-03-07T14:34:07.114Z"
   },
   {
    "duration": 41,
    "start_time": "2022-03-07T14:34:07.128Z"
   },
   {
    "duration": 10,
    "start_time": "2022-03-07T14:34:07.170Z"
   },
   {
    "duration": 12,
    "start_time": "2022-03-07T14:34:07.182Z"
   },
   {
    "duration": 3,
    "start_time": "2022-03-07T14:34:07.196Z"
   },
   {
    "duration": 11,
    "start_time": "2022-03-07T14:34:07.200Z"
   },
   {
    "duration": 17,
    "start_time": "2022-03-07T14:34:07.212Z"
   },
   {
    "duration": 41,
    "start_time": "2022-03-07T14:34:07.231Z"
   },
   {
    "duration": 7,
    "start_time": "2022-03-07T14:34:07.273Z"
   },
   {
    "duration": 3,
    "start_time": "2022-03-07T14:34:07.282Z"
   },
   {
    "duration": 7,
    "start_time": "2022-03-07T14:34:07.287Z"
   },
   {
    "duration": 17,
    "start_time": "2022-03-07T14:34:07.295Z"
   },
   {
    "duration": 46,
    "start_time": "2022-03-07T14:34:07.313Z"
   },
   {
    "duration": 17,
    "start_time": "2022-03-07T14:34:07.361Z"
   },
   {
    "duration": 18,
    "start_time": "2022-03-07T14:34:07.380Z"
   },
   {
    "duration": 17,
    "start_time": "2022-03-07T14:34:07.400Z"
   },
   {
    "duration": 48,
    "start_time": "2022-03-07T14:34:07.418Z"
   },
   {
    "duration": 579,
    "start_time": "2022-03-07T14:34:53.303Z"
   },
   {
    "duration": 60,
    "start_time": "2022-03-07T14:34:53.884Z"
   },
   {
    "duration": 13,
    "start_time": "2022-03-07T14:34:53.946Z"
   },
   {
    "duration": 11,
    "start_time": "2022-03-07T14:34:53.961Z"
   },
   {
    "duration": 8,
    "start_time": "2022-03-07T14:34:53.974Z"
   },
   {
    "duration": 13,
    "start_time": "2022-03-07T14:34:53.983Z"
   },
   {
    "duration": 7,
    "start_time": "2022-03-07T14:34:53.998Z"
   },
   {
    "duration": 10,
    "start_time": "2022-03-07T14:34:54.008Z"
   },
   {
    "duration": 42,
    "start_time": "2022-03-07T14:34:54.020Z"
   },
   {
    "duration": 15,
    "start_time": "2022-03-07T14:34:54.064Z"
   },
   {
    "duration": 7,
    "start_time": "2022-03-07T14:34:54.081Z"
   },
   {
    "duration": 7,
    "start_time": "2022-03-07T14:34:54.090Z"
   },
   {
    "duration": 15,
    "start_time": "2022-03-07T14:34:54.098Z"
   },
   {
    "duration": 9,
    "start_time": "2022-03-07T14:34:54.115Z"
   },
   {
    "duration": 41,
    "start_time": "2022-03-07T14:34:54.125Z"
   },
   {
    "duration": 5,
    "start_time": "2022-03-07T14:34:54.168Z"
   },
   {
    "duration": 6,
    "start_time": "2022-03-07T14:34:54.175Z"
   },
   {
    "duration": 293,
    "start_time": "2022-03-07T14:34:54.183Z"
   },
   {
    "duration": -1109,
    "start_time": "2022-03-07T14:34:55.587Z"
   },
   {
    "duration": -1114,
    "start_time": "2022-03-07T14:34:55.593Z"
   },
   {
    "duration": -1119,
    "start_time": "2022-03-07T14:34:55.600Z"
   },
   {
    "duration": -1125,
    "start_time": "2022-03-07T14:34:55.607Z"
   },
   {
    "duration": -1129,
    "start_time": "2022-03-07T14:34:55.612Z"
   },
   {
    "duration": -1136,
    "start_time": "2022-03-07T14:34:55.620Z"
   },
   {
    "duration": -1140,
    "start_time": "2022-03-07T14:34:55.626Z"
   },
   {
    "duration": -1147,
    "start_time": "2022-03-07T14:34:55.633Z"
   },
   {
    "duration": -1151,
    "start_time": "2022-03-07T14:34:55.638Z"
   },
   {
    "duration": -1156,
    "start_time": "2022-03-07T14:34:55.644Z"
   },
   {
    "duration": -1160,
    "start_time": "2022-03-07T14:34:55.650Z"
   },
   {
    "duration": -1166,
    "start_time": "2022-03-07T14:34:55.657Z"
   },
   {
    "duration": -1171,
    "start_time": "2022-03-07T14:34:55.663Z"
   },
   {
    "duration": -1179,
    "start_time": "2022-03-07T14:34:55.672Z"
   },
   {
    "duration": -1206,
    "start_time": "2022-03-07T14:34:55.700Z"
   },
   {
    "duration": -1212,
    "start_time": "2022-03-07T14:34:55.707Z"
   },
   {
    "duration": -1217,
    "start_time": "2022-03-07T14:34:55.713Z"
   },
   {
    "duration": -1224,
    "start_time": "2022-03-07T14:34:55.720Z"
   },
   {
    "duration": -1228,
    "start_time": "2022-03-07T14:34:55.725Z"
   },
   {
    "duration": -1234,
    "start_time": "2022-03-07T14:34:55.732Z"
   },
   {
    "duration": -1239,
    "start_time": "2022-03-07T14:34:55.738Z"
   },
   {
    "duration": -1244,
    "start_time": "2022-03-07T14:34:55.744Z"
   },
   {
    "duration": -1248,
    "start_time": "2022-03-07T14:34:55.750Z"
   },
   {
    "duration": -1252,
    "start_time": "2022-03-07T14:34:55.755Z"
   },
   {
    "duration": -1257,
    "start_time": "2022-03-07T14:34:55.761Z"
   },
   {
    "duration": -1262,
    "start_time": "2022-03-07T14:34:55.767Z"
   },
   {
    "duration": -1266,
    "start_time": "2022-03-07T14:34:55.772Z"
   },
   {
    "duration": -1271,
    "start_time": "2022-03-07T14:34:55.778Z"
   },
   {
    "duration": -1275,
    "start_time": "2022-03-07T14:34:55.783Z"
   },
   {
    "duration": -1279,
    "start_time": "2022-03-07T14:34:55.788Z"
   },
   {
    "duration": -1283,
    "start_time": "2022-03-07T14:34:55.793Z"
   },
   {
    "duration": -1297,
    "start_time": "2022-03-07T14:34:55.808Z"
   },
   {
    "duration": -1301,
    "start_time": "2022-03-07T14:34:55.813Z"
   },
   {
    "duration": 233,
    "start_time": "2022-03-07T14:42:04.174Z"
   },
   {
    "duration": 13,
    "start_time": "2022-03-07T14:42:13.989Z"
   },
   {
    "duration": 11,
    "start_time": "2022-03-07T14:42:27.648Z"
   },
   {
    "duration": 585,
    "start_time": "2022-03-07T14:42:54.165Z"
   },
   {
    "duration": 61,
    "start_time": "2022-03-07T14:42:54.751Z"
   },
   {
    "duration": 11,
    "start_time": "2022-03-07T14:42:54.814Z"
   },
   {
    "duration": 9,
    "start_time": "2022-03-07T14:42:54.827Z"
   },
   {
    "duration": 24,
    "start_time": "2022-03-07T14:42:54.837Z"
   },
   {
    "duration": 12,
    "start_time": "2022-03-07T14:42:54.863Z"
   },
   {
    "duration": 7,
    "start_time": "2022-03-07T14:42:54.877Z"
   },
   {
    "duration": 4,
    "start_time": "2022-03-07T14:42:54.886Z"
   },
   {
    "duration": 15,
    "start_time": "2022-03-07T14:42:54.892Z"
   },
   {
    "duration": 9,
    "start_time": "2022-03-07T14:42:54.908Z"
   },
   {
    "duration": 4,
    "start_time": "2022-03-07T14:42:54.919Z"
   },
   {
    "duration": 48,
    "start_time": "2022-03-07T14:42:54.925Z"
   },
   {
    "duration": 5,
    "start_time": "2022-03-07T14:42:54.975Z"
   },
   {
    "duration": 10,
    "start_time": "2022-03-07T14:42:54.982Z"
   },
   {
    "duration": 3,
    "start_time": "2022-03-07T14:42:54.994Z"
   },
   {
    "duration": 7,
    "start_time": "2022-03-07T14:42:54.999Z"
   },
   {
    "duration": 55,
    "start_time": "2022-03-07T14:42:55.007Z"
   },
   {
    "duration": 13,
    "start_time": "2022-03-07T14:42:55.064Z"
   },
   {
    "duration": 13,
    "start_time": "2022-03-07T14:42:55.079Z"
   },
   {
    "duration": 16,
    "start_time": "2022-03-07T14:42:55.094Z"
   },
   {
    "duration": 14,
    "start_time": "2022-03-07T14:42:55.112Z"
   },
   {
    "duration": 11,
    "start_time": "2022-03-07T14:42:55.159Z"
   },
   {
    "duration": 21,
    "start_time": "2022-03-07T14:42:55.173Z"
   },
   {
    "duration": 16,
    "start_time": "2022-03-07T14:42:55.196Z"
   },
   {
    "duration": 7,
    "start_time": "2022-03-07T14:42:55.214Z"
   },
   {
    "duration": 41,
    "start_time": "2022-03-07T14:42:55.223Z"
   },
   {
    "duration": 11,
    "start_time": "2022-03-07T14:42:55.266Z"
   },
   {
    "duration": 9,
    "start_time": "2022-03-07T14:42:55.279Z"
   },
   {
    "duration": 15,
    "start_time": "2022-03-07T14:42:55.290Z"
   },
   {
    "duration": 12,
    "start_time": "2022-03-07T14:42:55.307Z"
   },
   {
    "duration": 13,
    "start_time": "2022-03-07T14:42:55.321Z"
   },
   {
    "duration": 29,
    "start_time": "2022-03-07T14:42:55.336Z"
   },
   {
    "duration": 11,
    "start_time": "2022-03-07T14:42:55.367Z"
   },
   {
    "duration": 14,
    "start_time": "2022-03-07T14:42:55.380Z"
   },
   {
    "duration": 14,
    "start_time": "2022-03-07T14:42:55.396Z"
   },
   {
    "duration": 11,
    "start_time": "2022-03-07T14:42:55.412Z"
   },
   {
    "duration": 45,
    "start_time": "2022-03-07T14:42:55.424Z"
   },
   {
    "duration": 4,
    "start_time": "2022-03-07T14:42:55.471Z"
   },
   {
    "duration": 6,
    "start_time": "2022-03-07T14:42:55.476Z"
   },
   {
    "duration": 18,
    "start_time": "2022-03-07T14:42:55.483Z"
   },
   {
    "duration": 14,
    "start_time": "2022-03-07T14:42:55.503Z"
   },
   {
    "duration": 43,
    "start_time": "2022-03-07T14:42:55.518Z"
   },
   {
    "duration": 3,
    "start_time": "2022-03-07T14:42:55.563Z"
   },
   {
    "duration": 7,
    "start_time": "2022-03-07T14:42:55.568Z"
   },
   {
    "duration": 18,
    "start_time": "2022-03-07T14:42:55.576Z"
   },
   {
    "duration": 14,
    "start_time": "2022-03-07T14:42:55.596Z"
   },
   {
    "duration": 49,
    "start_time": "2022-03-07T14:42:55.611Z"
   },
   {
    "duration": 19,
    "start_time": "2022-03-07T14:42:55.661Z"
   },
   {
    "duration": 18,
    "start_time": "2022-03-07T14:42:55.681Z"
   },
   {
    "duration": 21,
    "start_time": "2022-03-07T14:42:55.701Z"
   },
   {
    "duration": 4220,
    "start_time": "2022-03-07T14:51:06.891Z"
   },
   {
    "duration": 4100,
    "start_time": "2022-03-07T14:51:26.295Z"
   },
   {
    "duration": 4152,
    "start_time": "2022-03-07T14:53:16.092Z"
   },
   {
    "duration": 258,
    "start_time": "2022-03-07T14:58:32.611Z"
   },
   {
    "duration": 15,
    "start_time": "2022-03-07T14:58:44.621Z"
   },
   {
    "duration": 5,
    "start_time": "2022-03-07T14:59:38.960Z"
   },
   {
    "duration": 4,
    "start_time": "2022-03-07T14:59:42.690Z"
   },
   {
    "duration": 9,
    "start_time": "2022-03-07T15:00:01.527Z"
   },
   {
    "duration": 15,
    "start_time": "2022-03-07T15:06:10.652Z"
   },
   {
    "duration": 14,
    "start_time": "2022-03-07T15:06:32.705Z"
   },
   {
    "duration": 13,
    "start_time": "2022-03-07T15:07:24.401Z"
   },
   {
    "duration": 14,
    "start_time": "2022-03-07T15:08:16.326Z"
   },
   {
    "duration": 14,
    "start_time": "2022-03-07T15:08:39.190Z"
   },
   {
    "duration": 225,
    "start_time": "2022-03-07T15:14:10.645Z"
   },
   {
    "duration": 606,
    "start_time": "2022-03-07T15:14:36.362Z"
   },
   {
    "duration": 63,
    "start_time": "2022-03-07T15:14:36.970Z"
   },
   {
    "duration": 11,
    "start_time": "2022-03-07T15:14:37.035Z"
   },
   {
    "duration": 19,
    "start_time": "2022-03-07T15:14:37.048Z"
   },
   {
    "duration": 8,
    "start_time": "2022-03-07T15:14:37.068Z"
   },
   {
    "duration": 17,
    "start_time": "2022-03-07T15:14:37.077Z"
   },
   {
    "duration": 6,
    "start_time": "2022-03-07T15:14:37.095Z"
   },
   {
    "duration": 4,
    "start_time": "2022-03-07T15:14:37.103Z"
   },
   {
    "duration": 14,
    "start_time": "2022-03-07T15:14:37.109Z"
   },
   {
    "duration": 35,
    "start_time": "2022-03-07T15:14:37.125Z"
   },
   {
    "duration": 4,
    "start_time": "2022-03-07T15:14:37.162Z"
   },
   {
    "duration": 15,
    "start_time": "2022-03-07T15:14:37.167Z"
   },
   {
    "duration": 6,
    "start_time": "2022-03-07T15:14:37.184Z"
   },
   {
    "duration": 11,
    "start_time": "2022-03-07T15:14:37.192Z"
   },
   {
    "duration": 4,
    "start_time": "2022-03-07T15:14:37.204Z"
   },
   {
    "duration": 6,
    "start_time": "2022-03-07T15:14:37.210Z"
   },
   {
    "duration": 47,
    "start_time": "2022-03-07T15:14:37.218Z"
   },
   {
    "duration": 14,
    "start_time": "2022-03-07T15:14:37.267Z"
   },
   {
    "duration": 16,
    "start_time": "2022-03-07T15:14:37.283Z"
   },
   {
    "duration": 18,
    "start_time": "2022-03-07T15:14:37.300Z"
   },
   {
    "duration": 16,
    "start_time": "2022-03-07T15:14:37.319Z"
   },
   {
    "duration": 38,
    "start_time": "2022-03-07T15:14:37.337Z"
   },
   {
    "duration": 7,
    "start_time": "2022-03-07T15:14:37.379Z"
   },
   {
    "duration": 12,
    "start_time": "2022-03-07T15:14:37.389Z"
   },
   {
    "duration": 12,
    "start_time": "2022-03-07T15:14:37.403Z"
   },
   {
    "duration": 8,
    "start_time": "2022-03-07T15:14:37.417Z"
   },
   {
    "duration": 14,
    "start_time": "2022-03-07T15:14:37.459Z"
   },
   {
    "duration": 11,
    "start_time": "2022-03-07T15:14:37.475Z"
   },
   {
    "duration": 8,
    "start_time": "2022-03-07T15:14:37.488Z"
   },
   {
    "duration": 8,
    "start_time": "2022-03-07T15:14:37.497Z"
   },
   {
    "duration": 13,
    "start_time": "2022-03-07T15:14:37.508Z"
   },
   {
    "duration": 46,
    "start_time": "2022-03-07T15:14:37.523Z"
   },
   {
    "duration": 17,
    "start_time": "2022-03-07T15:14:37.571Z"
   },
   {
    "duration": 13,
    "start_time": "2022-03-07T15:14:37.594Z"
   },
   {
    "duration": 13,
    "start_time": "2022-03-07T15:14:37.609Z"
   },
   {
    "duration": 5,
    "start_time": "2022-03-07T15:14:37.623Z"
   },
   {
    "duration": 4,
    "start_time": "2022-03-07T15:14:37.659Z"
   },
   {
    "duration": 20,
    "start_time": "2022-03-07T15:14:37.664Z"
   },
   {
    "duration": 16,
    "start_time": "2022-03-07T15:14:37.685Z"
   },
   {
    "duration": 8,
    "start_time": "2022-03-07T15:14:37.703Z"
   },
   {
    "duration": 3,
    "start_time": "2022-03-07T15:14:37.713Z"
   },
   {
    "duration": 6,
    "start_time": "2022-03-07T15:14:37.718Z"
   },
   {
    "duration": 50,
    "start_time": "2022-03-07T15:14:37.726Z"
   },
   {
    "duration": 16,
    "start_time": "2022-03-07T15:14:37.778Z"
   },
   {
    "duration": 20,
    "start_time": "2022-03-07T15:14:37.796Z"
   },
   {
    "duration": 42,
    "start_time": "2022-03-07T15:14:37.818Z"
   },
   {
    "duration": 18,
    "start_time": "2022-03-07T15:14:37.862Z"
   },
   {
    "duration": 12,
    "start_time": "2022-03-07T15:14:37.881Z"
   },
   {
    "duration": 18,
    "start_time": "2022-03-07T15:14:37.894Z"
   },
   {
    "duration": 337,
    "start_time": "2022-03-07T15:14:37.914Z"
   },
   {
    "duration": -1014,
    "start_time": "2022-03-07T15:14:39.266Z"
   },
   {
    "duration": 213,
    "start_time": "2022-03-07T15:15:11.034Z"
   },
   {
    "duration": 14,
    "start_time": "2022-03-07T15:16:28.475Z"
   },
   {
    "duration": 14,
    "start_time": "2022-03-07T15:16:42.634Z"
   },
   {
    "duration": 13,
    "start_time": "2022-03-07T15:16:55.033Z"
   },
   {
    "duration": 5,
    "start_time": "2022-03-07T15:23:23.949Z"
   },
   {
    "duration": 5,
    "start_time": "2022-03-07T15:23:37.559Z"
   },
   {
    "duration": 3,
    "start_time": "2022-03-07T15:23:48.890Z"
   },
   {
    "duration": 9,
    "start_time": "2022-03-07T15:24:00.011Z"
   },
   {
    "duration": 22,
    "start_time": "2022-03-07T15:39:14.151Z"
   },
   {
    "duration": 14,
    "start_time": "2022-03-07T15:39:41.384Z"
   },
   {
    "duration": 79,
    "start_time": "2022-03-07T15:50:30.243Z"
   },
   {
    "duration": 77,
    "start_time": "2022-03-07T15:53:50.371Z"
   },
   {
    "duration": 601,
    "start_time": "2022-03-07T18:20:56.173Z"
   },
   {
    "duration": 64,
    "start_time": "2022-03-07T18:20:56.776Z"
   },
   {
    "duration": 20,
    "start_time": "2022-03-07T18:20:56.842Z"
   },
   {
    "duration": 9,
    "start_time": "2022-03-07T18:20:56.864Z"
   },
   {
    "duration": 9,
    "start_time": "2022-03-07T18:20:56.875Z"
   },
   {
    "duration": 13,
    "start_time": "2022-03-07T18:20:56.885Z"
   },
   {
    "duration": 5,
    "start_time": "2022-03-07T18:20:56.900Z"
   },
   {
    "duration": 4,
    "start_time": "2022-03-07T18:20:56.908Z"
   },
   {
    "duration": 46,
    "start_time": "2022-03-07T18:20:56.914Z"
   },
   {
    "duration": 6,
    "start_time": "2022-03-07T18:20:56.962Z"
   },
   {
    "duration": 5,
    "start_time": "2022-03-07T18:20:56.970Z"
   },
   {
    "duration": 14,
    "start_time": "2022-03-07T18:20:56.977Z"
   },
   {
    "duration": 7,
    "start_time": "2022-03-07T18:20:56.993Z"
   },
   {
    "duration": 12,
    "start_time": "2022-03-07T18:20:57.001Z"
   },
   {
    "duration": 44,
    "start_time": "2022-03-07T18:20:57.015Z"
   },
   {
    "duration": 7,
    "start_time": "2022-03-07T18:20:57.062Z"
   },
   {
    "duration": 14,
    "start_time": "2022-03-07T18:20:57.071Z"
   },
   {
    "duration": 14,
    "start_time": "2022-03-07T18:20:57.087Z"
   },
   {
    "duration": 13,
    "start_time": "2022-03-07T18:20:57.103Z"
   },
   {
    "duration": 55,
    "start_time": "2022-03-07T18:20:57.118Z"
   },
   {
    "duration": 17,
    "start_time": "2022-03-07T18:20:57.174Z"
   },
   {
    "duration": 16,
    "start_time": "2022-03-07T18:20:57.192Z"
   },
   {
    "duration": 7,
    "start_time": "2022-03-07T18:20:57.211Z"
   },
   {
    "duration": 46,
    "start_time": "2022-03-07T18:20:57.220Z"
   },
   {
    "duration": 12,
    "start_time": "2022-03-07T18:20:57.268Z"
   },
   {
    "duration": 13,
    "start_time": "2022-03-07T18:20:57.282Z"
   },
   {
    "duration": 13,
    "start_time": "2022-03-07T18:20:57.296Z"
   },
   {
    "duration": 9,
    "start_time": "2022-03-07T18:20:57.311Z"
   },
   {
    "duration": 8,
    "start_time": "2022-03-07T18:20:57.322Z"
   },
   {
    "duration": 29,
    "start_time": "2022-03-07T18:20:57.332Z"
   },
   {
    "duration": 7,
    "start_time": "2022-03-07T18:20:57.363Z"
   },
   {
    "duration": 13,
    "start_time": "2022-03-07T18:20:57.372Z"
   },
   {
    "duration": 13,
    "start_time": "2022-03-07T18:20:57.386Z"
   },
   {
    "duration": 10,
    "start_time": "2022-03-07T18:20:57.401Z"
   },
   {
    "duration": 48,
    "start_time": "2022-03-07T18:20:57.413Z"
   },
   {
    "duration": 4,
    "start_time": "2022-03-07T18:20:57.463Z"
   },
   {
    "duration": 7,
    "start_time": "2022-03-07T18:20:57.469Z"
   },
   {
    "duration": 18,
    "start_time": "2022-03-07T18:20:57.477Z"
   },
   {
    "duration": 14,
    "start_time": "2022-03-07T18:20:57.498Z"
   },
   {
    "duration": 9,
    "start_time": "2022-03-07T18:20:57.514Z"
   },
   {
    "duration": 4,
    "start_time": "2022-03-07T18:20:57.560Z"
   },
   {
    "duration": 6,
    "start_time": "2022-03-07T18:20:57.565Z"
   },
   {
    "duration": 18,
    "start_time": "2022-03-07T18:20:57.572Z"
   },
   {
    "duration": 13,
    "start_time": "2022-03-07T18:20:57.591Z"
   },
   {
    "duration": 53,
    "start_time": "2022-03-07T18:20:57.606Z"
   },
   {
    "duration": 12,
    "start_time": "2022-03-07T18:20:57.661Z"
   },
   {
    "duration": 18,
    "start_time": "2022-03-07T18:20:57.675Z"
   },
   {
    "duration": 12,
    "start_time": "2022-03-07T18:20:57.695Z"
   },
   {
    "duration": 18,
    "start_time": "2022-03-07T18:20:57.708Z"
   },
   {
    "duration": 43,
    "start_time": "2022-03-07T18:20:57.727Z"
   },
   {
    "duration": 19,
    "start_time": "2022-03-07T18:20:57.771Z"
   },
   {
    "duration": 14,
    "start_time": "2022-03-07T18:20:57.791Z"
   },
   {
    "duration": 1295,
    "start_time": "2022-04-08T20:31:33.717Z"
   },
   {
    "duration": 64,
    "start_time": "2022-04-08T20:32:28.611Z"
   },
   {
    "duration": 406,
    "start_time": "2022-04-08T21:07:07.237Z"
   },
   {
    "duration": 762,
    "start_time": "2022-04-08T21:07:07.645Z"
   },
   {
    "duration": 3,
    "start_time": "2022-04-08T21:07:08.409Z"
   },
   {
    "duration": 4,
    "start_time": "2022-04-08T21:07:08.414Z"
   },
   {
    "duration": 5,
    "start_time": "2022-04-08T21:07:08.419Z"
   },
   {
    "duration": 5,
    "start_time": "2022-04-08T21:07:08.425Z"
   },
   {
    "duration": 6,
    "start_time": "2022-04-08T21:07:08.431Z"
   },
   {
    "duration": 446,
    "start_time": "2022-04-08T21:07:08.439Z"
   },
   {
    "duration": 76,
    "start_time": "2022-04-08T21:07:08.886Z"
   },
   {
    "duration": 136,
    "start_time": "2022-04-08T21:07:08.965Z"
   },
   {
    "duration": 14,
    "start_time": "2022-04-08T21:07:09.102Z"
   },
   {
    "duration": 6,
    "start_time": "2022-04-08T21:07:09.118Z"
   },
   {
    "duration": 11,
    "start_time": "2022-04-08T21:07:09.126Z"
   },
   {
    "duration": 12,
    "start_time": "2022-04-08T21:07:09.139Z"
   },
   {
    "duration": 9,
    "start_time": "2022-04-08T21:07:09.153Z"
   },
   {
    "duration": 8,
    "start_time": "2022-04-08T21:07:09.163Z"
   },
   {
    "duration": 11,
    "start_time": "2022-04-08T21:07:09.208Z"
   },
   {
    "duration": 27,
    "start_time": "2022-04-08T21:07:09.220Z"
   },
   {
    "duration": 19,
    "start_time": "2022-04-08T21:07:09.248Z"
   },
   {
    "duration": 41,
    "start_time": "2022-04-08T21:07:09.268Z"
   },
   {
    "duration": 43,
    "start_time": "2022-04-08T21:07:09.311Z"
   },
   {
    "duration": 7,
    "start_time": "2022-04-08T21:07:09.356Z"
   },
   {
    "duration": 46,
    "start_time": "2022-04-08T21:07:09.364Z"
   },
   {
    "duration": 30,
    "start_time": "2022-04-08T21:07:09.412Z"
   },
   {
    "duration": 18,
    "start_time": "2022-04-08T21:07:09.444Z"
   },
   {
    "duration": 6,
    "start_time": "2022-04-08T21:07:09.464Z"
   },
   {
    "duration": 39,
    "start_time": "2022-04-08T21:07:09.471Z"
   },
   {
    "duration": 8,
    "start_time": "2022-04-08T21:07:09.513Z"
   },
   {
    "duration": 18,
    "start_time": "2022-04-08T21:07:09.522Z"
   },
   {
    "duration": 295,
    "start_time": "2022-04-08T21:07:09.542Z"
   },
   {
    "duration": 20,
    "start_time": "2022-04-08T21:07:09.838Z"
   },
   {
    "duration": 20,
    "start_time": "2022-04-08T21:07:09.860Z"
   },
   {
    "duration": 49,
    "start_time": "2022-04-08T21:07:09.882Z"
   },
   {
    "duration": 802,
    "start_time": "2022-04-08T21:07:09.933Z"
   },
   {
    "duration": 200,
    "start_time": "2022-04-08T21:07:10.737Z"
   },
   {
    "duration": 198,
    "start_time": "2022-04-08T21:07:10.939Z"
   },
   {
    "duration": 186,
    "start_time": "2022-04-08T21:07:11.138Z"
   },
   {
    "duration": 11,
    "start_time": "2022-04-08T21:07:11.326Z"
   },
   {
    "duration": 10,
    "start_time": "2022-04-08T21:07:11.338Z"
   },
   {
    "duration": 10,
    "start_time": "2022-04-08T21:07:11.350Z"
   },
   {
    "duration": 3,
    "start_time": "2022-04-08T21:07:11.362Z"
   },
   {
    "duration": 51,
    "start_time": "2022-04-08T21:07:11.367Z"
   },
   {
    "duration": 9,
    "start_time": "2022-04-08T21:12:19.879Z"
   },
   {
    "duration": 59,
    "start_time": "2022-04-08T22:03:55.372Z"
   },
   {
    "duration": 10,
    "start_time": "2022-04-08T22:09:31.030Z"
   },
   {
    "duration": 4,
    "start_time": "2022-04-08T22:11:31.504Z"
   },
   {
    "duration": 418,
    "start_time": "2022-04-08T22:12:02.520Z"
   },
   {
    "duration": 692,
    "start_time": "2022-04-08T22:12:02.939Z"
   },
   {
    "duration": 2,
    "start_time": "2022-04-08T22:12:03.633Z"
   },
   {
    "duration": 5,
    "start_time": "2022-04-08T22:12:03.637Z"
   },
   {
    "duration": 4,
    "start_time": "2022-04-08T22:12:03.643Z"
   },
   {
    "duration": 4,
    "start_time": "2022-04-08T22:12:03.649Z"
   },
   {
    "duration": 4,
    "start_time": "2022-04-08T22:12:03.655Z"
   },
   {
    "duration": 405,
    "start_time": "2022-04-08T22:12:03.661Z"
   },
   {
    "duration": 71,
    "start_time": "2022-04-08T22:12:04.068Z"
   },
   {
    "duration": 132,
    "start_time": "2022-04-08T22:12:04.142Z"
   },
   {
    "duration": 11,
    "start_time": "2022-04-08T22:12:04.276Z"
   },
   {
    "duration": 23,
    "start_time": "2022-04-08T22:12:04.289Z"
   },
   {
    "duration": 14,
    "start_time": "2022-04-08T22:12:04.314Z"
   },
   {
    "duration": 22,
    "start_time": "2022-04-08T22:12:04.329Z"
   },
   {
    "duration": 9,
    "start_time": "2022-04-08T22:12:04.353Z"
   },
   {
    "duration": 19,
    "start_time": "2022-04-08T22:12:04.364Z"
   },
   {
    "duration": 16,
    "start_time": "2022-04-08T22:12:04.385Z"
   },
   {
    "duration": 35,
    "start_time": "2022-04-08T22:12:04.402Z"
   },
   {
    "duration": 18,
    "start_time": "2022-04-08T22:12:04.439Z"
   },
   {
    "duration": 15,
    "start_time": "2022-04-08T22:12:04.459Z"
   },
   {
    "duration": 56,
    "start_time": "2022-04-08T22:12:04.476Z"
   },
   {
    "duration": 8,
    "start_time": "2022-04-08T22:12:04.533Z"
   },
   {
    "duration": 32,
    "start_time": "2022-04-08T22:12:04.543Z"
   },
   {
    "duration": 43,
    "start_time": "2022-04-08T22:12:04.576Z"
   },
   {
    "duration": 18,
    "start_time": "2022-04-08T22:12:04.620Z"
   },
   {
    "duration": 6,
    "start_time": "2022-04-08T22:12:04.640Z"
   },
   {
    "duration": 15,
    "start_time": "2022-04-08T22:12:04.648Z"
   },
   {
    "duration": 9,
    "start_time": "2022-04-08T22:12:04.666Z"
   },
   {
    "duration": 43,
    "start_time": "2022-04-08T22:12:04.676Z"
   },
   {
    "duration": 263,
    "start_time": "2022-04-08T22:12:04.720Z"
   },
   {
    "duration": 28,
    "start_time": "2022-04-08T22:12:04.985Z"
   },
   {
    "duration": 17,
    "start_time": "2022-04-08T22:12:05.015Z"
   },
   {
    "duration": 29,
    "start_time": "2022-04-08T22:12:05.034Z"
   },
   {
    "duration": 857,
    "start_time": "2022-04-08T22:12:05.065Z"
   },
   {
    "duration": 188,
    "start_time": "2022-04-08T22:12:05.923Z"
   },
   {
    "duration": 189,
    "start_time": "2022-04-08T22:12:06.112Z"
   },
   {
    "duration": 178,
    "start_time": "2022-04-08T22:12:06.303Z"
   },
   {
    "duration": 10,
    "start_time": "2022-04-08T22:12:06.483Z"
   },
   {
    "duration": 30,
    "start_time": "2022-04-08T22:12:06.494Z"
   },
   {
    "duration": 8,
    "start_time": "2022-04-08T22:12:06.525Z"
   },
   {
    "duration": 7,
    "start_time": "2022-04-08T22:12:06.535Z"
   },
   {
    "duration": 3,
    "start_time": "2022-04-08T22:12:06.544Z"
   },
   {
    "duration": 15,
    "start_time": "2022-04-08T22:12:06.548Z"
   },
   {
    "duration": 12,
    "start_time": "2022-04-08T22:18:34.913Z"
   },
   {
    "duration": 11,
    "start_time": "2022-04-08T22:19:16.473Z"
   },
   {
    "duration": 3,
    "start_time": "2022-04-08T22:19:27.832Z"
   },
   {
    "duration": 3,
    "start_time": "2022-04-08T22:22:23.928Z"
   },
   {
    "duration": 424,
    "start_time": "2022-04-08T22:25:20.588Z"
   },
   {
    "duration": 718,
    "start_time": "2022-04-08T22:25:21.014Z"
   },
   {
    "duration": 2,
    "start_time": "2022-04-08T22:25:21.734Z"
   },
   {
    "duration": 11,
    "start_time": "2022-04-08T22:25:21.738Z"
   },
   {
    "duration": 19,
    "start_time": "2022-04-08T22:25:21.750Z"
   },
   {
    "duration": 10,
    "start_time": "2022-04-08T22:25:21.771Z"
   },
   {
    "duration": 18,
    "start_time": "2022-04-08T22:25:21.782Z"
   },
   {
    "duration": 429,
    "start_time": "2022-04-08T22:25:21.801Z"
   },
   {
    "duration": 68,
    "start_time": "2022-04-08T22:25:22.231Z"
   },
   {
    "duration": 119,
    "start_time": "2022-04-08T22:25:22.302Z"
   },
   {
    "duration": 9,
    "start_time": "2022-04-08T22:25:22.423Z"
   },
   {
    "duration": 7,
    "start_time": "2022-04-08T22:25:22.433Z"
   },
   {
    "duration": 11,
    "start_time": "2022-04-08T22:25:22.441Z"
   },
   {
    "duration": 11,
    "start_time": "2022-04-08T22:25:22.454Z"
   },
   {
    "duration": 8,
    "start_time": "2022-04-08T22:25:22.467Z"
   },
   {
    "duration": 4,
    "start_time": "2022-04-08T22:25:22.510Z"
   },
   {
    "duration": 10,
    "start_time": "2022-04-08T22:25:22.516Z"
   },
   {
    "duration": 24,
    "start_time": "2022-04-08T22:25:22.528Z"
   },
   {
    "duration": 17,
    "start_time": "2022-04-08T22:25:22.553Z"
   },
   {
    "duration": 44,
    "start_time": "2022-04-08T22:25:22.571Z"
   },
   {
    "duration": 39,
    "start_time": "2022-04-08T22:25:22.616Z"
   },
   {
    "duration": 7,
    "start_time": "2022-04-08T22:25:22.657Z"
   },
   {
    "duration": 23,
    "start_time": "2022-04-08T22:25:22.666Z"
   },
   {
    "duration": 29,
    "start_time": "2022-04-08T22:25:22.709Z"
   },
   {
    "duration": 19,
    "start_time": "2022-04-08T22:25:22.739Z"
   },
   {
    "duration": 6,
    "start_time": "2022-04-08T22:25:22.760Z"
   },
   {
    "duration": 41,
    "start_time": "2022-04-08T22:25:22.768Z"
   },
   {
    "duration": 8,
    "start_time": "2022-04-08T22:25:22.813Z"
   },
   {
    "duration": 16,
    "start_time": "2022-04-08T22:25:22.822Z"
   },
   {
    "duration": 262,
    "start_time": "2022-04-08T22:25:22.839Z"
   },
   {
    "duration": 21,
    "start_time": "2022-04-08T22:25:23.102Z"
   },
   {
    "duration": 18,
    "start_time": "2022-04-08T22:25:23.125Z"
   },
   {
    "duration": 31,
    "start_time": "2022-04-08T22:25:23.145Z"
   },
   {
    "duration": 840,
    "start_time": "2022-04-08T22:25:23.177Z"
   },
   {
    "duration": 181,
    "start_time": "2022-04-08T22:25:24.018Z"
   },
   {
    "duration": 179,
    "start_time": "2022-04-08T22:25:24.208Z"
   },
   {
    "duration": 172,
    "start_time": "2022-04-08T22:25:24.389Z"
   },
   {
    "duration": 9,
    "start_time": "2022-04-08T22:25:24.563Z"
   },
   {
    "duration": 9,
    "start_time": "2022-04-08T22:25:24.573Z"
   },
   {
    "duration": 7,
    "start_time": "2022-04-08T22:25:24.584Z"
   },
   {
    "duration": 2,
    "start_time": "2022-04-08T22:25:24.609Z"
   },
   {
    "duration": 19,
    "start_time": "2022-04-08T22:25:24.612Z"
   },
   {
    "duration": 11,
    "start_time": "2022-04-08T22:25:24.632Z"
   },
   {
    "duration": 4,
    "start_time": "2022-04-08T22:25:24.645Z"
   },
   {
    "duration": 73,
    "start_time": "2022-04-09T07:30:26.911Z"
   },
   {
    "duration": 532,
    "start_time": "2022-04-09T07:30:37.413Z"
   },
   {
    "duration": 1394,
    "start_time": "2022-04-09T07:30:37.948Z"
   },
   {
    "duration": 3,
    "start_time": "2022-04-09T07:30:39.345Z"
   },
   {
    "duration": 5,
    "start_time": "2022-04-09T07:30:39.351Z"
   },
   {
    "duration": 7,
    "start_time": "2022-04-09T07:30:39.358Z"
   },
   {
    "duration": 7,
    "start_time": "2022-04-09T07:30:39.367Z"
   },
   {
    "duration": 9,
    "start_time": "2022-04-09T07:30:39.376Z"
   },
   {
    "duration": 1039,
    "start_time": "2022-04-09T07:30:39.387Z"
   },
   {
    "duration": 109,
    "start_time": "2022-04-09T07:30:40.429Z"
   },
   {
    "duration": 245,
    "start_time": "2022-04-09T07:30:40.542Z"
   },
   {
    "duration": 16,
    "start_time": "2022-04-09T07:30:40.790Z"
   },
   {
    "duration": 18,
    "start_time": "2022-04-09T07:30:40.808Z"
   },
   {
    "duration": 24,
    "start_time": "2022-04-09T07:30:40.828Z"
   },
   {
    "duration": 44,
    "start_time": "2022-04-09T07:30:40.854Z"
   },
   {
    "duration": 20,
    "start_time": "2022-04-09T07:30:40.901Z"
   },
   {
    "duration": 20,
    "start_time": "2022-04-09T07:30:40.924Z"
   },
   {
    "duration": 40,
    "start_time": "2022-04-09T07:30:40.947Z"
   },
   {
    "duration": 25,
    "start_time": "2022-04-09T07:30:40.990Z"
   },
   {
    "duration": 44,
    "start_time": "2022-04-09T07:30:41.018Z"
   },
   {
    "duration": 48,
    "start_time": "2022-04-09T07:30:41.065Z"
   },
   {
    "duration": 28,
    "start_time": "2022-04-09T07:30:41.117Z"
   },
   {
    "duration": 107,
    "start_time": "2022-04-09T07:30:41.148Z"
   },
   {
    "duration": 16,
    "start_time": "2022-04-09T07:30:41.258Z"
   },
   {
    "duration": 34,
    "start_time": "2022-04-09T07:30:41.285Z"
   },
   {
    "duration": 64,
    "start_time": "2022-04-09T07:30:41.321Z"
   },
   {
    "duration": 28,
    "start_time": "2022-04-09T07:30:41.387Z"
   },
   {
    "duration": 9,
    "start_time": "2022-04-09T07:30:41.417Z"
   },
   {
    "duration": 56,
    "start_time": "2022-04-09T07:30:41.431Z"
   },
   {
    "duration": 15,
    "start_time": "2022-04-09T07:30:41.490Z"
   },
   {
    "duration": 32,
    "start_time": "2022-04-09T07:30:41.509Z"
   },
   {
    "duration": 613,
    "start_time": "2022-04-09T07:30:41.543Z"
   },
   {
    "duration": 40,
    "start_time": "2022-04-09T07:30:42.158Z"
   },
   {
    "duration": 37,
    "start_time": "2022-04-09T07:30:42.201Z"
   },
   {
    "duration": 104,
    "start_time": "2022-04-09T07:30:42.240Z"
   },
   {
    "duration": 1345,
    "start_time": "2022-04-09T07:30:42.347Z"
   },
   {
    "duration": 310,
    "start_time": "2022-04-09T07:30:43.694Z"
   },
   {
    "duration": 301,
    "start_time": "2022-04-09T07:30:44.006Z"
   },
   {
    "duration": 297,
    "start_time": "2022-04-09T07:30:44.309Z"
   },
   {
    "duration": 14,
    "start_time": "2022-04-09T07:30:44.608Z"
   },
   {
    "duration": 21,
    "start_time": "2022-04-09T07:30:44.624Z"
   },
   {
    "duration": 12,
    "start_time": "2022-04-09T07:30:44.647Z"
   },
   {
    "duration": 29,
    "start_time": "2022-04-09T07:30:44.661Z"
   },
   {
    "duration": 27,
    "start_time": "2022-04-09T07:30:44.692Z"
   },
   {
    "duration": 24,
    "start_time": "2022-04-09T07:30:44.722Z"
   },
   {
    "duration": 8,
    "start_time": "2022-04-09T07:30:44.750Z"
   },
   {
    "duration": 10,
    "start_time": "2022-04-09T07:33:33.484Z"
   },
   {
    "duration": 2277,
    "start_time": "2022-04-09T07:36:41.547Z"
   },
   {
    "duration": 29,
    "start_time": "2022-04-09T07:37:26.431Z"
   },
   {
    "duration": 11,
    "start_time": "2022-04-09T07:38:43.682Z"
   },
   {
    "duration": 11,
    "start_time": "2022-04-09T08:06:19.078Z"
   },
   {
    "duration": 154,
    "start_time": "2022-04-09T08:08:46.591Z"
   },
   {
    "duration": 161,
    "start_time": "2022-04-09T08:09:28.314Z"
   },
   {
    "duration": 294,
    "start_time": "2022-04-09T08:16:10.824Z"
   },
   {
    "duration": 293,
    "start_time": "2022-04-09T08:16:24.550Z"
   },
   {
    "duration": 16,
    "start_time": "2022-04-09T08:25:09.782Z"
   },
   {
    "duration": 15,
    "start_time": "2022-04-09T08:26:07.398Z"
   },
   {
    "duration": 128,
    "start_time": "2022-04-09T08:26:45.173Z"
   },
   {
    "duration": 23,
    "start_time": "2022-04-09T09:04:28.910Z"
   },
   {
    "duration": 21,
    "start_time": "2022-04-09T09:05:24.722Z"
   },
   {
    "duration": 21,
    "start_time": "2022-04-09T09:05:40.009Z"
   },
   {
    "duration": 21,
    "start_time": "2022-04-09T09:05:49.018Z"
   },
   {
    "duration": 27,
    "start_time": "2022-04-09T09:14:21.217Z"
   },
   {
    "duration": 29,
    "start_time": "2022-04-09T09:14:46.239Z"
   },
   {
    "duration": 27,
    "start_time": "2022-04-09T09:15:27.358Z"
   },
   {
    "duration": 35,
    "start_time": "2022-04-09T09:15:38.081Z"
   },
   {
    "duration": 31,
    "start_time": "2022-04-09T09:15:53.136Z"
   },
   {
    "duration": 10,
    "start_time": "2022-04-09T09:15:53.169Z"
   },
   {
    "duration": 19,
    "start_time": "2022-04-09T09:15:53.181Z"
   },
   {
    "duration": 12,
    "start_time": "2022-04-09T09:15:53.203Z"
   },
   {
    "duration": 24,
    "start_time": "2022-04-09T09:15:53.218Z"
   },
   {
    "duration": 536,
    "start_time": "2022-04-09T09:15:53.244Z"
   },
   {
    "duration": 28,
    "start_time": "2022-04-09T09:15:53.783Z"
   },
   {
    "duration": 28,
    "start_time": "2022-04-09T09:15:53.813Z"
   },
   {
    "duration": 75,
    "start_time": "2022-04-09T09:15:53.843Z"
   },
   {
    "duration": 1223,
    "start_time": "2022-04-09T09:15:53.922Z"
   },
   {
    "duration": 302,
    "start_time": "2022-04-09T09:15:55.147Z"
   },
   {
    "duration": 413,
    "start_time": "2022-04-09T09:15:55.452Z"
   },
   {
    "duration": 297,
    "start_time": "2022-04-09T09:15:55.868Z"
   },
   {
    "duration": 24,
    "start_time": "2022-04-09T09:15:56.167Z"
   },
   {
    "duration": 20,
    "start_time": "2022-04-09T09:15:56.193Z"
   },
   {
    "duration": 13,
    "start_time": "2022-04-09T09:15:56.216Z"
   },
   {
    "duration": 11,
    "start_time": "2022-04-09T09:15:56.231Z"
   },
   {
    "duration": 44,
    "start_time": "2022-04-09T09:15:56.245Z"
   },
   {
    "duration": 22,
    "start_time": "2022-04-09T09:15:56.291Z"
   },
   {
    "duration": 17,
    "start_time": "2022-04-09T09:15:56.316Z"
   },
   {
    "duration": 12,
    "start_time": "2022-04-09T09:17:10.818Z"
   },
   {
    "duration": 14,
    "start_time": "2022-04-09T09:18:43.135Z"
   },
   {
    "duration": 35,
    "start_time": "2022-04-09T09:18:45.886Z"
   },
   {
    "duration": 11,
    "start_time": "2022-04-09T09:19:19.007Z"
   },
   {
    "duration": 37,
    "start_time": "2022-04-09T09:19:20.287Z"
   },
   {
    "duration": 15,
    "start_time": "2022-04-09T09:19:32.946Z"
   },
   {
    "duration": 33,
    "start_time": "2022-04-09T09:19:35.808Z"
   },
   {
    "duration": 35,
    "start_time": "2022-04-09T09:21:10.892Z"
   },
   {
    "duration": 2727,
    "start_time": "2022-04-09T09:21:14.561Z"
   },
   {
    "duration": 12,
    "start_time": "2022-04-09T09:21:45.966Z"
   },
   {
    "duration": 37,
    "start_time": "2022-04-09T09:21:49.620Z"
   },
   {
    "duration": 14,
    "start_time": "2022-04-09T09:21:55.505Z"
   },
   {
    "duration": 37,
    "start_time": "2022-04-09T09:21:59.058Z"
   },
   {
    "duration": 13,
    "start_time": "2022-04-09T09:22:21.736Z"
   },
   {
    "duration": 38,
    "start_time": "2022-04-09T09:22:22.544Z"
   },
   {
    "duration": 11,
    "start_time": "2022-04-09T09:23:54.351Z"
   },
   {
    "duration": 491,
    "start_time": "2022-04-09T09:24:07.119Z"
   },
   {
    "duration": 1102,
    "start_time": "2022-04-09T09:24:07.613Z"
   },
   {
    "duration": 4,
    "start_time": "2022-04-09T09:24:08.717Z"
   },
   {
    "duration": 7,
    "start_time": "2022-04-09T09:24:08.724Z"
   },
   {
    "duration": 4,
    "start_time": "2022-04-09T09:24:08.735Z"
   },
   {
    "duration": 7,
    "start_time": "2022-04-09T09:24:08.741Z"
   },
   {
    "duration": 35,
    "start_time": "2022-04-09T09:24:08.751Z"
   },
   {
    "duration": 568,
    "start_time": "2022-04-09T09:24:08.788Z"
   },
   {
    "duration": 102,
    "start_time": "2022-04-09T09:24:09.358Z"
   },
   {
    "duration": 351,
    "start_time": "2022-04-09T09:24:09.462Z"
   },
   {
    "duration": 190,
    "start_time": "2022-04-09T09:24:09.815Z"
   },
   {
    "duration": 17,
    "start_time": "2022-04-09T09:24:10.007Z"
   },
   {
    "duration": 9,
    "start_time": "2022-04-09T09:24:10.026Z"
   },
   {
    "duration": 45,
    "start_time": "2022-04-09T09:24:10.040Z"
   },
   {
    "duration": 9,
    "start_time": "2022-04-09T09:24:10.087Z"
   },
   {
    "duration": 27,
    "start_time": "2022-04-09T09:24:10.099Z"
   },
   {
    "duration": 20,
    "start_time": "2022-04-09T09:24:10.129Z"
   },
   {
    "duration": 47,
    "start_time": "2022-04-09T09:24:10.152Z"
   },
   {
    "duration": 6,
    "start_time": "2022-04-09T09:24:10.202Z"
   },
   {
    "duration": 18,
    "start_time": "2022-04-09T09:24:10.210Z"
   },
   {
    "duration": 78,
    "start_time": "2022-04-09T09:24:10.231Z"
   },
   {
    "duration": 30,
    "start_time": "2022-04-09T09:24:10.312Z"
   },
   {
    "duration": 47,
    "start_time": "2022-04-09T09:24:10.345Z"
   },
   {
    "duration": 75,
    "start_time": "2022-04-09T09:24:10.394Z"
   },
   {
    "duration": 23,
    "start_time": "2022-04-09T09:24:10.472Z"
   },
   {
    "duration": 45,
    "start_time": "2022-04-09T09:24:10.498Z"
   },
   {
    "duration": 84,
    "start_time": "2022-04-09T09:24:10.546Z"
   },
   {
    "duration": 59,
    "start_time": "2022-04-09T09:24:10.633Z"
   },
   {
    "duration": 9,
    "start_time": "2022-04-09T09:24:10.694Z"
   },
   {
    "duration": 20,
    "start_time": "2022-04-09T09:24:10.705Z"
   },
   {
    "duration": 11,
    "start_time": "2022-04-09T09:24:10.727Z"
   },
   {
    "duration": 58,
    "start_time": "2022-04-09T09:24:10.740Z"
   },
   {
    "duration": 672,
    "start_time": "2022-04-09T09:24:10.801Z"
   },
   {
    "duration": 33,
    "start_time": "2022-04-09T09:24:11.476Z"
   },
   {
    "duration": 29,
    "start_time": "2022-04-09T09:24:11.511Z"
   },
   {
    "duration": 76,
    "start_time": "2022-04-09T09:24:11.542Z"
   },
   {
    "duration": 1879,
    "start_time": "2022-04-09T09:24:11.621Z"
   },
   {
    "duration": 605,
    "start_time": "2022-04-09T09:24:13.502Z"
   },
   {
    "duration": 576,
    "start_time": "2022-04-09T09:24:14.110Z"
   },
   {
    "duration": 369,
    "start_time": "2022-04-09T09:24:14.689Z"
   },
   {
    "duration": 24,
    "start_time": "2022-04-09T09:24:15.063Z"
   },
   {
    "duration": 22,
    "start_time": "2022-04-09T09:24:15.090Z"
   },
   {
    "duration": 11,
    "start_time": "2022-04-09T09:24:15.115Z"
   },
   {
    "duration": 4,
    "start_time": "2022-04-09T09:24:15.129Z"
   },
   {
    "duration": 52,
    "start_time": "2022-04-09T09:24:15.136Z"
   },
   {
    "duration": 19,
    "start_time": "2022-04-09T09:24:15.190Z"
   },
   {
    "duration": 5,
    "start_time": "2022-04-09T09:24:15.211Z"
   },
   {
    "duration": 13,
    "start_time": "2022-04-09T09:54:31.090Z"
   },
   {
    "duration": 35,
    "start_time": "2022-04-09T09:54:32.063Z"
   },
   {
    "duration": 17,
    "start_time": "2022-04-09T09:54:42.157Z"
   },
   {
    "duration": 35,
    "start_time": "2022-04-09T09:54:43.216Z"
   },
   {
    "duration": 13,
    "start_time": "2022-04-09T09:54:52.281Z"
   },
   {
    "duration": 35,
    "start_time": "2022-04-09T09:54:53.769Z"
   },
   {
    "duration": 543,
    "start_time": "2022-04-09T09:55:03.378Z"
   },
   {
    "duration": 1021,
    "start_time": "2022-04-09T09:55:03.924Z"
   },
   {
    "duration": 4,
    "start_time": "2022-04-09T09:55:04.947Z"
   },
   {
    "duration": 10,
    "start_time": "2022-04-09T09:55:04.954Z"
   },
   {
    "duration": 17,
    "start_time": "2022-04-09T09:55:04.966Z"
   },
   {
    "duration": 12,
    "start_time": "2022-04-09T09:55:04.985Z"
   },
   {
    "duration": 37,
    "start_time": "2022-04-09T09:55:04.999Z"
   },
   {
    "duration": 585,
    "start_time": "2022-04-09T09:55:05.039Z"
   },
   {
    "duration": 99,
    "start_time": "2022-04-09T09:55:05.626Z"
   },
   {
    "duration": 361,
    "start_time": "2022-04-09T09:55:05.729Z"
   },
   {
    "duration": 194,
    "start_time": "2022-04-09T09:55:06.092Z"
   },
   {
    "duration": 17,
    "start_time": "2022-04-09T09:55:06.288Z"
   },
   {
    "duration": 11,
    "start_time": "2022-04-09T09:55:06.308Z"
   },
   {
    "duration": 22,
    "start_time": "2022-04-09T09:55:06.321Z"
   },
   {
    "duration": 17,
    "start_time": "2022-04-09T09:55:06.345Z"
   },
   {
    "duration": 16,
    "start_time": "2022-04-09T09:55:06.385Z"
   },
   {
    "duration": 16,
    "start_time": "2022-04-09T09:55:06.404Z"
   },
   {
    "duration": 19,
    "start_time": "2022-04-09T09:55:06.423Z"
   },
   {
    "duration": 5,
    "start_time": "2022-04-09T09:55:06.483Z"
   },
   {
    "duration": 21,
    "start_time": "2022-04-09T09:55:06.491Z"
   },
   {
    "duration": 34,
    "start_time": "2022-04-09T09:55:06.515Z"
   },
   {
    "duration": 49,
    "start_time": "2022-04-09T09:55:06.551Z"
   },
   {
    "duration": 21,
    "start_time": "2022-04-09T09:55:06.602Z"
   },
   {
    "duration": 91,
    "start_time": "2022-04-09T09:55:06.625Z"
   },
   {
    "duration": 14,
    "start_time": "2022-04-09T09:55:06.719Z"
   },
   {
    "duration": 55,
    "start_time": "2022-04-09T09:55:06.734Z"
   },
   {
    "duration": 47,
    "start_time": "2022-04-09T09:55:06.792Z"
   },
   {
    "duration": 59,
    "start_time": "2022-04-09T09:55:06.845Z"
   },
   {
    "duration": 10,
    "start_time": "2022-04-09T09:55:06.906Z"
   },
   {
    "duration": 32,
    "start_time": "2022-04-09T09:55:06.919Z"
   },
   {
    "duration": 32,
    "start_time": "2022-04-09T09:55:06.953Z"
   },
   {
    "duration": 26,
    "start_time": "2022-04-09T09:55:06.987Z"
   },
   {
    "duration": 588,
    "start_time": "2022-04-09T09:55:07.016Z"
   },
   {
    "duration": 32,
    "start_time": "2022-04-09T09:55:07.607Z"
   },
   {
    "duration": 57,
    "start_time": "2022-04-09T09:55:07.642Z"
   },
   {
    "duration": 61,
    "start_time": "2022-04-09T09:55:07.701Z"
   },
   {
    "duration": 1143,
    "start_time": "2022-04-09T09:55:07.764Z"
   },
   {
    "duration": 308,
    "start_time": "2022-04-09T09:55:08.910Z"
   },
   {
    "duration": 305,
    "start_time": "2022-04-09T09:55:09.220Z"
   },
   {
    "duration": 292,
    "start_time": "2022-04-09T09:55:09.527Z"
   },
   {
    "duration": 15,
    "start_time": "2022-04-09T09:55:09.821Z"
   },
   {
    "duration": 15,
    "start_time": "2022-04-09T09:55:09.838Z"
   },
   {
    "duration": 38,
    "start_time": "2022-04-09T09:55:09.855Z"
   },
   {
    "duration": 4,
    "start_time": "2022-04-09T09:55:09.896Z"
   },
   {
    "duration": 25,
    "start_time": "2022-04-09T09:55:09.902Z"
   },
   {
    "duration": 21,
    "start_time": "2022-04-09T09:55:09.929Z"
   },
   {
    "duration": 6,
    "start_time": "2022-04-09T09:55:09.985Z"
   },
   {
    "duration": 10,
    "start_time": "2022-04-09T12:21:37.445Z"
   },
   {
    "duration": 4,
    "start_time": "2022-04-09T12:27:18.204Z"
   },
   {
    "duration": 15,
    "start_time": "2022-04-09T12:27:33.336Z"
   },
   {
    "duration": 20,
    "start_time": "2022-04-09T12:28:03.488Z"
   },
   {
    "duration": 526,
    "start_time": "2022-04-09T12:28:19.732Z"
   },
   {
    "duration": 1049,
    "start_time": "2022-04-09T12:28:20.261Z"
   },
   {
    "duration": 3,
    "start_time": "2022-04-09T12:28:21.313Z"
   },
   {
    "duration": 9,
    "start_time": "2022-04-09T12:28:21.321Z"
   },
   {
    "duration": 8,
    "start_time": "2022-04-09T12:28:21.333Z"
   },
   {
    "duration": 11,
    "start_time": "2022-04-09T12:28:21.343Z"
   },
   {
    "duration": 15,
    "start_time": "2022-04-09T12:28:21.356Z"
   },
   {
    "duration": 786,
    "start_time": "2022-04-09T12:28:21.373Z"
   },
   {
    "duration": 156,
    "start_time": "2022-04-09T12:28:22.162Z"
   },
   {
    "duration": 370,
    "start_time": "2022-04-09T12:28:22.322Z"
   },
   {
    "duration": 300,
    "start_time": "2022-04-09T12:28:22.694Z"
   },
   {
    "duration": 23,
    "start_time": "2022-04-09T12:28:22.996Z"
   },
   {
    "duration": 62,
    "start_time": "2022-04-09T12:28:23.022Z"
   },
   {
    "duration": 8,
    "start_time": "2022-04-09T12:28:23.087Z"
   },
   {
    "duration": 8,
    "start_time": "2022-04-09T12:28:23.097Z"
   },
   {
    "duration": 15,
    "start_time": "2022-04-09T12:28:23.108Z"
   },
   {
    "duration": 73,
    "start_time": "2022-04-09T12:28:23.125Z"
   },
   {
    "duration": 13,
    "start_time": "2022-04-09T12:28:23.200Z"
   },
   {
    "duration": 6,
    "start_time": "2022-04-09T12:28:23.215Z"
   },
   {
    "duration": 69,
    "start_time": "2022-04-09T12:28:23.223Z"
   },
   {
    "duration": 31,
    "start_time": "2022-04-09T12:28:23.294Z"
   },
   {
    "duration": 77,
    "start_time": "2022-04-09T12:28:23.327Z"
   },
   {
    "duration": 20,
    "start_time": "2022-04-09T12:28:23.407Z"
   },
   {
    "duration": 164,
    "start_time": "2022-04-09T12:28:23.430Z"
   },
   {
    "duration": 11,
    "start_time": "2022-04-09T12:28:23.596Z"
   },
   {
    "duration": 99,
    "start_time": "2022-04-09T12:28:23.609Z"
   },
   {
    "duration": 94,
    "start_time": "2022-04-09T12:28:23.711Z"
   },
   {
    "duration": 84,
    "start_time": "2022-04-09T12:28:23.810Z"
   },
   {
    "duration": 9,
    "start_time": "2022-04-09T12:28:23.897Z"
   },
   {
    "duration": 20,
    "start_time": "2022-04-09T12:28:23.908Z"
   },
   {
    "duration": 62,
    "start_time": "2022-04-09T12:28:23.930Z"
   },
   {
    "duration": 30,
    "start_time": "2022-04-09T12:28:23.995Z"
   },
   {
    "duration": 60,
    "start_time": "2022-04-09T12:28:24.027Z"
   },
   {
    "duration": 36,
    "start_time": "2022-04-09T12:28:24.089Z"
   },
   {
    "duration": 67,
    "start_time": "2022-04-09T12:28:24.129Z"
   },
   {
    "duration": 931,
    "start_time": "2022-04-09T12:28:24.199Z"
   },
   {
    "duration": 30,
    "start_time": "2022-04-09T12:28:25.184Z"
   },
   {
    "duration": 78,
    "start_time": "2022-04-09T12:28:25.217Z"
   },
   {
    "duration": 101,
    "start_time": "2022-04-09T12:28:25.297Z"
   },
   {
    "duration": 1829,
    "start_time": "2022-04-09T12:28:25.400Z"
   },
   {
    "duration": 507,
    "start_time": "2022-04-09T12:28:27.284Z"
   },
   {
    "duration": 296,
    "start_time": "2022-04-09T12:28:27.794Z"
   },
   {
    "duration": 296,
    "start_time": "2022-04-09T12:28:28.093Z"
   },
   {
    "duration": 15,
    "start_time": "2022-04-09T12:28:28.391Z"
   },
   {
    "duration": 14,
    "start_time": "2022-04-09T12:28:28.408Z"
   },
   {
    "duration": 12,
    "start_time": "2022-04-09T12:28:28.424Z"
   },
   {
    "duration": 4,
    "start_time": "2022-04-09T12:28:28.438Z"
   },
   {
    "duration": 21,
    "start_time": "2022-04-09T12:28:28.484Z"
   },
   {
    "duration": 19,
    "start_time": "2022-04-09T12:28:28.507Z"
   },
   {
    "duration": 5,
    "start_time": "2022-04-09T12:28:28.528Z"
   },
   {
    "duration": 151,
    "start_time": "2022-04-09T12:29:51.358Z"
   },
   {
    "duration": 17,
    "start_time": "2022-04-09T12:30:10.589Z"
   },
   {
    "duration": 16,
    "start_time": "2022-04-09T12:30:22.073Z"
   },
   {
    "duration": 514,
    "start_time": "2022-04-09T12:30:35.829Z"
   },
   {
    "duration": 1047,
    "start_time": "2022-04-09T12:30:36.346Z"
   },
   {
    "duration": 4,
    "start_time": "2022-04-09T12:30:37.395Z"
   },
   {
    "duration": 11,
    "start_time": "2022-04-09T12:30:37.402Z"
   },
   {
    "duration": 7,
    "start_time": "2022-04-09T12:30:37.415Z"
   },
   {
    "duration": 8,
    "start_time": "2022-04-09T12:30:37.425Z"
   },
   {
    "duration": 11,
    "start_time": "2022-04-09T12:30:37.435Z"
   },
   {
    "duration": 591,
    "start_time": "2022-04-09T12:30:37.449Z"
   },
   {
    "duration": 99,
    "start_time": "2022-04-09T12:30:38.042Z"
   },
   {
    "duration": 354,
    "start_time": "2022-04-09T12:30:38.145Z"
   },
   {
    "duration": 184,
    "start_time": "2022-04-09T12:30:38.502Z"
   },
   {
    "duration": 16,
    "start_time": "2022-04-09T12:30:38.688Z"
   },
   {
    "duration": 9,
    "start_time": "2022-04-09T12:30:38.707Z"
   },
   {
    "duration": 8,
    "start_time": "2022-04-09T12:30:38.719Z"
   },
   {
    "duration": 8,
    "start_time": "2022-04-09T12:30:38.730Z"
   },
   {
    "duration": 54,
    "start_time": "2022-04-09T12:30:38.741Z"
   },
   {
    "duration": 17,
    "start_time": "2022-04-09T12:30:38.797Z"
   },
   {
    "duration": 14,
    "start_time": "2022-04-09T12:30:38.817Z"
   },
   {
    "duration": 51,
    "start_time": "2022-04-09T12:30:38.834Z"
   },
   {
    "duration": 15,
    "start_time": "2022-04-09T12:30:38.888Z"
   },
   {
    "duration": 33,
    "start_time": "2022-04-09T12:30:38.906Z"
   },
   {
    "duration": 54,
    "start_time": "2022-04-09T12:30:38.941Z"
   },
   {
    "duration": 23,
    "start_time": "2022-04-09T12:30:38.998Z"
   },
   {
    "duration": 79,
    "start_time": "2022-04-09T12:30:39.023Z"
   },
   {
    "duration": 12,
    "start_time": "2022-04-09T12:30:39.104Z"
   },
   {
    "duration": 34,
    "start_time": "2022-04-09T12:30:39.120Z"
   },
   {
    "duration": 62,
    "start_time": "2022-04-09T12:30:39.157Z"
   },
   {
    "duration": 30,
    "start_time": "2022-04-09T12:30:39.226Z"
   },
   {
    "duration": 9,
    "start_time": "2022-04-09T12:30:39.284Z"
   },
   {
    "duration": 21,
    "start_time": "2022-04-09T12:30:39.296Z"
   },
   {
    "duration": 14,
    "start_time": "2022-04-09T12:30:39.320Z"
   },
   {
    "duration": 59,
    "start_time": "2022-04-09T12:30:39.336Z"
   },
   {
    "duration": 12,
    "start_time": "2022-04-09T12:30:39.398Z"
   },
   {
    "duration": 15,
    "start_time": "2022-04-09T12:30:39.413Z"
   },
   {
    "duration": 19,
    "start_time": "2022-04-09T12:30:39.430Z"
   },
   {
    "duration": 1041,
    "start_time": "2022-04-09T12:30:39.483Z"
   },
   {
    "duration": 41,
    "start_time": "2022-04-09T12:30:40.527Z"
   },
   {
    "duration": 39,
    "start_time": "2022-04-09T12:30:40.584Z"
   },
   {
    "duration": 77,
    "start_time": "2022-04-09T12:30:40.625Z"
   },
   {
    "duration": 1250,
    "start_time": "2022-04-09T12:30:40.705Z"
   },
   {
    "duration": 300,
    "start_time": "2022-04-09T12:30:41.958Z"
   },
   {
    "duration": 475,
    "start_time": "2022-04-09T12:30:42.260Z"
   },
   {
    "duration": 285,
    "start_time": "2022-04-09T12:30:42.738Z"
   },
   {
    "duration": 18,
    "start_time": "2022-04-09T12:30:43.025Z"
   },
   {
    "duration": 38,
    "start_time": "2022-04-09T12:30:43.046Z"
   },
   {
    "duration": 13,
    "start_time": "2022-04-09T12:30:43.087Z"
   },
   {
    "duration": 15,
    "start_time": "2022-04-09T12:30:43.103Z"
   },
   {
    "duration": 26,
    "start_time": "2022-04-09T12:30:43.121Z"
   },
   {
    "duration": 47,
    "start_time": "2022-04-09T12:30:43.149Z"
   },
   {
    "duration": 8,
    "start_time": "2022-04-09T12:30:43.198Z"
   },
   {
    "duration": 6,
    "start_time": "2022-04-09T12:33:04.610Z"
   },
   {
    "duration": 18,
    "start_time": "2022-04-09T12:33:10.761Z"
   },
   {
    "duration": 149,
    "start_time": "2022-04-09T12:33:42.490Z"
   },
   {
    "duration": 13,
    "start_time": "2022-04-09T12:34:18.984Z"
   },
   {
    "duration": 18,
    "start_time": "2022-04-09T12:34:35.067Z"
   },
   {
    "duration": 19,
    "start_time": "2022-04-09T12:36:31.753Z"
   },
   {
    "duration": 26,
    "start_time": "2022-04-09T12:37:03.591Z"
   },
   {
    "duration": 17,
    "start_time": "2022-04-09T12:37:05.940Z"
   },
   {
    "duration": 546,
    "start_time": "2022-04-09T12:37:21.508Z"
   },
   {
    "duration": 1053,
    "start_time": "2022-04-09T12:37:22.056Z"
   },
   {
    "duration": 4,
    "start_time": "2022-04-09T12:37:23.112Z"
   },
   {
    "duration": 14,
    "start_time": "2022-04-09T12:37:23.118Z"
   },
   {
    "duration": 10,
    "start_time": "2022-04-09T12:37:23.134Z"
   },
   {
    "duration": 12,
    "start_time": "2022-04-09T12:37:23.146Z"
   },
   {
    "duration": 11,
    "start_time": "2022-04-09T12:37:23.160Z"
   },
   {
    "duration": 600,
    "start_time": "2022-04-09T12:37:23.173Z"
   },
   {
    "duration": 101,
    "start_time": "2022-04-09T12:37:23.775Z"
   },
   {
    "duration": 471,
    "start_time": "2022-04-09T12:37:23.885Z"
   },
   {
    "duration": 190,
    "start_time": "2022-04-09T12:37:24.358Z"
   },
   {
    "duration": 17,
    "start_time": "2022-04-09T12:37:24.550Z"
   },
   {
    "duration": 26,
    "start_time": "2022-04-09T12:37:24.569Z"
   },
   {
    "duration": 11,
    "start_time": "2022-04-09T12:37:24.598Z"
   },
   {
    "duration": 8,
    "start_time": "2022-04-09T12:37:24.612Z"
   },
   {
    "duration": 63,
    "start_time": "2022-04-09T12:37:24.622Z"
   },
   {
    "duration": 16,
    "start_time": "2022-04-09T12:37:24.688Z"
   },
   {
    "duration": 13,
    "start_time": "2022-04-09T12:37:24.706Z"
   },
   {
    "duration": 12,
    "start_time": "2022-04-09T12:37:24.721Z"
   },
   {
    "duration": 51,
    "start_time": "2022-04-09T12:37:24.735Z"
   },
   {
    "duration": 36,
    "start_time": "2022-04-09T12:37:24.789Z"
   },
   {
    "duration": 25,
    "start_time": "2022-04-09T12:37:24.827Z"
   },
   {
    "duration": 51,
    "start_time": "2022-04-09T12:37:24.855Z"
   },
   {
    "duration": 54,
    "start_time": "2022-04-09T12:37:24.909Z"
   },
   {
    "duration": 14,
    "start_time": "2022-04-09T12:37:24.983Z"
   },
   {
    "duration": 37,
    "start_time": "2022-04-09T12:37:24.999Z"
   },
   {
    "duration": 80,
    "start_time": "2022-04-09T12:37:25.039Z"
   },
   {
    "duration": 33,
    "start_time": "2022-04-09T12:37:25.124Z"
   },
   {
    "duration": 28,
    "start_time": "2022-04-09T12:37:25.159Z"
   },
   {
    "duration": 31,
    "start_time": "2022-04-09T12:37:25.189Z"
   },
   {
    "duration": 17,
    "start_time": "2022-04-09T12:37:25.223Z"
   },
   {
    "duration": 49,
    "start_time": "2022-04-09T12:37:25.242Z"
   },
   {
    "duration": 18,
    "start_time": "2022-04-09T12:37:25.294Z"
   },
   {
    "duration": 23,
    "start_time": "2022-04-09T12:37:25.315Z"
   },
   {
    "duration": 21,
    "start_time": "2022-04-09T12:37:25.341Z"
   },
   {
    "duration": 516,
    "start_time": "2022-04-09T12:37:25.384Z"
   },
   {
    "duration": 39,
    "start_time": "2022-04-09T12:37:25.902Z"
   },
   {
    "duration": 65,
    "start_time": "2022-04-09T12:37:25.944Z"
   },
   {
    "duration": 82,
    "start_time": "2022-04-09T12:37:26.011Z"
   },
   {
    "duration": 1426,
    "start_time": "2022-04-09T12:37:26.095Z"
   },
   {
    "duration": 305,
    "start_time": "2022-04-09T12:37:27.523Z"
   },
   {
    "duration": 389,
    "start_time": "2022-04-09T12:37:27.830Z"
   },
   {
    "duration": 287,
    "start_time": "2022-04-09T12:37:28.221Z"
   },
   {
    "duration": 15,
    "start_time": "2022-04-09T12:37:28.510Z"
   },
   {
    "duration": 16,
    "start_time": "2022-04-09T12:37:28.527Z"
   },
   {
    "duration": 13,
    "start_time": "2022-04-09T12:37:28.545Z"
   },
   {
    "duration": 5,
    "start_time": "2022-04-09T12:37:28.585Z"
   },
   {
    "duration": 26,
    "start_time": "2022-04-09T12:37:28.594Z"
   },
   {
    "duration": 22,
    "start_time": "2022-04-09T12:37:28.622Z"
   },
   {
    "duration": 42,
    "start_time": "2022-04-09T12:37:28.647Z"
   },
   {
    "duration": 16,
    "start_time": "2022-04-09T12:38:40.176Z"
   },
   {
    "duration": 497,
    "start_time": "2022-04-09T12:41:38.411Z"
   },
   {
    "duration": 525,
    "start_time": "2022-04-09T12:42:09.393Z"
   },
   {
    "duration": 1180,
    "start_time": "2022-04-09T12:42:09.921Z"
   },
   {
    "duration": 4,
    "start_time": "2022-04-09T12:42:11.104Z"
   },
   {
    "duration": 7,
    "start_time": "2022-04-09T12:42:11.112Z"
   },
   {
    "duration": 12,
    "start_time": "2022-04-09T12:42:11.121Z"
   },
   {
    "duration": 7,
    "start_time": "2022-04-09T12:42:11.135Z"
   },
   {
    "duration": 7,
    "start_time": "2022-04-09T12:42:11.144Z"
   },
   {
    "duration": 610,
    "start_time": "2022-04-09T12:42:11.154Z"
   },
   {
    "duration": 101,
    "start_time": "2022-04-09T12:42:11.767Z"
   },
   {
    "duration": 366,
    "start_time": "2022-04-09T12:42:11.888Z"
   },
   {
    "duration": 185,
    "start_time": "2022-04-09T12:42:12.256Z"
   },
   {
    "duration": 18,
    "start_time": "2022-04-09T12:42:12.444Z"
   },
   {
    "duration": 27,
    "start_time": "2022-04-09T12:42:12.464Z"
   },
   {
    "duration": 10,
    "start_time": "2022-04-09T12:42:12.493Z"
   },
   {
    "duration": 9,
    "start_time": "2022-04-09T12:42:12.505Z"
   },
   {
    "duration": 23,
    "start_time": "2022-04-09T12:42:12.517Z"
   },
   {
    "duration": 54,
    "start_time": "2022-04-09T12:42:12.543Z"
   },
   {
    "duration": 13,
    "start_time": "2022-04-09T12:42:12.600Z"
   },
   {
    "duration": 23,
    "start_time": "2022-04-09T12:42:12.615Z"
   },
   {
    "duration": 19,
    "start_time": "2022-04-09T12:42:12.641Z"
   },
   {
    "duration": 45,
    "start_time": "2022-04-09T12:42:12.663Z"
   },
   {
    "duration": 25,
    "start_time": "2022-04-09T12:42:12.711Z"
   },
   {
    "duration": 53,
    "start_time": "2022-04-09T12:42:12.739Z"
   },
   {
    "duration": 55,
    "start_time": "2022-04-09T12:42:12.795Z"
   },
   {
    "duration": 30,
    "start_time": "2022-04-09T12:42:12.853Z"
   },
   {
    "duration": 32,
    "start_time": "2022-04-09T12:42:12.886Z"
   },
   {
    "duration": 69,
    "start_time": "2022-04-09T12:42:12.921Z"
   },
   {
    "duration": 32,
    "start_time": "2022-04-09T12:42:12.995Z"
   },
   {
    "duration": 10,
    "start_time": "2022-04-09T12:42:13.029Z"
   },
   {
    "duration": 48,
    "start_time": "2022-04-09T12:42:13.042Z"
   },
   {
    "duration": 13,
    "start_time": "2022-04-09T12:42:13.092Z"
   },
   {
    "duration": 24,
    "start_time": "2022-04-09T12:42:13.108Z"
   },
   {
    "duration": 51,
    "start_time": "2022-04-09T12:42:13.134Z"
   },
   {
    "duration": 16,
    "start_time": "2022-04-09T12:42:13.188Z"
   },
   {
    "duration": 30,
    "start_time": "2022-04-09T12:42:13.207Z"
   },
   {
    "duration": 57,
    "start_time": "2022-04-09T12:42:13.240Z"
   },
   {
    "duration": 1052,
    "start_time": "2022-04-09T12:42:13.300Z"
   },
   {
    "duration": 62,
    "start_time": "2022-04-09T12:42:14.355Z"
   },
   {
    "duration": 46,
    "start_time": "2022-04-09T12:42:14.421Z"
   },
   {
    "duration": 78,
    "start_time": "2022-04-09T12:42:14.483Z"
   },
   {
    "duration": 1370,
    "start_time": "2022-04-09T12:42:14.564Z"
   },
   {
    "duration": 309,
    "start_time": "2022-04-09T12:42:15.936Z"
   },
   {
    "duration": 303,
    "start_time": "2022-04-09T12:42:16.248Z"
   },
   {
    "duration": 387,
    "start_time": "2022-04-09T12:42:16.554Z"
   },
   {
    "duration": 15,
    "start_time": "2022-04-09T12:42:16.943Z"
   },
   {
    "duration": 32,
    "start_time": "2022-04-09T12:42:16.960Z"
   },
   {
    "duration": 22,
    "start_time": "2022-04-09T12:42:16.994Z"
   },
   {
    "duration": 8,
    "start_time": "2022-04-09T12:42:17.019Z"
   },
   {
    "duration": 42,
    "start_time": "2022-04-09T12:42:17.029Z"
   },
   {
    "duration": 27,
    "start_time": "2022-04-09T12:42:17.073Z"
   },
   {
    "duration": 10,
    "start_time": "2022-04-09T12:42:17.103Z"
   },
   {
    "duration": 538,
    "start_time": "2022-04-09T12:44:47.390Z"
   },
   {
    "duration": 1000,
    "start_time": "2022-04-09T12:44:47.930Z"
   },
   {
    "duration": 4,
    "start_time": "2022-04-09T12:44:48.932Z"
   },
   {
    "duration": 30,
    "start_time": "2022-04-09T12:44:48.938Z"
   },
   {
    "duration": 24,
    "start_time": "2022-04-09T12:44:48.972Z"
   },
   {
    "duration": 20,
    "start_time": "2022-04-09T12:44:48.999Z"
   },
   {
    "duration": 14,
    "start_time": "2022-04-09T12:44:49.022Z"
   },
   {
    "duration": 594,
    "start_time": "2022-04-09T12:44:49.039Z"
   },
   {
    "duration": 98,
    "start_time": "2022-04-09T12:44:49.635Z"
   },
   {
    "duration": 370,
    "start_time": "2022-04-09T12:44:49.735Z"
   },
   {
    "duration": 215,
    "start_time": "2022-04-09T12:44:50.107Z"
   },
   {
    "duration": 17,
    "start_time": "2022-04-09T12:44:50.325Z"
   },
   {
    "duration": 9,
    "start_time": "2022-04-09T12:44:50.344Z"
   },
   {
    "duration": 10,
    "start_time": "2022-04-09T12:44:50.383Z"
   },
   {
    "duration": 13,
    "start_time": "2022-04-09T12:44:50.395Z"
   },
   {
    "duration": 32,
    "start_time": "2022-04-09T12:44:50.411Z"
   },
   {
    "duration": 46,
    "start_time": "2022-04-09T12:44:50.446Z"
   },
   {
    "duration": 20,
    "start_time": "2022-04-09T12:44:50.495Z"
   },
   {
    "duration": 9,
    "start_time": "2022-04-09T12:44:50.519Z"
   },
   {
    "duration": 52,
    "start_time": "2022-04-09T12:44:50.532Z"
   },
   {
    "duration": 41,
    "start_time": "2022-04-09T12:44:50.587Z"
   },
   {
    "duration": 24,
    "start_time": "2022-04-09T12:44:50.632Z"
   },
   {
    "duration": 45,
    "start_time": "2022-04-09T12:44:50.658Z"
   },
   {
    "duration": 53,
    "start_time": "2022-04-09T12:44:50.705Z"
   },
   {
    "duration": 32,
    "start_time": "2022-04-09T12:44:50.760Z"
   },
   {
    "duration": 41,
    "start_time": "2022-04-09T12:44:50.794Z"
   },
   {
    "duration": 61,
    "start_time": "2022-04-09T12:44:50.837Z"
   },
   {
    "duration": 16,
    "start_time": "2022-04-09T12:44:50.900Z"
   },
   {
    "duration": 28,
    "start_time": "2022-04-09T12:44:50.919Z"
   },
   {
    "duration": 60,
    "start_time": "2022-04-09T12:44:50.950Z"
   },
   {
    "duration": 11,
    "start_time": "2022-04-09T12:44:51.013Z"
   },
   {
    "duration": 20,
    "start_time": "2022-04-09T12:44:51.028Z"
   },
   {
    "duration": 40,
    "start_time": "2022-04-09T12:44:51.050Z"
   },
   {
    "duration": 24,
    "start_time": "2022-04-09T12:44:51.092Z"
   },
   {
    "duration": 11,
    "start_time": "2022-04-09T12:44:51.118Z"
   },
   {
    "duration": 543,
    "start_time": "2022-04-09T12:44:51.131Z"
   },
   {
    "duration": 37,
    "start_time": "2022-04-09T12:44:51.678Z"
   },
   {
    "duration": 30,
    "start_time": "2022-04-09T12:44:51.717Z"
   },
   {
    "duration": 106,
    "start_time": "2022-04-09T12:44:51.749Z"
   },
   {
    "duration": 1146,
    "start_time": "2022-04-09T12:44:51.857Z"
   },
   {
    "duration": 313,
    "start_time": "2022-04-09T12:44:53.008Z"
   },
   {
    "duration": 306,
    "start_time": "2022-04-09T12:44:53.323Z"
   },
   {
    "duration": 322,
    "start_time": "2022-04-09T12:44:53.632Z"
   },
   {
    "duration": 29,
    "start_time": "2022-04-09T12:44:53.956Z"
   },
   {
    "duration": 10,
    "start_time": "2022-04-09T12:44:53.988Z"
   },
   {
    "duration": 12,
    "start_time": "2022-04-09T12:44:54.001Z"
   },
   {
    "duration": 9,
    "start_time": "2022-04-09T12:44:54.015Z"
   },
   {
    "duration": 72,
    "start_time": "2022-04-09T12:44:54.026Z"
   },
   {
    "duration": 26,
    "start_time": "2022-04-09T12:44:54.101Z"
   },
   {
    "duration": 7,
    "start_time": "2022-04-09T12:44:54.130Z"
   },
   {
    "duration": 12,
    "start_time": "2022-04-09T12:46:18.453Z"
   },
   {
    "duration": 156,
    "start_time": "2022-04-09T12:52:58.273Z"
   },
   {
    "duration": 2202,
    "start_time": "2022-04-09T12:54:06.977Z"
   },
   {
    "duration": 667,
    "start_time": "2022-04-09T12:54:40.196Z"
   },
   {
    "duration": 1158,
    "start_time": "2022-04-09T12:54:40.867Z"
   },
   {
    "duration": 4,
    "start_time": "2022-04-09T12:54:42.028Z"
   },
   {
    "duration": 6,
    "start_time": "2022-04-09T12:54:42.037Z"
   },
   {
    "duration": 5,
    "start_time": "2022-04-09T12:54:42.046Z"
   },
   {
    "duration": 31,
    "start_time": "2022-04-09T12:54:42.054Z"
   },
   {
    "duration": 7,
    "start_time": "2022-04-09T12:54:42.087Z"
   },
   {
    "duration": 566,
    "start_time": "2022-04-09T12:54:42.096Z"
   },
   {
    "duration": 102,
    "start_time": "2022-04-09T12:54:42.665Z"
   },
   {
    "duration": 437,
    "start_time": "2022-04-09T12:54:42.771Z"
   },
   {
    "duration": 369,
    "start_time": "2022-04-09T12:54:43.211Z"
   },
   {
    "duration": 20,
    "start_time": "2022-04-09T12:54:43.582Z"
   },
   {
    "duration": 16,
    "start_time": "2022-04-09T12:54:43.608Z"
   },
   {
    "duration": 10,
    "start_time": "2022-04-09T12:54:43.626Z"
   },
   {
    "duration": 11,
    "start_time": "2022-04-09T12:54:43.638Z"
   },
   {
    "duration": 47,
    "start_time": "2022-04-09T12:54:43.652Z"
   },
   {
    "duration": 14,
    "start_time": "2022-04-09T12:54:43.702Z"
   },
   {
    "duration": 12,
    "start_time": "2022-04-09T12:54:43.719Z"
   },
   {
    "duration": 10,
    "start_time": "2022-04-09T12:54:43.733Z"
   },
   {
    "duration": 47,
    "start_time": "2022-04-09T12:54:43.745Z"
   },
   {
    "duration": 32,
    "start_time": "2022-04-09T12:54:43.794Z"
   },
   {
    "duration": 23,
    "start_time": "2022-04-09T12:54:43.828Z"
   },
   {
    "duration": 51,
    "start_time": "2022-04-09T12:54:43.854Z"
   },
   {
    "duration": 52,
    "start_time": "2022-04-09T12:54:43.907Z"
   },
   {
    "duration": 31,
    "start_time": "2022-04-09T12:54:43.961Z"
   },
   {
    "duration": 39,
    "start_time": "2022-04-09T12:54:43.995Z"
   },
   {
    "duration": 57,
    "start_time": "2022-04-09T12:54:44.037Z"
   },
   {
    "duration": 16,
    "start_time": "2022-04-09T12:54:44.099Z"
   },
   {
    "duration": 21,
    "start_time": "2022-04-09T12:54:44.117Z"
   },
   {
    "duration": 79,
    "start_time": "2022-04-09T12:54:44.141Z"
   },
   {
    "duration": 12,
    "start_time": "2022-04-09T12:54:44.223Z"
   },
   {
    "duration": 24,
    "start_time": "2022-04-09T12:54:44.237Z"
   },
   {
    "duration": 31,
    "start_time": "2022-04-09T12:54:44.263Z"
   },
   {
    "duration": 26,
    "start_time": "2022-04-09T12:54:44.296Z"
   },
   {
    "duration": 13,
    "start_time": "2022-04-09T12:54:44.325Z"
   },
   {
    "duration": 2472,
    "start_time": "2022-04-09T12:54:44.340Z"
   },
   {
    "duration": 0,
    "start_time": "2022-04-09T12:54:46.815Z"
   },
   {
    "duration": 0,
    "start_time": "2022-04-09T12:54:46.816Z"
   },
   {
    "duration": 0,
    "start_time": "2022-04-09T12:54:46.818Z"
   },
   {
    "duration": 0,
    "start_time": "2022-04-09T12:54:46.819Z"
   },
   {
    "duration": 0,
    "start_time": "2022-04-09T12:54:46.821Z"
   },
   {
    "duration": 0,
    "start_time": "2022-04-09T12:54:46.823Z"
   },
   {
    "duration": 0,
    "start_time": "2022-04-09T12:54:46.825Z"
   },
   {
    "duration": 0,
    "start_time": "2022-04-09T12:54:46.826Z"
   },
   {
    "duration": 0,
    "start_time": "2022-04-09T12:54:46.828Z"
   },
   {
    "duration": 0,
    "start_time": "2022-04-09T12:54:46.830Z"
   },
   {
    "duration": 0,
    "start_time": "2022-04-09T12:54:46.831Z"
   },
   {
    "duration": 0,
    "start_time": "2022-04-09T12:54:46.833Z"
   },
   {
    "duration": 0,
    "start_time": "2022-04-09T12:54:46.834Z"
   },
   {
    "duration": 0,
    "start_time": "2022-04-09T12:54:46.836Z"
   },
   {
    "duration": 0,
    "start_time": "2022-04-09T12:54:46.837Z"
   },
   {
    "duration": 16,
    "start_time": "2022-04-09T12:55:30.526Z"
   },
   {
    "duration": 547,
    "start_time": "2022-04-09T12:55:58.958Z"
   },
   {
    "duration": 1029,
    "start_time": "2022-04-09T12:55:59.508Z"
   },
   {
    "duration": 4,
    "start_time": "2022-04-09T12:56:00.539Z"
   },
   {
    "duration": 29,
    "start_time": "2022-04-09T12:56:00.546Z"
   },
   {
    "duration": 24,
    "start_time": "2022-04-09T12:56:00.578Z"
   },
   {
    "duration": 20,
    "start_time": "2022-04-09T12:56:00.604Z"
   },
   {
    "duration": 19,
    "start_time": "2022-04-09T12:56:00.627Z"
   },
   {
    "duration": 585,
    "start_time": "2022-04-09T12:56:00.648Z"
   },
   {
    "duration": 104,
    "start_time": "2022-04-09T12:56:01.235Z"
   },
   {
    "duration": 395,
    "start_time": "2022-04-09T12:56:01.344Z"
   },
   {
    "duration": 198,
    "start_time": "2022-04-09T12:56:01.742Z"
   },
   {
    "duration": 17,
    "start_time": "2022-04-09T12:56:01.942Z"
   },
   {
    "duration": 29,
    "start_time": "2022-04-09T12:56:01.962Z"
   },
   {
    "duration": 19,
    "start_time": "2022-04-09T12:56:01.994Z"
   },
   {
    "duration": 16,
    "start_time": "2022-04-09T12:56:02.016Z"
   },
   {
    "duration": 31,
    "start_time": "2022-04-09T12:56:02.034Z"
   },
   {
    "duration": 26,
    "start_time": "2022-04-09T12:56:02.067Z"
   },
   {
    "duration": 20,
    "start_time": "2022-04-09T12:56:02.095Z"
   },
   {
    "duration": 30,
    "start_time": "2022-04-09T12:56:02.118Z"
   },
   {
    "duration": 22,
    "start_time": "2022-04-09T12:56:02.150Z"
   },
   {
    "duration": 38,
    "start_time": "2022-04-09T12:56:02.175Z"
   },
   {
    "duration": 25,
    "start_time": "2022-04-09T12:56:02.215Z"
   },
   {
    "duration": 45,
    "start_time": "2022-04-09T12:56:02.243Z"
   },
   {
    "duration": 56,
    "start_time": "2022-04-09T12:56:02.290Z"
   },
   {
    "duration": 11,
    "start_time": "2022-04-09T12:56:02.348Z"
   },
   {
    "duration": 52,
    "start_time": "2022-04-09T12:56:02.361Z"
   },
   {
    "duration": 43,
    "start_time": "2022-04-09T12:56:02.415Z"
   },
   {
    "duration": 17,
    "start_time": "2022-04-09T12:56:02.487Z"
   },
   {
    "duration": 26,
    "start_time": "2022-04-09T12:56:02.506Z"
   },
   {
    "duration": 55,
    "start_time": "2022-04-09T12:56:02.535Z"
   },
   {
    "duration": 10,
    "start_time": "2022-04-09T12:56:02.592Z"
   },
   {
    "duration": 28,
    "start_time": "2022-04-09T12:56:02.605Z"
   },
   {
    "duration": 50,
    "start_time": "2022-04-09T12:56:02.635Z"
   },
   {
    "duration": 28,
    "start_time": "2022-04-09T12:56:02.688Z"
   },
   {
    "duration": 39,
    "start_time": "2022-04-09T12:56:02.718Z"
   },
   {
    "duration": 21,
    "start_time": "2022-04-09T12:56:02.759Z"
   },
   {
    "duration": 485,
    "start_time": "2022-04-09T12:56:02.783Z"
   },
   {
    "duration": 40,
    "start_time": "2022-04-09T12:56:03.271Z"
   },
   {
    "duration": 30,
    "start_time": "2022-04-09T12:56:03.314Z"
   },
   {
    "duration": 96,
    "start_time": "2022-04-09T12:56:03.347Z"
   },
   {
    "duration": 1211,
    "start_time": "2022-04-09T12:56:03.446Z"
   },
   {
    "duration": 312,
    "start_time": "2022-04-09T12:56:04.659Z"
   },
   {
    "duration": 312,
    "start_time": "2022-04-09T12:56:04.974Z"
   },
   {
    "duration": 277,
    "start_time": "2022-04-09T12:56:05.288Z"
   },
   {
    "duration": 23,
    "start_time": "2022-04-09T12:56:05.568Z"
   },
   {
    "duration": 18,
    "start_time": "2022-04-09T12:56:05.593Z"
   },
   {
    "duration": 23,
    "start_time": "2022-04-09T12:56:05.614Z"
   },
   {
    "duration": 16,
    "start_time": "2022-04-09T12:56:05.640Z"
   },
   {
    "duration": 42,
    "start_time": "2022-04-09T12:56:05.659Z"
   },
   {
    "duration": 23,
    "start_time": "2022-04-09T12:56:05.703Z"
   },
   {
    "duration": 9,
    "start_time": "2022-04-09T12:56:05.729Z"
   },
   {
    "duration": 9,
    "start_time": "2022-04-09T13:00:27.484Z"
   },
   {
    "duration": 160,
    "start_time": "2022-04-09T13:02:06.002Z"
   },
   {
    "duration": 7,
    "start_time": "2022-04-09T13:02:13.681Z"
   },
   {
    "duration": 14,
    "start_time": "2022-04-09T13:02:16.178Z"
   },
   {
    "duration": 8,
    "start_time": "2022-04-09T13:03:03.132Z"
   },
   {
    "duration": 13,
    "start_time": "2022-04-09T13:03:05.119Z"
   },
   {
    "duration": 4,
    "start_time": "2022-04-09T13:04:20.451Z"
   },
   {
    "duration": 20,
    "start_time": "2022-04-09T13:04:22.191Z"
   },
   {
    "duration": 18,
    "start_time": "2022-04-09T13:04:49.022Z"
   },
   {
    "duration": 6,
    "start_time": "2022-04-09T13:06:10.480Z"
   },
   {
    "duration": 538,
    "start_time": "2022-04-09T13:15:17.183Z"
   },
   {
    "duration": 1062,
    "start_time": "2022-04-09T13:15:17.724Z"
   },
   {
    "duration": 3,
    "start_time": "2022-04-09T13:15:18.788Z"
   },
   {
    "duration": 16,
    "start_time": "2022-04-09T13:15:18.795Z"
   },
   {
    "duration": 30,
    "start_time": "2022-04-09T13:15:18.813Z"
   },
   {
    "duration": 20,
    "start_time": "2022-04-09T13:15:18.846Z"
   },
   {
    "duration": 39,
    "start_time": "2022-04-09T13:15:18.869Z"
   },
   {
    "duration": 663,
    "start_time": "2022-04-09T13:15:18.910Z"
   },
   {
    "duration": 109,
    "start_time": "2022-04-09T13:15:19.575Z"
   },
   {
    "duration": 367,
    "start_time": "2022-04-09T13:15:19.687Z"
   },
   {
    "duration": 212,
    "start_time": "2022-04-09T13:15:20.057Z"
   },
   {
    "duration": 32,
    "start_time": "2022-04-09T13:15:20.272Z"
   },
   {
    "duration": 10,
    "start_time": "2022-04-09T13:15:20.306Z"
   },
   {
    "duration": 33,
    "start_time": "2022-04-09T13:15:20.318Z"
   },
   {
    "duration": 22,
    "start_time": "2022-04-09T13:15:20.353Z"
   },
   {
    "duration": 33,
    "start_time": "2022-04-09T13:15:20.377Z"
   },
   {
    "duration": 44,
    "start_time": "2022-04-09T13:15:20.412Z"
   },
   {
    "duration": 25,
    "start_time": "2022-04-09T13:15:20.459Z"
   },
   {
    "duration": 48,
    "start_time": "2022-04-09T13:15:20.486Z"
   },
   {
    "duration": 38,
    "start_time": "2022-04-09T13:15:20.536Z"
   },
   {
    "duration": 63,
    "start_time": "2022-04-09T13:15:20.576Z"
   },
   {
    "duration": 36,
    "start_time": "2022-04-09T13:15:20.641Z"
   },
   {
    "duration": 26,
    "start_time": "2022-04-09T13:15:20.680Z"
   },
   {
    "duration": 72,
    "start_time": "2022-04-09T13:15:20.708Z"
   },
   {
    "duration": 10,
    "start_time": "2022-04-09T13:15:20.782Z"
   },
   {
    "duration": 53,
    "start_time": "2022-04-09T13:15:20.794Z"
   },
   {
    "duration": 53,
    "start_time": "2022-04-09T13:15:20.849Z"
   },
   {
    "duration": 15,
    "start_time": "2022-04-09T13:15:20.907Z"
   },
   {
    "duration": 26,
    "start_time": "2022-04-09T13:15:20.924Z"
   },
   {
    "duration": 59,
    "start_time": "2022-04-09T13:15:20.952Z"
   },
   {
    "duration": 9,
    "start_time": "2022-04-09T13:15:21.013Z"
   },
   {
    "duration": 44,
    "start_time": "2022-04-09T13:15:21.024Z"
   },
   {
    "duration": 30,
    "start_time": "2022-04-09T13:15:21.071Z"
   },
   {
    "duration": 49,
    "start_time": "2022-04-09T13:15:21.104Z"
   },
   {
    "duration": 47,
    "start_time": "2022-04-09T13:15:21.155Z"
   },
   {
    "duration": 41,
    "start_time": "2022-04-09T13:15:21.204Z"
   },
   {
    "duration": 523,
    "start_time": "2022-04-09T13:15:21.247Z"
   },
   {
    "duration": 37,
    "start_time": "2022-04-09T13:15:21.772Z"
   },
   {
    "duration": 40,
    "start_time": "2022-04-09T13:15:21.811Z"
   },
   {
    "duration": 64,
    "start_time": "2022-04-09T13:15:21.854Z"
   },
   {
    "duration": 1221,
    "start_time": "2022-04-09T13:15:21.921Z"
   },
   {
    "duration": 326,
    "start_time": "2022-04-09T13:15:23.144Z"
   },
   {
    "duration": 306,
    "start_time": "2022-04-09T13:15:23.472Z"
   },
   {
    "duration": 301,
    "start_time": "2022-04-09T13:15:23.783Z"
   },
   {
    "duration": 14,
    "start_time": "2022-04-09T13:15:24.086Z"
   },
   {
    "duration": 17,
    "start_time": "2022-04-09T13:15:24.102Z"
   },
   {
    "duration": 3,
    "start_time": "2022-04-09T13:15:24.121Z"
   },
   {
    "duration": 12,
    "start_time": "2022-04-09T13:15:24.126Z"
   },
   {
    "duration": 5,
    "start_time": "2022-04-09T13:15:24.141Z"
   },
   {
    "duration": 23,
    "start_time": "2022-04-09T13:15:24.184Z"
   },
   {
    "duration": 18,
    "start_time": "2022-04-09T13:15:24.210Z"
   },
   {
    "duration": 7,
    "start_time": "2022-04-09T13:15:24.231Z"
   },
   {
    "duration": 7,
    "start_time": "2022-04-09T13:16:43.608Z"
   },
   {
    "duration": 12,
    "start_time": "2022-04-09T13:16:44.745Z"
   },
   {
    "duration": 8,
    "start_time": "2022-04-09T13:17:53.737Z"
   },
   {
    "duration": 25,
    "start_time": "2022-04-09T13:17:54.680Z"
   },
   {
    "duration": 13,
    "start_time": "2022-04-09T13:18:12.742Z"
   },
   {
    "duration": 17,
    "start_time": "2022-04-09T13:20:56.060Z"
   },
   {
    "duration": 11,
    "start_time": "2022-04-09T13:22:03.158Z"
   },
   {
    "duration": 10,
    "start_time": "2022-04-09T13:22:46.698Z"
   },
   {
    "duration": 167,
    "start_time": "2022-04-09T13:23:35.066Z"
   },
   {
    "duration": 6,
    "start_time": "2022-04-09T13:24:24.716Z"
   },
   {
    "duration": 5,
    "start_time": "2022-04-09T13:35:05.327Z"
   },
   {
    "duration": 13,
    "start_time": "2022-04-09T13:35:06.903Z"
   },
   {
    "duration": 24,
    "start_time": "2022-04-09T13:35:54.279Z"
   },
   {
    "duration": 11,
    "start_time": "2022-04-09T13:37:14.902Z"
   },
   {
    "duration": 11,
    "start_time": "2022-04-09T13:37:19.864Z"
   },
   {
    "duration": 12,
    "start_time": "2022-04-09T13:37:40.561Z"
   },
   {
    "duration": 20,
    "start_time": "2022-04-09T13:43:54.533Z"
   },
   {
    "duration": 42,
    "start_time": "2022-04-09T13:44:10.176Z"
   },
   {
    "duration": 571,
    "start_time": "2022-04-09T13:44:39.558Z"
   },
   {
    "duration": 1044,
    "start_time": "2022-04-09T13:44:40.132Z"
   },
   {
    "duration": 6,
    "start_time": "2022-04-09T13:44:41.179Z"
   },
   {
    "duration": 15,
    "start_time": "2022-04-09T13:44:41.190Z"
   },
   {
    "duration": 8,
    "start_time": "2022-04-09T13:44:41.207Z"
   },
   {
    "duration": 6,
    "start_time": "2022-04-09T13:44:41.217Z"
   },
   {
    "duration": 6,
    "start_time": "2022-04-09T13:44:41.225Z"
   },
   {
    "duration": 609,
    "start_time": "2022-04-09T13:44:41.233Z"
   },
   {
    "duration": 110,
    "start_time": "2022-04-09T13:44:41.845Z"
   },
   {
    "duration": 373,
    "start_time": "2022-04-09T13:44:41.959Z"
   },
   {
    "duration": 196,
    "start_time": "2022-04-09T13:44:42.334Z"
   },
   {
    "duration": 16,
    "start_time": "2022-04-09T13:44:42.532Z"
   },
   {
    "duration": 8,
    "start_time": "2022-04-09T13:44:42.550Z"
   },
   {
    "duration": 11,
    "start_time": "2022-04-09T13:44:42.587Z"
   },
   {
    "duration": 8,
    "start_time": "2022-04-09T13:44:42.602Z"
   },
   {
    "duration": 15,
    "start_time": "2022-04-09T13:44:42.612Z"
   },
   {
    "duration": 15,
    "start_time": "2022-04-09T13:44:42.629Z"
   },
   {
    "duration": 53,
    "start_time": "2022-04-09T13:44:42.646Z"
   },
   {
    "duration": 6,
    "start_time": "2022-04-09T13:44:42.702Z"
   },
   {
    "duration": 15,
    "start_time": "2022-04-09T13:44:42.710Z"
   },
   {
    "duration": 81,
    "start_time": "2022-04-09T13:44:42.728Z"
   },
   {
    "duration": 26,
    "start_time": "2022-04-09T13:44:42.811Z"
   },
   {
    "duration": 22,
    "start_time": "2022-04-09T13:44:42.840Z"
   },
   {
    "duration": 75,
    "start_time": "2022-04-09T13:44:42.864Z"
   },
   {
    "duration": 10,
    "start_time": "2022-04-09T13:44:42.942Z"
   },
   {
    "duration": 58,
    "start_time": "2022-04-09T13:44:42.955Z"
   },
   {
    "duration": 41,
    "start_time": "2022-04-09T13:44:43.016Z"
   },
   {
    "duration": 39,
    "start_time": "2022-04-09T13:44:43.062Z"
   },
   {
    "duration": 20,
    "start_time": "2022-04-09T13:44:43.103Z"
   },
   {
    "duration": 31,
    "start_time": "2022-04-09T13:44:43.126Z"
   },
   {
    "duration": 8,
    "start_time": "2022-04-09T13:44:43.184Z"
   },
   {
    "duration": 15,
    "start_time": "2022-04-09T13:44:43.195Z"
   },
   {
    "duration": 20,
    "start_time": "2022-04-09T13:44:43.212Z"
   },
   {
    "duration": 12,
    "start_time": "2022-04-09T13:44:43.234Z"
   },
   {
    "duration": 21,
    "start_time": "2022-04-09T13:44:43.284Z"
   },
   {
    "duration": 16,
    "start_time": "2022-04-09T13:44:43.308Z"
   },
   {
    "duration": 538,
    "start_time": "2022-04-09T13:44:43.327Z"
   },
   {
    "duration": 45,
    "start_time": "2022-04-09T13:44:43.868Z"
   },
   {
    "duration": 33,
    "start_time": "2022-04-09T13:44:43.916Z"
   },
   {
    "duration": 85,
    "start_time": "2022-04-09T13:44:43.952Z"
   },
   {
    "duration": 1164,
    "start_time": "2022-04-09T13:44:44.039Z"
   },
   {
    "duration": 329,
    "start_time": "2022-04-09T13:44:45.206Z"
   },
   {
    "duration": 305,
    "start_time": "2022-04-09T13:44:45.537Z"
   },
   {
    "duration": 307,
    "start_time": "2022-04-09T13:44:45.845Z"
   },
   {
    "duration": 8,
    "start_time": "2022-04-09T13:44:46.154Z"
   },
   {
    "duration": 35,
    "start_time": "2022-04-09T13:44:46.164Z"
   },
   {
    "duration": 13,
    "start_time": "2022-04-09T13:44:46.201Z"
   },
   {
    "duration": 13,
    "start_time": "2022-04-09T13:44:46.217Z"
   },
   {
    "duration": 4,
    "start_time": "2022-04-09T13:44:46.233Z"
   },
   {
    "duration": 67,
    "start_time": "2022-04-09T13:44:46.239Z"
   },
   {
    "duration": 20,
    "start_time": "2022-04-09T13:44:46.308Z"
   },
   {
    "duration": 6,
    "start_time": "2022-04-09T13:44:46.330Z"
   },
   {
    "duration": 442,
    "start_time": "2022-04-10T13:14:33.454Z"
   },
   {
    "duration": 798,
    "start_time": "2022-04-10T13:14:33.899Z"
   },
   {
    "duration": 3,
    "start_time": "2022-04-10T13:14:34.699Z"
   },
   {
    "duration": 7,
    "start_time": "2022-04-10T13:14:34.705Z"
   },
   {
    "duration": 9,
    "start_time": "2022-04-10T13:14:34.714Z"
   },
   {
    "duration": 15,
    "start_time": "2022-04-10T13:14:34.725Z"
   },
   {
    "duration": 10,
    "start_time": "2022-04-10T13:14:34.742Z"
   },
   {
    "duration": 515,
    "start_time": "2022-04-10T13:14:34.754Z"
   },
   {
    "duration": 76,
    "start_time": "2022-04-10T13:14:35.270Z"
   },
   {
    "duration": 255,
    "start_time": "2022-04-10T13:14:35.349Z"
   },
   {
    "duration": 136,
    "start_time": "2022-04-10T13:14:35.605Z"
   },
   {
    "duration": 13,
    "start_time": "2022-04-10T13:14:35.743Z"
   },
   {
    "duration": 8,
    "start_time": "2022-04-10T13:14:35.758Z"
   },
   {
    "duration": 17,
    "start_time": "2022-04-10T13:14:35.767Z"
   },
   {
    "duration": 14,
    "start_time": "2022-04-10T13:14:35.786Z"
   },
   {
    "duration": 38,
    "start_time": "2022-04-10T13:14:35.802Z"
   },
   {
    "duration": 13,
    "start_time": "2022-04-10T13:14:35.842Z"
   },
   {
    "duration": 11,
    "start_time": "2022-04-10T13:14:35.857Z"
   },
   {
    "duration": 33,
    "start_time": "2022-04-10T13:14:35.870Z"
   },
   {
    "duration": 23,
    "start_time": "2022-04-10T13:14:35.905Z"
   },
   {
    "duration": 40,
    "start_time": "2022-04-10T13:14:35.930Z"
   },
   {
    "duration": 20,
    "start_time": "2022-04-10T13:14:35.973Z"
   },
   {
    "duration": 17,
    "start_time": "2022-04-10T13:14:35.995Z"
   },
   {
    "duration": 54,
    "start_time": "2022-04-10T13:14:36.014Z"
   },
   {
    "duration": 9,
    "start_time": "2022-04-10T13:14:36.070Z"
   },
   {
    "duration": 28,
    "start_time": "2022-04-10T13:14:36.082Z"
   },
   {
    "duration": 51,
    "start_time": "2022-04-10T13:14:36.111Z"
   },
   {
    "duration": 12,
    "start_time": "2022-04-10T13:14:36.166Z"
   },
   {
    "duration": 26,
    "start_time": "2022-04-10T13:14:36.179Z"
   },
   {
    "duration": 35,
    "start_time": "2022-04-10T13:14:36.207Z"
   },
   {
    "duration": 5,
    "start_time": "2022-04-10T13:14:36.244Z"
   },
   {
    "duration": 13,
    "start_time": "2022-04-10T13:14:36.251Z"
   },
   {
    "duration": 22,
    "start_time": "2022-04-10T13:14:36.266Z"
   },
   {
    "duration": 15,
    "start_time": "2022-04-10T13:14:36.289Z"
   },
   {
    "duration": 14,
    "start_time": "2022-04-10T13:14:36.305Z"
   },
   {
    "duration": 23,
    "start_time": "2022-04-10T13:14:36.321Z"
   },
   {
    "duration": 279,
    "start_time": "2022-04-10T13:14:36.346Z"
   },
   {
    "duration": 26,
    "start_time": "2022-04-10T13:14:36.626Z"
   },
   {
    "duration": 21,
    "start_time": "2022-04-10T13:14:36.654Z"
   },
   {
    "duration": 32,
    "start_time": "2022-04-10T13:14:36.676Z"
   },
   {
    "duration": 856,
    "start_time": "2022-04-10T13:14:36.710Z"
   },
   {
    "duration": 193,
    "start_time": "2022-04-10T13:14:37.568Z"
   },
   {
    "duration": 184,
    "start_time": "2022-04-10T13:14:37.763Z"
   },
   {
    "duration": 178,
    "start_time": "2022-04-10T13:14:37.949Z"
   },
   {
    "duration": 15,
    "start_time": "2022-04-10T13:14:38.128Z"
   },
   {
    "duration": 15,
    "start_time": "2022-04-10T13:14:38.145Z"
   },
   {
    "duration": 16,
    "start_time": "2022-04-10T13:14:38.162Z"
   },
   {
    "duration": 10,
    "start_time": "2022-04-10T13:14:38.180Z"
   },
   {
    "duration": 8,
    "start_time": "2022-04-10T13:14:38.192Z"
   },
   {
    "duration": 21,
    "start_time": "2022-04-10T13:14:38.202Z"
   },
   {
    "duration": 13,
    "start_time": "2022-04-10T13:14:38.239Z"
   },
   {
    "duration": 8,
    "start_time": "2022-04-10T13:14:38.254Z"
   },
   {
    "duration": 202,
    "start_time": "2022-04-10T17:06:49.170Z"
   },
   {
    "duration": 311,
    "start_time": "2022-04-10T17:09:16.336Z"
   },
   {
    "duration": 329,
    "start_time": "2022-04-10T17:09:57.649Z"
   },
   {
    "duration": 331,
    "start_time": "2022-04-10T17:10:03.782Z"
   },
   {
    "duration": 339,
    "start_time": "2022-04-10T17:11:09.105Z"
   },
   {
    "duration": 127,
    "start_time": "2022-04-10T17:11:53.014Z"
   },
   {
    "duration": 331,
    "start_time": "2022-04-10T17:12:00.288Z"
   },
   {
    "duration": 334,
    "start_time": "2022-04-10T17:12:10.449Z"
   },
   {
    "duration": 167,
    "start_time": "2022-04-10T17:33:21.046Z"
   },
   {
    "duration": 146,
    "start_time": "2022-04-10T17:35:46.196Z"
   },
   {
    "duration": 11,
    "start_time": "2022-04-10T17:35:50.913Z"
   },
   {
    "duration": 5,
    "start_time": "2022-04-10T17:36:22.216Z"
   },
   {
    "duration": 5,
    "start_time": "2022-04-10T17:36:46.707Z"
   },
   {
    "duration": 5,
    "start_time": "2022-04-10T17:37:23.888Z"
   },
   {
    "duration": 23,
    "start_time": "2022-04-10T17:38:48.554Z"
   },
   {
    "duration": 5,
    "start_time": "2022-04-10T17:38:53.000Z"
   },
   {
    "duration": 5,
    "start_time": "2022-04-10T17:38:54.153Z"
   },
   {
    "duration": 5,
    "start_time": "2022-04-10T17:38:57.058Z"
   },
   {
    "duration": 6,
    "start_time": "2022-04-10T17:38:57.595Z"
   },
   {
    "duration": 5,
    "start_time": "2022-04-10T17:40:21.428Z"
   },
   {
    "duration": 10,
    "start_time": "2022-04-10T17:48:35.181Z"
   },
   {
    "duration": 8,
    "start_time": "2022-04-10T17:51:55.697Z"
   },
   {
    "duration": 8,
    "start_time": "2022-04-10T17:52:25.194Z"
   },
   {
    "duration": 9,
    "start_time": "2022-04-10T17:52:38.513Z"
   },
   {
    "duration": 6,
    "start_time": "2022-04-10T17:53:07.966Z"
   },
   {
    "duration": 7,
    "start_time": "2022-04-10T17:53:21.331Z"
   },
   {
    "duration": 6,
    "start_time": "2022-04-10T17:53:26.745Z"
   },
   {
    "duration": 12,
    "start_time": "2022-04-10T17:54:17.266Z"
   },
   {
    "duration": 6,
    "start_time": "2022-04-10T17:54:32.131Z"
   },
   {
    "duration": 6,
    "start_time": "2022-04-10T17:54:49.463Z"
   },
   {
    "duration": 6,
    "start_time": "2022-04-10T17:56:05.367Z"
   },
   {
    "duration": 9,
    "start_time": "2022-04-10T17:56:40.370Z"
   },
   {
    "duration": 9,
    "start_time": "2022-04-10T17:58:11.381Z"
   },
   {
    "duration": 9,
    "start_time": "2022-04-10T17:58:22.356Z"
   },
   {
    "duration": 422,
    "start_time": "2022-04-10T18:06:37.252Z"
   },
   {
    "duration": 813,
    "start_time": "2022-04-10T18:06:37.676Z"
   },
   {
    "duration": 3,
    "start_time": "2022-04-10T18:06:38.491Z"
   },
   {
    "duration": 9,
    "start_time": "2022-04-10T18:06:38.496Z"
   },
   {
    "duration": 7,
    "start_time": "2022-04-10T18:06:38.507Z"
   },
   {
    "duration": 9,
    "start_time": "2022-04-10T18:06:38.516Z"
   },
   {
    "duration": 11,
    "start_time": "2022-04-10T18:06:38.527Z"
   },
   {
    "duration": 460,
    "start_time": "2022-04-10T18:06:38.540Z"
   },
   {
    "duration": 76,
    "start_time": "2022-04-10T18:06:39.002Z"
   },
   {
    "duration": 409,
    "start_time": "2022-04-10T18:06:39.081Z"
   },
   {
    "duration": 265,
    "start_time": "2022-04-10T18:06:39.492Z"
   },
   {
    "duration": 139,
    "start_time": "2022-04-10T18:06:39.759Z"
   },
   {
    "duration": 10,
    "start_time": "2022-04-10T18:06:39.900Z"
   },
   {
    "duration": 7,
    "start_time": "2022-04-10T18:06:39.912Z"
   },
   {
    "duration": 8,
    "start_time": "2022-04-10T18:06:39.938Z"
   },
   {
    "duration": 13,
    "start_time": "2022-04-10T18:06:39.947Z"
   },
   {
    "duration": 14,
    "start_time": "2022-04-10T18:06:39.961Z"
   },
   {
    "duration": 17,
    "start_time": "2022-04-10T18:06:39.977Z"
   },
   {
    "duration": 10,
    "start_time": "2022-04-10T18:06:39.996Z"
   },
   {
    "duration": 31,
    "start_time": "2022-04-10T18:06:40.008Z"
   },
   {
    "duration": 24,
    "start_time": "2022-04-10T18:06:40.041Z"
   },
   {
    "duration": 35,
    "start_time": "2022-04-10T18:06:40.066Z"
   },
   {
    "duration": 19,
    "start_time": "2022-04-10T18:06:40.102Z"
   },
   {
    "duration": 21,
    "start_time": "2022-04-10T18:06:40.123Z"
   },
   {
    "duration": 39,
    "start_time": "2022-04-10T18:06:40.146Z"
   },
   {
    "duration": 9,
    "start_time": "2022-04-10T18:06:40.187Z"
   },
   {
    "duration": 45,
    "start_time": "2022-04-10T18:06:40.198Z"
   },
   {
    "duration": 28,
    "start_time": "2022-04-10T18:06:40.248Z"
   },
   {
    "duration": 12,
    "start_time": "2022-04-10T18:06:40.278Z"
   },
   {
    "duration": 18,
    "start_time": "2022-04-10T18:06:40.292Z"
   },
   {
    "duration": 46,
    "start_time": "2022-04-10T18:06:40.311Z"
   },
   {
    "duration": 6,
    "start_time": "2022-04-10T18:06:40.358Z"
   },
   {
    "duration": 8,
    "start_time": "2022-04-10T18:06:40.365Z"
   },
   {
    "duration": 8,
    "start_time": "2022-04-10T18:06:40.375Z"
   },
   {
    "duration": 14,
    "start_time": "2022-04-10T18:06:40.385Z"
   },
   {
    "duration": 11,
    "start_time": "2022-04-10T18:06:40.401Z"
   },
   {
    "duration": 7,
    "start_time": "2022-04-10T18:06:40.440Z"
   },
   {
    "duration": 17,
    "start_time": "2022-04-10T18:06:40.449Z"
   },
   {
    "duration": 12,
    "start_time": "2022-04-10T18:06:40.468Z"
   },
   {
    "duration": 15,
    "start_time": "2022-04-10T18:06:40.482Z"
   },
   {
    "duration": 19,
    "start_time": "2022-04-10T18:06:40.498Z"
   },
   {
    "duration": 295,
    "start_time": "2022-04-10T18:06:40.519Z"
   },
   {
    "duration": 30,
    "start_time": "2022-04-10T18:06:40.815Z"
   },
   {
    "duration": 21,
    "start_time": "2022-04-10T18:06:40.847Z"
   },
   {
    "duration": 33,
    "start_time": "2022-04-10T18:06:40.870Z"
   },
   {
    "duration": 876,
    "start_time": "2022-04-10T18:06:40.905Z"
   },
   {
    "duration": 202,
    "start_time": "2022-04-10T18:06:41.783Z"
   },
   {
    "duration": 189,
    "start_time": "2022-04-10T18:06:41.987Z"
   },
   {
    "duration": 186,
    "start_time": "2022-04-10T18:06:42.178Z"
   },
   {
    "duration": 6,
    "start_time": "2022-04-10T18:06:42.366Z"
   },
   {
    "duration": 18,
    "start_time": "2022-04-10T18:06:42.373Z"
   },
   {
    "duration": 20,
    "start_time": "2022-04-10T18:06:42.393Z"
   },
   {
    "duration": 14,
    "start_time": "2022-04-10T18:06:42.415Z"
   },
   {
    "duration": 8,
    "start_time": "2022-04-10T18:06:42.431Z"
   },
   {
    "duration": 22,
    "start_time": "2022-04-10T18:06:42.441Z"
   },
   {
    "duration": 13,
    "start_time": "2022-04-10T18:06:42.465Z"
   },
   {
    "duration": 4,
    "start_time": "2022-04-10T18:06:42.480Z"
   },
   {
    "duration": 19,
    "start_time": "2022-04-10T18:08:23.258Z"
   },
   {
    "duration": 434,
    "start_time": "2022-04-10T18:09:02.894Z"
   },
   {
    "duration": 785,
    "start_time": "2022-04-10T18:09:03.331Z"
   },
   {
    "duration": 3,
    "start_time": "2022-04-10T18:09:04.118Z"
   },
   {
    "duration": 9,
    "start_time": "2022-04-10T18:09:04.124Z"
   },
   {
    "duration": 9,
    "start_time": "2022-04-10T18:09:04.135Z"
   },
   {
    "duration": 11,
    "start_time": "2022-04-10T18:09:04.146Z"
   },
   {
    "duration": 12,
    "start_time": "2022-04-10T18:09:04.159Z"
   },
   {
    "duration": 479,
    "start_time": "2022-04-10T18:09:04.174Z"
   },
   {
    "duration": 79,
    "start_time": "2022-04-10T18:09:04.655Z"
   },
   {
    "duration": 441,
    "start_time": "2022-04-10T18:09:04.738Z"
   },
   {
    "duration": 271,
    "start_time": "2022-04-10T18:09:05.181Z"
   },
   {
    "duration": 141,
    "start_time": "2022-04-10T18:09:05.454Z"
   },
   {
    "duration": 11,
    "start_time": "2022-04-10T18:09:05.597Z"
   },
   {
    "duration": 21,
    "start_time": "2022-04-10T18:09:05.610Z"
   },
   {
    "duration": 15,
    "start_time": "2022-04-10T18:09:05.632Z"
   },
   {
    "duration": 22,
    "start_time": "2022-04-10T18:09:05.649Z"
   },
   {
    "duration": 35,
    "start_time": "2022-04-10T18:09:05.673Z"
   },
   {
    "duration": 31,
    "start_time": "2022-04-10T18:09:05.710Z"
   },
   {
    "duration": 13,
    "start_time": "2022-04-10T18:09:05.743Z"
   },
   {
    "duration": 18,
    "start_time": "2022-04-10T18:09:05.758Z"
   },
   {
    "duration": 27,
    "start_time": "2022-04-10T18:09:05.779Z"
   },
   {
    "duration": 40,
    "start_time": "2022-04-10T18:09:05.808Z"
   },
   {
    "duration": 20,
    "start_time": "2022-04-10T18:09:05.849Z"
   },
   {
    "duration": 16,
    "start_time": "2022-04-10T18:09:05.871Z"
   },
   {
    "duration": 60,
    "start_time": "2022-04-10T18:09:05.889Z"
   },
   {
    "duration": 8,
    "start_time": "2022-04-10T18:09:05.951Z"
   },
   {
    "duration": 44,
    "start_time": "2022-04-10T18:09:05.961Z"
   },
   {
    "duration": 30,
    "start_time": "2022-04-10T18:09:06.009Z"
   },
   {
    "duration": 13,
    "start_time": "2022-04-10T18:09:06.041Z"
   },
   {
    "duration": 29,
    "start_time": "2022-04-10T18:09:06.055Z"
   },
   {
    "duration": 44,
    "start_time": "2022-04-10T18:09:06.086Z"
   },
   {
    "duration": 10,
    "start_time": "2022-04-10T18:09:06.132Z"
   },
   {
    "duration": 16,
    "start_time": "2022-04-10T18:09:06.143Z"
   },
   {
    "duration": 17,
    "start_time": "2022-04-10T18:09:06.160Z"
   },
   {
    "duration": 28,
    "start_time": "2022-04-10T18:09:06.179Z"
   },
   {
    "duration": 20,
    "start_time": "2022-04-10T18:09:06.209Z"
   },
   {
    "duration": 15,
    "start_time": "2022-04-10T18:09:06.231Z"
   },
   {
    "duration": 23,
    "start_time": "2022-04-10T18:09:06.248Z"
   },
   {
    "duration": 28,
    "start_time": "2022-04-10T18:09:06.273Z"
   },
   {
    "duration": 21,
    "start_time": "2022-04-10T18:09:06.303Z"
   },
   {
    "duration": 32,
    "start_time": "2022-04-10T18:09:06.326Z"
   },
   {
    "duration": 264,
    "start_time": "2022-04-10T18:09:06.360Z"
   },
   {
    "duration": 26,
    "start_time": "2022-04-10T18:09:06.627Z"
   },
   {
    "duration": 46,
    "start_time": "2022-04-10T18:09:06.655Z"
   },
   {
    "duration": 36,
    "start_time": "2022-04-10T18:09:06.703Z"
   },
   {
    "duration": 828,
    "start_time": "2022-04-10T18:09:06.741Z"
   },
   {
    "duration": 191,
    "start_time": "2022-04-10T18:09:07.572Z"
   },
   {
    "duration": 190,
    "start_time": "2022-04-10T18:09:07.765Z"
   },
   {
    "duration": 182,
    "start_time": "2022-04-10T18:09:07.956Z"
   },
   {
    "duration": 17,
    "start_time": "2022-04-10T18:09:08.140Z"
   },
   {
    "duration": 5,
    "start_time": "2022-04-10T18:12:05.430Z"
   },
   {
    "duration": 10,
    "start_time": "2022-04-10T18:12:09.474Z"
   },
   {
    "duration": 23,
    "start_time": "2022-04-10T18:12:58.457Z"
   },
   {
    "duration": 15,
    "start_time": "2022-04-10T18:13:13.449Z"
   },
   {
    "duration": 5,
    "start_time": "2022-04-10T18:16:33.733Z"
   },
   {
    "duration": 472,
    "start_time": "2022-04-10T18:17:36.703Z"
   },
   {
    "duration": 802,
    "start_time": "2022-04-10T18:17:37.177Z"
   },
   {
    "duration": 3,
    "start_time": "2022-04-10T18:17:37.981Z"
   },
   {
    "duration": 11,
    "start_time": "2022-04-10T18:17:37.986Z"
   },
   {
    "duration": 10,
    "start_time": "2022-04-10T18:17:37.998Z"
   },
   {
    "duration": 9,
    "start_time": "2022-04-10T18:17:38.010Z"
   },
   {
    "duration": 9,
    "start_time": "2022-04-10T18:17:38.021Z"
   },
   {
    "duration": 461,
    "start_time": "2022-04-10T18:17:38.032Z"
   },
   {
    "duration": 75,
    "start_time": "2022-04-10T18:17:38.495Z"
   },
   {
    "duration": 397,
    "start_time": "2022-04-10T18:17:38.573Z"
   },
   {
    "duration": 251,
    "start_time": "2022-04-10T18:17:38.972Z"
   },
   {
    "duration": 139,
    "start_time": "2022-04-10T18:17:39.225Z"
   },
   {
    "duration": 12,
    "start_time": "2022-04-10T18:17:39.366Z"
   },
   {
    "duration": 9,
    "start_time": "2022-04-10T18:17:39.380Z"
   },
   {
    "duration": 7,
    "start_time": "2022-04-10T18:17:39.391Z"
   },
   {
    "duration": 43,
    "start_time": "2022-04-10T18:17:39.400Z"
   },
   {
    "duration": 11,
    "start_time": "2022-04-10T18:17:39.445Z"
   },
   {
    "duration": 17,
    "start_time": "2022-04-10T18:17:39.458Z"
   },
   {
    "duration": 11,
    "start_time": "2022-04-10T18:17:39.477Z"
   },
   {
    "duration": 9,
    "start_time": "2022-04-10T18:17:39.490Z"
   },
   {
    "duration": 39,
    "start_time": "2022-04-10T18:17:39.501Z"
   },
   {
    "duration": 30,
    "start_time": "2022-04-10T18:17:39.543Z"
   },
   {
    "duration": 19,
    "start_time": "2022-04-10T18:17:39.576Z"
   },
   {
    "duration": 17,
    "start_time": "2022-04-10T18:17:39.597Z"
   },
   {
    "duration": 40,
    "start_time": "2022-04-10T18:17:39.638Z"
   },
   {
    "duration": 10,
    "start_time": "2022-04-10T18:17:39.680Z"
   },
   {
    "duration": 27,
    "start_time": "2022-04-10T18:17:39.692Z"
   },
   {
    "duration": 29,
    "start_time": "2022-04-10T18:17:39.742Z"
   },
   {
    "duration": 11,
    "start_time": "2022-04-10T18:17:39.773Z"
   },
   {
    "duration": 19,
    "start_time": "2022-04-10T18:17:39.785Z"
   },
   {
    "duration": 45,
    "start_time": "2022-04-10T18:17:39.807Z"
   },
   {
    "duration": 4,
    "start_time": "2022-04-10T18:17:39.854Z"
   },
   {
    "duration": 10,
    "start_time": "2022-04-10T18:17:39.860Z"
   },
   {
    "duration": 10,
    "start_time": "2022-04-10T18:17:39.872Z"
   },
   {
    "duration": 17,
    "start_time": "2022-04-10T18:17:39.884Z"
   },
   {
    "duration": 14,
    "start_time": "2022-04-10T18:17:39.903Z"
   },
   {
    "duration": 28,
    "start_time": "2022-04-10T18:17:39.919Z"
   },
   {
    "duration": 6,
    "start_time": "2022-04-10T18:17:39.949Z"
   },
   {
    "duration": 17,
    "start_time": "2022-04-10T18:17:39.957Z"
   },
   {
    "duration": 9,
    "start_time": "2022-04-10T18:17:39.976Z"
   },
   {
    "duration": 13,
    "start_time": "2022-04-10T18:17:39.986Z"
   },
   {
    "duration": 23,
    "start_time": "2022-04-10T18:17:40.001Z"
   },
   {
    "duration": 19,
    "start_time": "2022-04-10T18:17:40.027Z"
   },
   {
    "duration": 19,
    "start_time": "2022-04-10T18:17:40.048Z"
   },
   {
    "duration": 275,
    "start_time": "2022-04-10T18:17:40.069Z"
   },
   {
    "duration": 21,
    "start_time": "2022-04-10T18:17:40.346Z"
   },
   {
    "duration": 20,
    "start_time": "2022-04-10T18:17:40.369Z"
   },
   {
    "duration": 56,
    "start_time": "2022-04-10T18:17:40.390Z"
   },
   {
    "duration": 806,
    "start_time": "2022-04-10T18:17:40.448Z"
   },
   {
    "duration": 193,
    "start_time": "2022-04-10T18:17:41.256Z"
   },
   {
    "duration": 189,
    "start_time": "2022-04-10T18:17:41.451Z"
   },
   {
    "duration": 180,
    "start_time": "2022-04-10T18:17:41.642Z"
   },
   {
    "duration": 25,
    "start_time": "2022-04-10T18:17:41.823Z"
   },
   {
    "duration": 6,
    "start_time": "2022-04-10T18:17:41.849Z"
   },
   {
    "duration": 14,
    "start_time": "2022-04-10T18:17:41.857Z"
   },
   {
    "duration": 14,
    "start_time": "2022-04-10T18:17:41.873Z"
   },
   {
    "duration": 13,
    "start_time": "2022-04-10T18:17:41.889Z"
   },
   {
    "duration": 7,
    "start_time": "2022-04-10T18:17:41.904Z"
   },
   {
    "duration": 38,
    "start_time": "2022-04-10T18:17:41.913Z"
   },
   {
    "duration": 17,
    "start_time": "2022-04-10T18:17:41.953Z"
   },
   {
    "duration": 4,
    "start_time": "2022-04-10T18:17:41.972Z"
   },
   {
    "duration": 452,
    "start_time": "2022-04-10T18:17:59.317Z"
   },
   {
    "duration": 827,
    "start_time": "2022-04-10T18:17:59.771Z"
   },
   {
    "duration": 3,
    "start_time": "2022-04-10T18:18:00.600Z"
   },
   {
    "duration": 15,
    "start_time": "2022-04-10T18:18:00.607Z"
   },
   {
    "duration": 16,
    "start_time": "2022-04-10T18:18:00.624Z"
   },
   {
    "duration": 11,
    "start_time": "2022-04-10T18:18:00.642Z"
   },
   {
    "duration": 9,
    "start_time": "2022-04-10T18:18:00.655Z"
   },
   {
    "duration": 469,
    "start_time": "2022-04-10T18:18:00.666Z"
   },
   {
    "duration": 81,
    "start_time": "2022-04-10T18:18:01.137Z"
   },
   {
    "duration": 440,
    "start_time": "2022-04-10T18:18:01.222Z"
   },
   {
    "duration": 268,
    "start_time": "2022-04-10T18:18:01.664Z"
   },
   {
    "duration": 139,
    "start_time": "2022-04-10T18:18:01.938Z"
   },
   {
    "duration": 11,
    "start_time": "2022-04-10T18:18:02.078Z"
   },
   {
    "duration": 20,
    "start_time": "2022-04-10T18:18:02.091Z"
   },
   {
    "duration": 10,
    "start_time": "2022-04-10T18:18:02.113Z"
   },
   {
    "duration": 19,
    "start_time": "2022-04-10T18:18:02.124Z"
   },
   {
    "duration": 26,
    "start_time": "2022-04-10T18:18:02.145Z"
   },
   {
    "duration": 26,
    "start_time": "2022-04-10T18:18:02.173Z"
   },
   {
    "duration": 13,
    "start_time": "2022-04-10T18:18:02.201Z"
   },
   {
    "duration": 24,
    "start_time": "2022-04-10T18:18:02.216Z"
   },
   {
    "duration": 21,
    "start_time": "2022-04-10T18:18:02.242Z"
   },
   {
    "duration": 34,
    "start_time": "2022-04-10T18:18:02.266Z"
   },
   {
    "duration": 19,
    "start_time": "2022-04-10T18:18:02.303Z"
   },
   {
    "duration": 21,
    "start_time": "2022-04-10T18:18:02.324Z"
   },
   {
    "duration": 40,
    "start_time": "2022-04-10T18:18:02.347Z"
   },
   {
    "duration": 9,
    "start_time": "2022-04-10T18:18:02.389Z"
   },
   {
    "duration": 48,
    "start_time": "2022-04-10T18:18:02.400Z"
   },
   {
    "duration": 30,
    "start_time": "2022-04-10T18:18:02.453Z"
   },
   {
    "duration": 12,
    "start_time": "2022-04-10T18:18:02.486Z"
   },
   {
    "duration": 38,
    "start_time": "2022-04-10T18:18:02.500Z"
   },
   {
    "duration": 22,
    "start_time": "2022-04-10T18:18:02.541Z"
   },
   {
    "duration": 5,
    "start_time": "2022-04-10T18:18:02.565Z"
   },
   {
    "duration": 10,
    "start_time": "2022-04-10T18:18:02.572Z"
   },
   {
    "duration": 10,
    "start_time": "2022-04-10T18:18:02.584Z"
   },
   {
    "duration": 20,
    "start_time": "2022-04-10T18:18:02.595Z"
   },
   {
    "duration": 27,
    "start_time": "2022-04-10T18:18:02.617Z"
   },
   {
    "duration": 28,
    "start_time": "2022-04-10T18:18:02.647Z"
   },
   {
    "duration": 15,
    "start_time": "2022-04-10T18:18:02.677Z"
   },
   {
    "duration": 20,
    "start_time": "2022-04-10T18:18:02.694Z"
   },
   {
    "duration": 25,
    "start_time": "2022-04-10T18:18:02.716Z"
   },
   {
    "duration": 15,
    "start_time": "2022-04-10T18:18:02.743Z"
   },
   {
    "duration": 12,
    "start_time": "2022-04-10T18:18:02.760Z"
   },
   {
    "duration": 16,
    "start_time": "2022-04-10T18:18:02.774Z"
   },
   {
    "duration": 17,
    "start_time": "2022-04-10T18:18:02.792Z"
   },
   {
    "duration": 268,
    "start_time": "2022-04-10T18:18:02.811Z"
   },
   {
    "duration": 22,
    "start_time": "2022-04-10T18:18:03.081Z"
   },
   {
    "duration": 39,
    "start_time": "2022-04-10T18:18:03.105Z"
   },
   {
    "duration": 34,
    "start_time": "2022-04-10T18:18:03.146Z"
   },
   {
    "duration": 902,
    "start_time": "2022-04-10T18:18:03.182Z"
   },
   {
    "duration": 200,
    "start_time": "2022-04-10T18:18:04.086Z"
   },
   {
    "duration": 188,
    "start_time": "2022-04-10T18:18:04.288Z"
   },
   {
    "duration": 183,
    "start_time": "2022-04-10T18:18:04.477Z"
   },
   {
    "duration": 18,
    "start_time": "2022-04-10T18:18:04.661Z"
   },
   {
    "duration": 13,
    "start_time": "2022-04-10T18:18:04.681Z"
   },
   {
    "duration": 15,
    "start_time": "2022-04-10T18:18:04.696Z"
   },
   {
    "duration": 27,
    "start_time": "2022-04-10T18:18:04.712Z"
   },
   {
    "duration": 10,
    "start_time": "2022-04-10T18:18:04.740Z"
   },
   {
    "duration": 4,
    "start_time": "2022-04-10T18:18:04.752Z"
   },
   {
    "duration": 19,
    "start_time": "2022-04-10T18:18:04.758Z"
   },
   {
    "duration": 13,
    "start_time": "2022-04-10T18:18:04.779Z"
   },
   {
    "duration": 16,
    "start_time": "2022-04-10T18:18:04.794Z"
   },
   {
    "duration": 23,
    "start_time": "2022-04-10T18:18:53.874Z"
   },
   {
    "duration": 10,
    "start_time": "2022-04-10T18:19:14.677Z"
   },
   {
    "duration": 15,
    "start_time": "2022-04-10T18:29:20.361Z"
   },
   {
    "duration": 8,
    "start_time": "2022-04-10T18:31:40.135Z"
   },
   {
    "duration": 449,
    "start_time": "2022-04-10T18:33:04.792Z"
   },
   {
    "duration": 861,
    "start_time": "2022-04-10T18:33:05.243Z"
   },
   {
    "duration": 3,
    "start_time": "2022-04-10T18:33:06.106Z"
   },
   {
    "duration": 9,
    "start_time": "2022-04-10T18:33:06.111Z"
   },
   {
    "duration": 14,
    "start_time": "2022-04-10T18:33:06.121Z"
   },
   {
    "duration": 12,
    "start_time": "2022-04-10T18:33:06.138Z"
   },
   {
    "duration": 10,
    "start_time": "2022-04-10T18:33:06.152Z"
   },
   {
    "duration": 467,
    "start_time": "2022-04-10T18:33:06.164Z"
   },
   {
    "duration": 77,
    "start_time": "2022-04-10T18:33:06.633Z"
   },
   {
    "duration": 440,
    "start_time": "2022-04-10T18:33:06.715Z"
   },
   {
    "duration": 257,
    "start_time": "2022-04-10T18:33:07.157Z"
   },
   {
    "duration": 153,
    "start_time": "2022-04-10T18:33:07.416Z"
   },
   {
    "duration": 14,
    "start_time": "2022-04-10T18:33:07.571Z"
   },
   {
    "duration": 29,
    "start_time": "2022-04-10T18:33:07.587Z"
   },
   {
    "duration": 22,
    "start_time": "2022-04-10T18:33:07.619Z"
   },
   {
    "duration": 35,
    "start_time": "2022-04-10T18:33:07.644Z"
   },
   {
    "duration": 24,
    "start_time": "2022-04-10T18:33:07.681Z"
   },
   {
    "duration": 67,
    "start_time": "2022-04-10T18:33:07.707Z"
   },
   {
    "duration": 27,
    "start_time": "2022-04-10T18:33:07.776Z"
   },
   {
    "duration": 43,
    "start_time": "2022-04-10T18:33:07.805Z"
   },
   {
    "duration": 46,
    "start_time": "2022-04-10T18:33:07.849Z"
   },
   {
    "duration": 51,
    "start_time": "2022-04-10T18:33:07.897Z"
   },
   {
    "duration": 30,
    "start_time": "2022-04-10T18:33:07.950Z"
   },
   {
    "duration": 17,
    "start_time": "2022-04-10T18:33:07.982Z"
   },
   {
    "duration": 50,
    "start_time": "2022-04-10T18:33:08.001Z"
   },
   {
    "duration": 10,
    "start_time": "2022-04-10T18:33:08.053Z"
   },
   {
    "duration": 67,
    "start_time": "2022-04-10T18:33:08.065Z"
   },
   {
    "duration": 36,
    "start_time": "2022-04-10T18:33:08.138Z"
   },
   {
    "duration": 43,
    "start_time": "2022-04-10T18:33:08.176Z"
   },
   {
    "duration": 37,
    "start_time": "2022-04-10T18:33:08.221Z"
   },
   {
    "duration": 48,
    "start_time": "2022-04-10T18:33:08.261Z"
   },
   {
    "duration": 44,
    "start_time": "2022-04-10T18:33:08.312Z"
   },
   {
    "duration": 38,
    "start_time": "2022-04-10T18:33:08.358Z"
   },
   {
    "duration": 16,
    "start_time": "2022-04-10T18:33:08.399Z"
   },
   {
    "duration": 23,
    "start_time": "2022-04-10T18:33:08.417Z"
   },
   {
    "duration": 35,
    "start_time": "2022-04-10T18:33:08.442Z"
   },
   {
    "duration": 53,
    "start_time": "2022-04-10T18:33:08.479Z"
   },
   {
    "duration": 42,
    "start_time": "2022-04-10T18:33:08.534Z"
   },
   {
    "duration": 34,
    "start_time": "2022-04-10T18:33:08.579Z"
   },
   {
    "duration": 34,
    "start_time": "2022-04-10T18:33:08.614Z"
   },
   {
    "duration": 41,
    "start_time": "2022-04-10T18:33:08.651Z"
   },
   {
    "duration": 41,
    "start_time": "2022-04-10T18:33:08.694Z"
   },
   {
    "duration": 74,
    "start_time": "2022-04-10T18:33:08.737Z"
   },
   {
    "duration": 39,
    "start_time": "2022-04-10T18:33:08.813Z"
   },
   {
    "duration": 287,
    "start_time": "2022-04-10T18:33:08.855Z"
   },
   {
    "duration": 14,
    "start_time": "2022-04-10T18:33:09.144Z"
   },
   {
    "duration": 38,
    "start_time": "2022-04-10T18:33:09.160Z"
   },
   {
    "duration": 36,
    "start_time": "2022-04-10T18:33:09.200Z"
   },
   {
    "duration": 36,
    "start_time": "2022-04-10T18:33:09.238Z"
   },
   {
    "duration": 771,
    "start_time": "2022-04-10T18:33:09.276Z"
   },
   {
    "duration": 194,
    "start_time": "2022-04-10T18:33:10.050Z"
   },
   {
    "duration": 185,
    "start_time": "2022-04-10T18:33:10.247Z"
   },
   {
    "duration": 173,
    "start_time": "2022-04-10T18:33:10.438Z"
   },
   {
    "duration": 27,
    "start_time": "2022-04-10T18:33:10.613Z"
   },
   {
    "duration": 7,
    "start_time": "2022-04-10T18:33:10.642Z"
   },
   {
    "duration": 36,
    "start_time": "2022-04-10T18:33:10.651Z"
   },
   {
    "duration": 29,
    "start_time": "2022-04-10T18:33:10.689Z"
   },
   {
    "duration": 33,
    "start_time": "2022-04-10T18:33:10.720Z"
   },
   {
    "duration": 38,
    "start_time": "2022-04-10T18:33:10.755Z"
   },
   {
    "duration": 33,
    "start_time": "2022-04-10T18:33:10.795Z"
   },
   {
    "duration": 23,
    "start_time": "2022-04-10T18:33:10.830Z"
   },
   {
    "duration": 38,
    "start_time": "2022-04-10T18:33:10.855Z"
   },
   {
    "duration": 21,
    "start_time": "2022-04-10T18:33:10.895Z"
   },
   {
    "duration": 28,
    "start_time": "2022-04-10T18:33:10.918Z"
   },
   {
    "duration": 20,
    "start_time": "2022-04-10T18:33:54.345Z"
   },
   {
    "duration": 20,
    "start_time": "2022-04-10T18:34:04.721Z"
   },
   {
    "duration": 6,
    "start_time": "2022-04-10T18:34:20.233Z"
   },
   {
    "duration": 20,
    "start_time": "2022-04-10T18:34:35.740Z"
   },
   {
    "duration": 5,
    "start_time": "2022-04-10T18:41:45.554Z"
   },
   {
    "duration": 5,
    "start_time": "2022-04-10T18:42:01.610Z"
   },
   {
    "duration": 283,
    "start_time": "2022-04-10T18:48:01.103Z"
   },
   {
    "duration": 279,
    "start_time": "2022-04-10T18:48:16.343Z"
   },
   {
    "duration": 1929,
    "start_time": "2022-04-10T18:48:23.325Z"
   },
   {
    "duration": 260,
    "start_time": "2022-04-10T18:48:35.956Z"
   },
   {
    "duration": 7,
    "start_time": "2022-04-10T18:48:48.341Z"
   },
   {
    "duration": 385,
    "start_time": "2022-04-10T18:48:49.318Z"
   },
   {
    "duration": 21,
    "start_time": "2022-04-10T18:50:47.012Z"
   },
   {
    "duration": 480,
    "start_time": "2022-04-10T18:51:04.918Z"
   },
   {
    "duration": 814,
    "start_time": "2022-04-10T18:51:05.401Z"
   },
   {
    "duration": 3,
    "start_time": "2022-04-10T18:51:06.217Z"
   },
   {
    "duration": 12,
    "start_time": "2022-04-10T18:51:06.222Z"
   },
   {
    "duration": 23,
    "start_time": "2022-04-10T18:51:06.238Z"
   },
   {
    "duration": 22,
    "start_time": "2022-04-10T18:51:06.263Z"
   },
   {
    "duration": 10,
    "start_time": "2022-04-10T18:51:06.286Z"
   },
   {
    "duration": 530,
    "start_time": "2022-04-10T18:51:06.297Z"
   },
   {
    "duration": 76,
    "start_time": "2022-04-10T18:51:06.829Z"
   },
   {
    "duration": 440,
    "start_time": "2022-04-10T18:51:06.909Z"
   },
   {
    "duration": 263,
    "start_time": "2022-04-10T18:51:07.350Z"
   },
   {
    "duration": 137,
    "start_time": "2022-04-10T18:51:07.615Z"
   },
   {
    "duration": 11,
    "start_time": "2022-04-10T18:51:07.754Z"
   },
   {
    "duration": 8,
    "start_time": "2022-04-10T18:51:07.766Z"
   },
   {
    "duration": 11,
    "start_time": "2022-04-10T18:51:07.776Z"
   },
   {
    "duration": 16,
    "start_time": "2022-04-10T18:51:07.788Z"
   },
   {
    "duration": 36,
    "start_time": "2022-04-10T18:51:07.806Z"
   },
   {
    "duration": 19,
    "start_time": "2022-04-10T18:51:07.844Z"
   },
   {
    "duration": 9,
    "start_time": "2022-04-10T18:51:07.866Z"
   },
   {
    "duration": 9,
    "start_time": "2022-04-10T18:51:07.877Z"
   },
   {
    "duration": 14,
    "start_time": "2022-04-10T18:51:07.888Z"
   },
   {
    "duration": 46,
    "start_time": "2022-04-10T18:51:07.904Z"
   },
   {
    "duration": 20,
    "start_time": "2022-04-10T18:51:07.952Z"
   },
   {
    "duration": 17,
    "start_time": "2022-04-10T18:51:07.974Z"
   },
   {
    "duration": 70,
    "start_time": "2022-04-10T18:51:07.993Z"
   },
   {
    "duration": 8,
    "start_time": "2022-04-10T18:51:08.065Z"
   },
   {
    "duration": 35,
    "start_time": "2022-04-10T18:51:08.075Z"
   },
   {
    "duration": 45,
    "start_time": "2022-04-10T18:51:08.115Z"
   },
   {
    "duration": 12,
    "start_time": "2022-04-10T18:51:08.162Z"
   },
   {
    "duration": 17,
    "start_time": "2022-04-10T18:51:08.176Z"
   },
   {
    "duration": 43,
    "start_time": "2022-04-10T18:51:08.195Z"
   },
   {
    "duration": 10,
    "start_time": "2022-04-10T18:51:08.241Z"
   },
   {
    "duration": 20,
    "start_time": "2022-04-10T18:51:08.252Z"
   },
   {
    "duration": 23,
    "start_time": "2022-04-10T18:51:08.273Z"
   },
   {
    "duration": 20,
    "start_time": "2022-04-10T18:51:08.298Z"
   },
   {
    "duration": 15,
    "start_time": "2022-04-10T18:51:08.320Z"
   },
   {
    "duration": 17,
    "start_time": "2022-04-10T18:51:08.336Z"
   },
   {
    "duration": 15,
    "start_time": "2022-04-10T18:51:08.355Z"
   },
   {
    "duration": 15,
    "start_time": "2022-04-10T18:51:08.372Z"
   },
   {
    "duration": 10,
    "start_time": "2022-04-10T18:51:08.389Z"
   },
   {
    "duration": 10,
    "start_time": "2022-04-10T18:51:08.401Z"
   },
   {
    "duration": 15,
    "start_time": "2022-04-10T18:51:08.413Z"
   },
   {
    "duration": 12,
    "start_time": "2022-04-10T18:51:08.440Z"
   },
   {
    "duration": 16,
    "start_time": "2022-04-10T18:51:08.454Z"
   },
   {
    "duration": 16,
    "start_time": "2022-04-10T18:51:08.472Z"
   },
   {
    "duration": 279,
    "start_time": "2022-04-10T18:51:08.490Z"
   },
   {
    "duration": 20,
    "start_time": "2022-04-10T18:51:08.771Z"
   },
   {
    "duration": 28,
    "start_time": "2022-04-10T18:51:08.793Z"
   },
   {
    "duration": 21,
    "start_time": "2022-04-10T18:51:08.838Z"
   },
   {
    "duration": 32,
    "start_time": "2022-04-10T18:51:08.861Z"
   },
   {
    "duration": 870,
    "start_time": "2022-04-10T18:51:08.895Z"
   },
   {
    "duration": 199,
    "start_time": "2022-04-10T18:51:09.767Z"
   },
   {
    "duration": 189,
    "start_time": "2022-04-10T18:51:09.968Z"
   },
   {
    "duration": 187,
    "start_time": "2022-04-10T18:51:10.159Z"
   },
   {
    "duration": 16,
    "start_time": "2022-04-10T18:51:10.348Z"
   },
   {
    "duration": 9,
    "start_time": "2022-04-10T18:51:10.365Z"
   },
   {
    "duration": 21,
    "start_time": "2022-04-10T18:51:10.375Z"
   },
   {
    "duration": 18,
    "start_time": "2022-04-10T18:51:10.398Z"
   },
   {
    "duration": 37,
    "start_time": "2022-04-10T18:51:10.418Z"
   },
   {
    "duration": 6,
    "start_time": "2022-04-10T18:51:10.457Z"
   },
   {
    "duration": 119,
    "start_time": "2022-04-10T18:51:10.465Z"
   },
   {
    "duration": 0,
    "start_time": "2022-04-10T18:51:10.586Z"
   },
   {
    "duration": 0,
    "start_time": "2022-04-10T18:51:10.587Z"
   },
   {
    "duration": 0,
    "start_time": "2022-04-10T18:51:10.589Z"
   },
   {
    "duration": 0,
    "start_time": "2022-04-10T18:51:10.590Z"
   },
   {
    "duration": 0,
    "start_time": "2022-04-10T18:51:10.591Z"
   },
   {
    "duration": 0,
    "start_time": "2022-04-10T18:51:10.592Z"
   },
   {
    "duration": 0,
    "start_time": "2022-04-10T18:51:10.594Z"
   },
   {
    "duration": 0,
    "start_time": "2022-04-10T18:51:10.595Z"
   },
   {
    "duration": 0,
    "start_time": "2022-04-10T18:51:10.596Z"
   },
   {
    "duration": 9,
    "start_time": "2022-04-10T18:51:27.378Z"
   },
   {
    "duration": 10,
    "start_time": "2022-04-10T18:51:27.583Z"
   },
   {
    "duration": 10,
    "start_time": "2022-04-10T18:51:27.779Z"
   },
   {
    "duration": 10,
    "start_time": "2022-04-10T18:51:27.971Z"
   },
   {
    "duration": 10,
    "start_time": "2022-04-10T18:51:33.469Z"
   },
   {
    "duration": 3,
    "start_time": "2022-04-10T18:51:34.212Z"
   },
   {
    "duration": 16,
    "start_time": "2022-04-10T18:51:34.404Z"
   },
   {
    "duration": 14,
    "start_time": "2022-04-10T18:51:35.451Z"
   },
   {
    "duration": 4,
    "start_time": "2022-04-10T18:51:36.557Z"
   },
   {
    "duration": 451,
    "start_time": "2022-04-10T18:57:01.422Z"
   },
   {
    "duration": 857,
    "start_time": "2022-04-10T18:57:01.875Z"
   },
   {
    "duration": 4,
    "start_time": "2022-04-10T18:57:02.734Z"
   },
   {
    "duration": 26,
    "start_time": "2022-04-10T18:57:02.740Z"
   },
   {
    "duration": 14,
    "start_time": "2022-04-10T18:57:02.768Z"
   },
   {
    "duration": 13,
    "start_time": "2022-04-10T18:57:02.783Z"
   },
   {
    "duration": 13,
    "start_time": "2022-04-10T18:57:02.798Z"
   },
   {
    "duration": 525,
    "start_time": "2022-04-10T18:57:02.813Z"
   },
   {
    "duration": 79,
    "start_time": "2022-04-10T18:57:03.340Z"
   },
   {
    "duration": 540,
    "start_time": "2022-04-10T18:57:03.422Z"
   },
   {
    "duration": 289,
    "start_time": "2022-04-10T18:57:03.964Z"
   },
   {
    "duration": 140,
    "start_time": "2022-04-10T18:57:04.255Z"
   },
   {
    "duration": 11,
    "start_time": "2022-04-10T18:57:04.397Z"
   },
   {
    "duration": 9,
    "start_time": "2022-04-10T18:57:04.410Z"
   },
   {
    "duration": 25,
    "start_time": "2022-04-10T18:57:04.421Z"
   },
   {
    "duration": 22,
    "start_time": "2022-04-10T18:57:04.448Z"
   },
   {
    "duration": 34,
    "start_time": "2022-04-10T18:57:04.472Z"
   },
   {
    "duration": 33,
    "start_time": "2022-04-10T18:57:04.507Z"
   },
   {
    "duration": 30,
    "start_time": "2022-04-10T18:57:04.542Z"
   },
   {
    "duration": 21,
    "start_time": "2022-04-10T18:57:04.574Z"
   },
   {
    "duration": 39,
    "start_time": "2022-04-10T18:57:04.597Z"
   },
   {
    "duration": 38,
    "start_time": "2022-04-10T18:57:04.638Z"
   },
   {
    "duration": 19,
    "start_time": "2022-04-10T18:57:04.678Z"
   },
   {
    "duration": 26,
    "start_time": "2022-04-10T18:57:04.699Z"
   },
   {
    "duration": 44,
    "start_time": "2022-04-10T18:57:04.727Z"
   },
   {
    "duration": 14,
    "start_time": "2022-04-10T18:57:04.772Z"
   },
   {
    "duration": 3,
    "start_time": "2022-04-10T19:00:19.773Z"
   },
   {
    "duration": 10,
    "start_time": "2022-04-10T19:00:20.378Z"
   },
   {
    "duration": 6,
    "start_time": "2022-04-10T19:00:41.356Z"
   },
   {
    "duration": 27,
    "start_time": "2022-04-10T19:00:51.155Z"
   },
   {
    "duration": 30,
    "start_time": "2022-04-10T19:00:53.164Z"
   },
   {
    "duration": 13,
    "start_time": "2022-04-10T19:00:56.312Z"
   },
   {
    "duration": 13,
    "start_time": "2022-04-10T19:01:01.680Z"
   },
   {
    "duration": 4,
    "start_time": "2022-04-10T19:01:16.604Z"
   },
   {
    "duration": 5,
    "start_time": "2022-04-10T19:01:47.879Z"
   },
   {
    "duration": 5,
    "start_time": "2022-04-10T19:05:15.382Z"
   },
   {
    "duration": 3,
    "start_time": "2022-04-10T19:05:29.031Z"
   },
   {
    "duration": 6,
    "start_time": "2022-04-10T19:05:29.039Z"
   },
   {
    "duration": 8,
    "start_time": "2022-04-10T19:05:29.048Z"
   },
   {
    "duration": 10,
    "start_time": "2022-04-10T19:05:29.058Z"
   },
   {
    "duration": 12,
    "start_time": "2022-04-10T19:05:29.069Z"
   },
   {
    "duration": 12,
    "start_time": "2022-04-10T19:05:29.084Z"
   },
   {
    "duration": 11,
    "start_time": "2022-04-10T19:05:29.097Z"
   },
   {
    "duration": 456,
    "start_time": "2022-04-10T19:05:29.110Z"
   },
   {
    "duration": 75,
    "start_time": "2022-04-10T19:05:29.568Z"
   },
   {
    "duration": 397,
    "start_time": "2022-04-10T19:05:29.645Z"
   },
   {
    "duration": 235,
    "start_time": "2022-04-10T19:05:30.044Z"
   },
   {
    "duration": 138,
    "start_time": "2022-04-10T19:05:30.281Z"
   },
   {
    "duration": 18,
    "start_time": "2022-04-10T19:05:30.422Z"
   },
   {
    "duration": 9,
    "start_time": "2022-04-10T19:05:30.442Z"
   },
   {
    "duration": 13,
    "start_time": "2022-04-10T19:05:30.453Z"
   },
   {
    "duration": 9,
    "start_time": "2022-04-10T19:05:30.468Z"
   },
   {
    "duration": 13,
    "start_time": "2022-04-10T19:05:30.479Z"
   },
   {
    "duration": 32,
    "start_time": "2022-04-10T19:05:30.494Z"
   },
   {
    "duration": 21,
    "start_time": "2022-04-10T19:05:30.538Z"
   },
   {
    "duration": 18,
    "start_time": "2022-04-10T19:05:30.560Z"
   },
   {
    "duration": 18,
    "start_time": "2022-04-10T19:05:30.580Z"
   },
   {
    "duration": 30,
    "start_time": "2022-04-10T19:05:30.600Z"
   },
   {
    "duration": 18,
    "start_time": "2022-04-10T19:05:30.632Z"
   },
   {
    "duration": 16,
    "start_time": "2022-04-10T19:05:30.653Z"
   },
   {
    "duration": 32,
    "start_time": "2022-04-10T19:05:30.671Z"
   },
   {
    "duration": 3,
    "start_time": "2022-04-10T19:05:30.705Z"
   },
   {
    "duration": 30,
    "start_time": "2022-04-10T19:05:30.710Z"
   },
   {
    "duration": 15,
    "start_time": "2022-04-10T19:05:30.742Z"
   },
   {
    "duration": 39,
    "start_time": "2022-04-10T19:05:30.758Z"
   },
   {
    "duration": 17,
    "start_time": "2022-04-10T19:05:30.799Z"
   },
   {
    "duration": 51,
    "start_time": "2022-04-10T19:05:30.817Z"
   },
   {
    "duration": 5,
    "start_time": "2022-04-10T19:05:30.870Z"
   },
   {
    "duration": 39,
    "start_time": "2022-04-10T19:05:30.878Z"
   },
   {
    "duration": 21,
    "start_time": "2022-04-10T19:05:30.918Z"
   },
   {
    "duration": 11,
    "start_time": "2022-04-10T19:05:30.941Z"
   },
   {
    "duration": 5,
    "start_time": "2022-04-10T19:06:45.900Z"
   },
   {
    "duration": 476,
    "start_time": "2022-04-10T19:14:45.419Z"
   },
   {
    "duration": 821,
    "start_time": "2022-04-10T19:14:45.898Z"
   },
   {
    "duration": 3,
    "start_time": "2022-04-10T19:14:46.721Z"
   },
   {
    "duration": 13,
    "start_time": "2022-04-10T19:14:46.726Z"
   },
   {
    "duration": 13,
    "start_time": "2022-04-10T19:14:46.741Z"
   },
   {
    "duration": 9,
    "start_time": "2022-04-10T19:14:46.756Z"
   },
   {
    "duration": 8,
    "start_time": "2022-04-10T19:14:46.767Z"
   },
   {
    "duration": 487,
    "start_time": "2022-04-10T19:14:46.777Z"
   },
   {
    "duration": 79,
    "start_time": "2022-04-10T19:14:47.266Z"
   },
   {
    "duration": 443,
    "start_time": "2022-04-10T19:14:47.348Z"
   },
   {
    "duration": 282,
    "start_time": "2022-04-10T19:14:47.792Z"
   },
   {
    "duration": 136,
    "start_time": "2022-04-10T19:14:48.076Z"
   },
   {
    "duration": 12,
    "start_time": "2022-04-10T19:14:48.214Z"
   },
   {
    "duration": 9,
    "start_time": "2022-04-10T19:14:48.238Z"
   },
   {
    "duration": 7,
    "start_time": "2022-04-10T19:14:48.249Z"
   },
   {
    "duration": 9,
    "start_time": "2022-04-10T19:14:48.258Z"
   },
   {
    "duration": 12,
    "start_time": "2022-04-10T19:14:48.269Z"
   },
   {
    "duration": 19,
    "start_time": "2022-04-10T19:14:48.283Z"
   },
   {
    "duration": 43,
    "start_time": "2022-04-10T19:14:48.304Z"
   },
   {
    "duration": 12,
    "start_time": "2022-04-10T19:14:48.349Z"
   },
   {
    "duration": 27,
    "start_time": "2022-04-10T19:14:48.363Z"
   },
   {
    "duration": 34,
    "start_time": "2022-04-10T19:14:48.391Z"
   },
   {
    "duration": 21,
    "start_time": "2022-04-10T19:14:48.427Z"
   },
   {
    "duration": 17,
    "start_time": "2022-04-10T19:14:48.450Z"
   },
   {
    "duration": 44,
    "start_time": "2022-04-10T19:14:48.469Z"
   },
   {
    "duration": 4,
    "start_time": "2022-04-10T19:14:48.515Z"
   },
   {
    "duration": 16,
    "start_time": "2022-04-10T19:14:48.539Z"
   },
   {
    "duration": 6,
    "start_time": "2022-04-10T19:14:48.561Z"
   },
   {
    "duration": 29,
    "start_time": "2022-04-10T19:14:48.569Z"
   },
   {
    "duration": 8,
    "start_time": "2022-04-10T19:14:48.600Z"
   },
   {
    "duration": 56,
    "start_time": "2022-04-10T19:14:48.611Z"
   },
   {
    "duration": 6,
    "start_time": "2022-04-10T19:14:48.669Z"
   },
   {
    "duration": 9,
    "start_time": "2022-04-10T19:14:48.677Z"
   },
   {
    "duration": 18,
    "start_time": "2022-04-10T19:14:48.688Z"
   },
   {
    "duration": 40,
    "start_time": "2022-04-10T19:14:48.707Z"
   },
   {
    "duration": 9,
    "start_time": "2022-04-10T19:14:48.748Z"
   },
   {
    "duration": 27,
    "start_time": "2022-04-10T19:14:48.759Z"
   },
   {
    "duration": 5,
    "start_time": "2022-04-10T19:14:48.787Z"
   },
   {
    "duration": 12,
    "start_time": "2022-04-10T19:14:48.794Z"
   },
   {
    "duration": 11,
    "start_time": "2022-04-10T19:14:48.807Z"
   },
   {
    "duration": 5,
    "start_time": "2022-04-10T19:14:48.838Z"
   },
   {
    "duration": 12,
    "start_time": "2022-04-10T19:14:48.845Z"
   },
   {
    "duration": 22,
    "start_time": "2022-04-10T19:14:48.859Z"
   },
   {
    "duration": 13,
    "start_time": "2022-04-10T19:14:48.884Z"
   },
   {
    "duration": 21,
    "start_time": "2022-04-10T19:14:48.900Z"
   },
   {
    "duration": 6,
    "start_time": "2022-04-10T19:14:48.939Z"
   },
   {
    "duration": 12,
    "start_time": "2022-04-10T19:14:48.946Z"
   },
   {
    "duration": 16,
    "start_time": "2022-04-10T19:14:48.960Z"
   },
   {
    "duration": 20,
    "start_time": "2022-04-10T19:14:48.977Z"
   },
   {
    "duration": 20,
    "start_time": "2022-04-10T19:14:48.999Z"
   },
   {
    "duration": 11,
    "start_time": "2022-04-10T19:14:49.021Z"
   },
   {
    "duration": 257,
    "start_time": "2022-04-10T19:14:49.038Z"
   },
   {
    "duration": 19,
    "start_time": "2022-04-10T19:14:49.297Z"
   },
   {
    "duration": 39,
    "start_time": "2022-04-10T19:14:49.318Z"
   },
   {
    "duration": 23,
    "start_time": "2022-04-10T19:14:49.359Z"
   },
   {
    "duration": 67,
    "start_time": "2022-04-10T19:14:49.384Z"
   },
   {
    "duration": 817,
    "start_time": "2022-04-10T19:14:49.452Z"
   },
   {
    "duration": 196,
    "start_time": "2022-04-10T19:14:50.271Z"
   },
   {
    "duration": 183,
    "start_time": "2022-04-10T19:14:50.468Z"
   },
   {
    "duration": 180,
    "start_time": "2022-04-10T19:14:50.653Z"
   },
   {
    "duration": 15,
    "start_time": "2022-04-10T19:14:50.839Z"
   },
   {
    "duration": 6,
    "start_time": "2022-04-10T19:14:50.856Z"
   },
   {
    "duration": 23,
    "start_time": "2022-04-10T19:14:50.863Z"
   },
   {
    "duration": 13,
    "start_time": "2022-04-10T19:14:50.888Z"
   },
   {
    "duration": 38,
    "start_time": "2022-04-10T19:14:50.902Z"
   },
   {
    "duration": 13,
    "start_time": "2022-04-10T19:14:50.942Z"
   },
   {
    "duration": 109,
    "start_time": "2022-04-10T19:14:50.956Z"
   },
   {
    "duration": 0,
    "start_time": "2022-04-10T19:14:51.067Z"
   },
   {
    "duration": 0,
    "start_time": "2022-04-10T19:14:51.069Z"
   },
   {
    "duration": 0,
    "start_time": "2022-04-10T19:14:51.070Z"
   },
   {
    "duration": 0,
    "start_time": "2022-04-10T19:14:51.071Z"
   },
   {
    "duration": 0,
    "start_time": "2022-04-10T19:14:51.072Z"
   },
   {
    "duration": 0,
    "start_time": "2022-04-10T19:14:51.073Z"
   },
   {
    "duration": 0,
    "start_time": "2022-04-10T19:14:51.075Z"
   },
   {
    "duration": 0,
    "start_time": "2022-04-10T19:14:51.076Z"
   },
   {
    "duration": 10,
    "start_time": "2022-04-10T19:15:04.543Z"
   },
   {
    "duration": 3,
    "start_time": "2022-04-10T19:15:07.698Z"
   },
   {
    "duration": 16,
    "start_time": "2022-04-10T19:15:08.122Z"
   },
   {
    "duration": 13,
    "start_time": "2022-04-10T19:15:10.879Z"
   },
   {
    "duration": 4,
    "start_time": "2022-04-10T19:15:11.390Z"
   },
   {
    "duration": 471,
    "start_time": "2022-04-10T19:15:53.304Z"
   },
   {
    "duration": 818,
    "start_time": "2022-04-10T19:15:53.777Z"
   },
   {
    "duration": 3,
    "start_time": "2022-04-10T19:15:54.597Z"
   },
   {
    "duration": 26,
    "start_time": "2022-04-10T19:15:54.601Z"
   },
   {
    "duration": 19,
    "start_time": "2022-04-10T19:15:54.629Z"
   },
   {
    "duration": 13,
    "start_time": "2022-04-10T19:15:54.650Z"
   },
   {
    "duration": 19,
    "start_time": "2022-04-10T19:15:54.665Z"
   },
   {
    "duration": 476,
    "start_time": "2022-04-10T19:15:54.686Z"
   },
   {
    "duration": 75,
    "start_time": "2022-04-10T19:15:55.164Z"
   },
   {
    "duration": 431,
    "start_time": "2022-04-10T19:15:55.241Z"
   },
   {
    "duration": 278,
    "start_time": "2022-04-10T19:15:55.673Z"
   },
   {
    "duration": 137,
    "start_time": "2022-04-10T19:15:55.953Z"
   },
   {
    "duration": 11,
    "start_time": "2022-04-10T19:15:56.092Z"
   },
   {
    "duration": 7,
    "start_time": "2022-04-10T19:15:56.107Z"
   },
   {
    "duration": 26,
    "start_time": "2022-04-10T19:15:56.116Z"
   },
   {
    "duration": 16,
    "start_time": "2022-04-10T19:15:56.144Z"
   },
   {
    "duration": 12,
    "start_time": "2022-04-10T19:15:56.161Z"
   },
   {
    "duration": 18,
    "start_time": "2022-04-10T19:15:56.176Z"
   },
   {
    "duration": 9,
    "start_time": "2022-04-10T19:15:56.196Z"
   },
   {
    "duration": 8,
    "start_time": "2022-04-10T19:15:56.206Z"
   },
   {
    "duration": 30,
    "start_time": "2022-04-10T19:15:56.216Z"
   },
   {
    "duration": 30,
    "start_time": "2022-04-10T19:15:56.247Z"
   },
   {
    "duration": 20,
    "start_time": "2022-04-10T19:15:56.279Z"
   },
   {
    "duration": 17,
    "start_time": "2022-04-10T19:15:56.300Z"
   },
   {
    "duration": 43,
    "start_time": "2022-04-10T19:15:56.339Z"
   },
   {
    "duration": 3,
    "start_time": "2022-04-10T19:15:56.384Z"
   },
   {
    "duration": 16,
    "start_time": "2022-04-10T19:15:56.388Z"
   },
   {
    "duration": 11,
    "start_time": "2022-04-10T19:15:56.405Z"
   },
   {
    "duration": 43,
    "start_time": "2022-04-10T19:15:56.417Z"
   },
   {
    "duration": 5,
    "start_time": "2022-04-10T19:15:56.461Z"
   },
   {
    "duration": 36,
    "start_time": "2022-04-10T19:15:56.467Z"
   },
   {
    "duration": 4,
    "start_time": "2022-04-10T19:15:56.505Z"
   },
   {
    "duration": 29,
    "start_time": "2022-04-10T19:15:56.511Z"
   },
   {
    "duration": 13,
    "start_time": "2022-04-10T19:15:56.541Z"
   },
   {
    "duration": 17,
    "start_time": "2022-04-10T19:15:56.556Z"
   },
   {
    "duration": 14,
    "start_time": "2022-04-10T19:15:56.575Z"
   },
   {
    "duration": 27,
    "start_time": "2022-04-10T19:15:56.590Z"
   },
   {
    "duration": 20,
    "start_time": "2022-04-10T19:15:56.619Z"
   },
   {
    "duration": 5,
    "start_time": "2022-04-10T19:15:56.641Z"
   },
   {
    "duration": 11,
    "start_time": "2022-04-10T19:15:56.648Z"
   },
   {
    "duration": 11,
    "start_time": "2022-04-10T19:15:56.663Z"
   },
   {
    "duration": 12,
    "start_time": "2022-04-10T19:15:56.676Z"
   },
   {
    "duration": 18,
    "start_time": "2022-04-10T19:15:56.690Z"
   },
   {
    "duration": 31,
    "start_time": "2022-04-10T19:15:56.710Z"
   },
   {
    "duration": 26,
    "start_time": "2022-04-10T19:15:56.743Z"
   },
   {
    "duration": 11,
    "start_time": "2022-04-10T19:15:56.771Z"
   },
   {
    "duration": 16,
    "start_time": "2022-04-10T19:15:56.784Z"
   },
   {
    "duration": 27,
    "start_time": "2022-04-10T19:15:56.802Z"
   },
   {
    "duration": 20,
    "start_time": "2022-04-10T19:15:56.831Z"
   },
   {
    "duration": 24,
    "start_time": "2022-04-10T19:15:56.853Z"
   },
   {
    "duration": 19,
    "start_time": "2022-04-10T19:15:56.879Z"
   },
   {
    "duration": 285,
    "start_time": "2022-04-10T19:15:56.900Z"
   },
   {
    "duration": 19,
    "start_time": "2022-04-10T19:15:57.187Z"
   },
   {
    "duration": 38,
    "start_time": "2022-04-10T19:15:57.208Z"
   },
   {
    "duration": 23,
    "start_time": "2022-04-10T19:15:57.247Z"
   },
   {
    "duration": 33,
    "start_time": "2022-04-10T19:15:57.272Z"
   },
   {
    "duration": 874,
    "start_time": "2022-04-10T19:15:57.306Z"
   },
   {
    "duration": 192,
    "start_time": "2022-04-10T19:15:58.181Z"
   },
   {
    "duration": 183,
    "start_time": "2022-04-10T19:15:58.375Z"
   },
   {
    "duration": 182,
    "start_time": "2022-04-10T19:15:58.559Z"
   },
   {
    "duration": 15,
    "start_time": "2022-04-10T19:15:58.743Z"
   },
   {
    "duration": 5,
    "start_time": "2022-04-10T19:15:58.760Z"
   },
   {
    "duration": 22,
    "start_time": "2022-04-10T19:15:58.767Z"
   },
   {
    "duration": 9,
    "start_time": "2022-04-10T19:15:58.790Z"
   },
   {
    "duration": 39,
    "start_time": "2022-04-10T19:15:58.801Z"
   },
   {
    "duration": 9,
    "start_time": "2022-04-10T19:15:58.842Z"
   },
   {
    "duration": 4,
    "start_time": "2022-04-10T19:15:58.853Z"
   },
   {
    "duration": 20,
    "start_time": "2022-04-10T19:15:58.859Z"
   },
   {
    "duration": 13,
    "start_time": "2022-04-10T19:15:58.881Z"
   },
   {
    "duration": 10,
    "start_time": "2022-04-10T19:15:58.896Z"
   },
   {
    "duration": 11,
    "start_time": "2022-04-10T19:20:10.243Z"
   },
   {
    "duration": 118,
    "start_time": "2022-04-10T19:20:42.520Z"
   },
   {
    "duration": 8,
    "start_time": "2022-04-10T19:22:33.803Z"
   },
   {
    "duration": 364,
    "start_time": "2022-04-10T19:22:38.076Z"
   },
   {
    "duration": 6,
    "start_time": "2022-04-10T19:22:57.083Z"
   },
   {
    "duration": 7,
    "start_time": "2022-04-10T19:22:58.196Z"
   },
   {
    "duration": 262,
    "start_time": "2022-04-10T19:22:59.160Z"
   },
   {
    "duration": 7,
    "start_time": "2022-04-10T19:23:10.700Z"
   },
   {
    "duration": 7,
    "start_time": "2022-04-10T19:23:11.258Z"
   },
   {
    "duration": 259,
    "start_time": "2022-04-10T19:23:11.871Z"
   },
   {
    "duration": 261,
    "start_time": "2022-04-10T19:24:44.406Z"
   },
   {
    "duration": 22,
    "start_time": "2022-04-10T19:25:29.569Z"
   },
   {
    "duration": 10,
    "start_time": "2022-04-10T19:25:59.982Z"
   },
   {
    "duration": 11,
    "start_time": "2022-04-10T19:26:06.971Z"
   },
   {
    "duration": 9,
    "start_time": "2022-04-10T19:26:18.950Z"
   },
   {
    "duration": 16,
    "start_time": "2022-04-10T19:39:16.655Z"
   },
   {
    "duration": 5,
    "start_time": "2022-04-10T19:40:18.356Z"
   },
   {
    "duration": 5,
    "start_time": "2022-04-10T19:43:21.772Z"
   },
   {
    "duration": 6,
    "start_time": "2022-04-10T19:44:09.646Z"
   },
   {
    "duration": 139,
    "start_time": "2022-04-10T19:44:57.055Z"
   },
   {
    "duration": 20,
    "start_time": "2022-04-10T19:45:03.639Z"
   },
   {
    "duration": 23,
    "start_time": "2022-04-10T19:45:25.552Z"
   },
   {
    "duration": 10,
    "start_time": "2022-04-10T19:45:48.916Z"
   },
   {
    "duration": 18,
    "start_time": "2022-04-10T19:49:33.131Z"
   },
   {
    "duration": 11,
    "start_time": "2022-04-10T19:50:29.669Z"
   },
   {
    "duration": 12,
    "start_time": "2022-04-10T19:50:44.463Z"
   },
   {
    "duration": 141,
    "start_time": "2022-04-10T19:51:56.483Z"
   },
   {
    "duration": 8,
    "start_time": "2022-04-10T19:53:43.819Z"
   },
   {
    "duration": 2259,
    "start_time": "2022-04-10T19:53:45.019Z"
   },
   {
    "duration": 22,
    "start_time": "2022-04-10T19:54:44.906Z"
   },
   {
    "duration": 528,
    "start_time": "2022-04-10T19:55:00.022Z"
   },
   {
    "duration": 897,
    "start_time": "2022-04-10T19:55:00.553Z"
   },
   {
    "duration": 3,
    "start_time": "2022-04-10T19:55:01.452Z"
   },
   {
    "duration": 43,
    "start_time": "2022-04-10T19:55:01.457Z"
   },
   {
    "duration": 35,
    "start_time": "2022-04-10T19:55:01.501Z"
   },
   {
    "duration": 33,
    "start_time": "2022-04-10T19:55:01.538Z"
   },
   {
    "duration": 14,
    "start_time": "2022-04-10T19:55:01.574Z"
   },
   {
    "duration": 549,
    "start_time": "2022-04-10T19:55:01.591Z"
   },
   {
    "duration": 80,
    "start_time": "2022-04-10T19:55:02.142Z"
   },
   {
    "duration": 470,
    "start_time": "2022-04-10T19:55:02.225Z"
   },
   {
    "duration": 359,
    "start_time": "2022-04-10T19:55:02.698Z"
   },
   {
    "duration": 148,
    "start_time": "2022-04-10T19:55:03.059Z"
   },
   {
    "duration": 12,
    "start_time": "2022-04-10T19:55:03.209Z"
   },
   {
    "duration": 17,
    "start_time": "2022-04-10T19:55:03.223Z"
   },
   {
    "duration": 7,
    "start_time": "2022-04-10T19:55:03.242Z"
   },
   {
    "duration": 24,
    "start_time": "2022-04-10T19:55:03.250Z"
   },
   {
    "duration": 12,
    "start_time": "2022-04-10T19:55:03.276Z"
   },
   {
    "duration": 21,
    "start_time": "2022-04-10T19:55:03.290Z"
   },
   {
    "duration": 33,
    "start_time": "2022-04-10T19:55:03.312Z"
   },
   {
    "duration": 13,
    "start_time": "2022-04-10T19:55:03.347Z"
   },
   {
    "duration": 22,
    "start_time": "2022-04-10T19:55:03.362Z"
   },
   {
    "duration": 46,
    "start_time": "2022-04-10T19:55:03.386Z"
   },
   {
    "duration": 19,
    "start_time": "2022-04-10T19:55:03.434Z"
   },
   {
    "duration": 17,
    "start_time": "2022-04-10T19:55:03.456Z"
   },
   {
    "duration": 71,
    "start_time": "2022-04-10T19:55:03.475Z"
   },
   {
    "duration": 3,
    "start_time": "2022-04-10T19:55:03.548Z"
   },
   {
    "duration": 20,
    "start_time": "2022-04-10T19:55:03.553Z"
   },
   {
    "duration": 8,
    "start_time": "2022-04-10T19:55:03.578Z"
   },
   {
    "duration": 33,
    "start_time": "2022-04-10T19:55:03.588Z"
   },
   {
    "duration": 18,
    "start_time": "2022-04-10T19:55:03.623Z"
   },
   {
    "duration": 38,
    "start_time": "2022-04-10T19:55:03.643Z"
   },
   {
    "duration": 5,
    "start_time": "2022-04-10T19:55:03.683Z"
   },
   {
    "duration": 11,
    "start_time": "2022-04-10T19:55:03.689Z"
   },
   {
    "duration": 43,
    "start_time": "2022-04-10T19:55:03.703Z"
   },
   {
    "duration": 19,
    "start_time": "2022-04-10T19:55:03.747Z"
   },
   {
    "duration": 15,
    "start_time": "2022-04-10T19:55:03.768Z"
   },
   {
    "duration": 27,
    "start_time": "2022-04-10T19:55:03.785Z"
   },
   {
    "duration": 24,
    "start_time": "2022-04-10T19:55:03.814Z"
   },
   {
    "duration": 6,
    "start_time": "2022-04-10T19:55:03.841Z"
   },
   {
    "duration": 12,
    "start_time": "2022-04-10T19:55:03.850Z"
   },
   {
    "duration": 12,
    "start_time": "2022-04-10T19:55:03.864Z"
   },
   {
    "duration": 20,
    "start_time": "2022-04-10T19:55:03.878Z"
   },
   {
    "duration": 46,
    "start_time": "2022-04-10T19:55:03.901Z"
   },
   {
    "duration": 8,
    "start_time": "2022-04-10T19:55:03.948Z"
   },
   {
    "duration": 20,
    "start_time": "2022-04-10T19:55:03.958Z"
   },
   {
    "duration": 10,
    "start_time": "2022-04-10T19:55:03.980Z"
   },
   {
    "duration": 11,
    "start_time": "2022-04-10T19:55:03.992Z"
   },
   {
    "duration": 22,
    "start_time": "2022-04-10T19:55:04.005Z"
   },
   {
    "duration": 20,
    "start_time": "2022-04-10T19:55:04.029Z"
   },
   {
    "duration": 14,
    "start_time": "2022-04-10T19:55:04.051Z"
   },
   {
    "duration": 16,
    "start_time": "2022-04-10T19:55:04.067Z"
   },
   {
    "duration": 14,
    "start_time": "2022-04-10T19:55:04.085Z"
   },
   {
    "duration": 48,
    "start_time": "2022-04-10T19:55:04.101Z"
   },
   {
    "duration": 265,
    "start_time": "2022-04-10T19:55:04.151Z"
   },
   {
    "duration": 9,
    "start_time": "2022-04-10T19:55:04.418Z"
   },
   {
    "duration": 29,
    "start_time": "2022-04-10T19:55:04.429Z"
   },
   {
    "duration": 8,
    "start_time": "2022-04-10T19:55:04.460Z"
   },
   {
    "duration": 15,
    "start_time": "2022-04-10T19:55:04.470Z"
   },
   {
    "duration": 18,
    "start_time": "2022-04-10T19:55:04.487Z"
   },
   {
    "duration": 15,
    "start_time": "2022-04-10T19:55:04.510Z"
   },
   {
    "duration": 40,
    "start_time": "2022-04-10T19:55:04.527Z"
   },
   {
    "duration": 23,
    "start_time": "2022-04-10T19:55:04.570Z"
   },
   {
    "duration": 56,
    "start_time": "2022-04-10T19:55:04.595Z"
   },
   {
    "duration": 831,
    "start_time": "2022-04-10T19:55:04.652Z"
   },
   {
    "duration": 207,
    "start_time": "2022-04-10T19:55:05.485Z"
   },
   {
    "duration": 199,
    "start_time": "2022-04-10T19:55:05.694Z"
   },
   {
    "duration": 194,
    "start_time": "2022-04-10T19:55:05.896Z"
   },
   {
    "duration": 16,
    "start_time": "2022-04-10T19:55:06.092Z"
   },
   {
    "duration": 6,
    "start_time": "2022-04-10T19:55:06.110Z"
   },
   {
    "duration": 14,
    "start_time": "2022-04-10T19:55:06.138Z"
   },
   {
    "duration": 18,
    "start_time": "2022-04-10T19:55:06.154Z"
   },
   {
    "duration": 29,
    "start_time": "2022-04-10T19:55:06.174Z"
   },
   {
    "duration": 10,
    "start_time": "2022-04-10T19:55:06.205Z"
   },
   {
    "duration": 4,
    "start_time": "2022-04-10T19:55:06.238Z"
   },
   {
    "duration": 26,
    "start_time": "2022-04-10T19:55:06.244Z"
   },
   {
    "duration": 14,
    "start_time": "2022-04-10T19:55:06.272Z"
   },
   {
    "duration": 14,
    "start_time": "2022-04-10T19:55:06.288Z"
   },
   {
    "duration": 12,
    "start_time": "2022-04-10T19:59:42.671Z"
   },
   {
    "duration": 12,
    "start_time": "2022-04-10T19:59:47.024Z"
   },
   {
    "duration": 20,
    "start_time": "2022-04-10T19:59:59.306Z"
   },
   {
    "duration": 443,
    "start_time": "2022-04-10T20:00:51.260Z"
   },
   {
    "duration": 1045,
    "start_time": "2022-04-10T20:00:51.706Z"
   },
   {
    "duration": 4,
    "start_time": "2022-04-10T20:00:52.753Z"
   },
   {
    "duration": 18,
    "start_time": "2022-04-10T20:00:52.759Z"
   },
   {
    "duration": 8,
    "start_time": "2022-04-10T20:00:52.779Z"
   },
   {
    "duration": 8,
    "start_time": "2022-04-10T20:00:52.789Z"
   },
   {
    "duration": 10,
    "start_time": "2022-04-10T20:00:52.799Z"
   },
   {
    "duration": 503,
    "start_time": "2022-04-10T20:00:52.811Z"
   },
   {
    "duration": 84,
    "start_time": "2022-04-10T20:00:53.316Z"
   },
   {
    "duration": 470,
    "start_time": "2022-04-10T20:00:53.404Z"
   },
   {
    "duration": 283,
    "start_time": "2022-04-10T20:00:53.876Z"
   },
   {
    "duration": 145,
    "start_time": "2022-04-10T20:00:54.162Z"
   },
   {
    "duration": 15,
    "start_time": "2022-04-10T20:00:54.309Z"
   },
   {
    "duration": 11,
    "start_time": "2022-04-10T20:00:54.339Z"
   },
   {
    "duration": 14,
    "start_time": "2022-04-10T20:00:54.351Z"
   },
   {
    "duration": 10,
    "start_time": "2022-04-10T20:00:54.367Z"
   },
   {
    "duration": 18,
    "start_time": "2022-04-10T20:00:54.379Z"
   },
   {
    "duration": 26,
    "start_time": "2022-04-10T20:00:54.398Z"
   },
   {
    "duration": 13,
    "start_time": "2022-04-10T20:00:54.439Z"
   },
   {
    "duration": 11,
    "start_time": "2022-04-10T20:00:54.453Z"
   },
   {
    "duration": 21,
    "start_time": "2022-04-10T20:00:54.466Z"
   },
   {
    "duration": 33,
    "start_time": "2022-04-10T20:00:54.488Z"
   },
   {
    "duration": 31,
    "start_time": "2022-04-10T20:00:54.523Z"
   },
   {
    "duration": 17,
    "start_time": "2022-04-10T20:00:54.557Z"
   },
   {
    "duration": 40,
    "start_time": "2022-04-10T20:00:54.576Z"
   },
   {
    "duration": 21,
    "start_time": "2022-04-10T20:00:54.618Z"
   },
   {
    "duration": 10,
    "start_time": "2022-04-10T20:00:54.641Z"
   },
   {
    "duration": 10,
    "start_time": "2022-04-10T20:00:54.656Z"
   },
   {
    "duration": 40,
    "start_time": "2022-04-10T20:00:54.668Z"
   },
   {
    "duration": 30,
    "start_time": "2022-04-10T20:00:54.710Z"
   },
   {
    "duration": 29,
    "start_time": "2022-04-10T20:00:54.742Z"
   },
   {
    "duration": 4,
    "start_time": "2022-04-10T20:00:54.773Z"
   },
   {
    "duration": 10,
    "start_time": "2022-04-10T20:00:54.779Z"
   },
   {
    "duration": 16,
    "start_time": "2022-04-10T20:00:54.791Z"
   },
   {
    "duration": 14,
    "start_time": "2022-04-10T20:00:54.839Z"
   },
   {
    "duration": 6,
    "start_time": "2022-04-10T20:00:54.855Z"
   },
   {
    "duration": 31,
    "start_time": "2022-04-10T20:00:54.863Z"
   },
   {
    "duration": 5,
    "start_time": "2022-04-10T20:00:54.896Z"
   },
   {
    "duration": 38,
    "start_time": "2022-04-10T20:00:54.902Z"
   },
   {
    "duration": 9,
    "start_time": "2022-04-10T20:00:54.942Z"
   },
   {
    "duration": 13,
    "start_time": "2022-04-10T20:00:54.954Z"
   },
   {
    "duration": 17,
    "start_time": "2022-04-10T20:00:54.969Z"
   },
   {
    "duration": 20,
    "start_time": "2022-04-10T20:00:54.988Z"
   },
   {
    "duration": 29,
    "start_time": "2022-04-10T20:00:55.011Z"
   },
   {
    "duration": 18,
    "start_time": "2022-04-10T20:00:55.042Z"
   },
   {
    "duration": 6,
    "start_time": "2022-04-10T20:00:55.062Z"
   },
   {
    "duration": 26,
    "start_time": "2022-04-10T20:00:55.070Z"
   },
   {
    "duration": 16,
    "start_time": "2022-04-10T20:00:55.098Z"
   },
   {
    "duration": 16,
    "start_time": "2022-04-10T20:00:55.116Z"
   },
   {
    "duration": 14,
    "start_time": "2022-04-10T20:00:55.138Z"
   },
   {
    "duration": 17,
    "start_time": "2022-04-10T20:00:55.154Z"
   },
   {
    "duration": 23,
    "start_time": "2022-04-10T20:00:55.173Z"
   },
   {
    "duration": 289,
    "start_time": "2022-04-10T20:00:55.198Z"
   },
   {
    "duration": 10,
    "start_time": "2022-04-10T20:00:55.489Z"
   },
   {
    "duration": 36,
    "start_time": "2022-04-10T20:00:55.502Z"
   },
   {
    "duration": 272,
    "start_time": "2022-04-10T20:00:55.540Z"
   },
   {
    "duration": 9,
    "start_time": "2022-04-10T20:00:55.814Z"
   },
   {
    "duration": 28,
    "start_time": "2022-04-10T20:00:55.826Z"
   },
   {
    "duration": 16,
    "start_time": "2022-04-10T20:00:55.856Z"
   },
   {
    "duration": 9,
    "start_time": "2022-04-10T20:00:55.874Z"
   },
   {
    "duration": 11,
    "start_time": "2022-04-10T20:00:55.884Z"
   },
   {
    "duration": 15,
    "start_time": "2022-04-10T20:00:55.896Z"
   },
   {
    "duration": 5,
    "start_time": "2022-04-10T20:00:55.938Z"
   },
   {
    "duration": 24,
    "start_time": "2022-04-10T20:00:55.945Z"
   },
   {
    "duration": 22,
    "start_time": "2022-04-10T20:00:55.971Z"
   },
   {
    "duration": 61,
    "start_time": "2022-04-10T20:00:55.996Z"
   },
   {
    "duration": 821,
    "start_time": "2022-04-10T20:00:56.060Z"
   },
   {
    "duration": 198,
    "start_time": "2022-04-10T20:00:56.884Z"
   },
   {
    "duration": 184,
    "start_time": "2022-04-10T20:00:57.084Z"
   },
   {
    "duration": 188,
    "start_time": "2022-04-10T20:00:57.270Z"
   },
   {
    "duration": 15,
    "start_time": "2022-04-10T20:00:57.461Z"
   },
   {
    "duration": 15,
    "start_time": "2022-04-10T20:00:57.479Z"
   },
   {
    "duration": 19,
    "start_time": "2022-04-10T20:00:57.496Z"
   },
   {
    "duration": 28,
    "start_time": "2022-04-10T20:00:57.517Z"
   },
   {
    "duration": 22,
    "start_time": "2022-04-10T20:00:57.547Z"
   },
   {
    "duration": 13,
    "start_time": "2022-04-10T20:00:57.571Z"
   },
   {
    "duration": 5,
    "start_time": "2022-04-10T20:00:57.586Z"
   },
   {
    "duration": 19,
    "start_time": "2022-04-10T20:00:57.593Z"
   },
   {
    "duration": 34,
    "start_time": "2022-04-10T20:00:57.614Z"
   },
   {
    "duration": 4,
    "start_time": "2022-04-10T20:00:57.650Z"
   },
   {
    "duration": 12,
    "start_time": "2022-04-10T20:01:40.907Z"
   },
   {
    "duration": 450,
    "start_time": "2022-04-10T20:01:51.893Z"
   },
   {
    "duration": 856,
    "start_time": "2022-04-10T20:01:52.346Z"
   },
   {
    "duration": 3,
    "start_time": "2022-04-10T20:01:53.204Z"
   },
   {
    "duration": 9,
    "start_time": "2022-04-10T20:01:53.209Z"
   },
   {
    "duration": 11,
    "start_time": "2022-04-10T20:01:53.220Z"
   },
   {
    "duration": 11,
    "start_time": "2022-04-10T20:01:53.233Z"
   },
   {
    "duration": 10,
    "start_time": "2022-04-10T20:01:53.246Z"
   },
   {
    "duration": 488,
    "start_time": "2022-04-10T20:01:53.257Z"
   },
   {
    "duration": 76,
    "start_time": "2022-04-10T20:01:53.747Z"
   },
   {
    "duration": 439,
    "start_time": "2022-04-10T20:01:53.826Z"
   },
   {
    "duration": 276,
    "start_time": "2022-04-10T20:01:54.266Z"
   },
   {
    "duration": 143,
    "start_time": "2022-04-10T20:01:54.544Z"
   },
   {
    "duration": 13,
    "start_time": "2022-04-10T20:01:54.689Z"
   },
   {
    "duration": 11,
    "start_time": "2022-04-10T20:01:54.703Z"
   },
   {
    "duration": 27,
    "start_time": "2022-04-10T20:01:54.716Z"
   },
   {
    "duration": 14,
    "start_time": "2022-04-10T20:01:54.745Z"
   },
   {
    "duration": 15,
    "start_time": "2022-04-10T20:01:54.761Z"
   },
   {
    "duration": 17,
    "start_time": "2022-04-10T20:01:54.778Z"
   },
   {
    "duration": 9,
    "start_time": "2022-04-10T20:01:54.797Z"
   },
   {
    "duration": 11,
    "start_time": "2022-04-10T20:01:54.808Z"
   },
   {
    "duration": 24,
    "start_time": "2022-04-10T20:01:54.821Z"
   },
   {
    "duration": 26,
    "start_time": "2022-04-10T20:01:54.847Z"
   },
   {
    "duration": 19,
    "start_time": "2022-04-10T20:01:54.875Z"
   },
   {
    "duration": 46,
    "start_time": "2022-04-10T20:01:54.896Z"
   },
   {
    "duration": 41,
    "start_time": "2022-04-10T20:01:54.944Z"
   },
   {
    "duration": 4,
    "start_time": "2022-04-10T20:01:54.986Z"
   },
   {
    "duration": 15,
    "start_time": "2022-04-10T20:01:54.991Z"
   },
   {
    "duration": 11,
    "start_time": "2022-04-10T20:01:55.012Z"
   },
   {
    "duration": 25,
    "start_time": "2022-04-10T20:01:55.039Z"
   },
   {
    "duration": 5,
    "start_time": "2022-04-10T20:01:55.066Z"
   },
   {
    "duration": 35,
    "start_time": "2022-04-10T20:01:55.072Z"
   },
   {
    "duration": 31,
    "start_time": "2022-04-10T20:01:55.109Z"
   },
   {
    "duration": 11,
    "start_time": "2022-04-10T20:01:55.142Z"
   },
   {
    "duration": 16,
    "start_time": "2022-04-10T20:01:55.155Z"
   },
   {
    "duration": 17,
    "start_time": "2022-04-10T20:01:55.173Z"
   },
   {
    "duration": 14,
    "start_time": "2022-04-10T20:01:55.192Z"
   },
   {
    "duration": 36,
    "start_time": "2022-04-10T20:01:55.208Z"
   },
   {
    "duration": 5,
    "start_time": "2022-04-10T20:01:55.246Z"
   },
   {
    "duration": 12,
    "start_time": "2022-04-10T20:01:55.252Z"
   },
   {
    "duration": 13,
    "start_time": "2022-04-10T20:01:55.265Z"
   },
   {
    "duration": 10,
    "start_time": "2022-04-10T20:01:55.280Z"
   },
   {
    "duration": 17,
    "start_time": "2022-04-10T20:01:55.292Z"
   },
   {
    "duration": 35,
    "start_time": "2022-04-10T20:01:55.310Z"
   },
   {
    "duration": 11,
    "start_time": "2022-04-10T20:01:55.347Z"
   },
   {
    "duration": 18,
    "start_time": "2022-04-10T20:01:55.360Z"
   },
   {
    "duration": 23,
    "start_time": "2022-04-10T20:01:55.380Z"
   },
   {
    "duration": 13,
    "start_time": "2022-04-10T20:01:55.404Z"
   },
   {
    "duration": 23,
    "start_time": "2022-04-10T20:01:55.419Z"
   },
   {
    "duration": 17,
    "start_time": "2022-04-10T20:01:55.444Z"
   },
   {
    "duration": 12,
    "start_time": "2022-04-10T20:01:55.463Z"
   },
   {
    "duration": 18,
    "start_time": "2022-04-10T20:01:55.477Z"
   },
   {
    "duration": 20,
    "start_time": "2022-04-10T20:01:55.497Z"
   },
   {
    "duration": 30,
    "start_time": "2022-04-10T20:01:55.519Z"
   },
   {
    "duration": 265,
    "start_time": "2022-04-10T20:01:55.551Z"
   },
   {
    "duration": 7,
    "start_time": "2022-04-10T20:01:55.817Z"
   },
   {
    "duration": 42,
    "start_time": "2022-04-10T20:01:55.826Z"
   },
   {
    "duration": 260,
    "start_time": "2022-04-10T20:01:55.870Z"
   },
   {
    "duration": 14,
    "start_time": "2022-04-10T20:01:56.132Z"
   },
   {
    "duration": 23,
    "start_time": "2022-04-10T20:01:56.148Z"
   },
   {
    "duration": 14,
    "start_time": "2022-04-10T20:01:56.173Z"
   },
   {
    "duration": 20,
    "start_time": "2022-04-10T20:01:56.189Z"
   },
   {
    "duration": 14,
    "start_time": "2022-04-10T20:01:56.211Z"
   },
   {
    "duration": 16,
    "start_time": "2022-04-10T20:01:56.227Z"
   },
   {
    "duration": 13,
    "start_time": "2022-04-10T20:01:56.245Z"
   },
   {
    "duration": 29,
    "start_time": "2022-04-10T20:01:56.260Z"
   },
   {
    "duration": 21,
    "start_time": "2022-04-10T20:01:56.291Z"
   },
   {
    "duration": 49,
    "start_time": "2022-04-10T20:01:56.314Z"
   },
   {
    "duration": 792,
    "start_time": "2022-04-10T20:01:56.365Z"
   },
   {
    "duration": 189,
    "start_time": "2022-04-10T20:01:57.159Z"
   },
   {
    "duration": 188,
    "start_time": "2022-04-10T20:01:57.350Z"
   },
   {
    "duration": 177,
    "start_time": "2022-04-10T20:01:57.540Z"
   },
   {
    "duration": 24,
    "start_time": "2022-04-10T20:01:57.718Z"
   },
   {
    "duration": 6,
    "start_time": "2022-04-10T20:01:57.743Z"
   },
   {
    "duration": 19,
    "start_time": "2022-04-10T20:01:57.751Z"
   },
   {
    "duration": 13,
    "start_time": "2022-04-10T20:01:57.773Z"
   },
   {
    "duration": 24,
    "start_time": "2022-04-10T20:01:57.788Z"
   },
   {
    "duration": 29,
    "start_time": "2022-04-10T20:01:57.814Z"
   },
   {
    "duration": 6,
    "start_time": "2022-04-10T20:01:57.845Z"
   },
   {
    "duration": 24,
    "start_time": "2022-04-10T20:01:57.853Z"
   },
   {
    "duration": 14,
    "start_time": "2022-04-10T20:01:57.878Z"
   },
   {
    "duration": 11,
    "start_time": "2022-04-10T20:01:57.894Z"
   },
   {
    "duration": 18,
    "start_time": "2022-04-10T20:04:19.141Z"
   },
   {
    "duration": 535,
    "start_time": "2022-04-10T20:17:19.304Z"
   },
   {
    "duration": 870,
    "start_time": "2022-04-10T20:17:19.841Z"
   },
   {
    "duration": 3,
    "start_time": "2022-04-10T20:17:20.713Z"
   },
   {
    "duration": 10,
    "start_time": "2022-04-10T20:17:20.718Z"
   },
   {
    "duration": 12,
    "start_time": "2022-04-10T20:17:20.730Z"
   },
   {
    "duration": 11,
    "start_time": "2022-04-10T20:17:20.743Z"
   },
   {
    "duration": 15,
    "start_time": "2022-04-10T20:17:20.756Z"
   },
   {
    "duration": 495,
    "start_time": "2022-04-10T20:17:20.773Z"
   },
   {
    "duration": 76,
    "start_time": "2022-04-10T20:17:21.270Z"
   },
   {
    "duration": 445,
    "start_time": "2022-04-10T20:17:21.349Z"
   },
   {
    "duration": 277,
    "start_time": "2022-04-10T20:17:21.796Z"
   },
   {
    "duration": 137,
    "start_time": "2022-04-10T20:17:22.075Z"
   },
   {
    "duration": 11,
    "start_time": "2022-04-10T20:17:22.214Z"
   },
   {
    "duration": 20,
    "start_time": "2022-04-10T20:17:22.226Z"
   },
   {
    "duration": 23,
    "start_time": "2022-04-10T20:17:22.248Z"
   },
   {
    "duration": 24,
    "start_time": "2022-04-10T20:17:22.273Z"
   },
   {
    "duration": 28,
    "start_time": "2022-04-10T20:17:22.298Z"
   },
   {
    "duration": 32,
    "start_time": "2022-04-10T20:17:22.327Z"
   },
   {
    "duration": 10,
    "start_time": "2022-04-10T20:17:22.361Z"
   },
   {
    "duration": 20,
    "start_time": "2022-04-10T20:17:22.373Z"
   },
   {
    "duration": 32,
    "start_time": "2022-04-10T20:17:22.395Z"
   },
   {
    "duration": 54,
    "start_time": "2022-04-10T20:17:22.429Z"
   },
   {
    "duration": 19,
    "start_time": "2022-04-10T20:17:22.485Z"
   },
   {
    "duration": 28,
    "start_time": "2022-04-10T20:17:22.506Z"
   },
   {
    "duration": 44,
    "start_time": "2022-04-10T20:17:22.536Z"
   },
   {
    "duration": 3,
    "start_time": "2022-04-10T20:17:22.582Z"
   },
   {
    "duration": 32,
    "start_time": "2022-04-10T20:17:22.587Z"
   },
   {
    "duration": 17,
    "start_time": "2022-04-10T20:17:22.624Z"
   },
   {
    "duration": 36,
    "start_time": "2022-04-10T20:17:22.643Z"
   },
   {
    "duration": 4,
    "start_time": "2022-04-10T20:17:22.681Z"
   },
   {
    "duration": 45,
    "start_time": "2022-04-10T20:17:22.687Z"
   },
   {
    "duration": 6,
    "start_time": "2022-04-10T20:17:22.734Z"
   },
   {
    "duration": 16,
    "start_time": "2022-04-10T20:17:22.742Z"
   },
   {
    "duration": 25,
    "start_time": "2022-04-10T20:17:22.760Z"
   },
   {
    "duration": 39,
    "start_time": "2022-04-10T20:17:22.787Z"
   },
   {
    "duration": 16,
    "start_time": "2022-04-10T20:17:22.828Z"
   },
   {
    "duration": 39,
    "start_time": "2022-04-10T20:17:22.846Z"
   },
   {
    "duration": 11,
    "start_time": "2022-04-10T20:17:22.887Z"
   },
   {
    "duration": 173,
    "start_time": "2022-04-10T20:17:22.900Z"
   },
   {
    "duration": 0,
    "start_time": "2022-04-10T20:17:23.075Z"
   },
   {
    "duration": 0,
    "start_time": "2022-04-10T20:17:23.076Z"
   },
   {
    "duration": 0,
    "start_time": "2022-04-10T20:17:23.077Z"
   },
   {
    "duration": 0,
    "start_time": "2022-04-10T20:17:23.078Z"
   },
   {
    "duration": 0,
    "start_time": "2022-04-10T20:17:23.079Z"
   },
   {
    "duration": 0,
    "start_time": "2022-04-10T20:17:23.080Z"
   },
   {
    "duration": 0,
    "start_time": "2022-04-10T20:17:23.081Z"
   },
   {
    "duration": 0,
    "start_time": "2022-04-10T20:17:23.082Z"
   },
   {
    "duration": 0,
    "start_time": "2022-04-10T20:17:23.083Z"
   },
   {
    "duration": 0,
    "start_time": "2022-04-10T20:17:23.084Z"
   },
   {
    "duration": 0,
    "start_time": "2022-04-10T20:17:23.085Z"
   },
   {
    "duration": 0,
    "start_time": "2022-04-10T20:17:23.086Z"
   },
   {
    "duration": 0,
    "start_time": "2022-04-10T20:17:23.087Z"
   },
   {
    "duration": 0,
    "start_time": "2022-04-10T20:17:23.088Z"
   },
   {
    "duration": 0,
    "start_time": "2022-04-10T20:17:23.089Z"
   },
   {
    "duration": 0,
    "start_time": "2022-04-10T20:17:23.089Z"
   },
   {
    "duration": 0,
    "start_time": "2022-04-10T20:17:23.090Z"
   },
   {
    "duration": 0,
    "start_time": "2022-04-10T20:17:23.092Z"
   },
   {
    "duration": 0,
    "start_time": "2022-04-10T20:17:23.092Z"
   },
   {
    "duration": 0,
    "start_time": "2022-04-10T20:17:23.094Z"
   },
   {
    "duration": 0,
    "start_time": "2022-04-10T20:17:23.095Z"
   },
   {
    "duration": 0,
    "start_time": "2022-04-10T20:17:23.096Z"
   },
   {
    "duration": 0,
    "start_time": "2022-04-10T20:17:23.097Z"
   },
   {
    "duration": 0,
    "start_time": "2022-04-10T20:17:23.098Z"
   },
   {
    "duration": 0,
    "start_time": "2022-04-10T20:17:23.099Z"
   },
   {
    "duration": 0,
    "start_time": "2022-04-10T20:17:23.099Z"
   },
   {
    "duration": 0,
    "start_time": "2022-04-10T20:17:23.100Z"
   },
   {
    "duration": 0,
    "start_time": "2022-04-10T20:17:23.101Z"
   },
   {
    "duration": 0,
    "start_time": "2022-04-10T20:17:23.102Z"
   },
   {
    "duration": 0,
    "start_time": "2022-04-10T20:17:23.103Z"
   },
   {
    "duration": 0,
    "start_time": "2022-04-10T20:17:23.104Z"
   },
   {
    "duration": 0,
    "start_time": "2022-04-10T20:17:23.105Z"
   },
   {
    "duration": 0,
    "start_time": "2022-04-10T20:17:23.106Z"
   },
   {
    "duration": 0,
    "start_time": "2022-04-10T20:17:23.107Z"
   },
   {
    "duration": 0,
    "start_time": "2022-04-10T20:17:23.108Z"
   },
   {
    "duration": 0,
    "start_time": "2022-04-10T20:17:23.109Z"
   },
   {
    "duration": 0,
    "start_time": "2022-04-10T20:17:23.110Z"
   },
   {
    "duration": 0,
    "start_time": "2022-04-10T20:17:23.111Z"
   },
   {
    "duration": 0,
    "start_time": "2022-04-10T20:17:23.111Z"
   },
   {
    "duration": 0,
    "start_time": "2022-04-10T20:17:23.139Z"
   },
   {
    "duration": 0,
    "start_time": "2022-04-10T20:17:23.141Z"
   },
   {
    "duration": 0,
    "start_time": "2022-04-10T20:17:23.142Z"
   },
   {
    "duration": 0,
    "start_time": "2022-04-10T20:17:23.144Z"
   },
   {
    "duration": 0,
    "start_time": "2022-04-10T20:17:23.144Z"
   },
   {
    "duration": 0,
    "start_time": "2022-04-10T20:17:23.145Z"
   },
   {
    "duration": 484,
    "start_time": "2022-04-10T20:17:47.995Z"
   },
   {
    "duration": 817,
    "start_time": "2022-04-10T20:17:48.482Z"
   },
   {
    "duration": 2,
    "start_time": "2022-04-10T20:17:49.301Z"
   },
   {
    "duration": 10,
    "start_time": "2022-04-10T20:17:49.305Z"
   },
   {
    "duration": 10,
    "start_time": "2022-04-10T20:17:49.317Z"
   },
   {
    "duration": 13,
    "start_time": "2022-04-10T20:17:49.329Z"
   },
   {
    "duration": 8,
    "start_time": "2022-04-10T20:17:49.344Z"
   },
   {
    "duration": 467,
    "start_time": "2022-04-10T20:17:49.354Z"
   },
   {
    "duration": 76,
    "start_time": "2022-04-10T20:17:49.823Z"
   },
   {
    "duration": 438,
    "start_time": "2022-04-10T20:17:49.902Z"
   },
   {
    "duration": 269,
    "start_time": "2022-04-10T20:17:50.342Z"
   },
   {
    "duration": 139,
    "start_time": "2022-04-10T20:17:50.613Z"
   },
   {
    "duration": 12,
    "start_time": "2022-04-10T20:17:50.753Z"
   },
   {
    "duration": 8,
    "start_time": "2022-04-10T20:17:50.767Z"
   },
   {
    "duration": 10,
    "start_time": "2022-04-10T20:17:50.776Z"
   },
   {
    "duration": 11,
    "start_time": "2022-04-10T20:17:50.788Z"
   },
   {
    "duration": 39,
    "start_time": "2022-04-10T20:17:50.801Z"
   },
   {
    "duration": 16,
    "start_time": "2022-04-10T20:17:50.842Z"
   },
   {
    "duration": 11,
    "start_time": "2022-04-10T20:17:50.859Z"
   },
   {
    "duration": 11,
    "start_time": "2022-04-10T20:17:50.871Z"
   },
   {
    "duration": 17,
    "start_time": "2022-04-10T20:17:50.884Z"
   },
   {
    "duration": 43,
    "start_time": "2022-04-10T20:17:50.903Z"
   },
   {
    "duration": 18,
    "start_time": "2022-04-10T20:17:50.948Z"
   },
   {
    "duration": 16,
    "start_time": "2022-04-10T20:17:50.969Z"
   },
   {
    "duration": 55,
    "start_time": "2022-04-10T20:17:50.987Z"
   },
   {
    "duration": 3,
    "start_time": "2022-04-10T20:17:51.044Z"
   },
   {
    "duration": 16,
    "start_time": "2022-04-10T20:17:51.048Z"
   },
   {
    "duration": 7,
    "start_time": "2022-04-10T20:17:51.068Z"
   },
   {
    "duration": 28,
    "start_time": "2022-04-10T20:17:51.077Z"
   },
   {
    "duration": 4,
    "start_time": "2022-04-10T20:17:51.107Z"
   },
   {
    "duration": 52,
    "start_time": "2022-04-10T20:17:51.112Z"
   },
   {
    "duration": 5,
    "start_time": "2022-04-10T20:17:51.166Z"
   },
   {
    "duration": 12,
    "start_time": "2022-04-10T20:17:51.172Z"
   },
   {
    "duration": 16,
    "start_time": "2022-04-10T20:17:51.186Z"
   },
   {
    "duration": 20,
    "start_time": "2022-04-10T20:17:51.203Z"
   },
   {
    "duration": 18,
    "start_time": "2022-04-10T20:17:51.225Z"
   },
   {
    "duration": 26,
    "start_time": "2022-04-10T20:17:51.245Z"
   },
   {
    "duration": 8,
    "start_time": "2022-04-10T20:17:51.273Z"
   },
   {
    "duration": 9,
    "start_time": "2022-04-10T20:17:51.283Z"
   },
   {
    "duration": 13,
    "start_time": "2022-04-10T20:17:51.294Z"
   },
   {
    "duration": 13,
    "start_time": "2022-04-10T20:17:51.309Z"
   },
   {
    "duration": 6,
    "start_time": "2022-04-10T20:17:51.338Z"
   },
   {
    "duration": 14,
    "start_time": "2022-04-10T20:17:51.346Z"
   },
   {
    "duration": 19,
    "start_time": "2022-04-10T20:17:51.362Z"
   },
   {
    "duration": 6,
    "start_time": "2022-04-10T20:17:51.383Z"
   },
   {
    "duration": 20,
    "start_time": "2022-04-10T20:17:51.391Z"
   },
   {
    "duration": 29,
    "start_time": "2022-04-10T20:17:51.412Z"
   },
   {
    "duration": 14,
    "start_time": "2022-04-10T20:17:51.442Z"
   },
   {
    "duration": 18,
    "start_time": "2022-04-10T20:17:51.458Z"
   },
   {
    "duration": 15,
    "start_time": "2022-04-10T20:17:51.478Z"
   },
   {
    "duration": 14,
    "start_time": "2022-04-10T20:17:51.495Z"
   },
   {
    "duration": 27,
    "start_time": "2022-04-10T20:17:51.511Z"
   },
   {
    "duration": 17,
    "start_time": "2022-04-10T20:17:51.540Z"
   },
   {
    "duration": 17,
    "start_time": "2022-04-10T20:17:51.559Z"
   },
   {
    "duration": 20,
    "start_time": "2022-04-10T20:17:51.578Z"
   },
   {
    "duration": 266,
    "start_time": "2022-04-10T20:17:51.600Z"
   },
   {
    "duration": 7,
    "start_time": "2022-04-10T20:17:51.868Z"
   },
   {
    "duration": 32,
    "start_time": "2022-04-10T20:17:51.876Z"
   },
   {
    "duration": 260,
    "start_time": "2022-04-10T20:17:51.910Z"
   },
   {
    "duration": 9,
    "start_time": "2022-04-10T20:17:52.172Z"
   },
   {
    "duration": 20,
    "start_time": "2022-04-10T20:17:52.183Z"
   },
   {
    "duration": 34,
    "start_time": "2022-04-10T20:17:52.206Z"
   },
   {
    "duration": 9,
    "start_time": "2022-04-10T20:17:52.242Z"
   },
   {
    "duration": 11,
    "start_time": "2022-04-10T20:17:52.253Z"
   },
   {
    "duration": 12,
    "start_time": "2022-04-10T20:17:52.267Z"
   },
   {
    "duration": 10,
    "start_time": "2022-04-10T20:17:52.281Z"
   },
   {
    "duration": 23,
    "start_time": "2022-04-10T20:17:52.293Z"
   },
   {
    "duration": 40,
    "start_time": "2022-04-10T20:17:52.318Z"
   },
   {
    "duration": 36,
    "start_time": "2022-04-10T20:17:52.360Z"
   },
   {
    "duration": 860,
    "start_time": "2022-04-10T20:17:52.398Z"
   },
   {
    "duration": 194,
    "start_time": "2022-04-10T20:17:53.260Z"
   },
   {
    "duration": 182,
    "start_time": "2022-04-10T20:17:53.456Z"
   },
   {
    "duration": 182,
    "start_time": "2022-04-10T20:17:53.640Z"
   },
   {
    "duration": 24,
    "start_time": "2022-04-10T20:17:53.824Z"
   },
   {
    "duration": 6,
    "start_time": "2022-04-10T20:17:53.850Z"
   },
   {
    "duration": 21,
    "start_time": "2022-04-10T20:17:53.857Z"
   },
   {
    "duration": 25,
    "start_time": "2022-04-10T20:17:53.880Z"
   },
   {
    "duration": 35,
    "start_time": "2022-04-10T20:17:53.907Z"
   },
   {
    "duration": 14,
    "start_time": "2022-04-10T20:17:53.943Z"
   },
   {
    "duration": 5,
    "start_time": "2022-04-10T20:17:53.959Z"
   },
   {
    "duration": 22,
    "start_time": "2022-04-10T20:17:53.966Z"
   },
   {
    "duration": 14,
    "start_time": "2022-04-10T20:17:53.993Z"
   },
   {
    "duration": 4,
    "start_time": "2022-04-10T20:17:54.009Z"
   },
   {
    "duration": 447,
    "start_time": "2022-04-10T20:22:13.145Z"
   },
   {
    "duration": 814,
    "start_time": "2022-04-10T20:22:13.594Z"
   },
   {
    "duration": 3,
    "start_time": "2022-04-10T20:22:14.410Z"
   },
   {
    "duration": 12,
    "start_time": "2022-04-10T20:22:14.416Z"
   },
   {
    "duration": 9,
    "start_time": "2022-04-10T20:22:14.429Z"
   },
   {
    "duration": 9,
    "start_time": "2022-04-10T20:22:14.440Z"
   },
   {
    "duration": 9,
    "start_time": "2022-04-10T20:22:14.450Z"
   },
   {
    "duration": 483,
    "start_time": "2022-04-10T20:22:14.460Z"
   },
   {
    "duration": 78,
    "start_time": "2022-04-10T20:22:14.945Z"
   },
   {
    "duration": 450,
    "start_time": "2022-04-10T20:22:15.026Z"
   },
   {
    "duration": 283,
    "start_time": "2022-04-10T20:22:15.478Z"
   },
   {
    "duration": 137,
    "start_time": "2022-04-10T20:22:15.763Z"
   },
   {
    "duration": 12,
    "start_time": "2022-04-10T20:22:15.902Z"
   },
   {
    "duration": 27,
    "start_time": "2022-04-10T20:22:15.916Z"
   },
   {
    "duration": 8,
    "start_time": "2022-04-10T20:22:15.945Z"
   },
   {
    "duration": 10,
    "start_time": "2022-04-10T20:22:15.955Z"
   },
   {
    "duration": 11,
    "start_time": "2022-04-10T20:22:15.968Z"
   },
   {
    "duration": 16,
    "start_time": "2022-04-10T20:22:15.981Z"
   },
   {
    "duration": 9,
    "start_time": "2022-04-10T20:22:15.999Z"
   },
   {
    "duration": 3,
    "start_time": "2022-04-10T20:22:16.039Z"
   },
   {
    "duration": 16,
    "start_time": "2022-04-10T20:22:16.044Z"
   },
   {
    "duration": 30,
    "start_time": "2022-04-10T20:22:16.061Z"
   },
   {
    "duration": 19,
    "start_time": "2022-04-10T20:22:16.093Z"
   },
   {
    "duration": 36,
    "start_time": "2022-04-10T20:22:16.114Z"
   },
   {
    "duration": 42,
    "start_time": "2022-04-10T20:22:16.153Z"
   },
   {
    "duration": 3,
    "start_time": "2022-04-10T20:22:16.197Z"
   },
   {
    "duration": 15,
    "start_time": "2022-04-10T20:22:16.202Z"
   },
   {
    "duration": 5,
    "start_time": "2022-04-10T20:22:16.239Z"
   },
   {
    "duration": 40,
    "start_time": "2022-04-10T20:22:16.246Z"
   },
   {
    "duration": 21,
    "start_time": "2022-04-10T20:22:16.289Z"
   },
   {
    "duration": 62,
    "start_time": "2022-04-10T20:22:16.312Z"
   },
   {
    "duration": 5,
    "start_time": "2022-04-10T20:22:16.376Z"
   },
   {
    "duration": 12,
    "start_time": "2022-04-10T20:22:16.382Z"
   },
   {
    "duration": 15,
    "start_time": "2022-04-10T20:22:16.396Z"
   },
   {
    "duration": 16,
    "start_time": "2022-04-10T20:22:16.413Z"
   },
   {
    "duration": 5,
    "start_time": "2022-04-10T20:22:16.439Z"
   },
   {
    "duration": 29,
    "start_time": "2022-04-10T20:22:16.446Z"
   },
   {
    "duration": 5,
    "start_time": "2022-04-10T20:22:16.477Z"
   },
   {
    "duration": 13,
    "start_time": "2022-04-10T20:22:16.483Z"
   },
   {
    "duration": 15,
    "start_time": "2022-04-10T20:22:16.498Z"
   },
   {
    "duration": 16,
    "start_time": "2022-04-10T20:22:16.515Z"
   },
   {
    "duration": 9,
    "start_time": "2022-04-10T20:22:16.539Z"
   },
   {
    "duration": 18,
    "start_time": "2022-04-10T20:22:16.549Z"
   },
   {
    "duration": 7,
    "start_time": "2022-04-10T20:22:16.569Z"
   },
   {
    "duration": 24,
    "start_time": "2022-04-10T20:22:16.577Z"
   },
   {
    "duration": 14,
    "start_time": "2022-04-10T20:22:16.602Z"
   },
   {
    "duration": 21,
    "start_time": "2022-04-10T20:22:16.618Z"
   },
   {
    "duration": 21,
    "start_time": "2022-04-10T20:22:16.641Z"
   },
   {
    "duration": 19,
    "start_time": "2022-04-10T20:22:16.664Z"
   },
   {
    "duration": 13,
    "start_time": "2022-04-10T20:22:16.684Z"
   },
   {
    "duration": 7,
    "start_time": "2022-04-10T20:22:16.700Z"
   },
   {
    "duration": 19,
    "start_time": "2022-04-10T20:22:16.709Z"
   },
   {
    "duration": 12,
    "start_time": "2022-04-10T20:22:16.739Z"
   },
   {
    "duration": 21,
    "start_time": "2022-04-10T20:22:16.753Z"
   },
   {
    "duration": 278,
    "start_time": "2022-04-10T20:22:16.776Z"
   },
   {
    "duration": 7,
    "start_time": "2022-04-10T20:22:17.056Z"
   },
   {
    "duration": 29,
    "start_time": "2022-04-10T20:22:17.065Z"
   },
   {
    "duration": 258,
    "start_time": "2022-04-10T20:22:17.096Z"
   },
   {
    "duration": 9,
    "start_time": "2022-04-10T20:22:17.356Z"
   },
   {
    "duration": 18,
    "start_time": "2022-04-10T20:22:17.367Z"
   },
   {
    "duration": 13,
    "start_time": "2022-04-10T20:22:17.388Z"
   },
   {
    "duration": 9,
    "start_time": "2022-04-10T20:22:17.403Z"
   },
   {
    "duration": 5,
    "start_time": "2022-04-10T20:22:17.440Z"
   },
   {
    "duration": 16,
    "start_time": "2022-04-10T20:22:17.447Z"
   },
   {
    "duration": 12,
    "start_time": "2022-04-10T20:22:17.465Z"
   },
   {
    "duration": 24,
    "start_time": "2022-04-10T20:22:17.479Z"
   },
   {
    "duration": 43,
    "start_time": "2022-04-10T20:22:17.506Z"
   },
   {
    "duration": 34,
    "start_time": "2022-04-10T20:22:17.551Z"
   },
   {
    "duration": 864,
    "start_time": "2022-04-10T20:22:17.587Z"
   },
   {
    "duration": 199,
    "start_time": "2022-04-10T20:22:18.453Z"
   },
   {
    "duration": 187,
    "start_time": "2022-04-10T20:22:18.654Z"
   },
   {
    "duration": 183,
    "start_time": "2022-04-10T20:22:18.843Z"
   },
   {
    "duration": 20,
    "start_time": "2022-04-10T20:22:19.028Z"
   },
   {
    "duration": 5,
    "start_time": "2022-04-10T20:22:19.050Z"
   },
   {
    "duration": 18,
    "start_time": "2022-04-10T20:22:19.056Z"
   },
   {
    "duration": 11,
    "start_time": "2022-04-10T20:22:19.076Z"
   },
   {
    "duration": 23,
    "start_time": "2022-04-10T20:22:19.089Z"
   },
   {
    "duration": 30,
    "start_time": "2022-04-10T20:22:19.113Z"
   },
   {
    "duration": 4,
    "start_time": "2022-04-10T20:22:19.145Z"
   },
   {
    "duration": 20,
    "start_time": "2022-04-10T20:22:19.151Z"
   },
   {
    "duration": 13,
    "start_time": "2022-04-10T20:22:19.173Z"
   },
   {
    "duration": 4,
    "start_time": "2022-04-10T20:22:19.192Z"
   },
   {
    "duration": 477,
    "start_time": "2022-04-10T20:47:36.186Z"
   },
   {
    "duration": 1115,
    "start_time": "2022-04-10T20:47:36.666Z"
   },
   {
    "duration": 3,
    "start_time": "2022-04-10T20:47:37.783Z"
   },
   {
    "duration": 20,
    "start_time": "2022-04-10T20:47:37.788Z"
   },
   {
    "duration": 13,
    "start_time": "2022-04-10T20:47:37.811Z"
   },
   {
    "duration": 36,
    "start_time": "2022-04-10T20:47:37.826Z"
   },
   {
    "duration": 22,
    "start_time": "2022-04-10T20:47:37.865Z"
   },
   {
    "duration": 503,
    "start_time": "2022-04-10T20:47:37.890Z"
   },
   {
    "duration": 88,
    "start_time": "2022-04-10T20:47:38.395Z"
   },
   {
    "duration": 468,
    "start_time": "2022-04-10T20:47:38.485Z"
   },
   {
    "duration": 280,
    "start_time": "2022-04-10T20:47:38.956Z"
   },
   {
    "duration": 158,
    "start_time": "2022-04-10T20:47:39.240Z"
   },
   {
    "duration": 11,
    "start_time": "2022-04-10T20:47:39.401Z"
   },
   {
    "duration": 29,
    "start_time": "2022-04-10T20:47:39.417Z"
   },
   {
    "duration": 10,
    "start_time": "2022-04-10T20:47:39.448Z"
   },
   {
    "duration": 11,
    "start_time": "2022-04-10T20:47:39.459Z"
   },
   {
    "duration": 14,
    "start_time": "2022-04-10T20:47:39.472Z"
   },
   {
    "duration": 21,
    "start_time": "2022-04-10T20:47:39.488Z"
   },
   {
    "duration": 18,
    "start_time": "2022-04-10T20:47:39.539Z"
   },
   {
    "duration": 8,
    "start_time": "2022-04-10T20:47:39.559Z"
   },
   {
    "duration": 13,
    "start_time": "2022-04-10T20:47:39.569Z"
   },
   {
    "duration": 28,
    "start_time": "2022-04-10T20:47:39.585Z"
   },
   {
    "duration": 44,
    "start_time": "2022-04-10T20:47:39.615Z"
   },
   {
    "duration": 16,
    "start_time": "2022-04-10T20:47:39.662Z"
   },
   {
    "duration": 39,
    "start_time": "2022-04-10T20:47:39.680Z"
   },
   {
    "duration": 21,
    "start_time": "2022-04-10T20:47:39.721Z"
   },
   {
    "duration": 27,
    "start_time": "2022-04-10T20:47:39.744Z"
   },
   {
    "duration": 11,
    "start_time": "2022-04-10T20:47:39.772Z"
   },
   {
    "duration": 27,
    "start_time": "2022-04-10T20:47:39.785Z"
   },
   {
    "duration": 4,
    "start_time": "2022-04-10T20:47:39.814Z"
   },
   {
    "duration": 56,
    "start_time": "2022-04-10T20:47:39.820Z"
   },
   {
    "duration": 5,
    "start_time": "2022-04-10T20:47:39.877Z"
   },
   {
    "duration": 9,
    "start_time": "2022-04-10T20:47:39.884Z"
   },
   {
    "duration": 16,
    "start_time": "2022-04-10T20:47:39.895Z"
   },
   {
    "duration": 41,
    "start_time": "2022-04-10T20:47:39.913Z"
   },
   {
    "duration": 12,
    "start_time": "2022-04-10T20:47:39.958Z"
   },
   {
    "duration": 34,
    "start_time": "2022-04-10T20:47:39.971Z"
   },
   {
    "duration": 5,
    "start_time": "2022-04-10T20:47:40.007Z"
   },
   {
    "duration": 20,
    "start_time": "2022-04-10T20:47:40.013Z"
   },
   {
    "duration": 13,
    "start_time": "2022-04-10T20:47:40.038Z"
   },
   {
    "duration": 19,
    "start_time": "2022-04-10T20:47:40.059Z"
   },
   {
    "duration": 16,
    "start_time": "2022-04-10T20:47:40.080Z"
   },
   {
    "duration": 16,
    "start_time": "2022-04-10T20:47:40.099Z"
   },
   {
    "duration": 22,
    "start_time": "2022-04-10T20:47:40.117Z"
   },
   {
    "duration": 20,
    "start_time": "2022-04-10T20:47:40.142Z"
   },
   {
    "duration": 5,
    "start_time": "2022-04-10T20:47:40.164Z"
   },
   {
    "duration": 13,
    "start_time": "2022-04-10T20:47:40.171Z"
   },
   {
    "duration": 17,
    "start_time": "2022-04-10T20:47:40.186Z"
   },
   {
    "duration": 36,
    "start_time": "2022-04-10T20:47:40.205Z"
   },
   {
    "duration": 17,
    "start_time": "2022-04-10T20:47:40.243Z"
   },
   {
    "duration": 17,
    "start_time": "2022-04-10T20:47:40.262Z"
   },
   {
    "duration": 16,
    "start_time": "2022-04-10T20:47:40.281Z"
   },
   {
    "duration": 18,
    "start_time": "2022-04-10T20:47:40.299Z"
   },
   {
    "duration": 17,
    "start_time": "2022-04-10T20:47:40.340Z"
   },
   {
    "duration": 312,
    "start_time": "2022-04-10T20:47:40.360Z"
   },
   {
    "duration": 7,
    "start_time": "2022-04-10T20:47:40.674Z"
   },
   {
    "duration": 31,
    "start_time": "2022-04-10T20:47:40.682Z"
   },
   {
    "duration": 290,
    "start_time": "2022-04-10T20:47:40.715Z"
   },
   {
    "duration": 9,
    "start_time": "2022-04-10T20:47:41.007Z"
   },
   {
    "duration": 29,
    "start_time": "2022-04-10T20:47:41.018Z"
   },
   {
    "duration": 17,
    "start_time": "2022-04-10T20:47:41.051Z"
   },
   {
    "duration": 5,
    "start_time": "2022-04-10T20:47:41.069Z"
   },
   {
    "duration": 11,
    "start_time": "2022-04-10T20:47:41.076Z"
   },
   {
    "duration": 15,
    "start_time": "2022-04-10T20:47:41.089Z"
   },
   {
    "duration": 33,
    "start_time": "2022-04-10T20:47:41.106Z"
   },
   {
    "duration": 27,
    "start_time": "2022-04-10T20:47:41.142Z"
   },
   {
    "duration": 20,
    "start_time": "2022-04-10T20:47:41.171Z"
   },
   {
    "duration": 68,
    "start_time": "2022-04-10T20:47:41.193Z"
   },
   {
    "duration": 932,
    "start_time": "2022-04-10T20:47:41.263Z"
   },
   {
    "duration": 200,
    "start_time": "2022-04-10T20:47:42.197Z"
   },
   {
    "duration": 178,
    "start_time": "2022-04-10T20:47:42.399Z"
   },
   {
    "duration": 183,
    "start_time": "2022-04-10T20:47:42.579Z"
   },
   {
    "duration": 16,
    "start_time": "2022-04-10T20:47:42.764Z"
   },
   {
    "duration": 6,
    "start_time": "2022-04-10T20:47:42.782Z"
   },
   {
    "duration": 19,
    "start_time": "2022-04-10T20:47:42.790Z"
   },
   {
    "duration": 33,
    "start_time": "2022-04-10T20:47:42.811Z"
   },
   {
    "duration": 25,
    "start_time": "2022-04-10T20:47:42.845Z"
   },
   {
    "duration": 17,
    "start_time": "2022-04-10T20:47:42.872Z"
   },
   {
    "duration": 7,
    "start_time": "2022-04-10T20:47:42.891Z"
   },
   {
    "duration": 21,
    "start_time": "2022-04-10T20:47:42.900Z"
   },
   {
    "duration": 25,
    "start_time": "2022-04-10T20:47:42.923Z"
   },
   {
    "duration": 8,
    "start_time": "2022-04-10T20:47:42.950Z"
   },
   {
    "duration": 26,
    "start_time": "2022-04-10T20:47:54.831Z"
   },
   {
    "duration": 5,
    "start_time": "2022-04-10T20:49:12.487Z"
   },
   {
    "duration": 112,
    "start_time": "2022-04-10T20:54:29.302Z"
   },
   {
    "duration": 4,
    "start_time": "2022-04-10T21:07:59.403Z"
   },
   {
    "duration": 4,
    "start_time": "2022-04-10T21:08:21.809Z"
   },
   {
    "duration": 515,
    "start_time": "2022-04-10T21:08:33.727Z"
   },
   {
    "duration": 801,
    "start_time": "2022-04-10T21:08:34.245Z"
   },
   {
    "duration": 4,
    "start_time": "2022-04-10T21:08:35.048Z"
   },
   {
    "duration": 17,
    "start_time": "2022-04-10T21:08:35.054Z"
   },
   {
    "duration": 27,
    "start_time": "2022-04-10T21:08:35.074Z"
   },
   {
    "duration": 9,
    "start_time": "2022-04-10T21:08:35.103Z"
   },
   {
    "duration": 9,
    "start_time": "2022-04-10T21:08:35.114Z"
   },
   {
    "duration": 463,
    "start_time": "2022-04-10T21:08:35.125Z"
   },
   {
    "duration": 78,
    "start_time": "2022-04-10T21:08:35.591Z"
   },
   {
    "duration": 425,
    "start_time": "2022-04-10T21:08:35.671Z"
   },
   {
    "duration": 266,
    "start_time": "2022-04-10T21:08:36.098Z"
   },
   {
    "duration": 142,
    "start_time": "2022-04-10T21:08:36.366Z"
   },
   {
    "duration": 11,
    "start_time": "2022-04-10T21:08:36.510Z"
   },
   {
    "duration": 21,
    "start_time": "2022-04-10T21:08:36.525Z"
   },
   {
    "duration": 18,
    "start_time": "2022-04-10T21:08:36.547Z"
   },
   {
    "duration": 18,
    "start_time": "2022-04-10T21:08:36.567Z"
   },
   {
    "duration": 17,
    "start_time": "2022-04-10T21:08:36.587Z"
   },
   {
    "duration": 21,
    "start_time": "2022-04-10T21:08:36.606Z"
   },
   {
    "duration": 11,
    "start_time": "2022-04-10T21:08:36.629Z"
   },
   {
    "duration": 12,
    "start_time": "2022-04-10T21:08:36.642Z"
   },
   {
    "duration": 21,
    "start_time": "2022-04-10T21:08:36.656Z"
   },
   {
    "duration": 58,
    "start_time": "2022-04-10T21:08:36.679Z"
   },
   {
    "duration": 20,
    "start_time": "2022-04-10T21:08:36.739Z"
   },
   {
    "duration": 36,
    "start_time": "2022-04-10T21:08:36.761Z"
   },
   {
    "duration": 52,
    "start_time": "2022-04-10T21:08:36.800Z"
   },
   {
    "duration": 4,
    "start_time": "2022-04-10T21:08:36.854Z"
   },
   {
    "duration": 24,
    "start_time": "2022-04-10T21:08:36.860Z"
   },
   {
    "duration": 11,
    "start_time": "2022-04-10T21:08:36.885Z"
   },
   {
    "duration": 47,
    "start_time": "2022-04-10T21:08:36.898Z"
   },
   {
    "duration": 7,
    "start_time": "2022-04-10T21:08:36.947Z"
   },
   {
    "duration": 57,
    "start_time": "2022-04-10T21:08:36.955Z"
   },
   {
    "duration": 5,
    "start_time": "2022-04-10T21:08:37.014Z"
   },
   {
    "duration": 12,
    "start_time": "2022-04-10T21:08:37.020Z"
   },
   {
    "duration": 18,
    "start_time": "2022-04-10T21:08:37.034Z"
   },
   {
    "duration": 23,
    "start_time": "2022-04-10T21:08:37.053Z"
   },
   {
    "duration": 30,
    "start_time": "2022-04-10T21:08:37.078Z"
   },
   {
    "duration": 45,
    "start_time": "2022-04-10T21:08:37.110Z"
   },
   {
    "duration": 5,
    "start_time": "2022-04-10T21:08:37.157Z"
   },
   {
    "duration": 17,
    "start_time": "2022-04-10T21:08:37.164Z"
   },
   {
    "duration": 14,
    "start_time": "2022-04-10T21:08:37.183Z"
   },
   {
    "duration": 13,
    "start_time": "2022-04-10T21:08:37.203Z"
   },
   {
    "duration": 14,
    "start_time": "2022-04-10T21:08:37.218Z"
   },
   {
    "duration": 23,
    "start_time": "2022-04-10T21:08:37.234Z"
   },
   {
    "duration": 17,
    "start_time": "2022-04-10T21:08:37.259Z"
   },
   {
    "duration": 15,
    "start_time": "2022-04-10T21:08:37.278Z"
   },
   {
    "duration": 13,
    "start_time": "2022-04-10T21:08:37.295Z"
   },
   {
    "duration": 9,
    "start_time": "2022-04-10T21:08:37.310Z"
   },
   {
    "duration": 11,
    "start_time": "2022-04-10T21:08:37.321Z"
   },
   {
    "duration": 15,
    "start_time": "2022-04-10T21:08:37.334Z"
   },
   {
    "duration": 15,
    "start_time": "2022-04-10T21:08:37.351Z"
   },
   {
    "duration": 20,
    "start_time": "2022-04-10T21:08:37.368Z"
   },
   {
    "duration": 20,
    "start_time": "2022-04-10T21:08:37.389Z"
   },
   {
    "duration": 19,
    "start_time": "2022-04-10T21:08:37.411Z"
   },
   {
    "duration": 19,
    "start_time": "2022-04-10T21:08:37.432Z"
   },
   {
    "duration": 21,
    "start_time": "2022-04-10T21:08:37.453Z"
   },
   {
    "duration": 28,
    "start_time": "2022-04-10T21:08:37.477Z"
   },
   {
    "duration": 269,
    "start_time": "2022-04-10T21:08:37.506Z"
   },
   {
    "duration": 7,
    "start_time": "2022-04-10T21:08:37.777Z"
   },
   {
    "duration": 29,
    "start_time": "2022-04-10T21:08:37.786Z"
   },
   {
    "duration": 273,
    "start_time": "2022-04-10T21:08:37.817Z"
   },
   {
    "duration": 9,
    "start_time": "2022-04-10T21:08:38.092Z"
   },
   {
    "duration": 23,
    "start_time": "2022-04-10T21:08:38.102Z"
   },
   {
    "duration": 15,
    "start_time": "2022-04-10T21:08:38.140Z"
   },
   {
    "duration": 10,
    "start_time": "2022-04-10T21:08:38.157Z"
   },
   {
    "duration": 10,
    "start_time": "2022-04-10T21:08:38.169Z"
   },
   {
    "duration": 18,
    "start_time": "2022-04-10T21:08:38.181Z"
   },
   {
    "duration": 10,
    "start_time": "2022-04-10T21:08:38.200Z"
   },
   {
    "duration": 38,
    "start_time": "2022-04-10T21:08:38.212Z"
   },
   {
    "duration": 20,
    "start_time": "2022-04-10T21:08:38.252Z"
   },
   {
    "duration": 31,
    "start_time": "2022-04-10T21:08:38.274Z"
   },
   {
    "duration": 848,
    "start_time": "2022-04-10T21:08:38.307Z"
   },
   {
    "duration": 206,
    "start_time": "2022-04-10T21:08:39.157Z"
   },
   {
    "duration": 179,
    "start_time": "2022-04-10T21:08:39.364Z"
   },
   {
    "duration": 177,
    "start_time": "2022-04-10T21:08:39.545Z"
   },
   {
    "duration": 24,
    "start_time": "2022-04-10T21:08:39.723Z"
   },
   {
    "duration": 6,
    "start_time": "2022-04-10T21:08:39.748Z"
   },
   {
    "duration": 18,
    "start_time": "2022-04-10T21:08:39.755Z"
   },
   {
    "duration": 12,
    "start_time": "2022-04-10T21:08:39.775Z"
   },
   {
    "duration": 22,
    "start_time": "2022-04-10T21:08:39.788Z"
   },
   {
    "duration": 31,
    "start_time": "2022-04-10T21:08:39.812Z"
   },
   {
    "duration": 4,
    "start_time": "2022-04-10T21:08:39.846Z"
   },
   {
    "duration": 21,
    "start_time": "2022-04-10T21:08:39.851Z"
   },
   {
    "duration": 14,
    "start_time": "2022-04-10T21:08:39.874Z"
   },
   {
    "duration": 5,
    "start_time": "2022-04-10T21:08:39.890Z"
   },
   {
    "duration": 366,
    "start_time": "2022-04-10T21:15:32.751Z"
   },
   {
    "duration": 424,
    "start_time": "2022-04-10T21:42:44.272Z"
   },
   {
    "duration": 826,
    "start_time": "2022-04-10T21:42:44.698Z"
   },
   {
    "duration": 3,
    "start_time": "2022-04-10T21:42:45.526Z"
   },
   {
    "duration": 13,
    "start_time": "2022-04-10T21:42:45.531Z"
   },
   {
    "duration": 8,
    "start_time": "2022-04-10T21:42:45.545Z"
   },
   {
    "duration": 8,
    "start_time": "2022-04-10T21:42:45.555Z"
   },
   {
    "duration": 8,
    "start_time": "2022-04-10T21:42:45.565Z"
   },
   {
    "duration": 457,
    "start_time": "2022-04-10T21:42:45.575Z"
   },
   {
    "duration": 76,
    "start_time": "2022-04-10T21:42:46.034Z"
   },
   {
    "duration": 434,
    "start_time": "2022-04-10T21:42:46.113Z"
   },
   {
    "duration": 251,
    "start_time": "2022-04-10T21:42:46.549Z"
   },
   {
    "duration": 131,
    "start_time": "2022-04-10T21:42:46.801Z"
   },
   {
    "duration": 13,
    "start_time": "2022-04-10T21:42:46.934Z"
   },
   {
    "duration": 20,
    "start_time": "2022-04-10T21:42:46.950Z"
   },
   {
    "duration": 9,
    "start_time": "2022-04-10T21:42:46.972Z"
   },
   {
    "duration": 15,
    "start_time": "2022-04-10T21:42:46.983Z"
   },
   {
    "duration": 11,
    "start_time": "2022-04-10T21:42:47.000Z"
   },
   {
    "duration": 32,
    "start_time": "2022-04-10T21:42:47.013Z"
   },
   {
    "duration": 10,
    "start_time": "2022-04-10T21:42:47.047Z"
   },
   {
    "duration": 11,
    "start_time": "2022-04-10T21:42:47.059Z"
   },
   {
    "duration": 19,
    "start_time": "2022-04-10T21:42:47.072Z"
   },
   {
    "duration": 34,
    "start_time": "2022-04-10T21:42:47.092Z"
   },
   {
    "duration": 23,
    "start_time": "2022-04-10T21:42:47.128Z"
   },
   {
    "duration": 16,
    "start_time": "2022-04-10T21:42:47.153Z"
   },
   {
    "duration": 45,
    "start_time": "2022-04-10T21:42:47.171Z"
   },
   {
    "duration": 4,
    "start_time": "2022-04-10T21:42:47.217Z"
   },
   {
    "duration": 19,
    "start_time": "2022-04-10T21:42:47.239Z"
   },
   {
    "duration": 6,
    "start_time": "2022-04-10T21:42:47.263Z"
   },
   {
    "duration": 34,
    "start_time": "2022-04-10T21:42:47.271Z"
   },
   {
    "duration": 5,
    "start_time": "2022-04-10T21:42:47.307Z"
   },
   {
    "duration": 41,
    "start_time": "2022-04-10T21:42:47.314Z"
   },
   {
    "duration": 5,
    "start_time": "2022-04-10T21:42:47.357Z"
   },
   {
    "duration": 22,
    "start_time": "2022-04-10T21:42:47.363Z"
   },
   {
    "duration": 21,
    "start_time": "2022-04-10T21:42:47.387Z"
   },
   {
    "duration": 15,
    "start_time": "2022-04-10T21:42:47.410Z"
   },
   {
    "duration": 15,
    "start_time": "2022-04-10T21:42:47.427Z"
   },
   {
    "duration": 40,
    "start_time": "2022-04-10T21:42:47.444Z"
   },
   {
    "duration": 6,
    "start_time": "2022-04-10T21:42:47.486Z"
   },
   {
    "duration": 15,
    "start_time": "2022-04-10T21:42:47.493Z"
   },
   {
    "duration": 16,
    "start_time": "2022-04-10T21:42:47.510Z"
   },
   {
    "duration": 23,
    "start_time": "2022-04-10T21:42:47.528Z"
   },
   {
    "duration": 15,
    "start_time": "2022-04-10T21:42:47.553Z"
   },
   {
    "duration": 30,
    "start_time": "2022-04-10T21:42:47.570Z"
   },
   {
    "duration": 13,
    "start_time": "2022-04-10T21:42:47.602Z"
   },
   {
    "duration": 36,
    "start_time": "2022-04-10T21:42:47.616Z"
   },
   {
    "duration": 24,
    "start_time": "2022-04-10T21:42:47.653Z"
   },
   {
    "duration": 15,
    "start_time": "2022-04-10T21:42:47.679Z"
   },
   {
    "duration": 16,
    "start_time": "2022-04-10T21:42:47.696Z"
   },
   {
    "duration": 14,
    "start_time": "2022-04-10T21:42:47.714Z"
   },
   {
    "duration": 18,
    "start_time": "2022-04-10T21:42:47.730Z"
   },
   {
    "duration": 28,
    "start_time": "2022-04-10T21:42:47.750Z"
   },
   {
    "duration": 17,
    "start_time": "2022-04-10T21:42:47.779Z"
   },
   {
    "duration": 9,
    "start_time": "2022-04-10T21:42:47.798Z"
   },
   {
    "duration": 25,
    "start_time": "2022-04-10T21:42:47.809Z"
   },
   {
    "duration": 17,
    "start_time": "2022-04-10T21:42:47.836Z"
   },
   {
    "duration": 32,
    "start_time": "2022-04-10T21:42:47.855Z"
   },
   {
    "duration": 273,
    "start_time": "2022-04-10T21:42:47.889Z"
   },
   {
    "duration": 8,
    "start_time": "2022-04-10T21:42:48.164Z"
   },
   {
    "duration": 35,
    "start_time": "2022-04-10T21:42:48.174Z"
   },
   {
    "duration": 262,
    "start_time": "2022-04-10T21:42:48.211Z"
   },
   {
    "duration": 9,
    "start_time": "2022-04-10T21:42:48.475Z"
   },
   {
    "duration": 24,
    "start_time": "2022-04-10T21:42:48.486Z"
   },
   {
    "duration": 30,
    "start_time": "2022-04-10T21:42:48.512Z"
   },
   {
    "duration": 8,
    "start_time": "2022-04-10T21:42:48.544Z"
   },
   {
    "duration": 9,
    "start_time": "2022-04-10T21:42:48.554Z"
   },
   {
    "duration": 14,
    "start_time": "2022-04-10T21:42:48.564Z"
   },
   {
    "duration": 11,
    "start_time": "2022-04-10T21:42:48.579Z"
   },
   {
    "duration": 26,
    "start_time": "2022-04-10T21:42:48.592Z"
   },
   {
    "duration": 40,
    "start_time": "2022-04-10T21:42:48.619Z"
   },
   {
    "duration": 33,
    "start_time": "2022-04-10T21:42:48.661Z"
   },
   {
    "duration": 849,
    "start_time": "2022-04-10T21:42:48.695Z"
   },
   {
    "duration": 195,
    "start_time": "2022-04-10T21:42:49.546Z"
   },
   {
    "duration": 171,
    "start_time": "2022-04-10T21:42:49.743Z"
   },
   {
    "duration": 179,
    "start_time": "2022-04-10T21:42:49.916Z"
   },
   {
    "duration": 17,
    "start_time": "2022-04-10T21:42:50.097Z"
   },
   {
    "duration": 26,
    "start_time": "2022-04-10T21:42:50.116Z"
   },
   {
    "duration": 17,
    "start_time": "2022-04-10T21:42:50.143Z"
   },
   {
    "duration": 10,
    "start_time": "2022-04-10T21:42:50.161Z"
   },
   {
    "duration": 27,
    "start_time": "2022-04-10T21:42:50.172Z"
   },
   {
    "duration": 15,
    "start_time": "2022-04-10T21:42:50.200Z"
   },
   {
    "duration": 23,
    "start_time": "2022-04-10T21:42:50.217Z"
   },
   {
    "duration": 16,
    "start_time": "2022-04-10T21:42:50.247Z"
   },
   {
    "duration": 14,
    "start_time": "2022-04-10T21:42:50.264Z"
   },
   {
    "duration": 6,
    "start_time": "2022-04-10T21:42:50.280Z"
   },
   {
    "duration": 219,
    "start_time": "2022-04-11T10:57:29.528Z"
   },
   {
    "duration": 557,
    "start_time": "2022-04-11T11:08:30.111Z"
   },
   {
    "duration": 1005,
    "start_time": "2022-04-11T11:08:30.671Z"
   },
   {
    "duration": 4,
    "start_time": "2022-04-11T11:08:31.678Z"
   },
   {
    "duration": 13,
    "start_time": "2022-04-11T11:08:31.684Z"
   },
   {
    "duration": 25,
    "start_time": "2022-04-11T11:08:31.699Z"
   },
   {
    "duration": 9,
    "start_time": "2022-04-11T11:08:31.726Z"
   },
   {
    "duration": 12,
    "start_time": "2022-04-11T11:08:31.737Z"
   },
   {
    "duration": 665,
    "start_time": "2022-04-11T11:08:31.752Z"
   },
   {
    "duration": 100,
    "start_time": "2022-04-11T11:08:32.419Z"
   },
   {
    "duration": 588,
    "start_time": "2022-04-11T11:08:32.523Z"
   },
   {
    "duration": 365,
    "start_time": "2022-04-11T11:08:33.113Z"
   },
   {
    "duration": 191,
    "start_time": "2022-04-11T11:08:33.481Z"
   },
   {
    "duration": 14,
    "start_time": "2022-04-11T11:08:33.674Z"
   },
   {
    "duration": 12,
    "start_time": "2022-04-11T11:08:33.691Z"
   },
   {
    "duration": 38,
    "start_time": "2022-04-11T11:08:33.705Z"
   },
   {
    "duration": 9,
    "start_time": "2022-04-11T11:08:33.745Z"
   },
   {
    "duration": 15,
    "start_time": "2022-04-11T11:08:33.756Z"
   },
   {
    "duration": 14,
    "start_time": "2022-04-11T11:08:33.773Z"
   },
   {
    "duration": 12,
    "start_time": "2022-04-11T11:08:33.789Z"
   },
   {
    "duration": 3,
    "start_time": "2022-04-11T11:08:33.843Z"
   },
   {
    "duration": 17,
    "start_time": "2022-04-11T11:08:33.849Z"
   },
   {
    "duration": 33,
    "start_time": "2022-04-11T11:08:33.868Z"
   },
   {
    "duration": 54,
    "start_time": "2022-04-11T11:08:33.904Z"
   },
   {
    "duration": 25,
    "start_time": "2022-04-11T11:08:33.960Z"
   },
   {
    "duration": 83,
    "start_time": "2022-04-11T11:08:33.988Z"
   },
   {
    "duration": 5,
    "start_time": "2022-04-11T11:08:34.073Z"
   },
   {
    "duration": 14,
    "start_time": "2022-04-11T11:08:34.081Z"
   },
   {
    "duration": 6,
    "start_time": "2022-04-11T11:08:34.102Z"
   },
   {
    "duration": 56,
    "start_time": "2022-04-11T11:08:34.110Z"
   },
   {
    "duration": 5,
    "start_time": "2022-04-11T11:08:34.168Z"
   },
   {
    "duration": 42,
    "start_time": "2022-04-11T11:08:34.175Z"
   },
   {
    "duration": 27,
    "start_time": "2022-04-11T11:08:34.219Z"
   },
   {
    "duration": 40,
    "start_time": "2022-04-11T11:08:34.249Z"
   },
   {
    "duration": 21,
    "start_time": "2022-04-11T11:08:34.291Z"
   },
   {
    "duration": 15,
    "start_time": "2022-04-11T11:08:34.315Z"
   },
   {
    "duration": 9,
    "start_time": "2022-04-11T11:08:34.333Z"
   },
   {
    "duration": 39,
    "start_time": "2022-04-11T11:08:34.345Z"
   },
   {
    "duration": 7,
    "start_time": "2022-04-11T11:08:34.387Z"
   },
   {
    "duration": 8,
    "start_time": "2022-04-11T11:08:34.396Z"
   },
   {
    "duration": 42,
    "start_time": "2022-04-11T11:08:34.406Z"
   },
   {
    "duration": 12,
    "start_time": "2022-04-11T11:08:34.451Z"
   },
   {
    "duration": 12,
    "start_time": "2022-04-11T11:08:34.465Z"
   },
   {
    "duration": 16,
    "start_time": "2022-04-11T11:08:34.479Z"
   },
   {
    "duration": 8,
    "start_time": "2022-04-11T11:08:34.497Z"
   },
   {
    "duration": 18,
    "start_time": "2022-04-11T11:08:34.542Z"
   },
   {
    "duration": 13,
    "start_time": "2022-04-11T11:08:34.562Z"
   },
   {
    "duration": 6,
    "start_time": "2022-04-11T11:08:34.577Z"
   },
   {
    "duration": 8,
    "start_time": "2022-04-11T11:08:34.585Z"
   },
   {
    "duration": 10,
    "start_time": "2022-04-11T11:08:34.596Z"
   },
   {
    "duration": 41,
    "start_time": "2022-04-11T11:08:34.608Z"
   },
   {
    "duration": 18,
    "start_time": "2022-04-11T11:08:34.651Z"
   },
   {
    "duration": 17,
    "start_time": "2022-04-11T11:08:34.671Z"
   },
   {
    "duration": 12,
    "start_time": "2022-04-11T11:08:34.691Z"
   },
   {
    "duration": 50,
    "start_time": "2022-04-11T11:08:34.706Z"
   },
   {
    "duration": 15,
    "start_time": "2022-04-11T11:08:34.759Z"
   },
   {
    "duration": 20,
    "start_time": "2022-04-11T11:08:34.776Z"
   },
   {
    "duration": 476,
    "start_time": "2022-04-11T11:08:34.798Z"
   },
   {
    "duration": 10,
    "start_time": "2022-04-11T11:08:35.276Z"
   },
   {
    "duration": 33,
    "start_time": "2022-04-11T11:08:35.288Z"
   },
   {
    "duration": 456,
    "start_time": "2022-04-11T11:08:35.323Z"
   },
   {
    "duration": 12,
    "start_time": "2022-04-11T11:08:35.781Z"
   },
   {
    "duration": 22,
    "start_time": "2022-04-11T11:08:35.796Z"
   },
   {
    "duration": 18,
    "start_time": "2022-04-11T11:08:35.843Z"
   },
   {
    "duration": 16,
    "start_time": "2022-04-11T11:08:35.864Z"
   },
   {
    "duration": 8,
    "start_time": "2022-04-11T11:08:35.882Z"
   },
   {
    "duration": 15,
    "start_time": "2022-04-11T11:08:35.892Z"
   },
   {
    "duration": 8,
    "start_time": "2022-04-11T11:08:35.909Z"
   },
   {
    "duration": 45,
    "start_time": "2022-04-11T11:08:35.920Z"
   },
   {
    "duration": 29,
    "start_time": "2022-04-11T11:08:35.968Z"
   },
   {
    "duration": 79,
    "start_time": "2022-04-11T11:08:35.999Z"
   },
   {
    "duration": 1083,
    "start_time": "2022-04-11T11:08:36.080Z"
   },
   {
    "duration": 296,
    "start_time": "2022-04-11T11:08:37.165Z"
   },
   {
    "duration": 277,
    "start_time": "2022-04-11T11:08:37.463Z"
   },
   {
    "duration": 286,
    "start_time": "2022-04-11T11:08:37.743Z"
   },
   {
    "duration": 25,
    "start_time": "2022-04-11T11:08:38.031Z"
   },
   {
    "duration": 11,
    "start_time": "2022-04-11T11:08:38.058Z"
   },
   {
    "duration": 19,
    "start_time": "2022-04-11T11:08:38.072Z"
   },
   {
    "duration": 11,
    "start_time": "2022-04-11T11:08:38.093Z"
   },
   {
    "duration": 68,
    "start_time": "2022-04-11T11:08:38.106Z"
   },
   {
    "duration": 11,
    "start_time": "2022-04-11T11:08:38.176Z"
   },
   {
    "duration": 5,
    "start_time": "2022-04-11T11:08:38.189Z"
   },
   {
    "duration": 53,
    "start_time": "2022-04-11T11:08:38.202Z"
   },
   {
    "duration": 19,
    "start_time": "2022-04-11T11:08:38.257Z"
   },
   {
    "duration": 7,
    "start_time": "2022-04-11T11:08:38.278Z"
   },
   {
    "duration": 202,
    "start_time": "2022-04-11T11:08:53.102Z"
   },
   {
    "duration": 584,
    "start_time": "2022-04-11T11:09:03.000Z"
   },
   {
    "duration": 999,
    "start_time": "2022-04-11T11:09:03.587Z"
   },
   {
    "duration": 5,
    "start_time": "2022-04-11T11:09:04.588Z"
   },
   {
    "duration": 7,
    "start_time": "2022-04-11T11:09:04.597Z"
   },
   {
    "duration": 8,
    "start_time": "2022-04-11T11:09:04.606Z"
   },
   {
    "duration": 27,
    "start_time": "2022-04-11T11:09:04.616Z"
   },
   {
    "duration": 7,
    "start_time": "2022-04-11T11:09:04.645Z"
   },
   {
    "duration": 610,
    "start_time": "2022-04-11T11:09:04.654Z"
   },
   {
    "duration": 97,
    "start_time": "2022-04-11T11:09:05.266Z"
   },
   {
    "duration": 585,
    "start_time": "2022-04-11T11:09:05.369Z"
   },
   {
    "duration": 339,
    "start_time": "2022-04-11T11:09:05.957Z"
   },
   {
    "duration": 179,
    "start_time": "2022-04-11T11:09:06.298Z"
   },
   {
    "duration": 14,
    "start_time": "2022-04-11T11:09:06.479Z"
   },
   {
    "duration": 8,
    "start_time": "2022-04-11T11:09:06.495Z"
   },
   {
    "duration": 11,
    "start_time": "2022-04-11T11:09:06.505Z"
   },
   {
    "duration": 9,
    "start_time": "2022-04-11T11:09:06.543Z"
   },
   {
    "duration": 12,
    "start_time": "2022-04-11T11:09:06.554Z"
   },
   {
    "duration": 16,
    "start_time": "2022-04-11T11:09:06.568Z"
   },
   {
    "duration": 12,
    "start_time": "2022-04-11T11:09:06.586Z"
   },
   {
    "duration": 3,
    "start_time": "2022-04-11T11:09:06.643Z"
   },
   {
    "duration": 19,
    "start_time": "2022-04-11T11:09:06.648Z"
   },
   {
    "duration": 32,
    "start_time": "2022-04-11T11:09:06.669Z"
   },
   {
    "duration": 42,
    "start_time": "2022-04-11T11:09:06.704Z"
   },
   {
    "duration": 20,
    "start_time": "2022-04-11T11:09:06.749Z"
   },
   {
    "duration": 49,
    "start_time": "2022-04-11T11:09:06.771Z"
   },
   {
    "duration": 22,
    "start_time": "2022-04-11T11:09:06.822Z"
   },
   {
    "duration": 19,
    "start_time": "2022-04-11T11:09:06.846Z"
   },
   {
    "duration": 5,
    "start_time": "2022-04-11T11:09:06.872Z"
   },
   {
    "duration": 31,
    "start_time": "2022-04-11T11:09:06.879Z"
   },
   {
    "duration": 32,
    "start_time": "2022-04-11T11:09:06.912Z"
   },
   {
    "duration": 39,
    "start_time": "2022-04-11T11:09:06.947Z"
   },
   {
    "duration": 5,
    "start_time": "2022-04-11T11:09:06.989Z"
   },
   {
    "duration": 9,
    "start_time": "2022-04-11T11:09:06.996Z"
   },
   {
    "duration": 46,
    "start_time": "2022-04-11T11:09:07.007Z"
   },
   {
    "duration": 17,
    "start_time": "2022-04-11T11:09:07.056Z"
   },
   {
    "duration": 7,
    "start_time": "2022-04-11T11:09:07.076Z"
   },
   {
    "duration": 78,
    "start_time": "2022-04-11T11:09:07.086Z"
   },
   {
    "duration": 7,
    "start_time": "2022-04-11T11:09:07.167Z"
   },
   {
    "duration": 7,
    "start_time": "2022-04-11T11:09:07.177Z"
   },
   {
    "duration": 8,
    "start_time": "2022-04-11T11:09:07.187Z"
   },
   {
    "duration": 50,
    "start_time": "2022-04-11T11:09:07.197Z"
   },
   {
    "duration": 15,
    "start_time": "2022-04-11T11:09:07.250Z"
   },
   {
    "duration": 17,
    "start_time": "2022-04-11T11:09:07.267Z"
   },
   {
    "duration": 8,
    "start_time": "2022-04-11T11:09:07.286Z"
   },
   {
    "duration": 60,
    "start_time": "2022-04-11T11:09:07.296Z"
   },
   {
    "duration": 3,
    "start_time": "2022-04-11T11:09:07.358Z"
   },
   {
    "duration": 6,
    "start_time": "2022-04-11T11:09:07.363Z"
   },
   {
    "duration": 7,
    "start_time": "2022-04-11T11:09:07.372Z"
   },
   {
    "duration": 8,
    "start_time": "2022-04-11T11:09:07.380Z"
   },
   {
    "duration": 13,
    "start_time": "2022-04-11T11:09:07.390Z"
   },
   {
    "duration": 52,
    "start_time": "2022-04-11T11:09:07.405Z"
   },
   {
    "duration": 15,
    "start_time": "2022-04-11T11:09:07.459Z"
   },
   {
    "duration": 16,
    "start_time": "2022-04-11T11:09:07.476Z"
   },
   {
    "duration": 49,
    "start_time": "2022-04-11T11:09:07.494Z"
   },
   {
    "duration": 14,
    "start_time": "2022-04-11T11:09:07.545Z"
   },
   {
    "duration": 21,
    "start_time": "2022-04-11T11:09:07.562Z"
   },
   {
    "duration": 480,
    "start_time": "2022-04-11T11:09:07.585Z"
   },
   {
    "duration": 10,
    "start_time": "2022-04-11T11:09:08.067Z"
   },
   {
    "duration": 30,
    "start_time": "2022-04-11T11:09:08.078Z"
   },
   {
    "duration": 445,
    "start_time": "2022-04-11T11:09:08.110Z"
   },
   {
    "duration": 11,
    "start_time": "2022-04-11T11:09:08.557Z"
   },
   {
    "duration": 27,
    "start_time": "2022-04-11T11:09:08.570Z"
   },
   {
    "duration": 18,
    "start_time": "2022-04-11T11:09:08.599Z"
   },
   {
    "duration": 28,
    "start_time": "2022-04-11T11:09:08.618Z"
   },
   {
    "duration": 7,
    "start_time": "2022-04-11T11:09:08.648Z"
   },
   {
    "duration": 9,
    "start_time": "2022-04-11T11:09:08.657Z"
   },
   {
    "duration": 7,
    "start_time": "2022-04-11T11:09:08.668Z"
   },
   {
    "duration": 67,
    "start_time": "2022-04-11T11:09:08.677Z"
   },
   {
    "duration": 29,
    "start_time": "2022-04-11T11:09:08.747Z"
   },
   {
    "duration": 68,
    "start_time": "2022-04-11T11:09:08.778Z"
   },
   {
    "duration": 1055,
    "start_time": "2022-04-11T11:09:08.849Z"
   },
   {
    "duration": 287,
    "start_time": "2022-04-11T11:09:09.907Z"
   },
   {
    "duration": 264,
    "start_time": "2022-04-11T11:09:10.196Z"
   },
   {
    "duration": 271,
    "start_time": "2022-04-11T11:09:10.463Z"
   },
   {
    "duration": 20,
    "start_time": "2022-04-11T11:09:10.743Z"
   },
   {
    "duration": 7,
    "start_time": "2022-04-11T11:09:10.765Z"
   },
   {
    "duration": 17,
    "start_time": "2022-04-11T11:09:10.774Z"
   },
   {
    "duration": 11,
    "start_time": "2022-04-11T11:09:10.793Z"
   },
   {
    "duration": 56,
    "start_time": "2022-04-11T11:09:10.806Z"
   },
   {
    "duration": 11,
    "start_time": "2022-04-11T11:09:10.864Z"
   },
   {
    "duration": 4,
    "start_time": "2022-04-11T11:09:10.877Z"
   },
   {
    "duration": 55,
    "start_time": "2022-04-11T11:09:10.889Z"
   },
   {
    "duration": 18,
    "start_time": "2022-04-11T11:09:10.946Z"
   },
   {
    "duration": 6,
    "start_time": "2022-04-11T11:09:10.966Z"
   }
  ],
  "kernelspec": {
   "display_name": "Python 3 (ipykernel)",
   "language": "python",
   "name": "python3"
  },
  "language_info": {
   "codemirror_mode": {
    "name": "ipython",
    "version": 3
   },
   "file_extension": ".py",
   "mimetype": "text/x-python",
   "name": "python",
   "nbconvert_exporter": "python",
   "pygments_lexer": "ipython3",
   "version": "3.9.7"
  },
  "toc": {
   "base_numbering": 1,
   "nav_menu": {},
   "number_sections": true,
   "sideBar": true,
   "skip_h1_title": true,
   "title_cell": "Table of Contents",
   "title_sidebar": "Contents",
   "toc_cell": false,
   "toc_position": {
    "height": "calc(100% - 180px)",
    "left": "10px",
    "top": "150px",
    "width": "236px"
   },
   "toc_section_display": true,
   "toc_window_display": true
  }
 },
 "nbformat": 4,
 "nbformat_minor": 5
}
