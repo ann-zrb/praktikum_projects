{
 "cells": [
  {
   "cell_type": "markdown",
   "id": "af3003ad",
   "metadata": {
    "toc": true
   },
   "source": [
    "<h1>Table of Contents<span class=\"tocSkip\"></span></h1>\n",
    "<div class=\"toc\"><ul class=\"toc-item\"><li><span><a href=\"#Обзор-данных\" data-toc-modified-id=\"Обзор-данных-1\"><span class=\"toc-item-num\">1&nbsp;&nbsp;</span>Обзор данных</a></span></li><li><span><a href=\"#Разделение-на-выборки\" data-toc-modified-id=\"Разделение-на-выборки-2\"><span class=\"toc-item-num\">2&nbsp;&nbsp;</span>Разделение на выборки</a></span></li><li><span><a href=\"#Исследование-моделей\" data-toc-modified-id=\"Исследование-моделей-3\"><span class=\"toc-item-num\">3&nbsp;&nbsp;</span>Исследование моделей</a></span><ul class=\"toc-item\"><li><span><a href=\"#Дерево-принятия-решений:\" data-toc-modified-id=\"Дерево-принятия-решений:-3.1\"><span class=\"toc-item-num\">3.1&nbsp;&nbsp;</span>Дерево принятия решений:</a></span></li><li><span><a href=\"#Случайный-лес\" data-toc-modified-id=\"Случайный-лес-3.2\"><span class=\"toc-item-num\">3.2&nbsp;&nbsp;</span>Случайный лес</a></span></li><li><span><a href=\"#Логистическая-регрессия\" data-toc-modified-id=\"Логистическая-регрессия-3.3\"><span class=\"toc-item-num\">3.3&nbsp;&nbsp;</span>Логистическая регрессия</a></span></li></ul></li><li><span><a href=\"#Проверка-на-тестовой-выборке\" data-toc-modified-id=\"Проверка-на-тестовой-выборке-4\"><span class=\"toc-item-num\">4&nbsp;&nbsp;</span>Проверка на тестовой выборке</a></span></li><li><span><a href=\"#Вывод\" data-toc-modified-id=\"Вывод-5\"><span class=\"toc-item-num\">5&nbsp;&nbsp;</span>Вывод</a></span></li></ul></div>"
   ]
  },
  {
   "cell_type": "markdown",
   "id": "b2c9f23b",
   "metadata": {},
   "source": [
    "## Обзор данных"
   ]
  },
  {
   "cell_type": "markdown",
   "id": "a52baa96",
   "metadata": {},
   "source": [
    "Начнем исследование с общего обзора данных. Для этого импортируем библиотеку `pandas`, прочитаем с её помощью файлы с данными и оценим формат таблицы с помощью метода `head()`. Также сразу импортируем другие инструменты, которые пригодятся нам в процессе исследования. "
   ]
  },
  {
   "cell_type": "code",
   "execution_count": 1,
   "id": "2f64bfb3",
   "metadata": {},
   "outputs": [],
   "source": [
    "import pandas as pd\n",
    "import numpy as np\n",
    "import sklearn\n",
    "import sklearn.metrics\n",
    "from sklearn.metrics import accuracy_score\n",
    "from sklearn.tree import DecisionTreeClassifier\n",
    "from sklearn.model_selection import train_test_split\n",
    "from sklearn.ensemble import RandomForestClassifier\n",
    "from sklearn.linear_model import LogisticRegression"
   ]
  },
  {
   "cell_type": "markdown",
   "id": "a3b6a8da",
   "metadata": {},
   "source": [
    "Прочитаем файл и сохраним его в переменной df для дальнейшей работы (используем конструкцию try-except, т.к. проект выполнялся локально, а не на платформе):"
   ]
  },
  {
   "cell_type": "code",
   "execution_count": 2,
   "id": "cccf3f98",
   "metadata": {},
   "outputs": [],
   "source": [
    "try: \n",
    "    df = pd.read_csv('C:/Users/freak/Desktop/Python/ML_introduction_project/users_behavior.csv')\n",
    "    \n",
    "except FileNotFoundError:\n",
    "    df = pd.read_csv('/datasets/users_behavior.csv')"
   ]
  },
  {
   "cell_type": "markdown",
   "id": "ff8a82ed",
   "metadata": {},
   "source": [
    "Ознакомимся с внешним видом таблицы:"
   ]
  },
  {
   "cell_type": "code",
   "execution_count": 3,
   "id": "0b31976f",
   "metadata": {},
   "outputs": [
    {
     "data": {
      "text/html": [
       "<div>\n",
       "<style scoped>\n",
       "    .dataframe tbody tr th:only-of-type {\n",
       "        vertical-align: middle;\n",
       "    }\n",
       "\n",
       "    .dataframe tbody tr th {\n",
       "        vertical-align: top;\n",
       "    }\n",
       "\n",
       "    .dataframe thead th {\n",
       "        text-align: right;\n",
       "    }\n",
       "</style>\n",
       "<table border=\"1\" class=\"dataframe\">\n",
       "  <thead>\n",
       "    <tr style=\"text-align: right;\">\n",
       "      <th></th>\n",
       "      <th>calls</th>\n",
       "      <th>minutes</th>\n",
       "      <th>messages</th>\n",
       "      <th>mb_used</th>\n",
       "      <th>is_ultra</th>\n",
       "    </tr>\n",
       "  </thead>\n",
       "  <tbody>\n",
       "    <tr>\n",
       "      <th>0</th>\n",
       "      <td>40.0</td>\n",
       "      <td>311.90</td>\n",
       "      <td>83.0</td>\n",
       "      <td>19915.42</td>\n",
       "      <td>0</td>\n",
       "    </tr>\n",
       "    <tr>\n",
       "      <th>1</th>\n",
       "      <td>85.0</td>\n",
       "      <td>516.75</td>\n",
       "      <td>56.0</td>\n",
       "      <td>22696.96</td>\n",
       "      <td>0</td>\n",
       "    </tr>\n",
       "    <tr>\n",
       "      <th>2</th>\n",
       "      <td>77.0</td>\n",
       "      <td>467.66</td>\n",
       "      <td>86.0</td>\n",
       "      <td>21060.45</td>\n",
       "      <td>0</td>\n",
       "    </tr>\n",
       "    <tr>\n",
       "      <th>3</th>\n",
       "      <td>106.0</td>\n",
       "      <td>745.53</td>\n",
       "      <td>81.0</td>\n",
       "      <td>8437.39</td>\n",
       "      <td>1</td>\n",
       "    </tr>\n",
       "    <tr>\n",
       "      <th>4</th>\n",
       "      <td>66.0</td>\n",
       "      <td>418.74</td>\n",
       "      <td>1.0</td>\n",
       "      <td>14502.75</td>\n",
       "      <td>0</td>\n",
       "    </tr>\n",
       "  </tbody>\n",
       "</table>\n",
       "</div>"
      ],
      "text/plain": [
       "   calls  minutes  messages   mb_used  is_ultra\n",
       "0   40.0   311.90      83.0  19915.42         0\n",
       "1   85.0   516.75      56.0  22696.96         0\n",
       "2   77.0   467.66      86.0  21060.45         0\n",
       "3  106.0   745.53      81.0   8437.39         1\n",
       "4   66.0   418.74       1.0  14502.75         0"
      ]
     },
     "execution_count": 3,
     "metadata": {},
     "output_type": "execute_result"
    }
   ],
   "source": [
    "df.head()"
   ]
  },
  {
   "cell_type": "markdown",
   "id": "f4045435",
   "metadata": {},
   "source": [
    "Столбцы названы корректно, проблем с регистром нет. "
   ]
  },
  {
   "cell_type": "markdown",
   "id": "f805a548",
   "metadata": {},
   "source": [
    "Проверим типы данных: "
   ]
  },
  {
   "cell_type": "code",
   "execution_count": 4,
   "id": "a400b808",
   "metadata": {},
   "outputs": [
    {
     "name": "stdout",
     "output_type": "stream",
     "text": [
      "<class 'pandas.core.frame.DataFrame'>\n",
      "RangeIndex: 3214 entries, 0 to 3213\n",
      "Data columns (total 5 columns):\n",
      " #   Column    Non-Null Count  Dtype  \n",
      "---  ------    --------------  -----  \n",
      " 0   calls     3214 non-null   float64\n",
      " 1   minutes   3214 non-null   float64\n",
      " 2   messages  3214 non-null   float64\n",
      " 3   mb_used   3214 non-null   float64\n",
      " 4   is_ultra  3214 non-null   int64  \n",
      "dtypes: float64(4), int64(1)\n",
      "memory usage: 125.7 KB\n"
     ]
    }
   ],
   "source": [
    "df.info()"
   ]
  },
  {
   "cell_type": "markdown",
   "id": "8062c9b4",
   "metadata": {},
   "source": [
    "Здесь сразу можно увидеть отсутствие пропусков в данных. "
   ]
  },
  {
   "cell_type": "markdown",
   "id": "b8d60161",
   "metadata": {},
   "source": [
    "Количество звонков и количество сообщений можно привести к целочисленному типу:"
   ]
  },
  {
   "cell_type": "code",
   "execution_count": 5,
   "id": "6d1fde92",
   "metadata": {},
   "outputs": [],
   "source": [
    "df['calls'] = df['calls'].astype('int')"
   ]
  },
  {
   "cell_type": "code",
   "execution_count": 6,
   "id": "0c8e21fb",
   "metadata": {},
   "outputs": [],
   "source": [
    "df['messages'] = df['messages'].astype('int')"
   ]
  },
  {
   "cell_type": "markdown",
   "id": "8ee2b0f7",
   "metadata": {},
   "source": [
    "Проверим на дубликаты:"
   ]
  },
  {
   "cell_type": "code",
   "execution_count": 7,
   "id": "cd487c8a",
   "metadata": {},
   "outputs": [
    {
     "data": {
      "text/plain": [
       "0"
      ]
     },
     "execution_count": 7,
     "metadata": {},
     "output_type": "execute_result"
    }
   ],
   "source": [
    "df.duplicated().sum()"
   ]
  },
  {
   "cell_type": "markdown",
   "id": "cb8badcc",
   "metadata": {},
   "source": [
    "**Вывод:**"
   ]
  },
  {
   "cell_type": "markdown",
   "id": "fefafcaa",
   "metadata": {},
   "source": [
    "Качество данных хорошее. Пропусков, дубликатов и других проблем не обнаружено. "
   ]
  },
  {
   "cell_type": "markdown",
   "id": "8cd51de9",
   "metadata": {},
   "source": [
    "## Разделение на выборки"
   ]
  },
  {
   "cell_type": "markdown",
   "id": "ff77c198",
   "metadata": {},
   "source": [
    "Для начала выделим признаки и целевой признак из исходного датасета:"
   ]
  },
  {
   "cell_type": "code",
   "execution_count": 8,
   "id": "80e03981",
   "metadata": {},
   "outputs": [],
   "source": [
    "features = df.drop(['is_ultra'], axis=1)"
   ]
  },
  {
   "cell_type": "code",
   "execution_count": 9,
   "id": "f779220d",
   "metadata": {},
   "outputs": [],
   "source": [
    "target = df['is_ultra']"
   ]
  },
  {
   "cell_type": "markdown",
   "id": "6a653364",
   "metadata": {},
   "source": [
    "Спрятанной тестовой выборки нет. Значит, данные нужно разбить на три части: обучающую, валидационную и тестовую. Размеры тестового и валидационного наборов обычно равны. "
   ]
  },
  {
   "cell_type": "code",
   "execution_count": 10,
   "id": "895659c2",
   "metadata": {},
   "outputs": [],
   "source": [
    "df_train, df_valid, df_test = np.split(df, [int(.7*len(df)), int(.85*len(df))])"
   ]
  },
  {
   "cell_type": "markdown",
   "id": "671a276a",
   "metadata": {},
   "source": [
    "Объявим переменные с признаками для обучения: "
   ]
  },
  {
   "cell_type": "code",
   "execution_count": 11,
   "id": "d1ad1d68",
   "metadata": {},
   "outputs": [],
   "source": [
    "#для обучающей выборки\n",
    "features_train = df_train.drop(['is_ultra'], axis=1)\n",
    "target_train = df_train['is_ultra']\n",
    "\n",
    "#для валидационной выборки\n",
    "features_valid = df_valid.drop(['is_ultra'], axis=1)  \n",
    "target_valid = df_valid['is_ultra']\n",
    "\n",
    "#для тестовой выборки\n",
    "features_test = df_test.drop(['is_ultra'], axis=1)\n",
    "target_test = df_test['is_ultra']"
   ]
  },
  {
   "cell_type": "markdown",
   "id": "a6a7d1b3",
   "metadata": {},
   "source": [
    "Выборки готовы, можно переходить к исследованию моделей. "
   ]
  },
  {
   "cell_type": "markdown",
   "id": "88cd7c09",
   "metadata": {},
   "source": [
    "## Исследование моделей"
   ]
  },
  {
   "cell_type": "markdown",
   "id": "71a4d037",
   "metadata": {},
   "source": [
    "Для бинарной классификации будем использовать следующие модели: \n",
    "    \n",
    "- дерево принятия решений (Decision Tree Classifier)\n",
    "\n",
    "- случайный лес (Random Forest Classifier)\n",
    "\n",
    "- логистическая регрессия (Logistic Regression)"
   ]
  },
  {
   "cell_type": "markdown",
   "id": "eaf9bd69",
   "metadata": {},
   "source": [
    "### Дерево принятия решений:"
   ]
  },
  {
   "cell_type": "code",
   "execution_count": 12,
   "id": "acda93f7",
   "metadata": {},
   "outputs": [
    {
     "name": "stdout",
     "output_type": "stream",
     "text": [
      "Accuracy для дерева решений: 0.73\n"
     ]
    }
   ],
   "source": [
    "model_tree = DecisionTreeClassifier(random_state=12345)\n",
    "model_tree.fit(features_train, target_train)\n",
    "predictions_valid = model_tree.predict(features_valid)\n",
    "accuracy_tree = accuracy_score(target_valid, predictions_valid)\n",
    "\n",
    "print('Accuracy для дерева решений:', round(accuracy_tree, 2))"
   ]
  },
  {
   "cell_type": "markdown",
   "id": "58d982e4",
   "metadata": {},
   "source": [
    "Теперь изменим проверим, как будет работать модель с разной глубиной деревьев. Изменим гиперпараметр max depth, возьмем для него значения от 1 до 10:"
   ]
  },
  {
   "cell_type": "code",
   "execution_count": 13,
   "id": "f6622f89",
   "metadata": {},
   "outputs": [
    {
     "name": "stdout",
     "output_type": "stream",
     "text": [
      "max_depth = 1 : 0.76\n",
      "max_depth = 2 : 0.78\n",
      "max_depth = 3 : 0.8\n",
      "max_depth = 4 : 0.8\n",
      "max_depth = 5 : 0.8\n",
      "max_depth = 6 : 0.82\n",
      "max_depth = 7 : 0.81\n",
      "max_depth = 8 : 0.8\n",
      "max_depth = 9 : 0.81\n",
      "max_depth = 10 : 0.81\n"
     ]
    }
   ],
   "source": [
    "for depth in range(1, 11):\n",
    "    model = DecisionTreeClassifier(random_state=12345, max_depth=depth) \n",
    "\n",
    "    model.fit(features_train, target_train)\n",
    "    predictions_valid = model.predict(features_valid)\n",
    "\n",
    "    print(\"max_depth =\", depth, \": \", end='')\n",
    "    print(round(accuracy_score(target_valid, predictions_valid), 2))\n"
   ]
  },
  {
   "cell_type": "markdown",
   "id": "836a661e",
   "metadata": {},
   "source": [
    "Наилучший результат составляет 0.82 и достигается при максимальной глубине 6. Такой результат соответствует техническому заданию."
   ]
  },
  {
   "cell_type": "markdown",
   "id": "1d0a3b1e",
   "metadata": {},
   "source": [
    "### Случайный лес"
   ]
  },
  {
   "cell_type": "code",
   "execution_count": 14,
   "id": "3859e317",
   "metadata": {
    "scrolled": true
   },
   "outputs": [
    {
     "name": "stdout",
     "output_type": "stream",
     "text": [
      "Accuracy для случайного леса: 0.8\n"
     ]
    }
   ],
   "source": [
    "model_forest = RandomForestClassifier(random_state=12345) \n",
    "model_forest.fit(features_train, target_train)  \n",
    "\n",
    "predictions_forest = model_forest.predict(features_valid) \n",
    "accuracy_forest = accuracy_score(target_valid, predictions_forest)\n",
    "\n",
    "print('Accuracy для случайного леса:', round(accuracy_forest, 2))"
   ]
  },
  {
   "cell_type": "markdown",
   "id": "9af16cd3",
   "metadata": {},
   "source": [
    "Результат работы случайного леса заметно выше, чем у дерева решений. Посмотрим, удастся ли его улучшить с помощью изменения гиперпараметров. "
   ]
  },
  {
   "cell_type": "code",
   "execution_count": 15,
   "id": "01f13257",
   "metadata": {},
   "outputs": [
    {
     "name": "stdout",
     "output_type": "stream",
     "text": [
      "Гиперпараметры наилучшей модели на валидационной выборке: RandomForestClassifier(max_depth=9, n_estimators=10, random_state=12345)\n",
      "Accuracy наилучшей модели на валидационной выборке: 0.8298755186721992\n"
     ]
    }
   ],
   "source": [
    "best_model = None\n",
    "best_result = 0\n",
    "for depth in range(1, 11):\n",
    "    for est in range(10, 51, 10):\n",
    "        model = RandomForestClassifier(random_state=12345, n_estimators=est, max_depth=depth) \n",
    "        model.fit(features_train, target_train) \n",
    "        result = model.score(features_valid, target_valid) \n",
    "        if result > best_result:\n",
    "            best_model = model \n",
    "            best_result = result\n",
    "\n",
    "print(\"Гиперпараметры наилучшей модели на валидационной выборке:\", best_model)\n",
    "print(\"Accuracy наилучшей модели на валидационной выборке:\", best_result)\n"
   ]
  },
  {
   "cell_type": "markdown",
   "id": "e4d15b66",
   "metadata": {},
   "source": [
    "Итак, выше можно увидеть, что при глубине дерева 9 и количестве деревьев 10 качество модели увеличилось с 0.8 до почти 0.83"
   ]
  },
  {
   "cell_type": "markdown",
   "id": "9975ffb4",
   "metadata": {},
   "source": [
    "### Логистическая регрессия"
   ]
  },
  {
   "cell_type": "code",
   "execution_count": 16,
   "id": "0f784af7",
   "metadata": {},
   "outputs": [
    {
     "data": {
      "text/plain": [
       "0.7531120331950207"
      ]
     },
     "execution_count": 16,
     "metadata": {},
     "output_type": "execute_result"
    }
   ],
   "source": [
    "model_logistic_reg = LogisticRegression(random_state=12345)\n",
    "model_logistic_reg.fit(features_train, target_train)\n",
    "model_logistic_reg.predict(features_valid)\n",
    "model_logistic_reg.score(features_valid, target_valid)\n"
   ]
  },
  {
   "cell_type": "markdown",
   "id": "162685cb",
   "metadata": {},
   "source": [
    "Логистическая регрессия дает результат лучше, чем дерево решений, но заметно хуже, чем случайный лес."
   ]
  },
  {
   "cell_type": "markdown",
   "id": "ca993d97",
   "metadata": {},
   "source": [
    "## Проверка на тестовой выборке"
   ]
  },
  {
   "cell_type": "code",
   "execution_count": 17,
   "id": "640d745c",
   "metadata": {},
   "outputs": [],
   "source": [
    "test_DT = model_tree.predict(features_test) #дерево решений\n",
    "test_RF = model_forest.predict(features_test) #случайный лес\n",
    "test_LR = model_logistic_reg.predict(features_test) #логистическая регрессия"
   ]
  },
  {
   "cell_type": "code",
   "execution_count": 18,
   "id": "aeea2606",
   "metadata": {
    "scrolled": true
   },
   "outputs": [],
   "source": [
    "accuracy_DT_test = accuracy_score(test_DT, target_test) #дерево решений\n",
    "accuracy_RF_test = accuracy_score(test_RF, target_test) #случайный лес\n",
    "accuracy_LR_test = accuracy_score(test_LR, target_test) #логистическая регрессия"
   ]
  },
  {
   "cell_type": "code",
   "execution_count": 19,
   "id": "4e1211a2",
   "metadata": {},
   "outputs": [
    {
     "name": "stdout",
     "output_type": "stream",
     "text": [
      "Дерево решений: 0.7308488612836439\n",
      "Случайный лес: 0.8240165631469979\n",
      "Логистическая регрессия: 0.7246376811594203\n"
     ]
    }
   ],
   "source": [
    "print('Дерево решений:', accuracy_DT_test)\n",
    "print('Случайный лес:', accuracy_RF_test)\n",
    "print('Логистическая регрессия:', accuracy_LR_test)"
   ]
  },
  {
   "cell_type": "markdown",
   "id": "0f1ca361",
   "metadata": {},
   "source": [
    "Наилучший и при этом единственный соответствующий техническому заданию результат показал Случайный лес. "
   ]
  },
  {
   "cell_type": "markdown",
   "id": "01f9c6a9",
   "metadata": {},
   "source": [
    "## Вывод"
   ]
  },
  {
   "cell_type": "markdown",
   "id": "4e57d4f8",
   "metadata": {},
   "source": [
    "Самые высокие значения accuracy на валидационной и тестовой выборках показал Случайный лес. "
   ]
  }
 ],
 "metadata": {
  "ExecuteTimeLog": [
   {
    "duration": 527,
    "start_time": "2022-04-22T09:58:24.208Z"
   },
   {
    "duration": 3,
    "start_time": "2022-04-22T09:58:24.736Z"
   },
   {
    "duration": 962,
    "start_time": "2022-04-22T09:58:24.740Z"
   },
   {
    "duration": 16,
    "start_time": "2022-04-22T09:58:25.704Z"
   },
   {
    "duration": 37,
    "start_time": "2022-04-22T09:58:25.723Z"
   },
   {
    "duration": 3,
    "start_time": "2022-04-22T09:58:25.761Z"
   },
   {
    "duration": 8,
    "start_time": "2022-04-22T09:58:25.765Z"
   },
   {
    "duration": 15,
    "start_time": "2022-04-22T09:58:25.774Z"
   },
   {
    "duration": 3,
    "start_time": "2022-04-22T09:58:25.791Z"
   },
   {
    "duration": 7,
    "start_time": "2022-04-22T09:58:25.795Z"
   },
   {
    "duration": 6,
    "start_time": "2022-04-22T09:58:25.803Z"
   },
   {
    "duration": 11,
    "start_time": "2022-04-22T09:58:25.810Z"
   },
   {
    "duration": 5,
    "start_time": "2022-04-22T09:58:25.823Z"
   },
   {
    "duration": 257,
    "start_time": "2022-04-22T09:58:25.831Z"
   },
   {
    "duration": 0,
    "start_time": "2022-04-22T09:58:26.090Z"
   },
   {
    "duration": 0,
    "start_time": "2022-04-22T09:58:26.091Z"
   },
   {
    "duration": 0,
    "start_time": "2022-04-22T09:58:26.092Z"
   },
   {
    "duration": 0,
    "start_time": "2022-04-22T09:58:26.093Z"
   },
   {
    "duration": 1,
    "start_time": "2022-04-22T09:58:26.094Z"
   },
   {
    "duration": 0,
    "start_time": "2022-04-22T09:58:26.096Z"
   },
   {
    "duration": 1,
    "start_time": "2022-04-22T09:58:26.096Z"
   },
   {
    "duration": 0,
    "start_time": "2022-04-22T09:58:26.097Z"
   },
   {
    "duration": 0,
    "start_time": "2022-04-22T09:58:26.098Z"
   },
   {
    "duration": 0,
    "start_time": "2022-04-22T09:58:26.099Z"
   },
   {
    "duration": 0,
    "start_time": "2022-04-22T09:58:26.100Z"
   },
   {
    "duration": 0,
    "start_time": "2022-04-22T09:58:26.101Z"
   },
   {
    "duration": 0,
    "start_time": "2022-04-22T09:58:26.103Z"
   },
   {
    "duration": 0,
    "start_time": "2022-04-22T09:58:26.104Z"
   },
   {
    "duration": 0,
    "start_time": "2022-04-22T09:58:26.104Z"
   },
   {
    "duration": 0,
    "start_time": "2022-04-22T09:58:26.105Z"
   },
   {
    "duration": 0,
    "start_time": "2022-04-22T09:58:26.106Z"
   },
   {
    "duration": 369,
    "start_time": "2022-04-22T09:58:37.302Z"
   },
   {
    "duration": 3,
    "start_time": "2022-04-22T09:58:37.672Z"
   },
   {
    "duration": 1069,
    "start_time": "2022-04-22T09:58:37.677Z"
   },
   {
    "duration": 17,
    "start_time": "2022-04-22T09:58:38.748Z"
   },
   {
    "duration": 40,
    "start_time": "2022-04-22T09:58:38.768Z"
   },
   {
    "duration": 3,
    "start_time": "2022-04-22T09:58:38.809Z"
   },
   {
    "duration": 12,
    "start_time": "2022-04-22T09:58:38.814Z"
   },
   {
    "duration": 15,
    "start_time": "2022-04-22T09:58:38.827Z"
   },
   {
    "duration": 2,
    "start_time": "2022-04-22T09:58:38.855Z"
   },
   {
    "duration": 11,
    "start_time": "2022-04-22T09:58:38.859Z"
   },
   {
    "duration": 16,
    "start_time": "2022-04-22T09:58:38.872Z"
   },
   {
    "duration": 9,
    "start_time": "2022-04-22T09:58:38.889Z"
   },
   {
    "duration": 9,
    "start_time": "2022-04-22T09:58:38.899Z"
   },
   {
    "duration": 94,
    "start_time": "2022-04-22T09:58:38.910Z"
   },
   {
    "duration": 15,
    "start_time": "2022-04-22T09:58:39.005Z"
   },
   {
    "duration": 12,
    "start_time": "2022-04-22T09:58:39.021Z"
   },
   {
    "duration": 4,
    "start_time": "2022-04-22T09:58:39.035Z"
   },
   {
    "duration": 6,
    "start_time": "2022-04-22T09:58:39.040Z"
   },
   {
    "duration": 9,
    "start_time": "2022-04-22T09:58:39.047Z"
   },
   {
    "duration": 5,
    "start_time": "2022-04-22T09:58:39.057Z"
   },
   {
    "duration": 5,
    "start_time": "2022-04-22T09:58:39.063Z"
   },
   {
    "duration": 6,
    "start_time": "2022-04-22T09:58:39.069Z"
   },
   {
    "duration": 11,
    "start_time": "2022-04-22T09:58:39.076Z"
   },
   {
    "duration": 21,
    "start_time": "2022-04-22T09:58:39.089Z"
   },
   {
    "duration": 90,
    "start_time": "2022-04-22T09:58:39.112Z"
   },
   {
    "duration": 425,
    "start_time": "2022-04-22T09:58:39.204Z"
   },
   {
    "duration": 3614,
    "start_time": "2022-04-22T09:58:39.631Z"
   },
   {
    "duration": 33,
    "start_time": "2022-04-22T09:58:43.246Z"
   },
   {
    "duration": 22,
    "start_time": "2022-04-22T09:58:43.280Z"
   },
   {
    "duration": 4,
    "start_time": "2022-04-22T09:58:43.303Z"
   },
   {
    "duration": 18,
    "start_time": "2022-04-22T09:58:43.308Z"
   },
   {
    "duration": 12,
    "start_time": "2022-04-22T10:01:17.634Z"
   },
   {
    "duration": 13,
    "start_time": "2022-04-22T10:01:27.994Z"
   },
   {
    "duration": 12,
    "start_time": "2022-04-22T10:01:35.726Z"
   },
   {
    "duration": 238,
    "start_time": "2022-04-22T12:17:18.826Z"
   },
   {
    "duration": 259,
    "start_time": "2022-04-22T12:20:53.369Z"
   },
   {
    "duration": 1045,
    "start_time": "2022-04-22T12:22:51.048Z"
   },
   {
    "duration": 50,
    "start_time": "2022-04-22T12:27:22.450Z"
   },
   {
    "duration": 457,
    "start_time": "2022-04-22T12:31:29.444Z"
   },
   {
    "duration": 3,
    "start_time": "2022-04-22T12:31:29.904Z"
   },
   {
    "duration": 1017,
    "start_time": "2022-04-22T12:31:29.909Z"
   },
   {
    "duration": 123,
    "start_time": "2022-04-22T12:31:30.930Z"
   },
   {
    "duration": 23,
    "start_time": "2022-04-22T12:31:31.055Z"
   },
   {
    "duration": 11,
    "start_time": "2022-04-22T12:31:31.081Z"
   },
   {
    "duration": 15,
    "start_time": "2022-04-22T12:31:31.094Z"
   },
   {
    "duration": 29,
    "start_time": "2022-04-22T12:31:31.111Z"
   },
   {
    "duration": 16,
    "start_time": "2022-04-22T12:31:31.142Z"
   },
   {
    "duration": 12,
    "start_time": "2022-04-22T12:31:31.160Z"
   },
   {
    "duration": 10,
    "start_time": "2022-04-22T12:31:31.174Z"
   },
   {
    "duration": 9,
    "start_time": "2022-04-22T12:31:31.186Z"
   },
   {
    "duration": 46,
    "start_time": "2022-04-22T12:31:31.196Z"
   },
   {
    "duration": 28,
    "start_time": "2022-04-22T12:31:31.245Z"
   },
   {
    "duration": 86,
    "start_time": "2022-04-22T12:31:31.275Z"
   },
   {
    "duration": 490,
    "start_time": "2022-04-22T12:31:31.363Z"
   },
   {
    "duration": 4724,
    "start_time": "2022-04-22T12:31:31.854Z"
   },
   {
    "duration": 47,
    "start_time": "2022-04-22T12:31:36.580Z"
   },
   {
    "duration": 26,
    "start_time": "2022-04-22T12:31:36.629Z"
   },
   {
    "duration": 5,
    "start_time": "2022-04-22T12:31:36.656Z"
   },
   {
    "duration": 10,
    "start_time": "2022-04-22T12:31:36.662Z"
   }
  ],
  "kernelspec": {
   "display_name": "Python 3 (ipykernel)",
   "language": "python",
   "name": "python3"
  },
  "language_info": {
   "codemirror_mode": {
    "name": "ipython",
    "version": 3
   },
   "file_extension": ".py",
   "mimetype": "text/x-python",
   "name": "python",
   "nbconvert_exporter": "python",
   "pygments_lexer": "ipython3",
   "version": "3.9.7"
  },
  "toc": {
   "base_numbering": 1,
   "nav_menu": {},
   "number_sections": true,
   "sideBar": true,
   "skip_h1_title": true,
   "title_cell": "Table of Contents",
   "title_sidebar": "Contents",
   "toc_cell": true,
   "toc_position": {
    "height": "calc(100% - 180px)",
    "left": "10px",
    "top": "150px",
    "width": "179.825px"
   },
   "toc_section_display": true,
   "toc_window_display": true
  }
 },
 "nbformat": 4,
 "nbformat_minor": 5
}
