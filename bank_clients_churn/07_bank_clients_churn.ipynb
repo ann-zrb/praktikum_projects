{
 "cells": [
  {
   "cell_type": "markdown",
   "id": "c2d83935",
   "metadata": {
    "toc": true
   },
   "source": [
    "<h1>Table of Contents<span class=\"tocSkip\"></span></h1>\n",
    "<div class=\"toc\"><ul class=\"toc-item\"><li><span><a href=\"#Подготовка-данных\" data-toc-modified-id=\"Подготовка-данных-1\"><span class=\"toc-item-num\">1&nbsp;&nbsp;</span>Подготовка данных</a></span></li><li><span><a href=\"#Исследование-задачи\" data-toc-modified-id=\"Исследование-задачи-2\"><span class=\"toc-item-num\">2&nbsp;&nbsp;</span>Исследование задачи</a></span><ul class=\"toc-item\"><li><span><a href=\"#Решающее-дерево\" data-toc-modified-id=\"Решающее-дерево-2.1\"><span class=\"toc-item-num\">2.1&nbsp;&nbsp;</span>Решающее дерево</a></span></li><li><span><a href=\"#Случайный-лес\" data-toc-modified-id=\"Случайный-лес-2.2\"><span class=\"toc-item-num\">2.2&nbsp;&nbsp;</span>Случайный лес</a></span></li><li><span><a href=\"#Логистическая-регрессия\" data-toc-modified-id=\"Логистическая-регрессия-2.3\"><span class=\"toc-item-num\">2.3&nbsp;&nbsp;</span>Логистическая регрессия</a></span></li></ul></li><li><span><a href=\"#Борьба-с-дисбалансом\" data-toc-modified-id=\"Борьба-с-дисбалансом-3\"><span class=\"toc-item-num\">3&nbsp;&nbsp;</span>Борьба с дисбалансом</a></span><ul class=\"toc-item\"><li><span><a href=\"#Взвешивание-классов\" data-toc-modified-id=\"Взвешивание-классов-3.1\"><span class=\"toc-item-num\">3.1&nbsp;&nbsp;</span>Взвешивание классов</a></span></li><li><span><a href=\"#Увеличение-выборки\" data-toc-modified-id=\"Увеличение-выборки-3.2\"><span class=\"toc-item-num\">3.2&nbsp;&nbsp;</span>Увеличение выборки</a></span></li><li><span><a href=\"#Уменьшение-выборки\" data-toc-modified-id=\"Уменьшение-выборки-3.3\"><span class=\"toc-item-num\">3.3&nbsp;&nbsp;</span>Уменьшение выборки</a></span></li></ul></li><li><span><a href=\"#Тестирование-модели\" data-toc-modified-id=\"Тестирование-модели-4\"><span class=\"toc-item-num\">4&nbsp;&nbsp;</span>Тестирование модели</a></span></li><li><span><a href=\"#Вывод\" data-toc-modified-id=\"Вывод-5\"><span class=\"toc-item-num\">5&nbsp;&nbsp;</span>Вывод</a></span></li></ul></div>"
   ]
  },
  {
   "cell_type": "markdown",
   "id": "29c8f218",
   "metadata": {},
   "source": [
    "## Подготовка данных"
   ]
  },
  {
   "cell_type": "markdown",
   "id": "d31e7de5",
   "metadata": {},
   "source": [
    "**Обзор данных**"
   ]
  },
  {
   "cell_type": "markdown",
   "id": "7f05327b",
   "metadata": {},
   "source": [
    "Начнем исследование с общего обзора данных. Для этого сразу импортируем всё, что необходимо для исследования. "
   ]
  },
  {
   "cell_type": "code",
   "execution_count": 1,
   "id": "7d1b8e1b",
   "metadata": {},
   "outputs": [],
   "source": [
    "import pandas as pd\n",
    "import sklearn\n",
    "from sklearn.model_selection import train_test_split, GridSearchCV \n",
    "from sklearn.linear_model import LinearRegression, LogisticRegression\n",
    "from sklearn.tree import DecisionTreeClassifier, DecisionTreeRegressor\n",
    "from sklearn.ensemble import RandomForestRegressor, RandomForestClassifier\n",
    "from sklearn.metrics import accuracy_score, mean_absolute_error, recall_score, precision_score, f1_score, roc_auc_score\n",
    "from sklearn.preprocessing import StandardScaler, OrdinalEncoder\n",
    "from sklearn.utils import shuffle"
   ]
  },
  {
   "cell_type": "markdown",
   "id": "3f20307e",
   "metadata": {},
   "source": [
    "Прочитаем файл. Т.к. проект выполняется локально, а не на платформе, используем конструкцию try-except, чтобы избежать ошибки: "
   ]
  },
  {
   "cell_type": "code",
   "execution_count": 2,
   "id": "ae822a8d",
   "metadata": {},
   "outputs": [],
   "source": [
    "try:\n",
    "    data = pd.read_csv('C:/Users/freak/Desktop/Python/ML_BetaBank_project/Churn.csv')\n",
    "\n",
    "except: \n",
    "    data = pd.read_csv('/datasets/Churn.csv')"
   ]
  },
  {
   "cell_type": "markdown",
   "id": "29c29ba0",
   "metadata": {},
   "source": [
    "Ознакомимся с форматом таблицы:"
   ]
  },
  {
   "cell_type": "code",
   "execution_count": 3,
   "id": "1b48aaa6",
   "metadata": {},
   "outputs": [
    {
     "data": {
      "text/html": [
       "<div>\n",
       "<style scoped>\n",
       "    .dataframe tbody tr th:only-of-type {\n",
       "        vertical-align: middle;\n",
       "    }\n",
       "\n",
       "    .dataframe tbody tr th {\n",
       "        vertical-align: top;\n",
       "    }\n",
       "\n",
       "    .dataframe thead th {\n",
       "        text-align: right;\n",
       "    }\n",
       "</style>\n",
       "<table border=\"1\" class=\"dataframe\">\n",
       "  <thead>\n",
       "    <tr style=\"text-align: right;\">\n",
       "      <th></th>\n",
       "      <th>RowNumber</th>\n",
       "      <th>CustomerId</th>\n",
       "      <th>Surname</th>\n",
       "      <th>CreditScore</th>\n",
       "      <th>Geography</th>\n",
       "      <th>Gender</th>\n",
       "      <th>Age</th>\n",
       "      <th>Tenure</th>\n",
       "      <th>Balance</th>\n",
       "      <th>NumOfProducts</th>\n",
       "      <th>HasCrCard</th>\n",
       "      <th>IsActiveMember</th>\n",
       "      <th>EstimatedSalary</th>\n",
       "      <th>Exited</th>\n",
       "    </tr>\n",
       "  </thead>\n",
       "  <tbody>\n",
       "    <tr>\n",
       "      <th>0</th>\n",
       "      <td>1</td>\n",
       "      <td>15634602</td>\n",
       "      <td>Hargrave</td>\n",
       "      <td>619</td>\n",
       "      <td>France</td>\n",
       "      <td>Female</td>\n",
       "      <td>42</td>\n",
       "      <td>2.0</td>\n",
       "      <td>0.00</td>\n",
       "      <td>1</td>\n",
       "      <td>1</td>\n",
       "      <td>1</td>\n",
       "      <td>101348.88</td>\n",
       "      <td>1</td>\n",
       "    </tr>\n",
       "    <tr>\n",
       "      <th>1</th>\n",
       "      <td>2</td>\n",
       "      <td>15647311</td>\n",
       "      <td>Hill</td>\n",
       "      <td>608</td>\n",
       "      <td>Spain</td>\n",
       "      <td>Female</td>\n",
       "      <td>41</td>\n",
       "      <td>1.0</td>\n",
       "      <td>83807.86</td>\n",
       "      <td>1</td>\n",
       "      <td>0</td>\n",
       "      <td>1</td>\n",
       "      <td>112542.58</td>\n",
       "      <td>0</td>\n",
       "    </tr>\n",
       "    <tr>\n",
       "      <th>2</th>\n",
       "      <td>3</td>\n",
       "      <td>15619304</td>\n",
       "      <td>Onio</td>\n",
       "      <td>502</td>\n",
       "      <td>France</td>\n",
       "      <td>Female</td>\n",
       "      <td>42</td>\n",
       "      <td>8.0</td>\n",
       "      <td>159660.80</td>\n",
       "      <td>3</td>\n",
       "      <td>1</td>\n",
       "      <td>0</td>\n",
       "      <td>113931.57</td>\n",
       "      <td>1</td>\n",
       "    </tr>\n",
       "    <tr>\n",
       "      <th>3</th>\n",
       "      <td>4</td>\n",
       "      <td>15701354</td>\n",
       "      <td>Boni</td>\n",
       "      <td>699</td>\n",
       "      <td>France</td>\n",
       "      <td>Female</td>\n",
       "      <td>39</td>\n",
       "      <td>1.0</td>\n",
       "      <td>0.00</td>\n",
       "      <td>2</td>\n",
       "      <td>0</td>\n",
       "      <td>0</td>\n",
       "      <td>93826.63</td>\n",
       "      <td>0</td>\n",
       "    </tr>\n",
       "    <tr>\n",
       "      <th>4</th>\n",
       "      <td>5</td>\n",
       "      <td>15737888</td>\n",
       "      <td>Mitchell</td>\n",
       "      <td>850</td>\n",
       "      <td>Spain</td>\n",
       "      <td>Female</td>\n",
       "      <td>43</td>\n",
       "      <td>2.0</td>\n",
       "      <td>125510.82</td>\n",
       "      <td>1</td>\n",
       "      <td>1</td>\n",
       "      <td>1</td>\n",
       "      <td>79084.10</td>\n",
       "      <td>0</td>\n",
       "    </tr>\n",
       "  </tbody>\n",
       "</table>\n",
       "</div>"
      ],
      "text/plain": [
       "   RowNumber  CustomerId   Surname  CreditScore Geography  Gender  Age  \\\n",
       "0          1    15634602  Hargrave          619    France  Female   42   \n",
       "1          2    15647311      Hill          608     Spain  Female   41   \n",
       "2          3    15619304      Onio          502    France  Female   42   \n",
       "3          4    15701354      Boni          699    France  Female   39   \n",
       "4          5    15737888  Mitchell          850     Spain  Female   43   \n",
       "\n",
       "   Tenure    Balance  NumOfProducts  HasCrCard  IsActiveMember  \\\n",
       "0     2.0       0.00              1          1               1   \n",
       "1     1.0   83807.86              1          0               1   \n",
       "2     8.0  159660.80              3          1               0   \n",
       "3     1.0       0.00              2          0               0   \n",
       "4     2.0  125510.82              1          1               1   \n",
       "\n",
       "   EstimatedSalary  Exited  \n",
       "0        101348.88       1  \n",
       "1        112542.58       0  \n",
       "2        113931.57       1  \n",
       "3         93826.63       0  \n",
       "4         79084.10       0  "
      ]
     },
     "execution_count": 3,
     "metadata": {},
     "output_type": "execute_result"
    }
   ],
   "source": [
    "data.head()"
   ]
  },
  {
   "cell_type": "code",
   "execution_count": 4,
   "id": "ad45af02",
   "metadata": {},
   "outputs": [
    {
     "name": "stdout",
     "output_type": "stream",
     "text": [
      "<class 'pandas.core.frame.DataFrame'>\n",
      "RangeIndex: 10000 entries, 0 to 9999\n",
      "Data columns (total 14 columns):\n",
      " #   Column           Non-Null Count  Dtype  \n",
      "---  ------           --------------  -----  \n",
      " 0   RowNumber        10000 non-null  int64  \n",
      " 1   CustomerId       10000 non-null  int64  \n",
      " 2   Surname          10000 non-null  object \n",
      " 3   CreditScore      10000 non-null  int64  \n",
      " 4   Geography        10000 non-null  object \n",
      " 5   Gender           10000 non-null  object \n",
      " 6   Age              10000 non-null  int64  \n",
      " 7   Tenure           9091 non-null   float64\n",
      " 8   Balance          10000 non-null  float64\n",
      " 9   NumOfProducts    10000 non-null  int64  \n",
      " 10  HasCrCard        10000 non-null  int64  \n",
      " 11  IsActiveMember   10000 non-null  int64  \n",
      " 12  EstimatedSalary  10000 non-null  float64\n",
      " 13  Exited           10000 non-null  int64  \n",
      "dtypes: float64(3), int64(8), object(3)\n",
      "memory usage: 1.1+ MB\n"
     ]
    }
   ],
   "source": [
    "data.info()"
   ]
  },
  {
   "cell_type": "markdown",
   "id": "3ab14021",
   "metadata": {},
   "source": [
    "**Обработка пропусков**"
   ]
  },
  {
   "cell_type": "markdown",
   "id": "a7551a18",
   "metadata": {},
   "source": [
    "Выше можно заметить большое количество пропусков в столбце `Tenure`. Возможно, пропуски возникли из-за того, что клиент заключил договор с банком менее года назад. Т.к. пропуски составляют 9% от общего количества данных, их можно удалить без ущерба для исследования."
   ]
  },
  {
   "cell_type": "code",
   "execution_count": 5,
   "id": "103378f3",
   "metadata": {},
   "outputs": [],
   "source": [
    "data = data.dropna(subset=['Tenure'])"
   ]
  },
  {
   "cell_type": "markdown",
   "id": "2d7b8dfe",
   "metadata": {},
   "source": [
    "Разумно будет отказаться от заполнения пропусков каким-либо значением, т.к. модель будет использовать его в процессе обучения. Это может исказить результаты исследования.  "
   ]
  },
  {
   "cell_type": "markdown",
   "id": "0ed89408",
   "metadata": {},
   "source": [
    "**Удаление данных**"
   ]
  },
  {
   "cell_type": "markdown",
   "id": "37817473",
   "metadata": {},
   "source": [
    "Первые три столбца таблицы не содержат важную для исследования информацию. Их можно удалить. "
   ]
  },
  {
   "cell_type": "code",
   "execution_count": 6,
   "id": "7030614a",
   "metadata": {},
   "outputs": [],
   "source": [
    "data = data.drop(['RowNumber', 'CustomerId', 'Surname'], axis=1)"
   ]
  },
  {
   "cell_type": "markdown",
   "id": "364101a6",
   "metadata": {},
   "source": [
    "**Обзор дисбаланса целевого признака**"
   ]
  },
  {
   "cell_type": "code",
   "execution_count": 7,
   "id": "9b748a05",
   "metadata": {},
   "outputs": [
    {
     "data": {
      "text/plain": [
       "0    7237\n",
       "1    1854\n",
       "Name: Exited, dtype: int64"
      ]
     },
     "execution_count": 7,
     "metadata": {},
     "output_type": "execute_result"
    }
   ],
   "source": [
    "data['Exited'].value_counts()"
   ]
  },
  {
   "cell_type": "code",
   "execution_count": 8,
   "id": "e764e4ff",
   "metadata": {
    "scrolled": true
   },
   "outputs": [
    {
     "data": {
      "text/plain": [
       "<AxesSubplot:>"
      ]
     },
     "execution_count": 8,
     "metadata": {},
     "output_type": "execute_result"
    },
    {
     "data": {
      "image/png": "[encoded data removed]",
      "text/plain": [
       "<Figure size 432x288 with 1 Axes>"
      ]
     },
     "metadata": {
      "needs_background": "light"
     },
     "output_type": "display_data"
    }
   ],
   "source": [
    "data['Exited'].hist()"
   ]
  },
  {
   "cell_type": "markdown",
   "id": "459228a8",
   "metadata": {},
   "source": [
    "Ушедших клиентов в 4 раза меньше, чем оставшихся. Обучим модели без учета дисбаланса, а затем с учетом и сравним показатели. "
   ]
  },
  {
   "cell_type": "markdown",
   "id": "202fd6f9",
   "metadata": {},
   "source": [
    "**Изменение типов данных**"
   ]
  },
  {
   "cell_type": "markdown",
   "id": "ba585173",
   "metadata": {},
   "source": [
    "Заменим типы данных в нескольких столбцах для экономии памяти:"
   ]
  },
  {
   "cell_type": "code",
   "execution_count": 9,
   "id": "6cd10754",
   "metadata": {},
   "outputs": [],
   "source": [
    "for column in ['NumOfProducts', 'HasCrCard', 'IsActiveMember', 'Tenure', 'Exited']:\n",
    "    data[column] = data[column].astype('int8')"
   ]
  },
  {
   "cell_type": "code",
   "execution_count": 10,
   "id": "45fd5538",
   "metadata": {},
   "outputs": [],
   "source": [
    "for column in ['CreditScore', 'Age']:\n",
    "    data[column] = data[column].astype('float32')"
   ]
  },
  {
   "cell_type": "code",
   "execution_count": 11,
   "id": "d3d48ea3",
   "metadata": {},
   "outputs": [
    {
     "name": "stdout",
     "output_type": "stream",
     "text": [
      "<class 'pandas.core.frame.DataFrame'>\n",
      "Int64Index: 9091 entries, 0 to 9998\n",
      "Data columns (total 11 columns):\n",
      " #   Column           Non-Null Count  Dtype  \n",
      "---  ------           --------------  -----  \n",
      " 0   CreditScore      9091 non-null   float32\n",
      " 1   Geography        9091 non-null   object \n",
      " 2   Gender           9091 non-null   object \n",
      " 3   Age              9091 non-null   float32\n",
      " 4   Tenure           9091 non-null   int8   \n",
      " 5   Balance          9091 non-null   float64\n",
      " 6   NumOfProducts    9091 non-null   int8   \n",
      " 7   HasCrCard        9091 non-null   int8   \n",
      " 8   IsActiveMember   9091 non-null   int8   \n",
      " 9   EstimatedSalary  9091 non-null   float64\n",
      " 10  Exited           9091 non-null   int8   \n",
      "dtypes: float32(2), float64(2), int8(5), object(2)\n",
      "memory usage: 470.5+ KB\n"
     ]
    }
   ],
   "source": [
    "data.info() #посмотрим, удалось ли сэкономить память"
   ]
  },
  {
   "cell_type": "markdown",
   "id": "31e160b9",
   "metadata": {},
   "source": [
    "**Масштабирование**"
   ]
  },
  {
   "cell_type": "markdown",
   "id": "814da748",
   "metadata": {},
   "source": [
    "В столбцах `CreditScore`, `Age`, `Balance`, `EstimatedSalary` разный масштаб. Чтобы алгоритм не считал, что один признак важнее другого, масштабируем признаки с помощью `StandardScaler`:"
   ]
  },
  {
   "cell_type": "code",
   "execution_count": 12,
   "id": "0c981d8d",
   "metadata": {},
   "outputs": [],
   "source": [
    "numerics = ['CreditScore', 'Age', 'Balance', 'EstimatedSalary']\n",
    "scaler = StandardScaler()\n",
    "data[numerics] = scaler.fit_transform(data[numerics])"
   ]
  },
  {
   "cell_type": "markdown",
   "id": "19bbf56e",
   "metadata": {},
   "source": [
    "Посмотрим на категориальные признаки: "
   ]
  },
  {
   "cell_type": "code",
   "execution_count": 13,
   "id": "55ae729f",
   "metadata": {},
   "outputs": [
    {
     "data": {
      "text/plain": [
       "<AxesSubplot:>"
      ]
     },
     "execution_count": 13,
     "metadata": {},
     "output_type": "execute_result"
    },
    {
     "data": {
      "image/png": "[encoded data removed]",
      "text/plain": [
       "<Figure size 432x288 with 1 Axes>"
      ]
     },
     "metadata": {
      "needs_background": "light"
     },
     "output_type": "display_data"
    }
   ],
   "source": [
    "data['Gender'].hist()\n",
    "data['Geography'].hist()"
   ]
  },
  {
   "cell_type": "markdown",
   "id": "b2ff13ce",
   "metadata": {},
   "source": [
    "Количество категорий небольшое — 2 и 3 соответственно. Поэтому можно преобразовать эти признаки методом _One-Hot Encoding_."
   ]
  },
  {
   "cell_type": "code",
   "execution_count": 14,
   "id": "e4e8f20e",
   "metadata": {},
   "outputs": [],
   "source": [
    "data = pd.get_dummies(data, drop_first=True)"
   ]
  },
  {
   "cell_type": "markdown",
   "id": "38e7d054",
   "metadata": {},
   "source": [
    "Данные готовы к обучению без учета дисбаланса. "
   ]
  },
  {
   "cell_type": "markdown",
   "id": "7b5a8adc",
   "metadata": {},
   "source": [
    "## Исследование задачи"
   ]
  },
  {
   "cell_type": "markdown",
   "id": "58ead233",
   "metadata": {},
   "source": [
    "Перед началом обучения выделим признаки и целевой признак:"
   ]
  },
  {
   "cell_type": "code",
   "execution_count": 15,
   "id": "7aedf966",
   "metadata": {},
   "outputs": [],
   "source": [
    "features = data.drop('Exited', axis=1)\n",
    "target = data['Exited']"
   ]
  },
  {
   "cell_type": "markdown",
   "id": "3ac7eeca",
   "metadata": {},
   "source": [
    "Теперь разделим данные на обучающую, валидационную и тестовую выборки в соотношении 3:1:1 (60% для обучения, по 20% - для тестирования и валидации): "
   ]
  },
  {
   "cell_type": "code",
   "execution_count": 16,
   "id": "42dabecc",
   "metadata": {},
   "outputs": [],
   "source": [
    "features_train, features_test, target_train, target_test = train_test_split(features, target, test_size=0.4, random_state=123)\n",
    "features_test, features_valid, target_test, target_valid = train_test_split(features_test, target_test, test_size=0.5, random_state=123)"
   ]
  },
  {
   "cell_type": "markdown",
   "id": "7fede0c4",
   "metadata": {},
   "source": [
    "Проверим корректность разделения:"
   ]
  },
  {
   "cell_type": "code",
   "execution_count": 17,
   "id": "8a3299c2",
   "metadata": {},
   "outputs": [
    {
     "name": "stdout",
     "output_type": "stream",
     "text": [
      "Размеры наборов данных:\n",
      "features_train: (5454, 11)\n",
      "features_valid: (1819, 11)\n",
      "features_test: (1818, 11)\n"
     ]
    }
   ],
   "source": [
    "print('Размеры наборов данных:')\n",
    "print('features_train:', features_train.shape)\n",
    "print('features_valid:', features_valid.shape)\n",
    "print('features_test:', features_test.shape)"
   ]
  },
  {
   "cell_type": "markdown",
   "id": "361c382f",
   "metadata": {},
   "source": [
    "Данные готовы к обучению различных моделей _без учета дисбаланса_. "
   ]
  },
  {
   "cell_type": "markdown",
   "id": "fbbd9f8a",
   "metadata": {},
   "source": [
    "### Решающее дерево"
   ]
  },
  {
   "cell_type": "markdown",
   "id": "932c75a1",
   "metadata": {},
   "source": [
    "**Без настройки гиперпараметров**"
   ]
  },
  {
   "cell_type": "code",
   "execution_count": 18,
   "id": "8c8f6fe5",
   "metadata": {},
   "outputs": [],
   "source": [
    "model = DecisionTreeClassifier(random_state=123)\n",
    "model.fit(features_train, target_train)\n",
    "\n",
    "predicted_valid = model.predict(features_valid)\n",
    "accuracy_valid = accuracy_score(target_valid, predicted_valid)"
   ]
  },
  {
   "cell_type": "code",
   "execution_count": 19,
   "id": "54715131",
   "metadata": {},
   "outputs": [
    {
     "data": {
      "text/plain": [
       "0.7691039032435404"
      ]
     },
     "execution_count": 19,
     "metadata": {},
     "output_type": "execute_result"
    }
   ],
   "source": [
    "accuracy_valid"
   ]
  },
  {
   "cell_type": "code",
   "execution_count": 20,
   "id": "f0345279",
   "metadata": {
    "scrolled": true
   },
   "outputs": [
    {
     "data": {
      "text/plain": [
       "0.4865525672371638"
      ]
     },
     "execution_count": 20,
     "metadata": {},
     "output_type": "execute_result"
    }
   ],
   "source": [
    "f1_score(target_valid, predicted_valid)"
   ]
  },
  {
   "cell_type": "code",
   "execution_count": 21,
   "id": "fff2e0b3",
   "metadata": {},
   "outputs": [
    {
     "name": "stdout",
     "output_type": "stream",
     "text": [
      "0.6735907026449373\n"
     ]
    }
   ],
   "source": [
    "probabilities_valid = model.predict_proba(features_valid)\n",
    "probabilities_one_valid = probabilities_valid[:, 1]\n",
    "\n",
    "auc_roc = roc_auc_score(target_valid, probabilities_one_valid)\n",
    "\n",
    "print(auc_roc)"
   ]
  },
  {
   "cell_type": "markdown",
   "id": "e06c141a",
   "metadata": {},
   "source": [
    "F1-мера не дотягивает до указанной в техническом задании. "
   ]
  },
  {
   "cell_type": "markdown",
   "id": "f861da73",
   "metadata": {},
   "source": [
    "**С настройкой глубины**\n",
    "\n",
    "Проверим работу модели с глубиной деревьев от 1 до 5. "
   ]
  },
  {
   "cell_type": "code",
   "execution_count": 22,
   "id": "3f6effe2",
   "metadata": {},
   "outputs": [
    {
     "name": "stdout",
     "output_type": "stream",
     "text": [
      "Accuracy лучшей модели: 0.834524463991204 DecisionTreeClassifier(max_depth=5, random_state=123)\n"
     ]
    }
   ],
   "source": [
    "best_model = None\n",
    "best_result = 0\n",
    "for depth in range(1, 6):\n",
    "    model = DecisionTreeClassifier(random_state=123, max_depth=depth) \n",
    "    model.fit(features_train, target_train) \n",
    "    predictions = model.predict(features_valid) \n",
    "    result = accuracy_score(target_valid, predictions) \n",
    "    if result > best_result:\n",
    "        best_model = model\n",
    "        best_result = result\n",
    "        \n",
    "print(\"Accuracy лучшей модели:\", best_result, best_model)"
   ]
  },
  {
   "cell_type": "code",
   "execution_count": 23,
   "id": "793ed3e5",
   "metadata": {},
   "outputs": [
    {
     "data": {
      "text/plain": [
       "0.4872231686541738"
      ]
     },
     "execution_count": 23,
     "metadata": {},
     "output_type": "execute_result"
    }
   ],
   "source": [
    "f1_score(target_valid, predictions)"
   ]
  },
  {
   "cell_type": "code",
   "execution_count": 24,
   "id": "f4b03772",
   "metadata": {},
   "outputs": [
    {
     "name": "stdout",
     "output_type": "stream",
     "text": [
      "0.8308843173924659\n"
     ]
    }
   ],
   "source": [
    "probabilities_valid = model.predict_proba(features_valid)\n",
    "probabilities_one_valid = probabilities_valid[:, 1]\n",
    "\n",
    "auc_roc = roc_auc_score(target_valid, probabilities_one_valid)\n",
    "\n",
    "print(auc_roc)"
   ]
  },
  {
   "cell_type": "markdown",
   "id": "59c66e39",
   "metadata": {},
   "source": [
    "Настройка гиперпараметров решающего дерева практически не повлияла на значение F1-меры. Accuracy и AUC-ROC увеличились после настройки гиперпараметров. "
   ]
  },
  {
   "cell_type": "markdown",
   "id": "5b81207d",
   "metadata": {},
   "source": [
    "### Случайный лес"
   ]
  },
  {
   "cell_type": "markdown",
   "id": "7d058d49",
   "metadata": {},
   "source": [
    "**Без настройки гиперпараметров**"
   ]
  },
  {
   "cell_type": "code",
   "execution_count": 25,
   "id": "5d36ff77",
   "metadata": {},
   "outputs": [
    {
     "name": "stdout",
     "output_type": "stream",
     "text": [
      "0.8372732270478285\n"
     ]
    }
   ],
   "source": [
    "model = RandomForestClassifier(random_state=123)\n",
    "model.fit(features_train, target_train)\n",
    "predicted_valid = model.predict(features_valid)\n",
    "accuracy = model.score(features_valid, target_valid)\n",
    "print(accuracy)"
   ]
  },
  {
   "cell_type": "code",
   "execution_count": 26,
   "id": "3379f83d",
   "metadata": {},
   "outputs": [
    {
     "data": {
      "text/plain": [
       "0.5316455696202532"
      ]
     },
     "execution_count": 26,
     "metadata": {},
     "output_type": "execute_result"
    }
   ],
   "source": [
    "f1_score(target_valid, predicted_valid)"
   ]
  },
  {
   "cell_type": "code",
   "execution_count": 27,
   "id": "e0b98e26",
   "metadata": {},
   "outputs": [
    {
     "name": "stdout",
     "output_type": "stream",
     "text": [
      "0.826636387924125\n"
     ]
    }
   ],
   "source": [
    "probabilities_valid = model.predict_proba(features_valid)\n",
    "probabilities_one_valid = probabilities_valid[:, 1]\n",
    "\n",
    "auc_roc = roc_auc_score(target_valid, probabilities_one_valid)\n",
    "\n",
    "print(auc_roc)"
   ]
  },
  {
   "cell_type": "markdown",
   "id": "73940000",
   "metadata": {},
   "source": [
    "У модели случайного леса без настройки гиперпараметров F1-мера близка к необходимому значению 0.59."
   ]
  },
  {
   "cell_type": "markdown",
   "id": "f0cba53b",
   "metadata": {},
   "source": [
    "**С настройкой гиперпараметров**"
   ]
  },
  {
   "cell_type": "markdown",
   "id": "90daa3ff",
   "metadata": {},
   "source": [
    "Попробуем подобрать гиперпараметры с помощью GridSearchCV:"
   ]
  },
  {
   "cell_type": "markdown",
   "id": "48c3511b",
   "metadata": {},
   "source": [
    "`n_estimators` — количество деревьев\n",
    "\n",
    "`max_depth` — максимальная глубина древа\n",
    "\n",
    "`min_samples_leaf` — минимальное количество объектов в листе\n",
    "\n",
    "`min_samples_split` — минимальное количество объектов в узле"
   ]
  },
  {
   "cell_type": "code",
   "execution_count": 28,
   "id": "feee6004",
   "metadata": {},
   "outputs": [
    {
     "data": {
      "text/plain": [
       "GridSearchCV(cv=5, estimator=RandomForestClassifier(random_state=123),\n",
       "             param_grid={'max_depth': range(1, 13, 2),\n",
       "                         'min_samples_leaf': range(1, 8),\n",
       "                         'min_samples_split': range(2, 10, 2),\n",
       "                         'n_estimators': range(10, 51, 10)})"
      ]
     },
     "execution_count": 28,
     "metadata": {},
     "output_type": "execute_result"
    }
   ],
   "source": [
    "clf = RandomForestClassifier(random_state=123)\n",
    "\n",
    "parametrs = { 'n_estimators': range (10, 51, 10),\n",
    "              'max_depth': range (1,13, 2),\n",
    "              'min_samples_leaf': range (1,8),\n",
    "              'min_samples_split': range (2,10,2) }\n",
    "grid = GridSearchCV(clf, parametrs, cv=5)\n",
    "grid.fit(features_train, target_train)"
   ]
  },
  {
   "cell_type": "code",
   "execution_count": 29,
   "id": "aa2a945a",
   "metadata": {},
   "outputs": [
    {
     "data": {
      "text/plain": [
       "{'max_depth': 9,\n",
       " 'min_samples_leaf': 1,\n",
       " 'min_samples_split': 6,\n",
       " 'n_estimators': 40}"
      ]
     },
     "execution_count": 29,
     "metadata": {},
     "output_type": "execute_result"
    }
   ],
   "source": [
    "grid.best_params_"
   ]
  },
  {
   "cell_type": "markdown",
   "id": "4184737b",
   "metadata": {},
   "source": [
    "Теперь используем полученные гиперпараметры для алгоритма случайного леса: "
   ]
  },
  {
   "cell_type": "code",
   "execution_count": 30,
   "id": "c21edfa6",
   "metadata": {},
   "outputs": [
    {
     "name": "stdout",
     "output_type": "stream",
     "text": [
      "0.8438702583837273\n"
     ]
    }
   ],
   "source": [
    "model = RandomForestClassifier(n_estimators=50, max_depth=9, min_samples_leaf=1, min_samples_split=6, random_state=123)\n",
    "model.fit(features_train, target_train)\n",
    "predicted_valid = model.predict(features_valid)\n",
    "accuracy = model.score(features_valid, target_valid)\n",
    "print(accuracy)"
   ]
  },
  {
   "cell_type": "code",
   "execution_count": 31,
   "id": "2d0912e9",
   "metadata": {},
   "outputs": [
    {
     "data": {
      "text/plain": [
       "0.5328947368421052"
      ]
     },
     "execution_count": 31,
     "metadata": {},
     "output_type": "execute_result"
    }
   ],
   "source": [
    "f1_score(target_valid, predicted_valid)"
   ]
  },
  {
   "cell_type": "code",
   "execution_count": 32,
   "id": "d8ed47d7",
   "metadata": {},
   "outputs": [
    {
     "name": "stdout",
     "output_type": "stream",
     "text": [
      "0.8416029922522041\n"
     ]
    }
   ],
   "source": [
    "probabilities_valid = model.predict_proba(features_valid)\n",
    "probabilities_one_valid = probabilities_valid[:, 1]\n",
    "\n",
    "auc_roc = roc_auc_score(target_valid, probabilities_one_valid)\n",
    "\n",
    "print(auc_roc)"
   ]
  },
  {
   "cell_type": "markdown",
   "id": "40eeb5bf",
   "metadata": {},
   "source": [
    "Снова F1-мера не дотягивает до необходимого значения 0.59. Accuracy и AUC-ROC, как и в случае с решающим деревом, увеличились после настройки гиперпараметров."
   ]
  },
  {
   "cell_type": "markdown",
   "id": "df8f98ec",
   "metadata": {},
   "source": [
    "### Логистическая регрессия"
   ]
  },
  {
   "cell_type": "code",
   "execution_count": 33,
   "id": "ffe054e0",
   "metadata": {},
   "outputs": [
    {
     "name": "stdout",
     "output_type": "stream",
     "text": [
      "0.80043980208906\n"
     ]
    }
   ],
   "source": [
    "model = LogisticRegression(random_state=123)\n",
    "model.fit(features_train, target_train)\n",
    "predicted_valid = model.predict(features_valid)\n",
    "accuracy = model.score(features_valid, target_valid)\n",
    "print(accuracy)"
   ]
  },
  {
   "cell_type": "code",
   "execution_count": 34,
   "id": "0ea86c91",
   "metadata": {},
   "outputs": [
    {
     "data": {
      "text/plain": [
       "0.324022346368715"
      ]
     },
     "execution_count": 34,
     "metadata": {},
     "output_type": "execute_result"
    }
   ],
   "source": [
    "f1_score(target_valid, predicted_valid)"
   ]
  },
  {
   "cell_type": "code",
   "execution_count": 35,
   "id": "1121abbc",
   "metadata": {},
   "outputs": [
    {
     "name": "stdout",
     "output_type": "stream",
     "text": [
      "0.7378965179446078\n"
     ]
    }
   ],
   "source": [
    "probabilities_valid = model.predict_proba(features_valid)\n",
    "probabilities_one_valid = probabilities_valid[:, 1]\n",
    "\n",
    "auc_roc = roc_auc_score(target_valid, probabilities_one_valid)\n",
    "\n",
    "print(auc_roc)"
   ]
  },
  {
   "cell_type": "markdown",
   "id": "33854096",
   "metadata": {},
   "source": [
    "Логистическая регрессия показывает самый низкий результат F1-меры: 0.32"
   ]
  },
  {
   "cell_type": "markdown",
   "id": "ed4b5d94",
   "metadata": {},
   "source": [
    "**Выводы:**"
   ]
  },
  {
   "cell_type": "markdown",
   "id": "eb683f95",
   "metadata": {},
   "source": [
    "- Исходные данные разделены на обучающую, валидационную и тестовую выборки в соотношении 3:1:1 (60% для обучения, по 20% - для тестирования и валидации);\n",
    "- Обучение моделей Решающего дерева, Случайного леса и Логистической регресии без учета дисбаланса не позволило достигнуть необходимых значений F1-меры; \n",
    "- Максимальное значение F1-меры — 0.53 было достигнуто при обучении модели Случайного леса."
   ]
  },
  {
   "cell_type": "markdown",
   "id": "bcf39c4c",
   "metadata": {},
   "source": [
    "## Борьба с дисбалансом"
   ]
  },
  {
   "cell_type": "markdown",
   "id": "7a5b057a",
   "metadata": {},
   "source": [
    "В начале нашего исследования мы выяснили, что оставшихся клиентов в 4 раза больше, чем ушедших. Соотношение классов 4:1.\n",
    "\n",
    "Для борьбы с дисбалансом попробуем следующее: \n",
    "\n",
    "- взвешивание классов;\n",
    "\n",
    "- увеличение выборки положительного класса;\n",
    "\n",
    "- уменьшение выборки отрицательного класса."
   ]
  },
  {
   "cell_type": "markdown",
   "id": "b041c470",
   "metadata": {},
   "source": [
    "### Взвешивание классов"
   ]
  },
  {
   "cell_type": "markdown",
   "id": "b495d566",
   "metadata": {},
   "source": [
    "Начнем взвешивание с самой перспективной модели — Случайный лес с настроенными гиперпараметрами. "
   ]
  },
  {
   "cell_type": "code",
   "execution_count": 36,
   "id": "2acf9fb3",
   "metadata": {},
   "outputs": [
    {
     "name": "stdout",
     "output_type": "stream",
     "text": [
      "F1: 0.5990220048899756\n",
      "AUC-ROC: 0.8472758037225043\n"
     ]
    }
   ],
   "source": [
    "model = RandomForestClassifier(n_estimators=50, max_depth=9, min_samples_leaf=1, min_samples_split=6, \n",
    "                               random_state=123, class_weight='balanced')\n",
    "model.fit(features_train, target_train)\n",
    "predicted_valid = model.predict(features_valid)\n",
    "print(\"F1:\", f1_score(target_valid, predicted_valid))\n",
    "\n",
    "probabilities_valid = model.predict_proba(features_valid)\n",
    "probabilities_one_valid = probabilities_valid[:, 1]\n",
    "\n",
    "auc_roc = roc_auc_score(target_valid, probabilities_one_valid)\n",
    "\n",
    "print('AUC-ROC:', auc_roc)"
   ]
  },
  {
   "cell_type": "markdown",
   "id": "960a07a8",
   "metadata": {},
   "source": [
    "F1 соответствует техническому заданию. "
   ]
  },
  {
   "cell_type": "markdown",
   "id": "aff66c4b",
   "metadata": {},
   "source": [
    "Посмотрим, что даст взвешивание на моделях Решающего дерева и Логистической регрессии: "
   ]
  },
  {
   "cell_type": "code",
   "execution_count": 37,
   "id": "77bb5246",
   "metadata": {},
   "outputs": [
    {
     "name": "stdout",
     "output_type": "stream",
     "text": [
      "F1: 0.5597210113339145\n",
      "AUC-ROC: 0.8295369133493633\n"
     ]
    }
   ],
   "source": [
    "model = DecisionTreeClassifier(max_depth=5, random_state=123, class_weight='balanced')\n",
    "model.fit(features_train, target_train)\n",
    "predicted_valid = model.predict(features_valid)\n",
    "print(\"F1:\", f1_score(target_valid, predicted_valid))\n",
    "\n",
    "probabilities_valid = model.predict_proba(features_valid)\n",
    "probabilities_one_valid = probabilities_valid[:, 1]\n",
    "\n",
    "auc_roc = roc_auc_score(target_valid, probabilities_one_valid)\n",
    "\n",
    "print('AUC-ROC:', auc_roc)"
   ]
  },
  {
   "cell_type": "code",
   "execution_count": 38,
   "id": "e6d25d10",
   "metadata": {},
   "outputs": [
    {
     "name": "stdout",
     "output_type": "stream",
     "text": [
      "F1: 0.47830101569713757\n",
      "AUC-ROC: 0.7427268679312494\n"
     ]
    }
   ],
   "source": [
    "model = LogisticRegression(random_state=123, solver='liblinear', class_weight='balanced')\n",
    "model.fit(features_train, target_train)\n",
    "predicted_valid = model.predict(features_valid)\n",
    "print(\"F1:\", f1_score(target_valid, predicted_valid))\n",
    "\n",
    "probabilities_valid = model.predict_proba(features_valid)\n",
    "probabilities_one_valid = probabilities_valid[:, 1]\n",
    "\n",
    "auc_roc = roc_auc_score(target_valid, probabilities_one_valid)\n",
    "\n",
    "print('AUC-ROC:', auc_roc)"
   ]
  },
  {
   "cell_type": "markdown",
   "id": "91d3854c",
   "metadata": {},
   "source": [
    "Можно заметить, что в обоих случаях F1-мера заметно увеличилась. Однако, этого недостаточно. \n",
    "\n",
    "Самый высокий результат снова показывает Случайный лес. "
   ]
  },
  {
   "cell_type": "markdown",
   "id": "a94c66c3",
   "metadata": {},
   "source": [
    "### Увеличение выборки"
   ]
  },
  {
   "cell_type": "markdown",
   "id": "b607808a",
   "metadata": {},
   "source": [
    "Объявим 4 переменные и запишем в них признаки с ответом 0 и 1, а также целевой признак с ответом только 0 и только 1:"
   ]
  },
  {
   "cell_type": "code",
   "execution_count": 39,
   "id": "d8f26a7d",
   "metadata": {},
   "outputs": [
    {
     "name": "stdout",
     "output_type": "stream",
     "text": [
      "(4343, 11)\n",
      "(1111, 11)\n",
      "(4343,)\n",
      "(1111,)\n"
     ]
    }
   ],
   "source": [
    "features_zeros = features_train[target_train == 0]\n",
    "features_ones = features_train[target_train == 1]\n",
    "target_zeros = target_train[target == 0]\n",
    "target_ones = target_train[target == 1]\n",
    "\n",
    "print(features_zeros.shape)\n",
    "print(features_ones.shape)\n",
    "print(target_zeros.shape)\n",
    "print(target_ones.shape)"
   ]
  },
  {
   "cell_type": "markdown",
   "id": "3f39de54",
   "metadata": {},
   "source": [
    "Создадим функцию `upsample()` с тремя параметрами:\n",
    "\n",
    "`features` — признаки,\n",
    "\n",
    "`target` — целевой признак,\n",
    "\n",
    "`repeat` — количество повторений.\n",
    "\n",
    "Функция вернёт признаки и целевой признак после операции upsampling."
   ]
  },
  {
   "cell_type": "code",
   "execution_count": 40,
   "id": "21c3ab85",
   "metadata": {},
   "outputs": [
    {
     "name": "stdout",
     "output_type": "stream",
     "text": [
      "(8787, 11)\n",
      "(8787,)\n"
     ]
    }
   ],
   "source": [
    "def upsample(features, target, repeat):\n",
    "    \n",
    "    features_zeros = features_train[target_train == 0]\n",
    "    features_ones = features_train[target_train == 1]\n",
    "    target_zeros = target_train[target_train == 0]\n",
    "    target_ones = target_train[target_train == 1]\n",
    "\n",
    "    repeat = 4\n",
    "    features_upsampled = pd.concat([features_zeros] + [features_ones] * repeat)\n",
    "    target_upsampled = pd.concat([target_zeros] + [target_ones] * repeat)\n",
    "   \n",
    "    features_upsampled, target_upsampled = shuffle(\n",
    "        features_upsampled, target_upsampled, random_state=123)\n",
    "    return features_upsampled, target_upsampled \n",
    "features_upsampled, target_upsampled = upsample(features_train, target_train, 4)\n",
    "\n",
    "print(features_upsampled.shape)\n",
    "print(target_upsampled.shape)\n"
   ]
  },
  {
   "cell_type": "markdown",
   "id": "587e4b8f",
   "metadata": {},
   "source": [
    "Обучим модель Случайного леса на новых данных. Начинаем именно с этой модели, т.к. ранее она показала самые хорошие результаты:"
   ]
  },
  {
   "cell_type": "code",
   "execution_count": 41,
   "id": "52095689",
   "metadata": {},
   "outputs": [
    {
     "name": "stdout",
     "output_type": "stream",
     "text": [
      "F1: 0.6061269146608316\n",
      "AUC-ROC: 0.9530744923444681\n"
     ]
    }
   ],
   "source": [
    "model = RandomForestClassifier(n_estimators=50, max_depth=9, min_samples_leaf=1, min_samples_split=6, \n",
    "                               random_state=123)\n",
    "model.fit(features_upsampled, target_upsampled)\n",
    "predicted_valid = model.predict(features_valid)\n",
    "\n",
    "print(\"F1:\", f1_score(target_valid, predicted_valid))\n",
    "\n",
    "probabilities_valid = model.predict_proba(features_upsampled)\n",
    "probabilities_one_valid = probabilities_valid[:, 1]\n",
    "\n",
    "auc_roc = roc_auc_score(target_upsampled, probabilities_one_valid)\n",
    "\n",
    "print('AUC-ROC:', auc_roc)"
   ]
  },
  {
   "cell_type": "markdown",
   "id": "7b9cdb1b",
   "metadata": {},
   "source": [
    "Посмотрим, как повлияло увиличение выборки на Решающее дерево и Логистическую регрессию: "
   ]
  },
  {
   "cell_type": "code",
   "execution_count": 42,
   "id": "8c65330e",
   "metadata": {},
   "outputs": [
    {
     "name": "stdout",
     "output_type": "stream",
     "text": [
      "F1: 0.48043676069153785\n",
      "AUC-ROC: 0.7757781073985823\n"
     ]
    }
   ],
   "source": [
    "model = LogisticRegression(random_state=123, solver='liblinear')\n",
    "model.fit(features_upsampled, target_upsampled)\n",
    "predicted_valid = model.predict(features_valid)\n",
    "\n",
    "print(\"F1:\", f1_score(target_valid, predicted_valid))\n",
    "\n",
    "probabilities_valid = model.predict_proba(features_upsampled)\n",
    "probabilities_one_valid = probabilities_valid[:, 1]\n",
    "\n",
    "auc_roc = roc_auc_score(target_upsampled, probabilities_one_valid)\n",
    "\n",
    "print('AUC-ROC:', auc_roc)"
   ]
  },
  {
   "cell_type": "code",
   "execution_count": 43,
   "id": "f7f49adc",
   "metadata": {},
   "outputs": [
    {
     "name": "stdout",
     "output_type": "stream",
     "text": [
      "F1: 0.5597210113339145\n",
      "AUC-ROC: 0.8446753033581047\n"
     ]
    }
   ],
   "source": [
    "model = DecisionTreeClassifier(max_depth=5, random_state=123)\n",
    "model.fit(features_upsampled, target_upsampled)\n",
    "predicted_valid = model.predict(features_valid)\n",
    "\n",
    "print(\"F1:\", f1_score(target_valid, predicted_valid))\n",
    "\n",
    "probabilities_valid = model.predict_proba(features_upsampled)\n",
    "probabilities_one_valid = probabilities_valid[:, 1]\n",
    "\n",
    "auc_roc = roc_auc_score(target_upsampled, probabilities_one_valid)\n",
    "\n",
    "print('AUC-ROC:', auc_roc)"
   ]
  },
  {
   "cell_type": "markdown",
   "id": "959b4159",
   "metadata": {},
   "source": [
    "Увеличение выборки помогло достичь желаемых результатов для модели Случайного леса с заданными гиперпараметрами, но не помогло увеличить F1-меру у Решающего дерева и Логистической регрессии."
   ]
  },
  {
   "cell_type": "markdown",
   "id": "3a2aca63",
   "metadata": {},
   "source": [
    "### Уменьшение выборки "
   ]
  },
  {
   "cell_type": "markdown",
   "id": "83ad2e67",
   "metadata": {},
   "source": [
    "Создадим функцию `downsample()` с тремя аргументами:\n",
    "    \n",
    "`features` — признаки;\n",
    "\n",
    "`target` — целевой признак;\n",
    "\n",
    "`fraction` — доля отрицательных объектов, которые нужно сохранить.\n"
   ]
  },
  {
   "cell_type": "code",
   "execution_count": 44,
   "id": "c6eac460",
   "metadata": {},
   "outputs": [
    {
     "name": "stdout",
     "output_type": "stream",
     "text": [
      "(1980, 11)\n",
      "(1980,)\n"
     ]
    }
   ],
   "source": [
    "def downsample(features, target, fraction):\n",
    "    features_zeros = features[target == 0]\n",
    "    features_ones = features[target == 1]\n",
    "    target_zeros = target[target == 0]\n",
    "    target_ones = target[target == 1]\n",
    "\n",
    "    features_downsampled = pd.concat(\n",
    "        [features_zeros.sample(frac=fraction, random_state=123)] + [features_ones])\n",
    "    target_downsampled = pd.concat(\n",
    "        [target_zeros.sample(frac=fraction, random_state=123)] + [target_ones])\n",
    "    features_downsampled, target_downsampled = shuffle(\n",
    "        features_downsampled, target_downsampled, random_state=123)\n",
    "\n",
    "    return features_downsampled, target_downsampled\n",
    "\n",
    "features_downsampled, target_downsampled = downsample(features_train, target_train, 0.2)\n",
    "\n",
    "print(features_downsampled.shape)\n",
    "print(target_downsampled.shape)"
   ]
  },
  {
   "cell_type": "code",
   "execution_count": 45,
   "id": "4359c9bd",
   "metadata": {},
   "outputs": [
    {
     "name": "stdout",
     "output_type": "stream",
     "text": [
      "F1: 0.548780487804878\n",
      "AUC-ROC: 0.9630590216674141\n"
     ]
    }
   ],
   "source": [
    "model = RandomForestClassifier(n_estimators=50, max_depth=9, min_samples_leaf=1, min_samples_split=6, \n",
    "                               random_state=123)\n",
    "model.fit(features_downsampled, target_downsampled)\n",
    "predicted_valid = model.predict(features_valid)\n",
    "\n",
    "print(\"F1:\", f1_score(target_valid, predicted_valid))\n",
    "\n",
    "probabilities_valid = model.predict_proba(features_downsampled)\n",
    "probabilities_one_valid = probabilities_valid[:, 1]\n",
    "\n",
    "auc_roc = roc_auc_score(target_downsampled, probabilities_one_valid)\n",
    "\n",
    "print('AUC-ROC:', auc_roc)"
   ]
  },
  {
   "cell_type": "code",
   "execution_count": 46,
   "id": "73fc20fb",
   "metadata": {},
   "outputs": [
    {
     "name": "stdout",
     "output_type": "stream",
     "text": [
      "F1: 0.5659340659340659\n",
      "AUC-ROC: 0.8571026838011764\n"
     ]
    }
   ],
   "source": [
    "model = DecisionTreeClassifier(max_depth=5, random_state=123)\n",
    "model.fit(features_downsampled, target_downsampled)\n",
    "predicted_valid = model.predict(features_valid)\n",
    "\n",
    "print(\"F1:\", f1_score(target_valid, predicted_valid))\n",
    "\n",
    "probabilities_valid = model.predict_proba(features_downsampled)\n",
    "probabilities_one_valid = probabilities_valid[:, 1]\n",
    "\n",
    "auc_roc = roc_auc_score(target_downsampled, probabilities_one_valid)\n",
    "\n",
    "print('AUC-ROC:', auc_roc)"
   ]
  },
  {
   "cell_type": "code",
   "execution_count": 47,
   "id": "6b4fd05a",
   "metadata": {},
   "outputs": [
    {
     "name": "stdout",
     "output_type": "stream",
     "text": [
      "F1: 0.48314606741573035\n",
      "AUC-ROC: 0.7802205997354626\n"
     ]
    }
   ],
   "source": [
    "model = LogisticRegression(random_state=123, solver='liblinear')\n",
    "model.fit(features_downsampled, target_downsampled)\n",
    "predicted_valid = model.predict(features_valid)\n",
    "\n",
    "print(\"F1:\", f1_score(target_valid, predicted_valid))\n",
    "\n",
    "probabilities_valid = model.predict_proba(features_downsampled)\n",
    "probabilities_one_valid = probabilities_valid[:, 1]\n",
    "\n",
    "auc_roc = roc_auc_score(target_downsampled, probabilities_one_valid)\n",
    "\n",
    "print('AUC-ROC:', auc_roc)"
   ]
  },
  {
   "cell_type": "markdown",
   "id": "76c239ca",
   "metadata": {},
   "source": [
    "Уменьшение выборки не помогло достичь нужного значения F1-меры ни для одной из моделей. Ближе всех к необходимому значению оказалось решающее дерево. "
   ]
  },
  {
   "cell_type": "markdown",
   "id": "5b15c9b4",
   "metadata": {},
   "source": [
    "## Тестирование модели"
   ]
  },
  {
   "cell_type": "markdown",
   "id": "788bf0dc",
   "metadata": {},
   "source": [
    "Проведем тестирование на Случайном лесе. Именно эта модель два раза продемонстрировала соответствие F1-меры техническому заданию. "
   ]
  },
  {
   "cell_type": "markdown",
   "id": "0fa51a61",
   "metadata": {},
   "source": [
    "В первом случае протестируем Случайный лес с настроенными гиперпараметрами и взвешенными классами. "
   ]
  },
  {
   "cell_type": "code",
   "execution_count": 48,
   "id": "fe302e49",
   "metadata": {
    "scrolled": true
   },
   "outputs": [
    {
     "name": "stdout",
     "output_type": "stream",
     "text": [
      "F1: 0.6338797814207651\n",
      "AUC-ROC: 0.8798044007872343\n"
     ]
    }
   ],
   "source": [
    "model = RandomForestClassifier(n_estimators=50, max_depth=9, min_samples_leaf=1, min_samples_split=6, \n",
    "                               random_state=123, class_weight='balanced')\n",
    "model.fit(features_train, target_train)\n",
    "predicted_test = model.predict(features_test)\n",
    "print(\"F1:\", f1_score(target_test, predicted_test))\n",
    "\n",
    "probabilities_valid = model.predict_proba(features_test)\n",
    "probabilities_one_valid = probabilities_valid[:, 1]\n",
    "\n",
    "auc_roc = roc_auc_score(target_test, probabilities_one_valid)\n",
    "\n",
    "print('AUC-ROC:', auc_roc)"
   ]
  },
  {
   "cell_type": "markdown",
   "id": "7fb354ac",
   "metadata": {},
   "source": [
    "Во втором случае ротестируем Случайный лес с настроенными гиперпараметрами и увеличенной выборкой."
   ]
  },
  {
   "cell_type": "code",
   "execution_count": 49,
   "id": "9e7d892e",
   "metadata": {},
   "outputs": [
    {
     "name": "stdout",
     "output_type": "stream",
     "text": [
      "F1: 0.6273525721455459\n",
      "AUC-ROC: 0.8729794940713621\n"
     ]
    }
   ],
   "source": [
    "model = RandomForestClassifier(n_estimators=50, max_depth=9, min_samples_leaf=1, min_samples_split=6, \n",
    "                               random_state=123)\n",
    "model.fit(features_upsampled, target_upsampled)\n",
    "predicted_test = model.predict(features_test)\n",
    "print(\"F1:\", f1_score(target_test, predicted_test))\n",
    "\n",
    "probabilities_valid = model.predict_proba(features_test)\n",
    "probabilities_one_valid = probabilities_valid[:, 1]\n",
    "\n",
    "auc_roc = roc_auc_score(target_test, probabilities_one_valid)\n",
    "\n",
    "print('AUC-ROC:', auc_roc)"
   ]
  },
  {
   "cell_type": "markdown",
   "id": "094dfee2",
   "metadata": {},
   "source": [
    "## Вывод"
   ]
  },
  {
   "cell_type": "markdown",
   "id": "f388aba3",
   "metadata": {},
   "source": [
    "Лучшая модель имеет следующие характеристики: \n",
    "\n",
    "- RandomForestClassifier\n",
    "    \n",
    "- n_estimators=40, max_depth=9, min_samples_leaf=1, min_samples_split=6\n",
    "    \n",
    "- устранение дисбаланса целевого признака путем взвешивания классов: class_weight='balanced'\n",
    "        \n",
    "Лучшие значения метрик для такой модели: \n",
    "\n",
    "F1: 0.63\n",
    "    \n",
    "AUC-ROC: 0.87"
   ]
  }
 ],
 "metadata": {
  "ExecuteTimeLog": [
   {
    "duration": 139,
    "start_time": "2022-05-06T12:18:17.499Z"
   }
  ],
  "kernelspec": {
   "display_name": "Python 3 (ipykernel)",
   "language": "python",
   "name": "python3"
  },
  "language_info": {
   "codemirror_mode": {
    "name": "ipython",
    "version": 3
   },
   "file_extension": ".py",
   "mimetype": "text/x-python",
   "name": "python",
   "nbconvert_exporter": "python",
   "pygments_lexer": "ipython3",
   "version": "3.9.7"
  },
  "toc": {
   "base_numbering": 1,
   "nav_menu": {},
   "number_sections": true,
   "sideBar": true,
   "skip_h1_title": true,
   "title_cell": "Table of Contents",
   "title_sidebar": "Contents",
   "toc_cell": true,
   "toc_position": {
    "height": "calc(100% - 180px)",
    "left": "10px",
    "top": "150px",
    "width": "165px"
   },
   "toc_section_display": true,
   "toc_window_display": true
  }
 },
 "nbformat": 4,
 "nbformat_minor": 5
}
