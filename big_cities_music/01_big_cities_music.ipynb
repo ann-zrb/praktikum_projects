{
 "cells": [
  {
   "cell_type": "markdown",
   "metadata": {
    "id": "Ml1hmfXC_Zcs"
   },
   "source": [
    "## Обзор данных\n",
    "\n",
    "Составим первое представление о данных Яндекс.Музыки."
   ]
  },
  {
   "cell_type": "markdown",
   "metadata": {
    "id": "57eAOGIz_Zcs"
   },
   "source": [
    "Для обзора будем использовать библеотеку `pandas`. Начнем обзор с импорта библиотеки: "
   ]
  },
  {
   "cell_type": "code",
   "execution_count": 1,
   "metadata": {
    "id": "AXN7PHPN_Zcs"
   },
   "outputs": [],
   "source": [
    "import pandas as pd"
   ]
  },
  {
   "cell_type": "markdown",
   "metadata": {
    "id": "SG23P8tt_Zcs"
   },
   "source": [
    "Затем прочитаем файл `yandex_music_project.csv` из папки `/datasets` и сохраним его в переменной `df`:"
   ]
  },
  {
   "cell_type": "code",
   "execution_count": 2,
   "metadata": {
    "id": "fFVu7vqh_Zct"
   },
   "outputs": [],
   "source": [
    "try: \n",
    "    df = pd.read_csv('/datasets/yandex_music_project.csv')\n",
    "except: \n",
    "    df = pd.read_csv('C:\\\\Users\\\\freak\\\\Desktop\\\\Python\\\\music_project\\\\yandex_music_project.csv')"
   ]
  },
  {
   "cell_type": "markdown",
   "metadata": {
    "id": "rDoOMd3uTqnZ"
   },
   "source": [
    "Оценим формат таблицы, для этого выведем на экран первые десять строк таблицы:"
   ]
  },
  {
   "cell_type": "code",
   "execution_count": 3,
   "metadata": {
    "id": "oWTVX3gW_Zct"
   },
   "outputs": [
    {
     "data": {
      "text/html": [
       "<div>\n",
       "<style scoped>\n",
       "    .dataframe tbody tr th:only-of-type {\n",
       "        vertical-align: middle;\n",
       "    }\n",
       "\n",
       "    .dataframe tbody tr th {\n",
       "        vertical-align: top;\n",
       "    }\n",
       "\n",
       "    .dataframe thead th {\n",
       "        text-align: right;\n",
       "    }\n",
       "</style>\n",
       "<table border=\"1\" class=\"dataframe\">\n",
       "  <thead>\n",
       "    <tr style=\"text-align: right;\">\n",
       "      <th></th>\n",
       "      <th>userID</th>\n",
       "      <th>Track</th>\n",
       "      <th>artist</th>\n",
       "      <th>genre</th>\n",
       "      <th>City</th>\n",
       "      <th>time</th>\n",
       "      <th>Day</th>\n",
       "    </tr>\n",
       "  </thead>\n",
       "  <tbody>\n",
       "    <tr>\n",
       "      <th>0</th>\n",
       "      <td>FFB692EC</td>\n",
       "      <td>Kamigata To Boots</td>\n",
       "      <td>The Mass Missile</td>\n",
       "      <td>rock</td>\n",
       "      <td>Saint-Petersburg</td>\n",
       "      <td>20:28:33</td>\n",
       "      <td>Wednesday</td>\n",
       "    </tr>\n",
       "    <tr>\n",
       "      <th>1</th>\n",
       "      <td>55204538</td>\n",
       "      <td>Delayed Because of Accident</td>\n",
       "      <td>Andreas Rönnberg</td>\n",
       "      <td>rock</td>\n",
       "      <td>Moscow</td>\n",
       "      <td>14:07:09</td>\n",
       "      <td>Friday</td>\n",
       "    </tr>\n",
       "    <tr>\n",
       "      <th>2</th>\n",
       "      <td>20EC38</td>\n",
       "      <td>Funiculì funiculà</td>\n",
       "      <td>Mario Lanza</td>\n",
       "      <td>pop</td>\n",
       "      <td>Saint-Petersburg</td>\n",
       "      <td>20:58:07</td>\n",
       "      <td>Wednesday</td>\n",
       "    </tr>\n",
       "    <tr>\n",
       "      <th>3</th>\n",
       "      <td>A3DD03C9</td>\n",
       "      <td>Dragons in the Sunset</td>\n",
       "      <td>Fire + Ice</td>\n",
       "      <td>folk</td>\n",
       "      <td>Saint-Petersburg</td>\n",
       "      <td>08:37:09</td>\n",
       "      <td>Monday</td>\n",
       "    </tr>\n",
       "    <tr>\n",
       "      <th>4</th>\n",
       "      <td>E2DC1FAE</td>\n",
       "      <td>Soul People</td>\n",
       "      <td>Space Echo</td>\n",
       "      <td>dance</td>\n",
       "      <td>Moscow</td>\n",
       "      <td>08:34:34</td>\n",
       "      <td>Monday</td>\n",
       "    </tr>\n",
       "    <tr>\n",
       "      <th>5</th>\n",
       "      <td>842029A1</td>\n",
       "      <td>Преданная</td>\n",
       "      <td>IMPERVTOR</td>\n",
       "      <td>rusrap</td>\n",
       "      <td>Saint-Petersburg</td>\n",
       "      <td>13:09:41</td>\n",
       "      <td>Friday</td>\n",
       "    </tr>\n",
       "    <tr>\n",
       "      <th>6</th>\n",
       "      <td>4CB90AA5</td>\n",
       "      <td>True</td>\n",
       "      <td>Roman Messer</td>\n",
       "      <td>dance</td>\n",
       "      <td>Moscow</td>\n",
       "      <td>13:00:07</td>\n",
       "      <td>Wednesday</td>\n",
       "    </tr>\n",
       "    <tr>\n",
       "      <th>7</th>\n",
       "      <td>F03E1C1F</td>\n",
       "      <td>Feeling This Way</td>\n",
       "      <td>Polina Griffith</td>\n",
       "      <td>dance</td>\n",
       "      <td>Moscow</td>\n",
       "      <td>20:47:49</td>\n",
       "      <td>Wednesday</td>\n",
       "    </tr>\n",
       "    <tr>\n",
       "      <th>8</th>\n",
       "      <td>8FA1D3BE</td>\n",
       "      <td>И вновь продолжается бой</td>\n",
       "      <td>NaN</td>\n",
       "      <td>ruspop</td>\n",
       "      <td>Moscow</td>\n",
       "      <td>09:17:40</td>\n",
       "      <td>Friday</td>\n",
       "    </tr>\n",
       "    <tr>\n",
       "      <th>9</th>\n",
       "      <td>E772D5C0</td>\n",
       "      <td>Pessimist</td>\n",
       "      <td>NaN</td>\n",
       "      <td>dance</td>\n",
       "      <td>Saint-Petersburg</td>\n",
       "      <td>21:20:49</td>\n",
       "      <td>Wednesday</td>\n",
       "    </tr>\n",
       "  </tbody>\n",
       "</table>\n",
       "</div>"
      ],
      "text/plain": [
       "     userID                        Track            artist   genre  \\\n",
       "0  FFB692EC            Kamigata To Boots  The Mass Missile    rock   \n",
       "1  55204538  Delayed Because of Accident  Andreas Rönnberg    rock   \n",
       "2    20EC38            Funiculì funiculà       Mario Lanza     pop   \n",
       "3  A3DD03C9        Dragons in the Sunset        Fire + Ice    folk   \n",
       "4  E2DC1FAE                  Soul People        Space Echo   dance   \n",
       "5  842029A1                    Преданная         IMPERVTOR  rusrap   \n",
       "6  4CB90AA5                         True      Roman Messer   dance   \n",
       "7  F03E1C1F             Feeling This Way   Polina Griffith   dance   \n",
       "8  8FA1D3BE     И вновь продолжается бой               NaN  ruspop   \n",
       "9  E772D5C0                    Pessimist               NaN   dance   \n",
       "\n",
       "             City        time        Day  \n",
       "0  Saint-Petersburg  20:28:33  Wednesday  \n",
       "1            Moscow  14:07:09     Friday  \n",
       "2  Saint-Petersburg  20:58:07  Wednesday  \n",
       "3  Saint-Petersburg  08:37:09     Monday  \n",
       "4            Moscow  08:34:34     Monday  \n",
       "5  Saint-Petersburg  13:09:41     Friday  \n",
       "6            Moscow  13:00:07  Wednesday  \n",
       "7            Moscow  20:47:49  Wednesday  \n",
       "8            Moscow  09:17:40     Friday  \n",
       "9  Saint-Petersburg  21:20:49  Wednesday  "
      ]
     },
     "execution_count": 3,
     "metadata": {},
     "output_type": "execute_result"
    }
   ],
   "source": [
    "df.head(10)"
   ]
  },
  {
   "cell_type": "markdown",
   "metadata": {
    "id": "EO73Kwic_Zct"
   },
   "source": [
    "Получим общую информацию о таблице и проверим её соответствие документации:"
   ]
  },
  {
   "cell_type": "code",
   "execution_count": 4,
   "metadata": {
    "id": "DSf2kIb-_Zct"
   },
   "outputs": [
    {
     "name": "stdout",
     "output_type": "stream",
     "text": [
      "<class 'pandas.core.frame.DataFrame'>\n",
      "RangeIndex: 65079 entries, 0 to 65078\n",
      "Data columns (total 7 columns):\n",
      " #   Column    Non-Null Count  Dtype \n",
      "---  ------    --------------  ----- \n",
      " 0     userID  65079 non-null  object\n",
      " 1   Track     63848 non-null  object\n",
      " 2   artist    57876 non-null  object\n",
      " 3   genre     63881 non-null  object\n",
      " 4     City    65079 non-null  object\n",
      " 5   time      65079 non-null  object\n",
      " 6   Day       65079 non-null  object\n",
      "dtypes: object(7)\n",
      "memory usage: 3.5+ MB\n"
     ]
    }
   ],
   "source": [
    "df.info()"
   ]
  },
  {
   "cell_type": "markdown",
   "metadata": {
    "id": "TaQ2Iwbr_Zct"
   },
   "source": [
    "Итак, в таблице семь столбцов. Тип данных во всех столбцах — `object`.\n",
    "\n",
    "Согласно документации к данным:\n",
    "* `userID` — идентификатор пользователя;\n",
    "* `Track` — название трека;  \n",
    "* `artist` — имя исполнителя;\n",
    "* `genre` — название жанра;\n",
    "* `City` — город пользователя;\n",
    "* `time` — время начала прослушивания;\n",
    "* `Day` — день недели.\n",
    "\n",
    "В названиях колонок видны три нарушения стиля:\n",
    "1. Строчные буквы сочетаются с прописными.\n",
    "2. Встречаются пробелы.\n",
    "3. Идентификатор пользователя `userID` нужно записать \"змеиным регистром\" — `user_id`.\n",
    "\n",
    "\n",
    "\n",
    "Количество значений в столбцах различается. Значит, в данных есть пропущенные значения.\n"
   ]
  },
  {
   "cell_type": "markdown",
   "metadata": {
    "id": "MCB6-dXG_Zct"
   },
   "source": [
    "**Выводы**\n",
    "\n",
    "В каждой строке таблицы — данные о прослушанном треке. Часть колонок описывает саму композицию: название, исполнителя и жанр. Остальные данные рассказывают о пользователе: из какого он города, когда он слушал музыку. \n",
    "\n",
    "Предварительно можно утверждать, что, данных достаточно для проверки гипотез. Но встречаются пропуски в данных, а в названиях колонок — расхождения с хорошим стилем.\n",
    "\n",
    "Чтобы двигаться дальше, нужно устранить проблемы в данных."
   ]
  },
  {
   "cell_type": "markdown",
   "metadata": {
    "id": "SjYF6Ub9_Zct"
   },
   "source": [
    "## Предобработка данных\n",
    "В ходе предобработки данных необходимо осуществить следующие шаги: \n",
    "* исправить стиль в заголовках столбцов; \n",
    "* исключить пропуски;\n",
    "* проверить данные на дубликаты."
   ]
  },
  {
   "cell_type": "markdown",
   "metadata": {
    "id": "dIaKXr29_Zct"
   },
   "source": [
    "### Стиль заголовков\n",
    "Для начала выведем на экран названия столбцов:"
   ]
  },
  {
   "cell_type": "code",
   "execution_count": 5,
   "metadata": {
    "id": "oKOTdF_Q_Zct"
   },
   "outputs": [
    {
     "data": {
      "text/plain": [
       "Index(['  userID', 'Track', 'artist', 'genre', '  City  ', 'time', 'Day'], dtype='object')"
      ]
     },
     "execution_count": 5,
     "metadata": {},
     "output_type": "execute_result"
    }
   ],
   "source": [
    "df.columns"
   ]
  },
  {
   "cell_type": "markdown",
   "metadata": {
    "id": "zj5534cv_Zct"
   },
   "source": [
    "Теперь необходимо привести названия в соответствие с хорошим стилем:\n",
    "* несколько слов в названии записать в «змеином_регистре»,\n",
    "* все символы сделать строчными,\n",
    "* устранить пробелы.\n",
    "\n",
    "В результате колонки будут переименованы так:\n",
    "* `'  userID'` → `'user_id'`;\n",
    "* `'Track'` → `'track'`;\n",
    "* `'  City  '` → `'city'`;\n",
    "* `'Day'` → `'day'`."
   ]
  },
  {
   "cell_type": "code",
   "execution_count": 6,
   "metadata": {
    "id": "ISlFqs5y_Zct"
   },
   "outputs": [],
   "source": [
    "df = df.rename(columns={'  userID': 'user_id', 'Track': 'track', '  City  ': 'city', 'Day': 'day'}) # переименование столбцов"
   ]
  },
  {
   "cell_type": "markdown",
   "metadata": {
    "id": "1dqbh00J_Zct"
   },
   "source": [
    "Чтобы проверить результат переименования, снова выведем на экран названия столбцов:"
   ]
  },
  {
   "cell_type": "code",
   "execution_count": 7,
   "metadata": {
    "id": "d4NOAmTW_Zct"
   },
   "outputs": [
    {
     "data": {
      "text/plain": [
       "Index(['user_id', 'track', 'artist', 'genre', 'city', 'time', 'day'], dtype='object')"
      ]
     },
     "execution_count": 7,
     "metadata": {},
     "output_type": "execute_result"
    }
   ],
   "source": [
    "df.columns"
   ]
  },
  {
   "cell_type": "markdown",
   "metadata": {},
   "source": [
    "Переименование выполнено успешно."
   ]
  },
  {
   "cell_type": "markdown",
   "metadata": {
    "id": "5ISfbcfY_Zct"
   },
   "source": [
    "### Пропуски значений\n",
    "Перейдем к работе с пропусками значений. \n",
    "Для начала посчитаем их количество: "
   ]
  },
  {
   "cell_type": "code",
   "execution_count": 8,
   "metadata": {
    "id": "RskX29qr_Zct"
   },
   "outputs": [
    {
     "data": {
      "text/plain": [
       "user_id       0\n",
       "track      1231\n",
       "artist     7203\n",
       "genre      1198\n",
       "city          0\n",
       "time          0\n",
       "day           0\n",
       "dtype: int64"
      ]
     },
     "execution_count": 8,
     "metadata": {},
     "output_type": "execute_result"
    }
   ],
   "source": [
    "df.isna().sum()"
   ]
  },
  {
   "cell_type": "markdown",
   "metadata": {
    "id": "qubhgnlO_Zct"
   },
   "source": [
    "Не все пропущенные значения влияют на исследование. Так в `track` и `artist` пропуски не важны для нашей работы. Достаточно заменить их явными обозначениями.\n",
    "\n",
    "Но пропуски в `genre` могут помешать сравнению музыкальных вкусов в Москве и Санкт-Петербурге. Так как в рамках учебного проекта у нас нет возможности установления причин пропусков и восстановления данных, мы поступим следующим образом:\n",
    "* заполним эти пропуски явными обозначениями,\n",
    "* оценим, насколько они повредят расчётам. "
   ]
  },
  {
   "cell_type": "markdown",
   "metadata": {
    "id": "fSv2laPA_Zct"
   },
   "source": [
    "Заменим пропущенные значения в столбцах `track`, `artist` и `genre` на строку `'unknown'`. Для этого создадим список `columns_to_replace`, переберем его элементы циклом `for` и для каждого столбца выполним замену пропущенных значений:"
   ]
  },
  {
   "cell_type": "code",
   "execution_count": 9,
   "metadata": {
    "id": "KplB5qWs_Zct"
   },
   "outputs": [],
   "source": [
    "columns_to_replace = ['track', 'artist', 'genre']\n",
    "for column in columns_to_replace:\n",
    "    df[column] = df[column].fillna('unknown')"
   ]
  },
  {
   "cell_type": "markdown",
   "metadata": {
    "id": "Ilsm-MZo_Zct"
   },
   "source": [
    "Убедимся, что в таблице не осталось пропусков. Для этого ещё раз посчитаем пропущенные значения:"
   ]
  },
  {
   "cell_type": "code",
   "execution_count": 10,
   "metadata": {
    "id": "Tq4nYRX4_Zct"
   },
   "outputs": [
    {
     "data": {
      "text/plain": [
       "user_id    0\n",
       "track      0\n",
       "artist     0\n",
       "genre      0\n",
       "city       0\n",
       "time       0\n",
       "day        0\n",
       "dtype: int64"
      ]
     },
     "execution_count": 10,
     "metadata": {},
     "output_type": "execute_result"
    }
   ],
   "source": [
    "df.isna().sum()"
   ]
  },
  {
   "cell_type": "markdown",
   "metadata": {},
   "source": [
    "По результатам подсчета можно увидеть, что пропуски успешно устранены."
   ]
  },
  {
   "cell_type": "markdown",
   "metadata": {
    "id": "BWKRtBJ3_Zct"
   },
   "source": [
    "### Дубликаты\n",
    "Переходим к последнему этапу предобработки данных — работе с дубликатами.\n",
    "Посчитаем явные дубликаты:"
   ]
  },
  {
   "cell_type": "code",
   "execution_count": 11,
   "metadata": {
    "id": "36eES_S0_Zct"
   },
   "outputs": [
    {
     "data": {
      "text/plain": [
       "3826"
      ]
     },
     "execution_count": 11,
     "metadata": {},
     "output_type": "execute_result"
    }
   ],
   "source": [
    "df.duplicated().sum()"
   ]
  },
  {
   "cell_type": "markdown",
   "metadata": {
    "id": "Ot25h6XR_Zct"
   },
   "source": [
    "Удалим явные дубликаты (с удалением старых индексов и формированием новых): "
   ]
  },
  {
   "cell_type": "code",
   "execution_count": 12,
   "metadata": {
    "id": "exFHq6tt_Zct"
   },
   "outputs": [],
   "source": [
    "df = df.drop_duplicates().reset_index(drop=True)"
   ]
  },
  {
   "cell_type": "markdown",
   "metadata": {
    "id": "Im2YwBEG_Zct"
   },
   "source": [
    "Ещё раз посчитаем явные дубликаты в таблице — убедимся, что полностью от них избавились:"
   ]
  },
  {
   "cell_type": "code",
   "execution_count": 13,
   "metadata": {
    "id": "-8PuNWQ0_Zct"
   },
   "outputs": [
    {
     "data": {
      "text/plain": [
       "0"
      ]
     },
     "execution_count": 13,
     "metadata": {},
     "output_type": "execute_result"
    }
   ],
   "source": [
    "df.duplicated().sum()"
   ]
  },
  {
   "cell_type": "markdown",
   "metadata": {
    "id": "QlFBsxAr_Zct"
   },
   "source": [
    "Теперь избавимся от неявных дубликатов в колонке `genre`. В этой колонке, название одного и того же жанра может быть записано немного по-разному. Такие ошибки тоже повлияют на результат исследования."
   ]
  },
  {
   "cell_type": "markdown",
   "metadata": {
    "id": "eSjWwsOh_Zct"
   },
   "source": [
    "Выведем на экран список уникальных названий жанров, отсортированный в алфавитном порядке. Для этого:\n",
    "* извлечем нужный столбец датафрейма, \n",
    "* применим к нему метод сортировки,\n",
    "* для отсортированного столбца вызовем метод, который вернёт уникальные значения из столбца."
   ]
  },
  {
   "cell_type": "code",
   "execution_count": 14,
   "metadata": {
    "id": "JIUcqzZN_Zct"
   },
   "outputs": [
    {
     "data": {
      "text/plain": [
       "array(['acid', 'acoustic', 'action', 'adult', 'africa', 'afrikaans',\n",
       "       'alternative', 'alternativepunk', 'ambient', 'americana',\n",
       "       'animated', 'anime', 'arabesk', 'arabic', 'arena',\n",
       "       'argentinetango', 'art', 'audiobook', 'author', 'avantgarde',\n",
       "       'axé', 'baile', 'balkan', 'beats', 'bigroom', 'black', 'bluegrass',\n",
       "       'blues', 'bollywood', 'bossa', 'brazilian', 'breakbeat', 'breaks',\n",
       "       'broadway', 'cantautori', 'cantopop', 'canzone', 'caribbean',\n",
       "       'caucasian', 'celtic', 'chamber', 'chanson', 'children', 'chill',\n",
       "       'chinese', 'choral', 'christian', 'christmas', 'classical',\n",
       "       'classicmetal', 'club', 'colombian', 'comedy', 'conjazz',\n",
       "       'contemporary', 'country', 'cuban', 'dance', 'dancehall',\n",
       "       'dancepop', 'dark', 'death', 'deep', 'deutschrock', 'deutschspr',\n",
       "       'dirty', 'disco', 'dnb', 'documentary', 'downbeat', 'downtempo',\n",
       "       'drum', 'dub', 'dubstep', 'eastern', 'easy', 'electronic',\n",
       "       'electropop', 'emo', 'entehno', 'epicmetal', 'estrada', 'ethnic',\n",
       "       'eurofolk', 'european', 'experimental', 'extrememetal', 'fado',\n",
       "       'fairytail', 'film', 'fitness', 'flamenco', 'folk', 'folklore',\n",
       "       'folkmetal', 'folkrock', 'folktronica', 'forró', 'frankreich',\n",
       "       'französisch', 'french', 'funk', 'future', 'gangsta', 'garage',\n",
       "       'german', 'ghazal', 'gitarre', 'glitch', 'gospel', 'gothic',\n",
       "       'grime', 'grunge', 'gypsy', 'handsup', \"hard'n'heavy\", 'hardcore',\n",
       "       'hardstyle', 'hardtechno', 'hip', 'hip-hop', 'hiphop',\n",
       "       'historisch', 'holiday', 'hop', 'horror', 'house', 'hymn', 'idm',\n",
       "       'independent', 'indian', 'indie', 'indipop', 'industrial',\n",
       "       'inspirational', 'instrumental', 'international', 'irish', 'jam',\n",
       "       'japanese', 'jazz', 'jewish', 'jpop', 'jungle', 'k-pop',\n",
       "       'karadeniz', 'karaoke', 'kayokyoku', 'korean', 'laiko', 'latin',\n",
       "       'latino', 'leftfield', 'local', 'lounge', 'loungeelectronic',\n",
       "       'lovers', 'malaysian', 'mandopop', 'marschmusik', 'meditative',\n",
       "       'mediterranean', 'melodic', 'metal', 'metalcore', 'mexican',\n",
       "       'middle', 'minimal', 'miscellaneous', 'modern', 'mood', 'mpb',\n",
       "       'muslim', 'native', 'neoklassik', 'neue', 'new', 'newage',\n",
       "       'newwave', 'nu', 'nujazz', 'numetal', 'oceania', 'old', 'opera',\n",
       "       'orchestral', 'other', 'piano', 'podcasts', 'pop', 'popdance',\n",
       "       'popelectronic', 'popeurodance', 'poprussian', 'post',\n",
       "       'posthardcore', 'postrock', 'power', 'progmetal', 'progressive',\n",
       "       'psychedelic', 'punjabi', 'punk', 'quebecois', 'ragga', 'ram',\n",
       "       'rancheras', 'rap', 'rave', 'reggae', 'reggaeton', 'regional',\n",
       "       'relax', 'religious', 'retro', 'rhythm', 'rnb', 'rnr', 'rock',\n",
       "       'rockabilly', 'rockalternative', 'rockindie', 'rockother',\n",
       "       'romance', 'roots', 'ruspop', 'rusrap', 'rusrock', 'russian',\n",
       "       'salsa', 'samba', 'scenic', 'schlager', 'self', 'sertanejo',\n",
       "       'shanson', 'shoegazing', 'showtunes', 'singer', 'ska', 'skarock',\n",
       "       'slow', 'smooth', 'soft', 'soul', 'soulful', 'sound', 'soundtrack',\n",
       "       'southern', 'specialty', 'speech', 'spiritual', 'sport',\n",
       "       'stonerrock', 'surf', 'swing', 'synthpop', 'synthrock',\n",
       "       'sängerportrait', 'tango', 'tanzorchester', 'taraftar', 'tatar',\n",
       "       'tech', 'techno', 'teen', 'thrash', 'top', 'traditional',\n",
       "       'tradjazz', 'trance', 'tribal', 'trip', 'triphop', 'tropical',\n",
       "       'türk', 'türkçe', 'ukrrock', 'unknown', 'urban', 'uzbek',\n",
       "       'variété', 'vi', 'videogame', 'vocal', 'western', 'world',\n",
       "       'worldbeat', 'ïîï', 'электроника'], dtype=object)"
      ]
     },
     "execution_count": 14,
     "metadata": {},
     "output_type": "execute_result"
    }
   ],
   "source": [
    "df['genre'].sort_values().unique()"
   ]
  },
  {
   "cell_type": "markdown",
   "metadata": {
    "id": "qej-Qmuo_Zct"
   },
   "source": [
    "В списке можно обнаружить неявные дубликаты названия `hiphop`:\n",
    "\n",
    "* *hip*,\n",
    "* *hop*,\n",
    "* *hip-hop*.\n",
    "\n",
    "Чтобы очистить от них таблицу, напишем функцию `replace_wrong_genres()` с двумя параметрами: \n",
    "* `wrong_genres` — список дубликатов,\n",
    "* `correct_genre` — строка с правильным значением.\n",
    "\n",
    "Функция должна исправить колонку `genre` в таблице `df`: заменить каждое значение из списка `wrong_genres` на значение из `correct_genre`."
   ]
  },
  {
   "cell_type": "code",
   "execution_count": 15,
   "metadata": {
    "id": "ErNDkmns_Zct"
   },
   "outputs": [],
   "source": [
    "def replace_wrong_genres(wrong_genres, correct_genre): # Функция для замены неявных дубликатов\n",
    "    for wrong_genre in wrong_genres:\n",
    "        df['genre'] = df['genre'].replace(wrong_genres, correct_genre)\n",
    "duplicates = ['hip', 'hop', 'hip-hop']\n",
    "genre = 'hiphop'"
   ]
  },
  {
   "cell_type": "markdown",
   "metadata": {
    "id": "aDoBJxbA_Zct"
   },
   "source": [
    "Вызовем `replace_wrong_genres()` и передадим ей такие аргументы, чтобы она устранила неявные дубликаты: вместо `hip`, `hop` и `hip-hop` в таблице должно быть значение `hiphop`:"
   ]
  },
  {
   "cell_type": "code",
   "execution_count": 16,
   "metadata": {
    "id": "YN5i2hpmSo09"
   },
   "outputs": [],
   "source": [
    "replace_wrong_genres(duplicates, genre)  # Устранение неявных дубликатов"
   ]
  },
  {
   "cell_type": "markdown",
   "metadata": {
    "id": "zQKF16_RG15m"
   },
   "source": [
    "Проверим, прошла ли успешно замена названий жанра: \n",
    "\n",
    "*   hip\n",
    "*   hop\n",
    "*   hip-hop\n",
    "\n",
    "Выведем отсортированный список уникальных значений столбца `genre`:"
   ]
  },
  {
   "cell_type": "code",
   "execution_count": 17,
   "metadata": {
    "id": "wvixALnFG15m"
   },
   "outputs": [
    {
     "data": {
      "text/plain": [
       "array(['acid', 'acoustic', 'action', 'adult', 'africa', 'afrikaans',\n",
       "       'alternative', 'alternativepunk', 'ambient', 'americana',\n",
       "       'animated', 'anime', 'arabesk', 'arabic', 'arena',\n",
       "       'argentinetango', 'art', 'audiobook', 'author', 'avantgarde',\n",
       "       'axé', 'baile', 'balkan', 'beats', 'bigroom', 'black', 'bluegrass',\n",
       "       'blues', 'bollywood', 'bossa', 'brazilian', 'breakbeat', 'breaks',\n",
       "       'broadway', 'cantautori', 'cantopop', 'canzone', 'caribbean',\n",
       "       'caucasian', 'celtic', 'chamber', 'chanson', 'children', 'chill',\n",
       "       'chinese', 'choral', 'christian', 'christmas', 'classical',\n",
       "       'classicmetal', 'club', 'colombian', 'comedy', 'conjazz',\n",
       "       'contemporary', 'country', 'cuban', 'dance', 'dancehall',\n",
       "       'dancepop', 'dark', 'death', 'deep', 'deutschrock', 'deutschspr',\n",
       "       'dirty', 'disco', 'dnb', 'documentary', 'downbeat', 'downtempo',\n",
       "       'drum', 'dub', 'dubstep', 'eastern', 'easy', 'electronic',\n",
       "       'electropop', 'emo', 'entehno', 'epicmetal', 'estrada', 'ethnic',\n",
       "       'eurofolk', 'european', 'experimental', 'extrememetal', 'fado',\n",
       "       'fairytail', 'film', 'fitness', 'flamenco', 'folk', 'folklore',\n",
       "       'folkmetal', 'folkrock', 'folktronica', 'forró', 'frankreich',\n",
       "       'französisch', 'french', 'funk', 'future', 'gangsta', 'garage',\n",
       "       'german', 'ghazal', 'gitarre', 'glitch', 'gospel', 'gothic',\n",
       "       'grime', 'grunge', 'gypsy', 'handsup', \"hard'n'heavy\", 'hardcore',\n",
       "       'hardstyle', 'hardtechno', 'hiphop', 'historisch', 'holiday',\n",
       "       'horror', 'house', 'hymn', 'idm', 'independent', 'indian', 'indie',\n",
       "       'indipop', 'industrial', 'inspirational', 'instrumental',\n",
       "       'international', 'irish', 'jam', 'japanese', 'jazz', 'jewish',\n",
       "       'jpop', 'jungle', 'k-pop', 'karadeniz', 'karaoke', 'kayokyoku',\n",
       "       'korean', 'laiko', 'latin', 'latino', 'leftfield', 'local',\n",
       "       'lounge', 'loungeelectronic', 'lovers', 'malaysian', 'mandopop',\n",
       "       'marschmusik', 'meditative', 'mediterranean', 'melodic', 'metal',\n",
       "       'metalcore', 'mexican', 'middle', 'minimal', 'miscellaneous',\n",
       "       'modern', 'mood', 'mpb', 'muslim', 'native', 'neoklassik', 'neue',\n",
       "       'new', 'newage', 'newwave', 'nu', 'nujazz', 'numetal', 'oceania',\n",
       "       'old', 'opera', 'orchestral', 'other', 'piano', 'podcasts', 'pop',\n",
       "       'popdance', 'popelectronic', 'popeurodance', 'poprussian', 'post',\n",
       "       'posthardcore', 'postrock', 'power', 'progmetal', 'progressive',\n",
       "       'psychedelic', 'punjabi', 'punk', 'quebecois', 'ragga', 'ram',\n",
       "       'rancheras', 'rap', 'rave', 'reggae', 'reggaeton', 'regional',\n",
       "       'relax', 'religious', 'retro', 'rhythm', 'rnb', 'rnr', 'rock',\n",
       "       'rockabilly', 'rockalternative', 'rockindie', 'rockother',\n",
       "       'romance', 'roots', 'ruspop', 'rusrap', 'rusrock', 'russian',\n",
       "       'salsa', 'samba', 'scenic', 'schlager', 'self', 'sertanejo',\n",
       "       'shanson', 'shoegazing', 'showtunes', 'singer', 'ska', 'skarock',\n",
       "       'slow', 'smooth', 'soft', 'soul', 'soulful', 'sound', 'soundtrack',\n",
       "       'southern', 'specialty', 'speech', 'spiritual', 'sport',\n",
       "       'stonerrock', 'surf', 'swing', 'synthpop', 'synthrock',\n",
       "       'sängerportrait', 'tango', 'tanzorchester', 'taraftar', 'tatar',\n",
       "       'tech', 'techno', 'teen', 'thrash', 'top', 'traditional',\n",
       "       'tradjazz', 'trance', 'tribal', 'trip', 'triphop', 'tropical',\n",
       "       'türk', 'türkçe', 'ukrrock', 'unknown', 'urban', 'uzbek',\n",
       "       'variété', 'vi', 'videogame', 'vocal', 'western', 'world',\n",
       "       'worldbeat', 'ïîï', 'электроника'], dtype=object)"
      ]
     },
     "execution_count": 17,
     "metadata": {},
     "output_type": "execute_result"
    }
   ],
   "source": [
    "df['genre'].sort_values().unique() # Проверка на неявные дубликаты"
   ]
  },
  {
   "cell_type": "markdown",
   "metadata": {
    "id": "jz6a9-7HQUDd"
   },
   "source": [
    "**Выводы**\n",
    "\n",
    "Предобработка обнаружила три проблемы в данных:\n",
    "\n",
    "- нарушения в стиле заголовков,\n",
    "- пропущенные значения,\n",
    "- дубликаты — явные и неявные.\n",
    "\n",
    "Все проблемы были устранены. Мы исправили заголовки, чтобы упростить работу с таблицей. Устранили дубликаты, без них исследование станет более точным.\n",
    "\n",
    "Пропущенные значения заменили на `'unknown'`. Ещё предстоит увидеть, не повредят ли исследованию пропуски в колонке `genre`.\n",
    "\n",
    "Теперь можно перейти к проверке гипотез. "
   ]
  },
  {
   "cell_type": "markdown",
   "metadata": {
    "id": "WttZHXH0SqKk"
   },
   "source": [
    "## Проверка гипотез"
   ]
  },
  {
   "cell_type": "markdown",
   "metadata": {
    "id": "Im936VVi_Zcu"
   },
   "source": [
    "### Сравнение поведения пользователей двух столиц"
   ]
  },
  {
   "cell_type": "markdown",
   "metadata": {
    "id": "nwt_MuaL_Zcu"
   },
   "source": [
    "**Первая гипотеза** утверждает, что пользователи по-разному слушают музыку в Москве и Санкт-Петербурге. Проверим это предположение по данным о трёх днях недели — понедельнике, среде и пятнице. Для этого:\n",
    "\n",
    "* Разделим пользователей Москвы и Санкт-Петербурга\n",
    "* Сравним, сколько треков послушала каждая группа пользователей в понедельник, среду и пятницу.\n"
   ]
  },
  {
   "cell_type": "markdown",
   "metadata": {
    "id": "8Dw_YMmT_Zcu"
   },
   "source": [
    "Для начала оценим активность пользователей в каждом городе. Для этого сгруппируем данные по городу и посчитаем прослушивания в каждой группе.\n",
    "\n"
   ]
  },
  {
   "cell_type": "code",
   "execution_count": 18,
   "metadata": {
    "id": "0_Qs96oh_Zcu"
   },
   "outputs": [
    {
     "data": {
      "text/plain": [
       "city\n",
       "Moscow              42741\n",
       "Saint-Petersburg    18512\n",
       "Name: genre, dtype: int64"
      ]
     },
     "execution_count": 18,
     "metadata": {},
     "output_type": "execute_result"
    }
   ],
   "source": [
    "df.groupby('city')['genre'].count() # Подсчёт прослушиваний в каждом городе"
   ]
  },
  {
   "cell_type": "markdown",
   "metadata": {
    "id": "dzli3w8o_Zcu"
   },
   "source": [
    "В Москве прослушиваний больше, чем в Петербурге. Из этого не следует, что московские пользователи чаще слушают музыку. Просто самих пользователей в Москве больше.\n",
    "\n",
    "Теперь сгруппируем данные по дню недели и подсчитаем прослушивания в понедельник, среду и пятницу:\n"
   ]
  },
  {
   "cell_type": "code",
   "execution_count": 19,
   "metadata": {
    "id": "uZMKjiJz_Zcu"
   },
   "outputs": [
    {
     "data": {
      "text/plain": [
       "day\n",
       "Friday       21840\n",
       "Monday       21354\n",
       "Wednesday    18059\n",
       "Name: user_id, dtype: int64"
      ]
     },
     "execution_count": 19,
     "metadata": {},
     "output_type": "execute_result"
    }
   ],
   "source": [
    "df.groupby('day')['user_id'].count() # Подсчёт прослушиваний в каждый из трёх дней"
   ]
  },
  {
   "cell_type": "markdown",
   "metadata": {
    "id": "cC2tNrlL_Zcu"
   },
   "source": [
    "В среднем пользователи из двух городов менее активны по средам. Но картина может измениться, если рассмотреть каждый город в отдельности."
   ]
  },
  {
   "cell_type": "markdown",
   "metadata": {
    "id": "POzs8bGa_Zcu"
   },
   "source": [
    "Объединим эти два расчёта с помощью функции `number_tracks()`, которая посчитает прослушивания для заданного дня и города. Зададим функции два параметра:\n",
    "* день недели,\n",
    "* название города.\n",
    "\n",
    "В функции сохраним в переменную строки исходной таблицы, у которых значение:\n",
    "  * в колонке `day` равно параметру `day`,\n",
    "  * в колонке `city` равно параметру `city`.\n",
    "\n",
    "Для этого применим последовательную фильтрацию с логической индексацией.\n",
    "\n",
    "Затем посчитаем значения в столбце `user_id` получившейся таблицы. Результат сохраним в новую переменную и вернем эту переменную из функции."
   ]
  },
  {
   "cell_type": "code",
   "execution_count": 20,
   "metadata": {
    "id": "Nz3GdQB1_Zcu"
   },
   "outputs": [],
   "source": [
    "def number_tracks(day,city): # <создание функции number_tracks()>\n",
    "    track_list = df[df['day'] == day] \n",
    "    track_list = track_list[track_list['city'] == city]\n",
    "    track_list_count = track_list['user_id'].count() \n",
    "    return track_list_count\n",
    "\n",
    "# В переменной track_list_count сохраняется число значений столбца 'user_id',\n",
    "# рассчитанное методом count() для таблицы track_list.\n",
    "# Функция возвращает число - значение track_list_count.\n",
    "\n",
    "# Функция для подсчёта прослушиваний для конкретного города и дня.\n",
    "# С помощью последовательной фильтрации с логической индексацией она \n",
    "# сначала получит из исходной таблицы строки с нужным днём,\n",
    "# затем из результата отфильтрует строки с нужным городом,\n",
    "# методом count() посчитает количество значений в колонке user_id. \n",
    "# Это количество функция вернёт в качестве результата"
   ]
  },
  {
   "cell_type": "markdown",
   "metadata": {
    "id": "ytf7xFrFJQ2r"
   },
   "source": [
    "Вызовем функцию `number_tracks()` шесть раз, меняя значение параметров — так, чтобы получить данные для каждого города в каждый из трёх дней."
   ]
  },
  {
   "cell_type": "code",
   "execution_count": 21,
   "metadata": {
    "id": "rJcRATNQ_Zcu"
   },
   "outputs": [
    {
     "data": {
      "text/plain": [
       "15740"
      ]
     },
     "execution_count": 21,
     "metadata": {},
     "output_type": "execute_result"
    }
   ],
   "source": [
    "number_tracks('Monday','Moscow') # количество прослушиваний в Москве по понедельникам"
   ]
  },
  {
   "cell_type": "code",
   "execution_count": 22,
   "metadata": {
    "id": "hq_ncZ5T_Zcu"
   },
   "outputs": [
    {
     "data": {
      "text/plain": [
       "5614"
      ]
     },
     "execution_count": 22,
     "metadata": {},
     "output_type": "execute_result"
    }
   ],
   "source": [
    "number_tracks('Monday','Saint-Petersburg') # количество прослушиваний в Санкт-Петербурге по понедельникам"
   ]
  },
  {
   "cell_type": "code",
   "execution_count": 23,
   "metadata": {
    "id": "_NTy2VPU_Zcu"
   },
   "outputs": [
    {
     "data": {
      "text/plain": [
       "11056"
      ]
     },
     "execution_count": 23,
     "metadata": {},
     "output_type": "execute_result"
    }
   ],
   "source": [
    "number_tracks('Wednesday','Moscow') # количество прослушиваний в Москве по средам"
   ]
  },
  {
   "cell_type": "code",
   "execution_count": 24,
   "metadata": {
    "id": "j2y3TAwo_Zcu"
   },
   "outputs": [
    {
     "data": {
      "text/plain": [
       "7003"
      ]
     },
     "execution_count": 24,
     "metadata": {},
     "output_type": "execute_result"
    }
   ],
   "source": [
    "number_tracks('Wednesday','Saint-Petersburg') # количество прослушиваний в Санкт-Петербурге по средам"
   ]
  },
  {
   "cell_type": "code",
   "execution_count": 25,
   "metadata": {
    "id": "vYDw5u_K_Zcu"
   },
   "outputs": [
    {
     "data": {
      "text/plain": [
       "15945"
      ]
     },
     "execution_count": 25,
     "metadata": {},
     "output_type": "execute_result"
    }
   ],
   "source": [
    "number_tracks('Friday','Moscow') # количество прослушиваний в Москве по пятницам"
   ]
  },
  {
   "cell_type": "code",
   "execution_count": 26,
   "metadata": {
    "id": "8_yzFtW3_Zcu"
   },
   "outputs": [
    {
     "data": {
      "text/plain": [
       "5895"
      ]
     },
     "execution_count": 26,
     "metadata": {},
     "output_type": "execute_result"
    }
   ],
   "source": [
    "number_tracks('Friday','Saint-Petersburg') # количество прослушиваний в Санкт-Петербурге по пятницам"
   ]
  },
  {
   "cell_type": "markdown",
   "metadata": {
    "id": "7QXffbO-_Zcu"
   },
   "source": [
    "Для наглядного представления результатов подсчета, создадим c помощью конструктора `pd.DataFrame` таблицу, где\n",
    "* названия колонок — `['city', 'monday', 'wednesday', 'friday']`;\n",
    "* данные — результаты, которые вы получили с помощью `number_tracks`."
   ]
  },
  {
   "cell_type": "code",
   "execution_count": 27,
   "metadata": {
    "id": "APAcLpOr_Zcu"
   },
   "outputs": [
    {
     "data": {
      "text/html": [
       "<div>\n",
       "<style scoped>\n",
       "    .dataframe tbody tr th:only-of-type {\n",
       "        vertical-align: middle;\n",
       "    }\n",
       "\n",
       "    .dataframe tbody tr th {\n",
       "        vertical-align: top;\n",
       "    }\n",
       "\n",
       "    .dataframe thead th {\n",
       "        text-align: right;\n",
       "    }\n",
       "</style>\n",
       "<table border=\"1\" class=\"dataframe\">\n",
       "  <thead>\n",
       "    <tr style=\"text-align: right;\">\n",
       "      <th></th>\n",
       "      <th>city</th>\n",
       "      <th>monday</th>\n",
       "      <th>wednesday</th>\n",
       "      <th>friday</th>\n",
       "    </tr>\n",
       "  </thead>\n",
       "  <tbody>\n",
       "    <tr>\n",
       "      <th>0</th>\n",
       "      <td>Moscow</td>\n",
       "      <td>15740</td>\n",
       "      <td>11056</td>\n",
       "      <td>15945</td>\n",
       "    </tr>\n",
       "    <tr>\n",
       "      <th>1</th>\n",
       "      <td>Saint-Petersburg</td>\n",
       "      <td>5614</td>\n",
       "      <td>7003</td>\n",
       "      <td>5895</td>\n",
       "    </tr>\n",
       "  </tbody>\n",
       "</table>\n",
       "</div>"
      ],
      "text/plain": [
       "               city  monday  wednesday  friday\n",
       "0            Moscow   15740      11056   15945\n",
       "1  Saint-Petersburg    5614       7003    5895"
      ]
     },
     "metadata": {},
     "output_type": "display_data"
    }
   ],
   "source": [
    "columns = ['city', 'monday', 'wednesday', 'friday']\n",
    "data = [\n",
    "['Moscow', number_tracks('Monday','Moscow'),number_tracks('Wednesday','Moscow'),number_tracks('Friday','Moscow')],\n",
    "['Saint-Petersburg', number_tracks('Monday','Saint-Petersburg'),number_tracks('Wednesday','Saint-Petersburg'),number_tracks('Friday','Saint-Petersburg')]\n",
    "]\n",
    "display(pd.DataFrame(data = data, columns = columns))"
   ]
  },
  {
   "cell_type": "markdown",
   "metadata": {
    "id": "-EgPIHYu_Zcu"
   },
   "source": [
    "**Выводы**\n",
    "\n",
    "Данные показывают разницу поведения пользователей:\n",
    "\n",
    "- В Москве пик прослушиваний приходится на понедельник и пятницу, а в среду заметен спад.\n",
    "- В Петербурге, наоборот, больше слушают музыку по средам. Активность в понедельник и пятницу здесь почти в равной мере уступает среде.\n",
    "\n",
    "Значит, данные говорят в пользу первой гипотезы."
   ]
  },
  {
   "cell_type": "markdown",
   "metadata": {
    "id": "atZAxtq4_Zcu"
   },
   "source": [
    "### Музыка в начале и в конце недели"
   ]
  },
  {
   "cell_type": "markdown",
   "metadata": {
    "id": "eXrQqXFH_Zcu"
   },
   "source": [
    "Согласно **второй гипотезе**, утром в понедельник в Москве преобладают одни жанры, а в Петербурге — другие. Так же и вечером пятницы преобладают разные жанры — в зависимости от города."
   ]
  },
  {
   "cell_type": "markdown",
   "metadata": {
    "id": "S8UcW6Hw_Zcu"
   },
   "source": [
    "Сохраним таблицы с данными в две переменные:\n",
    "* по Москве — в `moscow_general`;\n",
    "* по Санкт-Петербургу — в `spb_general`."
   ]
  },
  {
   "cell_type": "code",
   "execution_count": 28,
   "metadata": {
    "id": "qeaFfM_P_Zcu"
   },
   "outputs": [],
   "source": [
    "moscow_general = df[df['city'] == 'Moscow'] # получение таблицы moscow_general из тех строк таблицы df, \n",
    "# для которых значение в столбце 'city' равно 'Moscow'\n"
   ]
  },
  {
   "cell_type": "code",
   "execution_count": 29,
   "metadata": {
    "id": "ORaVRKto_Zcu"
   },
   "outputs": [],
   "source": [
    "spb_general = df[df['city'] == 'Saint-Petersburg']  # получение таблицы spb_general из тех строк таблицы df,\n",
    "# для которых значение в столбце 'city' равно 'Saint-Petersburg'\n"
   ]
  },
  {
   "cell_type": "markdown",
   "metadata": {
    "id": "MEJV-CX2_Zcu"
   },
   "source": [
    "Создадим функцию `genre_weekday()` с четырьмя параметрами:\n",
    "* `table` — таблица (датафрейм) с данными,\n",
    "* `day` — день недели,\n",
    "* `time1` — начальная временная метка в формате 'hh:mm', \n",
    "* `time2` — последняя временная метка в формате 'hh:mm'.\n",
    "\n",
    "Функция должна вернуть информацию о топ-10 жанров тех треков, которые прослушивали в указанный день, в промежутке между двумя отметками времени."
   ]
  },
  {
   "cell_type": "code",
   "execution_count": 30,
   "metadata": {
    "id": "laJT9BYl_Zcu"
   },
   "outputs": [],
   "source": [
    "def genre_weekday(table, day, time1, time2):\n",
    "    genre_df = table[table['day'] == day] #    - значение в столбце day равно значению аргумента day\n",
    "    genre_df = genre_df[genre_df['time'] > time1] #    - значение в столбце time больше значения аргумента time1\n",
    "    genre_df = genre_df[genre_df['time'] < time2] #    - значение в столбце time меньше значения аргумента time2 \n",
    "    genre_df_count = genre_df.groupby('genre')['user_id'].count() #кол-во запесей для каждого жанра\n",
    "    genre_df_sorted = genre_df_count.sort_values(ascending=False) #сортировка жанров по убыванию\n",
    "    \n",
    "    return genre_df_sorted.head(10)\n"
   ]
  },
  {
   "cell_type": "markdown",
   "metadata": {
    "id": "la2s2_PF_Zcu"
   },
   "source": [
    "Cравним результаты функции `genre_weekday()` для Москвы и Санкт-Петербурга в понедельник утром (с 7:00 до 11:00) и в пятницу вечером (с 17:00 до 23:00):"
   ]
  },
  {
   "cell_type": "code",
   "execution_count": 31,
   "metadata": {
    "id": "yz7itPUQ_Zcu"
   },
   "outputs": [
    {
     "data": {
      "text/plain": [
       "genre\n",
       "pop            781\n",
       "dance          549\n",
       "electronic     480\n",
       "rock           474\n",
       "hiphop         286\n",
       "ruspop         186\n",
       "world          181\n",
       "rusrap         175\n",
       "alternative    164\n",
       "unknown        161\n",
       "Name: user_id, dtype: int64"
      ]
     },
     "execution_count": 31,
     "metadata": {},
     "output_type": "execute_result"
    }
   ],
   "source": [
    "genre_weekday(moscow_general, 'Monday', '07:00', '11:00') # вызов функции для утра понедельника в Москве"
   ]
  },
  {
   "cell_type": "code",
   "execution_count": 32,
   "metadata": {
    "id": "kwUcHPdy_Zcu"
   },
   "outputs": [
    {
     "data": {
      "text/plain": [
       "genre\n",
       "pop            218\n",
       "dance          182\n",
       "rock           162\n",
       "electronic     147\n",
       "hiphop          80\n",
       "ruspop          64\n",
       "alternative     58\n",
       "rusrap          55\n",
       "jazz            44\n",
       "classical       40\n",
       "Name: user_id, dtype: int64"
      ]
     },
     "execution_count": 32,
     "metadata": {},
     "output_type": "execute_result"
    }
   ],
   "source": [
    "genre_weekday(spb_general, 'Monday', '07:00', '11:00') # вызов функции для утра понедельника в Петербурге "
   ]
  },
  {
   "cell_type": "code",
   "execution_count": 33,
   "metadata": {
    "id": "EzXVRE1o_Zcu"
   },
   "outputs": [
    {
     "data": {
      "text/plain": [
       "genre\n",
       "pop            713\n",
       "rock           517\n",
       "dance          495\n",
       "electronic     482\n",
       "hiphop         273\n",
       "world          208\n",
       "ruspop         170\n",
       "alternative    163\n",
       "classical      163\n",
       "rusrap         142\n",
       "Name: user_id, dtype: int64"
      ]
     },
     "execution_count": 33,
     "metadata": {},
     "output_type": "execute_result"
    }
   ],
   "source": [
    "genre_weekday(moscow_general, 'Friday', '17:00', '23:00') # вызов функции для вечера пятницы в Москве"
   ]
  },
  {
   "cell_type": "code",
   "execution_count": 34,
   "metadata": {
    "id": "JZaEKu5v_Zcu"
   },
   "outputs": [
    {
     "data": {
      "text/plain": [
       "genre\n",
       "pop            256\n",
       "electronic     216\n",
       "rock           216\n",
       "dance          210\n",
       "hiphop          97\n",
       "alternative     63\n",
       "jazz            61\n",
       "classical       60\n",
       "rusrap          59\n",
       "world           54\n",
       "Name: user_id, dtype: int64"
      ]
     },
     "execution_count": 34,
     "metadata": {},
     "output_type": "execute_result"
    }
   ],
   "source": [
    "genre_weekday(spb_general, 'Friday', '17:00', '23:00') # вызов функции для вечера пятницы в Петербурге"
   ]
  },
  {
   "cell_type": "markdown",
   "metadata": {
    "id": "wrCe4MNX_Zcu"
   },
   "source": [
    "**Выводы**\n",
    "\n",
    "Если сравнить топ-10 жанров в понедельник утром, можно сделать такие выводы:\n",
    "\n",
    "1. В Москве и Петербурге слушают похожую музыку. Единственное отличие — в московский рейтинг вошёл жанр “world”, а в петербургский — джаз и классика.\n",
    "\n",
    "2. В Москве пропущенных значений оказалось так много, что значение `'unknown'` заняло десятое место среди самых популярных жанров. Значит, пропущенные значения занимают существенную долю в данных и угрожают достоверности исследования.\n",
    "\n",
    "Вечер пятницы не меняет эту картину. Некоторые жанры поднимаются немного выше, другие спускаются, но в целом топ-10 остаётся тем же самым.\n",
    "\n",
    "Таким образом, вторая гипотеза подтвердилась лишь частично:\n",
    "* Пользователи слушают похожую музыку в начале недели и в конце.\n",
    "* Разница между Москвой и Петербургом не слишком выражена. В Москве чаще слушают русскую популярную музыку, в Петербурге — джаз.\n",
    "\n",
    "Однако пропуски в данных ставят под сомнение этот результат. В Москве их так много, что рейтинг топ-10 мог бы выглядеть иначе, если бы не утерянные  данные о жанрах."
   ]
  },
  {
   "cell_type": "markdown",
   "metadata": {
    "id": "JolODAqr_Zcu"
   },
   "source": [
    "### Жанровые предпочтения в Москве и Петербурге\n",
    "\n",
    "**Гипотеза:** Петербург — столица рэпа, музыку этого жанра там слушают чаще, чем в Москве.  А Москва — город контрастов, в котором, тем не менее, преобладает поп-музыка."
   ]
  },
  {
   "cell_type": "markdown",
   "metadata": {
    "id": "DlegSvaT_Zcu"
   },
   "source": [
    "Сгруппируем таблицу `moscow_general` по жанру и посчитаем прослушивания треков каждого жанра методом `count()`. Затем отсортируем результат в порядке убывания и сохраним его в таблице `moscow_genres`."
   ]
  },
  {
   "cell_type": "code",
   "execution_count": 35,
   "metadata": {
    "id": "r19lIPke_Zcu"
   },
   "outputs": [],
   "source": [
    "moscow_genres = moscow_general.groupby('genre')['user_id'].count().sort_values(ascending=False)"
   ]
  },
  {
   "cell_type": "markdown",
   "metadata": {
    "id": "6kMuomxTiIr8"
   },
   "source": [
    "Выведем на экран первые десять строк `moscow_genres`:"
   ]
  },
  {
   "cell_type": "code",
   "execution_count": 36,
   "metadata": {
    "id": "WhCSooF8_Zcv"
   },
   "outputs": [
    {
     "data": {
      "text/plain": [
       "genre\n",
       "pop            5892\n",
       "dance          4435\n",
       "rock           3965\n",
       "electronic     3786\n",
       "hiphop         2096\n",
       "classical      1616\n",
       "world          1432\n",
       "alternative    1379\n",
       "ruspop         1372\n",
       "rusrap         1161\n",
       "Name: user_id, dtype: int64"
      ]
     },
     "execution_count": 36,
     "metadata": {},
     "output_type": "execute_result"
    }
   ],
   "source": [
    "moscow_genres.head(10)"
   ]
  },
  {
   "cell_type": "markdown",
   "metadata": {
    "id": "cnPG2vnN_Zcv"
   },
   "source": [
    "Теперь повторим то же и для Петербурга.\n",
    "\n",
    "Сгруппируем таблицу `spb_general` по жанру. Посчитаем прослушивания треков каждого жанра. Результат отсортируем в порядке убывания и сохраним в таблице `spb_genres`:\n"
   ]
  },
  {
   "cell_type": "code",
   "execution_count": 37,
   "metadata": {
    "id": "gluLIpE7_Zcv"
   },
   "outputs": [],
   "source": [
    "spb_genres = spb_general.groupby('genre')['user_id'].count().sort_values(ascending=False)"
   ]
  },
  {
   "cell_type": "markdown",
   "metadata": {
    "id": "5Doha_ODgyQ8"
   },
   "source": [
    "Выведем на экран первые десять строк `spb_genres`:"
   ]
  },
  {
   "cell_type": "code",
   "execution_count": 38,
   "metadata": {
    "id": "uaGJHjVU_Zcv"
   },
   "outputs": [
    {
     "data": {
      "text/plain": [
       "genre\n",
       "pop            2431\n",
       "dance          1932\n",
       "rock           1879\n",
       "electronic     1736\n",
       "hiphop          960\n",
       "alternative     649\n",
       "classical       646\n",
       "rusrap          564\n",
       "ruspop          538\n",
       "world           515\n",
       "Name: user_id, dtype: int64"
      ]
     },
     "execution_count": 38,
     "metadata": {},
     "output_type": "execute_result"
    }
   ],
   "source": [
    "spb_genres.head(10)"
   ]
  },
  {
   "cell_type": "markdown",
   "metadata": {
    "id": "RY51YJYu_Zcv"
   },
   "source": [
    "**Выводы**"
   ]
  },
  {
   "cell_type": "markdown",
   "metadata": {
    "id": "nVhnJEm__Zcv"
   },
   "source": [
    "Гипотеза частично подтвердилась:\n",
    "* Поп-музыка — самый популярный жанр в Москве, как и предполагала гипотеза. Более того, в топ-10 жанров встречается близкий жанр — русская популярная музыка.\n",
    "* Вопреки ожиданиям, рэп одинаково популярен в Москве и Петербурге. \n"
   ]
  },
  {
   "cell_type": "markdown",
   "metadata": {
    "id": "ykKQ0N65_Zcv"
   },
   "source": [
    "## Итоги исследования"
   ]
  },
  {
   "cell_type": "markdown",
   "metadata": {
    "id": "tjUwbHb3_Zcv"
   },
   "source": [
    "Мы проверили три гипотезы и установили:\n",
    "\n",
    "1. День недели по-разному влияет на активность пользователей в Москве и Петербурге. \n",
    "\n",
    "Первая гипотеза полностью подтвердилась.\n",
    "\n",
    "2. Музыкальные предпочтения не сильно меняются в течение недели — будь то Москва или Петербург. Небольшие различия заметны в начале недели, по понедельникам:\n",
    "* в Москве слушают музыку жанра “world”,\n",
    "* в Петербурге — джаз и классику.\n",
    "\n",
    "Таким образом, вторая гипотеза подтвердилась лишь отчасти. Этот результат мог оказаться иным, если бы не пропуски в данных.\n",
    "\n",
    "3. Во вкусах пользователей Москвы и Петербурга больше общего чем различий. Вопреки ожиданиям, предпочтения жанров в Петербурге напоминают московские.\n",
    "\n",
    "Третья гипотеза не подтвердилась. Если различия в предпочтениях и существуют, на основной массе пользователей они незаметны."
   ]
  }
 ],
 "metadata": {
  "ExecuteTimeLog": [
   {
    "duration": 259,
    "start_time": "2022-02-08T18:27:50.511Z"
   },
   {
    "duration": 308,
    "start_time": "2022-02-08T18:28:06.770Z"
   },
   {
    "duration": 311,
    "start_time": "2022-02-08T18:28:16.632Z"
   },
   {
    "duration": 589,
    "start_time": "2022-02-08T18:28:28.207Z"
   },
   {
    "duration": 296,
    "start_time": "2022-02-08T18:29:20.563Z"
   },
   {
    "duration": 2,
    "start_time": "2022-02-08T18:30:23.594Z"
   },
   {
    "duration": 127,
    "start_time": "2022-02-08T18:30:28.873Z"
   },
   {
    "duration": 129,
    "start_time": "2022-02-08T18:30:37.179Z"
   },
   {
    "duration": 7,
    "start_time": "2022-02-08T18:30:41.435Z"
   },
   {
    "duration": 22,
    "start_time": "2022-02-08T18:32:50.742Z"
   },
   {
    "duration": 3,
    "start_time": "2022-02-08T18:42:08.024Z"
   },
   {
    "duration": 3,
    "start_time": "2022-02-08T18:54:17.263Z"
   },
   {
    "duration": 20,
    "start_time": "2022-02-08T18:54:21.426Z"
   },
   {
    "duration": 3,
    "start_time": "2022-02-08T18:54:25.597Z"
   },
   {
    "duration": 26,
    "start_time": "2022-02-08T19:14:30.350Z"
   },
   {
    "duration": 16,
    "start_time": "2022-02-08T19:30:10.210Z"
   },
   {
    "duration": 21,
    "start_time": "2022-02-08T19:30:13.088Z"
   },
   {
    "duration": 49,
    "start_time": "2022-02-08T19:31:30.312Z"
   },
   {
    "duration": 54,
    "start_time": "2022-02-08T19:33:15.490Z"
   },
   {
    "duration": 45,
    "start_time": "2022-02-08T19:33:30.657Z"
   },
   {
    "duration": 6,
    "start_time": "2022-02-08T19:36:37.536Z"
   },
   {
    "duration": 80,
    "start_time": "2022-02-08T19:41:23.423Z"
   },
   {
    "duration": 3,
    "start_time": "2022-02-08T19:44:34.081Z"
   },
   {
    "duration": 3,
    "start_time": "2022-02-08T19:44:38.426Z"
   },
   {
    "duration": 3,
    "start_time": "2022-02-08T19:45:51.584Z"
   },
   {
    "duration": 3,
    "start_time": "2022-02-08T19:47:28.421Z"
   },
   {
    "duration": 14,
    "start_time": "2022-02-08T19:47:56.312Z"
   },
   {
    "duration": 5,
    "start_time": "2022-02-08T19:49:31.655Z"
   },
   {
    "duration": 378,
    "start_time": "2022-02-09T08:26:07.461Z"
   },
   {
    "duration": 723,
    "start_time": "2022-02-09T08:26:28.483Z"
   },
   {
    "duration": 172,
    "start_time": "2022-02-09T08:26:34.763Z"
   },
   {
    "duration": 11,
    "start_time": "2022-02-09T08:26:37.086Z"
   },
   {
    "duration": 311,
    "start_time": "2022-02-09T08:26:49.407Z"
   },
   {
    "duration": 290,
    "start_time": "2022-02-09T08:28:18.306Z"
   },
   {
    "duration": 405,
    "start_time": "2022-02-09T08:28:21.370Z"
   },
   {
    "duration": 327,
    "start_time": "2022-02-09T08:28:39.530Z"
   },
   {
    "duration": 314,
    "start_time": "2022-02-09T08:29:03.106Z"
   },
   {
    "duration": 293,
    "start_time": "2022-02-09T08:29:22.795Z"
   },
   {
    "duration": 24,
    "start_time": "2022-02-09T08:30:16.737Z"
   },
   {
    "duration": 59,
    "start_time": "2022-02-09T08:30:43.267Z"
   },
   {
    "duration": 16,
    "start_time": "2022-02-09T08:36:02.581Z"
   },
   {
    "duration": 263,
    "start_time": "2022-02-09T08:37:49.878Z"
   },
   {
    "duration": 272,
    "start_time": "2022-02-09T08:37:55.252Z"
   },
   {
    "duration": 306,
    "start_time": "2022-02-09T08:38:24.589Z"
   },
   {
    "duration": 15,
    "start_time": "2022-02-09T08:38:45.784Z"
   },
   {
    "duration": 312,
    "start_time": "2022-02-09T08:49:23.268Z"
   },
   {
    "duration": 301,
    "start_time": "2022-02-09T08:49:43.154Z"
   },
   {
    "duration": 13,
    "start_time": "2022-02-09T08:49:52.734Z"
   },
   {
    "duration": 49,
    "start_time": "2022-02-09T08:50:28.241Z"
   },
   {
    "duration": 3,
    "start_time": "2022-02-09T09:52:53.390Z"
   },
   {
    "duration": 5,
    "start_time": "2022-02-09T10:31:07.285Z"
   },
   {
    "duration": 5,
    "start_time": "2022-02-09T10:31:13.400Z"
   },
   {
    "duration": 302,
    "start_time": "2022-02-09T10:31:36.713Z"
   },
   {
    "duration": 4,
    "start_time": "2022-02-09T10:31:52.557Z"
   },
   {
    "duration": 5,
    "start_time": "2022-02-09T10:31:58.119Z"
   },
   {
    "duration": 270,
    "start_time": "2022-02-09T10:40:33.140Z"
   },
   {
    "duration": 13,
    "start_time": "2022-02-09T10:40:43.100Z"
   },
   {
    "duration": 24,
    "start_time": "2022-02-09T10:43:40.107Z"
   },
   {
    "duration": 22,
    "start_time": "2022-02-09T10:44:08.133Z"
   },
   {
    "duration": 20,
    "start_time": "2022-02-09T10:44:25.439Z"
   },
   {
    "duration": 19,
    "start_time": "2022-02-09T10:44:37.828Z"
   },
   {
    "duration": 23,
    "start_time": "2022-02-09T10:45:00.303Z"
   },
   {
    "duration": 23,
    "start_time": "2022-02-09T10:45:15.377Z"
   },
   {
    "duration": 1245,
    "start_time": "2022-02-09T10:49:13.750Z"
   },
   {
    "duration": 323,
    "start_time": "2022-02-09T10:49:33.356Z"
   },
   {
    "duration": 280,
    "start_time": "2022-02-09T10:49:46.032Z"
   },
   {
    "duration": 285,
    "start_time": "2022-02-09T10:50:16.048Z"
   },
   {
    "duration": 294,
    "start_time": "2022-02-09T10:52:20.047Z"
   },
   {
    "duration": 302,
    "start_time": "2022-02-09T10:52:43.856Z"
   },
   {
    "duration": 612,
    "start_time": "2022-02-09T10:53:46.586Z"
   },
   {
    "duration": 4,
    "start_time": "2022-02-09T10:54:17.212Z"
   },
   {
    "duration": 207,
    "start_time": "2022-02-09T10:54:17.218Z"
   },
   {
    "duration": 9,
    "start_time": "2022-02-09T10:54:17.428Z"
   },
   {
    "duration": 36,
    "start_time": "2022-02-09T10:54:17.440Z"
   },
   {
    "duration": 5,
    "start_time": "2022-02-09T10:54:17.478Z"
   },
   {
    "duration": 56,
    "start_time": "2022-02-09T10:54:17.485Z"
   },
   {
    "duration": 4,
    "start_time": "2022-02-09T10:54:17.544Z"
   },
   {
    "duration": 31,
    "start_time": "2022-02-09T10:54:17.550Z"
   },
   {
    "duration": 21,
    "start_time": "2022-02-09T10:54:17.586Z"
   },
   {
    "duration": 30,
    "start_time": "2022-02-09T10:54:17.633Z"
   },
   {
    "duration": 97,
    "start_time": "2022-02-09T10:54:17.666Z"
   },
   {
    "duration": 97,
    "start_time": "2022-02-09T10:54:17.766Z"
   },
   {
    "duration": 79,
    "start_time": "2022-02-09T10:54:17.865Z"
   },
   {
    "duration": 8,
    "start_time": "2022-02-09T10:54:17.946Z"
   },
   {
    "duration": 6,
    "start_time": "2022-02-09T10:54:17.956Z"
   },
   {
    "duration": 22,
    "start_time": "2022-02-09T10:54:17.965Z"
   },
   {
    "duration": 8,
    "start_time": "2022-02-09T10:54:17.989Z"
   },
   {
    "duration": 78,
    "start_time": "2022-02-09T10:54:18.000Z"
   },
   {
    "duration": 54,
    "start_time": "2022-02-09T10:54:18.080Z"
   },
   {
    "duration": 4,
    "start_time": "2022-02-09T10:54:18.137Z"
   },
   {
    "duration": 28,
    "start_time": "2022-02-09T10:54:18.143Z"
   },
   {
    "duration": 19,
    "start_time": "2022-02-09T10:54:18.173Z"
   },
   {
    "duration": 52,
    "start_time": "2022-02-09T10:54:18.194Z"
   },
   {
    "duration": 23,
    "start_time": "2022-02-09T10:54:18.249Z"
   },
   {
    "duration": 22,
    "start_time": "2022-02-09T10:54:18.274Z"
   },
   {
    "duration": 46,
    "start_time": "2022-02-09T10:54:18.299Z"
   },
   {
    "duration": 317,
    "start_time": "2022-02-09T10:54:18.350Z"
   },
   {
    "duration": -1444,
    "start_time": "2022-02-09T10:54:20.114Z"
   },
   {
    "duration": -1444,
    "start_time": "2022-02-09T10:54:20.116Z"
   },
   {
    "duration": -1445,
    "start_time": "2022-02-09T10:54:20.118Z"
   },
   {
    "duration": -1446,
    "start_time": "2022-02-09T10:54:20.121Z"
   },
   {
    "duration": -1447,
    "start_time": "2022-02-09T10:54:20.123Z"
   },
   {
    "duration": -1449,
    "start_time": "2022-02-09T10:54:20.127Z"
   },
   {
    "duration": -1453,
    "start_time": "2022-02-09T10:54:20.132Z"
   },
   {
    "duration": -1453,
    "start_time": "2022-02-09T10:54:20.134Z"
   },
   {
    "duration": -1456,
    "start_time": "2022-02-09T10:54:20.138Z"
   },
   {
    "duration": -1457,
    "start_time": "2022-02-09T10:54:20.140Z"
   },
   {
    "duration": -1458,
    "start_time": "2022-02-09T10:54:20.143Z"
   },
   {
    "duration": 293,
    "start_time": "2022-02-09T10:54:53.954Z"
   },
   {
    "duration": 384,
    "start_time": "2022-02-09T10:59:15.442Z"
   },
   {
    "duration": 620,
    "start_time": "2022-02-09T10:59:37.726Z"
   },
   {
    "duration": 85,
    "start_time": "2022-02-09T10:59:47.350Z"
   },
   {
    "duration": 17,
    "start_time": "2022-02-09T12:31:53.061Z"
   },
   {
    "duration": 13,
    "start_time": "2022-02-09T12:32:35.618Z"
   },
   {
    "duration": 5,
    "start_time": "2022-02-09T13:17:34.874Z"
   },
   {
    "duration": 6,
    "start_time": "2022-02-09T13:18:16.231Z"
   },
   {
    "duration": 26,
    "start_time": "2022-02-09T13:18:59.801Z"
   },
   {
    "duration": 18,
    "start_time": "2022-02-09T13:19:29.488Z"
   },
   {
    "duration": 17,
    "start_time": "2022-02-09T13:19:37.155Z"
   },
   {
    "duration": 23,
    "start_time": "2022-02-09T13:21:05.019Z"
   },
   {
    "duration": 18,
    "start_time": "2022-02-09T13:21:28.199Z"
   },
   {
    "duration": 337,
    "start_time": "2022-02-09T13:36:03.026Z"
   },
   {
    "duration": 12,
    "start_time": "2022-02-09T13:36:28.711Z"
   },
   {
    "duration": 8,
    "start_time": "2022-02-09T13:36:53.863Z"
   },
   {
    "duration": 9,
    "start_time": "2022-02-09T13:39:07.803Z"
   },
   {
    "duration": 6,
    "start_time": "2022-02-09T13:39:28.863Z"
   },
   {
    "duration": 32,
    "start_time": "2022-02-09T13:52:52.621Z"
   },
   {
    "duration": 17,
    "start_time": "2022-02-09T13:53:02.714Z"
   },
   {
    "duration": 26,
    "start_time": "2022-02-09T13:53:10.223Z"
   },
   {
    "duration": 16,
    "start_time": "2022-02-09T13:53:19.116Z"
   },
   {
    "duration": 21,
    "start_time": "2022-02-09T13:54:17.866Z"
   },
   {
    "duration": 4,
    "start_time": "2022-02-09T13:54:32.569Z"
   },
   {
    "duration": 6,
    "start_time": "2022-02-09T13:54:39.556Z"
   },
   {
    "duration": 22,
    "start_time": "2022-02-09T13:54:51.536Z"
   },
   {
    "duration": 24,
    "start_time": "2022-02-09T13:55:23.552Z"
   },
   {
    "duration": 16,
    "start_time": "2022-02-09T14:40:24.727Z"
   },
   {
    "duration": 15,
    "start_time": "2022-02-09T14:40:28.938Z"
   },
   {
    "duration": 16,
    "start_time": "2022-02-09T14:40:46.878Z"
   },
   {
    "duration": 15,
    "start_time": "2022-02-09T14:41:03.057Z"
   },
   {
    "duration": 21,
    "start_time": "2022-02-09T14:41:25.258Z"
   },
   {
    "duration": 285,
    "start_time": "2022-02-10T07:14:09.676Z"
   },
   {
    "duration": 561,
    "start_time": "2022-02-10T07:14:24.840Z"
   },
   {
    "duration": 131,
    "start_time": "2022-02-10T07:14:25.403Z"
   },
   {
    "duration": 17,
    "start_time": "2022-02-10T07:14:25.537Z"
   },
   {
    "duration": 24,
    "start_time": "2022-02-10T07:14:25.556Z"
   },
   {
    "duration": 3,
    "start_time": "2022-02-10T07:14:25.582Z"
   },
   {
    "duration": 43,
    "start_time": "2022-02-10T07:14:25.587Z"
   },
   {
    "duration": 4,
    "start_time": "2022-02-10T07:14:25.632Z"
   },
   {
    "duration": 24,
    "start_time": "2022-02-10T07:14:25.638Z"
   },
   {
    "duration": 17,
    "start_time": "2022-02-10T07:14:25.664Z"
   },
   {
    "duration": 48,
    "start_time": "2022-02-10T07:14:25.682Z"
   },
   {
    "duration": 56,
    "start_time": "2022-02-10T07:14:25.732Z"
   },
   {
    "duration": 89,
    "start_time": "2022-02-10T07:14:25.789Z"
   },
   {
    "duration": 58,
    "start_time": "2022-02-10T07:14:25.880Z"
   },
   {
    "duration": 9,
    "start_time": "2022-02-10T07:14:25.940Z"
   },
   {
    "duration": 3,
    "start_time": "2022-02-10T07:14:25.950Z"
   },
   {
    "duration": 17,
    "start_time": "2022-02-10T07:14:25.954Z"
   },
   {
    "duration": 9,
    "start_time": "2022-02-10T07:14:25.972Z"
   },
   {
    "duration": 34,
    "start_time": "2022-02-10T07:14:25.983Z"
   },
   {
    "duration": 30,
    "start_time": "2022-02-10T07:14:26.018Z"
   },
   {
    "duration": 3,
    "start_time": "2022-02-10T07:14:26.050Z"
   },
   {
    "duration": 20,
    "start_time": "2022-02-10T07:14:26.054Z"
   },
   {
    "duration": 43,
    "start_time": "2022-02-10T07:14:26.076Z"
   },
   {
    "duration": 14,
    "start_time": "2022-02-10T07:14:26.123Z"
   },
   {
    "duration": 14,
    "start_time": "2022-02-10T07:14:26.139Z"
   },
   {
    "duration": 16,
    "start_time": "2022-02-10T07:14:26.155Z"
   },
   {
    "duration": 44,
    "start_time": "2022-02-10T07:14:26.173Z"
   },
   {
    "duration": 65,
    "start_time": "2022-02-10T07:14:26.219Z"
   },
   {
    "duration": 32,
    "start_time": "2022-02-10T07:14:26.285Z"
   },
   {
    "duration": 9,
    "start_time": "2022-02-10T07:14:26.319Z"
   },
   {
    "duration": 5,
    "start_time": "2022-02-10T07:14:26.330Z"
   },
   {
    "duration": 27,
    "start_time": "2022-02-10T07:14:26.337Z"
   },
   {
    "duration": 15,
    "start_time": "2022-02-10T07:14:26.366Z"
   },
   {
    "duration": 46,
    "start_time": "2022-02-10T07:14:26.383Z"
   },
   {
    "duration": 15,
    "start_time": "2022-02-10T07:14:26.431Z"
   },
   {
    "duration": 8,
    "start_time": "2022-02-10T07:14:26.447Z"
   },
   {
    "duration": 4,
    "start_time": "2022-02-10T07:14:26.457Z"
   },
   {
    "duration": 15,
    "start_time": "2022-02-10T07:14:26.462Z"
   },
   {
    "duration": 35,
    "start_time": "2022-02-10T07:14:26.478Z"
   },
   {
    "duration": 12,
    "start_time": "2022-02-10T07:15:47.732Z"
   },
   {
    "duration": 11,
    "start_time": "2022-02-10T07:16:02.904Z"
   },
   {
    "duration": 5,
    "start_time": "2022-02-10T07:33:14.890Z"
   },
   {
    "duration": 23,
    "start_time": "2022-02-10T07:48:21.904Z"
   },
   {
    "duration": 22,
    "start_time": "2022-02-10T07:48:31.627Z"
   },
   {
    "duration": 2,
    "start_time": "2022-02-10T08:35:21.657Z"
   },
   {
    "duration": 133,
    "start_time": "2022-02-10T08:36:13.764Z"
   },
   {
    "duration": 10,
    "start_time": "2022-02-10T08:48:01.842Z"
   },
   {
    "duration": 23,
    "start_time": "2022-02-10T08:49:59.267Z"
   },
   {
    "duration": 4,
    "start_time": "2022-02-10T08:55:22.427Z"
   },
   {
    "duration": 4,
    "start_time": "2022-02-10T08:59:22.349Z"
   },
   {
    "duration": 16,
    "start_time": "2022-02-10T08:59:57.719Z"
   },
   {
    "duration": 4,
    "start_time": "2022-02-10T09:00:00.933Z"
   },
   {
    "duration": 74,
    "start_time": "2022-02-10T09:01:02.584Z"
   },
   {
    "duration": 23,
    "start_time": "2022-02-10T09:08:49.498Z"
   },
   {
    "duration": 22,
    "start_time": "2022-02-10T09:09:10.184Z"
   },
   {
    "duration": 22,
    "start_time": "2022-02-10T09:09:21.357Z"
   },
   {
    "duration": 23,
    "start_time": "2022-02-10T09:09:27.775Z"
   },
   {
    "duration": 18,
    "start_time": "2022-02-10T09:17:20.819Z"
   },
   {
    "duration": 39,
    "start_time": "2022-02-10T09:18:00.164Z"
   },
   {
    "duration": 60,
    "start_time": "2022-02-10T09:28:32.765Z"
   },
   {
    "duration": 62,
    "start_time": "2022-02-10T09:30:15.307Z"
   },
   {
    "duration": 48,
    "start_time": "2022-02-10T09:30:51.453Z"
   },
   {
    "duration": 11,
    "start_time": "2022-02-10T09:33:22.788Z"
   },
   {
    "duration": 10,
    "start_time": "2022-02-10T10:09:13.398Z"
   },
   {
    "duration": 18,
    "start_time": "2022-02-10T10:17:29.029Z"
   },
   {
    "duration": 15,
    "start_time": "2022-02-10T10:17:40.553Z"
   },
   {
    "duration": 15,
    "start_time": "2022-02-10T10:17:51.705Z"
   },
   {
    "duration": 15,
    "start_time": "2022-02-10T10:17:58.989Z"
   },
   {
    "duration": 17,
    "start_time": "2022-02-10T10:18:07.350Z"
   },
   {
    "duration": 17,
    "start_time": "2022-02-10T10:18:20.634Z"
   },
   {
    "duration": 77,
    "start_time": "2022-02-10T10:19:17.743Z"
   },
   {
    "duration": 70,
    "start_time": "2022-02-10T10:19:32.870Z"
   },
   {
    "duration": 4,
    "start_time": "2022-02-10T10:43:48.655Z"
   },
   {
    "duration": 84,
    "start_time": "2022-02-10T10:44:19.554Z"
   },
   {
    "duration": 4,
    "start_time": "2022-02-10T10:44:35.307Z"
   },
   {
    "duration": 20,
    "start_time": "2022-02-10T10:45:12.205Z"
   },
   {
    "duration": 14,
    "start_time": "2022-02-10T10:45:24.421Z"
   },
   {
    "duration": 17,
    "start_time": "2022-02-10T10:45:37.145Z"
   },
   {
    "duration": 12,
    "start_time": "2022-02-10T10:45:49.303Z"
   },
   {
    "duration": 9,
    "start_time": "2022-02-10T11:04:05.407Z"
   },
   {
    "duration": 5,
    "start_time": "2022-02-10T11:04:22.660Z"
   },
   {
    "duration": 6,
    "start_time": "2022-02-10T11:05:11.732Z"
   },
   {
    "duration": 4,
    "start_time": "2022-02-10T11:05:44.769Z"
   },
   {
    "duration": 377,
    "start_time": "2022-02-19T16:21:16.408Z"
   },
   {
    "duration": 844,
    "start_time": "2022-02-19T16:21:53.716Z"
   },
   {
    "duration": 185,
    "start_time": "2022-02-19T16:21:55.608Z"
   },
   {
    "duration": 27,
    "start_time": "2022-02-19T16:21:57.298Z"
   },
   {
    "duration": 6,
    "start_time": "2022-02-19T16:24:05.422Z"
   },
   {
    "duration": 5,
    "start_time": "2022-02-19T16:24:16.650Z"
   },
   {
    "duration": 31,
    "start_time": "2022-02-19T16:24:36.141Z"
   },
   {
    "duration": 31,
    "start_time": "2022-02-19T16:24:59.191Z"
   },
   {
    "duration": 96,
    "start_time": "2022-02-19T16:25:12.228Z"
   },
   {
    "duration": 87,
    "start_time": "2022-02-19T16:25:24.218Z"
   },
   {
    "duration": 355,
    "start_time": "2022-02-19T16:25:31.358Z"
   },
   {
    "duration": 65,
    "start_time": "2022-02-19T16:26:05.675Z"
   },
   {
    "duration": 65,
    "start_time": "2022-02-19T16:26:33.427Z"
   },
   {
    "duration": 361,
    "start_time": "2022-02-19T16:26:44.436Z"
   },
   {
    "duration": 3,
    "start_time": "2022-02-19T16:27:29.421Z"
   },
   {
    "duration": 198,
    "start_time": "2022-02-19T16:27:30.772Z"
   },
   {
    "duration": 17,
    "start_time": "2022-02-19T16:27:32.033Z"
   },
   {
    "duration": 34,
    "start_time": "2022-02-19T16:27:33.541Z"
   },
   {
    "duration": 6,
    "start_time": "2022-02-19T16:27:35.609Z"
   },
   {
    "duration": 29,
    "start_time": "2022-02-19T16:27:36.590Z"
   },
   {
    "duration": 6,
    "start_time": "2022-02-19T16:27:37.524Z"
   },
   {
    "duration": 31,
    "start_time": "2022-02-19T16:27:38.818Z"
   },
   {
    "duration": 24,
    "start_time": "2022-02-19T16:27:40.015Z"
   },
   {
    "duration": 34,
    "start_time": "2022-02-19T16:27:40.914Z"
   },
   {
    "duration": 129,
    "start_time": "2022-02-19T16:27:42.095Z"
   },
   {
    "duration": 155,
    "start_time": "2022-02-19T16:27:43.126Z"
   },
   {
    "duration": 125,
    "start_time": "2022-02-19T16:27:44.165Z"
   },
   {
    "duration": 60,
    "start_time": "2022-02-19T16:27:45.627Z"
   },
   {
    "duration": 4,
    "start_time": "2022-02-19T16:27:47.330Z"
   },
   {
    "duration": 23,
    "start_time": "2022-02-19T16:27:49.611Z"
   },
   {
    "duration": 58,
    "start_time": "2022-02-19T16:27:51.172Z"
   },
   {
    "duration": 16,
    "start_time": "2022-02-19T16:27:54.878Z"
   },
   {
    "duration": 17,
    "start_time": "2022-02-19T16:28:11.097Z"
   },
   {
    "duration": 333,
    "start_time": "2022-02-19T16:28:48.670Z"
   },
   {
    "duration": 328,
    "start_time": "2022-02-19T16:28:49.215Z"
   },
   {
    "duration": -494,
    "start_time": "2022-02-19T16:28:50.039Z"
   },
   {
    "duration": 352,
    "start_time": "2022-02-19T16:28:51.978Z"
   },
   {
    "duration": 467,
    "start_time": "2022-02-19T16:28:53.094Z"
   },
   {
    "duration": 480,
    "start_time": "2022-02-19T16:28:53.686Z"
   },
   {
    "duration": 5,
    "start_time": "2022-02-19T16:29:10.075Z"
   },
   {
    "duration": 28,
    "start_time": "2022-02-19T16:29:12.496Z"
   },
   {
    "duration": 33,
    "start_time": "2022-02-19T16:29:13.300Z"
   },
   {
    "duration": 21,
    "start_time": "2022-02-19T16:29:13.780Z"
   },
   {
    "duration": 19,
    "start_time": "2022-02-19T16:29:14.345Z"
   },
   {
    "duration": 23,
    "start_time": "2022-02-19T16:29:14.879Z"
   },
   {
    "duration": 77,
    "start_time": "2022-02-19T16:29:15.494Z"
   },
   {
    "duration": 8,
    "start_time": "2022-02-19T16:29:58.225Z"
   },
   {
    "duration": 342,
    "start_time": "2022-02-19T16:29:59.493Z"
   },
   {
    "duration": 397,
    "start_time": "2022-02-19T16:30:00.163Z"
   },
   {
    "duration": 15,
    "start_time": "2022-02-19T16:30:06.020Z"
   },
   {
    "duration": 13,
    "start_time": "2022-02-19T16:30:06.521Z"
   },
   {
    "duration": 5,
    "start_time": "2022-02-19T16:30:07.884Z"
   },
   {
    "duration": 26,
    "start_time": "2022-02-19T16:30:09.447Z"
   },
   {
    "duration": 20,
    "start_time": "2022-02-19T16:30:10.331Z"
   },
   {
    "duration": 33,
    "start_time": "2022-02-19T16:30:11.094Z"
   },
   {
    "duration": 20,
    "start_time": "2022-02-19T16:30:11.774Z"
   },
   {
    "duration": 317,
    "start_time": "2022-02-19T16:30:34.314Z"
   },
   {
    "duration": 12,
    "start_time": "2022-02-19T16:30:36.383Z"
   },
   {
    "duration": 7,
    "start_time": "2022-02-19T16:30:37.574Z"
   },
   {
    "duration": 325,
    "start_time": "2022-02-19T16:30:44.209Z"
   },
   {
    "duration": 12,
    "start_time": "2022-02-19T16:30:46.813Z"
   },
   {
    "duration": 7,
    "start_time": "2022-02-19T16:30:47.743Z"
   },
   {
    "duration": 4,
    "start_time": "2022-02-19T16:31:52.034Z"
   },
   {
    "duration": 202,
    "start_time": "2022-02-19T16:31:53.291Z"
   },
   {
    "duration": 1150,
    "start_time": "2022-02-19T16:35:25.529Z"
   },
   {
    "duration": 207,
    "start_time": "2022-02-19T16:35:26.681Z"
   },
   {
    "duration": 36,
    "start_time": "2022-02-19T16:35:26.892Z"
   },
   {
    "duration": 55,
    "start_time": "2022-02-19T16:35:26.932Z"
   },
   {
    "duration": 19,
    "start_time": "2022-02-19T16:35:26.995Z"
   },
   {
    "duration": 30,
    "start_time": "2022-02-19T16:35:27.018Z"
   },
   {
    "duration": 9,
    "start_time": "2022-02-19T16:35:27.050Z"
   },
   {
    "duration": 75,
    "start_time": "2022-02-19T16:35:27.062Z"
   },
   {
    "duration": 27,
    "start_time": "2022-02-19T16:35:27.141Z"
   },
   {
    "duration": 58,
    "start_time": "2022-02-19T16:35:27.171Z"
   },
   {
    "duration": 115,
    "start_time": "2022-02-19T16:35:27.232Z"
   },
   {
    "duration": 126,
    "start_time": "2022-02-19T16:35:27.350Z"
   },
   {
    "duration": 100,
    "start_time": "2022-02-19T16:35:27.478Z"
   },
   {
    "duration": 69,
    "start_time": "2022-02-19T16:35:27.581Z"
   },
   {
    "duration": 5,
    "start_time": "2022-02-19T16:35:27.653Z"
   },
   {
    "duration": 50,
    "start_time": "2022-02-19T16:35:27.661Z"
   },
   {
    "duration": 62,
    "start_time": "2022-02-19T16:35:27.714Z"
   },
   {
    "duration": 39,
    "start_time": "2022-02-19T16:35:27.779Z"
   },
   {
    "duration": 17,
    "start_time": "2022-02-19T16:35:27.821Z"
   },
   {
    "duration": 6,
    "start_time": "2022-02-19T16:35:27.841Z"
   },
   {
    "duration": 30,
    "start_time": "2022-02-19T16:35:27.850Z"
   },
   {
    "duration": 51,
    "start_time": "2022-02-19T16:35:27.883Z"
   },
   {
    "duration": 24,
    "start_time": "2022-02-19T16:35:27.937Z"
   },
   {
    "duration": 65,
    "start_time": "2022-02-19T16:35:27.964Z"
   },
   {
    "duration": 23,
    "start_time": "2022-02-19T16:35:28.032Z"
   },
   {
    "duration": 53,
    "start_time": "2022-02-19T16:35:28.058Z"
   },
   {
    "duration": 1820,
    "start_time": "2022-02-19T16:35:28.118Z"
   },
   {
    "duration": -510,
    "start_time": "2022-02-19T16:35:30.451Z"
   },
   {
    "duration": -512,
    "start_time": "2022-02-19T16:35:30.454Z"
   },
   {
    "duration": -562,
    "start_time": "2022-02-19T16:35:30.505Z"
   },
   {
    "duration": -566,
    "start_time": "2022-02-19T16:35:30.511Z"
   },
   {
    "duration": -566,
    "start_time": "2022-02-19T16:35:30.513Z"
   },
   {
    "duration": -568,
    "start_time": "2022-02-19T16:35:30.516Z"
   },
   {
    "duration": -569,
    "start_time": "2022-02-19T16:35:30.518Z"
   },
   {
    "duration": -569,
    "start_time": "2022-02-19T16:35:30.520Z"
   },
   {
    "duration": -571,
    "start_time": "2022-02-19T16:35:30.523Z"
   },
   {
    "duration": -571,
    "start_time": "2022-02-19T16:35:30.525Z"
   },
   {
    "duration": -577,
    "start_time": "2022-02-19T16:35:30.532Z"
   },
   {
    "duration": 115,
    "start_time": "2022-02-19T16:37:09.116Z"
   },
   {
    "duration": 154,
    "start_time": "2022-02-19T16:37:24.668Z"
   },
   {
    "duration": 817,
    "start_time": "2022-02-19T16:37:58.253Z"
   },
   {
    "duration": 282,
    "start_time": "2022-02-19T16:37:59.073Z"
   },
   {
    "duration": 29,
    "start_time": "2022-02-19T16:37:59.359Z"
   },
   {
    "duration": 51,
    "start_time": "2022-02-19T16:37:59.391Z"
   },
   {
    "duration": 7,
    "start_time": "2022-02-19T16:37:59.445Z"
   },
   {
    "duration": 61,
    "start_time": "2022-02-19T16:37:59.455Z"
   },
   {
    "duration": 8,
    "start_time": "2022-02-19T16:37:59.519Z"
   },
   {
    "duration": 39,
    "start_time": "2022-02-19T16:37:59.531Z"
   },
   {
    "duration": 54,
    "start_time": "2022-02-19T16:37:59.576Z"
   },
   {
    "duration": 32,
    "start_time": "2022-02-19T16:37:59.634Z"
   },
   {
    "duration": 140,
    "start_time": "2022-02-19T16:37:59.669Z"
   },
   {
    "duration": 152,
    "start_time": "2022-02-19T16:37:59.812Z"
   },
   {
    "duration": 95,
    "start_time": "2022-02-19T16:37:59.967Z"
   },
   {
    "duration": 119,
    "start_time": "2022-02-19T16:38:00.065Z"
   },
   {
    "duration": 7,
    "start_time": "2022-02-19T16:38:00.187Z"
   },
   {
    "duration": 25,
    "start_time": "2022-02-19T16:38:00.211Z"
   },
   {
    "duration": 83,
    "start_time": "2022-02-19T16:38:00.239Z"
   },
   {
    "duration": 16,
    "start_time": "2022-02-19T16:38:00.324Z"
   },
   {
    "duration": 24,
    "start_time": "2022-02-19T16:38:00.343Z"
   },
   {
    "duration": 43,
    "start_time": "2022-02-19T16:38:00.371Z"
   },
   {
    "duration": 36,
    "start_time": "2022-02-19T16:38:00.417Z"
   },
   {
    "duration": 29,
    "start_time": "2022-02-19T16:38:00.456Z"
   },
   {
    "duration": 29,
    "start_time": "2022-02-19T16:38:00.512Z"
   },
   {
    "duration": 27,
    "start_time": "2022-02-19T16:38:00.544Z"
   },
   {
    "duration": 57,
    "start_time": "2022-02-19T16:38:00.574Z"
   },
   {
    "duration": 22,
    "start_time": "2022-02-19T16:38:00.634Z"
   },
   {
    "duration": 592,
    "start_time": "2022-02-19T16:38:00.664Z"
   },
   {
    "duration": -508,
    "start_time": "2022-02-19T16:38:01.767Z"
   },
   {
    "duration": -510,
    "start_time": "2022-02-19T16:38:01.770Z"
   },
   {
    "duration": -514,
    "start_time": "2022-02-19T16:38:01.776Z"
   },
   {
    "duration": -515,
    "start_time": "2022-02-19T16:38:01.779Z"
   },
   {
    "duration": -517,
    "start_time": "2022-02-19T16:38:01.782Z"
   },
   {
    "duration": -518,
    "start_time": "2022-02-19T16:38:01.785Z"
   },
   {
    "duration": -518,
    "start_time": "2022-02-19T16:38:01.787Z"
   },
   {
    "duration": -528,
    "start_time": "2022-02-19T16:38:01.799Z"
   },
   {
    "duration": -528,
    "start_time": "2022-02-19T16:38:01.801Z"
   },
   {
    "duration": -529,
    "start_time": "2022-02-19T16:38:01.804Z"
   },
   {
    "duration": -530,
    "start_time": "2022-02-19T16:38:01.807Z"
   },
   {
    "duration": 281,
    "start_time": "2022-02-19T19:19:14.735Z"
   },
   {
    "duration": 608,
    "start_time": "2022-02-19T19:19:37.034Z"
   },
   {
    "duration": 162,
    "start_time": "2022-02-19T19:19:37.644Z"
   },
   {
    "duration": 21,
    "start_time": "2022-02-19T19:19:37.809Z"
   },
   {
    "duration": 35,
    "start_time": "2022-02-19T19:19:37.832Z"
   },
   {
    "duration": 53,
    "start_time": "2022-02-19T19:19:37.869Z"
   },
   {
    "duration": 25,
    "start_time": "2022-02-19T19:19:37.924Z"
   },
   {
    "duration": 4,
    "start_time": "2022-02-19T19:19:37.951Z"
   },
   {
    "duration": 28,
    "start_time": "2022-02-19T19:19:37.958Z"
   },
   {
    "duration": 31,
    "start_time": "2022-02-19T19:19:37.988Z"
   },
   {
    "duration": 25,
    "start_time": "2022-02-19T19:19:38.021Z"
   },
   {
    "duration": 89,
    "start_time": "2022-02-19T19:19:38.047Z"
   },
   {
    "duration": 81,
    "start_time": "2022-02-19T19:19:38.138Z"
   },
   {
    "duration": 57,
    "start_time": "2022-02-19T19:19:38.221Z"
   },
   {
    "duration": 58,
    "start_time": "2022-02-19T19:19:38.280Z"
   },
   {
    "duration": 3,
    "start_time": "2022-02-19T19:19:38.340Z"
   },
   {
    "duration": 19,
    "start_time": "2022-02-19T19:19:38.345Z"
   },
   {
    "duration": 62,
    "start_time": "2022-02-19T19:19:38.365Z"
   },
   {
    "duration": 11,
    "start_time": "2022-02-19T19:19:38.429Z"
   },
   {
    "duration": 12,
    "start_time": "2022-02-19T19:19:38.442Z"
   },
   {
    "duration": 5,
    "start_time": "2022-02-19T19:19:38.456Z"
   },
   {
    "duration": 52,
    "start_time": "2022-02-19T19:19:38.463Z"
   },
   {
    "duration": 20,
    "start_time": "2022-02-19T19:19:38.517Z"
   },
   {
    "duration": 18,
    "start_time": "2022-02-19T19:19:38.541Z"
   },
   {
    "duration": 47,
    "start_time": "2022-02-19T19:19:38.561Z"
   },
   {
    "duration": 21,
    "start_time": "2022-02-19T19:19:38.610Z"
   },
   {
    "duration": 18,
    "start_time": "2022-02-19T19:19:38.633Z"
   },
   {
    "duration": 115,
    "start_time": "2022-02-19T19:19:38.653Z"
   },
   {
    "duration": 12,
    "start_time": "2022-02-19T19:19:38.770Z"
   },
   {
    "duration": 24,
    "start_time": "2022-02-19T19:19:38.784Z"
   },
   {
    "duration": 5,
    "start_time": "2022-02-19T19:19:38.810Z"
   },
   {
    "duration": 33,
    "start_time": "2022-02-19T19:19:38.816Z"
   },
   {
    "duration": 15,
    "start_time": "2022-02-19T19:19:38.850Z"
   },
   {
    "duration": 19,
    "start_time": "2022-02-19T19:19:38.866Z"
   },
   {
    "duration": 16,
    "start_time": "2022-02-19T19:19:38.908Z"
   },
   {
    "duration": 8,
    "start_time": "2022-02-19T19:19:38.926Z"
   },
   {
    "duration": 6,
    "start_time": "2022-02-19T19:19:38.936Z"
   },
   {
    "duration": 33,
    "start_time": "2022-02-19T19:19:38.944Z"
   },
   {
    "duration": 5,
    "start_time": "2022-02-19T19:19:38.978Z"
   },
   {
    "duration": 671,
    "start_time": "2022-02-19T19:20:45.883Z"
   },
   {
    "duration": 161,
    "start_time": "2022-02-19T19:20:46.556Z"
   },
   {
    "duration": 19,
    "start_time": "2022-02-19T19:20:46.720Z"
   },
   {
    "duration": 43,
    "start_time": "2022-02-19T19:20:46.742Z"
   },
   {
    "duration": 15,
    "start_time": "2022-02-19T19:20:46.787Z"
   },
   {
    "duration": 35,
    "start_time": "2022-02-19T19:20:46.804Z"
   },
   {
    "duration": 23,
    "start_time": "2022-02-19T19:20:46.841Z"
   },
   {
    "duration": 36,
    "start_time": "2022-02-19T19:20:46.868Z"
   },
   {
    "duration": 28,
    "start_time": "2022-02-19T19:20:46.907Z"
   },
   {
    "duration": 32,
    "start_time": "2022-02-19T19:20:46.937Z"
   },
   {
    "duration": 91,
    "start_time": "2022-02-19T19:20:46.972Z"
   },
   {
    "duration": 83,
    "start_time": "2022-02-19T19:20:47.064Z"
   },
   {
    "duration": 71,
    "start_time": "2022-02-19T19:20:47.149Z"
   },
   {
    "duration": 45,
    "start_time": "2022-02-19T19:20:47.221Z"
   },
   {
    "duration": 16,
    "start_time": "2022-02-19T19:20:47.268Z"
   },
   {
    "duration": 40,
    "start_time": "2022-02-19T19:20:47.286Z"
   },
   {
    "duration": 49,
    "start_time": "2022-02-19T19:20:47.328Z"
   },
   {
    "duration": 32,
    "start_time": "2022-02-19T19:20:47.379Z"
   },
   {
    "duration": 22,
    "start_time": "2022-02-19T19:20:47.413Z"
   },
   {
    "duration": 19,
    "start_time": "2022-02-19T19:20:47.437Z"
   },
   {
    "duration": 54,
    "start_time": "2022-02-19T19:20:47.458Z"
   },
   {
    "duration": 29,
    "start_time": "2022-02-19T19:20:47.514Z"
   },
   {
    "duration": 35,
    "start_time": "2022-02-19T19:20:47.547Z"
   },
   {
    "duration": 17,
    "start_time": "2022-02-19T19:20:47.584Z"
   },
   {
    "duration": 24,
    "start_time": "2022-02-19T19:20:47.604Z"
   },
   {
    "duration": 40,
    "start_time": "2022-02-19T19:20:47.630Z"
   },
   {
    "duration": 91,
    "start_time": "2022-02-19T19:20:47.673Z"
   },
   {
    "duration": 11,
    "start_time": "2022-02-19T19:20:47.766Z"
   },
   {
    "duration": 20,
    "start_time": "2022-02-19T19:20:47.779Z"
   },
   {
    "duration": 23,
    "start_time": "2022-02-19T19:20:47.808Z"
   },
   {
    "duration": 37,
    "start_time": "2022-02-19T19:20:47.833Z"
   },
   {
    "duration": 31,
    "start_time": "2022-02-19T19:20:47.872Z"
   },
   {
    "duration": 29,
    "start_time": "2022-02-19T19:20:47.904Z"
   },
   {
    "duration": 19,
    "start_time": "2022-02-19T19:20:47.935Z"
   },
   {
    "duration": 26,
    "start_time": "2022-02-19T19:20:47.956Z"
   },
   {
    "duration": 27,
    "start_time": "2022-02-19T19:20:47.984Z"
   },
   {
    "duration": 19,
    "start_time": "2022-02-19T19:20:48.013Z"
   },
   {
    "duration": 21,
    "start_time": "2022-02-19T19:20:48.034Z"
   }
  ],
  "colab": {
   "collapsed_sections": [
    "E0vqbgi9ay0H",
    "VUC88oWjTJw2"
   ],
   "name": "yandex_music_project_2021.2.ipynb",
   "provenance": []
  },
  "kernelspec": {
   "display_name": "Python 3 (ipykernel)",
   "language": "python",
   "name": "python3"
  },
  "language_info": {
   "codemirror_mode": {
    "name": "ipython",
    "version": 3
   },
   "file_extension": ".py",
   "mimetype": "text/x-python",
   "name": "python",
   "nbconvert_exporter": "python",
   "pygments_lexer": "ipython3",
   "version": "3.9.7"
  },
  "toc": {
   "base_numbering": 1,
   "nav_menu": {},
   "number_sections": true,
   "sideBar": true,
   "skip_h1_title": true,
   "title_cell": "Table of Contents",
   "title_sidebar": "Contents",
   "toc_cell": false,
   "toc_position": {
    "height": "calc(100% - 180px)",
    "left": "10px",
    "top": "150px",
    "width": "165px"
   },
   "toc_section_display": true,
   "toc_window_display": true
  }
 },
 "nbformat": 4,
 "nbformat_minor": 1
}
